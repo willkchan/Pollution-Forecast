{
 "cells": [
  {
   "cell_type": "markdown",
   "source": [
    "# Exploratory Data Analysis (EDA)\n",
    "Conduct EDA on the pollution aqi of all US counties and their socio-economic features to examine relationships between variables and other patterns in the data\n",
    "\n",
    "Clean Data is used from data_wrangling11"
   ],
   "metadata": {
    "collapsed": false
   }
  },
  {
   "cell_type": "markdown",
   "source": [
    "## Import Packages"
   ],
   "metadata": {
    "collapsed": false
   }
  },
  {
   "cell_type": "code",
   "execution_count": 1,
   "outputs": [],
   "source": [
    "import numpy as np\n",
    "import pandas as pd\n",
    "import seaborn as sns\n",
    "import sys\n",
    "import os\n",
    "import matplotlib.pyplot as plt\n",
    "import klib\n",
    "import plotly.figure_factory as ff\n",
    "from IPython.core.display import display\n",
    "\n",
    "# pd.set_option('display.max_columns', None)\n",
    "# pd.reset_option('max_rows')\n",
    "#np.set_printoptions(threshold=sys.maxsize)\n",
    "\n",
    "plt.style.use('dark_background')\n",
    "plt.rcParams.update({\"grid.linewidth\":0.5, \"grid.alpha\":0.5})\n",
    "sns.set(style='ticks', context='talk')\n"
   ],
   "metadata": {
    "collapsed": false,
    "pycharm": {
     "name": "#%%\n"
    }
   }
  },
  {
   "cell_type": "markdown",
   "source": [
    "## Load data"
   ],
   "metadata": {
    "collapsed": false
   }
  },
  {
   "cell_type": "code",
   "execution_count": 2,
   "outputs": [],
   "source": [
    "path_df_17 = r'../../data/processed/all_df_2017'\n",
    "df_2017 = pd.read_csv(path_df_17)\n",
    "\n",
    "path_df_18 = r'../../data/processed/all_df_2018'\n",
    "df_2018 = pd.read_csv(path_df_18)\n",
    "\n",
    "path_df_19 = r'../../data/processed/all_df_2019'\n",
    "df_2019 = pd.read_csv(path_df_19)\n"
   ],
   "metadata": {
    "collapsed": false,
    "pycharm": {
     "name": "#%%\n"
    }
   }
  },
  {
   "cell_type": "code",
   "execution_count": 3,
   "outputs": [],
   "source": [
    "# df_2017.columns.tolist()\n"
   ],
   "metadata": {
    "collapsed": false,
    "pycharm": {
     "name": "#%%\n"
    }
   }
  },
  {
   "cell_type": "code",
   "execution_count": 4,
   "outputs": [
    {
     "data": {
      "text/plain": "HAA_FEMALE_2017          0.415021\nHAAC_MALE_2017           0.415654\nHAAC_FEMALE_2017         0.415682\nIA_MALE_2017             0.419897\nHAA_FEMALE_ratio_2017    0.424264\nHTOM_FEMALE_2017         0.434658\nHAA_MALE_ratio_2017      0.434679\nHTOM_MALE_2017           0.440040\nHIA_MALE_2017            0.442118\nHIA_FEMALE_2017          0.443410\nIAC_FEMALE_2017          0.444347\nIAC_MALE_2017            0.448977\nHIAC_MALE_2017           0.457833\nHIAC_FEMALE_2017         0.458071\nAQI_2017                 1.000000\nName: AQI_2017, dtype: float64"
     },
     "metadata": {},
     "output_type": "display_data"
    },
    {
     "data": {
      "text/plain": "HAA_MALE_2018            0.430706\nWAC_MALE_2018            0.432205\nCOL_OR_ASSOC_TOT_2018    0.436336\nHAA_MALE_ratio_2018      0.443019\nHTOM_FEMALE_2018         0.446144\nIA_FEMALE_2018           0.450461\nHTOM_MALE_2018           0.450952\nIA_MALE_2018             0.459532\nHIA_MALE_2018            0.470289\nHIA_FEMALE_2018          0.471187\nIAC_FEMALE_2018          0.479238\nIAC_MALE_2018            0.483922\nHIAC_FEMALE_2018         0.484120\nHIAC_MALE_2018           0.484217\nAQI_2018                 1.000000\nName: AQI_2018, dtype: float64"
     },
     "metadata": {},
     "output_type": "display_data"
    },
    {
     "data": {
      "text/plain": "Unemployed_2019            0.452189\nWA_FEMALE_2019             0.452649\nWAC_FEMALE_2019            0.452967\nWA_MALE_2019               0.455182\nWAC_MALE_2019              0.455293\n90% CI UB 0-17_2019        0.455602\nIAC_FEMALE_2019            0.456022\n90% CI UB 5-17 fam_2019    0.458400\nIAC_MALE_2019              0.461095\nCOL_OR_ASSOC_TOT_2019      0.462045\nHIA_FEMALE_2019            0.468722\nHIA_MALE_2019              0.469227\nHIAC_FEMALE_2019           0.472862\nHIAC_MALE_2019             0.474078\nAQI_2019                   1.000000\nName: AQI_2019, dtype: float64"
     },
     "metadata": {},
     "output_type": "display_data"
    }
   ],
   "source": [
    "display(df_2017.corr()['AQI_2017'].sort_values().tail(15))\n",
    "display(df_2018.corr()['AQI_2018'].sort_values().tail(15))\n",
    "display(df_2019.corr()['AQI_2019'].sort_values().tail(15))"
   ],
   "metadata": {
    "collapsed": false,
    "pycharm": {
     "name": "#%%\n"
    }
   }
  },
  {
   "cell_type": "code",
   "execution_count": 5,
   "outputs": [
    {
     "data": {
      "text/plain": "NH_MALE_ratio_2017            -0.340412\nNH_FEMALE_ratio_2017          -0.334622\nNHWA_FEMALE_ratio_2017        -0.325030\nNHWA_MALE_ratio_2017          -0.318189\nNHWAC_FEMALE_ratio_2017       -0.315009\nNHWAC_MALE_ratio_2017         -0.307674\nGeoFIPS                       -0.234561\nHS_TOT_ratio_2017_2017        -0.221899\nWA_FEMALE_ratio_2017          -0.142167\nEDU_TOT_ratio_2017_2017       -0.120748\nWAC_FEMALE_ratio_2017         -0.117962\nWA_MALE_ratio_2017            -0.114653\nVEHICLE_TOT_ratio_2017_2017   -0.093963\nWAC_MALE_ratio_2017           -0.089259\nTOT_FEMALE_ratio_2017         -0.059397\nName: AQI_2017, dtype: float64"
     },
     "metadata": {},
     "output_type": "display_data"
    },
    {
     "data": {
      "text/plain": "NH_MALE_ratio_2018            -0.386216\nNH_FEMALE_ratio_2018          -0.378221\nNHWA_FEMALE_ratio_2018        -0.352911\nNHWA_MALE_ratio_2018          -0.347400\nNHWAC_FEMALE_ratio_2018       -0.347304\nNHWAC_MALE_ratio_2018         -0.341483\nHS_TOT_ratio_2018             -0.269764\nGeoFIPS                       -0.241237\nEDU_TOT_ratio_2018            -0.164948\nWA_FEMALE_ratio_2018          -0.134881\nWAC_FEMALE_ratio_2018         -0.117762\nWA_MALE_ratio_2018            -0.106626\nWAC_MALE_ratio_2018           -0.088697\nVEHICLE_TOT_ratio_2018        -0.070930\nCOL_OR_ASSOC_TOT_ratio_2018   -0.068771\nName: AQI_2018, dtype: float64"
     },
     "metadata": {},
     "output_type": "display_data"
    },
    {
     "data": {
      "text/plain": "NHWAC_MALE_ratio_2019         -0.361245\nNHWAC_FEMALE_ratio_2019       -0.359191\nNH_MALE_ratio_2019            -0.356162\nNHWA_MALE_ratio_2019          -0.352051\nNHWA_FEMALE_ratio_2019        -0.349972\nNH_FEMALE_ratio_2019          -0.323519\nHS_TOT_ratio_2019             -0.222675\nGeoFIPS                       -0.194226\nWAC_FEMALE_ratio_2019         -0.173793\nEDU_TOT_ratio_2019            -0.172200\nCOL_OR_ASSOC_TOT_ratio_2019   -0.170236\nWA_FEMALE_ratio_2019          -0.161679\nWAC_MALE_ratio_2019           -0.159158\nWA_MALE_ratio_2019            -0.147343\nNHTOM_MALE_ratio_2019         -0.126216\nName: AQI_2019, dtype: float64"
     },
     "metadata": {},
     "output_type": "display_data"
    }
   ],
   "source": [
    "display(df_2017.corr()['AQI_2017'].sort_values().head(15))\n",
    "display(df_2018.corr()['AQI_2018'].sort_values().head(15))\n",
    "display(df_2019.corr()['AQI_2019'].sort_values().head(15))\n"
   ],
   "metadata": {
    "collapsed": false,
    "pycharm": {
     "name": "#%%\n"
    }
   }
  },
  {
   "cell_type": "code",
   "execution_count": 11,
   "outputs": [
    {
     "data": {
      "text/plain": "BAC_MALE_2017            0.242687\nTOM_MALE_ratio_2017      0.247928\nNA_MALE_ratio_2017       0.250663\nNA_FEMALE_ratio_2017     0.255495\nTOM_FEMALE_ratio_2017    0.255997\n                           ...   \nIAC_FEMALE_2017          0.444347\nIAC_MALE_2017            0.448977\nHIAC_MALE_2017           0.457833\nHIAC_FEMALE_2017         0.458071\nAQI_2017                 1.000000\nName: AQI_2017, Length: 100, dtype: float64"
     },
     "metadata": {},
     "output_type": "display_data"
    },
    {
     "data": {
      "text/plain": "NHBA_MALE_2018         0.243941\nBAC_FEMALE_2018        0.245909\nBA_MALE_2018           0.248732\nNA_MALE_2018           0.252777\nHNA_MALE_ratio_2018    0.254467\n                         ...   \nIAC_FEMALE_2018        0.479238\nIAC_MALE_2018          0.483922\nHIAC_FEMALE_2018       0.484120\nHIAC_MALE_2018         0.484217\nAQI_2018               1.000000\nName: AQI_2018, Length: 100, dtype: float64"
     },
     "metadata": {},
     "output_type": "display_data"
    },
    {
     "data": {
      "text/plain": "LESS_HS_TOT_ratio_2019    0.177819\nHBA_FEMALE_2019           0.224170\nNHIA_FEMALE_2019          0.233906\nHBA_MALE_2019             0.237210\nNHIA_MALE_2019            0.240327\n                            ...   \nHIA_FEMALE_2019           0.468722\nHIA_MALE_2019             0.469227\nHIAC_FEMALE_2019          0.472862\nHIAC_MALE_2019            0.474078\nAQI_2019                  1.000000\nName: AQI_2019, Length: 100, dtype: float64"
     },
     "metadata": {},
     "output_type": "display_data"
    }
   ],
   "source": [
    "display(df_2017.corr()['AQI_2017'].sort_values().tail(100))\n",
    "display(df_2018.corr()['AQI_2018'].sort_values().tail(100))\n",
    "display(df_2019.corr()['AQI_2019'].sort_values().tail(100))"
   ],
   "metadata": {
    "collapsed": false,
    "pycharm": {
     "name": "#%%\n"
    }
   }
  },
  {
   "cell_type": "markdown",
   "source": [
    "* it appears as number of counties are added to the dataset the correlation for aqi will increase\n",
    "* we see more of a recurring pattern of certain attributes making it to the top for correlation\n",
    "* most of the correlation seem to be moderate strong\n",
    "\n",
    "* We see some common features that seem to reappear and make sense; such as negative correlation for better AQI with counties having\n",
    "higher proportion of non hispanic male and female populations\n",
    "\n",
    "* Interesting seeing that areas with high white population will have an increase AQI\n",
    "I can see this make sense as white males may be driving to work more and have vehicles and vehicles have been shown\n",
    "to increase AQI\n",
    "\n"
   ],
   "metadata": {
    "collapsed": false,
    "pycharm": {
     "name": "#%% md\n"
    }
   }
  }
 ],
 "metadata": {
  "kernelspec": {
   "name": "pycharm-301d774e",
   "language": "python",
   "display_name": "PyCharm (API_Mini_Project)"
  },
  "language_info": {
   "codemirror_mode": {
    "name": "ipython",
    "version": 2
   },
   "file_extension": ".py",
   "mimetype": "text/x-python",
   "name": "python",
   "nbconvert_exporter": "python",
   "pygments_lexer": "ipython2",
   "version": "2.7.6"
  }
 },
 "nbformat": 4,
 "nbformat_minor": 0
}