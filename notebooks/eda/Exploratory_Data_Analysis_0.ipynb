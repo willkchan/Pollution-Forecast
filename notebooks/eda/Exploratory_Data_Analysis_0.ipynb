{
 "cells": [
  {
   "cell_type": "markdown",
   "source": [
    "# Exploratory Data Analysis (EDA)\n",
    "Conduct EDA on the pollution aqi of Northeastern counties and their socio-economic features to examine relationships between variables and other patterns in the data"
   ],
   "metadata": {
    "collapsed": false,
    "pycharm": {
     "name": "#%% md\n"
    }
   }
  },
  {
   "cell_type": "markdown",
   "source": [
    "## Import Packages"
   ],
   "metadata": {
    "collapsed": false
   }
  },
  {
   "cell_type": "code",
   "execution_count": 2,
   "outputs": [],
   "source": [
    "import numpy as np\n",
    "import pandas as pd\n",
    "import seaborn as sns\n",
    "import sys\n",
    "import os\n",
    "import matplotlib.pyplot as plt\n",
    "import klib\n",
    "\n",
    "from IPython.core.display import display\n",
    "\n",
    "# pd.set_option('display.max_columns', None)\n",
    "# pd.reset_optio('max_rows')\n",
    "#np.set_printoptions(threshold=sys.maxsize)\n",
    "\n",
    "plt.style.use('dark_background')\n",
    "plt.rcParams.update({\"grid.linewidth\":0.5, \"grid.alpha\":0.5})\n",
    "sns.set(style='ticks', context='talk')\n"
   ],
   "metadata": {
    "collapsed": false,
    "pycharm": {
     "name": "#%%\n"
    }
   }
  },
  {
   "cell_type": "markdown",
   "source": [
    "## Load data"
   ],
   "metadata": {
    "collapsed": false,
    "pycharm": {
     "name": "#%% md\n"
    }
   }
  },
  {
   "cell_type": "code",
   "execution_count": 3,
   "outputs": [],
   "source": [
    "path = r'../../data/processed/alt_full_dem_df_2017_2019'\n",
    "df_2017_2019 = pd.read_csv(path)\n",
    "\n",
    "path = r'../../data/processed/alt_full_dem_df_2017'\n",
    "df_2017 = pd.read_csv(path)\n",
    "path = r'../../data/processed/alt_full_dem_df_2018'\n",
    "df_2018 = pd.read_csv(path)\n",
    "path = r'../../data/processed/alt_full_dem_df_2019'\n",
    "df_2019 = pd.read_csv(path)"
   ],
   "metadata": {
    "collapsed": false,
    "pycharm": {
     "name": "#%%\n"
    }
   }
  },
  {
   "cell_type": "code",
   "execution_count": 6,
   "outputs": [
    {
     "data": {
      "text/plain": "['GeoFIPS',\n 'State Name',\n 'county Name',\n 'AQI_2017',\n 'Civilian_labor_force_2017',\n 'Employed_2017',\n 'Unemployed_2017',\n 'Unemployment_rate_2017',\n 'Poverty Estimate, All Ages_2017',\n '90% CI LB All Ages_2017',\n '90% CI UB All Ages_2017',\n 'Poverty Percent, All Ages_2017',\n '90% CI LB percent_2017',\n '90% CI UB percent_2017',\n 'Poverty Estimate, Age 0-17_2017',\n '90% CI LB percent 0-17_2017',\n '90% CI UB 0-17_2017',\n 'Poverty Percent, Age 0-17_2017',\n '90% CI LB percent 0-17 percent_2017',\n '90% CI UB 0-17 percent_2017',\n 'Poverty Estimate, Age 5-17 in Families_2017',\n '90% CI LB 5-17 fam_2017',\n '90% CI UB 5-17 fam_2017',\n 'Poverty Percent, Age 5-17 in Families_2017',\n '90% CI LB 5-17 percent_2017',\n '90% CI UB percent 5-17 percent_2017',\n 'Median Household Income_2017',\n '90% CI Lower Bound LB medh inc_2017',\n '90% CI UB medh inc_2017',\n 'POP_2017',\n 'EDU_TOT_2017',\n 'LESS_HS_TOT_2017',\n 'HS_TOT_2017',\n 'COL_OR_ASSOC_TOT_2017',\n 'BACH_TOT_2017',\n 'GRAD_TOT_2017',\n 'VEHICLE_TOT_2017',\n 'EDU_TOT_ratio_2017',\n 'LESS_HS_TOT_ratio_2017',\n 'HS_TOT_ratio_2017',\n 'COL_OR_ASSOC_TOT_ratio_2017',\n 'BACH_TOT_ratio_2017',\n 'GRAD_TOT_ratio_2017',\n 'VEHICLE_TOT_ratio_2017',\n 'TOT_POP_2017',\n 'TOT_MALE_2017',\n 'TOT_FEMALE_2017',\n 'WA_MALE_2017',\n 'WA_FEMALE_2017',\n 'BA_MALE_2017',\n 'BA_FEMALE_2017',\n 'IA_MALE_2017',\n 'IA_FEMALE_2017',\n 'AA_MALE_2017',\n 'AA_FEMALE_2017',\n 'NA_MALE_2017',\n 'NA_FEMALE_2017',\n 'TOM_MALE_2017',\n 'TOM_FEMALE_2017',\n 'WAC_MALE_2017',\n 'WAC_FEMALE_2017',\n 'BAC_MALE_2017',\n 'BAC_FEMALE_2017',\n 'IAC_MALE_2017',\n 'IAC_FEMALE_2017',\n 'AAC_MALE_2017',\n 'AAC_FEMALE_2017',\n 'NAC_MALE_2017',\n 'NAC_FEMALE_2017',\n 'NH_MALE_2017',\n 'NH_FEMALE_2017',\n 'NHWA_MALE_2017',\n 'NHWA_FEMALE_2017',\n 'NHBA_MALE_2017',\n 'NHBA_FEMALE_2017',\n 'NHIA_MALE_2017',\n 'NHIA_FEMALE_2017',\n 'NHAA_MALE_2017',\n 'NHAA_FEMALE_2017',\n 'NHNA_MALE_2017',\n 'NHNA_FEMALE_2017',\n 'NHTOM_MALE_2017',\n 'NHTOM_FEMALE_2017',\n 'NHWAC_MALE_2017',\n 'NHWAC_FEMALE_2017',\n 'NHBAC_MALE_2017',\n 'NHBAC_FEMALE_2017',\n 'NHIAC_MALE_2017',\n 'NHIAC_FEMALE_2017',\n 'NHAAC_MALE_2017',\n 'NHAAC_FEMALE_2017',\n 'NHNAC_MALE_2017',\n 'NHNAC_FEMALE_2017',\n 'H_MALE_2017',\n 'H_FEMALE_2017',\n 'HWA_MALE_2017',\n 'HWA_FEMALE_2017',\n 'HBA_MALE_2017',\n 'HBA_FEMALE_2017',\n 'HIA_MALE_2017',\n 'HIA_FEMALE_2017',\n 'HAA_MALE_2017',\n 'HAA_FEMALE_2017',\n 'HNA_MALE_2017',\n 'HNA_FEMALE_2017',\n 'HTOM_MALE_2017',\n 'HTOM_FEMALE_2017',\n 'HWAC_MALE_2017',\n 'HWAC_FEMALE_2017',\n 'HBAC_MALE_2017',\n 'HBAC_FEMALE_2017',\n 'HIAC_MALE_2017',\n 'HIAC_FEMALE_2017',\n 'HAAC_MALE_2017',\n 'HAAC_FEMALE_2017',\n 'HNAC_MALE_2017',\n 'HNAC_FEMALE_2017',\n 'TOT_MALE_ratio_2017',\n 'TOT_FEMALE_ratio_2017',\n 'WA_MALE_ratio_2017',\n 'WA_FEMALE_ratio_2017',\n 'BA_MALE_ratio_2017',\n 'BA_FEMALE_ratio_2017',\n 'IA_MALE_ratio_2017',\n 'IA_FEMALE_ratio_2017',\n 'AA_MALE_ratio_2017',\n 'AA_FEMALE_ratio_2017',\n 'NA_MALE_ratio_2017',\n 'NA_FEMALE_ratio_2017',\n 'TOM_MALE_ratio_2017',\n 'TOM_FEMALE_ratio_2017',\n 'WAC_MALE_ratio_2017',\n 'WAC_FEMALE_ratio_2017',\n 'BAC_MALE_ratio_2017',\n 'BAC_FEMALE_ratio_2017',\n 'IAC_MALE_ratio_2017',\n 'IAC_FEMALE_ratio_2017',\n 'AAC_MALE_ratio_2017',\n 'AAC_FEMALE_ratio_2017',\n 'NAC_MALE_ratio_2017',\n 'NAC_FEMALE_ratio_2017',\n 'NH_MALE_ratio_2017',\n 'NH_FEMALE_ratio_2017',\n 'NHWA_MALE_ratio_2017',\n 'NHWA_FEMALE_ratio_2017',\n 'NHBA_MALE_ratio_2017',\n 'NHBA_FEMALE_ratio_2017',\n 'NHIA_MALE_ratio_2017',\n 'NHIA_FEMALE_ratio_2017',\n 'NHAA_MALE_ratio_2017',\n 'NHAA_FEMALE_ratio_2017',\n 'NHNA_MALE_ratio_2017',\n 'NHNA_FEMALE_ratio_2017',\n 'NHTOM_MALE_ratio_2017',\n 'NHTOM_FEMALE_ratio_2017',\n 'NHWAC_MALE_ratio_2017',\n 'NHWAC_FEMALE_ratio_2017',\n 'NHBAC_MALE_ratio_2017',\n 'NHBAC_FEMALE_ratio_2017',\n 'NHIAC_MALE_ratio_2017',\n 'NHIAC_FEMALE_ratio_2017',\n 'NHAAC_MALE_ratio_2017',\n 'NHAAC_FEMALE_ratio_2017',\n 'NHNAC_MALE_ratio_2017',\n 'NHNAC_FEMALE_ratio_2017',\n 'H_MALE_ratio_2017',\n 'H_FEMALE_ratio_2017',\n 'HWA_MALE_ratio_2017',\n 'HWA_FEMALE_ratio_2017',\n 'HBA_MALE_ratio_2017',\n 'HBA_FEMALE_ratio_2017',\n 'HIA_MALE_ratio_2017',\n 'HIA_FEMALE_ratio_2017',\n 'HAA_MALE_ratio_2017',\n 'HAA_FEMALE_ratio_2017',\n 'HNA_MALE_ratio_2017',\n 'HNA_FEMALE_ratio_2017',\n 'HTOM_MALE_ratio_2017',\n 'HTOM_FEMALE_ratio_2017',\n 'HWAC_MALE_ratio_2017',\n 'HWAC_FEMALE_ratio_2017',\n 'HBAC_MALE_ratio_2017',\n 'HBAC_FEMALE_ratio_2017',\n 'HIAC_MALE_ratio_2017',\n 'HIAC_FEMALE_ratio_2017',\n 'HAAC_MALE_ratio_2017',\n 'HAAC_FEMALE_ratio_2017',\n 'HNAC_MALE_ratio_2017',\n 'HNAC_FEMALE_ratio_2017']"
     },
     "execution_count": 6,
     "metadata": {},
     "output_type": "execute_result"
    }
   ],
   "source": [
    "df_2017.columns.tolist()\n"
   ],
   "metadata": {
    "collapsed": false,
    "pycharm": {
     "name": "#%%\n"
    }
   }
  },
  {
   "cell_type": "code",
   "execution_count": 7,
   "outputs": [
    {
     "data": {
      "text/plain": "HNA_FEMALE_ratio_2017      0.178379\nHNAC_FEMALE_ratio_2017     0.178504\nUnemployed_2017            0.184095\nVEHICLE_TOT_2017           0.196019\nHS_TOT_2017                0.197696\nTOT_FEMALE_ratio_2017      0.220262\nNHBA_MALE_ratio_2017       0.249691\nBA_MALE_ratio_2017         0.251298\nNHBAC_MALE_ratio_2017      0.252901\nBAC_MALE_ratio_2017        0.255845\nNHBA_FEMALE_ratio_2017     0.268390\nBA_FEMALE_ratio_2017       0.269131\nNHBAC_FEMALE_ratio_2017    0.271527\nBAC_FEMALE_ratio_2017      0.272994\nAQI_2017                   1.000000\nName: AQI_2017, dtype: float64"
     },
     "metadata": {},
     "output_type": "display_data"
    },
    {
     "data": {
      "text/plain": "COL_OR_ASSOC_TOT_2018      0.277397\nHNAC_FEMALE_ratio_2018     0.279223\nHNA_FEMALE_ratio_2018      0.282646\nNHBA_MALE_ratio_2018       0.282660\nNHBAC_MALE_ratio_2018      0.283912\nUnemployed_2018            0.287296\nBA_MALE_ratio_2018         0.295422\nBAC_MALE_ratio_2018        0.300330\nTOT_FEMALE_ratio_2018      0.317739\nNHBA_FEMALE_ratio_2018     0.318817\nVEHICLE_TOT_2018           0.319489\nNHBAC_FEMALE_ratio_2018    0.320302\nBA_FEMALE_ratio_2018       0.329001\nBAC_FEMALE_ratio_2018      0.333196\nAQI_2018                   1.000000\nName: AQI_2018, dtype: float64"
     },
     "metadata": {},
     "output_type": "display_data"
    },
    {
     "data": {
      "text/plain": "Unemployed_2019            0.244824\nHS_TOT_2019                0.246075\nNHBA_MALE_ratio_2019       0.248380\nHNAC_FEMALE_ratio_2019     0.248888\nNHBAC_MALE_ratio_2019      0.249165\nBA_MALE_ratio_2019         0.258042\nBAC_MALE_ratio_2019        0.261532\nHNA_FEMALE_ratio_2019      0.264522\nNHBA_FEMALE_ratio_2019     0.291513\nNHBAC_FEMALE_ratio_2019    0.292222\nVEHICLE_TOT_2019           0.294502\nBA_FEMALE_ratio_2019       0.297602\nBAC_FEMALE_ratio_2019      0.300202\nTOT_FEMALE_ratio_2019      0.307407\nAQI_2019                   1.000000\nName: AQI_2019, dtype: float64"
     },
     "metadata": {},
     "output_type": "display_data"
    }
   ],
   "source": [
    "display(df_2017.corr()['AQI_2017'].sort_values().tail(15))\n",
    "display(df_2018.corr()['AQI_2018'].sort_values().tail(15))\n",
    "display(df_2019.corr()['AQI_2019'].sort_values().tail(15))"
   ],
   "metadata": {
    "collapsed": false,
    "pycharm": {
     "name": "#%%\n"
    }
   }
  },
  {
   "cell_type": "code",
   "execution_count": 14,
   "outputs": [
    {
     "data": {
      "text/plain": "<Figure size 432x288 with 1 Axes>",
      "image/png": "[encoded data removed]"
     },
     "metadata": {},
     "output_type": "display_data"
    }
   ],
   "source": [
    "df_2017\n",
    "sns.swarmplot(data=df_2017, x='GeoFIPS', y='AQI_2017')\n",
    "plt.xlabel('GeoFIPS')\n",
    "plt.ylabel('Casualties')\n",
    "sns.despine()\n",
    "plt.show()\n"
   ],
   "metadata": {
    "collapsed": false,
    "pycharm": {
     "name": "#%%\n"
    }
   }
  }
 ],
 "metadata": {
  "kernelspec": {
   "name": "pycharm-301d774e",
   "language": "python",
   "display_name": "PyCharm (API_Mini_Project)"
  },
  "language_info": {
   "codemirror_mode": {
    "name": "ipython",
    "version": 2
   },
   "file_extension": ".py",
   "mimetype": "text/x-python",
   "name": "python",
   "nbconvert_exporter": "python",
   "pygments_lexer": "ipython2",
   "version": "2.7.6"
  }
 },
 "nbformat": 4,
 "nbformat_minor": 0
}