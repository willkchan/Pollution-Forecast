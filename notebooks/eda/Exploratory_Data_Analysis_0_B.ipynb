{
 "cells": [
  {
   "cell_type": "markdown",
   "source": [
    "## Import Packages"
   ],
   "metadata": {
    "collapsed": false
   }
  },
  {
   "cell_type": "code",
   "execution_count": 2,
   "outputs": [],
   "source": [
    "import numpy as np\n",
    "import pandas as pd\n",
    "import seaborn as sns\n",
    "import sys\n",
    "import os\n",
    "import matplotlib.pyplot as plt\n",
    "import klib\n",
    "import plotly.figure_factory as ff\n",
    "from IPython.core.display import display\n",
    "\n",
    "# pd.set_option('display.max_columns', None)\n",
    "# pd.reset_optio('max_rows')\n",
    "#np.set_printoptions(threshold=sys.maxsize)\n",
    "\n",
    "plt.style.use('dark_background')\n",
    "plt.rcParams.update({\"grid.linewidth\":0.5, \"grid.alpha\":0.5})\n",
    "sns.set(style='ticks', context='talk')"
   ],
   "metadata": {
    "collapsed": false,
    "pycharm": {
     "name": "#%%\n"
    }
   }
  },
  {
   "cell_type": "code",
   "execution_count": 6,
   "outputs": [],
   "source": [
    "def get_df_with_geofips(df, state_code, county_code):\n",
    "    ''' Returns dataframe with geofips column '''\n",
    "    state_code = df[state_code].astype(str).values\n",
    "    county_code = df[county_code].astype(str).values\n",
    "\n",
    "    geofips = []\n",
    "    for stateID, countyID in zip(state_code, county_code):\n",
    "        id = ''\n",
    "        stateLen = len(stateID)\n",
    "        countyLen = len(countyID)\n",
    "        if(stateLen < 2):\n",
    "            id += '0' + stateID\n",
    "        else:\n",
    "            id += stateID\n",
    "        if(countyLen == 1):\n",
    "            id += '00' + countyID\n",
    "        elif(countyLen == 2):\n",
    "            id += '0' + countyID\n",
    "        else:\n",
    "            id += countyID\n",
    "        geofips.append(id)\n",
    "\n",
    "    df.insert(loc=0, column='GeoFIPS', value=geofips)\n",
    "    return df"
   ],
   "metadata": {
    "collapsed": false,
    "pycharm": {
     "name": "#%%\n"
    }
   }
  },
  {
   "cell_type": "code",
   "execution_count": 3,
   "metadata": {
    "collapsed": true
   },
   "outputs": [],
   "source": [
    "daily_aqi_by_county_2017 = pd.read_csv('../../data/raw/daily_aqi_by_county_2017.csv', encoding='latin-1')\n",
    "daily_aqi_by_county_2018 = pd.read_csv('../../data/raw/daily_aqi_by_county_2018.csv')\n",
    "daily_aqi_by_county_2019 = pd.read_csv('../../data/raw/daily_aqi_by_county_2019.csv')"
   ]
  },
  {
   "cell_type": "code",
   "execution_count": 5,
   "outputs": [
    {
     "data": {
      "text/plain": "  State Name county Name  State Code  County Code        Date  AQI Category  \\\n0    Alabama     Baldwin           1            3  2017-01-01   21     Good   \n1    Alabama     Baldwin           1            3  2017-01-04   22     Good   \n2    Alabama     Baldwin           1            3  2017-01-10   19     Good   \n3    Alabama     Baldwin           1            3  2017-01-13   30     Good   \n4    Alabama     Baldwin           1            3  2017-01-16   16     Good   \n\n  Defining Parameter Defining Site  Number of Sites Reporting  \n0              PM2.5   01-003-0010                          1  \n1              PM2.5   01-003-0010                          1  \n2              PM2.5   01-003-0010                          1  \n3              PM2.5   01-003-0010                          1  \n4              PM2.5   01-003-0010                          1  ",
      "text/html": "<div>\n<style scoped>\n    .dataframe tbody tr th:only-of-type {\n        vertical-align: middle;\n    }\n\n    .dataframe tbody tr th {\n        vertical-align: top;\n    }\n\n    .dataframe thead th {\n        text-align: right;\n    }\n</style>\n<table border=\"1\" class=\"dataframe\">\n  <thead>\n    <tr style=\"text-align: right;\">\n      <th></th>\n      <th>State Name</th>\n      <th>county Name</th>\n      <th>State Code</th>\n      <th>County Code</th>\n      <th>Date</th>\n      <th>AQI</th>\n      <th>Category</th>\n      <th>Defining Parameter</th>\n      <th>Defining Site</th>\n      <th>Number of Sites Reporting</th>\n    </tr>\n  </thead>\n  <tbody>\n    <tr>\n      <th>0</th>\n      <td>Alabama</td>\n      <td>Baldwin</td>\n      <td>1</td>\n      <td>3</td>\n      <td>2017-01-01</td>\n      <td>21</td>\n      <td>Good</td>\n      <td>PM2.5</td>\n      <td>01-003-0010</td>\n      <td>1</td>\n    </tr>\n    <tr>\n      <th>1</th>\n      <td>Alabama</td>\n      <td>Baldwin</td>\n      <td>1</td>\n      <td>3</td>\n      <td>2017-01-04</td>\n      <td>22</td>\n      <td>Good</td>\n      <td>PM2.5</td>\n      <td>01-003-0010</td>\n      <td>1</td>\n    </tr>\n    <tr>\n      <th>2</th>\n      <td>Alabama</td>\n      <td>Baldwin</td>\n      <td>1</td>\n      <td>3</td>\n      <td>2017-01-10</td>\n      <td>19</td>\n      <td>Good</td>\n      <td>PM2.5</td>\n      <td>01-003-0010</td>\n      <td>1</td>\n    </tr>\n    <tr>\n      <th>3</th>\n      <td>Alabama</td>\n      <td>Baldwin</td>\n      <td>1</td>\n      <td>3</td>\n      <td>2017-01-13</td>\n      <td>30</td>\n      <td>Good</td>\n      <td>PM2.5</td>\n      <td>01-003-0010</td>\n      <td>1</td>\n    </tr>\n    <tr>\n      <th>4</th>\n      <td>Alabama</td>\n      <td>Baldwin</td>\n      <td>1</td>\n      <td>3</td>\n      <td>2017-01-16</td>\n      <td>16</td>\n      <td>Good</td>\n      <td>PM2.5</td>\n      <td>01-003-0010</td>\n      <td>1</td>\n    </tr>\n  </tbody>\n</table>\n</div>"
     },
     "metadata": {},
     "output_type": "display_data"
    },
    {
     "data": {
      "text/plain": "<Figure size 432x288 with 1 Axes>",
      "image/png": "[encoded data removed]"
     },
     "metadata": {},
     "output_type": "display_data"
    }
   ],
   "source": [
    "display(daily_aqi_by_county_2017.head())\n",
    "plt.hist(daily_aqi_by_county_2017['Defining Parameter'])\n",
    "plt.show()"
   ],
   "metadata": {
    "collapsed": false,
    "pycharm": {
     "name": "#%%\n"
    }
   }
  },
  {
   "cell_type": "code",
   "execution_count": 7,
   "outputs": [],
   "source": [
    "daily_aqi_by_county_2017 = get_df_with_geofips(daily_aqi_by_county_2017, 'State Code', 'County Code')\n",
    "daily_aqi_by_county_2018 = get_df_with_geofips(daily_aqi_by_county_2018, 'State Code', 'County Code')\n",
    "daily_aqi_by_county_2019 = get_df_with_geofips(daily_aqi_by_county_2019, 'State Code', 'County Code')\n"
   ],
   "metadata": {
    "collapsed": false,
    "pycharm": {
     "name": "#%%\n"
    }
   }
  },
  {
   "cell_type": "code",
   "execution_count": 9,
   "outputs": [],
   "source": [
    "# fips = daily_aqi_by_county_2017['GeoFIPS'].tolist()\n",
    "# values = daily_aqi_by_county_2017['Defining Parameter'].tolist()\n",
    "#\n",
    "# fig = ff.create_choropleth(fips=fips, values=values, county_outline={'color': 'rgb(255,255,255)', 'width': 0.5},\n",
    "#     legend_title='AQI per county')\n",
    "#\n",
    "# fig.layout.template = None\n",
    "# fig.show()\n",
    "#\n",
    "#"
   ],
   "metadata": {
    "collapsed": false,
    "pycharm": {
     "name": "#%%\n"
    }
   }
  },
  {
   "cell_type": "code",
   "execution_count": null,
   "outputs": [],
   "source": [
    "\n",
    "# fips = daily_aqi_by_county_2017['GeoFIPS'].tolist()\n",
    "# values = daily_aqi_by_county_2017['AQI_2017'].tolist()\n",
    "#\n",
    "# fig = ff.create_choropleth(fips=fips, values=values, county_outline={'color': 'rgb(255,255,255)', 'width': 0.5},\n",
    "#     legend_title='AQI per county')\n",
    "#\n",
    "# fig.layout.template = None\n",
    "# fig.show()"
   ],
   "metadata": {
    "collapsed": false,
    "pycharm": {
     "name": "#%%\n"
    }
   }
  }
 ],
 "metadata": {
  "kernelspec": {
   "name": "pycharm-301d774e",
   "language": "python",
   "display_name": "PyCharm (API_Mini_Project)"
  },
  "language_info": {
   "codemirror_mode": {
    "name": "ipython",
    "version": 2
   },
   "file_extension": ".py",
   "mimetype": "text/x-python",
   "name": "python",
   "nbconvert_exporter": "python",
   "pygments_lexer": "ipython2",
   "version": "2.7.6"
  },
  "pycharm": {
   "stem_cell": {
    "cell_type": "raw",
    "source": [
     "# Exploratory Data Analysis (EDA)\n",
     "Conduct EDA on the pollution aqi of all US counties and their socio-economic features to examine relationships between variables and other patterns in the data\n",
     "\n",
     "Clean Data is used from data_wrangling11\n"
    ],
    "metadata": {
     "collapsed": false
    }
   }
  }
 },
 "nbformat": 4,
 "nbformat_minor": 0
}