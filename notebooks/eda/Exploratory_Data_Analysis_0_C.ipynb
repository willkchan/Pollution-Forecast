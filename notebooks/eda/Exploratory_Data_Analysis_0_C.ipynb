{
 "cells": [
  {
   "cell_type": "markdown",
   "source": [
    "# Minor eda to test mean vs median of aqi averages as a measure\n",
    "Testing whether mean or median usage for averaging counties would yeild a significant impact\n",
    "\n",
    "Also test to aid which measure should be used"
   ],
   "metadata": {
    "collapsed": false,
    "pycharm": {
     "name": "#%% md\n"
    }
   }
  },
  {
   "cell_type": "code",
   "execution_count": 1,
   "metadata": {
    "collapsed": true
   },
   "outputs": [],
   "source": [
    "import pandas as pd\n",
    "import seaborn as sns\n",
    "import sys\n",
    "import os\n",
    "import matplotlib.pyplot as plt\n",
    "import klib\n",
    "\n",
    "from IPython.core.display import display\n",
    "\n",
    "# pd.set_option('display.max_columns', None)\n",
    "# pd.reset_optio('max_rows')\n",
    "#np.set_printoptions(threshold=sys.maxsize)\n",
    "\n",
    "plt.style.use('dark_background')\n",
    "plt.rcParams.update({\"grid.linewidth\":0.5, \"grid.alpha\":0.5})\n",
    "sns.set(style='ticks', context='talk')"
   ]
  },
  {
   "cell_type": "code",
   "execution_count": 9,
   "outputs": [],
   "source": [
    "def skewed(df, feat=\"AQI\", fluctuation=4):\n",
    "    ''' Method used to output states that have a absolute difference between\n",
    "    mean and median of aqi measure that is greater than 4 and also output count\n",
    "     of states that show this large difference'''\n",
    "    state_names = df['State Name'].unique().tolist()\n",
    "    count = 0\n",
    "    for state in state_names:\n",
    "        st = df['State Name'] == state\n",
    "        df_st = df.loc[st]\n",
    "        diff = abs(df_st[feat].mean() - df_st[feat].median())\n",
    "        if diff > fluctuation:\n",
    "            count += 1\n",
    "            print(state, diff)\n",
    "            # print('mean', df_st['AQI_2017'].mean())\n",
    "            # print('median', df_st['AQI_2017'].median())\n",
    "            # sns.boxplot(data = df_st)\n",
    "            # plt.title(state)\n",
    "            # plt.show()\n",
    "\n",
    "    print(\"count\", count, \"\\n\")\n"
   ],
   "metadata": {
    "collapsed": false,
    "pycharm": {
     "name": "#%%\n"
    }
   }
  },
  {
   "cell_type": "code",
   "execution_count": 3,
   "outputs": [],
   "source": [
    "# import dataset for all the measures and for year 2017\n",
    "\n",
    "all_aqi = pd.read_csv('../../data/raw/daily_aqi_by_county_2017.csv')\n",
    "ozone_aqi = pd.read_csv('../../data/raw/daily_ozone_2017.csv')\n",
    "pm25_aqi = pd.read_csv('../../data/raw/daily_pm25_2017.csv')\n",
    "no2_aqi = pd.read_csv('../../data/raw/NO2_2017.csv')\n",
    "so2_aqi = pd.read_csv('../../data/raw/SO2_2017.csv')\n",
    "co_aqi = pd.read_csv('../../data/raw/CO_2017.csv')\n",
    "pm10_aqi = pd.read_csv('../../data/raw/PM10_2017.csv')"
   ],
   "metadata": {
    "collapsed": false,
    "pycharm": {
     "name": "#%%\n"
    }
   }
  },
  {
   "cell_type": "code",
   "execution_count": 11,
   "outputs": [
    {
     "name": "stdout",
     "output_type": "stream",
     "text": [
      "when testing all aqi pollutants\n",
      "Arizona 5.9449287688709305\n",
      "California 11.475443599493026\n",
      "Country Of Mexico 11.22105263157895\n",
      "Hawaii 27.2477693891558\n",
      "Idaho 6.02748504699516\n",
      "Montana 6.215265866209265\n",
      "Oregon 8.212830570669368\n",
      "Puerto Rico 6.216404077849862\n",
      "Utah 5.238499046003817\n",
      "Virgin Islands 5.698924731182796\n",
      "Washington 7.079349812445898\n",
      "count 11 \n",
      "\n",
      "Ozone pollutants\n",
      "Arizona 4.562450033823261\n",
      "California 7.726786686688335\n",
      "Oregon 4.334159643034212\n",
      "Country Of Mexico 4.267942583732058\n",
      "count 4 \n",
      "\n",
      "pm10 pollutants\n",
      "Arizona 4.210032950801047\n",
      "California 5.715104579547532\n",
      "Montana 4.388678351492185\n",
      "New Mexico 4.664560161779576\n",
      "Oregon 4.748038360941587\n",
      "Washington 5.507761966364811\n",
      "Puerto Rico 4.3185053380782925\n",
      "count 7 \n",
      "\n",
      "pm25 pollutants\n",
      "Alaska 8.776392961876834\n",
      "Arizona 4.422393364928908\n",
      "California 4.507087242962669\n",
      "Hawaii 4.1551693873968745\n",
      "Idaho 8.677206229353466\n",
      "Montana 10.36194660358229\n",
      "Oregon 11.488372093023258\n",
      "Utah 5.766277884724268\n",
      "Washington 7.506151396728903\n",
      "Wyoming 4.988248461108004\n",
      "Puerto Rico 6.1903553299492415\n",
      "Virgin Islands 5.846153846153847\n",
      "Country Of Mexico 7.678350515463919\n",
      "count 13 \n",
      "\n",
      "no2 pollutants\n",
      "Alaska 4.064425770308123\n",
      "Colorado 7.553679945982445\n",
      "Maine 4.017447199265382\n",
      "Utah 4.607549430796885\n",
      "Puerto Rico 7.1564417177914095\n",
      "count 5 \n",
      "\n",
      "so2 pollutants\n",
      "Alabama 6.650172612197928\n",
      "Alaska 5.088154269972451\n",
      "Arizona 16.43961708394698\n",
      "Hawaii 32.8535514764565\n",
      "Idaho 5.256244218316374\n",
      "Illinois 4.439550313306303\n",
      "Maryland 7.386262265834077\n",
      "Michigan 4.393117010816126\n",
      "Nebraska 5.128914785142025\n",
      "North Carolina 5.028610354223433\n",
      "Tennessee 8.838365071992568\n",
      "Texas 5.4865648854961835\n",
      "Virginia 7.353335193971533\n",
      "Washington 6.957206099360551\n",
      "count 14 \n",
      "\n",
      "co pollutants\n",
      "count 0 \n",
      "\n"
     ]
    }
   ],
   "source": [
    "print('when testing all aqi pollutants')\n",
    "skewed(all_aqi)\n",
    "print('Ozone pollutants')\n",
    "skewed(ozone_aqi)\n",
    "print('pm10 pollutants')\n",
    "skewed(pm10_aqi)\n",
    "print('pm25 pollutants')\n",
    "skewed(pm25_aqi)\n",
    "print('no2 pollutants')\n",
    "skewed(no2_aqi)\n",
    "print('so2 pollutants')\n",
    "skewed(so2_aqi)\n",
    "print('co pollutants')\n",
    "skewed(co_aqi, fluctuation=3)"
   ],
   "metadata": {
    "collapsed": false,
    "pycharm": {
     "name": "#%%\n"
    }
   }
  },
  {
   "cell_type": "code",
   "execution_count": 12,
   "outputs": [
    {
     "name": "stdout",
     "output_type": "stream",
     "text": [
      "Alaska 2.1355932203389827\n",
      "Connecticut 1.112403100775194\n",
      "Florida 1.4728697355533793\n",
      "Indiana 1.727169597277368\n",
      "Kentucky 1.3610586011342156\n",
      "Missouri 1.1985088536812674\n",
      "Nebraska 1.2669432918395573\n",
      "Nevada 1.3915799004074243\n",
      "North Carolina 1.1640138408304495\n",
      "Oklahoma 1.0286327845382965\n",
      "Oregon 1.3065134099616857\n",
      "count 11 \n",
      "\n"
     ]
    }
   ],
   "source": [
    "skewed(co_aqi, fluctuation=1)"
   ],
   "metadata": {
    "collapsed": false,
    "pycharm": {
     "name": "#%%\n"
    }
   }
  },
  {
   "cell_type": "markdown",
   "source": [
    "## Results of year 2017 datasets\n",
    "### all aqi\n",
    "11 states with range 4 - 27 and majority\n",
    "of state difference being between 5-6\n",
    "\n",
    "### ozone\n",
    "4 states with range 4 - 7, and majority of\n",
    "states being 4 difference\n",
    "\n",
    "### pm10\n",
    "7 states with range 4 - 5\n",
    "\n",
    "### pm25\n",
    "13 states with range 4 - 11; most of them being 4 or 8\n",
    "\n",
    "### no2\n",
    "5 states with range 4-7 most of them 4\n",
    "\n",
    "### so2\n",
    "14 states with range from 4 to 32, most of them being 4 and 5\n",
    "\n",
    "### overall\n",
    "Considering that we are dealing with 50 states, the difference does not appear to be dramatic, except\n",
    "maybe for testing so2 and all aqi datasets.\n"
   ],
   "metadata": {
    "collapsed": false,
    "pycharm": {
     "name": "#%% md\n"
    }
   }
  },
  {
   "cell_type": "code",
   "execution_count": 13,
   "outputs": [],
   "source": [
    "all_aqi_2018 = pd.read_csv('../../data/raw/daily_aqi_by_county_2018.csv')\n",
    "ozone_aqi_2018 = pd.read_csv('../../data/raw/daily_ozone_2018.csv')\n",
    "pm25_aqi_2018 = pd.read_csv('../../data/raw/daily_pm25_2018.csv')\n",
    "no2_aqi_2018 = pd.read_csv('../../data/raw/NO2_2018.csv')\n",
    "so2_aqi_2018 = pd.read_csv('../../data/raw/SO2_2018.csv')\n",
    "co_aqi_2018 = pd.read_csv('../../data/raw/CO_2018.csv')\n",
    "pm10_aqi_2018 = pd.read_csv('../../data/raw/PM10_2018.csv')"
   ],
   "metadata": {
    "collapsed": false,
    "pycharm": {
     "name": "#%%\n"
    }
   }
  },
  {
   "cell_type": "code",
   "execution_count": 14,
   "outputs": [
    {
     "name": "stdout",
     "output_type": "stream",
     "text": [
      "when testing all aqi pollutants\n",
      "Alaska 4.635153129161118\n",
      "Arizona 5.958377350517644\n",
      "California 10.040918163672657\n",
      "Country Of Mexico 11.643968871595334\n",
      "Hawaii 16.644536652835406\n",
      "Idaho 4.461250519894634\n",
      "Oregon 5.814071628143253\n",
      "Puerto Rico 7.987939171473517\n",
      "Utah 5.914318573893041\n",
      "Virgin Islands 6.652173913043477\n",
      "Washington 7.455865817091457\n",
      "count 11 \n",
      "\n",
      "Ozone pollutants\n",
      "Arizona 4.572832227953818\n",
      "California 6.290465380249714\n",
      "Colorado 4.826952922917748\n",
      "Nevada 4.5918915462335335\n",
      "New Mexico 5.409416141957642\n",
      "Utah 4.726097930338213\n",
      "count 6 \n",
      "\n",
      "pm10 pollutants\n",
      "Arizona 5.43554568175507\n",
      "California 5.341444039072613\n",
      "Iowa 4.637022716288062\n",
      "New Mexico 4.320457018498367\n",
      "Washington 4.313417190775681\n",
      "Puerto Rico 4.215010141987829\n",
      "count 6 \n",
      "\n",
      "pm25 pollutants\n",
      "Alaska 7.015719063545152\n",
      "Arizona 4.011424439624005\n",
      "California 4.730916185675959\n",
      "Hawaii 6.753868559985435\n",
      "Idaho 7.356850715746422\n",
      "Montana 6.065124978745111\n",
      "Nevada 4.092921236291126\n",
      "Oregon 9.236328125\n",
      "Utah 6.2036180904522595\n",
      "Washington 7.86555474981871\n",
      "Wyoming 4.573953488372094\n",
      "Puerto Rico 6.862068965517238\n",
      "Virgin Islands 5.765853658536585\n",
      "Country Of Mexico 8.42546583850931\n",
      "count 14 \n",
      "\n",
      "no2 pollutants\n",
      "Colorado 7.380889476001762\n",
      "count 1 \n",
      "\n",
      "so2 pollutants\n",
      "Alabama 4.353176588294147\n",
      "Alaska 4.049450549450549\n",
      "Arizona 11.275079617834395\n",
      "Hawaii 23.800858369098712\n",
      "Idaho 6.567316620241412\n",
      "Illinois 4.022858240491741\n",
      "Maryland 5.632468067573136\n",
      "Michigan 4.6301063234471185\n",
      "Missouri 5.242644916982231\n",
      "North Carolina 4.42724795640327\n",
      "Tennessee 7.101409731696226\n",
      "Texas 6.445046304385811\n",
      "Washington 6.935016362786349\n",
      "count 13 \n",
      "\n",
      "co pollutants\n",
      "count 0 \n",
      "\n"
     ]
    }
   ],
   "source": [
    "print('when testing all aqi pollutants')\n",
    "skewed(all_aqi_2018)\n",
    "print('Ozone pollutants')\n",
    "skewed(ozone_aqi_2018)\n",
    "print('pm10 pollutants')\n",
    "skewed(pm10_aqi_2018)\n",
    "print('pm25 pollutants')\n",
    "skewed(pm25_aqi_2018)\n",
    "print('no2 pollutants')\n",
    "skewed(no2_aqi_2018)\n",
    "print('so2 pollutants')\n",
    "skewed(so2_aqi_2018)\n",
    "print('co pollutants')\n",
    "skewed(co_aqi_2018, fluctuation=3)"
   ],
   "metadata": {
    "collapsed": false,
    "pycharm": {
     "name": "#%%\n"
    }
   }
  },
  {
   "cell_type": "markdown",
   "source": [
    "## Results of 2018 dataset\n",
    "Generally the same result of 2017 maybe even less of a large difference in aqi measure"
   ],
   "metadata": {
    "collapsed": false,
    "pycharm": {
     "name": "#%% md\n"
    }
   }
  },
  {
   "cell_type": "code",
   "execution_count": 15,
   "outputs": [],
   "source": [
    "all_aqi_2019 = pd.read_csv('../../data/raw/daily_aqi_by_county_2019.csv')\n",
    "ozone_aqi_2019 = pd.read_csv('../../data/raw/daily_ozone_2019.csv')\n",
    "pm25_aqi_2019 = pd.read_csv('../../data/raw/daily_pm25_2019.csv')\n",
    "no2_aqi_2019 = pd.read_csv('../../data/raw/NO2_2019.csv')\n",
    "so2_aqi_2019 = pd.read_csv('../../data/raw/SO2_2019.csv')\n",
    "co_aqi_2019 = pd.read_csv('../../data/raw/CO_2019.csv')\n",
    "pm10_aqi_2019 = pd.read_csv('../../data/raw/PM10_2019.csv')"
   ],
   "metadata": {
    "collapsed": false,
    "pycharm": {
     "name": "#%%\n"
    }
   }
  },
  {
   "cell_type": "code",
   "execution_count": 16,
   "outputs": [
    {
     "name": "stdout",
     "output_type": "stream",
     "text": [
      "when testing all aqi pollutants\n",
      "Alaska 6.40241935483871\n",
      "California 7.663169490636314\n",
      "District Of Columbia 4.331506849315069\n",
      "Idaho 4.1423836486673125\n",
      "Oregon 4.554751567776169\n",
      "Puerto Rico 7.213990221887929\n",
      "Virgin Islands 4.082159624413144\n",
      "Washington 4.05912408759124\n",
      "count 8 \n",
      "\n",
      "Ozone pollutants\n",
      "California 5.416063542173937\n",
      "count 1 \n",
      "\n",
      "pm10 pollutants\n",
      "Alaska 4.653024266570084\n",
      "Arizona 4.163100436681223\n",
      "California 4.794981694794178\n",
      "New Mexico 4.258924731182795\n",
      "Puerto Rico 4.935574229691877\n",
      "count 5 \n",
      "\n",
      "pm25 pollutants\n",
      "Alaska 10.042124542124544\n",
      "Idaho 6.728786251342644\n",
      "Montana 4.490698071343232\n",
      "Oregon 6.922616305849839\n",
      "Utah 4.204789970998224\n",
      "Washington 4.979939543830724\n",
      "Puerto Rico 5.25090909090909\n",
      "Virgin Islands 5.359999999999999\n",
      "count 8 \n",
      "\n",
      "no2 pollutants\n",
      "Alaska 4.401785714285715\n",
      "Colorado 8.090825477121179\n",
      "Utah 4.4720112188851235\n",
      "count 3 \n",
      "\n",
      "so2 pollutants\n",
      "Arizona 8.574284594276754\n",
      "Idaho 6.095903165735567\n",
      "Missouri 11.780179895849772\n",
      "Tennessee 5.89581133403731\n",
      "Texas 5.413663535439795\n",
      "Virginia 4.039166666666667\n",
      "Washington 6.124644549763033\n",
      "count 7 \n",
      "\n",
      "co pollutants\n",
      "count 0 \n",
      "\n"
     ]
    }
   ],
   "source": [
    "print('when testing all aqi pollutants')\n",
    "skewed(all_aqi_2019)\n",
    "print('Ozone pollutants')\n",
    "skewed(ozone_aqi_2019)\n",
    "print('pm10 pollutants')\n",
    "skewed(pm10_aqi_2019)\n",
    "print('pm25 pollutants')\n",
    "skewed(pm25_aqi_2019)\n",
    "print('no2 pollutants')\n",
    "skewed(no2_aqi_2019)\n",
    "print('so2 pollutants')\n",
    "skewed(so2_aqi_2019)\n",
    "print('co pollutants')\n",
    "skewed(co_aqi_2019, fluctuation=3)"
   ],
   "metadata": {
    "collapsed": false,
    "pycharm": {
     "name": "#%%\n"
    }
   }
  },
  {
   "cell_type": "markdown",
   "source": [
    "## Results of 2018 dataset\n",
    "Even less of a difference than 2018 and 2017 data seen\n"
   ],
   "metadata": {
    "collapsed": false,
    "pycharm": {
     "name": "#%% md\n"
    }
   }
  },
  {
   "cell_type": "markdown",
   "source": [
    "# Conclusion\n",
    "Using PM10 county mean instead of the median are relatively the same measure when looking at 2017-2019 datasets and\n",
    "there appear to generally be small difference between selecting one over the other."
   ],
   "metadata": {
    "collapsed": false,
    "pycharm": {
     "name": "#%% md\n"
    }
   }
  }
 ],
 "metadata": {
  "kernelspec": {
   "name": "pycharm-301d774e",
   "language": "python",
   "display_name": "PyCharm (API_Mini_Project)"
  },
  "language_info": {
   "codemirror_mode": {
    "name": "ipython",
    "version": 2
   },
   "file_extension": ".py",
   "mimetype": "text/x-python",
   "name": "python",
   "nbconvert_exporter": "python",
   "pygments_lexer": "ipython2",
   "version": "2.7.6"
  }
 },
 "nbformat": 4,
 "nbformat_minor": 0
}