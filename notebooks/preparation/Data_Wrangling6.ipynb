{
 "cells": [
  {
   "cell_type": "markdown",
   "source": [
    "# Make api call to retrieve education level of counties"
   ],
   "metadata": {
    "collapsed": false
   }
  },
  {
   "cell_type": "code",
   "execution_count": 1,
   "outputs": [],
   "source": [
    "from us import states\n",
    "\n",
    "import numpy as np\n",
    "import pandas as pd\n",
    "import os\n",
    "import matplotlib.pyplot as plt\n",
    "import requests\n",
    "\n",
    "CENSUS_API_KEY = os.getenv('CENSUS_API_KEY')\n",
    "\n",
    "from IPython.core.display import display\n",
    "\n",
    "plt.style.use('dark_background')\n",
    "plt.rcParams.update({\"grid.linewidth\":0.5, \"grid.alpha\":0.5})\n",
    "\n",
    "ESTIMATE_POP = 'B01003_001E'\n",
    "ESTIMATE_TOT = 'B06009_001E'\n",
    "ESTIMATE_TOT_LESS_HS = 'B06009_002E'\n",
    "ESTIMATE_TOT_HS = 'B06009_003E'\n",
    "ESTIMATE_TOT_COL_OR_ASSOC = 'B06009_004E'\n",
    "ESTIMATE_TOT_BACH = 'B06009_005E'\n",
    "ESTIMATE_TOT_GRAD = 'B06009_006E'\n",
    "\n",
    "#Car van truck, used in commuting\n",
    "ESTIMATE_AGG_VEHICLE = 'B08015_001E'\n",
    "ESTIMATE_TOT_WALK = 'B08126_068E'"
   ],
   "metadata": {
    "collapsed": false,
    "pycharm": {
     "name": "#%%\n"
    }
   }
  },
  {
   "cell_type": "markdown",
   "source": [
    "# Retrieve education and vehicle data from acs1 2019"
   ],
   "metadata": {
    "collapsed": false,
    "pycharm": {
     "name": "#%% md\n"
    }
   }
  },
  {
   "cell_type": "code",
   "execution_count": 2,
   "outputs": [],
   "source": [
    "# getting data for 2019 county datasets\n",
    "\n",
    "HOST = 'https://api.census.gov/data'\n",
    "year = '2019'\n",
    "dataset = 'acs/acs1'\n",
    "base_url = '/'.join([HOST, year, dataset])\n",
    "\n",
    "predicates = {}\n",
    "get_vars = ['NAME', ESTIMATE_POP, ESTIMATE_TOT, ESTIMATE_TOT_LESS_HS, ESTIMATE_TOT_HS,\n",
    "            ESTIMATE_TOT_COL_OR_ASSOC, ESTIMATE_TOT_BACH, ESTIMATE_TOT_GRAD,\n",
    "            ESTIMATE_AGG_VEHICLE, ESTIMATE_TOT_WALK]\n",
    "predicates['get'] = ','.join(get_vars)\n",
    "predicates['for'] = ['county:*','state:*']\n",
    "\n",
    "r = requests.get(base_url, params=predicates)\n",
    "json = r.text"
   ],
   "metadata": {
    "collapsed": false,
    "pycharm": {
     "name": "#%%\n"
    }
   }
  },
  {
   "cell_type": "markdown",
   "source": [
    "* Estimate total refers to sum of the education attainment totals of less then highschool, highschool, college or associate, bachelors, and graduate\n"
   ],
   "metadata": {
    "collapsed": false,
    "pycharm": {
     "name": "#%% md\n"
    }
   }
  },
  {
   "cell_type": "code",
   "execution_count": 3,
   "outputs": [],
   "source": [
    "json\n",
    "# df = pd.DataFrame(columns=)\n",
    "col_names = (r.json()[0])\n",
    "df = pd.DataFrame(columns=col_names, data=r.json()[1:])\n",
    "# educational attainment for all us by county"
   ],
   "metadata": {
    "collapsed": false,
    "pycharm": {
     "name": "#%%\n"
    }
   }
  },
  {
   "cell_type": "code",
   "execution_count": 4,
   "outputs": [],
   "source": [
    "df.rename(columns={'B01003_001E':'POP', 'B06009_001E': 'EDU_TOT', 'B06009_002E':'LESS_HS_TOT', 'B06009_003E':'HS_TOT',\n",
    "                   'B06009_004E':'COL_OR_ASSOC_TOT', 'B06009_005E':'BACH_TOT', 'B06009_006E':'GRAD_TOT',\n",
    "                   'B08015_001E':'VEHICLE_TOT', 'B08126_068E':'WALK_TOT' }, inplace=True)"
   ],
   "metadata": {
    "collapsed": false,
    "pycharm": {
     "name": "#%%\n"
    }
   }
  },
  {
   "cell_type": "code",
   "execution_count": 5,
   "outputs": [],
   "source": [
    "# reformat columns\n",
    "df = df[['NAME', 'state', 'county', 'POP', 'EDU_TOT', 'LESS_HS_TOT', 'HS_TOT', 'COL_OR_ASSOC_TOT',\n",
    "       'BACH_TOT', 'GRAD_TOT', 'VEHICLE_TOT', 'WALK_TOT']]"
   ],
   "metadata": {
    "collapsed": false,
    "pycharm": {
     "name": "#%%\n"
    }
   }
  },
  {
   "cell_type": "code",
   "execution_count": 6,
   "outputs": [
    {
     "data": {
      "text/plain": "                                     NAME state county     POP EDU_TOT  \\\n0                 Baldwin County, Alabama    01    003  223234  159717   \n1                 Calhoun County, Alabama    01    015  113605   79084   \n2                 Cullman County, Alabama    01    043   83768   58795   \n3                  DeKalb County, Alabama    01    049   71513   47007   \n4                  Elmore County, Alabama    01    051   81209   57553   \n..                                    ...   ...    ...     ...     ...   \n835          Ponce Municipio, Puerto Rico    72    113  131881    None   \n836       San Juan Municipio, Puerto Rico    72    127  318441    None   \n837       Toa Alta Municipio, Puerto Rico    72    135   72025    None   \n838       Toa Baja Municipio, Puerto Rico    72    137   74271    None   \n839  Trujillo Alto Municipio, Puerto Rico    72    139   63674    None   \n\n    LESS_HS_TOT HS_TOT COL_OR_ASSOC_TOT BACH_TOT GRAD_TOT VEHICLE_TOT WALK_TOT  \n0         15158  41884            51204    32781    18690       85170     None  \n1         12195  27277            24355     9082     6175       41330     None  \n2         11014  17924            20616     5935     3306       31840     None  \n3         10043  17881            13084     3693     2306       28065     None  \n4          5940  19992            17311     9418     4892       33005     None  \n..          ...    ...              ...      ...      ...         ...      ...  \n835        None   None             None     None     None       31635     None  \n836        None   None             None     None     None       92055      171  \n837        None   None             None     None     None       24230     None  \n838        None   None             None     None     None       22900     None  \n839        None   None             None     None     None       25900     None  \n\n[840 rows x 12 columns]",
      "text/html": "<div>\n<style scoped>\n    .dataframe tbody tr th:only-of-type {\n        vertical-align: middle;\n    }\n\n    .dataframe tbody tr th {\n        vertical-align: top;\n    }\n\n    .dataframe thead th {\n        text-align: right;\n    }\n</style>\n<table border=\"1\" class=\"dataframe\">\n  <thead>\n    <tr style=\"text-align: right;\">\n      <th></th>\n      <th>NAME</th>\n      <th>state</th>\n      <th>county</th>\n      <th>POP</th>\n      <th>EDU_TOT</th>\n      <th>LESS_HS_TOT</th>\n      <th>HS_TOT</th>\n      <th>COL_OR_ASSOC_TOT</th>\n      <th>BACH_TOT</th>\n      <th>GRAD_TOT</th>\n      <th>VEHICLE_TOT</th>\n      <th>WALK_TOT</th>\n    </tr>\n  </thead>\n  <tbody>\n    <tr>\n      <th>0</th>\n      <td>Baldwin County, Alabama</td>\n      <td>01</td>\n      <td>003</td>\n      <td>223234</td>\n      <td>159717</td>\n      <td>15158</td>\n      <td>41884</td>\n      <td>51204</td>\n      <td>32781</td>\n      <td>18690</td>\n      <td>85170</td>\n      <td>None</td>\n    </tr>\n    <tr>\n      <th>1</th>\n      <td>Calhoun County, Alabama</td>\n      <td>01</td>\n      <td>015</td>\n      <td>113605</td>\n      <td>79084</td>\n      <td>12195</td>\n      <td>27277</td>\n      <td>24355</td>\n      <td>9082</td>\n      <td>6175</td>\n      <td>41330</td>\n      <td>None</td>\n    </tr>\n    <tr>\n      <th>2</th>\n      <td>Cullman County, Alabama</td>\n      <td>01</td>\n      <td>043</td>\n      <td>83768</td>\n      <td>58795</td>\n      <td>11014</td>\n      <td>17924</td>\n      <td>20616</td>\n      <td>5935</td>\n      <td>3306</td>\n      <td>31840</td>\n      <td>None</td>\n    </tr>\n    <tr>\n      <th>3</th>\n      <td>DeKalb County, Alabama</td>\n      <td>01</td>\n      <td>049</td>\n      <td>71513</td>\n      <td>47007</td>\n      <td>10043</td>\n      <td>17881</td>\n      <td>13084</td>\n      <td>3693</td>\n      <td>2306</td>\n      <td>28065</td>\n      <td>None</td>\n    </tr>\n    <tr>\n      <th>4</th>\n      <td>Elmore County, Alabama</td>\n      <td>01</td>\n      <td>051</td>\n      <td>81209</td>\n      <td>57553</td>\n      <td>5940</td>\n      <td>19992</td>\n      <td>17311</td>\n      <td>9418</td>\n      <td>4892</td>\n      <td>33005</td>\n      <td>None</td>\n    </tr>\n    <tr>\n      <th>...</th>\n      <td>...</td>\n      <td>...</td>\n      <td>...</td>\n      <td>...</td>\n      <td>...</td>\n      <td>...</td>\n      <td>...</td>\n      <td>...</td>\n      <td>...</td>\n      <td>...</td>\n      <td>...</td>\n      <td>...</td>\n    </tr>\n    <tr>\n      <th>835</th>\n      <td>Ponce Municipio, Puerto Rico</td>\n      <td>72</td>\n      <td>113</td>\n      <td>131881</td>\n      <td>None</td>\n      <td>None</td>\n      <td>None</td>\n      <td>None</td>\n      <td>None</td>\n      <td>None</td>\n      <td>31635</td>\n      <td>None</td>\n    </tr>\n    <tr>\n      <th>836</th>\n      <td>San Juan Municipio, Puerto Rico</td>\n      <td>72</td>\n      <td>127</td>\n      <td>318441</td>\n      <td>None</td>\n      <td>None</td>\n      <td>None</td>\n      <td>None</td>\n      <td>None</td>\n      <td>None</td>\n      <td>92055</td>\n      <td>171</td>\n    </tr>\n    <tr>\n      <th>837</th>\n      <td>Toa Alta Municipio, Puerto Rico</td>\n      <td>72</td>\n      <td>135</td>\n      <td>72025</td>\n      <td>None</td>\n      <td>None</td>\n      <td>None</td>\n      <td>None</td>\n      <td>None</td>\n      <td>None</td>\n      <td>24230</td>\n      <td>None</td>\n    </tr>\n    <tr>\n      <th>838</th>\n      <td>Toa Baja Municipio, Puerto Rico</td>\n      <td>72</td>\n      <td>137</td>\n      <td>74271</td>\n      <td>None</td>\n      <td>None</td>\n      <td>None</td>\n      <td>None</td>\n      <td>None</td>\n      <td>None</td>\n      <td>22900</td>\n      <td>None</td>\n    </tr>\n    <tr>\n      <th>839</th>\n      <td>Trujillo Alto Municipio, Puerto Rico</td>\n      <td>72</td>\n      <td>139</td>\n      <td>63674</td>\n      <td>None</td>\n      <td>None</td>\n      <td>None</td>\n      <td>None</td>\n      <td>None</td>\n      <td>None</td>\n      <td>25900</td>\n      <td>None</td>\n    </tr>\n  </tbody>\n</table>\n<p>840 rows × 12 columns</p>\n</div>"
     },
     "metadata": {},
     "output_type": "display_data"
    }
   ],
   "source": [
    "# save the data to a new csv file. keep commented to prevent from always saving\n",
    "display(df)\n",
    "data_path = r'../../data/processed/acs1_edu_vehicle2019.csv'\n",
    "df.to_csv(data_path)\n"
   ],
   "metadata": {
    "collapsed": false,
    "pycharm": {
     "name": "#%%\n"
    }
   }
  },
  {
   "cell_type": "markdown",
   "source": [
    "# repeat steps for year 2018\n"
   ],
   "metadata": {
    "collapsed": false
   }
  },
  {
   "cell_type": "code",
   "execution_count": 7,
   "outputs": [],
   "source": [
    "year = '2018'\n",
    "base_url = '/'.join([HOST, year, dataset])\n",
    "\n",
    "predicates = {}\n",
    "get_vars = ['NAME', ESTIMATE_POP, ESTIMATE_TOT, ESTIMATE_TOT_LESS_HS, ESTIMATE_TOT_HS,\n",
    "            ESTIMATE_TOT_COL_OR_ASSOC, ESTIMATE_TOT_BACH, ESTIMATE_TOT_GRAD,\n",
    "            ESTIMATE_AGG_VEHICLE, ESTIMATE_TOT_WALK]\n",
    "predicates['get'] = ','.join(get_vars)\n",
    "predicates['for'] = ['county:*','state:*']\n",
    "\n",
    "r = requests.get(base_url, params=predicates)\n",
    "json = r.text"
   ],
   "metadata": {
    "collapsed": false,
    "pycharm": {
     "name": "#%%\n"
    }
   }
  },
  {
   "cell_type": "code",
   "execution_count": 8,
   "outputs": [],
   "source": [
    "json\n",
    "# df = pd.DataFrame(columns=)\n",
    "col_names = (r.json()[0])\n",
    "df = pd.DataFrame(columns=col_names, data=r.json()[1:])\n",
    "# educational attainment for all us by county"
   ],
   "metadata": {
    "collapsed": false,
    "pycharm": {
     "name": "#%%\n"
    }
   }
  },
  {
   "cell_type": "code",
   "execution_count": 9,
   "outputs": [],
   "source": [
    "df.rename(columns={'B01003_001E':'POP', 'B06009_001E': 'EDU_TOT', 'B06009_002E':'LESS_HS_TOT', 'B06009_003E':'HS_TOT',\n",
    "                   'B06009_004E':'COL_OR_ASSOC_TOT', 'B06009_005E':'BACH_TOT', 'B06009_006E':'GRAD_TOT',\n",
    "                   'B08015_001E':'VEHICLE_TOT', 'B08126_068E':'WALK_TOT' }, inplace=True)"
   ],
   "metadata": {
    "collapsed": false,
    "pycharm": {
     "name": "#%%\n"
    }
   }
  },
  {
   "cell_type": "code",
   "execution_count": 10,
   "outputs": [],
   "source": [
    "# reformat columns\n",
    "df = df[['NAME', 'state', 'county', 'POP', 'EDU_TOT', 'LESS_HS_TOT', 'HS_TOT', 'COL_OR_ASSOC_TOT',\n",
    "       'BACH_TOT', 'GRAD_TOT', 'VEHICLE_TOT', 'WALK_TOT']]\n"
   ],
   "metadata": {
    "collapsed": false,
    "pycharm": {
     "name": "#%%\n"
    }
   }
  },
  {
   "cell_type": "code",
   "execution_count": 11,
   "outputs": [
    {
     "data": {
      "text/plain": "                                     NAME state county     POP EDU_TOT  \\\n0                 Baldwin County, Alabama    01    003  218022  155691   \n1                 Calhoun County, Alabama    01    015  114277   79172   \n2                 Cullman County, Alabama    01    043   83442   58319   \n3                  DeKalb County, Alabama    01    049   71385   48169   \n4                  Elmore County, Alabama    01    051   81887   56793   \n..                                    ...   ...    ...     ...     ...   \n833          Ponce Municipio, Puerto Rico    72    113  133191    None   \n834       San Juan Municipio, Puerto Rico    72    127  320967    None   \n835       Toa Alta Municipio, Puerto Rico    72    135   71094    None   \n836       Toa Baja Municipio, Puerto Rico    72    137   74623    None   \n837  Trujillo Alto Municipio, Puerto Rico    72    139   63746    None   \n\n    LESS_HS_TOT HS_TOT COL_OR_ASSOC_TOT BACH_TOT GRAD_TOT VEHICLE_TOT WALK_TOT  \n0         15282  44013            47573    32210    16613       87745     None  \n1         12121  25761            27039     7914     6337       42760     None  \n2         10228  18149            22883     4916     2143       33065     None  \n3         11681  14333            14995     3931     3229       26150     None  \n4          7490  18457            16505    10146     4195       31600     None  \n..          ...    ...              ...      ...      ...         ...      ...  \n833        None   None             None     None     None       32475     None  \n834        None   None             None     None     None       94245        0  \n835        None   None             None     None     None       24755     None  \n836        None   None             None     None     None       23700     None  \n837        None   None             None     None     None       22530     None  \n\n[838 rows x 12 columns]",
      "text/html": "<div>\n<style scoped>\n    .dataframe tbody tr th:only-of-type {\n        vertical-align: middle;\n    }\n\n    .dataframe tbody tr th {\n        vertical-align: top;\n    }\n\n    .dataframe thead th {\n        text-align: right;\n    }\n</style>\n<table border=\"1\" class=\"dataframe\">\n  <thead>\n    <tr style=\"text-align: right;\">\n      <th></th>\n      <th>NAME</th>\n      <th>state</th>\n      <th>county</th>\n      <th>POP</th>\n      <th>EDU_TOT</th>\n      <th>LESS_HS_TOT</th>\n      <th>HS_TOT</th>\n      <th>COL_OR_ASSOC_TOT</th>\n      <th>BACH_TOT</th>\n      <th>GRAD_TOT</th>\n      <th>VEHICLE_TOT</th>\n      <th>WALK_TOT</th>\n    </tr>\n  </thead>\n  <tbody>\n    <tr>\n      <th>0</th>\n      <td>Baldwin County, Alabama</td>\n      <td>01</td>\n      <td>003</td>\n      <td>218022</td>\n      <td>155691</td>\n      <td>15282</td>\n      <td>44013</td>\n      <td>47573</td>\n      <td>32210</td>\n      <td>16613</td>\n      <td>87745</td>\n      <td>None</td>\n    </tr>\n    <tr>\n      <th>1</th>\n      <td>Calhoun County, Alabama</td>\n      <td>01</td>\n      <td>015</td>\n      <td>114277</td>\n      <td>79172</td>\n      <td>12121</td>\n      <td>25761</td>\n      <td>27039</td>\n      <td>7914</td>\n      <td>6337</td>\n      <td>42760</td>\n      <td>None</td>\n    </tr>\n    <tr>\n      <th>2</th>\n      <td>Cullman County, Alabama</td>\n      <td>01</td>\n      <td>043</td>\n      <td>83442</td>\n      <td>58319</td>\n      <td>10228</td>\n      <td>18149</td>\n      <td>22883</td>\n      <td>4916</td>\n      <td>2143</td>\n      <td>33065</td>\n      <td>None</td>\n    </tr>\n    <tr>\n      <th>3</th>\n      <td>DeKalb County, Alabama</td>\n      <td>01</td>\n      <td>049</td>\n      <td>71385</td>\n      <td>48169</td>\n      <td>11681</td>\n      <td>14333</td>\n      <td>14995</td>\n      <td>3931</td>\n      <td>3229</td>\n      <td>26150</td>\n      <td>None</td>\n    </tr>\n    <tr>\n      <th>4</th>\n      <td>Elmore County, Alabama</td>\n      <td>01</td>\n      <td>051</td>\n      <td>81887</td>\n      <td>56793</td>\n      <td>7490</td>\n      <td>18457</td>\n      <td>16505</td>\n      <td>10146</td>\n      <td>4195</td>\n      <td>31600</td>\n      <td>None</td>\n    </tr>\n    <tr>\n      <th>...</th>\n      <td>...</td>\n      <td>...</td>\n      <td>...</td>\n      <td>...</td>\n      <td>...</td>\n      <td>...</td>\n      <td>...</td>\n      <td>...</td>\n      <td>...</td>\n      <td>...</td>\n      <td>...</td>\n      <td>...</td>\n    </tr>\n    <tr>\n      <th>833</th>\n      <td>Ponce Municipio, Puerto Rico</td>\n      <td>72</td>\n      <td>113</td>\n      <td>133191</td>\n      <td>None</td>\n      <td>None</td>\n      <td>None</td>\n      <td>None</td>\n      <td>None</td>\n      <td>None</td>\n      <td>32475</td>\n      <td>None</td>\n    </tr>\n    <tr>\n      <th>834</th>\n      <td>San Juan Municipio, Puerto Rico</td>\n      <td>72</td>\n      <td>127</td>\n      <td>320967</td>\n      <td>None</td>\n      <td>None</td>\n      <td>None</td>\n      <td>None</td>\n      <td>None</td>\n      <td>None</td>\n      <td>94245</td>\n      <td>0</td>\n    </tr>\n    <tr>\n      <th>835</th>\n      <td>Toa Alta Municipio, Puerto Rico</td>\n      <td>72</td>\n      <td>135</td>\n      <td>71094</td>\n      <td>None</td>\n      <td>None</td>\n      <td>None</td>\n      <td>None</td>\n      <td>None</td>\n      <td>None</td>\n      <td>24755</td>\n      <td>None</td>\n    </tr>\n    <tr>\n      <th>836</th>\n      <td>Toa Baja Municipio, Puerto Rico</td>\n      <td>72</td>\n      <td>137</td>\n      <td>74623</td>\n      <td>None</td>\n      <td>None</td>\n      <td>None</td>\n      <td>None</td>\n      <td>None</td>\n      <td>None</td>\n      <td>23700</td>\n      <td>None</td>\n    </tr>\n    <tr>\n      <th>837</th>\n      <td>Trujillo Alto Municipio, Puerto Rico</td>\n      <td>72</td>\n      <td>139</td>\n      <td>63746</td>\n      <td>None</td>\n      <td>None</td>\n      <td>None</td>\n      <td>None</td>\n      <td>None</td>\n      <td>None</td>\n      <td>22530</td>\n      <td>None</td>\n    </tr>\n  </tbody>\n</table>\n<p>838 rows × 12 columns</p>\n</div>"
     },
     "metadata": {},
     "output_type": "display_data"
    }
   ],
   "source": [
    "# save the data to a new csv file. keep commented to prevent from always saving\n",
    "display(df)\n",
    "data_path = r'../../data/processed/acs1_edu_vehicle2018.csv'\n",
    "df.to_csv(data_path)"
   ],
   "metadata": {
    "collapsed": false,
    "pycharm": {
     "name": "#%%\n"
    }
   }
  },
  {
   "cell_type": "markdown",
   "source": [
    "# repeat steps for year 2017\n"
   ],
   "metadata": {
    "collapsed": false
   }
  },
  {
   "cell_type": "code",
   "execution_count": 12,
   "outputs": [],
   "source": [
    "year = '2017'\n",
    "base_url = '/'.join([HOST, year, dataset])\n",
    "\n",
    "predicates = {}\n",
    "get_vars = ['NAME', ESTIMATE_POP, ESTIMATE_TOT, ESTIMATE_TOT_LESS_HS, ESTIMATE_TOT_HS,\n",
    "            ESTIMATE_TOT_COL_OR_ASSOC, ESTIMATE_TOT_BACH, ESTIMATE_TOT_GRAD,\n",
    "            ESTIMATE_AGG_VEHICLE, ESTIMATE_TOT_WALK]\n",
    "predicates['get'] = ','.join(get_vars)\n",
    "predicates['for'] = ['county:*','state:*']\n",
    "\n",
    "r = requests.get(base_url, params=predicates)\n",
    "json = r.text"
   ],
   "metadata": {
    "collapsed": false,
    "pycharm": {
     "name": "#%%\n"
    }
   }
  },
  {
   "cell_type": "code",
   "execution_count": 13,
   "outputs": [],
   "source": [
    "json\n",
    "# df = pd.DataFrame(columns=)\n",
    "col_names = (r.json()[0])\n",
    "df = pd.DataFrame(columns=col_names, data=r.json()[1:])\n",
    "# educational attainment for all us by county"
   ],
   "metadata": {
    "collapsed": false,
    "pycharm": {
     "name": "#%%\n"
    }
   }
  },
  {
   "cell_type": "code",
   "execution_count": 14,
   "outputs": [],
   "source": [
    "df.rename(columns={'B01003_001E':'POP', 'B06009_001E': 'EDU_TOT', 'B06009_002E':'LESS_HS_TOT', 'B06009_003E':'HS_TOT',\n",
    "                   'B06009_004E':'COL_OR_ASSOC_TOT', 'B06009_005E':'BACH_TOT', 'B06009_006E':'GRAD_TOT',\n",
    "                   'B08015_001E':'VEHICLE_TOT', 'B08126_068E':'WALK_TOT' }, inplace=True)"
   ],
   "metadata": {
    "collapsed": false,
    "pycharm": {
     "name": "#%%\n"
    }
   }
  },
  {
   "cell_type": "code",
   "execution_count": 15,
   "outputs": [],
   "source": [
    "# reformat columns\n",
    "df = df[['NAME', 'state', 'county', 'POP', 'EDU_TOT', 'LESS_HS_TOT', 'HS_TOT', 'COL_OR_ASSOC_TOT',\n",
    "       'BACH_TOT', 'GRAD_TOT', 'VEHICLE_TOT', 'WALK_TOT']]\n"
   ],
   "metadata": {
    "collapsed": false,
    "pycharm": {
     "name": "#%%\n"
    }
   }
  },
  {
   "cell_type": "code",
   "execution_count": 16,
   "outputs": [
    {
     "data": {
      "text/plain": "                              NAME state county      POP  EDU_TOT LESS_HS_TOT  \\\n0    St. Lawrence County, New York    36    089   109623    72555        9164   \n1        Saratoga County, New York    36    091   229869   164414       10656   \n2     Schenectady County, New York    36    093   155565   107453       10085   \n3         Steuben County, New York    36    101    96281    68011        6510   \n4         Suffolk County, New York    36    103  1492953  1036946      102621   \n..                             ...   ...    ...      ...      ...         ...   \n832        Putnam County, New York    36    079    99323    71447        5090   \n833        Queens County, New York    36    081  2358582  1695302      304984   \n834    Rensselaer County, New York    36    083   159722   111047        9095   \n835      Richmond County, New York    36    085   479458   334079       39031   \n836      Rockland County, New York    36    087   328868   205985       22972   \n\n     HS_TOT COL_OR_ASSOC_TOT BACH_TOT GRAD_TOT VEHICLE_TOT WALK_TOT  \n0     25858            20091     8279     9163       35920     None  \n1     39033            45561    37886    31278      105705     None  \n2     32144            35263    17210    12751       60290     None  \n3     25920            20685     7451     7445       35585     None  \n4    277080           279213   208064   169968      617715      107  \n..      ...              ...      ...      ...         ...      ...  \n832   20597            18095    14929    12736       42395     None  \n833  493794           372885   335990   187649      391980      629  \n834   31730            34954    20143    15125       65720     None  \n835  100730            83679    66108    44531      127985       41  \n836   46985            51510    46786    37732      112645       90  \n\n[837 rows x 12 columns]",
      "text/html": "<div>\n<style scoped>\n    .dataframe tbody tr th:only-of-type {\n        vertical-align: middle;\n    }\n\n    .dataframe tbody tr th {\n        vertical-align: top;\n    }\n\n    .dataframe thead th {\n        text-align: right;\n    }\n</style>\n<table border=\"1\" class=\"dataframe\">\n  <thead>\n    <tr style=\"text-align: right;\">\n      <th></th>\n      <th>NAME</th>\n      <th>state</th>\n      <th>county</th>\n      <th>POP</th>\n      <th>EDU_TOT</th>\n      <th>LESS_HS_TOT</th>\n      <th>HS_TOT</th>\n      <th>COL_OR_ASSOC_TOT</th>\n      <th>BACH_TOT</th>\n      <th>GRAD_TOT</th>\n      <th>VEHICLE_TOT</th>\n      <th>WALK_TOT</th>\n    </tr>\n  </thead>\n  <tbody>\n    <tr>\n      <th>0</th>\n      <td>St. Lawrence County, New York</td>\n      <td>36</td>\n      <td>089</td>\n      <td>109623</td>\n      <td>72555</td>\n      <td>9164</td>\n      <td>25858</td>\n      <td>20091</td>\n      <td>8279</td>\n      <td>9163</td>\n      <td>35920</td>\n      <td>None</td>\n    </tr>\n    <tr>\n      <th>1</th>\n      <td>Saratoga County, New York</td>\n      <td>36</td>\n      <td>091</td>\n      <td>229869</td>\n      <td>164414</td>\n      <td>10656</td>\n      <td>39033</td>\n      <td>45561</td>\n      <td>37886</td>\n      <td>31278</td>\n      <td>105705</td>\n      <td>None</td>\n    </tr>\n    <tr>\n      <th>2</th>\n      <td>Schenectady County, New York</td>\n      <td>36</td>\n      <td>093</td>\n      <td>155565</td>\n      <td>107453</td>\n      <td>10085</td>\n      <td>32144</td>\n      <td>35263</td>\n      <td>17210</td>\n      <td>12751</td>\n      <td>60290</td>\n      <td>None</td>\n    </tr>\n    <tr>\n      <th>3</th>\n      <td>Steuben County, New York</td>\n      <td>36</td>\n      <td>101</td>\n      <td>96281</td>\n      <td>68011</td>\n      <td>6510</td>\n      <td>25920</td>\n      <td>20685</td>\n      <td>7451</td>\n      <td>7445</td>\n      <td>35585</td>\n      <td>None</td>\n    </tr>\n    <tr>\n      <th>4</th>\n      <td>Suffolk County, New York</td>\n      <td>36</td>\n      <td>103</td>\n      <td>1492953</td>\n      <td>1036946</td>\n      <td>102621</td>\n      <td>277080</td>\n      <td>279213</td>\n      <td>208064</td>\n      <td>169968</td>\n      <td>617715</td>\n      <td>107</td>\n    </tr>\n    <tr>\n      <th>...</th>\n      <td>...</td>\n      <td>...</td>\n      <td>...</td>\n      <td>...</td>\n      <td>...</td>\n      <td>...</td>\n      <td>...</td>\n      <td>...</td>\n      <td>...</td>\n      <td>...</td>\n      <td>...</td>\n      <td>...</td>\n    </tr>\n    <tr>\n      <th>832</th>\n      <td>Putnam County, New York</td>\n      <td>36</td>\n      <td>079</td>\n      <td>99323</td>\n      <td>71447</td>\n      <td>5090</td>\n      <td>20597</td>\n      <td>18095</td>\n      <td>14929</td>\n      <td>12736</td>\n      <td>42395</td>\n      <td>None</td>\n    </tr>\n    <tr>\n      <th>833</th>\n      <td>Queens County, New York</td>\n      <td>36</td>\n      <td>081</td>\n      <td>2358582</td>\n      <td>1695302</td>\n      <td>304984</td>\n      <td>493794</td>\n      <td>372885</td>\n      <td>335990</td>\n      <td>187649</td>\n      <td>391980</td>\n      <td>629</td>\n    </tr>\n    <tr>\n      <th>834</th>\n      <td>Rensselaer County, New York</td>\n      <td>36</td>\n      <td>083</td>\n      <td>159722</td>\n      <td>111047</td>\n      <td>9095</td>\n      <td>31730</td>\n      <td>34954</td>\n      <td>20143</td>\n      <td>15125</td>\n      <td>65720</td>\n      <td>None</td>\n    </tr>\n    <tr>\n      <th>835</th>\n      <td>Richmond County, New York</td>\n      <td>36</td>\n      <td>085</td>\n      <td>479458</td>\n      <td>334079</td>\n      <td>39031</td>\n      <td>100730</td>\n      <td>83679</td>\n      <td>66108</td>\n      <td>44531</td>\n      <td>127985</td>\n      <td>41</td>\n    </tr>\n    <tr>\n      <th>836</th>\n      <td>Rockland County, New York</td>\n      <td>36</td>\n      <td>087</td>\n      <td>328868</td>\n      <td>205985</td>\n      <td>22972</td>\n      <td>46985</td>\n      <td>51510</td>\n      <td>46786</td>\n      <td>37732</td>\n      <td>112645</td>\n      <td>90</td>\n    </tr>\n  </tbody>\n</table>\n<p>837 rows × 12 columns</p>\n</div>"
     },
     "metadata": {},
     "output_type": "display_data"
    }
   ],
   "source": [
    "# save the data to a new csv file. keep commented to prevent from always saving\n",
    "display(df)\n",
    "data_path = r'../../data/processed/acs1_edu_vehicle2017.csv'\n",
    "df.to_csv(data_path)\n",
    "\n"
   ],
   "metadata": {
    "collapsed": false,
    "pycharm": {
     "name": "#%%\n"
    }
   }
  }
 ],
 "metadata": {
  "kernelspec": {
   "name": "pycharm-301d774e",
   "language": "python",
   "display_name": "PyCharm (API_Mini_Project)"
  },
  "language_info": {
   "codemirror_mode": {
    "name": "ipython",
    "version": 2
   },
   "file_extension": ".py",
   "mimetype": "text/x-python",
   "name": "python",
   "nbconvert_exporter": "python",
   "pygments_lexer": "ipython2",
   "version": "2.7.6"
  }
 },
 "nbformat": 4,
 "nbformat_minor": 0
}