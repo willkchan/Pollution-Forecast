{
 "cells": [
  {
   "cell_type": "markdown",
   "source": [
    "### Preprocess data and try different feature selection techniques\n",
    "* Preprocess data with a preprocessing package from sklearn\n",
    "* preprocess with pca?"
   ],
   "metadata": {
    "collapsed": false
   }
  },
  {
   "cell_type": "markdown",
   "source": [
    "### Import Packages"
   ],
   "metadata": {
    "collapsed": false
   }
  },
  {
   "cell_type": "code",
   "execution_count": 1,
   "outputs": [],
   "source": [
    "import numpy as np\n",
    "import pandas as pd\n",
    "import seaborn as sns\n",
    "import sys\n",
    "import os\n",
    "import matplotlib.pyplot as plt\n",
    "import klib\n",
    "import plotly.figure_factory as ff\n",
    "from IPython.core.display import display\n",
    "from scipy import stats\n",
    "from sklearn.model_selection import train_test_split\n",
    "from sklearn import preprocessing\n",
    "\n",
    "# pd.set_option('display.max_columns', None)\n",
    "# pd.reset_option('max_rows')\n",
    "#np.set_printoptions(threshold=sys.maxsize)\n",
    "\n",
    "plt.style.use('dark_background')\n",
    "plt.rcParams.update({\"grid.linewidth\":0.5, \"grid.alpha\":0.5})\n",
    "sns.set(style='ticks', context='talk')"
   ],
   "metadata": {
    "collapsed": false,
    "pycharm": {
     "name": "#%%\n"
    }
   }
  },
  {
   "cell_type": "code",
   "execution_count": 2,
   "outputs": [],
   "source": [
    "# define useful function to create scatterplots of target feature against desired columns\n",
    "def scatterplots(df, target, columns, ncol=None, figsize=(20, 25)):\n",
    "    if ncol is None:\n",
    "        ncol = len(columns)\n",
    "    nrow = int(np.ceil(len(columns) / ncol))\n",
    "    fig, axes = plt.subplots(nrow, ncol, figsize=figsize, squeeze=False)\n",
    "    fig.subplots_adjust(wspace=0.7, hspace=0.7)\n",
    "    for i, col in enumerate(columns):\n",
    "        # ax = axes.flatten()[i]\n",
    "        # ax.scatter(x = col, y = target, data=df, alpha=0.5)\n",
    "        sns.regplot(ax=axes.flatten()[i], x=col, y=target, data=df, scatter_kws={'alpha':0.5})\n",
    "        # ax.set(xlabel=col, ylabel=target)\n",
    "    nsubplots = nrow * ncol\n",
    "    for empty in range(i+1, nsubplots):\n",
    "        axes.flatten()[empty].set_visible(False)"
   ],
   "metadata": {
    "collapsed": false,
    "pycharm": {
     "name": "#%%\n"
    }
   }
  },
  {
   "cell_type": "markdown",
   "source": [
    "### Load data"
   ],
   "metadata": {
    "collapsed": false
   }
  },
  {
   "cell_type": "code",
   "execution_count": 3,
   "outputs": [],
   "source": [
    "pm10_2017_2019 = r'../../data/processed/pm10_2017_2019'\n",
    "pm10_year_diff = r'../../data/processed/pm10_year_diff'\n",
    "pm10_year_pct_change = r'../../data/processed/pm10_year_pct_change'\n",
    "pm10_year_diff_top_corr =  r'../../data/processed/pm10_year_diff_top_corr'\n",
    "pm10_year_pct_change_top_corr = r'../../data/processed/pm10_year_pct_change_top_corr'\n",
    "\n",
    "df_norm = pd.read_csv(pm10_2017_2019)\n",
    "df_year_diff = pd.read_csv(pm10_year_diff)\n",
    "df_year_diff_top = pd.read_csv(pm10_year_diff_top_corr)\n",
    "df_year_pct_change = pd.read_csv(pm10_year_pct_change)\n",
    "df_year_pct_change_top = pd.read_csv(pm10_year_pct_change_top_corr)"
   ],
   "metadata": {
    "collapsed": false,
    "pycharm": {
     "name": "#%%\n"
    }
   }
  },
  {
   "cell_type": "code",
   "execution_count": 4,
   "outputs": [
    {
     "data": {
      "text/plain": "      AQI_2019  AQI_2017_2018_diff  Civilian_labor_force_2017_2018_diff  \\\n0    20.073389            1.008865                                 4312   \n1    12.958515            0.689292                                 5003   \n2    13.125000            0.292164                                 -202   \n3    11.247911           -1.114232                                  130   \n4    17.413408           -2.926909                                  155   \n..         ...                 ...                                  ...   \n203  10.503937            1.567276                                 -466   \n204  14.431990            1.676852                                -6690   \n205  15.656425            3.299519                                 -481   \n206  13.354142            0.921309                                  -40   \n207   9.385135           -0.201293                                 -276   \n\n     Employed_2017_2018_diff  Unemployed_2017_2018_diff  \\\n0                       6021                      -1709   \n1                       5641                       -638   \n2                        227                       -429   \n3                        211                        -81   \n4                        159                         -4   \n..                       ...                        ...   \n203                     -322                       -144   \n204                    -4550                      -2140   \n205                       71                       -552   \n206                      -75                         35   \n207                       37                       -313   \n\n     Unemployment_rate_2017_2018_diff  \\\n0                                -0.6   \n1                                -0.5   \n2                                -0.4   \n3                                -0.4   \n4                                 0.0   \n..                                ...   \n203                              -0.3   \n204                              -0.4   \n205                              -0.3   \n206                               0.1   \n207                              -0.7   \n\n     Poverty Estimate, All Ages_2017_2018_diff  \\\n0                                      -4148.0   \n1                                      -2312.0   \n2                                      -2748.0   \n3                                       3009.0   \n4                                       -946.0   \n..                                         ...   \n203                                      282.0   \n204                                     -696.0   \n205                                      847.0   \n206                                     -455.0   \n207                                     -954.0   \n\n     90% CI LB All Ages_2017_2018_diff  90% CI UB All Ages_2017_2018_diff  \\\n0                              -4526.0                            -3770.0   \n1                              -2147.0                            -2477.0   \n2                              -2585.0                            -2911.0   \n3                               3302.0                             2716.0   \n4                               -599.0                            -1293.0   \n..                                 ...                                ...   \n203                               73.0                              491.0   \n204                             -987.0                             -405.0   \n205                              673.0                             1021.0   \n206                             -555.0                             -355.0   \n207                            -1000.0                             -908.0   \n\n     Poverty Percent, All Ages_2017_2018_diff  ...  \\\n0                                        -0.6  ...   \n1                                        -0.9  ...   \n2                                        -1.2  ...   \n3                                         4.2  ...   \n4                                        -1.0  ...   \n..                                        ...  ...   \n203                                       0.3  ...   \n204                                       0.0  ...   \n205                                       0.2  ...   \n206                                      -0.6  ...   \n207                                      -1.2  ...   \n\n     HWAC_MALE_ratio_2018_2019_pct_change  \\\n0                                0.026476   \n1                                0.022018   \n2                                0.025343   \n3                                0.042465   \n4                                0.008941   \n..                                    ...   \n203                              0.008593   \n204                              0.015727   \n205                              0.020747   \n206                              0.006963   \n207                              0.026592   \n\n     HWAC_FEMALE_ratio_2018_2019_pct_change  \\\n0                                  0.031723   \n1                                  0.030026   \n2                                  0.032246   \n3                                  0.013679   \n4                                  0.001484   \n..                                      ...   \n203                                0.038840   \n204                                0.015638   \n205                                0.021930   \n206                                0.020251   \n207                                0.005264   \n\n     HBAC_MALE_ratio_2018_2019_pct_change  \\\n0                                0.032864   \n1                                0.037618   \n2                               -0.001476   \n3                                0.095179   \n4                               -0.001274   \n..                                    ...   \n203                              0.049928   \n204                              0.013946   \n205                              0.045184   \n206                             -0.020994   \n207                              0.165942   \n\n     HBAC_FEMALE_ratio_2018_2019_pct_change  \\\n0                                  0.040322   \n1                                  0.016357   \n2                                  0.063161   \n3                                 -0.115560   \n4                                 -0.048402   \n..                                      ...   \n203                                0.096699   \n204                                0.019648   \n205                                0.029480   \n206                                0.047957   \n207                                0.093508   \n\n     HIAC_MALE_ratio_2018_2019_pct_change  \\\n0                                0.054139   \n1                               -0.005556   \n2                                0.004428   \n3                                0.036155   \n4                                0.019675   \n..                                    ...   \n203                              0.025571   \n204                              0.007658   \n205                              0.100848   \n206                              0.007984   \n207                             -0.008553   \n\n     HIAC_FEMALE_ratio_2018_2019_pct_change  \\\n0                                  0.074790   \n1                                  0.051458   \n2                                 -0.048117   \n3                                 -0.021558   \n4                                 -0.012253   \n..                                      ...   \n203                               -0.000068   \n204                                0.006921   \n205                                0.057137   \n206                               -0.018559   \n207                                0.023202   \n\n     HAAC_MALE_ratio_2018_2019_pct_change  \\\n0                                0.122425   \n1                               -0.087266   \n2                               -0.093386   \n3                               -0.158081   \n4                                0.074008   \n..                                    ...   \n203                              0.352849   \n204                             -0.001563   \n205                              0.117484   \n206                             -0.020887   \n207                             -0.008553   \n\n     HAAC_FEMALE_ratio_2018_2019_pct_change  \\\n0                                 -0.041309   \n1                                  0.243875   \n2                                  0.020489   \n3                                  0.130874   \n4                                 -0.012205   \n..                                      ...   \n203                                0.047547   \n204                                0.007946   \n205                                0.185540   \n206                                0.018051   \n207                                0.041860   \n\n     HNAC_MALE_ratio_2018_2019_pct_change  \\\n0                                0.055424   \n1                                0.072299   \n2                               -0.010560   \n3                                0.496745   \n4                                0.018867   \n..                                    ...   \n203                              0.142779   \n204                              0.016960   \n205                              0.058094   \n206                              0.196858   \n207                             -0.112916   \n\n     HNAC_FEMALE_ratio_2018_2019_pct_change  \n0                                  0.023801  \n1                                 -0.088200  \n2                                  0.033049  \n3                                  0.122559  \n4                                 -0.083067  \n..                                      ...  \n203                               -0.166724  \n204                                0.001314  \n205                                0.251201  \n206                                0.397275  \n207                               -0.008553  \n\n[208 rows x 1125 columns]",
      "text/html": "<div>\n<style scoped>\n    .dataframe tbody tr th:only-of-type {\n        vertical-align: middle;\n    }\n\n    .dataframe tbody tr th {\n        vertical-align: top;\n    }\n\n    .dataframe thead th {\n        text-align: right;\n    }\n</style>\n<table border=\"1\" class=\"dataframe\">\n  <thead>\n    <tr style=\"text-align: right;\">\n      <th></th>\n      <th>AQI_2019</th>\n      <th>AQI_2017_2018_diff</th>\n      <th>Civilian_labor_force_2017_2018_diff</th>\n      <th>Employed_2017_2018_diff</th>\n      <th>Unemployed_2017_2018_diff</th>\n      <th>Unemployment_rate_2017_2018_diff</th>\n      <th>Poverty Estimate, All Ages_2017_2018_diff</th>\n      <th>90% CI LB All Ages_2017_2018_diff</th>\n      <th>90% CI UB All Ages_2017_2018_diff</th>\n      <th>Poverty Percent, All Ages_2017_2018_diff</th>\n      <th>...</th>\n      <th>HWAC_MALE_ratio_2018_2019_pct_change</th>\n      <th>HWAC_FEMALE_ratio_2018_2019_pct_change</th>\n      <th>HBAC_MALE_ratio_2018_2019_pct_change</th>\n      <th>HBAC_FEMALE_ratio_2018_2019_pct_change</th>\n      <th>HIAC_MALE_ratio_2018_2019_pct_change</th>\n      <th>HIAC_FEMALE_ratio_2018_2019_pct_change</th>\n      <th>HAAC_MALE_ratio_2018_2019_pct_change</th>\n      <th>HAAC_FEMALE_ratio_2018_2019_pct_change</th>\n      <th>HNAC_MALE_ratio_2018_2019_pct_change</th>\n      <th>HNAC_FEMALE_ratio_2018_2019_pct_change</th>\n    </tr>\n  </thead>\n  <tbody>\n    <tr>\n      <th>0</th>\n      <td>20.073389</td>\n      <td>1.008865</td>\n      <td>4312</td>\n      <td>6021</td>\n      <td>-1709</td>\n      <td>-0.6</td>\n      <td>-4148.0</td>\n      <td>-4526.0</td>\n      <td>-3770.0</td>\n      <td>-0.6</td>\n      <td>...</td>\n      <td>0.026476</td>\n      <td>0.031723</td>\n      <td>0.032864</td>\n      <td>0.040322</td>\n      <td>0.054139</td>\n      <td>0.074790</td>\n      <td>0.122425</td>\n      <td>-0.041309</td>\n      <td>0.055424</td>\n      <td>0.023801</td>\n    </tr>\n    <tr>\n      <th>1</th>\n      <td>12.958515</td>\n      <td>0.689292</td>\n      <td>5003</td>\n      <td>5641</td>\n      <td>-638</td>\n      <td>-0.5</td>\n      <td>-2312.0</td>\n      <td>-2147.0</td>\n      <td>-2477.0</td>\n      <td>-0.9</td>\n      <td>...</td>\n      <td>0.022018</td>\n      <td>0.030026</td>\n      <td>0.037618</td>\n      <td>0.016357</td>\n      <td>-0.005556</td>\n      <td>0.051458</td>\n      <td>-0.087266</td>\n      <td>0.243875</td>\n      <td>0.072299</td>\n      <td>-0.088200</td>\n    </tr>\n    <tr>\n      <th>2</th>\n      <td>13.125000</td>\n      <td>0.292164</td>\n      <td>-202</td>\n      <td>227</td>\n      <td>-429</td>\n      <td>-0.4</td>\n      <td>-2748.0</td>\n      <td>-2585.0</td>\n      <td>-2911.0</td>\n      <td>-1.2</td>\n      <td>...</td>\n      <td>0.025343</td>\n      <td>0.032246</td>\n      <td>-0.001476</td>\n      <td>0.063161</td>\n      <td>0.004428</td>\n      <td>-0.048117</td>\n      <td>-0.093386</td>\n      <td>0.020489</td>\n      <td>-0.010560</td>\n      <td>0.033049</td>\n    </tr>\n    <tr>\n      <th>3</th>\n      <td>11.247911</td>\n      <td>-1.114232</td>\n      <td>130</td>\n      <td>211</td>\n      <td>-81</td>\n      <td>-0.4</td>\n      <td>3009.0</td>\n      <td>3302.0</td>\n      <td>2716.0</td>\n      <td>4.2</td>\n      <td>...</td>\n      <td>0.042465</td>\n      <td>0.013679</td>\n      <td>0.095179</td>\n      <td>-0.115560</td>\n      <td>0.036155</td>\n      <td>-0.021558</td>\n      <td>-0.158081</td>\n      <td>0.130874</td>\n      <td>0.496745</td>\n      <td>0.122559</td>\n    </tr>\n    <tr>\n      <th>4</th>\n      <td>17.413408</td>\n      <td>-2.926909</td>\n      <td>155</td>\n      <td>159</td>\n      <td>-4</td>\n      <td>0.0</td>\n      <td>-946.0</td>\n      <td>-599.0</td>\n      <td>-1293.0</td>\n      <td>-1.0</td>\n      <td>...</td>\n      <td>0.008941</td>\n      <td>0.001484</td>\n      <td>-0.001274</td>\n      <td>-0.048402</td>\n      <td>0.019675</td>\n      <td>-0.012253</td>\n      <td>0.074008</td>\n      <td>-0.012205</td>\n      <td>0.018867</td>\n      <td>-0.083067</td>\n    </tr>\n    <tr>\n      <th>...</th>\n      <td>...</td>\n      <td>...</td>\n      <td>...</td>\n      <td>...</td>\n      <td>...</td>\n      <td>...</td>\n      <td>...</td>\n      <td>...</td>\n      <td>...</td>\n      <td>...</td>\n      <td>...</td>\n      <td>...</td>\n      <td>...</td>\n      <td>...</td>\n      <td>...</td>\n      <td>...</td>\n      <td>...</td>\n      <td>...</td>\n      <td>...</td>\n      <td>...</td>\n      <td>...</td>\n    </tr>\n    <tr>\n      <th>203</th>\n      <td>10.503937</td>\n      <td>1.567276</td>\n      <td>-466</td>\n      <td>-322</td>\n      <td>-144</td>\n      <td>-0.3</td>\n      <td>282.0</td>\n      <td>73.0</td>\n      <td>491.0</td>\n      <td>0.3</td>\n      <td>...</td>\n      <td>0.008593</td>\n      <td>0.038840</td>\n      <td>0.049928</td>\n      <td>0.096699</td>\n      <td>0.025571</td>\n      <td>-0.000068</td>\n      <td>0.352849</td>\n      <td>0.047547</td>\n      <td>0.142779</td>\n      <td>-0.166724</td>\n    </tr>\n    <tr>\n      <th>204</th>\n      <td>14.431990</td>\n      <td>1.676852</td>\n      <td>-6690</td>\n      <td>-4550</td>\n      <td>-2140</td>\n      <td>-0.4</td>\n      <td>-696.0</td>\n      <td>-987.0</td>\n      <td>-405.0</td>\n      <td>0.0</td>\n      <td>...</td>\n      <td>0.015727</td>\n      <td>0.015638</td>\n      <td>0.013946</td>\n      <td>0.019648</td>\n      <td>0.007658</td>\n      <td>0.006921</td>\n      <td>-0.001563</td>\n      <td>0.007946</td>\n      <td>0.016960</td>\n      <td>0.001314</td>\n    </tr>\n    <tr>\n      <th>205</th>\n      <td>15.656425</td>\n      <td>3.299519</td>\n      <td>-481</td>\n      <td>71</td>\n      <td>-552</td>\n      <td>-0.3</td>\n      <td>847.0</td>\n      <td>673.0</td>\n      <td>1021.0</td>\n      <td>0.2</td>\n      <td>...</td>\n      <td>0.020747</td>\n      <td>0.021930</td>\n      <td>0.045184</td>\n      <td>0.029480</td>\n      <td>0.100848</td>\n      <td>0.057137</td>\n      <td>0.117484</td>\n      <td>0.185540</td>\n      <td>0.058094</td>\n      <td>0.251201</td>\n    </tr>\n    <tr>\n      <th>206</th>\n      <td>13.354142</td>\n      <td>0.921309</td>\n      <td>-40</td>\n      <td>-75</td>\n      <td>35</td>\n      <td>0.1</td>\n      <td>-455.0</td>\n      <td>-555.0</td>\n      <td>-355.0</td>\n      <td>-0.6</td>\n      <td>...</td>\n      <td>0.006963</td>\n      <td>0.020251</td>\n      <td>-0.020994</td>\n      <td>0.047957</td>\n      <td>0.007984</td>\n      <td>-0.018559</td>\n      <td>-0.020887</td>\n      <td>0.018051</td>\n      <td>0.196858</td>\n      <td>0.397275</td>\n    </tr>\n    <tr>\n      <th>207</th>\n      <td>9.385135</td>\n      <td>-0.201293</td>\n      <td>-276</td>\n      <td>37</td>\n      <td>-313</td>\n      <td>-0.7</td>\n      <td>-954.0</td>\n      <td>-1000.0</td>\n      <td>-908.0</td>\n      <td>-1.2</td>\n      <td>...</td>\n      <td>0.026592</td>\n      <td>0.005264</td>\n      <td>0.165942</td>\n      <td>0.093508</td>\n      <td>-0.008553</td>\n      <td>0.023202</td>\n      <td>-0.008553</td>\n      <td>0.041860</td>\n      <td>-0.112916</td>\n      <td>-0.008553</td>\n    </tr>\n  </tbody>\n</table>\n<p>208 rows × 1125 columns</p>\n</div>"
     },
     "execution_count": 4,
     "metadata": {},
     "output_type": "execute_result"
    }
   ],
   "source": [
    "# Work with top correlated variables with our target\n",
    "# this reduces number of columns from 1000\n",
    "\n",
    "df = pd.merge(df_year_diff, df_year_pct_change)\n",
    "df"
   ],
   "metadata": {
    "collapsed": false,
    "pycharm": {
     "name": "#%%\n"
    }
   }
  },
  {
   "cell_type": "code",
   "execution_count": 5,
   "outputs": [],
   "source": [
    "\n",
    "X = df.drop('AQI_2019', axis=1)\n",
    "y = df['AQI_2019']\n"
   ],
   "metadata": {
    "collapsed": false,
    "pycharm": {
     "name": "#%%\n"
    }
   }
  },
  {
   "cell_type": "code",
   "execution_count": 6,
   "outputs": [
    {
     "data": {
      "text/plain": "(208, 1124)"
     },
     "execution_count": 6,
     "metadata": {},
     "output_type": "execute_result"
    }
   ],
   "source": [
    "# Try Univariate feature selection\n",
    "# Having top correlated features vs using all features yielded same result\n",
    "# when performing with univariate linear regression as score function\n",
    "\n",
    "from sklearn.feature_selection import SelectKBest, f_regression, mutual_info_regression\n",
    "\n",
    "X.shape"
   ],
   "metadata": {
    "collapsed": false,
    "pycharm": {
     "name": "#%%\n"
    }
   }
  },
  {
   "cell_type": "code",
   "execution_count": 7,
   "outputs": [
    {
     "data": {
      "text/plain": "Index(['HAA_MALE_ratio_2017_2019_diff', 'HAAC_MALE_ratio_2017_2019_diff',\n       'HIA_MALE_2018_2019_diff', 'HIA_FEMALE_2018_2019_diff',\n       'HAA_MALE_2018_2019_diff', 'HIAC_MALE_2018_2019_diff',\n       'HIAC_FEMALE_2018_2019_diff', 'HAAC_MALE_2018_2019_diff',\n       'HAA_MALE_ratio_2018_2019_diff', 'NH_FEMALE_ratio_2017_2018_pct_change',\n       'H_FEMALE_ratio_2017_2018_pct_change',\n       'HWA_FEMALE_ratio_2017_2018_pct_change',\n       'HWAC_FEMALE_ratio_2017_2018_pct_change',\n       'NH_MALE_ratio_2017_2019_pct_change',\n       'NH_FEMALE_ratio_2017_2019_pct_change',\n       'H_FEMALE_ratio_2017_2019_pct_change',\n       'Personal income (thousands of dollars) 2018_2019_pct_change',\n       'Per capita personal income (dollars) 2018_2019_pct_change',\n       'NH_MALE_ratio_2018_2019_pct_change',\n       'NH_FEMALE_ratio_2018_2019_pct_change'],\n      dtype='object')"
     },
     "execution_count": 7,
     "metadata": {},
     "output_type": "execute_result"
    }
   ],
   "source": [
    "# returns the 20 best features\n",
    "# X_new = SelectKBest(f_regression, k=20).fit_transform(X,y)\n",
    "# X_new.shape\n",
    "# X.columns[X_new.get_support()]\n",
    "# Use f_regression as score function\n",
    "\n",
    "selector = SelectKBest(f_regression, k=20)\n",
    "selector.fit(X,y)\n",
    "col_linear_reg = X.columns[selector.get_support()]\n",
    "X.columns[selector.get_support()]"
   ],
   "metadata": {
    "collapsed": false,
    "pycharm": {
     "name": "#%%\n"
    }
   }
  },
  {
   "cell_type": "code",
   "execution_count": 8,
   "outputs": [
    {
     "data": {
      "text/plain": "Index(['HBA_MALE_2017_2018_diff', 'HIAC_MALE_2017_2018_diff',\n       'HAAC_FEMALE_2017_2018_diff', 'HBAC_FEMALE_ratio_2017_2018_diff',\n       'HIAC_MALE_2017_2019_diff', '90% CI LB 5-17 percent_2018_2019_diff',\n       'AA_FEMALE_2018_2019_diff', 'NHTOM_MALE_2018_2019_diff',\n       'HBA_FEMALE_2017_2018_pct_change',\n       'HWAC_MALE_ratio_2017_2018_pct_change',\n       'HIAC_FEMALE_ratio_2017_2018_pct_change',\n       'NHWA_FEMALE_2017_2019_pct_change', 'NHWAC_FEMALE_2017_2019_pct_change',\n       'HIAC_FEMALE_2017_2019_pct_change',\n       'WA_FEMALE_ratio_2017_2019_pct_change',\n       'WAC_FEMALE_ratio_2017_2019_pct_change',\n       'HTOM_MALE_ratio_2017_2019_pct_change',\n       'HIAC_FEMALE_ratio_2017_2019_pct_change',\n       'NHWA_FEMALE_2018_2019_pct_change',\n       'NHWAC_FEMALE_2018_2019_pct_change'],\n      dtype='object')"
     },
     "execution_count": 8,
     "metadata": {},
     "output_type": "execute_result"
    }
   ],
   "source": [
    "# Perform univariate features selection with mutual info regression as score function\n",
    "selector = SelectKBest(mutual_info_regression, k=20)\n",
    "selector.fit(X,y)\n",
    "col_mutual_info = X.columns[selector.get_support()]\n",
    "X.columns[selector.get_support()]"
   ],
   "metadata": {
    "collapsed": false,
    "pycharm": {
     "name": "#%%\n"
    }
   }
  },
  {
   "cell_type": "code",
   "execution_count": 9,
   "outputs": [
    {
     "data": {
      "text/plain": "{'90% CI LB 5-17 percent_2018_2019_diff',\n 'AA_FEMALE_2018_2019_diff',\n 'HAAC_FEMALE_2017_2018_diff',\n 'HBAC_FEMALE_ratio_2017_2018_diff',\n 'HBA_FEMALE_2017_2018_pct_change',\n 'HBA_MALE_2017_2018_diff',\n 'HIAC_FEMALE_2017_2019_pct_change',\n 'HIAC_FEMALE_ratio_2017_2018_pct_change',\n 'HIAC_FEMALE_ratio_2017_2019_pct_change',\n 'HIAC_MALE_2017_2018_diff',\n 'HIAC_MALE_2017_2019_diff',\n 'HTOM_MALE_ratio_2017_2019_pct_change',\n 'HWAC_MALE_ratio_2017_2018_pct_change',\n 'NHTOM_MALE_2018_2019_diff',\n 'NHWAC_FEMALE_2017_2019_pct_change',\n 'NHWAC_FEMALE_2018_2019_pct_change',\n 'NHWA_FEMALE_2017_2019_pct_change',\n 'NHWA_FEMALE_2018_2019_pct_change',\n 'WAC_FEMALE_ratio_2017_2019_pct_change',\n 'WA_FEMALE_ratio_2017_2019_pct_change'}"
     },
     "metadata": {},
     "output_type": "display_data"
    },
    {
     "data": {
      "text/plain": "{'HAAC_MALE_2018_2019_diff',\n 'HAAC_MALE_ratio_2017_2019_diff',\n 'HAA_MALE_2018_2019_diff',\n 'HAA_MALE_ratio_2017_2019_diff',\n 'HAA_MALE_ratio_2018_2019_diff',\n 'HIAC_FEMALE_2018_2019_diff',\n 'HIAC_MALE_2018_2019_diff',\n 'HIA_FEMALE_2018_2019_diff',\n 'HIA_MALE_2018_2019_diff',\n 'HWAC_FEMALE_ratio_2017_2018_pct_change',\n 'HWA_FEMALE_ratio_2017_2018_pct_change',\n 'H_FEMALE_ratio_2017_2018_pct_change',\n 'H_FEMALE_ratio_2017_2019_pct_change',\n 'NH_FEMALE_ratio_2017_2018_pct_change',\n 'NH_FEMALE_ratio_2017_2019_pct_change',\n 'NH_FEMALE_ratio_2018_2019_pct_change',\n 'NH_MALE_ratio_2017_2019_pct_change',\n 'NH_MALE_ratio_2018_2019_pct_change',\n 'Per capita personal income (dollars) 2018_2019_pct_change',\n 'Personal income (thousands of dollars) 2018_2019_pct_change'}"
     },
     "metadata": {},
     "output_type": "display_data"
    }
   ],
   "source": [
    "display(set(col_mutual_info) - set(col_linear_reg))\n",
    "display(set(col_linear_reg) - set(col_mutual_info))\n",
    "# col_mutual_info"
   ],
   "metadata": {
    "collapsed": false,
    "pycharm": {
     "name": "#%%\n"
    }
   }
  },
  {
   "cell_type": "code",
   "execution_count": 10,
   "outputs": [
    {
     "data": {
      "text/plain": "RFE(estimator=LinearRegression(), n_features_to_select=20)"
     },
     "execution_count": 10,
     "metadata": {},
     "output_type": "execute_result"
    }
   ],
   "source": [
    "# Use Recursive Feature elimination\n",
    "from sklearn.feature_selection import RFE\n",
    "from sklearn.linear_model import LinearRegression\n",
    "\n",
    "lr = LinearRegression()\n",
    "rfe = RFE(estimator=lr, n_features_to_select=20, step=1)\n",
    "rfe.fit(X,y)"
   ],
   "metadata": {
    "collapsed": false,
    "pycharm": {
     "name": "#%%\n"
    }
   }
  },
  {
   "cell_type": "code",
   "execution_count": 11,
   "outputs": [
    {
     "data": {
      "text/plain": "Index(['TOT_MALE_ratio_2017_2018_diff', 'TOT_FEMALE_ratio_2017_2018_diff',\n       'AAC_FEMALE_2017_2018_pct_change', 'NH_FEMALE_2017_2018_pct_change',\n       'NHTOM_MALE_2017_2018_pct_change', 'H_MALE_2017_2018_pct_change',\n       'AAC_FEMALE_ratio_2017_2018_pct_change',\n       'NH_FEMALE_ratio_2017_2018_pct_change',\n       'NHTOM_MALE_ratio_2017_2018_pct_change',\n       'H_MALE_ratio_2017_2018_pct_change', 'WA_FEMALE_2017_2019_pct_change',\n       'NHWAC_MALE_2017_2019_pct_change',\n       'WA_FEMALE_ratio_2017_2019_pct_change',\n       'NHWAC_MALE_ratio_2017_2019_pct_change',\n       'AA_FEMALE_2018_2019_pct_change', 'NHWA_FEMALE_2018_2019_pct_change',\n       'NHAAC_MALE_2018_2019_pct_change',\n       'AA_FEMALE_ratio_2018_2019_pct_change',\n       'NHWA_FEMALE_ratio_2018_2019_pct_change',\n       'NHAAC_MALE_ratio_2018_2019_pct_change'],\n      dtype='object')"
     },
     "execution_count": 11,
     "metadata": {},
     "output_type": "execute_result"
    }
   ],
   "source": [
    "col_recursion = X.columns[rfe.get_support()]\n",
    "col_recursion"
   ],
   "metadata": {
    "collapsed": false,
    "pycharm": {
     "name": "#%%\n"
    }
   }
  },
  {
   "cell_type": "code",
   "execution_count": 12,
   "outputs": [
    {
     "name": "stdout",
     "output_type": "stream",
     "text": [
      "linear regression\n",
      "mutual regression\n",
      "recursion feature elemination\n"
     ]
    },
    {
     "data": {
      "text/plain": "HAA_MALE_ratio_2017_2019_diff                                  0.349482\nHAAC_MALE_ratio_2017_2019_diff                                 0.360129\nHIA_MALE_2018_2019_diff                                        0.306801\nHIA_FEMALE_2018_2019_diff                                      0.317993\nHAA_MALE_2018_2019_diff                                        0.326487\nHIAC_MALE_2018_2019_diff                                       0.304698\nHIAC_FEMALE_2018_2019_diff                                     0.308301\nHAAC_MALE_2018_2019_diff                                       0.301281\nHAA_MALE_ratio_2018_2019_diff                                  0.405938\nNH_FEMALE_ratio_2017_2018_pct_change                          -0.362980\nH_FEMALE_ratio_2017_2018_pct_change                           -0.326595\nHWA_FEMALE_ratio_2017_2018_pct_change                         -0.302902\nHWAC_FEMALE_ratio_2017_2018_pct_change                        -0.313699\nNH_MALE_ratio_2017_2019_pct_change                            -0.310174\nNH_FEMALE_ratio_2017_2019_pct_change                          -0.367160\nH_FEMALE_ratio_2017_2019_pct_change                           -0.305847\nPersonal income (thousands of dollars) 2018_2019_pct_change    0.393820\nPer capita personal income (dollars) 2018_2019_pct_change      0.333996\nNH_MALE_ratio_2018_2019_pct_change                            -0.344387\nNH_FEMALE_ratio_2018_2019_pct_change                          -0.353626\ndtype: float64"
     },
     "metadata": {},
     "output_type": "display_data"
    },
    {
     "data": {
      "text/plain": "HBA_MALE_2017_2018_diff                   0.021845\nHIAC_MALE_2017_2018_diff                  0.260613\nHAAC_FEMALE_2017_2018_diff                0.219866\nHBAC_FEMALE_ratio_2017_2018_diff         -0.192010\nHIAC_MALE_2017_2019_diff                  0.289161\n90% CI LB 5-17 percent_2018_2019_diff    -0.127121\nAA_FEMALE_2018_2019_diff                  0.158503\nNHTOM_MALE_2018_2019_diff                 0.196788\nHBA_FEMALE_2017_2018_pct_change          -0.131239\nHWAC_MALE_ratio_2017_2018_pct_change     -0.267418\nHIAC_FEMALE_ratio_2017_2018_pct_change   -0.144256\nNHWA_FEMALE_2017_2019_pct_change         -0.053969\nNHWAC_FEMALE_2017_2019_pct_change        -0.042125\nHIAC_FEMALE_2017_2019_pct_change         -0.090425\nWA_FEMALE_ratio_2017_2019_pct_change      0.032084\nWAC_FEMALE_ratio_2017_2019_pct_change     0.005344\nHTOM_MALE_ratio_2017_2019_pct_change     -0.153596\nHIAC_FEMALE_ratio_2017_2019_pct_change   -0.131568\nNHWA_FEMALE_2018_2019_pct_change         -0.057692\nNHWAC_FEMALE_2018_2019_pct_change        -0.040799\ndtype: float64"
     },
     "metadata": {},
     "output_type": "display_data"
    },
    {
     "data": {
      "text/plain": "TOT_MALE_ratio_2017_2018_diff             0.224817\nTOT_FEMALE_ratio_2017_2018_diff          -0.224817\nAAC_FEMALE_2017_2018_pct_change          -0.011042\nNH_FEMALE_2017_2018_pct_change           -0.019967\nNHTOM_MALE_2017_2018_pct_change           0.009076\nH_MALE_2017_2018_pct_change              -0.177533\nAAC_FEMALE_ratio_2017_2018_pct_change    -0.117910\nNH_FEMALE_ratio_2017_2018_pct_change     -0.362980\nNHTOM_MALE_ratio_2017_2018_pct_change    -0.096640\nH_MALE_ratio_2017_2018_pct_change        -0.269960\nWA_FEMALE_2017_2019_pct_change            0.157120\nNHWAC_MALE_2017_2019_pct_change          -0.013271\nWA_FEMALE_ratio_2017_2019_pct_change      0.032084\nNHWAC_MALE_ratio_2017_2019_pct_change    -0.247025\nAA_FEMALE_2018_2019_pct_change           -0.016159\nNHWA_FEMALE_2018_2019_pct_change         -0.057692\nNHAAC_MALE_2018_2019_pct_change          -0.092975\nAA_FEMALE_ratio_2018_2019_pct_change     -0.075225\nNHWA_FEMALE_ratio_2018_2019_pct_change   -0.266054\nNHAAC_MALE_ratio_2018_2019_pct_change    -0.156887\ndtype: float64"
     },
     "metadata": {},
     "output_type": "display_data"
    }
   ],
   "source": [
    "print('linear regression')\n",
    "display(X[col_linear_reg].corrwith(y))\n",
    "print('mutual regression')\n",
    "display(X[col_mutual_info].corrwith(y))\n",
    "print('recursion feature elemination')\n",
    "display(X[col_recursion].corrwith(y))\n"
   ],
   "metadata": {
    "collapsed": false,
    "pycharm": {
     "name": "#%%\n"
    }
   }
  },
  {
   "cell_type": "markdown",
   "source": [
    "From using sklearn feature selection tools was suprised to see that the tools\n",
    "chosen columns that did not contain very high correlation scores with the target"
   ],
   "metadata": {
    "collapsed": false,
    "pycharm": {
     "name": "#%% md\n"
    }
   }
  }
 ],
 "metadata": {
  "kernelspec": {
   "name": "pycharm-301d774e",
   "language": "python",
   "display_name": "PyCharm (API_Mini_Project)"
  },
  "language_info": {
   "codemirror_mode": {
    "name": "ipython",
    "version": 2
   },
   "file_extension": ".py",
   "mimetype": "text/x-python",
   "name": "python",
   "nbconvert_exporter": "python",
   "pygments_lexer": "ipython2",
   "version": "2.7.6"
  }
 },
 "nbformat": 4,
 "nbformat_minor": 0
}