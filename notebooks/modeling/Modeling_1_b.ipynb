{
 "cells": [
  {
   "cell_type": "markdown",
   "source": [
    "# Modeling\n",
    "### goals\n",
    "* get feature importances from grid search rather than random forest"
   ],
   "metadata": {
    "collapsed": false
   }
  },
  {
   "cell_type": "markdown",
   "source": [
    "## Import packages"
   ],
   "metadata": {
    "collapsed": false
   }
  },
  {
   "cell_type": "code",
   "execution_count": 6,
   "outputs": [],
   "source": [
    "import joblib\n",
    "import numpy as np\n",
    "import pandas as pd\n",
    "import seaborn as sns\n",
    "import matplotlib.pyplot as plt\n",
    "from IPython.core.display import display\n",
    "from scipy import stats\n",
    "from sklearn.decomposition import PCA\n",
    "from sklearn.dummy import DummyRegressor\n",
    "from sklearn.ensemble import RandomForestRegressor\n",
    "from sklearn.feature_selection import SelectKBest, f_regression\n",
    "from sklearn.model_selection import train_test_split, GridSearchCV, RandomizedSearchCV, cross_validate\n",
    "from sklearn.svm import SVR\n",
    "from sklearn.linear_model import LinearRegression, Lasso, Ridge, ElasticNet\n",
    "from sklearn import preprocessing, svm\n",
    "from sklearn.metrics import r2_score, accuracy_score, mean_absolute_error\n",
    "\n",
    "#Use to ignore convergence warnings\n",
    "import warnings\n",
    "from sklearn.exceptions import DataConversionWarning\n",
    "from sklearn.exceptions import ConvergenceWarning\n",
    "from sklearn.exceptions import FitFailedWarning\n",
    "from sklearn.pipeline import Pipeline, make_pipeline\n",
    "from sklearn.preprocessing import StandardScaler\n",
    "from sklearn import __version__ as sklearn_version\n",
    "import datetime\n",
    "\n",
    "import joblib\n",
    "\n",
    "warnings.filterwarnings(action='ignore', category=DataConversionWarning)\n",
    "warnings.filterwarnings(action='ignore', category=ConvergenceWarning)\n",
    "warnings.filterwarnings(action='ignore', category=FitFailedWarning)\n",
    "\n",
    "\n",
    "# pd.set_option('display.max_columns', None)\n",
    "# pd.reset_option('max_rows')\n",
    "# np.set_printoptions(threshold=sys.maxsize)\n",
    "\n",
    "plt.style.use('dark_background')\n",
    "plt.rcParams.update({\"grid.linewidth\":0.5, \"grid.alpha\":0.5})\n",
    "sns.set(style='ticks', context='talk')"
   ],
   "metadata": {
    "collapsed": false,
    "pycharm": {
     "name": "#%%\n"
    }
   }
  },
  {
   "cell_type": "markdown",
   "source": [
    "## Load X and y data sets"
   ],
   "metadata": {
    "collapsed": false
   }
  },
  {
   "cell_type": "code",
   "execution_count": 7,
   "outputs": [],
   "source": [
    "# import X and y training and test sets\n",
    "\n",
    "X = pd.read_csv('../../data/train_test/X_alt')\n",
    "y = pd.read_csv('../../data/train_test/y_alt')\n",
    "\n",
    "X_train = pd.read_csv('../../data/train_test/X_train_74_26')\n",
    "\n",
    "X_test = pd.read_csv('../../data/train_test/X_test_74_26')\n",
    "\n",
    "y_train = pd.read_csv('../../data/train_test/y_train_alt_74_26')\n",
    "\n",
    "y_test = pd.read_csv('../../data/train_test/y_test_alt+74_26')"
   ],
   "metadata": {
    "collapsed": false,
    "pycharm": {
     "name": "#%%\n"
    }
   }
  },
  {
   "cell_type": "code",
   "execution_count": 8,
   "outputs": [],
   "source": [
    "X_train, X_test, y_train, y_test = train_test_split(X, y, test_size=0.26, random_state=42)"
   ],
   "metadata": {
    "collapsed": false,
    "pycharm": {
     "name": "#%%\n"
    }
   }
  },
  {
   "cell_type": "code",
   "execution_count": 9,
   "outputs": [],
   "source": [
    "rf_pipe = Pipeline([('scaler', StandardScaler()),\n",
    "                    ('rf', RandomForestRegressor(random_state=42))])"
   ],
   "metadata": {
    "collapsed": false,
    "pycharm": {
     "name": "#%%\n"
    }
   }
  },
  {
   "cell_type": "code",
   "execution_count": 10,
   "outputs": [
    {
     "data": {
      "text/plain": "{'memory': None,\n 'steps': [('scaler', StandardScaler()),\n  ('rf', RandomForestRegressor(random_state=42))],\n 'verbose': False,\n 'scaler': StandardScaler(),\n 'rf': RandomForestRegressor(random_state=42),\n 'scaler__copy': True,\n 'scaler__with_mean': True,\n 'scaler__with_std': True,\n 'rf__bootstrap': True,\n 'rf__ccp_alpha': 0.0,\n 'rf__criterion': 'mse',\n 'rf__max_depth': None,\n 'rf__max_features': 'auto',\n 'rf__max_leaf_nodes': None,\n 'rf__max_samples': None,\n 'rf__min_impurity_decrease': 0.0,\n 'rf__min_impurity_split': None,\n 'rf__min_samples_leaf': 1,\n 'rf__min_samples_split': 2,\n 'rf__min_weight_fraction_leaf': 0.0,\n 'rf__n_estimators': 100,\n 'rf__n_jobs': None,\n 'rf__oob_score': False,\n 'rf__random_state': 42,\n 'rf__verbose': 0,\n 'rf__warm_start': False}"
     },
     "execution_count": 10,
     "metadata": {},
     "output_type": "execute_result"
    }
   ],
   "source": [
    "rf_pipe.get_params()"
   ],
   "metadata": {
    "collapsed": false,
    "pycharm": {
     "name": "#%%\n"
    }
   }
  },
  {
   "cell_type": "code",
   "execution_count": 11,
   "outputs": [],
   "source": [
    "n_est = np.arange(50, 200)\n",
    "rf_param_grid = {\n",
    "    'rf__n_estimators':n_est,\n",
    "    'scaler':[None],\n",
    "    'rf__max_features':['auto', 'sqrt', 'log2'],\n",
    "    'rf__criterion':['mae']\n",
    "}\n",
    "\n"
   ],
   "metadata": {
    "collapsed": false,
    "pycharm": {
     "name": "#%%\n"
    }
   }
  },
  {
   "cell_type": "code",
   "execution_count": 13,
   "outputs": [
    {
     "data": {
      "text/plain": "GridSearchCV(cv=5,\n             estimator=Pipeline(steps=[('scaler', StandardScaler()),\n                                       ('rf',\n                                        RandomForestRegressor(random_state=42))]),\n             n_jobs=-1,\n             param_grid={'rf__criterion': ['mae'],\n                         'rf__max_features': ['auto', 'sqrt', 'log2'],\n                         'rf__n_estimators': array([ 50,  51,  52,  53,  54,  55,  56,  57,  58,  59,  60,  61,  62,\n        63,  64,  65,  66,  67,  68,  69,  70,  71,  72,  73,  74,  75,\n        76,  77,  78,  79,  80,  81,  82,  83,  84,  85,  86,  87,  88...\n       115, 116, 117, 118, 119, 120, 121, 122, 123, 124, 125, 126, 127,\n       128, 129, 130, 131, 132, 133, 134, 135, 136, 137, 138, 139, 140,\n       141, 142, 143, 144, 145, 146, 147, 148, 149, 150, 151, 152, 153,\n       154, 155, 156, 157, 158, 159, 160, 161, 162, 163, 164, 165, 166,\n       167, 168, 169, 170, 171, 172, 173, 174, 175, 176, 177, 178, 179,\n       180, 181, 182, 183, 184, 185, 186, 187, 188, 189, 190, 191, 192,\n       193, 194, 195, 196, 197, 198, 199]),\n                         'scaler': [None]})"
     },
     "execution_count": 13,
     "metadata": {},
     "output_type": "execute_result"
    }
   ],
   "source": [
    "rf_grid = GridSearchCV(rf_pipe, param_grid=rf_param_grid, cv=5, n_jobs=-1)\n",
    "rf_grid.fit(X_train, y_train)"
   ],
   "metadata": {
    "collapsed": false,
    "pycharm": {
     "name": "#%%\n"
    }
   }
  },
  {
   "cell_type": "code",
   "execution_count": 14,
   "outputs": [
    {
     "data": {
      "text/plain": "{'rf__criterion': 'mae',\n 'rf__max_features': 'auto',\n 'rf__n_estimators': 81,\n 'scaler': None}"
     },
     "execution_count": 14,
     "metadata": {},
     "output_type": "execute_result"
    }
   ],
   "source": [
    "rf_grid.best_params_\n"
   ],
   "metadata": {
    "collapsed": false,
    "pycharm": {
     "name": "#%%\n"
    }
   }
  }
 ],
 "metadata": {
  "kernelspec": {
   "name": "pycharm-301d774e",
   "language": "python",
   "display_name": "PyCharm (API_Mini_Project)"
  },
  "language_info": {
   "codemirror_mode": {
    "name": "ipython",
    "version": 2
   },
   "file_extension": ".py",
   "mimetype": "text/x-python",
   "name": "python",
   "nbconvert_exporter": "python",
   "pygments_lexer": "ipython2",
   "version": "2.7.6"
  }
 },
 "nbformat": 4,
 "nbformat_minor": 0
}