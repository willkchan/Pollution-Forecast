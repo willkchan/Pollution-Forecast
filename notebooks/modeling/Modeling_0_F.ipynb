{
 "cells": [
  {
   "cell_type": "markdown",
   "source": [
    "# Modeling with diffrent train test splits\n",
    "Replication of Modeling_0_B notebook with changes in train test split.\n",
    "Done with to see whether train_test splits influence variation in cross fold scores.\n",
    "And whether influence test and train score; and reduce the difference between the two\n",
    "\n",
    "### goals\n",
    "* develop a model that effectively predicts 2019 AQI pollution levels\n",
    "* fit model with training dataset\n",
    "* try grid search (b/c we have a small dataset (maybe experiemnt with random grid))\n"
   ],
   "metadata": {
    "collapsed": false
   }
  },
  {
   "cell_type": "code",
   "execution_count": 282,
   "outputs": [],
   "source": [
    "import numpy as np\n",
    "import pandas as pd\n",
    "import seaborn as sns\n",
    "import matplotlib.pyplot as plt\n",
    "from IPython.core.display import display\n",
    "from scipy import stats\n",
    "from sklearn.decomposition import PCA\n",
    "from sklearn.dummy import DummyRegressor\n",
    "from sklearn.ensemble import RandomForestRegressor\n",
    "from sklearn.feature_selection import SelectKBest, f_regression\n",
    "from sklearn.model_selection import train_test_split, GridSearchCV, RandomizedSearchCV, cross_val_score\n",
    "from sklearn.linear_model import LinearRegression, Lasso, Ridge, ElasticNet\n",
    "from sklearn import preprocessing, svm\n",
    "from sklearn.metrics import r2_score, accuracy_score\n",
    "\n",
    "#Use to ignore convergence warnings\n",
    "import warnings\n",
    "from sklearn.exceptions import DataConversionWarning\n",
    "from sklearn.exceptions import ConvergenceWarning\n",
    "from sklearn.exceptions import FitFailedWarning\n",
    "from sklearn.pipeline import Pipeline\n",
    "from sklearn.preprocessing import StandardScaler\n",
    "\n",
    "warnings.filterwarnings(action='ignore', category=DataConversionWarning)\n",
    "warnings.filterwarnings(action='ignore', category=ConvergenceWarning)\n",
    "warnings.filterwarnings(action='ignore', category=FitFailedWarning)\n",
    "\n",
    "\n",
    "# pd.set_option('display.max_columns', None)\n",
    "# pd.reset_option('max_rows')\n",
    "# np.set_printoptions(threshold=sys.maxsize)\n",
    "\n",
    "plt.style.use('dark_background')\n",
    "plt.rcParams.update({\"grid.linewidth\":0.5, \"grid.alpha\":0.5})\n",
    "sns.set(style='ticks', context='talk')"
   ],
   "metadata": {
    "collapsed": false,
    "pycharm": {
     "name": "#%%\n"
    }
   }
  },
  {
   "cell_type": "code",
   "execution_count": 283,
   "outputs": [],
   "source": [
    "# import X and y training and test sets\n",
    "\n",
    "X = pd.read_csv('../../data/train_test/X_alt')\n",
    "\n",
    "X_train = pd.read_csv('../../data/train_test/X_train_scaled_alt')\n",
    "\n",
    "X_test = pd.read_csv('../../data/train_test/X_test_scaled_alt')\n",
    "\n",
    "y = pd.read_csv('../../data/train_test/y_alt')\n",
    "\n",
    "y_train = pd.read_csv('../../data/train_test/y_train_alt')\n",
    "\n",
    "y_test = pd.read_csv('../../data/train_test/y_test_alt')\n"
   ],
   "metadata": {
    "collapsed": false,
    "pycharm": {
     "name": "#%%\n"
    }
   }
  },
  {
   "cell_type": "markdown",
   "source": [
    "# Form a baseline for comparison\n"
   ],
   "metadata": {
    "collapsed": false
   }
  },
  {
   "cell_type": "code",
   "execution_count": 284,
   "outputs": [],
   "source": [
    "X_train, X_test, y_train, y_test = train_test_split(X, y, test_size=.26, random_state=42)\n",
    "#"
   ],
   "metadata": {
    "collapsed": false,
    "pycharm": {
     "name": "#%%\n"
    }
   }
  },
  {
   "cell_type": "code",
   "execution_count": 285,
   "outputs": [],
   "source": [
    "# # because we negative observation we cannot perform logarithmic scale and will instead perform standardization\n",
    "scaler = preprocessing.StandardScaler().fit(X_train)\n",
    "\n",
    "X_train_scaled = scaler.transform(X_train)"
   ],
   "metadata": {
    "collapsed": false,
    "pycharm": {
     "name": "#%%\n"
    }
   }
  },
  {
   "cell_type": "code",
   "execution_count": 286,
   "outputs": [],
   "source": [
    "# scale test data using the scaler fitted from the training set\n",
    "\n",
    "X_test_scaled = scaler.transform(X_test)"
   ],
   "metadata": {
    "collapsed": false,
    "pycharm": {
     "name": "#%%\n"
    }
   }
  },
  {
   "cell_type": "code",
   "execution_count": 287,
   "outputs": [
    {
     "data": {
      "text/plain": "     AQI_2017_2018_diff  Civilian_labor_force_2017_2018_diff  \\\n93             0.041247                            -0.360395   \n181            0.127410                             0.158828   \n158           -0.133746                            -0.499969   \n5             -0.046201                             9.203349   \n132            0.162776                            -1.017811   \n..                  ...                                  ...   \n106           -0.486861                             0.963858   \n14             0.378389                            -0.027353   \n92            -1.343441                            -0.373461   \n179            1.217600                            -0.266802   \n102           -0.549336                             0.207698   \n\n     Employed_2017_2018_diff  Unemployed_2017_2018_diff  \\\n93                 -0.505481                   0.402096   \n181                 0.017878                   0.370958   \n158                -0.564168                   0.191089   \n5                   8.767154                   0.811192   \n132                -0.741469                  -0.699978   \n..                       ...                        ...   \n106                 0.904383                   0.121857   \n14                  0.190103                  -0.580727   \n92                 -0.533339                   0.442178   \n179                -0.449146                   0.498159   \n102                 0.100091                   0.279864   \n\n     Unemployment_rate_2017_2018_diff  \\\n93                           0.165609   \n181                          0.761803   \n158                         -1.622971   \n5                            1.059899   \n132                         -0.132487   \n..                                ...   \n106                          0.463706   \n14                          -0.430584   \n92                           0.463706   \n179                          0.761803   \n102                          0.463706   \n\n     Poverty Estimate, All Ages_2017_2018_diff  \\\n93                                    0.161656   \n181                                  -0.054578   \n158                                   0.562055   \n5                                    -3.018258   \n132                                  -1.639869   \n..                                         ...   \n106                                  -0.748030   \n14                                   -1.177870   \n92                                    0.505166   \n179                                   0.235666   \n102                                   0.617586   \n\n     90% CI LB All Ages_2017_2018_diff  90% CI UB All Ages_2017_2018_diff  \\\n93                            0.189973                           0.131138   \n181                          -0.097440                          -0.009706   \n158                           0.606780                           0.511722   \n5                            -2.912993                          -3.106537   \n132                          -1.450845                          -1.824677   \n..                                 ...                                ...   \n106                          -0.793773                          -0.695346   \n14                           -1.028897                          -1.324316   \n92                            0.487844                           0.519633   \n179                           0.234286                           0.235461   \n102                           0.594639                           0.637111   \n\n     Poverty Percent, All Ages_2017_2018_diff  \\\n93                                   0.139731   \n181                                 -0.359108   \n158                                  1.707510   \n5                                   -0.715422   \n132                                 -0.287845   \n..                                        ...   \n106                                 -0.857947   \n14                                  -0.786684   \n92                                   1.707510   \n179                                  0.424782   \n102                                  0.781095   \n\n     90% CI LB percent_2017_2018_diff  ...  HWAC_MALE_ratio_2018  \\\n93                           0.265833  ...              0.622268   \n181                         -0.407552  ...             -0.776256   \n158                          1.814617  ...             -0.919701   \n5                           -0.676905  ...              0.657761   \n132                         -0.272875  ...              1.059462   \n..                                ...  ...                   ...   \n106                         -0.878921  ...             -0.418179   \n14                          -0.676905  ...              0.341001   \n92                           1.545263  ...             -0.364008   \n179                          0.400510  ...             -0.798435   \n102                          0.737202  ...             -0.590495   \n\n     HWAC_FEMALE_ratio_2018  HBAC_MALE_ratio_2018  HBAC_FEMALE_ratio_2018  \\\n93                 0.482024              0.250466                0.176620   \n181               -0.757272             -0.541163               -0.507081   \n158               -0.883861             -0.568475               -0.534282   \n5                  0.657361             -0.030127               -0.040108   \n132                1.291909              9.594300                9.899510   \n..                      ...                   ...                     ...   \n106               -0.390692              0.332787                0.255629   \n14                 0.349597              0.035237                0.036345   \n92                -0.351413             -0.041882                0.061725   \n179               -0.768814             -0.595132               -0.554171   \n102               -0.594753             -0.125033               -0.120733   \n\n     HIAC_MALE_ratio_2018  HIAC_FEMALE_ratio_2018  HAAC_MALE_ratio_2018  \\\n93               0.445016                0.304344             -0.173081   \n181             -0.878638               -0.873588             -0.712099   \n158             -1.009983               -1.010890             -0.809347   \n5                0.574070                0.591544              0.540617   \n132              2.648222                3.177675              1.037281   \n..                    ...                     ...                   ...   \n106             -0.679264               -0.672939             -0.540722   \n14               0.299803                0.305418              2.324619   \n92              -0.087646               -0.076868             -0.442074   \n179              0.963375                0.831604             -0.577996   \n102             -0.701797               -0.726545             -0.357813   \n\n     HAAC_FEMALE_ratio_2018  HNAC_MALE_ratio_2018  HNAC_FEMALE_ratio_2018  \n93                -0.141878              0.163032                0.115658  \n181               -0.685977             -0.570077               -0.593322  \n158               -0.846821             -1.038934               -1.094741  \n5                  0.566915              0.445491                0.439417  \n132                1.114281              4.063447                4.716380  \n..                      ...                   ...                     ...  \n106               -0.535488             -0.553495               -0.530532  \n14                 2.318418              1.658992                1.537621  \n92                -0.388541             -0.583318               -0.565051  \n179               -0.643177             -0.644794               -0.684184  \n102               -0.405089             -0.518218               -0.509295  \n\n[153 rows x 1311 columns]",
      "text/html": "<div>\n<style scoped>\n    .dataframe tbody tr th:only-of-type {\n        vertical-align: middle;\n    }\n\n    .dataframe tbody tr th {\n        vertical-align: top;\n    }\n\n    .dataframe thead th {\n        text-align: right;\n    }\n</style>\n<table border=\"1\" class=\"dataframe\">\n  <thead>\n    <tr style=\"text-align: right;\">\n      <th></th>\n      <th>AQI_2017_2018_diff</th>\n      <th>Civilian_labor_force_2017_2018_diff</th>\n      <th>Employed_2017_2018_diff</th>\n      <th>Unemployed_2017_2018_diff</th>\n      <th>Unemployment_rate_2017_2018_diff</th>\n      <th>Poverty Estimate, All Ages_2017_2018_diff</th>\n      <th>90% CI LB All Ages_2017_2018_diff</th>\n      <th>90% CI UB All Ages_2017_2018_diff</th>\n      <th>Poverty Percent, All Ages_2017_2018_diff</th>\n      <th>90% CI LB percent_2017_2018_diff</th>\n      <th>...</th>\n      <th>HWAC_MALE_ratio_2018</th>\n      <th>HWAC_FEMALE_ratio_2018</th>\n      <th>HBAC_MALE_ratio_2018</th>\n      <th>HBAC_FEMALE_ratio_2018</th>\n      <th>HIAC_MALE_ratio_2018</th>\n      <th>HIAC_FEMALE_ratio_2018</th>\n      <th>HAAC_MALE_ratio_2018</th>\n      <th>HAAC_FEMALE_ratio_2018</th>\n      <th>HNAC_MALE_ratio_2018</th>\n      <th>HNAC_FEMALE_ratio_2018</th>\n    </tr>\n  </thead>\n  <tbody>\n    <tr>\n      <th>93</th>\n      <td>0.041247</td>\n      <td>-0.360395</td>\n      <td>-0.505481</td>\n      <td>0.402096</td>\n      <td>0.165609</td>\n      <td>0.161656</td>\n      <td>0.189973</td>\n      <td>0.131138</td>\n      <td>0.139731</td>\n      <td>0.265833</td>\n      <td>...</td>\n      <td>0.622268</td>\n      <td>0.482024</td>\n      <td>0.250466</td>\n      <td>0.176620</td>\n      <td>0.445016</td>\n      <td>0.304344</td>\n      <td>-0.173081</td>\n      <td>-0.141878</td>\n      <td>0.163032</td>\n      <td>0.115658</td>\n    </tr>\n    <tr>\n      <th>181</th>\n      <td>0.127410</td>\n      <td>0.158828</td>\n      <td>0.017878</td>\n      <td>0.370958</td>\n      <td>0.761803</td>\n      <td>-0.054578</td>\n      <td>-0.097440</td>\n      <td>-0.009706</td>\n      <td>-0.359108</td>\n      <td>-0.407552</td>\n      <td>...</td>\n      <td>-0.776256</td>\n      <td>-0.757272</td>\n      <td>-0.541163</td>\n      <td>-0.507081</td>\n      <td>-0.878638</td>\n      <td>-0.873588</td>\n      <td>-0.712099</td>\n      <td>-0.685977</td>\n      <td>-0.570077</td>\n      <td>-0.593322</td>\n    </tr>\n    <tr>\n      <th>158</th>\n      <td>-0.133746</td>\n      <td>-0.499969</td>\n      <td>-0.564168</td>\n      <td>0.191089</td>\n      <td>-1.622971</td>\n      <td>0.562055</td>\n      <td>0.606780</td>\n      <td>0.511722</td>\n      <td>1.707510</td>\n      <td>1.814617</td>\n      <td>...</td>\n      <td>-0.919701</td>\n      <td>-0.883861</td>\n      <td>-0.568475</td>\n      <td>-0.534282</td>\n      <td>-1.009983</td>\n      <td>-1.010890</td>\n      <td>-0.809347</td>\n      <td>-0.846821</td>\n      <td>-1.038934</td>\n      <td>-1.094741</td>\n    </tr>\n    <tr>\n      <th>5</th>\n      <td>-0.046201</td>\n      <td>9.203349</td>\n      <td>8.767154</td>\n      <td>0.811192</td>\n      <td>1.059899</td>\n      <td>-3.018258</td>\n      <td>-2.912993</td>\n      <td>-3.106537</td>\n      <td>-0.715422</td>\n      <td>-0.676905</td>\n      <td>...</td>\n      <td>0.657761</td>\n      <td>0.657361</td>\n      <td>-0.030127</td>\n      <td>-0.040108</td>\n      <td>0.574070</td>\n      <td>0.591544</td>\n      <td>0.540617</td>\n      <td>0.566915</td>\n      <td>0.445491</td>\n      <td>0.439417</td>\n    </tr>\n    <tr>\n      <th>132</th>\n      <td>0.162776</td>\n      <td>-1.017811</td>\n      <td>-0.741469</td>\n      <td>-0.699978</td>\n      <td>-0.132487</td>\n      <td>-1.639869</td>\n      <td>-1.450845</td>\n      <td>-1.824677</td>\n      <td>-0.287845</td>\n      <td>-0.272875</td>\n      <td>...</td>\n      <td>1.059462</td>\n      <td>1.291909</td>\n      <td>9.594300</td>\n      <td>9.899510</td>\n      <td>2.648222</td>\n      <td>3.177675</td>\n      <td>1.037281</td>\n      <td>1.114281</td>\n      <td>4.063447</td>\n      <td>4.716380</td>\n    </tr>\n    <tr>\n      <th>...</th>\n      <td>...</td>\n      <td>...</td>\n      <td>...</td>\n      <td>...</td>\n      <td>...</td>\n      <td>...</td>\n      <td>...</td>\n      <td>...</td>\n      <td>...</td>\n      <td>...</td>\n      <td>...</td>\n      <td>...</td>\n      <td>...</td>\n      <td>...</td>\n      <td>...</td>\n      <td>...</td>\n      <td>...</td>\n      <td>...</td>\n      <td>...</td>\n      <td>...</td>\n      <td>...</td>\n    </tr>\n    <tr>\n      <th>106</th>\n      <td>-0.486861</td>\n      <td>0.963858</td>\n      <td>0.904383</td>\n      <td>0.121857</td>\n      <td>0.463706</td>\n      <td>-0.748030</td>\n      <td>-0.793773</td>\n      <td>-0.695346</td>\n      <td>-0.857947</td>\n      <td>-0.878921</td>\n      <td>...</td>\n      <td>-0.418179</td>\n      <td>-0.390692</td>\n      <td>0.332787</td>\n      <td>0.255629</td>\n      <td>-0.679264</td>\n      <td>-0.672939</td>\n      <td>-0.540722</td>\n      <td>-0.535488</td>\n      <td>-0.553495</td>\n      <td>-0.530532</td>\n    </tr>\n    <tr>\n      <th>14</th>\n      <td>0.378389</td>\n      <td>-0.027353</td>\n      <td>0.190103</td>\n      <td>-0.580727</td>\n      <td>-0.430584</td>\n      <td>-1.177870</td>\n      <td>-1.028897</td>\n      <td>-1.324316</td>\n      <td>-0.786684</td>\n      <td>-0.676905</td>\n      <td>...</td>\n      <td>0.341001</td>\n      <td>0.349597</td>\n      <td>0.035237</td>\n      <td>0.036345</td>\n      <td>0.299803</td>\n      <td>0.305418</td>\n      <td>2.324619</td>\n      <td>2.318418</td>\n      <td>1.658992</td>\n      <td>1.537621</td>\n    </tr>\n    <tr>\n      <th>92</th>\n      <td>-1.343441</td>\n      <td>-0.373461</td>\n      <td>-0.533339</td>\n      <td>0.442178</td>\n      <td>0.463706</td>\n      <td>0.505166</td>\n      <td>0.487844</td>\n      <td>0.519633</td>\n      <td>1.707510</td>\n      <td>1.545263</td>\n      <td>...</td>\n      <td>-0.364008</td>\n      <td>-0.351413</td>\n      <td>-0.041882</td>\n      <td>0.061725</td>\n      <td>-0.087646</td>\n      <td>-0.076868</td>\n      <td>-0.442074</td>\n      <td>-0.388541</td>\n      <td>-0.583318</td>\n      <td>-0.565051</td>\n    </tr>\n    <tr>\n      <th>179</th>\n      <td>1.217600</td>\n      <td>-0.266802</td>\n      <td>-0.449146</td>\n      <td>0.498159</td>\n      <td>0.761803</td>\n      <td>0.235666</td>\n      <td>0.234286</td>\n      <td>0.235461</td>\n      <td>0.424782</td>\n      <td>0.400510</td>\n      <td>...</td>\n      <td>-0.798435</td>\n      <td>-0.768814</td>\n      <td>-0.595132</td>\n      <td>-0.554171</td>\n      <td>0.963375</td>\n      <td>0.831604</td>\n      <td>-0.577996</td>\n      <td>-0.643177</td>\n      <td>-0.644794</td>\n      <td>-0.684184</td>\n    </tr>\n    <tr>\n      <th>102</th>\n      <td>-0.549336</td>\n      <td>0.207698</td>\n      <td>0.100091</td>\n      <td>0.279864</td>\n      <td>0.463706</td>\n      <td>0.617586</td>\n      <td>0.594639</td>\n      <td>0.637111</td>\n      <td>0.781095</td>\n      <td>0.737202</td>\n      <td>...</td>\n      <td>-0.590495</td>\n      <td>-0.594753</td>\n      <td>-0.125033</td>\n      <td>-0.120733</td>\n      <td>-0.701797</td>\n      <td>-0.726545</td>\n      <td>-0.357813</td>\n      <td>-0.405089</td>\n      <td>-0.518218</td>\n      <td>-0.509295</td>\n    </tr>\n  </tbody>\n</table>\n<p>153 rows × 1311 columns</p>\n</div>"
     },
     "metadata": {},
     "output_type": "display_data"
    },
    {
     "data": {
      "text/plain": "     AQI_2017_2018_diff  Civilian_labor_force_2017_2018_diff  \\\n161            1.220429                            -0.049338   \n15            -0.503692                            -0.154867   \n73            -0.427504                             0.097145   \n96             0.805328                            -0.377355   \n166           -0.217417                            -0.434140   \n9              1.043069                             0.727048   \n100           -0.670029                            -0.378486   \n135            0.141177                            -0.628362   \n18             2.382328                            -0.421702   \n148           -0.944063                            -0.370948   \n171           -0.234122                            -0.179364   \n30            -0.353965                             2.095648   \n155            0.311423                            -0.426602   \n180           -0.164145                             0.971647   \n125            0.468093                             1.005190   \n197           -0.696828                            -0.243309   \n164           -1.016324                            -0.435145   \n190            1.485884                            -0.171073   \n84            -0.531395                            -0.144942   \n75            -0.446805                            -1.158515   \n124            1.543122                             3.353695   \n170            0.265530                             0.057949   \n104           -0.564259                            -0.131625   \n101           -1.139352                            -0.355370   \n69            -0.682692                            -0.058886   \n25             0.861953                            -0.329616   \n95             0.427302                             0.179808   \n16             0.570466                            -0.082630   \n141           -0.345771                             0.990366   \n185           -0.331409                            -0.159515   \n154            0.361816                            -0.255621   \n68            -0.677089                            -0.362405   \n66            -0.939006                            -0.359390   \n120           -1.296971                            -0.290923   \n147            0.248139                            -0.160897   \n98             0.841702                            -0.398084   \n138           -0.367085                             0.118879   \n167           -0.385738                            -0.509014   \n45            -0.694460                            -0.394315   \n113            1.616157                            -0.397079   \n65            -3.779609                             0.068627   \n178           -2.081724                            -0.142555   \n86             0.541011                            -0.300094   \n203            0.732046                            -0.377607   \n67            -0.543340                             0.271392   \n82            -0.531098                            -0.109389   \n205            1.650296                            -0.379491   \n194           -0.151735                             0.735716   \n38             0.285586                             0.301920   \n24             0.059116                            -0.314541   \n60            -0.325889                             0.953431   \n195            0.072873                            -0.107630   \n29             2.772916                             0.229934   \n19            -0.525159                            -0.088912   \n55             0.809795                            -0.249591   \n\n     Employed_2017_2018_diff  Unemployed_2017_2018_diff  \\\n161                 0.088576                  -0.367070   \n15                 -0.274693                   0.326571   \n73                  0.398481                  -0.809953   \n96                 -0.546339                   0.466690   \n166                -0.514148                   0.230839   \n9                   0.488741                   0.609460   \n100                -0.552158                   0.479278   \n135                -0.369286                  -0.668840   \n18                 -0.530739                   0.308021   \n148                -0.508824                   0.383215   \n171                -0.280140                   0.276552   \n30                  2.811728                  -1.996828   \n155                -0.477004                   0.151339   \n180                 0.799760                   0.422302   \n125                 0.926545                   0.171545   \n197                -0.303170                   0.169557   \n164                -0.606760                   0.475965   \n190                -0.303913                   0.362015   \n84                 -0.321866                   0.478946   \n75                 -1.362394                   0.590247   \n124                 3.670870                  -0.978229   \n170                 0.008592                   0.129807   \n104                -0.284845                   0.415015   \n101                -0.524177                   0.465365   \n69                 -0.144689                   0.231833   \n25                 -0.495700                   0.457084   \n95                  0.145902                   0.083763   \n16                  0.218209                  -0.801672   \n141                 1.070912                  -0.253782   \n185                -0.229129                   0.192414   \n154                -0.266026                   0.037719   \n68                 -0.532967                   0.470334   \n66                 -0.262064                  -0.246494   \n120                -0.412868                   0.337502   \n147                -0.283236                   0.333527   \n98                 -0.573207                   0.483915   \n138                -0.001560                   0.317627   \n167                -0.624837                   0.329552   \n45                 -0.241015                  -0.394895   \n113                -0.478613                   0.233489   \n65                  0.349946                  -0.755297   \n178                -0.328799                   0.503790   \n86                 -0.503995                   0.557122   \n203                -0.550054                   0.475965   \n67                  0.274420                  -0.018593   \n82                 -0.272835                   0.441515   \n205                -0.501395                   0.340815   \n194                 0.560553                   0.440190   \n38                  0.808675                  -1.367450   \n24                 -0.431688                   0.325577   \n60                  1.136409                  -0.526402   \n195                -0.267388                   0.431577   \n29                  0.158902                   0.181151   \n19                  0.212885                  -0.803991   \n55                 -0.380677                   0.360358   \n\n     Unemployment_rate_2017_2018_diff  \\\n161                         -1.026778   \n15                          -0.728681   \n73                          -1.026778   \n96                          -0.132487   \n166                         -1.622971   \n9                            1.059899   \n100                          0.761803   \n135                          0.165609   \n18                          -0.430584   \n148                         -1.324874   \n171                          0.165609   \n30                          -1.026778   \n155                         -1.622971   \n180                          1.059899   \n125                         -0.430584   \n197                         -0.430584   \n164                          1.357996   \n190                         -0.132487   \n84                           0.761803   \n75                           1.656093   \n124                         -0.132487   \n170                          0.165609   \n104                         -0.132487   \n101                          0.761803   \n69                          -0.132487   \n25                          -0.132487   \n95                           0.165609   \n16                          -1.324874   \n141                         -0.132487   \n185                         -0.728681   \n154                         -1.622971   \n68                          -0.430584   \n66                           0.165609   \n120                         -0.132487   \n147                          0.165609   \n98                           0.463706   \n138                          0.165609   \n167                         -1.324874   \n45                          -0.728681   \n113                         -1.026778   \n65                          -0.430584   \n178                          1.059899   \n86                           1.656093   \n203                          0.463706   \n67                          -0.430584   \n82                           0.761803   \n205                          0.463706   \n194                          1.059899   \n38                          -0.132487   \n24                          -0.132487   \n60                           0.165609   \n195                          0.463706   \n29                          -0.728681   \n19                          -1.921068   \n55                          -0.132487   \n\n     Poverty Estimate, All Ages_2017_2018_diff  \\\n161                                  -0.013632   \n15                                    0.152325   \n73                                   -0.889800   \n96                                    0.143176   \n166                                   0.162834   \n9                                     0.338212   \n100                                   0.043801   \n135                                  -1.391205   \n18                                    0.279420   \n148                                   0.171258   \n171                                   0.047968   \n30                                    0.015990   \n155                                  -0.222709   \n180                                   0.650469   \n125                                  -0.066445   \n197                                   0.051320   \n164                                  -1.521652   \n190                                  -0.208396   \n84                                   -0.031840   \n75                                   -0.347721   \n124                                   0.369193   \n170                                  -0.756273   \n104                                   0.280055   \n101                                   0.219904   \n69                                    0.654455   \n25                                    0.261303   \n95                                    1.060924   \n16                                    0.496560   \n141                                   0.667137   \n185                                   0.217730   \n154                                   0.367653   \n68                                   -0.304057   \n66                                   -0.135564   \n120                                  -0.224340   \n147                                   0.768143   \n98                                    0.216462   \n138                                  -0.373810   \n167                                   0.117268   \n45                                   -0.191185   \n113                                   0.208852   \n65                                    0.941348   \n178                                   0.311942   \n86                                    0.159482   \n203                                   0.197710   \n67                                    0.278515   \n82                                    0.049327   \n205                                   0.248892   \n194                                  -0.274163   \n38                                   -0.147521   \n24                                   -0.143082   \n60                                   -0.469562   \n195                                  -0.094437   \n29                                   -0.034105   \n19                                   -0.364751   \n55                                    0.168541   \n\n     90% CI LB All Ages_2017_2018_diff  90% CI UB All Ages_2017_2018_diff  \\\n161                          -0.026540                          -0.000139   \n15                            0.164981                           0.138130   \n73                           -0.681484                          -1.099848   \n96                            0.146281                           0.138958   \n166                           0.157713                           0.167016   \n9                             0.228082                           0.450177   \n100                           0.015823                           0.072537   \n135                          -1.277138                          -1.499935   \n18                            0.204331                           0.355422   \n148                           0.195645                           0.144753   \n171                           0.055794                           0.039511   \n30                            0.002884                           0.029484   \n155                          -0.272122                          -0.169870   \n180                           0.734401                           0.558823   \n125                           0.047995                          -0.184773   \n197                           0.083268                           0.017800   \n164                          -1.494360                          -1.539401   \n190                          -0.264677                          -0.148527   \n84                           -0.008283                          -0.056072   \n75                           -0.379536                          -0.312278   \n124                           0.588612                           0.138866   \n170                          -0.703109                          -0.806200   \n104                           0.268407                           0.290198   \n101                           0.226576                           0.211450   \n69                            0.610237                           0.695804   \n25                            0.261406                           0.259379   \n95                            0.898093                           1.222568   \n16                            0.493517                           0.496267   \n141                           0.766839                           0.559007   \n185                           0.178540                           0.256895   \n154                           0.419957                           0.310804   \n68                           -0.335578                          -0.269225   \n66                           -0.142994                          -0.126908   \n120                          -0.217883                          -0.229483   \n147                           0.775967                           0.754681   \n98                            0.212484                           0.219085   \n138                          -0.410555                          -0.333069   \n167                           0.163297                           0.068673   \n45                           -0.131384                          -0.251929   \n113                           0.226221                           0.189371   \n65                            0.865656                           1.013371   \n178                           0.321582                           0.299765   \n86                            0.163651                           0.154045   \n203                           0.184124                           0.210438   \n67                            0.304478                           0.249628   \n82                            0.051717                           0.046503   \n205                           0.237299                           0.259195   \n194                          -0.270438                          -0.276124   \n38                           -0.146096                          -0.147975   \n24                           -0.176583                          -0.107313   \n60                           -0.356228                          -0.583940   \n195                          -0.065801                          -0.123504   \n29                           -0.052507                          -0.014766   \n19                           -0.254308                          -0.476857   \n55                            0.189707                           0.145397   \n\n     Poverty Percent, All Ages_2017_2018_diff  \\\n161                                 -0.074057   \n15                                  -0.002795   \n73                                  -0.786684   \n96                                  -0.216583   \n166                                  0.210993   \n9                                    0.068468   \n100                                 -0.715422   \n135                                 -0.359108   \n18                                   0.638570   \n148                                  0.139731   \n171                                 -0.145320   \n30                                  -0.002795   \n155                                 -1.214260   \n180                                  0.709832   \n125                                 -0.359108   \n197                                 -0.216583   \n164                                 -1.570574   \n190                                 -1.000472   \n84                                  -0.929210   \n75                                  -0.287845   \n124                                  0.139731   \n170                                 -1.285523   \n104                                  0.781095   \n101                                  0.424782   \n69                                   0.923620   \n25                                   0.994883   \n95                                   1.066146   \n16                                   0.282256   \n141                                  0.353519   \n185                                  0.210993   \n154                                  0.638570   \n68                                  -5.204972   \n66                                  -0.216583   \n120                                 -1.285523   \n147                                  1.351197   \n98                                   0.781095   \n138                                 -1.428049   \n167                                 -0.074057   \n45                                  -0.145320   \n113                                  0.282256   \n65                                   0.424782   \n178                                  0.567307   \n86                                  -0.002795   \n203                                  0.353519   \n67                                  -0.145320   \n82                                  -0.002795   \n205                                  0.282256   \n194                                 -0.644159   \n38                                  -0.002795   \n24                                  -0.786684   \n60                                  -0.430371   \n195                                 -0.857947   \n29                                  -0.359108   \n19                                  -0.359108   \n55                                   0.139731   \n\n     90% CI LB percent_2017_2018_diff  ...  HWAC_MALE_ratio_2018  \\\n161                         -0.138198  ...             -0.317701   \n15                          -0.003521  ...             -0.316505   \n73                          -0.609567  ...             -0.647783   \n96                          -0.272875  ...             -0.880270   \n166                          0.131156  ...             -0.930086   \n9                           -0.138198  ...              0.688088   \n100                         -0.878921  ...             -0.930348   \n135                         -0.272875  ...              0.024344   \n18                           0.198494  ...              3.664147   \n148                          0.265833  ...             -0.897288   \n171                         -0.138198  ...              0.175336   \n30                          -0.003521  ...              1.672474   \n155                         -1.350290  ...             -0.682752   \n180                          0.804540  ...             -0.438580   \n125                         -0.205536  ...              0.335509   \n197                         -0.138198  ...             -0.712671   \n164                         -1.484966  ...             -0.389939   \n190                         -1.148274  ...              4.316300   \n84                          -0.811582  ...             -0.459383   \n75                          -0.272875  ...             -0.599532   \n124                          0.198494  ...              0.659181   \n170                         -1.148274  ...             -0.508126   \n104                          0.669863  ...             -0.748281   \n101                          0.400510  ...             -0.939256   \n69                           0.804540  ...             -0.517501   \n25                           0.871879  ...              0.339895   \n95                           0.871879  ...             -0.699646   \n16                           0.265833  ...              1.842211   \n141                          0.400510  ...             -0.346276   \n185                          0.131156  ...              0.363353   \n154                          0.737202  ...             -0.506862   \n68                          -5.390595  ...             -0.463221   \n66                          -0.272875  ...             -0.495343   \n120                         -1.215613  ...             -0.898106   \n147                          1.275909  ...             -0.762405   \n98                           0.602525  ...             -0.942635   \n138                         -1.484966  ...             -0.315943   \n167                          0.131156  ...             -0.930636   \n45                          -0.070859  ...              1.313322   \n113                          0.265833  ...             -0.926895   \n65                           0.400510  ...              0.207241   \n178                          0.602525  ...             -0.732942   \n86                          -0.003521  ...             -0.828150   \n203                          0.131156  ...             -0.709096   \n67                          -0.138198  ...              0.252438   \n82                          -0.070859  ...              0.017193   \n205                          0.198494  ...             -0.747608   \n194                         -0.609567  ...             -0.348854   \n38                          -0.003521  ...              0.328422   \n24                          -0.946259  ...             -0.144787   \n60                          -0.340213  ...              0.534393   \n195                         -0.744244  ...              0.006913   \n29                          -0.407552  ...             -0.260094   \n19                          -0.272875  ...              1.982199   \n55                           0.198494  ...             -0.669237   \n\n     HWAC_FEMALE_ratio_2018  HBAC_MALE_ratio_2018  HBAC_FEMALE_ratio_2018  \\\n161               -0.345835             -0.325881               -0.324664   \n15                -0.299202             -0.538514               -0.543451   \n73                -0.649773             -0.060160               -0.043736   \n96                -0.851285             -0.586579               -0.536432   \n166               -0.894685             -0.587892               -0.552472   \n9                  0.437506             -0.086448               -0.106973   \n100               -0.893475             -0.661880               -0.629773   \n135                0.122122              3.266168                3.446515   \n18                 3.607343             -0.010377                0.005538   \n148               -0.912868             -0.495627               -0.616895   \n171                0.173534              2.327320                2.143101   \n30                 1.622752              0.198300                0.202348   \n155               -0.725692              0.148667                0.063326   \n180               -0.480875             -0.251606               -0.241712   \n125                0.299273             -0.297906               -0.306937   \n197               -0.716550             -0.227736               -0.194386   \n164               -0.409152             -0.286303               -0.297136   \n190                4.500049             -0.389097               -0.405569   \n84                -0.431889             -0.453299               -0.419040   \n75                -0.614687             -0.339764               -0.363381   \n124                0.633270              0.284798                0.278023   \n170               -0.480022              0.563847                0.471917   \n104               -0.678628             -0.253051               -0.224234   \n101               -0.907637             -0.677575               -0.637108   \n69                -0.472716             -0.393443               -0.395893   \n25                 0.245204             -0.371784               -0.447710   \n95                -0.699062             -0.397930               -0.378711   \n16                 1.764157              0.241921                0.232195   \n141               -0.340785              0.355947                0.363482   \n185                0.357047             -0.181107               -0.184553   \n154               -0.480706              0.238812                0.192629   \n68                -0.467622             -0.236345               -0.312299   \n66                -0.455279             -0.215288               -0.174576   \n120               -0.875052             -0.695920               -0.639223   \n147               -0.747842             -0.394806               -0.370345   \n98                -0.921238             -0.675190               -0.625801   \n138               -0.363290              0.302094                0.253394   \n167               -0.901617             -0.517202               -0.550074   \n45                 1.294591             -0.181638               -0.200515   \n113               -0.898115             -0.672314               -0.633986   \n65                 0.224982              0.208706                0.183722   \n178               -0.748606             -0.623079               -0.589692   \n86                -0.873205             -0.602227               -0.581534   \n203               -0.745577             -0.628727               -0.607229   \n67                 0.231541              0.518320                0.429126   \n82                 0.014261              0.107295                0.186220   \n205               -0.722813             -0.643267               -0.577446   \n194               -0.351093             -0.547586               -0.509265   \n38                 0.304908             -0.285062               -0.280315   \n24                -0.169345             -0.413023               -0.445785   \n60                 0.555591              0.860628                0.779077   \n195               -0.030211             -0.348496               -0.372257   \n29                -0.234155             -0.477360               -0.454224   \n19                 1.755941              0.161717                0.123124   \n55                -0.656816             -0.180495               -0.230399   \n\n     HIAC_MALE_ratio_2018  HIAC_FEMALE_ratio_2018  HAAC_MALE_ratio_2018  \\\n161              0.397281                0.402686             -0.513927   \n15               0.070203               -0.030465              0.119523   \n73              -0.851749               -0.842694             -0.650057   \n96              -0.884179               -0.934675             -0.735434   \n166             -1.022690               -1.000860             -0.866258   \n9                2.298973                1.773898              0.427043   \n100             -1.013503               -0.994013             -0.816451   \n135              0.454490                0.638011              0.447520   \n18               1.490515                1.560876              2.457820   \n148             -0.908252               -1.015007             -0.855402   \n171              0.151448                0.139305              0.020223   \n30               1.109027                1.168834              1.768824   \n155             -0.790533               -0.840585             -0.685937   \n180             -0.675987               -0.685224             -0.471877   \n125              0.306580                0.351989              0.741769   \n197             -0.900026               -0.875998             -0.544334   \n164              0.138219                0.034674              0.042129   \n190             -0.375209               -0.364721             -0.246692   \n84              -0.717937               -0.781964             -0.623014   \n75              -0.294966               -0.305679             11.293020   \n124              0.205818                0.180554              1.704517   \n170             -0.615684               -0.636173             -0.501861   \n104             -0.824090               -0.820653             -0.512807   \n101             -1.000617               -0.990443             -0.840222   \n69              -0.866180               -0.875960             -0.637632   \n25               2.639211                2.336648             -0.076149   \n95              -0.974216               -0.972994             -0.730993   \n16               2.336708                2.416562              2.339644   \n141             -0.353249               -0.348411             -0.338879   \n185             -0.349247               -0.342964             -0.226181   \n154             -0.725724               -0.713401             -0.634949   \n68              -0.695473               -0.793883             -0.676033   \n66              -0.811123               -0.805745             -0.472210   \n120             -0.975272               -0.958569             -0.848784   \n147             -0.916035               -0.915228             -0.677823   \n98              -0.937068               -0.922779             -0.862564   \n138             -0.126315               -0.152983             -0.209801   \n167             -1.005344               -1.003827             -0.798895   \n45               1.308672                1.245689              1.424757   \n113             -0.777464               -0.728845             -0.807244   \n65              -0.416073               -0.576810             -0.334742   \n178             -0.534794               -0.372949             -0.670667   \n86              -0.967066               -0.972187             -0.807473   \n203             -0.914739               -0.947476             -0.813672   \n67              -0.413305               -0.499385             -0.404805   \n82              -0.441278               -0.390358             -0.501270   \n205             -0.939221               -0.921575             -0.741670   \n194             -0.434339               -0.472709             -0.385316   \n38               0.469079                0.448804              2.333947   \n24               0.255916               -0.028134              0.497619   \n60              -0.558790               -0.540390             -0.122635   \n195              0.199104                0.216460             -0.041886   \n29              -0.061877               -0.053182              0.740607   \n19               1.984449                1.979010              1.715561   \n55              -0.766422               -0.791383             -0.684207   \n\n     HAAC_FEMALE_ratio_2018  HNAC_MALE_ratio_2018  HNAC_FEMALE_ratio_2018  \n161               -0.488228             -0.590996               -0.461779  \n15                 0.040034             -0.018812               -0.007030  \n73                -0.613588             -0.882128               -0.843455  \n96                -0.688730             -0.839421               -0.943131  \n166               -0.828448             -0.966297               -0.957525  \n9                  0.342577              0.390044                0.324471  \n100               -0.810970             -1.060418               -0.929494  \n135                0.609006              0.837263                1.093099  \n18                 2.608265              1.331081                1.436079  \n148               -0.861802             -1.054488               -0.951682  \n171               -0.043751              0.746419                0.652995  \n30                 1.844252              1.523087                1.715492  \n155               -0.642149             -0.601472               -0.750022  \n180               -0.435707             -0.240010               -0.338386  \n125                0.736833              1.273567                1.238797  \n197               -0.571993             -0.822537               -0.790386  \n164                0.105896              0.043923               -0.081866  \n190               -0.298628             -0.467316               -0.576474  \n84                -0.616867             -0.833690               -0.725776  \n75                11.423865             36.986009               35.689889  \n124                1.729213              2.639111                2.595202  \n170               -0.518305             -0.217982               -0.154235  \n104               -0.430839             -0.454735               -0.520810  \n101               -0.825656             -1.073882               -0.942407  \n69                -0.652872             -0.828381               -0.686152  \n25                 0.030242              0.887767                0.724855  \n95                -0.727308             -0.896401               -0.911672  \n16                 2.290572              1.293352                1.311048  \n141               -0.360165             -0.376389               -0.460936  \n185               -0.226980             -0.451013               -0.367809  \n154               -0.578565             -0.408889               -0.309763  \n68                -0.728738             -0.243886               -0.709118  \n66                -0.433866             -0.653767               -0.674638  \n120               -0.810040             -1.105502               -1.033717  \n147               -0.678936             -0.700770               -0.678062  \n98                -0.815656             -1.041678               -0.980331  \n138               -0.177266             -0.286398               -0.270443  \n167               -0.846424             -1.103174               -0.992605  \n45                 1.519446              0.966676                0.998470  \n113               -0.814652             -1.061379               -1.052644  \n65                -0.343882             -0.126408               -0.260693  \n178               -0.683174             -0.166540               -0.340498  \n86                -0.823433             -1.061177               -1.078266  \n203               -0.774727             -1.030031               -0.848544  \n67                -0.442539             -0.225407               -0.365543  \n82                -0.420676             -0.505085               -0.391215  \n205               -0.734745             -0.945075               -0.932530  \n194               -0.347176              0.136266                0.253638  \n38                 2.357347              1.348801                1.229803  \n24                 0.358017              0.660042                0.482589  \n60                -0.095808             -0.212968               -0.109523  \n195               -0.026351             -0.092347               -0.079213  \n29                 0.744474              0.342722                0.139537  \n19                 1.680732              1.199706                1.248940  \n55                -0.650202             -0.655606               -0.635435  \n\n[55 rows x 1311 columns]",
      "text/html": "<div>\n<style scoped>\n    .dataframe tbody tr th:only-of-type {\n        vertical-align: middle;\n    }\n\n    .dataframe tbody tr th {\n        vertical-align: top;\n    }\n\n    .dataframe thead th {\n        text-align: right;\n    }\n</style>\n<table border=\"1\" class=\"dataframe\">\n  <thead>\n    <tr style=\"text-align: right;\">\n      <th></th>\n      <th>AQI_2017_2018_diff</th>\n      <th>Civilian_labor_force_2017_2018_diff</th>\n      <th>Employed_2017_2018_diff</th>\n      <th>Unemployed_2017_2018_diff</th>\n      <th>Unemployment_rate_2017_2018_diff</th>\n      <th>Poverty Estimate, All Ages_2017_2018_diff</th>\n      <th>90% CI LB All Ages_2017_2018_diff</th>\n      <th>90% CI UB All Ages_2017_2018_diff</th>\n      <th>Poverty Percent, All Ages_2017_2018_diff</th>\n      <th>90% CI LB percent_2017_2018_diff</th>\n      <th>...</th>\n      <th>HWAC_MALE_ratio_2018</th>\n      <th>HWAC_FEMALE_ratio_2018</th>\n      <th>HBAC_MALE_ratio_2018</th>\n      <th>HBAC_FEMALE_ratio_2018</th>\n      <th>HIAC_MALE_ratio_2018</th>\n      <th>HIAC_FEMALE_ratio_2018</th>\n      <th>HAAC_MALE_ratio_2018</th>\n      <th>HAAC_FEMALE_ratio_2018</th>\n      <th>HNAC_MALE_ratio_2018</th>\n      <th>HNAC_FEMALE_ratio_2018</th>\n    </tr>\n  </thead>\n  <tbody>\n    <tr>\n      <th>161</th>\n      <td>1.220429</td>\n      <td>-0.049338</td>\n      <td>0.088576</td>\n      <td>-0.367070</td>\n      <td>-1.026778</td>\n      <td>-0.013632</td>\n      <td>-0.026540</td>\n      <td>-0.000139</td>\n      <td>-0.074057</td>\n      <td>-0.138198</td>\n      <td>...</td>\n      <td>-0.317701</td>\n      <td>-0.345835</td>\n      <td>-0.325881</td>\n      <td>-0.324664</td>\n      <td>0.397281</td>\n      <td>0.402686</td>\n      <td>-0.513927</td>\n      <td>-0.488228</td>\n      <td>-0.590996</td>\n      <td>-0.461779</td>\n    </tr>\n    <tr>\n      <th>15</th>\n      <td>-0.503692</td>\n      <td>-0.154867</td>\n      <td>-0.274693</td>\n      <td>0.326571</td>\n      <td>-0.728681</td>\n      <td>0.152325</td>\n      <td>0.164981</td>\n      <td>0.138130</td>\n      <td>-0.002795</td>\n      <td>-0.003521</td>\n      <td>...</td>\n      <td>-0.316505</td>\n      <td>-0.299202</td>\n      <td>-0.538514</td>\n      <td>-0.543451</td>\n      <td>0.070203</td>\n      <td>-0.030465</td>\n      <td>0.119523</td>\n      <td>0.040034</td>\n      <td>-0.018812</td>\n      <td>-0.007030</td>\n    </tr>\n    <tr>\n      <th>73</th>\n      <td>-0.427504</td>\n      <td>0.097145</td>\n      <td>0.398481</td>\n      <td>-0.809953</td>\n      <td>-1.026778</td>\n      <td>-0.889800</td>\n      <td>-0.681484</td>\n      <td>-1.099848</td>\n      <td>-0.786684</td>\n      <td>-0.609567</td>\n      <td>...</td>\n      <td>-0.647783</td>\n      <td>-0.649773</td>\n      <td>-0.060160</td>\n      <td>-0.043736</td>\n      <td>-0.851749</td>\n      <td>-0.842694</td>\n      <td>-0.650057</td>\n      <td>-0.613588</td>\n      <td>-0.882128</td>\n      <td>-0.843455</td>\n    </tr>\n    <tr>\n      <th>96</th>\n      <td>0.805328</td>\n      <td>-0.377355</td>\n      <td>-0.546339</td>\n      <td>0.466690</td>\n      <td>-0.132487</td>\n      <td>0.143176</td>\n      <td>0.146281</td>\n      <td>0.138958</td>\n      <td>-0.216583</td>\n      <td>-0.272875</td>\n      <td>...</td>\n      <td>-0.880270</td>\n      <td>-0.851285</td>\n      <td>-0.586579</td>\n      <td>-0.536432</td>\n      <td>-0.884179</td>\n      <td>-0.934675</td>\n      <td>-0.735434</td>\n      <td>-0.688730</td>\n      <td>-0.839421</td>\n      <td>-0.943131</td>\n    </tr>\n    <tr>\n      <th>166</th>\n      <td>-0.217417</td>\n      <td>-0.434140</td>\n      <td>-0.514148</td>\n      <td>0.230839</td>\n      <td>-1.622971</td>\n      <td>0.162834</td>\n      <td>0.157713</td>\n      <td>0.167016</td>\n      <td>0.210993</td>\n      <td>0.131156</td>\n      <td>...</td>\n      <td>-0.930086</td>\n      <td>-0.894685</td>\n      <td>-0.587892</td>\n      <td>-0.552472</td>\n      <td>-1.022690</td>\n      <td>-1.000860</td>\n      <td>-0.866258</td>\n      <td>-0.828448</td>\n      <td>-0.966297</td>\n      <td>-0.957525</td>\n    </tr>\n    <tr>\n      <th>9</th>\n      <td>1.043069</td>\n      <td>0.727048</td>\n      <td>0.488741</td>\n      <td>0.609460</td>\n      <td>1.059899</td>\n      <td>0.338212</td>\n      <td>0.228082</td>\n      <td>0.450177</td>\n      <td>0.068468</td>\n      <td>-0.138198</td>\n      <td>...</td>\n      <td>0.688088</td>\n      <td>0.437506</td>\n      <td>-0.086448</td>\n      <td>-0.106973</td>\n      <td>2.298973</td>\n      <td>1.773898</td>\n      <td>0.427043</td>\n      <td>0.342577</td>\n      <td>0.390044</td>\n      <td>0.324471</td>\n    </tr>\n    <tr>\n      <th>100</th>\n      <td>-0.670029</td>\n      <td>-0.378486</td>\n      <td>-0.552158</td>\n      <td>0.479278</td>\n      <td>0.761803</td>\n      <td>0.043801</td>\n      <td>0.015823</td>\n      <td>0.072537</td>\n      <td>-0.715422</td>\n      <td>-0.878921</td>\n      <td>...</td>\n      <td>-0.930348</td>\n      <td>-0.893475</td>\n      <td>-0.661880</td>\n      <td>-0.629773</td>\n      <td>-1.013503</td>\n      <td>-0.994013</td>\n      <td>-0.816451</td>\n      <td>-0.810970</td>\n      <td>-1.060418</td>\n      <td>-0.929494</td>\n    </tr>\n    <tr>\n      <th>135</th>\n      <td>0.141177</td>\n      <td>-0.628362</td>\n      <td>-0.369286</td>\n      <td>-0.668840</td>\n      <td>0.165609</td>\n      <td>-1.391205</td>\n      <td>-1.277138</td>\n      <td>-1.499935</td>\n      <td>-0.359108</td>\n      <td>-0.272875</td>\n      <td>...</td>\n      <td>0.024344</td>\n      <td>0.122122</td>\n      <td>3.266168</td>\n      <td>3.446515</td>\n      <td>0.454490</td>\n      <td>0.638011</td>\n      <td>0.447520</td>\n      <td>0.609006</td>\n      <td>0.837263</td>\n      <td>1.093099</td>\n    </tr>\n    <tr>\n      <th>18</th>\n      <td>2.382328</td>\n      <td>-0.421702</td>\n      <td>-0.530739</td>\n      <td>0.308021</td>\n      <td>-0.430584</td>\n      <td>0.279420</td>\n      <td>0.204331</td>\n      <td>0.355422</td>\n      <td>0.638570</td>\n      <td>0.198494</td>\n      <td>...</td>\n      <td>3.664147</td>\n      <td>3.607343</td>\n      <td>-0.010377</td>\n      <td>0.005538</td>\n      <td>1.490515</td>\n      <td>1.560876</td>\n      <td>2.457820</td>\n      <td>2.608265</td>\n      <td>1.331081</td>\n      <td>1.436079</td>\n    </tr>\n    <tr>\n      <th>148</th>\n      <td>-0.944063</td>\n      <td>-0.370948</td>\n      <td>-0.508824</td>\n      <td>0.383215</td>\n      <td>-1.324874</td>\n      <td>0.171258</td>\n      <td>0.195645</td>\n      <td>0.144753</td>\n      <td>0.139731</td>\n      <td>0.265833</td>\n      <td>...</td>\n      <td>-0.897288</td>\n      <td>-0.912868</td>\n      <td>-0.495627</td>\n      <td>-0.616895</td>\n      <td>-0.908252</td>\n      <td>-1.015007</td>\n      <td>-0.855402</td>\n      <td>-0.861802</td>\n      <td>-1.054488</td>\n      <td>-0.951682</td>\n    </tr>\n    <tr>\n      <th>171</th>\n      <td>-0.234122</td>\n      <td>-0.179364</td>\n      <td>-0.280140</td>\n      <td>0.276552</td>\n      <td>0.165609</td>\n      <td>0.047968</td>\n      <td>0.055794</td>\n      <td>0.039511</td>\n      <td>-0.145320</td>\n      <td>-0.138198</td>\n      <td>...</td>\n      <td>0.175336</td>\n      <td>0.173534</td>\n      <td>2.327320</td>\n      <td>2.143101</td>\n      <td>0.151448</td>\n      <td>0.139305</td>\n      <td>0.020223</td>\n      <td>-0.043751</td>\n      <td>0.746419</td>\n      <td>0.652995</td>\n    </tr>\n    <tr>\n      <th>30</th>\n      <td>-0.353965</td>\n      <td>2.095648</td>\n      <td>2.811728</td>\n      <td>-1.996828</td>\n      <td>-1.026778</td>\n      <td>0.015990</td>\n      <td>0.002884</td>\n      <td>0.029484</td>\n      <td>-0.002795</td>\n      <td>-0.003521</td>\n      <td>...</td>\n      <td>1.672474</td>\n      <td>1.622752</td>\n      <td>0.198300</td>\n      <td>0.202348</td>\n      <td>1.109027</td>\n      <td>1.168834</td>\n      <td>1.768824</td>\n      <td>1.844252</td>\n      <td>1.523087</td>\n      <td>1.715492</td>\n    </tr>\n    <tr>\n      <th>155</th>\n      <td>0.311423</td>\n      <td>-0.426602</td>\n      <td>-0.477004</td>\n      <td>0.151339</td>\n      <td>-1.622971</td>\n      <td>-0.222709</td>\n      <td>-0.272122</td>\n      <td>-0.169870</td>\n      <td>-1.214260</td>\n      <td>-1.350290</td>\n      <td>...</td>\n      <td>-0.682752</td>\n      <td>-0.725692</td>\n      <td>0.148667</td>\n      <td>0.063326</td>\n      <td>-0.790533</td>\n      <td>-0.840585</td>\n      <td>-0.685937</td>\n      <td>-0.642149</td>\n      <td>-0.601472</td>\n      <td>-0.750022</td>\n    </tr>\n    <tr>\n      <th>180</th>\n      <td>-0.164145</td>\n      <td>0.971647</td>\n      <td>0.799760</td>\n      <td>0.422302</td>\n      <td>1.059899</td>\n      <td>0.650469</td>\n      <td>0.734401</td>\n      <td>0.558823</td>\n      <td>0.709832</td>\n      <td>0.804540</td>\n      <td>...</td>\n      <td>-0.438580</td>\n      <td>-0.480875</td>\n      <td>-0.251606</td>\n      <td>-0.241712</td>\n      <td>-0.675987</td>\n      <td>-0.685224</td>\n      <td>-0.471877</td>\n      <td>-0.435707</td>\n      <td>-0.240010</td>\n      <td>-0.338386</td>\n    </tr>\n    <tr>\n      <th>125</th>\n      <td>0.468093</td>\n      <td>1.005190</td>\n      <td>0.926545</td>\n      <td>0.171545</td>\n      <td>-0.430584</td>\n      <td>-0.066445</td>\n      <td>0.047995</td>\n      <td>-0.184773</td>\n      <td>-0.359108</td>\n      <td>-0.205536</td>\n      <td>...</td>\n      <td>0.335509</td>\n      <td>0.299273</td>\n      <td>-0.297906</td>\n      <td>-0.306937</td>\n      <td>0.306580</td>\n      <td>0.351989</td>\n      <td>0.741769</td>\n      <td>0.736833</td>\n      <td>1.273567</td>\n      <td>1.238797</td>\n    </tr>\n    <tr>\n      <th>197</th>\n      <td>-0.696828</td>\n      <td>-0.243309</td>\n      <td>-0.303170</td>\n      <td>0.169557</td>\n      <td>-0.430584</td>\n      <td>0.051320</td>\n      <td>0.083268</td>\n      <td>0.017800</td>\n      <td>-0.216583</td>\n      <td>-0.138198</td>\n      <td>...</td>\n      <td>-0.712671</td>\n      <td>-0.716550</td>\n      <td>-0.227736</td>\n      <td>-0.194386</td>\n      <td>-0.900026</td>\n      <td>-0.875998</td>\n      <td>-0.544334</td>\n      <td>-0.571993</td>\n      <td>-0.822537</td>\n      <td>-0.790386</td>\n    </tr>\n    <tr>\n      <th>164</th>\n      <td>-1.016324</td>\n      <td>-0.435145</td>\n      <td>-0.606760</td>\n      <td>0.475965</td>\n      <td>1.357996</td>\n      <td>-1.521652</td>\n      <td>-1.494360</td>\n      <td>-1.539401</td>\n      <td>-1.570574</td>\n      <td>-1.484966</td>\n      <td>...</td>\n      <td>-0.389939</td>\n      <td>-0.409152</td>\n      <td>-0.286303</td>\n      <td>-0.297136</td>\n      <td>0.138219</td>\n      <td>0.034674</td>\n      <td>0.042129</td>\n      <td>0.105896</td>\n      <td>0.043923</td>\n      <td>-0.081866</td>\n    </tr>\n    <tr>\n      <th>190</th>\n      <td>1.485884</td>\n      <td>-0.171073</td>\n      <td>-0.303913</td>\n      <td>0.362015</td>\n      <td>-0.132487</td>\n      <td>-0.208396</td>\n      <td>-0.264677</td>\n      <td>-0.148527</td>\n      <td>-1.000472</td>\n      <td>-1.148274</td>\n      <td>...</td>\n      <td>4.316300</td>\n      <td>4.500049</td>\n      <td>-0.389097</td>\n      <td>-0.405569</td>\n      <td>-0.375209</td>\n      <td>-0.364721</td>\n      <td>-0.246692</td>\n      <td>-0.298628</td>\n      <td>-0.467316</td>\n      <td>-0.576474</td>\n    </tr>\n    <tr>\n      <th>84</th>\n      <td>-0.531395</td>\n      <td>-0.144942</td>\n      <td>-0.321866</td>\n      <td>0.478946</td>\n      <td>0.761803</td>\n      <td>-0.031840</td>\n      <td>-0.008283</td>\n      <td>-0.056072</td>\n      <td>-0.929210</td>\n      <td>-0.811582</td>\n      <td>...</td>\n      <td>-0.459383</td>\n      <td>-0.431889</td>\n      <td>-0.453299</td>\n      <td>-0.419040</td>\n      <td>-0.717937</td>\n      <td>-0.781964</td>\n      <td>-0.623014</td>\n      <td>-0.616867</td>\n      <td>-0.833690</td>\n      <td>-0.725776</td>\n    </tr>\n    <tr>\n      <th>75</th>\n      <td>-0.446805</td>\n      <td>-1.158515</td>\n      <td>-1.362394</td>\n      <td>0.590247</td>\n      <td>1.656093</td>\n      <td>-0.347721</td>\n      <td>-0.379536</td>\n      <td>-0.312278</td>\n      <td>-0.287845</td>\n      <td>-0.272875</td>\n      <td>...</td>\n      <td>-0.599532</td>\n      <td>-0.614687</td>\n      <td>-0.339764</td>\n      <td>-0.363381</td>\n      <td>-0.294966</td>\n      <td>-0.305679</td>\n      <td>11.293020</td>\n      <td>11.423865</td>\n      <td>36.986009</td>\n      <td>35.689889</td>\n    </tr>\n    <tr>\n      <th>124</th>\n      <td>1.543122</td>\n      <td>3.353695</td>\n      <td>3.670870</td>\n      <td>-0.978229</td>\n      <td>-0.132487</td>\n      <td>0.369193</td>\n      <td>0.588612</td>\n      <td>0.138866</td>\n      <td>0.139731</td>\n      <td>0.198494</td>\n      <td>...</td>\n      <td>0.659181</td>\n      <td>0.633270</td>\n      <td>0.284798</td>\n      <td>0.278023</td>\n      <td>0.205818</td>\n      <td>0.180554</td>\n      <td>1.704517</td>\n      <td>1.729213</td>\n      <td>2.639111</td>\n      <td>2.595202</td>\n    </tr>\n    <tr>\n      <th>170</th>\n      <td>0.265530</td>\n      <td>0.057949</td>\n      <td>0.008592</td>\n      <td>0.129807</td>\n      <td>0.165609</td>\n      <td>-0.756273</td>\n      <td>-0.703109</td>\n      <td>-0.806200</td>\n      <td>-1.285523</td>\n      <td>-1.148274</td>\n      <td>...</td>\n      <td>-0.508126</td>\n      <td>-0.480022</td>\n      <td>0.563847</td>\n      <td>0.471917</td>\n      <td>-0.615684</td>\n      <td>-0.636173</td>\n      <td>-0.501861</td>\n      <td>-0.518305</td>\n      <td>-0.217982</td>\n      <td>-0.154235</td>\n    </tr>\n    <tr>\n      <th>104</th>\n      <td>-0.564259</td>\n      <td>-0.131625</td>\n      <td>-0.284845</td>\n      <td>0.415015</td>\n      <td>-0.132487</td>\n      <td>0.280055</td>\n      <td>0.268407</td>\n      <td>0.290198</td>\n      <td>0.781095</td>\n      <td>0.669863</td>\n      <td>...</td>\n      <td>-0.748281</td>\n      <td>-0.678628</td>\n      <td>-0.253051</td>\n      <td>-0.224234</td>\n      <td>-0.824090</td>\n      <td>-0.820653</td>\n      <td>-0.512807</td>\n      <td>-0.430839</td>\n      <td>-0.454735</td>\n      <td>-0.520810</td>\n    </tr>\n    <tr>\n      <th>101</th>\n      <td>-1.139352</td>\n      <td>-0.355370</td>\n      <td>-0.524177</td>\n      <td>0.465365</td>\n      <td>0.761803</td>\n      <td>0.219904</td>\n      <td>0.226576</td>\n      <td>0.211450</td>\n      <td>0.424782</td>\n      <td>0.400510</td>\n      <td>...</td>\n      <td>-0.939256</td>\n      <td>-0.907637</td>\n      <td>-0.677575</td>\n      <td>-0.637108</td>\n      <td>-1.000617</td>\n      <td>-0.990443</td>\n      <td>-0.840222</td>\n      <td>-0.825656</td>\n      <td>-1.073882</td>\n      <td>-0.942407</td>\n    </tr>\n    <tr>\n      <th>69</th>\n      <td>-0.682692</td>\n      <td>-0.058886</td>\n      <td>-0.144689</td>\n      <td>0.231833</td>\n      <td>-0.132487</td>\n      <td>0.654455</td>\n      <td>0.610237</td>\n      <td>0.695804</td>\n      <td>0.923620</td>\n      <td>0.804540</td>\n      <td>...</td>\n      <td>-0.517501</td>\n      <td>-0.472716</td>\n      <td>-0.393443</td>\n      <td>-0.395893</td>\n      <td>-0.866180</td>\n      <td>-0.875960</td>\n      <td>-0.637632</td>\n      <td>-0.652872</td>\n      <td>-0.828381</td>\n      <td>-0.686152</td>\n    </tr>\n    <tr>\n      <th>25</th>\n      <td>0.861953</td>\n      <td>-0.329616</td>\n      <td>-0.495700</td>\n      <td>0.457084</td>\n      <td>-0.132487</td>\n      <td>0.261303</td>\n      <td>0.261406</td>\n      <td>0.259379</td>\n      <td>0.994883</td>\n      <td>0.871879</td>\n      <td>...</td>\n      <td>0.339895</td>\n      <td>0.245204</td>\n      <td>-0.371784</td>\n      <td>-0.447710</td>\n      <td>2.639211</td>\n      <td>2.336648</td>\n      <td>-0.076149</td>\n      <td>0.030242</td>\n      <td>0.887767</td>\n      <td>0.724855</td>\n    </tr>\n    <tr>\n      <th>95</th>\n      <td>0.427302</td>\n      <td>0.179808</td>\n      <td>0.145902</td>\n      <td>0.083763</td>\n      <td>0.165609</td>\n      <td>1.060924</td>\n      <td>0.898093</td>\n      <td>1.222568</td>\n      <td>1.066146</td>\n      <td>0.871879</td>\n      <td>...</td>\n      <td>-0.699646</td>\n      <td>-0.699062</td>\n      <td>-0.397930</td>\n      <td>-0.378711</td>\n      <td>-0.974216</td>\n      <td>-0.972994</td>\n      <td>-0.730993</td>\n      <td>-0.727308</td>\n      <td>-0.896401</td>\n      <td>-0.911672</td>\n    </tr>\n    <tr>\n      <th>16</th>\n      <td>0.570466</td>\n      <td>-0.082630</td>\n      <td>0.218209</td>\n      <td>-0.801672</td>\n      <td>-1.324874</td>\n      <td>0.496560</td>\n      <td>0.493517</td>\n      <td>0.496267</td>\n      <td>0.282256</td>\n      <td>0.265833</td>\n      <td>...</td>\n      <td>1.842211</td>\n      <td>1.764157</td>\n      <td>0.241921</td>\n      <td>0.232195</td>\n      <td>2.336708</td>\n      <td>2.416562</td>\n      <td>2.339644</td>\n      <td>2.290572</td>\n      <td>1.293352</td>\n      <td>1.311048</td>\n    </tr>\n    <tr>\n      <th>141</th>\n      <td>-0.345771</td>\n      <td>0.990366</td>\n      <td>1.070912</td>\n      <td>-0.253782</td>\n      <td>-0.132487</td>\n      <td>0.667137</td>\n      <td>0.766839</td>\n      <td>0.559007</td>\n      <td>0.353519</td>\n      <td>0.400510</td>\n      <td>...</td>\n      <td>-0.346276</td>\n      <td>-0.340785</td>\n      <td>0.355947</td>\n      <td>0.363482</td>\n      <td>-0.353249</td>\n      <td>-0.348411</td>\n      <td>-0.338879</td>\n      <td>-0.360165</td>\n      <td>-0.376389</td>\n      <td>-0.460936</td>\n    </tr>\n    <tr>\n      <th>185</th>\n      <td>-0.331409</td>\n      <td>-0.159515</td>\n      <td>-0.229129</td>\n      <td>0.192414</td>\n      <td>-0.728681</td>\n      <td>0.217730</td>\n      <td>0.178540</td>\n      <td>0.256895</td>\n      <td>0.210993</td>\n      <td>0.131156</td>\n      <td>...</td>\n      <td>0.363353</td>\n      <td>0.357047</td>\n      <td>-0.181107</td>\n      <td>-0.184553</td>\n      <td>-0.349247</td>\n      <td>-0.342964</td>\n      <td>-0.226181</td>\n      <td>-0.226980</td>\n      <td>-0.451013</td>\n      <td>-0.367809</td>\n    </tr>\n    <tr>\n      <th>154</th>\n      <td>0.361816</td>\n      <td>-0.255621</td>\n      <td>-0.266026</td>\n      <td>0.037719</td>\n      <td>-1.622971</td>\n      <td>0.367653</td>\n      <td>0.419957</td>\n      <td>0.310804</td>\n      <td>0.638570</td>\n      <td>0.737202</td>\n      <td>...</td>\n      <td>-0.506862</td>\n      <td>-0.480706</td>\n      <td>0.238812</td>\n      <td>0.192629</td>\n      <td>-0.725724</td>\n      <td>-0.713401</td>\n      <td>-0.634949</td>\n      <td>-0.578565</td>\n      <td>-0.408889</td>\n      <td>-0.309763</td>\n    </tr>\n    <tr>\n      <th>68</th>\n      <td>-0.677089</td>\n      <td>-0.362405</td>\n      <td>-0.532967</td>\n      <td>0.470334</td>\n      <td>-0.430584</td>\n      <td>-0.304057</td>\n      <td>-0.335578</td>\n      <td>-0.269225</td>\n      <td>-5.204972</td>\n      <td>-5.390595</td>\n      <td>...</td>\n      <td>-0.463221</td>\n      <td>-0.467622</td>\n      <td>-0.236345</td>\n      <td>-0.312299</td>\n      <td>-0.695473</td>\n      <td>-0.793883</td>\n      <td>-0.676033</td>\n      <td>-0.728738</td>\n      <td>-0.243886</td>\n      <td>-0.709118</td>\n    </tr>\n    <tr>\n      <th>66</th>\n      <td>-0.939006</td>\n      <td>-0.359390</td>\n      <td>-0.262064</td>\n      <td>-0.246494</td>\n      <td>0.165609</td>\n      <td>-0.135564</td>\n      <td>-0.142994</td>\n      <td>-0.126908</td>\n      <td>-0.216583</td>\n      <td>-0.272875</td>\n      <td>...</td>\n      <td>-0.495343</td>\n      <td>-0.455279</td>\n      <td>-0.215288</td>\n      <td>-0.174576</td>\n      <td>-0.811123</td>\n      <td>-0.805745</td>\n      <td>-0.472210</td>\n      <td>-0.433866</td>\n      <td>-0.653767</td>\n      <td>-0.674638</td>\n    </tr>\n    <tr>\n      <th>120</th>\n      <td>-1.296971</td>\n      <td>-0.290923</td>\n      <td>-0.412868</td>\n      <td>0.337502</td>\n      <td>-0.132487</td>\n      <td>-0.224340</td>\n      <td>-0.217883</td>\n      <td>-0.229483</td>\n      <td>-1.285523</td>\n      <td>-1.215613</td>\n      <td>...</td>\n      <td>-0.898106</td>\n      <td>-0.875052</td>\n      <td>-0.695920</td>\n      <td>-0.639223</td>\n      <td>-0.975272</td>\n      <td>-0.958569</td>\n      <td>-0.848784</td>\n      <td>-0.810040</td>\n      <td>-1.105502</td>\n      <td>-1.033717</td>\n    </tr>\n    <tr>\n      <th>147</th>\n      <td>0.248139</td>\n      <td>-0.160897</td>\n      <td>-0.283236</td>\n      <td>0.333527</td>\n      <td>0.165609</td>\n      <td>0.768143</td>\n      <td>0.775967</td>\n      <td>0.754681</td>\n      <td>1.351197</td>\n      <td>1.275909</td>\n      <td>...</td>\n      <td>-0.762405</td>\n      <td>-0.747842</td>\n      <td>-0.394806</td>\n      <td>-0.370345</td>\n      <td>-0.916035</td>\n      <td>-0.915228</td>\n      <td>-0.677823</td>\n      <td>-0.678936</td>\n      <td>-0.700770</td>\n      <td>-0.678062</td>\n    </tr>\n    <tr>\n      <th>98</th>\n      <td>0.841702</td>\n      <td>-0.398084</td>\n      <td>-0.573207</td>\n      <td>0.483915</td>\n      <td>0.463706</td>\n      <td>0.216462</td>\n      <td>0.212484</td>\n      <td>0.219085</td>\n      <td>0.781095</td>\n      <td>0.602525</td>\n      <td>...</td>\n      <td>-0.942635</td>\n      <td>-0.921238</td>\n      <td>-0.675190</td>\n      <td>-0.625801</td>\n      <td>-0.937068</td>\n      <td>-0.922779</td>\n      <td>-0.862564</td>\n      <td>-0.815656</td>\n      <td>-1.041678</td>\n      <td>-0.980331</td>\n    </tr>\n    <tr>\n      <th>138</th>\n      <td>-0.367085</td>\n      <td>0.118879</td>\n      <td>-0.001560</td>\n      <td>0.317627</td>\n      <td>0.165609</td>\n      <td>-0.373810</td>\n      <td>-0.410555</td>\n      <td>-0.333069</td>\n      <td>-1.428049</td>\n      <td>-1.484966</td>\n      <td>...</td>\n      <td>-0.315943</td>\n      <td>-0.363290</td>\n      <td>0.302094</td>\n      <td>0.253394</td>\n      <td>-0.126315</td>\n      <td>-0.152983</td>\n      <td>-0.209801</td>\n      <td>-0.177266</td>\n      <td>-0.286398</td>\n      <td>-0.270443</td>\n    </tr>\n    <tr>\n      <th>167</th>\n      <td>-0.385738</td>\n      <td>-0.509014</td>\n      <td>-0.624837</td>\n      <td>0.329552</td>\n      <td>-1.324874</td>\n      <td>0.117268</td>\n      <td>0.163297</td>\n      <td>0.068673</td>\n      <td>-0.074057</td>\n      <td>0.131156</td>\n      <td>...</td>\n      <td>-0.930636</td>\n      <td>-0.901617</td>\n      <td>-0.517202</td>\n      <td>-0.550074</td>\n      <td>-1.005344</td>\n      <td>-1.003827</td>\n      <td>-0.798895</td>\n      <td>-0.846424</td>\n      <td>-1.103174</td>\n      <td>-0.992605</td>\n    </tr>\n    <tr>\n      <th>45</th>\n      <td>-0.694460</td>\n      <td>-0.394315</td>\n      <td>-0.241015</td>\n      <td>-0.394895</td>\n      <td>-0.728681</td>\n      <td>-0.191185</td>\n      <td>-0.131384</td>\n      <td>-0.251929</td>\n      <td>-0.145320</td>\n      <td>-0.070859</td>\n      <td>...</td>\n      <td>1.313322</td>\n      <td>1.294591</td>\n      <td>-0.181638</td>\n      <td>-0.200515</td>\n      <td>1.308672</td>\n      <td>1.245689</td>\n      <td>1.424757</td>\n      <td>1.519446</td>\n      <td>0.966676</td>\n      <td>0.998470</td>\n    </tr>\n    <tr>\n      <th>113</th>\n      <td>1.616157</td>\n      <td>-0.397079</td>\n      <td>-0.478613</td>\n      <td>0.233489</td>\n      <td>-1.026778</td>\n      <td>0.208852</td>\n      <td>0.226221</td>\n      <td>0.189371</td>\n      <td>0.282256</td>\n      <td>0.265833</td>\n      <td>...</td>\n      <td>-0.926895</td>\n      <td>-0.898115</td>\n      <td>-0.672314</td>\n      <td>-0.633986</td>\n      <td>-0.777464</td>\n      <td>-0.728845</td>\n      <td>-0.807244</td>\n      <td>-0.814652</td>\n      <td>-1.061379</td>\n      <td>-1.052644</td>\n    </tr>\n    <tr>\n      <th>65</th>\n      <td>-3.779609</td>\n      <td>0.068627</td>\n      <td>0.349946</td>\n      <td>-0.755297</td>\n      <td>-0.430584</td>\n      <td>0.941348</td>\n      <td>0.865656</td>\n      <td>1.013371</td>\n      <td>0.424782</td>\n      <td>0.400510</td>\n      <td>...</td>\n      <td>0.207241</td>\n      <td>0.224982</td>\n      <td>0.208706</td>\n      <td>0.183722</td>\n      <td>-0.416073</td>\n      <td>-0.576810</td>\n      <td>-0.334742</td>\n      <td>-0.343882</td>\n      <td>-0.126408</td>\n      <td>-0.260693</td>\n    </tr>\n    <tr>\n      <th>178</th>\n      <td>-2.081724</td>\n      <td>-0.142555</td>\n      <td>-0.328799</td>\n      <td>0.503790</td>\n      <td>1.059899</td>\n      <td>0.311942</td>\n      <td>0.321582</td>\n      <td>0.299765</td>\n      <td>0.567307</td>\n      <td>0.602525</td>\n      <td>...</td>\n      <td>-0.732942</td>\n      <td>-0.748606</td>\n      <td>-0.623079</td>\n      <td>-0.589692</td>\n      <td>-0.534794</td>\n      <td>-0.372949</td>\n      <td>-0.670667</td>\n      <td>-0.683174</td>\n      <td>-0.166540</td>\n      <td>-0.340498</td>\n    </tr>\n    <tr>\n      <th>86</th>\n      <td>0.541011</td>\n      <td>-0.300094</td>\n      <td>-0.503995</td>\n      <td>0.557122</td>\n      <td>1.656093</td>\n      <td>0.159482</td>\n      <td>0.163651</td>\n      <td>0.154045</td>\n      <td>-0.002795</td>\n      <td>-0.003521</td>\n      <td>...</td>\n      <td>-0.828150</td>\n      <td>-0.873205</td>\n      <td>-0.602227</td>\n      <td>-0.581534</td>\n      <td>-0.967066</td>\n      <td>-0.972187</td>\n      <td>-0.807473</td>\n      <td>-0.823433</td>\n      <td>-1.061177</td>\n      <td>-1.078266</td>\n    </tr>\n    <tr>\n      <th>203</th>\n      <td>0.732046</td>\n      <td>-0.377607</td>\n      <td>-0.550054</td>\n      <td>0.475965</td>\n      <td>0.463706</td>\n      <td>0.197710</td>\n      <td>0.184124</td>\n      <td>0.210438</td>\n      <td>0.353519</td>\n      <td>0.131156</td>\n      <td>...</td>\n      <td>-0.709096</td>\n      <td>-0.745577</td>\n      <td>-0.628727</td>\n      <td>-0.607229</td>\n      <td>-0.914739</td>\n      <td>-0.947476</td>\n      <td>-0.813672</td>\n      <td>-0.774727</td>\n      <td>-1.030031</td>\n      <td>-0.848544</td>\n    </tr>\n    <tr>\n      <th>67</th>\n      <td>-0.543340</td>\n      <td>0.271392</td>\n      <td>0.274420</td>\n      <td>-0.018593</td>\n      <td>-0.430584</td>\n      <td>0.278515</td>\n      <td>0.304478</td>\n      <td>0.249628</td>\n      <td>-0.145320</td>\n      <td>-0.138198</td>\n      <td>...</td>\n      <td>0.252438</td>\n      <td>0.231541</td>\n      <td>0.518320</td>\n      <td>0.429126</td>\n      <td>-0.413305</td>\n      <td>-0.499385</td>\n      <td>-0.404805</td>\n      <td>-0.442539</td>\n      <td>-0.225407</td>\n      <td>-0.365543</td>\n    </tr>\n    <tr>\n      <th>82</th>\n      <td>-0.531098</td>\n      <td>-0.109389</td>\n      <td>-0.272835</td>\n      <td>0.441515</td>\n      <td>0.761803</td>\n      <td>0.049327</td>\n      <td>0.051717</td>\n      <td>0.046503</td>\n      <td>-0.002795</td>\n      <td>-0.070859</td>\n      <td>...</td>\n      <td>0.017193</td>\n      <td>0.014261</td>\n      <td>0.107295</td>\n      <td>0.186220</td>\n      <td>-0.441278</td>\n      <td>-0.390358</td>\n      <td>-0.501270</td>\n      <td>-0.420676</td>\n      <td>-0.505085</td>\n      <td>-0.391215</td>\n    </tr>\n    <tr>\n      <th>205</th>\n      <td>1.650296</td>\n      <td>-0.379491</td>\n      <td>-0.501395</td>\n      <td>0.340815</td>\n      <td>0.463706</td>\n      <td>0.248892</td>\n      <td>0.237299</td>\n      <td>0.259195</td>\n      <td>0.282256</td>\n      <td>0.198494</td>\n      <td>...</td>\n      <td>-0.747608</td>\n      <td>-0.722813</td>\n      <td>-0.643267</td>\n      <td>-0.577446</td>\n      <td>-0.939221</td>\n      <td>-0.921575</td>\n      <td>-0.741670</td>\n      <td>-0.734745</td>\n      <td>-0.945075</td>\n      <td>-0.932530</td>\n    </tr>\n    <tr>\n      <th>194</th>\n      <td>-0.151735</td>\n      <td>0.735716</td>\n      <td>0.560553</td>\n      <td>0.440190</td>\n      <td>1.059899</td>\n      <td>-0.274163</td>\n      <td>-0.270438</td>\n      <td>-0.276124</td>\n      <td>-0.644159</td>\n      <td>-0.609567</td>\n      <td>...</td>\n      <td>-0.348854</td>\n      <td>-0.351093</td>\n      <td>-0.547586</td>\n      <td>-0.509265</td>\n      <td>-0.434339</td>\n      <td>-0.472709</td>\n      <td>-0.385316</td>\n      <td>-0.347176</td>\n      <td>0.136266</td>\n      <td>0.253638</td>\n    </tr>\n    <tr>\n      <th>38</th>\n      <td>0.285586</td>\n      <td>0.301920</td>\n      <td>0.808675</td>\n      <td>-1.367450</td>\n      <td>-0.132487</td>\n      <td>-0.147521</td>\n      <td>-0.146096</td>\n      <td>-0.147975</td>\n      <td>-0.002795</td>\n      <td>-0.003521</td>\n      <td>...</td>\n      <td>0.328422</td>\n      <td>0.304908</td>\n      <td>-0.285062</td>\n      <td>-0.280315</td>\n      <td>0.469079</td>\n      <td>0.448804</td>\n      <td>2.333947</td>\n      <td>2.357347</td>\n      <td>1.348801</td>\n      <td>1.229803</td>\n    </tr>\n    <tr>\n      <th>24</th>\n      <td>0.059116</td>\n      <td>-0.314541</td>\n      <td>-0.431688</td>\n      <td>0.325577</td>\n      <td>-0.132487</td>\n      <td>-0.143082</td>\n      <td>-0.176583</td>\n      <td>-0.107313</td>\n      <td>-0.786684</td>\n      <td>-0.946259</td>\n      <td>...</td>\n      <td>-0.144787</td>\n      <td>-0.169345</td>\n      <td>-0.413023</td>\n      <td>-0.445785</td>\n      <td>0.255916</td>\n      <td>-0.028134</td>\n      <td>0.497619</td>\n      <td>0.358017</td>\n      <td>0.660042</td>\n      <td>0.482589</td>\n    </tr>\n    <tr>\n      <th>60</th>\n      <td>-0.325889</td>\n      <td>0.953431</td>\n      <td>1.136409</td>\n      <td>-0.526402</td>\n      <td>0.165609</td>\n      <td>-0.469562</td>\n      <td>-0.356228</td>\n      <td>-0.583940</td>\n      <td>-0.430371</td>\n      <td>-0.340213</td>\n      <td>...</td>\n      <td>0.534393</td>\n      <td>0.555591</td>\n      <td>0.860628</td>\n      <td>0.779077</td>\n      <td>-0.558790</td>\n      <td>-0.540390</td>\n      <td>-0.122635</td>\n      <td>-0.095808</td>\n      <td>-0.212968</td>\n      <td>-0.109523</td>\n    </tr>\n    <tr>\n      <th>195</th>\n      <td>0.072873</td>\n      <td>-0.107630</td>\n      <td>-0.267388</td>\n      <td>0.431577</td>\n      <td>0.463706</td>\n      <td>-0.094437</td>\n      <td>-0.065801</td>\n      <td>-0.123504</td>\n      <td>-0.857947</td>\n      <td>-0.744244</td>\n      <td>...</td>\n      <td>0.006913</td>\n      <td>-0.030211</td>\n      <td>-0.348496</td>\n      <td>-0.372257</td>\n      <td>0.199104</td>\n      <td>0.216460</td>\n      <td>-0.041886</td>\n      <td>-0.026351</td>\n      <td>-0.092347</td>\n      <td>-0.079213</td>\n    </tr>\n    <tr>\n      <th>29</th>\n      <td>2.772916</td>\n      <td>0.229934</td>\n      <td>0.158902</td>\n      <td>0.181151</td>\n      <td>-0.728681</td>\n      <td>-0.034105</td>\n      <td>-0.052507</td>\n      <td>-0.014766</td>\n      <td>-0.359108</td>\n      <td>-0.407552</td>\n      <td>...</td>\n      <td>-0.260094</td>\n      <td>-0.234155</td>\n      <td>-0.477360</td>\n      <td>-0.454224</td>\n      <td>-0.061877</td>\n      <td>-0.053182</td>\n      <td>0.740607</td>\n      <td>0.744474</td>\n      <td>0.342722</td>\n      <td>0.139537</td>\n    </tr>\n    <tr>\n      <th>19</th>\n      <td>-0.525159</td>\n      <td>-0.088912</td>\n      <td>0.212885</td>\n      <td>-0.803991</td>\n      <td>-1.921068</td>\n      <td>-0.364751</td>\n      <td>-0.254308</td>\n      <td>-0.476857</td>\n      <td>-0.359108</td>\n      <td>-0.272875</td>\n      <td>...</td>\n      <td>1.982199</td>\n      <td>1.755941</td>\n      <td>0.161717</td>\n      <td>0.123124</td>\n      <td>1.984449</td>\n      <td>1.979010</td>\n      <td>1.715561</td>\n      <td>1.680732</td>\n      <td>1.199706</td>\n      <td>1.248940</td>\n    </tr>\n    <tr>\n      <th>55</th>\n      <td>0.809795</td>\n      <td>-0.249591</td>\n      <td>-0.380677</td>\n      <td>0.360358</td>\n      <td>-0.132487</td>\n      <td>0.168541</td>\n      <td>0.189707</td>\n      <td>0.145397</td>\n      <td>0.139731</td>\n      <td>0.198494</td>\n      <td>...</td>\n      <td>-0.669237</td>\n      <td>-0.656816</td>\n      <td>-0.180495</td>\n      <td>-0.230399</td>\n      <td>-0.766422</td>\n      <td>-0.791383</td>\n      <td>-0.684207</td>\n      <td>-0.650202</td>\n      <td>-0.655606</td>\n      <td>-0.635435</td>\n    </tr>\n  </tbody>\n</table>\n<p>55 rows × 1311 columns</p>\n</div>"
     },
     "metadata": {},
     "output_type": "display_data"
    }
   ],
   "source": [
    "# Changed scaled X's from numpy array to dataframe and assign scaled data to X_train and X_test\n",
    "\n",
    "# retain X_train_scaled as a dataframe\n",
    "X_train = pd.DataFrame(X_train_scaled, index=X_train.index, columns=X_train.columns)\n",
    "display(X_train)\n",
    "\n",
    "# retain X_test_scale as a dataframe\n",
    "X_test = pd.DataFrame(X_test_scaled, index=X_test.index, columns=X_test.columns)\n",
    "display(X_test)\n"
   ],
   "metadata": {
    "collapsed": false,
    "pycharm": {
     "name": "#%%\n"
    }
   }
  },
  {
   "cell_type": "code",
   "execution_count": 288,
   "outputs": [
    {
     "data": {
      "text/plain": "Index(['AQI_2017_2018_diff', 'TOT_MALE_ratio_2017_2018_diff',\n       'TOT_FEMALE_ratio_2017_2018_diff', 'HBA_MALE_ratio_2017_2018_diff',\n       'HBA_FEMALE_ratio_2017_2018_diff', 'HBAC_MALE_ratio_2017_2018_diff',\n       'HBAC_FEMALE_ratio_2017_2018_diff', 'HAA_MALE_2017_2019_diff',\n       'HAAC_MALE_2017_2019_diff', 'TOT_MALE_ratio_2017_2019_diff',\n       'TOT_FEMALE_ratio_2017_2019_diff', 'WA_MALE_ratio_2017_2019_diff',\n       'WAC_MALE_ratio_2017_2019_diff', 'HAA_MALE_ratio_2017_2019_diff',\n       'HBAC_FEMALE_ratio_2017_2019_diff', 'HAAC_MALE_ratio_2017_2019_diff',\n       '90% CI LB 5-17 fam_2018_2019_diff', 'HIA_MALE_2018_2019_diff',\n       'HIA_FEMALE_2018_2019_diff', 'HAA_MALE_2018_2019_diff',\n       'HAA_FEMALE_2018_2019_diff', 'HIAC_MALE_2018_2019_diff',\n       'HIAC_FEMALE_2018_2019_diff', 'HAAC_MALE_2018_2019_diff',\n       'WAC_MALE_ratio_2018_2019_diff', 'HAA_MALE_ratio_2018_2019_diff',\n       'HAAC_MALE_ratio_2018_2019_diff', 'NHIA_FEMALE_2017_2018_pct_change',\n       'NHIAC_FEMALE_2017_2018_pct_change', 'H_FEMALE_2017_2018_pct_change',\n       'HWA_FEMALE_2017_2018_pct_change', 'HBA_MALE_2017_2018_pct_change',\n       'HWAC_FEMALE_2017_2018_pct_change',\n       'TOT_MALE_ratio_2017_2018_pct_change',\n       'TOT_FEMALE_ratio_2017_2018_pct_change',\n       'TOM_FEMALE_ratio_2017_2018_pct_change',\n       'IAC_FEMALE_ratio_2017_2018_pct_change',\n       'NH_FEMALE_ratio_2017_2018_pct_change',\n       'NHWA_FEMALE_ratio_2017_2018_pct_change',\n       'NHIA_FEMALE_ratio_2017_2018_pct_change',\n       'NHWAC_FEMALE_ratio_2017_2018_pct_change',\n       'NHIAC_FEMALE_ratio_2017_2018_pct_change',\n       'H_MALE_ratio_2017_2018_pct_change',\n       'H_FEMALE_ratio_2017_2018_pct_change',\n       'HWA_MALE_ratio_2017_2018_pct_change',\n       'HWA_FEMALE_ratio_2017_2018_pct_change',\n       'HBA_MALE_ratio_2017_2018_pct_change',\n       'HWAC_MALE_ratio_2017_2018_pct_change',\n       'HWAC_FEMALE_ratio_2017_2018_pct_change',\n       'BACH_TOT_2017_2019_pct_change', 'H_FEMALE_2017_2019_pct_change',\n       'HBA_FEMALE_2017_2019_pct_change',\n       'TOT_MALE_ratio_2017_2019_pct_change',\n       'TOT_FEMALE_ratio_2017_2019_pct_change',\n       'NH_MALE_ratio_2017_2019_pct_change',\n       'NH_FEMALE_ratio_2017_2019_pct_change',\n       'NHIA_FEMALE_ratio_2017_2019_pct_change',\n       'NHIAC_FEMALE_ratio_2017_2019_pct_change',\n       'H_MALE_ratio_2017_2019_pct_change',\n       'H_FEMALE_ratio_2017_2019_pct_change',\n       'HWA_MALE_ratio_2017_2019_pct_change',\n       'HWA_FEMALE_ratio_2017_2019_pct_change',\n       'HBA_FEMALE_ratio_2017_2019_pct_change',\n       'HWAC_MALE_ratio_2017_2019_pct_change',\n       'HWAC_FEMALE_ratio_2017_2019_pct_change',\n       'HBAC_FEMALE_ratio_2017_2019_pct_change',\n       'Personal income (thousands of dollars) 2018_2019_pct_change',\n       'Per capita personal income (dollars) 2018_2019_pct_change',\n       'NH_MALE_ratio_2018_2019_pct_change',\n       'NH_FEMALE_ratio_2018_2019_pct_change', 'Unemployment_rate_2018',\n       'EDU_TOT_ratio_2018', 'LESS_HS_TOT_ratio_2018', 'GRAD_TOT_ratio_2018',\n       'TOT_MALE_ratio_2018', 'TOT_FEMALE_ratio_2018', 'NH_MALE_ratio_2018',\n       'NH_FEMALE_ratio_2018', 'NHWA_MALE_ratio_2018',\n       'NHWA_FEMALE_ratio_2018', 'NHWAC_MALE_ratio_2018',\n       'NHWAC_FEMALE_ratio_2018', 'H_MALE_ratio_2018', 'H_FEMALE_ratio_2018',\n       'HWA_MALE_ratio_2018', 'HWA_FEMALE_ratio_2018', 'HIA_MALE_ratio_2018',\n       'HIA_FEMALE_ratio_2018', 'HAA_MALE_ratio_2018', 'HAA_FEMALE_ratio_2018',\n       'HNA_MALE_ratio_2018', 'HNA_FEMALE_ratio_2018', 'HWAC_MALE_ratio_2018',\n       'HWAC_FEMALE_ratio_2018', 'HIAC_MALE_ratio_2018',\n       'HIAC_FEMALE_ratio_2018', 'HAAC_MALE_ratio_2018',\n       'HAAC_FEMALE_ratio_2018', 'HNAC_MALE_ratio_2018',\n       'HNAC_FEMALE_ratio_2018'],\n      dtype='object')"
     },
     "execution_count": 288,
     "metadata": {},
     "output_type": "execute_result"
    }
   ],
   "source": [
    "# used to test feature selection\n",
    "select_k_best = SelectKBest(f_regression, k=100)\n",
    "X_train_k_best = select_k_best.fit_transform(X_train, y_train)\n",
    "\n",
    "best_k_cols = X_train.columns[select_k_best.get_support()]\n",
    "best_k_cols"
   ],
   "metadata": {
    "collapsed": false,
    "pycharm": {
     "name": "#%%\n"
    }
   }
  },
  {
   "cell_type": "markdown",
   "source": [
    "## Develop baseline with dummy regressor\n",
    "* run dummy regressor with strategy mean and median\n"
   ],
   "metadata": {
    "collapsed": false
   }
  },
  {
   "cell_type": "code",
   "execution_count": 289,
   "outputs": [
    {
     "data": {
      "text/plain": "-0.014683484428373195"
     },
     "execution_count": 289,
     "metadata": {},
     "output_type": "execute_result"
    }
   ],
   "source": [
    "# with mean\n",
    "dummy = DummyRegressor(strategy='mean')\n",
    "\n",
    "dummy.fit(X_train_k_best, y_train)\n",
    "\n",
    "dummy.score(X_test[best_k_cols], y_test)\n"
   ],
   "metadata": {
    "collapsed": false,
    "pycharm": {
     "name": "#%%\n"
    }
   }
  },
  {
   "cell_type": "code",
   "execution_count": 290,
   "outputs": [
    {
     "data": {
      "text/plain": "-0.005731197263146637"
     },
     "execution_count": 290,
     "metadata": {},
     "output_type": "execute_result"
    }
   ],
   "source": [
    "# with median\n",
    "dummy = DummyRegressor(strategy='median')\n",
    "\n",
    "dummy.fit(X_train_k_best, y_train)\n",
    "\n",
    "dummy.score(X_test[best_k_cols], y_test)"
   ],
   "metadata": {
    "collapsed": false,
    "pycharm": {
     "name": "#%%\n"
    }
   }
  },
  {
   "cell_type": "code",
   "execution_count": 291,
   "outputs": [
    {
     "name": "stdout",
     "output_type": "stream",
     "text": [
      "best score:  0.32284550703007386\n",
      "best estimator Lasso(alpha=0.3462019998704101, random_state=42, warm_start=True)\n"
     ]
    }
   ],
   "source": [
    "param_grid = {'alpha':np.arange(0.1, 1.1, step=0.00000001),\n",
    "              'selection':['random', 'cyclic'],\n",
    "              'positive':[True, False],\n",
    "              'fit_intercept':[True,False], 'random_state':[42],\n",
    "              'normalize':[True,False], 'warm_start':[True,False]}\n",
    "lasso = Lasso()\n",
    "lasso_grid = RandomizedSearchCV(lasso, param_grid, cv=5, random_state=42)\n",
    "lasso_grid.fit(X_train_k_best, y_train)\n",
    "print('best score: ', lasso_grid.best_score_)\n",
    "print('best estimator', lasso_grid.best_estimator_)\n",
    "tmp = lasso_grid.best_score_"
   ],
   "metadata": {
    "collapsed": false,
    "pycharm": {
     "name": "#%%\n"
    }
   }
  },
  {
   "cell_type": "code",
   "execution_count": 292,
   "outputs": [
    {
     "name": "stdout",
     "output_type": "stream",
     "text": [
      "R^2 0.43426603984571566\n"
     ]
    }
   ],
   "source": [
    "lasso_best = lasso_grid.best_estimator_\n",
    "lasso_best.fit(X_train_k_best, y_train)\n",
    "\n",
    "# this retrieves correlation of determination value\n",
    "print('R^2', lasso_best.score(X_test[best_k_cols], y_test))"
   ],
   "metadata": {
    "collapsed": false,
    "pycharm": {
     "name": "#%%\n"
    }
   }
  },
  {
   "cell_type": "code",
   "execution_count": 293,
   "outputs": [
    {
     "name": "stdout",
     "output_type": "stream",
     "text": [
      "0.11292810111260876 0.32284550703007386 0.012752756020899586\n",
      "train scores [0.5244933777872176, 0.24356422010782053, 0.36148184707155695, 0.2079735901386297, 0.27671450004514486]\n"
     ]
    }
   ],
   "source": [
    "train_scores = []\n",
    "for i in range(0,5):\n",
    "    train_scores.append(lasso_grid.cv_results_['split{}_test_score'.format(i)][lasso_grid.best_index_])\n",
    "\n",
    "print(np.std(train_scores), np.mean(train_scores), np.var(train_scores))\n",
    "print('train scores', train_scores)"
   ],
   "metadata": {
    "collapsed": false,
    "pycharm": {
     "name": "#%%\n"
    }
   }
  },
  {
   "cell_type": "markdown",
   "source": [
    "### Evaluation\n",
    "\n",
    "Variation among the cross fold train scores seem reasonable and model does not appear to overfit"
   ],
   "metadata": {
    "collapsed": false
   }
  },
  {
   "cell_type": "code",
   "execution_count": 294,
   "outputs": [
    {
     "name": "stderr",
     "output_type": "stream",
     "text": [
      "/home/wkc/.local/lib/python3.8/site-packages/sklearn/model_selection/_search.py:918: UserWarning: One or more of the test scores are non-finite: [       nan 0.37780066 0.37695549 0.37410837        nan        nan\n",
      " 0.37608502        nan 0.37728992 0.38191013]\n",
      "  warnings.warn(\n"
     ]
    },
    {
     "name": "stdout",
     "output_type": "stream",
     "text": [
      "best score 0.3819101309350703 best params RandomForestRegressor(criterion='mae', max_features='sqrt', n_estimators=476,\n",
      "                      random_state=42)\n"
     ]
    }
   ],
   "source": [
    "rf_param_grid = {'n_estimators':np.arange(10,1000,step=1), 'criterion':['mse','mae'], 'max_features':['auot','sqrt','log2'],\n",
    "                 'random_state':[42]}\n",
    "rf = RandomForestRegressor()\n",
    "rf_grid = RandomizedSearchCV(rf, rf_param_grid, cv=5, random_state=42)\n",
    "rf_grid.fit(X_train_k_best, y_train)\n",
    "\n",
    "print('best score', rf_grid.best_score_, 'best params', rf_grid.best_estimator_)\n"
   ],
   "metadata": {
    "collapsed": false,
    "pycharm": {
     "name": "#%%\n"
    }
   }
  },
  {
   "cell_type": "code",
   "execution_count": 295,
   "outputs": [
    {
     "data": {
      "text/plain": "0.415202244413048"
     },
     "execution_count": 295,
     "metadata": {},
     "output_type": "execute_result"
    }
   ],
   "source": [
    "rf_best = rf_grid.best_estimator_\n",
    "rf_best.fit(X_train_k_best, y_train)\n",
    "rf_best.score(X_test[best_k_cols], y_test)"
   ],
   "metadata": {
    "collapsed": false,
    "pycharm": {
     "name": "#%%\n"
    }
   }
  },
  {
   "cell_type": "markdown",
   "source": [
    "* Makes sense that Random Forest Regessor does a littlbe bit better than a individual regressor\n",
    "\n"
   ],
   "metadata": {
    "collapsed": false
   }
  },
  {
   "cell_type": "markdown",
   "source": [
    "### save new X and y for 74-26 split\n"
   ],
   "metadata": {
    "collapsed": false,
    "pycharm": {
     "name": "#%% md\n"
    }
   }
  },
  {
   "cell_type": "code",
   "execution_count": 297,
   "outputs": [],
   "source": [
    "X_train_path = r'../../data/train_test/X_train_74_26'\n",
    "X_train.to_csv(X_train_path, index=False)\n",
    "\n",
    "X_test_scaled_path = r'../../data/train_test/X_test_74_26'\n",
    "X_test.to_csv(X_test_scaled_path, index=False)\n",
    "\n",
    "y_train_path = r'../../data/train_test/y_train_alt_74_26'\n",
    "y_train.to_csv(y_train_path, index=False)\n",
    "\n",
    "y_test_path = r'../../data/train_test/y_test_alt+74_26'\n",
    "y_test.to_csv(y_test_path, index=False)"
   ],
   "metadata": {
    "collapsed": false,
    "pycharm": {
     "name": "#%%\n"
    }
   }
  },
  {
   "cell_type": "markdown",
   "source": [
    "# Overall notes\n",
    "* it appears that running with 76-24 split, produced results with acceptiable variation between split results from cross validation\n",
    "and test result\n"
   ],
   "metadata": {
    "collapsed": false,
    "pycharm": {
     "name": "#%% md\n"
    }
   }
  }
 ],
 "metadata": {
  "kernelspec": {
   "name": "pycharm-301d774e",
   "language": "python",
   "display_name": "PyCharm (API_Mini_Project)"
  },
  "language_info": {
   "codemirror_mode": {
    "name": "ipython",
    "version": 2
   },
   "file_extension": ".py",
   "mimetype": "text/x-python",
   "name": "python",
   "nbconvert_exporter": "python",
   "pygments_lexer": "ipython2",
   "version": "2.7.6"
  }
 },
 "nbformat": 4,
 "nbformat_minor": 0
}