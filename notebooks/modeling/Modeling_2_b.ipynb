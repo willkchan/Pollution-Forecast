{
 "cells": [
  {
   "cell_type": "markdown",
   "source": [
    "# Modeling: Try using SVR with poly kernel\n",
    "* it apears that poly does a poor job with trainiing data"
   ],
   "metadata": {
    "collapsed": false
   }
  },
  {
   "cell_type": "markdown",
   "source": [
    "## Import packages"
   ],
   "metadata": {
    "collapsed": false
   }
  },
  {
   "cell_type": "code",
   "execution_count": 4,
   "outputs": [],
   "source": [
    "import joblib\n",
    "import numpy as np\n",
    "import pandas as pd\n",
    "import seaborn as sns\n",
    "import matplotlib.pyplot as plt\n",
    "from IPython.core.display import display\n",
    "from scipy import stats\n",
    "from sklearn.decomposition import PCA\n",
    "from sklearn.dummy import DummyRegressor\n",
    "from sklearn.ensemble import RandomForestRegressor\n",
    "from sklearn.feature_selection import SelectKBest, f_regression\n",
    "from sklearn.model_selection import train_test_split, GridSearchCV, RandomizedSearchCV, cross_validate\n",
    "from sklearn.svm import SVR\n",
    "from sklearn.linear_model import LinearRegression, Lasso, Ridge, ElasticNet\n",
    "from sklearn import preprocessing, svm\n",
    "from sklearn.metrics import r2_score, accuracy_score, mean_absolute_error\n",
    "\n",
    "#Use to ignore convergence warnings\n",
    "import warnings\n",
    "from sklearn.exceptions import DataConversionWarning\n",
    "from sklearn.exceptions import ConvergenceWarning\n",
    "from sklearn.exceptions import FitFailedWarning\n",
    "from sklearn.pipeline import Pipeline, make_pipeline\n",
    "from sklearn.preprocessing import StandardScaler\n",
    "from sklearn import __version__ as sklearn_version\n",
    "import datetime\n",
    "\n",
    "import joblib\n",
    "\n",
    "warnings.filterwarnings(action='ignore', category=DataConversionWarning)\n",
    "warnings.filterwarnings(action='ignore', category=ConvergenceWarning)\n",
    "warnings.filterwarnings(action='ignore', category=FitFailedWarning)\n",
    "\n",
    "\n",
    "# pd.set_option('display.max_columns', None)\n",
    "# pd.reset_option('max_rows')\n",
    "# np.set_printoptions(threshold=sys.maxsize)\n",
    "\n",
    "plt.style.use('dark_background')\n",
    "plt.rcParams.update({\"grid.linewidth\":0.5, \"grid.alpha\":0.5})\n",
    "sns.set(style='ticks', context='talk')"
   ],
   "metadata": {
    "collapsed": false,
    "pycharm": {
     "name": "#%%\n"
    }
   }
  },
  {
   "cell_type": "markdown",
   "source": [
    "## Load X and y data sets"
   ],
   "metadata": {
    "collapsed": false
   }
  },
  {
   "cell_type": "code",
   "execution_count": 5,
   "outputs": [],
   "source": [
    "# import X and y training and test sets\n",
    "\n",
    "X = pd.read_csv('../../data/train_test/X_alt')\n",
    "y = pd.read_csv('../../data/train_test/y_alt')\n",
    "\n",
    "X_train = pd.read_csv('../../data/train_test/X_train_74_26')\n",
    "\n",
    "X_test = pd.read_csv('../../data/train_test/X_test_74_26')\n",
    "\n",
    "y_train = pd.read_csv('../../data/train_test/y_train_alt_74_26')\n",
    "\n",
    "y_test = pd.read_csv('../../data/train_test/y_test_alt+74_26')"
   ],
   "metadata": {
    "collapsed": false,
    "pycharm": {
     "name": "#%%\n"
    }
   }
  },
  {
   "cell_type": "code",
   "execution_count": 6,
   "outputs": [],
   "source": [
    "X_train, X_test, y_train, y_test = train_test_split(X, y, test_size=0.26, random_state=42)"
   ],
   "metadata": {
    "collapsed": false,
    "pycharm": {
     "name": "#%%\n"
    }
   }
  },
  {
   "cell_type": "code",
   "execution_count": 7,
   "outputs": [],
   "source": [
    "svr_pipe = Pipeline([('scaler', StandardScaler()), ('svr', SVR())])"
   ],
   "metadata": {
    "collapsed": false,
    "pycharm": {
     "name": "#%%\n"
    }
   }
  },
  {
   "cell_type": "code",
   "execution_count": 57,
   "outputs": [
    {
     "data": {
      "text/plain": "{'memory': None,\n 'steps': [('scaler', StandardScaler()), ('svr', SVR())],\n 'verbose': False,\n 'scaler': StandardScaler(),\n 'svr': SVR(),\n 'scaler__copy': True,\n 'scaler__with_mean': True,\n 'scaler__with_std': True,\n 'svr__C': 1.0,\n 'svr__cache_size': 200,\n 'svr__coef0': 0.0,\n 'svr__degree': 3,\n 'svr__epsilon': 0.1,\n 'svr__gamma': 'scale',\n 'svr__kernel': 'rbf',\n 'svr__max_iter': -1,\n 'svr__shrinking': True,\n 'svr__tol': 0.001,\n 'svr__verbose': False}"
     },
     "execution_count": 57,
     "metadata": {},
     "output_type": "execute_result"
    }
   ],
   "source": [
    "svr_pipe.get_params()"
   ],
   "metadata": {
    "collapsed": false,
    "pycharm": {
     "name": "#%%\n"
    }
   }
  },
  {
   "cell_type": "code",
   "execution_count": 8,
   "outputs": [
    {
     "data": {
      "text/plain": "[30.0,\n 20.85578,\n 14.49879,\n 10.07945,\n 7.00716,\n 4.87133,\n 3.38651,\n 2.35428,\n 1.63668,\n 1.13781,\n 0.791,\n 0.54989,\n 0.38228,\n 0.26576,\n 0.18475,\n 0.12844,\n 0.08929,\n 0.06207,\n 0.04315,\n 0.03]"
     },
     "execution_count": 8,
     "metadata": {},
     "output_type": "execute_result"
    }
   ],
   "source": [
    "epsilon = [round(n,5) for n in 3 * np.logspace(start=1, stop=-2, num=20)]\n",
    "epsilon"
   ],
   "metadata": {
    "collapsed": false,
    "pycharm": {
     "name": "#%%\n"
    }
   }
  },
  {
   "cell_type": "code",
   "execution_count": 50,
   "outputs": [
    {
     "data": {
      "text/plain": "[1.0,\n 1.1787686347935873,\n 1.3894954943731377,\n 1.637893706954064,\n 1.93069772888325,\n 2.2758459260747883,\n 2.6826957952797255,\n 3.1622776601683795,\n 3.72759372031494,\n 4.39397056076079,\n 5.17947467923121,\n 6.1054022965853285,\n 7.196856730011519,\n 8.483428982440719,\n 10.0]"
     },
     "execution_count": 50,
     "metadata": {},
     "output_type": "execute_result"
    }
   ],
   "source": [
    "C = [(n) for n in np.logspace(start=0, stop=1, num=15)]\n",
    "C"
   ],
   "metadata": {
    "collapsed": false,
    "pycharm": {
     "name": "#%%\n"
    }
   }
  },
  {
   "cell_type": "code",
   "execution_count": null,
   "outputs": [],
   "source": [],
   "metadata": {
    "collapsed": false,
    "pycharm": {
     "name": "#%%\n"
    }
   }
  },
  {
   "cell_type": "code",
   "execution_count": 58,
   "outputs": [],
   "source": [
    "svr_param_grid = {'scaler':[None, StandardScaler()],\n",
    "                  'svr__kernel':['poly'],\n",
    "                  'svr__C':C,\n",
    "                  'svr__epsilon':epsilon\n",
    "                  }"
   ],
   "metadata": {
    "collapsed": false,
    "pycharm": {
     "name": "#%%\n"
    }
   }
  },
  {
   "cell_type": "code",
   "execution_count": 59,
   "outputs": [
    {
     "data": {
      "text/plain": "({'scaler': StandardScaler(),\n  'svr__C': 7.196856730011519,\n  'svr__epsilon': 3.38651,\n  'svr__kernel': 'poly'},\n 0.05652101302667582)"
     },
     "execution_count": 59,
     "metadata": {},
     "output_type": "execute_result"
    }
   ],
   "source": [
    "svr_lin_grid = GridSearchCV(svr_pipe, svr_param_grid, cv=5, n_jobs=-1)\n",
    "svr_lin_grid.fit(X_train, y_train)\n",
    "svr_lin_grid.best_params_, svr_lin_grid.best_score_\n"
   ],
   "metadata": {
    "collapsed": false,
    "pycharm": {
     "name": "#%%\n"
    }
   }
  },
  {
   "cell_type": "code",
   "execution_count": null,
   "outputs": [],
   "source": [],
   "metadata": {
    "collapsed": false,
    "pycharm": {
     "name": "#%%\n"
    }
   }
  }
 ],
 "metadata": {
  "kernelspec": {
   "name": "pycharm-301d774e",
   "language": "python",
   "display_name": "PyCharm (API_Mini_Project)"
  },
  "language_info": {
   "codemirror_mode": {
    "name": "ipython",
    "version": 2
   },
   "file_extension": ".py",
   "mimetype": "text/x-python",
   "name": "python",
   "nbconvert_exporter": "python",
   "pygments_lexer": "ipython2",
   "version": "2.7.6"
  }
 },
 "nbformat": 4,
 "nbformat_minor": 0
}