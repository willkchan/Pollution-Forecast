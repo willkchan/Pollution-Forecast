{
 "cells": [
  {
   "cell_type": "markdown",
   "source": [
    "# Make api call to retrieve education level of counties"
   ],
   "metadata": {
    "collapsed": false
   }
  },
  {
   "cell_type": "code",
   "execution_count": null,
   "outputs": [],
   "source": [
    "from us import states\n",
    "\n",
    "import numpy as np\n",
    "import pandas as pd\n",
    "import os\n",
    "import matplotlib.pyplot as plt\n",
    "import requests\n",
    "\n",
    "CENSUS_API_KEY = os.getenv('CENSUS_API_KEY')\n",
    "\n",
    "from IPython.core.display import display\n",
    "\n",
    "plt.style.use('dark_background')\n",
    "plt.rcParams.update({\"grid.linewidth\":0.5, \"grid.alpha\":0.5})\n"
   ],
   "metadata": {
    "collapsed": false,
    "pycharm": {
     "name": "#%%\n"
    }
   }
  },
  {
   "cell_type": "code",
   "execution_count": null,
   "outputs": [],
   "source": [
    "\n",
    "ESTIMATE_TOT = 'B06009_001E'\n",
    "ESTIMATE_TOT_LESS_HS = 'B06009_002E'\n",
    "ESTIMATE_TOT_HS = 'B06009_003E'\n",
    "ESTIMATE_TOT_COL_OR_ASSOC = 'B06009_004E'\n",
    "ESTIMATE_TOT_BACH = 'B06009_005E'\n",
    "ESTIMATE_TOT_GRAD = 'B06009_006E'\n",
    "\n",
    "#Car van truck, used in commuting\n",
    "ESTIMATE_AGG_VEHICLE = 'B08015_001E'\n",
    "ESTIMATE_TOT_WALK = 'B08126_068E'"
   ],
   "metadata": {
    "collapsed": false,
    "pycharm": {
     "name": "#%%\n"
    }
   }
  },
  {
   "cell_type": "code",
   "execution_count": null,
   "outputs": [],
   "source": [
    "# getting data for 2019 county datasets\n",
    "\n",
    "HOST = 'https://api.census.gov/data'\n",
    "year = '2019'\n",
    "dataset = 'acs/acs1'\n",
    "base_url = '/'.join([HOST, year, dataset])\n",
    "\n",
    "predicates = {}\n",
    "get_vars = ['NAME', ESTIMATE_TOT, ESTIMATE_TOT_LESS_HS, ESTIMATE_TOT_HS,\n",
    "            ESTIMATE_TOT_COL_OR_ASSOC, ESTIMATE_TOT_BACH, ESTIMATE_TOT_GRAD,\n",
    "            ESTIMATE_AGG_VEHICLE, ESTIMATE_TOT_WALK]\n",
    "predicates['get'] = ','.join(get_vars)\n",
    "predicates['for'] = ['county:*','state:*']\n",
    "\n",
    "r = requests.get(base_url, params=predicates)\n",
    "json = r.text"
   ],
   "metadata": {
    "collapsed": false,
    "pycharm": {
     "name": "#%%\n"
    }
   }
  },
  {
   "cell_type": "code",
   "execution_count": null,
   "outputs": [],
   "source": [
    "json\n",
    "# df = pd.DataFrame(columns=)\n",
    "col_names = (r.json()[0])\n",
    "df = pd.DataFrame(columns=col_names, data=r.json()[1:])\n",
    "# educational attainment for all us by county"
   ],
   "metadata": {
    "collapsed": false,
    "pycharm": {
     "name": "#%%\n"
    }
   }
  },
  {
   "cell_type": "code",
   "execution_count": null,
   "outputs": [],
   "source": [
    "df.rename(columns={'B06009_001E': 'EDU_TOT', 'B06009_002E':'LESS_HS_TOT', 'B06009_003E':'HS_TOT',\n",
    "                   'B06009_004E':'COL_OR_ASSOC_TOT', 'B06009_005E':'BACH_TOT', 'B06009_006E':'GRAD_TOT',\n",
    "                   'B08015_001E':'VEHICLE_TOT', 'B08126_068E':'WALK_TOT' }, inplace=True)"
   ],
   "metadata": {
    "collapsed": false,
    "pycharm": {
     "name": "#%%\n"
    }
   }
  },
  {
   "cell_type": "code",
   "execution_count": null,
   "outputs": [],
   "source": [
    "# reformat columns\n",
    "df = df[['NAME', 'state', 'county', 'EDU_TOT', 'LESS_HS_TOT', 'HS_TOT', 'COL_OR_ASSOC_TOT',\n",
    "       'BACH_TOT', 'GRAD_TOT', 'VEHICLE_TOT', 'WALK_TOT']]"
   ],
   "metadata": {
    "collapsed": false,
    "pycharm": {
     "name": "#%%\n"
    }
   }
  },
  {
   "cell_type": "code",
   "execution_count": null,
   "outputs": [],
   "source": [
    "# save the data to a new csv file. keep commented to prevent from always saving\n",
    "display(df)\n",
    "data_path = r'../../data/processed/acs1_edu_vehicle2019.csv'\n",
    "df.to_csv(data_path)\n"
   ],
   "metadata": {
    "collapsed": false,
    "pycharm": {
     "name": "#%%\n"
    }
   }
  },
  {
   "cell_type": "markdown",
   "source": [
    "# repeat steps for year 2018\n"
   ],
   "metadata": {
    "collapsed": false
   }
  },
  {
   "cell_type": "code",
   "execution_count": null,
   "outputs": [],
   "source": [
    "year = '2018'\n",
    "base_url = '/'.join([HOST, year, dataset])\n",
    "\n",
    "predicates = {}\n",
    "get_vars = ['NAME', ESTIMATE_TOT, ESTIMATE_TOT_LESS_HS, ESTIMATE_TOT_HS,\n",
    "            ESTIMATE_TOT_COL_OR_ASSOC, ESTIMATE_TOT_BACH, ESTIMATE_TOT_GRAD,\n",
    "            ESTIMATE_AGG_VEHICLE, ESTIMATE_TOT_WALK]\n",
    "predicates['get'] = ','.join(get_vars)\n",
    "predicates['for'] = ['county:*','state:*']\n",
    "\n",
    "r = requests.get(base_url, params=predicates)\n",
    "json = r.text"
   ],
   "metadata": {
    "collapsed": false,
    "pycharm": {
     "name": "#%%\n"
    }
   }
  },
  {
   "cell_type": "code",
   "execution_count": null,
   "outputs": [],
   "source": [
    "json\n",
    "# df = pd.DataFrame(columns=)\n",
    "col_names = (r.json()[0])\n",
    "df = pd.DataFrame(columns=col_names, data=r.json()[1:])\n",
    "# educational attainment for all us by county"
   ],
   "metadata": {
    "collapsed": false,
    "pycharm": {
     "name": "#%%\n"
    }
   }
  },
  {
   "cell_type": "code",
   "execution_count": null,
   "outputs": [],
   "source": [
    "df.rename(columns={'B06009_001E': 'EDU_TOT', 'B06009_002E':'LESS_HS_TOT', 'B06009_003E':'HS_TOT',\n",
    "                   'B06009_004E':'COL_OR_ASSOC_TOT', 'B06009_005E':'BACH_TOT', 'B06009_006E':'GRAD_TOT',\n",
    "                   'B08015_001E':'VEHICLE_TOT', 'B08126_068E':'WALK_TOT' }, inplace=True)"
   ],
   "metadata": {
    "collapsed": false,
    "pycharm": {
     "name": "#%%\n"
    }
   }
  },
  {
   "cell_type": "code",
   "execution_count": null,
   "outputs": [],
   "source": [
    "# reformat columns\n",
    "df = df[['NAME', 'state', 'county', 'EDU_TOT', 'LESS_HS_TOT', 'HS_TOT', 'COL_OR_ASSOC_TOT',\n",
    "       'BACH_TOT', 'GRAD_TOT', 'VEHICLE_TOT', 'WALK_TOT']]\n"
   ],
   "metadata": {
    "collapsed": false,
    "pycharm": {
     "name": "#%%\n"
    }
   }
  },
  {
   "cell_type": "code",
   "execution_count": null,
   "outputs": [],
   "source": [
    "# save the data to a new csv file. keep commented to prevent from always saving\n",
    "display(df)\n",
    "data_path = r'../../data/processed/acs1_edu_vehicle2018.csv'\n",
    "df.to_csv(data_path)"
   ],
   "metadata": {
    "collapsed": false,
    "pycharm": {
     "name": "#%%\n"
    }
   }
  },
  {
   "cell_type": "markdown",
   "source": [
    "# repeat steps for year 2017\n"
   ],
   "metadata": {
    "collapsed": false
   }
  },
  {
   "cell_type": "code",
   "execution_count": null,
   "outputs": [],
   "source": [
    "year = '2017'\n",
    "base_url = '/'.join([HOST, year, dataset])\n",
    "\n",
    "predicates = {}\n",
    "get_vars = ['NAME', ESTIMATE_TOT, ESTIMATE_TOT_LESS_HS, ESTIMATE_TOT_HS,\n",
    "            ESTIMATE_TOT_COL_OR_ASSOC, ESTIMATE_TOT_BACH, ESTIMATE_TOT_GRAD,\n",
    "            ESTIMATE_AGG_VEHICLE, ESTIMATE_TOT_WALK]\n",
    "predicates['get'] = ','.join(get_vars)\n",
    "predicates['for'] = ['county:*','state:*']\n",
    "\n",
    "r = requests.get(base_url, params=predicates)\n",
    "json = r.text"
   ],
   "metadata": {
    "collapsed": false,
    "pycharm": {
     "name": "#%%\n"
    }
   }
  },
  {
   "cell_type": "code",
   "execution_count": null,
   "outputs": [],
   "source": [
    "json\n",
    "# df = pd.DataFrame(columns=)\n",
    "col_names = (r.json()[0])\n",
    "df = pd.DataFrame(columns=col_names, data=r.json()[1:])\n",
    "# educational attainment for all us by county"
   ],
   "metadata": {
    "collapsed": false,
    "pycharm": {
     "name": "#%%\n"
    }
   }
  },
  {
   "cell_type": "code",
   "execution_count": null,
   "outputs": [],
   "source": [
    "df.rename(columns={'B06009_001E': 'EDU_TOT', 'B06009_002E':'LESS_HS_TOT', 'B06009_003E':'HS_TOT',\n",
    "                   'B06009_004E':'COL_OR_ASSOC_TOT', 'B06009_005E':'BACH_TOT', 'B06009_006E':'GRAD_TOT',\n",
    "                   'B08015_001E':'VEHICLE_TOT', 'B08126_068E':'WALK_TOT' }, inplace=True)"
   ],
   "metadata": {
    "collapsed": false,
    "pycharm": {
     "name": "#%%\n"
    }
   }
  },
  {
   "cell_type": "code",
   "execution_count": null,
   "outputs": [],
   "source": [
    "# reformat columns\n",
    "df = df[['NAME', 'state', 'county', 'EDU_TOT', 'LESS_HS_TOT', 'HS_TOT', 'COL_OR_ASSOC_TOT',\n",
    "       'BACH_TOT', 'GRAD_TOT', 'VEHICLE_TOT', 'WALK_TOT']]\n"
   ],
   "metadata": {
    "collapsed": false,
    "pycharm": {
     "name": "#%%\n"
    }
   }
  },
  {
   "cell_type": "code",
   "execution_count": null,
   "outputs": [],
   "source": [
    "# save the data to a new csv file. keep commented to prevent from always saving\n",
    "display(df)\n",
    "data_path = r'../../data/processed/acs1_edu_vehicle2017.csv'\n",
    "df.to_csv(data_path)\n",
    "\n"
   ],
   "metadata": {
    "collapsed": false,
    "pycharm": {
     "name": "#%%\n"
    }
   }
  }
 ],
 "metadata": {
  "kernelspec": {
   "name": "pycharm-301d774e",
   "language": "python",
   "display_name": "PyCharm (API_Mini_Project)"
  },
  "language_info": {
   "codemirror_mode": {
    "name": "ipython",
    "version": 2
   },
   "file_extension": ".py",
   "mimetype": "text/x-python",
   "name": "python",
   "nbconvert_exporter": "python",
   "pygments_lexer": "ipython2",
   "version": "2.7.6"
  }
 },
 "nbformat": 4,
 "nbformat_minor": 0
}