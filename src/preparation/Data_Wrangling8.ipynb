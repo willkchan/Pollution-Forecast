{
 "cells": [
  {
   "cell_type": "markdown",
   "source": [
    "# less social factors for now\n",
    "* Focus on NE region of US counties so that climate is about the same but difference is more social factors\n",
    "* Merge data and explore to see patterns if any\n",
    "# Importing libraries"
   ],
   "metadata": {
    "collapsed": false
   }
  },
  {
   "cell_type": "code",
   "execution_count": 1,
   "outputs": [],
   "source": [
    "import numpy as np\n",
    "import pandas as pd\n",
    "import seaborn as sns\n",
    "import sys\n",
    "import os\n",
    "import matplotlib.pyplot as plt\n",
    "import klib\n",
    "\n",
    "from IPython.core.display import display\n",
    "\n",
    "# pd.set_option('display.max_columns', None)\n",
    "# pd.reset_optio('max_rows')\n",
    "#np.set_printoptions(threshold=sys.maxsize)\n",
    "\n",
    "plt.style.use('dark_background')\n",
    "plt.rcParams.update({\"grid.linewidth\":0.5, \"grid.alpha\":0.5})\n",
    "sns.set(style='ticks', context='talk')"
   ],
   "metadata": {
    "collapsed": false,
    "pycharm": {
     "name": "#%%\n"
    }
   }
  },
  {
   "cell_type": "markdown",
   "source": [
    "# Load data and constants"
   ],
   "metadata": {
    "collapsed": false
   }
  },
  {
   "cell_type": "code",
   "execution_count": 2,
   "outputs": [],
   "source": [
    "avg_NE_aqi_2017_2019 = pd.read_csv('../../data/processed/clean_avg_NE_aqi_2017_2019')\n",
    "\n",
    "NE_dem_ratio_2017_2019 = pd.read_csv('../../data/processed/clean_NE_dem_ratio_2017_2019.csv')\n",
    "\n",
    "NE_unemploy_rate_2017_2019 = pd.read_csv('../../data/processed/clean_NE_unemploy_rate_2017_2019.csv')\n",
    "\n",
    "NE_pov_ratio_2017_2019 = pd.read_csv('../../data/processed/clean_NE_pov_rate_2017_2019.csv')\n",
    "\n",
    "NE_educ_vehicle_2017_2019 = pd.read_csv('../../data/processed/clean_NE_edu_vehicle_2017_2019.csv')"
   ],
   "metadata": {
    "collapsed": false,
    "pycharm": {
     "name": "#%%\n"
    }
   }
  },
  {
   "cell_type": "code",
   "execution_count": 3,
   "outputs": [],
   "source": [
    "def remove_col(df, col_name):\n",
    "    '''Returns a dataframe with removed column or columns from old dataframe'''\n",
    "    new_df = df.copy()\n",
    "\n",
    "    if(type(col_name) != str and len(col_name) > 1):\n",
    "        for index in col_name:\n",
    "            new_df = new_df.drop(str(index), axis=1)\n",
    "    else:\n",
    "        new_df = new_df.drop(str(col_name), axis=1)\n",
    "    return new_df"
   ],
   "metadata": {
    "collapsed": false,
    "pycharm": {
     "name": "#%%\n"
    }
   }
  },
  {
   "cell_type": "markdown",
   "source": [
    "## Retreive NE county datasets for unemployment, poverty rate, and education_vehicle datasets"
   ],
   "metadata": {
    "collapsed": false,
    "pycharm": {
     "name": "#%% md\n"
    }
   }
  },
  {
   "cell_type": "code",
   "execution_count": 3,
   "outputs": [],
   "source": [],
   "metadata": {
    "collapsed": false,
    "pycharm": {
     "name": "#%%\n"
    }
   }
  }
 ],
 "metadata": {
  "kernelspec": {
   "name": "pycharm-301d774e",
   "language": "python",
   "display_name": "PyCharm (API_Mini_Project)"
  },
  "language_info": {
   "codemirror_mode": {
    "name": "ipython",
    "version": 2
   },
   "file_extension": ".py",
   "mimetype": "text/x-python",
   "name": "python",
   "nbconvert_exporter": "python",
   "pygments_lexer": "ipython2",
   "version": "2.7.6"
  }
 },
 "nbformat": 4,
 "nbformat_minor": 0
}