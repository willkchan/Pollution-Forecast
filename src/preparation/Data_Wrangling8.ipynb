{
 "cells": [
  {
   "cell_type": "markdown",
   "source": [
    "# less social factors for now\n",
    "* Focus on NE region of US counties so that climate is about the same but difference is more social factors\n",
    "* Merge data and explore to see patterns if any\n",
    "# Importing libraries"
   ],
   "metadata": {
    "collapsed": false
   }
  },
  {
   "cell_type": "code",
   "execution_count": 1,
   "outputs": [],
   "source": [
    "import numpy as np\n",
    "import pandas as pd\n",
    "import seaborn as sns\n",
    "import sys\n",
    "import os\n",
    "import matplotlib.pyplot as plt\n",
    "import klib\n",
    "\n",
    "from IPython.core.display import display\n",
    "\n",
    "# pd.set_option('display.max_columns', None)\n",
    "# pd.reset_optio('max_rows')\n",
    "#np.set_printoptions(threshold=sys.maxsize)\n",
    "\n",
    "plt.style.use('dark_background')\n",
    "plt.rcParams.update({\"grid.linewidth\":0.5, \"grid.alpha\":0.5})\n",
    "sns.set(style='ticks', context='talk')"
   ],
   "metadata": {
    "collapsed": false,
    "pycharm": {
     "name": "#%%\n"
    }
   }
  },
  {
   "cell_type": "markdown",
   "source": [
    "# Load data and constants"
   ],
   "metadata": {
    "collapsed": false
   }
  },
  {
   "cell_type": "code",
   "execution_count": 2,
   "outputs": [],
   "source": [
    "MA, CT, ME, NY, NH, NJ, PA, VT, DE, MD  = [25, 9, 23, 36, 33, 34, 42, 50, 10 , 24]\n",
    "NORTH_EAST = [MA, CT, ME, NY, NH, NJ, PA, VT, DE, MD]\n",
    "\n",
    "daily_aqi_by_county_2017 = pd.read_csv('../../data/raw/daily_aqi_by_county_2017.csv')\n",
    "daily_aqi_by_county_2018 = pd.read_csv('../../data/raw/daily_aqi_by_county_2018.csv')\n",
    "daily_aqi_by_county_2019 = pd.read_csv('../../data/raw/daily_aqi_by_county_2019.csv')\n",
    "\n",
    "county_demographic = pd.read_csv('../../data/raw/county_cc-est2019-alldata.csv', encoding='latin-1')\n",
    "\n",
    "unemploy_ratio_2017_2019 = pd.read_csv('../../data/processed/clean_UE_rate_2017_2019.csv').iloc[:,1:]\n",
    "\n",
    "pov_ratio_2017_2019 = pd.read_csv('../../data/processed/clean_pov_rate_2017_2019.csv').iloc[:,1:]\n",
    "\n",
    "educ_vehicle_2017_2019 = pd.read_csv('../../data/processed/clean_acs1_edu_vehicle_2017_2019.csv').iloc[:,1:]\n"
   ],
   "metadata": {
    "collapsed": false,
    "pycharm": {
     "name": "#%%\n"
    }
   }
  },
  {
   "cell_type": "code",
   "execution_count": 3,
   "outputs": [],
   "source": [
    "def remove_col(df, col_name):\n",
    "    '''Returns a dataframe with removed column or columns from old dataframe'''\n",
    "    new_df = df.copy()\n",
    "\n",
    "    if(type(col_name) != str and len(col_name) > 1):\n",
    "        for index in col_name:\n",
    "            new_df = new_df.drop(str(index), axis=1)\n",
    "    else:\n",
    "        new_df = new_df.drop(str(col_name), axis=1)\n",
    "    return new_df\n",
    "\n",
    "def get_NE_States(df, col):\n",
    "    '''Method used to return North Eastern US states'''\n",
    "    NE_States = (df[col] == MA) | \\\n",
    "                (df[col] == CT) | \\\n",
    "                (df[col] == ME) | \\\n",
    "                (df[col] == NY) | \\\n",
    "                (df[col] == NH) | \\\n",
    "                (df[col] == NJ) | \\\n",
    "                (df[col] == PA) | \\\n",
    "                (df[col] == VT) | \\\n",
    "                (df[col] == DE) | \\\n",
    "                (df[col] == MD)\n",
    "    return NE_States\n"
   ],
   "metadata": {
    "collapsed": false,
    "pycharm": {
     "name": "#%%\n"
    }
   }
  },
  {
   "cell_type": "markdown",
   "source": [],
   "metadata": {
    "collapsed": false,
    "pycharm": {
     "name": "#%% md\n"
    }
   }
  },
  {
   "cell_type": "code",
   "execution_count": 8,
   "outputs": [],
   "source": [
    "# print(daily_aqi_by_county_2019.columns)\n",
    "#\n",
    "# print(annual_aqi_by_county_2019.columns)\n",
    "# annual_aqi_by_county_2019.head()\n",
    "# # annual_aqi_by_county_2019.shape\n",
    "# annual_aqi_by_county_2019['Days with AQI'].min()\n",
    "#\n",
    "# print(annual_aqi_by_county_2019.isna().sum())\n",
    "# annual_aqi_by_county_2019.head()\n",
    "# annual_aqi_by_county_2019.shape\n",
    "# len(annual_aqi_by_county_2019.County)\n",
    "#"
   ],
   "metadata": {
    "collapsed": false,
    "pycharm": {
     "name": "#%%\n"
    }
   }
  },
  {
   "cell_type": "code",
   "execution_count": 9,
   "outputs": [],
   "source": [
    "# PR = annual_aqi_by_county_2019.State == 'Puerto Rico'\n",
    "# annual_aqi_by_county_2019.loc[PR]\n",
    "#"
   ],
   "metadata": {
    "collapsed": false,
    "pycharm": {
     "name": "#%%\n"
    }
   }
  },
  {
   "cell_type": "code",
   "execution_count": 10,
   "outputs": [],
   "source": [
    "# hazard = annual_aqi_by_county_2019['Hazardous Days'] != 0\n",
    "#\n",
    "# annual_aqi_by_county_2019.loc[hazard]\n",
    "#"
   ],
   "metadata": {
    "collapsed": false,
    "pycharm": {
     "name": "#%%\n"
    }
   }
  },
  {
   "cell_type": "markdown",
   "source": [
    "* seems that pm5 and pm10 are common for days where aqi is above average"
   ],
   "metadata": {
    "collapsed": false
   }
  },
  {
   "cell_type": "code",
   "execution_count": 10,
   "metadata": {
    "collapsed": true
   },
   "outputs": [],
   "source": []
  }
 ],
 "metadata": {
  "kernelspec": {
   "name": "pycharm-301d774e",
   "language": "python",
   "display_name": "PyCharm (API_Mini_Project)"
  },
  "language_info": {
   "codemirror_mode": {
    "name": "ipython",
    "version": 2
   },
   "file_extension": ".py",
   "mimetype": "text/x-python",
   "name": "python",
   "nbconvert_exporter": "python",
   "pygments_lexer": "ipython2",
   "version": "2.7.6"
  }
 },
 "nbformat": 4,
 "nbformat_minor": 0
}