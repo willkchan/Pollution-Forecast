{
 "cells": [
  {
   "cell_type": "markdown",
   "source": [
    "+ need to add possible features that appear to have an effect on demographic\n",
    "# less social factors for now\n",
    "* Focus on NE us and look at 10 yr span\n",
    "* maybe work with NE data 2019 again but look at different pollutants\n",
    "* work with 3 year data for now of counties\n",
    "* get all dataframes\n",
    "# Importing libraries"
   ],
   "metadata": {
    "collapsed": false
   }
  },
  {
   "cell_type": "code",
   "execution_count": null,
   "outputs": [],
   "source": [
    "import numpy as np\n",
    "import pandas as pd\n",
    "import seaborn as sns\n",
    "import sys\n",
    "import os\n",
    "import matplotlib.pyplot as plt\n",
    "import klib\n",
    "\n",
    "from IPython.core.display import display\n",
    "\n",
    "# pd.set_option('display.max_columns', None)\n",
    "# pd.reset_optio('max_rows')\n",
    "#np.set_printoptions(threshold=sys.maxsize)\n",
    "\n",
    "plt.style.use('dark_background')\n",
    "plt.rcParams.update({\"grid.linewidth\":0.5, \"grid.alpha\":0.5})\n",
    "sns.set(style='ticks', context='talk')"
   ],
   "metadata": {
    "collapsed": false,
    "pycharm": {
     "name": "#%%\n"
    }
   }
  },
  {
   "cell_type": "markdown",
   "source": [
    "# Load data and constants"
   ],
   "metadata": {
    "collapsed": false
   }
  },
  {
   "cell_type": "code",
   "execution_count": null,
   "outputs": [],
   "source": [
    "MA, CT, ME, NY, NH, NJ, PA, VT, DE, MD  = [25, 9, 23, 36, 33, 34, 42, 50, 10 , 24]\n",
    "NORTH_EAST = [MA, CT, ME, NY, NH, NJ, PA, VT, DE, MD]\n",
    "RI, FL,GA, NC, SC = [44, 12, 13, 37, 45] # midatlantic\n",
    "AL, KY, MS, TN, WV = [1, 21, 29, 47, 45] # south east\n",
    "IL, IN, IA, KS, MI,MN = [17, 18, 19, 20, 26, 27] # mid_west\n",
    "\n",
    "\n",
    "daily_aqi_by_county_2017 = pd.read_csv('../../data/raw/daily_aqi_by_county_2017.csv')\n",
    "daily_aqi_by_county_2018 = pd.read_csv('../../data/raw/daily_aqi_by_county_2018.csv')\n",
    "daily_aqi_by_county_2019 = pd.read_csv('../../data/raw/daily_aqi_by_county_2019.csv')\n",
    "\n",
    "county_demographic = pd.read_csv('../../data/raw/county_cc-est2019-alldata.csv', encoding='latin-1')\n",
    "\n",
    "unemployment = pd.read_excel('../../data/raw/Unemployment.xls', header=None, sheet_name=0)\n",
    "\n",
    "# Small area income and poverty estimates\n",
    "saipe2017 = pd.read_excel('../../data/raw/saipe_economic/est17all.xls')\n",
    "saipe2018 = pd.read_excel('../../data/raw/saipe_economic/est18all.xls')\n",
    "saipe2019 = pd.read_excel('../../data/raw/saipe_economic/est19all.xls')\n",
    "\n",
    "educ_vehicle_2017 = pd.read_csv('../../data/processed/acs1_edu_vehicle2017.csv')\n",
    "educ_vehicle_2018 = pd.read_csv('../../data/processed/acs1_edu_vehicle2018.csv')\n",
    "educ_vehicle_2019 = pd.read_csv('../../data/processed/acs1_edu_vehicle2019.csv')\n",
    "\n",
    "annual_income_by_county = pd.read_csv('../../data/raw/CAINC1__ALL_AREAS_1969_2019.csv', encoding='latin-1')\n"
   ],
   "metadata": {
    "collapsed": false,
    "pycharm": {
     "name": "#%%\n"
    }
   }
  },
  {
   "cell_type": "code",
   "execution_count": null,
   "outputs": [],
   "source": [
    "def remove_col(df, col_name):\n",
    "    '''Returns a dataframe with removed column or columns from old dataframe'''\n",
    "    new_df = df.copy()\n",
    "\n",
    "    if(type(col_name) != str and len(col_name) > 1):\n",
    "        for index in col_name:\n",
    "            new_df = new_df.drop(str(index), axis=1)\n",
    "    else:\n",
    "        new_df = new_df.drop(str(col_name), axis=1)\n",
    "    return new_df"
   ],
   "metadata": {
    "collapsed": false,
    "pycharm": {
     "name": "#%%\n"
    }
   }
  },
  {
   "cell_type": "markdown",
   "source": [],
   "metadata": {
    "collapsed": false
   }
  },
  {
   "cell_type": "code",
   "execution_count": null,
   "outputs": [],
   "source": [
    "# print(daily_aqi_by_county_2019.columns)\n",
    "#\n",
    "# print(annual_aqi_by_county_2019.columns)\n",
    "# annual_aqi_by_county_2019.head()\n",
    "# # annual_aqi_by_county_2019.shape\n",
    "# annual_aqi_by_county_2019['Days with AQI'].min()\n",
    "#\n",
    "# print(annual_aqi_by_county_2019.isna().sum())\n",
    "# annual_aqi_by_county_2019.head()\n",
    "# annual_aqi_by_county_2019.shape\n",
    "# len(annual_aqi_by_county_2019.County)\n",
    "#"
   ],
   "metadata": {
    "collapsed": false,
    "pycharm": {
     "name": "#%%\n"
    }
   }
  },
  {
   "cell_type": "code",
   "execution_count": null,
   "outputs": [],
   "source": [
    "# PR = annual_aqi_by_county_2019.State == 'Puerto Rico'\n",
    "# annual_aqi_by_county_2019.loc[PR]\n",
    "#"
   ],
   "metadata": {
    "collapsed": false,
    "pycharm": {
     "name": "#%%\n"
    }
   }
  },
  {
   "cell_type": "code",
   "execution_count": null,
   "outputs": [],
   "source": [
    "# hazard = annual_aqi_by_county_2019['Hazardous Days'] != 0\n",
    "#\n",
    "# annual_aqi_by_county_2019.loc[hazard]\n",
    "#"
   ],
   "metadata": {
    "collapsed": false,
    "pycharm": {
     "name": "#%%\n"
    }
   }
  },
  {
   "cell_type": "markdown",
   "source": [
    "* seems that pm5 and pm10 are common for days where aqi is above average"
   ],
   "metadata": {
    "collapsed": false
   }
  },
  {
   "cell_type": "code",
   "execution_count": null,
   "metadata": {
    "collapsed": true
   },
   "outputs": [],
   "source": []
  }
 ],
 "metadata": {
  "kernelspec": {
   "display_name": "Python 3",
   "language": "python",
   "name": "python3"
  },
  "language_info": {
   "codemirror_mode": {
    "name": "ipython",
    "version": 2
   },
   "file_extension": ".py",
   "mimetype": "text/x-python",
   "name": "python",
   "nbconvert_exporter": "python",
   "pygments_lexer": "ipython2",
   "version": "2.7.6"
  }
 },
 "nbformat": 4,
 "nbformat_minor": 0
}