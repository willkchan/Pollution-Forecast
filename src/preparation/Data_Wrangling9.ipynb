{
 "cells": [
  {
   "cell_type": "markdown",
   "source": [
    "# Same process undergone as DataWrangling 7 but retaining columns that were dropped in DataWrangling8 column for datasets in unemployment rate, poverty rate, and education_vehicle\n",
    "\n",
    "# Importing libraries"
   ],
   "metadata": {
    "collapsed": false
   }
  },
  {
   "cell_type": "code",
   "execution_count": 55,
   "outputs": [],
   "source": [
    "import numpy as np\n",
    "import pandas as pd\n",
    "import seaborn as sns\n",
    "import sys\n",
    "import os\n",
    "import matplotlib.pyplot as plt\n",
    "import klib\n",
    "\n",
    "from IPython.core.display import display\n",
    "\n",
    "# pd.set_option('display.max_columns', None)\n",
    "# pd.reset_optio('max_rows')\n",
    "#np.set_printoptions(threshold=sys.maxsize)\n",
    "\n",
    "plt.style.use('dark_background')\n",
    "plt.rcParams.update({\"grid.linewidth\":0.5, \"grid.alpha\":0.5})\n",
    "sns.set(style='ticks', context='talk')"
   ],
   "metadata": {
    "collapsed": false,
    "pycharm": {
     "name": "#%%\n"
    }
   }
  },
  {
   "cell_type": "markdown",
   "source": [
    "# Load data and constants"
   ],
   "metadata": {
    "collapsed": false
   }
  },
  {
   "cell_type": "code",
   "execution_count": 56,
   "outputs": [],
   "source": [
    "MA, CT, ME, NY, NH, NJ, PA, VT, DE, MD, RI, DC  = [25, 9, 23, 36, 33, 34, 42, 50, 10, 24, 44, 11]\n",
    "NORTH_EAST = [MA, CT, ME, NY, NH, NJ, PA, VT, DE, MD, RI, DC]\n",
    "RI, FL,GA, NC, SC = [44, 12, 13, 37, 45] # midatlantic\n",
    "AL, KY, MS, TN, WV = [1, 21, 29, 47, 45] # south east\n",
    "IL, IN, IA, KS, MI,MN = [17, 18, 19, 20, 26, 27] # mid_west\n",
    "\n",
    "\n",
    "daily_aqi_by_county_2017 = pd.read_csv('../../data/raw/daily_aqi_by_county_2017.csv')\n",
    "daily_aqi_by_county_2018 = pd.read_csv('../../data/raw/daily_aqi_by_county_2018.csv')\n",
    "daily_aqi_by_county_2019 = pd.read_csv('../../data/raw/daily_aqi_by_county_2019.csv')\n",
    "\n",
    "county_demographic = pd.read_csv('../../data/raw/county_cc-est2019-alldata.csv', encoding='latin-1')\n",
    "\n",
    "unemployment = pd.read_excel('../../data/raw/Unemployment.xls', header=None, sheet_name=0)\n",
    "\n",
    "# Small area income and poverty estimates\n",
    "saipe2017 = pd.read_excel('../../data/raw/saipe_economic/est17all.xls')\n",
    "saipe2018 = pd.read_excel('../../data/raw/saipe_economic/est18all.xls')\n",
    "saipe2019 = pd.read_excel('../../data/raw/saipe_economic/est19all.xls')\n",
    "\n",
    "educ_vehicle_2017 = pd.read_csv('../../data/processed/acs1_edu_vehicle2017.csv')\n",
    "educ_vehicle_2018 = pd.read_csv('../../data/processed/acs1_edu_vehicle2018.csv')\n",
    "educ_vehicle_2019 = pd.read_csv('../../data/processed/acs1_edu_vehicle2019.csv')\n",
    "\n",
    "annual_income_by_county = pd.read_csv('../../data/raw/CAINC1__ALL_AREAS_1969_2019.csv', encoding='latin-1')\n"
   ],
   "metadata": {
    "collapsed": false,
    "pycharm": {
     "name": "#%%\n"
    }
   }
  },
  {
   "cell_type": "code",
   "execution_count": 57,
   "outputs": [],
   "source": [
    "def remove_col(df, col_name):\n",
    "    '''Returns a dataframe with removed column or columns from old dataframe'''\n",
    "    new_df = df.copy()\n",
    "\n",
    "    if(type(col_name) != str and len(col_name) > 1):\n",
    "        for index in col_name:\n",
    "            new_df = new_df.drop(str(index), axis=1)\n",
    "    else:\n",
    "        new_df = new_df.drop(str(col_name), axis=1)\n",
    "    return new_df\n",
    "\n",
    "def get_NE_States(df, col):\n",
    "    '''Method used to return North Eastern US states'''\n",
    "    NE_States = (df[col] == MA) | \\\n",
    "                (df[col] == CT) | \\\n",
    "                (df[col] == ME) | \\\n",
    "                (df[col] == NY) | \\\n",
    "                (df[col] == NH) | \\\n",
    "                (df[col] == NJ) | \\\n",
    "                (df[col] == PA) | \\\n",
    "                (df[col] == VT) | \\\n",
    "                (df[col] == DE) | \\\n",
    "                (df[col] == MD) | \\\n",
    "                (df[col] == RI) | \\\n",
    "                (df[col] == DC)\n",
    "    return NE_States\n",
    "def get_df_with_geofips(df, state_code, county_code):\n",
    "    ''' Returns dataframe with geofips column '''\n",
    "    state_code = df[state_code].astype(str).values\n",
    "    county_code = df[county_code].astype(str).values\n",
    "\n",
    "    geofips = []\n",
    "    for stateID, countyID in zip(state_code, county_code):\n",
    "        id = ''\n",
    "        stateLen = len(stateID)\n",
    "        countyLen = len(countyID)\n",
    "        if(stateLen < 2):\n",
    "            id += '0' + stateID\n",
    "        else:\n",
    "            id += stateID\n",
    "        if(countyLen == 1):\n",
    "            id += '00' + countyID\n",
    "        elif(countyLen == 2):\n",
    "            id += '0' + countyID\n",
    "        else:\n",
    "            id += countyID\n",
    "        geofips.append(id)\n",
    "\n",
    "    df.insert(loc=0, column='GeoFIPS', value=geofips)\n",
    "    return df"
   ],
   "metadata": {
    "collapsed": false,
    "pycharm": {
     "name": "#%%\n"
    }
   }
  },
  {
   "cell_type": "markdown",
   "source": [
    "# Clean up Unemployment Data\n"
   ],
   "metadata": {
    "collapsed": false
   }
  },
  {
   "cell_type": "code",
   "execution_count": 58,
   "outputs": [
    {
     "data": {
      "text/plain": "                                                     0      1   \\\n0     Unemployment and median household income for t...    NaN   \n1     Sources: Unemployment: U.S. Department of Labo...    NaN   \n2     For definitions of rural classifications, see ...    NaN   \n3     This table was prepared by USDA, Economic Rese...    NaN   \n4                                              fips_txt  Stabr   \n...                                                 ...    ...   \n3275                                              72145     PR   \n3276                                              72147     PR   \n3277                                              72149     PR   \n3278                                              72151     PR   \n3279                                              72153     PR   \n\n                           2                                3   \\\n0                         NaN                              NaN   \n1                         NaN                              NaN   \n2                         NaN                              NaN   \n3                         NaN                              NaN   \n4                   area_name  Rural_urban_continuum_code_2013   \n...                       ...                              ...   \n3275  Vega Baja Municipio, PR                                1   \n3276    Vieques Municipio, PR                                7   \n3277   Villalba Municipio, PR                                2   \n3278    Yabucoa Municipio, PR                                1   \n3279      Yauco Municipio, PR                                2   \n\n                             4           5                          6   \\\n0                           NaN         NaN                        NaN   \n1                           NaN         NaN                        NaN   \n2                           NaN         NaN                        NaN   \n3                           NaN         NaN                        NaN   \n4     Urban_influence_code_2013  Metro_2013  Civilian_labor_force_2000   \n...                         ...         ...                        ...   \n3275                          1           1                      19805   \n3276                         12           0                       2441   \n3277                          2           1                       7636   \n3278                          1           1                      10613   \n3279                          2           1                      14664   \n\n                 7                8                       9   ...  \\\n0               NaN              NaN                     NaN  ...   \n1               NaN              NaN                     NaN  ...   \n2               NaN              NaN                     NaN  ...   \n3               NaN              NaN                     NaN  ...   \n4     Employed_2000  Unemployed_2000  Unemployment_rate_2000  ...   \n...             ...              ...                     ...  ...   \n3275          17607             2198                    11.1  ...   \n3276           2120              321                    13.2  ...   \n3277           6648              988                    12.9  ...   \n3278           9005             1608                    15.2  ...   \n3279          12871             1793                    12.2  ...   \n\n                             78             79               80  \\\n0                           NaN            NaN              NaN   \n1                           NaN            NaN              NaN   \n2                           NaN            NaN              NaN   \n3                           NaN            NaN              NaN   \n4     Civilian_labor_force_2018  Employed_2018  Unemployed_2018   \n...                         ...            ...              ...   \n3275                      13117          11750             1367   \n3276                       2718           2269              449   \n3277                       7311           6154             1157   \n3278                       8762           7509             1253   \n3279                       9716           8288             1428   \n\n                          81                         82             83  \\\n0                        NaN                        NaN            NaN   \n1                        NaN                        NaN            NaN   \n2                        NaN                        NaN            NaN   \n3                        NaN                        NaN            NaN   \n4     Unemployment_rate_2018  Civilian_labor_force_2019  Employed_2019   \n...                      ...                        ...            ...   \n3275                    10.4                      13037          11791   \n3276                    16.5                       2585           2406   \n3277                    15.8                       7406           6231   \n3278                    14.3                       8691           7552   \n3279                    14.7                       9759           8331   \n\n                   84                      85                            86  \\\n0                 NaN                     NaN                           NaN   \n1                 NaN                     NaN                           NaN   \n2                 NaN                     NaN                           NaN   \n3                 NaN                     NaN                           NaN   \n4     Unemployed_2019  Unemployment_rate_2019  Median_Household_Income_2019   \n...               ...                     ...                           ...   \n3275             1246                     9.6                           NaN   \n3276              179                     6.9                           NaN   \n3277             1175                    15.9                           NaN   \n3278             1139                    13.1                           NaN   \n3279             1428                    14.6                           NaN   \n\n                                             87  \n0                                           NaN  \n1                                           NaN  \n2                                           NaN  \n3                                           NaN  \n4     Med_HH_Income_Percent_of_State_Total_2019  \n...                                         ...  \n3275                                        NaN  \n3276                                        NaN  \n3277                                        NaN  \n3278                                        NaN  \n3279                                        NaN  \n\n[3280 rows x 88 columns]",
      "text/html": "<div>\n<style scoped>\n    .dataframe tbody tr th:only-of-type {\n        vertical-align: middle;\n    }\n\n    .dataframe tbody tr th {\n        vertical-align: top;\n    }\n\n    .dataframe thead th {\n        text-align: right;\n    }\n</style>\n<table border=\"1\" class=\"dataframe\">\n  <thead>\n    <tr style=\"text-align: right;\">\n      <th></th>\n      <th>0</th>\n      <th>1</th>\n      <th>2</th>\n      <th>3</th>\n      <th>4</th>\n      <th>5</th>\n      <th>6</th>\n      <th>7</th>\n      <th>8</th>\n      <th>9</th>\n      <th>...</th>\n      <th>78</th>\n      <th>79</th>\n      <th>80</th>\n      <th>81</th>\n      <th>82</th>\n      <th>83</th>\n      <th>84</th>\n      <th>85</th>\n      <th>86</th>\n      <th>87</th>\n    </tr>\n  </thead>\n  <tbody>\n    <tr>\n      <th>0</th>\n      <td>Unemployment and median household income for t...</td>\n      <td>NaN</td>\n      <td>NaN</td>\n      <td>NaN</td>\n      <td>NaN</td>\n      <td>NaN</td>\n      <td>NaN</td>\n      <td>NaN</td>\n      <td>NaN</td>\n      <td>NaN</td>\n      <td>...</td>\n      <td>NaN</td>\n      <td>NaN</td>\n      <td>NaN</td>\n      <td>NaN</td>\n      <td>NaN</td>\n      <td>NaN</td>\n      <td>NaN</td>\n      <td>NaN</td>\n      <td>NaN</td>\n      <td>NaN</td>\n    </tr>\n    <tr>\n      <th>1</th>\n      <td>Sources: Unemployment: U.S. Department of Labo...</td>\n      <td>NaN</td>\n      <td>NaN</td>\n      <td>NaN</td>\n      <td>NaN</td>\n      <td>NaN</td>\n      <td>NaN</td>\n      <td>NaN</td>\n      <td>NaN</td>\n      <td>NaN</td>\n      <td>...</td>\n      <td>NaN</td>\n      <td>NaN</td>\n      <td>NaN</td>\n      <td>NaN</td>\n      <td>NaN</td>\n      <td>NaN</td>\n      <td>NaN</td>\n      <td>NaN</td>\n      <td>NaN</td>\n      <td>NaN</td>\n    </tr>\n    <tr>\n      <th>2</th>\n      <td>For definitions of rural classifications, see ...</td>\n      <td>NaN</td>\n      <td>NaN</td>\n      <td>NaN</td>\n      <td>NaN</td>\n      <td>NaN</td>\n      <td>NaN</td>\n      <td>NaN</td>\n      <td>NaN</td>\n      <td>NaN</td>\n      <td>...</td>\n      <td>NaN</td>\n      <td>NaN</td>\n      <td>NaN</td>\n      <td>NaN</td>\n      <td>NaN</td>\n      <td>NaN</td>\n      <td>NaN</td>\n      <td>NaN</td>\n      <td>NaN</td>\n      <td>NaN</td>\n    </tr>\n    <tr>\n      <th>3</th>\n      <td>This table was prepared by USDA, Economic Rese...</td>\n      <td>NaN</td>\n      <td>NaN</td>\n      <td>NaN</td>\n      <td>NaN</td>\n      <td>NaN</td>\n      <td>NaN</td>\n      <td>NaN</td>\n      <td>NaN</td>\n      <td>NaN</td>\n      <td>...</td>\n      <td>NaN</td>\n      <td>NaN</td>\n      <td>NaN</td>\n      <td>NaN</td>\n      <td>NaN</td>\n      <td>NaN</td>\n      <td>NaN</td>\n      <td>NaN</td>\n      <td>NaN</td>\n      <td>NaN</td>\n    </tr>\n    <tr>\n      <th>4</th>\n      <td>fips_txt</td>\n      <td>Stabr</td>\n      <td>area_name</td>\n      <td>Rural_urban_continuum_code_2013</td>\n      <td>Urban_influence_code_2013</td>\n      <td>Metro_2013</td>\n      <td>Civilian_labor_force_2000</td>\n      <td>Employed_2000</td>\n      <td>Unemployed_2000</td>\n      <td>Unemployment_rate_2000</td>\n      <td>...</td>\n      <td>Civilian_labor_force_2018</td>\n      <td>Employed_2018</td>\n      <td>Unemployed_2018</td>\n      <td>Unemployment_rate_2018</td>\n      <td>Civilian_labor_force_2019</td>\n      <td>Employed_2019</td>\n      <td>Unemployed_2019</td>\n      <td>Unemployment_rate_2019</td>\n      <td>Median_Household_Income_2019</td>\n      <td>Med_HH_Income_Percent_of_State_Total_2019</td>\n    </tr>\n    <tr>\n      <th>...</th>\n      <td>...</td>\n      <td>...</td>\n      <td>...</td>\n      <td>...</td>\n      <td>...</td>\n      <td>...</td>\n      <td>...</td>\n      <td>...</td>\n      <td>...</td>\n      <td>...</td>\n      <td>...</td>\n      <td>...</td>\n      <td>...</td>\n      <td>...</td>\n      <td>...</td>\n      <td>...</td>\n      <td>...</td>\n      <td>...</td>\n      <td>...</td>\n      <td>...</td>\n      <td>...</td>\n    </tr>\n    <tr>\n      <th>3275</th>\n      <td>72145</td>\n      <td>PR</td>\n      <td>Vega Baja Municipio, PR</td>\n      <td>1</td>\n      <td>1</td>\n      <td>1</td>\n      <td>19805</td>\n      <td>17607</td>\n      <td>2198</td>\n      <td>11.1</td>\n      <td>...</td>\n      <td>13117</td>\n      <td>11750</td>\n      <td>1367</td>\n      <td>10.4</td>\n      <td>13037</td>\n      <td>11791</td>\n      <td>1246</td>\n      <td>9.6</td>\n      <td>NaN</td>\n      <td>NaN</td>\n    </tr>\n    <tr>\n      <th>3276</th>\n      <td>72147</td>\n      <td>PR</td>\n      <td>Vieques Municipio, PR</td>\n      <td>7</td>\n      <td>12</td>\n      <td>0</td>\n      <td>2441</td>\n      <td>2120</td>\n      <td>321</td>\n      <td>13.2</td>\n      <td>...</td>\n      <td>2718</td>\n      <td>2269</td>\n      <td>449</td>\n      <td>16.5</td>\n      <td>2585</td>\n      <td>2406</td>\n      <td>179</td>\n      <td>6.9</td>\n      <td>NaN</td>\n      <td>NaN</td>\n    </tr>\n    <tr>\n      <th>3277</th>\n      <td>72149</td>\n      <td>PR</td>\n      <td>Villalba Municipio, PR</td>\n      <td>2</td>\n      <td>2</td>\n      <td>1</td>\n      <td>7636</td>\n      <td>6648</td>\n      <td>988</td>\n      <td>12.9</td>\n      <td>...</td>\n      <td>7311</td>\n      <td>6154</td>\n      <td>1157</td>\n      <td>15.8</td>\n      <td>7406</td>\n      <td>6231</td>\n      <td>1175</td>\n      <td>15.9</td>\n      <td>NaN</td>\n      <td>NaN</td>\n    </tr>\n    <tr>\n      <th>3278</th>\n      <td>72151</td>\n      <td>PR</td>\n      <td>Yabucoa Municipio, PR</td>\n      <td>1</td>\n      <td>1</td>\n      <td>1</td>\n      <td>10613</td>\n      <td>9005</td>\n      <td>1608</td>\n      <td>15.2</td>\n      <td>...</td>\n      <td>8762</td>\n      <td>7509</td>\n      <td>1253</td>\n      <td>14.3</td>\n      <td>8691</td>\n      <td>7552</td>\n      <td>1139</td>\n      <td>13.1</td>\n      <td>NaN</td>\n      <td>NaN</td>\n    </tr>\n    <tr>\n      <th>3279</th>\n      <td>72153</td>\n      <td>PR</td>\n      <td>Yauco Municipio, PR</td>\n      <td>2</td>\n      <td>2</td>\n      <td>1</td>\n      <td>14664</td>\n      <td>12871</td>\n      <td>1793</td>\n      <td>12.2</td>\n      <td>...</td>\n      <td>9716</td>\n      <td>8288</td>\n      <td>1428</td>\n      <td>14.7</td>\n      <td>9759</td>\n      <td>8331</td>\n      <td>1428</td>\n      <td>14.6</td>\n      <td>NaN</td>\n      <td>NaN</td>\n    </tr>\n  </tbody>\n</table>\n<p>3280 rows × 88 columns</p>\n</div>"
     },
     "metadata": {},
     "output_type": "display_data"
    },
    {
     "data": {
      "text/plain": "     fips_txt Stabr                area_name Rural_urban_continuum_code_2013  \\\n1       00000    US            United States                             NaN   \n2       01000    AL                  Alabama                             NaN   \n3       01001    AL       Autauga County, AL                               2   \n4       01003    AL       Baldwin County, AL                               3   \n5       01005    AL       Barbour County, AL                               6   \n...       ...   ...                      ...                             ...   \n3271    72145    PR  Vega Baja Municipio, PR                               1   \n3272    72147    PR    Vieques Municipio, PR                               7   \n3273    72149    PR   Villalba Municipio, PR                               2   \n3274    72151    PR    Yabucoa Municipio, PR                               1   \n3275    72153    PR      Yauco Municipio, PR                               2   \n\n     Urban_influence_code_2013 Metro_2013 Civilian_labor_force_2000  \\\n1                          NaN        NaN                 142601667   \n2                          NaN        NaN                   2133223   \n3                            2          1                     21720   \n4                            2          1                     69533   \n5                            6          0                     11373   \n...                        ...        ...                       ...   \n3271                         1          1                     19805   \n3272                        12          0                      2441   \n3273                         2          1                      7636   \n3274                         1          1                     10613   \n3275                         2          1                     14664   \n\n     Employed_2000 Unemployed_2000 Unemployment_rate_2000  ...  \\\n1        136904680         5696987                3.99504  ...   \n2          2035594           97629                    4.6  ...   \n3            20846             874                      4  ...   \n4            66971            2562                    3.7  ...   \n5            10748             625                    5.5  ...   \n...            ...             ...                    ...  ...   \n3271         17607            2198                   11.1  ...   \n3272          2120             321                   13.2  ...   \n3273          6648             988                   12.9  ...   \n3274          9005            1608                   15.2  ...   \n3275         12871            1793                   12.2  ...   \n\n     Civilian_labor_force_2018 Employed_2018 Unemployed_2018  \\\n1                    161389026     155102319         6286707   \n2                      2216627       2130845           85782   \n3                        26196         25261             935   \n4                        95233         91809            3424   \n5                         8414          7987             427   \n...                        ...           ...             ...   \n3271                     13117         11750            1367   \n3272                      2718          2269             449   \n3273                      7311          6154            1157   \n3274                      8762          7509            1253   \n3275                      9716          8288            1428   \n\n     Unemployment_rate_2018 Civilian_labor_force_2019 Employed_2019  \\\n1                   3.89537                 163100055     157115247   \n2                       3.9                   2241747       2174483   \n3                       3.6                     26172         25458   \n4                       3.6                     97328         94675   \n5                       5.1                      8537          8213   \n...                     ...                       ...           ...   \n3271                   10.4                     13037         11791   \n3272                   16.5                      2585          2406   \n3273                   15.8                      7406          6231   \n3274                   14.3                      8691          7552   \n3275                   14.7                      9759          8331   \n\n     Unemployed_2019 Unemployment_rate_2019 Median_Household_Income_2019  \\\n1            5984808                3.66941                        65712   \n2              67264                      3                        51771   \n3                714                    2.7                        58233   \n4               2653                    2.7                        59871   \n5                324                    3.8                        35972   \n...              ...                    ...                          ...   \n3271            1246                    9.6                          NaN   \n3272             179                    6.9                          NaN   \n3273            1175                   15.9                          NaN   \n3274            1139                   13.1                          NaN   \n3275            1428                   14.6                          NaN   \n\n     Med_HH_Income_Percent_of_State_Total_2019  \n1                                          NaN  \n2                                          100  \n3                                      112.482  \n4                                      115.646  \n5                                      69.4829  \n...                                        ...  \n3271                                       NaN  \n3272                                       NaN  \n3273                                       NaN  \n3274                                       NaN  \n3275                                       NaN  \n\n[3275 rows x 88 columns]",
      "text/html": "<div>\n<style scoped>\n    .dataframe tbody tr th:only-of-type {\n        vertical-align: middle;\n    }\n\n    .dataframe tbody tr th {\n        vertical-align: top;\n    }\n\n    .dataframe thead th {\n        text-align: right;\n    }\n</style>\n<table border=\"1\" class=\"dataframe\">\n  <thead>\n    <tr style=\"text-align: right;\">\n      <th></th>\n      <th>fips_txt</th>\n      <th>Stabr</th>\n      <th>area_name</th>\n      <th>Rural_urban_continuum_code_2013</th>\n      <th>Urban_influence_code_2013</th>\n      <th>Metro_2013</th>\n      <th>Civilian_labor_force_2000</th>\n      <th>Employed_2000</th>\n      <th>Unemployed_2000</th>\n      <th>Unemployment_rate_2000</th>\n      <th>...</th>\n      <th>Civilian_labor_force_2018</th>\n      <th>Employed_2018</th>\n      <th>Unemployed_2018</th>\n      <th>Unemployment_rate_2018</th>\n      <th>Civilian_labor_force_2019</th>\n      <th>Employed_2019</th>\n      <th>Unemployed_2019</th>\n      <th>Unemployment_rate_2019</th>\n      <th>Median_Household_Income_2019</th>\n      <th>Med_HH_Income_Percent_of_State_Total_2019</th>\n    </tr>\n  </thead>\n  <tbody>\n    <tr>\n      <th>1</th>\n      <td>00000</td>\n      <td>US</td>\n      <td>United States</td>\n      <td>NaN</td>\n      <td>NaN</td>\n      <td>NaN</td>\n      <td>142601667</td>\n      <td>136904680</td>\n      <td>5696987</td>\n      <td>3.99504</td>\n      <td>...</td>\n      <td>161389026</td>\n      <td>155102319</td>\n      <td>6286707</td>\n      <td>3.89537</td>\n      <td>163100055</td>\n      <td>157115247</td>\n      <td>5984808</td>\n      <td>3.66941</td>\n      <td>65712</td>\n      <td>NaN</td>\n    </tr>\n    <tr>\n      <th>2</th>\n      <td>01000</td>\n      <td>AL</td>\n      <td>Alabama</td>\n      <td>NaN</td>\n      <td>NaN</td>\n      <td>NaN</td>\n      <td>2133223</td>\n      <td>2035594</td>\n      <td>97629</td>\n      <td>4.6</td>\n      <td>...</td>\n      <td>2216627</td>\n      <td>2130845</td>\n      <td>85782</td>\n      <td>3.9</td>\n      <td>2241747</td>\n      <td>2174483</td>\n      <td>67264</td>\n      <td>3</td>\n      <td>51771</td>\n      <td>100</td>\n    </tr>\n    <tr>\n      <th>3</th>\n      <td>01001</td>\n      <td>AL</td>\n      <td>Autauga County, AL</td>\n      <td>2</td>\n      <td>2</td>\n      <td>1</td>\n      <td>21720</td>\n      <td>20846</td>\n      <td>874</td>\n      <td>4</td>\n      <td>...</td>\n      <td>26196</td>\n      <td>25261</td>\n      <td>935</td>\n      <td>3.6</td>\n      <td>26172</td>\n      <td>25458</td>\n      <td>714</td>\n      <td>2.7</td>\n      <td>58233</td>\n      <td>112.482</td>\n    </tr>\n    <tr>\n      <th>4</th>\n      <td>01003</td>\n      <td>AL</td>\n      <td>Baldwin County, AL</td>\n      <td>3</td>\n      <td>2</td>\n      <td>1</td>\n      <td>69533</td>\n      <td>66971</td>\n      <td>2562</td>\n      <td>3.7</td>\n      <td>...</td>\n      <td>95233</td>\n      <td>91809</td>\n      <td>3424</td>\n      <td>3.6</td>\n      <td>97328</td>\n      <td>94675</td>\n      <td>2653</td>\n      <td>2.7</td>\n      <td>59871</td>\n      <td>115.646</td>\n    </tr>\n    <tr>\n      <th>5</th>\n      <td>01005</td>\n      <td>AL</td>\n      <td>Barbour County, AL</td>\n      <td>6</td>\n      <td>6</td>\n      <td>0</td>\n      <td>11373</td>\n      <td>10748</td>\n      <td>625</td>\n      <td>5.5</td>\n      <td>...</td>\n      <td>8414</td>\n      <td>7987</td>\n      <td>427</td>\n      <td>5.1</td>\n      <td>8537</td>\n      <td>8213</td>\n      <td>324</td>\n      <td>3.8</td>\n      <td>35972</td>\n      <td>69.4829</td>\n    </tr>\n    <tr>\n      <th>...</th>\n      <td>...</td>\n      <td>...</td>\n      <td>...</td>\n      <td>...</td>\n      <td>...</td>\n      <td>...</td>\n      <td>...</td>\n      <td>...</td>\n      <td>...</td>\n      <td>...</td>\n      <td>...</td>\n      <td>...</td>\n      <td>...</td>\n      <td>...</td>\n      <td>...</td>\n      <td>...</td>\n      <td>...</td>\n      <td>...</td>\n      <td>...</td>\n      <td>...</td>\n      <td>...</td>\n    </tr>\n    <tr>\n      <th>3271</th>\n      <td>72145</td>\n      <td>PR</td>\n      <td>Vega Baja Municipio, PR</td>\n      <td>1</td>\n      <td>1</td>\n      <td>1</td>\n      <td>19805</td>\n      <td>17607</td>\n      <td>2198</td>\n      <td>11.1</td>\n      <td>...</td>\n      <td>13117</td>\n      <td>11750</td>\n      <td>1367</td>\n      <td>10.4</td>\n      <td>13037</td>\n      <td>11791</td>\n      <td>1246</td>\n      <td>9.6</td>\n      <td>NaN</td>\n      <td>NaN</td>\n    </tr>\n    <tr>\n      <th>3272</th>\n      <td>72147</td>\n      <td>PR</td>\n      <td>Vieques Municipio, PR</td>\n      <td>7</td>\n      <td>12</td>\n      <td>0</td>\n      <td>2441</td>\n      <td>2120</td>\n      <td>321</td>\n      <td>13.2</td>\n      <td>...</td>\n      <td>2718</td>\n      <td>2269</td>\n      <td>449</td>\n      <td>16.5</td>\n      <td>2585</td>\n      <td>2406</td>\n      <td>179</td>\n      <td>6.9</td>\n      <td>NaN</td>\n      <td>NaN</td>\n    </tr>\n    <tr>\n      <th>3273</th>\n      <td>72149</td>\n      <td>PR</td>\n      <td>Villalba Municipio, PR</td>\n      <td>2</td>\n      <td>2</td>\n      <td>1</td>\n      <td>7636</td>\n      <td>6648</td>\n      <td>988</td>\n      <td>12.9</td>\n      <td>...</td>\n      <td>7311</td>\n      <td>6154</td>\n      <td>1157</td>\n      <td>15.8</td>\n      <td>7406</td>\n      <td>6231</td>\n      <td>1175</td>\n      <td>15.9</td>\n      <td>NaN</td>\n      <td>NaN</td>\n    </tr>\n    <tr>\n      <th>3274</th>\n      <td>72151</td>\n      <td>PR</td>\n      <td>Yabucoa Municipio, PR</td>\n      <td>1</td>\n      <td>1</td>\n      <td>1</td>\n      <td>10613</td>\n      <td>9005</td>\n      <td>1608</td>\n      <td>15.2</td>\n      <td>...</td>\n      <td>8762</td>\n      <td>7509</td>\n      <td>1253</td>\n      <td>14.3</td>\n      <td>8691</td>\n      <td>7552</td>\n      <td>1139</td>\n      <td>13.1</td>\n      <td>NaN</td>\n      <td>NaN</td>\n    </tr>\n    <tr>\n      <th>3275</th>\n      <td>72153</td>\n      <td>PR</td>\n      <td>Yauco Municipio, PR</td>\n      <td>2</td>\n      <td>2</td>\n      <td>1</td>\n      <td>14664</td>\n      <td>12871</td>\n      <td>1793</td>\n      <td>12.2</td>\n      <td>...</td>\n      <td>9716</td>\n      <td>8288</td>\n      <td>1428</td>\n      <td>14.7</td>\n      <td>9759</td>\n      <td>8331</td>\n      <td>1428</td>\n      <td>14.6</td>\n      <td>NaN</td>\n      <td>NaN</td>\n    </tr>\n  </tbody>\n</table>\n<p>3275 rows × 88 columns</p>\n</div>"
     },
     "metadata": {},
     "output_type": "display_data"
    }
   ],
   "source": [
    "display(unemployment)\n",
    "unemployment2017_2019 = unemployment[4:]\n",
    "unemployment2017_2019.reset_index(drop=True, inplace=True)\n",
    "unemployment_header = unemployment2017_2019.iloc[0, :].values\n",
    "unemployment2017_2019.columns = unemployment_header\n",
    "unemployment2017_2019 = unemployment2017_2019.drop([0])\n",
    "display(unemployment2017_2019)"
   ],
   "metadata": {
    "collapsed": false,
    "pycharm": {
     "name": "#%%\n"
    }
   }
  },
  {
   "cell_type": "markdown",
   "source": [
    "* fix header columns of csv file\n",
    "* remove empty rows"
   ],
   "metadata": {
    "collapsed": false
   }
  },
  {
   "cell_type": "code",
   "execution_count": 59,
   "outputs": [
    {
     "data": {
      "text/plain": "Index(['fips_txt', 'Stabr', 'area_name', 'Rural_urban_continuum_code_2013',\n       'Urban_influence_code_2013', 'Metro_2013', 'Civilian_labor_force_2000',\n       'Employed_2000', 'Unemployed_2000', 'Unemployment_rate_2000',\n       'Civilian_labor_force_2001', 'Employed_2001', 'Unemployed_2001',\n       'Unemployment_rate_2001', 'Civilian_labor_force_2002', 'Employed_2002',\n       'Unemployed_2002', 'Unemployment_rate_2002',\n       'Civilian_labor_force_2003', 'Employed_2003', 'Unemployed_2003',\n       'Unemployment_rate_2003', 'Civilian_labor_force_2004', 'Employed_2004',\n       'Unemployed_2004', 'Unemployment_rate_2004',\n       'Civilian_labor_force_2005', 'Employed_2005', 'Unemployed_2005',\n       'Unemployment_rate_2005', 'Civilian_labor_force_2006', 'Employed_2006',\n       'Unemployed_2006', 'Unemployment_rate_2006',\n       'Civilian_labor_force_2007', 'Employed_2007', 'Unemployed_2007',\n       'Unemployment_rate_2007', 'Civilian_labor_force_2008', 'Employed_2008',\n       'Unemployed_2008', 'Unemployment_rate_2008',\n       'Civilian_labor_force_2009', 'Employed_2009', 'Unemployed_2009',\n       'Unemployment_rate_2009', 'Civilian_labor_force_2010', 'Employed_2010',\n       'Unemployed_2010', 'Unemployment_rate_2010',\n       'Civilian_labor_force_2011', 'Employed_2011', 'Unemployed_2011',\n       'Unemployment_rate_2011', 'Civilian_labor_force_2012', 'Employed_2012',\n       'Unemployed_2012', 'Unemployment_rate_2012',\n       'Civilian_labor_force_2013', 'Employed_2013', 'Unemployed_2013',\n       'Unemployment_rate_2013', 'Civilian_labor_force_2014', 'Employed_2014',\n       'Unemployed_2014', 'Unemployment_rate_2014',\n       'Civilian_labor_force_2015', 'Employed_2015', 'Unemployed_2015',\n       'Unemployment_rate_2015', 'Civilian_labor_force_2016', 'Employed_2016',\n       'Unemployed_2016', 'Unemployment_rate_2016',\n       'Civilian_labor_force_2017', 'Employed_2017', 'Unemployed_2017',\n       'Unemployment_rate_2017', 'Civilian_labor_force_2018', 'Employed_2018',\n       'Unemployed_2018', 'Unemployment_rate_2018',\n       'Civilian_labor_force_2019', 'Employed_2019', 'Unemployed_2019',\n       'Unemployment_rate_2019', 'Median_Household_Income_2019',\n       'Med_HH_Income_Percent_of_State_Total_2019'],\n      dtype='object')"
     },
     "metadata": {},
     "output_type": "display_data"
    }
   ],
   "source": [
    "# used to remove other year data to keep only 2017-2019\n",
    "display(unemployment2017_2019.columns)\n",
    "cols_to_remove = unemployment2017_2019.iloc[:, 3:74].columns\n",
    "unemployment2017_2019 = remove_col(unemployment2017_2019, cols_to_remove)\n",
    "\n",
    "\n",
    "# unemployment2017_2019"
   ],
   "metadata": {
    "collapsed": false,
    "pycharm": {
     "name": "#%%\n"
    }
   }
  },
  {
   "cell_type": "code",
   "execution_count": 60,
   "outputs": [
    {
     "data": {
      "text/plain": "     fips_txt Stabr                area_name Civilian_labor_force_2017  \\\n1       00000    US            United States                 160158564   \n2       01000    AL                  Alabama                   2186869   \n3       01001    AL       Autauga County, AL                     26075   \n4       01003    AL       Baldwin County, AL                     92456   \n5       01005    AL       Barbour County, AL                      8349   \n...       ...   ...                      ...                       ...   \n3271    72145    PR  Vega Baja Municipio, PR                     13414   \n3272    72147    PR    Vieques Municipio, PR                      3027   \n3273    72149    PR   Villalba Municipio, PR                      7557   \n3274    72151    PR    Yabucoa Municipio, PR                      9000   \n3275    72153    PR      Yauco Municipio, PR                     10160   \n\n     Employed_2017 Unemployed_2017 Unemployment_rate_2017  \\\n1        153183461         6975103                4.35512   \n2          2090373           96496                    4.4   \n3            25062            1013                    3.9   \n4            88711            3745                    4.1   \n5             7863             486                    5.8   \n...            ...             ...                    ...   \n3271         11746            1668                   12.4   \n3272          2589             438                   14.5   \n3273          6090            1467                   19.4   \n3274          7512            1488                   16.5   \n3275          8409            1751                   17.2   \n\n     Civilian_labor_force_2018 Employed_2018 Unemployed_2018  \\\n1                    161389026     155102319         6286707   \n2                      2216627       2130845           85782   \n3                        26196         25261             935   \n4                        95233         91809            3424   \n5                         8414          7987             427   \n...                        ...           ...             ...   \n3271                     13117         11750            1367   \n3272                      2718          2269             449   \n3273                      7311          6154            1157   \n3274                      8762          7509            1253   \n3275                      9716          8288            1428   \n\n     Unemployment_rate_2018 Civilian_labor_force_2019 Employed_2019  \\\n1                   3.89537                 163100055     157115247   \n2                       3.9                   2241747       2174483   \n3                       3.6                     26172         25458   \n4                       3.6                     97328         94675   \n5                       5.1                      8537          8213   \n...                     ...                       ...           ...   \n3271                   10.4                     13037         11791   \n3272                   16.5                      2585          2406   \n3273                   15.8                      7406          6231   \n3274                   14.3                      8691          7552   \n3275                   14.7                      9759          8331   \n\n     Unemployed_2019 Unemployment_rate_2019  \n1            5984808                3.66941  \n2              67264                      3  \n3                714                    2.7  \n4               2653                    2.7  \n5                324                    3.8  \n...              ...                    ...  \n3271            1246                    9.6  \n3272             179                    6.9  \n3273            1175                   15.9  \n3274            1139                   13.1  \n3275            1428                   14.6  \n\n[3275 rows x 15 columns]",
      "text/html": "<div>\n<style scoped>\n    .dataframe tbody tr th:only-of-type {\n        vertical-align: middle;\n    }\n\n    .dataframe tbody tr th {\n        vertical-align: top;\n    }\n\n    .dataframe thead th {\n        text-align: right;\n    }\n</style>\n<table border=\"1\" class=\"dataframe\">\n  <thead>\n    <tr style=\"text-align: right;\">\n      <th></th>\n      <th>fips_txt</th>\n      <th>Stabr</th>\n      <th>area_name</th>\n      <th>Civilian_labor_force_2017</th>\n      <th>Employed_2017</th>\n      <th>Unemployed_2017</th>\n      <th>Unemployment_rate_2017</th>\n      <th>Civilian_labor_force_2018</th>\n      <th>Employed_2018</th>\n      <th>Unemployed_2018</th>\n      <th>Unemployment_rate_2018</th>\n      <th>Civilian_labor_force_2019</th>\n      <th>Employed_2019</th>\n      <th>Unemployed_2019</th>\n      <th>Unemployment_rate_2019</th>\n    </tr>\n  </thead>\n  <tbody>\n    <tr>\n      <th>1</th>\n      <td>00000</td>\n      <td>US</td>\n      <td>United States</td>\n      <td>160158564</td>\n      <td>153183461</td>\n      <td>6975103</td>\n      <td>4.35512</td>\n      <td>161389026</td>\n      <td>155102319</td>\n      <td>6286707</td>\n      <td>3.89537</td>\n      <td>163100055</td>\n      <td>157115247</td>\n      <td>5984808</td>\n      <td>3.66941</td>\n    </tr>\n    <tr>\n      <th>2</th>\n      <td>01000</td>\n      <td>AL</td>\n      <td>Alabama</td>\n      <td>2186869</td>\n      <td>2090373</td>\n      <td>96496</td>\n      <td>4.4</td>\n      <td>2216627</td>\n      <td>2130845</td>\n      <td>85782</td>\n      <td>3.9</td>\n      <td>2241747</td>\n      <td>2174483</td>\n      <td>67264</td>\n      <td>3</td>\n    </tr>\n    <tr>\n      <th>3</th>\n      <td>01001</td>\n      <td>AL</td>\n      <td>Autauga County, AL</td>\n      <td>26075</td>\n      <td>25062</td>\n      <td>1013</td>\n      <td>3.9</td>\n      <td>26196</td>\n      <td>25261</td>\n      <td>935</td>\n      <td>3.6</td>\n      <td>26172</td>\n      <td>25458</td>\n      <td>714</td>\n      <td>2.7</td>\n    </tr>\n    <tr>\n      <th>4</th>\n      <td>01003</td>\n      <td>AL</td>\n      <td>Baldwin County, AL</td>\n      <td>92456</td>\n      <td>88711</td>\n      <td>3745</td>\n      <td>4.1</td>\n      <td>95233</td>\n      <td>91809</td>\n      <td>3424</td>\n      <td>3.6</td>\n      <td>97328</td>\n      <td>94675</td>\n      <td>2653</td>\n      <td>2.7</td>\n    </tr>\n    <tr>\n      <th>5</th>\n      <td>01005</td>\n      <td>AL</td>\n      <td>Barbour County, AL</td>\n      <td>8349</td>\n      <td>7863</td>\n      <td>486</td>\n      <td>5.8</td>\n      <td>8414</td>\n      <td>7987</td>\n      <td>427</td>\n      <td>5.1</td>\n      <td>8537</td>\n      <td>8213</td>\n      <td>324</td>\n      <td>3.8</td>\n    </tr>\n    <tr>\n      <th>...</th>\n      <td>...</td>\n      <td>...</td>\n      <td>...</td>\n      <td>...</td>\n      <td>...</td>\n      <td>...</td>\n      <td>...</td>\n      <td>...</td>\n      <td>...</td>\n      <td>...</td>\n      <td>...</td>\n      <td>...</td>\n      <td>...</td>\n      <td>...</td>\n      <td>...</td>\n    </tr>\n    <tr>\n      <th>3271</th>\n      <td>72145</td>\n      <td>PR</td>\n      <td>Vega Baja Municipio, PR</td>\n      <td>13414</td>\n      <td>11746</td>\n      <td>1668</td>\n      <td>12.4</td>\n      <td>13117</td>\n      <td>11750</td>\n      <td>1367</td>\n      <td>10.4</td>\n      <td>13037</td>\n      <td>11791</td>\n      <td>1246</td>\n      <td>9.6</td>\n    </tr>\n    <tr>\n      <th>3272</th>\n      <td>72147</td>\n      <td>PR</td>\n      <td>Vieques Municipio, PR</td>\n      <td>3027</td>\n      <td>2589</td>\n      <td>438</td>\n      <td>14.5</td>\n      <td>2718</td>\n      <td>2269</td>\n      <td>449</td>\n      <td>16.5</td>\n      <td>2585</td>\n      <td>2406</td>\n      <td>179</td>\n      <td>6.9</td>\n    </tr>\n    <tr>\n      <th>3273</th>\n      <td>72149</td>\n      <td>PR</td>\n      <td>Villalba Municipio, PR</td>\n      <td>7557</td>\n      <td>6090</td>\n      <td>1467</td>\n      <td>19.4</td>\n      <td>7311</td>\n      <td>6154</td>\n      <td>1157</td>\n      <td>15.8</td>\n      <td>7406</td>\n      <td>6231</td>\n      <td>1175</td>\n      <td>15.9</td>\n    </tr>\n    <tr>\n      <th>3274</th>\n      <td>72151</td>\n      <td>PR</td>\n      <td>Yabucoa Municipio, PR</td>\n      <td>9000</td>\n      <td>7512</td>\n      <td>1488</td>\n      <td>16.5</td>\n      <td>8762</td>\n      <td>7509</td>\n      <td>1253</td>\n      <td>14.3</td>\n      <td>8691</td>\n      <td>7552</td>\n      <td>1139</td>\n      <td>13.1</td>\n    </tr>\n    <tr>\n      <th>3275</th>\n      <td>72153</td>\n      <td>PR</td>\n      <td>Yauco Municipio, PR</td>\n      <td>10160</td>\n      <td>8409</td>\n      <td>1751</td>\n      <td>17.2</td>\n      <td>9716</td>\n      <td>8288</td>\n      <td>1428</td>\n      <td>14.7</td>\n      <td>9759</td>\n      <td>8331</td>\n      <td>1428</td>\n      <td>14.6</td>\n    </tr>\n  </tbody>\n</table>\n<p>3275 rows × 15 columns</p>\n</div>"
     },
     "metadata": {},
     "output_type": "display_data"
    }
   ],
   "source": [
    "unemployment_rates_2017_2019 = unemployment2017_2019.iloc[:,:-2]\n",
    "display(unemployment_rates_2017_2019)"
   ],
   "metadata": {
    "collapsed": false,
    "pycharm": {
     "name": "#%%\n"
    }
   }
  },
  {
   "cell_type": "markdown",
   "source": [
    "* remove all other column data for years 2000 - 2016\n",
    "* make a df for only unemployment rates"
   ],
   "metadata": {
    "collapsed": false
   }
  },
  {
   "cell_type": "code",
   "execution_count": 61,
   "outputs": [],
   "source": [
    "# Retain only counties and not regions / individual state\n",
    "\n",
    "UE_counties = unemployment_rates_2017_2019['area_name'].str.contains(',')\n",
    "UE_county_rate = unemployment_rates_2017_2019.loc[UE_counties]"
   ],
   "metadata": {
    "collapsed": false,
    "pycharm": {
     "name": "#%%\n"
    }
   }
  },
  {
   "cell_type": "code",
   "execution_count": 62,
   "outputs": [
    {
     "name": "stderr",
     "output_type": "stream",
     "text": [
      "<ipython-input-62-53a924a2cf8b>:1: SettingWithCopyWarning: \n",
      "A value is trying to be set on a copy of a slice from a DataFrame\n",
      "\n",
      "See the caveats in the documentation: https://pandas.pydata.org/pandas-docs/stable/user_guide/indexing.html#returning-a-view-versus-a-copy\n",
      "  UE_county_rate.dropna(inplace=True)\n",
      "/home/wkc/.local/lib/python3.8/site-packages/pandas/core/frame.py:4300: SettingWithCopyWarning: \n",
      "A value is trying to be set on a copy of a slice from a DataFrame\n",
      "\n",
      "See the caveats in the documentation: https://pandas.pydata.org/pandas-docs/stable/user_guide/indexing.html#returning-a-view-versus-a-copy\n",
      "  return super().rename(\n"
     ]
    }
   ],
   "source": [
    "UE_county_rate.dropna(inplace=True)\n",
    "UE_county_rate.reset_index(drop=True, inplace=True)\n",
    "\n",
    "UE_county_rate.rename(columns={'fips_txt':'GeoFIPS'}, inplace=True)"
   ],
   "metadata": {
    "collapsed": false,
    "pycharm": {
     "name": "#%%\n"
    }
   }
  },
  {
   "cell_type": "markdown",
   "source": [
    "* 3 alaskan counties show unknown values;\n",
    "* These values will not be mergeable with aqi data as it we do not aqi data on those areas\n",
    "* drop these rows\n",
    "* Rename fips_txt to GeoFIPS\n"
   ],
   "metadata": {
    "collapsed": false
   }
  },
  {
   "cell_type": "markdown",
   "source": [
    "* we have 0 duplicates"
   ],
   "metadata": {
    "collapsed": false
   }
  },
  {
   "cell_type": "code",
   "execution_count": 63,
   "outputs": [
    {
     "name": "stdout",
     "output_type": "stream",
     "text": [
      "<class 'pandas.core.frame.DataFrame'>\n",
      "RangeIndex: 3218 entries, 0 to 3217\n",
      "Data columns (total 15 columns):\n",
      " #   Column                     Non-Null Count  Dtype \n",
      "---  ------                     --------------  ----- \n",
      " 0   GeoFIPS                    3218 non-null   object\n",
      " 1   Stabr                      3218 non-null   object\n",
      " 2   area_name                  3218 non-null   object\n",
      " 3   Civilian_labor_force_2017  3218 non-null   object\n",
      " 4   Employed_2017              3218 non-null   object\n",
      " 5   Unemployed_2017            3218 non-null   object\n",
      " 6   Unemployment_rate_2017     3218 non-null   object\n",
      " 7   Civilian_labor_force_2018  3218 non-null   object\n",
      " 8   Employed_2018              3218 non-null   object\n",
      " 9   Unemployed_2018            3218 non-null   object\n",
      " 10  Unemployment_rate_2018     3218 non-null   object\n",
      " 11  Civilian_labor_force_2019  3218 non-null   object\n",
      " 12  Employed_2019              3218 non-null   object\n",
      " 13  Unemployed_2019            3218 non-null   object\n",
      " 14  Unemployment_rate_2019     3218 non-null   object\n",
      "dtypes: object(15)\n",
      "memory usage: 377.2+ KB\n",
      "<class 'pandas.core.frame.DataFrame'>\n",
      "RangeIndex: 3218 entries, 0 to 3217\n",
      "Data columns (total 15 columns):\n",
      " #   Column                     Non-Null Count  Dtype  \n",
      "---  ------                     --------------  -----  \n",
      " 0   GeoFIPS                    3218 non-null   object \n",
      " 1   Stabr                      3218 non-null   object \n",
      " 2   area_name                  3218 non-null   object \n",
      " 3   Civilian_labor_force_2017  3218 non-null   int32  \n",
      " 4   Employed_2017              3218 non-null   int32  \n",
      " 5   Unemployed_2017            3218 non-null   int32  \n",
      " 6   Unemployment_rate_2017     3218 non-null   float32\n",
      " 7   Civilian_labor_force_2018  3218 non-null   int32  \n",
      " 8   Employed_2018              3218 non-null   int32  \n",
      " 9   Unemployed_2018            3218 non-null   int32  \n",
      " 10  Unemployment_rate_2018     3218 non-null   float32\n",
      " 11  Civilian_labor_force_2019  3218 non-null   int32  \n",
      " 12  Employed_2019              3218 non-null   int32  \n",
      " 13  Unemployed_2019            3218 non-null   int32  \n",
      " 14  Unemployment_rate_2019     3218 non-null   float32\n",
      "dtypes: float32(3), int32(9), object(3)\n",
      "memory usage: 226.4+ KB\n"
     ]
    },
    {
     "data": {
      "text/plain": "None"
     },
     "metadata": {},
     "output_type": "display_data"
    },
    {
     "name": "stderr",
     "output_type": "stream",
     "text": [
      "<ipython-input-63-1d790d0a8427>:3: SettingWithCopyWarning: \n",
      "A value is trying to be set on a copy of a slice from a DataFrame.\n",
      "Try using .loc[row_indexer,col_indexer] = value instead\n",
      "\n",
      "See the caveats in the documentation: https://pandas.pydata.org/pandas-docs/stable/user_guide/indexing.html#returning-a-view-versus-a-copy\n",
      "  UE_county_rate['Unemployment_rate_2017'] = pd.to_numeric(UE_county_rate['Unemployment_rate_2017'], downcast='float')\n",
      "<ipython-input-63-1d790d0a8427>:4: SettingWithCopyWarning: \n",
      "A value is trying to be set on a copy of a slice from a DataFrame.\n",
      "Try using .loc[row_indexer,col_indexer] = value instead\n",
      "\n",
      "See the caveats in the documentation: https://pandas.pydata.org/pandas-docs/stable/user_guide/indexing.html#returning-a-view-versus-a-copy\n",
      "  UE_county_rate['Unemployment_rate_2018'] = pd.to_numeric(UE_county_rate['Unemployment_rate_2018'], downcast='float')\n",
      "<ipython-input-63-1d790d0a8427>:5: SettingWithCopyWarning: \n",
      "A value is trying to be set on a copy of a slice from a DataFrame.\n",
      "Try using .loc[row_indexer,col_indexer] = value instead\n",
      "\n",
      "See the caveats in the documentation: https://pandas.pydata.org/pandas-docs/stable/user_guide/indexing.html#returning-a-view-versus-a-copy\n",
      "  UE_county_rate['Unemployment_rate_2019'] = pd.to_numeric(UE_county_rate['Unemployment_rate_2019'], downcast='float')\n",
      "<ipython-input-63-1d790d0a8427>:9: SettingWithCopyWarning: \n",
      "A value is trying to be set on a copy of a slice from a DataFrame.\n",
      "Try using .loc[row_indexer,col_indexer] = value instead\n",
      "\n",
      "See the caveats in the documentation: https://pandas.pydata.org/pandas-docs/stable/user_guide/indexing.html#returning-a-view-versus-a-copy\n",
      "  UE_county_rate[col] = pd.to_numeric(UE_county_rate[col], downcast='integer')\n"
     ]
    }
   ],
   "source": [
    "display(UE_county_rate.info())\n",
    "\n",
    "UE_county_rate['Unemployment_rate_2017'] = pd.to_numeric(UE_county_rate['Unemployment_rate_2017'], downcast='float')\n",
    "UE_county_rate['Unemployment_rate_2018'] = pd.to_numeric(UE_county_rate['Unemployment_rate_2018'], downcast='float')\n",
    "UE_county_rate['Unemployment_rate_2019'] = pd.to_numeric(UE_county_rate['Unemployment_rate_2019'], downcast='float')\n",
    "\n",
    "\n",
    "for col in UE_county_rate.columns[[3,4,5,7,8,9,11,12,13]]:\n",
    "    UE_county_rate[col] = pd.to_numeric(UE_county_rate[col], downcast='integer')\n",
    "\n",
    "\n",
    "UE_county_rate.info()"
   ],
   "metadata": {
    "collapsed": false,
    "pycharm": {
     "name": "#%%\n"
    }
   }
  },
  {
   "cell_type": "markdown",
   "source": [
    "* convert Unemployment rate columsn to be type float\n"
   ],
   "metadata": {
    "collapsed": false
   }
  },
  {
   "cell_type": "markdown",
   "source": [
    "* In 2017, it appears that Unemployment rates from 2.5 to 7.5 are normal\n",
    "* data is skewed to right"
   ],
   "metadata": {
    "collapsed": false
   }
  },
  {
   "cell_type": "markdown",
   "source": [
    "### Retrieve NE Unemployment Data\n"
   ],
   "metadata": {
    "collapsed": false,
    "pycharm": {
     "name": "#%% md\n"
    }
   }
  },
  {
   "cell_type": "code",
   "execution_count": 64,
   "outputs": [
    {
     "data": {
      "text/plain": "     GeoFIPS Stabr              area_name  Civilian_labor_force_2017  \\\n308    09001    CT   Fairfield County, CT                     479458   \n309    09003    CT    Hartford County, CT                     477390   \n310    09005    CT  Litchfield County, CT                     104051   \n311    09007    CT   Middlesex County, CT                      92583   \n312    09009    CT   New Haven County, CT                     457800   \n...      ...   ...                    ...                        ...   \n2813   50019    VT     Orleans County, VT                      13601   \n2814   50021    VT     Rutland County, VT                      31096   \n2815   50023    VT  Washington County, VT                      34260   \n2816   50025    VT     Windham County, VT                      22823   \n2817   50027    VT     Windsor County, VT                      29048   \n\n      Employed_2017  Unemployed_2017  Unemployment_rate_2017  \\\n308          457625            21833                     4.6   \n309          454205            23185                     4.9   \n310           99522             4529                     4.4   \n311           88817             3766                     4.1   \n312          434645            23155                     5.1   \n...             ...              ...                     ...   \n2813          12920              681                     5.0   \n2814          30030             1066                     3.4   \n2815          33273              987                     2.9   \n2816          22132              691                     3.0   \n2817          28318              730                     2.5   \n\n      Civilian_labor_force_2018  Employed_2018  Unemployed_2018  \\\n308                      479179         460045            19134   \n309                      478660         458138            20522   \n310                      104604         100568             4036   \n311                       92811          89517             3294   \n312                      458799         438485            20314   \n...                         ...            ...              ...   \n2813                      13501          12924              577   \n2814                      30752          29828              924   \n2815                      34512          33658              854   \n2816                      22470          21856              614   \n2817                      29034          28384              650   \n\n      Unemployment_rate_2018  Civilian_labor_force_2019  Employed_2019  \\\n308                      4.0                     481023         463547   \n309                      4.3                     483303         464533   \n310                      3.9                     105182         101543   \n311                      3.5                      93696          90703   \n312                      4.4                     461613         443514   \n...                      ...                        ...            ...   \n2813                     4.3                      13275          12713   \n2814                     3.0                      30446          29608   \n2815                     2.5                      34360          33586   \n2816                     2.7                      21977          21416   \n2817                     2.2                      28809          28205   \n\n      Unemployed_2019  Unemployment_rate_2019  \n308             17476                     3.6  \n309             18770                     3.9  \n310              3639                     3.5  \n311              2993                     3.2  \n312             18099                     3.9  \n...               ...                     ...  \n2813              562                     4.2  \n2814              838                     2.8  \n2815              774                     2.3  \n2816              561                     2.6  \n2817              604                     2.1  \n\n[244 rows x 15 columns]",
      "text/html": "<div>\n<style scoped>\n    .dataframe tbody tr th:only-of-type {\n        vertical-align: middle;\n    }\n\n    .dataframe tbody tr th {\n        vertical-align: top;\n    }\n\n    .dataframe thead th {\n        text-align: right;\n    }\n</style>\n<table border=\"1\" class=\"dataframe\">\n  <thead>\n    <tr style=\"text-align: right;\">\n      <th></th>\n      <th>GeoFIPS</th>\n      <th>Stabr</th>\n      <th>area_name</th>\n      <th>Civilian_labor_force_2017</th>\n      <th>Employed_2017</th>\n      <th>Unemployed_2017</th>\n      <th>Unemployment_rate_2017</th>\n      <th>Civilian_labor_force_2018</th>\n      <th>Employed_2018</th>\n      <th>Unemployed_2018</th>\n      <th>Unemployment_rate_2018</th>\n      <th>Civilian_labor_force_2019</th>\n      <th>Employed_2019</th>\n      <th>Unemployed_2019</th>\n      <th>Unemployment_rate_2019</th>\n    </tr>\n  </thead>\n  <tbody>\n    <tr>\n      <th>308</th>\n      <td>09001</td>\n      <td>CT</td>\n      <td>Fairfield County, CT</td>\n      <td>479458</td>\n      <td>457625</td>\n      <td>21833</td>\n      <td>4.6</td>\n      <td>479179</td>\n      <td>460045</td>\n      <td>19134</td>\n      <td>4.0</td>\n      <td>481023</td>\n      <td>463547</td>\n      <td>17476</td>\n      <td>3.6</td>\n    </tr>\n    <tr>\n      <th>309</th>\n      <td>09003</td>\n      <td>CT</td>\n      <td>Hartford County, CT</td>\n      <td>477390</td>\n      <td>454205</td>\n      <td>23185</td>\n      <td>4.9</td>\n      <td>478660</td>\n      <td>458138</td>\n      <td>20522</td>\n      <td>4.3</td>\n      <td>483303</td>\n      <td>464533</td>\n      <td>18770</td>\n      <td>3.9</td>\n    </tr>\n    <tr>\n      <th>310</th>\n      <td>09005</td>\n      <td>CT</td>\n      <td>Litchfield County, CT</td>\n      <td>104051</td>\n      <td>99522</td>\n      <td>4529</td>\n      <td>4.4</td>\n      <td>104604</td>\n      <td>100568</td>\n      <td>4036</td>\n      <td>3.9</td>\n      <td>105182</td>\n      <td>101543</td>\n      <td>3639</td>\n      <td>3.5</td>\n    </tr>\n    <tr>\n      <th>311</th>\n      <td>09007</td>\n      <td>CT</td>\n      <td>Middlesex County, CT</td>\n      <td>92583</td>\n      <td>88817</td>\n      <td>3766</td>\n      <td>4.1</td>\n      <td>92811</td>\n      <td>89517</td>\n      <td>3294</td>\n      <td>3.5</td>\n      <td>93696</td>\n      <td>90703</td>\n      <td>2993</td>\n      <td>3.2</td>\n    </tr>\n    <tr>\n      <th>312</th>\n      <td>09009</td>\n      <td>CT</td>\n      <td>New Haven County, CT</td>\n      <td>457800</td>\n      <td>434645</td>\n      <td>23155</td>\n      <td>5.1</td>\n      <td>458799</td>\n      <td>438485</td>\n      <td>20314</td>\n      <td>4.4</td>\n      <td>461613</td>\n      <td>443514</td>\n      <td>18099</td>\n      <td>3.9</td>\n    </tr>\n    <tr>\n      <th>...</th>\n      <td>...</td>\n      <td>...</td>\n      <td>...</td>\n      <td>...</td>\n      <td>...</td>\n      <td>...</td>\n      <td>...</td>\n      <td>...</td>\n      <td>...</td>\n      <td>...</td>\n      <td>...</td>\n      <td>...</td>\n      <td>...</td>\n      <td>...</td>\n      <td>...</td>\n    </tr>\n    <tr>\n      <th>2813</th>\n      <td>50019</td>\n      <td>VT</td>\n      <td>Orleans County, VT</td>\n      <td>13601</td>\n      <td>12920</td>\n      <td>681</td>\n      <td>5.0</td>\n      <td>13501</td>\n      <td>12924</td>\n      <td>577</td>\n      <td>4.3</td>\n      <td>13275</td>\n      <td>12713</td>\n      <td>562</td>\n      <td>4.2</td>\n    </tr>\n    <tr>\n      <th>2814</th>\n      <td>50021</td>\n      <td>VT</td>\n      <td>Rutland County, VT</td>\n      <td>31096</td>\n      <td>30030</td>\n      <td>1066</td>\n      <td>3.4</td>\n      <td>30752</td>\n      <td>29828</td>\n      <td>924</td>\n      <td>3.0</td>\n      <td>30446</td>\n      <td>29608</td>\n      <td>838</td>\n      <td>2.8</td>\n    </tr>\n    <tr>\n      <th>2815</th>\n      <td>50023</td>\n      <td>VT</td>\n      <td>Washington County, VT</td>\n      <td>34260</td>\n      <td>33273</td>\n      <td>987</td>\n      <td>2.9</td>\n      <td>34512</td>\n      <td>33658</td>\n      <td>854</td>\n      <td>2.5</td>\n      <td>34360</td>\n      <td>33586</td>\n      <td>774</td>\n      <td>2.3</td>\n    </tr>\n    <tr>\n      <th>2816</th>\n      <td>50025</td>\n      <td>VT</td>\n      <td>Windham County, VT</td>\n      <td>22823</td>\n      <td>22132</td>\n      <td>691</td>\n      <td>3.0</td>\n      <td>22470</td>\n      <td>21856</td>\n      <td>614</td>\n      <td>2.7</td>\n      <td>21977</td>\n      <td>21416</td>\n      <td>561</td>\n      <td>2.6</td>\n    </tr>\n    <tr>\n      <th>2817</th>\n      <td>50027</td>\n      <td>VT</td>\n      <td>Windsor County, VT</td>\n      <td>29048</td>\n      <td>28318</td>\n      <td>730</td>\n      <td>2.5</td>\n      <td>29034</td>\n      <td>28384</td>\n      <td>650</td>\n      <td>2.2</td>\n      <td>28809</td>\n      <td>28205</td>\n      <td>604</td>\n      <td>2.1</td>\n    </tr>\n  </tbody>\n</table>\n<p>244 rows × 15 columns</p>\n</div>"
     },
     "metadata": {},
     "output_type": "display_data"
    }
   ],
   "source": [
    "NE_States = (UE_county_rate['Stabr'] == 'MA') | \\\n",
    "            (UE_county_rate['Stabr'] == 'CT') | \\\n",
    "            (UE_county_rate['Stabr'] == 'ME') | \\\n",
    "            (UE_county_rate['Stabr'] == 'NY') | \\\n",
    "            (UE_county_rate['Stabr'] == 'NH') | \\\n",
    "            (UE_county_rate['Stabr'] == 'NJ') | \\\n",
    "            (UE_county_rate['Stabr'] == 'PA') | \\\n",
    "            (UE_county_rate['Stabr'] == 'VT') | \\\n",
    "            (UE_county_rate['Stabr'] == 'DE') | \\\n",
    "            (UE_county_rate['Stabr'] == 'MD') | \\\n",
    "            (UE_county_rate['Stabr'] == 'RI') | \\\n",
    "            (UE_county_rate['Stabr'] == 'DC')\n",
    "\n",
    "NE_unemploy_rate_2017_2019 = UE_county_rate.loc[NE_States]\n",
    "\n",
    "display(NE_unemploy_rate_2017_2019)"
   ],
   "metadata": {
    "collapsed": false,
    "pycharm": {
     "name": "#%%\n"
    }
   }
  },
  {
   "cell_type": "markdown",
   "source": [
    "* Northeastern counties of Unemployment data is created\n",
    "\n",
    "# clean up saipe data 2017\n"
   ],
   "metadata": {
    "collapsed": false
   }
  },
  {
   "cell_type": "code",
   "execution_count": 65,
   "outputs": [
    {
     "data": {
      "text/plain": "     State FIPS Code County FIPS Code Postal Code               Name  \\\n0                 00              000          US      United States   \n1                 01              000          AL            Alabama   \n2                 01              001          AL     Autauga County   \n3                 01              003          AL     Baldwin County   \n4                 01              005          AL     Barbour County   \n...              ...              ...         ...                ...   \n3189              56              037          WY  Sweetwater County   \n3190              56              039          WY       Teton County   \n3191              56              041          WY       Uinta County   \n3192              56              043          WY    Washakie County   \n3193              56              045          WY      Weston County   \n\n     Poverty Estimate, All Ages 90% CI Lower Bound 90% CI Upper Bound  \\\n0                      42583651           42342619           42824683   \n1                        802263             784517             820009   \n2                          7390               6147               8633   \n3                         21199              17444              24954   \n4                          7414               6325               8503   \n...                         ...                ...                ...   \n3189                       4253               3540               4966   \n3190                       1348               1021               1675   \n3191                       2067               1623               2511   \n3192                        845                632               1058   \n3193                        699                541                857   \n\n     Poverty Percent, All Ages 90% CI Lower Bound 90% CI Upper Bound  ...  \\\n0                         13.4               13.3               13.5  ...   \n1                         16.9               16.5               17.3  ...   \n2                         13.4               11.1               15.7  ...   \n3                         10.1                8.3               11.9  ...   \n4                         33.4               28.5               38.3  ...   \n...                        ...                ...                ...  ...   \n3189                        10                8.3               11.7  ...   \n3190                       5.8                4.4                7.2  ...   \n3191                      10.2                  8               12.4  ...   \n3192                      10.7                  8               13.4  ...   \n3193                      10.6                8.2                 13  ...   \n\n     90% CI Upper Bound Median Household Income 90% CI Lower Bound  \\\n0                  17.5                   60336              60250   \n1                  23.8                   48193              47451   \n2                  22.1                   58343              52121   \n3                  17.9                   56607              52439   \n4                    55                   32490              29218   \n...                 ...                     ...                ...   \n3189                 14                   75590              69190   \n3190                7.9                   90145              80434   \n3191               13.4                   67404              60925   \n3192               17.3                   57989              53142   \n3193               16.6                   56214              50250   \n\n     90% CI Upper Bound Poverty Estimate, Age 0-4 90% CI Lower Bound  \\\n0                 60422                   3932969            3880645   \n1                 48935                     78986              75009   \n2                 64565                         .                  .   \n3                 60775                         .                  .   \n4                 35762                         .                  .   \n...                 ...                       ...                ...   \n3189              81990                         .                  .   \n3190              99856                         .                  .   \n3191              73883                         .                  .   \n3192              62836                         .                  .   \n3193              62178                         .                  .   \n\n     90% CI Upper Bound Poverty Percent, Age 0-4 90% CI Lower Bound  \\\n0               3985293                     20.2               19.9   \n1                 82963                     27.7               26.3   \n2                     .                        .                  .   \n3                     .                        .                  .   \n4                     .                        .                  .   \n...                 ...                      ...                ...   \n3189                  .                        .                  .   \n3190                  .                        .                  .   \n3191                  .                        .                  .   \n3192                  .                        .                  .   \n3193                  .                        .                  .   \n\n     90% CI Upper Bound  \n0                  20.5  \n1                  29.1  \n2                     .  \n3                     .  \n4                     .  \n...                 ...  \n3189                  .  \n3190                  .  \n3191                  .  \n3192                  .  \n3193                  .  \n\n[3194 rows x 31 columns]",
      "text/html": "<div>\n<style scoped>\n    .dataframe tbody tr th:only-of-type {\n        vertical-align: middle;\n    }\n\n    .dataframe tbody tr th {\n        vertical-align: top;\n    }\n\n    .dataframe thead th {\n        text-align: right;\n    }\n</style>\n<table border=\"1\" class=\"dataframe\">\n  <thead>\n    <tr style=\"text-align: right;\">\n      <th></th>\n      <th>State FIPS Code</th>\n      <th>County FIPS Code</th>\n      <th>Postal Code</th>\n      <th>Name</th>\n      <th>Poverty Estimate, All Ages</th>\n      <th>90% CI Lower Bound</th>\n      <th>90% CI Upper Bound</th>\n      <th>Poverty Percent, All Ages</th>\n      <th>90% CI Lower Bound</th>\n      <th>90% CI Upper Bound</th>\n      <th>...</th>\n      <th>90% CI Upper Bound</th>\n      <th>Median Household Income</th>\n      <th>90% CI Lower Bound</th>\n      <th>90% CI Upper Bound</th>\n      <th>Poverty Estimate, Age 0-4</th>\n      <th>90% CI Lower Bound</th>\n      <th>90% CI Upper Bound</th>\n      <th>Poverty Percent, Age 0-4</th>\n      <th>90% CI Lower Bound</th>\n      <th>90% CI Upper Bound</th>\n    </tr>\n  </thead>\n  <tbody>\n    <tr>\n      <th>0</th>\n      <td>00</td>\n      <td>000</td>\n      <td>US</td>\n      <td>United States</td>\n      <td>42583651</td>\n      <td>42342619</td>\n      <td>42824683</td>\n      <td>13.4</td>\n      <td>13.3</td>\n      <td>13.5</td>\n      <td>...</td>\n      <td>17.5</td>\n      <td>60336</td>\n      <td>60250</td>\n      <td>60422</td>\n      <td>3932969</td>\n      <td>3880645</td>\n      <td>3985293</td>\n      <td>20.2</td>\n      <td>19.9</td>\n      <td>20.5</td>\n    </tr>\n    <tr>\n      <th>1</th>\n      <td>01</td>\n      <td>000</td>\n      <td>AL</td>\n      <td>Alabama</td>\n      <td>802263</td>\n      <td>784517</td>\n      <td>820009</td>\n      <td>16.9</td>\n      <td>16.5</td>\n      <td>17.3</td>\n      <td>...</td>\n      <td>23.8</td>\n      <td>48193</td>\n      <td>47451</td>\n      <td>48935</td>\n      <td>78986</td>\n      <td>75009</td>\n      <td>82963</td>\n      <td>27.7</td>\n      <td>26.3</td>\n      <td>29.1</td>\n    </tr>\n    <tr>\n      <th>2</th>\n      <td>01</td>\n      <td>001</td>\n      <td>AL</td>\n      <td>Autauga County</td>\n      <td>7390</td>\n      <td>6147</td>\n      <td>8633</td>\n      <td>13.4</td>\n      <td>11.1</td>\n      <td>15.7</td>\n      <td>...</td>\n      <td>22.1</td>\n      <td>58343</td>\n      <td>52121</td>\n      <td>64565</td>\n      <td>.</td>\n      <td>.</td>\n      <td>.</td>\n      <td>.</td>\n      <td>.</td>\n      <td>.</td>\n    </tr>\n    <tr>\n      <th>3</th>\n      <td>01</td>\n      <td>003</td>\n      <td>AL</td>\n      <td>Baldwin County</td>\n      <td>21199</td>\n      <td>17444</td>\n      <td>24954</td>\n      <td>10.1</td>\n      <td>8.3</td>\n      <td>11.9</td>\n      <td>...</td>\n      <td>17.9</td>\n      <td>56607</td>\n      <td>52439</td>\n      <td>60775</td>\n      <td>.</td>\n      <td>.</td>\n      <td>.</td>\n      <td>.</td>\n      <td>.</td>\n      <td>.</td>\n    </tr>\n    <tr>\n      <th>4</th>\n      <td>01</td>\n      <td>005</td>\n      <td>AL</td>\n      <td>Barbour County</td>\n      <td>7414</td>\n      <td>6325</td>\n      <td>8503</td>\n      <td>33.4</td>\n      <td>28.5</td>\n      <td>38.3</td>\n      <td>...</td>\n      <td>55</td>\n      <td>32490</td>\n      <td>29218</td>\n      <td>35762</td>\n      <td>.</td>\n      <td>.</td>\n      <td>.</td>\n      <td>.</td>\n      <td>.</td>\n      <td>.</td>\n    </tr>\n    <tr>\n      <th>...</th>\n      <td>...</td>\n      <td>...</td>\n      <td>...</td>\n      <td>...</td>\n      <td>...</td>\n      <td>...</td>\n      <td>...</td>\n      <td>...</td>\n      <td>...</td>\n      <td>...</td>\n      <td>...</td>\n      <td>...</td>\n      <td>...</td>\n      <td>...</td>\n      <td>...</td>\n      <td>...</td>\n      <td>...</td>\n      <td>...</td>\n      <td>...</td>\n      <td>...</td>\n      <td>...</td>\n    </tr>\n    <tr>\n      <th>3189</th>\n      <td>56</td>\n      <td>037</td>\n      <td>WY</td>\n      <td>Sweetwater County</td>\n      <td>4253</td>\n      <td>3540</td>\n      <td>4966</td>\n      <td>10</td>\n      <td>8.3</td>\n      <td>11.7</td>\n      <td>...</td>\n      <td>14</td>\n      <td>75590</td>\n      <td>69190</td>\n      <td>81990</td>\n      <td>.</td>\n      <td>.</td>\n      <td>.</td>\n      <td>.</td>\n      <td>.</td>\n      <td>.</td>\n    </tr>\n    <tr>\n      <th>3190</th>\n      <td>56</td>\n      <td>039</td>\n      <td>WY</td>\n      <td>Teton County</td>\n      <td>1348</td>\n      <td>1021</td>\n      <td>1675</td>\n      <td>5.8</td>\n      <td>4.4</td>\n      <td>7.2</td>\n      <td>...</td>\n      <td>7.9</td>\n      <td>90145</td>\n      <td>80434</td>\n      <td>99856</td>\n      <td>.</td>\n      <td>.</td>\n      <td>.</td>\n      <td>.</td>\n      <td>.</td>\n      <td>.</td>\n    </tr>\n    <tr>\n      <th>3191</th>\n      <td>56</td>\n      <td>041</td>\n      <td>WY</td>\n      <td>Uinta County</td>\n      <td>2067</td>\n      <td>1623</td>\n      <td>2511</td>\n      <td>10.2</td>\n      <td>8</td>\n      <td>12.4</td>\n      <td>...</td>\n      <td>13.4</td>\n      <td>67404</td>\n      <td>60925</td>\n      <td>73883</td>\n      <td>.</td>\n      <td>.</td>\n      <td>.</td>\n      <td>.</td>\n      <td>.</td>\n      <td>.</td>\n    </tr>\n    <tr>\n      <th>3192</th>\n      <td>56</td>\n      <td>043</td>\n      <td>WY</td>\n      <td>Washakie County</td>\n      <td>845</td>\n      <td>632</td>\n      <td>1058</td>\n      <td>10.7</td>\n      <td>8</td>\n      <td>13.4</td>\n      <td>...</td>\n      <td>17.3</td>\n      <td>57989</td>\n      <td>53142</td>\n      <td>62836</td>\n      <td>.</td>\n      <td>.</td>\n      <td>.</td>\n      <td>.</td>\n      <td>.</td>\n      <td>.</td>\n    </tr>\n    <tr>\n      <th>3193</th>\n      <td>56</td>\n      <td>045</td>\n      <td>WY</td>\n      <td>Weston County</td>\n      <td>699</td>\n      <td>541</td>\n      <td>857</td>\n      <td>10.6</td>\n      <td>8.2</td>\n      <td>13</td>\n      <td>...</td>\n      <td>16.6</td>\n      <td>56214</td>\n      <td>50250</td>\n      <td>62178</td>\n      <td>.</td>\n      <td>.</td>\n      <td>.</td>\n      <td>.</td>\n      <td>.</td>\n      <td>.</td>\n    </tr>\n  </tbody>\n</table>\n<p>3194 rows × 31 columns</p>\n</div>"
     },
     "metadata": {},
     "output_type": "display_data"
    }
   ],
   "source": [
    "saipe_header = saipe2017.iloc[2, :].values\n",
    "saipe_header\n",
    "saipe2017.columns = saipe_header\n",
    "saipe2017.drop([0,1,2], inplace=True)\n",
    "saipe2017.reset_index(drop=True, inplace=True)\n",
    "display(saipe2017)"
   ],
   "metadata": {
    "collapsed": false,
    "pycharm": {
     "name": "#%%\n"
    }
   }
  },
  {
   "cell_type": "code",
   "execution_count": 66,
   "outputs": [
    {
     "data": {
      "text/plain": "     State FIPS Code County FIPS Code Postal Code               Name  \\\n0                 01              001          AL     Autauga County   \n1                 01              003          AL     Baldwin County   \n2                 01              005          AL     Barbour County   \n3                 01              007          AL        Bibb County   \n4                 01              009          AL      Blount County   \n...              ...              ...         ...                ...   \n3002              56              037          WY  Sweetwater County   \n3003              56              039          WY       Teton County   \n3004              56              041          WY       Uinta County   \n3005              56              043          WY    Washakie County   \n3006              56              045          WY      Weston County   \n\n     Poverty Estimate, All Ages 90% CI Lower Bound 90% CI Upper Bound  \\\n0                          7390               6147               8633   \n1                         21199              17444              24954   \n2                          7414               6325               8503   \n3                          4137               3187               5087   \n4                          7343               5805               8881   \n...                         ...                ...                ...   \n3002                       4253               3540               4966   \n3003                       1348               1021               1675   \n3004                       2067               1623               2511   \n3005                        845                632               1058   \n3006                        699                541                857   \n\n     Poverty Percent, All Ages 90% CI Lower Bound 90% CI Upper Bound  ...  \\\n0                         13.4               11.1               15.7  ...   \n1                         10.1                8.3               11.9  ...   \n2                         33.4               28.5               38.3  ...   \n3                         20.2               15.5               24.9  ...   \n4                         12.8               10.1               15.5  ...   \n...                        ...                ...                ...  ...   \n3002                        10                8.3               11.7  ...   \n3003                       5.8                4.4                7.2  ...   \n3004                      10.2                  8               12.4  ...   \n3005                      10.7                  8               13.4  ...   \n3006                      10.6                8.2                 13  ...   \n\n     90% CI Upper Bound Poverty Estimate, Age 5-17 in Families  \\\n0                  22.8                                   1842   \n1                  18.3                                   4871   \n2                  56.9                                   1904   \n3                    34                                    870   \n4                    23                                   1763   \n...                 ...                                    ...   \n3002               15.9                                    972   \n3003                8.9                                    189   \n3004               15.1                                    445   \n3005               18.2                                    185   \n3006               18.1                                    130   \n\n     90% CI Lower Bound 90% CI Upper Bound  \\\n0                  1492               2192   \n1                  3641               6101   \n2                  1660               2148   \n3                   641               1099   \n4                  1307               2219   \n...                 ...                ...   \n3002                769               1175   \n3003                128                250   \n3004                304                586   \n3005                125                245   \n3006                 88                172   \n\n     Poverty Percent, Age 5-17 in Families 90% CI Lower Bound  \\\n0                                     18.6               15.1   \n1                                     14.3               10.7   \n2                                     48.8               42.6   \n3                                     26.8               19.8   \n4                                     17.7               13.1   \n...                                    ...                ...   \n3002                                  11.6                9.2   \n3003                                     6                4.1   \n3004                                  10.2                  7   \n3005                                  13.1                8.9   \n3006                                  12.6                8.6   \n\n     90% CI Upper Bound Median Household Income 90% CI Lower Bound  \\\n0                  22.1                   58343              52121   \n1                  17.9                   56607              52439   \n2                    55                   32490              29218   \n3                  33.8                   45795              40924   \n4                  22.3                   48253              43784   \n...                 ...                     ...                ...   \n3002                 14                   75590              69190   \n3003                7.9                   90145              80434   \n3004               13.4                   67404              60925   \n3005               17.3                   57989              53142   \n3006               16.6                   56214              50250   \n\n     90% CI Upper Bound  \n0                 64565  \n1                 60775  \n2                 35762  \n3                 50666  \n4                 52722  \n...                 ...  \n3002              81990  \n3003              99856  \n3004              73883  \n3005              62836  \n3006              62178  \n\n[3007 rows x 25 columns]",
      "text/html": "<div>\n<style scoped>\n    .dataframe tbody tr th:only-of-type {\n        vertical-align: middle;\n    }\n\n    .dataframe tbody tr th {\n        vertical-align: top;\n    }\n\n    .dataframe thead th {\n        text-align: right;\n    }\n</style>\n<table border=\"1\" class=\"dataframe\">\n  <thead>\n    <tr style=\"text-align: right;\">\n      <th></th>\n      <th>State FIPS Code</th>\n      <th>County FIPS Code</th>\n      <th>Postal Code</th>\n      <th>Name</th>\n      <th>Poverty Estimate, All Ages</th>\n      <th>90% CI Lower Bound</th>\n      <th>90% CI Upper Bound</th>\n      <th>Poverty Percent, All Ages</th>\n      <th>90% CI Lower Bound</th>\n      <th>90% CI Upper Bound</th>\n      <th>...</th>\n      <th>90% CI Upper Bound</th>\n      <th>Poverty Estimate, Age 5-17 in Families</th>\n      <th>90% CI Lower Bound</th>\n      <th>90% CI Upper Bound</th>\n      <th>Poverty Percent, Age 5-17 in Families</th>\n      <th>90% CI Lower Bound</th>\n      <th>90% CI Upper Bound</th>\n      <th>Median Household Income</th>\n      <th>90% CI Lower Bound</th>\n      <th>90% CI Upper Bound</th>\n    </tr>\n  </thead>\n  <tbody>\n    <tr>\n      <th>0</th>\n      <td>01</td>\n      <td>001</td>\n      <td>AL</td>\n      <td>Autauga County</td>\n      <td>7390</td>\n      <td>6147</td>\n      <td>8633</td>\n      <td>13.4</td>\n      <td>11.1</td>\n      <td>15.7</td>\n      <td>...</td>\n      <td>22.8</td>\n      <td>1842</td>\n      <td>1492</td>\n      <td>2192</td>\n      <td>18.6</td>\n      <td>15.1</td>\n      <td>22.1</td>\n      <td>58343</td>\n      <td>52121</td>\n      <td>64565</td>\n    </tr>\n    <tr>\n      <th>1</th>\n      <td>01</td>\n      <td>003</td>\n      <td>AL</td>\n      <td>Baldwin County</td>\n      <td>21199</td>\n      <td>17444</td>\n      <td>24954</td>\n      <td>10.1</td>\n      <td>8.3</td>\n      <td>11.9</td>\n      <td>...</td>\n      <td>18.3</td>\n      <td>4871</td>\n      <td>3641</td>\n      <td>6101</td>\n      <td>14.3</td>\n      <td>10.7</td>\n      <td>17.9</td>\n      <td>56607</td>\n      <td>52439</td>\n      <td>60775</td>\n    </tr>\n    <tr>\n      <th>2</th>\n      <td>01</td>\n      <td>005</td>\n      <td>AL</td>\n      <td>Barbour County</td>\n      <td>7414</td>\n      <td>6325</td>\n      <td>8503</td>\n      <td>33.4</td>\n      <td>28.5</td>\n      <td>38.3</td>\n      <td>...</td>\n      <td>56.9</td>\n      <td>1904</td>\n      <td>1660</td>\n      <td>2148</td>\n      <td>48.8</td>\n      <td>42.6</td>\n      <td>55</td>\n      <td>32490</td>\n      <td>29218</td>\n      <td>35762</td>\n    </tr>\n    <tr>\n      <th>3</th>\n      <td>01</td>\n      <td>007</td>\n      <td>AL</td>\n      <td>Bibb County</td>\n      <td>4137</td>\n      <td>3187</td>\n      <td>5087</td>\n      <td>20.2</td>\n      <td>15.5</td>\n      <td>24.9</td>\n      <td>...</td>\n      <td>34</td>\n      <td>870</td>\n      <td>641</td>\n      <td>1099</td>\n      <td>26.8</td>\n      <td>19.8</td>\n      <td>33.8</td>\n      <td>45795</td>\n      <td>40924</td>\n      <td>50666</td>\n    </tr>\n    <tr>\n      <th>4</th>\n      <td>01</td>\n      <td>009</td>\n      <td>AL</td>\n      <td>Blount County</td>\n      <td>7343</td>\n      <td>5805</td>\n      <td>8881</td>\n      <td>12.8</td>\n      <td>10.1</td>\n      <td>15.5</td>\n      <td>...</td>\n      <td>23</td>\n      <td>1763</td>\n      <td>1307</td>\n      <td>2219</td>\n      <td>17.7</td>\n      <td>13.1</td>\n      <td>22.3</td>\n      <td>48253</td>\n      <td>43784</td>\n      <td>52722</td>\n    </tr>\n    <tr>\n      <th>...</th>\n      <td>...</td>\n      <td>...</td>\n      <td>...</td>\n      <td>...</td>\n      <td>...</td>\n      <td>...</td>\n      <td>...</td>\n      <td>...</td>\n      <td>...</td>\n      <td>...</td>\n      <td>...</td>\n      <td>...</td>\n      <td>...</td>\n      <td>...</td>\n      <td>...</td>\n      <td>...</td>\n      <td>...</td>\n      <td>...</td>\n      <td>...</td>\n      <td>...</td>\n      <td>...</td>\n    </tr>\n    <tr>\n      <th>3002</th>\n      <td>56</td>\n      <td>037</td>\n      <td>WY</td>\n      <td>Sweetwater County</td>\n      <td>4253</td>\n      <td>3540</td>\n      <td>4966</td>\n      <td>10</td>\n      <td>8.3</td>\n      <td>11.7</td>\n      <td>...</td>\n      <td>15.9</td>\n      <td>972</td>\n      <td>769</td>\n      <td>1175</td>\n      <td>11.6</td>\n      <td>9.2</td>\n      <td>14</td>\n      <td>75590</td>\n      <td>69190</td>\n      <td>81990</td>\n    </tr>\n    <tr>\n      <th>3003</th>\n      <td>56</td>\n      <td>039</td>\n      <td>WY</td>\n      <td>Teton County</td>\n      <td>1348</td>\n      <td>1021</td>\n      <td>1675</td>\n      <td>5.8</td>\n      <td>4.4</td>\n      <td>7.2</td>\n      <td>...</td>\n      <td>8.9</td>\n      <td>189</td>\n      <td>128</td>\n      <td>250</td>\n      <td>6</td>\n      <td>4.1</td>\n      <td>7.9</td>\n      <td>90145</td>\n      <td>80434</td>\n      <td>99856</td>\n    </tr>\n    <tr>\n      <th>3004</th>\n      <td>56</td>\n      <td>041</td>\n      <td>WY</td>\n      <td>Uinta County</td>\n      <td>2067</td>\n      <td>1623</td>\n      <td>2511</td>\n      <td>10.2</td>\n      <td>8</td>\n      <td>12.4</td>\n      <td>...</td>\n      <td>15.1</td>\n      <td>445</td>\n      <td>304</td>\n      <td>586</td>\n      <td>10.2</td>\n      <td>7</td>\n      <td>13.4</td>\n      <td>67404</td>\n      <td>60925</td>\n      <td>73883</td>\n    </tr>\n    <tr>\n      <th>3005</th>\n      <td>56</td>\n      <td>043</td>\n      <td>WY</td>\n      <td>Washakie County</td>\n      <td>845</td>\n      <td>632</td>\n      <td>1058</td>\n      <td>10.7</td>\n      <td>8</td>\n      <td>13.4</td>\n      <td>...</td>\n      <td>18.2</td>\n      <td>185</td>\n      <td>125</td>\n      <td>245</td>\n      <td>13.1</td>\n      <td>8.9</td>\n      <td>17.3</td>\n      <td>57989</td>\n      <td>53142</td>\n      <td>62836</td>\n    </tr>\n    <tr>\n      <th>3006</th>\n      <td>56</td>\n      <td>045</td>\n      <td>WY</td>\n      <td>Weston County</td>\n      <td>699</td>\n      <td>541</td>\n      <td>857</td>\n      <td>10.6</td>\n      <td>8.2</td>\n      <td>13</td>\n      <td>...</td>\n      <td>18.1</td>\n      <td>130</td>\n      <td>88</td>\n      <td>172</td>\n      <td>12.6</td>\n      <td>8.6</td>\n      <td>16.6</td>\n      <td>56214</td>\n      <td>50250</td>\n      <td>62178</td>\n    </tr>\n  </tbody>\n</table>\n<p>3007 rows × 25 columns</p>\n</div>"
     },
     "metadata": {},
     "output_type": "display_data"
    }
   ],
   "source": [
    "saipe2017.columns\n",
    "saipe2017.iloc[:, [1,2,3,4,7]]\n",
    "saipe_county = saipe2017['Name'].str.contains('County')\n",
    "pov_rate_2017 = saipe2017.loc[saipe_county].iloc[:, :-6]\n",
    "pov_rate_2017.reset_index(drop=True, inplace=True)\n",
    "display(pov_rate_2017)"
   ],
   "metadata": {
    "collapsed": false,
    "pycharm": {
     "name": "#%%\n"
    }
   }
  },
  {
   "cell_type": "markdown",
   "source": [
    "* Remove empty cells and clean up columns\n",
    "* Retain only US county information and poverty rates for all ages\n"
   ],
   "metadata": {
    "collapsed": false
   }
  },
  {
   "cell_type": "code",
   "execution_count": 67,
   "outputs": [
    {
     "name": "stdout",
     "output_type": "stream",
     "text": [
      "State FIPS Code                           0\n",
      "County FIPS Code                          0\n",
      "Postal Code                               0\n",
      "Name                                      0\n",
      "Poverty Estimate, All Ages                0\n",
      "90% CI Lower Bound                        0\n",
      "90% CI Upper Bound                        0\n",
      "Poverty Percent, All Ages                 0\n",
      "90% CI Lower Bound                        0\n",
      "90% CI Upper Bound                        0\n",
      "Poverty Estimate, Age 0-17                0\n",
      "90% CI Lower Bound                        0\n",
      "90% CI Upper Bound                        0\n",
      "Poverty Percent, Age 0-17                 0\n",
      "90% CI Lower Bound                        0\n",
      "90% CI Upper Bound                        0\n",
      "Poverty Estimate, Age 5-17 in Families    0\n",
      "90% CI Lower Bound                        0\n",
      "90% CI Upper Bound                        0\n",
      "Poverty Percent, Age 5-17 in Families     0\n",
      "90% CI Lower Bound                        0\n",
      "90% CI Upper Bound                        0\n",
      "Median Household Income                   0\n",
      "90% CI Lower Bound                        0\n",
      "90% CI Upper Bound                        0\n",
      "dtype: int64\n",
      "0\n",
      "<class 'pandas.core.frame.DataFrame'>\n",
      "RangeIndex: 3007 entries, 0 to 3006\n",
      "Data columns (total 25 columns):\n",
      " #   Column                                  Non-Null Count  Dtype \n",
      "---  ------                                  --------------  ----- \n",
      " 0   State FIPS Code                         3007 non-null   object\n",
      " 1   County FIPS Code                        3007 non-null   object\n",
      " 2   Postal Code                             3007 non-null   object\n",
      " 3   Name                                    3007 non-null   object\n",
      " 4   Poverty Estimate, All Ages              3007 non-null   object\n",
      " 5   90% CI Lower Bound                      3007 non-null   object\n",
      " 6   90% CI Upper Bound                      3007 non-null   object\n",
      " 7   Poverty Percent, All Ages               3007 non-null   object\n",
      " 8   90% CI Lower Bound                      3007 non-null   object\n",
      " 9   90% CI Upper Bound                      3007 non-null   object\n",
      " 10  Poverty Estimate, Age 0-17              3007 non-null   object\n",
      " 11  90% CI Lower Bound                      3007 non-null   object\n",
      " 12  90% CI Upper Bound                      3007 non-null   object\n",
      " 13  Poverty Percent, Age 0-17               3007 non-null   object\n",
      " 14  90% CI Lower Bound                      3007 non-null   object\n",
      " 15  90% CI Upper Bound                      3007 non-null   object\n",
      " 16  Poverty Estimate, Age 5-17 in Families  3007 non-null   object\n",
      " 17  90% CI Lower Bound                      3007 non-null   object\n",
      " 18  90% CI Upper Bound                      3007 non-null   object\n",
      " 19  Poverty Percent, Age 5-17 in Families   3007 non-null   object\n",
      " 20  90% CI Lower Bound                      3007 non-null   object\n",
      " 21  90% CI Upper Bound                      3007 non-null   object\n",
      " 22  Median Household Income                 3007 non-null   object\n",
      " 23  90% CI Lower Bound                      3007 non-null   object\n",
      " 24  90% CI Upper Bound                      3007 non-null   object\n",
      "dtypes: object(25)\n",
      "memory usage: 587.4+ KB\n"
     ]
    },
    {
     "data": {
      "text/plain": "None"
     },
     "metadata": {},
     "output_type": "display_data"
    }
   ],
   "source": [
    "print(pov_rate_2017.isnull().sum())\n",
    "print(pov_rate_2017.duplicated().sum())\n",
    "display(pov_rate_2017.info())"
   ],
   "metadata": {
    "collapsed": false,
    "pycharm": {
     "name": "#%%\n"
    }
   }
  },
  {
   "cell_type": "markdown",
   "source": [
    "* No duplicates or missing values for poverty rates in 2017\n",
    "* also convert poverty percent to float"
   ],
   "metadata": {
    "collapsed": false
   }
  },
  {
   "cell_type": "code",
   "execution_count": 68,
   "outputs": [
    {
     "name": "stdout",
     "output_type": "stream",
     "text": [
      "<class 'pandas.core.frame.DataFrame'>\n",
      "RangeIndex: 3007 entries, 0 to 3006\n",
      "Data columns (total 25 columns):\n",
      " #   Column                                  Non-Null Count  Dtype \n",
      "---  ------                                  --------------  ----- \n",
      " 0   State FIPS Code                         3007 non-null   object\n",
      " 1   County FIPS Code                        3007 non-null   object\n",
      " 2   Postal Code                             3007 non-null   object\n",
      " 3   Name                                    3007 non-null   object\n",
      " 4   Poverty Estimate, All Ages              3007 non-null   object\n",
      " 5   90% CI Lower Bound                      3007 non-null   object\n",
      " 6   90% CI Upper Bound                      3007 non-null   object\n",
      " 7   Poverty Percent, All Ages               3007 non-null   object\n",
      " 8   90% CI Lower Bound                      3007 non-null   object\n",
      " 9   90% CI Upper Bound                      3007 non-null   object\n",
      " 10  Poverty Estimate, Age 0-17              3007 non-null   object\n",
      " 11  90% CI Lower Bound                      3007 non-null   object\n",
      " 12  90% CI Upper Bound                      3007 non-null   object\n",
      " 13  Poverty Percent, Age 0-17               3007 non-null   object\n",
      " 14  90% CI Lower Bound                      3007 non-null   object\n",
      " 15  90% CI Upper Bound                      3007 non-null   object\n",
      " 16  Poverty Estimate, Age 5-17 in Families  3007 non-null   object\n",
      " 17  90% CI Lower Bound                      3007 non-null   object\n",
      " 18  90% CI Upper Bound                      3007 non-null   object\n",
      " 19  Poverty Percent, Age 5-17 in Families   3007 non-null   object\n",
      " 20  90% CI Lower Bound                      3007 non-null   object\n",
      " 21  90% CI Upper Bound                      3007 non-null   object\n",
      " 22  Median Household Income                 3007 non-null   object\n",
      " 23  90% CI Lower Bound                      3007 non-null   object\n",
      " 24  90% CI Upper Bound                      3007 non-null   object\n",
      "dtypes: object(25)\n",
      "memory usage: 587.4+ KB\n"
     ]
    }
   ],
   "source": [
    "pov_rate_2017.info()\n",
    "\n",
    "pov_rate_2017.drop(518, inplace=True)\n",
    "\n",
    "# pov_rate_2017['Poverty Percent, All Ages'] = pd.to_numeric(pov_rate_2017['Poverty Percent, All Ages'], downcast='float')"
   ],
   "metadata": {
    "collapsed": false,
    "pycharm": {
     "name": "#%%\n"
    }
   }
  },
  {
   "cell_type": "code",
   "execution_count": 69,
   "outputs": [],
   "source": [
    "\n",
    "pov_rate_2017.columns = ['State FIPS Code', 'County FIPS Code', 'Postal Code', 'Name',\n",
    "       'Poverty Estimate, All Ages', '90% CI LB All Ages',\n",
    "       '90% CI UB All Ages', 'Poverty Percent, All Ages', '90% CI LB percent',\n",
    "       '90% CI UB percent', 'Poverty Estimate, Age 0-17',\n",
    "       '90% CI LB percent 0-17', '90% CI UB 0-17', 'Poverty Percent, Age 0-17',\n",
    "       '90% CI LB percent 0-17 percent', '90% CI UB 0-17 percent',\n",
    "       'Poverty Estimate, Age 5-17 in Families', '90% CI LB 5-17 fam',\n",
    "       '90% CI UB 5-17 fam', 'Poverty Percent, Age 5-17 in Families',\n",
    "       '90% CI LB 5-17 percent', '90% CI UB percent 5-17 percent', 'Median Household Income',\n",
    "       '90% CI Lower Bound LB medh inc', '90% CI UB medh inc']\n",
    "\n",
    "pov_cols = pov_rate_2017.columns[4:]"
   ],
   "metadata": {
    "collapsed": false,
    "pycharm": {
     "name": "#%%\n"
    }
   }
  },
  {
   "cell_type": "code",
   "execution_count": 70,
   "outputs": [
    {
     "name": "stdout",
     "output_type": "stream",
     "text": [
      "<class 'pandas.core.frame.DataFrame'>\n",
      "Int64Index: 3006 entries, 0 to 3006\n",
      "Data columns (total 25 columns):\n",
      " #   Column                                  Non-Null Count  Dtype  \n",
      "---  ------                                  --------------  -----  \n",
      " 0   State FIPS Code                         3006 non-null   object \n",
      " 1   County FIPS Code                        3006 non-null   object \n",
      " 2   Postal Code                             3006 non-null   object \n",
      " 3   Name                                    3006 non-null   object \n",
      " 4   Poverty Estimate, All Ages              3006 non-null   float32\n",
      " 5   90% CI LB All Ages                      3006 non-null   float32\n",
      " 6   90% CI UB All Ages                      3006 non-null   float32\n",
      " 7   Poverty Percent, All Ages               3006 non-null   float32\n",
      " 8   90% CI LB percent                       3006 non-null   float32\n",
      " 9   90% CI UB percent                       3006 non-null   float32\n",
      " 10  Poverty Estimate, Age 0-17              3006 non-null   float32\n",
      " 11  90% CI LB percent 0-17                  3006 non-null   float32\n",
      " 12  90% CI UB 0-17                          3006 non-null   float32\n",
      " 13  Poverty Percent, Age 0-17               3006 non-null   float32\n",
      " 14  90% CI LB percent 0-17 percent          3006 non-null   float32\n",
      " 15  90% CI UB 0-17 percent                  3006 non-null   float32\n",
      " 16  Poverty Estimate, Age 5-17 in Families  3006 non-null   float32\n",
      " 17  90% CI LB 5-17 fam                      3006 non-null   float32\n",
      " 18  90% CI UB 5-17 fam                      3006 non-null   float32\n",
      " 19  Poverty Percent, Age 5-17 in Families   3006 non-null   float32\n",
      " 20  90% CI LB 5-17 percent                  3006 non-null   float32\n",
      " 21  90% CI UB percent 5-17 percent          3006 non-null   float32\n",
      " 22  Median Household Income                 3006 non-null   float32\n",
      " 23  90% CI Lower Bound LB medh inc          3006 non-null   float32\n",
      " 24  90% CI UB medh inc                      3006 non-null   float32\n",
      "dtypes: float32(21), object(4)\n",
      "memory usage: 364.0+ KB\n"
     ]
    }
   ],
   "source": [
    "for col in pov_cols:\n",
    "    pov_rate_2017[col] = pd.to_numeric(pov_rate_2017[col], downcast='float')\n",
    "\n",
    "pov_rate_2017.info()"
   ],
   "metadata": {
    "collapsed": false,
    "pycharm": {
     "name": "#%%\n"
    }
   }
  },
  {
   "cell_type": "markdown",
   "source": [
    "* from further inspection it was noted that Kalawao county is now excluded in their survey results starting 2017\n",
    "* Kalawao county records removed\n",
    "* Poverty rates in Hawaii appear to around 10-20s"
   ],
   "metadata": {
    "collapsed": false
   }
  },
  {
   "cell_type": "markdown",
   "source": [
    "# Repeat clean up steps on saipe data 2018"
   ],
   "metadata": {
    "collapsed": false
   }
  },
  {
   "cell_type": "code",
   "execution_count": 71,
   "outputs": [
    {
     "data": {
      "text/plain": "     State FIPS Code County FIPS Code Postal Code               Name  \\\n0                 00              000          US      United States   \n1                 01              000          AL            Alabama   \n2                 01              001          AL     Autauga County   \n3                 01              003          AL     Baldwin County   \n4                 01              005          AL     Barbour County   \n...              ...              ...         ...                ...   \n3189              56              037          WY  Sweetwater County   \n3190              56              039          WY       Teton County   \n3191              56              041          WY       Uinta County   \n3192              56              043          WY    Washakie County   \n3193              56              045          WY      Weston County   \n\n     Poverty Estimate, All Ages 90% CI Lower Bound 90% CI Upper Bound  \\\n0                      41852315           41619366           42085264   \n1                        801758             785668             817848   \n2                          7587               6334               8840   \n3                         21069              17390              24748   \n4                          6788               5662               7914   \n...                         ...                ...                ...   \n3189                       3540               2804               4276   \n3190                       1443               1137               1749   \n3191                       2010               1585               2435   \n3192                        918                700               1136   \n3193                        777                608                946   \n\n     Poverty Percent, All Ages 90% CI Lower Bound 90% CI Upper Bound  ...  \\\n0                         13.1                 13               13.2  ...   \n1                         16.8               16.5               17.1  ...   \n2                         13.8               11.5               16.1  ...   \n3                          9.8                8.1               11.5  ...   \n4                         30.9               25.8                 36  ...   \n...                        ...                ...                ...  ...   \n3189                       8.4                6.7               10.1  ...   \n3190                       6.3                  5                7.6  ...   \n3191                        10                7.9               12.1  ...   \n3192                      11.9                9.1               14.7  ...   \n3193                      11.8                9.2               14.4  ...   \n\n     90% CI Upper Bound Median Household Income 90% CI Lower Bound  \\\n0                  17.2                   61937              61843   \n1                  23.7                   49881              49123   \n2                  23.9                   59338              53628   \n3                  16.9                   57588              54437   \n4                  45.9                   34382              31157   \n...                 ...                     ...                ...   \n3189               11.2                   73315              67141   \n3190                7.7                   99087              88142   \n3191                 14                   63401              56812   \n3192               19.3                   55190              49263   \n3193               19.1                   54319              48315   \n\n     90% CI Upper Bound Poverty Estimate, Age 0-4 90% CI Lower Bound  \\\n0                 62031                   3758704            3714862   \n1                 50639                     73915              69990   \n2                 65048                         .                  .   \n3                 60739                         .                  .   \n4                 37607                         .                  .   \n...                 ...                       ...                ...   \n3189              79489                         .                  .   \n3190             110032                         .                  .   \n3191              69990                         .                  .   \n3192              61117                         .                  .   \n3193              60323                         .                  .   \n\n     90% CI Upper Bound Poverty Percent, Age 0-4 90% CI Lower Bound  \\\n0               3802546                     19.5               19.3   \n1                 77840                       26               24.6   \n2                     .                        .                  .   \n3                     .                        .                  .   \n4                     .                        .                  .   \n...                 ...                      ...                ...   \n3189                  .                        .                  .   \n3190                  .                        .                  .   \n3191                  .                        .                  .   \n3192                  .                        .                  .   \n3193                  .                        .                  .   \n\n     90% CI Upper Bound  \n0                  19.7  \n1                  27.4  \n2                     .  \n3                     .  \n4                     .  \n...                 ...  \n3189                  .  \n3190                  .  \n3191                  .  \n3192                  .  \n3193                  .  \n\n[3194 rows x 31 columns]",
      "text/html": "<div>\n<style scoped>\n    .dataframe tbody tr th:only-of-type {\n        vertical-align: middle;\n    }\n\n    .dataframe tbody tr th {\n        vertical-align: top;\n    }\n\n    .dataframe thead th {\n        text-align: right;\n    }\n</style>\n<table border=\"1\" class=\"dataframe\">\n  <thead>\n    <tr style=\"text-align: right;\">\n      <th></th>\n      <th>State FIPS Code</th>\n      <th>County FIPS Code</th>\n      <th>Postal Code</th>\n      <th>Name</th>\n      <th>Poverty Estimate, All Ages</th>\n      <th>90% CI Lower Bound</th>\n      <th>90% CI Upper Bound</th>\n      <th>Poverty Percent, All Ages</th>\n      <th>90% CI Lower Bound</th>\n      <th>90% CI Upper Bound</th>\n      <th>...</th>\n      <th>90% CI Upper Bound</th>\n      <th>Median Household Income</th>\n      <th>90% CI Lower Bound</th>\n      <th>90% CI Upper Bound</th>\n      <th>Poverty Estimate, Age 0-4</th>\n      <th>90% CI Lower Bound</th>\n      <th>90% CI Upper Bound</th>\n      <th>Poverty Percent, Age 0-4</th>\n      <th>90% CI Lower Bound</th>\n      <th>90% CI Upper Bound</th>\n    </tr>\n  </thead>\n  <tbody>\n    <tr>\n      <th>0</th>\n      <td>00</td>\n      <td>000</td>\n      <td>US</td>\n      <td>United States</td>\n      <td>41852315</td>\n      <td>41619366</td>\n      <td>42085264</td>\n      <td>13.1</td>\n      <td>13</td>\n      <td>13.2</td>\n      <td>...</td>\n      <td>17.2</td>\n      <td>61937</td>\n      <td>61843</td>\n      <td>62031</td>\n      <td>3758704</td>\n      <td>3714862</td>\n      <td>3802546</td>\n      <td>19.5</td>\n      <td>19.3</td>\n      <td>19.7</td>\n    </tr>\n    <tr>\n      <th>1</th>\n      <td>01</td>\n      <td>000</td>\n      <td>AL</td>\n      <td>Alabama</td>\n      <td>801758</td>\n      <td>785668</td>\n      <td>817848</td>\n      <td>16.8</td>\n      <td>16.5</td>\n      <td>17.1</td>\n      <td>...</td>\n      <td>23.7</td>\n      <td>49881</td>\n      <td>49123</td>\n      <td>50639</td>\n      <td>73915</td>\n      <td>69990</td>\n      <td>77840</td>\n      <td>26</td>\n      <td>24.6</td>\n      <td>27.4</td>\n    </tr>\n    <tr>\n      <th>2</th>\n      <td>01</td>\n      <td>001</td>\n      <td>AL</td>\n      <td>Autauga County</td>\n      <td>7587</td>\n      <td>6334</td>\n      <td>8840</td>\n      <td>13.8</td>\n      <td>11.5</td>\n      <td>16.1</td>\n      <td>...</td>\n      <td>23.9</td>\n      <td>59338</td>\n      <td>53628</td>\n      <td>65048</td>\n      <td>.</td>\n      <td>.</td>\n      <td>.</td>\n      <td>.</td>\n      <td>.</td>\n      <td>.</td>\n    </tr>\n    <tr>\n      <th>3</th>\n      <td>01</td>\n      <td>003</td>\n      <td>AL</td>\n      <td>Baldwin County</td>\n      <td>21069</td>\n      <td>17390</td>\n      <td>24748</td>\n      <td>9.8</td>\n      <td>8.1</td>\n      <td>11.5</td>\n      <td>...</td>\n      <td>16.9</td>\n      <td>57588</td>\n      <td>54437</td>\n      <td>60739</td>\n      <td>.</td>\n      <td>.</td>\n      <td>.</td>\n      <td>.</td>\n      <td>.</td>\n      <td>.</td>\n    </tr>\n    <tr>\n      <th>4</th>\n      <td>01</td>\n      <td>005</td>\n      <td>AL</td>\n      <td>Barbour County</td>\n      <td>6788</td>\n      <td>5662</td>\n      <td>7914</td>\n      <td>30.9</td>\n      <td>25.8</td>\n      <td>36</td>\n      <td>...</td>\n      <td>45.9</td>\n      <td>34382</td>\n      <td>31157</td>\n      <td>37607</td>\n      <td>.</td>\n      <td>.</td>\n      <td>.</td>\n      <td>.</td>\n      <td>.</td>\n      <td>.</td>\n    </tr>\n    <tr>\n      <th>...</th>\n      <td>...</td>\n      <td>...</td>\n      <td>...</td>\n      <td>...</td>\n      <td>...</td>\n      <td>...</td>\n      <td>...</td>\n      <td>...</td>\n      <td>...</td>\n      <td>...</td>\n      <td>...</td>\n      <td>...</td>\n      <td>...</td>\n      <td>...</td>\n      <td>...</td>\n      <td>...</td>\n      <td>...</td>\n      <td>...</td>\n      <td>...</td>\n      <td>...</td>\n      <td>...</td>\n    </tr>\n    <tr>\n      <th>3189</th>\n      <td>56</td>\n      <td>037</td>\n      <td>WY</td>\n      <td>Sweetwater County</td>\n      <td>3540</td>\n      <td>2804</td>\n      <td>4276</td>\n      <td>8.4</td>\n      <td>6.7</td>\n      <td>10.1</td>\n      <td>...</td>\n      <td>11.2</td>\n      <td>73315</td>\n      <td>67141</td>\n      <td>79489</td>\n      <td>.</td>\n      <td>.</td>\n      <td>.</td>\n      <td>.</td>\n      <td>.</td>\n      <td>.</td>\n    </tr>\n    <tr>\n      <th>3190</th>\n      <td>56</td>\n      <td>039</td>\n      <td>WY</td>\n      <td>Teton County</td>\n      <td>1443</td>\n      <td>1137</td>\n      <td>1749</td>\n      <td>6.3</td>\n      <td>5</td>\n      <td>7.6</td>\n      <td>...</td>\n      <td>7.7</td>\n      <td>99087</td>\n      <td>88142</td>\n      <td>110032</td>\n      <td>.</td>\n      <td>.</td>\n      <td>.</td>\n      <td>.</td>\n      <td>.</td>\n      <td>.</td>\n    </tr>\n    <tr>\n      <th>3191</th>\n      <td>56</td>\n      <td>041</td>\n      <td>WY</td>\n      <td>Uinta County</td>\n      <td>2010</td>\n      <td>1585</td>\n      <td>2435</td>\n      <td>10</td>\n      <td>7.9</td>\n      <td>12.1</td>\n      <td>...</td>\n      <td>14</td>\n      <td>63401</td>\n      <td>56812</td>\n      <td>69990</td>\n      <td>.</td>\n      <td>.</td>\n      <td>.</td>\n      <td>.</td>\n      <td>.</td>\n      <td>.</td>\n    </tr>\n    <tr>\n      <th>3192</th>\n      <td>56</td>\n      <td>043</td>\n      <td>WY</td>\n      <td>Washakie County</td>\n      <td>918</td>\n      <td>700</td>\n      <td>1136</td>\n      <td>11.9</td>\n      <td>9.1</td>\n      <td>14.7</td>\n      <td>...</td>\n      <td>19.3</td>\n      <td>55190</td>\n      <td>49263</td>\n      <td>61117</td>\n      <td>.</td>\n      <td>.</td>\n      <td>.</td>\n      <td>.</td>\n      <td>.</td>\n      <td>.</td>\n    </tr>\n    <tr>\n      <th>3193</th>\n      <td>56</td>\n      <td>045</td>\n      <td>WY</td>\n      <td>Weston County</td>\n      <td>777</td>\n      <td>608</td>\n      <td>946</td>\n      <td>11.8</td>\n      <td>9.2</td>\n      <td>14.4</td>\n      <td>...</td>\n      <td>19.1</td>\n      <td>54319</td>\n      <td>48315</td>\n      <td>60323</td>\n      <td>.</td>\n      <td>.</td>\n      <td>.</td>\n      <td>.</td>\n      <td>.</td>\n      <td>.</td>\n    </tr>\n  </tbody>\n</table>\n<p>3194 rows × 31 columns</p>\n</div>"
     },
     "metadata": {},
     "output_type": "display_data"
    }
   ],
   "source": [
    "saipe_header = saipe2018.iloc[2, :].values\n",
    "saipe_header\n",
    "saipe2018.columns = saipe_header\n",
    "saipe2018.drop([0,1,2], inplace=True)\n",
    "saipe2018.reset_index(drop=True, inplace=True)\n",
    "display(saipe2018)"
   ],
   "metadata": {
    "collapsed": false,
    "pycharm": {
     "name": "#%%\n"
    }
   }
  },
  {
   "cell_type": "code",
   "execution_count": 72,
   "outputs": [
    {
     "data": {
      "text/plain": "     State FIPS Code County FIPS Code Postal Code               Name  \\\n0                 01              001          AL     Autauga County   \n1                 01              003          AL     Baldwin County   \n2                 01              005          AL     Barbour County   \n3                 01              007          AL        Bibb County   \n4                 01              009          AL      Blount County   \n...              ...              ...         ...                ...   \n3002              56              037          WY  Sweetwater County   \n3003              56              039          WY       Teton County   \n3004              56              041          WY       Uinta County   \n3005              56              043          WY    Washakie County   \n3006              56              045          WY      Weston County   \n\n     Poverty Estimate, All Ages 90% CI Lower Bound 90% CI Upper Bound  \\\n0                          7587               6334               8840   \n1                         21069              17390              24748   \n2                          6788               5662               7914   \n3                          4400               3445               5355   \n4                          7527               6045               9009   \n...                         ...                ...                ...   \n3002                       3540               2804               4276   \n3003                       1443               1137               1749   \n3004                       2010               1585               2435   \n3005                        918                700               1136   \n3006                        777                608                946   \n\n     Poverty Percent, All Ages 90% CI Lower Bound 90% CI Upper Bound  ...  \\\n0                         13.8               11.5               16.1  ...   \n1                          9.8                8.1               11.5  ...   \n2                         30.9               25.8                 36  ...   \n3                         21.8               17.1               26.5  ...   \n4                         13.2               10.6               15.8  ...   \n...                        ...                ...                ...  ...   \n3002                       8.4                6.7               10.1  ...   \n3003                       6.3                  5                7.6  ...   \n3004                        10                7.9               12.1  ...   \n3005                      11.9                9.1               14.7  ...   \n3006                      11.8                9.2               14.4  ...   \n\n     90% CI Upper Bound Poverty Estimate, Age 5-17 in Families  \\\n0                  23.5                                   1891   \n1                  17.6                                   4534   \n2                  52.8                                   1411   \n3                  34.9                                    840   \n4                  22.5                                   1520   \n...                 ...                                    ...   \n3002               12.7                                    697   \n3003                8.5                                    180   \n3004               15.6                                    454   \n3005               20.8                                    191   \n3006               20.9                                    150   \n\n     90% CI Lower Bound 90% CI Upper Bound  \\\n0                  1469               2313   \n1                  3223               5845   \n2                  1056               1766   \n3                   606               1074   \n4                  1053               1987   \n...                 ...                ...   \n3002                479                915   \n3003                126                234   \n3004                306                602   \n3005                127                255   \n3006                 99                201   \n\n     Poverty Percent, Age 5-17 in Families 90% CI Lower Bound  \\\n0                                     19.5               15.1   \n1                                     13.1                9.3   \n2                                     36.7               27.5   \n3                                     26.3                 19   \n4                                     15.5               10.7   \n...                                    ...                ...   \n3002                                   8.5                5.8   \n3003                                   5.9                4.1   \n3004                                  10.6                7.2   \n3005                                  14.5                9.7   \n3006                                  14.2                9.3   \n\n     90% CI Upper Bound Median Household Income 90% CI Lower Bound  \\\n0                  23.9                   59338              53628   \n1                  16.9                   57588              54437   \n2                  45.9                   34382              31157   \n3                  33.6                   46064              41283   \n4                  20.3                   50412              46157   \n...                 ...                     ...                ...   \n3002               11.2                   73315              67141   \n3003                7.7                   99087              88142   \n3004                 14                   63401              56812   \n3005               19.3                   55190              49263   \n3006               19.1                   54319              48315   \n\n     90% CI Upper Bound  \n0                 65048  \n1                 60739  \n2                 37607  \n3                 50845  \n4                 54667  \n...                 ...  \n3002              79489  \n3003             110032  \n3004              69990  \n3005              61117  \n3006              60323  \n\n[3007 rows x 25 columns]",
      "text/html": "<div>\n<style scoped>\n    .dataframe tbody tr th:only-of-type {\n        vertical-align: middle;\n    }\n\n    .dataframe tbody tr th {\n        vertical-align: top;\n    }\n\n    .dataframe thead th {\n        text-align: right;\n    }\n</style>\n<table border=\"1\" class=\"dataframe\">\n  <thead>\n    <tr style=\"text-align: right;\">\n      <th></th>\n      <th>State FIPS Code</th>\n      <th>County FIPS Code</th>\n      <th>Postal Code</th>\n      <th>Name</th>\n      <th>Poverty Estimate, All Ages</th>\n      <th>90% CI Lower Bound</th>\n      <th>90% CI Upper Bound</th>\n      <th>Poverty Percent, All Ages</th>\n      <th>90% CI Lower Bound</th>\n      <th>90% CI Upper Bound</th>\n      <th>...</th>\n      <th>90% CI Upper Bound</th>\n      <th>Poverty Estimate, Age 5-17 in Families</th>\n      <th>90% CI Lower Bound</th>\n      <th>90% CI Upper Bound</th>\n      <th>Poverty Percent, Age 5-17 in Families</th>\n      <th>90% CI Lower Bound</th>\n      <th>90% CI Upper Bound</th>\n      <th>Median Household Income</th>\n      <th>90% CI Lower Bound</th>\n      <th>90% CI Upper Bound</th>\n    </tr>\n  </thead>\n  <tbody>\n    <tr>\n      <th>0</th>\n      <td>01</td>\n      <td>001</td>\n      <td>AL</td>\n      <td>Autauga County</td>\n      <td>7587</td>\n      <td>6334</td>\n      <td>8840</td>\n      <td>13.8</td>\n      <td>11.5</td>\n      <td>16.1</td>\n      <td>...</td>\n      <td>23.5</td>\n      <td>1891</td>\n      <td>1469</td>\n      <td>2313</td>\n      <td>19.5</td>\n      <td>15.1</td>\n      <td>23.9</td>\n      <td>59338</td>\n      <td>53628</td>\n      <td>65048</td>\n    </tr>\n    <tr>\n      <th>1</th>\n      <td>01</td>\n      <td>003</td>\n      <td>AL</td>\n      <td>Baldwin County</td>\n      <td>21069</td>\n      <td>17390</td>\n      <td>24748</td>\n      <td>9.8</td>\n      <td>8.1</td>\n      <td>11.5</td>\n      <td>...</td>\n      <td>17.6</td>\n      <td>4534</td>\n      <td>3223</td>\n      <td>5845</td>\n      <td>13.1</td>\n      <td>9.3</td>\n      <td>16.9</td>\n      <td>57588</td>\n      <td>54437</td>\n      <td>60739</td>\n    </tr>\n    <tr>\n      <th>2</th>\n      <td>01</td>\n      <td>005</td>\n      <td>AL</td>\n      <td>Barbour County</td>\n      <td>6788</td>\n      <td>5662</td>\n      <td>7914</td>\n      <td>30.9</td>\n      <td>25.8</td>\n      <td>36</td>\n      <td>...</td>\n      <td>52.8</td>\n      <td>1411</td>\n      <td>1056</td>\n      <td>1766</td>\n      <td>36.7</td>\n      <td>27.5</td>\n      <td>45.9</td>\n      <td>34382</td>\n      <td>31157</td>\n      <td>37607</td>\n    </tr>\n    <tr>\n      <th>3</th>\n      <td>01</td>\n      <td>007</td>\n      <td>AL</td>\n      <td>Bibb County</td>\n      <td>4400</td>\n      <td>3445</td>\n      <td>5355</td>\n      <td>21.8</td>\n      <td>17.1</td>\n      <td>26.5</td>\n      <td>...</td>\n      <td>34.9</td>\n      <td>840</td>\n      <td>606</td>\n      <td>1074</td>\n      <td>26.3</td>\n      <td>19</td>\n      <td>33.6</td>\n      <td>46064</td>\n      <td>41283</td>\n      <td>50845</td>\n    </tr>\n    <tr>\n      <th>4</th>\n      <td>01</td>\n      <td>009</td>\n      <td>AL</td>\n      <td>Blount County</td>\n      <td>7527</td>\n      <td>6045</td>\n      <td>9009</td>\n      <td>13.2</td>\n      <td>10.6</td>\n      <td>15.8</td>\n      <td>...</td>\n      <td>22.5</td>\n      <td>1520</td>\n      <td>1053</td>\n      <td>1987</td>\n      <td>15.5</td>\n      <td>10.7</td>\n      <td>20.3</td>\n      <td>50412</td>\n      <td>46157</td>\n      <td>54667</td>\n    </tr>\n    <tr>\n      <th>...</th>\n      <td>...</td>\n      <td>...</td>\n      <td>...</td>\n      <td>...</td>\n      <td>...</td>\n      <td>...</td>\n      <td>...</td>\n      <td>...</td>\n      <td>...</td>\n      <td>...</td>\n      <td>...</td>\n      <td>...</td>\n      <td>...</td>\n      <td>...</td>\n      <td>...</td>\n      <td>...</td>\n      <td>...</td>\n      <td>...</td>\n      <td>...</td>\n      <td>...</td>\n      <td>...</td>\n    </tr>\n    <tr>\n      <th>3002</th>\n      <td>56</td>\n      <td>037</td>\n      <td>WY</td>\n      <td>Sweetwater County</td>\n      <td>3540</td>\n      <td>2804</td>\n      <td>4276</td>\n      <td>8.4</td>\n      <td>6.7</td>\n      <td>10.1</td>\n      <td>...</td>\n      <td>12.7</td>\n      <td>697</td>\n      <td>479</td>\n      <td>915</td>\n      <td>8.5</td>\n      <td>5.8</td>\n      <td>11.2</td>\n      <td>73315</td>\n      <td>67141</td>\n      <td>79489</td>\n    </tr>\n    <tr>\n      <th>3003</th>\n      <td>56</td>\n      <td>039</td>\n      <td>WY</td>\n      <td>Teton County</td>\n      <td>1443</td>\n      <td>1137</td>\n      <td>1749</td>\n      <td>6.3</td>\n      <td>5</td>\n      <td>7.6</td>\n      <td>...</td>\n      <td>8.5</td>\n      <td>180</td>\n      <td>126</td>\n      <td>234</td>\n      <td>5.9</td>\n      <td>4.1</td>\n      <td>7.7</td>\n      <td>99087</td>\n      <td>88142</td>\n      <td>110032</td>\n    </tr>\n    <tr>\n      <th>3004</th>\n      <td>56</td>\n      <td>041</td>\n      <td>WY</td>\n      <td>Uinta County</td>\n      <td>2010</td>\n      <td>1585</td>\n      <td>2435</td>\n      <td>10</td>\n      <td>7.9</td>\n      <td>12.1</td>\n      <td>...</td>\n      <td>15.6</td>\n      <td>454</td>\n      <td>306</td>\n      <td>602</td>\n      <td>10.6</td>\n      <td>7.2</td>\n      <td>14</td>\n      <td>63401</td>\n      <td>56812</td>\n      <td>69990</td>\n    </tr>\n    <tr>\n      <th>3005</th>\n      <td>56</td>\n      <td>043</td>\n      <td>WY</td>\n      <td>Washakie County</td>\n      <td>918</td>\n      <td>700</td>\n      <td>1136</td>\n      <td>11.9</td>\n      <td>9.1</td>\n      <td>14.7</td>\n      <td>...</td>\n      <td>20.8</td>\n      <td>191</td>\n      <td>127</td>\n      <td>255</td>\n      <td>14.5</td>\n      <td>9.7</td>\n      <td>19.3</td>\n      <td>55190</td>\n      <td>49263</td>\n      <td>61117</td>\n    </tr>\n    <tr>\n      <th>3006</th>\n      <td>56</td>\n      <td>045</td>\n      <td>WY</td>\n      <td>Weston County</td>\n      <td>777</td>\n      <td>608</td>\n      <td>946</td>\n      <td>11.8</td>\n      <td>9.2</td>\n      <td>14.4</td>\n      <td>...</td>\n      <td>20.9</td>\n      <td>150</td>\n      <td>99</td>\n      <td>201</td>\n      <td>14.2</td>\n      <td>9.3</td>\n      <td>19.1</td>\n      <td>54319</td>\n      <td>48315</td>\n      <td>60323</td>\n    </tr>\n  </tbody>\n</table>\n<p>3007 rows × 25 columns</p>\n</div>"
     },
     "metadata": {},
     "output_type": "display_data"
    }
   ],
   "source": [
    "saipe2018.columns\n",
    "saipe2018.iloc[:, [1,2,3,4,7]]\n",
    "saipe_county = saipe2018['Name'].str.contains('County')\n",
    "pov_rate_2018 = saipe2018.loc[saipe_county].iloc[:, :-6]\n",
    "pov_rate_2018.reset_index(drop=True, inplace=True)\n",
    "display(pov_rate_2018)"
   ],
   "metadata": {
    "collapsed": false,
    "pycharm": {
     "name": "#%%\n"
    }
   }
  },
  {
   "cell_type": "markdown",
   "source": [
    "* Remove empty cells and clean up columns\n",
    "* Retain only US county information and poverty rates for all ages\n"
   ],
   "metadata": {
    "collapsed": false
   }
  },
  {
   "cell_type": "code",
   "execution_count": 73,
   "outputs": [
    {
     "name": "stdout",
     "output_type": "stream",
     "text": [
      "State FIPS Code                           0\n",
      "County FIPS Code                          0\n",
      "Postal Code                               0\n",
      "Name                                      0\n",
      "Poverty Estimate, All Ages                0\n",
      "90% CI LB All Ages                        0\n",
      "90% CI UB All Ages                        0\n",
      "Poverty Percent, All Ages                 0\n",
      "90% CI LB percent                         0\n",
      "90% CI UB percent                         0\n",
      "Poverty Estimate, Age 0-17                0\n",
      "90% CI LB percent 0-17                    0\n",
      "90% CI UB 0-17                            0\n",
      "Poverty Percent, Age 0-17                 0\n",
      "90% CI LB percent 0-17 percent            0\n",
      "90% CI UB 0-17 percent                    0\n",
      "Poverty Estimate, Age 5-17 in Families    0\n",
      "90% CI LB 5-17 fam                        0\n",
      "90% CI UB 5-17 fam                        0\n",
      "Poverty Percent, Age 5-17 in Families     0\n",
      "90% CI LB 5-17 percent                    0\n",
      "90% CI UB percent 5-17 percent            0\n",
      "Median Household Income                   0\n",
      "90% CI Lower Bound LB medh inc            0\n",
      "90% CI UB medh inc                        0\n",
      "dtype: int64\n",
      "0\n",
      "<class 'pandas.core.frame.DataFrame'>\n",
      "Int64Index: 3006 entries, 0 to 3006\n",
      "Data columns (total 25 columns):\n",
      " #   Column                                  Non-Null Count  Dtype  \n",
      "---  ------                                  --------------  -----  \n",
      " 0   State FIPS Code                         3006 non-null   object \n",
      " 1   County FIPS Code                        3006 non-null   object \n",
      " 2   Postal Code                             3006 non-null   object \n",
      " 3   Name                                    3006 non-null   object \n",
      " 4   Poverty Estimate, All Ages              3006 non-null   float32\n",
      " 5   90% CI LB All Ages                      3006 non-null   float32\n",
      " 6   90% CI UB All Ages                      3006 non-null   float32\n",
      " 7   Poverty Percent, All Ages               3006 non-null   float32\n",
      " 8   90% CI LB percent                       3006 non-null   float32\n",
      " 9   90% CI UB percent                       3006 non-null   float32\n",
      " 10  Poverty Estimate, Age 0-17              3006 non-null   float32\n",
      " 11  90% CI LB percent 0-17                  3006 non-null   float32\n",
      " 12  90% CI UB 0-17                          3006 non-null   float32\n",
      " 13  Poverty Percent, Age 0-17               3006 non-null   float32\n",
      " 14  90% CI LB percent 0-17 percent          3006 non-null   float32\n",
      " 15  90% CI UB 0-17 percent                  3006 non-null   float32\n",
      " 16  Poverty Estimate, Age 5-17 in Families  3006 non-null   float32\n",
      " 17  90% CI LB 5-17 fam                      3006 non-null   float32\n",
      " 18  90% CI UB 5-17 fam                      3006 non-null   float32\n",
      " 19  Poverty Percent, Age 5-17 in Families   3006 non-null   float32\n",
      " 20  90% CI LB 5-17 percent                  3006 non-null   float32\n",
      " 21  90% CI UB percent 5-17 percent          3006 non-null   float32\n",
      " 22  Median Household Income                 3006 non-null   float32\n",
      " 23  90% CI Lower Bound LB medh inc          3006 non-null   float32\n",
      " 24  90% CI UB medh inc                      3006 non-null   float32\n",
      "dtypes: float32(21), object(4)\n",
      "memory usage: 364.0+ KB\n"
     ]
    },
    {
     "data": {
      "text/plain": "None"
     },
     "metadata": {},
     "output_type": "display_data"
    }
   ],
   "source": [
    "print(pov_rate_2017.isnull().sum())\n",
    "print(pov_rate_2017.duplicated().sum())\n",
    "display(pov_rate_2017.info())"
   ],
   "metadata": {
    "collapsed": false,
    "pycharm": {
     "name": "#%%\n"
    }
   }
  },
  {
   "cell_type": "markdown",
   "source": [
    "* No duplicates or missing values for poverty rates in 2017\n",
    "* also convert poverty percent to float"
   ],
   "metadata": {
    "collapsed": false
   }
  },
  {
   "cell_type": "code",
   "execution_count": 74,
   "outputs": [
    {
     "name": "stdout",
     "output_type": "stream",
     "text": [
      "<class 'pandas.core.frame.DataFrame'>\n",
      "RangeIndex: 3007 entries, 0 to 3006\n",
      "Data columns (total 25 columns):\n",
      " #   Column                                  Non-Null Count  Dtype \n",
      "---  ------                                  --------------  ----- \n",
      " 0   State FIPS Code                         3007 non-null   object\n",
      " 1   County FIPS Code                        3007 non-null   object\n",
      " 2   Postal Code                             3007 non-null   object\n",
      " 3   Name                                    3007 non-null   object\n",
      " 4   Poverty Estimate, All Ages              3007 non-null   object\n",
      " 5   90% CI Lower Bound                      3007 non-null   object\n",
      " 6   90% CI Upper Bound                      3007 non-null   object\n",
      " 7   Poverty Percent, All Ages               3007 non-null   object\n",
      " 8   90% CI Lower Bound                      3007 non-null   object\n",
      " 9   90% CI Upper Bound                      3007 non-null   object\n",
      " 10  Poverty Estimate, Age 0-17              3007 non-null   object\n",
      " 11  90% CI Lower Bound                      3007 non-null   object\n",
      " 12  90% CI Upper Bound                      3007 non-null   object\n",
      " 13  Poverty Percent, Age 0-17               3007 non-null   object\n",
      " 14  90% CI Lower Bound                      3007 non-null   object\n",
      " 15  90% CI Upper Bound                      3007 non-null   object\n",
      " 16  Poverty Estimate, Age 5-17 in Families  3007 non-null   object\n",
      " 17  90% CI Lower Bound                      3007 non-null   object\n",
      " 18  90% CI Upper Bound                      3007 non-null   object\n",
      " 19  Poverty Percent, Age 5-17 in Families   3007 non-null   object\n",
      " 20  90% CI Lower Bound                      3007 non-null   object\n",
      " 21  90% CI Upper Bound                      3007 non-null   object\n",
      " 22  Median Household Income                 3007 non-null   object\n",
      " 23  90% CI Lower Bound                      3007 non-null   object\n",
      " 24  90% CI Upper Bound                      3007 non-null   object\n",
      "dtypes: object(25)\n",
      "memory usage: 587.4+ KB\n"
     ]
    }
   ],
   "source": [
    "pov_rate_2018.info()\n",
    "\n",
    "pov_rate_2018.drop(518, inplace=True)\n",
    "# pov_rate_2017['Poverty Percent, All Ages'] = pd.to_numeric(pov_rate_2017['Poverty Percent, All Ages'], downcast='float')"
   ],
   "metadata": {
    "collapsed": false,
    "pycharm": {
     "name": "#%%\n"
    }
   }
  },
  {
   "cell_type": "code",
   "execution_count": 75,
   "outputs": [],
   "source": [
    "\n",
    "pov_rate_2018.columns = ['State FIPS Code', 'County FIPS Code', 'Postal Code', 'Name',\n",
    "       'Poverty Estimate, All Ages', '90% CI LB All Ages',\n",
    "       '90% CI UB All Ages', 'Poverty Percent, All Ages', '90% CI LB percent',\n",
    "       '90% CI UB percent', 'Poverty Estimate, Age 0-17',\n",
    "       '90% CI LB percent 0-17', '90% CI UB 0-17', 'Poverty Percent, Age 0-17',\n",
    "       '90% CI LB percent 0-17 percent', '90% CI UB 0-17 percent',\n",
    "       'Poverty Estimate, Age 5-17 in Families', '90% CI LB 5-17 fam',\n",
    "       '90% CI UB 5-17 fam', 'Poverty Percent, Age 5-17 in Families',\n",
    "       '90% CI LB 5-17 percent', '90% CI UB percent 5-17 percent', 'Median Household Income',\n",
    "       '90% CI Lower Bound LB medh inc', '90% CI UB medh inc']\n",
    "\n",
    "pov_cols = pov_rate_2018.columns[4:]"
   ],
   "metadata": {
    "collapsed": false,
    "pycharm": {
     "name": "#%%\n"
    }
   }
  },
  {
   "cell_type": "code",
   "execution_count": 76,
   "outputs": [
    {
     "name": "stdout",
     "output_type": "stream",
     "text": [
      "<class 'pandas.core.frame.DataFrame'>\n",
      "Int64Index: 3006 entries, 0 to 3006\n",
      "Data columns (total 25 columns):\n",
      " #   Column                                  Non-Null Count  Dtype  \n",
      "---  ------                                  --------------  -----  \n",
      " 0   State FIPS Code                         3006 non-null   object \n",
      " 1   County FIPS Code                        3006 non-null   object \n",
      " 2   Postal Code                             3006 non-null   object \n",
      " 3   Name                                    3006 non-null   object \n",
      " 4   Poverty Estimate, All Ages              3006 non-null   float32\n",
      " 5   90% CI LB All Ages                      3006 non-null   float32\n",
      " 6   90% CI UB All Ages                      3006 non-null   float32\n",
      " 7   Poverty Percent, All Ages               3006 non-null   float32\n",
      " 8   90% CI LB percent                       3006 non-null   float32\n",
      " 9   90% CI UB percent                       3006 non-null   float32\n",
      " 10  Poverty Estimate, Age 0-17              3006 non-null   float32\n",
      " 11  90% CI LB percent 0-17                  3006 non-null   float32\n",
      " 12  90% CI UB 0-17                          3006 non-null   float32\n",
      " 13  Poverty Percent, Age 0-17               3006 non-null   float32\n",
      " 14  90% CI LB percent 0-17 percent          3006 non-null   float32\n",
      " 15  90% CI UB 0-17 percent                  3006 non-null   float32\n",
      " 16  Poverty Estimate, Age 5-17 in Families  3006 non-null   float32\n",
      " 17  90% CI LB 5-17 fam                      3006 non-null   float32\n",
      " 18  90% CI UB 5-17 fam                      3006 non-null   float32\n",
      " 19  Poverty Percent, Age 5-17 in Families   3006 non-null   float32\n",
      " 20  90% CI LB 5-17 percent                  3006 non-null   float32\n",
      " 21  90% CI UB percent 5-17 percent          3006 non-null   float32\n",
      " 22  Median Household Income                 3006 non-null   float32\n",
      " 23  90% CI Lower Bound LB medh inc          3006 non-null   float32\n",
      " 24  90% CI UB medh inc                      3006 non-null   float32\n",
      "dtypes: float32(21), object(4)\n",
      "memory usage: 364.0+ KB\n"
     ]
    }
   ],
   "source": [
    "for col in pov_cols:\n",
    "    pov_rate_2018[col] = pd.to_numeric(pov_rate_2018[col], downcast='float')\n",
    "\n",
    "pov_rate_2018.info()\n"
   ],
   "metadata": {
    "collapsed": false,
    "pycharm": {
     "name": "#%%\n"
    }
   }
  },
  {
   "cell_type": "markdown",
   "source": [
    "* from further inspection it was noted that Kalawao county is now excluded in their survey results starting 2017\n",
    "* Kalawao county records removed\n",
    "* Poverty rates in Hawaii appear to around 10-20s\n"
   ],
   "metadata": {
    "collapsed": false
   }
  },
  {
   "cell_type": "markdown",
   "source": [
    "# Repeat clean up steps for saipe data 2019"
   ],
   "metadata": {
    "collapsed": false
   }
  },
  {
   "cell_type": "code",
   "execution_count": 77,
   "outputs": [
    {
     "data": {
      "text/plain": "     State FIPS Code County FIPS Code Postal Code               Name  \\\n0                 00              000          US      United States   \n1                 01              000          AL            Alabama   \n2                 01              001          AL     Autauga County   \n3                 01              003          AL     Baldwin County   \n4                 01              005          AL     Barbour County   \n...              ...              ...         ...                ...   \n3189              56              037          WY  Sweetwater County   \n3190              56              039          WY       Teton County   \n3191              56              041          WY       Uinta County   \n3192              56              043          WY    Washakie County   \n3193              56              045          WY      Weston County   \n\n     Poverty Estimate, All Ages 90% CI Lower Bound 90% CI Upper Bound  \\\n0                      39490096           39248096           39732096   \n1                        747478             730491             764465   \n2                          6723               5517               7929   \n3                         22360              18541              26179   \n4                          5909               4787               7031   \n...                         ...                ...                ...   \n3189                       3453               2743               4163   \n3190                       1396               1073               1719   \n3191                       1699               1264               2134   \n3192                        845                626               1064   \n3193                        692                523                861   \n\n     Poverty Percent, All Ages 90% CI Lower Bound 90% CI Upper Bound  ...  \\\n0                         12.3               12.2               12.4  ...   \n1                         15.6               15.2                 16  ...   \n2                         12.1                9.9               14.3  ...   \n3                         10.1                8.4               11.8  ...   \n4                         27.1                 22               32.2  ...   \n...                        ...                ...                ...  ...   \n3189                       8.3                6.6                 10  ...   \n3190                         6                4.6                7.4  ...   \n3191                       8.5                6.3               10.7  ...   \n3192                      11.1                8.2                 14  ...   \n3193                      10.5                7.9               13.1  ...   \n\n     90% CI Upper Bound Median Household Income 90% CI Lower Bound  \\\n0                    16                   65712              65594   \n1                  21.6                   51771              51179   \n2                  19.4                   58233              52517   \n3                  17.2                   59871              54593   \n4                    49                   35972              31822   \n...                 ...                     ...                ...   \n3189               11.1                   80639              73437   \n3190                6.7                   98837              86531   \n3191               11.1                   70756              63191   \n3192               17.4                   55122              50050   \n3193               16.7                   59410              52275   \n\n     90% CI Upper Bound Poverty Estimate, Age 0-4 90% CI Lower Bound  \\\n0                 65830                   3457689            3405854   \n1                 52363                     69236              65296   \n2                 63949                         .                  .   \n3                 65149                         .                  .   \n4                 40122                         .                  .   \n...                 ...                       ...                ...   \n3189              87841                         .                  .   \n3190             111143                         .                  .   \n3191              78321                         .                  .   \n3192              60194                         .                  .   \n3193              66545                         .                  .   \n\n     90% CI Upper Bound Poverty Percent, Age 0-4 90% CI Lower Bound  \\\n0               3509524                     18.2               17.9   \n1                 73176                     24.2               22.8   \n2                     .                        .                  .   \n3                     .                        .                  .   \n4                     .                        .                  .   \n...                 ...                      ...                ...   \n3189                  .                        .                  .   \n3190                  .                        .                  .   \n3191                  .                        .                  .   \n3192                  .                        .                  .   \n3193                  .                        .                  .   \n\n     90% CI Upper Bound  \n0                  18.5  \n1                  25.6  \n2                     .  \n3                     .  \n4                     .  \n...                 ...  \n3189                  .  \n3190                  .  \n3191                  .  \n3192                  .  \n3193                  .  \n\n[3194 rows x 31 columns]",
      "text/html": "<div>\n<style scoped>\n    .dataframe tbody tr th:only-of-type {\n        vertical-align: middle;\n    }\n\n    .dataframe tbody tr th {\n        vertical-align: top;\n    }\n\n    .dataframe thead th {\n        text-align: right;\n    }\n</style>\n<table border=\"1\" class=\"dataframe\">\n  <thead>\n    <tr style=\"text-align: right;\">\n      <th></th>\n      <th>State FIPS Code</th>\n      <th>County FIPS Code</th>\n      <th>Postal Code</th>\n      <th>Name</th>\n      <th>Poverty Estimate, All Ages</th>\n      <th>90% CI Lower Bound</th>\n      <th>90% CI Upper Bound</th>\n      <th>Poverty Percent, All Ages</th>\n      <th>90% CI Lower Bound</th>\n      <th>90% CI Upper Bound</th>\n      <th>...</th>\n      <th>90% CI Upper Bound</th>\n      <th>Median Household Income</th>\n      <th>90% CI Lower Bound</th>\n      <th>90% CI Upper Bound</th>\n      <th>Poverty Estimate, Age 0-4</th>\n      <th>90% CI Lower Bound</th>\n      <th>90% CI Upper Bound</th>\n      <th>Poverty Percent, Age 0-4</th>\n      <th>90% CI Lower Bound</th>\n      <th>90% CI Upper Bound</th>\n    </tr>\n  </thead>\n  <tbody>\n    <tr>\n      <th>0</th>\n      <td>00</td>\n      <td>000</td>\n      <td>US</td>\n      <td>United States</td>\n      <td>39490096</td>\n      <td>39248096</td>\n      <td>39732096</td>\n      <td>12.3</td>\n      <td>12.2</td>\n      <td>12.4</td>\n      <td>...</td>\n      <td>16</td>\n      <td>65712</td>\n      <td>65594</td>\n      <td>65830</td>\n      <td>3457689</td>\n      <td>3405854</td>\n      <td>3509524</td>\n      <td>18.2</td>\n      <td>17.9</td>\n      <td>18.5</td>\n    </tr>\n    <tr>\n      <th>1</th>\n      <td>01</td>\n      <td>000</td>\n      <td>AL</td>\n      <td>Alabama</td>\n      <td>747478</td>\n      <td>730491</td>\n      <td>764465</td>\n      <td>15.6</td>\n      <td>15.2</td>\n      <td>16</td>\n      <td>...</td>\n      <td>21.6</td>\n      <td>51771</td>\n      <td>51179</td>\n      <td>52363</td>\n      <td>69236</td>\n      <td>65296</td>\n      <td>73176</td>\n      <td>24.2</td>\n      <td>22.8</td>\n      <td>25.6</td>\n    </tr>\n    <tr>\n      <th>2</th>\n      <td>01</td>\n      <td>001</td>\n      <td>AL</td>\n      <td>Autauga County</td>\n      <td>6723</td>\n      <td>5517</td>\n      <td>7929</td>\n      <td>12.1</td>\n      <td>9.9</td>\n      <td>14.3</td>\n      <td>...</td>\n      <td>19.4</td>\n      <td>58233</td>\n      <td>52517</td>\n      <td>63949</td>\n      <td>.</td>\n      <td>.</td>\n      <td>.</td>\n      <td>.</td>\n      <td>.</td>\n      <td>.</td>\n    </tr>\n    <tr>\n      <th>3</th>\n      <td>01</td>\n      <td>003</td>\n      <td>AL</td>\n      <td>Baldwin County</td>\n      <td>22360</td>\n      <td>18541</td>\n      <td>26179</td>\n      <td>10.1</td>\n      <td>8.4</td>\n      <td>11.8</td>\n      <td>...</td>\n      <td>17.2</td>\n      <td>59871</td>\n      <td>54593</td>\n      <td>65149</td>\n      <td>.</td>\n      <td>.</td>\n      <td>.</td>\n      <td>.</td>\n      <td>.</td>\n      <td>.</td>\n    </tr>\n    <tr>\n      <th>4</th>\n      <td>01</td>\n      <td>005</td>\n      <td>AL</td>\n      <td>Barbour County</td>\n      <td>5909</td>\n      <td>4787</td>\n      <td>7031</td>\n      <td>27.1</td>\n      <td>22</td>\n      <td>32.2</td>\n      <td>...</td>\n      <td>49</td>\n      <td>35972</td>\n      <td>31822</td>\n      <td>40122</td>\n      <td>.</td>\n      <td>.</td>\n      <td>.</td>\n      <td>.</td>\n      <td>.</td>\n      <td>.</td>\n    </tr>\n    <tr>\n      <th>...</th>\n      <td>...</td>\n      <td>...</td>\n      <td>...</td>\n      <td>...</td>\n      <td>...</td>\n      <td>...</td>\n      <td>...</td>\n      <td>...</td>\n      <td>...</td>\n      <td>...</td>\n      <td>...</td>\n      <td>...</td>\n      <td>...</td>\n      <td>...</td>\n      <td>...</td>\n      <td>...</td>\n      <td>...</td>\n      <td>...</td>\n      <td>...</td>\n      <td>...</td>\n      <td>...</td>\n    </tr>\n    <tr>\n      <th>3189</th>\n      <td>56</td>\n      <td>037</td>\n      <td>WY</td>\n      <td>Sweetwater County</td>\n      <td>3453</td>\n      <td>2743</td>\n      <td>4163</td>\n      <td>8.3</td>\n      <td>6.6</td>\n      <td>10</td>\n      <td>...</td>\n      <td>11.1</td>\n      <td>80639</td>\n      <td>73437</td>\n      <td>87841</td>\n      <td>.</td>\n      <td>.</td>\n      <td>.</td>\n      <td>.</td>\n      <td>.</td>\n      <td>.</td>\n    </tr>\n    <tr>\n      <th>3190</th>\n      <td>56</td>\n      <td>039</td>\n      <td>WY</td>\n      <td>Teton County</td>\n      <td>1396</td>\n      <td>1073</td>\n      <td>1719</td>\n      <td>6</td>\n      <td>4.6</td>\n      <td>7.4</td>\n      <td>...</td>\n      <td>6.7</td>\n      <td>98837</td>\n      <td>86531</td>\n      <td>111143</td>\n      <td>.</td>\n      <td>.</td>\n      <td>.</td>\n      <td>.</td>\n      <td>.</td>\n      <td>.</td>\n    </tr>\n    <tr>\n      <th>3191</th>\n      <td>56</td>\n      <td>041</td>\n      <td>WY</td>\n      <td>Uinta County</td>\n      <td>1699</td>\n      <td>1264</td>\n      <td>2134</td>\n      <td>8.5</td>\n      <td>6.3</td>\n      <td>10.7</td>\n      <td>...</td>\n      <td>11.1</td>\n      <td>70756</td>\n      <td>63191</td>\n      <td>78321</td>\n      <td>.</td>\n      <td>.</td>\n      <td>.</td>\n      <td>.</td>\n      <td>.</td>\n      <td>.</td>\n    </tr>\n    <tr>\n      <th>3192</th>\n      <td>56</td>\n      <td>043</td>\n      <td>WY</td>\n      <td>Washakie County</td>\n      <td>845</td>\n      <td>626</td>\n      <td>1064</td>\n      <td>11.1</td>\n      <td>8.2</td>\n      <td>14</td>\n      <td>...</td>\n      <td>17.4</td>\n      <td>55122</td>\n      <td>50050</td>\n      <td>60194</td>\n      <td>.</td>\n      <td>.</td>\n      <td>.</td>\n      <td>.</td>\n      <td>.</td>\n      <td>.</td>\n    </tr>\n    <tr>\n      <th>3193</th>\n      <td>56</td>\n      <td>045</td>\n      <td>WY</td>\n      <td>Weston County</td>\n      <td>692</td>\n      <td>523</td>\n      <td>861</td>\n      <td>10.5</td>\n      <td>7.9</td>\n      <td>13.1</td>\n      <td>...</td>\n      <td>16.7</td>\n      <td>59410</td>\n      <td>52275</td>\n      <td>66545</td>\n      <td>.</td>\n      <td>.</td>\n      <td>.</td>\n      <td>.</td>\n      <td>.</td>\n      <td>.</td>\n    </tr>\n  </tbody>\n</table>\n<p>3194 rows × 31 columns</p>\n</div>"
     },
     "metadata": {},
     "output_type": "display_data"
    }
   ],
   "source": [
    "saipe_header = saipe2019.iloc[2, :].values\n",
    "saipe_header\n",
    "saipe2019.columns = saipe_header\n",
    "saipe2019.drop([0,1,2], inplace=True)\n",
    "saipe2019.reset_index(drop=True, inplace=True)\n",
    "display(saipe2019)"
   ],
   "metadata": {
    "collapsed": false,
    "pycharm": {
     "name": "#%%\n"
    }
   }
  },
  {
   "cell_type": "code",
   "execution_count": 78,
   "outputs": [
    {
     "data": {
      "text/plain": "     State FIPS Code County FIPS Code Postal Code               Name  \\\n0                 01              001          AL     Autauga County   \n1                 01              003          AL     Baldwin County   \n2                 01              005          AL     Barbour County   \n3                 01              007          AL        Bibb County   \n4                 01              009          AL      Blount County   \n...              ...              ...         ...                ...   \n3002              56              037          WY  Sweetwater County   \n3003              56              039          WY       Teton County   \n3004              56              041          WY       Uinta County   \n3005              56              043          WY    Washakie County   \n3006              56              045          WY      Weston County   \n\n     Poverty Estimate, All Ages 90% CI Lower Bound 90% CI Upper Bound  \\\n0                          6723               5517               7929   \n1                         22360              18541              26179   \n2                          5909               4787               7031   \n3                          4101               3225               4977   \n4                          9324               8037              10611   \n...                         ...                ...                ...   \n3002                       3453               2743               4163   \n3003                       1396               1073               1719   \n3004                       1699               1264               2134   \n3005                        845                626               1064   \n3006                        692                523                861   \n\n     Poverty Percent, All Ages 90% CI Lower Bound 90% CI Upper Bound  ...  \\\n0                         12.1                9.9               14.3  ...   \n1                         10.1                8.4               11.8  ...   \n2                         27.1                 22               32.2  ...   \n3                         20.3                 16               24.6  ...   \n4                         16.3               14.1               18.5  ...   \n...                        ...                ...                ...  ...   \n3002                       8.3                6.6                 10  ...   \n3003                         6                4.6                7.4  ...   \n3004                       8.5                6.3               10.7  ...   \n3005                      11.1                8.2                 14  ...   \n3006                      10.5                7.9               13.1  ...   \n\n     90% CI Upper Bound Poverty Estimate, Age 5-17 in Families  \\\n0                  20.3                                   1376   \n1                  17.4                                   4641   \n2                  50.8                                   1468   \n3                  33.1                                    808   \n4                  25.3                                   2067   \n...                 ...                                    ...   \n3002                 13                                    644   \n3003                7.8                                    142   \n3004               13.1                                    336   \n3005               18.9                                    160   \n3006               18.7                                    120   \n\n     90% CI Lower Bound 90% CI Upper Bound  \\\n0                   902               1850   \n1                  3295               5987   \n2                  1114               1822   \n3                   566               1050   \n4                  1641               2493   \n...                 ...                ...   \n3002                416                872   \n3003                 83                201   \n3004                193                479   \n3005                 94                226   \n3006                 70                170   \n\n     Poverty Percent, Age 5-17 in Families 90% CI Lower Bound  \\\n0                                     14.4                9.4   \n1                                     13.3                9.4   \n2                                     39.5                 30   \n3                                     25.2               17.7   \n4                                     21.4                 17   \n...                                    ...                ...   \n3002                                   8.2                5.3   \n3003                                   4.7                2.7   \n3004                                   7.8                4.5   \n3005                                  12.3                7.2   \n3006                                  11.8                6.9   \n\n     90% CI Upper Bound Median Household Income 90% CI Lower Bound  \\\n0                  19.4                   58233              52517   \n1                  17.2                   59871              54593   \n2                    49                   35972              31822   \n3                  32.7                   47918              42291   \n4                  25.8                   52902              46777   \n...                 ...                     ...                ...   \n3002               11.1                   80639              73437   \n3003                6.7                   98837              86531   \n3004               11.1                   70756              63191   \n3005               17.4                   55122              50050   \n3006               16.7                   59410              52275   \n\n     90% CI Upper Bound  \n0                 63949  \n1                 65149  \n2                 40122  \n3                 53545  \n4                 59027  \n...                 ...  \n3002              87841  \n3003             111143  \n3004              78321  \n3005              60194  \n3006              66545  \n\n[3007 rows x 25 columns]",
      "text/html": "<div>\n<style scoped>\n    .dataframe tbody tr th:only-of-type {\n        vertical-align: middle;\n    }\n\n    .dataframe tbody tr th {\n        vertical-align: top;\n    }\n\n    .dataframe thead th {\n        text-align: right;\n    }\n</style>\n<table border=\"1\" class=\"dataframe\">\n  <thead>\n    <tr style=\"text-align: right;\">\n      <th></th>\n      <th>State FIPS Code</th>\n      <th>County FIPS Code</th>\n      <th>Postal Code</th>\n      <th>Name</th>\n      <th>Poverty Estimate, All Ages</th>\n      <th>90% CI Lower Bound</th>\n      <th>90% CI Upper Bound</th>\n      <th>Poverty Percent, All Ages</th>\n      <th>90% CI Lower Bound</th>\n      <th>90% CI Upper Bound</th>\n      <th>...</th>\n      <th>90% CI Upper Bound</th>\n      <th>Poverty Estimate, Age 5-17 in Families</th>\n      <th>90% CI Lower Bound</th>\n      <th>90% CI Upper Bound</th>\n      <th>Poverty Percent, Age 5-17 in Families</th>\n      <th>90% CI Lower Bound</th>\n      <th>90% CI Upper Bound</th>\n      <th>Median Household Income</th>\n      <th>90% CI Lower Bound</th>\n      <th>90% CI Upper Bound</th>\n    </tr>\n  </thead>\n  <tbody>\n    <tr>\n      <th>0</th>\n      <td>01</td>\n      <td>001</td>\n      <td>AL</td>\n      <td>Autauga County</td>\n      <td>6723</td>\n      <td>5517</td>\n      <td>7929</td>\n      <td>12.1</td>\n      <td>9.9</td>\n      <td>14.3</td>\n      <td>...</td>\n      <td>20.3</td>\n      <td>1376</td>\n      <td>902</td>\n      <td>1850</td>\n      <td>14.4</td>\n      <td>9.4</td>\n      <td>19.4</td>\n      <td>58233</td>\n      <td>52517</td>\n      <td>63949</td>\n    </tr>\n    <tr>\n      <th>1</th>\n      <td>01</td>\n      <td>003</td>\n      <td>AL</td>\n      <td>Baldwin County</td>\n      <td>22360</td>\n      <td>18541</td>\n      <td>26179</td>\n      <td>10.1</td>\n      <td>8.4</td>\n      <td>11.8</td>\n      <td>...</td>\n      <td>17.4</td>\n      <td>4641</td>\n      <td>3295</td>\n      <td>5987</td>\n      <td>13.3</td>\n      <td>9.4</td>\n      <td>17.2</td>\n      <td>59871</td>\n      <td>54593</td>\n      <td>65149</td>\n    </tr>\n    <tr>\n      <th>2</th>\n      <td>01</td>\n      <td>005</td>\n      <td>AL</td>\n      <td>Barbour County</td>\n      <td>5909</td>\n      <td>4787</td>\n      <td>7031</td>\n      <td>27.1</td>\n      <td>22</td>\n      <td>32.2</td>\n      <td>...</td>\n      <td>50.8</td>\n      <td>1468</td>\n      <td>1114</td>\n      <td>1822</td>\n      <td>39.5</td>\n      <td>30</td>\n      <td>49</td>\n      <td>35972</td>\n      <td>31822</td>\n      <td>40122</td>\n    </tr>\n    <tr>\n      <th>3</th>\n      <td>01</td>\n      <td>007</td>\n      <td>AL</td>\n      <td>Bibb County</td>\n      <td>4101</td>\n      <td>3225</td>\n      <td>4977</td>\n      <td>20.3</td>\n      <td>16</td>\n      <td>24.6</td>\n      <td>...</td>\n      <td>33.1</td>\n      <td>808</td>\n      <td>566</td>\n      <td>1050</td>\n      <td>25.2</td>\n      <td>17.7</td>\n      <td>32.7</td>\n      <td>47918</td>\n      <td>42291</td>\n      <td>53545</td>\n    </tr>\n    <tr>\n      <th>4</th>\n      <td>01</td>\n      <td>009</td>\n      <td>AL</td>\n      <td>Blount County</td>\n      <td>9324</td>\n      <td>8037</td>\n      <td>10611</td>\n      <td>16.3</td>\n      <td>14.1</td>\n      <td>18.5</td>\n      <td>...</td>\n      <td>25.3</td>\n      <td>2067</td>\n      <td>1641</td>\n      <td>2493</td>\n      <td>21.4</td>\n      <td>17</td>\n      <td>25.8</td>\n      <td>52902</td>\n      <td>46777</td>\n      <td>59027</td>\n    </tr>\n    <tr>\n      <th>...</th>\n      <td>...</td>\n      <td>...</td>\n      <td>...</td>\n      <td>...</td>\n      <td>...</td>\n      <td>...</td>\n      <td>...</td>\n      <td>...</td>\n      <td>...</td>\n      <td>...</td>\n      <td>...</td>\n      <td>...</td>\n      <td>...</td>\n      <td>...</td>\n      <td>...</td>\n      <td>...</td>\n      <td>...</td>\n      <td>...</td>\n      <td>...</td>\n      <td>...</td>\n      <td>...</td>\n    </tr>\n    <tr>\n      <th>3002</th>\n      <td>56</td>\n      <td>037</td>\n      <td>WY</td>\n      <td>Sweetwater County</td>\n      <td>3453</td>\n      <td>2743</td>\n      <td>4163</td>\n      <td>8.3</td>\n      <td>6.6</td>\n      <td>10</td>\n      <td>...</td>\n      <td>13</td>\n      <td>644</td>\n      <td>416</td>\n      <td>872</td>\n      <td>8.2</td>\n      <td>5.3</td>\n      <td>11.1</td>\n      <td>80639</td>\n      <td>73437</td>\n      <td>87841</td>\n    </tr>\n    <tr>\n      <th>3003</th>\n      <td>56</td>\n      <td>039</td>\n      <td>WY</td>\n      <td>Teton County</td>\n      <td>1396</td>\n      <td>1073</td>\n      <td>1719</td>\n      <td>6</td>\n      <td>4.6</td>\n      <td>7.4</td>\n      <td>...</td>\n      <td>7.8</td>\n      <td>142</td>\n      <td>83</td>\n      <td>201</td>\n      <td>4.7</td>\n      <td>2.7</td>\n      <td>6.7</td>\n      <td>98837</td>\n      <td>86531</td>\n      <td>111143</td>\n    </tr>\n    <tr>\n      <th>3004</th>\n      <td>56</td>\n      <td>041</td>\n      <td>WY</td>\n      <td>Uinta County</td>\n      <td>1699</td>\n      <td>1264</td>\n      <td>2134</td>\n      <td>8.5</td>\n      <td>6.3</td>\n      <td>10.7</td>\n      <td>...</td>\n      <td>13.1</td>\n      <td>336</td>\n      <td>193</td>\n      <td>479</td>\n      <td>7.8</td>\n      <td>4.5</td>\n      <td>11.1</td>\n      <td>70756</td>\n      <td>63191</td>\n      <td>78321</td>\n    </tr>\n    <tr>\n      <th>3005</th>\n      <td>56</td>\n      <td>043</td>\n      <td>WY</td>\n      <td>Washakie County</td>\n      <td>845</td>\n      <td>626</td>\n      <td>1064</td>\n      <td>11.1</td>\n      <td>8.2</td>\n      <td>14</td>\n      <td>...</td>\n      <td>18.9</td>\n      <td>160</td>\n      <td>94</td>\n      <td>226</td>\n      <td>12.3</td>\n      <td>7.2</td>\n      <td>17.4</td>\n      <td>55122</td>\n      <td>50050</td>\n      <td>60194</td>\n    </tr>\n    <tr>\n      <th>3006</th>\n      <td>56</td>\n      <td>045</td>\n      <td>WY</td>\n      <td>Weston County</td>\n      <td>692</td>\n      <td>523</td>\n      <td>861</td>\n      <td>10.5</td>\n      <td>7.9</td>\n      <td>13.1</td>\n      <td>...</td>\n      <td>18.7</td>\n      <td>120</td>\n      <td>70</td>\n      <td>170</td>\n      <td>11.8</td>\n      <td>6.9</td>\n      <td>16.7</td>\n      <td>59410</td>\n      <td>52275</td>\n      <td>66545</td>\n    </tr>\n  </tbody>\n</table>\n<p>3007 rows × 25 columns</p>\n</div>"
     },
     "metadata": {},
     "output_type": "display_data"
    }
   ],
   "source": [
    "saipe2019.columns\n",
    "saipe2019.iloc[:, [1,2,3,4,7]]\n",
    "saipe_county = saipe2019['Name'].str.contains('County')\n",
    "pov_rate_2019 = saipe2019.loc[saipe_county].iloc[:, :-6]\n",
    "pov_rate_2019.reset_index(drop=True, inplace=True)\n",
    "display(pov_rate_2019)"
   ],
   "metadata": {
    "collapsed": false,
    "pycharm": {
     "name": "#%%\n"
    }
   }
  },
  {
   "cell_type": "markdown",
   "source": [
    "* Remove empty cells and clean up columns\n",
    "* Retain only US county information and poverty rates for all ages\n"
   ],
   "metadata": {
    "collapsed": false
   }
  },
  {
   "cell_type": "code",
   "execution_count": 79,
   "outputs": [
    {
     "name": "stdout",
     "output_type": "stream",
     "text": [
      "State FIPS Code                           0\n",
      "County FIPS Code                          0\n",
      "Postal Code                               0\n",
      "Name                                      0\n",
      "Poverty Estimate, All Ages                0\n",
      "90% CI Lower Bound                        0\n",
      "90% CI Upper Bound                        0\n",
      "Poverty Percent, All Ages                 0\n",
      "90% CI Lower Bound                        0\n",
      "90% CI Upper Bound                        0\n",
      "Poverty Estimate, Age 0-17                0\n",
      "90% CI Lower Bound                        0\n",
      "90% CI Upper Bound                        0\n",
      "Poverty Percent, Age 0-17                 0\n",
      "90% CI Lower Bound                        0\n",
      "90% CI Upper Bound                        0\n",
      "Poverty Estimate, Age 5-17 in Families    0\n",
      "90% CI Lower Bound                        0\n",
      "90% CI Upper Bound                        0\n",
      "Poverty Percent, Age 5-17 in Families     0\n",
      "90% CI Lower Bound                        0\n",
      "90% CI Upper Bound                        0\n",
      "Median Household Income                   0\n",
      "90% CI Lower Bound                        0\n",
      "90% CI Upper Bound                        0\n",
      "dtype: int64\n",
      "0\n",
      "<class 'pandas.core.frame.DataFrame'>\n",
      "RangeIndex: 3007 entries, 0 to 3006\n",
      "Data columns (total 25 columns):\n",
      " #   Column                                  Non-Null Count  Dtype \n",
      "---  ------                                  --------------  ----- \n",
      " 0   State FIPS Code                         3007 non-null   object\n",
      " 1   County FIPS Code                        3007 non-null   object\n",
      " 2   Postal Code                             3007 non-null   object\n",
      " 3   Name                                    3007 non-null   object\n",
      " 4   Poverty Estimate, All Ages              3007 non-null   object\n",
      " 5   90% CI Lower Bound                      3007 non-null   object\n",
      " 6   90% CI Upper Bound                      3007 non-null   object\n",
      " 7   Poverty Percent, All Ages               3007 non-null   object\n",
      " 8   90% CI Lower Bound                      3007 non-null   object\n",
      " 9   90% CI Upper Bound                      3007 non-null   object\n",
      " 10  Poverty Estimate, Age 0-17              3007 non-null   object\n",
      " 11  90% CI Lower Bound                      3007 non-null   object\n",
      " 12  90% CI Upper Bound                      3007 non-null   object\n",
      " 13  Poverty Percent, Age 0-17               3007 non-null   object\n",
      " 14  90% CI Lower Bound                      3007 non-null   object\n",
      " 15  90% CI Upper Bound                      3007 non-null   object\n",
      " 16  Poverty Estimate, Age 5-17 in Families  3007 non-null   object\n",
      " 17  90% CI Lower Bound                      3007 non-null   object\n",
      " 18  90% CI Upper Bound                      3007 non-null   object\n",
      " 19  Poverty Percent, Age 5-17 in Families   3007 non-null   object\n",
      " 20  90% CI Lower Bound                      3007 non-null   object\n",
      " 21  90% CI Upper Bound                      3007 non-null   object\n",
      " 22  Median Household Income                 3007 non-null   object\n",
      " 23  90% CI Lower Bound                      3007 non-null   object\n",
      " 24  90% CI Upper Bound                      3007 non-null   object\n",
      "dtypes: object(25)\n",
      "memory usage: 587.4+ KB\n"
     ]
    },
    {
     "data": {
      "text/plain": "None"
     },
     "metadata": {},
     "output_type": "display_data"
    }
   ],
   "source": [
    "print(pov_rate_2019.isnull().sum())\n",
    "print(pov_rate_2019.duplicated().sum())\n",
    "display(pov_rate_2019.info())"
   ],
   "metadata": {
    "collapsed": false,
    "pycharm": {
     "name": "#%%\n"
    }
   }
  },
  {
   "cell_type": "markdown",
   "source": [
    "* No duplicates or missing values for poverty rates in 2017\n",
    "* also convert poverty percent to float"
   ],
   "metadata": {
    "collapsed": false
   }
  },
  {
   "cell_type": "code",
   "execution_count": 80,
   "outputs": [
    {
     "name": "stdout",
     "output_type": "stream",
     "text": [
      "<class 'pandas.core.frame.DataFrame'>\n",
      "RangeIndex: 3007 entries, 0 to 3006\n",
      "Data columns (total 25 columns):\n",
      " #   Column                                  Non-Null Count  Dtype \n",
      "---  ------                                  --------------  ----- \n",
      " 0   State FIPS Code                         3007 non-null   object\n",
      " 1   County FIPS Code                        3007 non-null   object\n",
      " 2   Postal Code                             3007 non-null   object\n",
      " 3   Name                                    3007 non-null   object\n",
      " 4   Poverty Estimate, All Ages              3007 non-null   object\n",
      " 5   90% CI Lower Bound                      3007 non-null   object\n",
      " 6   90% CI Upper Bound                      3007 non-null   object\n",
      " 7   Poverty Percent, All Ages               3007 non-null   object\n",
      " 8   90% CI Lower Bound                      3007 non-null   object\n",
      " 9   90% CI Upper Bound                      3007 non-null   object\n",
      " 10  Poverty Estimate, Age 0-17              3007 non-null   object\n",
      " 11  90% CI Lower Bound                      3007 non-null   object\n",
      " 12  90% CI Upper Bound                      3007 non-null   object\n",
      " 13  Poverty Percent, Age 0-17               3007 non-null   object\n",
      " 14  90% CI Lower Bound                      3007 non-null   object\n",
      " 15  90% CI Upper Bound                      3007 non-null   object\n",
      " 16  Poverty Estimate, Age 5-17 in Families  3007 non-null   object\n",
      " 17  90% CI Lower Bound                      3007 non-null   object\n",
      " 18  90% CI Upper Bound                      3007 non-null   object\n",
      " 19  Poverty Percent, Age 5-17 in Families   3007 non-null   object\n",
      " 20  90% CI Lower Bound                      3007 non-null   object\n",
      " 21  90% CI Upper Bound                      3007 non-null   object\n",
      " 22  Median Household Income                 3007 non-null   object\n",
      " 23  90% CI Lower Bound                      3007 non-null   object\n",
      " 24  90% CI Upper Bound                      3007 non-null   object\n",
      "dtypes: object(25)\n",
      "memory usage: 587.4+ KB\n"
     ]
    }
   ],
   "source": [
    "pov_rate_2019.info()\n",
    "\n",
    "pov_rate_2019.drop(518, inplace=True)\n",
    "# pov_rate_2017['Poverty Percent, All Ages'] = pd.to_numeric(pov_rate_2017['Poverty Percent, All Ages'], downcast='float')"
   ],
   "metadata": {
    "collapsed": false,
    "pycharm": {
     "name": "#%%\n"
    }
   }
  },
  {
   "cell_type": "code",
   "execution_count": 81,
   "outputs": [],
   "source": [
    "\n",
    "pov_rate_2019.columns = ['State FIPS Code', 'County FIPS Code', 'Postal Code', 'Name',\n",
    "       'Poverty Estimate, All Ages', '90% CI LB All Ages',\n",
    "       '90% CI UB All Ages', 'Poverty Percent, All Ages', '90% CI LB percent',\n",
    "       '90% CI UB percent', 'Poverty Estimate, Age 0-17',\n",
    "       '90% CI LB percent 0-17', '90% CI UB 0-17', 'Poverty Percent, Age 0-17',\n",
    "       '90% CI LB percent 0-17 percent', '90% CI UB 0-17 percent',\n",
    "       'Poverty Estimate, Age 5-17 in Families', '90% CI LB 5-17 fam',\n",
    "       '90% CI UB 5-17 fam', 'Poverty Percent, Age 5-17 in Families',\n",
    "       '90% CI LB 5-17 percent', '90% CI UB percent 5-17 percent', 'Median Household Income',\n",
    "       '90% CI Lower Bound LB medh inc', '90% CI UB medh inc']\n",
    "\n",
    "pov_cols = pov_rate_2019.columns[4:]"
   ],
   "metadata": {
    "collapsed": false,
    "pycharm": {
     "name": "#%%\n"
    }
   }
  },
  {
   "cell_type": "code",
   "execution_count": 82,
   "outputs": [
    {
     "name": "stdout",
     "output_type": "stream",
     "text": [
      "<class 'pandas.core.frame.DataFrame'>\n",
      "Int64Index: 3006 entries, 0 to 3006\n",
      "Data columns (total 25 columns):\n",
      " #   Column                                  Non-Null Count  Dtype  \n",
      "---  ------                                  --------------  -----  \n",
      " 0   State FIPS Code                         3006 non-null   object \n",
      " 1   County FIPS Code                        3006 non-null   object \n",
      " 2   Postal Code                             3006 non-null   object \n",
      " 3   Name                                    3006 non-null   object \n",
      " 4   Poverty Estimate, All Ages              3006 non-null   float32\n",
      " 5   90% CI LB All Ages                      3006 non-null   float32\n",
      " 6   90% CI UB All Ages                      3006 non-null   float32\n",
      " 7   Poverty Percent, All Ages               3006 non-null   float32\n",
      " 8   90% CI LB percent                       3006 non-null   float32\n",
      " 9   90% CI UB percent                       3006 non-null   float32\n",
      " 10  Poverty Estimate, Age 0-17              3006 non-null   float32\n",
      " 11  90% CI LB percent 0-17                  3006 non-null   float32\n",
      " 12  90% CI UB 0-17                          3006 non-null   float32\n",
      " 13  Poverty Percent, Age 0-17               3006 non-null   float32\n",
      " 14  90% CI LB percent 0-17 percent          3006 non-null   float32\n",
      " 15  90% CI UB 0-17 percent                  3006 non-null   float32\n",
      " 16  Poverty Estimate, Age 5-17 in Families  3006 non-null   float32\n",
      " 17  90% CI LB 5-17 fam                      3006 non-null   float32\n",
      " 18  90% CI UB 5-17 fam                      3006 non-null   float32\n",
      " 19  Poverty Percent, Age 5-17 in Families   3006 non-null   float32\n",
      " 20  90% CI LB 5-17 percent                  3006 non-null   float32\n",
      " 21  90% CI UB percent 5-17 percent          3006 non-null   float32\n",
      " 22  Median Household Income                 3006 non-null   float32\n",
      " 23  90% CI Lower Bound LB medh inc          3006 non-null   float32\n",
      " 24  90% CI UB medh inc                      3006 non-null   float32\n",
      "dtypes: float32(21), object(4)\n",
      "memory usage: 364.0+ KB\n"
     ]
    }
   ],
   "source": [
    "for col in pov_cols:\n",
    "    pov_rate_2019[col] = pd.to_numeric(pov_rate_2019[col], downcast='float')\n",
    "\n",
    "pov_rate_2019.info()"
   ],
   "metadata": {
    "collapsed": false,
    "pycharm": {
     "name": "#%%\n"
    }
   }
  },
  {
   "cell_type": "markdown",
   "source": [
    "# Clean education and vehicle 2017 dataset"
   ],
   "metadata": {
    "collapsed": false
   }
  },
  {
   "cell_type": "code",
   "execution_count": 83,
   "outputs": [
    {
     "name": "stdout",
     "output_type": "stream",
     "text": [
      "<class 'pandas.core.frame.DataFrame'>\n",
      "RangeIndex: 837 entries, 0 to 836\n",
      "Data columns (total 13 columns):\n",
      " #   Column            Non-Null Count  Dtype  \n",
      "---  ------            --------------  -----  \n",
      " 0   Unnamed: 0        837 non-null    int64  \n",
      " 1   NAME              837 non-null    object \n",
      " 2   state             837 non-null    int64  \n",
      " 3   county            837 non-null    int64  \n",
      " 4   POP               837 non-null    int64  \n",
      " 5   EDU_TOT           826 non-null    float64\n",
      " 6   LESS_HS_TOT       826 non-null    float64\n",
      " 7   HS_TOT            826 non-null    float64\n",
      " 8   COL_OR_ASSOC_TOT  826 non-null    float64\n",
      " 9   BACH_TOT          826 non-null    float64\n",
      " 10  GRAD_TOT          826 non-null    float64\n",
      " 11  VEHICLE_TOT       837 non-null    int64  \n",
      " 12  WALK_TOT          226 non-null    float64\n",
      "dtypes: float64(7), int64(5), object(1)\n",
      "memory usage: 85.1+ KB\n"
     ]
    }
   ],
   "source": [
    "educ_vehicle_2017.shape\n",
    "educ_vehicle_2017.columns\n",
    "\n",
    "educ_vehicle_2017.info()"
   ],
   "metadata": {
    "collapsed": false,
    "pycharm": {
     "name": "#%%\n"
    }
   }
  },
  {
   "cell_type": "markdown",
   "source": [
    "* Have 837 rows and 12 columns\n",
    "* Category types are appropriate for numerical and nominal columns"
   ],
   "metadata": {
    "collapsed": false
   }
  },
  {
   "cell_type": "code",
   "execution_count": 84,
   "outputs": [],
   "source": [
    "# educ_vehicle_2017.drop('Unnamed: 0', axis=1, inplace=True)\n",
    "educ_vehicle_2017['WALK_TOT'].unique()\n",
    "educ_vehicle_2017['WALK_TOT'].isnull().sum()\n",
    "\n",
    "#drop walk b/c too many missing values and only retain counties and drop also drop that row index column\n",
    "educ_vehicle_2017.state.unique()\n",
    "cols_to_remove = ['Unnamed: 0', 'WALK_TOT']\n",
    "educ_vehicle_2017 = remove_col(educ_vehicle_2017, cols_to_remove)"
   ],
   "metadata": {
    "collapsed": false,
    "pycharm": {
     "name": "#%%\n"
    }
   }
  },
  {
   "cell_type": "markdown",
   "source": [
    "* drop first column as it is just an index column\n",
    "* drop total walk column as majority of data is missing\n",
    "* nb there is no fips state code for 4"
   ],
   "metadata": {
    "collapsed": false
   }
  },
  {
   "cell_type": "code",
   "execution_count": 85,
   "outputs": [
    {
     "data": {
      "text/plain": "                              NAME  state  county      POP    EDU_TOT  \\\n0    St. Lawrence County, New York     36      89   109623    72555.0   \n1        Saratoga County, New York     36      91   229869   164414.0   \n2     Schenectady County, New York     36      93   155565   107453.0   \n3         Steuben County, New York     36     101    96281    68011.0   \n4         Suffolk County, New York     36     103  1492953  1036946.0   \n..                             ...    ...     ...      ...        ...   \n832        Putnam County, New York     36      79    99323    71447.0   \n833        Queens County, New York     36      81  2358582  1695302.0   \n834    Rensselaer County, New York     36      83   159722   111047.0   \n835      Richmond County, New York     36      85   479458   334079.0   \n836      Rockland County, New York     36      87   328868   205985.0   \n\n     LESS_HS_TOT    HS_TOT  COL_OR_ASSOC_TOT  BACH_TOT  GRAD_TOT  VEHICLE_TOT  \\\n0         9164.0   25858.0           20091.0    8279.0    9163.0        35920   \n1        10656.0   39033.0           45561.0   37886.0   31278.0       105705   \n2        10085.0   32144.0           35263.0   17210.0   12751.0        60290   \n3         6510.0   25920.0           20685.0    7451.0    7445.0        35585   \n4       102621.0  277080.0          279213.0  208064.0  169968.0       617715   \n..           ...       ...               ...       ...       ...          ...   \n832       5090.0   20597.0           18095.0   14929.0   12736.0        42395   \n833     304984.0  493794.0          372885.0  335990.0  187649.0       391980   \n834       9095.0   31730.0           34954.0   20143.0   15125.0        65720   \n835      39031.0  100730.0           83679.0   66108.0   44531.0       127985   \n836      22972.0   46985.0           51510.0   46786.0   37732.0       112645   \n\n     EDU_TOT_ratio  LESS_HS_TOT_ratio  HS_TOT_ratio  COL_OR_ASSOC_TOT_ratio  \\\n0        66.185928           8.359560     23.588116               18.327358   \n1        71.525086           4.635684     16.980541               19.820419   \n2        69.072735           6.482821     20.662745               22.667695   \n3        70.638028           6.761459     26.921199               21.483990   \n4        69.456038           6.873693     18.559191               18.702062   \n..             ...                ...           ...                     ...   \n832      71.933993           5.124694     20.737392               18.218338   \n833      71.878018          12.930820     20.936054               15.809711   \n834      69.525175           5.694269     19.865767               21.884274   \n835      69.678470           8.140650     21.009139               17.452832   \n836      62.634552           6.985173     14.286887               15.662819   \n\n     BACH_TOT_ratio  GRAD_TOT_ratio  VEHICLE_TOT_ratio  \n0          7.552247        8.358647          32.766846  \n1         16.481561       13.606880          45.984887  \n2         11.062900        8.196574          38.755504  \n3          7.738806        7.732574          36.959525  \n4         13.936407       11.384685          41.375382  \n..              ...             ...                ...  \n832       15.030758       12.822810          42.683970  \n833       14.245424        7.956009          16.619308  \n834       12.611287        9.469578          41.146492  \n835       13.788069        9.287779          26.693683  \n836       14.226377       11.473296          34.252344  \n\n[837 rows x 18 columns]",
      "text/html": "<div>\n<style scoped>\n    .dataframe tbody tr th:only-of-type {\n        vertical-align: middle;\n    }\n\n    .dataframe tbody tr th {\n        vertical-align: top;\n    }\n\n    .dataframe thead th {\n        text-align: right;\n    }\n</style>\n<table border=\"1\" class=\"dataframe\">\n  <thead>\n    <tr style=\"text-align: right;\">\n      <th></th>\n      <th>NAME</th>\n      <th>state</th>\n      <th>county</th>\n      <th>POP</th>\n      <th>EDU_TOT</th>\n      <th>LESS_HS_TOT</th>\n      <th>HS_TOT</th>\n      <th>COL_OR_ASSOC_TOT</th>\n      <th>BACH_TOT</th>\n      <th>GRAD_TOT</th>\n      <th>VEHICLE_TOT</th>\n      <th>EDU_TOT_ratio</th>\n      <th>LESS_HS_TOT_ratio</th>\n      <th>HS_TOT_ratio</th>\n      <th>COL_OR_ASSOC_TOT_ratio</th>\n      <th>BACH_TOT_ratio</th>\n      <th>GRAD_TOT_ratio</th>\n      <th>VEHICLE_TOT_ratio</th>\n    </tr>\n  </thead>\n  <tbody>\n    <tr>\n      <th>0</th>\n      <td>St. Lawrence County, New York</td>\n      <td>36</td>\n      <td>89</td>\n      <td>109623</td>\n      <td>72555.0</td>\n      <td>9164.0</td>\n      <td>25858.0</td>\n      <td>20091.0</td>\n      <td>8279.0</td>\n      <td>9163.0</td>\n      <td>35920</td>\n      <td>66.185928</td>\n      <td>8.359560</td>\n      <td>23.588116</td>\n      <td>18.327358</td>\n      <td>7.552247</td>\n      <td>8.358647</td>\n      <td>32.766846</td>\n    </tr>\n    <tr>\n      <th>1</th>\n      <td>Saratoga County, New York</td>\n      <td>36</td>\n      <td>91</td>\n      <td>229869</td>\n      <td>164414.0</td>\n      <td>10656.0</td>\n      <td>39033.0</td>\n      <td>45561.0</td>\n      <td>37886.0</td>\n      <td>31278.0</td>\n      <td>105705</td>\n      <td>71.525086</td>\n      <td>4.635684</td>\n      <td>16.980541</td>\n      <td>19.820419</td>\n      <td>16.481561</td>\n      <td>13.606880</td>\n      <td>45.984887</td>\n    </tr>\n    <tr>\n      <th>2</th>\n      <td>Schenectady County, New York</td>\n      <td>36</td>\n      <td>93</td>\n      <td>155565</td>\n      <td>107453.0</td>\n      <td>10085.0</td>\n      <td>32144.0</td>\n      <td>35263.0</td>\n      <td>17210.0</td>\n      <td>12751.0</td>\n      <td>60290</td>\n      <td>69.072735</td>\n      <td>6.482821</td>\n      <td>20.662745</td>\n      <td>22.667695</td>\n      <td>11.062900</td>\n      <td>8.196574</td>\n      <td>38.755504</td>\n    </tr>\n    <tr>\n      <th>3</th>\n      <td>Steuben County, New York</td>\n      <td>36</td>\n      <td>101</td>\n      <td>96281</td>\n      <td>68011.0</td>\n      <td>6510.0</td>\n      <td>25920.0</td>\n      <td>20685.0</td>\n      <td>7451.0</td>\n      <td>7445.0</td>\n      <td>35585</td>\n      <td>70.638028</td>\n      <td>6.761459</td>\n      <td>26.921199</td>\n      <td>21.483990</td>\n      <td>7.738806</td>\n      <td>7.732574</td>\n      <td>36.959525</td>\n    </tr>\n    <tr>\n      <th>4</th>\n      <td>Suffolk County, New York</td>\n      <td>36</td>\n      <td>103</td>\n      <td>1492953</td>\n      <td>1036946.0</td>\n      <td>102621.0</td>\n      <td>277080.0</td>\n      <td>279213.0</td>\n      <td>208064.0</td>\n      <td>169968.0</td>\n      <td>617715</td>\n      <td>69.456038</td>\n      <td>6.873693</td>\n      <td>18.559191</td>\n      <td>18.702062</td>\n      <td>13.936407</td>\n      <td>11.384685</td>\n      <td>41.375382</td>\n    </tr>\n    <tr>\n      <th>...</th>\n      <td>...</td>\n      <td>...</td>\n      <td>...</td>\n      <td>...</td>\n      <td>...</td>\n      <td>...</td>\n      <td>...</td>\n      <td>...</td>\n      <td>...</td>\n      <td>...</td>\n      <td>...</td>\n      <td>...</td>\n      <td>...</td>\n      <td>...</td>\n      <td>...</td>\n      <td>...</td>\n      <td>...</td>\n      <td>...</td>\n    </tr>\n    <tr>\n      <th>832</th>\n      <td>Putnam County, New York</td>\n      <td>36</td>\n      <td>79</td>\n      <td>99323</td>\n      <td>71447.0</td>\n      <td>5090.0</td>\n      <td>20597.0</td>\n      <td>18095.0</td>\n      <td>14929.0</td>\n      <td>12736.0</td>\n      <td>42395</td>\n      <td>71.933993</td>\n      <td>5.124694</td>\n      <td>20.737392</td>\n      <td>18.218338</td>\n      <td>15.030758</td>\n      <td>12.822810</td>\n      <td>42.683970</td>\n    </tr>\n    <tr>\n      <th>833</th>\n      <td>Queens County, New York</td>\n      <td>36</td>\n      <td>81</td>\n      <td>2358582</td>\n      <td>1695302.0</td>\n      <td>304984.0</td>\n      <td>493794.0</td>\n      <td>372885.0</td>\n      <td>335990.0</td>\n      <td>187649.0</td>\n      <td>391980</td>\n      <td>71.878018</td>\n      <td>12.930820</td>\n      <td>20.936054</td>\n      <td>15.809711</td>\n      <td>14.245424</td>\n      <td>7.956009</td>\n      <td>16.619308</td>\n    </tr>\n    <tr>\n      <th>834</th>\n      <td>Rensselaer County, New York</td>\n      <td>36</td>\n      <td>83</td>\n      <td>159722</td>\n      <td>111047.0</td>\n      <td>9095.0</td>\n      <td>31730.0</td>\n      <td>34954.0</td>\n      <td>20143.0</td>\n      <td>15125.0</td>\n      <td>65720</td>\n      <td>69.525175</td>\n      <td>5.694269</td>\n      <td>19.865767</td>\n      <td>21.884274</td>\n      <td>12.611287</td>\n      <td>9.469578</td>\n      <td>41.146492</td>\n    </tr>\n    <tr>\n      <th>835</th>\n      <td>Richmond County, New York</td>\n      <td>36</td>\n      <td>85</td>\n      <td>479458</td>\n      <td>334079.0</td>\n      <td>39031.0</td>\n      <td>100730.0</td>\n      <td>83679.0</td>\n      <td>66108.0</td>\n      <td>44531.0</td>\n      <td>127985</td>\n      <td>69.678470</td>\n      <td>8.140650</td>\n      <td>21.009139</td>\n      <td>17.452832</td>\n      <td>13.788069</td>\n      <td>9.287779</td>\n      <td>26.693683</td>\n    </tr>\n    <tr>\n      <th>836</th>\n      <td>Rockland County, New York</td>\n      <td>36</td>\n      <td>87</td>\n      <td>328868</td>\n      <td>205985.0</td>\n      <td>22972.0</td>\n      <td>46985.0</td>\n      <td>51510.0</td>\n      <td>46786.0</td>\n      <td>37732.0</td>\n      <td>112645</td>\n      <td>62.634552</td>\n      <td>6.985173</td>\n      <td>14.286887</td>\n      <td>15.662819</td>\n      <td>14.226377</td>\n      <td>11.473296</td>\n      <td>34.252344</td>\n    </tr>\n  </tbody>\n</table>\n<p>837 rows × 18 columns</p>\n</div>"
     },
     "metadata": {},
     "output_type": "display_data"
    }
   ],
   "source": [
    "edu_vehicle_estimates = educ_vehicle_2017.columns.values[4:]\n",
    "# educ_vehicle_2017\n",
    "\n",
    "for est in edu_vehicle_estimates:\n",
    "    educ_vehicle_2017[est + '_ratio'] = educ_vehicle_2017[est] / educ_vehicle_2017['POP'] * 100\n",
    "    # educ_vehicle_2017.drop(est, axis=1, inplace=True)\n",
    "\n",
    "# convert into ratios\n",
    "display(educ_vehicle_2017)"
   ],
   "metadata": {
    "collapsed": false,
    "pycharm": {
     "name": "#%%\n"
    }
   }
  },
  {
   "cell_type": "markdown",
   "source": [
    "* convert all estimates of education and vehicles of a county to a ratio of estimated total / population of county\n",
    "* retrieve ratio estimate to county population\n"
   ],
   "metadata": {
    "collapsed": false
   }
  },
  {
   "cell_type": "markdown",
   "source": [
    "# Repeat Steps for education and vehicle 2018 data"
   ],
   "metadata": {
    "collapsed": false
   }
  },
  {
   "cell_type": "code",
   "execution_count": 86,
   "outputs": [
    {
     "name": "stdout",
     "output_type": "stream",
     "text": [
      "<class 'pandas.core.frame.DataFrame'>\n",
      "RangeIndex: 838 entries, 0 to 837\n",
      "Data columns (total 13 columns):\n",
      " #   Column            Non-Null Count  Dtype  \n",
      "---  ------            --------------  -----  \n",
      " 0   Unnamed: 0        838 non-null    int64  \n",
      " 1   NAME              838 non-null    object \n",
      " 2   state             838 non-null    int64  \n",
      " 3   county            838 non-null    int64  \n",
      " 4   POP               838 non-null    int64  \n",
      " 5   EDU_TOT           826 non-null    float64\n",
      " 6   LESS_HS_TOT       826 non-null    float64\n",
      " 7   HS_TOT            826 non-null    float64\n",
      " 8   COL_OR_ASSOC_TOT  826 non-null    float64\n",
      " 9   BACH_TOT          826 non-null    float64\n",
      " 10  GRAD_TOT          826 non-null    float64\n",
      " 11  VEHICLE_TOT       838 non-null    int64  \n",
      " 12  WALK_TOT          231 non-null    float64\n",
      "dtypes: float64(7), int64(5), object(1)\n",
      "memory usage: 85.2+ KB\n"
     ]
    }
   ],
   "source": [
    "educ_vehicle_2018.shape\n",
    "educ_vehicle_2018.columns\n",
    "\n",
    "educ_vehicle_2018.info()"
   ],
   "metadata": {
    "collapsed": false,
    "pycharm": {
     "name": "#%%\n"
    }
   }
  },
  {
   "cell_type": "markdown",
   "source": [
    "* Have 837 rows and 12 columns\n",
    "* Category types are appropriate for numerical and nominal columns"
   ],
   "metadata": {
    "collapsed": false
   }
  },
  {
   "cell_type": "code",
   "execution_count": 87,
   "outputs": [],
   "source": [
    "educ_vehicle_2018['WALK_TOT'].unique()\n",
    "educ_vehicle_2018['WALK_TOT'].isnull().sum()\n",
    "\n",
    "educ_vehicle_2018.state.unique()\n",
    "cols_to_remove = ['Unnamed: 0', 'WALK_TOT']\n",
    "educ_vehicle_2018 = remove_col(educ_vehicle_2018, cols_to_remove)"
   ],
   "metadata": {
    "collapsed": false,
    "pycharm": {
     "name": "#%%\n"
    }
   }
  },
  {
   "cell_type": "markdown",
   "source": [
    "* drop first column as it is just an index column\n",
    "* drop total walk column as majority of data is missing\n",
    "* nb there is no fips state code for 4"
   ],
   "metadata": {
    "collapsed": false
   }
  },
  {
   "cell_type": "code",
   "execution_count": 88,
   "outputs": [
    {
     "data": {
      "text/plain": "                                     NAME  state  county     POP  EDU_TOT  \\\n376             Jones County, Mississippi     28      67   68461      NaN   \n827        Arecibo Municipio, Puerto Rico     72      13   82114      NaN   \n828        Bayamón Municipio, Puerto Rico     72      21  170480      NaN   \n829         Caguas Municipio, Puerto Rico     72      25  124434      NaN   \n830       Carolina Municipio, Puerto Rico     72      31  147661      NaN   \n831       Guaynabo Municipio, Puerto Rico     72      61   83787      NaN   \n832       Mayagüez Municipio, Puerto Rico     72      97   71986      NaN   \n833          Ponce Municipio, Puerto Rico     72     113  133191      NaN   \n834       San Juan Municipio, Puerto Rico     72     127  320967      NaN   \n835       Toa Alta Municipio, Puerto Rico     72     135   71094      NaN   \n836       Toa Baja Municipio, Puerto Rico     72     137   74623      NaN   \n837  Trujillo Alto Municipio, Puerto Rico     72     139   63746      NaN   \n\n     LESS_HS_TOT  HS_TOT  COL_OR_ASSOC_TOT  BACH_TOT  GRAD_TOT  VEHICLE_TOT  \n376          NaN     NaN               NaN       NaN       NaN        26755  \n827          NaN     NaN               NaN       NaN       NaN        21210  \n828          NaN     NaN               NaN       NaN       NaN        48105  \n829          NaN     NaN               NaN       NaN       NaN        37810  \n830          NaN     NaN               NaN       NaN       NaN        47205  \n831          NaN     NaN               NaN       NaN       NaN        27890  \n832          NaN     NaN               NaN       NaN       NaN        14200  \n833          NaN     NaN               NaN       NaN       NaN        32475  \n834          NaN     NaN               NaN       NaN       NaN        94245  \n835          NaN     NaN               NaN       NaN       NaN        24755  \n836          NaN     NaN               NaN       NaN       NaN        23700  \n837          NaN     NaN               NaN       NaN       NaN        22530  ",
      "text/html": "<div>\n<style scoped>\n    .dataframe tbody tr th:only-of-type {\n        vertical-align: middle;\n    }\n\n    .dataframe tbody tr th {\n        vertical-align: top;\n    }\n\n    .dataframe thead th {\n        text-align: right;\n    }\n</style>\n<table border=\"1\" class=\"dataframe\">\n  <thead>\n    <tr style=\"text-align: right;\">\n      <th></th>\n      <th>NAME</th>\n      <th>state</th>\n      <th>county</th>\n      <th>POP</th>\n      <th>EDU_TOT</th>\n      <th>LESS_HS_TOT</th>\n      <th>HS_TOT</th>\n      <th>COL_OR_ASSOC_TOT</th>\n      <th>BACH_TOT</th>\n      <th>GRAD_TOT</th>\n      <th>VEHICLE_TOT</th>\n    </tr>\n  </thead>\n  <tbody>\n    <tr>\n      <th>376</th>\n      <td>Jones County, Mississippi</td>\n      <td>28</td>\n      <td>67</td>\n      <td>68461</td>\n      <td>NaN</td>\n      <td>NaN</td>\n      <td>NaN</td>\n      <td>NaN</td>\n      <td>NaN</td>\n      <td>NaN</td>\n      <td>26755</td>\n    </tr>\n    <tr>\n      <th>827</th>\n      <td>Arecibo Municipio, Puerto Rico</td>\n      <td>72</td>\n      <td>13</td>\n      <td>82114</td>\n      <td>NaN</td>\n      <td>NaN</td>\n      <td>NaN</td>\n      <td>NaN</td>\n      <td>NaN</td>\n      <td>NaN</td>\n      <td>21210</td>\n    </tr>\n    <tr>\n      <th>828</th>\n      <td>Bayamón Municipio, Puerto Rico</td>\n      <td>72</td>\n      <td>21</td>\n      <td>170480</td>\n      <td>NaN</td>\n      <td>NaN</td>\n      <td>NaN</td>\n      <td>NaN</td>\n      <td>NaN</td>\n      <td>NaN</td>\n      <td>48105</td>\n    </tr>\n    <tr>\n      <th>829</th>\n      <td>Caguas Municipio, Puerto Rico</td>\n      <td>72</td>\n      <td>25</td>\n      <td>124434</td>\n      <td>NaN</td>\n      <td>NaN</td>\n      <td>NaN</td>\n      <td>NaN</td>\n      <td>NaN</td>\n      <td>NaN</td>\n      <td>37810</td>\n    </tr>\n    <tr>\n      <th>830</th>\n      <td>Carolina Municipio, Puerto Rico</td>\n      <td>72</td>\n      <td>31</td>\n      <td>147661</td>\n      <td>NaN</td>\n      <td>NaN</td>\n      <td>NaN</td>\n      <td>NaN</td>\n      <td>NaN</td>\n      <td>NaN</td>\n      <td>47205</td>\n    </tr>\n    <tr>\n      <th>831</th>\n      <td>Guaynabo Municipio, Puerto Rico</td>\n      <td>72</td>\n      <td>61</td>\n      <td>83787</td>\n      <td>NaN</td>\n      <td>NaN</td>\n      <td>NaN</td>\n      <td>NaN</td>\n      <td>NaN</td>\n      <td>NaN</td>\n      <td>27890</td>\n    </tr>\n    <tr>\n      <th>832</th>\n      <td>Mayagüez Municipio, Puerto Rico</td>\n      <td>72</td>\n      <td>97</td>\n      <td>71986</td>\n      <td>NaN</td>\n      <td>NaN</td>\n      <td>NaN</td>\n      <td>NaN</td>\n      <td>NaN</td>\n      <td>NaN</td>\n      <td>14200</td>\n    </tr>\n    <tr>\n      <th>833</th>\n      <td>Ponce Municipio, Puerto Rico</td>\n      <td>72</td>\n      <td>113</td>\n      <td>133191</td>\n      <td>NaN</td>\n      <td>NaN</td>\n      <td>NaN</td>\n      <td>NaN</td>\n      <td>NaN</td>\n      <td>NaN</td>\n      <td>32475</td>\n    </tr>\n    <tr>\n      <th>834</th>\n      <td>San Juan Municipio, Puerto Rico</td>\n      <td>72</td>\n      <td>127</td>\n      <td>320967</td>\n      <td>NaN</td>\n      <td>NaN</td>\n      <td>NaN</td>\n      <td>NaN</td>\n      <td>NaN</td>\n      <td>NaN</td>\n      <td>94245</td>\n    </tr>\n    <tr>\n      <th>835</th>\n      <td>Toa Alta Municipio, Puerto Rico</td>\n      <td>72</td>\n      <td>135</td>\n      <td>71094</td>\n      <td>NaN</td>\n      <td>NaN</td>\n      <td>NaN</td>\n      <td>NaN</td>\n      <td>NaN</td>\n      <td>NaN</td>\n      <td>24755</td>\n    </tr>\n    <tr>\n      <th>836</th>\n      <td>Toa Baja Municipio, Puerto Rico</td>\n      <td>72</td>\n      <td>137</td>\n      <td>74623</td>\n      <td>NaN</td>\n      <td>NaN</td>\n      <td>NaN</td>\n      <td>NaN</td>\n      <td>NaN</td>\n      <td>NaN</td>\n      <td>23700</td>\n    </tr>\n    <tr>\n      <th>837</th>\n      <td>Trujillo Alto Municipio, Puerto Rico</td>\n      <td>72</td>\n      <td>139</td>\n      <td>63746</td>\n      <td>NaN</td>\n      <td>NaN</td>\n      <td>NaN</td>\n      <td>NaN</td>\n      <td>NaN</td>\n      <td>NaN</td>\n      <td>22530</td>\n    </tr>\n  </tbody>\n</table>\n</div>"
     },
     "execution_count": 88,
     "metadata": {},
     "output_type": "execute_result"
    }
   ],
   "source": [
    "educ_vehicle_2018.NAME.duplicated().sum()\n",
    "educ_vehicle_2018.isnull().sum()\n",
    "educ_vehicle_2018.loc[educ_vehicle_2018.isnull().any(axis=1)]"
   ],
   "metadata": {
    "collapsed": false,
    "pycharm": {
     "name": "#%%\n"
    }
   }
  },
  {
   "cell_type": "markdown",
   "source": [
    "* All Missing values are Puerto Rico counties similar to previous data sets\n",
    "* Census Bureau keeps Puerto Rico as separate data column for education\n",
    "* No duplicated data shown"
   ],
   "metadata": {
    "collapsed": false
   }
  },
  {
   "cell_type": "code",
   "execution_count": 89,
   "outputs": [
    {
     "data": {
      "text/plain": "                                     NAME  state  county     POP   EDU_TOT  \\\n0                 Baldwin County, Alabama      1       3  218022  155691.0   \n1                 Calhoun County, Alabama      1      15  114277   79172.0   \n2                 Cullman County, Alabama      1      43   83442   58319.0   \n3                  DeKalb County, Alabama      1      49   71385   48169.0   \n4                  Elmore County, Alabama      1      51   81887   56793.0   \n..                                    ...    ...     ...     ...       ...   \n833          Ponce Municipio, Puerto Rico     72     113  133191       NaN   \n834       San Juan Municipio, Puerto Rico     72     127  320967       NaN   \n835       Toa Alta Municipio, Puerto Rico     72     135   71094       NaN   \n836       Toa Baja Municipio, Puerto Rico     72     137   74623       NaN   \n837  Trujillo Alto Municipio, Puerto Rico     72     139   63746       NaN   \n\n     LESS_HS_TOT   HS_TOT  COL_OR_ASSOC_TOT  BACH_TOT  GRAD_TOT  VEHICLE_TOT  \\\n0        15282.0  44013.0           47573.0   32210.0   16613.0        87745   \n1        12121.0  25761.0           27039.0    7914.0    6337.0        42760   \n2        10228.0  18149.0           22883.0    4916.0    2143.0        33065   \n3        11681.0  14333.0           14995.0    3931.0    3229.0        26150   \n4         7490.0  18457.0           16505.0   10146.0    4195.0        31600   \n..           ...      ...               ...       ...       ...          ...   \n833          NaN      NaN               NaN       NaN       NaN        32475   \n834          NaN      NaN               NaN       NaN       NaN        94245   \n835          NaN      NaN               NaN       NaN       NaN        24755   \n836          NaN      NaN               NaN       NaN       NaN        23700   \n837          NaN      NaN               NaN       NaN       NaN        22530   \n\n     EDU_TOT_ratio  LESS_HS_TOT_ratio  HS_TOT_ratio  COL_OR_ASSOC_TOT_ratio  \\\n0        71.410683           7.009384     20.187412               21.820275   \n1        69.280783          10.606684     22.542594               23.660929   \n2        69.891661          12.257616     21.750437               27.423839   \n3        67.477761          16.363382     20.078448               21.005814   \n4        69.355331           9.146751     22.539597               20.155824   \n..             ...                ...           ...                     ...   \n833            NaN                NaN           NaN                     NaN   \n834            NaN                NaN           NaN                     NaN   \n835            NaN                NaN           NaN                     NaN   \n836            NaN                NaN           NaN                     NaN   \n837            NaN                NaN           NaN                     NaN   \n\n     BACH_TOT_ratio  GRAD_TOT_ratio  VEHICLE_TOT_ratio  \n0         14.773738        7.619873          40.245938  \n1          6.925278        5.545298          37.417853  \n2          5.891517        2.568251          39.626327  \n3          5.506759        4.523359          36.632346  \n4         12.390245        5.122913          38.589764  \n..              ...             ...                ...  \n833             NaN             NaN          24.382278  \n834             NaN             NaN          29.362832  \n835             NaN             NaN          34.820097  \n836             NaN             NaN          31.759645  \n837             NaN             NaN          35.343394  \n\n[838 rows x 18 columns]",
      "text/html": "<div>\n<style scoped>\n    .dataframe tbody tr th:only-of-type {\n        vertical-align: middle;\n    }\n\n    .dataframe tbody tr th {\n        vertical-align: top;\n    }\n\n    .dataframe thead th {\n        text-align: right;\n    }\n</style>\n<table border=\"1\" class=\"dataframe\">\n  <thead>\n    <tr style=\"text-align: right;\">\n      <th></th>\n      <th>NAME</th>\n      <th>state</th>\n      <th>county</th>\n      <th>POP</th>\n      <th>EDU_TOT</th>\n      <th>LESS_HS_TOT</th>\n      <th>HS_TOT</th>\n      <th>COL_OR_ASSOC_TOT</th>\n      <th>BACH_TOT</th>\n      <th>GRAD_TOT</th>\n      <th>VEHICLE_TOT</th>\n      <th>EDU_TOT_ratio</th>\n      <th>LESS_HS_TOT_ratio</th>\n      <th>HS_TOT_ratio</th>\n      <th>COL_OR_ASSOC_TOT_ratio</th>\n      <th>BACH_TOT_ratio</th>\n      <th>GRAD_TOT_ratio</th>\n      <th>VEHICLE_TOT_ratio</th>\n    </tr>\n  </thead>\n  <tbody>\n    <tr>\n      <th>0</th>\n      <td>Baldwin County, Alabama</td>\n      <td>1</td>\n      <td>3</td>\n      <td>218022</td>\n      <td>155691.0</td>\n      <td>15282.0</td>\n      <td>44013.0</td>\n      <td>47573.0</td>\n      <td>32210.0</td>\n      <td>16613.0</td>\n      <td>87745</td>\n      <td>71.410683</td>\n      <td>7.009384</td>\n      <td>20.187412</td>\n      <td>21.820275</td>\n      <td>14.773738</td>\n      <td>7.619873</td>\n      <td>40.245938</td>\n    </tr>\n    <tr>\n      <th>1</th>\n      <td>Calhoun County, Alabama</td>\n      <td>1</td>\n      <td>15</td>\n      <td>114277</td>\n      <td>79172.0</td>\n      <td>12121.0</td>\n      <td>25761.0</td>\n      <td>27039.0</td>\n      <td>7914.0</td>\n      <td>6337.0</td>\n      <td>42760</td>\n      <td>69.280783</td>\n      <td>10.606684</td>\n      <td>22.542594</td>\n      <td>23.660929</td>\n      <td>6.925278</td>\n      <td>5.545298</td>\n      <td>37.417853</td>\n    </tr>\n    <tr>\n      <th>2</th>\n      <td>Cullman County, Alabama</td>\n      <td>1</td>\n      <td>43</td>\n      <td>83442</td>\n      <td>58319.0</td>\n      <td>10228.0</td>\n      <td>18149.0</td>\n      <td>22883.0</td>\n      <td>4916.0</td>\n      <td>2143.0</td>\n      <td>33065</td>\n      <td>69.891661</td>\n      <td>12.257616</td>\n      <td>21.750437</td>\n      <td>27.423839</td>\n      <td>5.891517</td>\n      <td>2.568251</td>\n      <td>39.626327</td>\n    </tr>\n    <tr>\n      <th>3</th>\n      <td>DeKalb County, Alabama</td>\n      <td>1</td>\n      <td>49</td>\n      <td>71385</td>\n      <td>48169.0</td>\n      <td>11681.0</td>\n      <td>14333.0</td>\n      <td>14995.0</td>\n      <td>3931.0</td>\n      <td>3229.0</td>\n      <td>26150</td>\n      <td>67.477761</td>\n      <td>16.363382</td>\n      <td>20.078448</td>\n      <td>21.005814</td>\n      <td>5.506759</td>\n      <td>4.523359</td>\n      <td>36.632346</td>\n    </tr>\n    <tr>\n      <th>4</th>\n      <td>Elmore County, Alabama</td>\n      <td>1</td>\n      <td>51</td>\n      <td>81887</td>\n      <td>56793.0</td>\n      <td>7490.0</td>\n      <td>18457.0</td>\n      <td>16505.0</td>\n      <td>10146.0</td>\n      <td>4195.0</td>\n      <td>31600</td>\n      <td>69.355331</td>\n      <td>9.146751</td>\n      <td>22.539597</td>\n      <td>20.155824</td>\n      <td>12.390245</td>\n      <td>5.122913</td>\n      <td>38.589764</td>\n    </tr>\n    <tr>\n      <th>...</th>\n      <td>...</td>\n      <td>...</td>\n      <td>...</td>\n      <td>...</td>\n      <td>...</td>\n      <td>...</td>\n      <td>...</td>\n      <td>...</td>\n      <td>...</td>\n      <td>...</td>\n      <td>...</td>\n      <td>...</td>\n      <td>...</td>\n      <td>...</td>\n      <td>...</td>\n      <td>...</td>\n      <td>...</td>\n      <td>...</td>\n    </tr>\n    <tr>\n      <th>833</th>\n      <td>Ponce Municipio, Puerto Rico</td>\n      <td>72</td>\n      <td>113</td>\n      <td>133191</td>\n      <td>NaN</td>\n      <td>NaN</td>\n      <td>NaN</td>\n      <td>NaN</td>\n      <td>NaN</td>\n      <td>NaN</td>\n      <td>32475</td>\n      <td>NaN</td>\n      <td>NaN</td>\n      <td>NaN</td>\n      <td>NaN</td>\n      <td>NaN</td>\n      <td>NaN</td>\n      <td>24.382278</td>\n    </tr>\n    <tr>\n      <th>834</th>\n      <td>San Juan Municipio, Puerto Rico</td>\n      <td>72</td>\n      <td>127</td>\n      <td>320967</td>\n      <td>NaN</td>\n      <td>NaN</td>\n      <td>NaN</td>\n      <td>NaN</td>\n      <td>NaN</td>\n      <td>NaN</td>\n      <td>94245</td>\n      <td>NaN</td>\n      <td>NaN</td>\n      <td>NaN</td>\n      <td>NaN</td>\n      <td>NaN</td>\n      <td>NaN</td>\n      <td>29.362832</td>\n    </tr>\n    <tr>\n      <th>835</th>\n      <td>Toa Alta Municipio, Puerto Rico</td>\n      <td>72</td>\n      <td>135</td>\n      <td>71094</td>\n      <td>NaN</td>\n      <td>NaN</td>\n      <td>NaN</td>\n      <td>NaN</td>\n      <td>NaN</td>\n      <td>NaN</td>\n      <td>24755</td>\n      <td>NaN</td>\n      <td>NaN</td>\n      <td>NaN</td>\n      <td>NaN</td>\n      <td>NaN</td>\n      <td>NaN</td>\n      <td>34.820097</td>\n    </tr>\n    <tr>\n      <th>836</th>\n      <td>Toa Baja Municipio, Puerto Rico</td>\n      <td>72</td>\n      <td>137</td>\n      <td>74623</td>\n      <td>NaN</td>\n      <td>NaN</td>\n      <td>NaN</td>\n      <td>NaN</td>\n      <td>NaN</td>\n      <td>NaN</td>\n      <td>23700</td>\n      <td>NaN</td>\n      <td>NaN</td>\n      <td>NaN</td>\n      <td>NaN</td>\n      <td>NaN</td>\n      <td>NaN</td>\n      <td>31.759645</td>\n    </tr>\n    <tr>\n      <th>837</th>\n      <td>Trujillo Alto Municipio, Puerto Rico</td>\n      <td>72</td>\n      <td>139</td>\n      <td>63746</td>\n      <td>NaN</td>\n      <td>NaN</td>\n      <td>NaN</td>\n      <td>NaN</td>\n      <td>NaN</td>\n      <td>NaN</td>\n      <td>22530</td>\n      <td>NaN</td>\n      <td>NaN</td>\n      <td>NaN</td>\n      <td>NaN</td>\n      <td>NaN</td>\n      <td>NaN</td>\n      <td>35.343394</td>\n    </tr>\n  </tbody>\n</table>\n<p>838 rows × 18 columns</p>\n</div>"
     },
     "metadata": {},
     "output_type": "display_data"
    }
   ],
   "source": [
    "edu_vehicle_estimates = educ_vehicle_2018.columns.values[4:]\n",
    "# educ_vehicle_2017\n",
    "\n",
    "for est in edu_vehicle_estimates:\n",
    "    educ_vehicle_2018[est + '_ratio'] = educ_vehicle_2018[est] / educ_vehicle_2018['POP'] * 100\n",
    "\n",
    "# convert into ratios\n",
    "display(educ_vehicle_2018)"
   ],
   "metadata": {
    "collapsed": false,
    "pycharm": {
     "name": "#%%\n"
    }
   }
  },
  {
   "cell_type": "markdown",
   "source": [
    "* convert all estimates of education and vehicles of a county to a ratio of estimated total / population of county\n",
    "* retrieve ratio estimate to county population\n"
   ],
   "metadata": {
    "collapsed": false
   }
  },
  {
   "cell_type": "markdown",
   "source": [
    "# Repeat Steps for education and vehicle 2019 data"
   ],
   "metadata": {
    "collapsed": false
   }
  },
  {
   "cell_type": "code",
   "execution_count": 90,
   "outputs": [
    {
     "name": "stdout",
     "output_type": "stream",
     "text": [
      "<class 'pandas.core.frame.DataFrame'>\n",
      "RangeIndex: 840 entries, 0 to 839\n",
      "Data columns (total 13 columns):\n",
      " #   Column            Non-Null Count  Dtype  \n",
      "---  ------            --------------  -----  \n",
      " 0   Unnamed: 0        840 non-null    int64  \n",
      " 1   NAME              840 non-null    object \n",
      " 2   state             840 non-null    int64  \n",
      " 3   county            840 non-null    int64  \n",
      " 4   POP               840 non-null    int64  \n",
      " 5   EDU_TOT           827 non-null    float64\n",
      " 6   LESS_HS_TOT       827 non-null    float64\n",
      " 7   HS_TOT            827 non-null    float64\n",
      " 8   COL_OR_ASSOC_TOT  827 non-null    float64\n",
      " 9   BACH_TOT          827 non-null    float64\n",
      " 10  GRAD_TOT          827 non-null    float64\n",
      " 11  VEHICLE_TOT       840 non-null    int64  \n",
      " 12  WALK_TOT          226 non-null    float64\n",
      "dtypes: float64(7), int64(5), object(1)\n",
      "memory usage: 85.4+ KB\n"
     ]
    }
   ],
   "source": [
    "educ_vehicle_2019.shape\n",
    "educ_vehicle_2019.columns\n",
    "\n",
    "educ_vehicle_2019.info()"
   ],
   "metadata": {
    "collapsed": false,
    "pycharm": {
     "name": "#%%\n"
    }
   }
  },
  {
   "cell_type": "markdown",
   "source": [
    "* Have 837 rows and 12 columns\n",
    "* Category types are appropriate for numerical and nominal columns"
   ],
   "metadata": {
    "collapsed": false
   }
  },
  {
   "cell_type": "code",
   "execution_count": 91,
   "outputs": [],
   "source": [
    "educ_vehicle_2019['WALK_TOT'].unique()\n",
    "educ_vehicle_2019['WALK_TOT'].isnull().sum()\n",
    "\n",
    "educ_vehicle_2019.state.unique()\n",
    "cols_to_remove = ['Unnamed: 0', 'WALK_TOT']\n",
    "educ_vehicle_2019 = remove_col(educ_vehicle_2019, cols_to_remove)"
   ],
   "metadata": {
    "collapsed": false,
    "pycharm": {
     "name": "#%%\n"
    }
   }
  },
  {
   "cell_type": "markdown",
   "source": [
    "* drop first column as it is just an index column\n",
    "* drop total walk column as majority of data is missing\n",
    "* nb there is no fips state code for 4"
   ],
   "metadata": {
    "collapsed": false
   }
  },
  {
   "cell_type": "code",
   "execution_count": 92,
   "outputs": [
    {
     "data": {
      "text/plain": "                                     NAME  state  county     POP  EDU_TOT  \\\n291          St. Landry Parish, Louisiana     22      97   82124      NaN   \n559                Muskingum County, Ohio     39     119   86215      NaN   \n829        Arecibo Municipio, Puerto Rico     72      13   81966      NaN   \n830        Bayamón Municipio, Puerto Rico     72      21  169269      NaN   \n831         Caguas Municipio, Puerto Rico     72      25  124606      NaN   \n832       Carolina Municipio, Puerto Rico     72      31  146984      NaN   \n833       Guaynabo Municipio, Puerto Rico     72      61   83728      NaN   \n834       Mayagüez Municipio, Puerto Rico     72      97   71530      NaN   \n835          Ponce Municipio, Puerto Rico     72     113  131881      NaN   \n836       San Juan Municipio, Puerto Rico     72     127  318441      NaN   \n837       Toa Alta Municipio, Puerto Rico     72     135   72025      NaN   \n838       Toa Baja Municipio, Puerto Rico     72     137   74271      NaN   \n839  Trujillo Alto Municipio, Puerto Rico     72     139   63674      NaN   \n\n     LESS_HS_TOT  HS_TOT  COL_OR_ASSOC_TOT  BACH_TOT  GRAD_TOT  VEHICLE_TOT  \n291          NaN     NaN               NaN       NaN       NaN        27175  \n559          NaN     NaN               NaN       NaN       NaN        33710  \n829          NaN     NaN               NaN       NaN       NaN        20780  \n830          NaN     NaN               NaN       NaN       NaN        53730  \n831          NaN     NaN               NaN       NaN       NaN        39305  \n832          NaN     NaN               NaN       NaN       NaN        48385  \n833          NaN     NaN               NaN       NaN       NaN        30465  \n834          NaN     NaN               NaN       NaN       NaN        16695  \n835          NaN     NaN               NaN       NaN       NaN        31635  \n836          NaN     NaN               NaN       NaN       NaN        92055  \n837          NaN     NaN               NaN       NaN       NaN        24230  \n838          NaN     NaN               NaN       NaN       NaN        22900  \n839          NaN     NaN               NaN       NaN       NaN        25900  ",
      "text/html": "<div>\n<style scoped>\n    .dataframe tbody tr th:only-of-type {\n        vertical-align: middle;\n    }\n\n    .dataframe tbody tr th {\n        vertical-align: top;\n    }\n\n    .dataframe thead th {\n        text-align: right;\n    }\n</style>\n<table border=\"1\" class=\"dataframe\">\n  <thead>\n    <tr style=\"text-align: right;\">\n      <th></th>\n      <th>NAME</th>\n      <th>state</th>\n      <th>county</th>\n      <th>POP</th>\n      <th>EDU_TOT</th>\n      <th>LESS_HS_TOT</th>\n      <th>HS_TOT</th>\n      <th>COL_OR_ASSOC_TOT</th>\n      <th>BACH_TOT</th>\n      <th>GRAD_TOT</th>\n      <th>VEHICLE_TOT</th>\n    </tr>\n  </thead>\n  <tbody>\n    <tr>\n      <th>291</th>\n      <td>St. Landry Parish, Louisiana</td>\n      <td>22</td>\n      <td>97</td>\n      <td>82124</td>\n      <td>NaN</td>\n      <td>NaN</td>\n      <td>NaN</td>\n      <td>NaN</td>\n      <td>NaN</td>\n      <td>NaN</td>\n      <td>27175</td>\n    </tr>\n    <tr>\n      <th>559</th>\n      <td>Muskingum County, Ohio</td>\n      <td>39</td>\n      <td>119</td>\n      <td>86215</td>\n      <td>NaN</td>\n      <td>NaN</td>\n      <td>NaN</td>\n      <td>NaN</td>\n      <td>NaN</td>\n      <td>NaN</td>\n      <td>33710</td>\n    </tr>\n    <tr>\n      <th>829</th>\n      <td>Arecibo Municipio, Puerto Rico</td>\n      <td>72</td>\n      <td>13</td>\n      <td>81966</td>\n      <td>NaN</td>\n      <td>NaN</td>\n      <td>NaN</td>\n      <td>NaN</td>\n      <td>NaN</td>\n      <td>NaN</td>\n      <td>20780</td>\n    </tr>\n    <tr>\n      <th>830</th>\n      <td>Bayamón Municipio, Puerto Rico</td>\n      <td>72</td>\n      <td>21</td>\n      <td>169269</td>\n      <td>NaN</td>\n      <td>NaN</td>\n      <td>NaN</td>\n      <td>NaN</td>\n      <td>NaN</td>\n      <td>NaN</td>\n      <td>53730</td>\n    </tr>\n    <tr>\n      <th>831</th>\n      <td>Caguas Municipio, Puerto Rico</td>\n      <td>72</td>\n      <td>25</td>\n      <td>124606</td>\n      <td>NaN</td>\n      <td>NaN</td>\n      <td>NaN</td>\n      <td>NaN</td>\n      <td>NaN</td>\n      <td>NaN</td>\n      <td>39305</td>\n    </tr>\n    <tr>\n      <th>832</th>\n      <td>Carolina Municipio, Puerto Rico</td>\n      <td>72</td>\n      <td>31</td>\n      <td>146984</td>\n      <td>NaN</td>\n      <td>NaN</td>\n      <td>NaN</td>\n      <td>NaN</td>\n      <td>NaN</td>\n      <td>NaN</td>\n      <td>48385</td>\n    </tr>\n    <tr>\n      <th>833</th>\n      <td>Guaynabo Municipio, Puerto Rico</td>\n      <td>72</td>\n      <td>61</td>\n      <td>83728</td>\n      <td>NaN</td>\n      <td>NaN</td>\n      <td>NaN</td>\n      <td>NaN</td>\n      <td>NaN</td>\n      <td>NaN</td>\n      <td>30465</td>\n    </tr>\n    <tr>\n      <th>834</th>\n      <td>Mayagüez Municipio, Puerto Rico</td>\n      <td>72</td>\n      <td>97</td>\n      <td>71530</td>\n      <td>NaN</td>\n      <td>NaN</td>\n      <td>NaN</td>\n      <td>NaN</td>\n      <td>NaN</td>\n      <td>NaN</td>\n      <td>16695</td>\n    </tr>\n    <tr>\n      <th>835</th>\n      <td>Ponce Municipio, Puerto Rico</td>\n      <td>72</td>\n      <td>113</td>\n      <td>131881</td>\n      <td>NaN</td>\n      <td>NaN</td>\n      <td>NaN</td>\n      <td>NaN</td>\n      <td>NaN</td>\n      <td>NaN</td>\n      <td>31635</td>\n    </tr>\n    <tr>\n      <th>836</th>\n      <td>San Juan Municipio, Puerto Rico</td>\n      <td>72</td>\n      <td>127</td>\n      <td>318441</td>\n      <td>NaN</td>\n      <td>NaN</td>\n      <td>NaN</td>\n      <td>NaN</td>\n      <td>NaN</td>\n      <td>NaN</td>\n      <td>92055</td>\n    </tr>\n    <tr>\n      <th>837</th>\n      <td>Toa Alta Municipio, Puerto Rico</td>\n      <td>72</td>\n      <td>135</td>\n      <td>72025</td>\n      <td>NaN</td>\n      <td>NaN</td>\n      <td>NaN</td>\n      <td>NaN</td>\n      <td>NaN</td>\n      <td>NaN</td>\n      <td>24230</td>\n    </tr>\n    <tr>\n      <th>838</th>\n      <td>Toa Baja Municipio, Puerto Rico</td>\n      <td>72</td>\n      <td>137</td>\n      <td>74271</td>\n      <td>NaN</td>\n      <td>NaN</td>\n      <td>NaN</td>\n      <td>NaN</td>\n      <td>NaN</td>\n      <td>NaN</td>\n      <td>22900</td>\n    </tr>\n    <tr>\n      <th>839</th>\n      <td>Trujillo Alto Municipio, Puerto Rico</td>\n      <td>72</td>\n      <td>139</td>\n      <td>63674</td>\n      <td>NaN</td>\n      <td>NaN</td>\n      <td>NaN</td>\n      <td>NaN</td>\n      <td>NaN</td>\n      <td>NaN</td>\n      <td>25900</td>\n    </tr>\n  </tbody>\n</table>\n</div>"
     },
     "execution_count": 92,
     "metadata": {},
     "output_type": "execute_result"
    }
   ],
   "source": [
    "educ_vehicle_2019.NAME.duplicated().sum()\n",
    "educ_vehicle_2019.isnull().sum()\n",
    "educ_vehicle_2019.loc[educ_vehicle_2019.isnull().any(axis=1)]"
   ],
   "metadata": {
    "collapsed": false,
    "pycharm": {
     "name": "#%%\n"
    }
   }
  },
  {
   "cell_type": "markdown",
   "source": [
    "* All Missing values are Puerto Rico counties similar to previous data sets\n",
    "* Census Bureau keeps Puerto Rico as separate data column for education\n",
    "* No duplicated data shown"
   ],
   "metadata": {
    "collapsed": false
   }
  },
  {
   "cell_type": "code",
   "execution_count": 93,
   "outputs": [
    {
     "data": {
      "text/plain": "                                     NAME  state  county     POP   EDU_TOT  \\\n0                 Baldwin County, Alabama      1       3  223234  159717.0   \n1                 Calhoun County, Alabama      1      15  113605   79084.0   \n2                 Cullman County, Alabama      1      43   83768   58795.0   \n3                  DeKalb County, Alabama      1      49   71513   47007.0   \n4                  Elmore County, Alabama      1      51   81209   57553.0   \n..                                    ...    ...     ...     ...       ...   \n835          Ponce Municipio, Puerto Rico     72     113  131881       NaN   \n836       San Juan Municipio, Puerto Rico     72     127  318441       NaN   \n837       Toa Alta Municipio, Puerto Rico     72     135   72025       NaN   \n838       Toa Baja Municipio, Puerto Rico     72     137   74271       NaN   \n839  Trujillo Alto Municipio, Puerto Rico     72     139   63674       NaN   \n\n     LESS_HS_TOT   HS_TOT  COL_OR_ASSOC_TOT  BACH_TOT  GRAD_TOT  VEHICLE_TOT  \\\n0        15158.0  41884.0           51204.0   32781.0   18690.0        85170   \n1        12195.0  27277.0           24355.0    9082.0    6175.0        41330   \n2        11014.0  17924.0           20616.0    5935.0    3306.0        31840   \n3        10043.0  17881.0           13084.0    3693.0    2306.0        28065   \n4         5940.0  19992.0           17311.0    9418.0    4892.0        33005   \n..           ...      ...               ...       ...       ...          ...   \n835          NaN      NaN               NaN       NaN       NaN        31635   \n836          NaN      NaN               NaN       NaN       NaN        92055   \n837          NaN      NaN               NaN       NaN       NaN        24230   \n838          NaN      NaN               NaN       NaN       NaN        22900   \n839          NaN      NaN               NaN       NaN       NaN        25900   \n\n     EDU_TOT_ratio  LESS_HS_TOT_ratio  HS_TOT_ratio  COL_OR_ASSOC_TOT_ratio  \\\n0        71.546897           6.790184     18.762375               22.937366   \n1        69.613133          10.734563     24.010387               21.438317   \n2        70.187900          13.148219     21.397192               24.610830   \n3        65.732105          14.043600     25.003845               18.295974   \n4        70.870224           7.314460     24.617961               21.316603   \n..             ...                ...           ...                     ...   \n835            NaN                NaN           NaN                     NaN   \n836            NaN                NaN           NaN                     NaN   \n837            NaN                NaN           NaN                     NaN   \n838            NaN                NaN           NaN                     NaN   \n839            NaN                NaN           NaN                     NaN   \n\n     BACH_TOT_ratio  GRAD_TOT_ratio  VEHICLE_TOT_ratio  \n0         14.684591        8.372381          38.152790  \n1          7.994366        5.435500          36.380441  \n2          7.085044        3.946614          38.009741  \n3          5.164096        3.224589          39.244613  \n4         11.597237        6.023963          40.642047  \n..              ...             ...                ...  \n835             NaN             NaN          23.987534  \n836             NaN             NaN          28.908024  \n837             NaN             NaN          33.641097  \n838             NaN             NaN          30.833030  \n839             NaN             NaN          40.675943  \n\n[840 rows x 18 columns]",
      "text/html": "<div>\n<style scoped>\n    .dataframe tbody tr th:only-of-type {\n        vertical-align: middle;\n    }\n\n    .dataframe tbody tr th {\n        vertical-align: top;\n    }\n\n    .dataframe thead th {\n        text-align: right;\n    }\n</style>\n<table border=\"1\" class=\"dataframe\">\n  <thead>\n    <tr style=\"text-align: right;\">\n      <th></th>\n      <th>NAME</th>\n      <th>state</th>\n      <th>county</th>\n      <th>POP</th>\n      <th>EDU_TOT</th>\n      <th>LESS_HS_TOT</th>\n      <th>HS_TOT</th>\n      <th>COL_OR_ASSOC_TOT</th>\n      <th>BACH_TOT</th>\n      <th>GRAD_TOT</th>\n      <th>VEHICLE_TOT</th>\n      <th>EDU_TOT_ratio</th>\n      <th>LESS_HS_TOT_ratio</th>\n      <th>HS_TOT_ratio</th>\n      <th>COL_OR_ASSOC_TOT_ratio</th>\n      <th>BACH_TOT_ratio</th>\n      <th>GRAD_TOT_ratio</th>\n      <th>VEHICLE_TOT_ratio</th>\n    </tr>\n  </thead>\n  <tbody>\n    <tr>\n      <th>0</th>\n      <td>Baldwin County, Alabama</td>\n      <td>1</td>\n      <td>3</td>\n      <td>223234</td>\n      <td>159717.0</td>\n      <td>15158.0</td>\n      <td>41884.0</td>\n      <td>51204.0</td>\n      <td>32781.0</td>\n      <td>18690.0</td>\n      <td>85170</td>\n      <td>71.546897</td>\n      <td>6.790184</td>\n      <td>18.762375</td>\n      <td>22.937366</td>\n      <td>14.684591</td>\n      <td>8.372381</td>\n      <td>38.152790</td>\n    </tr>\n    <tr>\n      <th>1</th>\n      <td>Calhoun County, Alabama</td>\n      <td>1</td>\n      <td>15</td>\n      <td>113605</td>\n      <td>79084.0</td>\n      <td>12195.0</td>\n      <td>27277.0</td>\n      <td>24355.0</td>\n      <td>9082.0</td>\n      <td>6175.0</td>\n      <td>41330</td>\n      <td>69.613133</td>\n      <td>10.734563</td>\n      <td>24.010387</td>\n      <td>21.438317</td>\n      <td>7.994366</td>\n      <td>5.435500</td>\n      <td>36.380441</td>\n    </tr>\n    <tr>\n      <th>2</th>\n      <td>Cullman County, Alabama</td>\n      <td>1</td>\n      <td>43</td>\n      <td>83768</td>\n      <td>58795.0</td>\n      <td>11014.0</td>\n      <td>17924.0</td>\n      <td>20616.0</td>\n      <td>5935.0</td>\n      <td>3306.0</td>\n      <td>31840</td>\n      <td>70.187900</td>\n      <td>13.148219</td>\n      <td>21.397192</td>\n      <td>24.610830</td>\n      <td>7.085044</td>\n      <td>3.946614</td>\n      <td>38.009741</td>\n    </tr>\n    <tr>\n      <th>3</th>\n      <td>DeKalb County, Alabama</td>\n      <td>1</td>\n      <td>49</td>\n      <td>71513</td>\n      <td>47007.0</td>\n      <td>10043.0</td>\n      <td>17881.0</td>\n      <td>13084.0</td>\n      <td>3693.0</td>\n      <td>2306.0</td>\n      <td>28065</td>\n      <td>65.732105</td>\n      <td>14.043600</td>\n      <td>25.003845</td>\n      <td>18.295974</td>\n      <td>5.164096</td>\n      <td>3.224589</td>\n      <td>39.244613</td>\n    </tr>\n    <tr>\n      <th>4</th>\n      <td>Elmore County, Alabama</td>\n      <td>1</td>\n      <td>51</td>\n      <td>81209</td>\n      <td>57553.0</td>\n      <td>5940.0</td>\n      <td>19992.0</td>\n      <td>17311.0</td>\n      <td>9418.0</td>\n      <td>4892.0</td>\n      <td>33005</td>\n      <td>70.870224</td>\n      <td>7.314460</td>\n      <td>24.617961</td>\n      <td>21.316603</td>\n      <td>11.597237</td>\n      <td>6.023963</td>\n      <td>40.642047</td>\n    </tr>\n    <tr>\n      <th>...</th>\n      <td>...</td>\n      <td>...</td>\n      <td>...</td>\n      <td>...</td>\n      <td>...</td>\n      <td>...</td>\n      <td>...</td>\n      <td>...</td>\n      <td>...</td>\n      <td>...</td>\n      <td>...</td>\n      <td>...</td>\n      <td>...</td>\n      <td>...</td>\n      <td>...</td>\n      <td>...</td>\n      <td>...</td>\n      <td>...</td>\n    </tr>\n    <tr>\n      <th>835</th>\n      <td>Ponce Municipio, Puerto Rico</td>\n      <td>72</td>\n      <td>113</td>\n      <td>131881</td>\n      <td>NaN</td>\n      <td>NaN</td>\n      <td>NaN</td>\n      <td>NaN</td>\n      <td>NaN</td>\n      <td>NaN</td>\n      <td>31635</td>\n      <td>NaN</td>\n      <td>NaN</td>\n      <td>NaN</td>\n      <td>NaN</td>\n      <td>NaN</td>\n      <td>NaN</td>\n      <td>23.987534</td>\n    </tr>\n    <tr>\n      <th>836</th>\n      <td>San Juan Municipio, Puerto Rico</td>\n      <td>72</td>\n      <td>127</td>\n      <td>318441</td>\n      <td>NaN</td>\n      <td>NaN</td>\n      <td>NaN</td>\n      <td>NaN</td>\n      <td>NaN</td>\n      <td>NaN</td>\n      <td>92055</td>\n      <td>NaN</td>\n      <td>NaN</td>\n      <td>NaN</td>\n      <td>NaN</td>\n      <td>NaN</td>\n      <td>NaN</td>\n      <td>28.908024</td>\n    </tr>\n    <tr>\n      <th>837</th>\n      <td>Toa Alta Municipio, Puerto Rico</td>\n      <td>72</td>\n      <td>135</td>\n      <td>72025</td>\n      <td>NaN</td>\n      <td>NaN</td>\n      <td>NaN</td>\n      <td>NaN</td>\n      <td>NaN</td>\n      <td>NaN</td>\n      <td>24230</td>\n      <td>NaN</td>\n      <td>NaN</td>\n      <td>NaN</td>\n      <td>NaN</td>\n      <td>NaN</td>\n      <td>NaN</td>\n      <td>33.641097</td>\n    </tr>\n    <tr>\n      <th>838</th>\n      <td>Toa Baja Municipio, Puerto Rico</td>\n      <td>72</td>\n      <td>137</td>\n      <td>74271</td>\n      <td>NaN</td>\n      <td>NaN</td>\n      <td>NaN</td>\n      <td>NaN</td>\n      <td>NaN</td>\n      <td>NaN</td>\n      <td>22900</td>\n      <td>NaN</td>\n      <td>NaN</td>\n      <td>NaN</td>\n      <td>NaN</td>\n      <td>NaN</td>\n      <td>NaN</td>\n      <td>30.833030</td>\n    </tr>\n    <tr>\n      <th>839</th>\n      <td>Trujillo Alto Municipio, Puerto Rico</td>\n      <td>72</td>\n      <td>139</td>\n      <td>63674</td>\n      <td>NaN</td>\n      <td>NaN</td>\n      <td>NaN</td>\n      <td>NaN</td>\n      <td>NaN</td>\n      <td>NaN</td>\n      <td>25900</td>\n      <td>NaN</td>\n      <td>NaN</td>\n      <td>NaN</td>\n      <td>NaN</td>\n      <td>NaN</td>\n      <td>NaN</td>\n      <td>40.675943</td>\n    </tr>\n  </tbody>\n</table>\n<p>840 rows × 18 columns</p>\n</div>"
     },
     "metadata": {},
     "output_type": "display_data"
    }
   ],
   "source": [
    "edu_vehicle_estimates = educ_vehicle_2019.columns.values[4:]\n",
    "# educ_vehicle_2017\n",
    "\n",
    "for est in edu_vehicle_estimates:\n",
    "    educ_vehicle_2019[est + '_ratio'] = educ_vehicle_2019[est] / educ_vehicle_2019['POP'] * 100\n",
    "\n",
    "# convert into ratios\n",
    "display(educ_vehicle_2019)"
   ],
   "metadata": {
    "collapsed": false,
    "pycharm": {
     "name": "#%%\n"
    }
   }
  },
  {
   "cell_type": "markdown",
   "source": [
    "* convert all estimates of education and vehicles of a county to a ratio of estimated total / population of county\n",
    "* retrieve ratio estimate to county population\n",
    "\n",
    "## Retrieve NE demographic data"
   ],
   "metadata": {
    "collapsed": false
   }
  },
  {
   "cell_type": "code",
   "execution_count": 94,
   "outputs": [
    {
     "data": {
      "text/plain": "        SUMLEV  STATE  COUNTY       STNAME           CTYNAME  YEAR  AGEGRP  \\\n70395       50      9       1  Connecticut  Fairfield County    10       0   \n70414       50      9       1  Connecticut  Fairfield County    11       0   \n70433       50      9       1  Connecticut  Fairfield County    12       0   \n70623       50      9       3  Connecticut   Hartford County    10       0   \n70642       50      9       3  Connecticut   Hartford County    11       0   \n...        ...    ...     ...          ...               ...   ...     ...   \n642694      50     50      25      Vermont    Windham County    11       0   \n642713      50     50      25      Vermont    Windham County    12       0   \n642903      50     50      27      Vermont    Windsor County    10       0   \n642922      50     50      27      Vermont    Windsor County    11       0   \n642941      50     50      27      Vermont    Windsor County    12       0   \n\n        TOT_POP  TOT_MALE  TOT_FEMALE  ...  HWAC_MALE  HWAC_FEMALE  HBAC_MALE  \\\n70395    943038    459242      483796  ...      82722        80901       9880   \n70414    943971    459794      484177  ...      84420        82945      10250   \n70433    943332    459410      483922  ...      85628        84584      10644   \n70623    893076    433833      459243  ...      65718        68349      12455   \n70642    892580    433437      459143  ...      67247        70124      12699   \n...         ...       ...         ...  ...        ...          ...        ...   \n642694    42635     20888       21747  ...        499          430         51   \n642713    42222     20663       21559  ...        491          433         50   \n642903    55224     26961       28263  ...        420          418         39   \n642922    55204     26986       28218  ...        467          431         42   \n642941    55062     26962       28100  ...        478          454         49   \n\n        HBAC_FEMALE  HIAC_MALE  HIAC_FEMALE  HAAC_MALE  HAAC_FEMALE  \\\n70395         10463       2811         2488       1073          888   \n70414         10816       2898         2645       1119          934   \n70433         11169       3010         2699       1130          940   \n70623         13855       2621         2676       1148         1083   \n70642         14250       2688         2792       1182         1084   \n...             ...        ...          ...        ...          ...   \n642694           63         34           29         11           10   \n642713           62         31           28         14           12   \n642903           37         28           32         15           14   \n642922           34         30           33         13           10   \n642941           40         32           32         11           12   \n\n        HNAC_MALE  HNAC_FEMALE  \n70395         724          527  \n70414         712          562  \n70433         728          563  \n70623         611          452  \n70642         632          463  \n...           ...          ...  \n642694          8            2  \n642713          5            2  \n642903          3            3  \n642922          5            2  \n642941          5            2  \n\n[735 rows x 80 columns]",
      "text/html": "<div>\n<style scoped>\n    .dataframe tbody tr th:only-of-type {\n        vertical-align: middle;\n    }\n\n    .dataframe tbody tr th {\n        vertical-align: top;\n    }\n\n    .dataframe thead th {\n        text-align: right;\n    }\n</style>\n<table border=\"1\" class=\"dataframe\">\n  <thead>\n    <tr style=\"text-align: right;\">\n      <th></th>\n      <th>SUMLEV</th>\n      <th>STATE</th>\n      <th>COUNTY</th>\n      <th>STNAME</th>\n      <th>CTYNAME</th>\n      <th>YEAR</th>\n      <th>AGEGRP</th>\n      <th>TOT_POP</th>\n      <th>TOT_MALE</th>\n      <th>TOT_FEMALE</th>\n      <th>...</th>\n      <th>HWAC_MALE</th>\n      <th>HWAC_FEMALE</th>\n      <th>HBAC_MALE</th>\n      <th>HBAC_FEMALE</th>\n      <th>HIAC_MALE</th>\n      <th>HIAC_FEMALE</th>\n      <th>HAAC_MALE</th>\n      <th>HAAC_FEMALE</th>\n      <th>HNAC_MALE</th>\n      <th>HNAC_FEMALE</th>\n    </tr>\n  </thead>\n  <tbody>\n    <tr>\n      <th>70395</th>\n      <td>50</td>\n      <td>9</td>\n      <td>1</td>\n      <td>Connecticut</td>\n      <td>Fairfield County</td>\n      <td>10</td>\n      <td>0</td>\n      <td>943038</td>\n      <td>459242</td>\n      <td>483796</td>\n      <td>...</td>\n      <td>82722</td>\n      <td>80901</td>\n      <td>9880</td>\n      <td>10463</td>\n      <td>2811</td>\n      <td>2488</td>\n      <td>1073</td>\n      <td>888</td>\n      <td>724</td>\n      <td>527</td>\n    </tr>\n    <tr>\n      <th>70414</th>\n      <td>50</td>\n      <td>9</td>\n      <td>1</td>\n      <td>Connecticut</td>\n      <td>Fairfield County</td>\n      <td>11</td>\n      <td>0</td>\n      <td>943971</td>\n      <td>459794</td>\n      <td>484177</td>\n      <td>...</td>\n      <td>84420</td>\n      <td>82945</td>\n      <td>10250</td>\n      <td>10816</td>\n      <td>2898</td>\n      <td>2645</td>\n      <td>1119</td>\n      <td>934</td>\n      <td>712</td>\n      <td>562</td>\n    </tr>\n    <tr>\n      <th>70433</th>\n      <td>50</td>\n      <td>9</td>\n      <td>1</td>\n      <td>Connecticut</td>\n      <td>Fairfield County</td>\n      <td>12</td>\n      <td>0</td>\n      <td>943332</td>\n      <td>459410</td>\n      <td>483922</td>\n      <td>...</td>\n      <td>85628</td>\n      <td>84584</td>\n      <td>10644</td>\n      <td>11169</td>\n      <td>3010</td>\n      <td>2699</td>\n      <td>1130</td>\n      <td>940</td>\n      <td>728</td>\n      <td>563</td>\n    </tr>\n    <tr>\n      <th>70623</th>\n      <td>50</td>\n      <td>9</td>\n      <td>3</td>\n      <td>Connecticut</td>\n      <td>Hartford County</td>\n      <td>10</td>\n      <td>0</td>\n      <td>893076</td>\n      <td>433833</td>\n      <td>459243</td>\n      <td>...</td>\n      <td>65718</td>\n      <td>68349</td>\n      <td>12455</td>\n      <td>13855</td>\n      <td>2621</td>\n      <td>2676</td>\n      <td>1148</td>\n      <td>1083</td>\n      <td>611</td>\n      <td>452</td>\n    </tr>\n    <tr>\n      <th>70642</th>\n      <td>50</td>\n      <td>9</td>\n      <td>3</td>\n      <td>Connecticut</td>\n      <td>Hartford County</td>\n      <td>11</td>\n      <td>0</td>\n      <td>892580</td>\n      <td>433437</td>\n      <td>459143</td>\n      <td>...</td>\n      <td>67247</td>\n      <td>70124</td>\n      <td>12699</td>\n      <td>14250</td>\n      <td>2688</td>\n      <td>2792</td>\n      <td>1182</td>\n      <td>1084</td>\n      <td>632</td>\n      <td>463</td>\n    </tr>\n    <tr>\n      <th>...</th>\n      <td>...</td>\n      <td>...</td>\n      <td>...</td>\n      <td>...</td>\n      <td>...</td>\n      <td>...</td>\n      <td>...</td>\n      <td>...</td>\n      <td>...</td>\n      <td>...</td>\n      <td>...</td>\n      <td>...</td>\n      <td>...</td>\n      <td>...</td>\n      <td>...</td>\n      <td>...</td>\n      <td>...</td>\n      <td>...</td>\n      <td>...</td>\n      <td>...</td>\n      <td>...</td>\n    </tr>\n    <tr>\n      <th>642694</th>\n      <td>50</td>\n      <td>50</td>\n      <td>25</td>\n      <td>Vermont</td>\n      <td>Windham County</td>\n      <td>11</td>\n      <td>0</td>\n      <td>42635</td>\n      <td>20888</td>\n      <td>21747</td>\n      <td>...</td>\n      <td>499</td>\n      <td>430</td>\n      <td>51</td>\n      <td>63</td>\n      <td>34</td>\n      <td>29</td>\n      <td>11</td>\n      <td>10</td>\n      <td>8</td>\n      <td>2</td>\n    </tr>\n    <tr>\n      <th>642713</th>\n      <td>50</td>\n      <td>50</td>\n      <td>25</td>\n      <td>Vermont</td>\n      <td>Windham County</td>\n      <td>12</td>\n      <td>0</td>\n      <td>42222</td>\n      <td>20663</td>\n      <td>21559</td>\n      <td>...</td>\n      <td>491</td>\n      <td>433</td>\n      <td>50</td>\n      <td>62</td>\n      <td>31</td>\n      <td>28</td>\n      <td>14</td>\n      <td>12</td>\n      <td>5</td>\n      <td>2</td>\n    </tr>\n    <tr>\n      <th>642903</th>\n      <td>50</td>\n      <td>50</td>\n      <td>27</td>\n      <td>Vermont</td>\n      <td>Windsor County</td>\n      <td>10</td>\n      <td>0</td>\n      <td>55224</td>\n      <td>26961</td>\n      <td>28263</td>\n      <td>...</td>\n      <td>420</td>\n      <td>418</td>\n      <td>39</td>\n      <td>37</td>\n      <td>28</td>\n      <td>32</td>\n      <td>15</td>\n      <td>14</td>\n      <td>3</td>\n      <td>3</td>\n    </tr>\n    <tr>\n      <th>642922</th>\n      <td>50</td>\n      <td>50</td>\n      <td>27</td>\n      <td>Vermont</td>\n      <td>Windsor County</td>\n      <td>11</td>\n      <td>0</td>\n      <td>55204</td>\n      <td>26986</td>\n      <td>28218</td>\n      <td>...</td>\n      <td>467</td>\n      <td>431</td>\n      <td>42</td>\n      <td>34</td>\n      <td>30</td>\n      <td>33</td>\n      <td>13</td>\n      <td>10</td>\n      <td>5</td>\n      <td>2</td>\n    </tr>\n    <tr>\n      <th>642941</th>\n      <td>50</td>\n      <td>50</td>\n      <td>27</td>\n      <td>Vermont</td>\n      <td>Windsor County</td>\n      <td>12</td>\n      <td>0</td>\n      <td>55062</td>\n      <td>26962</td>\n      <td>28100</td>\n      <td>...</td>\n      <td>478</td>\n      <td>454</td>\n      <td>49</td>\n      <td>40</td>\n      <td>32</td>\n      <td>32</td>\n      <td>11</td>\n      <td>12</td>\n      <td>5</td>\n      <td>2</td>\n    </tr>\n  </tbody>\n</table>\n<p>735 rows × 80 columns</p>\n</div>"
     },
     "execution_count": 94,
     "metadata": {},
     "output_type": "execute_result"
    }
   ],
   "source": [
    "NE_counties = get_NE_States(county_demographic, 'STATE')\n",
    "NE_dems = county_demographic.loc[NE_counties]\n",
    "\n",
    "NE_dems = NE_dems.loc[NE_dems.YEAR > 9]\n",
    "# keep only totals of dem; disregard ages\n",
    "NE_dems = NE_dems.loc[NE_dems.AGEGRP == 0]\n",
    "NE_dems"
   ],
   "metadata": {
    "collapsed": false,
    "pycharm": {
     "name": "#%%\n"
    }
   }
  },
  {
   "cell_type": "markdown",
   "source": [
    "* NE_dems contains all county demographic data for North Eastern US\n",
    "* Only 2017-2019 data is retained\n",
    "* All age groups are considered for ethnicities"
   ],
   "metadata": {
    "collapsed": false
   }
  },
  {
   "cell_type": "code",
   "execution_count": 95,
   "outputs": [
    {
     "data": {
      "text/plain": "        SUMLEV  STATE  COUNTY       STNAME           CTYNAME  YEAR  AGEGRP  \\\n70395       50      9       1  Connecticut  Fairfield County    10       0   \n70414       50      9       1  Connecticut  Fairfield County    11       0   \n70433       50      9       1  Connecticut  Fairfield County    12       0   \n70623       50      9       3  Connecticut   Hartford County    10       0   \n70642       50      9       3  Connecticut   Hartford County    11       0   \n...        ...    ...     ...          ...               ...   ...     ...   \n642694      50     50      25      Vermont    Windham County    11       0   \n642713      50     50      25      Vermont    Windham County    12       0   \n642903      50     50      27      Vermont    Windsor County    10       0   \n642922      50     50      27      Vermont    Windsor County    11       0   \n642941      50     50      27      Vermont    Windsor County    12       0   \n\n        TOT_POP  TOT_MALE  TOT_FEMALE  ...  HWAC_MALE_ratio  \\\n70395    943038    459242      483796  ...         8.771863   \n70414    943971    459794      484177  ...         8.943071   \n70433    943332    459410      483922  ...         9.077186   \n70623    893076    433833      459243  ...         7.358612   \n70642    892580    433437      459143  ...         7.534003   \n...         ...       ...         ...  ...              ...   \n642694    42635     20888       21747  ...         1.170400   \n642713    42222     20663       21559  ...         1.162901   \n642903    55224     26961       28263  ...         0.760539   \n642922    55204     26986       28218  ...         0.845953   \n642941    55062     26962       28100  ...         0.868112   \n\n        HWAC_FEMALE_ratio  HBAC_MALE_ratio  HBAC_FEMALE_ratio  \\\n70395            8.578764         1.047678           1.109499   \n70414            8.786817         1.085838           1.145798   \n70433            8.966514         1.128341           1.183995   \n70623            7.653212         1.394618           1.551380   \n70642            7.856327         1.422730           1.596496   \n...                   ...              ...                ...   \n642694           1.008561         0.119620           0.147766   \n642713           1.025532         0.118422           0.146843   \n642903           0.756917         0.070621           0.067000   \n642922           0.780741         0.076081           0.061590   \n642941           0.824525         0.088991           0.072645   \n\n        HIAC_MALE_ratio  HIAC_FEMALE_ratio  HAAC_MALE_ratio  \\\n70395          0.298079           0.263828         0.113781   \n70414          0.307001           0.280199         0.118542   \n70433          0.319082           0.286113         0.119788   \n70623          0.293480           0.299639         0.128544   \n70642          0.301149           0.312801         0.132425   \n...                 ...                ...              ...   \n642694         0.079747           0.068019         0.025800   \n642713         0.073421           0.066316         0.033158   \n642903         0.050703           0.057946         0.027162   \n642922         0.054344           0.059778         0.023549   \n642941         0.058116           0.058116         0.019977   \n\n        HAAC_FEMALE_ratio  HNAC_MALE_ratio  HNAC_FEMALE_ratio  \n70395            0.094164         0.076773           0.055883  \n70414            0.098944         0.075426           0.059536  \n70433            0.099647         0.077173           0.059682  \n70623            0.121266         0.068415           0.050612  \n70642            0.121446         0.070806           0.051872  \n...                   ...              ...                ...  \n642694           0.023455         0.018764           0.004691  \n642713           0.028421         0.011842           0.004737  \n642903           0.025351         0.005432           0.005432  \n642922           0.018115         0.009057           0.003623  \n642941           0.021794         0.009081           0.003632  \n\n[735 rows x 152 columns]",
      "text/html": "<div>\n<style scoped>\n    .dataframe tbody tr th:only-of-type {\n        vertical-align: middle;\n    }\n\n    .dataframe tbody tr th {\n        vertical-align: top;\n    }\n\n    .dataframe thead th {\n        text-align: right;\n    }\n</style>\n<table border=\"1\" class=\"dataframe\">\n  <thead>\n    <tr style=\"text-align: right;\">\n      <th></th>\n      <th>SUMLEV</th>\n      <th>STATE</th>\n      <th>COUNTY</th>\n      <th>STNAME</th>\n      <th>CTYNAME</th>\n      <th>YEAR</th>\n      <th>AGEGRP</th>\n      <th>TOT_POP</th>\n      <th>TOT_MALE</th>\n      <th>TOT_FEMALE</th>\n      <th>...</th>\n      <th>HWAC_MALE_ratio</th>\n      <th>HWAC_FEMALE_ratio</th>\n      <th>HBAC_MALE_ratio</th>\n      <th>HBAC_FEMALE_ratio</th>\n      <th>HIAC_MALE_ratio</th>\n      <th>HIAC_FEMALE_ratio</th>\n      <th>HAAC_MALE_ratio</th>\n      <th>HAAC_FEMALE_ratio</th>\n      <th>HNAC_MALE_ratio</th>\n      <th>HNAC_FEMALE_ratio</th>\n    </tr>\n  </thead>\n  <tbody>\n    <tr>\n      <th>70395</th>\n      <td>50</td>\n      <td>9</td>\n      <td>1</td>\n      <td>Connecticut</td>\n      <td>Fairfield County</td>\n      <td>10</td>\n      <td>0</td>\n      <td>943038</td>\n      <td>459242</td>\n      <td>483796</td>\n      <td>...</td>\n      <td>8.771863</td>\n      <td>8.578764</td>\n      <td>1.047678</td>\n      <td>1.109499</td>\n      <td>0.298079</td>\n      <td>0.263828</td>\n      <td>0.113781</td>\n      <td>0.094164</td>\n      <td>0.076773</td>\n      <td>0.055883</td>\n    </tr>\n    <tr>\n      <th>70414</th>\n      <td>50</td>\n      <td>9</td>\n      <td>1</td>\n      <td>Connecticut</td>\n      <td>Fairfield County</td>\n      <td>11</td>\n      <td>0</td>\n      <td>943971</td>\n      <td>459794</td>\n      <td>484177</td>\n      <td>...</td>\n      <td>8.943071</td>\n      <td>8.786817</td>\n      <td>1.085838</td>\n      <td>1.145798</td>\n      <td>0.307001</td>\n      <td>0.280199</td>\n      <td>0.118542</td>\n      <td>0.098944</td>\n      <td>0.075426</td>\n      <td>0.059536</td>\n    </tr>\n    <tr>\n      <th>70433</th>\n      <td>50</td>\n      <td>9</td>\n      <td>1</td>\n      <td>Connecticut</td>\n      <td>Fairfield County</td>\n      <td>12</td>\n      <td>0</td>\n      <td>943332</td>\n      <td>459410</td>\n      <td>483922</td>\n      <td>...</td>\n      <td>9.077186</td>\n      <td>8.966514</td>\n      <td>1.128341</td>\n      <td>1.183995</td>\n      <td>0.319082</td>\n      <td>0.286113</td>\n      <td>0.119788</td>\n      <td>0.099647</td>\n      <td>0.077173</td>\n      <td>0.059682</td>\n    </tr>\n    <tr>\n      <th>70623</th>\n      <td>50</td>\n      <td>9</td>\n      <td>3</td>\n      <td>Connecticut</td>\n      <td>Hartford County</td>\n      <td>10</td>\n      <td>0</td>\n      <td>893076</td>\n      <td>433833</td>\n      <td>459243</td>\n      <td>...</td>\n      <td>7.358612</td>\n      <td>7.653212</td>\n      <td>1.394618</td>\n      <td>1.551380</td>\n      <td>0.293480</td>\n      <td>0.299639</td>\n      <td>0.128544</td>\n      <td>0.121266</td>\n      <td>0.068415</td>\n      <td>0.050612</td>\n    </tr>\n    <tr>\n      <th>70642</th>\n      <td>50</td>\n      <td>9</td>\n      <td>3</td>\n      <td>Connecticut</td>\n      <td>Hartford County</td>\n      <td>11</td>\n      <td>0</td>\n      <td>892580</td>\n      <td>433437</td>\n      <td>459143</td>\n      <td>...</td>\n      <td>7.534003</td>\n      <td>7.856327</td>\n      <td>1.422730</td>\n      <td>1.596496</td>\n      <td>0.301149</td>\n      <td>0.312801</td>\n      <td>0.132425</td>\n      <td>0.121446</td>\n      <td>0.070806</td>\n      <td>0.051872</td>\n    </tr>\n    <tr>\n      <th>...</th>\n      <td>...</td>\n      <td>...</td>\n      <td>...</td>\n      <td>...</td>\n      <td>...</td>\n      <td>...</td>\n      <td>...</td>\n      <td>...</td>\n      <td>...</td>\n      <td>...</td>\n      <td>...</td>\n      <td>...</td>\n      <td>...</td>\n      <td>...</td>\n      <td>...</td>\n      <td>...</td>\n      <td>...</td>\n      <td>...</td>\n      <td>...</td>\n      <td>...</td>\n      <td>...</td>\n    </tr>\n    <tr>\n      <th>642694</th>\n      <td>50</td>\n      <td>50</td>\n      <td>25</td>\n      <td>Vermont</td>\n      <td>Windham County</td>\n      <td>11</td>\n      <td>0</td>\n      <td>42635</td>\n      <td>20888</td>\n      <td>21747</td>\n      <td>...</td>\n      <td>1.170400</td>\n      <td>1.008561</td>\n      <td>0.119620</td>\n      <td>0.147766</td>\n      <td>0.079747</td>\n      <td>0.068019</td>\n      <td>0.025800</td>\n      <td>0.023455</td>\n      <td>0.018764</td>\n      <td>0.004691</td>\n    </tr>\n    <tr>\n      <th>642713</th>\n      <td>50</td>\n      <td>50</td>\n      <td>25</td>\n      <td>Vermont</td>\n      <td>Windham County</td>\n      <td>12</td>\n      <td>0</td>\n      <td>42222</td>\n      <td>20663</td>\n      <td>21559</td>\n      <td>...</td>\n      <td>1.162901</td>\n      <td>1.025532</td>\n      <td>0.118422</td>\n      <td>0.146843</td>\n      <td>0.073421</td>\n      <td>0.066316</td>\n      <td>0.033158</td>\n      <td>0.028421</td>\n      <td>0.011842</td>\n      <td>0.004737</td>\n    </tr>\n    <tr>\n      <th>642903</th>\n      <td>50</td>\n      <td>50</td>\n      <td>27</td>\n      <td>Vermont</td>\n      <td>Windsor County</td>\n      <td>10</td>\n      <td>0</td>\n      <td>55224</td>\n      <td>26961</td>\n      <td>28263</td>\n      <td>...</td>\n      <td>0.760539</td>\n      <td>0.756917</td>\n      <td>0.070621</td>\n      <td>0.067000</td>\n      <td>0.050703</td>\n      <td>0.057946</td>\n      <td>0.027162</td>\n      <td>0.025351</td>\n      <td>0.005432</td>\n      <td>0.005432</td>\n    </tr>\n    <tr>\n      <th>642922</th>\n      <td>50</td>\n      <td>50</td>\n      <td>27</td>\n      <td>Vermont</td>\n      <td>Windsor County</td>\n      <td>11</td>\n      <td>0</td>\n      <td>55204</td>\n      <td>26986</td>\n      <td>28218</td>\n      <td>...</td>\n      <td>0.845953</td>\n      <td>0.780741</td>\n      <td>0.076081</td>\n      <td>0.061590</td>\n      <td>0.054344</td>\n      <td>0.059778</td>\n      <td>0.023549</td>\n      <td>0.018115</td>\n      <td>0.009057</td>\n      <td>0.003623</td>\n    </tr>\n    <tr>\n      <th>642941</th>\n      <td>50</td>\n      <td>50</td>\n      <td>27</td>\n      <td>Vermont</td>\n      <td>Windsor County</td>\n      <td>12</td>\n      <td>0</td>\n      <td>55062</td>\n      <td>26962</td>\n      <td>28100</td>\n      <td>...</td>\n      <td>0.868112</td>\n      <td>0.824525</td>\n      <td>0.088991</td>\n      <td>0.072645</td>\n      <td>0.058116</td>\n      <td>0.058116</td>\n      <td>0.019977</td>\n      <td>0.021794</td>\n      <td>0.009081</td>\n      <td>0.003632</td>\n    </tr>\n  </tbody>\n</table>\n<p>735 rows × 152 columns</p>\n</div>"
     },
     "metadata": {},
     "output_type": "display_data"
    }
   ],
   "source": [
    "demographic = NE_dems.columns.values[8:]\n",
    "NE_dem_ratio = NE_dems\n",
    "\n",
    "for dem in demographic:\n",
    "    NE_dem_ratio[dem + '_ratio'] = NE_dems[dem] / NE_dems['TOT_POP'] * 100\n",
    "    # NE_dem_ratio.rename(columns={dem:dem + '_ratio'}, inplace=True)\n",
    "\n",
    "display(NE_dem_ratio)"
   ],
   "metadata": {
    "collapsed": false,
    "pycharm": {
     "name": "#%%\n"
    }
   }
  },
  {
   "cell_type": "markdown",
   "source": [
    "* Columns of demographic ratios are produced\n",
    "* Ratios are demographic / county population\n"
   ],
   "metadata": {
    "collapsed": false
   }
  },
  {
   "cell_type": "code",
   "execution_count": 96,
   "outputs": [],
   "source": [
    "NE_dem_ratio = get_df_with_geofips(NE_dem_ratio, 'STATE', 'COUNTY')"
   ],
   "metadata": {
    "collapsed": false,
    "pycharm": {
     "name": "#%%\n"
    }
   }
  },
  {
   "cell_type": "code",
   "execution_count": 97,
   "outputs": [
    {
     "data": {
      "text/plain": "       GeoFIPS       STNAME           CTYNAME  YEAR  TOT_POP  TOT_MALE  \\\n70395    09001  Connecticut  Fairfield County    10   943038    459242   \n70414    09001  Connecticut  Fairfield County    11   943971    459794   \n70433    09001  Connecticut  Fairfield County    12   943332    459410   \n70623    09003  Connecticut   Hartford County    10   893076    433833   \n70642    09003  Connecticut   Hartford County    11   892580    433437   \n...        ...          ...               ...   ...      ...       ...   \n642694   50025      Vermont    Windham County    11    42635     20888   \n642713   50025      Vermont    Windham County    12    42222     20663   \n642903   50027      Vermont    Windsor County    10    55224     26961   \n642922   50027      Vermont    Windsor County    11    55204     26986   \n642941   50027      Vermont    Windsor County    12    55062     26962   \n\n        TOT_FEMALE  WA_MALE  WA_FEMALE  BA_MALE  ...  HWAC_MALE_ratio  \\\n70395       483796   366178     379174    54885  ...         8.771863   \n70414       484177   365198     378062    55522  ...         8.943071   \n70433       483922   363173     376006    56464  ...         9.077186   \n70623       459243   327876     347484    66613  ...         7.358612   \n70642       459143   325963     345490    66792  ...         7.534003   \n...            ...      ...        ...      ...  ...              ...   \n642694       21747    19801      20614      377  ...         1.170400   \n642713       21559    19564      20421      395  ...         1.162901   \n642903       28263    25896      27192      279  ...         0.760539   \n642922       28218    25881      27149      286  ...         0.845953   \n642941       28100    25810      26990      323  ...         0.868112   \n\n        HWAC_FEMALE_ratio  HBAC_MALE_ratio  HBAC_FEMALE_ratio  \\\n70395            8.578764         1.047678           1.109499   \n70414            8.786817         1.085838           1.145798   \n70433            8.966514         1.128341           1.183995   \n70623            7.653212         1.394618           1.551380   \n70642            7.856327         1.422730           1.596496   \n...                   ...              ...                ...   \n642694           1.008561         0.119620           0.147766   \n642713           1.025532         0.118422           0.146843   \n642903           0.756917         0.070621           0.067000   \n642922           0.780741         0.076081           0.061590   \n642941           0.824525         0.088991           0.072645   \n\n        HIAC_MALE_ratio  HIAC_FEMALE_ratio  HAAC_MALE_ratio  \\\n70395          0.298079           0.263828         0.113781   \n70414          0.307001           0.280199         0.118542   \n70433          0.319082           0.286113         0.119788   \n70623          0.293480           0.299639         0.128544   \n70642          0.301149           0.312801         0.132425   \n...                 ...                ...              ...   \n642694         0.079747           0.068019         0.025800   \n642713         0.073421           0.066316         0.033158   \n642903         0.050703           0.057946         0.027162   \n642922         0.054344           0.059778         0.023549   \n642941         0.058116           0.058116         0.019977   \n\n        HAAC_FEMALE_ratio  HNAC_MALE_ratio  HNAC_FEMALE_ratio  \n70395            0.094164         0.076773           0.055883  \n70414            0.098944         0.075426           0.059536  \n70433            0.099647         0.077173           0.059682  \n70623            0.121266         0.068415           0.050612  \n70642            0.121446         0.070806           0.051872  \n...                   ...              ...                ...  \n642694           0.023455         0.018764           0.004691  \n642713           0.028421         0.011842           0.004737  \n642903           0.025351         0.005432           0.005432  \n642922           0.018115         0.009057           0.003623  \n642941           0.021794         0.009081           0.003632  \n\n[735 rows x 149 columns]",
      "text/html": "<div>\n<style scoped>\n    .dataframe tbody tr th:only-of-type {\n        vertical-align: middle;\n    }\n\n    .dataframe tbody tr th {\n        vertical-align: top;\n    }\n\n    .dataframe thead th {\n        text-align: right;\n    }\n</style>\n<table border=\"1\" class=\"dataframe\">\n  <thead>\n    <tr style=\"text-align: right;\">\n      <th></th>\n      <th>GeoFIPS</th>\n      <th>STNAME</th>\n      <th>CTYNAME</th>\n      <th>YEAR</th>\n      <th>TOT_POP</th>\n      <th>TOT_MALE</th>\n      <th>TOT_FEMALE</th>\n      <th>WA_MALE</th>\n      <th>WA_FEMALE</th>\n      <th>BA_MALE</th>\n      <th>...</th>\n      <th>HWAC_MALE_ratio</th>\n      <th>HWAC_FEMALE_ratio</th>\n      <th>HBAC_MALE_ratio</th>\n      <th>HBAC_FEMALE_ratio</th>\n      <th>HIAC_MALE_ratio</th>\n      <th>HIAC_FEMALE_ratio</th>\n      <th>HAAC_MALE_ratio</th>\n      <th>HAAC_FEMALE_ratio</th>\n      <th>HNAC_MALE_ratio</th>\n      <th>HNAC_FEMALE_ratio</th>\n    </tr>\n  </thead>\n  <tbody>\n    <tr>\n      <th>70395</th>\n      <td>09001</td>\n      <td>Connecticut</td>\n      <td>Fairfield County</td>\n      <td>10</td>\n      <td>943038</td>\n      <td>459242</td>\n      <td>483796</td>\n      <td>366178</td>\n      <td>379174</td>\n      <td>54885</td>\n      <td>...</td>\n      <td>8.771863</td>\n      <td>8.578764</td>\n      <td>1.047678</td>\n      <td>1.109499</td>\n      <td>0.298079</td>\n      <td>0.263828</td>\n      <td>0.113781</td>\n      <td>0.094164</td>\n      <td>0.076773</td>\n      <td>0.055883</td>\n    </tr>\n    <tr>\n      <th>70414</th>\n      <td>09001</td>\n      <td>Connecticut</td>\n      <td>Fairfield County</td>\n      <td>11</td>\n      <td>943971</td>\n      <td>459794</td>\n      <td>484177</td>\n      <td>365198</td>\n      <td>378062</td>\n      <td>55522</td>\n      <td>...</td>\n      <td>8.943071</td>\n      <td>8.786817</td>\n      <td>1.085838</td>\n      <td>1.145798</td>\n      <td>0.307001</td>\n      <td>0.280199</td>\n      <td>0.118542</td>\n      <td>0.098944</td>\n      <td>0.075426</td>\n      <td>0.059536</td>\n    </tr>\n    <tr>\n      <th>70433</th>\n      <td>09001</td>\n      <td>Connecticut</td>\n      <td>Fairfield County</td>\n      <td>12</td>\n      <td>943332</td>\n      <td>459410</td>\n      <td>483922</td>\n      <td>363173</td>\n      <td>376006</td>\n      <td>56464</td>\n      <td>...</td>\n      <td>9.077186</td>\n      <td>8.966514</td>\n      <td>1.128341</td>\n      <td>1.183995</td>\n      <td>0.319082</td>\n      <td>0.286113</td>\n      <td>0.119788</td>\n      <td>0.099647</td>\n      <td>0.077173</td>\n      <td>0.059682</td>\n    </tr>\n    <tr>\n      <th>70623</th>\n      <td>09003</td>\n      <td>Connecticut</td>\n      <td>Hartford County</td>\n      <td>10</td>\n      <td>893076</td>\n      <td>433833</td>\n      <td>459243</td>\n      <td>327876</td>\n      <td>347484</td>\n      <td>66613</td>\n      <td>...</td>\n      <td>7.358612</td>\n      <td>7.653212</td>\n      <td>1.394618</td>\n      <td>1.551380</td>\n      <td>0.293480</td>\n      <td>0.299639</td>\n      <td>0.128544</td>\n      <td>0.121266</td>\n      <td>0.068415</td>\n      <td>0.050612</td>\n    </tr>\n    <tr>\n      <th>70642</th>\n      <td>09003</td>\n      <td>Connecticut</td>\n      <td>Hartford County</td>\n      <td>11</td>\n      <td>892580</td>\n      <td>433437</td>\n      <td>459143</td>\n      <td>325963</td>\n      <td>345490</td>\n      <td>66792</td>\n      <td>...</td>\n      <td>7.534003</td>\n      <td>7.856327</td>\n      <td>1.422730</td>\n      <td>1.596496</td>\n      <td>0.301149</td>\n      <td>0.312801</td>\n      <td>0.132425</td>\n      <td>0.121446</td>\n      <td>0.070806</td>\n      <td>0.051872</td>\n    </tr>\n    <tr>\n      <th>...</th>\n      <td>...</td>\n      <td>...</td>\n      <td>...</td>\n      <td>...</td>\n      <td>...</td>\n      <td>...</td>\n      <td>...</td>\n      <td>...</td>\n      <td>...</td>\n      <td>...</td>\n      <td>...</td>\n      <td>...</td>\n      <td>...</td>\n      <td>...</td>\n      <td>...</td>\n      <td>...</td>\n      <td>...</td>\n      <td>...</td>\n      <td>...</td>\n      <td>...</td>\n      <td>...</td>\n    </tr>\n    <tr>\n      <th>642694</th>\n      <td>50025</td>\n      <td>Vermont</td>\n      <td>Windham County</td>\n      <td>11</td>\n      <td>42635</td>\n      <td>20888</td>\n      <td>21747</td>\n      <td>19801</td>\n      <td>20614</td>\n      <td>377</td>\n      <td>...</td>\n      <td>1.170400</td>\n      <td>1.008561</td>\n      <td>0.119620</td>\n      <td>0.147766</td>\n      <td>0.079747</td>\n      <td>0.068019</td>\n      <td>0.025800</td>\n      <td>0.023455</td>\n      <td>0.018764</td>\n      <td>0.004691</td>\n    </tr>\n    <tr>\n      <th>642713</th>\n      <td>50025</td>\n      <td>Vermont</td>\n      <td>Windham County</td>\n      <td>12</td>\n      <td>42222</td>\n      <td>20663</td>\n      <td>21559</td>\n      <td>19564</td>\n      <td>20421</td>\n      <td>395</td>\n      <td>...</td>\n      <td>1.162901</td>\n      <td>1.025532</td>\n      <td>0.118422</td>\n      <td>0.146843</td>\n      <td>0.073421</td>\n      <td>0.066316</td>\n      <td>0.033158</td>\n      <td>0.028421</td>\n      <td>0.011842</td>\n      <td>0.004737</td>\n    </tr>\n    <tr>\n      <th>642903</th>\n      <td>50027</td>\n      <td>Vermont</td>\n      <td>Windsor County</td>\n      <td>10</td>\n      <td>55224</td>\n      <td>26961</td>\n      <td>28263</td>\n      <td>25896</td>\n      <td>27192</td>\n      <td>279</td>\n      <td>...</td>\n      <td>0.760539</td>\n      <td>0.756917</td>\n      <td>0.070621</td>\n      <td>0.067000</td>\n      <td>0.050703</td>\n      <td>0.057946</td>\n      <td>0.027162</td>\n      <td>0.025351</td>\n      <td>0.005432</td>\n      <td>0.005432</td>\n    </tr>\n    <tr>\n      <th>642922</th>\n      <td>50027</td>\n      <td>Vermont</td>\n      <td>Windsor County</td>\n      <td>11</td>\n      <td>55204</td>\n      <td>26986</td>\n      <td>28218</td>\n      <td>25881</td>\n      <td>27149</td>\n      <td>286</td>\n      <td>...</td>\n      <td>0.845953</td>\n      <td>0.780741</td>\n      <td>0.076081</td>\n      <td>0.061590</td>\n      <td>0.054344</td>\n      <td>0.059778</td>\n      <td>0.023549</td>\n      <td>0.018115</td>\n      <td>0.009057</td>\n      <td>0.003623</td>\n    </tr>\n    <tr>\n      <th>642941</th>\n      <td>50027</td>\n      <td>Vermont</td>\n      <td>Windsor County</td>\n      <td>12</td>\n      <td>55062</td>\n      <td>26962</td>\n      <td>28100</td>\n      <td>25810</td>\n      <td>26990</td>\n      <td>323</td>\n      <td>...</td>\n      <td>0.868112</td>\n      <td>0.824525</td>\n      <td>0.088991</td>\n      <td>0.072645</td>\n      <td>0.058116</td>\n      <td>0.058116</td>\n      <td>0.019977</td>\n      <td>0.021794</td>\n      <td>0.009081</td>\n      <td>0.003632</td>\n    </tr>\n  </tbody>\n</table>\n<p>735 rows × 149 columns</p>\n</div>"
     },
     "metadata": {},
     "output_type": "display_data"
    }
   ],
   "source": [
    "cols_to_remove =  ['AGEGRP', 'STATE', 'COUNTY', 'SUMLEV']\n",
    "NE_dem_ratio = remove_col(NE_dem_ratio, cols_to_remove)\n",
    "display(NE_dem_ratio)"
   ],
   "metadata": {
    "collapsed": false,
    "pycharm": {
     "name": "#%%\n"
    }
   }
  },
  {
   "cell_type": "markdown",
   "source": [
    "* GeoFIPS column added\n",
    "* Redundant column removes and columns with lack of data variety"
   ],
   "metadata": {
    "collapsed": false
   }
  },
  {
   "cell_type": "code",
   "execution_count": 98,
   "outputs": [
    {
     "name": "stderr",
     "output_type": "stream",
     "text": [
      "/home/wkc/.local/lib/python3.8/site-packages/pandas/core/frame.py:4167: SettingWithCopyWarning: \n",
      "A value is trying to be set on a copy of a slice from a DataFrame\n",
      "\n",
      "See the caveats in the documentation: https://pandas.pydata.org/pandas-docs/stable/user_guide/indexing.html#returning-a-view-versus-a-copy\n",
      "  return super().drop(\n"
     ]
    }
   ],
   "source": [
    "NE_dem_ratio_17 = NE_dem_ratio.loc[NE_dems.YEAR == 10]\n",
    "NE_dem_ratio_18 = NE_dem_ratio.loc[NE_dems.YEAR == 11]\n",
    "NE_dem_ratio_19 = NE_dem_ratio.loc[NE_dems.YEAR == 12]\n",
    "\n",
    "NE_dem_ratio_17.drop('YEAR', axis=1, inplace=True)\n",
    "NE_dem_ratio_18.drop('YEAR', axis=1, inplace=True)\n",
    "NE_dem_ratio_19.drop('YEAR', axis=1, inplace=True)\n"
   ],
   "metadata": {
    "collapsed": false,
    "pycharm": {
     "name": "#%%\n"
    }
   }
  },
  {
   "cell_type": "markdown",
   "source": [
    "# Merge data"
   ],
   "metadata": {
    "collapsed": false
   }
  },
  {
   "cell_type": "markdown",
   "source": [
    "## merge poverty rates for 2017-2019 into one dataframe"
   ],
   "metadata": {
    "collapsed": false
   }
  },
  {
   "cell_type": "code",
   "execution_count": 99,
   "outputs": [
    {
     "data": {
      "text/plain": "     State FIPS Code County FIPS Code Postal Code               Name  \\\n0                 01              001          AL     Autauga County   \n1                 01              003          AL     Baldwin County   \n2                 01              005          AL     Barbour County   \n3                 01              007          AL        Bibb County   \n4                 01              009          AL      Blount County   \n...              ...              ...         ...                ...   \n3001              56              037          WY  Sweetwater County   \n3002              56              039          WY       Teton County   \n3003              56              041          WY       Uinta County   \n3004              56              043          WY    Washakie County   \n3005              56              045          WY      Weston County   \n\n      Poverty Estimate, All Ages_2017  90% CI LB All Ages_2017  \\\n0                              7390.0                   6147.0   \n1                             21199.0                  17444.0   \n2                              7414.0                   6325.0   \n3                              4137.0                   3187.0   \n4                              7343.0                   5805.0   \n...                               ...                      ...   \n3001                           4253.0                   3540.0   \n3002                           1348.0                   1021.0   \n3003                           2067.0                   1623.0   \n3004                            845.0                    632.0   \n3005                            699.0                    541.0   \n\n      90% CI UB All Ages_2017  Poverty Percent, All Ages_2017  \\\n0                      8633.0                       13.400000   \n1                     24954.0                       10.100000   \n2                      8503.0                       33.400002   \n3                      5087.0                       20.200001   \n4                      8881.0                       12.800000   \n...                       ...                             ...   \n3001                   4966.0                       10.000000   \n3002                   1675.0                        5.800000   \n3003                   2511.0                       10.200000   \n3004                   1058.0                       10.700000   \n3005                    857.0                       10.600000   \n\n      90% CI LB percent_2017  90% CI UB percent_2017  ...  \\\n0                       11.1               15.700000  ...   \n1                        8.3               11.900000  ...   \n2                       28.5               38.299999  ...   \n3                       15.5               24.900000  ...   \n4                       10.1               15.500000  ...   \n...                      ...                     ...  ...   \n3001                     8.3               11.700000  ...   \n3002                     4.4                7.200000  ...   \n3003                     8.0               12.400000  ...   \n3004                     8.0               13.400000  ...   \n3005                     8.2               13.000000  ...   \n\n      90% CI UB 0-17 percent_2019  \\\n0                       20.299999   \n1                       17.400000   \n2                       50.799999   \n3                       33.099998   \n4                       25.299999   \n...                           ...   \n3001                    13.000000   \n3002                     7.800000   \n3003                    13.100000   \n3004                    18.900000   \n3005                    18.700001   \n\n      Poverty Estimate, Age 5-17 in Families_2019  90% CI LB 5-17 fam_2019  \\\n0                                          1376.0                    902.0   \n1                                          4641.0                   3295.0   \n2                                          1468.0                   1114.0   \n3                                           808.0                    566.0   \n4                                          2067.0                   1641.0   \n...                                           ...                      ...   \n3001                                        644.0                    416.0   \n3002                                        142.0                     83.0   \n3003                                        336.0                    193.0   \n3004                                        160.0                     94.0   \n3005                                        120.0                     70.0   \n\n      90% CI UB 5-17 fam_2019  Poverty Percent, Age 5-17 in Families_2019  \\\n0                      1850.0                                   14.400000   \n1                      5987.0                                   13.300000   \n2                      1822.0                                   39.500000   \n3                      1050.0                                   25.200001   \n4                      2493.0                                   21.400000   \n...                       ...                                         ...   \n3001                    872.0                                    8.200000   \n3002                    201.0                                    4.700000   \n3003                    479.0                                    7.800000   \n3004                    226.0                                   12.300000   \n3005                    170.0                                   11.800000   \n\n      90% CI LB 5-17 percent_2019  90% CI UB percent 5-17 percent_2019  \\\n0                        9.400000                            19.400000   \n1                        9.400000                            17.200001   \n2                       30.000000                            49.000000   \n3                       17.700001                            32.700001   \n4                       17.000000                            25.799999   \n...                           ...                                  ...   \n3001                     5.300000                            11.100000   \n3002                     2.700000                             6.700000   \n3003                     4.500000                            11.100000   \n3004                     7.200000                            17.400000   \n3005                     6.900000                            16.700001   \n\n      Median Household Income_2019  90% CI Lower Bound LB medh inc_2019  \\\n0                          58233.0                              52517.0   \n1                          59871.0                              54593.0   \n2                          35972.0                              31822.0   \n3                          47918.0                              42291.0   \n4                          52902.0                              46777.0   \n...                            ...                                  ...   \n3001                       80639.0                              73437.0   \n3002                       98837.0                              86531.0   \n3003                       70756.0                              63191.0   \n3004                       55122.0                              50050.0   \n3005                       59410.0                              52275.0   \n\n      90% CI UB medh inc_2019  \n0                     63949.0  \n1                     65149.0  \n2                     40122.0  \n3                     53545.0  \n4                     59027.0  \n...                       ...  \n3001                  87841.0  \n3002                 111143.0  \n3003                  78321.0  \n3004                  60194.0  \n3005                  66545.0  \n\n[3006 rows x 67 columns]",
      "text/html": "<div>\n<style scoped>\n    .dataframe tbody tr th:only-of-type {\n        vertical-align: middle;\n    }\n\n    .dataframe tbody tr th {\n        vertical-align: top;\n    }\n\n    .dataframe thead th {\n        text-align: right;\n    }\n</style>\n<table border=\"1\" class=\"dataframe\">\n  <thead>\n    <tr style=\"text-align: right;\">\n      <th></th>\n      <th>State FIPS Code</th>\n      <th>County FIPS Code</th>\n      <th>Postal Code</th>\n      <th>Name</th>\n      <th>Poverty Estimate, All Ages_2017</th>\n      <th>90% CI LB All Ages_2017</th>\n      <th>90% CI UB All Ages_2017</th>\n      <th>Poverty Percent, All Ages_2017</th>\n      <th>90% CI LB percent_2017</th>\n      <th>90% CI UB percent_2017</th>\n      <th>...</th>\n      <th>90% CI UB 0-17 percent_2019</th>\n      <th>Poverty Estimate, Age 5-17 in Families_2019</th>\n      <th>90% CI LB 5-17 fam_2019</th>\n      <th>90% CI UB 5-17 fam_2019</th>\n      <th>Poverty Percent, Age 5-17 in Families_2019</th>\n      <th>90% CI LB 5-17 percent_2019</th>\n      <th>90% CI UB percent 5-17 percent_2019</th>\n      <th>Median Household Income_2019</th>\n      <th>90% CI Lower Bound LB medh inc_2019</th>\n      <th>90% CI UB medh inc_2019</th>\n    </tr>\n  </thead>\n  <tbody>\n    <tr>\n      <th>0</th>\n      <td>01</td>\n      <td>001</td>\n      <td>AL</td>\n      <td>Autauga County</td>\n      <td>7390.0</td>\n      <td>6147.0</td>\n      <td>8633.0</td>\n      <td>13.400000</td>\n      <td>11.1</td>\n      <td>15.700000</td>\n      <td>...</td>\n      <td>20.299999</td>\n      <td>1376.0</td>\n      <td>902.0</td>\n      <td>1850.0</td>\n      <td>14.400000</td>\n      <td>9.400000</td>\n      <td>19.400000</td>\n      <td>58233.0</td>\n      <td>52517.0</td>\n      <td>63949.0</td>\n    </tr>\n    <tr>\n      <th>1</th>\n      <td>01</td>\n      <td>003</td>\n      <td>AL</td>\n      <td>Baldwin County</td>\n      <td>21199.0</td>\n      <td>17444.0</td>\n      <td>24954.0</td>\n      <td>10.100000</td>\n      <td>8.3</td>\n      <td>11.900000</td>\n      <td>...</td>\n      <td>17.400000</td>\n      <td>4641.0</td>\n      <td>3295.0</td>\n      <td>5987.0</td>\n      <td>13.300000</td>\n      <td>9.400000</td>\n      <td>17.200001</td>\n      <td>59871.0</td>\n      <td>54593.0</td>\n      <td>65149.0</td>\n    </tr>\n    <tr>\n      <th>2</th>\n      <td>01</td>\n      <td>005</td>\n      <td>AL</td>\n      <td>Barbour County</td>\n      <td>7414.0</td>\n      <td>6325.0</td>\n      <td>8503.0</td>\n      <td>33.400002</td>\n      <td>28.5</td>\n      <td>38.299999</td>\n      <td>...</td>\n      <td>50.799999</td>\n      <td>1468.0</td>\n      <td>1114.0</td>\n      <td>1822.0</td>\n      <td>39.500000</td>\n      <td>30.000000</td>\n      <td>49.000000</td>\n      <td>35972.0</td>\n      <td>31822.0</td>\n      <td>40122.0</td>\n    </tr>\n    <tr>\n      <th>3</th>\n      <td>01</td>\n      <td>007</td>\n      <td>AL</td>\n      <td>Bibb County</td>\n      <td>4137.0</td>\n      <td>3187.0</td>\n      <td>5087.0</td>\n      <td>20.200001</td>\n      <td>15.5</td>\n      <td>24.900000</td>\n      <td>...</td>\n      <td>33.099998</td>\n      <td>808.0</td>\n      <td>566.0</td>\n      <td>1050.0</td>\n      <td>25.200001</td>\n      <td>17.700001</td>\n      <td>32.700001</td>\n      <td>47918.0</td>\n      <td>42291.0</td>\n      <td>53545.0</td>\n    </tr>\n    <tr>\n      <th>4</th>\n      <td>01</td>\n      <td>009</td>\n      <td>AL</td>\n      <td>Blount County</td>\n      <td>7343.0</td>\n      <td>5805.0</td>\n      <td>8881.0</td>\n      <td>12.800000</td>\n      <td>10.1</td>\n      <td>15.500000</td>\n      <td>...</td>\n      <td>25.299999</td>\n      <td>2067.0</td>\n      <td>1641.0</td>\n      <td>2493.0</td>\n      <td>21.400000</td>\n      <td>17.000000</td>\n      <td>25.799999</td>\n      <td>52902.0</td>\n      <td>46777.0</td>\n      <td>59027.0</td>\n    </tr>\n    <tr>\n      <th>...</th>\n      <td>...</td>\n      <td>...</td>\n      <td>...</td>\n      <td>...</td>\n      <td>...</td>\n      <td>...</td>\n      <td>...</td>\n      <td>...</td>\n      <td>...</td>\n      <td>...</td>\n      <td>...</td>\n      <td>...</td>\n      <td>...</td>\n      <td>...</td>\n      <td>...</td>\n      <td>...</td>\n      <td>...</td>\n      <td>...</td>\n      <td>...</td>\n      <td>...</td>\n      <td>...</td>\n    </tr>\n    <tr>\n      <th>3001</th>\n      <td>56</td>\n      <td>037</td>\n      <td>WY</td>\n      <td>Sweetwater County</td>\n      <td>4253.0</td>\n      <td>3540.0</td>\n      <td>4966.0</td>\n      <td>10.000000</td>\n      <td>8.3</td>\n      <td>11.700000</td>\n      <td>...</td>\n      <td>13.000000</td>\n      <td>644.0</td>\n      <td>416.0</td>\n      <td>872.0</td>\n      <td>8.200000</td>\n      <td>5.300000</td>\n      <td>11.100000</td>\n      <td>80639.0</td>\n      <td>73437.0</td>\n      <td>87841.0</td>\n    </tr>\n    <tr>\n      <th>3002</th>\n      <td>56</td>\n      <td>039</td>\n      <td>WY</td>\n      <td>Teton County</td>\n      <td>1348.0</td>\n      <td>1021.0</td>\n      <td>1675.0</td>\n      <td>5.800000</td>\n      <td>4.4</td>\n      <td>7.200000</td>\n      <td>...</td>\n      <td>7.800000</td>\n      <td>142.0</td>\n      <td>83.0</td>\n      <td>201.0</td>\n      <td>4.700000</td>\n      <td>2.700000</td>\n      <td>6.700000</td>\n      <td>98837.0</td>\n      <td>86531.0</td>\n      <td>111143.0</td>\n    </tr>\n    <tr>\n      <th>3003</th>\n      <td>56</td>\n      <td>041</td>\n      <td>WY</td>\n      <td>Uinta County</td>\n      <td>2067.0</td>\n      <td>1623.0</td>\n      <td>2511.0</td>\n      <td>10.200000</td>\n      <td>8.0</td>\n      <td>12.400000</td>\n      <td>...</td>\n      <td>13.100000</td>\n      <td>336.0</td>\n      <td>193.0</td>\n      <td>479.0</td>\n      <td>7.800000</td>\n      <td>4.500000</td>\n      <td>11.100000</td>\n      <td>70756.0</td>\n      <td>63191.0</td>\n      <td>78321.0</td>\n    </tr>\n    <tr>\n      <th>3004</th>\n      <td>56</td>\n      <td>043</td>\n      <td>WY</td>\n      <td>Washakie County</td>\n      <td>845.0</td>\n      <td>632.0</td>\n      <td>1058.0</td>\n      <td>10.700000</td>\n      <td>8.0</td>\n      <td>13.400000</td>\n      <td>...</td>\n      <td>18.900000</td>\n      <td>160.0</td>\n      <td>94.0</td>\n      <td>226.0</td>\n      <td>12.300000</td>\n      <td>7.200000</td>\n      <td>17.400000</td>\n      <td>55122.0</td>\n      <td>50050.0</td>\n      <td>60194.0</td>\n    </tr>\n    <tr>\n      <th>3005</th>\n      <td>56</td>\n      <td>045</td>\n      <td>WY</td>\n      <td>Weston County</td>\n      <td>699.0</td>\n      <td>541.0</td>\n      <td>857.0</td>\n      <td>10.600000</td>\n      <td>8.2</td>\n      <td>13.000000</td>\n      <td>...</td>\n      <td>18.700001</td>\n      <td>120.0</td>\n      <td>70.0</td>\n      <td>170.0</td>\n      <td>11.800000</td>\n      <td>6.900000</td>\n      <td>16.700001</td>\n      <td>59410.0</td>\n      <td>52275.0</td>\n      <td>66545.0</td>\n    </tr>\n  </tbody>\n</table>\n<p>3006 rows × 67 columns</p>\n</div>"
     },
     "execution_count": 99,
     "metadata": {},
     "output_type": "execute_result"
    }
   ],
   "source": [
    "pov_cols\n",
    "\n",
    "for col in pov_cols:\n",
    "    pov_rate_2017.rename(columns={col:col + '_2017'}, inplace=True)\n",
    "    pov_rate_2018.rename(columns={col:col + '_2018'}, inplace=True)\n",
    "    pov_rate_2019.rename(columns={col:col + '_2019'}, inplace=True)\n",
    "\n",
    "# pov_rate_2017.rename(columns={'Poverty Percent, All Ages':'Poverty Percent, All Ages 2017'}, inplace=True)\n",
    "# pov_rate_2018.rename(columns={'Poverty Percent, All Ages':'Poverty Percent, All Ages 2018'}, inplace=True)\n",
    "# pov_rate_2019.rename(columns={'Poverty Percent, All Ages':'Poverty Percent, All Ages 2019'}, inplace=True)\n",
    "#\n",
    "pov_rate_2017_2018 = pd.merge(pov_rate_2017, pov_rate_2018, how='inner')\n",
    "pov_rate_2017_2019 = pd.merge(pov_rate_2017_2018, pov_rate_2019, how='inner')\n",
    "pov_rate_2017_2019"
   ],
   "metadata": {
    "collapsed": false,
    "pycharm": {
     "name": "#%%\n"
    }
   }
  },
  {
   "cell_type": "code",
   "execution_count": 100,
   "outputs": [],
   "source": [
    "state_code = pov_rate_2017_2019['State FIPS Code'].astype(str).values\n",
    "county_code = pov_rate_2017_2019['County FIPS Code'].astype(str).values\n",
    "geofips = []\n",
    "for stateID, countyID in zip(state_code, county_code):\n",
    "    id = ''\n",
    "    id += stateID\n",
    "    id += countyID\n",
    "    geofips.append(id)\n",
    "pov_rate_2017_2019.insert(loc=0, column='GeoFIPS', value=geofips)"
   ],
   "metadata": {
    "collapsed": false,
    "pycharm": {
     "name": "#%%\n"
    }
   }
  },
  {
   "cell_type": "code",
   "execution_count": 101,
   "outputs": [
    {
     "name": "stderr",
     "output_type": "stream",
     "text": [
      "/home/wkc/.local/lib/python3.8/site-packages/pandas/core/frame.py:4167: SettingWithCopyWarning: \n",
      "A value is trying to be set on a copy of a slice from a DataFrame\n",
      "\n",
      "See the caveats in the documentation: https://pandas.pydata.org/pandas-docs/stable/user_guide/indexing.html#returning-a-view-versus-a-copy\n",
      "  return super().drop(\n"
     ]
    },
    {
     "data": {
      "text/plain": "     GeoFIPS Postal Code               Name  Poverty Estimate, All Ages_2017  \\\n279    09001          CT   Fairfield County                          82428.0   \n280    09003          CT    Hartford County                          96200.0   \n281    09005          CT  Litchfield County                          12481.0   \n282    09007          CT   Middlesex County                          10796.0   \n283    09009          CT   New Haven County                          91639.0   \n...      ...         ...                ...                              ...   \n2717   50019          VT     Orleans County                           3962.0   \n2718   50021          VT     Rutland County                           6106.0   \n2719   50023          VT  Washington County                           5252.0   \n2720   50025          VT     Windham County                           4827.0   \n2721   50027          VT     Windsor County                           5385.0   \n\n      90% CI LB All Ages_2017  90% CI UB All Ages_2017  \\\n279                   74608.0                  90248.0   \n280                   88256.0                 104144.0   \n281                   10381.0                  14581.0   \n282                    8906.0                  12686.0   \n283                   82523.0                 100755.0   \n...                       ...                      ...   \n2717                   3189.0                   4735.0   \n2718                   4691.0                   7521.0   \n2719                   4184.0                   6320.0   \n2720                   3819.0                   5835.0   \n2721                   4259.0                   6511.0   \n\n      Poverty Percent, All Ages_2017  90% CI LB percent_2017  \\\n279                              8.8                     8.0   \n280                             11.0                    10.1   \n281                              6.9                     5.7   \n282                              6.8                     5.6   \n283                             11.0                     9.9   \n...                              ...                     ...   \n2717                            15.2                    12.2   \n2718                            10.8                     8.3   \n2719                             9.4                     7.5   \n2720                            11.6                     9.2   \n2721                             9.9                     7.8   \n\n      90% CI UB percent_2017  Poverty Estimate, Age 0-17_2017  ...  \\\n279                 9.600000                          24161.0  ...   \n280                11.900000                          28488.0  ...   \n281                 8.100000                           2642.0  ...   \n282                 8.000000                           2169.0  ...   \n283                12.100000                          26499.0  ...   \n...                      ...                              ...  ...   \n2717               18.200001                           1007.0  ...   \n2718               13.300000                           1518.0  ...   \n2719               11.300000                           1114.0  ...   \n2720               14.000000                           1138.0  ...   \n2721               12.000000                           1096.0  ...   \n\n      90% CI UB 0-17 percent_2019  \\\n279                     13.300000   \n280                     16.000000   \n281                     11.600000   \n282                      9.100000   \n283                     20.500000   \n...                           ...   \n2717                    23.299999   \n2718                    16.400000   \n2719                    12.700000   \n2720                    17.900000   \n2721                    13.300000   \n\n      Poverty Estimate, Age 5-17 in Families_2019  90% CI LB 5-17 fam_2019  \\\n279                                       18562.0                  16078.0   \n280                                       17852.0                  15166.0   \n281                                        2077.0                   1591.0   \n282                                        1388.0                    981.0   \n283                                       22220.0                  19581.0   \n...                                           ...                      ...   \n2717                                        643.0                    427.0   \n2718                                        849.0                    480.0   \n2719                                        636.0                    373.0   \n2720                                        664.0                    410.0   \n2721                                        635.0                    364.0   \n\n      90% CI UB 5-17 fam_2019  Poverty Percent, Age 5-17 in Families_2019  \\\n279                   21046.0                                   11.900000   \n280                   20538.0                                   13.100000   \n281                    2563.0                                    8.500000   \n282                    1795.0                                    6.600000   \n283                   24859.0                                   17.799999   \n...                       ...                                         ...   \n2717                    859.0                                   16.700001   \n2718                   1218.0                                   11.400000   \n2719                    899.0                                    8.000000   \n2720                    918.0                                   12.500000   \n2721                    906.0                                    8.700000   \n\n      90% CI LB 5-17 percent_2019  90% CI UB percent 5-17 percent_2019  \\\n279                          10.3                            13.500000   \n280                          11.1                            15.100000   \n281                           6.5                            10.500000   \n282                           4.7                             8.500000   \n283                          15.7                            19.900000   \n...                           ...                                  ...   \n2717                         11.1                            22.299999   \n2718                          6.5                            16.299999   \n2719                          4.7                            11.300000   \n2720                          7.7                            17.299999   \n2721                          5.0                            12.400000   \n\n      Median Household Income_2019  90% CI Lower Bound LB medh inc_2019  \\\n279                        96966.0                              93161.0   \n280                        75336.0                              73281.0   \n281                        81015.0                              77226.0   \n282                        81721.0                              74613.0   \n283                        69687.0                              66999.0   \n...                            ...                                  ...   \n2717                       48826.0                              43855.0   \n2718                       51903.0                              49484.0   \n2719                       65879.0                              61501.0   \n2720                       52068.0                              47230.0   \n2721                       61843.0                              57670.0   \n\n      90% CI UB medh inc_2019  \n279                  100771.0  \n280                   77391.0  \n281                   84804.0  \n282                   88829.0  \n283                   72375.0  \n...                       ...  \n2717                  53797.0  \n2718                  54322.0  \n2719                  70257.0  \n2720                  56906.0  \n2721                  66016.0  \n\n[243 rows x 66 columns]",
      "text/html": "<div>\n<style scoped>\n    .dataframe tbody tr th:only-of-type {\n        vertical-align: middle;\n    }\n\n    .dataframe tbody tr th {\n        vertical-align: top;\n    }\n\n    .dataframe thead th {\n        text-align: right;\n    }\n</style>\n<table border=\"1\" class=\"dataframe\">\n  <thead>\n    <tr style=\"text-align: right;\">\n      <th></th>\n      <th>GeoFIPS</th>\n      <th>Postal Code</th>\n      <th>Name</th>\n      <th>Poverty Estimate, All Ages_2017</th>\n      <th>90% CI LB All Ages_2017</th>\n      <th>90% CI UB All Ages_2017</th>\n      <th>Poverty Percent, All Ages_2017</th>\n      <th>90% CI LB percent_2017</th>\n      <th>90% CI UB percent_2017</th>\n      <th>Poverty Estimate, Age 0-17_2017</th>\n      <th>...</th>\n      <th>90% CI UB 0-17 percent_2019</th>\n      <th>Poverty Estimate, Age 5-17 in Families_2019</th>\n      <th>90% CI LB 5-17 fam_2019</th>\n      <th>90% CI UB 5-17 fam_2019</th>\n      <th>Poverty Percent, Age 5-17 in Families_2019</th>\n      <th>90% CI LB 5-17 percent_2019</th>\n      <th>90% CI UB percent 5-17 percent_2019</th>\n      <th>Median Household Income_2019</th>\n      <th>90% CI Lower Bound LB medh inc_2019</th>\n      <th>90% CI UB medh inc_2019</th>\n    </tr>\n  </thead>\n  <tbody>\n    <tr>\n      <th>279</th>\n      <td>09001</td>\n      <td>CT</td>\n      <td>Fairfield County</td>\n      <td>82428.0</td>\n      <td>74608.0</td>\n      <td>90248.0</td>\n      <td>8.8</td>\n      <td>8.0</td>\n      <td>9.600000</td>\n      <td>24161.0</td>\n      <td>...</td>\n      <td>13.300000</td>\n      <td>18562.0</td>\n      <td>16078.0</td>\n      <td>21046.0</td>\n      <td>11.900000</td>\n      <td>10.3</td>\n      <td>13.500000</td>\n      <td>96966.0</td>\n      <td>93161.0</td>\n      <td>100771.0</td>\n    </tr>\n    <tr>\n      <th>280</th>\n      <td>09003</td>\n      <td>CT</td>\n      <td>Hartford County</td>\n      <td>96200.0</td>\n      <td>88256.0</td>\n      <td>104144.0</td>\n      <td>11.0</td>\n      <td>10.1</td>\n      <td>11.900000</td>\n      <td>28488.0</td>\n      <td>...</td>\n      <td>16.000000</td>\n      <td>17852.0</td>\n      <td>15166.0</td>\n      <td>20538.0</td>\n      <td>13.100000</td>\n      <td>11.1</td>\n      <td>15.100000</td>\n      <td>75336.0</td>\n      <td>73281.0</td>\n      <td>77391.0</td>\n    </tr>\n    <tr>\n      <th>281</th>\n      <td>09005</td>\n      <td>CT</td>\n      <td>Litchfield County</td>\n      <td>12481.0</td>\n      <td>10381.0</td>\n      <td>14581.0</td>\n      <td>6.9</td>\n      <td>5.7</td>\n      <td>8.100000</td>\n      <td>2642.0</td>\n      <td>...</td>\n      <td>11.600000</td>\n      <td>2077.0</td>\n      <td>1591.0</td>\n      <td>2563.0</td>\n      <td>8.500000</td>\n      <td>6.5</td>\n      <td>10.500000</td>\n      <td>81015.0</td>\n      <td>77226.0</td>\n      <td>84804.0</td>\n    </tr>\n    <tr>\n      <th>282</th>\n      <td>09007</td>\n      <td>CT</td>\n      <td>Middlesex County</td>\n      <td>10796.0</td>\n      <td>8906.0</td>\n      <td>12686.0</td>\n      <td>6.8</td>\n      <td>5.6</td>\n      <td>8.000000</td>\n      <td>2169.0</td>\n      <td>...</td>\n      <td>9.100000</td>\n      <td>1388.0</td>\n      <td>981.0</td>\n      <td>1795.0</td>\n      <td>6.600000</td>\n      <td>4.7</td>\n      <td>8.500000</td>\n      <td>81721.0</td>\n      <td>74613.0</td>\n      <td>88829.0</td>\n    </tr>\n    <tr>\n      <th>283</th>\n      <td>09009</td>\n      <td>CT</td>\n      <td>New Haven County</td>\n      <td>91639.0</td>\n      <td>82523.0</td>\n      <td>100755.0</td>\n      <td>11.0</td>\n      <td>9.9</td>\n      <td>12.100000</td>\n      <td>26499.0</td>\n      <td>...</td>\n      <td>20.500000</td>\n      <td>22220.0</td>\n      <td>19581.0</td>\n      <td>24859.0</td>\n      <td>17.799999</td>\n      <td>15.7</td>\n      <td>19.900000</td>\n      <td>69687.0</td>\n      <td>66999.0</td>\n      <td>72375.0</td>\n    </tr>\n    <tr>\n      <th>...</th>\n      <td>...</td>\n      <td>...</td>\n      <td>...</td>\n      <td>...</td>\n      <td>...</td>\n      <td>...</td>\n      <td>...</td>\n      <td>...</td>\n      <td>...</td>\n      <td>...</td>\n      <td>...</td>\n      <td>...</td>\n      <td>...</td>\n      <td>...</td>\n      <td>...</td>\n      <td>...</td>\n      <td>...</td>\n      <td>...</td>\n      <td>...</td>\n      <td>...</td>\n      <td>...</td>\n    </tr>\n    <tr>\n      <th>2717</th>\n      <td>50019</td>\n      <td>VT</td>\n      <td>Orleans County</td>\n      <td>3962.0</td>\n      <td>3189.0</td>\n      <td>4735.0</td>\n      <td>15.2</td>\n      <td>12.2</td>\n      <td>18.200001</td>\n      <td>1007.0</td>\n      <td>...</td>\n      <td>23.299999</td>\n      <td>643.0</td>\n      <td>427.0</td>\n      <td>859.0</td>\n      <td>16.700001</td>\n      <td>11.1</td>\n      <td>22.299999</td>\n      <td>48826.0</td>\n      <td>43855.0</td>\n      <td>53797.0</td>\n    </tr>\n    <tr>\n      <th>2718</th>\n      <td>50021</td>\n      <td>VT</td>\n      <td>Rutland County</td>\n      <td>6106.0</td>\n      <td>4691.0</td>\n      <td>7521.0</td>\n      <td>10.8</td>\n      <td>8.3</td>\n      <td>13.300000</td>\n      <td>1518.0</td>\n      <td>...</td>\n      <td>16.400000</td>\n      <td>849.0</td>\n      <td>480.0</td>\n      <td>1218.0</td>\n      <td>11.400000</td>\n      <td>6.5</td>\n      <td>16.299999</td>\n      <td>51903.0</td>\n      <td>49484.0</td>\n      <td>54322.0</td>\n    </tr>\n    <tr>\n      <th>2719</th>\n      <td>50023</td>\n      <td>VT</td>\n      <td>Washington County</td>\n      <td>5252.0</td>\n      <td>4184.0</td>\n      <td>6320.0</td>\n      <td>9.4</td>\n      <td>7.5</td>\n      <td>11.300000</td>\n      <td>1114.0</td>\n      <td>...</td>\n      <td>12.700000</td>\n      <td>636.0</td>\n      <td>373.0</td>\n      <td>899.0</td>\n      <td>8.000000</td>\n      <td>4.7</td>\n      <td>11.300000</td>\n      <td>65879.0</td>\n      <td>61501.0</td>\n      <td>70257.0</td>\n    </tr>\n    <tr>\n      <th>2720</th>\n      <td>50025</td>\n      <td>VT</td>\n      <td>Windham County</td>\n      <td>4827.0</td>\n      <td>3819.0</td>\n      <td>5835.0</td>\n      <td>11.6</td>\n      <td>9.2</td>\n      <td>14.000000</td>\n      <td>1138.0</td>\n      <td>...</td>\n      <td>17.900000</td>\n      <td>664.0</td>\n      <td>410.0</td>\n      <td>918.0</td>\n      <td>12.500000</td>\n      <td>7.7</td>\n      <td>17.299999</td>\n      <td>52068.0</td>\n      <td>47230.0</td>\n      <td>56906.0</td>\n    </tr>\n    <tr>\n      <th>2721</th>\n      <td>50027</td>\n      <td>VT</td>\n      <td>Windsor County</td>\n      <td>5385.0</td>\n      <td>4259.0</td>\n      <td>6511.0</td>\n      <td>9.9</td>\n      <td>7.8</td>\n      <td>12.000000</td>\n      <td>1096.0</td>\n      <td>...</td>\n      <td>13.300000</td>\n      <td>635.0</td>\n      <td>364.0</td>\n      <td>906.0</td>\n      <td>8.700000</td>\n      <td>5.0</td>\n      <td>12.400000</td>\n      <td>61843.0</td>\n      <td>57670.0</td>\n      <td>66016.0</td>\n    </tr>\n  </tbody>\n</table>\n<p>243 rows × 66 columns</p>\n</div>"
     },
     "metadata": {},
     "output_type": "display_data"
    }
   ],
   "source": [
    "# pov_rate_2017_2019.drop(['State FIPS Code', 'County FIPS Code'], axis=1, inplace=True)\n",
    "NE_States = (pov_rate_2017_2019['Postal Code'] == 'MA') | \\\n",
    "            (pov_rate_2017_2019['Postal Code'] == 'CT') | \\\n",
    "            (pov_rate_2017_2019['Postal Code'] == 'ME') | \\\n",
    "            (pov_rate_2017_2019['Postal Code'] == 'NY') | \\\n",
    "            (pov_rate_2017_2019['Postal Code'] == 'NH') | \\\n",
    "            (pov_rate_2017_2019['Postal Code'] == 'NJ') | \\\n",
    "            (pov_rate_2017_2019['Postal Code'] == 'PA') | \\\n",
    "            (pov_rate_2017_2019['Postal Code'] == 'VT') | \\\n",
    "            (pov_rate_2017_2019['Postal Code'] == 'DE') | \\\n",
    "            (pov_rate_2017_2019['Postal Code'] == 'MD') | \\\n",
    "            (pov_rate_2017_2019['Postal Code'] == 'RI') | \\\n",
    "            (pov_rate_2017_2019['Postal Code'] == 'DC')\n",
    "\n",
    "NE_pov_rate_2017_2019 = pov_rate_2017_2019.loc[NE_States]\n",
    "NE_pov_rate_2017_2019.drop(['State FIPS Code', 'County FIPS Code'], axis=1, inplace=True)\n",
    "display(NE_pov_rate_2017_2019)"
   ],
   "metadata": {
    "collapsed": false,
    "pycharm": {
     "name": "#%%\n"
    }
   }
  },
  {
   "cell_type": "markdown",
   "source": [
    "## merge education and vehicle rates for 2017-2019 into one dataframe"
   ],
   "metadata": {
    "collapsed": false
   }
  },
  {
   "cell_type": "code",
   "execution_count": 102,
   "outputs": [],
   "source": [
    "educ_vehicle_ratios = educ_vehicle_2017.columns[3:]\n",
    "educ_vehicle_ratios\n",
    "for ratio in educ_vehicle_ratios:\n",
    "    educ_vehicle_2017.rename(columns={ratio:ratio + '_2017'}, inplace=True)\n",
    "    educ_vehicle_2018.rename(columns={ratio:ratio + '_2018'}, inplace=True)\n",
    "    educ_vehicle_2019.rename(columns={ratio:ratio + '_2019'}, inplace=True)\n",
    "\n",
    "# educ_vehicle_2017.drop('POP', axis=1, inplace=True)\n",
    "# educ_vehicle_2018.drop('POP', axis=1, inplace=True)\n",
    "# educ_vehicle_2019.drop('POP', axis=1, inplace=True)"
   ],
   "metadata": {
    "collapsed": false,
    "pycharm": {
     "name": "#%%\n"
    }
   }
  },
  {
   "cell_type": "code",
   "execution_count": 103,
   "outputs": [
    {
     "data": {
      "text/plain": "                              NAME  state  county  POP_2017  EDU_TOT_2017  \\\n0    St. Lawrence County, New York     36      89    109623       72555.0   \n1        Saratoga County, New York     36      91    229869      164414.0   \n2     Schenectady County, New York     36      93    155565      107453.0   \n3         Steuben County, New York     36     101     96281       68011.0   \n4         Suffolk County, New York     36     103   1492953     1036946.0   \n..                             ...    ...     ...       ...           ...   \n831        Putnam County, New York     36      79     99323       71447.0   \n832        Queens County, New York     36      81   2358582     1695302.0   \n833    Rensselaer County, New York     36      83    159722      111047.0   \n834      Richmond County, New York     36      85    479458      334079.0   \n835      Rockland County, New York     36      87    328868      205985.0   \n\n     LESS_HS_TOT_2017  HS_TOT_2017  COL_OR_ASSOC_TOT_2017  BACH_TOT_2017  \\\n0              9164.0      25858.0                20091.0         8279.0   \n1             10656.0      39033.0                45561.0        37886.0   \n2             10085.0      32144.0                35263.0        17210.0   \n3              6510.0      25920.0                20685.0         7451.0   \n4            102621.0     277080.0               279213.0       208064.0   \n..                ...          ...                    ...            ...   \n831            5090.0      20597.0                18095.0        14929.0   \n832          304984.0     493794.0               372885.0       335990.0   \n833            9095.0      31730.0                34954.0        20143.0   \n834           39031.0     100730.0                83679.0        66108.0   \n835           22972.0      46985.0                51510.0        46786.0   \n\n     GRAD_TOT_2017  ...  BACH_TOT_2019  GRAD_TOT_2019  VEHICLE_TOT_2019  \\\n0           9163.0  ...         8684.0         7733.0             33650   \n1          31278.0  ...        40148.0        30363.0            104085   \n2          12751.0  ...        22627.0        15566.0             59970   \n3           7445.0  ...         8066.0         8475.0             35505   \n4         169968.0  ...       214035.0       182346.0            629360   \n..             ...  ...            ...            ...               ...   \n831        12736.0  ...        15240.0        12261.0             42420   \n832       187649.0  ...       334272.0       207624.0            387870   \n833        15125.0  ...        20896.0        18203.0             65615   \n834        44531.0  ...        71914.0        48875.0            128740   \n835        37732.0  ...        46487.0        39510.0            111705   \n\n     EDU_TOT_ratio_2019  LESS_HS_TOT_ratio_2019  HS_TOT_ratio_2019  \\\n0             67.044737                8.564136          23.762762   \n1             72.095118                4.492676          17.754924   \n2             70.183324                5.047682          20.198456   \n3             71.044989                6.093585          25.791841   \n4             70.148605                6.397598          18.389192   \n..                  ...                     ...                ...   \n831           73.443857                5.721115          19.355167   \n832           72.484558               12.328372          19.812340   \n833           70.327759                5.902441          19.919478   \n834           70.041143                7.701258          20.426427   \n835           62.486456                6.950511          13.296029   \n\n     COL_OR_ASSOC_TOT_ratio_2019  BACH_TOT_ratio_2019  GRAD_TOT_ratio_2019  \\\n0                      19.480230             8.060145             7.177464   \n1                      19.172290            17.466056            13.209172   \n2                      20.343982            14.569959            10.023245   \n3                      21.817171             8.456788             8.885604   \n4                      18.517663            14.495114            12.349037   \n..                           ...                  ...                  ...   \n831                    20.396664            15.500407            12.470504   \n832                    16.300805            14.831103             9.211938   \n833                    19.870963            13.165820            11.469058   \n834                    16.545240            15.103446            10.264773   \n835                    15.843383            14.269051            12.127481   \n\n     VEHICLE_TOT_ratio_2019  \n0                 31.232597  \n1                 45.281320  \n2                 38.615831  \n3                 37.225175  \n4                 42.622211  \n..                      ...  \n831               43.144833  \n832               17.209159  \n833               41.341659  \n834               27.038096  \n835               34.287530  \n\n[836 rows x 48 columns]",
      "text/html": "<div>\n<style scoped>\n    .dataframe tbody tr th:only-of-type {\n        vertical-align: middle;\n    }\n\n    .dataframe tbody tr th {\n        vertical-align: top;\n    }\n\n    .dataframe thead th {\n        text-align: right;\n    }\n</style>\n<table border=\"1\" class=\"dataframe\">\n  <thead>\n    <tr style=\"text-align: right;\">\n      <th></th>\n      <th>NAME</th>\n      <th>state</th>\n      <th>county</th>\n      <th>POP_2017</th>\n      <th>EDU_TOT_2017</th>\n      <th>LESS_HS_TOT_2017</th>\n      <th>HS_TOT_2017</th>\n      <th>COL_OR_ASSOC_TOT_2017</th>\n      <th>BACH_TOT_2017</th>\n      <th>GRAD_TOT_2017</th>\n      <th>...</th>\n      <th>BACH_TOT_2019</th>\n      <th>GRAD_TOT_2019</th>\n      <th>VEHICLE_TOT_2019</th>\n      <th>EDU_TOT_ratio_2019</th>\n      <th>LESS_HS_TOT_ratio_2019</th>\n      <th>HS_TOT_ratio_2019</th>\n      <th>COL_OR_ASSOC_TOT_ratio_2019</th>\n      <th>BACH_TOT_ratio_2019</th>\n      <th>GRAD_TOT_ratio_2019</th>\n      <th>VEHICLE_TOT_ratio_2019</th>\n    </tr>\n  </thead>\n  <tbody>\n    <tr>\n      <th>0</th>\n      <td>St. Lawrence County, New York</td>\n      <td>36</td>\n      <td>89</td>\n      <td>109623</td>\n      <td>72555.0</td>\n      <td>9164.0</td>\n      <td>25858.0</td>\n      <td>20091.0</td>\n      <td>8279.0</td>\n      <td>9163.0</td>\n      <td>...</td>\n      <td>8684.0</td>\n      <td>7733.0</td>\n      <td>33650</td>\n      <td>67.044737</td>\n      <td>8.564136</td>\n      <td>23.762762</td>\n      <td>19.480230</td>\n      <td>8.060145</td>\n      <td>7.177464</td>\n      <td>31.232597</td>\n    </tr>\n    <tr>\n      <th>1</th>\n      <td>Saratoga County, New York</td>\n      <td>36</td>\n      <td>91</td>\n      <td>229869</td>\n      <td>164414.0</td>\n      <td>10656.0</td>\n      <td>39033.0</td>\n      <td>45561.0</td>\n      <td>37886.0</td>\n      <td>31278.0</td>\n      <td>...</td>\n      <td>40148.0</td>\n      <td>30363.0</td>\n      <td>104085</td>\n      <td>72.095118</td>\n      <td>4.492676</td>\n      <td>17.754924</td>\n      <td>19.172290</td>\n      <td>17.466056</td>\n      <td>13.209172</td>\n      <td>45.281320</td>\n    </tr>\n    <tr>\n      <th>2</th>\n      <td>Schenectady County, New York</td>\n      <td>36</td>\n      <td>93</td>\n      <td>155565</td>\n      <td>107453.0</td>\n      <td>10085.0</td>\n      <td>32144.0</td>\n      <td>35263.0</td>\n      <td>17210.0</td>\n      <td>12751.0</td>\n      <td>...</td>\n      <td>22627.0</td>\n      <td>15566.0</td>\n      <td>59970</td>\n      <td>70.183324</td>\n      <td>5.047682</td>\n      <td>20.198456</td>\n      <td>20.343982</td>\n      <td>14.569959</td>\n      <td>10.023245</td>\n      <td>38.615831</td>\n    </tr>\n    <tr>\n      <th>3</th>\n      <td>Steuben County, New York</td>\n      <td>36</td>\n      <td>101</td>\n      <td>96281</td>\n      <td>68011.0</td>\n      <td>6510.0</td>\n      <td>25920.0</td>\n      <td>20685.0</td>\n      <td>7451.0</td>\n      <td>7445.0</td>\n      <td>...</td>\n      <td>8066.0</td>\n      <td>8475.0</td>\n      <td>35505</td>\n      <td>71.044989</td>\n      <td>6.093585</td>\n      <td>25.791841</td>\n      <td>21.817171</td>\n      <td>8.456788</td>\n      <td>8.885604</td>\n      <td>37.225175</td>\n    </tr>\n    <tr>\n      <th>4</th>\n      <td>Suffolk County, New York</td>\n      <td>36</td>\n      <td>103</td>\n      <td>1492953</td>\n      <td>1036946.0</td>\n      <td>102621.0</td>\n      <td>277080.0</td>\n      <td>279213.0</td>\n      <td>208064.0</td>\n      <td>169968.0</td>\n      <td>...</td>\n      <td>214035.0</td>\n      <td>182346.0</td>\n      <td>629360</td>\n      <td>70.148605</td>\n      <td>6.397598</td>\n      <td>18.389192</td>\n      <td>18.517663</td>\n      <td>14.495114</td>\n      <td>12.349037</td>\n      <td>42.622211</td>\n    </tr>\n    <tr>\n      <th>...</th>\n      <td>...</td>\n      <td>...</td>\n      <td>...</td>\n      <td>...</td>\n      <td>...</td>\n      <td>...</td>\n      <td>...</td>\n      <td>...</td>\n      <td>...</td>\n      <td>...</td>\n      <td>...</td>\n      <td>...</td>\n      <td>...</td>\n      <td>...</td>\n      <td>...</td>\n      <td>...</td>\n      <td>...</td>\n      <td>...</td>\n      <td>...</td>\n      <td>...</td>\n      <td>...</td>\n    </tr>\n    <tr>\n      <th>831</th>\n      <td>Putnam County, New York</td>\n      <td>36</td>\n      <td>79</td>\n      <td>99323</td>\n      <td>71447.0</td>\n      <td>5090.0</td>\n      <td>20597.0</td>\n      <td>18095.0</td>\n      <td>14929.0</td>\n      <td>12736.0</td>\n      <td>...</td>\n      <td>15240.0</td>\n      <td>12261.0</td>\n      <td>42420</td>\n      <td>73.443857</td>\n      <td>5.721115</td>\n      <td>19.355167</td>\n      <td>20.396664</td>\n      <td>15.500407</td>\n      <td>12.470504</td>\n      <td>43.144833</td>\n    </tr>\n    <tr>\n      <th>832</th>\n      <td>Queens County, New York</td>\n      <td>36</td>\n      <td>81</td>\n      <td>2358582</td>\n      <td>1695302.0</td>\n      <td>304984.0</td>\n      <td>493794.0</td>\n      <td>372885.0</td>\n      <td>335990.0</td>\n      <td>187649.0</td>\n      <td>...</td>\n      <td>334272.0</td>\n      <td>207624.0</td>\n      <td>387870</td>\n      <td>72.484558</td>\n      <td>12.328372</td>\n      <td>19.812340</td>\n      <td>16.300805</td>\n      <td>14.831103</td>\n      <td>9.211938</td>\n      <td>17.209159</td>\n    </tr>\n    <tr>\n      <th>833</th>\n      <td>Rensselaer County, New York</td>\n      <td>36</td>\n      <td>83</td>\n      <td>159722</td>\n      <td>111047.0</td>\n      <td>9095.0</td>\n      <td>31730.0</td>\n      <td>34954.0</td>\n      <td>20143.0</td>\n      <td>15125.0</td>\n      <td>...</td>\n      <td>20896.0</td>\n      <td>18203.0</td>\n      <td>65615</td>\n      <td>70.327759</td>\n      <td>5.902441</td>\n      <td>19.919478</td>\n      <td>19.870963</td>\n      <td>13.165820</td>\n      <td>11.469058</td>\n      <td>41.341659</td>\n    </tr>\n    <tr>\n      <th>834</th>\n      <td>Richmond County, New York</td>\n      <td>36</td>\n      <td>85</td>\n      <td>479458</td>\n      <td>334079.0</td>\n      <td>39031.0</td>\n      <td>100730.0</td>\n      <td>83679.0</td>\n      <td>66108.0</td>\n      <td>44531.0</td>\n      <td>...</td>\n      <td>71914.0</td>\n      <td>48875.0</td>\n      <td>128740</td>\n      <td>70.041143</td>\n      <td>7.701258</td>\n      <td>20.426427</td>\n      <td>16.545240</td>\n      <td>15.103446</td>\n      <td>10.264773</td>\n      <td>27.038096</td>\n    </tr>\n    <tr>\n      <th>835</th>\n      <td>Rockland County, New York</td>\n      <td>36</td>\n      <td>87</td>\n      <td>328868</td>\n      <td>205985.0</td>\n      <td>22972.0</td>\n      <td>46985.0</td>\n      <td>51510.0</td>\n      <td>46786.0</td>\n      <td>37732.0</td>\n      <td>...</td>\n      <td>46487.0</td>\n      <td>39510.0</td>\n      <td>111705</td>\n      <td>62.486456</td>\n      <td>6.950511</td>\n      <td>13.296029</td>\n      <td>15.843383</td>\n      <td>14.269051</td>\n      <td>12.127481</td>\n      <td>34.287530</td>\n    </tr>\n  </tbody>\n</table>\n<p>836 rows × 48 columns</p>\n</div>"
     },
     "execution_count": 103,
     "metadata": {},
     "output_type": "execute_result"
    }
   ],
   "source": [
    "educ_vehicle_2017_2018 = pd.merge(educ_vehicle_2017, educ_vehicle_2018, how='inner')\n",
    "educ_vehicle_2017_2019 = pd.merge(educ_vehicle_2017_2018, educ_vehicle_2019, how='inner')\n",
    "educ_vehicle_2017_2019"
   ],
   "metadata": {
    "collapsed": false,
    "pycharm": {
     "name": "#%%\n"
    }
   }
  },
  {
   "cell_type": "code",
   "execution_count": 104,
   "outputs": [
    {
     "data": {
      "text/plain": "    GeoFIPS                           NAME  state  county  POP_2017  \\\n0     36089  St. Lawrence County, New York     36      89    109623   \n1     36091      Saratoga County, New York     36      91    229869   \n2     36093   Schenectady County, New York     36      93    155565   \n3     36101       Steuben County, New York     36     101     96281   \n4     36103       Suffolk County, New York     36     103   1492953   \n..      ...                            ...    ...     ...       ...   \n831   36079        Putnam County, New York     36      79     99323   \n832   36081        Queens County, New York     36      81   2358582   \n833   36083    Rensselaer County, New York     36      83    159722   \n834   36085      Richmond County, New York     36      85    479458   \n835   36087      Rockland County, New York     36      87    328868   \n\n     EDU_TOT_2017  LESS_HS_TOT_2017  HS_TOT_2017  COL_OR_ASSOC_TOT_2017  \\\n0         72555.0            9164.0      25858.0                20091.0   \n1        164414.0           10656.0      39033.0                45561.0   \n2        107453.0           10085.0      32144.0                35263.0   \n3         68011.0            6510.0      25920.0                20685.0   \n4       1036946.0          102621.0     277080.0               279213.0   \n..            ...               ...          ...                    ...   \n831       71447.0            5090.0      20597.0                18095.0   \n832     1695302.0          304984.0     493794.0               372885.0   \n833      111047.0            9095.0      31730.0                34954.0   \n834      334079.0           39031.0     100730.0                83679.0   \n835      205985.0           22972.0      46985.0                51510.0   \n\n     BACH_TOT_2017  ...  BACH_TOT_2019  GRAD_TOT_2019  VEHICLE_TOT_2019  \\\n0           8279.0  ...         8684.0         7733.0             33650   \n1          37886.0  ...        40148.0        30363.0            104085   \n2          17210.0  ...        22627.0        15566.0             59970   \n3           7451.0  ...         8066.0         8475.0             35505   \n4         208064.0  ...       214035.0       182346.0            629360   \n..             ...  ...            ...            ...               ...   \n831        14929.0  ...        15240.0        12261.0             42420   \n832       335990.0  ...       334272.0       207624.0            387870   \n833        20143.0  ...        20896.0        18203.0             65615   \n834        66108.0  ...        71914.0        48875.0            128740   \n835        46786.0  ...        46487.0        39510.0            111705   \n\n     EDU_TOT_ratio_2019  LESS_HS_TOT_ratio_2019  HS_TOT_ratio_2019  \\\n0             67.044737                8.564136          23.762762   \n1             72.095118                4.492676          17.754924   \n2             70.183324                5.047682          20.198456   \n3             71.044989                6.093585          25.791841   \n4             70.148605                6.397598          18.389192   \n..                  ...                     ...                ...   \n831           73.443857                5.721115          19.355167   \n832           72.484558               12.328372          19.812340   \n833           70.327759                5.902441          19.919478   \n834           70.041143                7.701258          20.426427   \n835           62.486456                6.950511          13.296029   \n\n     COL_OR_ASSOC_TOT_ratio_2019  BACH_TOT_ratio_2019  GRAD_TOT_ratio_2019  \\\n0                      19.480230             8.060145             7.177464   \n1                      19.172290            17.466056            13.209172   \n2                      20.343982            14.569959            10.023245   \n3                      21.817171             8.456788             8.885604   \n4                      18.517663            14.495114            12.349037   \n..                           ...                  ...                  ...   \n831                    20.396664            15.500407            12.470504   \n832                    16.300805            14.831103             9.211938   \n833                    19.870963            13.165820            11.469058   \n834                    16.545240            15.103446            10.264773   \n835                    15.843383            14.269051            12.127481   \n\n     VEHICLE_TOT_ratio_2019  \n0                 31.232597  \n1                 45.281320  \n2                 38.615831  \n3                 37.225175  \n4                 42.622211  \n..                      ...  \n831               43.144833  \n832               17.209159  \n833               41.341659  \n834               27.038096  \n835               34.287530  \n\n[836 rows x 49 columns]",
      "text/html": "<div>\n<style scoped>\n    .dataframe tbody tr th:only-of-type {\n        vertical-align: middle;\n    }\n\n    .dataframe tbody tr th {\n        vertical-align: top;\n    }\n\n    .dataframe thead th {\n        text-align: right;\n    }\n</style>\n<table border=\"1\" class=\"dataframe\">\n  <thead>\n    <tr style=\"text-align: right;\">\n      <th></th>\n      <th>GeoFIPS</th>\n      <th>NAME</th>\n      <th>state</th>\n      <th>county</th>\n      <th>POP_2017</th>\n      <th>EDU_TOT_2017</th>\n      <th>LESS_HS_TOT_2017</th>\n      <th>HS_TOT_2017</th>\n      <th>COL_OR_ASSOC_TOT_2017</th>\n      <th>BACH_TOT_2017</th>\n      <th>...</th>\n      <th>BACH_TOT_2019</th>\n      <th>GRAD_TOT_2019</th>\n      <th>VEHICLE_TOT_2019</th>\n      <th>EDU_TOT_ratio_2019</th>\n      <th>LESS_HS_TOT_ratio_2019</th>\n      <th>HS_TOT_ratio_2019</th>\n      <th>COL_OR_ASSOC_TOT_ratio_2019</th>\n      <th>BACH_TOT_ratio_2019</th>\n      <th>GRAD_TOT_ratio_2019</th>\n      <th>VEHICLE_TOT_ratio_2019</th>\n    </tr>\n  </thead>\n  <tbody>\n    <tr>\n      <th>0</th>\n      <td>36089</td>\n      <td>St. Lawrence County, New York</td>\n      <td>36</td>\n      <td>89</td>\n      <td>109623</td>\n      <td>72555.0</td>\n      <td>9164.0</td>\n      <td>25858.0</td>\n      <td>20091.0</td>\n      <td>8279.0</td>\n      <td>...</td>\n      <td>8684.0</td>\n      <td>7733.0</td>\n      <td>33650</td>\n      <td>67.044737</td>\n      <td>8.564136</td>\n      <td>23.762762</td>\n      <td>19.480230</td>\n      <td>8.060145</td>\n      <td>7.177464</td>\n      <td>31.232597</td>\n    </tr>\n    <tr>\n      <th>1</th>\n      <td>36091</td>\n      <td>Saratoga County, New York</td>\n      <td>36</td>\n      <td>91</td>\n      <td>229869</td>\n      <td>164414.0</td>\n      <td>10656.0</td>\n      <td>39033.0</td>\n      <td>45561.0</td>\n      <td>37886.0</td>\n      <td>...</td>\n      <td>40148.0</td>\n      <td>30363.0</td>\n      <td>104085</td>\n      <td>72.095118</td>\n      <td>4.492676</td>\n      <td>17.754924</td>\n      <td>19.172290</td>\n      <td>17.466056</td>\n      <td>13.209172</td>\n      <td>45.281320</td>\n    </tr>\n    <tr>\n      <th>2</th>\n      <td>36093</td>\n      <td>Schenectady County, New York</td>\n      <td>36</td>\n      <td>93</td>\n      <td>155565</td>\n      <td>107453.0</td>\n      <td>10085.0</td>\n      <td>32144.0</td>\n      <td>35263.0</td>\n      <td>17210.0</td>\n      <td>...</td>\n      <td>22627.0</td>\n      <td>15566.0</td>\n      <td>59970</td>\n      <td>70.183324</td>\n      <td>5.047682</td>\n      <td>20.198456</td>\n      <td>20.343982</td>\n      <td>14.569959</td>\n      <td>10.023245</td>\n      <td>38.615831</td>\n    </tr>\n    <tr>\n      <th>3</th>\n      <td>36101</td>\n      <td>Steuben County, New York</td>\n      <td>36</td>\n      <td>101</td>\n      <td>96281</td>\n      <td>68011.0</td>\n      <td>6510.0</td>\n      <td>25920.0</td>\n      <td>20685.0</td>\n      <td>7451.0</td>\n      <td>...</td>\n      <td>8066.0</td>\n      <td>8475.0</td>\n      <td>35505</td>\n      <td>71.044989</td>\n      <td>6.093585</td>\n      <td>25.791841</td>\n      <td>21.817171</td>\n      <td>8.456788</td>\n      <td>8.885604</td>\n      <td>37.225175</td>\n    </tr>\n    <tr>\n      <th>4</th>\n      <td>36103</td>\n      <td>Suffolk County, New York</td>\n      <td>36</td>\n      <td>103</td>\n      <td>1492953</td>\n      <td>1036946.0</td>\n      <td>102621.0</td>\n      <td>277080.0</td>\n      <td>279213.0</td>\n      <td>208064.0</td>\n      <td>...</td>\n      <td>214035.0</td>\n      <td>182346.0</td>\n      <td>629360</td>\n      <td>70.148605</td>\n      <td>6.397598</td>\n      <td>18.389192</td>\n      <td>18.517663</td>\n      <td>14.495114</td>\n      <td>12.349037</td>\n      <td>42.622211</td>\n    </tr>\n    <tr>\n      <th>...</th>\n      <td>...</td>\n      <td>...</td>\n      <td>...</td>\n      <td>...</td>\n      <td>...</td>\n      <td>...</td>\n      <td>...</td>\n      <td>...</td>\n      <td>...</td>\n      <td>...</td>\n      <td>...</td>\n      <td>...</td>\n      <td>...</td>\n      <td>...</td>\n      <td>...</td>\n      <td>...</td>\n      <td>...</td>\n      <td>...</td>\n      <td>...</td>\n      <td>...</td>\n      <td>...</td>\n    </tr>\n    <tr>\n      <th>831</th>\n      <td>36079</td>\n      <td>Putnam County, New York</td>\n      <td>36</td>\n      <td>79</td>\n      <td>99323</td>\n      <td>71447.0</td>\n      <td>5090.0</td>\n      <td>20597.0</td>\n      <td>18095.0</td>\n      <td>14929.0</td>\n      <td>...</td>\n      <td>15240.0</td>\n      <td>12261.0</td>\n      <td>42420</td>\n      <td>73.443857</td>\n      <td>5.721115</td>\n      <td>19.355167</td>\n      <td>20.396664</td>\n      <td>15.500407</td>\n      <td>12.470504</td>\n      <td>43.144833</td>\n    </tr>\n    <tr>\n      <th>832</th>\n      <td>36081</td>\n      <td>Queens County, New York</td>\n      <td>36</td>\n      <td>81</td>\n      <td>2358582</td>\n      <td>1695302.0</td>\n      <td>304984.0</td>\n      <td>493794.0</td>\n      <td>372885.0</td>\n      <td>335990.0</td>\n      <td>...</td>\n      <td>334272.0</td>\n      <td>207624.0</td>\n      <td>387870</td>\n      <td>72.484558</td>\n      <td>12.328372</td>\n      <td>19.812340</td>\n      <td>16.300805</td>\n      <td>14.831103</td>\n      <td>9.211938</td>\n      <td>17.209159</td>\n    </tr>\n    <tr>\n      <th>833</th>\n      <td>36083</td>\n      <td>Rensselaer County, New York</td>\n      <td>36</td>\n      <td>83</td>\n      <td>159722</td>\n      <td>111047.0</td>\n      <td>9095.0</td>\n      <td>31730.0</td>\n      <td>34954.0</td>\n      <td>20143.0</td>\n      <td>...</td>\n      <td>20896.0</td>\n      <td>18203.0</td>\n      <td>65615</td>\n      <td>70.327759</td>\n      <td>5.902441</td>\n      <td>19.919478</td>\n      <td>19.870963</td>\n      <td>13.165820</td>\n      <td>11.469058</td>\n      <td>41.341659</td>\n    </tr>\n    <tr>\n      <th>834</th>\n      <td>36085</td>\n      <td>Richmond County, New York</td>\n      <td>36</td>\n      <td>85</td>\n      <td>479458</td>\n      <td>334079.0</td>\n      <td>39031.0</td>\n      <td>100730.0</td>\n      <td>83679.0</td>\n      <td>66108.0</td>\n      <td>...</td>\n      <td>71914.0</td>\n      <td>48875.0</td>\n      <td>128740</td>\n      <td>70.041143</td>\n      <td>7.701258</td>\n      <td>20.426427</td>\n      <td>16.545240</td>\n      <td>15.103446</td>\n      <td>10.264773</td>\n      <td>27.038096</td>\n    </tr>\n    <tr>\n      <th>835</th>\n      <td>36087</td>\n      <td>Rockland County, New York</td>\n      <td>36</td>\n      <td>87</td>\n      <td>328868</td>\n      <td>205985.0</td>\n      <td>22972.0</td>\n      <td>46985.0</td>\n      <td>51510.0</td>\n      <td>46786.0</td>\n      <td>...</td>\n      <td>46487.0</td>\n      <td>39510.0</td>\n      <td>111705</td>\n      <td>62.486456</td>\n      <td>6.950511</td>\n      <td>13.296029</td>\n      <td>15.843383</td>\n      <td>14.269051</td>\n      <td>12.127481</td>\n      <td>34.287530</td>\n    </tr>\n  </tbody>\n</table>\n<p>836 rows × 49 columns</p>\n</div>"
     },
     "execution_count": 104,
     "metadata": {},
     "output_type": "execute_result"
    }
   ],
   "source": [
    "educ_vehicle_2017_2019 = get_df_with_geofips(educ_vehicle_2017_2019, 'state', 'county')\n",
    "educ_vehicle_2017_2019"
   ],
   "metadata": {
    "collapsed": false,
    "pycharm": {
     "name": "#%%\n"
    }
   }
  },
  {
   "cell_type": "code",
   "execution_count": 105,
   "outputs": [
    {
     "data": {
      "text/plain": "    GeoFIPS                           NAME  state  county  POP_2017  \\\n0     36089  St. Lawrence County, New York     36      89    109623   \n1     36091      Saratoga County, New York     36      91    229869   \n2     36093   Schenectady County, New York     36      93    155565   \n3     36101       Steuben County, New York     36     101     96281   \n4     36103       Suffolk County, New York     36     103   1492953   \n..      ...                            ...    ...     ...       ...   \n831   36079        Putnam County, New York     36      79     99323   \n832   36081        Queens County, New York     36      81   2358582   \n833   36083    Rensselaer County, New York     36      83    159722   \n834   36085      Richmond County, New York     36      85    479458   \n835   36087      Rockland County, New York     36      87    328868   \n\n     EDU_TOT_2017  LESS_HS_TOT_2017  HS_TOT_2017  COL_OR_ASSOC_TOT_2017  \\\n0         72555.0            9164.0      25858.0                20091.0   \n1        164414.0           10656.0      39033.0                45561.0   \n2        107453.0           10085.0      32144.0                35263.0   \n3         68011.0            6510.0      25920.0                20685.0   \n4       1036946.0          102621.0     277080.0               279213.0   \n..            ...               ...          ...                    ...   \n831       71447.0            5090.0      20597.0                18095.0   \n832     1695302.0          304984.0     493794.0               372885.0   \n833      111047.0            9095.0      31730.0                34954.0   \n834      334079.0           39031.0     100730.0                83679.0   \n835      205985.0           22972.0      46985.0                51510.0   \n\n     BACH_TOT_2017  ...  BACH_TOT_2019  GRAD_TOT_2019  VEHICLE_TOT_2019  \\\n0           8279.0  ...         8684.0         7733.0             33650   \n1          37886.0  ...        40148.0        30363.0            104085   \n2          17210.0  ...        22627.0        15566.0             59970   \n3           7451.0  ...         8066.0         8475.0             35505   \n4         208064.0  ...       214035.0       182346.0            629360   \n..             ...  ...            ...            ...               ...   \n831        14929.0  ...        15240.0        12261.0             42420   \n832       335990.0  ...       334272.0       207624.0            387870   \n833        20143.0  ...        20896.0        18203.0             65615   \n834        66108.0  ...        71914.0        48875.0            128740   \n835        46786.0  ...        46487.0        39510.0            111705   \n\n     EDU_TOT_ratio_2019  LESS_HS_TOT_ratio_2019  HS_TOT_ratio_2019  \\\n0             67.044737                8.564136          23.762762   \n1             72.095118                4.492676          17.754924   \n2             70.183324                5.047682          20.198456   \n3             71.044989                6.093585          25.791841   \n4             70.148605                6.397598          18.389192   \n..                  ...                     ...                ...   \n831           73.443857                5.721115          19.355167   \n832           72.484558               12.328372          19.812340   \n833           70.327759                5.902441          19.919478   \n834           70.041143                7.701258          20.426427   \n835           62.486456                6.950511          13.296029   \n\n     COL_OR_ASSOC_TOT_ratio_2019  BACH_TOT_ratio_2019  GRAD_TOT_ratio_2019  \\\n0                      19.480230             8.060145             7.177464   \n1                      19.172290            17.466056            13.209172   \n2                      20.343982            14.569959            10.023245   \n3                      21.817171             8.456788             8.885604   \n4                      18.517663            14.495114            12.349037   \n..                           ...                  ...                  ...   \n831                    20.396664            15.500407            12.470504   \n832                    16.300805            14.831103             9.211938   \n833                    19.870963            13.165820            11.469058   \n834                    16.545240            15.103446            10.264773   \n835                    15.843383            14.269051            12.127481   \n\n     VEHICLE_TOT_ratio_2019  \n0                 31.232597  \n1                 45.281320  \n2                 38.615831  \n3                 37.225175  \n4                 42.622211  \n..                      ...  \n831               43.144833  \n832               17.209159  \n833               41.341659  \n834               27.038096  \n835               34.287530  \n\n[157 rows x 49 columns]",
      "text/html": "<div>\n<style scoped>\n    .dataframe tbody tr th:only-of-type {\n        vertical-align: middle;\n    }\n\n    .dataframe tbody tr th {\n        vertical-align: top;\n    }\n\n    .dataframe thead th {\n        text-align: right;\n    }\n</style>\n<table border=\"1\" class=\"dataframe\">\n  <thead>\n    <tr style=\"text-align: right;\">\n      <th></th>\n      <th>GeoFIPS</th>\n      <th>NAME</th>\n      <th>state</th>\n      <th>county</th>\n      <th>POP_2017</th>\n      <th>EDU_TOT_2017</th>\n      <th>LESS_HS_TOT_2017</th>\n      <th>HS_TOT_2017</th>\n      <th>COL_OR_ASSOC_TOT_2017</th>\n      <th>BACH_TOT_2017</th>\n      <th>...</th>\n      <th>BACH_TOT_2019</th>\n      <th>GRAD_TOT_2019</th>\n      <th>VEHICLE_TOT_2019</th>\n      <th>EDU_TOT_ratio_2019</th>\n      <th>LESS_HS_TOT_ratio_2019</th>\n      <th>HS_TOT_ratio_2019</th>\n      <th>COL_OR_ASSOC_TOT_ratio_2019</th>\n      <th>BACH_TOT_ratio_2019</th>\n      <th>GRAD_TOT_ratio_2019</th>\n      <th>VEHICLE_TOT_ratio_2019</th>\n    </tr>\n  </thead>\n  <tbody>\n    <tr>\n      <th>0</th>\n      <td>36089</td>\n      <td>St. Lawrence County, New York</td>\n      <td>36</td>\n      <td>89</td>\n      <td>109623</td>\n      <td>72555.0</td>\n      <td>9164.0</td>\n      <td>25858.0</td>\n      <td>20091.0</td>\n      <td>8279.0</td>\n      <td>...</td>\n      <td>8684.0</td>\n      <td>7733.0</td>\n      <td>33650</td>\n      <td>67.044737</td>\n      <td>8.564136</td>\n      <td>23.762762</td>\n      <td>19.480230</td>\n      <td>8.060145</td>\n      <td>7.177464</td>\n      <td>31.232597</td>\n    </tr>\n    <tr>\n      <th>1</th>\n      <td>36091</td>\n      <td>Saratoga County, New York</td>\n      <td>36</td>\n      <td>91</td>\n      <td>229869</td>\n      <td>164414.0</td>\n      <td>10656.0</td>\n      <td>39033.0</td>\n      <td>45561.0</td>\n      <td>37886.0</td>\n      <td>...</td>\n      <td>40148.0</td>\n      <td>30363.0</td>\n      <td>104085</td>\n      <td>72.095118</td>\n      <td>4.492676</td>\n      <td>17.754924</td>\n      <td>19.172290</td>\n      <td>17.466056</td>\n      <td>13.209172</td>\n      <td>45.281320</td>\n    </tr>\n    <tr>\n      <th>2</th>\n      <td>36093</td>\n      <td>Schenectady County, New York</td>\n      <td>36</td>\n      <td>93</td>\n      <td>155565</td>\n      <td>107453.0</td>\n      <td>10085.0</td>\n      <td>32144.0</td>\n      <td>35263.0</td>\n      <td>17210.0</td>\n      <td>...</td>\n      <td>22627.0</td>\n      <td>15566.0</td>\n      <td>59970</td>\n      <td>70.183324</td>\n      <td>5.047682</td>\n      <td>20.198456</td>\n      <td>20.343982</td>\n      <td>14.569959</td>\n      <td>10.023245</td>\n      <td>38.615831</td>\n    </tr>\n    <tr>\n      <th>3</th>\n      <td>36101</td>\n      <td>Steuben County, New York</td>\n      <td>36</td>\n      <td>101</td>\n      <td>96281</td>\n      <td>68011.0</td>\n      <td>6510.0</td>\n      <td>25920.0</td>\n      <td>20685.0</td>\n      <td>7451.0</td>\n      <td>...</td>\n      <td>8066.0</td>\n      <td>8475.0</td>\n      <td>35505</td>\n      <td>71.044989</td>\n      <td>6.093585</td>\n      <td>25.791841</td>\n      <td>21.817171</td>\n      <td>8.456788</td>\n      <td>8.885604</td>\n      <td>37.225175</td>\n    </tr>\n    <tr>\n      <th>4</th>\n      <td>36103</td>\n      <td>Suffolk County, New York</td>\n      <td>36</td>\n      <td>103</td>\n      <td>1492953</td>\n      <td>1036946.0</td>\n      <td>102621.0</td>\n      <td>277080.0</td>\n      <td>279213.0</td>\n      <td>208064.0</td>\n      <td>...</td>\n      <td>214035.0</td>\n      <td>182346.0</td>\n      <td>629360</td>\n      <td>70.148605</td>\n      <td>6.397598</td>\n      <td>18.389192</td>\n      <td>18.517663</td>\n      <td>14.495114</td>\n      <td>12.349037</td>\n      <td>42.622211</td>\n    </tr>\n    <tr>\n      <th>...</th>\n      <td>...</td>\n      <td>...</td>\n      <td>...</td>\n      <td>...</td>\n      <td>...</td>\n      <td>...</td>\n      <td>...</td>\n      <td>...</td>\n      <td>...</td>\n      <td>...</td>\n      <td>...</td>\n      <td>...</td>\n      <td>...</td>\n      <td>...</td>\n      <td>...</td>\n      <td>...</td>\n      <td>...</td>\n      <td>...</td>\n      <td>...</td>\n      <td>...</td>\n      <td>...</td>\n    </tr>\n    <tr>\n      <th>831</th>\n      <td>36079</td>\n      <td>Putnam County, New York</td>\n      <td>36</td>\n      <td>79</td>\n      <td>99323</td>\n      <td>71447.0</td>\n      <td>5090.0</td>\n      <td>20597.0</td>\n      <td>18095.0</td>\n      <td>14929.0</td>\n      <td>...</td>\n      <td>15240.0</td>\n      <td>12261.0</td>\n      <td>42420</td>\n      <td>73.443857</td>\n      <td>5.721115</td>\n      <td>19.355167</td>\n      <td>20.396664</td>\n      <td>15.500407</td>\n      <td>12.470504</td>\n      <td>43.144833</td>\n    </tr>\n    <tr>\n      <th>832</th>\n      <td>36081</td>\n      <td>Queens County, New York</td>\n      <td>36</td>\n      <td>81</td>\n      <td>2358582</td>\n      <td>1695302.0</td>\n      <td>304984.0</td>\n      <td>493794.0</td>\n      <td>372885.0</td>\n      <td>335990.0</td>\n      <td>...</td>\n      <td>334272.0</td>\n      <td>207624.0</td>\n      <td>387870</td>\n      <td>72.484558</td>\n      <td>12.328372</td>\n      <td>19.812340</td>\n      <td>16.300805</td>\n      <td>14.831103</td>\n      <td>9.211938</td>\n      <td>17.209159</td>\n    </tr>\n    <tr>\n      <th>833</th>\n      <td>36083</td>\n      <td>Rensselaer County, New York</td>\n      <td>36</td>\n      <td>83</td>\n      <td>159722</td>\n      <td>111047.0</td>\n      <td>9095.0</td>\n      <td>31730.0</td>\n      <td>34954.0</td>\n      <td>20143.0</td>\n      <td>...</td>\n      <td>20896.0</td>\n      <td>18203.0</td>\n      <td>65615</td>\n      <td>70.327759</td>\n      <td>5.902441</td>\n      <td>19.919478</td>\n      <td>19.870963</td>\n      <td>13.165820</td>\n      <td>11.469058</td>\n      <td>41.341659</td>\n    </tr>\n    <tr>\n      <th>834</th>\n      <td>36085</td>\n      <td>Richmond County, New York</td>\n      <td>36</td>\n      <td>85</td>\n      <td>479458</td>\n      <td>334079.0</td>\n      <td>39031.0</td>\n      <td>100730.0</td>\n      <td>83679.0</td>\n      <td>66108.0</td>\n      <td>...</td>\n      <td>71914.0</td>\n      <td>48875.0</td>\n      <td>128740</td>\n      <td>70.041143</td>\n      <td>7.701258</td>\n      <td>20.426427</td>\n      <td>16.545240</td>\n      <td>15.103446</td>\n      <td>10.264773</td>\n      <td>27.038096</td>\n    </tr>\n    <tr>\n      <th>835</th>\n      <td>36087</td>\n      <td>Rockland County, New York</td>\n      <td>36</td>\n      <td>87</td>\n      <td>328868</td>\n      <td>205985.0</td>\n      <td>22972.0</td>\n      <td>46985.0</td>\n      <td>51510.0</td>\n      <td>46786.0</td>\n      <td>...</td>\n      <td>46487.0</td>\n      <td>39510.0</td>\n      <td>111705</td>\n      <td>62.486456</td>\n      <td>6.950511</td>\n      <td>13.296029</td>\n      <td>15.843383</td>\n      <td>14.269051</td>\n      <td>12.127481</td>\n      <td>34.287530</td>\n    </tr>\n  </tbody>\n</table>\n<p>157 rows × 49 columns</p>\n</div>"
     },
     "metadata": {},
     "output_type": "display_data"
    }
   ],
   "source": [
    "NE_states = get_NE_States(educ_vehicle_2017_2019, 'state')\n",
    "NE_educ_vehicle_2017_2019 = educ_vehicle_2017_2019.loc[NE_states]\n",
    "display(NE_educ_vehicle_2017_2019)"
   ],
   "metadata": {
    "collapsed": false,
    "pycharm": {
     "name": "#%%\n"
    }
   }
  },
  {
   "cell_type": "markdown",
   "source": [
    "## Merge demographic years as one spanning 2017-2019\n"
   ],
   "metadata": {
    "collapsed": false
   }
  },
  {
   "cell_type": "code",
   "execution_count": 106,
   "outputs": [
    {
     "name": "stderr",
     "output_type": "stream",
     "text": [
      "/home/wkc/.local/lib/python3.8/site-packages/pandas/core/frame.py:4300: SettingWithCopyWarning: \n",
      "A value is trying to be set on a copy of a slice from a DataFrame\n",
      "\n",
      "See the caveats in the documentation: https://pandas.pydata.org/pandas-docs/stable/user_guide/indexing.html#returning-a-view-versus-a-copy\n",
      "  return super().rename(\n"
     ]
    }
   ],
   "source": [
    "# add suffix to each column name then merge\n",
    "demographic = NE_dem_ratio_17.columns.values[3:]\n",
    "\n",
    "for dem in demographic:\n",
    "    NE_dem_ratio_17.rename(columns={dem:dem + '_2017'}, inplace=True)\n",
    "    NE_dem_ratio_18.rename(columns={dem:dem + '_2018'}, inplace=True)\n",
    "    NE_dem_ratio_19.rename(columns={dem:dem + '_2019'}, inplace=True)"
   ],
   "metadata": {
    "collapsed": false,
    "pycharm": {
     "name": "#%%\n"
    }
   }
  },
  {
   "cell_type": "code",
   "execution_count": 107,
   "outputs": [
    {
     "data": {
      "text/plain": "    GeoFIPS       STNAME            CTYNAME  TOT_POP_2017  TOT_MALE_2017  \\\n0     09001  Connecticut   Fairfield County        943038         459242   \n1     09003  Connecticut    Hartford County        893076         433833   \n2     09005  Connecticut  Litchfield County        181667          89749   \n3     09007  Connecticut   Middlesex County        162942          79376   \n4     09009  Connecticut   New Haven County        857748         413560   \n..      ...          ...                ...           ...            ...   \n240   50019      Vermont     Orleans County         26811          13459   \n241   50021      Vermont     Rutland County         59006          29118   \n242   50023      Vermont  Washington County         58253          28808   \n243   50025      Vermont     Windham County         42851          20998   \n244   50027      Vermont     Windsor County         55224          26961   \n\n     TOT_FEMALE_2017  WA_MALE_2017  WA_FEMALE_2017  BA_MALE_2017  \\\n0             483796        366178          379174         54885   \n1             459243        327876          347484         66613   \n2              91918         83969           86459          2095   \n3              83566         70949           74431          4283   \n4             444188        324268          344780         59423   \n..               ...           ...             ...           ...   \n240            13352         12970           12884           128   \n241            29888         28147           28858           245   \n242            29445         27604           28267           334   \n243            21853         19944           20751           355   \n244            28263         25896           27192           279   \n\n     BA_FEMALE_2017  ...  HWAC_MALE_ratio_2019  HWAC_FEMALE_ratio_2019  \\\n0             63641  ...              9.077186                8.966514   \n1             71919  ...              7.626834                7.970103   \n2              1760  ...              3.141965                3.005551   \n3              4437  ...              2.782019                2.829422   \n4             66910  ...              8.058080                8.240939   \n..              ...  ...                   ...                     ...   \n240              83  ...              0.828494                0.702741   \n241             148  ...              0.740664                0.704576   \n242             218  ...              0.919379                0.910819   \n243             247  ...              1.162901                1.025532   \n244             201  ...              0.868112                0.824525   \n\n     HBAC_MALE_ratio_2019  HBAC_FEMALE_ratio_2019  HIAC_MALE_ratio_2019  \\\n0                1.128341                1.183995              0.319082   \n1                1.458642                1.633585              0.303234   \n2                0.454714                0.417561              0.167468   \n3                0.419858                0.471570              0.088035   \n4                1.302943                1.452343              0.285812   \n..                    ...                     ...                   ...   \n240              0.073973                0.070274              0.059178   \n241              0.089361                0.044680              0.054991   \n242              0.089027                0.051362              0.068483   \n243              0.118422                0.146843              0.073421   \n244              0.088991                0.072645              0.058116   \n\n     HIAC_FEMALE_ratio_2019  HAAC_MALE_ratio_2019  HAAC_FEMALE_ratio_2019  \\\n0                  0.286113              0.119788                0.099647   \n1                  0.315458              0.137711                0.124815   \n2                  0.144732              0.053789                0.051017   \n3                  0.112044              0.056022                0.052944   \n4                  0.297628              0.097104                0.095115   \n..                      ...                   ...                     ...   \n240                0.051781              0.022192                0.018493   \n241                0.049836              0.024059                0.015466   \n242                0.053074              0.018833                0.020545   \n243                0.066316              0.033158                0.028421   \n244                0.058116              0.019977                0.021794   \n\n     HNAC_MALE_ratio_2019  HNAC_FEMALE_ratio_2019  \n0                0.077173                0.059682  \n1                0.069304                0.052819  \n2                0.030499                0.022736  \n3                0.029550                0.032013  \n4                0.048786                0.047733  \n..                    ...                     ...  \n240              0.011096                0.007397  \n241              0.006874                0.005155  \n242              0.006848                0.000000  \n243              0.011842                0.004737  \n244              0.009081                0.003632  \n\n[245 rows x 438 columns]",
      "text/html": "<div>\n<style scoped>\n    .dataframe tbody tr th:only-of-type {\n        vertical-align: middle;\n    }\n\n    .dataframe tbody tr th {\n        vertical-align: top;\n    }\n\n    .dataframe thead th {\n        text-align: right;\n    }\n</style>\n<table border=\"1\" class=\"dataframe\">\n  <thead>\n    <tr style=\"text-align: right;\">\n      <th></th>\n      <th>GeoFIPS</th>\n      <th>STNAME</th>\n      <th>CTYNAME</th>\n      <th>TOT_POP_2017</th>\n      <th>TOT_MALE_2017</th>\n      <th>TOT_FEMALE_2017</th>\n      <th>WA_MALE_2017</th>\n      <th>WA_FEMALE_2017</th>\n      <th>BA_MALE_2017</th>\n      <th>BA_FEMALE_2017</th>\n      <th>...</th>\n      <th>HWAC_MALE_ratio_2019</th>\n      <th>HWAC_FEMALE_ratio_2019</th>\n      <th>HBAC_MALE_ratio_2019</th>\n      <th>HBAC_FEMALE_ratio_2019</th>\n      <th>HIAC_MALE_ratio_2019</th>\n      <th>HIAC_FEMALE_ratio_2019</th>\n      <th>HAAC_MALE_ratio_2019</th>\n      <th>HAAC_FEMALE_ratio_2019</th>\n      <th>HNAC_MALE_ratio_2019</th>\n      <th>HNAC_FEMALE_ratio_2019</th>\n    </tr>\n  </thead>\n  <tbody>\n    <tr>\n      <th>0</th>\n      <td>09001</td>\n      <td>Connecticut</td>\n      <td>Fairfield County</td>\n      <td>943038</td>\n      <td>459242</td>\n      <td>483796</td>\n      <td>366178</td>\n      <td>379174</td>\n      <td>54885</td>\n      <td>63641</td>\n      <td>...</td>\n      <td>9.077186</td>\n      <td>8.966514</td>\n      <td>1.128341</td>\n      <td>1.183995</td>\n      <td>0.319082</td>\n      <td>0.286113</td>\n      <td>0.119788</td>\n      <td>0.099647</td>\n      <td>0.077173</td>\n      <td>0.059682</td>\n    </tr>\n    <tr>\n      <th>1</th>\n      <td>09003</td>\n      <td>Connecticut</td>\n      <td>Hartford County</td>\n      <td>893076</td>\n      <td>433833</td>\n      <td>459243</td>\n      <td>327876</td>\n      <td>347484</td>\n      <td>66613</td>\n      <td>71919</td>\n      <td>...</td>\n      <td>7.626834</td>\n      <td>7.970103</td>\n      <td>1.458642</td>\n      <td>1.633585</td>\n      <td>0.303234</td>\n      <td>0.315458</td>\n      <td>0.137711</td>\n      <td>0.124815</td>\n      <td>0.069304</td>\n      <td>0.052819</td>\n    </tr>\n    <tr>\n      <th>2</th>\n      <td>09005</td>\n      <td>Connecticut</td>\n      <td>Litchfield County</td>\n      <td>181667</td>\n      <td>89749</td>\n      <td>91918</td>\n      <td>83969</td>\n      <td>86459</td>\n      <td>2095</td>\n      <td>1760</td>\n      <td>...</td>\n      <td>3.141965</td>\n      <td>3.005551</td>\n      <td>0.454714</td>\n      <td>0.417561</td>\n      <td>0.167468</td>\n      <td>0.144732</td>\n      <td>0.053789</td>\n      <td>0.051017</td>\n      <td>0.030499</td>\n      <td>0.022736</td>\n    </tr>\n    <tr>\n      <th>3</th>\n      <td>09007</td>\n      <td>Connecticut</td>\n      <td>Middlesex County</td>\n      <td>162942</td>\n      <td>79376</td>\n      <td>83566</td>\n      <td>70949</td>\n      <td>74431</td>\n      <td>4283</td>\n      <td>4437</td>\n      <td>...</td>\n      <td>2.782019</td>\n      <td>2.829422</td>\n      <td>0.419858</td>\n      <td>0.471570</td>\n      <td>0.088035</td>\n      <td>0.112044</td>\n      <td>0.056022</td>\n      <td>0.052944</td>\n      <td>0.029550</td>\n      <td>0.032013</td>\n    </tr>\n    <tr>\n      <th>4</th>\n      <td>09009</td>\n      <td>Connecticut</td>\n      <td>New Haven County</td>\n      <td>857748</td>\n      <td>413560</td>\n      <td>444188</td>\n      <td>324268</td>\n      <td>344780</td>\n      <td>59423</td>\n      <td>66910</td>\n      <td>...</td>\n      <td>8.058080</td>\n      <td>8.240939</td>\n      <td>1.302943</td>\n      <td>1.452343</td>\n      <td>0.285812</td>\n      <td>0.297628</td>\n      <td>0.097104</td>\n      <td>0.095115</td>\n      <td>0.048786</td>\n      <td>0.047733</td>\n    </tr>\n    <tr>\n      <th>...</th>\n      <td>...</td>\n      <td>...</td>\n      <td>...</td>\n      <td>...</td>\n      <td>...</td>\n      <td>...</td>\n      <td>...</td>\n      <td>...</td>\n      <td>...</td>\n      <td>...</td>\n      <td>...</td>\n      <td>...</td>\n      <td>...</td>\n      <td>...</td>\n      <td>...</td>\n      <td>...</td>\n      <td>...</td>\n      <td>...</td>\n      <td>...</td>\n      <td>...</td>\n      <td>...</td>\n    </tr>\n    <tr>\n      <th>240</th>\n      <td>50019</td>\n      <td>Vermont</td>\n      <td>Orleans County</td>\n      <td>26811</td>\n      <td>13459</td>\n      <td>13352</td>\n      <td>12970</td>\n      <td>12884</td>\n      <td>128</td>\n      <td>83</td>\n      <td>...</td>\n      <td>0.828494</td>\n      <td>0.702741</td>\n      <td>0.073973</td>\n      <td>0.070274</td>\n      <td>0.059178</td>\n      <td>0.051781</td>\n      <td>0.022192</td>\n      <td>0.018493</td>\n      <td>0.011096</td>\n      <td>0.007397</td>\n    </tr>\n    <tr>\n      <th>241</th>\n      <td>50021</td>\n      <td>Vermont</td>\n      <td>Rutland County</td>\n      <td>59006</td>\n      <td>29118</td>\n      <td>29888</td>\n      <td>28147</td>\n      <td>28858</td>\n      <td>245</td>\n      <td>148</td>\n      <td>...</td>\n      <td>0.740664</td>\n      <td>0.704576</td>\n      <td>0.089361</td>\n      <td>0.044680</td>\n      <td>0.054991</td>\n      <td>0.049836</td>\n      <td>0.024059</td>\n      <td>0.015466</td>\n      <td>0.006874</td>\n      <td>0.005155</td>\n    </tr>\n    <tr>\n      <th>242</th>\n      <td>50023</td>\n      <td>Vermont</td>\n      <td>Washington County</td>\n      <td>58253</td>\n      <td>28808</td>\n      <td>29445</td>\n      <td>27604</td>\n      <td>28267</td>\n      <td>334</td>\n      <td>218</td>\n      <td>...</td>\n      <td>0.919379</td>\n      <td>0.910819</td>\n      <td>0.089027</td>\n      <td>0.051362</td>\n      <td>0.068483</td>\n      <td>0.053074</td>\n      <td>0.018833</td>\n      <td>0.020545</td>\n      <td>0.006848</td>\n      <td>0.000000</td>\n    </tr>\n    <tr>\n      <th>243</th>\n      <td>50025</td>\n      <td>Vermont</td>\n      <td>Windham County</td>\n      <td>42851</td>\n      <td>20998</td>\n      <td>21853</td>\n      <td>19944</td>\n      <td>20751</td>\n      <td>355</td>\n      <td>247</td>\n      <td>...</td>\n      <td>1.162901</td>\n      <td>1.025532</td>\n      <td>0.118422</td>\n      <td>0.146843</td>\n      <td>0.073421</td>\n      <td>0.066316</td>\n      <td>0.033158</td>\n      <td>0.028421</td>\n      <td>0.011842</td>\n      <td>0.004737</td>\n    </tr>\n    <tr>\n      <th>244</th>\n      <td>50027</td>\n      <td>Vermont</td>\n      <td>Windsor County</td>\n      <td>55224</td>\n      <td>26961</td>\n      <td>28263</td>\n      <td>25896</td>\n      <td>27192</td>\n      <td>279</td>\n      <td>201</td>\n      <td>...</td>\n      <td>0.868112</td>\n      <td>0.824525</td>\n      <td>0.088991</td>\n      <td>0.072645</td>\n      <td>0.058116</td>\n      <td>0.058116</td>\n      <td>0.019977</td>\n      <td>0.021794</td>\n      <td>0.009081</td>\n      <td>0.003632</td>\n    </tr>\n  </tbody>\n</table>\n<p>245 rows × 438 columns</p>\n</div>"
     },
     "metadata": {},
     "output_type": "display_data"
    }
   ],
   "source": [
    "NE_dem_ratio_2017_2018 = pd.merge(NE_dem_ratio_17, NE_dem_ratio_18, how='inner')\n",
    "NE_dem_ratio_2017_2019 = pd.merge(NE_dem_ratio_2017_2018, NE_dem_ratio_19, how='inner')\n",
    "NE_dem_ratio_2017_2019.shape\n",
    "display(NE_dem_ratio_2017_2019)"
   ],
   "metadata": {
    "collapsed": false,
    "pycharm": {
     "name": "#%%\n"
    }
   }
  },
  {
   "cell_type": "markdown",
   "source": [
    "# saved cleaned up datasets\n"
   ],
   "metadata": {
    "collapsed": false
   }
  },
  {
   "cell_type": "code",
   "execution_count": 108,
   "outputs": [],
   "source": [
    "\n",
    "data_path = r'../../data/processed/alt_clean_NE_edu_vehicle_2017_2019.csv'\n",
    "NE_educ_vehicle_2017_2019.to_csv(data_path, index=False)\n",
    "\n",
    "data_path = r'../../data/processed/alt_clean_NE_pov_rate_2017_2019.csv'\n",
    "NE_pov_rate_2017_2019.to_csv(data_path, index=False)\n",
    "\n",
    "data_path = r'../../data/processed/alt_clean_NE_unemploy_rate_2017_2019.csv'\n",
    "NE_unemploy_rate_2017_2019.to_csv(data_path, index=False)\n",
    "\n",
    "data_path = r'../../data/processed/alt_clean_NE_dem_ratio_2017_2019.csv'\n",
    "NE_dem_ratio_2017_2019.to_csv(data_path, index=False)"
   ],
   "metadata": {
    "collapsed": false,
    "pycharm": {
     "name": "#%%\n"
    }
   }
  }
 ],
 "metadata": {
  "kernelspec": {
   "name": "pycharm-301d774e",
   "language": "python",
   "display_name": "PyCharm (API_Mini_Project)"
  },
  "language_info": {
   "codemirror_mode": {
    "name": "ipython",
    "version": 2
   },
   "file_extension": ".py",
   "mimetype": "text/x-python",
   "name": "python",
   "nbconvert_exporter": "python",
   "pygments_lexer": "ipython2",
   "version": "2.7.6"
  }
 },
 "nbformat": 4,
 "nbformat_minor": 0
}