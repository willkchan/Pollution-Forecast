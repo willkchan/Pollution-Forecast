{
 "cells": [
  {
   "cell_type": "markdown",
   "source": [
    "# Running processes same as DataWrangling11 on all counties available in US"
   ],
   "metadata": {
    "collapsed": false
   }
  },
  {
   "cell_type": "markdown",
   "source": [
    "# Clean up new added datasets unemployment rates, poverty rate, education and vehicle\n",
    "\n",
    "# Importing libraries"
   ],
   "metadata": {
    "collapsed": false
   }
  },
  {
   "cell_type": "code",
   "execution_count": 196,
   "outputs": [],
   "source": [
    "import numpy as np\n",
    "import pandas as pd\n",
    "import seaborn as sns\n",
    "import sys\n",
    "import os\n",
    "import matplotlib.pyplot as plt\n",
    "import klib\n",
    "\n",
    "from IPython.core.display import display\n",
    "\n",
    "# pd.set_option('display.max_columns', None)\n",
    "# pd.reset_optio('max_rows')\n",
    "#np.set_printoptions(threshold=sys.maxsize)\n",
    "\n",
    "plt.style.use('dark_background')\n",
    "plt.rcParams.update({\"grid.linewidth\":0.5, \"grid.alpha\":0.5})\n",
    "sns.set(style='ticks', context='talk')"
   ],
   "metadata": {
    "collapsed": false,
    "pycharm": {
     "name": "#%%\n"
    }
   }
  },
  {
   "cell_type": "markdown",
   "source": [
    "# Load data and constants"
   ],
   "metadata": {
    "collapsed": false
   }
  },
  {
   "cell_type": "code",
   "execution_count": 197,
   "outputs": [],
   "source": [
    "daily_aqi_by_county_2017 = pd.read_csv('../../data/raw/daily_aqi_by_county_2017.csv')\n",
    "daily_aqi_by_county_2018 = pd.read_csv('../../data/raw/daily_aqi_by_county_2018.csv')\n",
    "daily_aqi_by_county_2019 = pd.read_csv('../../data/raw/daily_aqi_by_county_2019.csv')\n",
    "\n",
    "county_demographic = pd.read_csv('../../data/raw/county_cc-est2019-alldata.csv', encoding='latin-1')\n",
    "\n",
    "unemployment = pd.read_excel('../../data/raw/Unemployment.xls', header=None, sheet_name=0)\n",
    "\n",
    "# Small area income and poverty estimates\n",
    "saipe2017 = pd.read_excel('../../data/raw/saipe_economic/est17all.xls')\n",
    "saipe2018 = pd.read_excel('../../data/raw/saipe_economic/est18all.xls')\n",
    "saipe2019 = pd.read_excel('../../data/raw/saipe_economic/est19all.xls')\n",
    "\n",
    "educ_vehicle_2017 = pd.read_csv('../../data/processed/acs1_edu_vehicle2017.csv')\n",
    "educ_vehicle_2018 = pd.read_csv('../../data/processed/acs1_edu_vehicle2018.csv')\n",
    "educ_vehicle_2019 = pd.read_csv('../../data/processed/acs1_edu_vehicle2019.csv')\n",
    "\n",
    "annual_income_by_county = pd.read_csv('../../data/raw/CAINC1__ALL_AREAS_1969_2019.csv', encoding='latin-1')\n"
   ],
   "metadata": {
    "collapsed": false,
    "pycharm": {
     "name": "#%%\n"
    }
   }
  },
  {
   "cell_type": "code",
   "execution_count": 198,
   "outputs": [],
   "source": [
    "def remove_col(df, col_name):\n",
    "    '''Returns a dataframe with removed column or columns from old dataframe'''\n",
    "    new_df = df.copy()\n",
    "\n",
    "    if(type(col_name) != str and len(col_name) > 1):\n",
    "        for index in col_name:\n",
    "            new_df = new_df.drop(str(index), axis=1)\n",
    "    else:\n",
    "        new_df = new_df.drop(str(col_name), axis=1)\n",
    "    return new_df\n",
    "\n",
    "def get_df_with_geofips(df, state_code, county_code):\n",
    "    ''' Returns dataframe with geofips column '''\n",
    "    state_code = df[state_code].astype(str).values\n",
    "    county_code = df[county_code].astype(str).values\n",
    "\n",
    "    geofips = []\n",
    "    for stateID, countyID in zip(state_code, county_code):\n",
    "        id = ''\n",
    "        stateLen = len(stateID)\n",
    "        countyLen = len(countyID)\n",
    "        if(stateLen < 2):\n",
    "            id += '0' + stateID\n",
    "        else:\n",
    "            id += stateID\n",
    "        if(countyLen == 1):\n",
    "            id += '00' + countyID\n",
    "        elif(countyLen == 2):\n",
    "            id += '0' + countyID\n",
    "        else:\n",
    "            id += countyID\n",
    "        geofips.append(id)\n",
    "\n",
    "    df.insert(loc=0, column='GeoFIPS', value=geofips)\n",
    "    return df"
   ],
   "metadata": {
    "collapsed": false,
    "pycharm": {
     "name": "#%%\n"
    }
   }
  },
  {
   "cell_type": "markdown",
   "source": [
    "## Clean up and set up income datasets\n"
   ],
   "metadata": {
    "collapsed": false,
    "pycharm": {
     "name": "#%% md\n"
    }
   }
  },
  {
   "cell_type": "code",
   "execution_count": 199,
   "outputs": [
    {
     "data": {
      "text/plain": "       GeoFIPS         GeoName Region TableName  LineCode  \\\n0      \"00000\"   United States           CAINC1       1.0   \n1      \"00000\"   United States           CAINC1       2.0   \n2      \"00000\"   United States           CAINC1       3.0   \n3      \"01000\"         Alabama      5    CAINC1       1.0   \n4      \"01000\"         Alabama      5    CAINC1       2.0   \n...        ...             ...    ...       ...       ...   \n9589   \"97000\"  Rocky Mountain      7    CAINC1       2.0   \n9590   \"97000\"  Rocky Mountain      7    CAINC1       3.0   \n9591   \"98000\"        Far West      8    CAINC1       1.0   \n9592   \"98000\"        Far West      8    CAINC1       2.0   \n9593   \"98000\"        Far West      8    CAINC1       3.0   \n\n     IndustryClassification                              Description  \\\n0                       ...   Personal income (thousands of dollars)   \n1                       ...                  Population (persons) 1/   \n2                       ...  Per capita personal income (dollars) 2/   \n3                       ...   Personal income (thousands of dollars)   \n4                       ...                  Population (persons) 1/   \n...                     ...                                      ...   \n9589                    ...                  Population (persons) 1/   \n9590                    ...  Per capita personal income (dollars) 2/   \n9591                    ...   Personal income (thousands of dollars)   \n9592                    ...                  Population (persons) 1/   \n9593                    ...  Per capita personal income (dollars) 2/   \n\n                      Unit         2017         2018         2019  \n0     Thousands of dollars  16937582000  17839255000  18542262000  \n1        Number of persons    324985539    326687501    328239523  \n2                  Dollars        52118        54606        56490  \n3     Thousands of dollars    199999756    208752683    216449038  \n4        Number of persons      4874486      4887681      4903185  \n...                    ...          ...          ...          ...  \n9589     Number of persons     12062055     12233639     12399296  \n9590               Dollars        49991        52936        54873  \n9591  Thousands of dollars   3279057722   3472097346   3634009401  \n9592     Number of persons     56059482     56350416     56572426  \n9593               Dollars        58492        61616        64236  \n\n[9594 rows x 11 columns]",
      "text/html": "<div>\n<style scoped>\n    .dataframe tbody tr th:only-of-type {\n        vertical-align: middle;\n    }\n\n    .dataframe tbody tr th {\n        vertical-align: top;\n    }\n\n    .dataframe thead th {\n        text-align: right;\n    }\n</style>\n<table border=\"1\" class=\"dataframe\">\n  <thead>\n    <tr style=\"text-align: right;\">\n      <th></th>\n      <th>GeoFIPS</th>\n      <th>GeoName</th>\n      <th>Region</th>\n      <th>TableName</th>\n      <th>LineCode</th>\n      <th>IndustryClassification</th>\n      <th>Description</th>\n      <th>Unit</th>\n      <th>2017</th>\n      <th>2018</th>\n      <th>2019</th>\n    </tr>\n  </thead>\n  <tbody>\n    <tr>\n      <th>0</th>\n      <td>\"00000\"</td>\n      <td>United States</td>\n      <td></td>\n      <td>CAINC1</td>\n      <td>1.0</td>\n      <td>...</td>\n      <td>Personal income (thousands of dollars)</td>\n      <td>Thousands of dollars</td>\n      <td>16937582000</td>\n      <td>17839255000</td>\n      <td>18542262000</td>\n    </tr>\n    <tr>\n      <th>1</th>\n      <td>\"00000\"</td>\n      <td>United States</td>\n      <td></td>\n      <td>CAINC1</td>\n      <td>2.0</td>\n      <td>...</td>\n      <td>Population (persons) 1/</td>\n      <td>Number of persons</td>\n      <td>324985539</td>\n      <td>326687501</td>\n      <td>328239523</td>\n    </tr>\n    <tr>\n      <th>2</th>\n      <td>\"00000\"</td>\n      <td>United States</td>\n      <td></td>\n      <td>CAINC1</td>\n      <td>3.0</td>\n      <td>...</td>\n      <td>Per capita personal income (dollars) 2/</td>\n      <td>Dollars</td>\n      <td>52118</td>\n      <td>54606</td>\n      <td>56490</td>\n    </tr>\n    <tr>\n      <th>3</th>\n      <td>\"01000\"</td>\n      <td>Alabama</td>\n      <td>5</td>\n      <td>CAINC1</td>\n      <td>1.0</td>\n      <td>...</td>\n      <td>Personal income (thousands of dollars)</td>\n      <td>Thousands of dollars</td>\n      <td>199999756</td>\n      <td>208752683</td>\n      <td>216449038</td>\n    </tr>\n    <tr>\n      <th>4</th>\n      <td>\"01000\"</td>\n      <td>Alabama</td>\n      <td>5</td>\n      <td>CAINC1</td>\n      <td>2.0</td>\n      <td>...</td>\n      <td>Population (persons) 1/</td>\n      <td>Number of persons</td>\n      <td>4874486</td>\n      <td>4887681</td>\n      <td>4903185</td>\n    </tr>\n    <tr>\n      <th>...</th>\n      <td>...</td>\n      <td>...</td>\n      <td>...</td>\n      <td>...</td>\n      <td>...</td>\n      <td>...</td>\n      <td>...</td>\n      <td>...</td>\n      <td>...</td>\n      <td>...</td>\n      <td>...</td>\n    </tr>\n    <tr>\n      <th>9589</th>\n      <td>\"97000\"</td>\n      <td>Rocky Mountain</td>\n      <td>7</td>\n      <td>CAINC1</td>\n      <td>2.0</td>\n      <td>...</td>\n      <td>Population (persons) 1/</td>\n      <td>Number of persons</td>\n      <td>12062055</td>\n      <td>12233639</td>\n      <td>12399296</td>\n    </tr>\n    <tr>\n      <th>9590</th>\n      <td>\"97000\"</td>\n      <td>Rocky Mountain</td>\n      <td>7</td>\n      <td>CAINC1</td>\n      <td>3.0</td>\n      <td>...</td>\n      <td>Per capita personal income (dollars) 2/</td>\n      <td>Dollars</td>\n      <td>49991</td>\n      <td>52936</td>\n      <td>54873</td>\n    </tr>\n    <tr>\n      <th>9591</th>\n      <td>\"98000\"</td>\n      <td>Far West</td>\n      <td>8</td>\n      <td>CAINC1</td>\n      <td>1.0</td>\n      <td>...</td>\n      <td>Personal income (thousands of dollars)</td>\n      <td>Thousands of dollars</td>\n      <td>3279057722</td>\n      <td>3472097346</td>\n      <td>3634009401</td>\n    </tr>\n    <tr>\n      <th>9592</th>\n      <td>\"98000\"</td>\n      <td>Far West</td>\n      <td>8</td>\n      <td>CAINC1</td>\n      <td>2.0</td>\n      <td>...</td>\n      <td>Population (persons) 1/</td>\n      <td>Number of persons</td>\n      <td>56059482</td>\n      <td>56350416</td>\n      <td>56572426</td>\n    </tr>\n    <tr>\n      <th>9593</th>\n      <td>\"98000\"</td>\n      <td>Far West</td>\n      <td>8</td>\n      <td>CAINC1</td>\n      <td>3.0</td>\n      <td>...</td>\n      <td>Per capita personal income (dollars) 2/</td>\n      <td>Dollars</td>\n      <td>58492</td>\n      <td>61616</td>\n      <td>64236</td>\n    </tr>\n  </tbody>\n</table>\n<p>9594 rows × 11 columns</p>\n</div>"
     },
     "execution_count": 199,
     "metadata": {},
     "output_type": "execute_result"
    }
   ],
   "source": [
    "annual_income_by_county\n",
    "\n",
    "all_incomes_2017_2019 = remove_col(annual_income_by_county, range(1969, 2017))\n",
    "\n",
    "# used to remove last 4 rows as they are not index data; looks like extra info\n",
    "all_incomes_2017_2019 = all_incomes_2017_2019[:len(all_incomes_2017_2019) - 4]\n",
    "\n",
    "# all_incomes_2017_2019.info()\n",
    "all_incomes_2017_2019"
   ],
   "metadata": {
    "collapsed": false,
    "pycharm": {
     "name": "#%%\n"
    }
   }
  },
  {
   "cell_type": "markdown",
   "source": [
    "* Years 1969 to 2016 were removed as we only have interest on 2017-2019\n",
    "* Also last four rows were remoed as they were not row data, there were just caption text\n"
   ],
   "metadata": {
    "collapsed": false
   }
  },
  {
   "cell_type": "code",
   "execution_count": 200,
   "outputs": [
    {
     "name": "stdout",
     "output_type": "stream",
     "text": [
      "<class 'pandas.core.frame.DataFrame'>\n",
      "RangeIndex: 9594 entries, 0 to 9593\n",
      "Data columns (total 11 columns):\n",
      " #   Column                  Non-Null Count  Dtype  \n",
      "---  ------                  --------------  -----  \n",
      " 0   GeoFIPS                 9594 non-null   object \n",
      " 1   GeoName                 9594 non-null   object \n",
      " 2   Region                  9594 non-null   object \n",
      " 3   TableName               9594 non-null   object \n",
      " 4   LineCode                9594 non-null   float64\n",
      " 5   IndustryClassification  9594 non-null   object \n",
      " 6   Description             9594 non-null   object \n",
      " 7   Unit                    9594 non-null   object \n",
      " 8   2017                    9519 non-null   float32\n",
      " 9   2018                    9519 non-null   float32\n",
      " 10  2019                    9519 non-null   float32\n",
      "dtypes: float32(3), float64(1), object(7)\n",
      "memory usage: 712.2+ KB\n"
     ]
    }
   ],
   "source": [
    "all_incomes_2017_2019['2017'] = pd.to_numeric(all_incomes_2017_2019['2017'], downcast='float', errors='coerce')\n",
    "all_incomes_2017_2019['2018'] = pd.to_numeric(all_incomes_2017_2019['2018'], downcast='float', errors='coerce')\n",
    "all_incomes_2017_2019['2019'] = pd.to_numeric(all_incomes_2017_2019['2019'], downcast='float', errors='coerce')\n",
    "\n",
    "# all_incomes_2017_2019 = remove_col(all_incomes_2017_2019, range(2017,2020))\n",
    "all_incomes_2017_2019.info()"
   ],
   "metadata": {
    "collapsed": false,
    "pycharm": {
     "name": "#%%\n"
    }
   }
  },
  {
   "cell_type": "markdown",
   "source": [
    "* Columns were changed to appropriate types\n",
    "* Income was changed to type float\n",
    "* 'NA' string was changed to np.nan\n",
    "** Rename column income data to be more descriptive and remove old column in place of new column names"
   ],
   "metadata": {
    "collapsed": false
   }
  },
  {
   "cell_type": "code",
   "execution_count": 201,
   "outputs": [
    {
     "name": "stderr",
     "output_type": "stream",
     "text": [
      "/home/wkc/.local/lib/python3.8/site-packages/pandas/core/frame.py:4300: SettingWithCopyWarning: \n",
      "A value is trying to be set on a copy of a slice from a DataFrame\n",
      "\n",
      "See the caveats in the documentation: https://pandas.pydata.org/pandas-docs/stable/user_guide/indexing.html#returning-a-view-versus-a-copy\n",
      "  return super().rename(\n"
     ]
    },
    {
     "data": {
      "text/plain": "       GeoFIPS         GeoName Region TableName  LineCode  \\\n0      \"00000\"   United States           CAINC1       1.0   \n3      \"01000\"         Alabama      5    CAINC1       1.0   \n6      \"01001\"     Autauga, AL      5    CAINC1       1.0   \n9      \"01003\"     Baldwin, AL      5    CAINC1       1.0   \n12     \"01005\"     Barbour, AL      5    CAINC1       1.0   \n...        ...             ...    ...       ...       ...   \n9579   \"94000\"          Plains      4    CAINC1       1.0   \n9582   \"95000\"       Southeast      5    CAINC1       1.0   \n9585   \"96000\"       Southwest      6    CAINC1       1.0   \n9588   \"97000\"  Rocky Mountain      7    CAINC1       1.0   \n9591   \"98000\"        Far West      8    CAINC1       1.0   \n\n     IndustryClassification                             Description  \\\n0                       ...  Personal income (thousands of dollars)   \n3                       ...  Personal income (thousands of dollars)   \n6                       ...  Personal income (thousands of dollars)   \n9                       ...  Personal income (thousands of dollars)   \n12                      ...  Personal income (thousands of dollars)   \n...                     ...                                     ...   \n9579                    ...  Personal income (thousands of dollars)   \n9582                    ...  Personal income (thousands of dollars)   \n9585                    ...  Personal income (thousands of dollars)   \n9588                    ...  Personal income (thousands of dollars)   \n9591                    ...  Personal income (thousands of dollars)   \n\n                      Unit  Personal income (thousands of dollars) 2017  \\\n0     Thousands of dollars                                 1.693758e+10   \n3     Thousands of dollars                                 1.999998e+08   \n6     Thousands of dollars                                 2.276561e+06   \n9     Thousands of dollars                                 9.471242e+06   \n12    Thousands of dollars                                 8.381840e+05   \n...                    ...                                          ...   \n9579  Thousands of dollars                                 1.055029e+09   \n9582  Thousands of dollars                                 3.818755e+09   \n9585  Thousands of dollars                                 1.924648e+09   \n9588  Thousands of dollars                                 6.029942e+08   \n9591  Thousands of dollars                                 3.279058e+09   \n\n      Personal income (thousands of dollars) 2018  \\\n0                                    1.783926e+10   \n3                                    2.087527e+08   \n6                                    2.360366e+06   \n9                                    1.006597e+07   \n12                                   8.721890e+05   \n...                                           ...   \n9579                                 1.107630e+09   \n9582                                 4.022276e+09   \n9585                                 2.051027e+09   \n9588                                 6.476007e+08   \n9591                                 3.472097e+09   \n\n      Personal income (thousands of dollars) 2019  \n0                                    1.854226e+10  \n3                                    2.164490e+08  \n6                                    2.453617e+06  \n9                                    1.060026e+07  \n12                                   8.828340e+05  \n...                                           ...  \n9579                                 1.146515e+09  \n9582                                 4.173677e+09  \n9585                                 2.144764e+09  \n9588                                 6.803901e+08  \n9591                                 3.634009e+09  \n\n[3198 rows x 11 columns]",
      "text/html": "<div>\n<style scoped>\n    .dataframe tbody tr th:only-of-type {\n        vertical-align: middle;\n    }\n\n    .dataframe tbody tr th {\n        vertical-align: top;\n    }\n\n    .dataframe thead th {\n        text-align: right;\n    }\n</style>\n<table border=\"1\" class=\"dataframe\">\n  <thead>\n    <tr style=\"text-align: right;\">\n      <th></th>\n      <th>GeoFIPS</th>\n      <th>GeoName</th>\n      <th>Region</th>\n      <th>TableName</th>\n      <th>LineCode</th>\n      <th>IndustryClassification</th>\n      <th>Description</th>\n      <th>Unit</th>\n      <th>Personal income (thousands of dollars) 2017</th>\n      <th>Personal income (thousands of dollars) 2018</th>\n      <th>Personal income (thousands of dollars) 2019</th>\n    </tr>\n  </thead>\n  <tbody>\n    <tr>\n      <th>0</th>\n      <td>\"00000\"</td>\n      <td>United States</td>\n      <td></td>\n      <td>CAINC1</td>\n      <td>1.0</td>\n      <td>...</td>\n      <td>Personal income (thousands of dollars)</td>\n      <td>Thousands of dollars</td>\n      <td>1.693758e+10</td>\n      <td>1.783926e+10</td>\n      <td>1.854226e+10</td>\n    </tr>\n    <tr>\n      <th>3</th>\n      <td>\"01000\"</td>\n      <td>Alabama</td>\n      <td>5</td>\n      <td>CAINC1</td>\n      <td>1.0</td>\n      <td>...</td>\n      <td>Personal income (thousands of dollars)</td>\n      <td>Thousands of dollars</td>\n      <td>1.999998e+08</td>\n      <td>2.087527e+08</td>\n      <td>2.164490e+08</td>\n    </tr>\n    <tr>\n      <th>6</th>\n      <td>\"01001\"</td>\n      <td>Autauga, AL</td>\n      <td>5</td>\n      <td>CAINC1</td>\n      <td>1.0</td>\n      <td>...</td>\n      <td>Personal income (thousands of dollars)</td>\n      <td>Thousands of dollars</td>\n      <td>2.276561e+06</td>\n      <td>2.360366e+06</td>\n      <td>2.453617e+06</td>\n    </tr>\n    <tr>\n      <th>9</th>\n      <td>\"01003\"</td>\n      <td>Baldwin, AL</td>\n      <td>5</td>\n      <td>CAINC1</td>\n      <td>1.0</td>\n      <td>...</td>\n      <td>Personal income (thousands of dollars)</td>\n      <td>Thousands of dollars</td>\n      <td>9.471242e+06</td>\n      <td>1.006597e+07</td>\n      <td>1.060026e+07</td>\n    </tr>\n    <tr>\n      <th>12</th>\n      <td>\"01005\"</td>\n      <td>Barbour, AL</td>\n      <td>5</td>\n      <td>CAINC1</td>\n      <td>1.0</td>\n      <td>...</td>\n      <td>Personal income (thousands of dollars)</td>\n      <td>Thousands of dollars</td>\n      <td>8.381840e+05</td>\n      <td>8.721890e+05</td>\n      <td>8.828340e+05</td>\n    </tr>\n    <tr>\n      <th>...</th>\n      <td>...</td>\n      <td>...</td>\n      <td>...</td>\n      <td>...</td>\n      <td>...</td>\n      <td>...</td>\n      <td>...</td>\n      <td>...</td>\n      <td>...</td>\n      <td>...</td>\n      <td>...</td>\n    </tr>\n    <tr>\n      <th>9579</th>\n      <td>\"94000\"</td>\n      <td>Plains</td>\n      <td>4</td>\n      <td>CAINC1</td>\n      <td>1.0</td>\n      <td>...</td>\n      <td>Personal income (thousands of dollars)</td>\n      <td>Thousands of dollars</td>\n      <td>1.055029e+09</td>\n      <td>1.107630e+09</td>\n      <td>1.146515e+09</td>\n    </tr>\n    <tr>\n      <th>9582</th>\n      <td>\"95000\"</td>\n      <td>Southeast</td>\n      <td>5</td>\n      <td>CAINC1</td>\n      <td>1.0</td>\n      <td>...</td>\n      <td>Personal income (thousands of dollars)</td>\n      <td>Thousands of dollars</td>\n      <td>3.818755e+09</td>\n      <td>4.022276e+09</td>\n      <td>4.173677e+09</td>\n    </tr>\n    <tr>\n      <th>9585</th>\n      <td>\"96000\"</td>\n      <td>Southwest</td>\n      <td>6</td>\n      <td>CAINC1</td>\n      <td>1.0</td>\n      <td>...</td>\n      <td>Personal income (thousands of dollars)</td>\n      <td>Thousands of dollars</td>\n      <td>1.924648e+09</td>\n      <td>2.051027e+09</td>\n      <td>2.144764e+09</td>\n    </tr>\n    <tr>\n      <th>9588</th>\n      <td>\"97000\"</td>\n      <td>Rocky Mountain</td>\n      <td>7</td>\n      <td>CAINC1</td>\n      <td>1.0</td>\n      <td>...</td>\n      <td>Personal income (thousands of dollars)</td>\n      <td>Thousands of dollars</td>\n      <td>6.029942e+08</td>\n      <td>6.476007e+08</td>\n      <td>6.803901e+08</td>\n    </tr>\n    <tr>\n      <th>9591</th>\n      <td>\"98000\"</td>\n      <td>Far West</td>\n      <td>8</td>\n      <td>CAINC1</td>\n      <td>1.0</td>\n      <td>...</td>\n      <td>Personal income (thousands of dollars)</td>\n      <td>Thousands of dollars</td>\n      <td>3.279058e+09</td>\n      <td>3.472097e+09</td>\n      <td>3.634009e+09</td>\n    </tr>\n  </tbody>\n</table>\n<p>3198 rows × 11 columns</p>\n</div>"
     },
     "metadata": {},
     "output_type": "display_data"
    },
    {
     "data": {
      "text/plain": "       GeoFIPS         GeoName Region TableName  LineCode  \\\n2      \"00000\"   United States           CAINC1       3.0   \n5      \"01000\"         Alabama      5    CAINC1       3.0   \n8      \"01001\"     Autauga, AL      5    CAINC1       3.0   \n11     \"01003\"     Baldwin, AL      5    CAINC1       3.0   \n14     \"01005\"     Barbour, AL      5    CAINC1       3.0   \n...        ...             ...    ...       ...       ...   \n9581   \"94000\"          Plains      4    CAINC1       3.0   \n9584   \"95000\"       Southeast      5    CAINC1       3.0   \n9587   \"96000\"       Southwest      6    CAINC1       3.0   \n9590   \"97000\"  Rocky Mountain      7    CAINC1       3.0   \n9593   \"98000\"        Far West      8    CAINC1       3.0   \n\n     IndustryClassification                              Description     Unit  \\\n2                       ...  Per capita personal income (dollars) 2/  Dollars   \n5                       ...  Per capita personal income (dollars) 2/  Dollars   \n8                       ...  Per capita personal income (dollars) 2/  Dollars   \n11                      ...  Per capita personal income (dollars) 2/  Dollars   \n14                      ...  Per capita personal income (dollars) 2/  Dollars   \n...                     ...                                      ...      ...   \n9581                    ...  Per capita personal income (dollars) 2/  Dollars   \n9584                    ...  Per capita personal income (dollars) 2/  Dollars   \n9587                    ...  Per capita personal income (dollars) 2/  Dollars   \n9590                    ...  Per capita personal income (dollars) 2/  Dollars   \n9593                    ...  Per capita personal income (dollars) 2/  Dollars   \n\n      Per capita personal income (dollars) 2017  \\\n2                                       52118.0   \n5                                       41030.0   \n8                                       41101.0   \n11                                      44566.0   \n14                                      33318.0   \n...                                         ...   \n9581                                    49609.0   \n9584                                    45657.0   \n9587                                    46531.0   \n9590                                    49991.0   \n9593                                    58492.0   \n\n      Per capita personal income (dollars) 2018  \\\n2                                       54606.0   \n5                                       42710.0   \n8                                       42504.0   \n11                                      46205.0   \n14                                      35067.0   \n...                                         ...   \n9581                                    51879.0   \n9584                                    47715.0   \n9587                                    49045.0   \n9590                                    52936.0   \n9593                                    61616.0   \n\n      Per capita personal income (dollars) 2019  \n2                                       56490.0  \n5                                       44145.0  \n8                                       43917.0  \n11                                      47485.0  \n14                                      35763.0  \n...                                         ...  \n9581                                    53509.0  \n9584                                    49159.0  \n9587                                    50670.0  \n9590                                    54873.0  \n9593                                    64236.0  \n\n[3198 rows x 11 columns]",
      "text/html": "<div>\n<style scoped>\n    .dataframe tbody tr th:only-of-type {\n        vertical-align: middle;\n    }\n\n    .dataframe tbody tr th {\n        vertical-align: top;\n    }\n\n    .dataframe thead th {\n        text-align: right;\n    }\n</style>\n<table border=\"1\" class=\"dataframe\">\n  <thead>\n    <tr style=\"text-align: right;\">\n      <th></th>\n      <th>GeoFIPS</th>\n      <th>GeoName</th>\n      <th>Region</th>\n      <th>TableName</th>\n      <th>LineCode</th>\n      <th>IndustryClassification</th>\n      <th>Description</th>\n      <th>Unit</th>\n      <th>Per capita personal income (dollars) 2017</th>\n      <th>Per capita personal income (dollars) 2018</th>\n      <th>Per capita personal income (dollars) 2019</th>\n    </tr>\n  </thead>\n  <tbody>\n    <tr>\n      <th>2</th>\n      <td>\"00000\"</td>\n      <td>United States</td>\n      <td></td>\n      <td>CAINC1</td>\n      <td>3.0</td>\n      <td>...</td>\n      <td>Per capita personal income (dollars) 2/</td>\n      <td>Dollars</td>\n      <td>52118.0</td>\n      <td>54606.0</td>\n      <td>56490.0</td>\n    </tr>\n    <tr>\n      <th>5</th>\n      <td>\"01000\"</td>\n      <td>Alabama</td>\n      <td>5</td>\n      <td>CAINC1</td>\n      <td>3.0</td>\n      <td>...</td>\n      <td>Per capita personal income (dollars) 2/</td>\n      <td>Dollars</td>\n      <td>41030.0</td>\n      <td>42710.0</td>\n      <td>44145.0</td>\n    </tr>\n    <tr>\n      <th>8</th>\n      <td>\"01001\"</td>\n      <td>Autauga, AL</td>\n      <td>5</td>\n      <td>CAINC1</td>\n      <td>3.0</td>\n      <td>...</td>\n      <td>Per capita personal income (dollars) 2/</td>\n      <td>Dollars</td>\n      <td>41101.0</td>\n      <td>42504.0</td>\n      <td>43917.0</td>\n    </tr>\n    <tr>\n      <th>11</th>\n      <td>\"01003\"</td>\n      <td>Baldwin, AL</td>\n      <td>5</td>\n      <td>CAINC1</td>\n      <td>3.0</td>\n      <td>...</td>\n      <td>Per capita personal income (dollars) 2/</td>\n      <td>Dollars</td>\n      <td>44566.0</td>\n      <td>46205.0</td>\n      <td>47485.0</td>\n    </tr>\n    <tr>\n      <th>14</th>\n      <td>\"01005\"</td>\n      <td>Barbour, AL</td>\n      <td>5</td>\n      <td>CAINC1</td>\n      <td>3.0</td>\n      <td>...</td>\n      <td>Per capita personal income (dollars) 2/</td>\n      <td>Dollars</td>\n      <td>33318.0</td>\n      <td>35067.0</td>\n      <td>35763.0</td>\n    </tr>\n    <tr>\n      <th>...</th>\n      <td>...</td>\n      <td>...</td>\n      <td>...</td>\n      <td>...</td>\n      <td>...</td>\n      <td>...</td>\n      <td>...</td>\n      <td>...</td>\n      <td>...</td>\n      <td>...</td>\n      <td>...</td>\n    </tr>\n    <tr>\n      <th>9581</th>\n      <td>\"94000\"</td>\n      <td>Plains</td>\n      <td>4</td>\n      <td>CAINC1</td>\n      <td>3.0</td>\n      <td>...</td>\n      <td>Per capita personal income (dollars) 2/</td>\n      <td>Dollars</td>\n      <td>49609.0</td>\n      <td>51879.0</td>\n      <td>53509.0</td>\n    </tr>\n    <tr>\n      <th>9584</th>\n      <td>\"95000\"</td>\n      <td>Southeast</td>\n      <td>5</td>\n      <td>CAINC1</td>\n      <td>3.0</td>\n      <td>...</td>\n      <td>Per capita personal income (dollars) 2/</td>\n      <td>Dollars</td>\n      <td>45657.0</td>\n      <td>47715.0</td>\n      <td>49159.0</td>\n    </tr>\n    <tr>\n      <th>9587</th>\n      <td>\"96000\"</td>\n      <td>Southwest</td>\n      <td>6</td>\n      <td>CAINC1</td>\n      <td>3.0</td>\n      <td>...</td>\n      <td>Per capita personal income (dollars) 2/</td>\n      <td>Dollars</td>\n      <td>46531.0</td>\n      <td>49045.0</td>\n      <td>50670.0</td>\n    </tr>\n    <tr>\n      <th>9590</th>\n      <td>\"97000\"</td>\n      <td>Rocky Mountain</td>\n      <td>7</td>\n      <td>CAINC1</td>\n      <td>3.0</td>\n      <td>...</td>\n      <td>Per capita personal income (dollars) 2/</td>\n      <td>Dollars</td>\n      <td>49991.0</td>\n      <td>52936.0</td>\n      <td>54873.0</td>\n    </tr>\n    <tr>\n      <th>9593</th>\n      <td>\"98000\"</td>\n      <td>Far West</td>\n      <td>8</td>\n      <td>CAINC1</td>\n      <td>3.0</td>\n      <td>...</td>\n      <td>Per capita personal income (dollars) 2/</td>\n      <td>Dollars</td>\n      <td>58492.0</td>\n      <td>61616.0</td>\n      <td>64236.0</td>\n    </tr>\n  </tbody>\n</table>\n<p>3198 rows × 11 columns</p>\n</div>"
     },
     "metadata": {},
     "output_type": "display_data"
    }
   ],
   "source": [
    "personal_income = all_incomes_2017_2019['Description'] == ('Personal income (thousands of dollars)')\n",
    "per_capita_personal_income = all_incomes_2017_2019['Description'] == ('Per capita personal income (dollars) 2/')\n",
    "county_personal_incomes = all_incomes_2017_2019[personal_income]\n",
    "county_per_capita_personal_income = all_incomes_2017_2019[per_capita_personal_income]\n",
    "county_personal_incomes.rename(columns={'2017':'Personal income (thousands of dollars) 2017',\n",
    "                                        '2018':'Personal income (thousands of dollars) 2018',\n",
    "                                        '2019':'Personal income (thousands of dollars) 2019',}, inplace=True)\n",
    "county_per_capita_personal_income.rename(columns={'2017':'Per capita personal income (dollars) 2017',\n",
    "                                                  '2018':'Per capita personal income (dollars) 2018',\n",
    "                                                  '2019':'Per capita personal income (dollars) 2019',}, inplace=True)\n",
    "\n",
    "display(county_personal_incomes)\n",
    "display(county_per_capita_personal_income)"
   ],
   "metadata": {
    "collapsed": false,
    "pycharm": {
     "name": "#%%\n"
    }
   }
  },
  {
   "cell_type": "code",
   "execution_count": 202,
   "outputs": [
    {
     "name": "stderr",
     "output_type": "stream",
     "text": [
      "/home/wkc/.local/lib/python3.8/site-packages/pandas/core/frame.py:4167: SettingWithCopyWarning: \n",
      "A value is trying to be set on a copy of a slice from a DataFrame\n",
      "\n",
      "See the caveats in the documentation: https://pandas.pydata.org/pandas-docs/stable/user_guide/indexing.html#returning-a-view-versus-a-copy\n",
      "  return super().drop(\n"
     ]
    },
    {
     "data": {
      "text/plain": "       GeoFIPS         GeoName  Personal income (thousands of dollars) 2017  \\\n0      \"00000\"   United States                                 1.693758e+10   \n1      \"01000\"         Alabama                                 1.999998e+08   \n2      \"01001\"     Autauga, AL                                 2.276561e+06   \n3      \"01003\"     Baldwin, AL                                 9.471242e+06   \n4      \"01005\"     Barbour, AL                                 8.381840e+05   \n...        ...             ...                                          ...   \n3193   \"94000\"          Plains                                 1.055029e+09   \n3194   \"95000\"       Southeast                                 3.818755e+09   \n3195   \"96000\"       Southwest                                 1.924648e+09   \n3196   \"97000\"  Rocky Mountain                                 6.029942e+08   \n3197   \"98000\"        Far West                                 3.279058e+09   \n\n      Personal income (thousands of dollars) 2018  \\\n0                                    1.783926e+10   \n1                                    2.087527e+08   \n2                                    2.360366e+06   \n3                                    1.006597e+07   \n4                                    8.721890e+05   \n...                                           ...   \n3193                                 1.107630e+09   \n3194                                 4.022276e+09   \n3195                                 2.051027e+09   \n3196                                 6.476007e+08   \n3197                                 3.472097e+09   \n\n      Personal income (thousands of dollars) 2019  \\\n0                                    1.854226e+10   \n1                                    2.164490e+08   \n2                                    2.453617e+06   \n3                                    1.060026e+07   \n4                                    8.828340e+05   \n...                                           ...   \n3193                                 1.146515e+09   \n3194                                 4.173677e+09   \n3195                                 2.144764e+09   \n3196                                 6.803901e+08   \n3197                                 3.634009e+09   \n\n      Per capita personal income (dollars) 2017  \\\n0                                       52118.0   \n1                                       41030.0   \n2                                       41101.0   \n3                                       44566.0   \n4                                       33318.0   \n...                                         ...   \n3193                                    49609.0   \n3194                                    45657.0   \n3195                                    46531.0   \n3196                                    49991.0   \n3197                                    58492.0   \n\n      Per capita personal income (dollars) 2018  \\\n0                                       54606.0   \n1                                       42710.0   \n2                                       42504.0   \n3                                       46205.0   \n4                                       35067.0   \n...                                         ...   \n3193                                    51879.0   \n3194                                    47715.0   \n3195                                    49045.0   \n3196                                    52936.0   \n3197                                    61616.0   \n\n      Per capita personal income (dollars) 2019  \n0                                       56490.0  \n1                                       44145.0  \n2                                       43917.0  \n3                                       47485.0  \n4                                       35763.0  \n...                                         ...  \n3193                                    53509.0  \n3194                                    49159.0  \n3195                                    50670.0  \n3196                                    54873.0  \n3197                                    64236.0  \n\n[3198 rows x 8 columns]",
      "text/html": "<div>\n<style scoped>\n    .dataframe tbody tr th:only-of-type {\n        vertical-align: middle;\n    }\n\n    .dataframe tbody tr th {\n        vertical-align: top;\n    }\n\n    .dataframe thead th {\n        text-align: right;\n    }\n</style>\n<table border=\"1\" class=\"dataframe\">\n  <thead>\n    <tr style=\"text-align: right;\">\n      <th></th>\n      <th>GeoFIPS</th>\n      <th>GeoName</th>\n      <th>Personal income (thousands of dollars) 2017</th>\n      <th>Personal income (thousands of dollars) 2018</th>\n      <th>Personal income (thousands of dollars) 2019</th>\n      <th>Per capita personal income (dollars) 2017</th>\n      <th>Per capita personal income (dollars) 2018</th>\n      <th>Per capita personal income (dollars) 2019</th>\n    </tr>\n  </thead>\n  <tbody>\n    <tr>\n      <th>0</th>\n      <td>\"00000\"</td>\n      <td>United States</td>\n      <td>1.693758e+10</td>\n      <td>1.783926e+10</td>\n      <td>1.854226e+10</td>\n      <td>52118.0</td>\n      <td>54606.0</td>\n      <td>56490.0</td>\n    </tr>\n    <tr>\n      <th>1</th>\n      <td>\"01000\"</td>\n      <td>Alabama</td>\n      <td>1.999998e+08</td>\n      <td>2.087527e+08</td>\n      <td>2.164490e+08</td>\n      <td>41030.0</td>\n      <td>42710.0</td>\n      <td>44145.0</td>\n    </tr>\n    <tr>\n      <th>2</th>\n      <td>\"01001\"</td>\n      <td>Autauga, AL</td>\n      <td>2.276561e+06</td>\n      <td>2.360366e+06</td>\n      <td>2.453617e+06</td>\n      <td>41101.0</td>\n      <td>42504.0</td>\n      <td>43917.0</td>\n    </tr>\n    <tr>\n      <th>3</th>\n      <td>\"01003\"</td>\n      <td>Baldwin, AL</td>\n      <td>9.471242e+06</td>\n      <td>1.006597e+07</td>\n      <td>1.060026e+07</td>\n      <td>44566.0</td>\n      <td>46205.0</td>\n      <td>47485.0</td>\n    </tr>\n    <tr>\n      <th>4</th>\n      <td>\"01005\"</td>\n      <td>Barbour, AL</td>\n      <td>8.381840e+05</td>\n      <td>8.721890e+05</td>\n      <td>8.828340e+05</td>\n      <td>33318.0</td>\n      <td>35067.0</td>\n      <td>35763.0</td>\n    </tr>\n    <tr>\n      <th>...</th>\n      <td>...</td>\n      <td>...</td>\n      <td>...</td>\n      <td>...</td>\n      <td>...</td>\n      <td>...</td>\n      <td>...</td>\n      <td>...</td>\n    </tr>\n    <tr>\n      <th>3193</th>\n      <td>\"94000\"</td>\n      <td>Plains</td>\n      <td>1.055029e+09</td>\n      <td>1.107630e+09</td>\n      <td>1.146515e+09</td>\n      <td>49609.0</td>\n      <td>51879.0</td>\n      <td>53509.0</td>\n    </tr>\n    <tr>\n      <th>3194</th>\n      <td>\"95000\"</td>\n      <td>Southeast</td>\n      <td>3.818755e+09</td>\n      <td>4.022276e+09</td>\n      <td>4.173677e+09</td>\n      <td>45657.0</td>\n      <td>47715.0</td>\n      <td>49159.0</td>\n    </tr>\n    <tr>\n      <th>3195</th>\n      <td>\"96000\"</td>\n      <td>Southwest</td>\n      <td>1.924648e+09</td>\n      <td>2.051027e+09</td>\n      <td>2.144764e+09</td>\n      <td>46531.0</td>\n      <td>49045.0</td>\n      <td>50670.0</td>\n    </tr>\n    <tr>\n      <th>3196</th>\n      <td>\"97000\"</td>\n      <td>Rocky Mountain</td>\n      <td>6.029942e+08</td>\n      <td>6.476007e+08</td>\n      <td>6.803901e+08</td>\n      <td>49991.0</td>\n      <td>52936.0</td>\n      <td>54873.0</td>\n    </tr>\n    <tr>\n      <th>3197</th>\n      <td>\"98000\"</td>\n      <td>Far West</td>\n      <td>3.279058e+09</td>\n      <td>3.472097e+09</td>\n      <td>3.634009e+09</td>\n      <td>58492.0</td>\n      <td>61616.0</td>\n      <td>64236.0</td>\n    </tr>\n  </tbody>\n</table>\n<p>3198 rows × 8 columns</p>\n</div>"
     },
     "execution_count": 202,
     "metadata": {},
     "output_type": "execute_result"
    }
   ],
   "source": [
    "cols_to_remove = ['IndustryClassification', 'TableName', 'Unit', 'Description', 'LineCode', 'Region']\n",
    "\n",
    "county_personal_incomes.drop(cols_to_remove, axis=1, inplace=True)\n",
    "county_per_capita_personal_income.drop(cols_to_remove, axis=1, inplace=True)\n",
    "\n",
    "county_incomes = pd.merge(county_personal_incomes, county_per_capita_personal_income, how='inner')\n",
    "county_incomes"
   ],
   "metadata": {
    "collapsed": false,
    "pycharm": {
     "name": "#%%\n"
    }
   }
  },
  {
   "cell_type": "markdown",
   "source": [
    "Removed redundant or uninterested columns\n",
    "* remove more columns\n",
    "* remove IndustryClassifaction as it only contains ... values and also not what we are interested in\n",
    "* remove TableName as only one value and not what we are interested in\n",
    "* remove Unit as that has the same value as Thousands of dollars\n",
    "* remove Description as that is all personal income now\n",
    "* remove LineCode as there are no unique values all value is 1\n",
    "* remove Region as not interested in this data"
   ],
   "metadata": {
    "collapsed": false
   }
  },
  {
   "cell_type": "code",
   "execution_count": 203,
   "outputs": [
    {
     "data": {
      "text/plain": "     GeoFIPS         GeoName  Personal income (thousands of dollars) 2017  \\\n0      00000   United States                                 1.693758e+10   \n1      01000         Alabama                                 1.999998e+08   \n2      01001     Autauga, AL                                 2.276561e+06   \n3      01003     Baldwin, AL                                 9.471242e+06   \n4      01005     Barbour, AL                                 8.381840e+05   \n...      ...             ...                                          ...   \n3193   94000          Plains                                 1.055029e+09   \n3194   95000       Southeast                                 3.818755e+09   \n3195   96000       Southwest                                 1.924648e+09   \n3196   97000  Rocky Mountain                                 6.029942e+08   \n3197   98000        Far West                                 3.279058e+09   \n\n      Personal income (thousands of dollars) 2018  \\\n0                                    1.783926e+10   \n1                                    2.087527e+08   \n2                                    2.360366e+06   \n3                                    1.006597e+07   \n4                                    8.721890e+05   \n...                                           ...   \n3193                                 1.107630e+09   \n3194                                 4.022276e+09   \n3195                                 2.051027e+09   \n3196                                 6.476007e+08   \n3197                                 3.472097e+09   \n\n      Personal income (thousands of dollars) 2019  \\\n0                                    1.854226e+10   \n1                                    2.164490e+08   \n2                                    2.453617e+06   \n3                                    1.060026e+07   \n4                                    8.828340e+05   \n...                                           ...   \n3193                                 1.146515e+09   \n3194                                 4.173677e+09   \n3195                                 2.144764e+09   \n3196                                 6.803901e+08   \n3197                                 3.634009e+09   \n\n      Per capita personal income (dollars) 2017  \\\n0                                       52118.0   \n1                                       41030.0   \n2                                       41101.0   \n3                                       44566.0   \n4                                       33318.0   \n...                                         ...   \n3193                                    49609.0   \n3194                                    45657.0   \n3195                                    46531.0   \n3196                                    49991.0   \n3197                                    58492.0   \n\n      Per capita personal income (dollars) 2018  \\\n0                                       54606.0   \n1                                       42710.0   \n2                                       42504.0   \n3                                       46205.0   \n4                                       35067.0   \n...                                         ...   \n3193                                    51879.0   \n3194                                    47715.0   \n3195                                    49045.0   \n3196                                    52936.0   \n3197                                    61616.0   \n\n      Per capita personal income (dollars) 2019  \n0                                       56490.0  \n1                                       44145.0  \n2                                       43917.0  \n3                                       47485.0  \n4                                       35763.0  \n...                                         ...  \n3193                                    53509.0  \n3194                                    49159.0  \n3195                                    50670.0  \n3196                                    54873.0  \n3197                                    64236.0  \n\n[3198 rows x 8 columns]",
      "text/html": "<div>\n<style scoped>\n    .dataframe tbody tr th:only-of-type {\n        vertical-align: middle;\n    }\n\n    .dataframe tbody tr th {\n        vertical-align: top;\n    }\n\n    .dataframe thead th {\n        text-align: right;\n    }\n</style>\n<table border=\"1\" class=\"dataframe\">\n  <thead>\n    <tr style=\"text-align: right;\">\n      <th></th>\n      <th>GeoFIPS</th>\n      <th>GeoName</th>\n      <th>Personal income (thousands of dollars) 2017</th>\n      <th>Personal income (thousands of dollars) 2018</th>\n      <th>Personal income (thousands of dollars) 2019</th>\n      <th>Per capita personal income (dollars) 2017</th>\n      <th>Per capita personal income (dollars) 2018</th>\n      <th>Per capita personal income (dollars) 2019</th>\n    </tr>\n  </thead>\n  <tbody>\n    <tr>\n      <th>0</th>\n      <td>00000</td>\n      <td>United States</td>\n      <td>1.693758e+10</td>\n      <td>1.783926e+10</td>\n      <td>1.854226e+10</td>\n      <td>52118.0</td>\n      <td>54606.0</td>\n      <td>56490.0</td>\n    </tr>\n    <tr>\n      <th>1</th>\n      <td>01000</td>\n      <td>Alabama</td>\n      <td>1.999998e+08</td>\n      <td>2.087527e+08</td>\n      <td>2.164490e+08</td>\n      <td>41030.0</td>\n      <td>42710.0</td>\n      <td>44145.0</td>\n    </tr>\n    <tr>\n      <th>2</th>\n      <td>01001</td>\n      <td>Autauga, AL</td>\n      <td>2.276561e+06</td>\n      <td>2.360366e+06</td>\n      <td>2.453617e+06</td>\n      <td>41101.0</td>\n      <td>42504.0</td>\n      <td>43917.0</td>\n    </tr>\n    <tr>\n      <th>3</th>\n      <td>01003</td>\n      <td>Baldwin, AL</td>\n      <td>9.471242e+06</td>\n      <td>1.006597e+07</td>\n      <td>1.060026e+07</td>\n      <td>44566.0</td>\n      <td>46205.0</td>\n      <td>47485.0</td>\n    </tr>\n    <tr>\n      <th>4</th>\n      <td>01005</td>\n      <td>Barbour, AL</td>\n      <td>8.381840e+05</td>\n      <td>8.721890e+05</td>\n      <td>8.828340e+05</td>\n      <td>33318.0</td>\n      <td>35067.0</td>\n      <td>35763.0</td>\n    </tr>\n    <tr>\n      <th>...</th>\n      <td>...</td>\n      <td>...</td>\n      <td>...</td>\n      <td>...</td>\n      <td>...</td>\n      <td>...</td>\n      <td>...</td>\n      <td>...</td>\n    </tr>\n    <tr>\n      <th>3193</th>\n      <td>94000</td>\n      <td>Plains</td>\n      <td>1.055029e+09</td>\n      <td>1.107630e+09</td>\n      <td>1.146515e+09</td>\n      <td>49609.0</td>\n      <td>51879.0</td>\n      <td>53509.0</td>\n    </tr>\n    <tr>\n      <th>3194</th>\n      <td>95000</td>\n      <td>Southeast</td>\n      <td>3.818755e+09</td>\n      <td>4.022276e+09</td>\n      <td>4.173677e+09</td>\n      <td>45657.0</td>\n      <td>47715.0</td>\n      <td>49159.0</td>\n    </tr>\n    <tr>\n      <th>3195</th>\n      <td>96000</td>\n      <td>Southwest</td>\n      <td>1.924648e+09</td>\n      <td>2.051027e+09</td>\n      <td>2.144764e+09</td>\n      <td>46531.0</td>\n      <td>49045.0</td>\n      <td>50670.0</td>\n    </tr>\n    <tr>\n      <th>3196</th>\n      <td>97000</td>\n      <td>Rocky Mountain</td>\n      <td>6.029942e+08</td>\n      <td>6.476007e+08</td>\n      <td>6.803901e+08</td>\n      <td>49991.0</td>\n      <td>52936.0</td>\n      <td>54873.0</td>\n    </tr>\n    <tr>\n      <th>3197</th>\n      <td>98000</td>\n      <td>Far West</td>\n      <td>3.279058e+09</td>\n      <td>3.472097e+09</td>\n      <td>3.634009e+09</td>\n      <td>58492.0</td>\n      <td>61616.0</td>\n      <td>64236.0</td>\n    </tr>\n  </tbody>\n</table>\n<p>3198 rows × 8 columns</p>\n</div>"
     },
     "execution_count": 203,
     "metadata": {},
     "output_type": "execute_result"
    }
   ],
   "source": [
    "county_incomes['GeoFIPS'] = county_incomes['GeoFIPS'].str.strip('\" \"')\n",
    "county_incomes"
   ],
   "metadata": {
    "collapsed": false,
    "pycharm": {
     "name": "#%%\n"
    }
   }
  },
  {
   "cell_type": "markdown",
   "source": [
    "* remove \"\" characters from income dataset\n"
   ],
   "metadata": {
    "collapsed": false
   }
  },
  {
   "cell_type": "code",
   "execution_count": 204,
   "outputs": [
    {
     "data": {
      "text/plain": "      GeoFIPS         GeoName  Personal income (thousands of dollars) 2017  \\\n0           0   United States                                 1.693758e+10   \n1        1000         Alabama                                 1.999998e+08   \n2        1001     Autauga, AL                                 2.276561e+06   \n3        1003     Baldwin, AL                                 9.471242e+06   \n4        1005     Barbour, AL                                 8.381840e+05   \n...       ...             ...                                          ...   \n3193    94000          Plains                                 1.055029e+09   \n3194    95000       Southeast                                 3.818755e+09   \n3195    96000       Southwest                                 1.924648e+09   \n3196    97000  Rocky Mountain                                 6.029942e+08   \n3197    98000        Far West                                 3.279058e+09   \n\n      Personal income (thousands of dollars) 2018  \\\n0                                    1.783926e+10   \n1                                    2.087527e+08   \n2                                    2.360366e+06   \n3                                    1.006597e+07   \n4                                    8.721890e+05   \n...                                           ...   \n3193                                 1.107630e+09   \n3194                                 4.022276e+09   \n3195                                 2.051027e+09   \n3196                                 6.476007e+08   \n3197                                 3.472097e+09   \n\n      Personal income (thousands of dollars) 2019  \\\n0                                    1.854226e+10   \n1                                    2.164490e+08   \n2                                    2.453617e+06   \n3                                    1.060026e+07   \n4                                    8.828340e+05   \n...                                           ...   \n3193                                 1.146515e+09   \n3194                                 4.173677e+09   \n3195                                 2.144764e+09   \n3196                                 6.803901e+08   \n3197                                 3.634009e+09   \n\n      Per capita personal income (dollars) 2017  \\\n0                                       52118.0   \n1                                       41030.0   \n2                                       41101.0   \n3                                       44566.0   \n4                                       33318.0   \n...                                         ...   \n3193                                    49609.0   \n3194                                    45657.0   \n3195                                    46531.0   \n3196                                    49991.0   \n3197                                    58492.0   \n\n      Per capita personal income (dollars) 2018  \\\n0                                       54606.0   \n1                                       42710.0   \n2                                       42504.0   \n3                                       46205.0   \n4                                       35067.0   \n...                                         ...   \n3193                                    51879.0   \n3194                                    47715.0   \n3195                                    49045.0   \n3196                                    52936.0   \n3197                                    61616.0   \n\n      Per capita personal income (dollars) 2019  \n0                                       56490.0  \n1                                       44145.0  \n2                                       43917.0  \n3                                       47485.0  \n4                                       35763.0  \n...                                         ...  \n3193                                    53509.0  \n3194                                    49159.0  \n3195                                    50670.0  \n3196                                    54873.0  \n3197                                    64236.0  \n\n[3198 rows x 8 columns]",
      "text/html": "<div>\n<style scoped>\n    .dataframe tbody tr th:only-of-type {\n        vertical-align: middle;\n    }\n\n    .dataframe tbody tr th {\n        vertical-align: top;\n    }\n\n    .dataframe thead th {\n        text-align: right;\n    }\n</style>\n<table border=\"1\" class=\"dataframe\">\n  <thead>\n    <tr style=\"text-align: right;\">\n      <th></th>\n      <th>GeoFIPS</th>\n      <th>GeoName</th>\n      <th>Personal income (thousands of dollars) 2017</th>\n      <th>Personal income (thousands of dollars) 2018</th>\n      <th>Personal income (thousands of dollars) 2019</th>\n      <th>Per capita personal income (dollars) 2017</th>\n      <th>Per capita personal income (dollars) 2018</th>\n      <th>Per capita personal income (dollars) 2019</th>\n    </tr>\n  </thead>\n  <tbody>\n    <tr>\n      <th>0</th>\n      <td>0</td>\n      <td>United States</td>\n      <td>1.693758e+10</td>\n      <td>1.783926e+10</td>\n      <td>1.854226e+10</td>\n      <td>52118.0</td>\n      <td>54606.0</td>\n      <td>56490.0</td>\n    </tr>\n    <tr>\n      <th>1</th>\n      <td>1000</td>\n      <td>Alabama</td>\n      <td>1.999998e+08</td>\n      <td>2.087527e+08</td>\n      <td>2.164490e+08</td>\n      <td>41030.0</td>\n      <td>42710.0</td>\n      <td>44145.0</td>\n    </tr>\n    <tr>\n      <th>2</th>\n      <td>1001</td>\n      <td>Autauga, AL</td>\n      <td>2.276561e+06</td>\n      <td>2.360366e+06</td>\n      <td>2.453617e+06</td>\n      <td>41101.0</td>\n      <td>42504.0</td>\n      <td>43917.0</td>\n    </tr>\n    <tr>\n      <th>3</th>\n      <td>1003</td>\n      <td>Baldwin, AL</td>\n      <td>9.471242e+06</td>\n      <td>1.006597e+07</td>\n      <td>1.060026e+07</td>\n      <td>44566.0</td>\n      <td>46205.0</td>\n      <td>47485.0</td>\n    </tr>\n    <tr>\n      <th>4</th>\n      <td>1005</td>\n      <td>Barbour, AL</td>\n      <td>8.381840e+05</td>\n      <td>8.721890e+05</td>\n      <td>8.828340e+05</td>\n      <td>33318.0</td>\n      <td>35067.0</td>\n      <td>35763.0</td>\n    </tr>\n    <tr>\n      <th>...</th>\n      <td>...</td>\n      <td>...</td>\n      <td>...</td>\n      <td>...</td>\n      <td>...</td>\n      <td>...</td>\n      <td>...</td>\n      <td>...</td>\n    </tr>\n    <tr>\n      <th>3193</th>\n      <td>94000</td>\n      <td>Plains</td>\n      <td>1.055029e+09</td>\n      <td>1.107630e+09</td>\n      <td>1.146515e+09</td>\n      <td>49609.0</td>\n      <td>51879.0</td>\n      <td>53509.0</td>\n    </tr>\n    <tr>\n      <th>3194</th>\n      <td>95000</td>\n      <td>Southeast</td>\n      <td>3.818755e+09</td>\n      <td>4.022276e+09</td>\n      <td>4.173677e+09</td>\n      <td>45657.0</td>\n      <td>47715.0</td>\n      <td>49159.0</td>\n    </tr>\n    <tr>\n      <th>3195</th>\n      <td>96000</td>\n      <td>Southwest</td>\n      <td>1.924648e+09</td>\n      <td>2.051027e+09</td>\n      <td>2.144764e+09</td>\n      <td>46531.0</td>\n      <td>49045.0</td>\n      <td>50670.0</td>\n    </tr>\n    <tr>\n      <th>3196</th>\n      <td>97000</td>\n      <td>Rocky Mountain</td>\n      <td>6.029942e+08</td>\n      <td>6.476007e+08</td>\n      <td>6.803901e+08</td>\n      <td>49991.0</td>\n      <td>52936.0</td>\n      <td>54873.0</td>\n    </tr>\n    <tr>\n      <th>3197</th>\n      <td>98000</td>\n      <td>Far West</td>\n      <td>3.279058e+09</td>\n      <td>3.472097e+09</td>\n      <td>3.634009e+09</td>\n      <td>58492.0</td>\n      <td>61616.0</td>\n      <td>64236.0</td>\n    </tr>\n  </tbody>\n</table>\n<p>3198 rows × 8 columns</p>\n</div>"
     },
     "execution_count": 204,
     "metadata": {},
     "output_type": "execute_result"
    }
   ],
   "source": [
    "\n",
    "county_incomes_2017_2019 = county_incomes\n",
    "county_incomes_2017_2019['GeoFIPS'] = pd.to_numeric(county_incomes_2017_2019['GeoFIPS'])\n",
    "county_incomes_2017_2019"
   ],
   "metadata": {
    "collapsed": false,
    "pycharm": {
     "name": "#%%\n"
    }
   }
  },
  {
   "cell_type": "markdown",
   "source": [
    "* Retrieve NE county income data\n",
    "* convert GeoFIPS to numeric type\n"
   ],
   "metadata": {
    "collapsed": false
   }
  },
  {
   "cell_type": "markdown",
   "source": [
    "# Clean up Unemployment Data\n"
   ],
   "metadata": {
    "collapsed": false
   }
  },
  {
   "cell_type": "code",
   "execution_count": 205,
   "outputs": [
    {
     "data": {
      "text/plain": "                                                     0      1   \\\n0     Unemployment and median household income for t...    NaN   \n1     Sources: Unemployment: U.S. Department of Labo...    NaN   \n2     For definitions of rural classifications, see ...    NaN   \n3     This table was prepared by USDA, Economic Rese...    NaN   \n4                                              fips_txt  Stabr   \n...                                                 ...    ...   \n3275                                              72145     PR   \n3276                                              72147     PR   \n3277                                              72149     PR   \n3278                                              72151     PR   \n3279                                              72153     PR   \n\n                           2                                3   \\\n0                         NaN                              NaN   \n1                         NaN                              NaN   \n2                         NaN                              NaN   \n3                         NaN                              NaN   \n4                   area_name  Rural_urban_continuum_code_2013   \n...                       ...                              ...   \n3275  Vega Baja Municipio, PR                                1   \n3276    Vieques Municipio, PR                                7   \n3277   Villalba Municipio, PR                                2   \n3278    Yabucoa Municipio, PR                                1   \n3279      Yauco Municipio, PR                                2   \n\n                             4           5                          6   \\\n0                           NaN         NaN                        NaN   \n1                           NaN         NaN                        NaN   \n2                           NaN         NaN                        NaN   \n3                           NaN         NaN                        NaN   \n4     Urban_influence_code_2013  Metro_2013  Civilian_labor_force_2000   \n...                         ...         ...                        ...   \n3275                          1           1                      19805   \n3276                         12           0                       2441   \n3277                          2           1                       7636   \n3278                          1           1                      10613   \n3279                          2           1                      14664   \n\n                 7                8                       9   ...  \\\n0               NaN              NaN                     NaN  ...   \n1               NaN              NaN                     NaN  ...   \n2               NaN              NaN                     NaN  ...   \n3               NaN              NaN                     NaN  ...   \n4     Employed_2000  Unemployed_2000  Unemployment_rate_2000  ...   \n...             ...              ...                     ...  ...   \n3275          17607             2198                    11.1  ...   \n3276           2120              321                    13.2  ...   \n3277           6648              988                    12.9  ...   \n3278           9005             1608                    15.2  ...   \n3279          12871             1793                    12.2  ...   \n\n                             78             79               80  \\\n0                           NaN            NaN              NaN   \n1                           NaN            NaN              NaN   \n2                           NaN            NaN              NaN   \n3                           NaN            NaN              NaN   \n4     Civilian_labor_force_2018  Employed_2018  Unemployed_2018   \n...                         ...            ...              ...   \n3275                      13117          11750             1367   \n3276                       2718           2269              449   \n3277                       7311           6154             1157   \n3278                       8762           7509             1253   \n3279                       9716           8288             1428   \n\n                          81                         82             83  \\\n0                        NaN                        NaN            NaN   \n1                        NaN                        NaN            NaN   \n2                        NaN                        NaN            NaN   \n3                        NaN                        NaN            NaN   \n4     Unemployment_rate_2018  Civilian_labor_force_2019  Employed_2019   \n...                      ...                        ...            ...   \n3275                    10.4                      13037          11791   \n3276                    16.5                       2585           2406   \n3277                    15.8                       7406           6231   \n3278                    14.3                       8691           7552   \n3279                    14.7                       9759           8331   \n\n                   84                      85                            86  \\\n0                 NaN                     NaN                           NaN   \n1                 NaN                     NaN                           NaN   \n2                 NaN                     NaN                           NaN   \n3                 NaN                     NaN                           NaN   \n4     Unemployed_2019  Unemployment_rate_2019  Median_Household_Income_2019   \n...               ...                     ...                           ...   \n3275             1246                     9.6                           NaN   \n3276              179                     6.9                           NaN   \n3277             1175                    15.9                           NaN   \n3278             1139                    13.1                           NaN   \n3279             1428                    14.6                           NaN   \n\n                                             87  \n0                                           NaN  \n1                                           NaN  \n2                                           NaN  \n3                                           NaN  \n4     Med_HH_Income_Percent_of_State_Total_2019  \n...                                         ...  \n3275                                        NaN  \n3276                                        NaN  \n3277                                        NaN  \n3278                                        NaN  \n3279                                        NaN  \n\n[3280 rows x 88 columns]",
      "text/html": "<div>\n<style scoped>\n    .dataframe tbody tr th:only-of-type {\n        vertical-align: middle;\n    }\n\n    .dataframe tbody tr th {\n        vertical-align: top;\n    }\n\n    .dataframe thead th {\n        text-align: right;\n    }\n</style>\n<table border=\"1\" class=\"dataframe\">\n  <thead>\n    <tr style=\"text-align: right;\">\n      <th></th>\n      <th>0</th>\n      <th>1</th>\n      <th>2</th>\n      <th>3</th>\n      <th>4</th>\n      <th>5</th>\n      <th>6</th>\n      <th>7</th>\n      <th>8</th>\n      <th>9</th>\n      <th>...</th>\n      <th>78</th>\n      <th>79</th>\n      <th>80</th>\n      <th>81</th>\n      <th>82</th>\n      <th>83</th>\n      <th>84</th>\n      <th>85</th>\n      <th>86</th>\n      <th>87</th>\n    </tr>\n  </thead>\n  <tbody>\n    <tr>\n      <th>0</th>\n      <td>Unemployment and median household income for t...</td>\n      <td>NaN</td>\n      <td>NaN</td>\n      <td>NaN</td>\n      <td>NaN</td>\n      <td>NaN</td>\n      <td>NaN</td>\n      <td>NaN</td>\n      <td>NaN</td>\n      <td>NaN</td>\n      <td>...</td>\n      <td>NaN</td>\n      <td>NaN</td>\n      <td>NaN</td>\n      <td>NaN</td>\n      <td>NaN</td>\n      <td>NaN</td>\n      <td>NaN</td>\n      <td>NaN</td>\n      <td>NaN</td>\n      <td>NaN</td>\n    </tr>\n    <tr>\n      <th>1</th>\n      <td>Sources: Unemployment: U.S. Department of Labo...</td>\n      <td>NaN</td>\n      <td>NaN</td>\n      <td>NaN</td>\n      <td>NaN</td>\n      <td>NaN</td>\n      <td>NaN</td>\n      <td>NaN</td>\n      <td>NaN</td>\n      <td>NaN</td>\n      <td>...</td>\n      <td>NaN</td>\n      <td>NaN</td>\n      <td>NaN</td>\n      <td>NaN</td>\n      <td>NaN</td>\n      <td>NaN</td>\n      <td>NaN</td>\n      <td>NaN</td>\n      <td>NaN</td>\n      <td>NaN</td>\n    </tr>\n    <tr>\n      <th>2</th>\n      <td>For definitions of rural classifications, see ...</td>\n      <td>NaN</td>\n      <td>NaN</td>\n      <td>NaN</td>\n      <td>NaN</td>\n      <td>NaN</td>\n      <td>NaN</td>\n      <td>NaN</td>\n      <td>NaN</td>\n      <td>NaN</td>\n      <td>...</td>\n      <td>NaN</td>\n      <td>NaN</td>\n      <td>NaN</td>\n      <td>NaN</td>\n      <td>NaN</td>\n      <td>NaN</td>\n      <td>NaN</td>\n      <td>NaN</td>\n      <td>NaN</td>\n      <td>NaN</td>\n    </tr>\n    <tr>\n      <th>3</th>\n      <td>This table was prepared by USDA, Economic Rese...</td>\n      <td>NaN</td>\n      <td>NaN</td>\n      <td>NaN</td>\n      <td>NaN</td>\n      <td>NaN</td>\n      <td>NaN</td>\n      <td>NaN</td>\n      <td>NaN</td>\n      <td>NaN</td>\n      <td>...</td>\n      <td>NaN</td>\n      <td>NaN</td>\n      <td>NaN</td>\n      <td>NaN</td>\n      <td>NaN</td>\n      <td>NaN</td>\n      <td>NaN</td>\n      <td>NaN</td>\n      <td>NaN</td>\n      <td>NaN</td>\n    </tr>\n    <tr>\n      <th>4</th>\n      <td>fips_txt</td>\n      <td>Stabr</td>\n      <td>area_name</td>\n      <td>Rural_urban_continuum_code_2013</td>\n      <td>Urban_influence_code_2013</td>\n      <td>Metro_2013</td>\n      <td>Civilian_labor_force_2000</td>\n      <td>Employed_2000</td>\n      <td>Unemployed_2000</td>\n      <td>Unemployment_rate_2000</td>\n      <td>...</td>\n      <td>Civilian_labor_force_2018</td>\n      <td>Employed_2018</td>\n      <td>Unemployed_2018</td>\n      <td>Unemployment_rate_2018</td>\n      <td>Civilian_labor_force_2019</td>\n      <td>Employed_2019</td>\n      <td>Unemployed_2019</td>\n      <td>Unemployment_rate_2019</td>\n      <td>Median_Household_Income_2019</td>\n      <td>Med_HH_Income_Percent_of_State_Total_2019</td>\n    </tr>\n    <tr>\n      <th>...</th>\n      <td>...</td>\n      <td>...</td>\n      <td>...</td>\n      <td>...</td>\n      <td>...</td>\n      <td>...</td>\n      <td>...</td>\n      <td>...</td>\n      <td>...</td>\n      <td>...</td>\n      <td>...</td>\n      <td>...</td>\n      <td>...</td>\n      <td>...</td>\n      <td>...</td>\n      <td>...</td>\n      <td>...</td>\n      <td>...</td>\n      <td>...</td>\n      <td>...</td>\n      <td>...</td>\n    </tr>\n    <tr>\n      <th>3275</th>\n      <td>72145</td>\n      <td>PR</td>\n      <td>Vega Baja Municipio, PR</td>\n      <td>1</td>\n      <td>1</td>\n      <td>1</td>\n      <td>19805</td>\n      <td>17607</td>\n      <td>2198</td>\n      <td>11.1</td>\n      <td>...</td>\n      <td>13117</td>\n      <td>11750</td>\n      <td>1367</td>\n      <td>10.4</td>\n      <td>13037</td>\n      <td>11791</td>\n      <td>1246</td>\n      <td>9.6</td>\n      <td>NaN</td>\n      <td>NaN</td>\n    </tr>\n    <tr>\n      <th>3276</th>\n      <td>72147</td>\n      <td>PR</td>\n      <td>Vieques Municipio, PR</td>\n      <td>7</td>\n      <td>12</td>\n      <td>0</td>\n      <td>2441</td>\n      <td>2120</td>\n      <td>321</td>\n      <td>13.2</td>\n      <td>...</td>\n      <td>2718</td>\n      <td>2269</td>\n      <td>449</td>\n      <td>16.5</td>\n      <td>2585</td>\n      <td>2406</td>\n      <td>179</td>\n      <td>6.9</td>\n      <td>NaN</td>\n      <td>NaN</td>\n    </tr>\n    <tr>\n      <th>3277</th>\n      <td>72149</td>\n      <td>PR</td>\n      <td>Villalba Municipio, PR</td>\n      <td>2</td>\n      <td>2</td>\n      <td>1</td>\n      <td>7636</td>\n      <td>6648</td>\n      <td>988</td>\n      <td>12.9</td>\n      <td>...</td>\n      <td>7311</td>\n      <td>6154</td>\n      <td>1157</td>\n      <td>15.8</td>\n      <td>7406</td>\n      <td>6231</td>\n      <td>1175</td>\n      <td>15.9</td>\n      <td>NaN</td>\n      <td>NaN</td>\n    </tr>\n    <tr>\n      <th>3278</th>\n      <td>72151</td>\n      <td>PR</td>\n      <td>Yabucoa Municipio, PR</td>\n      <td>1</td>\n      <td>1</td>\n      <td>1</td>\n      <td>10613</td>\n      <td>9005</td>\n      <td>1608</td>\n      <td>15.2</td>\n      <td>...</td>\n      <td>8762</td>\n      <td>7509</td>\n      <td>1253</td>\n      <td>14.3</td>\n      <td>8691</td>\n      <td>7552</td>\n      <td>1139</td>\n      <td>13.1</td>\n      <td>NaN</td>\n      <td>NaN</td>\n    </tr>\n    <tr>\n      <th>3279</th>\n      <td>72153</td>\n      <td>PR</td>\n      <td>Yauco Municipio, PR</td>\n      <td>2</td>\n      <td>2</td>\n      <td>1</td>\n      <td>14664</td>\n      <td>12871</td>\n      <td>1793</td>\n      <td>12.2</td>\n      <td>...</td>\n      <td>9716</td>\n      <td>8288</td>\n      <td>1428</td>\n      <td>14.7</td>\n      <td>9759</td>\n      <td>8331</td>\n      <td>1428</td>\n      <td>14.6</td>\n      <td>NaN</td>\n      <td>NaN</td>\n    </tr>\n  </tbody>\n</table>\n<p>3280 rows × 88 columns</p>\n</div>"
     },
     "metadata": {},
     "output_type": "display_data"
    },
    {
     "data": {
      "text/plain": "     fips_txt Stabr                area_name Rural_urban_continuum_code_2013  \\\n1       00000    US            United States                             NaN   \n2       01000    AL                  Alabama                             NaN   \n3       01001    AL       Autauga County, AL                               2   \n4       01003    AL       Baldwin County, AL                               3   \n5       01005    AL       Barbour County, AL                               6   \n...       ...   ...                      ...                             ...   \n3271    72145    PR  Vega Baja Municipio, PR                               1   \n3272    72147    PR    Vieques Municipio, PR                               7   \n3273    72149    PR   Villalba Municipio, PR                               2   \n3274    72151    PR    Yabucoa Municipio, PR                               1   \n3275    72153    PR      Yauco Municipio, PR                               2   \n\n     Urban_influence_code_2013 Metro_2013 Civilian_labor_force_2000  \\\n1                          NaN        NaN                 142601667   \n2                          NaN        NaN                   2133223   \n3                            2          1                     21720   \n4                            2          1                     69533   \n5                            6          0                     11373   \n...                        ...        ...                       ...   \n3271                         1          1                     19805   \n3272                        12          0                      2441   \n3273                         2          1                      7636   \n3274                         1          1                     10613   \n3275                         2          1                     14664   \n\n     Employed_2000 Unemployed_2000 Unemployment_rate_2000  ...  \\\n1        136904680         5696987                3.99504  ...   \n2          2035594           97629                    4.6  ...   \n3            20846             874                      4  ...   \n4            66971            2562                    3.7  ...   \n5            10748             625                    5.5  ...   \n...            ...             ...                    ...  ...   \n3271         17607            2198                   11.1  ...   \n3272          2120             321                   13.2  ...   \n3273          6648             988                   12.9  ...   \n3274          9005            1608                   15.2  ...   \n3275         12871            1793                   12.2  ...   \n\n     Civilian_labor_force_2018 Employed_2018 Unemployed_2018  \\\n1                    161389026     155102319         6286707   \n2                      2216627       2130845           85782   \n3                        26196         25261             935   \n4                        95233         91809            3424   \n5                         8414          7987             427   \n...                        ...           ...             ...   \n3271                     13117         11750            1367   \n3272                      2718          2269             449   \n3273                      7311          6154            1157   \n3274                      8762          7509            1253   \n3275                      9716          8288            1428   \n\n     Unemployment_rate_2018 Civilian_labor_force_2019 Employed_2019  \\\n1                   3.89537                 163100055     157115247   \n2                       3.9                   2241747       2174483   \n3                       3.6                     26172         25458   \n4                       3.6                     97328         94675   \n5                       5.1                      8537          8213   \n...                     ...                       ...           ...   \n3271                   10.4                     13037         11791   \n3272                   16.5                      2585          2406   \n3273                   15.8                      7406          6231   \n3274                   14.3                      8691          7552   \n3275                   14.7                      9759          8331   \n\n     Unemployed_2019 Unemployment_rate_2019 Median_Household_Income_2019  \\\n1            5984808                3.66941                        65712   \n2              67264                      3                        51771   \n3                714                    2.7                        58233   \n4               2653                    2.7                        59871   \n5                324                    3.8                        35972   \n...              ...                    ...                          ...   \n3271            1246                    9.6                          NaN   \n3272             179                    6.9                          NaN   \n3273            1175                   15.9                          NaN   \n3274            1139                   13.1                          NaN   \n3275            1428                   14.6                          NaN   \n\n     Med_HH_Income_Percent_of_State_Total_2019  \n1                                          NaN  \n2                                          100  \n3                                      112.482  \n4                                      115.646  \n5                                      69.4829  \n...                                        ...  \n3271                                       NaN  \n3272                                       NaN  \n3273                                       NaN  \n3274                                       NaN  \n3275                                       NaN  \n\n[3275 rows x 88 columns]",
      "text/html": "<div>\n<style scoped>\n    .dataframe tbody tr th:only-of-type {\n        vertical-align: middle;\n    }\n\n    .dataframe tbody tr th {\n        vertical-align: top;\n    }\n\n    .dataframe thead th {\n        text-align: right;\n    }\n</style>\n<table border=\"1\" class=\"dataframe\">\n  <thead>\n    <tr style=\"text-align: right;\">\n      <th></th>\n      <th>fips_txt</th>\n      <th>Stabr</th>\n      <th>area_name</th>\n      <th>Rural_urban_continuum_code_2013</th>\n      <th>Urban_influence_code_2013</th>\n      <th>Metro_2013</th>\n      <th>Civilian_labor_force_2000</th>\n      <th>Employed_2000</th>\n      <th>Unemployed_2000</th>\n      <th>Unemployment_rate_2000</th>\n      <th>...</th>\n      <th>Civilian_labor_force_2018</th>\n      <th>Employed_2018</th>\n      <th>Unemployed_2018</th>\n      <th>Unemployment_rate_2018</th>\n      <th>Civilian_labor_force_2019</th>\n      <th>Employed_2019</th>\n      <th>Unemployed_2019</th>\n      <th>Unemployment_rate_2019</th>\n      <th>Median_Household_Income_2019</th>\n      <th>Med_HH_Income_Percent_of_State_Total_2019</th>\n    </tr>\n  </thead>\n  <tbody>\n    <tr>\n      <th>1</th>\n      <td>00000</td>\n      <td>US</td>\n      <td>United States</td>\n      <td>NaN</td>\n      <td>NaN</td>\n      <td>NaN</td>\n      <td>142601667</td>\n      <td>136904680</td>\n      <td>5696987</td>\n      <td>3.99504</td>\n      <td>...</td>\n      <td>161389026</td>\n      <td>155102319</td>\n      <td>6286707</td>\n      <td>3.89537</td>\n      <td>163100055</td>\n      <td>157115247</td>\n      <td>5984808</td>\n      <td>3.66941</td>\n      <td>65712</td>\n      <td>NaN</td>\n    </tr>\n    <tr>\n      <th>2</th>\n      <td>01000</td>\n      <td>AL</td>\n      <td>Alabama</td>\n      <td>NaN</td>\n      <td>NaN</td>\n      <td>NaN</td>\n      <td>2133223</td>\n      <td>2035594</td>\n      <td>97629</td>\n      <td>4.6</td>\n      <td>...</td>\n      <td>2216627</td>\n      <td>2130845</td>\n      <td>85782</td>\n      <td>3.9</td>\n      <td>2241747</td>\n      <td>2174483</td>\n      <td>67264</td>\n      <td>3</td>\n      <td>51771</td>\n      <td>100</td>\n    </tr>\n    <tr>\n      <th>3</th>\n      <td>01001</td>\n      <td>AL</td>\n      <td>Autauga County, AL</td>\n      <td>2</td>\n      <td>2</td>\n      <td>1</td>\n      <td>21720</td>\n      <td>20846</td>\n      <td>874</td>\n      <td>4</td>\n      <td>...</td>\n      <td>26196</td>\n      <td>25261</td>\n      <td>935</td>\n      <td>3.6</td>\n      <td>26172</td>\n      <td>25458</td>\n      <td>714</td>\n      <td>2.7</td>\n      <td>58233</td>\n      <td>112.482</td>\n    </tr>\n    <tr>\n      <th>4</th>\n      <td>01003</td>\n      <td>AL</td>\n      <td>Baldwin County, AL</td>\n      <td>3</td>\n      <td>2</td>\n      <td>1</td>\n      <td>69533</td>\n      <td>66971</td>\n      <td>2562</td>\n      <td>3.7</td>\n      <td>...</td>\n      <td>95233</td>\n      <td>91809</td>\n      <td>3424</td>\n      <td>3.6</td>\n      <td>97328</td>\n      <td>94675</td>\n      <td>2653</td>\n      <td>2.7</td>\n      <td>59871</td>\n      <td>115.646</td>\n    </tr>\n    <tr>\n      <th>5</th>\n      <td>01005</td>\n      <td>AL</td>\n      <td>Barbour County, AL</td>\n      <td>6</td>\n      <td>6</td>\n      <td>0</td>\n      <td>11373</td>\n      <td>10748</td>\n      <td>625</td>\n      <td>5.5</td>\n      <td>...</td>\n      <td>8414</td>\n      <td>7987</td>\n      <td>427</td>\n      <td>5.1</td>\n      <td>8537</td>\n      <td>8213</td>\n      <td>324</td>\n      <td>3.8</td>\n      <td>35972</td>\n      <td>69.4829</td>\n    </tr>\n    <tr>\n      <th>...</th>\n      <td>...</td>\n      <td>...</td>\n      <td>...</td>\n      <td>...</td>\n      <td>...</td>\n      <td>...</td>\n      <td>...</td>\n      <td>...</td>\n      <td>...</td>\n      <td>...</td>\n      <td>...</td>\n      <td>...</td>\n      <td>...</td>\n      <td>...</td>\n      <td>...</td>\n      <td>...</td>\n      <td>...</td>\n      <td>...</td>\n      <td>...</td>\n      <td>...</td>\n      <td>...</td>\n    </tr>\n    <tr>\n      <th>3271</th>\n      <td>72145</td>\n      <td>PR</td>\n      <td>Vega Baja Municipio, PR</td>\n      <td>1</td>\n      <td>1</td>\n      <td>1</td>\n      <td>19805</td>\n      <td>17607</td>\n      <td>2198</td>\n      <td>11.1</td>\n      <td>...</td>\n      <td>13117</td>\n      <td>11750</td>\n      <td>1367</td>\n      <td>10.4</td>\n      <td>13037</td>\n      <td>11791</td>\n      <td>1246</td>\n      <td>9.6</td>\n      <td>NaN</td>\n      <td>NaN</td>\n    </tr>\n    <tr>\n      <th>3272</th>\n      <td>72147</td>\n      <td>PR</td>\n      <td>Vieques Municipio, PR</td>\n      <td>7</td>\n      <td>12</td>\n      <td>0</td>\n      <td>2441</td>\n      <td>2120</td>\n      <td>321</td>\n      <td>13.2</td>\n      <td>...</td>\n      <td>2718</td>\n      <td>2269</td>\n      <td>449</td>\n      <td>16.5</td>\n      <td>2585</td>\n      <td>2406</td>\n      <td>179</td>\n      <td>6.9</td>\n      <td>NaN</td>\n      <td>NaN</td>\n    </tr>\n    <tr>\n      <th>3273</th>\n      <td>72149</td>\n      <td>PR</td>\n      <td>Villalba Municipio, PR</td>\n      <td>2</td>\n      <td>2</td>\n      <td>1</td>\n      <td>7636</td>\n      <td>6648</td>\n      <td>988</td>\n      <td>12.9</td>\n      <td>...</td>\n      <td>7311</td>\n      <td>6154</td>\n      <td>1157</td>\n      <td>15.8</td>\n      <td>7406</td>\n      <td>6231</td>\n      <td>1175</td>\n      <td>15.9</td>\n      <td>NaN</td>\n      <td>NaN</td>\n    </tr>\n    <tr>\n      <th>3274</th>\n      <td>72151</td>\n      <td>PR</td>\n      <td>Yabucoa Municipio, PR</td>\n      <td>1</td>\n      <td>1</td>\n      <td>1</td>\n      <td>10613</td>\n      <td>9005</td>\n      <td>1608</td>\n      <td>15.2</td>\n      <td>...</td>\n      <td>8762</td>\n      <td>7509</td>\n      <td>1253</td>\n      <td>14.3</td>\n      <td>8691</td>\n      <td>7552</td>\n      <td>1139</td>\n      <td>13.1</td>\n      <td>NaN</td>\n      <td>NaN</td>\n    </tr>\n    <tr>\n      <th>3275</th>\n      <td>72153</td>\n      <td>PR</td>\n      <td>Yauco Municipio, PR</td>\n      <td>2</td>\n      <td>2</td>\n      <td>1</td>\n      <td>14664</td>\n      <td>12871</td>\n      <td>1793</td>\n      <td>12.2</td>\n      <td>...</td>\n      <td>9716</td>\n      <td>8288</td>\n      <td>1428</td>\n      <td>14.7</td>\n      <td>9759</td>\n      <td>8331</td>\n      <td>1428</td>\n      <td>14.6</td>\n      <td>NaN</td>\n      <td>NaN</td>\n    </tr>\n  </tbody>\n</table>\n<p>3275 rows × 88 columns</p>\n</div>"
     },
     "metadata": {},
     "output_type": "display_data"
    }
   ],
   "source": [
    "display(unemployment)\n",
    "unemployment2017_2019 = unemployment[4:]\n",
    "unemployment2017_2019.reset_index(drop=True, inplace=True)\n",
    "unemployment_header = unemployment2017_2019.iloc[0, :].values\n",
    "unemployment2017_2019.columns = unemployment_header\n",
    "unemployment2017_2019 = unemployment2017_2019.drop([0])\n",
    "display(unemployment2017_2019)"
   ],
   "metadata": {
    "collapsed": false,
    "pycharm": {
     "name": "#%%\n"
    }
   }
  },
  {
   "cell_type": "markdown",
   "source": [
    "* fix header columns of csv file\n",
    "* remove empty rows"
   ],
   "metadata": {
    "collapsed": false
   }
  },
  {
   "cell_type": "code",
   "execution_count": 206,
   "outputs": [
    {
     "data": {
      "text/plain": "Index(['fips_txt', 'Stabr', 'area_name', 'Rural_urban_continuum_code_2013',\n       'Urban_influence_code_2013', 'Metro_2013', 'Civilian_labor_force_2000',\n       'Employed_2000', 'Unemployed_2000', 'Unemployment_rate_2000',\n       'Civilian_labor_force_2001', 'Employed_2001', 'Unemployed_2001',\n       'Unemployment_rate_2001', 'Civilian_labor_force_2002', 'Employed_2002',\n       'Unemployed_2002', 'Unemployment_rate_2002',\n       'Civilian_labor_force_2003', 'Employed_2003', 'Unemployed_2003',\n       'Unemployment_rate_2003', 'Civilian_labor_force_2004', 'Employed_2004',\n       'Unemployed_2004', 'Unemployment_rate_2004',\n       'Civilian_labor_force_2005', 'Employed_2005', 'Unemployed_2005',\n       'Unemployment_rate_2005', 'Civilian_labor_force_2006', 'Employed_2006',\n       'Unemployed_2006', 'Unemployment_rate_2006',\n       'Civilian_labor_force_2007', 'Employed_2007', 'Unemployed_2007',\n       'Unemployment_rate_2007', 'Civilian_labor_force_2008', 'Employed_2008',\n       'Unemployed_2008', 'Unemployment_rate_2008',\n       'Civilian_labor_force_2009', 'Employed_2009', 'Unemployed_2009',\n       'Unemployment_rate_2009', 'Civilian_labor_force_2010', 'Employed_2010',\n       'Unemployed_2010', 'Unemployment_rate_2010',\n       'Civilian_labor_force_2011', 'Employed_2011', 'Unemployed_2011',\n       'Unemployment_rate_2011', 'Civilian_labor_force_2012', 'Employed_2012',\n       'Unemployed_2012', 'Unemployment_rate_2012',\n       'Civilian_labor_force_2013', 'Employed_2013', 'Unemployed_2013',\n       'Unemployment_rate_2013', 'Civilian_labor_force_2014', 'Employed_2014',\n       'Unemployed_2014', 'Unemployment_rate_2014',\n       'Civilian_labor_force_2015', 'Employed_2015', 'Unemployed_2015',\n       'Unemployment_rate_2015', 'Civilian_labor_force_2016', 'Employed_2016',\n       'Unemployed_2016', 'Unemployment_rate_2016',\n       'Civilian_labor_force_2017', 'Employed_2017', 'Unemployed_2017',\n       'Unemployment_rate_2017', 'Civilian_labor_force_2018', 'Employed_2018',\n       'Unemployed_2018', 'Unemployment_rate_2018',\n       'Civilian_labor_force_2019', 'Employed_2019', 'Unemployed_2019',\n       'Unemployment_rate_2019', 'Median_Household_Income_2019',\n       'Med_HH_Income_Percent_of_State_Total_2019'],\n      dtype='object')"
     },
     "metadata": {},
     "output_type": "display_data"
    },
    {
     "data": {
      "text/plain": "     fips_txt Stabr                area_name Unemployment_rate_2017  \\\n1       00000    US            United States                4.35512   \n2       01000    AL                  Alabama                    4.4   \n3       01001    AL       Autauga County, AL                    3.9   \n4       01003    AL       Baldwin County, AL                    4.1   \n5       01005    AL       Barbour County, AL                    5.8   \n...       ...   ...                      ...                    ...   \n3271    72145    PR  Vega Baja Municipio, PR                   12.4   \n3272    72147    PR    Vieques Municipio, PR                   14.5   \n3273    72149    PR   Villalba Municipio, PR                   19.4   \n3274    72151    PR    Yabucoa Municipio, PR                   16.5   \n3275    72153    PR      Yauco Municipio, PR                   17.2   \n\n     Unemployment_rate_2018 Unemployment_rate_2019  \n1                   3.89537                3.66941  \n2                       3.9                      3  \n3                       3.6                    2.7  \n4                       3.6                    2.7  \n5                       5.1                    3.8  \n...                     ...                    ...  \n3271                   10.4                    9.6  \n3272                   16.5                    6.9  \n3273                   15.8                   15.9  \n3274                   14.3                   13.1  \n3275                   14.7                   14.6  \n\n[3275 rows x 6 columns]",
      "text/html": "<div>\n<style scoped>\n    .dataframe tbody tr th:only-of-type {\n        vertical-align: middle;\n    }\n\n    .dataframe tbody tr th {\n        vertical-align: top;\n    }\n\n    .dataframe thead th {\n        text-align: right;\n    }\n</style>\n<table border=\"1\" class=\"dataframe\">\n  <thead>\n    <tr style=\"text-align: right;\">\n      <th></th>\n      <th>fips_txt</th>\n      <th>Stabr</th>\n      <th>area_name</th>\n      <th>Unemployment_rate_2017</th>\n      <th>Unemployment_rate_2018</th>\n      <th>Unemployment_rate_2019</th>\n    </tr>\n  </thead>\n  <tbody>\n    <tr>\n      <th>1</th>\n      <td>00000</td>\n      <td>US</td>\n      <td>United States</td>\n      <td>4.35512</td>\n      <td>3.89537</td>\n      <td>3.66941</td>\n    </tr>\n    <tr>\n      <th>2</th>\n      <td>01000</td>\n      <td>AL</td>\n      <td>Alabama</td>\n      <td>4.4</td>\n      <td>3.9</td>\n      <td>3</td>\n    </tr>\n    <tr>\n      <th>3</th>\n      <td>01001</td>\n      <td>AL</td>\n      <td>Autauga County, AL</td>\n      <td>3.9</td>\n      <td>3.6</td>\n      <td>2.7</td>\n    </tr>\n    <tr>\n      <th>4</th>\n      <td>01003</td>\n      <td>AL</td>\n      <td>Baldwin County, AL</td>\n      <td>4.1</td>\n      <td>3.6</td>\n      <td>2.7</td>\n    </tr>\n    <tr>\n      <th>5</th>\n      <td>01005</td>\n      <td>AL</td>\n      <td>Barbour County, AL</td>\n      <td>5.8</td>\n      <td>5.1</td>\n      <td>3.8</td>\n    </tr>\n    <tr>\n      <th>...</th>\n      <td>...</td>\n      <td>...</td>\n      <td>...</td>\n      <td>...</td>\n      <td>...</td>\n      <td>...</td>\n    </tr>\n    <tr>\n      <th>3271</th>\n      <td>72145</td>\n      <td>PR</td>\n      <td>Vega Baja Municipio, PR</td>\n      <td>12.4</td>\n      <td>10.4</td>\n      <td>9.6</td>\n    </tr>\n    <tr>\n      <th>3272</th>\n      <td>72147</td>\n      <td>PR</td>\n      <td>Vieques Municipio, PR</td>\n      <td>14.5</td>\n      <td>16.5</td>\n      <td>6.9</td>\n    </tr>\n    <tr>\n      <th>3273</th>\n      <td>72149</td>\n      <td>PR</td>\n      <td>Villalba Municipio, PR</td>\n      <td>19.4</td>\n      <td>15.8</td>\n      <td>15.9</td>\n    </tr>\n    <tr>\n      <th>3274</th>\n      <td>72151</td>\n      <td>PR</td>\n      <td>Yabucoa Municipio, PR</td>\n      <td>16.5</td>\n      <td>14.3</td>\n      <td>13.1</td>\n    </tr>\n    <tr>\n      <th>3275</th>\n      <td>72153</td>\n      <td>PR</td>\n      <td>Yauco Municipio, PR</td>\n      <td>17.2</td>\n      <td>14.7</td>\n      <td>14.6</td>\n    </tr>\n  </tbody>\n</table>\n<p>3275 rows × 6 columns</p>\n</div>"
     },
     "metadata": {},
     "output_type": "display_data"
    }
   ],
   "source": [
    "# used to remove other year data to keep only 2017-2019\n",
    "display(unemployment2017_2019.columns)\n",
    "cols_to_remove = unemployment2017_2019.iloc[:, 3:74].columns\n",
    "unemployment2017_2019 = remove_col(unemployment2017_2019, cols_to_remove)\n",
    "\n",
    "unemployment_rates_2017_2019 = unemployment2017_2019.iloc[:, [0, 1,2,6, 10, 14]]\n",
    "display(unemployment_rates_2017_2019)\n"
   ],
   "metadata": {
    "collapsed": false,
    "pycharm": {
     "name": "#%%\n"
    }
   }
  },
  {
   "cell_type": "markdown",
   "source": [
    "* remove all other column data for years 2000 - 2016\n",
    "* make a df for only unemployment rates"
   ],
   "metadata": {
    "collapsed": false
   }
  },
  {
   "cell_type": "code",
   "execution_count": 207,
   "outputs": [],
   "source": [
    "# Retain only counties and not regions / individual state\n",
    "\n",
    "UE_counties = unemployment_rates_2017_2019['area_name'].str.contains(',')\n",
    "UE_county_rate = unemployment_rates_2017_2019.loc[UE_counties]"
   ],
   "metadata": {
    "collapsed": false,
    "pycharm": {
     "name": "#%%\n"
    }
   }
  },
  {
   "cell_type": "code",
   "execution_count": 208,
   "outputs": [
    {
     "data": {
      "text/plain": "fips_txt                  0\nStabr                     0\narea_name                 0\nUnemployment_rate_2017    3\nUnemployment_rate_2018    3\nUnemployment_rate_2019    3\ndtype: int64"
     },
     "metadata": {},
     "output_type": "display_data"
    },
    {
     "data": {
      "text/plain": "    fips_txt Stabr                                        area_name  \\\n93     02201    AK  Prince of Wales-Outer Ketchikan Census Area, AK   \n96     02232    AK            Skagway-Hoonah-Angoon Census Area, AK   \n100    02280    AK              Wrangell-Petersburg Census Area, AK   \n\n    Unemployment_rate_2017 Unemployment_rate_2018 Unemployment_rate_2019  \n93                     NaN                    NaN                    NaN  \n96                     NaN                    NaN                    NaN  \n100                    NaN                    NaN                    NaN  ",
      "text/html": "<div>\n<style scoped>\n    .dataframe tbody tr th:only-of-type {\n        vertical-align: middle;\n    }\n\n    .dataframe tbody tr th {\n        vertical-align: top;\n    }\n\n    .dataframe thead th {\n        text-align: right;\n    }\n</style>\n<table border=\"1\" class=\"dataframe\">\n  <thead>\n    <tr style=\"text-align: right;\">\n      <th></th>\n      <th>fips_txt</th>\n      <th>Stabr</th>\n      <th>area_name</th>\n      <th>Unemployment_rate_2017</th>\n      <th>Unemployment_rate_2018</th>\n      <th>Unemployment_rate_2019</th>\n    </tr>\n  </thead>\n  <tbody>\n    <tr>\n      <th>93</th>\n      <td>02201</td>\n      <td>AK</td>\n      <td>Prince of Wales-Outer Ketchikan Census Area, AK</td>\n      <td>NaN</td>\n      <td>NaN</td>\n      <td>NaN</td>\n    </tr>\n    <tr>\n      <th>96</th>\n      <td>02232</td>\n      <td>AK</td>\n      <td>Skagway-Hoonah-Angoon Census Area, AK</td>\n      <td>NaN</td>\n      <td>NaN</td>\n      <td>NaN</td>\n    </tr>\n    <tr>\n      <th>100</th>\n      <td>02280</td>\n      <td>AK</td>\n      <td>Wrangell-Petersburg Census Area, AK</td>\n      <td>NaN</td>\n      <td>NaN</td>\n      <td>NaN</td>\n    </tr>\n  </tbody>\n</table>\n</div>"
     },
     "metadata": {},
     "output_type": "display_data"
    },
    {
     "name": "stderr",
     "output_type": "stream",
     "text": [
      "<ipython-input-208-13c24cce17c7>:10: SettingWithCopyWarning: \n",
      "A value is trying to be set on a copy of a slice from a DataFrame\n",
      "\n",
      "See the caveats in the documentation: https://pandas.pydata.org/pandas-docs/stable/user_guide/indexing.html#returning-a-view-versus-a-copy\n",
      "  UE_county_rate.dropna(inplace=True)\n",
      "/home/wkc/.local/lib/python3.8/site-packages/pandas/core/frame.py:4300: SettingWithCopyWarning: \n",
      "A value is trying to be set on a copy of a slice from a DataFrame\n",
      "\n",
      "See the caveats in the documentation: https://pandas.pydata.org/pandas-docs/stable/user_guide/indexing.html#returning-a-view-versus-a-copy\n",
      "  return super().rename(\n"
     ]
    }
   ],
   "source": [
    "# check for missing values and dupes\n",
    "\n",
    "display(UE_county_rate.isnull().sum())\n",
    "display(UE_county_rate.loc[UE_county_rate.isnull().any(axis=1)])\n",
    "\n",
    "daily_aqi_by_county_2018.loc[daily_aqi_by_county_2018['State Name'].str.contains('Alaska') & daily_aqi_by_county_2018['county Name'].str.contains('Prince')]\n",
    "daily_aqi_by_county_2018.loc[daily_aqi_by_county_2018['State Name'].str.contains('Alaska') & daily_aqi_by_county_2018['county Name'].str.contains('Skagway')]\n",
    "daily_aqi_by_county_2018.loc[daily_aqi_by_county_2018['State Name'].str.contains('Alaska') & daily_aqi_by_county_2018['county Name'].str.contains('Wrangell')]\n",
    "\n",
    "UE_county_rate.dropna(inplace=True)\n",
    "UE_county_rate.reset_index(drop=True, inplace=True)\n",
    "\n",
    "UE_county_rate.rename(columns={'fips_txt':'GeoFIPS'}, inplace=True)"
   ],
   "metadata": {
    "collapsed": false,
    "pycharm": {
     "name": "#%%\n"
    }
   }
  },
  {
   "cell_type": "markdown",
   "source": [
    "* 3 alaskan counties show unknown values;\n",
    "* These values will not be mergeable with aqi data as it we do not aqi data on those areas\n",
    "* drop these rows\n",
    "* Rename fips_txt to GeoFIPS"
   ],
   "metadata": {
    "collapsed": false
   }
  },
  {
   "cell_type": "code",
   "execution_count": 209,
   "outputs": [
    {
     "name": "stdout",
     "output_type": "stream",
     "text": [
      "0\n"
     ]
    }
   ],
   "source": [
    "# check if have any duplicate value\n",
    "print(UE_county_rate['area_name'].duplicated().sum())"
   ],
   "metadata": {
    "collapsed": false,
    "pycharm": {
     "name": "#%%\n"
    }
   }
  },
  {
   "cell_type": "markdown",
   "source": [
    "* we have 0 duplicates"
   ],
   "metadata": {
    "collapsed": false
   }
  },
  {
   "cell_type": "code",
   "execution_count": 210,
   "outputs": [
    {
     "name": "stdout",
     "output_type": "stream",
     "text": [
      "<class 'pandas.core.frame.DataFrame'>\n",
      "RangeIndex: 3218 entries, 0 to 3217\n",
      "Data columns (total 6 columns):\n",
      " #   Column                  Non-Null Count  Dtype \n",
      "---  ------                  --------------  ----- \n",
      " 0   GeoFIPS                 3218 non-null   object\n",
      " 1   Stabr                   3218 non-null   object\n",
      " 2   area_name               3218 non-null   object\n",
      " 3   Unemployment_rate_2017  3218 non-null   object\n",
      " 4   Unemployment_rate_2018  3218 non-null   object\n",
      " 5   Unemployment_rate_2019  3218 non-null   object\n",
      "dtypes: object(6)\n",
      "memory usage: 151.0+ KB\n",
      "<class 'pandas.core.frame.DataFrame'>\n",
      "RangeIndex: 3218 entries, 0 to 3217\n",
      "Data columns (total 6 columns):\n",
      " #   Column                  Non-Null Count  Dtype  \n",
      "---  ------                  --------------  -----  \n",
      " 0   GeoFIPS                 3218 non-null   object \n",
      " 1   Stabr                   3218 non-null   object \n",
      " 2   area_name               3218 non-null   object \n",
      " 3   Unemployment_rate_2017  3218 non-null   float32\n",
      " 4   Unemployment_rate_2018  3218 non-null   float32\n",
      " 5   Unemployment_rate_2019  3218 non-null   float32\n",
      "dtypes: float32(3), object(3)\n",
      "memory usage: 113.3+ KB\n"
     ]
    },
    {
     "data": {
      "text/plain": "None"
     },
     "metadata": {},
     "output_type": "display_data"
    },
    {
     "name": "stderr",
     "output_type": "stream",
     "text": [
      "<ipython-input-210-0645ef7acb33>:3: SettingWithCopyWarning: \n",
      "A value is trying to be set on a copy of a slice from a DataFrame.\n",
      "Try using .loc[row_indexer,col_indexer] = value instead\n",
      "\n",
      "See the caveats in the documentation: https://pandas.pydata.org/pandas-docs/stable/user_guide/indexing.html#returning-a-view-versus-a-copy\n",
      "  UE_county_rate['Unemployment_rate_2017'] = pd.to_numeric(UE_county_rate['Unemployment_rate_2017'], downcast='float')\n",
      "<ipython-input-210-0645ef7acb33>:4: SettingWithCopyWarning: \n",
      "A value is trying to be set on a copy of a slice from a DataFrame.\n",
      "Try using .loc[row_indexer,col_indexer] = value instead\n",
      "\n",
      "See the caveats in the documentation: https://pandas.pydata.org/pandas-docs/stable/user_guide/indexing.html#returning-a-view-versus-a-copy\n",
      "  UE_county_rate['Unemployment_rate_2018'] = pd.to_numeric(UE_county_rate['Unemployment_rate_2018'], downcast='float')\n",
      "<ipython-input-210-0645ef7acb33>:5: SettingWithCopyWarning: \n",
      "A value is trying to be set on a copy of a slice from a DataFrame.\n",
      "Try using .loc[row_indexer,col_indexer] = value instead\n",
      "\n",
      "See the caveats in the documentation: https://pandas.pydata.org/pandas-docs/stable/user_guide/indexing.html#returning-a-view-versus-a-copy\n",
      "  UE_county_rate['Unemployment_rate_2019'] = pd.to_numeric(UE_county_rate['Unemployment_rate_2019'], downcast='float')\n"
     ]
    }
   ],
   "source": [
    "display(UE_county_rate.info())\n",
    "\n",
    "UE_county_rate['Unemployment_rate_2017'] = pd.to_numeric(UE_county_rate['Unemployment_rate_2017'], downcast='float')\n",
    "UE_county_rate['Unemployment_rate_2018'] = pd.to_numeric(UE_county_rate['Unemployment_rate_2018'], downcast='float')\n",
    "UE_county_rate['Unemployment_rate_2019'] = pd.to_numeric(UE_county_rate['Unemployment_rate_2019'], downcast='float')\n",
    "\n",
    "UE_county_rate.info()"
   ],
   "metadata": {
    "collapsed": false,
    "pycharm": {
     "name": "#%%\n"
    }
   }
  },
  {
   "cell_type": "markdown",
   "source": [
    "* convert Unemployment rate columsn to be type float\n"
   ],
   "metadata": {
    "collapsed": false
   }
  },
  {
   "cell_type": "code",
   "execution_count": 211,
   "outputs": [
    {
     "data": {
      "text/plain": "     GeoFIPS Stabr              area_name  Unemployment_rate_2017  \\\n292    08095    CO    Phillips County, CO                     1.6   \n1999   38023    ND      Divide County, ND                     1.6   \n307    08125    CO        Yuma County, CO                     1.6   \n248    08009    CO        Baca County, CO                     1.6   \n2033   38091    ND      Steele County, ND                     1.7   \n276    08063    CO  Kit Carson County, CO                     1.7   \n275    08061    CO       Kiowa County, CO                     1.7   \n921    20071    KS     Greeley County, KS                     1.8   \n273    08057    CO     Jackson County, CO                     1.8   \n1998   38021    ND      Dickey County, ND                     1.8   \n\n      Unemployment_rate_2018  Unemployment_rate_2019  \n292                      1.9                     1.6  \n1999                     1.3                     1.4  \n307                      1.9                     1.6  \n248                      1.8                     1.7  \n2033                     2.0                     2.1  \n276                      2.0                     1.7  \n275                      1.8                     1.6  \n921                      2.0                     2.3  \n273                      2.6                     2.3  \n1998                     1.8                     1.9  ",
      "text/html": "<div>\n<style scoped>\n    .dataframe tbody tr th:only-of-type {\n        vertical-align: middle;\n    }\n\n    .dataframe tbody tr th {\n        vertical-align: top;\n    }\n\n    .dataframe thead th {\n        text-align: right;\n    }\n</style>\n<table border=\"1\" class=\"dataframe\">\n  <thead>\n    <tr style=\"text-align: right;\">\n      <th></th>\n      <th>GeoFIPS</th>\n      <th>Stabr</th>\n      <th>area_name</th>\n      <th>Unemployment_rate_2017</th>\n      <th>Unemployment_rate_2018</th>\n      <th>Unemployment_rate_2019</th>\n    </tr>\n  </thead>\n  <tbody>\n    <tr>\n      <th>292</th>\n      <td>08095</td>\n      <td>CO</td>\n      <td>Phillips County, CO</td>\n      <td>1.6</td>\n      <td>1.9</td>\n      <td>1.6</td>\n    </tr>\n    <tr>\n      <th>1999</th>\n      <td>38023</td>\n      <td>ND</td>\n      <td>Divide County, ND</td>\n      <td>1.6</td>\n      <td>1.3</td>\n      <td>1.4</td>\n    </tr>\n    <tr>\n      <th>307</th>\n      <td>08125</td>\n      <td>CO</td>\n      <td>Yuma County, CO</td>\n      <td>1.6</td>\n      <td>1.9</td>\n      <td>1.6</td>\n    </tr>\n    <tr>\n      <th>248</th>\n      <td>08009</td>\n      <td>CO</td>\n      <td>Baca County, CO</td>\n      <td>1.6</td>\n      <td>1.8</td>\n      <td>1.7</td>\n    </tr>\n    <tr>\n      <th>2033</th>\n      <td>38091</td>\n      <td>ND</td>\n      <td>Steele County, ND</td>\n      <td>1.7</td>\n      <td>2.0</td>\n      <td>2.1</td>\n    </tr>\n    <tr>\n      <th>276</th>\n      <td>08063</td>\n      <td>CO</td>\n      <td>Kit Carson County, CO</td>\n      <td>1.7</td>\n      <td>2.0</td>\n      <td>1.7</td>\n    </tr>\n    <tr>\n      <th>275</th>\n      <td>08061</td>\n      <td>CO</td>\n      <td>Kiowa County, CO</td>\n      <td>1.7</td>\n      <td>1.8</td>\n      <td>1.6</td>\n    </tr>\n    <tr>\n      <th>921</th>\n      <td>20071</td>\n      <td>KS</td>\n      <td>Greeley County, KS</td>\n      <td>1.8</td>\n      <td>2.0</td>\n      <td>2.3</td>\n    </tr>\n    <tr>\n      <th>273</th>\n      <td>08057</td>\n      <td>CO</td>\n      <td>Jackson County, CO</td>\n      <td>1.8</td>\n      <td>2.6</td>\n      <td>2.3</td>\n    </tr>\n    <tr>\n      <th>1998</th>\n      <td>38021</td>\n      <td>ND</td>\n      <td>Dickey County, ND</td>\n      <td>1.8</td>\n      <td>1.8</td>\n      <td>1.9</td>\n    </tr>\n  </tbody>\n</table>\n</div>"
     },
     "metadata": {},
     "output_type": "display_data"
    },
    {
     "data": {
      "text/plain": "     GeoFIPS Stabr             area_name  Unemployment_rate_2017  \\\n1999   38023    ND     Divide County, ND                     1.6   \n2671   48301    TX     Loving County, TX                     5.0   \n846    19119    IA       Lyon County, IA                     1.8   \n2000   38025    ND       Dunn County, ND                     2.2   \n2018   38061    ND  Mountrail County, ND                     2.1   \n2014   38053    ND   McKenzie County, ND                     2.5   \n871    19169    IA      Story County, IA                     2.0   \n275    08061    CO      Kiowa County, CO                     1.7   \n2676   48311    TX   McMullen County, TX                     1.9   \n870    19167    IA      Sioux County, IA                     2.0   \n\n      Unemployment_rate_2018  Unemployment_rate_2019  \n1999                     1.3                     1.4  \n2671                     1.5                     0.7  \n846                      1.6                     1.6  \n2000                     1.6                     1.6  \n2018                     1.6                     1.4  \n2014                     1.7                     1.6  \n871                      1.7                     1.9  \n275                      1.8                     1.6  \n2676                     1.8                     1.6  \n870                      1.8                     1.9  ",
      "text/html": "<div>\n<style scoped>\n    .dataframe tbody tr th:only-of-type {\n        vertical-align: middle;\n    }\n\n    .dataframe tbody tr th {\n        vertical-align: top;\n    }\n\n    .dataframe thead th {\n        text-align: right;\n    }\n</style>\n<table border=\"1\" class=\"dataframe\">\n  <thead>\n    <tr style=\"text-align: right;\">\n      <th></th>\n      <th>GeoFIPS</th>\n      <th>Stabr</th>\n      <th>area_name</th>\n      <th>Unemployment_rate_2017</th>\n      <th>Unemployment_rate_2018</th>\n      <th>Unemployment_rate_2019</th>\n    </tr>\n  </thead>\n  <tbody>\n    <tr>\n      <th>1999</th>\n      <td>38023</td>\n      <td>ND</td>\n      <td>Divide County, ND</td>\n      <td>1.6</td>\n      <td>1.3</td>\n      <td>1.4</td>\n    </tr>\n    <tr>\n      <th>2671</th>\n      <td>48301</td>\n      <td>TX</td>\n      <td>Loving County, TX</td>\n      <td>5.0</td>\n      <td>1.5</td>\n      <td>0.7</td>\n    </tr>\n    <tr>\n      <th>846</th>\n      <td>19119</td>\n      <td>IA</td>\n      <td>Lyon County, IA</td>\n      <td>1.8</td>\n      <td>1.6</td>\n      <td>1.6</td>\n    </tr>\n    <tr>\n      <th>2000</th>\n      <td>38025</td>\n      <td>ND</td>\n      <td>Dunn County, ND</td>\n      <td>2.2</td>\n      <td>1.6</td>\n      <td>1.6</td>\n    </tr>\n    <tr>\n      <th>2018</th>\n      <td>38061</td>\n      <td>ND</td>\n      <td>Mountrail County, ND</td>\n      <td>2.1</td>\n      <td>1.6</td>\n      <td>1.4</td>\n    </tr>\n    <tr>\n      <th>2014</th>\n      <td>38053</td>\n      <td>ND</td>\n      <td>McKenzie County, ND</td>\n      <td>2.5</td>\n      <td>1.7</td>\n      <td>1.6</td>\n    </tr>\n    <tr>\n      <th>871</th>\n      <td>19169</td>\n      <td>IA</td>\n      <td>Story County, IA</td>\n      <td>2.0</td>\n      <td>1.7</td>\n      <td>1.9</td>\n    </tr>\n    <tr>\n      <th>275</th>\n      <td>08061</td>\n      <td>CO</td>\n      <td>Kiowa County, CO</td>\n      <td>1.7</td>\n      <td>1.8</td>\n      <td>1.6</td>\n    </tr>\n    <tr>\n      <th>2676</th>\n      <td>48311</td>\n      <td>TX</td>\n      <td>McMullen County, TX</td>\n      <td>1.9</td>\n      <td>1.8</td>\n      <td>1.6</td>\n    </tr>\n    <tr>\n      <th>870</th>\n      <td>19167</td>\n      <td>IA</td>\n      <td>Sioux County, IA</td>\n      <td>2.0</td>\n      <td>1.8</td>\n      <td>1.9</td>\n    </tr>\n  </tbody>\n</table>\n</div>"
     },
     "metadata": {},
     "output_type": "display_data"
    },
    {
     "data": {
      "text/plain": "     GeoFIPS Stabr             area_name  Unemployment_rate_2017  \\\n2671   48301    TX     Loving County, TX                     5.0   \n2018   38061    ND  Mountrail County, ND                     2.1   \n1999   38023    ND     Divide County, ND                     1.6   \n2676   48311    TX   McMullen County, TX                     1.9   \n307    08125    CO       Yuma County, CO                     1.6   \n253    08017    CO   Cheyenne County, CO                     1.8   \n292    08095    CO   Phillips County, CO                     1.6   \n2000   38025    ND       Dunn County, ND                     2.2   \n2014   38053    ND   McKenzie County, ND                     2.5   \n2623   48205    TX    Hartley County, TX                     1.9   \n\n      Unemployment_rate_2018  Unemployment_rate_2019  \n2671                     1.5                     0.7  \n2018                     1.6                     1.4  \n1999                     1.3                     1.4  \n2676                     1.8                     1.6  \n307                      1.9                     1.6  \n253                      1.8                     1.6  \n292                      1.9                     1.6  \n2000                     1.6                     1.6  \n2014                     1.7                     1.6  \n2623                     1.8                     1.6  ",
      "text/html": "<div>\n<style scoped>\n    .dataframe tbody tr th:only-of-type {\n        vertical-align: middle;\n    }\n\n    .dataframe tbody tr th {\n        vertical-align: top;\n    }\n\n    .dataframe thead th {\n        text-align: right;\n    }\n</style>\n<table border=\"1\" class=\"dataframe\">\n  <thead>\n    <tr style=\"text-align: right;\">\n      <th></th>\n      <th>GeoFIPS</th>\n      <th>Stabr</th>\n      <th>area_name</th>\n      <th>Unemployment_rate_2017</th>\n      <th>Unemployment_rate_2018</th>\n      <th>Unemployment_rate_2019</th>\n    </tr>\n  </thead>\n  <tbody>\n    <tr>\n      <th>2671</th>\n      <td>48301</td>\n      <td>TX</td>\n      <td>Loving County, TX</td>\n      <td>5.0</td>\n      <td>1.5</td>\n      <td>0.7</td>\n    </tr>\n    <tr>\n      <th>2018</th>\n      <td>38061</td>\n      <td>ND</td>\n      <td>Mountrail County, ND</td>\n      <td>2.1</td>\n      <td>1.6</td>\n      <td>1.4</td>\n    </tr>\n    <tr>\n      <th>1999</th>\n      <td>38023</td>\n      <td>ND</td>\n      <td>Divide County, ND</td>\n      <td>1.6</td>\n      <td>1.3</td>\n      <td>1.4</td>\n    </tr>\n    <tr>\n      <th>2676</th>\n      <td>48311</td>\n      <td>TX</td>\n      <td>McMullen County, TX</td>\n      <td>1.9</td>\n      <td>1.8</td>\n      <td>1.6</td>\n    </tr>\n    <tr>\n      <th>307</th>\n      <td>08125</td>\n      <td>CO</td>\n      <td>Yuma County, CO</td>\n      <td>1.6</td>\n      <td>1.9</td>\n      <td>1.6</td>\n    </tr>\n    <tr>\n      <th>253</th>\n      <td>08017</td>\n      <td>CO</td>\n      <td>Cheyenne County, CO</td>\n      <td>1.8</td>\n      <td>1.8</td>\n      <td>1.6</td>\n    </tr>\n    <tr>\n      <th>292</th>\n      <td>08095</td>\n      <td>CO</td>\n      <td>Phillips County, CO</td>\n      <td>1.6</td>\n      <td>1.9</td>\n      <td>1.6</td>\n    </tr>\n    <tr>\n      <th>2000</th>\n      <td>38025</td>\n      <td>ND</td>\n      <td>Dunn County, ND</td>\n      <td>2.2</td>\n      <td>1.6</td>\n      <td>1.6</td>\n    </tr>\n    <tr>\n      <th>2014</th>\n      <td>38053</td>\n      <td>ND</td>\n      <td>McKenzie County, ND</td>\n      <td>2.5</td>\n      <td>1.7</td>\n      <td>1.6</td>\n    </tr>\n    <tr>\n      <th>2623</th>\n      <td>48205</td>\n      <td>TX</td>\n      <td>Hartley County, TX</td>\n      <td>1.9</td>\n      <td>1.8</td>\n      <td>1.6</td>\n    </tr>\n  </tbody>\n</table>\n</div>"
     },
     "metadata": {},
     "output_type": "display_data"
    },
    {
     "data": {
      "text/plain": "     GeoFIPS Stabr                 area_name  Unemployment_rate_2017  \\\n3182   72083    PR  Las Marias Municipio, PR               20.600000   \n3187   72093    PR     Maricao Municipio, PR               20.100000   \n3195   72109    PR    Patillas Municipio, PR               19.700001   \n81     02158    AK  Kusilvak Census Area, AK               19.600000   \n198    06025    CA       Imperial County, CA               19.500000   \n3215   72149    PR    Villalba Municipio, PR               19.400000   \n3180   72079    PR       Lajas Municipio, PR               19.400000   \n3202   72123    PR     Salinas Municipio, PR               18.700001   \n3181   72081    PR       Lares Municipio, PR               18.600000   \n3168   72055    PR     Guanica Municipio, PR               18.299999   \n\n      Unemployment_rate_2018  Unemployment_rate_2019  \n3182               14.100000               11.600000  \n3187               15.100000               13.700000  \n3195               17.500000               15.700000  \n81                 19.600000               19.299999  \n198                18.900000               18.299999  \n3215               15.800000               15.900000  \n3180               15.300000               12.800000  \n3202               14.800000               14.500000  \n3181               16.200001               14.700000  \n3168               15.500000               14.800000  ",
      "text/html": "<div>\n<style scoped>\n    .dataframe tbody tr th:only-of-type {\n        vertical-align: middle;\n    }\n\n    .dataframe tbody tr th {\n        vertical-align: top;\n    }\n\n    .dataframe thead th {\n        text-align: right;\n    }\n</style>\n<table border=\"1\" class=\"dataframe\">\n  <thead>\n    <tr style=\"text-align: right;\">\n      <th></th>\n      <th>GeoFIPS</th>\n      <th>Stabr</th>\n      <th>area_name</th>\n      <th>Unemployment_rate_2017</th>\n      <th>Unemployment_rate_2018</th>\n      <th>Unemployment_rate_2019</th>\n    </tr>\n  </thead>\n  <tbody>\n    <tr>\n      <th>3182</th>\n      <td>72083</td>\n      <td>PR</td>\n      <td>Las Marias Municipio, PR</td>\n      <td>20.600000</td>\n      <td>14.100000</td>\n      <td>11.600000</td>\n    </tr>\n    <tr>\n      <th>3187</th>\n      <td>72093</td>\n      <td>PR</td>\n      <td>Maricao Municipio, PR</td>\n      <td>20.100000</td>\n      <td>15.100000</td>\n      <td>13.700000</td>\n    </tr>\n    <tr>\n      <th>3195</th>\n      <td>72109</td>\n      <td>PR</td>\n      <td>Patillas Municipio, PR</td>\n      <td>19.700001</td>\n      <td>17.500000</td>\n      <td>15.700000</td>\n    </tr>\n    <tr>\n      <th>81</th>\n      <td>02158</td>\n      <td>AK</td>\n      <td>Kusilvak Census Area, AK</td>\n      <td>19.600000</td>\n      <td>19.600000</td>\n      <td>19.299999</td>\n    </tr>\n    <tr>\n      <th>198</th>\n      <td>06025</td>\n      <td>CA</td>\n      <td>Imperial County, CA</td>\n      <td>19.500000</td>\n      <td>18.900000</td>\n      <td>18.299999</td>\n    </tr>\n    <tr>\n      <th>3215</th>\n      <td>72149</td>\n      <td>PR</td>\n      <td>Villalba Municipio, PR</td>\n      <td>19.400000</td>\n      <td>15.800000</td>\n      <td>15.900000</td>\n    </tr>\n    <tr>\n      <th>3180</th>\n      <td>72079</td>\n      <td>PR</td>\n      <td>Lajas Municipio, PR</td>\n      <td>19.400000</td>\n      <td>15.300000</td>\n      <td>12.800000</td>\n    </tr>\n    <tr>\n      <th>3202</th>\n      <td>72123</td>\n      <td>PR</td>\n      <td>Salinas Municipio, PR</td>\n      <td>18.700001</td>\n      <td>14.800000</td>\n      <td>14.500000</td>\n    </tr>\n    <tr>\n      <th>3181</th>\n      <td>72081</td>\n      <td>PR</td>\n      <td>Lares Municipio, PR</td>\n      <td>18.600000</td>\n      <td>16.200001</td>\n      <td>14.700000</td>\n    </tr>\n    <tr>\n      <th>3168</th>\n      <td>72055</td>\n      <td>PR</td>\n      <td>Guanica Municipio, PR</td>\n      <td>18.299999</td>\n      <td>15.500000</td>\n      <td>14.800000</td>\n    </tr>\n  </tbody>\n</table>\n</div>"
     },
     "metadata": {},
     "output_type": "display_data"
    },
    {
     "data": {
      "text/plain": "     GeoFIPS Stabr                 area_name  Unemployment_rate_2017  \\\n81     02158    AK  Kusilvak Census Area, AK               19.600000   \n198    06025    CA       Imperial County, CA               19.500000   \n3195   72109    PR    Patillas Municipio, PR               19.700001   \n110    04027    AZ           Yuma County, AZ               16.900000   \n3214   72147    PR     Vieques Municipio, PR               14.500000   \n3181   72081    PR       Lares Municipio, PR               18.600000   \n3215   72149    PR    Villalba Municipio, PR               19.400000   \n3168   72055    PR     Guanica Municipio, PR               18.299999   \n3180   72079    PR       Lajas Municipio, PR               19.400000   \n3188   72095    PR     Maunabo Municipio, PR               17.299999   \n\n      Unemployment_rate_2018  Unemployment_rate_2019  \n81                 19.600000               19.299999  \n198                18.900000               18.299999  \n3195               17.500000               15.700000  \n110                16.700001               16.400000  \n3214               16.500000                6.900000  \n3181               16.200001               14.700000  \n3215               15.800000               15.900000  \n3168               15.500000               14.800000  \n3180               15.300000               12.800000  \n3188               15.200000               15.100000  ",
      "text/html": "<div>\n<style scoped>\n    .dataframe tbody tr th:only-of-type {\n        vertical-align: middle;\n    }\n\n    .dataframe tbody tr th {\n        vertical-align: top;\n    }\n\n    .dataframe thead th {\n        text-align: right;\n    }\n</style>\n<table border=\"1\" class=\"dataframe\">\n  <thead>\n    <tr style=\"text-align: right;\">\n      <th></th>\n      <th>GeoFIPS</th>\n      <th>Stabr</th>\n      <th>area_name</th>\n      <th>Unemployment_rate_2017</th>\n      <th>Unemployment_rate_2018</th>\n      <th>Unemployment_rate_2019</th>\n    </tr>\n  </thead>\n  <tbody>\n    <tr>\n      <th>81</th>\n      <td>02158</td>\n      <td>AK</td>\n      <td>Kusilvak Census Area, AK</td>\n      <td>19.600000</td>\n      <td>19.600000</td>\n      <td>19.299999</td>\n    </tr>\n    <tr>\n      <th>198</th>\n      <td>06025</td>\n      <td>CA</td>\n      <td>Imperial County, CA</td>\n      <td>19.500000</td>\n      <td>18.900000</td>\n      <td>18.299999</td>\n    </tr>\n    <tr>\n      <th>3195</th>\n      <td>72109</td>\n      <td>PR</td>\n      <td>Patillas Municipio, PR</td>\n      <td>19.700001</td>\n      <td>17.500000</td>\n      <td>15.700000</td>\n    </tr>\n    <tr>\n      <th>110</th>\n      <td>04027</td>\n      <td>AZ</td>\n      <td>Yuma County, AZ</td>\n      <td>16.900000</td>\n      <td>16.700001</td>\n      <td>16.400000</td>\n    </tr>\n    <tr>\n      <th>3214</th>\n      <td>72147</td>\n      <td>PR</td>\n      <td>Vieques Municipio, PR</td>\n      <td>14.500000</td>\n      <td>16.500000</td>\n      <td>6.900000</td>\n    </tr>\n    <tr>\n      <th>3181</th>\n      <td>72081</td>\n      <td>PR</td>\n      <td>Lares Municipio, PR</td>\n      <td>18.600000</td>\n      <td>16.200001</td>\n      <td>14.700000</td>\n    </tr>\n    <tr>\n      <th>3215</th>\n      <td>72149</td>\n      <td>PR</td>\n      <td>Villalba Municipio, PR</td>\n      <td>19.400000</td>\n      <td>15.800000</td>\n      <td>15.900000</td>\n    </tr>\n    <tr>\n      <th>3168</th>\n      <td>72055</td>\n      <td>PR</td>\n      <td>Guanica Municipio, PR</td>\n      <td>18.299999</td>\n      <td>15.500000</td>\n      <td>14.800000</td>\n    </tr>\n    <tr>\n      <th>3180</th>\n      <td>72079</td>\n      <td>PR</td>\n      <td>Lajas Municipio, PR</td>\n      <td>19.400000</td>\n      <td>15.300000</td>\n      <td>12.800000</td>\n    </tr>\n    <tr>\n      <th>3188</th>\n      <td>72095</td>\n      <td>PR</td>\n      <td>Maunabo Municipio, PR</td>\n      <td>17.299999</td>\n      <td>15.200000</td>\n      <td>15.100000</td>\n    </tr>\n  </tbody>\n</table>\n</div>"
     },
     "metadata": {},
     "output_type": "display_data"
    },
    {
     "data": {
      "text/plain": "     GeoFIPS Stabr                 area_name  Unemployment_rate_2017  \\\n81     02158    AK  Kusilvak Census Area, AK               19.600000   \n198    06025    CA       Imperial County, CA               19.500000   \n110    04027    AZ           Yuma County, AZ               16.900000   \n3215   72149    PR    Villalba Municipio, PR               19.400000   \n3195   72109    PR    Patillas Municipio, PR               19.700001   \n1430   28063    MS      Jefferson County, MS               14.600000   \n3140   72001    PR    Adjuntas Municipio, PR               15.100000   \n3188   72095    PR     Maunabo Municipio, PR               17.299999   \n3168   72055    PR     Guanica Municipio, PR               18.299999   \n3181   72081    PR       Lares Municipio, PR               18.600000   \n\n      Unemployment_rate_2018  Unemployment_rate_2019  \n81                 19.600000               19.299999  \n198                18.900000               18.299999  \n110                16.700001               16.400000  \n3215               15.800000               15.900000  \n3195               17.500000               15.700000  \n1430               13.200000               15.500000  \n3140               13.700000               15.300000  \n3188               15.200000               15.100000  \n3168               15.500000               14.800000  \n3181               16.200001               14.700000  ",
      "text/html": "<div>\n<style scoped>\n    .dataframe tbody tr th:only-of-type {\n        vertical-align: middle;\n    }\n\n    .dataframe tbody tr th {\n        vertical-align: top;\n    }\n\n    .dataframe thead th {\n        text-align: right;\n    }\n</style>\n<table border=\"1\" class=\"dataframe\">\n  <thead>\n    <tr style=\"text-align: right;\">\n      <th></th>\n      <th>GeoFIPS</th>\n      <th>Stabr</th>\n      <th>area_name</th>\n      <th>Unemployment_rate_2017</th>\n      <th>Unemployment_rate_2018</th>\n      <th>Unemployment_rate_2019</th>\n    </tr>\n  </thead>\n  <tbody>\n    <tr>\n      <th>81</th>\n      <td>02158</td>\n      <td>AK</td>\n      <td>Kusilvak Census Area, AK</td>\n      <td>19.600000</td>\n      <td>19.600000</td>\n      <td>19.299999</td>\n    </tr>\n    <tr>\n      <th>198</th>\n      <td>06025</td>\n      <td>CA</td>\n      <td>Imperial County, CA</td>\n      <td>19.500000</td>\n      <td>18.900000</td>\n      <td>18.299999</td>\n    </tr>\n    <tr>\n      <th>110</th>\n      <td>04027</td>\n      <td>AZ</td>\n      <td>Yuma County, AZ</td>\n      <td>16.900000</td>\n      <td>16.700001</td>\n      <td>16.400000</td>\n    </tr>\n    <tr>\n      <th>3215</th>\n      <td>72149</td>\n      <td>PR</td>\n      <td>Villalba Municipio, PR</td>\n      <td>19.400000</td>\n      <td>15.800000</td>\n      <td>15.900000</td>\n    </tr>\n    <tr>\n      <th>3195</th>\n      <td>72109</td>\n      <td>PR</td>\n      <td>Patillas Municipio, PR</td>\n      <td>19.700001</td>\n      <td>17.500000</td>\n      <td>15.700000</td>\n    </tr>\n    <tr>\n      <th>1430</th>\n      <td>28063</td>\n      <td>MS</td>\n      <td>Jefferson County, MS</td>\n      <td>14.600000</td>\n      <td>13.200000</td>\n      <td>15.500000</td>\n    </tr>\n    <tr>\n      <th>3140</th>\n      <td>72001</td>\n      <td>PR</td>\n      <td>Adjuntas Municipio, PR</td>\n      <td>15.100000</td>\n      <td>13.700000</td>\n      <td>15.300000</td>\n    </tr>\n    <tr>\n      <th>3188</th>\n      <td>72095</td>\n      <td>PR</td>\n      <td>Maunabo Municipio, PR</td>\n      <td>17.299999</td>\n      <td>15.200000</td>\n      <td>15.100000</td>\n    </tr>\n    <tr>\n      <th>3168</th>\n      <td>72055</td>\n      <td>PR</td>\n      <td>Guanica Municipio, PR</td>\n      <td>18.299999</td>\n      <td>15.500000</td>\n      <td>14.800000</td>\n    </tr>\n    <tr>\n      <th>3181</th>\n      <td>72081</td>\n      <td>PR</td>\n      <td>Lares Municipio, PR</td>\n      <td>18.600000</td>\n      <td>16.200001</td>\n      <td>14.700000</td>\n    </tr>\n  </tbody>\n</table>\n</div>"
     },
     "metadata": {},
     "output_type": "display_data"
    }
   ],
   "source": [
    "#order then plot top 100 and bottom 100\n",
    "UE_county_rate\n",
    "display(UE_county_rate.sort_values(by='Unemployment_rate_2017').head(10))\n",
    "display(UE_county_rate.sort_values(by='Unemployment_rate_2018').head(10))\n",
    "display(UE_county_rate.sort_values(by='Unemployment_rate_2019').head(10))\n",
    "\n",
    "display(UE_county_rate.sort_values(by='Unemployment_rate_2017', ascending=False).head(10))\n",
    "display(UE_county_rate.sort_values(by='Unemployment_rate_2018', ascending=False).head(10))\n",
    "display(UE_county_rate.sort_values(by='Unemployment_rate_2019', ascending=False).head(10))"
   ],
   "metadata": {
    "collapsed": false,
    "pycharm": {
     "name": "#%%\n"
    }
   }
  },
  {
   "cell_type": "markdown",
   "source": [
    "* Don't have consistent low unemployment by years\n",
    "* Puerto Rico counties appear to have highest unemployment rate over time\n",
    "\n"
   ],
   "metadata": {
    "collapsed": false
   }
  },
  {
   "cell_type": "markdown",
   "source": [
    "* In 2017, it appears that Unemployment rates from 2.5 to 7.5 are normal\n",
    "* data is skewed to right\n"
   ],
   "metadata": {
    "collapsed": false
   }
  },
  {
   "cell_type": "markdown",
   "source": [
    "\n",
    "# clean up saipe data 2017\n"
   ],
   "metadata": {
    "collapsed": false
   }
  },
  {
   "cell_type": "code",
   "execution_count": 212,
   "outputs": [
    {
     "data": {
      "text/plain": "     State FIPS Code County FIPS Code Postal Code               Name  \\\n0                 00              000          US      United States   \n1                 01              000          AL            Alabama   \n2                 01              001          AL     Autauga County   \n3                 01              003          AL     Baldwin County   \n4                 01              005          AL     Barbour County   \n...              ...              ...         ...                ...   \n3189              56              037          WY  Sweetwater County   \n3190              56              039          WY       Teton County   \n3191              56              041          WY       Uinta County   \n3192              56              043          WY    Washakie County   \n3193              56              045          WY      Weston County   \n\n     Poverty Estimate, All Ages 90% CI Lower Bound 90% CI Upper Bound  \\\n0                      42583651           42342619           42824683   \n1                        802263             784517             820009   \n2                          7390               6147               8633   \n3                         21199              17444              24954   \n4                          7414               6325               8503   \n...                         ...                ...                ...   \n3189                       4253               3540               4966   \n3190                       1348               1021               1675   \n3191                       2067               1623               2511   \n3192                        845                632               1058   \n3193                        699                541                857   \n\n     Poverty Percent, All Ages 90% CI Lower Bound 90% CI Upper Bound  ...  \\\n0                         13.4               13.3               13.5  ...   \n1                         16.9               16.5               17.3  ...   \n2                         13.4               11.1               15.7  ...   \n3                         10.1                8.3               11.9  ...   \n4                         33.4               28.5               38.3  ...   \n...                        ...                ...                ...  ...   \n3189                        10                8.3               11.7  ...   \n3190                       5.8                4.4                7.2  ...   \n3191                      10.2                  8               12.4  ...   \n3192                      10.7                  8               13.4  ...   \n3193                      10.6                8.2                 13  ...   \n\n     90% CI Upper Bound Median Household Income 90% CI Lower Bound  \\\n0                  17.5                   60336              60250   \n1                  23.8                   48193              47451   \n2                  22.1                   58343              52121   \n3                  17.9                   56607              52439   \n4                    55                   32490              29218   \n...                 ...                     ...                ...   \n3189                 14                   75590              69190   \n3190                7.9                   90145              80434   \n3191               13.4                   67404              60925   \n3192               17.3                   57989              53142   \n3193               16.6                   56214              50250   \n\n     90% CI Upper Bound Poverty Estimate, Age 0-4 90% CI Lower Bound  \\\n0                 60422                   3932969            3880645   \n1                 48935                     78986              75009   \n2                 64565                         .                  .   \n3                 60775                         .                  .   \n4                 35762                         .                  .   \n...                 ...                       ...                ...   \n3189              81990                         .                  .   \n3190              99856                         .                  .   \n3191              73883                         .                  .   \n3192              62836                         .                  .   \n3193              62178                         .                  .   \n\n     90% CI Upper Bound Poverty Percent, Age 0-4 90% CI Lower Bound  \\\n0               3985293                     20.2               19.9   \n1                 82963                     27.7               26.3   \n2                     .                        .                  .   \n3                     .                        .                  .   \n4                     .                        .                  .   \n...                 ...                      ...                ...   \n3189                  .                        .                  .   \n3190                  .                        .                  .   \n3191                  .                        .                  .   \n3192                  .                        .                  .   \n3193                  .                        .                  .   \n\n     90% CI Upper Bound  \n0                  20.5  \n1                  29.1  \n2                     .  \n3                     .  \n4                     .  \n...                 ...  \n3189                  .  \n3190                  .  \n3191                  .  \n3192                  .  \n3193                  .  \n\n[3194 rows x 31 columns]",
      "text/html": "<div>\n<style scoped>\n    .dataframe tbody tr th:only-of-type {\n        vertical-align: middle;\n    }\n\n    .dataframe tbody tr th {\n        vertical-align: top;\n    }\n\n    .dataframe thead th {\n        text-align: right;\n    }\n</style>\n<table border=\"1\" class=\"dataframe\">\n  <thead>\n    <tr style=\"text-align: right;\">\n      <th></th>\n      <th>State FIPS Code</th>\n      <th>County FIPS Code</th>\n      <th>Postal Code</th>\n      <th>Name</th>\n      <th>Poverty Estimate, All Ages</th>\n      <th>90% CI Lower Bound</th>\n      <th>90% CI Upper Bound</th>\n      <th>Poverty Percent, All Ages</th>\n      <th>90% CI Lower Bound</th>\n      <th>90% CI Upper Bound</th>\n      <th>...</th>\n      <th>90% CI Upper Bound</th>\n      <th>Median Household Income</th>\n      <th>90% CI Lower Bound</th>\n      <th>90% CI Upper Bound</th>\n      <th>Poverty Estimate, Age 0-4</th>\n      <th>90% CI Lower Bound</th>\n      <th>90% CI Upper Bound</th>\n      <th>Poverty Percent, Age 0-4</th>\n      <th>90% CI Lower Bound</th>\n      <th>90% CI Upper Bound</th>\n    </tr>\n  </thead>\n  <tbody>\n    <tr>\n      <th>0</th>\n      <td>00</td>\n      <td>000</td>\n      <td>US</td>\n      <td>United States</td>\n      <td>42583651</td>\n      <td>42342619</td>\n      <td>42824683</td>\n      <td>13.4</td>\n      <td>13.3</td>\n      <td>13.5</td>\n      <td>...</td>\n      <td>17.5</td>\n      <td>60336</td>\n      <td>60250</td>\n      <td>60422</td>\n      <td>3932969</td>\n      <td>3880645</td>\n      <td>3985293</td>\n      <td>20.2</td>\n      <td>19.9</td>\n      <td>20.5</td>\n    </tr>\n    <tr>\n      <th>1</th>\n      <td>01</td>\n      <td>000</td>\n      <td>AL</td>\n      <td>Alabama</td>\n      <td>802263</td>\n      <td>784517</td>\n      <td>820009</td>\n      <td>16.9</td>\n      <td>16.5</td>\n      <td>17.3</td>\n      <td>...</td>\n      <td>23.8</td>\n      <td>48193</td>\n      <td>47451</td>\n      <td>48935</td>\n      <td>78986</td>\n      <td>75009</td>\n      <td>82963</td>\n      <td>27.7</td>\n      <td>26.3</td>\n      <td>29.1</td>\n    </tr>\n    <tr>\n      <th>2</th>\n      <td>01</td>\n      <td>001</td>\n      <td>AL</td>\n      <td>Autauga County</td>\n      <td>7390</td>\n      <td>6147</td>\n      <td>8633</td>\n      <td>13.4</td>\n      <td>11.1</td>\n      <td>15.7</td>\n      <td>...</td>\n      <td>22.1</td>\n      <td>58343</td>\n      <td>52121</td>\n      <td>64565</td>\n      <td>.</td>\n      <td>.</td>\n      <td>.</td>\n      <td>.</td>\n      <td>.</td>\n      <td>.</td>\n    </tr>\n    <tr>\n      <th>3</th>\n      <td>01</td>\n      <td>003</td>\n      <td>AL</td>\n      <td>Baldwin County</td>\n      <td>21199</td>\n      <td>17444</td>\n      <td>24954</td>\n      <td>10.1</td>\n      <td>8.3</td>\n      <td>11.9</td>\n      <td>...</td>\n      <td>17.9</td>\n      <td>56607</td>\n      <td>52439</td>\n      <td>60775</td>\n      <td>.</td>\n      <td>.</td>\n      <td>.</td>\n      <td>.</td>\n      <td>.</td>\n      <td>.</td>\n    </tr>\n    <tr>\n      <th>4</th>\n      <td>01</td>\n      <td>005</td>\n      <td>AL</td>\n      <td>Barbour County</td>\n      <td>7414</td>\n      <td>6325</td>\n      <td>8503</td>\n      <td>33.4</td>\n      <td>28.5</td>\n      <td>38.3</td>\n      <td>...</td>\n      <td>55</td>\n      <td>32490</td>\n      <td>29218</td>\n      <td>35762</td>\n      <td>.</td>\n      <td>.</td>\n      <td>.</td>\n      <td>.</td>\n      <td>.</td>\n      <td>.</td>\n    </tr>\n    <tr>\n      <th>...</th>\n      <td>...</td>\n      <td>...</td>\n      <td>...</td>\n      <td>...</td>\n      <td>...</td>\n      <td>...</td>\n      <td>...</td>\n      <td>...</td>\n      <td>...</td>\n      <td>...</td>\n      <td>...</td>\n      <td>...</td>\n      <td>...</td>\n      <td>...</td>\n      <td>...</td>\n      <td>...</td>\n      <td>...</td>\n      <td>...</td>\n      <td>...</td>\n      <td>...</td>\n      <td>...</td>\n    </tr>\n    <tr>\n      <th>3189</th>\n      <td>56</td>\n      <td>037</td>\n      <td>WY</td>\n      <td>Sweetwater County</td>\n      <td>4253</td>\n      <td>3540</td>\n      <td>4966</td>\n      <td>10</td>\n      <td>8.3</td>\n      <td>11.7</td>\n      <td>...</td>\n      <td>14</td>\n      <td>75590</td>\n      <td>69190</td>\n      <td>81990</td>\n      <td>.</td>\n      <td>.</td>\n      <td>.</td>\n      <td>.</td>\n      <td>.</td>\n      <td>.</td>\n    </tr>\n    <tr>\n      <th>3190</th>\n      <td>56</td>\n      <td>039</td>\n      <td>WY</td>\n      <td>Teton County</td>\n      <td>1348</td>\n      <td>1021</td>\n      <td>1675</td>\n      <td>5.8</td>\n      <td>4.4</td>\n      <td>7.2</td>\n      <td>...</td>\n      <td>7.9</td>\n      <td>90145</td>\n      <td>80434</td>\n      <td>99856</td>\n      <td>.</td>\n      <td>.</td>\n      <td>.</td>\n      <td>.</td>\n      <td>.</td>\n      <td>.</td>\n    </tr>\n    <tr>\n      <th>3191</th>\n      <td>56</td>\n      <td>041</td>\n      <td>WY</td>\n      <td>Uinta County</td>\n      <td>2067</td>\n      <td>1623</td>\n      <td>2511</td>\n      <td>10.2</td>\n      <td>8</td>\n      <td>12.4</td>\n      <td>...</td>\n      <td>13.4</td>\n      <td>67404</td>\n      <td>60925</td>\n      <td>73883</td>\n      <td>.</td>\n      <td>.</td>\n      <td>.</td>\n      <td>.</td>\n      <td>.</td>\n      <td>.</td>\n    </tr>\n    <tr>\n      <th>3192</th>\n      <td>56</td>\n      <td>043</td>\n      <td>WY</td>\n      <td>Washakie County</td>\n      <td>845</td>\n      <td>632</td>\n      <td>1058</td>\n      <td>10.7</td>\n      <td>8</td>\n      <td>13.4</td>\n      <td>...</td>\n      <td>17.3</td>\n      <td>57989</td>\n      <td>53142</td>\n      <td>62836</td>\n      <td>.</td>\n      <td>.</td>\n      <td>.</td>\n      <td>.</td>\n      <td>.</td>\n      <td>.</td>\n    </tr>\n    <tr>\n      <th>3193</th>\n      <td>56</td>\n      <td>045</td>\n      <td>WY</td>\n      <td>Weston County</td>\n      <td>699</td>\n      <td>541</td>\n      <td>857</td>\n      <td>10.6</td>\n      <td>8.2</td>\n      <td>13</td>\n      <td>...</td>\n      <td>16.6</td>\n      <td>56214</td>\n      <td>50250</td>\n      <td>62178</td>\n      <td>.</td>\n      <td>.</td>\n      <td>.</td>\n      <td>.</td>\n      <td>.</td>\n      <td>.</td>\n    </tr>\n  </tbody>\n</table>\n<p>3194 rows × 31 columns</p>\n</div>"
     },
     "metadata": {},
     "output_type": "display_data"
    }
   ],
   "source": [
    "\n",
    "saipe_header = saipe2017.iloc[2, :].values\n",
    "saipe_header\n",
    "saipe2017.columns = saipe_header\n",
    "saipe2017.drop([0,1,2], inplace=True)\n",
    "saipe2017.reset_index(drop=True, inplace=True)\n",
    "display(saipe2017)"
   ],
   "metadata": {
    "collapsed": false,
    "pycharm": {
     "name": "#%%\n"
    }
   }
  },
  {
   "cell_type": "code",
   "execution_count": 213,
   "outputs": [
    {
     "data": {
      "text/plain": "     State FIPS Code County FIPS Code Postal Code               Name  \\\n0                 01              001          AL     Autauga County   \n1                 01              003          AL     Baldwin County   \n2                 01              005          AL     Barbour County   \n3                 01              007          AL        Bibb County   \n4                 01              009          AL      Blount County   \n...              ...              ...         ...                ...   \n3002              56              037          WY  Sweetwater County   \n3003              56              039          WY       Teton County   \n3004              56              041          WY       Uinta County   \n3005              56              043          WY    Washakie County   \n3006              56              045          WY      Weston County   \n\n     Poverty Percent, All Ages  \n0                         13.4  \n1                         10.1  \n2                         33.4  \n3                         20.2  \n4                         12.8  \n...                        ...  \n3002                        10  \n3003                       5.8  \n3004                      10.2  \n3005                      10.7  \n3006                      10.6  \n\n[3007 rows x 5 columns]",
      "text/html": "<div>\n<style scoped>\n    .dataframe tbody tr th:only-of-type {\n        vertical-align: middle;\n    }\n\n    .dataframe tbody tr th {\n        vertical-align: top;\n    }\n\n    .dataframe thead th {\n        text-align: right;\n    }\n</style>\n<table border=\"1\" class=\"dataframe\">\n  <thead>\n    <tr style=\"text-align: right;\">\n      <th></th>\n      <th>State FIPS Code</th>\n      <th>County FIPS Code</th>\n      <th>Postal Code</th>\n      <th>Name</th>\n      <th>Poverty Percent, All Ages</th>\n    </tr>\n  </thead>\n  <tbody>\n    <tr>\n      <th>0</th>\n      <td>01</td>\n      <td>001</td>\n      <td>AL</td>\n      <td>Autauga County</td>\n      <td>13.4</td>\n    </tr>\n    <tr>\n      <th>1</th>\n      <td>01</td>\n      <td>003</td>\n      <td>AL</td>\n      <td>Baldwin County</td>\n      <td>10.1</td>\n    </tr>\n    <tr>\n      <th>2</th>\n      <td>01</td>\n      <td>005</td>\n      <td>AL</td>\n      <td>Barbour County</td>\n      <td>33.4</td>\n    </tr>\n    <tr>\n      <th>3</th>\n      <td>01</td>\n      <td>007</td>\n      <td>AL</td>\n      <td>Bibb County</td>\n      <td>20.2</td>\n    </tr>\n    <tr>\n      <th>4</th>\n      <td>01</td>\n      <td>009</td>\n      <td>AL</td>\n      <td>Blount County</td>\n      <td>12.8</td>\n    </tr>\n    <tr>\n      <th>...</th>\n      <td>...</td>\n      <td>...</td>\n      <td>...</td>\n      <td>...</td>\n      <td>...</td>\n    </tr>\n    <tr>\n      <th>3002</th>\n      <td>56</td>\n      <td>037</td>\n      <td>WY</td>\n      <td>Sweetwater County</td>\n      <td>10</td>\n    </tr>\n    <tr>\n      <th>3003</th>\n      <td>56</td>\n      <td>039</td>\n      <td>WY</td>\n      <td>Teton County</td>\n      <td>5.8</td>\n    </tr>\n    <tr>\n      <th>3004</th>\n      <td>56</td>\n      <td>041</td>\n      <td>WY</td>\n      <td>Uinta County</td>\n      <td>10.2</td>\n    </tr>\n    <tr>\n      <th>3005</th>\n      <td>56</td>\n      <td>043</td>\n      <td>WY</td>\n      <td>Washakie County</td>\n      <td>10.7</td>\n    </tr>\n    <tr>\n      <th>3006</th>\n      <td>56</td>\n      <td>045</td>\n      <td>WY</td>\n      <td>Weston County</td>\n      <td>10.6</td>\n    </tr>\n  </tbody>\n</table>\n<p>3007 rows × 5 columns</p>\n</div>"
     },
     "metadata": {},
     "output_type": "display_data"
    }
   ],
   "source": [
    "saipe2017.columns\n",
    "saipe2017.iloc[:, [1,2,3,4,7]]\n",
    "saipe_county = saipe2017['Name'].str.contains('County')\n",
    "pov_rate_2017 = saipe2017.loc[saipe_county].iloc[:, [0, 1,2,3, 7]]\n",
    "pov_rate_2017.reset_index(drop=True, inplace=True)\n",
    "display(pov_rate_2017)"
   ],
   "metadata": {
    "collapsed": false,
    "pycharm": {
     "name": "#%%\n"
    }
   }
  },
  {
   "cell_type": "markdown",
   "source": [
    "* Remove empty cells and clean up columns\n",
    "* Retain only US county information and poverty rates for all ages\n"
   ],
   "metadata": {
    "collapsed": false
   }
  },
  {
   "cell_type": "code",
   "execution_count": 214,
   "outputs": [
    {
     "name": "stdout",
     "output_type": "stream",
     "text": [
      "State FIPS Code              0\n",
      "County FIPS Code             0\n",
      "Postal Code                  0\n",
      "Name                         0\n",
      "Poverty Percent, All Ages    0\n",
      "dtype: int64\n",
      "0\n",
      "<class 'pandas.core.frame.DataFrame'>\n",
      "RangeIndex: 3007 entries, 0 to 3006\n",
      "Data columns (total 5 columns):\n",
      " #   Column                     Non-Null Count  Dtype \n",
      "---  ------                     --------------  ----- \n",
      " 0   State FIPS Code            3007 non-null   object\n",
      " 1   County FIPS Code           3007 non-null   object\n",
      " 2   Postal Code                3007 non-null   object\n",
      " 3   Name                       3007 non-null   object\n",
      " 4   Poverty Percent, All Ages  3007 non-null   object\n",
      "dtypes: object(5)\n",
      "memory usage: 117.6+ KB\n"
     ]
    },
    {
     "data": {
      "text/plain": "None"
     },
     "metadata": {},
     "output_type": "display_data"
    }
   ],
   "source": [
    "print(pov_rate_2017.isnull().sum())\n",
    "print(pov_rate_2017.duplicated().sum())\n",
    "display(pov_rate_2017.info())"
   ],
   "metadata": {
    "collapsed": false,
    "pycharm": {
     "name": "#%%\n"
    }
   }
  },
  {
   "cell_type": "markdown",
   "source": [
    "* No duplicates or missing values for poverty rates in 2017\n",
    "* also convert poverty percent to float"
   ],
   "metadata": {
    "collapsed": false
   }
  },
  {
   "cell_type": "code",
   "execution_count": 215,
   "outputs": [
    {
     "name": "stdout",
     "output_type": "stream",
     "text": [
      "<class 'pandas.core.frame.DataFrame'>\n",
      "RangeIndex: 3007 entries, 0 to 3006\n",
      "Data columns (total 5 columns):\n",
      " #   Column                     Non-Null Count  Dtype \n",
      "---  ------                     --------------  ----- \n",
      " 0   State FIPS Code            3007 non-null   object\n",
      " 1   County FIPS Code           3007 non-null   object\n",
      " 2   Postal Code                3007 non-null   object\n",
      " 3   Name                       3007 non-null   object\n",
      " 4   Poverty Percent, All Ages  3007 non-null   object\n",
      "dtypes: object(5)\n",
      "memory usage: 117.6+ KB\n"
     ]
    }
   ],
   "source": [
    "pov_rate_2017.info()\n",
    "\n",
    "pov_rate_2017.drop(518, inplace=True)\n",
    "pov_rate_2017['Poverty Percent, All Ages'] = pd.to_numeric(pov_rate_2017['Poverty Percent, All Ages'], downcast='float')"
   ],
   "metadata": {
    "collapsed": false,
    "pycharm": {
     "name": "#%%\n"
    }
   }
  },
  {
   "cell_type": "markdown",
   "source": [
    "* from further inspection it was noted that Kalawao county is now excluded in their survey results starting 2017\n",
    "* Kalawao county records removed\n",
    "* Poverty rates in Hawaii appear to around 10-20s"
   ],
   "metadata": {
    "collapsed": false
   }
  },
  {
   "cell_type": "code",
   "execution_count": 216,
   "outputs": [
    {
     "data": {
      "text/plain": "     State FIPS Code County FIPS Code Postal Code               Name  \\\n2775              51              107          VA     Loudoun County   \n233               08              035          CO     Douglas County   \n2305              46              083          SD     Lincoln County   \n1713              35              028          NM  Los Alamos County   \n695               18              057          IN    Hamilton County   \n1686              34              019          NJ   Hunterdon County   \n2424              47              187          TN  Williamson County   \n1288              27              139          MN       Scott County   \n1228              27              019          MN      Carver County   \n2694              49              029          UT      Morgan County   \n\n      Poverty Percent, All Ages  \n2775                        3.0  \n233                         3.2  \n2305                        3.5  \n1713                        3.7  \n695                         3.8  \n1686                        3.9  \n2424                        3.9  \n1288                        4.0  \n1228                        4.0  \n2694                        4.1  ",
      "text/html": "<div>\n<style scoped>\n    .dataframe tbody tr th:only-of-type {\n        vertical-align: middle;\n    }\n\n    .dataframe tbody tr th {\n        vertical-align: top;\n    }\n\n    .dataframe thead th {\n        text-align: right;\n    }\n</style>\n<table border=\"1\" class=\"dataframe\">\n  <thead>\n    <tr style=\"text-align: right;\">\n      <th></th>\n      <th>State FIPS Code</th>\n      <th>County FIPS Code</th>\n      <th>Postal Code</th>\n      <th>Name</th>\n      <th>Poverty Percent, All Ages</th>\n    </tr>\n  </thead>\n  <tbody>\n    <tr>\n      <th>2775</th>\n      <td>51</td>\n      <td>107</td>\n      <td>VA</td>\n      <td>Loudoun County</td>\n      <td>3.0</td>\n    </tr>\n    <tr>\n      <th>233</th>\n      <td>08</td>\n      <td>035</td>\n      <td>CO</td>\n      <td>Douglas County</td>\n      <td>3.2</td>\n    </tr>\n    <tr>\n      <th>2305</th>\n      <td>46</td>\n      <td>083</td>\n      <td>SD</td>\n      <td>Lincoln County</td>\n      <td>3.5</td>\n    </tr>\n    <tr>\n      <th>1713</th>\n      <td>35</td>\n      <td>028</td>\n      <td>NM</td>\n      <td>Los Alamos County</td>\n      <td>3.7</td>\n    </tr>\n    <tr>\n      <th>695</th>\n      <td>18</td>\n      <td>057</td>\n      <td>IN</td>\n      <td>Hamilton County</td>\n      <td>3.8</td>\n    </tr>\n    <tr>\n      <th>1686</th>\n      <td>34</td>\n      <td>019</td>\n      <td>NJ</td>\n      <td>Hunterdon County</td>\n      <td>3.9</td>\n    </tr>\n    <tr>\n      <th>2424</th>\n      <td>47</td>\n      <td>187</td>\n      <td>TN</td>\n      <td>Williamson County</td>\n      <td>3.9</td>\n    </tr>\n    <tr>\n      <th>1288</th>\n      <td>27</td>\n      <td>139</td>\n      <td>MN</td>\n      <td>Scott County</td>\n      <td>4.0</td>\n    </tr>\n    <tr>\n      <th>1228</th>\n      <td>27</td>\n      <td>019</td>\n      <td>MN</td>\n      <td>Carver County</td>\n      <td>4.0</td>\n    </tr>\n    <tr>\n      <th>2694</th>\n      <td>49</td>\n      <td>029</td>\n      <td>UT</td>\n      <td>Morgan County</td>\n      <td>4.1</td>\n    </tr>\n  </tbody>\n</table>\n</div>"
     },
     "metadata": {},
     "output_type": "display_data"
    },
    {
     "data": {
      "text/plain": "     State FIPS Code County FIPS Code Postal Code                  Name  \\\n2330              46              137          SD        Ziebach County   \n2324              46              121          SD           Todd County   \n228               08              025          CO        Crowley County   \n2272              46              017          SD        Buffalo County   \n1316              28              021          MS      Claiborne County   \n2279              46              031          SD         Corson County   \n1347              28              083          MS        Leflore County   \n988               21              051          KY           Clay County   \n2315              46              102          SD  Oglala Lakota County   \n1010              21              095          KY         Harlan County   \n\n      Poverty Percent, All Ages  \n2330                  56.700001  \n2324                  50.400002  \n228                   47.400002  \n2272                  43.299999  \n1316                  42.599998  \n2279                  42.400002  \n1347                  42.200001  \n988                   41.700001  \n2315                  41.500000  \n1010                  41.500000  ",
      "text/html": "<div>\n<style scoped>\n    .dataframe tbody tr th:only-of-type {\n        vertical-align: middle;\n    }\n\n    .dataframe tbody tr th {\n        vertical-align: top;\n    }\n\n    .dataframe thead th {\n        text-align: right;\n    }\n</style>\n<table border=\"1\" class=\"dataframe\">\n  <thead>\n    <tr style=\"text-align: right;\">\n      <th></th>\n      <th>State FIPS Code</th>\n      <th>County FIPS Code</th>\n      <th>Postal Code</th>\n      <th>Name</th>\n      <th>Poverty Percent, All Ages</th>\n    </tr>\n  </thead>\n  <tbody>\n    <tr>\n      <th>2330</th>\n      <td>46</td>\n      <td>137</td>\n      <td>SD</td>\n      <td>Ziebach County</td>\n      <td>56.700001</td>\n    </tr>\n    <tr>\n      <th>2324</th>\n      <td>46</td>\n      <td>121</td>\n      <td>SD</td>\n      <td>Todd County</td>\n      <td>50.400002</td>\n    </tr>\n    <tr>\n      <th>228</th>\n      <td>08</td>\n      <td>025</td>\n      <td>CO</td>\n      <td>Crowley County</td>\n      <td>47.400002</td>\n    </tr>\n    <tr>\n      <th>2272</th>\n      <td>46</td>\n      <td>017</td>\n      <td>SD</td>\n      <td>Buffalo County</td>\n      <td>43.299999</td>\n    </tr>\n    <tr>\n      <th>1316</th>\n      <td>28</td>\n      <td>021</td>\n      <td>MS</td>\n      <td>Claiborne County</td>\n      <td>42.599998</td>\n    </tr>\n    <tr>\n      <th>2279</th>\n      <td>46</td>\n      <td>031</td>\n      <td>SD</td>\n      <td>Corson County</td>\n      <td>42.400002</td>\n    </tr>\n    <tr>\n      <th>1347</th>\n      <td>28</td>\n      <td>083</td>\n      <td>MS</td>\n      <td>Leflore County</td>\n      <td>42.200001</td>\n    </tr>\n    <tr>\n      <th>988</th>\n      <td>21</td>\n      <td>051</td>\n      <td>KY</td>\n      <td>Clay County</td>\n      <td>41.700001</td>\n    </tr>\n    <tr>\n      <th>2315</th>\n      <td>46</td>\n      <td>102</td>\n      <td>SD</td>\n      <td>Oglala Lakota County</td>\n      <td>41.500000</td>\n    </tr>\n    <tr>\n      <th>1010</th>\n      <td>21</td>\n      <td>095</td>\n      <td>KY</td>\n      <td>Harlan County</td>\n      <td>41.500000</td>\n    </tr>\n  </tbody>\n</table>\n</div>"
     },
     "metadata": {},
     "output_type": "display_data"
    }
   ],
   "source": [
    "display(pov_rate_2017.sort_values(by='Poverty Percent, All Ages').head(10))\n",
    "display(pov_rate_2017.sort_values(by='Poverty Percent, All Ages', ascending=False).head(10))"
   ],
   "metadata": {
    "collapsed": false,
    "pycharm": {
     "name": "#%%\n"
    }
   }
  },
  {
   "cell_type": "markdown",
   "source": [
    "* Puerto Rico is not found and that is because poverty county data for Puerto Rico is in a separate set\n",
    "* Need to add Puerto Rico"
   ],
   "metadata": {
    "collapsed": false
   }
  },
  {
   "cell_type": "markdown",
   "source": [
    "# Repeat clean up steps on saipe data 2018\n"
   ],
   "metadata": {
    "collapsed": false
   }
  },
  {
   "cell_type": "code",
   "execution_count": 217,
   "outputs": [
    {
     "data": {
      "text/plain": "     State FIPS Code County FIPS Code Postal Code               Name  \\\n0                 00              000          US      United States   \n1                 01              000          AL            Alabama   \n2                 01              001          AL     Autauga County   \n3                 01              003          AL     Baldwin County   \n4                 01              005          AL     Barbour County   \n...              ...              ...         ...                ...   \n3189              56              037          WY  Sweetwater County   \n3190              56              039          WY       Teton County   \n3191              56              041          WY       Uinta County   \n3192              56              043          WY    Washakie County   \n3193              56              045          WY      Weston County   \n\n     Poverty Estimate, All Ages 90% CI Lower Bound 90% CI Upper Bound  \\\n0                      41852315           41619366           42085264   \n1                        801758             785668             817848   \n2                          7587               6334               8840   \n3                         21069              17390              24748   \n4                          6788               5662               7914   \n...                         ...                ...                ...   \n3189                       3540               2804               4276   \n3190                       1443               1137               1749   \n3191                       2010               1585               2435   \n3192                        918                700               1136   \n3193                        777                608                946   \n\n     Poverty Percent, All Ages 90% CI Lower Bound 90% CI Upper Bound  ...  \\\n0                         13.1                 13               13.2  ...   \n1                         16.8               16.5               17.1  ...   \n2                         13.8               11.5               16.1  ...   \n3                          9.8                8.1               11.5  ...   \n4                         30.9               25.8                 36  ...   \n...                        ...                ...                ...  ...   \n3189                       8.4                6.7               10.1  ...   \n3190                       6.3                  5                7.6  ...   \n3191                        10                7.9               12.1  ...   \n3192                      11.9                9.1               14.7  ...   \n3193                      11.8                9.2               14.4  ...   \n\n     90% CI Upper Bound Median Household Income 90% CI Lower Bound  \\\n0                  17.2                   61937              61843   \n1                  23.7                   49881              49123   \n2                  23.9                   59338              53628   \n3                  16.9                   57588              54437   \n4                  45.9                   34382              31157   \n...                 ...                     ...                ...   \n3189               11.2                   73315              67141   \n3190                7.7                   99087              88142   \n3191                 14                   63401              56812   \n3192               19.3                   55190              49263   \n3193               19.1                   54319              48315   \n\n     90% CI Upper Bound Poverty Estimate, Age 0-4 90% CI Lower Bound  \\\n0                 62031                   3758704            3714862   \n1                 50639                     73915              69990   \n2                 65048                         .                  .   \n3                 60739                         .                  .   \n4                 37607                         .                  .   \n...                 ...                       ...                ...   \n3189              79489                         .                  .   \n3190             110032                         .                  .   \n3191              69990                         .                  .   \n3192              61117                         .                  .   \n3193              60323                         .                  .   \n\n     90% CI Upper Bound Poverty Percent, Age 0-4 90% CI Lower Bound  \\\n0               3802546                     19.5               19.3   \n1                 77840                       26               24.6   \n2                     .                        .                  .   \n3                     .                        .                  .   \n4                     .                        .                  .   \n...                 ...                      ...                ...   \n3189                  .                        .                  .   \n3190                  .                        .                  .   \n3191                  .                        .                  .   \n3192                  .                        .                  .   \n3193                  .                        .                  .   \n\n     90% CI Upper Bound  \n0                  19.7  \n1                  27.4  \n2                     .  \n3                     .  \n4                     .  \n...                 ...  \n3189                  .  \n3190                  .  \n3191                  .  \n3192                  .  \n3193                  .  \n\n[3194 rows x 31 columns]",
      "text/html": "<div>\n<style scoped>\n    .dataframe tbody tr th:only-of-type {\n        vertical-align: middle;\n    }\n\n    .dataframe tbody tr th {\n        vertical-align: top;\n    }\n\n    .dataframe thead th {\n        text-align: right;\n    }\n</style>\n<table border=\"1\" class=\"dataframe\">\n  <thead>\n    <tr style=\"text-align: right;\">\n      <th></th>\n      <th>State FIPS Code</th>\n      <th>County FIPS Code</th>\n      <th>Postal Code</th>\n      <th>Name</th>\n      <th>Poverty Estimate, All Ages</th>\n      <th>90% CI Lower Bound</th>\n      <th>90% CI Upper Bound</th>\n      <th>Poverty Percent, All Ages</th>\n      <th>90% CI Lower Bound</th>\n      <th>90% CI Upper Bound</th>\n      <th>...</th>\n      <th>90% CI Upper Bound</th>\n      <th>Median Household Income</th>\n      <th>90% CI Lower Bound</th>\n      <th>90% CI Upper Bound</th>\n      <th>Poverty Estimate, Age 0-4</th>\n      <th>90% CI Lower Bound</th>\n      <th>90% CI Upper Bound</th>\n      <th>Poverty Percent, Age 0-4</th>\n      <th>90% CI Lower Bound</th>\n      <th>90% CI Upper Bound</th>\n    </tr>\n  </thead>\n  <tbody>\n    <tr>\n      <th>0</th>\n      <td>00</td>\n      <td>000</td>\n      <td>US</td>\n      <td>United States</td>\n      <td>41852315</td>\n      <td>41619366</td>\n      <td>42085264</td>\n      <td>13.1</td>\n      <td>13</td>\n      <td>13.2</td>\n      <td>...</td>\n      <td>17.2</td>\n      <td>61937</td>\n      <td>61843</td>\n      <td>62031</td>\n      <td>3758704</td>\n      <td>3714862</td>\n      <td>3802546</td>\n      <td>19.5</td>\n      <td>19.3</td>\n      <td>19.7</td>\n    </tr>\n    <tr>\n      <th>1</th>\n      <td>01</td>\n      <td>000</td>\n      <td>AL</td>\n      <td>Alabama</td>\n      <td>801758</td>\n      <td>785668</td>\n      <td>817848</td>\n      <td>16.8</td>\n      <td>16.5</td>\n      <td>17.1</td>\n      <td>...</td>\n      <td>23.7</td>\n      <td>49881</td>\n      <td>49123</td>\n      <td>50639</td>\n      <td>73915</td>\n      <td>69990</td>\n      <td>77840</td>\n      <td>26</td>\n      <td>24.6</td>\n      <td>27.4</td>\n    </tr>\n    <tr>\n      <th>2</th>\n      <td>01</td>\n      <td>001</td>\n      <td>AL</td>\n      <td>Autauga County</td>\n      <td>7587</td>\n      <td>6334</td>\n      <td>8840</td>\n      <td>13.8</td>\n      <td>11.5</td>\n      <td>16.1</td>\n      <td>...</td>\n      <td>23.9</td>\n      <td>59338</td>\n      <td>53628</td>\n      <td>65048</td>\n      <td>.</td>\n      <td>.</td>\n      <td>.</td>\n      <td>.</td>\n      <td>.</td>\n      <td>.</td>\n    </tr>\n    <tr>\n      <th>3</th>\n      <td>01</td>\n      <td>003</td>\n      <td>AL</td>\n      <td>Baldwin County</td>\n      <td>21069</td>\n      <td>17390</td>\n      <td>24748</td>\n      <td>9.8</td>\n      <td>8.1</td>\n      <td>11.5</td>\n      <td>...</td>\n      <td>16.9</td>\n      <td>57588</td>\n      <td>54437</td>\n      <td>60739</td>\n      <td>.</td>\n      <td>.</td>\n      <td>.</td>\n      <td>.</td>\n      <td>.</td>\n      <td>.</td>\n    </tr>\n    <tr>\n      <th>4</th>\n      <td>01</td>\n      <td>005</td>\n      <td>AL</td>\n      <td>Barbour County</td>\n      <td>6788</td>\n      <td>5662</td>\n      <td>7914</td>\n      <td>30.9</td>\n      <td>25.8</td>\n      <td>36</td>\n      <td>...</td>\n      <td>45.9</td>\n      <td>34382</td>\n      <td>31157</td>\n      <td>37607</td>\n      <td>.</td>\n      <td>.</td>\n      <td>.</td>\n      <td>.</td>\n      <td>.</td>\n      <td>.</td>\n    </tr>\n    <tr>\n      <th>...</th>\n      <td>...</td>\n      <td>...</td>\n      <td>...</td>\n      <td>...</td>\n      <td>...</td>\n      <td>...</td>\n      <td>...</td>\n      <td>...</td>\n      <td>...</td>\n      <td>...</td>\n      <td>...</td>\n      <td>...</td>\n      <td>...</td>\n      <td>...</td>\n      <td>...</td>\n      <td>...</td>\n      <td>...</td>\n      <td>...</td>\n      <td>...</td>\n      <td>...</td>\n      <td>...</td>\n    </tr>\n    <tr>\n      <th>3189</th>\n      <td>56</td>\n      <td>037</td>\n      <td>WY</td>\n      <td>Sweetwater County</td>\n      <td>3540</td>\n      <td>2804</td>\n      <td>4276</td>\n      <td>8.4</td>\n      <td>6.7</td>\n      <td>10.1</td>\n      <td>...</td>\n      <td>11.2</td>\n      <td>73315</td>\n      <td>67141</td>\n      <td>79489</td>\n      <td>.</td>\n      <td>.</td>\n      <td>.</td>\n      <td>.</td>\n      <td>.</td>\n      <td>.</td>\n    </tr>\n    <tr>\n      <th>3190</th>\n      <td>56</td>\n      <td>039</td>\n      <td>WY</td>\n      <td>Teton County</td>\n      <td>1443</td>\n      <td>1137</td>\n      <td>1749</td>\n      <td>6.3</td>\n      <td>5</td>\n      <td>7.6</td>\n      <td>...</td>\n      <td>7.7</td>\n      <td>99087</td>\n      <td>88142</td>\n      <td>110032</td>\n      <td>.</td>\n      <td>.</td>\n      <td>.</td>\n      <td>.</td>\n      <td>.</td>\n      <td>.</td>\n    </tr>\n    <tr>\n      <th>3191</th>\n      <td>56</td>\n      <td>041</td>\n      <td>WY</td>\n      <td>Uinta County</td>\n      <td>2010</td>\n      <td>1585</td>\n      <td>2435</td>\n      <td>10</td>\n      <td>7.9</td>\n      <td>12.1</td>\n      <td>...</td>\n      <td>14</td>\n      <td>63401</td>\n      <td>56812</td>\n      <td>69990</td>\n      <td>.</td>\n      <td>.</td>\n      <td>.</td>\n      <td>.</td>\n      <td>.</td>\n      <td>.</td>\n    </tr>\n    <tr>\n      <th>3192</th>\n      <td>56</td>\n      <td>043</td>\n      <td>WY</td>\n      <td>Washakie County</td>\n      <td>918</td>\n      <td>700</td>\n      <td>1136</td>\n      <td>11.9</td>\n      <td>9.1</td>\n      <td>14.7</td>\n      <td>...</td>\n      <td>19.3</td>\n      <td>55190</td>\n      <td>49263</td>\n      <td>61117</td>\n      <td>.</td>\n      <td>.</td>\n      <td>.</td>\n      <td>.</td>\n      <td>.</td>\n      <td>.</td>\n    </tr>\n    <tr>\n      <th>3193</th>\n      <td>56</td>\n      <td>045</td>\n      <td>WY</td>\n      <td>Weston County</td>\n      <td>777</td>\n      <td>608</td>\n      <td>946</td>\n      <td>11.8</td>\n      <td>9.2</td>\n      <td>14.4</td>\n      <td>...</td>\n      <td>19.1</td>\n      <td>54319</td>\n      <td>48315</td>\n      <td>60323</td>\n      <td>.</td>\n      <td>.</td>\n      <td>.</td>\n      <td>.</td>\n      <td>.</td>\n      <td>.</td>\n    </tr>\n  </tbody>\n</table>\n<p>3194 rows × 31 columns</p>\n</div>"
     },
     "execution_count": 217,
     "metadata": {},
     "output_type": "execute_result"
    }
   ],
   "source": [
    "# clean up saipe data 2018\n",
    "\n",
    "saipe_header = saipe2018.iloc[2, :].values\n",
    "saipe_header\n",
    "saipe2018.columns = saipe_header\n",
    "saipe2018.drop([0,1,2], inplace=True)\n",
    "saipe2018.reset_index(drop=True, inplace=True)\n",
    "saipe2018"
   ],
   "metadata": {
    "collapsed": false,
    "pycharm": {
     "name": "#%%\n"
    }
   }
  },
  {
   "cell_type": "code",
   "execution_count": 218,
   "outputs": [
    {
     "data": {
      "text/plain": "     State FIPS Code County FIPS Code Postal Code               Name  \\\n0                 01              001          AL     Autauga County   \n1                 01              003          AL     Baldwin County   \n2                 01              005          AL     Barbour County   \n3                 01              007          AL        Bibb County   \n4                 01              009          AL      Blount County   \n...              ...              ...         ...                ...   \n3002              56              037          WY  Sweetwater County   \n3003              56              039          WY       Teton County   \n3004              56              041          WY       Uinta County   \n3005              56              043          WY    Washakie County   \n3006              56              045          WY      Weston County   \n\n     Poverty Percent, All Ages  \n0                         13.8  \n1                          9.8  \n2                         30.9  \n3                         21.8  \n4                         13.2  \n...                        ...  \n3002                       8.4  \n3003                       6.3  \n3004                        10  \n3005                      11.9  \n3006                      11.8  \n\n[3007 rows x 5 columns]",
      "text/html": "<div>\n<style scoped>\n    .dataframe tbody tr th:only-of-type {\n        vertical-align: middle;\n    }\n\n    .dataframe tbody tr th {\n        vertical-align: top;\n    }\n\n    .dataframe thead th {\n        text-align: right;\n    }\n</style>\n<table border=\"1\" class=\"dataframe\">\n  <thead>\n    <tr style=\"text-align: right;\">\n      <th></th>\n      <th>State FIPS Code</th>\n      <th>County FIPS Code</th>\n      <th>Postal Code</th>\n      <th>Name</th>\n      <th>Poverty Percent, All Ages</th>\n    </tr>\n  </thead>\n  <tbody>\n    <tr>\n      <th>0</th>\n      <td>01</td>\n      <td>001</td>\n      <td>AL</td>\n      <td>Autauga County</td>\n      <td>13.8</td>\n    </tr>\n    <tr>\n      <th>1</th>\n      <td>01</td>\n      <td>003</td>\n      <td>AL</td>\n      <td>Baldwin County</td>\n      <td>9.8</td>\n    </tr>\n    <tr>\n      <th>2</th>\n      <td>01</td>\n      <td>005</td>\n      <td>AL</td>\n      <td>Barbour County</td>\n      <td>30.9</td>\n    </tr>\n    <tr>\n      <th>3</th>\n      <td>01</td>\n      <td>007</td>\n      <td>AL</td>\n      <td>Bibb County</td>\n      <td>21.8</td>\n    </tr>\n    <tr>\n      <th>4</th>\n      <td>01</td>\n      <td>009</td>\n      <td>AL</td>\n      <td>Blount County</td>\n      <td>13.2</td>\n    </tr>\n    <tr>\n      <th>...</th>\n      <td>...</td>\n      <td>...</td>\n      <td>...</td>\n      <td>...</td>\n      <td>...</td>\n    </tr>\n    <tr>\n      <th>3002</th>\n      <td>56</td>\n      <td>037</td>\n      <td>WY</td>\n      <td>Sweetwater County</td>\n      <td>8.4</td>\n    </tr>\n    <tr>\n      <th>3003</th>\n      <td>56</td>\n      <td>039</td>\n      <td>WY</td>\n      <td>Teton County</td>\n      <td>6.3</td>\n    </tr>\n    <tr>\n      <th>3004</th>\n      <td>56</td>\n      <td>041</td>\n      <td>WY</td>\n      <td>Uinta County</td>\n      <td>10</td>\n    </tr>\n    <tr>\n      <th>3005</th>\n      <td>56</td>\n      <td>043</td>\n      <td>WY</td>\n      <td>Washakie County</td>\n      <td>11.9</td>\n    </tr>\n    <tr>\n      <th>3006</th>\n      <td>56</td>\n      <td>045</td>\n      <td>WY</td>\n      <td>Weston County</td>\n      <td>11.8</td>\n    </tr>\n  </tbody>\n</table>\n<p>3007 rows × 5 columns</p>\n</div>"
     },
     "metadata": {},
     "output_type": "display_data"
    }
   ],
   "source": [
    "saipe2018.columns\n",
    "saipe2018.iloc[:, [1,2,3,4,7]]\n",
    "saipe_county = saipe2018['Name'].str.contains('County')\n",
    "pov_rate_2018 = saipe2018.loc[saipe_county].iloc[:, [0, 1,2,3, 7]]\n",
    "pov_rate_2018.reset_index(drop=True, inplace=True)\n",
    "display(pov_rate_2018)"
   ],
   "metadata": {
    "collapsed": false,
    "pycharm": {
     "name": "#%%\n"
    }
   }
  },
  {
   "cell_type": "markdown",
   "source": [
    "* Remove empty cells and clean up columns\n",
    "* Retain only US county information and poverty rates for all ages\n"
   ],
   "metadata": {
    "collapsed": false
   }
  },
  {
   "cell_type": "code",
   "execution_count": 219,
   "outputs": [
    {
     "name": "stdout",
     "output_type": "stream",
     "text": [
      "State FIPS Code              0\n",
      "County FIPS Code             0\n",
      "Postal Code                  0\n",
      "Name                         0\n",
      "Poverty Percent, All Ages    0\n",
      "dtype: int64\n",
      "0\n",
      "<class 'pandas.core.frame.DataFrame'>\n",
      "RangeIndex: 3007 entries, 0 to 3006\n",
      "Data columns (total 5 columns):\n",
      " #   Column                     Non-Null Count  Dtype \n",
      "---  ------                     --------------  ----- \n",
      " 0   State FIPS Code            3007 non-null   object\n",
      " 1   County FIPS Code           3007 non-null   object\n",
      " 2   Postal Code                3007 non-null   object\n",
      " 3   Name                       3007 non-null   object\n",
      " 4   Poverty Percent, All Ages  3007 non-null   object\n",
      "dtypes: object(5)\n",
      "memory usage: 117.6+ KB\n"
     ]
    },
    {
     "data": {
      "text/plain": "None"
     },
     "metadata": {},
     "output_type": "display_data"
    }
   ],
   "source": [
    "print(pov_rate_2018.isnull().sum())\n",
    "print(pov_rate_2018.duplicated().sum())\n",
    "display(pov_rate_2018.info())"
   ],
   "metadata": {
    "collapsed": false,
    "pycharm": {
     "name": "#%%\n"
    }
   }
  },
  {
   "cell_type": "markdown",
   "source": [
    "* No duplicates or missing values for poverty rates in 2018\n",
    "* also convert poverty percent to float"
   ],
   "metadata": {
    "collapsed": false
   }
  },
  {
   "cell_type": "code",
   "execution_count": 220,
   "outputs": [],
   "source": [
    "pov_rate_2018.drop(518, inplace=True)\n",
    "pov_rate_2018['Poverty Percent, All Ages'] = pd.to_numeric(pov_rate_2018['Poverty Percent, All Ages'], downcast='float')\n"
   ],
   "metadata": {
    "collapsed": false,
    "pycharm": {
     "name": "#%%\n"
    }
   }
  },
  {
   "cell_type": "markdown",
   "source": [
    "* from further inspection it was noted that Kalawao county is now excluded in their survey results starting 2017\n",
    "* Kalawao county records removed\n",
    "* Poverty rates in Hawaii appear to around 10-20s"
   ],
   "metadata": {
    "collapsed": false
   }
  },
  {
   "cell_type": "code",
   "execution_count": 221,
   "outputs": [
    {
     "data": {
      "text/plain": "     State FIPS Code County FIPS Code Postal Code               Name  \\\n233               08              035          CO     Douglas County   \n2576              48              301          TX      Loving County   \n2775              51              107          VA     Loudoun County   \n2424              47              187          TN  Williamson County   \n1228              27              019          MN      Carver County   \n1713              35              028          NM  Los Alamos County   \n2694              49              029          UT      Morgan County   \n1966              39              041          OH    Delaware County   \n611               17              093          IL     Kendall County   \n2957              55              089          WI     Ozaukee County   \n\n      Poverty Percent, All Ages  \n233                         2.6  \n2576                        3.3  \n2775                        3.6  \n2424                        3.8  \n1228                        3.8  \n1713                        3.9  \n2694                        4.0  \n1966                        4.1  \n611                         4.2  \n2957                        4.2  ",
      "text/html": "<div>\n<style scoped>\n    .dataframe tbody tr th:only-of-type {\n        vertical-align: middle;\n    }\n\n    .dataframe tbody tr th {\n        vertical-align: top;\n    }\n\n    .dataframe thead th {\n        text-align: right;\n    }\n</style>\n<table border=\"1\" class=\"dataframe\">\n  <thead>\n    <tr style=\"text-align: right;\">\n      <th></th>\n      <th>State FIPS Code</th>\n      <th>County FIPS Code</th>\n      <th>Postal Code</th>\n      <th>Name</th>\n      <th>Poverty Percent, All Ages</th>\n    </tr>\n  </thead>\n  <tbody>\n    <tr>\n      <th>233</th>\n      <td>08</td>\n      <td>035</td>\n      <td>CO</td>\n      <td>Douglas County</td>\n      <td>2.6</td>\n    </tr>\n    <tr>\n      <th>2576</th>\n      <td>48</td>\n      <td>301</td>\n      <td>TX</td>\n      <td>Loving County</td>\n      <td>3.3</td>\n    </tr>\n    <tr>\n      <th>2775</th>\n      <td>51</td>\n      <td>107</td>\n      <td>VA</td>\n      <td>Loudoun County</td>\n      <td>3.6</td>\n    </tr>\n    <tr>\n      <th>2424</th>\n      <td>47</td>\n      <td>187</td>\n      <td>TN</td>\n      <td>Williamson County</td>\n      <td>3.8</td>\n    </tr>\n    <tr>\n      <th>1228</th>\n      <td>27</td>\n      <td>019</td>\n      <td>MN</td>\n      <td>Carver County</td>\n      <td>3.8</td>\n    </tr>\n    <tr>\n      <th>1713</th>\n      <td>35</td>\n      <td>028</td>\n      <td>NM</td>\n      <td>Los Alamos County</td>\n      <td>3.9</td>\n    </tr>\n    <tr>\n      <th>2694</th>\n      <td>49</td>\n      <td>029</td>\n      <td>UT</td>\n      <td>Morgan County</td>\n      <td>4.0</td>\n    </tr>\n    <tr>\n      <th>1966</th>\n      <td>39</td>\n      <td>041</td>\n      <td>OH</td>\n      <td>Delaware County</td>\n      <td>4.1</td>\n    </tr>\n    <tr>\n      <th>611</th>\n      <td>17</td>\n      <td>093</td>\n      <td>IL</td>\n      <td>Kendall County</td>\n      <td>4.2</td>\n    </tr>\n    <tr>\n      <th>2957</th>\n      <td>55</td>\n      <td>089</td>\n      <td>WI</td>\n      <td>Ozaukee County</td>\n      <td>4.2</td>\n    </tr>\n  </tbody>\n</table>\n</div>"
     },
     "metadata": {},
     "output_type": "display_data"
    },
    {
     "data": {
      "text/plain": "     State FIPS Code County FIPS Code Postal Code                  Name  \\\n2315              46              102          SD  Oglala Lakota County   \n2324              46              121          SD           Todd County   \n2272              46              017          SD        Buffalo County   \n228               08              025          CO        Crowley County   \n2330              46              137          SD        Ziebach County   \n120               05              077          AR            Lee County   \n5                 01              011          AL        Bullock County   \n1333              28              055          MS      Issaquena County   \n509               13              309          GA        Wheeler County   \n1057              21              189          KY         Owsley County   \n\n      Poverty Percent, All Ages  \n2315                  54.000000  \n2324                  48.400002  \n2272                  45.700001  \n228                   44.299999  \n2330                  43.900002  \n120                   43.000000  \n5                     42.500000  \n1333                  40.500000  \n509                   39.599998  \n1057                  39.200001  ",
      "text/html": "<div>\n<style scoped>\n    .dataframe tbody tr th:only-of-type {\n        vertical-align: middle;\n    }\n\n    .dataframe tbody tr th {\n        vertical-align: top;\n    }\n\n    .dataframe thead th {\n        text-align: right;\n    }\n</style>\n<table border=\"1\" class=\"dataframe\">\n  <thead>\n    <tr style=\"text-align: right;\">\n      <th></th>\n      <th>State FIPS Code</th>\n      <th>County FIPS Code</th>\n      <th>Postal Code</th>\n      <th>Name</th>\n      <th>Poverty Percent, All Ages</th>\n    </tr>\n  </thead>\n  <tbody>\n    <tr>\n      <th>2315</th>\n      <td>46</td>\n      <td>102</td>\n      <td>SD</td>\n      <td>Oglala Lakota County</td>\n      <td>54.000000</td>\n    </tr>\n    <tr>\n      <th>2324</th>\n      <td>46</td>\n      <td>121</td>\n      <td>SD</td>\n      <td>Todd County</td>\n      <td>48.400002</td>\n    </tr>\n    <tr>\n      <th>2272</th>\n      <td>46</td>\n      <td>017</td>\n      <td>SD</td>\n      <td>Buffalo County</td>\n      <td>45.700001</td>\n    </tr>\n    <tr>\n      <th>228</th>\n      <td>08</td>\n      <td>025</td>\n      <td>CO</td>\n      <td>Crowley County</td>\n      <td>44.299999</td>\n    </tr>\n    <tr>\n      <th>2330</th>\n      <td>46</td>\n      <td>137</td>\n      <td>SD</td>\n      <td>Ziebach County</td>\n      <td>43.900002</td>\n    </tr>\n    <tr>\n      <th>120</th>\n      <td>05</td>\n      <td>077</td>\n      <td>AR</td>\n      <td>Lee County</td>\n      <td>43.000000</td>\n    </tr>\n    <tr>\n      <th>5</th>\n      <td>01</td>\n      <td>011</td>\n      <td>AL</td>\n      <td>Bullock County</td>\n      <td>42.500000</td>\n    </tr>\n    <tr>\n      <th>1333</th>\n      <td>28</td>\n      <td>055</td>\n      <td>MS</td>\n      <td>Issaquena County</td>\n      <td>40.500000</td>\n    </tr>\n    <tr>\n      <th>509</th>\n      <td>13</td>\n      <td>309</td>\n      <td>GA</td>\n      <td>Wheeler County</td>\n      <td>39.599998</td>\n    </tr>\n    <tr>\n      <th>1057</th>\n      <td>21</td>\n      <td>189</td>\n      <td>KY</td>\n      <td>Owsley County</td>\n      <td>39.200001</td>\n    </tr>\n  </tbody>\n</table>\n</div>"
     },
     "metadata": {},
     "output_type": "display_data"
    }
   ],
   "source": [
    "display(pov_rate_2018.sort_values(by='Poverty Percent, All Ages').head(10))\n",
    "display(pov_rate_2018.sort_values(by='Poverty Percent, All Ages', ascending=False).head(10))"
   ],
   "metadata": {
    "collapsed": false,
    "pycharm": {
     "name": "#%%\n"
    }
   }
  },
  {
   "cell_type": "markdown",
   "source": [
    "* Puerto Rico is not found and that is because poverty county data for Puerto Rico is in a separate set\n",
    "* But poverty ranking appear to be same from 2017"
   ],
   "metadata": {
    "collapsed": false
   }
  },
  {
   "cell_type": "markdown",
   "source": [
    "# Repeat clean up steps for saipe data 2019"
   ],
   "metadata": {
    "collapsed": false
   }
  },
  {
   "cell_type": "code",
   "execution_count": 222,
   "outputs": [
    {
     "data": {
      "text/plain": "     State FIPS Code County FIPS Code Postal Code               Name  \\\n0                 00              000          US      United States   \n1                 01              000          AL            Alabama   \n2                 01              001          AL     Autauga County   \n3                 01              003          AL     Baldwin County   \n4                 01              005          AL     Barbour County   \n...              ...              ...         ...                ...   \n3189              56              037          WY  Sweetwater County   \n3190              56              039          WY       Teton County   \n3191              56              041          WY       Uinta County   \n3192              56              043          WY    Washakie County   \n3193              56              045          WY      Weston County   \n\n     Poverty Estimate, All Ages 90% CI Lower Bound 90% CI Upper Bound  \\\n0                      39490096           39248096           39732096   \n1                        747478             730491             764465   \n2                          6723               5517               7929   \n3                         22360              18541              26179   \n4                          5909               4787               7031   \n...                         ...                ...                ...   \n3189                       3453               2743               4163   \n3190                       1396               1073               1719   \n3191                       1699               1264               2134   \n3192                        845                626               1064   \n3193                        692                523                861   \n\n     Poverty Percent, All Ages 90% CI Lower Bound 90% CI Upper Bound  ...  \\\n0                         12.3               12.2               12.4  ...   \n1                         15.6               15.2                 16  ...   \n2                         12.1                9.9               14.3  ...   \n3                         10.1                8.4               11.8  ...   \n4                         27.1                 22               32.2  ...   \n...                        ...                ...                ...  ...   \n3189                       8.3                6.6                 10  ...   \n3190                         6                4.6                7.4  ...   \n3191                       8.5                6.3               10.7  ...   \n3192                      11.1                8.2                 14  ...   \n3193                      10.5                7.9               13.1  ...   \n\n     90% CI Upper Bound Median Household Income 90% CI Lower Bound  \\\n0                    16                   65712              65594   \n1                  21.6                   51771              51179   \n2                  19.4                   58233              52517   \n3                  17.2                   59871              54593   \n4                    49                   35972              31822   \n...                 ...                     ...                ...   \n3189               11.1                   80639              73437   \n3190                6.7                   98837              86531   \n3191               11.1                   70756              63191   \n3192               17.4                   55122              50050   \n3193               16.7                   59410              52275   \n\n     90% CI Upper Bound Poverty Estimate, Age 0-4 90% CI Lower Bound  \\\n0                 65830                   3457689            3405854   \n1                 52363                     69236              65296   \n2                 63949                         .                  .   \n3                 65149                         .                  .   \n4                 40122                         .                  .   \n...                 ...                       ...                ...   \n3189              87841                         .                  .   \n3190             111143                         .                  .   \n3191              78321                         .                  .   \n3192              60194                         .                  .   \n3193              66545                         .                  .   \n\n     90% CI Upper Bound Poverty Percent, Age 0-4 90% CI Lower Bound  \\\n0               3509524                     18.2               17.9   \n1                 73176                     24.2               22.8   \n2                     .                        .                  .   \n3                     .                        .                  .   \n4                     .                        .                  .   \n...                 ...                      ...                ...   \n3189                  .                        .                  .   \n3190                  .                        .                  .   \n3191                  .                        .                  .   \n3192                  .                        .                  .   \n3193                  .                        .                  .   \n\n     90% CI Upper Bound  \n0                  18.5  \n1                  25.6  \n2                     .  \n3                     .  \n4                     .  \n...                 ...  \n3189                  .  \n3190                  .  \n3191                  .  \n3192                  .  \n3193                  .  \n\n[3194 rows x 31 columns]",
      "text/html": "<div>\n<style scoped>\n    .dataframe tbody tr th:only-of-type {\n        vertical-align: middle;\n    }\n\n    .dataframe tbody tr th {\n        vertical-align: top;\n    }\n\n    .dataframe thead th {\n        text-align: right;\n    }\n</style>\n<table border=\"1\" class=\"dataframe\">\n  <thead>\n    <tr style=\"text-align: right;\">\n      <th></th>\n      <th>State FIPS Code</th>\n      <th>County FIPS Code</th>\n      <th>Postal Code</th>\n      <th>Name</th>\n      <th>Poverty Estimate, All Ages</th>\n      <th>90% CI Lower Bound</th>\n      <th>90% CI Upper Bound</th>\n      <th>Poverty Percent, All Ages</th>\n      <th>90% CI Lower Bound</th>\n      <th>90% CI Upper Bound</th>\n      <th>...</th>\n      <th>90% CI Upper Bound</th>\n      <th>Median Household Income</th>\n      <th>90% CI Lower Bound</th>\n      <th>90% CI Upper Bound</th>\n      <th>Poverty Estimate, Age 0-4</th>\n      <th>90% CI Lower Bound</th>\n      <th>90% CI Upper Bound</th>\n      <th>Poverty Percent, Age 0-4</th>\n      <th>90% CI Lower Bound</th>\n      <th>90% CI Upper Bound</th>\n    </tr>\n  </thead>\n  <tbody>\n    <tr>\n      <th>0</th>\n      <td>00</td>\n      <td>000</td>\n      <td>US</td>\n      <td>United States</td>\n      <td>39490096</td>\n      <td>39248096</td>\n      <td>39732096</td>\n      <td>12.3</td>\n      <td>12.2</td>\n      <td>12.4</td>\n      <td>...</td>\n      <td>16</td>\n      <td>65712</td>\n      <td>65594</td>\n      <td>65830</td>\n      <td>3457689</td>\n      <td>3405854</td>\n      <td>3509524</td>\n      <td>18.2</td>\n      <td>17.9</td>\n      <td>18.5</td>\n    </tr>\n    <tr>\n      <th>1</th>\n      <td>01</td>\n      <td>000</td>\n      <td>AL</td>\n      <td>Alabama</td>\n      <td>747478</td>\n      <td>730491</td>\n      <td>764465</td>\n      <td>15.6</td>\n      <td>15.2</td>\n      <td>16</td>\n      <td>...</td>\n      <td>21.6</td>\n      <td>51771</td>\n      <td>51179</td>\n      <td>52363</td>\n      <td>69236</td>\n      <td>65296</td>\n      <td>73176</td>\n      <td>24.2</td>\n      <td>22.8</td>\n      <td>25.6</td>\n    </tr>\n    <tr>\n      <th>2</th>\n      <td>01</td>\n      <td>001</td>\n      <td>AL</td>\n      <td>Autauga County</td>\n      <td>6723</td>\n      <td>5517</td>\n      <td>7929</td>\n      <td>12.1</td>\n      <td>9.9</td>\n      <td>14.3</td>\n      <td>...</td>\n      <td>19.4</td>\n      <td>58233</td>\n      <td>52517</td>\n      <td>63949</td>\n      <td>.</td>\n      <td>.</td>\n      <td>.</td>\n      <td>.</td>\n      <td>.</td>\n      <td>.</td>\n    </tr>\n    <tr>\n      <th>3</th>\n      <td>01</td>\n      <td>003</td>\n      <td>AL</td>\n      <td>Baldwin County</td>\n      <td>22360</td>\n      <td>18541</td>\n      <td>26179</td>\n      <td>10.1</td>\n      <td>8.4</td>\n      <td>11.8</td>\n      <td>...</td>\n      <td>17.2</td>\n      <td>59871</td>\n      <td>54593</td>\n      <td>65149</td>\n      <td>.</td>\n      <td>.</td>\n      <td>.</td>\n      <td>.</td>\n      <td>.</td>\n      <td>.</td>\n    </tr>\n    <tr>\n      <th>4</th>\n      <td>01</td>\n      <td>005</td>\n      <td>AL</td>\n      <td>Barbour County</td>\n      <td>5909</td>\n      <td>4787</td>\n      <td>7031</td>\n      <td>27.1</td>\n      <td>22</td>\n      <td>32.2</td>\n      <td>...</td>\n      <td>49</td>\n      <td>35972</td>\n      <td>31822</td>\n      <td>40122</td>\n      <td>.</td>\n      <td>.</td>\n      <td>.</td>\n      <td>.</td>\n      <td>.</td>\n      <td>.</td>\n    </tr>\n    <tr>\n      <th>...</th>\n      <td>...</td>\n      <td>...</td>\n      <td>...</td>\n      <td>...</td>\n      <td>...</td>\n      <td>...</td>\n      <td>...</td>\n      <td>...</td>\n      <td>...</td>\n      <td>...</td>\n      <td>...</td>\n      <td>...</td>\n      <td>...</td>\n      <td>...</td>\n      <td>...</td>\n      <td>...</td>\n      <td>...</td>\n      <td>...</td>\n      <td>...</td>\n      <td>...</td>\n      <td>...</td>\n    </tr>\n    <tr>\n      <th>3189</th>\n      <td>56</td>\n      <td>037</td>\n      <td>WY</td>\n      <td>Sweetwater County</td>\n      <td>3453</td>\n      <td>2743</td>\n      <td>4163</td>\n      <td>8.3</td>\n      <td>6.6</td>\n      <td>10</td>\n      <td>...</td>\n      <td>11.1</td>\n      <td>80639</td>\n      <td>73437</td>\n      <td>87841</td>\n      <td>.</td>\n      <td>.</td>\n      <td>.</td>\n      <td>.</td>\n      <td>.</td>\n      <td>.</td>\n    </tr>\n    <tr>\n      <th>3190</th>\n      <td>56</td>\n      <td>039</td>\n      <td>WY</td>\n      <td>Teton County</td>\n      <td>1396</td>\n      <td>1073</td>\n      <td>1719</td>\n      <td>6</td>\n      <td>4.6</td>\n      <td>7.4</td>\n      <td>...</td>\n      <td>6.7</td>\n      <td>98837</td>\n      <td>86531</td>\n      <td>111143</td>\n      <td>.</td>\n      <td>.</td>\n      <td>.</td>\n      <td>.</td>\n      <td>.</td>\n      <td>.</td>\n    </tr>\n    <tr>\n      <th>3191</th>\n      <td>56</td>\n      <td>041</td>\n      <td>WY</td>\n      <td>Uinta County</td>\n      <td>1699</td>\n      <td>1264</td>\n      <td>2134</td>\n      <td>8.5</td>\n      <td>6.3</td>\n      <td>10.7</td>\n      <td>...</td>\n      <td>11.1</td>\n      <td>70756</td>\n      <td>63191</td>\n      <td>78321</td>\n      <td>.</td>\n      <td>.</td>\n      <td>.</td>\n      <td>.</td>\n      <td>.</td>\n      <td>.</td>\n    </tr>\n    <tr>\n      <th>3192</th>\n      <td>56</td>\n      <td>043</td>\n      <td>WY</td>\n      <td>Washakie County</td>\n      <td>845</td>\n      <td>626</td>\n      <td>1064</td>\n      <td>11.1</td>\n      <td>8.2</td>\n      <td>14</td>\n      <td>...</td>\n      <td>17.4</td>\n      <td>55122</td>\n      <td>50050</td>\n      <td>60194</td>\n      <td>.</td>\n      <td>.</td>\n      <td>.</td>\n      <td>.</td>\n      <td>.</td>\n      <td>.</td>\n    </tr>\n    <tr>\n      <th>3193</th>\n      <td>56</td>\n      <td>045</td>\n      <td>WY</td>\n      <td>Weston County</td>\n      <td>692</td>\n      <td>523</td>\n      <td>861</td>\n      <td>10.5</td>\n      <td>7.9</td>\n      <td>13.1</td>\n      <td>...</td>\n      <td>16.7</td>\n      <td>59410</td>\n      <td>52275</td>\n      <td>66545</td>\n      <td>.</td>\n      <td>.</td>\n      <td>.</td>\n      <td>.</td>\n      <td>.</td>\n      <td>.</td>\n    </tr>\n  </tbody>\n</table>\n<p>3194 rows × 31 columns</p>\n</div>"
     },
     "execution_count": 222,
     "metadata": {},
     "output_type": "execute_result"
    }
   ],
   "source": [
    "\n",
    "saipe_header = saipe2019.iloc[2, :].values\n",
    "saipe_header\n",
    "saipe2019.columns = saipe_header\n",
    "saipe2019.drop([0,1,2], inplace=True)\n",
    "saipe2019.reset_index(drop=True, inplace=True)\n",
    "saipe2019"
   ],
   "metadata": {
    "collapsed": false,
    "pycharm": {
     "name": "#%%\n"
    }
   }
  },
  {
   "cell_type": "code",
   "execution_count": 223,
   "outputs": [
    {
     "data": {
      "text/plain": "     State FIPS Code County FIPS Code Postal Code               Name  \\\n0                 01              001          AL     Autauga County   \n1                 01              003          AL     Baldwin County   \n2                 01              005          AL     Barbour County   \n3                 01              007          AL        Bibb County   \n4                 01              009          AL      Blount County   \n...              ...              ...         ...                ...   \n3002              56              037          WY  Sweetwater County   \n3003              56              039          WY       Teton County   \n3004              56              041          WY       Uinta County   \n3005              56              043          WY    Washakie County   \n3006              56              045          WY      Weston County   \n\n     Poverty Percent, All Ages  \n0                         12.1  \n1                         10.1  \n2                         27.1  \n3                         20.3  \n4                         16.3  \n...                        ...  \n3002                       8.3  \n3003                         6  \n3004                       8.5  \n3005                      11.1  \n3006                      10.5  \n\n[3007 rows x 5 columns]",
      "text/html": "<div>\n<style scoped>\n    .dataframe tbody tr th:only-of-type {\n        vertical-align: middle;\n    }\n\n    .dataframe tbody tr th {\n        vertical-align: top;\n    }\n\n    .dataframe thead th {\n        text-align: right;\n    }\n</style>\n<table border=\"1\" class=\"dataframe\">\n  <thead>\n    <tr style=\"text-align: right;\">\n      <th></th>\n      <th>State FIPS Code</th>\n      <th>County FIPS Code</th>\n      <th>Postal Code</th>\n      <th>Name</th>\n      <th>Poverty Percent, All Ages</th>\n    </tr>\n  </thead>\n  <tbody>\n    <tr>\n      <th>0</th>\n      <td>01</td>\n      <td>001</td>\n      <td>AL</td>\n      <td>Autauga County</td>\n      <td>12.1</td>\n    </tr>\n    <tr>\n      <th>1</th>\n      <td>01</td>\n      <td>003</td>\n      <td>AL</td>\n      <td>Baldwin County</td>\n      <td>10.1</td>\n    </tr>\n    <tr>\n      <th>2</th>\n      <td>01</td>\n      <td>005</td>\n      <td>AL</td>\n      <td>Barbour County</td>\n      <td>27.1</td>\n    </tr>\n    <tr>\n      <th>3</th>\n      <td>01</td>\n      <td>007</td>\n      <td>AL</td>\n      <td>Bibb County</td>\n      <td>20.3</td>\n    </tr>\n    <tr>\n      <th>4</th>\n      <td>01</td>\n      <td>009</td>\n      <td>AL</td>\n      <td>Blount County</td>\n      <td>16.3</td>\n    </tr>\n    <tr>\n      <th>...</th>\n      <td>...</td>\n      <td>...</td>\n      <td>...</td>\n      <td>...</td>\n      <td>...</td>\n    </tr>\n    <tr>\n      <th>3002</th>\n      <td>56</td>\n      <td>037</td>\n      <td>WY</td>\n      <td>Sweetwater County</td>\n      <td>8.3</td>\n    </tr>\n    <tr>\n      <th>3003</th>\n      <td>56</td>\n      <td>039</td>\n      <td>WY</td>\n      <td>Teton County</td>\n      <td>6</td>\n    </tr>\n    <tr>\n      <th>3004</th>\n      <td>56</td>\n      <td>041</td>\n      <td>WY</td>\n      <td>Uinta County</td>\n      <td>8.5</td>\n    </tr>\n    <tr>\n      <th>3005</th>\n      <td>56</td>\n      <td>043</td>\n      <td>WY</td>\n      <td>Washakie County</td>\n      <td>11.1</td>\n    </tr>\n    <tr>\n      <th>3006</th>\n      <td>56</td>\n      <td>045</td>\n      <td>WY</td>\n      <td>Weston County</td>\n      <td>10.5</td>\n    </tr>\n  </tbody>\n</table>\n<p>3007 rows × 5 columns</p>\n</div>"
     },
     "metadata": {},
     "output_type": "display_data"
    }
   ],
   "source": [
    "saipe2019.columns\n",
    "saipe2019.iloc[:, [1,2,3,4,7]]\n",
    "saipe_county = saipe2019['Name'].str.contains('County')\n",
    "pov_rate_2019 = saipe2019.loc[saipe_county].iloc[:, [0, 1,2,3, 7]]\n",
    "pov_rate_2019.reset_index(drop=True, inplace=True)\n",
    "display(pov_rate_2019)"
   ],
   "metadata": {
    "collapsed": false,
    "pycharm": {
     "name": "#%%\n"
    }
   }
  },
  {
   "cell_type": "markdown",
   "source": [
    "* Remove empty cells and clean up columns\n",
    "* Retain only US county information and poverty rates for all ages\n"
   ],
   "metadata": {
    "collapsed": false
   }
  },
  {
   "cell_type": "code",
   "execution_count": 224,
   "outputs": [
    {
     "name": "stdout",
     "output_type": "stream",
     "text": [
      "State FIPS Code              0\n",
      "County FIPS Code             0\n",
      "Postal Code                  0\n",
      "Name                         0\n",
      "Poverty Percent, All Ages    0\n",
      "dtype: int64\n",
      "0\n",
      "<class 'pandas.core.frame.DataFrame'>\n",
      "RangeIndex: 3007 entries, 0 to 3006\n",
      "Data columns (total 5 columns):\n",
      " #   Column                     Non-Null Count  Dtype \n",
      "---  ------                     --------------  ----- \n",
      " 0   State FIPS Code            3007 non-null   object\n",
      " 1   County FIPS Code           3007 non-null   object\n",
      " 2   Postal Code                3007 non-null   object\n",
      " 3   Name                       3007 non-null   object\n",
      " 4   Poverty Percent, All Ages  3007 non-null   object\n",
      "dtypes: object(5)\n",
      "memory usage: 117.6+ KB\n"
     ]
    },
    {
     "data": {
      "text/plain": "None"
     },
     "metadata": {},
     "output_type": "display_data"
    }
   ],
   "source": [
    "print(pov_rate_2019.isnull().sum())\n",
    "print(pov_rate_2019.duplicated().sum())\n",
    "display(pov_rate_2019.info())"
   ],
   "metadata": {
    "collapsed": false,
    "pycharm": {
     "name": "#%%\n"
    }
   }
  },
  {
   "cell_type": "markdown",
   "source": [
    "* No duplicates or missing values for poverty rates in 2018\n",
    "* also convert poverty percent to float"
   ],
   "metadata": {
    "collapsed": false
   }
  },
  {
   "cell_type": "code",
   "execution_count": 225,
   "outputs": [],
   "source": [
    "pov_rate_2019.drop(518, inplace=True)\n",
    "\n",
    "pov_rate_2019['Poverty Percent, All Ages'] = pd.to_numeric(pov_rate_2019['Poverty Percent, All Ages'], downcast='float')\n"
   ],
   "metadata": {
    "collapsed": false,
    "pycharm": {
     "name": "#%%\n"
    }
   }
  },
  {
   "cell_type": "markdown",
   "source": [
    "* from further inspection it was noted that Kalawao county is now excluded in their survey results starting 2017\n",
    "* Kalawao county records removed\n",
    "* Poverty rates in Hawaii appear to around 10-20s\n"
   ],
   "metadata": {
    "collapsed": false
   }
  },
  {
   "cell_type": "code",
   "execution_count": 226,
   "outputs": [
    {
     "data": {
      "text/plain": "     State FIPS Code County FIPS Code Postal Code               Name  \\\n233               08              035          CO     Douglas County   \n2775              51              107          VA     Loudoun County   \n1713              35              028          NM  Los Alamos County   \n2305              46              083          SD     Lincoln County   \n1686              34              019          NJ   Hunterdon County   \n611               17              093          IL     Kendall County   \n2694              49              029          UT      Morgan County   \n222               08              014          CO  Broomfield County   \n695               18              057          IN    Hamilton County   \n1288              27              139          MN       Scott County   \n\n      Poverty Percent, All Ages  \n233                         2.7  \n2775                        3.1  \n1713                        3.5  \n2305                        3.8  \n1686                        4.0  \n611                         4.0  \n2694                        4.0  \n222                         4.1  \n695                         4.2  \n1288                        4.2  ",
      "text/html": "<div>\n<style scoped>\n    .dataframe tbody tr th:only-of-type {\n        vertical-align: middle;\n    }\n\n    .dataframe tbody tr th {\n        vertical-align: top;\n    }\n\n    .dataframe thead th {\n        text-align: right;\n    }\n</style>\n<table border=\"1\" class=\"dataframe\">\n  <thead>\n    <tr style=\"text-align: right;\">\n      <th></th>\n      <th>State FIPS Code</th>\n      <th>County FIPS Code</th>\n      <th>Postal Code</th>\n      <th>Name</th>\n      <th>Poverty Percent, All Ages</th>\n    </tr>\n  </thead>\n  <tbody>\n    <tr>\n      <th>233</th>\n      <td>08</td>\n      <td>035</td>\n      <td>CO</td>\n      <td>Douglas County</td>\n      <td>2.7</td>\n    </tr>\n    <tr>\n      <th>2775</th>\n      <td>51</td>\n      <td>107</td>\n      <td>VA</td>\n      <td>Loudoun County</td>\n      <td>3.1</td>\n    </tr>\n    <tr>\n      <th>1713</th>\n      <td>35</td>\n      <td>028</td>\n      <td>NM</td>\n      <td>Los Alamos County</td>\n      <td>3.5</td>\n    </tr>\n    <tr>\n      <th>2305</th>\n      <td>46</td>\n      <td>083</td>\n      <td>SD</td>\n      <td>Lincoln County</td>\n      <td>3.8</td>\n    </tr>\n    <tr>\n      <th>1686</th>\n      <td>34</td>\n      <td>019</td>\n      <td>NJ</td>\n      <td>Hunterdon County</td>\n      <td>4.0</td>\n    </tr>\n    <tr>\n      <th>611</th>\n      <td>17</td>\n      <td>093</td>\n      <td>IL</td>\n      <td>Kendall County</td>\n      <td>4.0</td>\n    </tr>\n    <tr>\n      <th>2694</th>\n      <td>49</td>\n      <td>029</td>\n      <td>UT</td>\n      <td>Morgan County</td>\n      <td>4.0</td>\n    </tr>\n    <tr>\n      <th>222</th>\n      <td>08</td>\n      <td>014</td>\n      <td>CO</td>\n      <td>Broomfield County</td>\n      <td>4.1</td>\n    </tr>\n    <tr>\n      <th>695</th>\n      <td>18</td>\n      <td>057</td>\n      <td>IN</td>\n      <td>Hamilton County</td>\n      <td>4.2</td>\n    </tr>\n    <tr>\n      <th>1288</th>\n      <td>27</td>\n      <td>139</td>\n      <td>MN</td>\n      <td>Scott County</td>\n      <td>4.2</td>\n    </tr>\n  </tbody>\n</table>\n</div>"
     },
     "metadata": {},
     "output_type": "display_data"
    },
    {
     "data": {
      "text/plain": "     State FIPS Code County FIPS Code Postal Code                  Name  \\\n2330              46              137          SD        Ziebach County   \n2324              46              121          SD           Todd County   \n2279              46              031          SD         Corson County   \n2315              46              102          SD  Oglala Lakota County   \n228               08              025          CO        Crowley County   \n2272              46              017          SD        Buffalo County   \n1319              28              027          MS        Coahoma County   \n1373              28              135          MS   Tallahatchie County   \n1316              28              021          MS      Claiborne County   \n1332              28              053          MS      Humphreys County   \n\n      Poverty Percent, All Ages  \n2330                  47.700001  \n2324                  43.400002  \n2279                  40.299999  \n2315                  40.099998  \n228                   40.000000  \n2272                  39.799999  \n1319                  38.200001  \n1373                  37.900002  \n1316                  37.500000  \n1332                  37.099998  ",
      "text/html": "<div>\n<style scoped>\n    .dataframe tbody tr th:only-of-type {\n        vertical-align: middle;\n    }\n\n    .dataframe tbody tr th {\n        vertical-align: top;\n    }\n\n    .dataframe thead th {\n        text-align: right;\n    }\n</style>\n<table border=\"1\" class=\"dataframe\">\n  <thead>\n    <tr style=\"text-align: right;\">\n      <th></th>\n      <th>State FIPS Code</th>\n      <th>County FIPS Code</th>\n      <th>Postal Code</th>\n      <th>Name</th>\n      <th>Poverty Percent, All Ages</th>\n    </tr>\n  </thead>\n  <tbody>\n    <tr>\n      <th>2330</th>\n      <td>46</td>\n      <td>137</td>\n      <td>SD</td>\n      <td>Ziebach County</td>\n      <td>47.700001</td>\n    </tr>\n    <tr>\n      <th>2324</th>\n      <td>46</td>\n      <td>121</td>\n      <td>SD</td>\n      <td>Todd County</td>\n      <td>43.400002</td>\n    </tr>\n    <tr>\n      <th>2279</th>\n      <td>46</td>\n      <td>031</td>\n      <td>SD</td>\n      <td>Corson County</td>\n      <td>40.299999</td>\n    </tr>\n    <tr>\n      <th>2315</th>\n      <td>46</td>\n      <td>102</td>\n      <td>SD</td>\n      <td>Oglala Lakota County</td>\n      <td>40.099998</td>\n    </tr>\n    <tr>\n      <th>228</th>\n      <td>08</td>\n      <td>025</td>\n      <td>CO</td>\n      <td>Crowley County</td>\n      <td>40.000000</td>\n    </tr>\n    <tr>\n      <th>2272</th>\n      <td>46</td>\n      <td>017</td>\n      <td>SD</td>\n      <td>Buffalo County</td>\n      <td>39.799999</td>\n    </tr>\n    <tr>\n      <th>1319</th>\n      <td>28</td>\n      <td>027</td>\n      <td>MS</td>\n      <td>Coahoma County</td>\n      <td>38.200001</td>\n    </tr>\n    <tr>\n      <th>1373</th>\n      <td>28</td>\n      <td>135</td>\n      <td>MS</td>\n      <td>Tallahatchie County</td>\n      <td>37.900002</td>\n    </tr>\n    <tr>\n      <th>1316</th>\n      <td>28</td>\n      <td>021</td>\n      <td>MS</td>\n      <td>Claiborne County</td>\n      <td>37.500000</td>\n    </tr>\n    <tr>\n      <th>1332</th>\n      <td>28</td>\n      <td>053</td>\n      <td>MS</td>\n      <td>Humphreys County</td>\n      <td>37.099998</td>\n    </tr>\n  </tbody>\n</table>\n</div>"
     },
     "metadata": {},
     "output_type": "display_data"
    }
   ],
   "source": [
    "display(pov_rate_2019.sort_values(by='Poverty Percent, All Ages').head(10))\n",
    "display(pov_rate_2019.sort_values(by='Poverty Percent, All Ages', ascending=False).head(10))"
   ],
   "metadata": {
    "collapsed": false,
    "pycharm": {
     "name": "#%%\n"
    }
   }
  },
  {
   "cell_type": "markdown",
   "source": [
    "* Puerto Rico is not found and that is because poverty county data for Puerto Rico is in a separate set\n",
    "* Need to add Puerto Rico\n",
    "* But poverty ranking appear to be same from 2017-2019"
   ],
   "metadata": {
    "collapsed": false
   }
  },
  {
   "cell_type": "markdown",
   "source": [
    "# Clean education and vehicle 2017 dataset"
   ],
   "metadata": {
    "collapsed": false
   }
  },
  {
   "cell_type": "code",
   "execution_count": 227,
   "outputs": [
    {
     "name": "stdout",
     "output_type": "stream",
     "text": [
      "<class 'pandas.core.frame.DataFrame'>\n",
      "RangeIndex: 837 entries, 0 to 836\n",
      "Data columns (total 13 columns):\n",
      " #   Column            Non-Null Count  Dtype  \n",
      "---  ------            --------------  -----  \n",
      " 0   Unnamed: 0        837 non-null    int64  \n",
      " 1   NAME              837 non-null    object \n",
      " 2   state             837 non-null    int64  \n",
      " 3   county            837 non-null    int64  \n",
      " 4   POP               837 non-null    int64  \n",
      " 5   EDU_TOT           826 non-null    float64\n",
      " 6   LESS_HS_TOT       826 non-null    float64\n",
      " 7   HS_TOT            826 non-null    float64\n",
      " 8   COL_OR_ASSOC_TOT  826 non-null    float64\n",
      " 9   BACH_TOT          826 non-null    float64\n",
      " 10  GRAD_TOT          826 non-null    float64\n",
      " 11  VEHICLE_TOT       837 non-null    int64  \n",
      " 12  WALK_TOT          226 non-null    float64\n",
      "dtypes: float64(7), int64(5), object(1)\n",
      "memory usage: 85.1+ KB\n"
     ]
    }
   ],
   "source": [
    "educ_vehicle_2017.shape\n",
    "educ_vehicle_2017.columns\n",
    "\n",
    "educ_vehicle_2017.info()"
   ],
   "metadata": {
    "collapsed": false,
    "pycharm": {
     "name": "#%%\n"
    }
   }
  },
  {
   "cell_type": "markdown",
   "source": [
    "* Have 837 rows and 12 columns\n",
    "* Category types are appropriate for numerical and nominal columns"
   ],
   "metadata": {
    "collapsed": false
   }
  },
  {
   "cell_type": "code",
   "execution_count": 228,
   "outputs": [],
   "source": [
    "# educ_vehicle_2017.drop('Unnamed: 0', axis=1, inplace=True)\n",
    "educ_vehicle_2017['WALK_TOT'].unique()\n",
    "educ_vehicle_2017['WALK_TOT'].isnull().sum()\n",
    "\n",
    "#drop walk b/c too many missing values and only retain counties and drop also drop that row index column\n",
    "educ_vehicle_2017.state.unique()\n",
    "cols_to_remove = ['Unnamed: 0', 'WALK_TOT']\n",
    "educ_vehicle_2017 = remove_col(educ_vehicle_2017, cols_to_remove)"
   ],
   "metadata": {
    "collapsed": false,
    "pycharm": {
     "name": "#%%\n"
    }
   }
  },
  {
   "cell_type": "markdown",
   "source": [
    "* drop first column as it is just an index column\n",
    "* drop total walk column as majority of data is missing\n",
    "* nb there is no fips state code for 4"
   ],
   "metadata": {
    "collapsed": false
   }
  },
  {
   "cell_type": "code",
   "execution_count": 229,
   "outputs": [
    {
     "data": {
      "text/plain": "                                     NAME  state  county     POP  EDU_TOT  \\\n352        Arecibo Municipio, Puerto Rico     72      13   86066      NaN   \n353        Bayamón Municipio, Puerto Rico     72      21  179565      NaN   \n354         Caguas Municipio, Puerto Rico     72      25  129604      NaN   \n355       Carolina Municipio, Puerto Rico     72      31  154489      NaN   \n356       Guaynabo Municipio, Puerto Rico     72      61   87328      NaN   \n357       Mayagüez Municipio, Puerto Rico     72      97   75525      NaN   \n358          Ponce Municipio, Puerto Rico     72     113  140859      NaN   \n359       San Juan Municipio, Puerto Rico     72     127  337288      NaN   \n360       Toa Alta Municipio, Puerto Rico     72     135   73217      NaN   \n361       Toa Baja Municipio, Puerto Rico     72     137   78092      NaN   \n362  Trujillo Alto Municipio, Puerto Rico     72     139   66675      NaN   \n\n     LESS_HS_TOT  HS_TOT  COL_OR_ASSOC_TOT  BACH_TOT  GRAD_TOT  VEHICLE_TOT  \n352          NaN     NaN               NaN       NaN       NaN        21075  \n353          NaN     NaN               NaN       NaN       NaN        46000  \n354          NaN     NaN               NaN       NaN       NaN        36045  \n355          NaN     NaN               NaN       NaN       NaN        52510  \n356          NaN     NaN               NaN       NaN       NaN        25965  \n357          NaN     NaN               NaN       NaN       NaN        15815  \n358          NaN     NaN               NaN       NaN       NaN        32020  \n359          NaN     NaN               NaN       NaN       NaN        95110  \n360          NaN     NaN               NaN       NaN       NaN        21330  \n361          NaN     NaN               NaN       NaN       NaN        24670  \n362          NaN     NaN               NaN       NaN       NaN        23855  ",
      "text/html": "<div>\n<style scoped>\n    .dataframe tbody tr th:only-of-type {\n        vertical-align: middle;\n    }\n\n    .dataframe tbody tr th {\n        vertical-align: top;\n    }\n\n    .dataframe thead th {\n        text-align: right;\n    }\n</style>\n<table border=\"1\" class=\"dataframe\">\n  <thead>\n    <tr style=\"text-align: right;\">\n      <th></th>\n      <th>NAME</th>\n      <th>state</th>\n      <th>county</th>\n      <th>POP</th>\n      <th>EDU_TOT</th>\n      <th>LESS_HS_TOT</th>\n      <th>HS_TOT</th>\n      <th>COL_OR_ASSOC_TOT</th>\n      <th>BACH_TOT</th>\n      <th>GRAD_TOT</th>\n      <th>VEHICLE_TOT</th>\n    </tr>\n  </thead>\n  <tbody>\n    <tr>\n      <th>352</th>\n      <td>Arecibo Municipio, Puerto Rico</td>\n      <td>72</td>\n      <td>13</td>\n      <td>86066</td>\n      <td>NaN</td>\n      <td>NaN</td>\n      <td>NaN</td>\n      <td>NaN</td>\n      <td>NaN</td>\n      <td>NaN</td>\n      <td>21075</td>\n    </tr>\n    <tr>\n      <th>353</th>\n      <td>Bayamón Municipio, Puerto Rico</td>\n      <td>72</td>\n      <td>21</td>\n      <td>179565</td>\n      <td>NaN</td>\n      <td>NaN</td>\n      <td>NaN</td>\n      <td>NaN</td>\n      <td>NaN</td>\n      <td>NaN</td>\n      <td>46000</td>\n    </tr>\n    <tr>\n      <th>354</th>\n      <td>Caguas Municipio, Puerto Rico</td>\n      <td>72</td>\n      <td>25</td>\n      <td>129604</td>\n      <td>NaN</td>\n      <td>NaN</td>\n      <td>NaN</td>\n      <td>NaN</td>\n      <td>NaN</td>\n      <td>NaN</td>\n      <td>36045</td>\n    </tr>\n    <tr>\n      <th>355</th>\n      <td>Carolina Municipio, Puerto Rico</td>\n      <td>72</td>\n      <td>31</td>\n      <td>154489</td>\n      <td>NaN</td>\n      <td>NaN</td>\n      <td>NaN</td>\n      <td>NaN</td>\n      <td>NaN</td>\n      <td>NaN</td>\n      <td>52510</td>\n    </tr>\n    <tr>\n      <th>356</th>\n      <td>Guaynabo Municipio, Puerto Rico</td>\n      <td>72</td>\n      <td>61</td>\n      <td>87328</td>\n      <td>NaN</td>\n      <td>NaN</td>\n      <td>NaN</td>\n      <td>NaN</td>\n      <td>NaN</td>\n      <td>NaN</td>\n      <td>25965</td>\n    </tr>\n    <tr>\n      <th>357</th>\n      <td>Mayagüez Municipio, Puerto Rico</td>\n      <td>72</td>\n      <td>97</td>\n      <td>75525</td>\n      <td>NaN</td>\n      <td>NaN</td>\n      <td>NaN</td>\n      <td>NaN</td>\n      <td>NaN</td>\n      <td>NaN</td>\n      <td>15815</td>\n    </tr>\n    <tr>\n      <th>358</th>\n      <td>Ponce Municipio, Puerto Rico</td>\n      <td>72</td>\n      <td>113</td>\n      <td>140859</td>\n      <td>NaN</td>\n      <td>NaN</td>\n      <td>NaN</td>\n      <td>NaN</td>\n      <td>NaN</td>\n      <td>NaN</td>\n      <td>32020</td>\n    </tr>\n    <tr>\n      <th>359</th>\n      <td>San Juan Municipio, Puerto Rico</td>\n      <td>72</td>\n      <td>127</td>\n      <td>337288</td>\n      <td>NaN</td>\n      <td>NaN</td>\n      <td>NaN</td>\n      <td>NaN</td>\n      <td>NaN</td>\n      <td>NaN</td>\n      <td>95110</td>\n    </tr>\n    <tr>\n      <th>360</th>\n      <td>Toa Alta Municipio, Puerto Rico</td>\n      <td>72</td>\n      <td>135</td>\n      <td>73217</td>\n      <td>NaN</td>\n      <td>NaN</td>\n      <td>NaN</td>\n      <td>NaN</td>\n      <td>NaN</td>\n      <td>NaN</td>\n      <td>21330</td>\n    </tr>\n    <tr>\n      <th>361</th>\n      <td>Toa Baja Municipio, Puerto Rico</td>\n      <td>72</td>\n      <td>137</td>\n      <td>78092</td>\n      <td>NaN</td>\n      <td>NaN</td>\n      <td>NaN</td>\n      <td>NaN</td>\n      <td>NaN</td>\n      <td>NaN</td>\n      <td>24670</td>\n    </tr>\n    <tr>\n      <th>362</th>\n      <td>Trujillo Alto Municipio, Puerto Rico</td>\n      <td>72</td>\n      <td>139</td>\n      <td>66675</td>\n      <td>NaN</td>\n      <td>NaN</td>\n      <td>NaN</td>\n      <td>NaN</td>\n      <td>NaN</td>\n      <td>NaN</td>\n      <td>23855</td>\n    </tr>\n  </tbody>\n</table>\n</div>"
     },
     "execution_count": 229,
     "metadata": {},
     "output_type": "execute_result"
    }
   ],
   "source": [
    "educ_vehicle_2017.NAME.duplicated().sum()\n",
    "educ_vehicle_2017.isnull().sum()\n",
    "educ_vehicle_2017.loc[educ_vehicle_2017.isnull().any(axis=1)]\n",
    "educ_vehicle_2017.loc[educ_vehicle_2017.NAME.str.contains('Puerto')]"
   ],
   "metadata": {
    "collapsed": false,
    "pycharm": {
     "name": "#%%\n"
    }
   }
  },
  {
   "cell_type": "markdown",
   "source": [
    "* All Missing values are Puerto Rico counties similar to previous data sets\n",
    "* Census Bureau keeps Puerto Rico as separate data column for education\n",
    "* No duplicated data shown"
   ],
   "metadata": {
    "collapsed": false
   }
  },
  {
   "cell_type": "code",
   "execution_count": 230,
   "outputs": [
    {
     "data": {
      "text/plain": "                              NAME  state  county      POP  EDU_TOT_ratio  \\\n0    St. Lawrence County, New York     36      89   109623      66.185928   \n1        Saratoga County, New York     36      91   229869      71.525086   \n2     Schenectady County, New York     36      93   155565      69.072735   \n3         Steuben County, New York     36     101    96281      70.638028   \n4         Suffolk County, New York     36     103  1492953      69.456038   \n..                             ...    ...     ...      ...            ...   \n832        Putnam County, New York     36      79    99323      71.933993   \n833        Queens County, New York     36      81  2358582      71.878018   \n834    Rensselaer County, New York     36      83   159722      69.525175   \n835      Richmond County, New York     36      85   479458      69.678470   \n836      Rockland County, New York     36      87   328868      62.634552   \n\n     LESS_HS_TOT_ratio  HS_TOT_ratio  COL_OR_ASSOC_TOT_ratio  BACH_TOT_ratio  \\\n0             8.359560     23.588116               18.327358        7.552247   \n1             4.635684     16.980541               19.820419       16.481561   \n2             6.482821     20.662745               22.667695       11.062900   \n3             6.761459     26.921199               21.483990        7.738806   \n4             6.873693     18.559191               18.702062       13.936407   \n..                 ...           ...                     ...             ...   \n832           5.124694     20.737392               18.218338       15.030758   \n833          12.930820     20.936054               15.809711       14.245424   \n834           5.694269     19.865767               21.884274       12.611287   \n835           8.140650     21.009139               17.452832       13.788069   \n836           6.985173     14.286887               15.662819       14.226377   \n\n     GRAD_TOT_ratio  VEHICLE_TOT_ratio  \n0          8.358647          32.766846  \n1         13.606880          45.984887  \n2          8.196574          38.755504  \n3          7.732574          36.959525  \n4         11.384685          41.375382  \n..              ...                ...  \n832       12.822810          42.683970  \n833        7.956009          16.619308  \n834        9.469578          41.146492  \n835        9.287779          26.693683  \n836       11.473296          34.252344  \n\n[837 rows x 11 columns]",
      "text/html": "<div>\n<style scoped>\n    .dataframe tbody tr th:only-of-type {\n        vertical-align: middle;\n    }\n\n    .dataframe tbody tr th {\n        vertical-align: top;\n    }\n\n    .dataframe thead th {\n        text-align: right;\n    }\n</style>\n<table border=\"1\" class=\"dataframe\">\n  <thead>\n    <tr style=\"text-align: right;\">\n      <th></th>\n      <th>NAME</th>\n      <th>state</th>\n      <th>county</th>\n      <th>POP</th>\n      <th>EDU_TOT_ratio</th>\n      <th>LESS_HS_TOT_ratio</th>\n      <th>HS_TOT_ratio</th>\n      <th>COL_OR_ASSOC_TOT_ratio</th>\n      <th>BACH_TOT_ratio</th>\n      <th>GRAD_TOT_ratio</th>\n      <th>VEHICLE_TOT_ratio</th>\n    </tr>\n  </thead>\n  <tbody>\n    <tr>\n      <th>0</th>\n      <td>St. Lawrence County, New York</td>\n      <td>36</td>\n      <td>89</td>\n      <td>109623</td>\n      <td>66.185928</td>\n      <td>8.359560</td>\n      <td>23.588116</td>\n      <td>18.327358</td>\n      <td>7.552247</td>\n      <td>8.358647</td>\n      <td>32.766846</td>\n    </tr>\n    <tr>\n      <th>1</th>\n      <td>Saratoga County, New York</td>\n      <td>36</td>\n      <td>91</td>\n      <td>229869</td>\n      <td>71.525086</td>\n      <td>4.635684</td>\n      <td>16.980541</td>\n      <td>19.820419</td>\n      <td>16.481561</td>\n      <td>13.606880</td>\n      <td>45.984887</td>\n    </tr>\n    <tr>\n      <th>2</th>\n      <td>Schenectady County, New York</td>\n      <td>36</td>\n      <td>93</td>\n      <td>155565</td>\n      <td>69.072735</td>\n      <td>6.482821</td>\n      <td>20.662745</td>\n      <td>22.667695</td>\n      <td>11.062900</td>\n      <td>8.196574</td>\n      <td>38.755504</td>\n    </tr>\n    <tr>\n      <th>3</th>\n      <td>Steuben County, New York</td>\n      <td>36</td>\n      <td>101</td>\n      <td>96281</td>\n      <td>70.638028</td>\n      <td>6.761459</td>\n      <td>26.921199</td>\n      <td>21.483990</td>\n      <td>7.738806</td>\n      <td>7.732574</td>\n      <td>36.959525</td>\n    </tr>\n    <tr>\n      <th>4</th>\n      <td>Suffolk County, New York</td>\n      <td>36</td>\n      <td>103</td>\n      <td>1492953</td>\n      <td>69.456038</td>\n      <td>6.873693</td>\n      <td>18.559191</td>\n      <td>18.702062</td>\n      <td>13.936407</td>\n      <td>11.384685</td>\n      <td>41.375382</td>\n    </tr>\n    <tr>\n      <th>...</th>\n      <td>...</td>\n      <td>...</td>\n      <td>...</td>\n      <td>...</td>\n      <td>...</td>\n      <td>...</td>\n      <td>...</td>\n      <td>...</td>\n      <td>...</td>\n      <td>...</td>\n      <td>...</td>\n    </tr>\n    <tr>\n      <th>832</th>\n      <td>Putnam County, New York</td>\n      <td>36</td>\n      <td>79</td>\n      <td>99323</td>\n      <td>71.933993</td>\n      <td>5.124694</td>\n      <td>20.737392</td>\n      <td>18.218338</td>\n      <td>15.030758</td>\n      <td>12.822810</td>\n      <td>42.683970</td>\n    </tr>\n    <tr>\n      <th>833</th>\n      <td>Queens County, New York</td>\n      <td>36</td>\n      <td>81</td>\n      <td>2358582</td>\n      <td>71.878018</td>\n      <td>12.930820</td>\n      <td>20.936054</td>\n      <td>15.809711</td>\n      <td>14.245424</td>\n      <td>7.956009</td>\n      <td>16.619308</td>\n    </tr>\n    <tr>\n      <th>834</th>\n      <td>Rensselaer County, New York</td>\n      <td>36</td>\n      <td>83</td>\n      <td>159722</td>\n      <td>69.525175</td>\n      <td>5.694269</td>\n      <td>19.865767</td>\n      <td>21.884274</td>\n      <td>12.611287</td>\n      <td>9.469578</td>\n      <td>41.146492</td>\n    </tr>\n    <tr>\n      <th>835</th>\n      <td>Richmond County, New York</td>\n      <td>36</td>\n      <td>85</td>\n      <td>479458</td>\n      <td>69.678470</td>\n      <td>8.140650</td>\n      <td>21.009139</td>\n      <td>17.452832</td>\n      <td>13.788069</td>\n      <td>9.287779</td>\n      <td>26.693683</td>\n    </tr>\n    <tr>\n      <th>836</th>\n      <td>Rockland County, New York</td>\n      <td>36</td>\n      <td>87</td>\n      <td>328868</td>\n      <td>62.634552</td>\n      <td>6.985173</td>\n      <td>14.286887</td>\n      <td>15.662819</td>\n      <td>14.226377</td>\n      <td>11.473296</td>\n      <td>34.252344</td>\n    </tr>\n  </tbody>\n</table>\n<p>837 rows × 11 columns</p>\n</div>"
     },
     "metadata": {},
     "output_type": "display_data"
    }
   ],
   "source": [
    "edu_vehicle_estimates = educ_vehicle_2017.columns.values[4:]\n",
    "# educ_vehicle_2017\n",
    "\n",
    "for est in edu_vehicle_estimates:\n",
    "    educ_vehicle_2017[est + '_ratio'] = educ_vehicle_2017[est] / educ_vehicle_2017['POP'] * 100\n",
    "    educ_vehicle_2017.drop(est, axis=1, inplace=True)\n",
    "\n",
    "# convert into ratios\n",
    "display(educ_vehicle_2017)"
   ],
   "metadata": {
    "collapsed": false,
    "pycharm": {
     "name": "#%%\n"
    }
   }
  },
  {
   "cell_type": "markdown",
   "source": [
    "* convert all estimates of education and vehicles of a county to a ratio of estimated total / population of county\n",
    "* retrieve ratio estimate to county population\n"
   ],
   "metadata": {
    "collapsed": false
   }
  },
  {
   "cell_type": "markdown",
   "source": [
    "# Repeat Steps for education and vehicle 2018 data"
   ],
   "metadata": {
    "collapsed": false
   }
  },
  {
   "cell_type": "code",
   "execution_count": 231,
   "outputs": [
    {
     "name": "stdout",
     "output_type": "stream",
     "text": [
      "<class 'pandas.core.frame.DataFrame'>\n",
      "RangeIndex: 838 entries, 0 to 837\n",
      "Data columns (total 13 columns):\n",
      " #   Column            Non-Null Count  Dtype  \n",
      "---  ------            --------------  -----  \n",
      " 0   Unnamed: 0        838 non-null    int64  \n",
      " 1   NAME              838 non-null    object \n",
      " 2   state             838 non-null    int64  \n",
      " 3   county            838 non-null    int64  \n",
      " 4   POP               838 non-null    int64  \n",
      " 5   EDU_TOT           826 non-null    float64\n",
      " 6   LESS_HS_TOT       826 non-null    float64\n",
      " 7   HS_TOT            826 non-null    float64\n",
      " 8   COL_OR_ASSOC_TOT  826 non-null    float64\n",
      " 9   BACH_TOT          826 non-null    float64\n",
      " 10  GRAD_TOT          826 non-null    float64\n",
      " 11  VEHICLE_TOT       838 non-null    int64  \n",
      " 12  WALK_TOT          231 non-null    float64\n",
      "dtypes: float64(7), int64(5), object(1)\n",
      "memory usage: 85.2+ KB\n"
     ]
    }
   ],
   "source": [
    "educ_vehicle_2018.shape\n",
    "educ_vehicle_2018.columns\n",
    "\n",
    "educ_vehicle_2018.info()"
   ],
   "metadata": {
    "collapsed": false,
    "pycharm": {
     "name": "#%%\n"
    }
   }
  },
  {
   "cell_type": "markdown",
   "source": [
    "* Have 837 rows and 12 columns\n",
    "* Category types are appropriate for numerical and nominal columns"
   ],
   "metadata": {
    "collapsed": false
   }
  },
  {
   "cell_type": "code",
   "execution_count": 232,
   "outputs": [],
   "source": [
    "educ_vehicle_2018['WALK_TOT'].unique()\n",
    "educ_vehicle_2018['WALK_TOT'].isnull().sum()\n",
    "\n",
    "educ_vehicle_2018.state.unique()\n",
    "cols_to_remove = ['Unnamed: 0', 'WALK_TOT']\n",
    "educ_vehicle_2018 = remove_col(educ_vehicle_2018, cols_to_remove)"
   ],
   "metadata": {
    "collapsed": false,
    "pycharm": {
     "name": "#%%\n"
    }
   }
  },
  {
   "cell_type": "markdown",
   "source": [
    "* drop first column as it is just an index column\n",
    "* drop total walk column as majority of data is missing\n",
    "* nb there is no fips state code for 4"
   ],
   "metadata": {
    "collapsed": false
   }
  },
  {
   "cell_type": "code",
   "execution_count": 233,
   "outputs": [
    {
     "data": {
      "text/plain": "                                     NAME  state  county     POP  EDU_TOT  \\\n376             Jones County, Mississippi     28      67   68461      NaN   \n827        Arecibo Municipio, Puerto Rico     72      13   82114      NaN   \n828        Bayamón Municipio, Puerto Rico     72      21  170480      NaN   \n829         Caguas Municipio, Puerto Rico     72      25  124434      NaN   \n830       Carolina Municipio, Puerto Rico     72      31  147661      NaN   \n831       Guaynabo Municipio, Puerto Rico     72      61   83787      NaN   \n832       Mayagüez Municipio, Puerto Rico     72      97   71986      NaN   \n833          Ponce Municipio, Puerto Rico     72     113  133191      NaN   \n834       San Juan Municipio, Puerto Rico     72     127  320967      NaN   \n835       Toa Alta Municipio, Puerto Rico     72     135   71094      NaN   \n836       Toa Baja Municipio, Puerto Rico     72     137   74623      NaN   \n837  Trujillo Alto Municipio, Puerto Rico     72     139   63746      NaN   \n\n     LESS_HS_TOT  HS_TOT  COL_OR_ASSOC_TOT  BACH_TOT  GRAD_TOT  VEHICLE_TOT  \n376          NaN     NaN               NaN       NaN       NaN        26755  \n827          NaN     NaN               NaN       NaN       NaN        21210  \n828          NaN     NaN               NaN       NaN       NaN        48105  \n829          NaN     NaN               NaN       NaN       NaN        37810  \n830          NaN     NaN               NaN       NaN       NaN        47205  \n831          NaN     NaN               NaN       NaN       NaN        27890  \n832          NaN     NaN               NaN       NaN       NaN        14200  \n833          NaN     NaN               NaN       NaN       NaN        32475  \n834          NaN     NaN               NaN       NaN       NaN        94245  \n835          NaN     NaN               NaN       NaN       NaN        24755  \n836          NaN     NaN               NaN       NaN       NaN        23700  \n837          NaN     NaN               NaN       NaN       NaN        22530  ",
      "text/html": "<div>\n<style scoped>\n    .dataframe tbody tr th:only-of-type {\n        vertical-align: middle;\n    }\n\n    .dataframe tbody tr th {\n        vertical-align: top;\n    }\n\n    .dataframe thead th {\n        text-align: right;\n    }\n</style>\n<table border=\"1\" class=\"dataframe\">\n  <thead>\n    <tr style=\"text-align: right;\">\n      <th></th>\n      <th>NAME</th>\n      <th>state</th>\n      <th>county</th>\n      <th>POP</th>\n      <th>EDU_TOT</th>\n      <th>LESS_HS_TOT</th>\n      <th>HS_TOT</th>\n      <th>COL_OR_ASSOC_TOT</th>\n      <th>BACH_TOT</th>\n      <th>GRAD_TOT</th>\n      <th>VEHICLE_TOT</th>\n    </tr>\n  </thead>\n  <tbody>\n    <tr>\n      <th>376</th>\n      <td>Jones County, Mississippi</td>\n      <td>28</td>\n      <td>67</td>\n      <td>68461</td>\n      <td>NaN</td>\n      <td>NaN</td>\n      <td>NaN</td>\n      <td>NaN</td>\n      <td>NaN</td>\n      <td>NaN</td>\n      <td>26755</td>\n    </tr>\n    <tr>\n      <th>827</th>\n      <td>Arecibo Municipio, Puerto Rico</td>\n      <td>72</td>\n      <td>13</td>\n      <td>82114</td>\n      <td>NaN</td>\n      <td>NaN</td>\n      <td>NaN</td>\n      <td>NaN</td>\n      <td>NaN</td>\n      <td>NaN</td>\n      <td>21210</td>\n    </tr>\n    <tr>\n      <th>828</th>\n      <td>Bayamón Municipio, Puerto Rico</td>\n      <td>72</td>\n      <td>21</td>\n      <td>170480</td>\n      <td>NaN</td>\n      <td>NaN</td>\n      <td>NaN</td>\n      <td>NaN</td>\n      <td>NaN</td>\n      <td>NaN</td>\n      <td>48105</td>\n    </tr>\n    <tr>\n      <th>829</th>\n      <td>Caguas Municipio, Puerto Rico</td>\n      <td>72</td>\n      <td>25</td>\n      <td>124434</td>\n      <td>NaN</td>\n      <td>NaN</td>\n      <td>NaN</td>\n      <td>NaN</td>\n      <td>NaN</td>\n      <td>NaN</td>\n      <td>37810</td>\n    </tr>\n    <tr>\n      <th>830</th>\n      <td>Carolina Municipio, Puerto Rico</td>\n      <td>72</td>\n      <td>31</td>\n      <td>147661</td>\n      <td>NaN</td>\n      <td>NaN</td>\n      <td>NaN</td>\n      <td>NaN</td>\n      <td>NaN</td>\n      <td>NaN</td>\n      <td>47205</td>\n    </tr>\n    <tr>\n      <th>831</th>\n      <td>Guaynabo Municipio, Puerto Rico</td>\n      <td>72</td>\n      <td>61</td>\n      <td>83787</td>\n      <td>NaN</td>\n      <td>NaN</td>\n      <td>NaN</td>\n      <td>NaN</td>\n      <td>NaN</td>\n      <td>NaN</td>\n      <td>27890</td>\n    </tr>\n    <tr>\n      <th>832</th>\n      <td>Mayagüez Municipio, Puerto Rico</td>\n      <td>72</td>\n      <td>97</td>\n      <td>71986</td>\n      <td>NaN</td>\n      <td>NaN</td>\n      <td>NaN</td>\n      <td>NaN</td>\n      <td>NaN</td>\n      <td>NaN</td>\n      <td>14200</td>\n    </tr>\n    <tr>\n      <th>833</th>\n      <td>Ponce Municipio, Puerto Rico</td>\n      <td>72</td>\n      <td>113</td>\n      <td>133191</td>\n      <td>NaN</td>\n      <td>NaN</td>\n      <td>NaN</td>\n      <td>NaN</td>\n      <td>NaN</td>\n      <td>NaN</td>\n      <td>32475</td>\n    </tr>\n    <tr>\n      <th>834</th>\n      <td>San Juan Municipio, Puerto Rico</td>\n      <td>72</td>\n      <td>127</td>\n      <td>320967</td>\n      <td>NaN</td>\n      <td>NaN</td>\n      <td>NaN</td>\n      <td>NaN</td>\n      <td>NaN</td>\n      <td>NaN</td>\n      <td>94245</td>\n    </tr>\n    <tr>\n      <th>835</th>\n      <td>Toa Alta Municipio, Puerto Rico</td>\n      <td>72</td>\n      <td>135</td>\n      <td>71094</td>\n      <td>NaN</td>\n      <td>NaN</td>\n      <td>NaN</td>\n      <td>NaN</td>\n      <td>NaN</td>\n      <td>NaN</td>\n      <td>24755</td>\n    </tr>\n    <tr>\n      <th>836</th>\n      <td>Toa Baja Municipio, Puerto Rico</td>\n      <td>72</td>\n      <td>137</td>\n      <td>74623</td>\n      <td>NaN</td>\n      <td>NaN</td>\n      <td>NaN</td>\n      <td>NaN</td>\n      <td>NaN</td>\n      <td>NaN</td>\n      <td>23700</td>\n    </tr>\n    <tr>\n      <th>837</th>\n      <td>Trujillo Alto Municipio, Puerto Rico</td>\n      <td>72</td>\n      <td>139</td>\n      <td>63746</td>\n      <td>NaN</td>\n      <td>NaN</td>\n      <td>NaN</td>\n      <td>NaN</td>\n      <td>NaN</td>\n      <td>NaN</td>\n      <td>22530</td>\n    </tr>\n  </tbody>\n</table>\n</div>"
     },
     "execution_count": 233,
     "metadata": {},
     "output_type": "execute_result"
    }
   ],
   "source": [
    "educ_vehicle_2018.NAME.duplicated().sum()\n",
    "educ_vehicle_2018.isnull().sum()\n",
    "educ_vehicle_2018.loc[educ_vehicle_2018.isnull().any(axis=1)]"
   ],
   "metadata": {
    "collapsed": false,
    "pycharm": {
     "name": "#%%\n"
    }
   }
  },
  {
   "cell_type": "markdown",
   "source": [
    "* All Missing values are Puerto Rico counties similar to previous data sets\n",
    "* Census Bureau keeps Puerto Rico as separate data column for education\n",
    "* No duplicated data shown"
   ],
   "metadata": {
    "collapsed": false
   }
  },
  {
   "cell_type": "code",
   "execution_count": 234,
   "outputs": [
    {
     "data": {
      "text/plain": "                                     NAME  state  county     POP  \\\n0                 Baldwin County, Alabama      1       3  218022   \n1                 Calhoun County, Alabama      1      15  114277   \n2                 Cullman County, Alabama      1      43   83442   \n3                  DeKalb County, Alabama      1      49   71385   \n4                  Elmore County, Alabama      1      51   81887   \n..                                    ...    ...     ...     ...   \n833          Ponce Municipio, Puerto Rico     72     113  133191   \n834       San Juan Municipio, Puerto Rico     72     127  320967   \n835       Toa Alta Municipio, Puerto Rico     72     135   71094   \n836       Toa Baja Municipio, Puerto Rico     72     137   74623   \n837  Trujillo Alto Municipio, Puerto Rico     72     139   63746   \n\n     EDU_TOT_ratio  LESS_HS_TOT_ratio  HS_TOT_ratio  COL_OR_ASSOC_TOT_ratio  \\\n0        71.410683           7.009384     20.187412               21.820275   \n1        69.280783          10.606684     22.542594               23.660929   \n2        69.891661          12.257616     21.750437               27.423839   \n3        67.477761          16.363382     20.078448               21.005814   \n4        69.355331           9.146751     22.539597               20.155824   \n..             ...                ...           ...                     ...   \n833            NaN                NaN           NaN                     NaN   \n834            NaN                NaN           NaN                     NaN   \n835            NaN                NaN           NaN                     NaN   \n836            NaN                NaN           NaN                     NaN   \n837            NaN                NaN           NaN                     NaN   \n\n     BACH_TOT_ratio  GRAD_TOT_ratio  VEHICLE_TOT_ratio  \n0         14.773738        7.619873          40.245938  \n1          6.925278        5.545298          37.417853  \n2          5.891517        2.568251          39.626327  \n3          5.506759        4.523359          36.632346  \n4         12.390245        5.122913          38.589764  \n..              ...             ...                ...  \n833             NaN             NaN          24.382278  \n834             NaN             NaN          29.362832  \n835             NaN             NaN          34.820097  \n836             NaN             NaN          31.759645  \n837             NaN             NaN          35.343394  \n\n[838 rows x 11 columns]",
      "text/html": "<div>\n<style scoped>\n    .dataframe tbody tr th:only-of-type {\n        vertical-align: middle;\n    }\n\n    .dataframe tbody tr th {\n        vertical-align: top;\n    }\n\n    .dataframe thead th {\n        text-align: right;\n    }\n</style>\n<table border=\"1\" class=\"dataframe\">\n  <thead>\n    <tr style=\"text-align: right;\">\n      <th></th>\n      <th>NAME</th>\n      <th>state</th>\n      <th>county</th>\n      <th>POP</th>\n      <th>EDU_TOT_ratio</th>\n      <th>LESS_HS_TOT_ratio</th>\n      <th>HS_TOT_ratio</th>\n      <th>COL_OR_ASSOC_TOT_ratio</th>\n      <th>BACH_TOT_ratio</th>\n      <th>GRAD_TOT_ratio</th>\n      <th>VEHICLE_TOT_ratio</th>\n    </tr>\n  </thead>\n  <tbody>\n    <tr>\n      <th>0</th>\n      <td>Baldwin County, Alabama</td>\n      <td>1</td>\n      <td>3</td>\n      <td>218022</td>\n      <td>71.410683</td>\n      <td>7.009384</td>\n      <td>20.187412</td>\n      <td>21.820275</td>\n      <td>14.773738</td>\n      <td>7.619873</td>\n      <td>40.245938</td>\n    </tr>\n    <tr>\n      <th>1</th>\n      <td>Calhoun County, Alabama</td>\n      <td>1</td>\n      <td>15</td>\n      <td>114277</td>\n      <td>69.280783</td>\n      <td>10.606684</td>\n      <td>22.542594</td>\n      <td>23.660929</td>\n      <td>6.925278</td>\n      <td>5.545298</td>\n      <td>37.417853</td>\n    </tr>\n    <tr>\n      <th>2</th>\n      <td>Cullman County, Alabama</td>\n      <td>1</td>\n      <td>43</td>\n      <td>83442</td>\n      <td>69.891661</td>\n      <td>12.257616</td>\n      <td>21.750437</td>\n      <td>27.423839</td>\n      <td>5.891517</td>\n      <td>2.568251</td>\n      <td>39.626327</td>\n    </tr>\n    <tr>\n      <th>3</th>\n      <td>DeKalb County, Alabama</td>\n      <td>1</td>\n      <td>49</td>\n      <td>71385</td>\n      <td>67.477761</td>\n      <td>16.363382</td>\n      <td>20.078448</td>\n      <td>21.005814</td>\n      <td>5.506759</td>\n      <td>4.523359</td>\n      <td>36.632346</td>\n    </tr>\n    <tr>\n      <th>4</th>\n      <td>Elmore County, Alabama</td>\n      <td>1</td>\n      <td>51</td>\n      <td>81887</td>\n      <td>69.355331</td>\n      <td>9.146751</td>\n      <td>22.539597</td>\n      <td>20.155824</td>\n      <td>12.390245</td>\n      <td>5.122913</td>\n      <td>38.589764</td>\n    </tr>\n    <tr>\n      <th>...</th>\n      <td>...</td>\n      <td>...</td>\n      <td>...</td>\n      <td>...</td>\n      <td>...</td>\n      <td>...</td>\n      <td>...</td>\n      <td>...</td>\n      <td>...</td>\n      <td>...</td>\n      <td>...</td>\n    </tr>\n    <tr>\n      <th>833</th>\n      <td>Ponce Municipio, Puerto Rico</td>\n      <td>72</td>\n      <td>113</td>\n      <td>133191</td>\n      <td>NaN</td>\n      <td>NaN</td>\n      <td>NaN</td>\n      <td>NaN</td>\n      <td>NaN</td>\n      <td>NaN</td>\n      <td>24.382278</td>\n    </tr>\n    <tr>\n      <th>834</th>\n      <td>San Juan Municipio, Puerto Rico</td>\n      <td>72</td>\n      <td>127</td>\n      <td>320967</td>\n      <td>NaN</td>\n      <td>NaN</td>\n      <td>NaN</td>\n      <td>NaN</td>\n      <td>NaN</td>\n      <td>NaN</td>\n      <td>29.362832</td>\n    </tr>\n    <tr>\n      <th>835</th>\n      <td>Toa Alta Municipio, Puerto Rico</td>\n      <td>72</td>\n      <td>135</td>\n      <td>71094</td>\n      <td>NaN</td>\n      <td>NaN</td>\n      <td>NaN</td>\n      <td>NaN</td>\n      <td>NaN</td>\n      <td>NaN</td>\n      <td>34.820097</td>\n    </tr>\n    <tr>\n      <th>836</th>\n      <td>Toa Baja Municipio, Puerto Rico</td>\n      <td>72</td>\n      <td>137</td>\n      <td>74623</td>\n      <td>NaN</td>\n      <td>NaN</td>\n      <td>NaN</td>\n      <td>NaN</td>\n      <td>NaN</td>\n      <td>NaN</td>\n      <td>31.759645</td>\n    </tr>\n    <tr>\n      <th>837</th>\n      <td>Trujillo Alto Municipio, Puerto Rico</td>\n      <td>72</td>\n      <td>139</td>\n      <td>63746</td>\n      <td>NaN</td>\n      <td>NaN</td>\n      <td>NaN</td>\n      <td>NaN</td>\n      <td>NaN</td>\n      <td>NaN</td>\n      <td>35.343394</td>\n    </tr>\n  </tbody>\n</table>\n<p>838 rows × 11 columns</p>\n</div>"
     },
     "metadata": {},
     "output_type": "display_data"
    }
   ],
   "source": [
    "edu_vehicle_estimates = educ_vehicle_2018.columns.values[4:]\n",
    "# educ_vehicle_2017\n",
    "\n",
    "for est in edu_vehicle_estimates:\n",
    "    educ_vehicle_2018[est + '_ratio'] = educ_vehicle_2018[est] / educ_vehicle_2018['POP'] * 100\n",
    "    educ_vehicle_2018.drop(est, axis=1, inplace=True)\n",
    "\n",
    "# convert into ratios\n",
    "display(educ_vehicle_2018)"
   ],
   "metadata": {
    "collapsed": false,
    "pycharm": {
     "name": "#%%\n"
    }
   }
  },
  {
   "cell_type": "markdown",
   "source": [
    "* convert all estimates of education and vehicles of a county to a ratio of estimated total / population of county\n",
    "* retrieve ratio estimate to county population\n"
   ],
   "metadata": {
    "collapsed": false
   }
  },
  {
   "cell_type": "markdown",
   "source": [
    "# Repeat Steps for education and vehicle 2019 data"
   ],
   "metadata": {
    "collapsed": false
   }
  },
  {
   "cell_type": "code",
   "execution_count": 235,
   "outputs": [
    {
     "name": "stdout",
     "output_type": "stream",
     "text": [
      "<class 'pandas.core.frame.DataFrame'>\n",
      "RangeIndex: 840 entries, 0 to 839\n",
      "Data columns (total 13 columns):\n",
      " #   Column            Non-Null Count  Dtype  \n",
      "---  ------            --------------  -----  \n",
      " 0   Unnamed: 0        840 non-null    int64  \n",
      " 1   NAME              840 non-null    object \n",
      " 2   state             840 non-null    int64  \n",
      " 3   county            840 non-null    int64  \n",
      " 4   POP               840 non-null    int64  \n",
      " 5   EDU_TOT           827 non-null    float64\n",
      " 6   LESS_HS_TOT       827 non-null    float64\n",
      " 7   HS_TOT            827 non-null    float64\n",
      " 8   COL_OR_ASSOC_TOT  827 non-null    float64\n",
      " 9   BACH_TOT          827 non-null    float64\n",
      " 10  GRAD_TOT          827 non-null    float64\n",
      " 11  VEHICLE_TOT       840 non-null    int64  \n",
      " 12  WALK_TOT          226 non-null    float64\n",
      "dtypes: float64(7), int64(5), object(1)\n",
      "memory usage: 85.4+ KB\n"
     ]
    }
   ],
   "source": [
    "educ_vehicle_2019.shape\n",
    "educ_vehicle_2019.columns\n",
    "\n",
    "educ_vehicle_2019.info()"
   ],
   "metadata": {
    "collapsed": false,
    "pycharm": {
     "name": "#%%\n"
    }
   }
  },
  {
   "cell_type": "markdown",
   "source": [
    "* Have 837 rows and 12 columns\n",
    "* Category types are appropriate for numerical and nominal columns"
   ],
   "metadata": {
    "collapsed": false
   }
  },
  {
   "cell_type": "code",
   "execution_count": 236,
   "outputs": [],
   "source": [
    "educ_vehicle_2019['WALK_TOT'].unique()\n",
    "educ_vehicle_2019['WALK_TOT'].isnull().sum()\n",
    "\n",
    "educ_vehicle_2019.state.unique()\n",
    "cols_to_remove = ['Unnamed: 0', 'WALK_TOT']\n",
    "educ_vehicle_2019 = remove_col(educ_vehicle_2019, cols_to_remove)"
   ],
   "metadata": {
    "collapsed": false,
    "pycharm": {
     "name": "#%%\n"
    }
   }
  },
  {
   "cell_type": "markdown",
   "source": [
    "* drop first column as it is just an index column\n",
    "* drop total walk column as majority of data is missing\n",
    "* nb there is no fips state code for 4"
   ],
   "metadata": {
    "collapsed": false
   }
  },
  {
   "cell_type": "code",
   "execution_count": 237,
   "outputs": [
    {
     "data": {
      "text/plain": "                                     NAME  state  county     POP  EDU_TOT  \\\n291          St. Landry Parish, Louisiana     22      97   82124      NaN   \n559                Muskingum County, Ohio     39     119   86215      NaN   \n829        Arecibo Municipio, Puerto Rico     72      13   81966      NaN   \n830        Bayamón Municipio, Puerto Rico     72      21  169269      NaN   \n831         Caguas Municipio, Puerto Rico     72      25  124606      NaN   \n832       Carolina Municipio, Puerto Rico     72      31  146984      NaN   \n833       Guaynabo Municipio, Puerto Rico     72      61   83728      NaN   \n834       Mayagüez Municipio, Puerto Rico     72      97   71530      NaN   \n835          Ponce Municipio, Puerto Rico     72     113  131881      NaN   \n836       San Juan Municipio, Puerto Rico     72     127  318441      NaN   \n837       Toa Alta Municipio, Puerto Rico     72     135   72025      NaN   \n838       Toa Baja Municipio, Puerto Rico     72     137   74271      NaN   \n839  Trujillo Alto Municipio, Puerto Rico     72     139   63674      NaN   \n\n     LESS_HS_TOT  HS_TOT  COL_OR_ASSOC_TOT  BACH_TOT  GRAD_TOT  VEHICLE_TOT  \n291          NaN     NaN               NaN       NaN       NaN        27175  \n559          NaN     NaN               NaN       NaN       NaN        33710  \n829          NaN     NaN               NaN       NaN       NaN        20780  \n830          NaN     NaN               NaN       NaN       NaN        53730  \n831          NaN     NaN               NaN       NaN       NaN        39305  \n832          NaN     NaN               NaN       NaN       NaN        48385  \n833          NaN     NaN               NaN       NaN       NaN        30465  \n834          NaN     NaN               NaN       NaN       NaN        16695  \n835          NaN     NaN               NaN       NaN       NaN        31635  \n836          NaN     NaN               NaN       NaN       NaN        92055  \n837          NaN     NaN               NaN       NaN       NaN        24230  \n838          NaN     NaN               NaN       NaN       NaN        22900  \n839          NaN     NaN               NaN       NaN       NaN        25900  ",
      "text/html": "<div>\n<style scoped>\n    .dataframe tbody tr th:only-of-type {\n        vertical-align: middle;\n    }\n\n    .dataframe tbody tr th {\n        vertical-align: top;\n    }\n\n    .dataframe thead th {\n        text-align: right;\n    }\n</style>\n<table border=\"1\" class=\"dataframe\">\n  <thead>\n    <tr style=\"text-align: right;\">\n      <th></th>\n      <th>NAME</th>\n      <th>state</th>\n      <th>county</th>\n      <th>POP</th>\n      <th>EDU_TOT</th>\n      <th>LESS_HS_TOT</th>\n      <th>HS_TOT</th>\n      <th>COL_OR_ASSOC_TOT</th>\n      <th>BACH_TOT</th>\n      <th>GRAD_TOT</th>\n      <th>VEHICLE_TOT</th>\n    </tr>\n  </thead>\n  <tbody>\n    <tr>\n      <th>291</th>\n      <td>St. Landry Parish, Louisiana</td>\n      <td>22</td>\n      <td>97</td>\n      <td>82124</td>\n      <td>NaN</td>\n      <td>NaN</td>\n      <td>NaN</td>\n      <td>NaN</td>\n      <td>NaN</td>\n      <td>NaN</td>\n      <td>27175</td>\n    </tr>\n    <tr>\n      <th>559</th>\n      <td>Muskingum County, Ohio</td>\n      <td>39</td>\n      <td>119</td>\n      <td>86215</td>\n      <td>NaN</td>\n      <td>NaN</td>\n      <td>NaN</td>\n      <td>NaN</td>\n      <td>NaN</td>\n      <td>NaN</td>\n      <td>33710</td>\n    </tr>\n    <tr>\n      <th>829</th>\n      <td>Arecibo Municipio, Puerto Rico</td>\n      <td>72</td>\n      <td>13</td>\n      <td>81966</td>\n      <td>NaN</td>\n      <td>NaN</td>\n      <td>NaN</td>\n      <td>NaN</td>\n      <td>NaN</td>\n      <td>NaN</td>\n      <td>20780</td>\n    </tr>\n    <tr>\n      <th>830</th>\n      <td>Bayamón Municipio, Puerto Rico</td>\n      <td>72</td>\n      <td>21</td>\n      <td>169269</td>\n      <td>NaN</td>\n      <td>NaN</td>\n      <td>NaN</td>\n      <td>NaN</td>\n      <td>NaN</td>\n      <td>NaN</td>\n      <td>53730</td>\n    </tr>\n    <tr>\n      <th>831</th>\n      <td>Caguas Municipio, Puerto Rico</td>\n      <td>72</td>\n      <td>25</td>\n      <td>124606</td>\n      <td>NaN</td>\n      <td>NaN</td>\n      <td>NaN</td>\n      <td>NaN</td>\n      <td>NaN</td>\n      <td>NaN</td>\n      <td>39305</td>\n    </tr>\n    <tr>\n      <th>832</th>\n      <td>Carolina Municipio, Puerto Rico</td>\n      <td>72</td>\n      <td>31</td>\n      <td>146984</td>\n      <td>NaN</td>\n      <td>NaN</td>\n      <td>NaN</td>\n      <td>NaN</td>\n      <td>NaN</td>\n      <td>NaN</td>\n      <td>48385</td>\n    </tr>\n    <tr>\n      <th>833</th>\n      <td>Guaynabo Municipio, Puerto Rico</td>\n      <td>72</td>\n      <td>61</td>\n      <td>83728</td>\n      <td>NaN</td>\n      <td>NaN</td>\n      <td>NaN</td>\n      <td>NaN</td>\n      <td>NaN</td>\n      <td>NaN</td>\n      <td>30465</td>\n    </tr>\n    <tr>\n      <th>834</th>\n      <td>Mayagüez Municipio, Puerto Rico</td>\n      <td>72</td>\n      <td>97</td>\n      <td>71530</td>\n      <td>NaN</td>\n      <td>NaN</td>\n      <td>NaN</td>\n      <td>NaN</td>\n      <td>NaN</td>\n      <td>NaN</td>\n      <td>16695</td>\n    </tr>\n    <tr>\n      <th>835</th>\n      <td>Ponce Municipio, Puerto Rico</td>\n      <td>72</td>\n      <td>113</td>\n      <td>131881</td>\n      <td>NaN</td>\n      <td>NaN</td>\n      <td>NaN</td>\n      <td>NaN</td>\n      <td>NaN</td>\n      <td>NaN</td>\n      <td>31635</td>\n    </tr>\n    <tr>\n      <th>836</th>\n      <td>San Juan Municipio, Puerto Rico</td>\n      <td>72</td>\n      <td>127</td>\n      <td>318441</td>\n      <td>NaN</td>\n      <td>NaN</td>\n      <td>NaN</td>\n      <td>NaN</td>\n      <td>NaN</td>\n      <td>NaN</td>\n      <td>92055</td>\n    </tr>\n    <tr>\n      <th>837</th>\n      <td>Toa Alta Municipio, Puerto Rico</td>\n      <td>72</td>\n      <td>135</td>\n      <td>72025</td>\n      <td>NaN</td>\n      <td>NaN</td>\n      <td>NaN</td>\n      <td>NaN</td>\n      <td>NaN</td>\n      <td>NaN</td>\n      <td>24230</td>\n    </tr>\n    <tr>\n      <th>838</th>\n      <td>Toa Baja Municipio, Puerto Rico</td>\n      <td>72</td>\n      <td>137</td>\n      <td>74271</td>\n      <td>NaN</td>\n      <td>NaN</td>\n      <td>NaN</td>\n      <td>NaN</td>\n      <td>NaN</td>\n      <td>NaN</td>\n      <td>22900</td>\n    </tr>\n    <tr>\n      <th>839</th>\n      <td>Trujillo Alto Municipio, Puerto Rico</td>\n      <td>72</td>\n      <td>139</td>\n      <td>63674</td>\n      <td>NaN</td>\n      <td>NaN</td>\n      <td>NaN</td>\n      <td>NaN</td>\n      <td>NaN</td>\n      <td>NaN</td>\n      <td>25900</td>\n    </tr>\n  </tbody>\n</table>\n</div>"
     },
     "execution_count": 237,
     "metadata": {},
     "output_type": "execute_result"
    }
   ],
   "source": [
    "educ_vehicle_2019.NAME.duplicated().sum()\n",
    "educ_vehicle_2019.isnull().sum()\n",
    "educ_vehicle_2019.loc[educ_vehicle_2019.isnull().any(axis=1)]"
   ],
   "metadata": {
    "collapsed": false,
    "pycharm": {
     "name": "#%%\n"
    }
   }
  },
  {
   "cell_type": "markdown",
   "source": [
    "* All Missing values are Puerto Rico counties similar to previous data sets\n",
    "* Census Bureau keeps Puerto Rico as separate data column for education\n",
    "* No duplicated data shown"
   ],
   "metadata": {
    "collapsed": false
   }
  },
  {
   "cell_type": "code",
   "execution_count": 238,
   "outputs": [
    {
     "data": {
      "text/plain": "                                     NAME  state  county     POP  \\\n0                 Baldwin County, Alabama      1       3  223234   \n1                 Calhoun County, Alabama      1      15  113605   \n2                 Cullman County, Alabama      1      43   83768   \n3                  DeKalb County, Alabama      1      49   71513   \n4                  Elmore County, Alabama      1      51   81209   \n..                                    ...    ...     ...     ...   \n835          Ponce Municipio, Puerto Rico     72     113  131881   \n836       San Juan Municipio, Puerto Rico     72     127  318441   \n837       Toa Alta Municipio, Puerto Rico     72     135   72025   \n838       Toa Baja Municipio, Puerto Rico     72     137   74271   \n839  Trujillo Alto Municipio, Puerto Rico     72     139   63674   \n\n     EDU_TOT_ratio  LESS_HS_TOT_ratio  HS_TOT_ratio  COL_OR_ASSOC_TOT_ratio  \\\n0        71.546897           6.790184     18.762375               22.937366   \n1        69.613133          10.734563     24.010387               21.438317   \n2        70.187900          13.148219     21.397192               24.610830   \n3        65.732105          14.043600     25.003845               18.295974   \n4        70.870224           7.314460     24.617961               21.316603   \n..             ...                ...           ...                     ...   \n835            NaN                NaN           NaN                     NaN   \n836            NaN                NaN           NaN                     NaN   \n837            NaN                NaN           NaN                     NaN   \n838            NaN                NaN           NaN                     NaN   \n839            NaN                NaN           NaN                     NaN   \n\n     BACH_TOT_ratio  GRAD_TOT_ratio  VEHICLE_TOT_ratio  \n0         14.684591        8.372381          38.152790  \n1          7.994366        5.435500          36.380441  \n2          7.085044        3.946614          38.009741  \n3          5.164096        3.224589          39.244613  \n4         11.597237        6.023963          40.642047  \n..              ...             ...                ...  \n835             NaN             NaN          23.987534  \n836             NaN             NaN          28.908024  \n837             NaN             NaN          33.641097  \n838             NaN             NaN          30.833030  \n839             NaN             NaN          40.675943  \n\n[840 rows x 11 columns]",
      "text/html": "<div>\n<style scoped>\n    .dataframe tbody tr th:only-of-type {\n        vertical-align: middle;\n    }\n\n    .dataframe tbody tr th {\n        vertical-align: top;\n    }\n\n    .dataframe thead th {\n        text-align: right;\n    }\n</style>\n<table border=\"1\" class=\"dataframe\">\n  <thead>\n    <tr style=\"text-align: right;\">\n      <th></th>\n      <th>NAME</th>\n      <th>state</th>\n      <th>county</th>\n      <th>POP</th>\n      <th>EDU_TOT_ratio</th>\n      <th>LESS_HS_TOT_ratio</th>\n      <th>HS_TOT_ratio</th>\n      <th>COL_OR_ASSOC_TOT_ratio</th>\n      <th>BACH_TOT_ratio</th>\n      <th>GRAD_TOT_ratio</th>\n      <th>VEHICLE_TOT_ratio</th>\n    </tr>\n  </thead>\n  <tbody>\n    <tr>\n      <th>0</th>\n      <td>Baldwin County, Alabama</td>\n      <td>1</td>\n      <td>3</td>\n      <td>223234</td>\n      <td>71.546897</td>\n      <td>6.790184</td>\n      <td>18.762375</td>\n      <td>22.937366</td>\n      <td>14.684591</td>\n      <td>8.372381</td>\n      <td>38.152790</td>\n    </tr>\n    <tr>\n      <th>1</th>\n      <td>Calhoun County, Alabama</td>\n      <td>1</td>\n      <td>15</td>\n      <td>113605</td>\n      <td>69.613133</td>\n      <td>10.734563</td>\n      <td>24.010387</td>\n      <td>21.438317</td>\n      <td>7.994366</td>\n      <td>5.435500</td>\n      <td>36.380441</td>\n    </tr>\n    <tr>\n      <th>2</th>\n      <td>Cullman County, Alabama</td>\n      <td>1</td>\n      <td>43</td>\n      <td>83768</td>\n      <td>70.187900</td>\n      <td>13.148219</td>\n      <td>21.397192</td>\n      <td>24.610830</td>\n      <td>7.085044</td>\n      <td>3.946614</td>\n      <td>38.009741</td>\n    </tr>\n    <tr>\n      <th>3</th>\n      <td>DeKalb County, Alabama</td>\n      <td>1</td>\n      <td>49</td>\n      <td>71513</td>\n      <td>65.732105</td>\n      <td>14.043600</td>\n      <td>25.003845</td>\n      <td>18.295974</td>\n      <td>5.164096</td>\n      <td>3.224589</td>\n      <td>39.244613</td>\n    </tr>\n    <tr>\n      <th>4</th>\n      <td>Elmore County, Alabama</td>\n      <td>1</td>\n      <td>51</td>\n      <td>81209</td>\n      <td>70.870224</td>\n      <td>7.314460</td>\n      <td>24.617961</td>\n      <td>21.316603</td>\n      <td>11.597237</td>\n      <td>6.023963</td>\n      <td>40.642047</td>\n    </tr>\n    <tr>\n      <th>...</th>\n      <td>...</td>\n      <td>...</td>\n      <td>...</td>\n      <td>...</td>\n      <td>...</td>\n      <td>...</td>\n      <td>...</td>\n      <td>...</td>\n      <td>...</td>\n      <td>...</td>\n      <td>...</td>\n    </tr>\n    <tr>\n      <th>835</th>\n      <td>Ponce Municipio, Puerto Rico</td>\n      <td>72</td>\n      <td>113</td>\n      <td>131881</td>\n      <td>NaN</td>\n      <td>NaN</td>\n      <td>NaN</td>\n      <td>NaN</td>\n      <td>NaN</td>\n      <td>NaN</td>\n      <td>23.987534</td>\n    </tr>\n    <tr>\n      <th>836</th>\n      <td>San Juan Municipio, Puerto Rico</td>\n      <td>72</td>\n      <td>127</td>\n      <td>318441</td>\n      <td>NaN</td>\n      <td>NaN</td>\n      <td>NaN</td>\n      <td>NaN</td>\n      <td>NaN</td>\n      <td>NaN</td>\n      <td>28.908024</td>\n    </tr>\n    <tr>\n      <th>837</th>\n      <td>Toa Alta Municipio, Puerto Rico</td>\n      <td>72</td>\n      <td>135</td>\n      <td>72025</td>\n      <td>NaN</td>\n      <td>NaN</td>\n      <td>NaN</td>\n      <td>NaN</td>\n      <td>NaN</td>\n      <td>NaN</td>\n      <td>33.641097</td>\n    </tr>\n    <tr>\n      <th>838</th>\n      <td>Toa Baja Municipio, Puerto Rico</td>\n      <td>72</td>\n      <td>137</td>\n      <td>74271</td>\n      <td>NaN</td>\n      <td>NaN</td>\n      <td>NaN</td>\n      <td>NaN</td>\n      <td>NaN</td>\n      <td>NaN</td>\n      <td>30.833030</td>\n    </tr>\n    <tr>\n      <th>839</th>\n      <td>Trujillo Alto Municipio, Puerto Rico</td>\n      <td>72</td>\n      <td>139</td>\n      <td>63674</td>\n      <td>NaN</td>\n      <td>NaN</td>\n      <td>NaN</td>\n      <td>NaN</td>\n      <td>NaN</td>\n      <td>NaN</td>\n      <td>40.675943</td>\n    </tr>\n  </tbody>\n</table>\n<p>840 rows × 11 columns</p>\n</div>"
     },
     "metadata": {},
     "output_type": "display_data"
    }
   ],
   "source": [
    "edu_vehicle_estimates = educ_vehicle_2019.columns.values[4:]\n",
    "# educ_vehicle_2017\n",
    "\n",
    "for est in edu_vehicle_estimates:\n",
    "    educ_vehicle_2019[est + '_ratio'] = educ_vehicle_2019[est] / educ_vehicle_2019['POP'] * 100\n",
    "    educ_vehicle_2019.drop(est, axis=1, inplace=True)\n",
    "\n",
    "# convert into ratios\n",
    "display(educ_vehicle_2019)"
   ],
   "metadata": {
    "collapsed": false,
    "pycharm": {
     "name": "#%%\n"
    }
   }
  },
  {
   "cell_type": "markdown",
   "source": [
    "* convert all estimates of education and vehicles of a county to a ratio of estimated total / population of county\n",
    "* retrieve ratio estimate to county population\n"
   ],
   "metadata": {
    "collapsed": false
   }
  },
  {
   "cell_type": "markdown",
   "source": [
    "# clean AQI and County demographic data"
   ],
   "metadata": {
    "collapsed": false
   }
  },
  {
   "cell_type": "code",
   "execution_count": 239,
   "outputs": [],
   "source": [
    "# add GeoFIPS for NE_aqi_2019\n",
    "\n",
    "aqi_2017 = get_df_with_geofips(daily_aqi_by_county_2017, 'State Code', 'County Code')\n",
    "aqi_2018 = get_df_with_geofips(daily_aqi_by_county_2018, 'State Code', 'County Code')\n",
    "aqi_2019 = get_df_with_geofips(daily_aqi_by_county_2019, 'State Code', 'County Code')"
   ],
   "metadata": {
    "collapsed": false,
    "pycharm": {
     "name": "#%%\n"
    }
   }
  },
  {
   "cell_type": "code",
   "source": [
    "## clean AQI data\n",
    "cols_to_remove = ['Defining Site', 'Number of Sites Reporting', 'State Code', 'County Code']\n",
    "\n",
    "\n",
    "aqi_2017 = remove_col(aqi_2017, cols_to_remove)\n",
    "aqi_2018 = remove_col(aqi_2018, cols_to_remove)\n",
    "aqi_2019 = remove_col(aqi_2019, cols_to_remove)"
   ],
   "metadata": {
    "collapsed": false,
    "pycharm": {
     "name": "#%%\n"
    }
   },
   "execution_count": 240,
   "outputs": []
  },
  {
   "cell_type": "code",
   "execution_count": 241,
   "outputs": [],
   "source": [
    "AQI_metrics = aqi_2017.columns[3:]\n",
    "\n",
    "for metric in AQI_metrics:\n",
    "    aqi_2017.rename(columns={metric:metric + '_2017'}, inplace=True)\n",
    "    aqi_2018.rename(columns={metric:metric + '_2018'}, inplace=True)\n",
    "    aqi_2019.rename(columns={metric:metric + '_2019'}, inplace=True)\n"
   ],
   "metadata": {
    "collapsed": false,
    "pycharm": {
     "name": "#%%\n"
    }
   }
  },
  {
   "cell_type": "markdown",
   "source": [
    "* Give appropriate year name to columns to distinguish them before merging"
   ],
   "metadata": {
    "collapsed": false
   }
  },
  {
   "cell_type": "code",
   "execution_count": 242,
   "outputs": [
    {
     "name": "stdout",
     "output_type": "stream",
     "text": [
      "Index(['GeoFIPS', 'State Name', 'county Name', 'Date_2017', 'AQI_2017',\n",
      "       'Category_2017', 'Defining Parameter_2017'],\n",
      "      dtype='object')\n"
     ]
    },
    {
     "data": {
      "text/plain": "  GeoFIPS State Name county Name   Date_2017  AQI_2017 Category_2017  \\\n0   01003    Alabama     Baldwin  2017-01-01        21          Good   \n1   01003    Alabama     Baldwin  2017-01-04        22          Good   \n2   01003    Alabama     Baldwin  2017-01-10        19          Good   \n3   01003    Alabama     Baldwin  2017-01-13        30          Good   \n4   01003    Alabama     Baldwin  2017-01-16        16          Good   \n\n  Defining Parameter_2017  \n0                   PM2.5  \n1                   PM2.5  \n2                   PM2.5  \n3                   PM2.5  \n4                   PM2.5  ",
      "text/html": "<div>\n<style scoped>\n    .dataframe tbody tr th:only-of-type {\n        vertical-align: middle;\n    }\n\n    .dataframe tbody tr th {\n        vertical-align: top;\n    }\n\n    .dataframe thead th {\n        text-align: right;\n    }\n</style>\n<table border=\"1\" class=\"dataframe\">\n  <thead>\n    <tr style=\"text-align: right;\">\n      <th></th>\n      <th>GeoFIPS</th>\n      <th>State Name</th>\n      <th>county Name</th>\n      <th>Date_2017</th>\n      <th>AQI_2017</th>\n      <th>Category_2017</th>\n      <th>Defining Parameter_2017</th>\n    </tr>\n  </thead>\n  <tbody>\n    <tr>\n      <th>0</th>\n      <td>01003</td>\n      <td>Alabama</td>\n      <td>Baldwin</td>\n      <td>2017-01-01</td>\n      <td>21</td>\n      <td>Good</td>\n      <td>PM2.5</td>\n    </tr>\n    <tr>\n      <th>1</th>\n      <td>01003</td>\n      <td>Alabama</td>\n      <td>Baldwin</td>\n      <td>2017-01-04</td>\n      <td>22</td>\n      <td>Good</td>\n      <td>PM2.5</td>\n    </tr>\n    <tr>\n      <th>2</th>\n      <td>01003</td>\n      <td>Alabama</td>\n      <td>Baldwin</td>\n      <td>2017-01-10</td>\n      <td>19</td>\n      <td>Good</td>\n      <td>PM2.5</td>\n    </tr>\n    <tr>\n      <th>3</th>\n      <td>01003</td>\n      <td>Alabama</td>\n      <td>Baldwin</td>\n      <td>2017-01-13</td>\n      <td>30</td>\n      <td>Good</td>\n      <td>PM2.5</td>\n    </tr>\n    <tr>\n      <th>4</th>\n      <td>01003</td>\n      <td>Alabama</td>\n      <td>Baldwin</td>\n      <td>2017-01-16</td>\n      <td>16</td>\n      <td>Good</td>\n      <td>PM2.5</td>\n    </tr>\n  </tbody>\n</table>\n</div>"
     },
     "execution_count": 242,
     "metadata": {},
     "output_type": "execute_result"
    }
   ],
   "source": [
    "print(aqi_2017.columns)\n",
    "aqi_2017.head()\n"
   ],
   "metadata": {
    "collapsed": false,
    "pycharm": {
     "name": "#%%\n"
    }
   }
  },
  {
   "cell_type": "code",
   "execution_count": 243,
   "outputs": [
    {
     "name": "stdout",
     "output_type": "stream",
     "text": [
      "Index(['GeoFIPS', 'State Name', 'county Name', 'Date_2017', 'AQI_2017',\n",
      "       'Category_2017', 'Defining Parameter_2017'],\n",
      "      dtype='object')\n"
     ]
    },
    {
     "data": {
      "text/plain": "     GeoFIPS         State Name            county Name   AQI_2017\n0      01003            Alabama                Baldwin  37.503704\n1      01027            Alabama                   Clay  32.457627\n2      01033            Alabama                Colbert  36.155477\n3      01049            Alabama                 DeKalb  38.239554\n4      01051            Alabama                 Elmore  34.371681\n...      ...                ...                    ...        ...\n1057   72127        Puerto Rico               San Juan   9.357724\n1058   78010     Virgin Islands               St Croix  24.346154\n1059   78020     Virgin Islands                St John  26.223881\n1060   80002  Country Of Mexico  BAJA CALIFORNIA NORTE  74.343490\n1061   80026  Country Of Mexico                 SONORA  41.282297\n\n[1062 rows x 4 columns]",
      "text/html": "<div>\n<style scoped>\n    .dataframe tbody tr th:only-of-type {\n        vertical-align: middle;\n    }\n\n    .dataframe tbody tr th {\n        vertical-align: top;\n    }\n\n    .dataframe thead th {\n        text-align: right;\n    }\n</style>\n<table border=\"1\" class=\"dataframe\">\n  <thead>\n    <tr style=\"text-align: right;\">\n      <th></th>\n      <th>GeoFIPS</th>\n      <th>State Name</th>\n      <th>county Name</th>\n      <th>AQI_2017</th>\n    </tr>\n  </thead>\n  <tbody>\n    <tr>\n      <th>0</th>\n      <td>01003</td>\n      <td>Alabama</td>\n      <td>Baldwin</td>\n      <td>37.503704</td>\n    </tr>\n    <tr>\n      <th>1</th>\n      <td>01027</td>\n      <td>Alabama</td>\n      <td>Clay</td>\n      <td>32.457627</td>\n    </tr>\n    <tr>\n      <th>2</th>\n      <td>01033</td>\n      <td>Alabama</td>\n      <td>Colbert</td>\n      <td>36.155477</td>\n    </tr>\n    <tr>\n      <th>3</th>\n      <td>01049</td>\n      <td>Alabama</td>\n      <td>DeKalb</td>\n      <td>38.239554</td>\n    </tr>\n    <tr>\n      <th>4</th>\n      <td>01051</td>\n      <td>Alabama</td>\n      <td>Elmore</td>\n      <td>34.371681</td>\n    </tr>\n    <tr>\n      <th>...</th>\n      <td>...</td>\n      <td>...</td>\n      <td>...</td>\n      <td>...</td>\n    </tr>\n    <tr>\n      <th>1057</th>\n      <td>72127</td>\n      <td>Puerto Rico</td>\n      <td>San Juan</td>\n      <td>9.357724</td>\n    </tr>\n    <tr>\n      <th>1058</th>\n      <td>78010</td>\n      <td>Virgin Islands</td>\n      <td>St Croix</td>\n      <td>24.346154</td>\n    </tr>\n    <tr>\n      <th>1059</th>\n      <td>78020</td>\n      <td>Virgin Islands</td>\n      <td>St John</td>\n      <td>26.223881</td>\n    </tr>\n    <tr>\n      <th>1060</th>\n      <td>80002</td>\n      <td>Country Of Mexico</td>\n      <td>BAJA CALIFORNIA NORTE</td>\n      <td>74.343490</td>\n    </tr>\n    <tr>\n      <th>1061</th>\n      <td>80026</td>\n      <td>Country Of Mexico</td>\n      <td>SONORA</td>\n      <td>41.282297</td>\n    </tr>\n  </tbody>\n</table>\n<p>1062 rows × 4 columns</p>\n</div>"
     },
     "metadata": {},
     "output_type": "display_data"
    },
    {
     "data": {
      "text/plain": "     GeoFIPS         State Name            county Name   AQI_2018\n0      01003            Alabama                Baldwin  36.829630\n1      01027            Alabama                   Clay  28.990909\n2      01033            Alabama                Colbert  35.635379\n3      01049            Alabama                 DeKalb  36.720000\n4      01051            Alabama                 Elmore  35.328829\n...      ...                ...                    ...        ...\n1051   78010     Virgin Islands               St Croix  29.090909\n1052   78020     Virgin Islands                St John  21.000000\n1053   78030     Virgin Islands              St Thomas  33.207650\n1054   80002  Country Of Mexico  BAJA CALIFORNIA NORTE  85.000000\n1055   80026  Country Of Mexico                 SONORA  40.477901\n\n[1056 rows x 4 columns]",
      "text/html": "<div>\n<style scoped>\n    .dataframe tbody tr th:only-of-type {\n        vertical-align: middle;\n    }\n\n    .dataframe tbody tr th {\n        vertical-align: top;\n    }\n\n    .dataframe thead th {\n        text-align: right;\n    }\n</style>\n<table border=\"1\" class=\"dataframe\">\n  <thead>\n    <tr style=\"text-align: right;\">\n      <th></th>\n      <th>GeoFIPS</th>\n      <th>State Name</th>\n      <th>county Name</th>\n      <th>AQI_2018</th>\n    </tr>\n  </thead>\n  <tbody>\n    <tr>\n      <th>0</th>\n      <td>01003</td>\n      <td>Alabama</td>\n      <td>Baldwin</td>\n      <td>36.829630</td>\n    </tr>\n    <tr>\n      <th>1</th>\n      <td>01027</td>\n      <td>Alabama</td>\n      <td>Clay</td>\n      <td>28.990909</td>\n    </tr>\n    <tr>\n      <th>2</th>\n      <td>01033</td>\n      <td>Alabama</td>\n      <td>Colbert</td>\n      <td>35.635379</td>\n    </tr>\n    <tr>\n      <th>3</th>\n      <td>01049</td>\n      <td>Alabama</td>\n      <td>DeKalb</td>\n      <td>36.720000</td>\n    </tr>\n    <tr>\n      <th>4</th>\n      <td>01051</td>\n      <td>Alabama</td>\n      <td>Elmore</td>\n      <td>35.328829</td>\n    </tr>\n    <tr>\n      <th>...</th>\n      <td>...</td>\n      <td>...</td>\n      <td>...</td>\n      <td>...</td>\n    </tr>\n    <tr>\n      <th>1051</th>\n      <td>78010</td>\n      <td>Virgin Islands</td>\n      <td>St Croix</td>\n      <td>29.090909</td>\n    </tr>\n    <tr>\n      <th>1052</th>\n      <td>78020</td>\n      <td>Virgin Islands</td>\n      <td>St John</td>\n      <td>21.000000</td>\n    </tr>\n    <tr>\n      <th>1053</th>\n      <td>78030</td>\n      <td>Virgin Islands</td>\n      <td>St Thomas</td>\n      <td>33.207650</td>\n    </tr>\n    <tr>\n      <th>1054</th>\n      <td>80002</td>\n      <td>Country Of Mexico</td>\n      <td>BAJA CALIFORNIA NORTE</td>\n      <td>85.000000</td>\n    </tr>\n    <tr>\n      <th>1055</th>\n      <td>80026</td>\n      <td>Country Of Mexico</td>\n      <td>SONORA</td>\n      <td>40.477901</td>\n    </tr>\n  </tbody>\n</table>\n<p>1056 rows × 4 columns</p>\n</div>"
     },
     "metadata": {},
     "output_type": "display_data"
    },
    {
     "data": {
      "text/plain": "     GeoFIPS         State Name            county Name   AQI_2019\n0      01003            Alabama                Baldwin  38.291513\n1      01027            Alabama                   Clay  31.149533\n2      01033            Alabama                Colbert  35.520913\n3      01049            Alabama                 DeKalb  39.711911\n4      01051            Alabama                 Elmore  38.421053\n...      ...                ...                    ...        ...\n1048   78010     Virgin Islands               St Croix  24.877193\n1049   78020     Virgin Islands                St John  21.752475\n1050   78030     Virgin Islands              St Thomas  32.738806\n1051   80002  Country Of Mexico  BAJA CALIFORNIA NORTE  77.125000\n1052   80026  Country Of Mexico                 SONORA  44.416201\n\n[1053 rows x 4 columns]",
      "text/html": "<div>\n<style scoped>\n    .dataframe tbody tr th:only-of-type {\n        vertical-align: middle;\n    }\n\n    .dataframe tbody tr th {\n        vertical-align: top;\n    }\n\n    .dataframe thead th {\n        text-align: right;\n    }\n</style>\n<table border=\"1\" class=\"dataframe\">\n  <thead>\n    <tr style=\"text-align: right;\">\n      <th></th>\n      <th>GeoFIPS</th>\n      <th>State Name</th>\n      <th>county Name</th>\n      <th>AQI_2019</th>\n    </tr>\n  </thead>\n  <tbody>\n    <tr>\n      <th>0</th>\n      <td>01003</td>\n      <td>Alabama</td>\n      <td>Baldwin</td>\n      <td>38.291513</td>\n    </tr>\n    <tr>\n      <th>1</th>\n      <td>01027</td>\n      <td>Alabama</td>\n      <td>Clay</td>\n      <td>31.149533</td>\n    </tr>\n    <tr>\n      <th>2</th>\n      <td>01033</td>\n      <td>Alabama</td>\n      <td>Colbert</td>\n      <td>35.520913</td>\n    </tr>\n    <tr>\n      <th>3</th>\n      <td>01049</td>\n      <td>Alabama</td>\n      <td>DeKalb</td>\n      <td>39.711911</td>\n    </tr>\n    <tr>\n      <th>4</th>\n      <td>01051</td>\n      <td>Alabama</td>\n      <td>Elmore</td>\n      <td>38.421053</td>\n    </tr>\n    <tr>\n      <th>...</th>\n      <td>...</td>\n      <td>...</td>\n      <td>...</td>\n      <td>...</td>\n    </tr>\n    <tr>\n      <th>1048</th>\n      <td>78010</td>\n      <td>Virgin Islands</td>\n      <td>St Croix</td>\n      <td>24.877193</td>\n    </tr>\n    <tr>\n      <th>1049</th>\n      <td>78020</td>\n      <td>Virgin Islands</td>\n      <td>St John</td>\n      <td>21.752475</td>\n    </tr>\n    <tr>\n      <th>1050</th>\n      <td>78030</td>\n      <td>Virgin Islands</td>\n      <td>St Thomas</td>\n      <td>32.738806</td>\n    </tr>\n    <tr>\n      <th>1051</th>\n      <td>80002</td>\n      <td>Country Of Mexico</td>\n      <td>BAJA CALIFORNIA NORTE</td>\n      <td>77.125000</td>\n    </tr>\n    <tr>\n      <th>1052</th>\n      <td>80026</td>\n      <td>Country Of Mexico</td>\n      <td>SONORA</td>\n      <td>44.416201</td>\n    </tr>\n  </tbody>\n</table>\n<p>1053 rows × 4 columns</p>\n</div>"
     },
     "metadata": {},
     "output_type": "display_data"
    }
   ],
   "source": [
    "print(aqi_2017.columns)\n",
    "average_aqi_2017 = aqi_2017.groupby(['GeoFIPS', 'State Name', 'county Name'], as_index=False)[['AQI_2017']].mean()\n",
    "average_aqi_2018 = aqi_2018.groupby(['GeoFIPS', 'State Name', 'county Name'], as_index=False)[['AQI_2018']].mean()\n",
    "average_aqi_2019 = aqi_2019.groupby(['GeoFIPS', 'State Name', 'county Name'], as_index=False)[['AQI_2019']].mean()\n",
    "\n",
    "display(average_aqi_2017)\n",
    "display(average_aqi_2018)\n",
    "display(average_aqi_2019)"
   ],
   "metadata": {
    "collapsed": false,
    "pycharm": {
     "name": "#%%\n"
    }
   }
  },
  {
   "cell_type": "markdown",
   "source": [
    "## clean demographic data\n"
   ],
   "metadata": {
    "collapsed": false
   }
  },
  {
   "cell_type": "code",
   "execution_count": 244,
   "outputs": [],
   "source": [
    "county_demographic = county_demographic.loc[county_demographic.YEAR > 9]\n",
    "# keep only totals of dem; disregard ages\n",
    "county_demographic = county_demographic.loc[county_demographic.AGEGRP == 0]"
   ],
   "metadata": {
    "collapsed": false,
    "pycharm": {
     "name": "#%%\n"
    }
   }
  },
  {
   "cell_type": "markdown",
   "source": [
    "* county_demographic contains all county demographic data for US\n",
    "* Only 2017-2019 data is retained\n",
    "* All age groups are considered for ethnicities"
   ],
   "metadata": {
    "collapsed": false
   }
  },
  {
   "cell_type": "code",
   "execution_count": 245,
   "outputs": [
    {
     "data": {
      "text/plain": "        SUMLEV  STATE  COUNTY   STNAME          CTYNAME  YEAR  AGEGRP  \\\n171         50      1       1  Alabama   Autauga County    10       0   \n190         50      1       1  Alabama   Autauga County    11       0   \n209         50      1       1  Alabama   Autauga County    12       0   \n399         50      1       3  Alabama   Baldwin County    10       0   \n418         50      1       3  Alabama   Baldwin County    11       0   \n...        ...    ...     ...      ...              ...   ...     ...   \n716110      50     56      43  Wyoming  Washakie County    11       0   \n716129      50     56      43  Wyoming  Washakie County    12       0   \n716319      50     56      45  Wyoming    Weston County    10       0   \n716338      50     56      45  Wyoming    Weston County    11       0   \n716357      50     56      45  Wyoming    Weston County    12       0   \n\n        TOT_POP  TOT_MALE_ratio  TOT_FEMALE_ratio  ...  HWAC_MALE_ratio  \\\n171       55390       48.763315         51.236685  ...         1.261961   \n190       55533       48.630544         51.369456  ...         1.375759   \n209       55869       48.492008         51.507992  ...         1.392543   \n399      212521       48.568377         51.431623  ...         2.243072   \n418      217855       48.519428         51.480572  ...         2.281334   \n...         ...             ...               ...  ...              ...   \n716110     7877       50.577631         49.422369  ...         6.538022   \n716129     7805       50.775144         49.224856  ...         6.559898   \n716319     6968       52.525832         47.474168  ...         2.009185   \n716338     6924       52.383016         47.616984  ...         1.906412   \n716357     6927       52.317020         47.682980  ...         1.905587   \n\n        HWAC_FEMALE_ratio  HBAC_MALE_ratio  HBAC_FEMALE_ratio  \\\n171              1.160859         0.200397           0.140820   \n190              1.210091         0.162066           0.135055   \n209              1.229662         0.159301           0.166461   \n399              2.000743         0.121870           0.127046   \n418              2.053201         0.120722           0.120722   \n...                   ...              ...                ...   \n716110           6.207947         0.114257           0.101562   \n716129           6.265215         0.089686           0.115311   \n716319           1.693456         0.086108           0.100459   \n716338           1.617562         0.086655           0.115540   \n716357           1.732352         0.072181           0.115490   \n\n        HIAC_MALE_ratio  HIAC_FEMALE_ratio  HAAC_MALE_ratio  \\\n171            0.070410           0.074021         0.021665   \n190            0.070229           0.057623         0.036015   \n209            0.071596           0.048327         0.026849   \n399            0.112930           0.076228         0.019763   \n418            0.118427           0.085378         0.028459   \n...                 ...                ...              ...   \n716110         0.710931           0.723626         0.063476   \n716129         0.691864           0.755926         0.089686   \n716319         0.330080           0.258324         0.028703   \n716338         0.346620           0.317735         0.072213   \n716357         0.332034           0.288725         0.086618   \n\n        HAAC_FEMALE_ratio  HNAC_MALE_ratio  HNAC_FEMALE_ratio  \n171              0.027081         0.030691           0.027081  \n190              0.028812         0.034214           0.023410  \n209              0.034008         0.028638           0.019689  \n399              0.026350         0.020704           0.018822  \n418              0.025705         0.022951           0.014230  \n...                   ...              ...                ...  \n716110           0.101562         0.063476           0.050781  \n716129           0.102498         0.051249           0.025625  \n716319           0.086108         0.028703           0.028703  \n716338           0.014443         0.014443           0.000000  \n716357           0.057745         0.028873           0.000000  \n\n[9426 rows x 80 columns]",
      "text/html": "<div>\n<style scoped>\n    .dataframe tbody tr th:only-of-type {\n        vertical-align: middle;\n    }\n\n    .dataframe tbody tr th {\n        vertical-align: top;\n    }\n\n    .dataframe thead th {\n        text-align: right;\n    }\n</style>\n<table border=\"1\" class=\"dataframe\">\n  <thead>\n    <tr style=\"text-align: right;\">\n      <th></th>\n      <th>SUMLEV</th>\n      <th>STATE</th>\n      <th>COUNTY</th>\n      <th>STNAME</th>\n      <th>CTYNAME</th>\n      <th>YEAR</th>\n      <th>AGEGRP</th>\n      <th>TOT_POP</th>\n      <th>TOT_MALE_ratio</th>\n      <th>TOT_FEMALE_ratio</th>\n      <th>...</th>\n      <th>HWAC_MALE_ratio</th>\n      <th>HWAC_FEMALE_ratio</th>\n      <th>HBAC_MALE_ratio</th>\n      <th>HBAC_FEMALE_ratio</th>\n      <th>HIAC_MALE_ratio</th>\n      <th>HIAC_FEMALE_ratio</th>\n      <th>HAAC_MALE_ratio</th>\n      <th>HAAC_FEMALE_ratio</th>\n      <th>HNAC_MALE_ratio</th>\n      <th>HNAC_FEMALE_ratio</th>\n    </tr>\n  </thead>\n  <tbody>\n    <tr>\n      <th>171</th>\n      <td>50</td>\n      <td>1</td>\n      <td>1</td>\n      <td>Alabama</td>\n      <td>Autauga County</td>\n      <td>10</td>\n      <td>0</td>\n      <td>55390</td>\n      <td>48.763315</td>\n      <td>51.236685</td>\n      <td>...</td>\n      <td>1.261961</td>\n      <td>1.160859</td>\n      <td>0.200397</td>\n      <td>0.140820</td>\n      <td>0.070410</td>\n      <td>0.074021</td>\n      <td>0.021665</td>\n      <td>0.027081</td>\n      <td>0.030691</td>\n      <td>0.027081</td>\n    </tr>\n    <tr>\n      <th>190</th>\n      <td>50</td>\n      <td>1</td>\n      <td>1</td>\n      <td>Alabama</td>\n      <td>Autauga County</td>\n      <td>11</td>\n      <td>0</td>\n      <td>55533</td>\n      <td>48.630544</td>\n      <td>51.369456</td>\n      <td>...</td>\n      <td>1.375759</td>\n      <td>1.210091</td>\n      <td>0.162066</td>\n      <td>0.135055</td>\n      <td>0.070229</td>\n      <td>0.057623</td>\n      <td>0.036015</td>\n      <td>0.028812</td>\n      <td>0.034214</td>\n      <td>0.023410</td>\n    </tr>\n    <tr>\n      <th>209</th>\n      <td>50</td>\n      <td>1</td>\n      <td>1</td>\n      <td>Alabama</td>\n      <td>Autauga County</td>\n      <td>12</td>\n      <td>0</td>\n      <td>55869</td>\n      <td>48.492008</td>\n      <td>51.507992</td>\n      <td>...</td>\n      <td>1.392543</td>\n      <td>1.229662</td>\n      <td>0.159301</td>\n      <td>0.166461</td>\n      <td>0.071596</td>\n      <td>0.048327</td>\n      <td>0.026849</td>\n      <td>0.034008</td>\n      <td>0.028638</td>\n      <td>0.019689</td>\n    </tr>\n    <tr>\n      <th>399</th>\n      <td>50</td>\n      <td>1</td>\n      <td>3</td>\n      <td>Alabama</td>\n      <td>Baldwin County</td>\n      <td>10</td>\n      <td>0</td>\n      <td>212521</td>\n      <td>48.568377</td>\n      <td>51.431623</td>\n      <td>...</td>\n      <td>2.243072</td>\n      <td>2.000743</td>\n      <td>0.121870</td>\n      <td>0.127046</td>\n      <td>0.112930</td>\n      <td>0.076228</td>\n      <td>0.019763</td>\n      <td>0.026350</td>\n      <td>0.020704</td>\n      <td>0.018822</td>\n    </tr>\n    <tr>\n      <th>418</th>\n      <td>50</td>\n      <td>1</td>\n      <td>3</td>\n      <td>Alabama</td>\n      <td>Baldwin County</td>\n      <td>11</td>\n      <td>0</td>\n      <td>217855</td>\n      <td>48.519428</td>\n      <td>51.480572</td>\n      <td>...</td>\n      <td>2.281334</td>\n      <td>2.053201</td>\n      <td>0.120722</td>\n      <td>0.120722</td>\n      <td>0.118427</td>\n      <td>0.085378</td>\n      <td>0.028459</td>\n      <td>0.025705</td>\n      <td>0.022951</td>\n      <td>0.014230</td>\n    </tr>\n    <tr>\n      <th>...</th>\n      <td>...</td>\n      <td>...</td>\n      <td>...</td>\n      <td>...</td>\n      <td>...</td>\n      <td>...</td>\n      <td>...</td>\n      <td>...</td>\n      <td>...</td>\n      <td>...</td>\n      <td>...</td>\n      <td>...</td>\n      <td>...</td>\n      <td>...</td>\n      <td>...</td>\n      <td>...</td>\n      <td>...</td>\n      <td>...</td>\n      <td>...</td>\n      <td>...</td>\n      <td>...</td>\n    </tr>\n    <tr>\n      <th>716110</th>\n      <td>50</td>\n      <td>56</td>\n      <td>43</td>\n      <td>Wyoming</td>\n      <td>Washakie County</td>\n      <td>11</td>\n      <td>0</td>\n      <td>7877</td>\n      <td>50.577631</td>\n      <td>49.422369</td>\n      <td>...</td>\n      <td>6.538022</td>\n      <td>6.207947</td>\n      <td>0.114257</td>\n      <td>0.101562</td>\n      <td>0.710931</td>\n      <td>0.723626</td>\n      <td>0.063476</td>\n      <td>0.101562</td>\n      <td>0.063476</td>\n      <td>0.050781</td>\n    </tr>\n    <tr>\n      <th>716129</th>\n      <td>50</td>\n      <td>56</td>\n      <td>43</td>\n      <td>Wyoming</td>\n      <td>Washakie County</td>\n      <td>12</td>\n      <td>0</td>\n      <td>7805</td>\n      <td>50.775144</td>\n      <td>49.224856</td>\n      <td>...</td>\n      <td>6.559898</td>\n      <td>6.265215</td>\n      <td>0.089686</td>\n      <td>0.115311</td>\n      <td>0.691864</td>\n      <td>0.755926</td>\n      <td>0.089686</td>\n      <td>0.102498</td>\n      <td>0.051249</td>\n      <td>0.025625</td>\n    </tr>\n    <tr>\n      <th>716319</th>\n      <td>50</td>\n      <td>56</td>\n      <td>45</td>\n      <td>Wyoming</td>\n      <td>Weston County</td>\n      <td>10</td>\n      <td>0</td>\n      <td>6968</td>\n      <td>52.525832</td>\n      <td>47.474168</td>\n      <td>...</td>\n      <td>2.009185</td>\n      <td>1.693456</td>\n      <td>0.086108</td>\n      <td>0.100459</td>\n      <td>0.330080</td>\n      <td>0.258324</td>\n      <td>0.028703</td>\n      <td>0.086108</td>\n      <td>0.028703</td>\n      <td>0.028703</td>\n    </tr>\n    <tr>\n      <th>716338</th>\n      <td>50</td>\n      <td>56</td>\n      <td>45</td>\n      <td>Wyoming</td>\n      <td>Weston County</td>\n      <td>11</td>\n      <td>0</td>\n      <td>6924</td>\n      <td>52.383016</td>\n      <td>47.616984</td>\n      <td>...</td>\n      <td>1.906412</td>\n      <td>1.617562</td>\n      <td>0.086655</td>\n      <td>0.115540</td>\n      <td>0.346620</td>\n      <td>0.317735</td>\n      <td>0.072213</td>\n      <td>0.014443</td>\n      <td>0.014443</td>\n      <td>0.000000</td>\n    </tr>\n    <tr>\n      <th>716357</th>\n      <td>50</td>\n      <td>56</td>\n      <td>45</td>\n      <td>Wyoming</td>\n      <td>Weston County</td>\n      <td>12</td>\n      <td>0</td>\n      <td>6927</td>\n      <td>52.317020</td>\n      <td>47.682980</td>\n      <td>...</td>\n      <td>1.905587</td>\n      <td>1.732352</td>\n      <td>0.072181</td>\n      <td>0.115490</td>\n      <td>0.332034</td>\n      <td>0.288725</td>\n      <td>0.086618</td>\n      <td>0.057745</td>\n      <td>0.028873</td>\n      <td>0.000000</td>\n    </tr>\n  </tbody>\n</table>\n<p>9426 rows × 80 columns</p>\n</div>"
     },
     "metadata": {},
     "output_type": "display_data"
    }
   ],
   "source": [
    "demographic = county_demographic.columns.values[8:]\n",
    "county_dem_ratio = county_demographic\n",
    "\n",
    "for dem in demographic:\n",
    "    county_dem_ratio[dem] = county_demographic[dem] / county_demographic['TOT_POP'] * 100\n",
    "    county_dem_ratio.rename(columns={dem:dem + '_ratio'}, inplace=True)\n",
    "\n",
    "display(county_dem_ratio)"
   ],
   "metadata": {
    "collapsed": false,
    "pycharm": {
     "name": "#%%\n"
    }
   }
  },
  {
   "cell_type": "markdown",
   "source": [
    "* Columns of demographic ratios are produced\n",
    "* Ratios are demographic / county population\n"
   ],
   "metadata": {
    "collapsed": false
   }
  },
  {
   "cell_type": "code",
   "execution_count": 246,
   "outputs": [],
   "source": [
    "county_dem_ratio = get_df_with_geofips(county_dem_ratio, 'STATE', 'COUNTY')"
   ],
   "metadata": {
    "collapsed": false,
    "pycharm": {
     "name": "#%%\n"
    }
   }
  },
  {
   "cell_type": "code",
   "execution_count": 247,
   "outputs": [
    {
     "data": {
      "text/plain": "       GeoFIPS   STNAME          CTYNAME  YEAR  TOT_POP  TOT_MALE_ratio  \\\n171      01001  Alabama   Autauga County    10    55390       48.763315   \n190      01001  Alabama   Autauga County    11    55533       48.630544   \n209      01001  Alabama   Autauga County    12    55869       48.492008   \n399      01003  Alabama   Baldwin County    10   212521       48.568377   \n418      01003  Alabama   Baldwin County    11   217855       48.519428   \n...        ...      ...              ...   ...      ...             ...   \n716110   56043  Wyoming  Washakie County    11     7877       50.577631   \n716129   56043  Wyoming  Washakie County    12     7805       50.775144   \n716319   56045  Wyoming    Weston County    10     6968       52.525832   \n716338   56045  Wyoming    Weston County    11     6924       52.383016   \n716357   56045  Wyoming    Weston County    12     6927       52.317020   \n\n        TOT_FEMALE_ratio  WA_MALE_ratio  WA_FEMALE_ratio  BA_MALE_ratio  ...  \\\n171            51.236685      37.689114        39.185774       9.277848  ...   \n190            51.369456      37.665892        39.164101       9.212540  ...   \n209            51.507992      37.369561        38.892767       9.373714  ...   \n399            51.431623      42.518151        44.802631       4.366157  ...   \n418            51.480572      42.511303        44.899130       4.301944  ...   \n...                  ...            ...              ...            ...  ...   \n716110         49.422369      48.000508        46.591342       0.317380  ...   \n716129         49.224856      48.161435        46.354901       0.320307  ...   \n716319         47.474168      49.469001        44.646958       0.416188  ...   \n716338         47.616984      49.119006        44.381860       0.462161  ...   \n716357         47.682980      48.967807        44.203840       0.461960  ...   \n\n        HWAC_MALE_ratio  HWAC_FEMALE_ratio  HBAC_MALE_ratio  \\\n171            1.261961           1.160859         0.200397   \n190            1.375759           1.210091         0.162066   \n209            1.392543           1.229662         0.159301   \n399            2.243072           2.000743         0.121870   \n418            2.281334           2.053201         0.120722   \n...                 ...                ...              ...   \n716110         6.538022           6.207947         0.114257   \n716129         6.559898           6.265215         0.089686   \n716319         2.009185           1.693456         0.086108   \n716338         1.906412           1.617562         0.086655   \n716357         1.905587           1.732352         0.072181   \n\n        HBAC_FEMALE_ratio  HIAC_MALE_ratio  HIAC_FEMALE_ratio  \\\n171              0.140820         0.070410           0.074021   \n190              0.135055         0.070229           0.057623   \n209              0.166461         0.071596           0.048327   \n399              0.127046         0.112930           0.076228   \n418              0.120722         0.118427           0.085378   \n...                   ...              ...                ...   \n716110           0.101562         0.710931           0.723626   \n716129           0.115311         0.691864           0.755926   \n716319           0.100459         0.330080           0.258324   \n716338           0.115540         0.346620           0.317735   \n716357           0.115490         0.332034           0.288725   \n\n        HAAC_MALE_ratio  HAAC_FEMALE_ratio  HNAC_MALE_ratio  HNAC_FEMALE_ratio  \n171            0.021665           0.027081         0.030691           0.027081  \n190            0.036015           0.028812         0.034214           0.023410  \n209            0.026849           0.034008         0.028638           0.019689  \n399            0.019763           0.026350         0.020704           0.018822  \n418            0.028459           0.025705         0.022951           0.014230  \n...                 ...                ...              ...                ...  \n716110         0.063476           0.101562         0.063476           0.050781  \n716129         0.089686           0.102498         0.051249           0.025625  \n716319         0.028703           0.086108         0.028703           0.028703  \n716338         0.072213           0.014443         0.014443           0.000000  \n716357         0.086618           0.057745         0.028873           0.000000  \n\n[9426 rows x 77 columns]",
      "text/html": "<div>\n<style scoped>\n    .dataframe tbody tr th:only-of-type {\n        vertical-align: middle;\n    }\n\n    .dataframe tbody tr th {\n        vertical-align: top;\n    }\n\n    .dataframe thead th {\n        text-align: right;\n    }\n</style>\n<table border=\"1\" class=\"dataframe\">\n  <thead>\n    <tr style=\"text-align: right;\">\n      <th></th>\n      <th>GeoFIPS</th>\n      <th>STNAME</th>\n      <th>CTYNAME</th>\n      <th>YEAR</th>\n      <th>TOT_POP</th>\n      <th>TOT_MALE_ratio</th>\n      <th>TOT_FEMALE_ratio</th>\n      <th>WA_MALE_ratio</th>\n      <th>WA_FEMALE_ratio</th>\n      <th>BA_MALE_ratio</th>\n      <th>...</th>\n      <th>HWAC_MALE_ratio</th>\n      <th>HWAC_FEMALE_ratio</th>\n      <th>HBAC_MALE_ratio</th>\n      <th>HBAC_FEMALE_ratio</th>\n      <th>HIAC_MALE_ratio</th>\n      <th>HIAC_FEMALE_ratio</th>\n      <th>HAAC_MALE_ratio</th>\n      <th>HAAC_FEMALE_ratio</th>\n      <th>HNAC_MALE_ratio</th>\n      <th>HNAC_FEMALE_ratio</th>\n    </tr>\n  </thead>\n  <tbody>\n    <tr>\n      <th>171</th>\n      <td>01001</td>\n      <td>Alabama</td>\n      <td>Autauga County</td>\n      <td>10</td>\n      <td>55390</td>\n      <td>48.763315</td>\n      <td>51.236685</td>\n      <td>37.689114</td>\n      <td>39.185774</td>\n      <td>9.277848</td>\n      <td>...</td>\n      <td>1.261961</td>\n      <td>1.160859</td>\n      <td>0.200397</td>\n      <td>0.140820</td>\n      <td>0.070410</td>\n      <td>0.074021</td>\n      <td>0.021665</td>\n      <td>0.027081</td>\n      <td>0.030691</td>\n      <td>0.027081</td>\n    </tr>\n    <tr>\n      <th>190</th>\n      <td>01001</td>\n      <td>Alabama</td>\n      <td>Autauga County</td>\n      <td>11</td>\n      <td>55533</td>\n      <td>48.630544</td>\n      <td>51.369456</td>\n      <td>37.665892</td>\n      <td>39.164101</td>\n      <td>9.212540</td>\n      <td>...</td>\n      <td>1.375759</td>\n      <td>1.210091</td>\n      <td>0.162066</td>\n      <td>0.135055</td>\n      <td>0.070229</td>\n      <td>0.057623</td>\n      <td>0.036015</td>\n      <td>0.028812</td>\n      <td>0.034214</td>\n      <td>0.023410</td>\n    </tr>\n    <tr>\n      <th>209</th>\n      <td>01001</td>\n      <td>Alabama</td>\n      <td>Autauga County</td>\n      <td>12</td>\n      <td>55869</td>\n      <td>48.492008</td>\n      <td>51.507992</td>\n      <td>37.369561</td>\n      <td>38.892767</td>\n      <td>9.373714</td>\n      <td>...</td>\n      <td>1.392543</td>\n      <td>1.229662</td>\n      <td>0.159301</td>\n      <td>0.166461</td>\n      <td>0.071596</td>\n      <td>0.048327</td>\n      <td>0.026849</td>\n      <td>0.034008</td>\n      <td>0.028638</td>\n      <td>0.019689</td>\n    </tr>\n    <tr>\n      <th>399</th>\n      <td>01003</td>\n      <td>Alabama</td>\n      <td>Baldwin County</td>\n      <td>10</td>\n      <td>212521</td>\n      <td>48.568377</td>\n      <td>51.431623</td>\n      <td>42.518151</td>\n      <td>44.802631</td>\n      <td>4.366157</td>\n      <td>...</td>\n      <td>2.243072</td>\n      <td>2.000743</td>\n      <td>0.121870</td>\n      <td>0.127046</td>\n      <td>0.112930</td>\n      <td>0.076228</td>\n      <td>0.019763</td>\n      <td>0.026350</td>\n      <td>0.020704</td>\n      <td>0.018822</td>\n    </tr>\n    <tr>\n      <th>418</th>\n      <td>01003</td>\n      <td>Alabama</td>\n      <td>Baldwin County</td>\n      <td>11</td>\n      <td>217855</td>\n      <td>48.519428</td>\n      <td>51.480572</td>\n      <td>42.511303</td>\n      <td>44.899130</td>\n      <td>4.301944</td>\n      <td>...</td>\n      <td>2.281334</td>\n      <td>2.053201</td>\n      <td>0.120722</td>\n      <td>0.120722</td>\n      <td>0.118427</td>\n      <td>0.085378</td>\n      <td>0.028459</td>\n      <td>0.025705</td>\n      <td>0.022951</td>\n      <td>0.014230</td>\n    </tr>\n    <tr>\n      <th>...</th>\n      <td>...</td>\n      <td>...</td>\n      <td>...</td>\n      <td>...</td>\n      <td>...</td>\n      <td>...</td>\n      <td>...</td>\n      <td>...</td>\n      <td>...</td>\n      <td>...</td>\n      <td>...</td>\n      <td>...</td>\n      <td>...</td>\n      <td>...</td>\n      <td>...</td>\n      <td>...</td>\n      <td>...</td>\n      <td>...</td>\n      <td>...</td>\n      <td>...</td>\n      <td>...</td>\n    </tr>\n    <tr>\n      <th>716110</th>\n      <td>56043</td>\n      <td>Wyoming</td>\n      <td>Washakie County</td>\n      <td>11</td>\n      <td>7877</td>\n      <td>50.577631</td>\n      <td>49.422369</td>\n      <td>48.000508</td>\n      <td>46.591342</td>\n      <td>0.317380</td>\n      <td>...</td>\n      <td>6.538022</td>\n      <td>6.207947</td>\n      <td>0.114257</td>\n      <td>0.101562</td>\n      <td>0.710931</td>\n      <td>0.723626</td>\n      <td>0.063476</td>\n      <td>0.101562</td>\n      <td>0.063476</td>\n      <td>0.050781</td>\n    </tr>\n    <tr>\n      <th>716129</th>\n      <td>56043</td>\n      <td>Wyoming</td>\n      <td>Washakie County</td>\n      <td>12</td>\n      <td>7805</td>\n      <td>50.775144</td>\n      <td>49.224856</td>\n      <td>48.161435</td>\n      <td>46.354901</td>\n      <td>0.320307</td>\n      <td>...</td>\n      <td>6.559898</td>\n      <td>6.265215</td>\n      <td>0.089686</td>\n      <td>0.115311</td>\n      <td>0.691864</td>\n      <td>0.755926</td>\n      <td>0.089686</td>\n      <td>0.102498</td>\n      <td>0.051249</td>\n      <td>0.025625</td>\n    </tr>\n    <tr>\n      <th>716319</th>\n      <td>56045</td>\n      <td>Wyoming</td>\n      <td>Weston County</td>\n      <td>10</td>\n      <td>6968</td>\n      <td>52.525832</td>\n      <td>47.474168</td>\n      <td>49.469001</td>\n      <td>44.646958</td>\n      <td>0.416188</td>\n      <td>...</td>\n      <td>2.009185</td>\n      <td>1.693456</td>\n      <td>0.086108</td>\n      <td>0.100459</td>\n      <td>0.330080</td>\n      <td>0.258324</td>\n      <td>0.028703</td>\n      <td>0.086108</td>\n      <td>0.028703</td>\n      <td>0.028703</td>\n    </tr>\n    <tr>\n      <th>716338</th>\n      <td>56045</td>\n      <td>Wyoming</td>\n      <td>Weston County</td>\n      <td>11</td>\n      <td>6924</td>\n      <td>52.383016</td>\n      <td>47.616984</td>\n      <td>49.119006</td>\n      <td>44.381860</td>\n      <td>0.462161</td>\n      <td>...</td>\n      <td>1.906412</td>\n      <td>1.617562</td>\n      <td>0.086655</td>\n      <td>0.115540</td>\n      <td>0.346620</td>\n      <td>0.317735</td>\n      <td>0.072213</td>\n      <td>0.014443</td>\n      <td>0.014443</td>\n      <td>0.000000</td>\n    </tr>\n    <tr>\n      <th>716357</th>\n      <td>56045</td>\n      <td>Wyoming</td>\n      <td>Weston County</td>\n      <td>12</td>\n      <td>6927</td>\n      <td>52.317020</td>\n      <td>47.682980</td>\n      <td>48.967807</td>\n      <td>44.203840</td>\n      <td>0.461960</td>\n      <td>...</td>\n      <td>1.905587</td>\n      <td>1.732352</td>\n      <td>0.072181</td>\n      <td>0.115490</td>\n      <td>0.332034</td>\n      <td>0.288725</td>\n      <td>0.086618</td>\n      <td>0.057745</td>\n      <td>0.028873</td>\n      <td>0.000000</td>\n    </tr>\n  </tbody>\n</table>\n<p>9426 rows × 77 columns</p>\n</div>"
     },
     "metadata": {},
     "output_type": "display_data"
    }
   ],
   "source": [
    "cols_to_remove =  ['AGEGRP', 'STATE', 'COUNTY', 'SUMLEV']\n",
    "county_dem_ratio = remove_col(county_dem_ratio, cols_to_remove)\n",
    "display(county_dem_ratio)"
   ],
   "metadata": {
    "collapsed": false,
    "pycharm": {
     "name": "#%%\n"
    }
   }
  },
  {
   "cell_type": "markdown",
   "source": [
    "* GeoFIPS column added\n",
    "* Redundant column removes and columns with lack of data variety"
   ],
   "metadata": {
    "collapsed": false
   }
  },
  {
   "cell_type": "code",
   "execution_count": 248,
   "outputs": [
    {
     "name": "stderr",
     "output_type": "stream",
     "text": [
      "/home/wkc/.local/lib/python3.8/site-packages/pandas/core/frame.py:4167: SettingWithCopyWarning: \n",
      "A value is trying to be set on a copy of a slice from a DataFrame\n",
      "\n",
      "See the caveats in the documentation: https://pandas.pydata.org/pandas-docs/stable/user_guide/indexing.html#returning-a-view-versus-a-copy\n",
      "  return super().drop(\n"
     ]
    }
   ],
   "source": [
    "county_dem_ratio_17 = county_dem_ratio.loc[county_demographic.YEAR == 10]\n",
    "county_dem_ratio_18 = county_dem_ratio.loc[county_demographic.YEAR == 11]\n",
    "county_dem_ratio_19 = county_dem_ratio.loc[county_demographic.YEAR == 12]\n",
    "\n",
    "county_dem_ratio_17.drop('YEAR', axis=1, inplace=True)\n",
    "county_dem_ratio_18.drop('YEAR', axis=1, inplace=True)\n",
    "county_dem_ratio_19.drop('YEAR', axis=1, inplace=True)"
   ],
   "metadata": {
    "collapsed": false,
    "pycharm": {
     "name": "#%%\n"
    }
   }
  },
  {
   "cell_type": "markdown",
   "source": [
    "# Merge data"
   ],
   "metadata": {
    "collapsed": false
   }
  },
  {
   "cell_type": "markdown",
   "source": [
    "## merge poverty rates for 2017-2019 into one dataframe"
   ],
   "metadata": {
    "collapsed": false
   }
  },
  {
   "cell_type": "code",
   "execution_count": 249,
   "outputs": [
    {
     "data": {
      "text/plain": "     State FIPS Code County FIPS Code Postal Code               Name  \\\n0                 01              001          AL     Autauga County   \n1                 01              003          AL     Baldwin County   \n2                 01              005          AL     Barbour County   \n3                 01              007          AL        Bibb County   \n4                 01              009          AL      Blount County   \n...              ...              ...         ...                ...   \n3001              56              037          WY  Sweetwater County   \n3002              56              039          WY       Teton County   \n3003              56              041          WY       Uinta County   \n3004              56              043          WY    Washakie County   \n3005              56              045          WY      Weston County   \n\n      Poverty Percent, All Ages 2017  Poverty Percent, All Ages 2018  \\\n0                          13.400000                       13.800000   \n1                          10.100000                        9.800000   \n2                          33.400002                       30.900000   \n3                          20.200001                       21.799999   \n4                          12.800000                       13.200000   \n...                              ...                             ...   \n3001                       10.000000                        8.400000   \n3002                        5.800000                        6.300000   \n3003                       10.200000                       10.000000   \n3004                       10.700000                       11.900000   \n3005                       10.600000                       11.800000   \n\n      Poverty Percent, All Ages 2019  \n0                          12.100000  \n1                          10.100000  \n2                          27.100000  \n3                          20.299999  \n4                          16.299999  \n...                              ...  \n3001                        8.300000  \n3002                        6.000000  \n3003                        8.500000  \n3004                       11.100000  \n3005                       10.500000  \n\n[3006 rows x 7 columns]",
      "text/html": "<div>\n<style scoped>\n    .dataframe tbody tr th:only-of-type {\n        vertical-align: middle;\n    }\n\n    .dataframe tbody tr th {\n        vertical-align: top;\n    }\n\n    .dataframe thead th {\n        text-align: right;\n    }\n</style>\n<table border=\"1\" class=\"dataframe\">\n  <thead>\n    <tr style=\"text-align: right;\">\n      <th></th>\n      <th>State FIPS Code</th>\n      <th>County FIPS Code</th>\n      <th>Postal Code</th>\n      <th>Name</th>\n      <th>Poverty Percent, All Ages 2017</th>\n      <th>Poverty Percent, All Ages 2018</th>\n      <th>Poverty Percent, All Ages 2019</th>\n    </tr>\n  </thead>\n  <tbody>\n    <tr>\n      <th>0</th>\n      <td>01</td>\n      <td>001</td>\n      <td>AL</td>\n      <td>Autauga County</td>\n      <td>13.400000</td>\n      <td>13.800000</td>\n      <td>12.100000</td>\n    </tr>\n    <tr>\n      <th>1</th>\n      <td>01</td>\n      <td>003</td>\n      <td>AL</td>\n      <td>Baldwin County</td>\n      <td>10.100000</td>\n      <td>9.800000</td>\n      <td>10.100000</td>\n    </tr>\n    <tr>\n      <th>2</th>\n      <td>01</td>\n      <td>005</td>\n      <td>AL</td>\n      <td>Barbour County</td>\n      <td>33.400002</td>\n      <td>30.900000</td>\n      <td>27.100000</td>\n    </tr>\n    <tr>\n      <th>3</th>\n      <td>01</td>\n      <td>007</td>\n      <td>AL</td>\n      <td>Bibb County</td>\n      <td>20.200001</td>\n      <td>21.799999</td>\n      <td>20.299999</td>\n    </tr>\n    <tr>\n      <th>4</th>\n      <td>01</td>\n      <td>009</td>\n      <td>AL</td>\n      <td>Blount County</td>\n      <td>12.800000</td>\n      <td>13.200000</td>\n      <td>16.299999</td>\n    </tr>\n    <tr>\n      <th>...</th>\n      <td>...</td>\n      <td>...</td>\n      <td>...</td>\n      <td>...</td>\n      <td>...</td>\n      <td>...</td>\n      <td>...</td>\n    </tr>\n    <tr>\n      <th>3001</th>\n      <td>56</td>\n      <td>037</td>\n      <td>WY</td>\n      <td>Sweetwater County</td>\n      <td>10.000000</td>\n      <td>8.400000</td>\n      <td>8.300000</td>\n    </tr>\n    <tr>\n      <th>3002</th>\n      <td>56</td>\n      <td>039</td>\n      <td>WY</td>\n      <td>Teton County</td>\n      <td>5.800000</td>\n      <td>6.300000</td>\n      <td>6.000000</td>\n    </tr>\n    <tr>\n      <th>3003</th>\n      <td>56</td>\n      <td>041</td>\n      <td>WY</td>\n      <td>Uinta County</td>\n      <td>10.200000</td>\n      <td>10.000000</td>\n      <td>8.500000</td>\n    </tr>\n    <tr>\n      <th>3004</th>\n      <td>56</td>\n      <td>043</td>\n      <td>WY</td>\n      <td>Washakie County</td>\n      <td>10.700000</td>\n      <td>11.900000</td>\n      <td>11.100000</td>\n    </tr>\n    <tr>\n      <th>3005</th>\n      <td>56</td>\n      <td>045</td>\n      <td>WY</td>\n      <td>Weston County</td>\n      <td>10.600000</td>\n      <td>11.800000</td>\n      <td>10.500000</td>\n    </tr>\n  </tbody>\n</table>\n<p>3006 rows × 7 columns</p>\n</div>"
     },
     "execution_count": 249,
     "metadata": {},
     "output_type": "execute_result"
    }
   ],
   "source": [
    "pov_rate_2017.rename(columns={'Poverty Percent, All Ages':'Poverty Percent, All Ages 2017'}, inplace=True)\n",
    "pov_rate_2018.rename(columns={'Poverty Percent, All Ages':'Poverty Percent, All Ages 2018'}, inplace=True)\n",
    "pov_rate_2019.rename(columns={'Poverty Percent, All Ages':'Poverty Percent, All Ages 2019'}, inplace=True)\n",
    "\n",
    "pov_rate_2017_2018 = pd.merge(pov_rate_2017, pov_rate_2018, how='inner')\n",
    "pov_rate_2017_2019 = pd.merge(pov_rate_2017_2018, pov_rate_2019, how='inner')\n",
    "pov_rate_2017_2019"
   ],
   "metadata": {
    "collapsed": false,
    "pycharm": {
     "name": "#%%\n"
    }
   }
  },
  {
   "cell_type": "code",
   "execution_count": 250,
   "outputs": [],
   "source": [
    "state_code = pov_rate_2017_2019['State FIPS Code'].astype(str).values\n",
    "county_code = pov_rate_2017_2019['County FIPS Code'].astype(str).values\n",
    "geofips = []\n",
    "for stateID, countyID in zip(state_code, county_code):\n",
    "    id = ''\n",
    "    id += stateID\n",
    "    id += countyID\n",
    "    geofips.append(id)\n",
    "pov_rate_2017_2019.insert(loc=0, column='GeoFIPS', value=geofips)"
   ],
   "metadata": {
    "collapsed": false,
    "pycharm": {
     "name": "#%%\n"
    }
   }
  },
  {
   "cell_type": "code",
   "execution_count": 251,
   "outputs": [
    {
     "data": {
      "text/plain": "     GeoFIPS Postal Code               Name  Poverty Percent, All Ages 2017  \\\n0      01001          AL     Autauga County                       13.400000   \n1      01003          AL     Baldwin County                       10.100000   \n2      01005          AL     Barbour County                       33.400002   \n3      01007          AL        Bibb County                       20.200001   \n4      01009          AL      Blount County                       12.800000   \n...      ...         ...                ...                             ...   \n3001   56037          WY  Sweetwater County                       10.000000   \n3002   56039          WY       Teton County                        5.800000   \n3003   56041          WY       Uinta County                       10.200000   \n3004   56043          WY    Washakie County                       10.700000   \n3005   56045          WY      Weston County                       10.600000   \n\n      Poverty Percent, All Ages 2018  Poverty Percent, All Ages 2019  \n0                          13.800000                       12.100000  \n1                           9.800000                       10.100000  \n2                          30.900000                       27.100000  \n3                          21.799999                       20.299999  \n4                          13.200000                       16.299999  \n...                              ...                             ...  \n3001                        8.400000                        8.300000  \n3002                        6.300000                        6.000000  \n3003                       10.000000                        8.500000  \n3004                       11.900000                       11.100000  \n3005                       11.800000                       10.500000  \n\n[3006 rows x 6 columns]",
      "text/html": "<div>\n<style scoped>\n    .dataframe tbody tr th:only-of-type {\n        vertical-align: middle;\n    }\n\n    .dataframe tbody tr th {\n        vertical-align: top;\n    }\n\n    .dataframe thead th {\n        text-align: right;\n    }\n</style>\n<table border=\"1\" class=\"dataframe\">\n  <thead>\n    <tr style=\"text-align: right;\">\n      <th></th>\n      <th>GeoFIPS</th>\n      <th>Postal Code</th>\n      <th>Name</th>\n      <th>Poverty Percent, All Ages 2017</th>\n      <th>Poverty Percent, All Ages 2018</th>\n      <th>Poverty Percent, All Ages 2019</th>\n    </tr>\n  </thead>\n  <tbody>\n    <tr>\n      <th>0</th>\n      <td>01001</td>\n      <td>AL</td>\n      <td>Autauga County</td>\n      <td>13.400000</td>\n      <td>13.800000</td>\n      <td>12.100000</td>\n    </tr>\n    <tr>\n      <th>1</th>\n      <td>01003</td>\n      <td>AL</td>\n      <td>Baldwin County</td>\n      <td>10.100000</td>\n      <td>9.800000</td>\n      <td>10.100000</td>\n    </tr>\n    <tr>\n      <th>2</th>\n      <td>01005</td>\n      <td>AL</td>\n      <td>Barbour County</td>\n      <td>33.400002</td>\n      <td>30.900000</td>\n      <td>27.100000</td>\n    </tr>\n    <tr>\n      <th>3</th>\n      <td>01007</td>\n      <td>AL</td>\n      <td>Bibb County</td>\n      <td>20.200001</td>\n      <td>21.799999</td>\n      <td>20.299999</td>\n    </tr>\n    <tr>\n      <th>4</th>\n      <td>01009</td>\n      <td>AL</td>\n      <td>Blount County</td>\n      <td>12.800000</td>\n      <td>13.200000</td>\n      <td>16.299999</td>\n    </tr>\n    <tr>\n      <th>...</th>\n      <td>...</td>\n      <td>...</td>\n      <td>...</td>\n      <td>...</td>\n      <td>...</td>\n      <td>...</td>\n    </tr>\n    <tr>\n      <th>3001</th>\n      <td>56037</td>\n      <td>WY</td>\n      <td>Sweetwater County</td>\n      <td>10.000000</td>\n      <td>8.400000</td>\n      <td>8.300000</td>\n    </tr>\n    <tr>\n      <th>3002</th>\n      <td>56039</td>\n      <td>WY</td>\n      <td>Teton County</td>\n      <td>5.800000</td>\n      <td>6.300000</td>\n      <td>6.000000</td>\n    </tr>\n    <tr>\n      <th>3003</th>\n      <td>56041</td>\n      <td>WY</td>\n      <td>Uinta County</td>\n      <td>10.200000</td>\n      <td>10.000000</td>\n      <td>8.500000</td>\n    </tr>\n    <tr>\n      <th>3004</th>\n      <td>56043</td>\n      <td>WY</td>\n      <td>Washakie County</td>\n      <td>10.700000</td>\n      <td>11.900000</td>\n      <td>11.100000</td>\n    </tr>\n    <tr>\n      <th>3005</th>\n      <td>56045</td>\n      <td>WY</td>\n      <td>Weston County</td>\n      <td>10.600000</td>\n      <td>11.800000</td>\n      <td>10.500000</td>\n    </tr>\n  </tbody>\n</table>\n<p>3006 rows × 6 columns</p>\n</div>"
     },
     "metadata": {},
     "output_type": "display_data"
    }
   ],
   "source": [
    "pov_rate_2017_2019.drop(['State FIPS Code', 'County FIPS Code'], axis=1, inplace=True)\n",
    "display(pov_rate_2017_2019)"
   ],
   "metadata": {
    "collapsed": false,
    "pycharm": {
     "name": "#%%\n"
    }
   }
  },
  {
   "cell_type": "markdown",
   "source": [
    "## merge education and vehicle rates for 2017-2019 into one dataframe"
   ],
   "metadata": {
    "collapsed": false
   }
  },
  {
   "cell_type": "code",
   "execution_count": 252,
   "outputs": [],
   "source": [
    "educ_vehicle_ratios = educ_vehicle_2017.columns[4:]\n",
    "for ratio in educ_vehicle_ratios:\n",
    "    educ_vehicle_2017.rename(columns={ratio:ratio + '_2017'}, inplace=True)\n",
    "    educ_vehicle_2018.rename(columns={ratio:ratio + '_2018'}, inplace=True)\n",
    "    educ_vehicle_2019.rename(columns={ratio:ratio + '_2019'}, inplace=True)\n",
    "\n",
    "educ_vehicle_2017.drop('POP', axis=1, inplace=True)\n",
    "educ_vehicle_2018.drop('POP', axis=1, inplace=True)\n",
    "educ_vehicle_2019.drop('POP', axis=1, inplace=True)"
   ],
   "metadata": {
    "collapsed": false,
    "pycharm": {
     "name": "#%%\n"
    }
   }
  },
  {
   "cell_type": "code",
   "execution_count": 253,
   "outputs": [
    {
     "data": {
      "text/plain": "                              NAME  state  county  EDU_TOT_ratio_2017  \\\n0    St. Lawrence County, New York     36      89           66.185928   \n1        Saratoga County, New York     36      91           71.525086   \n2     Schenectady County, New York     36      93           69.072735   \n3         Steuben County, New York     36     101           70.638028   \n4         Suffolk County, New York     36     103           69.456038   \n..                             ...    ...     ...                 ...   \n831        Putnam County, New York     36      79           71.933993   \n832        Queens County, New York     36      81           71.878018   \n833    Rensselaer County, New York     36      83           69.525175   \n834      Richmond County, New York     36      85           69.678470   \n835      Rockland County, New York     36      87           62.634552   \n\n     LESS_HS_TOT_ratio_2017  HS_TOT_ratio_2017  COL_OR_ASSOC_TOT_ratio_2017  \\\n0                  8.359560          23.588116                    18.327358   \n1                  4.635684          16.980541                    19.820419   \n2                  6.482821          20.662745                    22.667695   \n3                  6.761459          26.921199                    21.483990   \n4                  6.873693          18.559191                    18.702062   \n..                      ...                ...                          ...   \n831                5.124694          20.737392                    18.218338   \n832               12.930820          20.936054                    15.809711   \n833                5.694269          19.865767                    21.884274   \n834                8.140650          21.009139                    17.452832   \n835                6.985173          14.286887                    15.662819   \n\n     BACH_TOT_ratio_2017  GRAD_TOT_ratio_2017  VEHICLE_TOT_ratio_2017  ...  \\\n0               7.552247             8.358647               32.766846  ...   \n1              16.481561            13.606880               45.984887  ...   \n2              11.062900             8.196574               38.755504  ...   \n3               7.738806             7.732574               36.959525  ...   \n4              13.936407            11.384685               41.375382  ...   \n..                   ...                  ...                     ...  ...   \n831            15.030758            12.822810               42.683970  ...   \n832            14.245424             7.956009               16.619308  ...   \n833            12.611287             9.469578               41.146492  ...   \n834            13.788069             9.287779               26.693683  ...   \n835            14.226377            11.473296               34.252344  ...   \n\n     BACH_TOT_ratio_2018  GRAD_TOT_ratio_2018  VEHICLE_TOT_ratio_2018  \\\n0               7.361611             7.866947               35.461420   \n1              16.692083            13.376173               46.076042   \n2              11.787576            10.642420               38.725459   \n3               8.302017             9.023341               38.738569   \n4              13.946120            11.819717               41.403545   \n..                   ...                  ...                     ...   \n831            16.365328            13.018242               40.700967   \n832            15.182197             8.990191               17.077931   \n833            13.420554             8.401801               42.175211   \n834            14.675154             9.263113               26.658042   \n835            14.493928            12.075715               33.614271   \n\n     EDU_TOT_ratio_2019  LESS_HS_TOT_ratio_2019  HS_TOT_ratio_2019  \\\n0             67.044737                8.564136          23.762762   \n1             72.095118                4.492676          17.754924   \n2             70.183324                5.047682          20.198456   \n3             71.044989                6.093585          25.791841   \n4             70.148605                6.397598          18.389192   \n..                  ...                     ...                ...   \n831           73.443857                5.721115          19.355167   \n832           72.484558               12.328372          19.812340   \n833           70.327759                5.902441          19.919478   \n834           70.041143                7.701258          20.426427   \n835           62.486456                6.950511          13.296029   \n\n     COL_OR_ASSOC_TOT_ratio_2019  BACH_TOT_ratio_2019  GRAD_TOT_ratio_2019  \\\n0                      19.480230             8.060145             7.177464   \n1                      19.172290            17.466056            13.209172   \n2                      20.343982            14.569959            10.023245   \n3                      21.817171             8.456788             8.885604   \n4                      18.517663            14.495114            12.349037   \n..                           ...                  ...                  ...   \n831                    20.396664            15.500407            12.470504   \n832                    16.300805            14.831103             9.211938   \n833                    19.870963            13.165820            11.469058   \n834                    16.545240            15.103446            10.264773   \n835                    15.843383            14.269051            12.127481   \n\n     VEHICLE_TOT_ratio_2019  \n0                 31.232597  \n1                 45.281320  \n2                 38.615831  \n3                 37.225175  \n4                 42.622211  \n..                      ...  \n831               43.144833  \n832               17.209159  \n833               41.341659  \n834               27.038096  \n835               34.287530  \n\n[836 rows x 24 columns]",
      "text/html": "<div>\n<style scoped>\n    .dataframe tbody tr th:only-of-type {\n        vertical-align: middle;\n    }\n\n    .dataframe tbody tr th {\n        vertical-align: top;\n    }\n\n    .dataframe thead th {\n        text-align: right;\n    }\n</style>\n<table border=\"1\" class=\"dataframe\">\n  <thead>\n    <tr style=\"text-align: right;\">\n      <th></th>\n      <th>NAME</th>\n      <th>state</th>\n      <th>county</th>\n      <th>EDU_TOT_ratio_2017</th>\n      <th>LESS_HS_TOT_ratio_2017</th>\n      <th>HS_TOT_ratio_2017</th>\n      <th>COL_OR_ASSOC_TOT_ratio_2017</th>\n      <th>BACH_TOT_ratio_2017</th>\n      <th>GRAD_TOT_ratio_2017</th>\n      <th>VEHICLE_TOT_ratio_2017</th>\n      <th>...</th>\n      <th>BACH_TOT_ratio_2018</th>\n      <th>GRAD_TOT_ratio_2018</th>\n      <th>VEHICLE_TOT_ratio_2018</th>\n      <th>EDU_TOT_ratio_2019</th>\n      <th>LESS_HS_TOT_ratio_2019</th>\n      <th>HS_TOT_ratio_2019</th>\n      <th>COL_OR_ASSOC_TOT_ratio_2019</th>\n      <th>BACH_TOT_ratio_2019</th>\n      <th>GRAD_TOT_ratio_2019</th>\n      <th>VEHICLE_TOT_ratio_2019</th>\n    </tr>\n  </thead>\n  <tbody>\n    <tr>\n      <th>0</th>\n      <td>St. Lawrence County, New York</td>\n      <td>36</td>\n      <td>89</td>\n      <td>66.185928</td>\n      <td>8.359560</td>\n      <td>23.588116</td>\n      <td>18.327358</td>\n      <td>7.552247</td>\n      <td>8.358647</td>\n      <td>32.766846</td>\n      <td>...</td>\n      <td>7.361611</td>\n      <td>7.866947</td>\n      <td>35.461420</td>\n      <td>67.044737</td>\n      <td>8.564136</td>\n      <td>23.762762</td>\n      <td>19.480230</td>\n      <td>8.060145</td>\n      <td>7.177464</td>\n      <td>31.232597</td>\n    </tr>\n    <tr>\n      <th>1</th>\n      <td>Saratoga County, New York</td>\n      <td>36</td>\n      <td>91</td>\n      <td>71.525086</td>\n      <td>4.635684</td>\n      <td>16.980541</td>\n      <td>19.820419</td>\n      <td>16.481561</td>\n      <td>13.606880</td>\n      <td>45.984887</td>\n      <td>...</td>\n      <td>16.692083</td>\n      <td>13.376173</td>\n      <td>46.076042</td>\n      <td>72.095118</td>\n      <td>4.492676</td>\n      <td>17.754924</td>\n      <td>19.172290</td>\n      <td>17.466056</td>\n      <td>13.209172</td>\n      <td>45.281320</td>\n    </tr>\n    <tr>\n      <th>2</th>\n      <td>Schenectady County, New York</td>\n      <td>36</td>\n      <td>93</td>\n      <td>69.072735</td>\n      <td>6.482821</td>\n      <td>20.662745</td>\n      <td>22.667695</td>\n      <td>11.062900</td>\n      <td>8.196574</td>\n      <td>38.755504</td>\n      <td>...</td>\n      <td>11.787576</td>\n      <td>10.642420</td>\n      <td>38.725459</td>\n      <td>70.183324</td>\n      <td>5.047682</td>\n      <td>20.198456</td>\n      <td>20.343982</td>\n      <td>14.569959</td>\n      <td>10.023245</td>\n      <td>38.615831</td>\n    </tr>\n    <tr>\n      <th>3</th>\n      <td>Steuben County, New York</td>\n      <td>36</td>\n      <td>101</td>\n      <td>70.638028</td>\n      <td>6.761459</td>\n      <td>26.921199</td>\n      <td>21.483990</td>\n      <td>7.738806</td>\n      <td>7.732574</td>\n      <td>36.959525</td>\n      <td>...</td>\n      <td>8.302017</td>\n      <td>9.023341</td>\n      <td>38.738569</td>\n      <td>71.044989</td>\n      <td>6.093585</td>\n      <td>25.791841</td>\n      <td>21.817171</td>\n      <td>8.456788</td>\n      <td>8.885604</td>\n      <td>37.225175</td>\n    </tr>\n    <tr>\n      <th>4</th>\n      <td>Suffolk County, New York</td>\n      <td>36</td>\n      <td>103</td>\n      <td>69.456038</td>\n      <td>6.873693</td>\n      <td>18.559191</td>\n      <td>18.702062</td>\n      <td>13.936407</td>\n      <td>11.384685</td>\n      <td>41.375382</td>\n      <td>...</td>\n      <td>13.946120</td>\n      <td>11.819717</td>\n      <td>41.403545</td>\n      <td>70.148605</td>\n      <td>6.397598</td>\n      <td>18.389192</td>\n      <td>18.517663</td>\n      <td>14.495114</td>\n      <td>12.349037</td>\n      <td>42.622211</td>\n    </tr>\n    <tr>\n      <th>...</th>\n      <td>...</td>\n      <td>...</td>\n      <td>...</td>\n      <td>...</td>\n      <td>...</td>\n      <td>...</td>\n      <td>...</td>\n      <td>...</td>\n      <td>...</td>\n      <td>...</td>\n      <td>...</td>\n      <td>...</td>\n      <td>...</td>\n      <td>...</td>\n      <td>...</td>\n      <td>...</td>\n      <td>...</td>\n      <td>...</td>\n      <td>...</td>\n      <td>...</td>\n      <td>...</td>\n    </tr>\n    <tr>\n      <th>831</th>\n      <td>Putnam County, New York</td>\n      <td>36</td>\n      <td>79</td>\n      <td>71.933993</td>\n      <td>5.124694</td>\n      <td>20.737392</td>\n      <td>18.218338</td>\n      <td>15.030758</td>\n      <td>12.822810</td>\n      <td>42.683970</td>\n      <td>...</td>\n      <td>16.365328</td>\n      <td>13.018242</td>\n      <td>40.700967</td>\n      <td>73.443857</td>\n      <td>5.721115</td>\n      <td>19.355167</td>\n      <td>20.396664</td>\n      <td>15.500407</td>\n      <td>12.470504</td>\n      <td>43.144833</td>\n    </tr>\n    <tr>\n      <th>832</th>\n      <td>Queens County, New York</td>\n      <td>36</td>\n      <td>81</td>\n      <td>71.878018</td>\n      <td>12.930820</td>\n      <td>20.936054</td>\n      <td>15.809711</td>\n      <td>14.245424</td>\n      <td>7.956009</td>\n      <td>16.619308</td>\n      <td>...</td>\n      <td>15.182197</td>\n      <td>8.990191</td>\n      <td>17.077931</td>\n      <td>72.484558</td>\n      <td>12.328372</td>\n      <td>19.812340</td>\n      <td>16.300805</td>\n      <td>14.831103</td>\n      <td>9.211938</td>\n      <td>17.209159</td>\n    </tr>\n    <tr>\n      <th>833</th>\n      <td>Rensselaer County, New York</td>\n      <td>36</td>\n      <td>83</td>\n      <td>69.525175</td>\n      <td>5.694269</td>\n      <td>19.865767</td>\n      <td>21.884274</td>\n      <td>12.611287</td>\n      <td>9.469578</td>\n      <td>41.146492</td>\n      <td>...</td>\n      <td>13.420554</td>\n      <td>8.401801</td>\n      <td>42.175211</td>\n      <td>70.327759</td>\n      <td>5.902441</td>\n      <td>19.919478</td>\n      <td>19.870963</td>\n      <td>13.165820</td>\n      <td>11.469058</td>\n      <td>41.341659</td>\n    </tr>\n    <tr>\n      <th>834</th>\n      <td>Richmond County, New York</td>\n      <td>36</td>\n      <td>85</td>\n      <td>69.678470</td>\n      <td>8.140650</td>\n      <td>21.009139</td>\n      <td>17.452832</td>\n      <td>13.788069</td>\n      <td>9.287779</td>\n      <td>26.693683</td>\n      <td>...</td>\n      <td>14.675154</td>\n      <td>9.263113</td>\n      <td>26.658042</td>\n      <td>70.041143</td>\n      <td>7.701258</td>\n      <td>20.426427</td>\n      <td>16.545240</td>\n      <td>15.103446</td>\n      <td>10.264773</td>\n      <td>27.038096</td>\n    </tr>\n    <tr>\n      <th>835</th>\n      <td>Rockland County, New York</td>\n      <td>36</td>\n      <td>87</td>\n      <td>62.634552</td>\n      <td>6.985173</td>\n      <td>14.286887</td>\n      <td>15.662819</td>\n      <td>14.226377</td>\n      <td>11.473296</td>\n      <td>34.252344</td>\n      <td>...</td>\n      <td>14.493928</td>\n      <td>12.075715</td>\n      <td>33.614271</td>\n      <td>62.486456</td>\n      <td>6.950511</td>\n      <td>13.296029</td>\n      <td>15.843383</td>\n      <td>14.269051</td>\n      <td>12.127481</td>\n      <td>34.287530</td>\n    </tr>\n  </tbody>\n</table>\n<p>836 rows × 24 columns</p>\n</div>"
     },
     "execution_count": 253,
     "metadata": {},
     "output_type": "execute_result"
    }
   ],
   "source": [
    "educ_vehicle_2017_2018 = pd.merge(educ_vehicle_2017, educ_vehicle_2018, how='inner')\n",
    "educ_vehicle_2017_2019 = pd.merge(educ_vehicle_2017_2018, educ_vehicle_2019, how='inner')\n",
    "educ_vehicle_2017_2019"
   ],
   "metadata": {
    "collapsed": false,
    "pycharm": {
     "name": "#%%\n"
    }
   }
  },
  {
   "cell_type": "code",
   "execution_count": 254,
   "outputs": [
    {
     "data": {
      "text/plain": "    GeoFIPS                           NAME  state  county  EDU_TOT_ratio_2017  \\\n0     36089  St. Lawrence County, New York     36      89           66.185928   \n1     36091      Saratoga County, New York     36      91           71.525086   \n2     36093   Schenectady County, New York     36      93           69.072735   \n3     36101       Steuben County, New York     36     101           70.638028   \n4     36103       Suffolk County, New York     36     103           69.456038   \n..      ...                            ...    ...     ...                 ...   \n831   36079        Putnam County, New York     36      79           71.933993   \n832   36081        Queens County, New York     36      81           71.878018   \n833   36083    Rensselaer County, New York     36      83           69.525175   \n834   36085      Richmond County, New York     36      85           69.678470   \n835   36087      Rockland County, New York     36      87           62.634552   \n\n     LESS_HS_TOT_ratio_2017  HS_TOT_ratio_2017  COL_OR_ASSOC_TOT_ratio_2017  \\\n0                  8.359560          23.588116                    18.327358   \n1                  4.635684          16.980541                    19.820419   \n2                  6.482821          20.662745                    22.667695   \n3                  6.761459          26.921199                    21.483990   \n4                  6.873693          18.559191                    18.702062   \n..                      ...                ...                          ...   \n831                5.124694          20.737392                    18.218338   \n832               12.930820          20.936054                    15.809711   \n833                5.694269          19.865767                    21.884274   \n834                8.140650          21.009139                    17.452832   \n835                6.985173          14.286887                    15.662819   \n\n     BACH_TOT_ratio_2017  GRAD_TOT_ratio_2017  ...  BACH_TOT_ratio_2018  \\\n0               7.552247             8.358647  ...             7.361611   \n1              16.481561            13.606880  ...            16.692083   \n2              11.062900             8.196574  ...            11.787576   \n3               7.738806             7.732574  ...             8.302017   \n4              13.936407            11.384685  ...            13.946120   \n..                   ...                  ...  ...                  ...   \n831            15.030758            12.822810  ...            16.365328   \n832            14.245424             7.956009  ...            15.182197   \n833            12.611287             9.469578  ...            13.420554   \n834            13.788069             9.287779  ...            14.675154   \n835            14.226377            11.473296  ...            14.493928   \n\n     GRAD_TOT_ratio_2018  VEHICLE_TOT_ratio_2018  EDU_TOT_ratio_2019  \\\n0               7.866947               35.461420           67.044737   \n1              13.376173               46.076042           72.095118   \n2              10.642420               38.725459           70.183324   \n3               9.023341               38.738569           71.044989   \n4              11.819717               41.403545           70.148605   \n..                   ...                     ...                 ...   \n831            13.018242               40.700967           73.443857   \n832             8.990191               17.077931           72.484558   \n833             8.401801               42.175211           70.327759   \n834             9.263113               26.658042           70.041143   \n835            12.075715               33.614271           62.486456   \n\n     LESS_HS_TOT_ratio_2019  HS_TOT_ratio_2019  COL_OR_ASSOC_TOT_ratio_2019  \\\n0                  8.564136          23.762762                    19.480230   \n1                  4.492676          17.754924                    19.172290   \n2                  5.047682          20.198456                    20.343982   \n3                  6.093585          25.791841                    21.817171   \n4                  6.397598          18.389192                    18.517663   \n..                      ...                ...                          ...   \n831                5.721115          19.355167                    20.396664   \n832               12.328372          19.812340                    16.300805   \n833                5.902441          19.919478                    19.870963   \n834                7.701258          20.426427                    16.545240   \n835                6.950511          13.296029                    15.843383   \n\n     BACH_TOT_ratio_2019  GRAD_TOT_ratio_2019  VEHICLE_TOT_ratio_2019  \n0               8.060145             7.177464               31.232597  \n1              17.466056            13.209172               45.281320  \n2              14.569959            10.023245               38.615831  \n3               8.456788             8.885604               37.225175  \n4              14.495114            12.349037               42.622211  \n..                   ...                  ...                     ...  \n831            15.500407            12.470504               43.144833  \n832            14.831103             9.211938               17.209159  \n833            13.165820            11.469058               41.341659  \n834            15.103446            10.264773               27.038096  \n835            14.269051            12.127481               34.287530  \n\n[836 rows x 25 columns]",
      "text/html": "<div>\n<style scoped>\n    .dataframe tbody tr th:only-of-type {\n        vertical-align: middle;\n    }\n\n    .dataframe tbody tr th {\n        vertical-align: top;\n    }\n\n    .dataframe thead th {\n        text-align: right;\n    }\n</style>\n<table border=\"1\" class=\"dataframe\">\n  <thead>\n    <tr style=\"text-align: right;\">\n      <th></th>\n      <th>GeoFIPS</th>\n      <th>NAME</th>\n      <th>state</th>\n      <th>county</th>\n      <th>EDU_TOT_ratio_2017</th>\n      <th>LESS_HS_TOT_ratio_2017</th>\n      <th>HS_TOT_ratio_2017</th>\n      <th>COL_OR_ASSOC_TOT_ratio_2017</th>\n      <th>BACH_TOT_ratio_2017</th>\n      <th>GRAD_TOT_ratio_2017</th>\n      <th>...</th>\n      <th>BACH_TOT_ratio_2018</th>\n      <th>GRAD_TOT_ratio_2018</th>\n      <th>VEHICLE_TOT_ratio_2018</th>\n      <th>EDU_TOT_ratio_2019</th>\n      <th>LESS_HS_TOT_ratio_2019</th>\n      <th>HS_TOT_ratio_2019</th>\n      <th>COL_OR_ASSOC_TOT_ratio_2019</th>\n      <th>BACH_TOT_ratio_2019</th>\n      <th>GRAD_TOT_ratio_2019</th>\n      <th>VEHICLE_TOT_ratio_2019</th>\n    </tr>\n  </thead>\n  <tbody>\n    <tr>\n      <th>0</th>\n      <td>36089</td>\n      <td>St. Lawrence County, New York</td>\n      <td>36</td>\n      <td>89</td>\n      <td>66.185928</td>\n      <td>8.359560</td>\n      <td>23.588116</td>\n      <td>18.327358</td>\n      <td>7.552247</td>\n      <td>8.358647</td>\n      <td>...</td>\n      <td>7.361611</td>\n      <td>7.866947</td>\n      <td>35.461420</td>\n      <td>67.044737</td>\n      <td>8.564136</td>\n      <td>23.762762</td>\n      <td>19.480230</td>\n      <td>8.060145</td>\n      <td>7.177464</td>\n      <td>31.232597</td>\n    </tr>\n    <tr>\n      <th>1</th>\n      <td>36091</td>\n      <td>Saratoga County, New York</td>\n      <td>36</td>\n      <td>91</td>\n      <td>71.525086</td>\n      <td>4.635684</td>\n      <td>16.980541</td>\n      <td>19.820419</td>\n      <td>16.481561</td>\n      <td>13.606880</td>\n      <td>...</td>\n      <td>16.692083</td>\n      <td>13.376173</td>\n      <td>46.076042</td>\n      <td>72.095118</td>\n      <td>4.492676</td>\n      <td>17.754924</td>\n      <td>19.172290</td>\n      <td>17.466056</td>\n      <td>13.209172</td>\n      <td>45.281320</td>\n    </tr>\n    <tr>\n      <th>2</th>\n      <td>36093</td>\n      <td>Schenectady County, New York</td>\n      <td>36</td>\n      <td>93</td>\n      <td>69.072735</td>\n      <td>6.482821</td>\n      <td>20.662745</td>\n      <td>22.667695</td>\n      <td>11.062900</td>\n      <td>8.196574</td>\n      <td>...</td>\n      <td>11.787576</td>\n      <td>10.642420</td>\n      <td>38.725459</td>\n      <td>70.183324</td>\n      <td>5.047682</td>\n      <td>20.198456</td>\n      <td>20.343982</td>\n      <td>14.569959</td>\n      <td>10.023245</td>\n      <td>38.615831</td>\n    </tr>\n    <tr>\n      <th>3</th>\n      <td>36101</td>\n      <td>Steuben County, New York</td>\n      <td>36</td>\n      <td>101</td>\n      <td>70.638028</td>\n      <td>6.761459</td>\n      <td>26.921199</td>\n      <td>21.483990</td>\n      <td>7.738806</td>\n      <td>7.732574</td>\n      <td>...</td>\n      <td>8.302017</td>\n      <td>9.023341</td>\n      <td>38.738569</td>\n      <td>71.044989</td>\n      <td>6.093585</td>\n      <td>25.791841</td>\n      <td>21.817171</td>\n      <td>8.456788</td>\n      <td>8.885604</td>\n      <td>37.225175</td>\n    </tr>\n    <tr>\n      <th>4</th>\n      <td>36103</td>\n      <td>Suffolk County, New York</td>\n      <td>36</td>\n      <td>103</td>\n      <td>69.456038</td>\n      <td>6.873693</td>\n      <td>18.559191</td>\n      <td>18.702062</td>\n      <td>13.936407</td>\n      <td>11.384685</td>\n      <td>...</td>\n      <td>13.946120</td>\n      <td>11.819717</td>\n      <td>41.403545</td>\n      <td>70.148605</td>\n      <td>6.397598</td>\n      <td>18.389192</td>\n      <td>18.517663</td>\n      <td>14.495114</td>\n      <td>12.349037</td>\n      <td>42.622211</td>\n    </tr>\n    <tr>\n      <th>...</th>\n      <td>...</td>\n      <td>...</td>\n      <td>...</td>\n      <td>...</td>\n      <td>...</td>\n      <td>...</td>\n      <td>...</td>\n      <td>...</td>\n      <td>...</td>\n      <td>...</td>\n      <td>...</td>\n      <td>...</td>\n      <td>...</td>\n      <td>...</td>\n      <td>...</td>\n      <td>...</td>\n      <td>...</td>\n      <td>...</td>\n      <td>...</td>\n      <td>...</td>\n      <td>...</td>\n    </tr>\n    <tr>\n      <th>831</th>\n      <td>36079</td>\n      <td>Putnam County, New York</td>\n      <td>36</td>\n      <td>79</td>\n      <td>71.933993</td>\n      <td>5.124694</td>\n      <td>20.737392</td>\n      <td>18.218338</td>\n      <td>15.030758</td>\n      <td>12.822810</td>\n      <td>...</td>\n      <td>16.365328</td>\n      <td>13.018242</td>\n      <td>40.700967</td>\n      <td>73.443857</td>\n      <td>5.721115</td>\n      <td>19.355167</td>\n      <td>20.396664</td>\n      <td>15.500407</td>\n      <td>12.470504</td>\n      <td>43.144833</td>\n    </tr>\n    <tr>\n      <th>832</th>\n      <td>36081</td>\n      <td>Queens County, New York</td>\n      <td>36</td>\n      <td>81</td>\n      <td>71.878018</td>\n      <td>12.930820</td>\n      <td>20.936054</td>\n      <td>15.809711</td>\n      <td>14.245424</td>\n      <td>7.956009</td>\n      <td>...</td>\n      <td>15.182197</td>\n      <td>8.990191</td>\n      <td>17.077931</td>\n      <td>72.484558</td>\n      <td>12.328372</td>\n      <td>19.812340</td>\n      <td>16.300805</td>\n      <td>14.831103</td>\n      <td>9.211938</td>\n      <td>17.209159</td>\n    </tr>\n    <tr>\n      <th>833</th>\n      <td>36083</td>\n      <td>Rensselaer County, New York</td>\n      <td>36</td>\n      <td>83</td>\n      <td>69.525175</td>\n      <td>5.694269</td>\n      <td>19.865767</td>\n      <td>21.884274</td>\n      <td>12.611287</td>\n      <td>9.469578</td>\n      <td>...</td>\n      <td>13.420554</td>\n      <td>8.401801</td>\n      <td>42.175211</td>\n      <td>70.327759</td>\n      <td>5.902441</td>\n      <td>19.919478</td>\n      <td>19.870963</td>\n      <td>13.165820</td>\n      <td>11.469058</td>\n      <td>41.341659</td>\n    </tr>\n    <tr>\n      <th>834</th>\n      <td>36085</td>\n      <td>Richmond County, New York</td>\n      <td>36</td>\n      <td>85</td>\n      <td>69.678470</td>\n      <td>8.140650</td>\n      <td>21.009139</td>\n      <td>17.452832</td>\n      <td>13.788069</td>\n      <td>9.287779</td>\n      <td>...</td>\n      <td>14.675154</td>\n      <td>9.263113</td>\n      <td>26.658042</td>\n      <td>70.041143</td>\n      <td>7.701258</td>\n      <td>20.426427</td>\n      <td>16.545240</td>\n      <td>15.103446</td>\n      <td>10.264773</td>\n      <td>27.038096</td>\n    </tr>\n    <tr>\n      <th>835</th>\n      <td>36087</td>\n      <td>Rockland County, New York</td>\n      <td>36</td>\n      <td>87</td>\n      <td>62.634552</td>\n      <td>6.985173</td>\n      <td>14.286887</td>\n      <td>15.662819</td>\n      <td>14.226377</td>\n      <td>11.473296</td>\n      <td>...</td>\n      <td>14.493928</td>\n      <td>12.075715</td>\n      <td>33.614271</td>\n      <td>62.486456</td>\n      <td>6.950511</td>\n      <td>13.296029</td>\n      <td>15.843383</td>\n      <td>14.269051</td>\n      <td>12.127481</td>\n      <td>34.287530</td>\n    </tr>\n  </tbody>\n</table>\n<p>836 rows × 25 columns</p>\n</div>"
     },
     "execution_count": 254,
     "metadata": {},
     "output_type": "execute_result"
    }
   ],
   "source": [
    "educ_vehicle_2017_2019 = get_df_with_geofips(educ_vehicle_2017_2019, 'state', 'county')\n",
    "educ_vehicle_2017_2019"
   ],
   "metadata": {
    "collapsed": false,
    "pycharm": {
     "name": "#%%\n"
    }
   }
  },
  {
   "cell_type": "markdown",
   "source": [
    "## Merge demographic years as one spanning 2017-2019\n"
   ],
   "metadata": {
    "collapsed": false
   }
  },
  {
   "cell_type": "code",
   "execution_count": 255,
   "outputs": [
    {
     "name": "stderr",
     "output_type": "stream",
     "text": [
      "/home/wkc/.local/lib/python3.8/site-packages/pandas/core/frame.py:4300: SettingWithCopyWarning: \n",
      "A value is trying to be set on a copy of a slice from a DataFrame\n",
      "\n",
      "See the caveats in the documentation: https://pandas.pydata.org/pandas-docs/stable/user_guide/indexing.html#returning-a-view-versus-a-copy\n",
      "  return super().rename(\n"
     ]
    }
   ],
   "source": [
    "# add suffix to each column name then merge\n",
    "demographic = county_dem_ratio_17.columns.values[3:]\n",
    "\n",
    "for dem in demographic:\n",
    "    county_dem_ratio_17.rename(columns={dem:dem + '_2017'}, inplace=True)\n",
    "    county_dem_ratio_18.rename(columns={dem:dem + '_2018'}, inplace=True)\n",
    "    county_dem_ratio_19.rename(columns={dem:dem + '_2019'}, inplace=True)"
   ],
   "metadata": {
    "collapsed": false,
    "pycharm": {
     "name": "#%%\n"
    }
   }
  },
  {
   "cell_type": "code",
   "execution_count": 256,
   "outputs": [
    {
     "data": {
      "text/plain": "(3142, 222)"
     },
     "execution_count": 256,
     "metadata": {},
     "output_type": "execute_result"
    }
   ],
   "source": [
    "county_dem_ratio_2017_2018 = pd.merge(county_dem_ratio_17, county_dem_ratio_18, how='inner')\n",
    "county_dem_ratio_2017_2019 = pd.merge(county_dem_ratio_2017_2018, county_dem_ratio_19, how='inner')\n",
    "county_dem_ratio_2017_2019.shape"
   ],
   "metadata": {
    "collapsed": false,
    "pycharm": {
     "name": "#%%\n"
    }
   }
  },
  {
   "cell_type": "markdown",
   "source": [
    "## Merge avg northeast aqi data"
   ],
   "metadata": {
    "collapsed": false
   }
  },
  {
   "cell_type": "code",
   "execution_count": 257,
   "outputs": [
    {
     "data": {
      "text/plain": "     GeoFIPS         State Name            county Name   AQI_2017   AQI_2018  \\\n0      01003            Alabama                Baldwin  37.503704  36.829630   \n1      01027            Alabama                   Clay  32.457627  28.990909   \n2      01033            Alabama                Colbert  36.155477  35.635379   \n3      01049            Alabama                 DeKalb  38.239554  36.720000   \n4      01051            Alabama                 Elmore  34.371681  35.328829   \n...      ...                ...                    ...        ...        ...   \n1025   72113        Puerto Rico                  Ponce  33.734440  46.448179   \n1026   78010     Virgin Islands               St Croix  24.346154  29.090909   \n1027   78020     Virgin Islands                St John  26.223881  21.000000   \n1028   80002  Country Of Mexico  BAJA CALIFORNIA NORTE  74.343490  85.000000   \n1029   80026  Country Of Mexico                 SONORA  41.282297  40.477901   \n\n       AQI_2019  \n0     38.291513  \n1     31.149533  \n2     35.520913  \n3     39.711911  \n4     38.421053  \n...         ...  \n1025  39.233618  \n1026  24.877193  \n1027  21.752475  \n1028  77.125000  \n1029  44.416201  \n\n[1030 rows x 6 columns]",
      "text/html": "<div>\n<style scoped>\n    .dataframe tbody tr th:only-of-type {\n        vertical-align: middle;\n    }\n\n    .dataframe tbody tr th {\n        vertical-align: top;\n    }\n\n    .dataframe thead th {\n        text-align: right;\n    }\n</style>\n<table border=\"1\" class=\"dataframe\">\n  <thead>\n    <tr style=\"text-align: right;\">\n      <th></th>\n      <th>GeoFIPS</th>\n      <th>State Name</th>\n      <th>county Name</th>\n      <th>AQI_2017</th>\n      <th>AQI_2018</th>\n      <th>AQI_2019</th>\n    </tr>\n  </thead>\n  <tbody>\n    <tr>\n      <th>0</th>\n      <td>01003</td>\n      <td>Alabama</td>\n      <td>Baldwin</td>\n      <td>37.503704</td>\n      <td>36.829630</td>\n      <td>38.291513</td>\n    </tr>\n    <tr>\n      <th>1</th>\n      <td>01027</td>\n      <td>Alabama</td>\n      <td>Clay</td>\n      <td>32.457627</td>\n      <td>28.990909</td>\n      <td>31.149533</td>\n    </tr>\n    <tr>\n      <th>2</th>\n      <td>01033</td>\n      <td>Alabama</td>\n      <td>Colbert</td>\n      <td>36.155477</td>\n      <td>35.635379</td>\n      <td>35.520913</td>\n    </tr>\n    <tr>\n      <th>3</th>\n      <td>01049</td>\n      <td>Alabama</td>\n      <td>DeKalb</td>\n      <td>38.239554</td>\n      <td>36.720000</td>\n      <td>39.711911</td>\n    </tr>\n    <tr>\n      <th>4</th>\n      <td>01051</td>\n      <td>Alabama</td>\n      <td>Elmore</td>\n      <td>34.371681</td>\n      <td>35.328829</td>\n      <td>38.421053</td>\n    </tr>\n    <tr>\n      <th>...</th>\n      <td>...</td>\n      <td>...</td>\n      <td>...</td>\n      <td>...</td>\n      <td>...</td>\n      <td>...</td>\n    </tr>\n    <tr>\n      <th>1025</th>\n      <td>72113</td>\n      <td>Puerto Rico</td>\n      <td>Ponce</td>\n      <td>33.734440</td>\n      <td>46.448179</td>\n      <td>39.233618</td>\n    </tr>\n    <tr>\n      <th>1026</th>\n      <td>78010</td>\n      <td>Virgin Islands</td>\n      <td>St Croix</td>\n      <td>24.346154</td>\n      <td>29.090909</td>\n      <td>24.877193</td>\n    </tr>\n    <tr>\n      <th>1027</th>\n      <td>78020</td>\n      <td>Virgin Islands</td>\n      <td>St John</td>\n      <td>26.223881</td>\n      <td>21.000000</td>\n      <td>21.752475</td>\n    </tr>\n    <tr>\n      <th>1028</th>\n      <td>80002</td>\n      <td>Country Of Mexico</td>\n      <td>BAJA CALIFORNIA NORTE</td>\n      <td>74.343490</td>\n      <td>85.000000</td>\n      <td>77.125000</td>\n    </tr>\n    <tr>\n      <th>1029</th>\n      <td>80026</td>\n      <td>Country Of Mexico</td>\n      <td>SONORA</td>\n      <td>41.282297</td>\n      <td>40.477901</td>\n      <td>44.416201</td>\n    </tr>\n  </tbody>\n</table>\n<p>1030 rows × 6 columns</p>\n</div>"
     },
     "execution_count": 257,
     "metadata": {},
     "output_type": "execute_result"
    }
   ],
   "source": [
    "avg_aqi_2017_2018 = pd.merge(average_aqi_2017, average_aqi_2018, how='inner')\n",
    "avg_aqi_2017_2019 = pd.merge(avg_aqi_2017_2018, average_aqi_2019, how='inner')\n",
    "avg_aqi_2017_2019\n"
   ],
   "metadata": {
    "collapsed": false,
    "pycharm": {
     "name": "#%%\n"
    }
   }
  },
  {
   "cell_type": "markdown",
   "source": [
    "# saved cleaned up datasets\n"
   ],
   "metadata": {
    "collapsed": false
   }
  },
  {
   "cell_type": "code",
   "execution_count": 258,
   "outputs": [],
   "source": [
    "data_path = r'../../data/processed/county_incomes_2017_2019'\n",
    "county_incomes_2017_2019.to_csv(data_path, index=False)\n",
    "\n",
    "data_path = r'../../data/processed/clean_edu_vehicle_2017_2019.csv'\n",
    "educ_vehicle_2017_2019.to_csv(data_path, index=False)\n",
    "\n",
    "data_path = r'../../data/processed/clean_pov_rate_2017_2019.csv'\n",
    "pov_rate_2017_2019.to_csv(data_path, index=False)\n",
    "\n",
    "data_path = r'../../data/processed/clean_UE_rate_2017_2019.csv'\n",
    "UE_county_rate.to_csv(data_path, index=False)\n",
    "\n",
    "data_path = r'../../data/processed/clean_avg_aqi_2017_2019'\n",
    "avg_aqi_2017_2019.to_csv(data_path, index=False)\n",
    "\n",
    "data_path = r'../../data/processed/clean_county_dem_ratio_2017_2019.csv'\n",
    "county_dem_ratio_2017_2019.to_csv(data_path, index=False)\n"
   ],
   "metadata": {
    "collapsed": false,
    "pycharm": {
     "name": "#%%\n"
    }
   }
  },
  {
   "cell_type": "code",
   "execution_count": null,
   "outputs": [],
   "source": [
    "\n"
   ],
   "metadata": {
    "collapsed": false,
    "pycharm": {
     "name": "#%%\n"
    }
   }
  }
 ],
 "metadata": {
  "kernelspec": {
   "name": "pycharm-301d774e",
   "language": "python",
   "display_name": "PyCharm (API_Mini_Project)"
  },
  "language_info": {
   "codemirror_mode": {
    "name": "ipython",
    "version": 2
   },
   "file_extension": ".py",
   "mimetype": "text/x-python",
   "name": "python",
   "nbconvert_exporter": "python",
   "pygments_lexer": "ipython2",
   "version": "2.7.6"
  }
 },
 "nbformat": 4,
 "nbformat_minor": 0
}