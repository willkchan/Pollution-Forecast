{
 "cells": [
  {
   "cell_type": "markdown",
   "source": [
    "# Data wrangling: pollution in NE\n",
    "\n",
    "# Importing libraries"
   ],
   "metadata": {
    "collapsed": false
   }
  },
  {
   "cell_type": "code",
   "execution_count": 3,
   "outputs": [],
   "source": [
    "import numpy as np\n",
    "import pandas as pd\n",
    "import seaborn as sns\n",
    "import sys\n",
    "import os\n",
    "import matplotlib.pyplot as plt\n",
    "import klib\n",
    "\n",
    "import openaq\n",
    "from IPython.core.display import display\n",
    "\n",
    "# pd.set_option('max_columns', None)\n",
    "# pd.reset_optio('max_rows')\n",
    "#np.set_printoptions(threshold=sys.maxsize)\n",
    "\n",
    "plt.style.use('dark_background')\n",
    "plt.rcParams.update({\"grid.linewidth\":0.5, \"grid.alpha\":0.5})\n",
    "sns.set(style='ticks', context='talk')"
   ],
   "metadata": {
    "collapsed": false,
    "pycharm": {
     "name": "#%%\n"
    }
   }
  },
  {
   "cell_type": "markdown",
   "source": [
    "#Load data"
   ],
   "metadata": {
    "collapsed": false
   }
  },
  {
   "cell_type": "code",
   "execution_count": 4,
   "outputs": [],
   "source": [
    "daily_aqi_by_county_2017 = pd.read_csv('../../data/raw/daily_aqi_by_county_2017.csv', encoding='latin-1')\n",
    "daily_aqi_by_county_2018 = pd.read_csv('../../data/raw/daily_aqi_by_county_2018.csv')\n",
    "daily_aqi_by_county_2019 = pd.read_csv('../../data/raw/daily_aqi_by_county_2019.csv')\n",
    "\n",
    "annual_income_by_county = pd.read_csv('../../data/raw/CAINC1__ALL_AREAS_1969_2019.csv', encoding='latin-1')\n",
    "\n",
    "county_demographic = pd.read_csv('../../data/raw/county_cc-est2019-alldata.csv', encoding='latin-1')\n",
    "\n"
   ],
   "metadata": {
    "collapsed": false,
    "pycharm": {
     "name": "#%%\n"
    }
   }
  },
  {
   "cell_type": "markdown",
   "source": [
    "# Explore personal income by county"
   ],
   "metadata": {
    "collapsed": false
   }
  },
  {
   "cell_type": "code",
   "execution_count": 12,
   "outputs": [
    {
     "name": "stdout",
     "output_type": "stream",
     "text": [
      "Index(['GeoFIPS', 'GeoName', 'Region', 'TableName', 'LineCode',\n",
      "       'IndustryClassification', 'Description', 'Unit', '1969', '1970', '1971',\n",
      "       '1972', '1973', '1974', '1975', '1976', '1977', '1978', '1979', '1980',\n",
      "       '1981', '1982', '1983', '1984', '1985', '1986', '1987', '1988', '1989',\n",
      "       '1990', '1991', '1992', '1993', '1994', '1995', '1996', '1997', '1998',\n",
      "       '1999', '2000', '2001', '2002', '2003', '2004', '2005', '2006', '2007',\n",
      "       '2008', '2009', '2010', '2011', '2012', '2013', '2014', '2015', '2016',\n",
      "       '2017', '2018', '2019'],\n",
      "      dtype='object')\n",
      "[' ' '5' '8' '6' '7' '1' '2' '3' '4' nan]\n",
      "    GeoFIPS        GeoName Region TableName  LineCode IndustryClassification  \\\n",
      "0   \"00000\"  United States           CAINC1       1.0                    ...   \n",
      "1   \"00000\"  United States           CAINC1       2.0                    ...   \n",
      "2   \"00000\"  United States           CAINC1       3.0                    ...   \n",
      "3   \"01000\"        Alabama      5    CAINC1       1.0                    ...   \n",
      "4   \"01000\"        Alabama      5    CAINC1       2.0                    ...   \n",
      "\n",
      "                               Description                  Unit       1969  \\\n",
      "0   Personal income (thousands of dollars)  Thousands of dollars  791229000   \n",
      "1                  Population (persons) 1/     Number of persons  201298000   \n",
      "2  Per capita personal income (dollars) 2/               Dollars       3931   \n",
      "3   Personal income (thousands of dollars)  Thousands of dollars    9737715   \n",
      "4                  Population (persons) 1/     Number of persons    3440000   \n",
      "\n",
      "        1970  ...         2010         2011         2012         2013  \\\n",
      "0  855525000  ...  12541995000  13315478000  13998383000  14175503000   \n",
      "1  203798722  ...    309321666    311556874    313830990    315993715   \n",
      "2       4198  ...        40547        42739        44605        44860   \n",
      "3   10628318  ...    161516561    167942757    172804075    174415420   \n",
      "4    3449846  ...      4785437      4799069      4815588      4830081   \n",
      "\n",
      "          2014         2015         2016         2017         2018  \\\n",
      "0  14982715000  15717140000  16151881000  16937582000  17839255000   \n",
      "1    318301008    320635163    322941311    324985539    326687501   \n",
      "2        47071        49019        50015        52118        54606   \n",
      "3    180457683    188711443    192281933    199999756    208752683   \n",
      "4      4841799      4852347      4863525      4874486      4887681   \n",
      "\n",
      "          2019  \n",
      "0  18542262000  \n",
      "1    328239523  \n",
      "2        56490  \n",
      "3    216449038  \n",
      "4      4903185  \n",
      "\n",
      "[5 rows x 59 columns]\n",
      "Index(['State Name', 'county Name', 'State Code', 'County Code', 'Date', 'AQI',\n",
      "       'Category', 'Defining Parameter', 'Defining Site',\n",
      "       'Number of Sites Reporting'],\n",
      "      dtype='object')\n",
      "Index(['SUMLEV', 'STATE', 'COUNTY', 'STNAME', 'CTYNAME', 'YEAR', 'AGEGRP',\n",
      "       'TOT_POP', 'TOT_MALE', 'TOT_FEMALE', 'WA_MALE', 'WA_FEMALE', 'BA_MALE',\n",
      "       'BA_FEMALE', 'IA_MALE', 'IA_FEMALE', 'AA_MALE', 'AA_FEMALE', 'NA_MALE',\n",
      "       'NA_FEMALE', 'TOM_MALE', 'TOM_FEMALE', 'WAC_MALE', 'WAC_FEMALE',\n",
      "       'BAC_MALE', 'BAC_FEMALE', 'IAC_MALE', 'IAC_FEMALE', 'AAC_MALE',\n",
      "       'AAC_FEMALE', 'NAC_MALE', 'NAC_FEMALE', 'NH_MALE', 'NH_FEMALE',\n",
      "       'NHWA_MALE', 'NHWA_FEMALE', 'NHBA_MALE', 'NHBA_FEMALE', 'NHIA_MALE',\n",
      "       'NHIA_FEMALE', 'NHAA_MALE', 'NHAA_FEMALE', 'NHNA_MALE', 'NHNA_FEMALE',\n",
      "       'NHTOM_MALE', 'NHTOM_FEMALE', 'NHWAC_MALE', 'NHWAC_FEMALE',\n",
      "       'NHBAC_MALE', 'NHBAC_FEMALE', 'NHIAC_MALE', 'NHIAC_FEMALE',\n",
      "       'NHAAC_MALE', 'NHAAC_FEMALE', 'NHNAC_MALE', 'NHNAC_FEMALE', 'H_MALE',\n",
      "       'H_FEMALE', 'HWA_MALE', 'HWA_FEMALE', 'HBA_MALE', 'HBA_FEMALE',\n",
      "       'HIA_MALE', 'HIA_FEMALE', 'HAA_MALE', 'HAA_FEMALE', 'HNA_MALE',\n",
      "       'HNA_FEMALE', 'HTOM_MALE', 'HTOM_FEMALE', 'HWAC_MALE', 'HWAC_FEMALE',\n",
      "       'HBAC_MALE', 'HBAC_FEMALE', 'HIAC_MALE', 'HIAC_FEMALE', 'HAAC_MALE',\n",
      "       'HAAC_FEMALE', 'HNAC_MALE', 'HNAC_FEMALE'],\n",
      "      dtype='object')\n"
     ]
    }
   ],
   "source": [
    "print(annual_income_by_county.columns)\n",
    "\n",
    "print(annual_income_by_county.loc[:, 'Region'].unique())\n",
    "\n",
    "print(annual_income_by_county.head())\n",
    "\n",
    "print(county_demographic.columns)"
   ],
   "metadata": {
    "collapsed": false,
    "pycharm": {
     "name": "#%%\n"
    }
   }
  },
  {
   "cell_type": "code",
   "execution_count": 71,
   "outputs": [
    {
     "name": "stdout",
     "output_type": "stream",
     "text": [
      "Index(['State Name', 'county Name', 'State Code', 'County Code', 'Date', 'AQI',\n",
      "       'Category', 'Defining Parameter', 'Defining Site',\n",
      "       'Number of Sites Reporting'],\n",
      "      dtype='object')\n",
      "           State Name county Name  State Code  County Code        Date  AQI  \\\n",
      "133919       Maryland  Washington          24           43  2017-03-26   33   \n",
      "133920       Maryland  Washington          24           43  2017-03-27   34   \n",
      "133921       Maryland  Washington          24           43  2017-03-28   55   \n",
      "133922       Maryland  Washington          24           43  2017-03-29   41   \n",
      "133923       Maryland  Washington          24           43  2017-03-30   37   \n",
      "...               ...         ...         ...          ...         ...  ...   \n",
      "138628  Massachusetts   Worcester          25           27  2017-04-09   47   \n",
      "138629  Massachusetts   Worcester          25           27  2017-04-10   87   \n",
      "138630  Massachusetts   Worcester          25           27  2017-04-11   97   \n",
      "138631  Massachusetts   Worcester          25           27  2017-04-12   49   \n",
      "138632  Massachusetts   Worcester          25           27  2017-04-13   41   \n",
      "\n",
      "        Category Defining Parameter Defining Site  Number of Sites Reporting  \n",
      "133919      Good              Ozone   24-043-0009                          1  \n",
      "133920      Good              Ozone   24-043-0009                          1  \n",
      "133921  Moderate              PM2.5   24-043-0009                          1  \n",
      "133922      Good              Ozone   24-043-0009                          1  \n",
      "133923      Good              Ozone   24-043-0009                          1  \n",
      "...          ...                ...           ...                        ...  \n",
      "138628      Good              Ozone   25-027-0015                          3  \n",
      "138629  Moderate              Ozone   25-027-0024                          3  \n",
      "138630  Moderate              Ozone   25-027-0024                          3  \n",
      "138631      Good              Ozone   25-027-0015                          3  \n",
      "138632      Good              Ozone   25-027-0015                          3  \n",
      "\n",
      "[4714 rows x 10 columns]\n",
      "           State Name county Name  State Code  County Code        Date  AQI  \\\n",
      "133919  Massachusetts  Barnstable          25            1  2019-01-01   33   \n",
      "133920  Massachusetts  Barnstable          25            1  2019-01-02   35   \n",
      "133921  Massachusetts  Barnstable          25            1  2019-01-03   36   \n",
      "133922  Massachusetts  Barnstable          25            1  2019-01-04   26   \n",
      "133923  Massachusetts  Barnstable          25            1  2019-01-05   37   \n",
      "...               ...         ...         ...          ...         ...  ...   \n",
      "138628  Massachusetts   Worcester          25           27  2019-12-27   40   \n",
      "138629  Massachusetts   Worcester          25           27  2019-12-28   28   \n",
      "138630  Massachusetts   Worcester          25           27  2019-12-29   38   \n",
      "138631  Massachusetts   Worcester          25           27  2019-12-30   34   \n",
      "138632  Massachusetts   Worcester          25           27  2019-12-31   31   \n",
      "\n",
      "       Category Defining Parameter Defining Site  Number of Sites Reporting  \n",
      "133919     Good              Ozone   25-001-0002                          1  \n",
      "133920     Good              Ozone   25-001-0002                          1  \n",
      "133921     Good              Ozone   25-001-0002                          1  \n",
      "133922     Good              Ozone   25-001-0002                          1  \n",
      "133923     Good              Ozone   25-001-0002                          1  \n",
      "...         ...                ...           ...                        ...  \n",
      "138628     Good              PM2.5   25-027-0023                          3  \n",
      "138629     Good              Ozone   25-027-0024                          3  \n",
      "138630     Good              PM2.5   25-027-0023                          3  \n",
      "138631     Good              Ozone   25-027-0024                          3  \n",
      "138632     Good              Ozone   25-027-0024                          3  \n",
      "\n",
      "[4714 rows x 10 columns]\n"
     ]
    },
    {
     "data": {
      "text/plain": "       county Name  County Code        Date  AQI Category Defining Parameter  \\\n133919  Barnstable            1  2019-01-01   33     Good              Ozone   \n133920  Barnstable            1  2019-01-02   35     Good              Ozone   \n133921  Barnstable            1  2019-01-03   36     Good              Ozone   \n133922  Barnstable            1  2019-01-04   26     Good              Ozone   \n133923  Barnstable            1  2019-01-05   37     Good              Ozone   \n\n       Defining Site  Number of Sites Reporting  \n133919   25-001-0002                          1  \n133920   25-001-0002                          1  \n133921   25-001-0002                          1  \n133922   25-001-0002                          1  \n133923   25-001-0002                          1  ",
      "text/html": "<div>\n<style scoped>\n    .dataframe tbody tr th:only-of-type {\n        vertical-align: middle;\n    }\n\n    .dataframe tbody tr th {\n        vertical-align: top;\n    }\n\n    .dataframe thead th {\n        text-align: right;\n    }\n</style>\n<table border=\"1\" class=\"dataframe\">\n  <thead>\n    <tr style=\"text-align: right;\">\n      <th></th>\n      <th>county Name</th>\n      <th>County Code</th>\n      <th>Date</th>\n      <th>AQI</th>\n      <th>Category</th>\n      <th>Defining Parameter</th>\n      <th>Defining Site</th>\n      <th>Number of Sites Reporting</th>\n    </tr>\n  </thead>\n  <tbody>\n    <tr>\n      <th>133919</th>\n      <td>Barnstable</td>\n      <td>1</td>\n      <td>2019-01-01</td>\n      <td>33</td>\n      <td>Good</td>\n      <td>Ozone</td>\n      <td>25-001-0002</td>\n      <td>1</td>\n    </tr>\n    <tr>\n      <th>133920</th>\n      <td>Barnstable</td>\n      <td>1</td>\n      <td>2019-01-02</td>\n      <td>35</td>\n      <td>Good</td>\n      <td>Ozone</td>\n      <td>25-001-0002</td>\n      <td>1</td>\n    </tr>\n    <tr>\n      <th>133921</th>\n      <td>Barnstable</td>\n      <td>1</td>\n      <td>2019-01-03</td>\n      <td>36</td>\n      <td>Good</td>\n      <td>Ozone</td>\n      <td>25-001-0002</td>\n      <td>1</td>\n    </tr>\n    <tr>\n      <th>133922</th>\n      <td>Barnstable</td>\n      <td>1</td>\n      <td>2019-01-04</td>\n      <td>26</td>\n      <td>Good</td>\n      <td>Ozone</td>\n      <td>25-001-0002</td>\n      <td>1</td>\n    </tr>\n    <tr>\n      <th>133923</th>\n      <td>Barnstable</td>\n      <td>1</td>\n      <td>2019-01-05</td>\n      <td>37</td>\n      <td>Good</td>\n      <td>Ozone</td>\n      <td>25-001-0002</td>\n      <td>1</td>\n    </tr>\n  </tbody>\n</table>\n</div>"
     },
     "execution_count": 71,
     "metadata": {},
     "output_type": "execute_result"
    }
   ],
   "source": [
    "# work with one state massachusetts 2019\n",
    "\n",
    "print(daily_aqi_by_county_2019.columns)\n",
    "\n",
    "print(daily_aqi_by_county_2017.loc[daily_aqi_by_county_2019['State Name'].str.startswith('Mass')])\n",
    "\n",
    "mass = daily_aqi_by_county_2019['State Code'] == 25\n",
    "\n",
    "print(daily_aqi_by_county_2019.loc[mass])\n",
    "\n",
    "mass = pd.DataFrame(daily_aqi_by_county_2019[mass])\n",
    "mass.drop(['State Code', 'State Name'], axis=1, inplace=True)\n",
    "mass.head()"
   ],
   "metadata": {
    "collapsed": false,
    "pycharm": {
     "name": "#%%\n"
    }
   }
  },
  {
   "cell_type": "code",
   "execution_count": null,
   "outputs": [
    {
     "name": "stdout",
     "output_type": "stream",
     "text": [
      "       County Code          AQI  Number of Sites Reporting\n",
      "count  4714.000000  4714.000000                4714.000000\n",
      "mean     13.645736    38.623250                   1.677980\n",
      "std       8.242896    10.589007                   0.732266\n",
      "min       1.000000     2.000000                   1.000000\n",
      "25%       7.000000    32.000000                   1.000000\n",
      "50%      13.000000    38.000000                   2.000000\n",
      "75%      21.000000    44.000000                   2.000000\n",
      "max      27.000000   126.000000                   3.000000\n"
     ]
    },
    {
     "data": {
      "text/plain": "<AxesSubplot:xlabel='county Name'>"
     },
     "execution_count": 76,
     "metadata": {},
     "output_type": "execute_result"
    },
    {
     "data": {
      "text/plain": "<Figure size 1080x1440 with 4 Axes>",
      "image/png": "[encoded data removed]"
     },
     "metadata": {},
     "output_type": "display_data"
    }
   ],
   "source": [
    "# klib.dist_plot(mass)\n",
    "\n",
    "print(mass.describe())\n",
    "\n",
    "mass.hist(figsize=(15,20))\n",
    "plt.subplots_adjust(hspace=0.7, wspace=0.5)"
   ],
   "metadata": {
    "collapsed": false,
    "pycharm": {
     "name": "#%%\n",
     "is_executing": true
    }
   }
  },
  {
   "cell_type": "code",
   "execution_count": null,
   "outputs": [],
   "source": [
    "mass.plot(kind='bar', x='county Name', y='AQI')"
   ],
   "metadata": {
    "collapsed": false,
    "pycharm": {
     "name": "#%%\n"
    }
   }
  }
 ],
 "metadata": {
  "kernelspec": {
   "name": "pycharm-301d774e",
   "language": "python",
   "display_name": "PyCharm (API_Mini_Project)"
  },
  "language_info": {
   "codemirror_mode": {
    "name": "ipython",
    "version": 2
   },
   "file_extension": ".py",
   "mimetype": "text/x-python",
   "name": "python",
   "nbconvert_exporter": "python",
   "pygments_lexer": "ipython2",
   "version": "2.7.6"
  }
 },
 "nbformat": 4,
 "nbformat_minor": 0
}