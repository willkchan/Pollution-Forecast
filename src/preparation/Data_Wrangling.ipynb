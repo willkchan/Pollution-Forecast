{
 "cells": [
  {
   "cell_type": "markdown",
   "source": [
    "Importing libraries"
   ],
   "metadata": {
    "collapsed": false
   }
  },
  {
   "cell_type": "markdown",
   "source": [],
   "metadata": {
    "collapsed": false,
    "pycharm": {
     "name": "#%% md\n"
    }
   }
  },
  {
   "cell_type": "code",
   "execution_count": 1,
   "metadata": {
    "collapsed": true
   },
   "outputs": [],
   "source": [
    "import numpy as np\n",
    "import pandas as pd\n",
    "import seaborn as sns\n",
    "import sys\n",
    "import os\n",
    "import matplotlib.pyplot as plt\n",
    "\n",
    "import openaq\n",
    "from IPython.core.display import display\n",
    "\n",
    "plt.style.use('dark_background')\n",
    "plt.rcParams.update({\"grid.linewidth\":0.5, \"grid.alpha\":0.5})\n",
    "sns.set(style='ticks', context='talk')"
   ]
  },
  {
   "cell_type": "markdown",
   "source": [
    "load data"
   ],
   "metadata": {
    "collapsed": false
   }
  },
  {
   "cell_type": "markdown",
   "source": [],
   "metadata": {
    "collapsed": false
   }
  },
  {
   "cell_type": "code",
   "source": [
    "# pd.set_option('max_columns', None)\n",
    "# pd.set_option('max_rows', None)\n",
    "#np.set_printoptions(threshold=sys.maxsize)\n",
    "\n",
    "\n",
    "daily_aqi_by_county_2017 = pd.read_csv('../../data/raw/daily_aqi_by_county_2017.csv')\n",
    "daily_aqi_by_county_2018 = pd.read_csv('../../data/raw/daily_aqi_by_county_2018.csv')\n",
    "daily_aqi_by_county_2019 = pd.read_csv('../../data/raw/daily_aqi_by_county_2019.csv')\n",
    "\n",
    "annual_income_by_county = pd.read_csv('../../data/raw/CAINC1__ALL_AREAS_1969_2019.csv', encoding='latin-1')\n",
    "\n",
    "county_ethnicities = pd.read_csv('../../data/raw/county_cc-est2019-alldata.csv', encoding='latin-1')\n",
    "\n"
   ],
   "metadata": {
    "collapsed": false,
    "pycharm": {
     "name": "#%%\n"
    }
   },
   "execution_count": 2,
   "outputs": []
  },
  {
   "cell_type": "markdown",
   "source": [
    "Clean annual personal income by county"
   ],
   "metadata": {
    "collapsed": false
   }
  },
  {
   "cell_type": "markdown",
   "source": [
    "Remove columns we do not need and rows not needed"
   ],
   "metadata": {
    "collapsed": false
   }
  },
  {
   "cell_type": "code",
   "source": [
    "def remove_col(df, col_name):\n",
    "    '''Returns a dataframe with removed column or columns from old dataframe'''\n",
    "    new_df = df.copy()\n",
    "\n",
    "    if(type(col_name) != str and len(col_name) > 1):\n",
    "        for index in col_name:\n",
    "            new_df = new_df.drop(str(index), axis=1)\n",
    "    else:\n",
    "        new_df = new_df.drop(str(col_name), axis=1)\n",
    "    return new_df\n",
    "\n",
    "# used to remove years we do not need\n",
    "income_by_county_2017_2019 = remove_col(annual_income_by_county, range(1969, 2017))\n",
    "\n",
    "# used to remove last 4 rows as they are not index data; looks like extra info\n",
    "income_by_county_2017_2019 = income_by_county_2017_2019[:len(income_by_county_2017_2019) - 4]\n",
    "\n",
    "# income_by_county_2017_2019.info()\n",
    "income_by_county_2017_2019"
   ],
   "metadata": {
    "collapsed": false,
    "pycharm": {
     "name": "#%%\n"
    }
   },
   "execution_count": 3,
   "outputs": [
    {
     "data": {
      "text/plain": "       GeoFIPS         GeoName Region TableName  LineCode  \\\n0      \"00000\"   United States           CAINC1       1.0   \n1      \"00000\"   United States           CAINC1       2.0   \n2      \"00000\"   United States           CAINC1       3.0   \n3      \"01000\"         Alabama      5    CAINC1       1.0   \n4      \"01000\"         Alabama      5    CAINC1       2.0   \n...        ...             ...    ...       ...       ...   \n9589   \"97000\"  Rocky Mountain      7    CAINC1       2.0   \n9590   \"97000\"  Rocky Mountain      7    CAINC1       3.0   \n9591   \"98000\"        Far West      8    CAINC1       1.0   \n9592   \"98000\"        Far West      8    CAINC1       2.0   \n9593   \"98000\"        Far West      8    CAINC1       3.0   \n\n     IndustryClassification                              Description  \\\n0                       ...   Personal income (thousands of dollars)   \n1                       ...                  Population (persons) 1/   \n2                       ...  Per capita personal income (dollars) 2/   \n3                       ...   Personal income (thousands of dollars)   \n4                       ...                  Population (persons) 1/   \n...                     ...                                      ...   \n9589                    ...                  Population (persons) 1/   \n9590                    ...  Per capita personal income (dollars) 2/   \n9591                    ...   Personal income (thousands of dollars)   \n9592                    ...                  Population (persons) 1/   \n9593                    ...  Per capita personal income (dollars) 2/   \n\n                      Unit         2017         2018         2019  \n0     Thousands of dollars  16937582000  17839255000  18542262000  \n1        Number of persons    324985539    326687501    328239523  \n2                  Dollars        52118        54606        56490  \n3     Thousands of dollars    199999756    208752683    216449038  \n4        Number of persons      4874486      4887681      4903185  \n...                    ...          ...          ...          ...  \n9589     Number of persons     12062055     12233639     12399296  \n9590               Dollars        49991        52936        54873  \n9591  Thousands of dollars   3279057722   3472097346   3634009401  \n9592     Number of persons     56059482     56350416     56572426  \n9593               Dollars        58492        61616        64236  \n\n[9594 rows x 11 columns]",
      "text/html": "<div>\n<style scoped>\n    .dataframe tbody tr th:only-of-type {\n        vertical-align: middle;\n    }\n\n    .dataframe tbody tr th {\n        vertical-align: top;\n    }\n\n    .dataframe thead th {\n        text-align: right;\n    }\n</style>\n<table border=\"1\" class=\"dataframe\">\n  <thead>\n    <tr style=\"text-align: right;\">\n      <th></th>\n      <th>GeoFIPS</th>\n      <th>GeoName</th>\n      <th>Region</th>\n      <th>TableName</th>\n      <th>LineCode</th>\n      <th>IndustryClassification</th>\n      <th>Description</th>\n      <th>Unit</th>\n      <th>2017</th>\n      <th>2018</th>\n      <th>2019</th>\n    </tr>\n  </thead>\n  <tbody>\n    <tr>\n      <th>0</th>\n      <td>\"00000\"</td>\n      <td>United States</td>\n      <td></td>\n      <td>CAINC1</td>\n      <td>1.0</td>\n      <td>...</td>\n      <td>Personal income (thousands of dollars)</td>\n      <td>Thousands of dollars</td>\n      <td>16937582000</td>\n      <td>17839255000</td>\n      <td>18542262000</td>\n    </tr>\n    <tr>\n      <th>1</th>\n      <td>\"00000\"</td>\n      <td>United States</td>\n      <td></td>\n      <td>CAINC1</td>\n      <td>2.0</td>\n      <td>...</td>\n      <td>Population (persons) 1/</td>\n      <td>Number of persons</td>\n      <td>324985539</td>\n      <td>326687501</td>\n      <td>328239523</td>\n    </tr>\n    <tr>\n      <th>2</th>\n      <td>\"00000\"</td>\n      <td>United States</td>\n      <td></td>\n      <td>CAINC1</td>\n      <td>3.0</td>\n      <td>...</td>\n      <td>Per capita personal income (dollars) 2/</td>\n      <td>Dollars</td>\n      <td>52118</td>\n      <td>54606</td>\n      <td>56490</td>\n    </tr>\n    <tr>\n      <th>3</th>\n      <td>\"01000\"</td>\n      <td>Alabama</td>\n      <td>5</td>\n      <td>CAINC1</td>\n      <td>1.0</td>\n      <td>...</td>\n      <td>Personal income (thousands of dollars)</td>\n      <td>Thousands of dollars</td>\n      <td>199999756</td>\n      <td>208752683</td>\n      <td>216449038</td>\n    </tr>\n    <tr>\n      <th>4</th>\n      <td>\"01000\"</td>\n      <td>Alabama</td>\n      <td>5</td>\n      <td>CAINC1</td>\n      <td>2.0</td>\n      <td>...</td>\n      <td>Population (persons) 1/</td>\n      <td>Number of persons</td>\n      <td>4874486</td>\n      <td>4887681</td>\n      <td>4903185</td>\n    </tr>\n    <tr>\n      <th>...</th>\n      <td>...</td>\n      <td>...</td>\n      <td>...</td>\n      <td>...</td>\n      <td>...</td>\n      <td>...</td>\n      <td>...</td>\n      <td>...</td>\n      <td>...</td>\n      <td>...</td>\n      <td>...</td>\n    </tr>\n    <tr>\n      <th>9589</th>\n      <td>\"97000\"</td>\n      <td>Rocky Mountain</td>\n      <td>7</td>\n      <td>CAINC1</td>\n      <td>2.0</td>\n      <td>...</td>\n      <td>Population (persons) 1/</td>\n      <td>Number of persons</td>\n      <td>12062055</td>\n      <td>12233639</td>\n      <td>12399296</td>\n    </tr>\n    <tr>\n      <th>9590</th>\n      <td>\"97000\"</td>\n      <td>Rocky Mountain</td>\n      <td>7</td>\n      <td>CAINC1</td>\n      <td>3.0</td>\n      <td>...</td>\n      <td>Per capita personal income (dollars) 2/</td>\n      <td>Dollars</td>\n      <td>49991</td>\n      <td>52936</td>\n      <td>54873</td>\n    </tr>\n    <tr>\n      <th>9591</th>\n      <td>\"98000\"</td>\n      <td>Far West</td>\n      <td>8</td>\n      <td>CAINC1</td>\n      <td>1.0</td>\n      <td>...</td>\n      <td>Personal income (thousands of dollars)</td>\n      <td>Thousands of dollars</td>\n      <td>3279057722</td>\n      <td>3472097346</td>\n      <td>3634009401</td>\n    </tr>\n    <tr>\n      <th>9592</th>\n      <td>\"98000\"</td>\n      <td>Far West</td>\n      <td>8</td>\n      <td>CAINC1</td>\n      <td>2.0</td>\n      <td>...</td>\n      <td>Population (persons) 1/</td>\n      <td>Number of persons</td>\n      <td>56059482</td>\n      <td>56350416</td>\n      <td>56572426</td>\n    </tr>\n    <tr>\n      <th>9593</th>\n      <td>\"98000\"</td>\n      <td>Far West</td>\n      <td>8</td>\n      <td>CAINC1</td>\n      <td>3.0</td>\n      <td>...</td>\n      <td>Per capita personal income (dollars) 2/</td>\n      <td>Dollars</td>\n      <td>58492</td>\n      <td>61616</td>\n      <td>64236</td>\n    </tr>\n  </tbody>\n</table>\n<p>9594 rows × 11 columns</p>\n</div>"
     },
     "execution_count": 3,
     "metadata": {},
     "output_type": "execute_result"
    }
   ]
  },
  {
   "cell_type": "markdown",
   "source": [
    "change column types"
   ],
   "metadata": {
    "collapsed": false,
    "pycharm": {
     "name": "#%% md\n"
    }
   }
  },
  {
   "cell_type": "code",
   "execution_count": 4,
   "outputs": [
    {
     "name": "stdout",
     "output_type": "stream",
     "text": [
      "<class 'pandas.core.frame.DataFrame'>\n",
      "RangeIndex: 9594 entries, 0 to 9593\n",
      "Data columns (total 14 columns):\n",
      " #   Column                            Non-Null Count  Dtype  \n",
      "---  ------                            --------------  -----  \n",
      " 0   GeoFIPS                           9594 non-null   object \n",
      " 1   GeoName                           9594 non-null   object \n",
      " 2   Region                            9594 non-null   object \n",
      " 3   TableName                         9594 non-null   object \n",
      " 4   LineCode                          9594 non-null   float64\n",
      " 5   IndustryClassification            9594 non-null   object \n",
      " 6   Description                       9594 non-null   object \n",
      " 7   Unit                              9594 non-null   object \n",
      " 8   2017                              9594 non-null   object \n",
      " 9   2018                              9594 non-null   object \n",
      " 10  2019                              9594 non-null   object \n",
      " 11  Year 2017 (thousands of dollars)  9519 non-null   float32\n",
      " 12  Year 2018 (thousands of dollars)  9519 non-null   float32\n",
      " 13  Year 2019 (thousands of dollars)  9519 non-null   float32\n",
      "dtypes: float32(3), float64(1), object(10)\n",
      "memory usage: 937.0+ KB\n"
     ]
    }
   ],
   "source": [
    "# income_by_county_2017_2019['2017'].fillna(np.NaN, inplace=True)\n",
    "# income_by_county_2017_2019['2017 personal income'] = income_by_county_2017_2019['2017'].astype(float)\n",
    "\n",
    "# for i, item in enumerate(income_by_county_2017_2019['2017']):\n",
    "#    try:\n",
    "#       int(item)\n",
    "#    except ValueError:\n",
    "#        print('ERROR at index {}: {!r}'.format(i, item))\n",
    "#        break\n",
    "\n",
    "income_by_county_2017_2019['Year 2017 (thousands of dollars)'] = pd.to_numeric(income_by_county_2017_2019['2017'], downcast='float', errors='coerce')\n",
    "income_by_county_2017_2019['Year 2018 (thousands of dollars)'] = pd.to_numeric(income_by_county_2017_2019['2018'], downcast='float', errors='coerce')\n",
    "income_by_county_2017_2019['Year 2019 (thousands of dollars)'] = pd.to_numeric(income_by_county_2017_2019['2019'], downcast='float', errors='coerce')\n",
    "income_by_county_2017_2019.info()"
   ],
   "metadata": {
    "collapsed": false,
    "pycharm": {
     "name": "#%%\n"
    }
   }
  },
  {
   "cell_type": "markdown",
   "source": [
    "drop old object columns for years"
   ],
   "metadata": {
    "collapsed": false
   }
  },
  {
   "cell_type": "code",
   "execution_count": 5,
   "outputs": [
    {
     "name": "stdout",
     "output_type": "stream",
     "text": [
      "<class 'pandas.core.frame.DataFrame'>\n",
      "RangeIndex: 9594 entries, 0 to 9593\n",
      "Data columns (total 11 columns):\n",
      " #   Column                            Non-Null Count  Dtype  \n",
      "---  ------                            --------------  -----  \n",
      " 0   GeoFIPS                           9594 non-null   object \n",
      " 1   GeoName                           9594 non-null   object \n",
      " 2   Region                            9594 non-null   object \n",
      " 3   TableName                         9594 non-null   object \n",
      " 4   LineCode                          9594 non-null   float64\n",
      " 5   IndustryClassification            9594 non-null   object \n",
      " 6   Description                       9594 non-null   object \n",
      " 7   Unit                              9594 non-null   object \n",
      " 8   Year 2017 (thousands of dollars)  9519 non-null   float32\n",
      " 9   Year 2018 (thousands of dollars)  9519 non-null   float32\n",
      " 10  Year 2019 (thousands of dollars)  9519 non-null   float32\n",
      "dtypes: float32(3), float64(1), object(7)\n",
      "memory usage: 712.2+ KB\n"
     ]
    }
   ],
   "source": [
    "income_by_county_2017_2019 = remove_col(income_by_county_2017_2019, range(2017,2020))\n",
    "income_by_county_2017_2019.info()"
   ],
   "metadata": {
    "collapsed": false,
    "pycharm": {
     "name": "#%%\n"
    }
   }
  },
  {
   "cell_type": "markdown",
   "source": [
    "need to deal with the 3 descriptions personal income, population, per capita personal income (dollars)"
   ],
   "metadata": {
    "collapsed": false
   }
  },
  {
   "cell_type": "code",
   "source": [
    "personal_income = income_by_county_2017_2019['Description'] == ('Personal income (thousands of dollars)')\n",
    "personal_incomes_2017_2019 = income_by_county_2017_2019[personal_income]\n",
    "personal_incomes_2017_2019.head()"
   ],
   "metadata": {
    "collapsed": false,
    "pycharm": {
     "name": "#%%\n"
    }
   },
   "execution_count": 6,
   "outputs": [
    {
     "data": {
      "text/plain": "     GeoFIPS        GeoName Region TableName  LineCode IndustryClassification  \\\n0    \"00000\"  United States           CAINC1       1.0                    ...   \n3    \"01000\"        Alabama      5    CAINC1       1.0                    ...   \n6    \"01001\"    Autauga, AL      5    CAINC1       1.0                    ...   \n9    \"01003\"    Baldwin, AL      5    CAINC1       1.0                    ...   \n12   \"01005\"    Barbour, AL      5    CAINC1       1.0                    ...   \n\n                               Description                  Unit  \\\n0   Personal income (thousands of dollars)  Thousands of dollars   \n3   Personal income (thousands of dollars)  Thousands of dollars   \n6   Personal income (thousands of dollars)  Thousands of dollars   \n9   Personal income (thousands of dollars)  Thousands of dollars   \n12  Personal income (thousands of dollars)  Thousands of dollars   \n\n    Year 2017 (thousands of dollars)  Year 2018 (thousands of dollars)  \\\n0                       1.693758e+10                      1.783926e+10   \n3                       1.999998e+08                      2.087527e+08   \n6                       2.276561e+06                      2.360366e+06   \n9                       9.471242e+06                      1.006597e+07   \n12                      8.381840e+05                      8.721890e+05   \n\n    Year 2019 (thousands of dollars)  \n0                       1.854226e+10  \n3                       2.164490e+08  \n6                       2.453617e+06  \n9                       1.060026e+07  \n12                      8.828340e+05  ",
      "text/html": "<div>\n<style scoped>\n    .dataframe tbody tr th:only-of-type {\n        vertical-align: middle;\n    }\n\n    .dataframe tbody tr th {\n        vertical-align: top;\n    }\n\n    .dataframe thead th {\n        text-align: right;\n    }\n</style>\n<table border=\"1\" class=\"dataframe\">\n  <thead>\n    <tr style=\"text-align: right;\">\n      <th></th>\n      <th>GeoFIPS</th>\n      <th>GeoName</th>\n      <th>Region</th>\n      <th>TableName</th>\n      <th>LineCode</th>\n      <th>IndustryClassification</th>\n      <th>Description</th>\n      <th>Unit</th>\n      <th>Year 2017 (thousands of dollars)</th>\n      <th>Year 2018 (thousands of dollars)</th>\n      <th>Year 2019 (thousands of dollars)</th>\n    </tr>\n  </thead>\n  <tbody>\n    <tr>\n      <th>0</th>\n      <td>\"00000\"</td>\n      <td>United States</td>\n      <td></td>\n      <td>CAINC1</td>\n      <td>1.0</td>\n      <td>...</td>\n      <td>Personal income (thousands of dollars)</td>\n      <td>Thousands of dollars</td>\n      <td>1.693758e+10</td>\n      <td>1.783926e+10</td>\n      <td>1.854226e+10</td>\n    </tr>\n    <tr>\n      <th>3</th>\n      <td>\"01000\"</td>\n      <td>Alabama</td>\n      <td>5</td>\n      <td>CAINC1</td>\n      <td>1.0</td>\n      <td>...</td>\n      <td>Personal income (thousands of dollars)</td>\n      <td>Thousands of dollars</td>\n      <td>1.999998e+08</td>\n      <td>2.087527e+08</td>\n      <td>2.164490e+08</td>\n    </tr>\n    <tr>\n      <th>6</th>\n      <td>\"01001\"</td>\n      <td>Autauga, AL</td>\n      <td>5</td>\n      <td>CAINC1</td>\n      <td>1.0</td>\n      <td>...</td>\n      <td>Personal income (thousands of dollars)</td>\n      <td>Thousands of dollars</td>\n      <td>2.276561e+06</td>\n      <td>2.360366e+06</td>\n      <td>2.453617e+06</td>\n    </tr>\n    <tr>\n      <th>9</th>\n      <td>\"01003\"</td>\n      <td>Baldwin, AL</td>\n      <td>5</td>\n      <td>CAINC1</td>\n      <td>1.0</td>\n      <td>...</td>\n      <td>Personal income (thousands of dollars)</td>\n      <td>Thousands of dollars</td>\n      <td>9.471242e+06</td>\n      <td>1.006597e+07</td>\n      <td>1.060026e+07</td>\n    </tr>\n    <tr>\n      <th>12</th>\n      <td>\"01005\"</td>\n      <td>Barbour, AL</td>\n      <td>5</td>\n      <td>CAINC1</td>\n      <td>1.0</td>\n      <td>...</td>\n      <td>Personal income (thousands of dollars)</td>\n      <td>Thousands of dollars</td>\n      <td>8.381840e+05</td>\n      <td>8.721890e+05</td>\n      <td>8.828340e+05</td>\n    </tr>\n  </tbody>\n</table>\n</div>"
     },
     "execution_count": 6,
     "metadata": {},
     "output_type": "execute_result"
    }
   ]
  },
  {
   "cell_type": "markdown",
   "source": [
    "remove more columns\n",
    "remove IndustryClassifaction as it only contains ... values and also not what we are interested in\n",
    "remove TableName as only one value and not what we are interested in\n",
    "remove Unit as that has the same value as Thousands of dollars\n",
    "remove descripton as that is all personal income now"
   ],
   "metadata": {
    "collapsed": false,
    "pycharm": {
     "name": "#%% md\n"
    }
   }
  },
  {
   "cell_type": "code",
   "execution_count": 7,
   "outputs": [
    {
     "data": {
      "text/plain": "       GeoFIPS         GeoName Region  LineCode  \\\n0      \"00000\"   United States              1.0   \n3      \"01000\"         Alabama      5       1.0   \n6      \"01001\"     Autauga, AL      5       1.0   \n9      \"01003\"     Baldwin, AL      5       1.0   \n12     \"01005\"     Barbour, AL      5       1.0   \n...        ...             ...    ...       ...   \n9579   \"94000\"          Plains      4       1.0   \n9582   \"95000\"       Southeast      5       1.0   \n9585   \"96000\"       Southwest      6       1.0   \n9588   \"97000\"  Rocky Mountain      7       1.0   \n9591   \"98000\"        Far West      8       1.0   \n\n      Year 2017 (thousands of dollars)  Year 2018 (thousands of dollars)  \\\n0                         1.693758e+10                      1.783926e+10   \n3                         1.999998e+08                      2.087527e+08   \n6                         2.276561e+06                      2.360366e+06   \n9                         9.471242e+06                      1.006597e+07   \n12                        8.381840e+05                      8.721890e+05   \n...                                ...                               ...   \n9579                      1.055029e+09                      1.107630e+09   \n9582                      3.818755e+09                      4.022276e+09   \n9585                      1.924648e+09                      2.051027e+09   \n9588                      6.029942e+08                      6.476007e+08   \n9591                      3.279058e+09                      3.472097e+09   \n\n      Year 2019 (thousands of dollars)  \n0                         1.854226e+10  \n3                         2.164490e+08  \n6                         2.453617e+06  \n9                         1.060026e+07  \n12                        8.828340e+05  \n...                                ...  \n9579                      1.146515e+09  \n9582                      4.173677e+09  \n9585                      2.144764e+09  \n9588                      6.803901e+08  \n9591                      3.634009e+09  \n\n[3198 rows x 7 columns]",
      "text/html": "<div>\n<style scoped>\n    .dataframe tbody tr th:only-of-type {\n        vertical-align: middle;\n    }\n\n    .dataframe tbody tr th {\n        vertical-align: top;\n    }\n\n    .dataframe thead th {\n        text-align: right;\n    }\n</style>\n<table border=\"1\" class=\"dataframe\">\n  <thead>\n    <tr style=\"text-align: right;\">\n      <th></th>\n      <th>GeoFIPS</th>\n      <th>GeoName</th>\n      <th>Region</th>\n      <th>LineCode</th>\n      <th>Year 2017 (thousands of dollars)</th>\n      <th>Year 2018 (thousands of dollars)</th>\n      <th>Year 2019 (thousands of dollars)</th>\n    </tr>\n  </thead>\n  <tbody>\n    <tr>\n      <th>0</th>\n      <td>\"00000\"</td>\n      <td>United States</td>\n      <td></td>\n      <td>1.0</td>\n      <td>1.693758e+10</td>\n      <td>1.783926e+10</td>\n      <td>1.854226e+10</td>\n    </tr>\n    <tr>\n      <th>3</th>\n      <td>\"01000\"</td>\n      <td>Alabama</td>\n      <td>5</td>\n      <td>1.0</td>\n      <td>1.999998e+08</td>\n      <td>2.087527e+08</td>\n      <td>2.164490e+08</td>\n    </tr>\n    <tr>\n      <th>6</th>\n      <td>\"01001\"</td>\n      <td>Autauga, AL</td>\n      <td>5</td>\n      <td>1.0</td>\n      <td>2.276561e+06</td>\n      <td>2.360366e+06</td>\n      <td>2.453617e+06</td>\n    </tr>\n    <tr>\n      <th>9</th>\n      <td>\"01003\"</td>\n      <td>Baldwin, AL</td>\n      <td>5</td>\n      <td>1.0</td>\n      <td>9.471242e+06</td>\n      <td>1.006597e+07</td>\n      <td>1.060026e+07</td>\n    </tr>\n    <tr>\n      <th>12</th>\n      <td>\"01005\"</td>\n      <td>Barbour, AL</td>\n      <td>5</td>\n      <td>1.0</td>\n      <td>8.381840e+05</td>\n      <td>8.721890e+05</td>\n      <td>8.828340e+05</td>\n    </tr>\n    <tr>\n      <th>...</th>\n      <td>...</td>\n      <td>...</td>\n      <td>...</td>\n      <td>...</td>\n      <td>...</td>\n      <td>...</td>\n      <td>...</td>\n    </tr>\n    <tr>\n      <th>9579</th>\n      <td>\"94000\"</td>\n      <td>Plains</td>\n      <td>4</td>\n      <td>1.0</td>\n      <td>1.055029e+09</td>\n      <td>1.107630e+09</td>\n      <td>1.146515e+09</td>\n    </tr>\n    <tr>\n      <th>9582</th>\n      <td>\"95000\"</td>\n      <td>Southeast</td>\n      <td>5</td>\n      <td>1.0</td>\n      <td>3.818755e+09</td>\n      <td>4.022276e+09</td>\n      <td>4.173677e+09</td>\n    </tr>\n    <tr>\n      <th>9585</th>\n      <td>\"96000\"</td>\n      <td>Southwest</td>\n      <td>6</td>\n      <td>1.0</td>\n      <td>1.924648e+09</td>\n      <td>2.051027e+09</td>\n      <td>2.144764e+09</td>\n    </tr>\n    <tr>\n      <th>9588</th>\n      <td>\"97000\"</td>\n      <td>Rocky Mountain</td>\n      <td>7</td>\n      <td>1.0</td>\n      <td>6.029942e+08</td>\n      <td>6.476007e+08</td>\n      <td>6.803901e+08</td>\n    </tr>\n    <tr>\n      <th>9591</th>\n      <td>\"98000\"</td>\n      <td>Far West</td>\n      <td>8</td>\n      <td>1.0</td>\n      <td>3.279058e+09</td>\n      <td>3.472097e+09</td>\n      <td>3.634009e+09</td>\n    </tr>\n  </tbody>\n</table>\n<p>3198 rows × 7 columns</p>\n</div>"
     },
     "execution_count": 7,
     "metadata": {},
     "output_type": "execute_result"
    }
   ],
   "source": [
    "cols_to_remove = ['IndustryClassification', 'TableName', 'Unit', 'Description']\n",
    "# personal_incomes_2017_2019 = remove_col(personal_income, cols_to_remove)\n",
    "personal_incomes_2017_2019\n",
    "personal_incomes_2017_2019 = remove_col(personal_incomes_2017_2019, cols_to_remove)\n",
    "personal_incomes_2017_2019"
   ],
   "metadata": {
    "collapsed": false,
    "pycharm": {
     "name": "#%%\n"
    }
   }
  },
  {
   "cell_type": "markdown",
   "source": [
    "Combine the aqi pollution years together"
   ],
   "metadata": {
    "collapsed": false,
    "pycharm": {
     "name": "#%% md\n"
    }
   }
  },
  {
   "cell_type": "code",
   "execution_count": 8,
   "outputs": [
    {
     "data": {
      "text/plain": "       State Name county Name  State Code  County Code        Date  AQI  \\\n0         Alabama     Baldwin           1            3  2017-01-01   21   \n1         Alabama     Baldwin           1            3  2017-01-04   22   \n2         Alabama     Baldwin           1            3  2017-01-10   19   \n3         Alabama     Baldwin           1            3  2017-01-13   30   \n4         Alabama     Baldwin           1            3  2017-01-16   16   \n...           ...         ...         ...          ...         ...  ...   \n341940    Wyoming      Weston          56           45  2019-12-27   36   \n341941    Wyoming      Weston          56           45  2019-12-28   37   \n341942    Wyoming      Weston          56           45  2019-12-29   34   \n341943    Wyoming      Weston          56           45  2019-12-30   36   \n341944    Wyoming      Weston          56           45  2019-12-31   40   \n\n       Category Defining Parameter Defining Site  Number of Sites Reporting  \n0          Good              PM2.5   01-003-0010                          1  \n1          Good              PM2.5   01-003-0010                          1  \n2          Good              PM2.5   01-003-0010                          1  \n3          Good              PM2.5   01-003-0010                          1  \n4          Good              PM2.5   01-003-0010                          1  \n...         ...                ...           ...                        ...  \n341940     Good              Ozone   56-045-0003                          2  \n341941     Good              Ozone   56-045-0003                          2  \n341942     Good              Ozone   56-045-0003                          2  \n341943     Good              Ozone   56-045-0003                          2  \n341944     Good              Ozone   56-045-0003                          2  \n\n[1026379 rows x 10 columns]",
      "text/html": "<div>\n<style scoped>\n    .dataframe tbody tr th:only-of-type {\n        vertical-align: middle;\n    }\n\n    .dataframe tbody tr th {\n        vertical-align: top;\n    }\n\n    .dataframe thead th {\n        text-align: right;\n    }\n</style>\n<table border=\"1\" class=\"dataframe\">\n  <thead>\n    <tr style=\"text-align: right;\">\n      <th></th>\n      <th>State Name</th>\n      <th>county Name</th>\n      <th>State Code</th>\n      <th>County Code</th>\n      <th>Date</th>\n      <th>AQI</th>\n      <th>Category</th>\n      <th>Defining Parameter</th>\n      <th>Defining Site</th>\n      <th>Number of Sites Reporting</th>\n    </tr>\n  </thead>\n  <tbody>\n    <tr>\n      <th>0</th>\n      <td>Alabama</td>\n      <td>Baldwin</td>\n      <td>1</td>\n      <td>3</td>\n      <td>2017-01-01</td>\n      <td>21</td>\n      <td>Good</td>\n      <td>PM2.5</td>\n      <td>01-003-0010</td>\n      <td>1</td>\n    </tr>\n    <tr>\n      <th>1</th>\n      <td>Alabama</td>\n      <td>Baldwin</td>\n      <td>1</td>\n      <td>3</td>\n      <td>2017-01-04</td>\n      <td>22</td>\n      <td>Good</td>\n      <td>PM2.5</td>\n      <td>01-003-0010</td>\n      <td>1</td>\n    </tr>\n    <tr>\n      <th>2</th>\n      <td>Alabama</td>\n      <td>Baldwin</td>\n      <td>1</td>\n      <td>3</td>\n      <td>2017-01-10</td>\n      <td>19</td>\n      <td>Good</td>\n      <td>PM2.5</td>\n      <td>01-003-0010</td>\n      <td>1</td>\n    </tr>\n    <tr>\n      <th>3</th>\n      <td>Alabama</td>\n      <td>Baldwin</td>\n      <td>1</td>\n      <td>3</td>\n      <td>2017-01-13</td>\n      <td>30</td>\n      <td>Good</td>\n      <td>PM2.5</td>\n      <td>01-003-0010</td>\n      <td>1</td>\n    </tr>\n    <tr>\n      <th>4</th>\n      <td>Alabama</td>\n      <td>Baldwin</td>\n      <td>1</td>\n      <td>3</td>\n      <td>2017-01-16</td>\n      <td>16</td>\n      <td>Good</td>\n      <td>PM2.5</td>\n      <td>01-003-0010</td>\n      <td>1</td>\n    </tr>\n    <tr>\n      <th>...</th>\n      <td>...</td>\n      <td>...</td>\n      <td>...</td>\n      <td>...</td>\n      <td>...</td>\n      <td>...</td>\n      <td>...</td>\n      <td>...</td>\n      <td>...</td>\n      <td>...</td>\n    </tr>\n    <tr>\n      <th>341940</th>\n      <td>Wyoming</td>\n      <td>Weston</td>\n      <td>56</td>\n      <td>45</td>\n      <td>2019-12-27</td>\n      <td>36</td>\n      <td>Good</td>\n      <td>Ozone</td>\n      <td>56-045-0003</td>\n      <td>2</td>\n    </tr>\n    <tr>\n      <th>341941</th>\n      <td>Wyoming</td>\n      <td>Weston</td>\n      <td>56</td>\n      <td>45</td>\n      <td>2019-12-28</td>\n      <td>37</td>\n      <td>Good</td>\n      <td>Ozone</td>\n      <td>56-045-0003</td>\n      <td>2</td>\n    </tr>\n    <tr>\n      <th>341942</th>\n      <td>Wyoming</td>\n      <td>Weston</td>\n      <td>56</td>\n      <td>45</td>\n      <td>2019-12-29</td>\n      <td>34</td>\n      <td>Good</td>\n      <td>Ozone</td>\n      <td>56-045-0003</td>\n      <td>2</td>\n    </tr>\n    <tr>\n      <th>341943</th>\n      <td>Wyoming</td>\n      <td>Weston</td>\n      <td>56</td>\n      <td>45</td>\n      <td>2019-12-30</td>\n      <td>36</td>\n      <td>Good</td>\n      <td>Ozone</td>\n      <td>56-045-0003</td>\n      <td>2</td>\n    </tr>\n    <tr>\n      <th>341944</th>\n      <td>Wyoming</td>\n      <td>Weston</td>\n      <td>56</td>\n      <td>45</td>\n      <td>2019-12-31</td>\n      <td>40</td>\n      <td>Good</td>\n      <td>Ozone</td>\n      <td>56-045-0003</td>\n      <td>2</td>\n    </tr>\n  </tbody>\n</table>\n<p>1026379 rows × 10 columns</p>\n</div>"
     },
     "execution_count": 8,
     "metadata": {},
     "output_type": "execute_result"
    }
   ],
   "source": [
    "# daily_aqi_by_county_2017.Category.unique()\n",
    "# daily_aqi_by_county_2018.head()\n",
    "daily_aqi_by_county_2017_2019 = pd.concat([daily_aqi_by_county_2017, daily_aqi_by_county_2018, daily_aqi_by_county_2019], axis=0)\n",
    "# daily_aqi_by_county_2017\n",
    "daily_aqi_by_county_2017_2019"
   ],
   "metadata": {
    "collapsed": false,
    "pycharm": {
     "name": "#%%\n"
    }
   }
  },
  {
   "cell_type": "markdown",
   "source": [
    "merging and concat pollution data"
   ],
   "metadata": {
    "collapsed": false,
    "pycharm": {
     "name": "#%% md\n"
    }
   }
  },
  {
   "cell_type": "code",
   "execution_count": 17,
   "outputs": [],
   "source": [
    "# daily_aqi_by_county_2018_inner = pd.merge(left=daily_aqi_by_county_2017, right=daily_aqi_by_county_2018, left_on='Defining Site', right_on='Defining Site')\n",
    "# daily_aqi_by_county_2018_inner.info()\n",
    "# print('done')\n",
    "# left = daily_aqi_by_county_2017[:1]\n",
    "# display(left)\n",
    "# right = daily_aqi_by_county_2018[:1]\n",
    "# display(right)\n",
    "# mergeleftright = pd.merge(left=left, right=right, left_on='Defining Parameter', right_on='Defining Parameter')\n",
    "# mergeleftright"
   ],
   "metadata": {
    "collapsed": false,
    "pycharm": {
     "name": "#%%\n"
    }
   }
  },
  {
   "cell_type": "code",
   "execution_count": 9,
   "outputs": [],
   "source": [
    "\n"
   ],
   "metadata": {
    "collapsed": false,
    "pycharm": {
     "name": "#%%\n"
    }
   }
  }
 ],
 "metadata": {
  "kernelspec": {
   "name": "pycharm-301d774e",
   "language": "python",
   "display_name": "PyCharm (API_Mini_Project)"
  },
  "language_info": {
   "codemirror_mode": {
    "name": "ipython",
    "version": 2
   },
   "file_extension": ".py",
   "mimetype": "text/x-python",
   "name": "python",
   "nbconvert_exporter": "python",
   "pygments_lexer": "ipython2",
   "version": "2.7.6"
  }
 },
 "nbformat": 4,
 "nbformat_minor": 0
}