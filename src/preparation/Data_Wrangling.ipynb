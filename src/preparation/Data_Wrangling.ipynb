{
 "cells": [
  {
   "cell_type": "markdown",
   "source": [
    "Importing libraries"
   ],
   "metadata": {
    "collapsed": false
   }
  },
  {
   "cell_type": "code",
   "execution_count": 199,
   "metadata": {
    "collapsed": true
   },
   "outputs": [],
   "source": [
    "import numpy as np\n",
    "import pandas as pd\n",
    "import seaborn as sns\n",
    "import sys\n",
    "import os\n",
    "import matplotlib.pyplot as plt\n",
    "import klib\n",
    "\n",
    "import openaq\n",
    "from IPython.core.display import display\n",
    "\n",
    "plt.style.use('dark_background')\n",
    "plt.rcParams.update({\"grid.linewidth\":0.5, \"grid.alpha\":0.5})\n",
    "sns.set(style='ticks', context='talk')"
   ]
  },
  {
   "cell_type": "markdown",
   "source": [
    "#Load data"
   ],
   "metadata": {
    "collapsed": false
   }
  },
  {
   "cell_type": "code",
   "source": [
    "# pd.set_option('max_columns', None)\n",
    "# pd.set_option('max_rows', None)\n",
    "#np.set_printoptions(threshold=sys.maxsize)\n",
    "\n",
    "\n",
    "daily_aqi_by_county_2017 = pd.read_csv('../../data/raw/daily_aqi_by_county_2017.csv')\n",
    "daily_aqi_by_county_2018 = pd.read_csv('../../data/raw/daily_aqi_by_county_2018.csv')\n",
    "daily_aqi_by_county_2019 = pd.read_csv('../../data/raw/daily_aqi_by_county_2019.csv')\n",
    "\n",
    "annual_income_by_county = pd.read_csv('../../data/raw/CAINC1__ALL_AREAS_1969_2019.csv', encoding='latin-1')\n",
    "\n",
    "county_ethnicities = pd.read_csv('../../data/raw/county_cc-est2019-alldata.csv', encoding='latin-1')\n",
    "\n"
   ],
   "metadata": {
    "collapsed": false,
    "pycharm": {
     "name": "#%%\n"
    }
   },
   "execution_count": 200,
   "outputs": []
  },
  {
   "cell_type": "markdown",
   "source": [
    "#Clean annual personal income by county"
   ],
   "metadata": {
    "collapsed": false
   }
  },
  {
   "cell_type": "markdown",
   "source": [
    "Remove columns we do not need and rows not needed"
   ],
   "metadata": {
    "collapsed": false
   }
  },
  {
   "cell_type": "code",
   "source": [
    "def remove_col(df, col_name):\n",
    "    '''Returns a dataframe with removed column or columns from old dataframe'''\n",
    "    new_df = df.copy()\n",
    "\n",
    "    if(type(col_name) != str and len(col_name) > 1):\n",
    "        for index in col_name:\n",
    "            new_df = new_df.drop(str(index), axis=1)\n",
    "    else:\n",
    "        new_df = new_df.drop(str(col_name), axis=1)\n",
    "    return new_df\n",
    "\n",
    "# used to remove years we do not need\n",
    "county_income_2017_2019 = remove_col(annual_income_by_county, range(1969, 2017))\n",
    "\n",
    "# used to remove last 4 rows as they are not index data; looks like extra info\n",
    "county_income_2017_2019 = county_income_2017_2019[:len(county_income_2017_2019) - 4]\n",
    "\n",
    "# county_income_2017_2019.info()\n",
    "county_income_2017_2019"
   ],
   "metadata": {
    "collapsed": false,
    "pycharm": {
     "name": "#%%\n"
    }
   },
   "execution_count": 201,
   "outputs": [
    {
     "data": {
      "text/plain": "       GeoFIPS         GeoName Region TableName  LineCode  \\\n0      \"00000\"   United States           CAINC1       1.0   \n1      \"00000\"   United States           CAINC1       2.0   \n2      \"00000\"   United States           CAINC1       3.0   \n3      \"01000\"         Alabama      5    CAINC1       1.0   \n4      \"01000\"         Alabama      5    CAINC1       2.0   \n...        ...             ...    ...       ...       ...   \n9589   \"97000\"  Rocky Mountain      7    CAINC1       2.0   \n9590   \"97000\"  Rocky Mountain      7    CAINC1       3.0   \n9591   \"98000\"        Far West      8    CAINC1       1.0   \n9592   \"98000\"        Far West      8    CAINC1       2.0   \n9593   \"98000\"        Far West      8    CAINC1       3.0   \n\n     IndustryClassification                              Description  \\\n0                       ...   Personal income (thousands of dollars)   \n1                       ...                  Population (persons) 1/   \n2                       ...  Per capita personal income (dollars) 2/   \n3                       ...   Personal income (thousands of dollars)   \n4                       ...                  Population (persons) 1/   \n...                     ...                                      ...   \n9589                    ...                  Population (persons) 1/   \n9590                    ...  Per capita personal income (dollars) 2/   \n9591                    ...   Personal income (thousands of dollars)   \n9592                    ...                  Population (persons) 1/   \n9593                    ...  Per capita personal income (dollars) 2/   \n\n                      Unit         2017         2018         2019  \n0     Thousands of dollars  16937582000  17839255000  18542262000  \n1        Number of persons    324985539    326687501    328239523  \n2                  Dollars        52118        54606        56490  \n3     Thousands of dollars    199999756    208752683    216449038  \n4        Number of persons      4874486      4887681      4903185  \n...                    ...          ...          ...          ...  \n9589     Number of persons     12062055     12233639     12399296  \n9590               Dollars        49991        52936        54873  \n9591  Thousands of dollars   3279057722   3472097346   3634009401  \n9592     Number of persons     56059482     56350416     56572426  \n9593               Dollars        58492        61616        64236  \n\n[9594 rows x 11 columns]",
      "text/html": "<div>\n<style scoped>\n    .dataframe tbody tr th:only-of-type {\n        vertical-align: middle;\n    }\n\n    .dataframe tbody tr th {\n        vertical-align: top;\n    }\n\n    .dataframe thead th {\n        text-align: right;\n    }\n</style>\n<table border=\"1\" class=\"dataframe\">\n  <thead>\n    <tr style=\"text-align: right;\">\n      <th></th>\n      <th>GeoFIPS</th>\n      <th>GeoName</th>\n      <th>Region</th>\n      <th>TableName</th>\n      <th>LineCode</th>\n      <th>IndustryClassification</th>\n      <th>Description</th>\n      <th>Unit</th>\n      <th>2017</th>\n      <th>2018</th>\n      <th>2019</th>\n    </tr>\n  </thead>\n  <tbody>\n    <tr>\n      <th>0</th>\n      <td>\"00000\"</td>\n      <td>United States</td>\n      <td></td>\n      <td>CAINC1</td>\n      <td>1.0</td>\n      <td>...</td>\n      <td>Personal income (thousands of dollars)</td>\n      <td>Thousands of dollars</td>\n      <td>16937582000</td>\n      <td>17839255000</td>\n      <td>18542262000</td>\n    </tr>\n    <tr>\n      <th>1</th>\n      <td>\"00000\"</td>\n      <td>United States</td>\n      <td></td>\n      <td>CAINC1</td>\n      <td>2.0</td>\n      <td>...</td>\n      <td>Population (persons) 1/</td>\n      <td>Number of persons</td>\n      <td>324985539</td>\n      <td>326687501</td>\n      <td>328239523</td>\n    </tr>\n    <tr>\n      <th>2</th>\n      <td>\"00000\"</td>\n      <td>United States</td>\n      <td></td>\n      <td>CAINC1</td>\n      <td>3.0</td>\n      <td>...</td>\n      <td>Per capita personal income (dollars) 2/</td>\n      <td>Dollars</td>\n      <td>52118</td>\n      <td>54606</td>\n      <td>56490</td>\n    </tr>\n    <tr>\n      <th>3</th>\n      <td>\"01000\"</td>\n      <td>Alabama</td>\n      <td>5</td>\n      <td>CAINC1</td>\n      <td>1.0</td>\n      <td>...</td>\n      <td>Personal income (thousands of dollars)</td>\n      <td>Thousands of dollars</td>\n      <td>199999756</td>\n      <td>208752683</td>\n      <td>216449038</td>\n    </tr>\n    <tr>\n      <th>4</th>\n      <td>\"01000\"</td>\n      <td>Alabama</td>\n      <td>5</td>\n      <td>CAINC1</td>\n      <td>2.0</td>\n      <td>...</td>\n      <td>Population (persons) 1/</td>\n      <td>Number of persons</td>\n      <td>4874486</td>\n      <td>4887681</td>\n      <td>4903185</td>\n    </tr>\n    <tr>\n      <th>...</th>\n      <td>...</td>\n      <td>...</td>\n      <td>...</td>\n      <td>...</td>\n      <td>...</td>\n      <td>...</td>\n      <td>...</td>\n      <td>...</td>\n      <td>...</td>\n      <td>...</td>\n      <td>...</td>\n    </tr>\n    <tr>\n      <th>9589</th>\n      <td>\"97000\"</td>\n      <td>Rocky Mountain</td>\n      <td>7</td>\n      <td>CAINC1</td>\n      <td>2.0</td>\n      <td>...</td>\n      <td>Population (persons) 1/</td>\n      <td>Number of persons</td>\n      <td>12062055</td>\n      <td>12233639</td>\n      <td>12399296</td>\n    </tr>\n    <tr>\n      <th>9590</th>\n      <td>\"97000\"</td>\n      <td>Rocky Mountain</td>\n      <td>7</td>\n      <td>CAINC1</td>\n      <td>3.0</td>\n      <td>...</td>\n      <td>Per capita personal income (dollars) 2/</td>\n      <td>Dollars</td>\n      <td>49991</td>\n      <td>52936</td>\n      <td>54873</td>\n    </tr>\n    <tr>\n      <th>9591</th>\n      <td>\"98000\"</td>\n      <td>Far West</td>\n      <td>8</td>\n      <td>CAINC1</td>\n      <td>1.0</td>\n      <td>...</td>\n      <td>Personal income (thousands of dollars)</td>\n      <td>Thousands of dollars</td>\n      <td>3279057722</td>\n      <td>3472097346</td>\n      <td>3634009401</td>\n    </tr>\n    <tr>\n      <th>9592</th>\n      <td>\"98000\"</td>\n      <td>Far West</td>\n      <td>8</td>\n      <td>CAINC1</td>\n      <td>2.0</td>\n      <td>...</td>\n      <td>Population (persons) 1/</td>\n      <td>Number of persons</td>\n      <td>56059482</td>\n      <td>56350416</td>\n      <td>56572426</td>\n    </tr>\n    <tr>\n      <th>9593</th>\n      <td>\"98000\"</td>\n      <td>Far West</td>\n      <td>8</td>\n      <td>CAINC1</td>\n      <td>3.0</td>\n      <td>...</td>\n      <td>Per capita personal income (dollars) 2/</td>\n      <td>Dollars</td>\n      <td>58492</td>\n      <td>61616</td>\n      <td>64236</td>\n    </tr>\n  </tbody>\n</table>\n<p>9594 rows × 11 columns</p>\n</div>"
     },
     "execution_count": 201,
     "metadata": {},
     "output_type": "execute_result"
    }
   ]
  },
  {
   "cell_type": "markdown",
   "source": [
    "change column types"
   ],
   "metadata": {
    "collapsed": false,
    "pycharm": {
     "name": "#%% md\n"
    }
   }
  },
  {
   "cell_type": "code",
   "execution_count": 202,
   "outputs": [
    {
     "name": "stdout",
     "output_type": "stream",
     "text": [
      "<class 'pandas.core.frame.DataFrame'>\n",
      "RangeIndex: 9594 entries, 0 to 9593\n",
      "Data columns (total 14 columns):\n",
      " #   Column                            Non-Null Count  Dtype  \n",
      "---  ------                            --------------  -----  \n",
      " 0   GeoFIPS                           9594 non-null   object \n",
      " 1   GeoName                           9594 non-null   object \n",
      " 2   Region                            9594 non-null   object \n",
      " 3   TableName                         9594 non-null   object \n",
      " 4   LineCode                          9594 non-null   float64\n",
      " 5   IndustryClassification            9594 non-null   object \n",
      " 6   Description                       9594 non-null   object \n",
      " 7   Unit                              9594 non-null   object \n",
      " 8   2017                              9594 non-null   object \n",
      " 9   2018                              9594 non-null   object \n",
      " 10  2019                              9594 non-null   object \n",
      " 11  Year 2017 (thousands of dollars)  9519 non-null   float32\n",
      " 12  Year 2018 (thousands of dollars)  9519 non-null   float32\n",
      " 13  Year 2019 (thousands of dollars)  9519 non-null   float32\n",
      "dtypes: float32(3), float64(1), object(10)\n",
      "memory usage: 937.0+ KB\n"
     ]
    }
   ],
   "source": [
    "# county_income_2017_2019['2017'].fillna(np.NaN, inplace=True)\n",
    "# county_income_2017_2019['2017 personal income'] = county_income_2017_2019['2017'].astype(float)\n",
    "\n",
    "# for i, item in enumerate(county_income_2017_2019['2017']):\n",
    "#    try:\n",
    "#       int(item)\n",
    "#    except ValueError:\n",
    "#        print('ERROR at index {}: {!r}'.format(i, item))\n",
    "#        break\n",
    "\n",
    "county_income_2017_2019['Year 2017 (thousands of dollars)'] = pd.to_numeric(county_income_2017_2019['2017'], downcast='float', errors='coerce')\n",
    "county_income_2017_2019['Year 2018 (thousands of dollars)'] = pd.to_numeric(county_income_2017_2019['2018'], downcast='float', errors='coerce')\n",
    "county_income_2017_2019['Year 2019 (thousands of dollars)'] = pd.to_numeric(county_income_2017_2019['2019'], downcast='float', errors='coerce')\n",
    "county_income_2017_2019.info()"
   ],
   "metadata": {
    "collapsed": false,
    "pycharm": {
     "name": "#%%\n"
    }
   }
  },
  {
   "cell_type": "markdown",
   "source": [
    "drop old object columns for years"
   ],
   "metadata": {
    "collapsed": false
   }
  },
  {
   "cell_type": "code",
   "execution_count": 203,
   "outputs": [
    {
     "name": "stdout",
     "output_type": "stream",
     "text": [
      "<class 'pandas.core.frame.DataFrame'>\n",
      "RangeIndex: 9594 entries, 0 to 9593\n",
      "Data columns (total 11 columns):\n",
      " #   Column                            Non-Null Count  Dtype  \n",
      "---  ------                            --------------  -----  \n",
      " 0   GeoFIPS                           9594 non-null   object \n",
      " 1   GeoName                           9594 non-null   object \n",
      " 2   Region                            9594 non-null   object \n",
      " 3   TableName                         9594 non-null   object \n",
      " 4   LineCode                          9594 non-null   float64\n",
      " 5   IndustryClassification            9594 non-null   object \n",
      " 6   Description                       9594 non-null   object \n",
      " 7   Unit                              9594 non-null   object \n",
      " 8   Year 2017 (thousands of dollars)  9519 non-null   float32\n",
      " 9   Year 2018 (thousands of dollars)  9519 non-null   float32\n",
      " 10  Year 2019 (thousands of dollars)  9519 non-null   float32\n",
      "dtypes: float32(3), float64(1), object(7)\n",
      "memory usage: 712.2+ KB\n"
     ]
    }
   ],
   "source": [
    "county_income_2017_2019 = remove_col(county_income_2017_2019, range(2017,2020))\n",
    "county_income_2017_2019.info()"
   ],
   "metadata": {
    "collapsed": false,
    "pycharm": {
     "name": "#%%\n"
    }
   }
  },
  {
   "cell_type": "markdown",
   "source": [
    "Need to deal with the 3 descriptions personal income, population, per capita personal income (dollars)"
   ],
   "metadata": {
    "collapsed": false
   }
  },
  {
   "cell_type": "code",
   "source": [
    "personal_income = county_income_2017_2019['Description'] == ('Personal income (thousands of dollars)')\n",
    "county_personal_incomes_2017_2019 = county_income_2017_2019[personal_income]\n",
    "county_personal_incomes_2017_2019.head()"
   ],
   "metadata": {
    "collapsed": false,
    "pycharm": {
     "name": "#%%\n"
    }
   },
   "execution_count": 204,
   "outputs": [
    {
     "data": {
      "text/plain": "     GeoFIPS        GeoName Region TableName  LineCode IndustryClassification  \\\n0    \"00000\"  United States           CAINC1       1.0                    ...   \n3    \"01000\"        Alabama      5    CAINC1       1.0                    ...   \n6    \"01001\"    Autauga, AL      5    CAINC1       1.0                    ...   \n9    \"01003\"    Baldwin, AL      5    CAINC1       1.0                    ...   \n12   \"01005\"    Barbour, AL      5    CAINC1       1.0                    ...   \n\n                               Description                  Unit  \\\n0   Personal income (thousands of dollars)  Thousands of dollars   \n3   Personal income (thousands of dollars)  Thousands of dollars   \n6   Personal income (thousands of dollars)  Thousands of dollars   \n9   Personal income (thousands of dollars)  Thousands of dollars   \n12  Personal income (thousands of dollars)  Thousands of dollars   \n\n    Year 2017 (thousands of dollars)  Year 2018 (thousands of dollars)  \\\n0                       1.693758e+10                      1.783926e+10   \n3                       1.999998e+08                      2.087527e+08   \n6                       2.276561e+06                      2.360366e+06   \n9                       9.471242e+06                      1.006597e+07   \n12                      8.381840e+05                      8.721890e+05   \n\n    Year 2019 (thousands of dollars)  \n0                       1.854226e+10  \n3                       2.164490e+08  \n6                       2.453617e+06  \n9                       1.060026e+07  \n12                      8.828340e+05  ",
      "text/html": "<div>\n<style scoped>\n    .dataframe tbody tr th:only-of-type {\n        vertical-align: middle;\n    }\n\n    .dataframe tbody tr th {\n        vertical-align: top;\n    }\n\n    .dataframe thead th {\n        text-align: right;\n    }\n</style>\n<table border=\"1\" class=\"dataframe\">\n  <thead>\n    <tr style=\"text-align: right;\">\n      <th></th>\n      <th>GeoFIPS</th>\n      <th>GeoName</th>\n      <th>Region</th>\n      <th>TableName</th>\n      <th>LineCode</th>\n      <th>IndustryClassification</th>\n      <th>Description</th>\n      <th>Unit</th>\n      <th>Year 2017 (thousands of dollars)</th>\n      <th>Year 2018 (thousands of dollars)</th>\n      <th>Year 2019 (thousands of dollars)</th>\n    </tr>\n  </thead>\n  <tbody>\n    <tr>\n      <th>0</th>\n      <td>\"00000\"</td>\n      <td>United States</td>\n      <td></td>\n      <td>CAINC1</td>\n      <td>1.0</td>\n      <td>...</td>\n      <td>Personal income (thousands of dollars)</td>\n      <td>Thousands of dollars</td>\n      <td>1.693758e+10</td>\n      <td>1.783926e+10</td>\n      <td>1.854226e+10</td>\n    </tr>\n    <tr>\n      <th>3</th>\n      <td>\"01000\"</td>\n      <td>Alabama</td>\n      <td>5</td>\n      <td>CAINC1</td>\n      <td>1.0</td>\n      <td>...</td>\n      <td>Personal income (thousands of dollars)</td>\n      <td>Thousands of dollars</td>\n      <td>1.999998e+08</td>\n      <td>2.087527e+08</td>\n      <td>2.164490e+08</td>\n    </tr>\n    <tr>\n      <th>6</th>\n      <td>\"01001\"</td>\n      <td>Autauga, AL</td>\n      <td>5</td>\n      <td>CAINC1</td>\n      <td>1.0</td>\n      <td>...</td>\n      <td>Personal income (thousands of dollars)</td>\n      <td>Thousands of dollars</td>\n      <td>2.276561e+06</td>\n      <td>2.360366e+06</td>\n      <td>2.453617e+06</td>\n    </tr>\n    <tr>\n      <th>9</th>\n      <td>\"01003\"</td>\n      <td>Baldwin, AL</td>\n      <td>5</td>\n      <td>CAINC1</td>\n      <td>1.0</td>\n      <td>...</td>\n      <td>Personal income (thousands of dollars)</td>\n      <td>Thousands of dollars</td>\n      <td>9.471242e+06</td>\n      <td>1.006597e+07</td>\n      <td>1.060026e+07</td>\n    </tr>\n    <tr>\n      <th>12</th>\n      <td>\"01005\"</td>\n      <td>Barbour, AL</td>\n      <td>5</td>\n      <td>CAINC1</td>\n      <td>1.0</td>\n      <td>...</td>\n      <td>Personal income (thousands of dollars)</td>\n      <td>Thousands of dollars</td>\n      <td>8.381840e+05</td>\n      <td>8.721890e+05</td>\n      <td>8.828340e+05</td>\n    </tr>\n  </tbody>\n</table>\n</div>"
     },
     "execution_count": 204,
     "metadata": {},
     "output_type": "execute_result"
    }
   ]
  },
  {
   "cell_type": "markdown",
   "source": [
    "remove more columns\n",
    "remove IndustryClassifaction as it only contains ... values and also not what we are interested in\n",
    "remove TableName as only one value and not what we are interested in\n",
    "remove Unit as that has the same value as Thousands of dollars\n",
    "remove descripton as that is all personal income now"
   ],
   "metadata": {
    "collapsed": false,
    "pycharm": {
     "name": "#%% md\n"
    }
   }
  },
  {
   "cell_type": "code",
   "execution_count": 205,
   "outputs": [
    {
     "data": {
      "text/plain": "       GeoFIPS         GeoName Region  LineCode  \\\n0      \"00000\"   United States              1.0   \n3      \"01000\"         Alabama      5       1.0   \n6      \"01001\"     Autauga, AL      5       1.0   \n9      \"01003\"     Baldwin, AL      5       1.0   \n12     \"01005\"     Barbour, AL      5       1.0   \n...        ...             ...    ...       ...   \n9579   \"94000\"          Plains      4       1.0   \n9582   \"95000\"       Southeast      5       1.0   \n9585   \"96000\"       Southwest      6       1.0   \n9588   \"97000\"  Rocky Mountain      7       1.0   \n9591   \"98000\"        Far West      8       1.0   \n\n      Year 2017 (thousands of dollars)  Year 2018 (thousands of dollars)  \\\n0                         1.693758e+10                      1.783926e+10   \n3                         1.999998e+08                      2.087527e+08   \n6                         2.276561e+06                      2.360366e+06   \n9                         9.471242e+06                      1.006597e+07   \n12                        8.381840e+05                      8.721890e+05   \n...                                ...                               ...   \n9579                      1.055029e+09                      1.107630e+09   \n9582                      3.818755e+09                      4.022276e+09   \n9585                      1.924648e+09                      2.051027e+09   \n9588                      6.029942e+08                      6.476007e+08   \n9591                      3.279058e+09                      3.472097e+09   \n\n      Year 2019 (thousands of dollars)  \n0                         1.854226e+10  \n3                         2.164490e+08  \n6                         2.453617e+06  \n9                         1.060026e+07  \n12                        8.828340e+05  \n...                                ...  \n9579                      1.146515e+09  \n9582                      4.173677e+09  \n9585                      2.144764e+09  \n9588                      6.803901e+08  \n9591                      3.634009e+09  \n\n[3198 rows x 7 columns]",
      "text/html": "<div>\n<style scoped>\n    .dataframe tbody tr th:only-of-type {\n        vertical-align: middle;\n    }\n\n    .dataframe tbody tr th {\n        vertical-align: top;\n    }\n\n    .dataframe thead th {\n        text-align: right;\n    }\n</style>\n<table border=\"1\" class=\"dataframe\">\n  <thead>\n    <tr style=\"text-align: right;\">\n      <th></th>\n      <th>GeoFIPS</th>\n      <th>GeoName</th>\n      <th>Region</th>\n      <th>LineCode</th>\n      <th>Year 2017 (thousands of dollars)</th>\n      <th>Year 2018 (thousands of dollars)</th>\n      <th>Year 2019 (thousands of dollars)</th>\n    </tr>\n  </thead>\n  <tbody>\n    <tr>\n      <th>0</th>\n      <td>\"00000\"</td>\n      <td>United States</td>\n      <td></td>\n      <td>1.0</td>\n      <td>1.693758e+10</td>\n      <td>1.783926e+10</td>\n      <td>1.854226e+10</td>\n    </tr>\n    <tr>\n      <th>3</th>\n      <td>\"01000\"</td>\n      <td>Alabama</td>\n      <td>5</td>\n      <td>1.0</td>\n      <td>1.999998e+08</td>\n      <td>2.087527e+08</td>\n      <td>2.164490e+08</td>\n    </tr>\n    <tr>\n      <th>6</th>\n      <td>\"01001\"</td>\n      <td>Autauga, AL</td>\n      <td>5</td>\n      <td>1.0</td>\n      <td>2.276561e+06</td>\n      <td>2.360366e+06</td>\n      <td>2.453617e+06</td>\n    </tr>\n    <tr>\n      <th>9</th>\n      <td>\"01003\"</td>\n      <td>Baldwin, AL</td>\n      <td>5</td>\n      <td>1.0</td>\n      <td>9.471242e+06</td>\n      <td>1.006597e+07</td>\n      <td>1.060026e+07</td>\n    </tr>\n    <tr>\n      <th>12</th>\n      <td>\"01005\"</td>\n      <td>Barbour, AL</td>\n      <td>5</td>\n      <td>1.0</td>\n      <td>8.381840e+05</td>\n      <td>8.721890e+05</td>\n      <td>8.828340e+05</td>\n    </tr>\n    <tr>\n      <th>...</th>\n      <td>...</td>\n      <td>...</td>\n      <td>...</td>\n      <td>...</td>\n      <td>...</td>\n      <td>...</td>\n      <td>...</td>\n    </tr>\n    <tr>\n      <th>9579</th>\n      <td>\"94000\"</td>\n      <td>Plains</td>\n      <td>4</td>\n      <td>1.0</td>\n      <td>1.055029e+09</td>\n      <td>1.107630e+09</td>\n      <td>1.146515e+09</td>\n    </tr>\n    <tr>\n      <th>9582</th>\n      <td>\"95000\"</td>\n      <td>Southeast</td>\n      <td>5</td>\n      <td>1.0</td>\n      <td>3.818755e+09</td>\n      <td>4.022276e+09</td>\n      <td>4.173677e+09</td>\n    </tr>\n    <tr>\n      <th>9585</th>\n      <td>\"96000\"</td>\n      <td>Southwest</td>\n      <td>6</td>\n      <td>1.0</td>\n      <td>1.924648e+09</td>\n      <td>2.051027e+09</td>\n      <td>2.144764e+09</td>\n    </tr>\n    <tr>\n      <th>9588</th>\n      <td>\"97000\"</td>\n      <td>Rocky Mountain</td>\n      <td>7</td>\n      <td>1.0</td>\n      <td>6.029942e+08</td>\n      <td>6.476007e+08</td>\n      <td>6.803901e+08</td>\n    </tr>\n    <tr>\n      <th>9591</th>\n      <td>\"98000\"</td>\n      <td>Far West</td>\n      <td>8</td>\n      <td>1.0</td>\n      <td>3.279058e+09</td>\n      <td>3.472097e+09</td>\n      <td>3.634009e+09</td>\n    </tr>\n  </tbody>\n</table>\n<p>3198 rows × 7 columns</p>\n</div>"
     },
     "execution_count": 205,
     "metadata": {},
     "output_type": "execute_result"
    }
   ],
   "source": [
    "cols_to_remove = ['IndustryClassification', 'TableName', 'Unit', 'Description']\n",
    "# county_personal_incomes_2017_2019 = remove_col(personal_income, cols_to_remove)\n",
    "county_personal_incomes_2017_2019\n",
    "county_personal_incomes_2017_2019 = remove_col(county_personal_incomes_2017_2019, cols_to_remove)\n",
    "county_personal_incomes_2017_2019"
   ],
   "metadata": {
    "collapsed": false,
    "pycharm": {
     "name": "#%%\n"
    }
   }
  },
  {
   "cell_type": "code",
   "execution_count": 206,
   "outputs": [
    {
     "name": "stdout",
     "output_type": "stream",
     "text": [
      "<class 'pandas.core.frame.DataFrame'>\n",
      "Int64Index: 3198 entries, 0 to 9591\n",
      "Data columns (total 7 columns):\n",
      " #   Column                            Non-Null Count  Dtype  \n",
      "---  ------                            --------------  -----  \n",
      " 0   GeoFIPS                           3198 non-null   object \n",
      " 1   GeoName                           3198 non-null   object \n",
      " 2   Region                            3198 non-null   object \n",
      " 3   LineCode                          3198 non-null   float64\n",
      " 4   Year 2017 (thousands of dollars)  3173 non-null   float32\n",
      " 5   Year 2018 (thousands of dollars)  3173 non-null   float32\n",
      " 6   Year 2019 (thousands of dollars)  3173 non-null   float32\n",
      "dtypes: float32(3), float64(1), object(3)\n",
      "memory usage: 162.4+ KB\n"
     ]
    },
    {
     "data": {
      "text/plain": "str"
     },
     "execution_count": 206,
     "metadata": {},
     "output_type": "execute_result"
    }
   ],
   "source": [
    "county_personal_incomes_2017_2019.info()\n",
    "type(county_personal_incomes_2017_2019['GeoName'].values[1])"
   ],
   "metadata": {
    "collapsed": false,
    "pycharm": {
     "name": "#%%\n"
    }
   }
  },
  {
   "cell_type": "markdown",
   "source": [
    "# Clean AQI pollution"
   ],
   "metadata": {
    "collapsed": false,
    "pycharm": {
     "name": "#%% md\n"
    }
   }
  },
  {
   "cell_type": "markdown",
   "source": [
    "Combine the aqi pollution years together"
   ],
   "metadata": {
    "collapsed": false,
    "pycharm": {
     "name": "#%% md\n"
    }
   }
  },
  {
   "cell_type": "code",
   "execution_count": 207,
   "outputs": [
    {
     "data": {
      "text/plain": "       State Name county Name  State Code  County Code        Date  AQI  \\\n0         Alabama     Baldwin           1            3  2017-01-01   21   \n1         Alabama     Baldwin           1            3  2017-01-04   22   \n2         Alabama     Baldwin           1            3  2017-01-10   19   \n3         Alabama     Baldwin           1            3  2017-01-13   30   \n4         Alabama     Baldwin           1            3  2017-01-16   16   \n...           ...         ...         ...          ...         ...  ...   \n341940    Wyoming      Weston          56           45  2019-12-27   36   \n341941    Wyoming      Weston          56           45  2019-12-28   37   \n341942    Wyoming      Weston          56           45  2019-12-29   34   \n341943    Wyoming      Weston          56           45  2019-12-30   36   \n341944    Wyoming      Weston          56           45  2019-12-31   40   \n\n       Category Defining Parameter Defining Site  Number of Sites Reporting  \n0          Good              PM2.5   01-003-0010                          1  \n1          Good              PM2.5   01-003-0010                          1  \n2          Good              PM2.5   01-003-0010                          1  \n3          Good              PM2.5   01-003-0010                          1  \n4          Good              PM2.5   01-003-0010                          1  \n...         ...                ...           ...                        ...  \n341940     Good              Ozone   56-045-0003                          2  \n341941     Good              Ozone   56-045-0003                          2  \n341942     Good              Ozone   56-045-0003                          2  \n341943     Good              Ozone   56-045-0003                          2  \n341944     Good              Ozone   56-045-0003                          2  \n\n[1026379 rows x 10 columns]",
      "text/html": "<div>\n<style scoped>\n    .dataframe tbody tr th:only-of-type {\n        vertical-align: middle;\n    }\n\n    .dataframe tbody tr th {\n        vertical-align: top;\n    }\n\n    .dataframe thead th {\n        text-align: right;\n    }\n</style>\n<table border=\"1\" class=\"dataframe\">\n  <thead>\n    <tr style=\"text-align: right;\">\n      <th></th>\n      <th>State Name</th>\n      <th>county Name</th>\n      <th>State Code</th>\n      <th>County Code</th>\n      <th>Date</th>\n      <th>AQI</th>\n      <th>Category</th>\n      <th>Defining Parameter</th>\n      <th>Defining Site</th>\n      <th>Number of Sites Reporting</th>\n    </tr>\n  </thead>\n  <tbody>\n    <tr>\n      <th>0</th>\n      <td>Alabama</td>\n      <td>Baldwin</td>\n      <td>1</td>\n      <td>3</td>\n      <td>2017-01-01</td>\n      <td>21</td>\n      <td>Good</td>\n      <td>PM2.5</td>\n      <td>01-003-0010</td>\n      <td>1</td>\n    </tr>\n    <tr>\n      <th>1</th>\n      <td>Alabama</td>\n      <td>Baldwin</td>\n      <td>1</td>\n      <td>3</td>\n      <td>2017-01-04</td>\n      <td>22</td>\n      <td>Good</td>\n      <td>PM2.5</td>\n      <td>01-003-0010</td>\n      <td>1</td>\n    </tr>\n    <tr>\n      <th>2</th>\n      <td>Alabama</td>\n      <td>Baldwin</td>\n      <td>1</td>\n      <td>3</td>\n      <td>2017-01-10</td>\n      <td>19</td>\n      <td>Good</td>\n      <td>PM2.5</td>\n      <td>01-003-0010</td>\n      <td>1</td>\n    </tr>\n    <tr>\n      <th>3</th>\n      <td>Alabama</td>\n      <td>Baldwin</td>\n      <td>1</td>\n      <td>3</td>\n      <td>2017-01-13</td>\n      <td>30</td>\n      <td>Good</td>\n      <td>PM2.5</td>\n      <td>01-003-0010</td>\n      <td>1</td>\n    </tr>\n    <tr>\n      <th>4</th>\n      <td>Alabama</td>\n      <td>Baldwin</td>\n      <td>1</td>\n      <td>3</td>\n      <td>2017-01-16</td>\n      <td>16</td>\n      <td>Good</td>\n      <td>PM2.5</td>\n      <td>01-003-0010</td>\n      <td>1</td>\n    </tr>\n    <tr>\n      <th>...</th>\n      <td>...</td>\n      <td>...</td>\n      <td>...</td>\n      <td>...</td>\n      <td>...</td>\n      <td>...</td>\n      <td>...</td>\n      <td>...</td>\n      <td>...</td>\n      <td>...</td>\n    </tr>\n    <tr>\n      <th>341940</th>\n      <td>Wyoming</td>\n      <td>Weston</td>\n      <td>56</td>\n      <td>45</td>\n      <td>2019-12-27</td>\n      <td>36</td>\n      <td>Good</td>\n      <td>Ozone</td>\n      <td>56-045-0003</td>\n      <td>2</td>\n    </tr>\n    <tr>\n      <th>341941</th>\n      <td>Wyoming</td>\n      <td>Weston</td>\n      <td>56</td>\n      <td>45</td>\n      <td>2019-12-28</td>\n      <td>37</td>\n      <td>Good</td>\n      <td>Ozone</td>\n      <td>56-045-0003</td>\n      <td>2</td>\n    </tr>\n    <tr>\n      <th>341942</th>\n      <td>Wyoming</td>\n      <td>Weston</td>\n      <td>56</td>\n      <td>45</td>\n      <td>2019-12-29</td>\n      <td>34</td>\n      <td>Good</td>\n      <td>Ozone</td>\n      <td>56-045-0003</td>\n      <td>2</td>\n    </tr>\n    <tr>\n      <th>341943</th>\n      <td>Wyoming</td>\n      <td>Weston</td>\n      <td>56</td>\n      <td>45</td>\n      <td>2019-12-30</td>\n      <td>36</td>\n      <td>Good</td>\n      <td>Ozone</td>\n      <td>56-045-0003</td>\n      <td>2</td>\n    </tr>\n    <tr>\n      <th>341944</th>\n      <td>Wyoming</td>\n      <td>Weston</td>\n      <td>56</td>\n      <td>45</td>\n      <td>2019-12-31</td>\n      <td>40</td>\n      <td>Good</td>\n      <td>Ozone</td>\n      <td>56-045-0003</td>\n      <td>2</td>\n    </tr>\n  </tbody>\n</table>\n<p>1026379 rows × 10 columns</p>\n</div>"
     },
     "execution_count": 207,
     "metadata": {},
     "output_type": "execute_result"
    }
   ],
   "source": [
    "# daily_aqi_by_county_2017.Category.unique()\n",
    "# daily_aqi_by_county_2018.head()\n",
    "county_daily_aqi_by_2017_2019 = pd.concat([daily_aqi_by_county_2017, daily_aqi_by_county_2018, daily_aqi_by_county_2019], axis=0)\n",
    "# daily_aqi_by_county_2017\n",
    "county_daily_aqi_by_2017_2019\n"
   ],
   "metadata": {
    "collapsed": false,
    "pycharm": {
     "name": "#%%\n"
    }
   }
  },
  {
   "cell_type": "code",
   "execution_count": 208,
   "outputs": [
    {
     "name": "stdout",
     "output_type": "stream",
     "text": [
      "<class 'pandas.core.frame.DataFrame'>\n",
      "Int64Index: 1026379 entries, 0 to 341944\n",
      "Data columns (total 10 columns):\n",
      " #   Column                     Non-Null Count    Dtype \n",
      "---  ------                     --------------    ----- \n",
      " 0   State Name                 1026379 non-null  object\n",
      " 1   county Name                1026379 non-null  object\n",
      " 2   State Code                 1026379 non-null  int64 \n",
      " 3   County Code                1026379 non-null  int64 \n",
      " 4   Date                       1026379 non-null  object\n",
      " 5   AQI                        1026379 non-null  int64 \n",
      " 6   Category                   1026379 non-null  object\n",
      " 7   Defining Parameter         1026379 non-null  object\n",
      " 8   Defining Site              1026379 non-null  object\n",
      " 9   Number of Sites Reporting  1026379 non-null  int64 \n",
      "dtypes: int64(4), object(6)\n",
      "memory usage: 86.1+ MB\n"
     ]
    }
   ],
   "source": [
    "county_daily_aqi_by_2017_2019.info()"
   ],
   "metadata": {
    "collapsed": false,
    "pycharm": {
     "name": "#%%\n"
    }
   }
  },
  {
   "cell_type": "markdown",
   "source": [
    "# Clean demographic data\n",
    "(clean up on years interested and age group interested in)\n",
    "(check if column types are appropriate)\n",
    "(remove sumlev col as it just indicates that we are using county level or equivalent)"
   ],
   "metadata": {
    "collapsed": false,
    "pycharm": {
     "name": "#%% md\n"
    }
   }
  },
  {
   "cell_type": "code",
   "execution_count": 209,
   "outputs": [
    {
     "name": "stdout",
     "output_type": "stream",
     "text": [
      "<class 'pandas.core.frame.DataFrame'>\n",
      "RangeIndex: 179094 entries, 0 to 179093\n",
      "Data columns (total 79 columns):\n",
      " #   Column        Non-Null Count   Dtype \n",
      "---  ------        --------------   ----- \n",
      " 0   STATE         179094 non-null  int64 \n",
      " 1   COUNTY        179094 non-null  int64 \n",
      " 2   STNAME        179094 non-null  object\n",
      " 3   CTYNAME       179094 non-null  object\n",
      " 4   YEAR          179094 non-null  int64 \n",
      " 5   AGEGRP        179094 non-null  int64 \n",
      " 6   TOT_POP       179094 non-null  int64 \n",
      " 7   TOT_MALE      179094 non-null  int64 \n",
      " 8   TOT_FEMALE    179094 non-null  int64 \n",
      " 9   WA_MALE       179094 non-null  int64 \n",
      " 10  WA_FEMALE     179094 non-null  int64 \n",
      " 11  BA_MALE       179094 non-null  int64 \n",
      " 12  BA_FEMALE     179094 non-null  int64 \n",
      " 13  IA_MALE       179094 non-null  int64 \n",
      " 14  IA_FEMALE     179094 non-null  int64 \n",
      " 15  AA_MALE       179094 non-null  int64 \n",
      " 16  AA_FEMALE     179094 non-null  int64 \n",
      " 17  NA_MALE       179094 non-null  int64 \n",
      " 18  NA_FEMALE     179094 non-null  int64 \n",
      " 19  TOM_MALE      179094 non-null  int64 \n",
      " 20  TOM_FEMALE    179094 non-null  int64 \n",
      " 21  WAC_MALE      179094 non-null  int64 \n",
      " 22  WAC_FEMALE    179094 non-null  int64 \n",
      " 23  BAC_MALE      179094 non-null  int64 \n",
      " 24  BAC_FEMALE    179094 non-null  int64 \n",
      " 25  IAC_MALE      179094 non-null  int64 \n",
      " 26  IAC_FEMALE    179094 non-null  int64 \n",
      " 27  AAC_MALE      179094 non-null  int64 \n",
      " 28  AAC_FEMALE    179094 non-null  int64 \n",
      " 29  NAC_MALE      179094 non-null  int64 \n",
      " 30  NAC_FEMALE    179094 non-null  int64 \n",
      " 31  NH_MALE       179094 non-null  int64 \n",
      " 32  NH_FEMALE     179094 non-null  int64 \n",
      " 33  NHWA_MALE     179094 non-null  int64 \n",
      " 34  NHWA_FEMALE   179094 non-null  int64 \n",
      " 35  NHBA_MALE     179094 non-null  int64 \n",
      " 36  NHBA_FEMALE   179094 non-null  int64 \n",
      " 37  NHIA_MALE     179094 non-null  int64 \n",
      " 38  NHIA_FEMALE   179094 non-null  int64 \n",
      " 39  NHAA_MALE     179094 non-null  int64 \n",
      " 40  NHAA_FEMALE   179094 non-null  int64 \n",
      " 41  NHNA_MALE     179094 non-null  int64 \n",
      " 42  NHNA_FEMALE   179094 non-null  int64 \n",
      " 43  NHTOM_MALE    179094 non-null  int64 \n",
      " 44  NHTOM_FEMALE  179094 non-null  int64 \n",
      " 45  NHWAC_MALE    179094 non-null  int64 \n",
      " 46  NHWAC_FEMALE  179094 non-null  int64 \n",
      " 47  NHBAC_MALE    179094 non-null  int64 \n",
      " 48  NHBAC_FEMALE  179094 non-null  int64 \n",
      " 49  NHIAC_MALE    179094 non-null  int64 \n",
      " 50  NHIAC_FEMALE  179094 non-null  int64 \n",
      " 51  NHAAC_MALE    179094 non-null  int64 \n",
      " 52  NHAAC_FEMALE  179094 non-null  int64 \n",
      " 53  NHNAC_MALE    179094 non-null  int64 \n",
      " 54  NHNAC_FEMALE  179094 non-null  int64 \n",
      " 55  H_MALE        179094 non-null  int64 \n",
      " 56  H_FEMALE      179094 non-null  int64 \n",
      " 57  HWA_MALE      179094 non-null  int64 \n",
      " 58  HWA_FEMALE    179094 non-null  int64 \n",
      " 59  HBA_MALE      179094 non-null  int64 \n",
      " 60  HBA_FEMALE    179094 non-null  int64 \n",
      " 61  HIA_MALE      179094 non-null  int64 \n",
      " 62  HIA_FEMALE    179094 non-null  int64 \n",
      " 63  HAA_MALE      179094 non-null  int64 \n",
      " 64  HAA_FEMALE    179094 non-null  int64 \n",
      " 65  HNA_MALE      179094 non-null  int64 \n",
      " 66  HNA_FEMALE    179094 non-null  int64 \n",
      " 67  HTOM_MALE     179094 non-null  int64 \n",
      " 68  HTOM_FEMALE   179094 non-null  int64 \n",
      " 69  HWAC_MALE     179094 non-null  int64 \n",
      " 70  HWAC_FEMALE   179094 non-null  int64 \n",
      " 71  HBAC_MALE     179094 non-null  int64 \n",
      " 72  HBAC_FEMALE   179094 non-null  int64 \n",
      " 73  HIAC_MALE     179094 non-null  int64 \n",
      " 74  HIAC_FEMALE   179094 non-null  int64 \n",
      " 75  HAAC_MALE     179094 non-null  int64 \n",
      " 76  HAAC_FEMALE   179094 non-null  int64 \n",
      " 77  HNAC_MALE     179094 non-null  int64 \n",
      " 78  HNAC_FEMALE   179094 non-null  int64 \n",
      "dtypes: int64(77), object(2)\n",
      "memory usage: 107.9+ MB\n"
     ]
    }
   ],
   "source": [
    "year_2017_2019 = county_ethnicities['YEAR'] > 9\n",
    "county_ethnicities_2017_2019 = county_ethnicities.loc[year_2017_2019]\n",
    "county_ethnicities_2017_2019 = county_ethnicities_2017_2019.reset_index(drop=True)\n",
    "county_ethnicities_2017_2019 = remove_col(county_ethnicities_2017_2019, 'SUMLEV')\n",
    "county_ethnicities_2017_2019.info()"
   ],
   "metadata": {
    "collapsed": false,
    "pycharm": {
     "name": "#%%\n"
    }
   }
  },
  {
   "cell_type": "code",
   "execution_count": 210,
   "outputs": [],
   "source": [
    "# reduce rows by having a reducing age group to totals\n",
    "# maybe try binning age groups from 1-12 (0-59) and 13-19 (60+)\n",
    "total = county_ethnicities_2017_2019.AGEGRP == 0\n",
    "county_ethnicities_2017_2019 = county_ethnicities_2017_2019.loc[total]\n",
    "county_ethnicities_2017_2019 = remove_col(county_ethnicities_2017_2019, 'AGEGRP')\n"
   ],
   "metadata": {
    "collapsed": false,
    "pycharm": {
     "name": "#%%\n"
    }
   }
  },
  {
   "cell_type": "markdown",
   "source": [
    "Need to reduce ethnicity columns by combining similar or dropping irrelevant columns"
   ],
   "metadata": {
    "collapsed": false,
    "pycharm": {
     "name": "#%% md\n"
    }
   }
  },
  {
   "cell_type": "code",
   "execution_count": 211,
   "outputs": [],
   "source": [
    "# find way to bin for every number of rows\n",
    "ethnicites = list(county_ethnicities_2017_2019.iloc[:, 20:29])\n",
    "ethnicites.extend(list(county_ethnicities_2017_2019.iloc[:, 32:54]))\n",
    "ethnicites.extend(list(county_ethnicities_2017_2019.iloc[:, 56:]))\n",
    "county_ethnicities_2017_2019 = remove_col(county_ethnicities_2017_2019, ethnicites)\n",
    "\n",
    "# can add columns"
   ],
   "metadata": {
    "collapsed": false,
    "pycharm": {
     "name": "#%%\n"
    }
   }
  },
  {
   "cell_type": "code",
   "execution_count": 212,
   "outputs": [
    {
     "data": {
      "text/plain": "        STATE  COUNTY   STNAME          CTYNAME  YEAR  TOT_POP  TOT_MALE  \\\n0           1       1  Alabama   Autauga County    10    55390     27010   \n19          1       1  Alabama   Autauga County    11    55533     27006   \n38          1       1  Alabama   Autauga County    12    55869     27092   \n57          1       3  Alabama   Baldwin County    10   212521    103218   \n76          1       3  Alabama   Baldwin County    11   217855    105702   \n...       ...     ...      ...              ...   ...      ...       ...   \n178999     56      43  Wyoming  Washakie County    11     7877      3984   \n179018     56      43  Wyoming  Washakie County    12     7805      3963   \n179037     56      45  Wyoming    Weston County    10     6968      3660   \n179056     56      45  Wyoming    Weston County    11     6924      3627   \n179075     56      45  Wyoming    Weston County    12     6927      3624   \n\n        TOT_FEMALE  WA_MALE  WA_FEMALE  ...  AA_FEMALE  NA_MALE  NA_FEMALE  \\\n0            28380    20876      21705  ...        385       30         26   \n19           28527    20917      21749  ...        374       33         28   \n38           28777    20878      21729  ...        370       32         26   \n57          109303    90360      95215  ...       1361       69         69   \n76          112153    92613      97815  ...       1396       70         72   \n...            ...      ...        ...  ...        ...      ...        ...   \n178999        3893     3781       3670  ...         37        5          3   \n179018        3842     3759       3618  ...         39        4          2   \n179037        3308     3447       3111  ...         63        2          0   \n179056        3297     3401       3073  ...         74        2          0   \n179075        3303     3392       3062  ...         83        2          0   \n\n        TOM_MALE  TOM_FEMALE  NAC_FEMALE  NH_MALE  NH_FEMALE  H_MALE  H_FEMALE  \n0            561         481          55    26188      27643     822       737  \n19           535         494          58    26140      27771     866       756  \n38           538         507          49    26208      27990     884       787  \n57          1785        1913         168    98087     104753    5131      4550  \n76          1897        1984         176   100355     107363    5347      4790  \n...          ...         ...         ...      ...        ...     ...       ...  \n178999        86          90           8     3416       3352     568       541  \n179018        87          89          11     3398       3299     565       543  \n179037        78          75           7     3501       3180     159       128  \n179056        83          84           3     3475       3176     152       121  \n179075        86          89           2     3469       3173     155       130  \n\n[9426 rows x 25 columns]",
      "text/html": "<div>\n<style scoped>\n    .dataframe tbody tr th:only-of-type {\n        vertical-align: middle;\n    }\n\n    .dataframe tbody tr th {\n        vertical-align: top;\n    }\n\n    .dataframe thead th {\n        text-align: right;\n    }\n</style>\n<table border=\"1\" class=\"dataframe\">\n  <thead>\n    <tr style=\"text-align: right;\">\n      <th></th>\n      <th>STATE</th>\n      <th>COUNTY</th>\n      <th>STNAME</th>\n      <th>CTYNAME</th>\n      <th>YEAR</th>\n      <th>TOT_POP</th>\n      <th>TOT_MALE</th>\n      <th>TOT_FEMALE</th>\n      <th>WA_MALE</th>\n      <th>WA_FEMALE</th>\n      <th>...</th>\n      <th>AA_FEMALE</th>\n      <th>NA_MALE</th>\n      <th>NA_FEMALE</th>\n      <th>TOM_MALE</th>\n      <th>TOM_FEMALE</th>\n      <th>NAC_FEMALE</th>\n      <th>NH_MALE</th>\n      <th>NH_FEMALE</th>\n      <th>H_MALE</th>\n      <th>H_FEMALE</th>\n    </tr>\n  </thead>\n  <tbody>\n    <tr>\n      <th>0</th>\n      <td>1</td>\n      <td>1</td>\n      <td>Alabama</td>\n      <td>Autauga County</td>\n      <td>10</td>\n      <td>55390</td>\n      <td>27010</td>\n      <td>28380</td>\n      <td>20876</td>\n      <td>21705</td>\n      <td>...</td>\n      <td>385</td>\n      <td>30</td>\n      <td>26</td>\n      <td>561</td>\n      <td>481</td>\n      <td>55</td>\n      <td>26188</td>\n      <td>27643</td>\n      <td>822</td>\n      <td>737</td>\n    </tr>\n    <tr>\n      <th>19</th>\n      <td>1</td>\n      <td>1</td>\n      <td>Alabama</td>\n      <td>Autauga County</td>\n      <td>11</td>\n      <td>55533</td>\n      <td>27006</td>\n      <td>28527</td>\n      <td>20917</td>\n      <td>21749</td>\n      <td>...</td>\n      <td>374</td>\n      <td>33</td>\n      <td>28</td>\n      <td>535</td>\n      <td>494</td>\n      <td>58</td>\n      <td>26140</td>\n      <td>27771</td>\n      <td>866</td>\n      <td>756</td>\n    </tr>\n    <tr>\n      <th>38</th>\n      <td>1</td>\n      <td>1</td>\n      <td>Alabama</td>\n      <td>Autauga County</td>\n      <td>12</td>\n      <td>55869</td>\n      <td>27092</td>\n      <td>28777</td>\n      <td>20878</td>\n      <td>21729</td>\n      <td>...</td>\n      <td>370</td>\n      <td>32</td>\n      <td>26</td>\n      <td>538</td>\n      <td>507</td>\n      <td>49</td>\n      <td>26208</td>\n      <td>27990</td>\n      <td>884</td>\n      <td>787</td>\n    </tr>\n    <tr>\n      <th>57</th>\n      <td>1</td>\n      <td>3</td>\n      <td>Alabama</td>\n      <td>Baldwin County</td>\n      <td>10</td>\n      <td>212521</td>\n      <td>103218</td>\n      <td>109303</td>\n      <td>90360</td>\n      <td>95215</td>\n      <td>...</td>\n      <td>1361</td>\n      <td>69</td>\n      <td>69</td>\n      <td>1785</td>\n      <td>1913</td>\n      <td>168</td>\n      <td>98087</td>\n      <td>104753</td>\n      <td>5131</td>\n      <td>4550</td>\n    </tr>\n    <tr>\n      <th>76</th>\n      <td>1</td>\n      <td>3</td>\n      <td>Alabama</td>\n      <td>Baldwin County</td>\n      <td>11</td>\n      <td>217855</td>\n      <td>105702</td>\n      <td>112153</td>\n      <td>92613</td>\n      <td>97815</td>\n      <td>...</td>\n      <td>1396</td>\n      <td>70</td>\n      <td>72</td>\n      <td>1897</td>\n      <td>1984</td>\n      <td>176</td>\n      <td>100355</td>\n      <td>107363</td>\n      <td>5347</td>\n      <td>4790</td>\n    </tr>\n    <tr>\n      <th>...</th>\n      <td>...</td>\n      <td>...</td>\n      <td>...</td>\n      <td>...</td>\n      <td>...</td>\n      <td>...</td>\n      <td>...</td>\n      <td>...</td>\n      <td>...</td>\n      <td>...</td>\n      <td>...</td>\n      <td>...</td>\n      <td>...</td>\n      <td>...</td>\n      <td>...</td>\n      <td>...</td>\n      <td>...</td>\n      <td>...</td>\n      <td>...</td>\n      <td>...</td>\n      <td>...</td>\n    </tr>\n    <tr>\n      <th>178999</th>\n      <td>56</td>\n      <td>43</td>\n      <td>Wyoming</td>\n      <td>Washakie County</td>\n      <td>11</td>\n      <td>7877</td>\n      <td>3984</td>\n      <td>3893</td>\n      <td>3781</td>\n      <td>3670</td>\n      <td>...</td>\n      <td>37</td>\n      <td>5</td>\n      <td>3</td>\n      <td>86</td>\n      <td>90</td>\n      <td>8</td>\n      <td>3416</td>\n      <td>3352</td>\n      <td>568</td>\n      <td>541</td>\n    </tr>\n    <tr>\n      <th>179018</th>\n      <td>56</td>\n      <td>43</td>\n      <td>Wyoming</td>\n      <td>Washakie County</td>\n      <td>12</td>\n      <td>7805</td>\n      <td>3963</td>\n      <td>3842</td>\n      <td>3759</td>\n      <td>3618</td>\n      <td>...</td>\n      <td>39</td>\n      <td>4</td>\n      <td>2</td>\n      <td>87</td>\n      <td>89</td>\n      <td>11</td>\n      <td>3398</td>\n      <td>3299</td>\n      <td>565</td>\n      <td>543</td>\n    </tr>\n    <tr>\n      <th>179037</th>\n      <td>56</td>\n      <td>45</td>\n      <td>Wyoming</td>\n      <td>Weston County</td>\n      <td>10</td>\n      <td>6968</td>\n      <td>3660</td>\n      <td>3308</td>\n      <td>3447</td>\n      <td>3111</td>\n      <td>...</td>\n      <td>63</td>\n      <td>2</td>\n      <td>0</td>\n      <td>78</td>\n      <td>75</td>\n      <td>7</td>\n      <td>3501</td>\n      <td>3180</td>\n      <td>159</td>\n      <td>128</td>\n    </tr>\n    <tr>\n      <th>179056</th>\n      <td>56</td>\n      <td>45</td>\n      <td>Wyoming</td>\n      <td>Weston County</td>\n      <td>11</td>\n      <td>6924</td>\n      <td>3627</td>\n      <td>3297</td>\n      <td>3401</td>\n      <td>3073</td>\n      <td>...</td>\n      <td>74</td>\n      <td>2</td>\n      <td>0</td>\n      <td>83</td>\n      <td>84</td>\n      <td>3</td>\n      <td>3475</td>\n      <td>3176</td>\n      <td>152</td>\n      <td>121</td>\n    </tr>\n    <tr>\n      <th>179075</th>\n      <td>56</td>\n      <td>45</td>\n      <td>Wyoming</td>\n      <td>Weston County</td>\n      <td>12</td>\n      <td>6927</td>\n      <td>3624</td>\n      <td>3303</td>\n      <td>3392</td>\n      <td>3062</td>\n      <td>...</td>\n      <td>83</td>\n      <td>2</td>\n      <td>0</td>\n      <td>86</td>\n      <td>89</td>\n      <td>2</td>\n      <td>3469</td>\n      <td>3173</td>\n      <td>155</td>\n      <td>130</td>\n    </tr>\n  </tbody>\n</table>\n<p>9426 rows × 25 columns</p>\n</div>"
     },
     "execution_count": 212,
     "metadata": {},
     "output_type": "execute_result"
    }
   ],
   "source": [
    "county_ethnicities_2017_2019"
   ],
   "metadata": {
    "collapsed": false,
    "pycharm": {
     "name": "#%%\n"
    }
   }
  },
  {
   "cell_type": "markdown",
   "source": [
    "# Combine the three separate dataframes"
   ],
   "metadata": {
    "collapsed": false,
    "pycharm": {
     "name": "#%% md\n"
    }
   }
  },
  {
   "cell_type": "code",
   "execution_count": 213,
   "outputs": [
    {
     "data": {
      "text/plain": "       State Name county Name  State Code  County Code        Date  AQI  \\\n0         Alabama     Baldwin           1            3  2017-01-01   21   \n1         Alabama     Baldwin           1            3  2017-01-04   22   \n2         Alabama     Baldwin           1            3  2017-01-10   19   \n3         Alabama     Baldwin           1            3  2017-01-13   30   \n4         Alabama     Baldwin           1            3  2017-01-16   16   \n...           ...         ...         ...          ...         ...  ...   \n341940    Wyoming      Weston          56           45  2019-12-27   36   \n341941    Wyoming      Weston          56           45  2019-12-28   37   \n341942    Wyoming      Weston          56           45  2019-12-29   34   \n341943    Wyoming      Weston          56           45  2019-12-30   36   \n341944    Wyoming      Weston          56           45  2019-12-31   40   \n\n       Category Defining Parameter Defining Site  Number of Sites Reporting  \n0          Good              PM2.5   01-003-0010                          1  \n1          Good              PM2.5   01-003-0010                          1  \n2          Good              PM2.5   01-003-0010                          1  \n3          Good              PM2.5   01-003-0010                          1  \n4          Good              PM2.5   01-003-0010                          1  \n...         ...                ...           ...                        ...  \n341940     Good              Ozone   56-045-0003                          2  \n341941     Good              Ozone   56-045-0003                          2  \n341942     Good              Ozone   56-045-0003                          2  \n341943     Good              Ozone   56-045-0003                          2  \n341944     Good              Ozone   56-045-0003                          2  \n\n[1026379 rows x 10 columns]",
      "text/html": "<div>\n<style scoped>\n    .dataframe tbody tr th:only-of-type {\n        vertical-align: middle;\n    }\n\n    .dataframe tbody tr th {\n        vertical-align: top;\n    }\n\n    .dataframe thead th {\n        text-align: right;\n    }\n</style>\n<table border=\"1\" class=\"dataframe\">\n  <thead>\n    <tr style=\"text-align: right;\">\n      <th></th>\n      <th>State Name</th>\n      <th>county Name</th>\n      <th>State Code</th>\n      <th>County Code</th>\n      <th>Date</th>\n      <th>AQI</th>\n      <th>Category</th>\n      <th>Defining Parameter</th>\n      <th>Defining Site</th>\n      <th>Number of Sites Reporting</th>\n    </tr>\n  </thead>\n  <tbody>\n    <tr>\n      <th>0</th>\n      <td>Alabama</td>\n      <td>Baldwin</td>\n      <td>1</td>\n      <td>3</td>\n      <td>2017-01-01</td>\n      <td>21</td>\n      <td>Good</td>\n      <td>PM2.5</td>\n      <td>01-003-0010</td>\n      <td>1</td>\n    </tr>\n    <tr>\n      <th>1</th>\n      <td>Alabama</td>\n      <td>Baldwin</td>\n      <td>1</td>\n      <td>3</td>\n      <td>2017-01-04</td>\n      <td>22</td>\n      <td>Good</td>\n      <td>PM2.5</td>\n      <td>01-003-0010</td>\n      <td>1</td>\n    </tr>\n    <tr>\n      <th>2</th>\n      <td>Alabama</td>\n      <td>Baldwin</td>\n      <td>1</td>\n      <td>3</td>\n      <td>2017-01-10</td>\n      <td>19</td>\n      <td>Good</td>\n      <td>PM2.5</td>\n      <td>01-003-0010</td>\n      <td>1</td>\n    </tr>\n    <tr>\n      <th>3</th>\n      <td>Alabama</td>\n      <td>Baldwin</td>\n      <td>1</td>\n      <td>3</td>\n      <td>2017-01-13</td>\n      <td>30</td>\n      <td>Good</td>\n      <td>PM2.5</td>\n      <td>01-003-0010</td>\n      <td>1</td>\n    </tr>\n    <tr>\n      <th>4</th>\n      <td>Alabama</td>\n      <td>Baldwin</td>\n      <td>1</td>\n      <td>3</td>\n      <td>2017-01-16</td>\n      <td>16</td>\n      <td>Good</td>\n      <td>PM2.5</td>\n      <td>01-003-0010</td>\n      <td>1</td>\n    </tr>\n    <tr>\n      <th>...</th>\n      <td>...</td>\n      <td>...</td>\n      <td>...</td>\n      <td>...</td>\n      <td>...</td>\n      <td>...</td>\n      <td>...</td>\n      <td>...</td>\n      <td>...</td>\n      <td>...</td>\n    </tr>\n    <tr>\n      <th>341940</th>\n      <td>Wyoming</td>\n      <td>Weston</td>\n      <td>56</td>\n      <td>45</td>\n      <td>2019-12-27</td>\n      <td>36</td>\n      <td>Good</td>\n      <td>Ozone</td>\n      <td>56-045-0003</td>\n      <td>2</td>\n    </tr>\n    <tr>\n      <th>341941</th>\n      <td>Wyoming</td>\n      <td>Weston</td>\n      <td>56</td>\n      <td>45</td>\n      <td>2019-12-28</td>\n      <td>37</td>\n      <td>Good</td>\n      <td>Ozone</td>\n      <td>56-045-0003</td>\n      <td>2</td>\n    </tr>\n    <tr>\n      <th>341942</th>\n      <td>Wyoming</td>\n      <td>Weston</td>\n      <td>56</td>\n      <td>45</td>\n      <td>2019-12-29</td>\n      <td>34</td>\n      <td>Good</td>\n      <td>Ozone</td>\n      <td>56-045-0003</td>\n      <td>2</td>\n    </tr>\n    <tr>\n      <th>341943</th>\n      <td>Wyoming</td>\n      <td>Weston</td>\n      <td>56</td>\n      <td>45</td>\n      <td>2019-12-30</td>\n      <td>36</td>\n      <td>Good</td>\n      <td>Ozone</td>\n      <td>56-045-0003</td>\n      <td>2</td>\n    </tr>\n    <tr>\n      <th>341944</th>\n      <td>Wyoming</td>\n      <td>Weston</td>\n      <td>56</td>\n      <td>45</td>\n      <td>2019-12-31</td>\n      <td>40</td>\n      <td>Good</td>\n      <td>Ozone</td>\n      <td>56-045-0003</td>\n      <td>2</td>\n    </tr>\n  </tbody>\n</table>\n<p>1026379 rows × 10 columns</p>\n</div>"
     },
     "execution_count": 213,
     "metadata": {},
     "output_type": "execute_result"
    }
   ],
   "source": [
    "county_ethnicities_2017_2019\n",
    "county_personal_incomes_2017_2019\n",
    "county_daily_aqi_by_2017_2019"
   ],
   "metadata": {
    "collapsed": false,
    "pycharm": {
     "name": "#%%\n"
    }
   }
  }
 ],
 "metadata": {
  "kernelspec": {
   "name": "pycharm-301d774e",
   "language": "python",
   "display_name": "PyCharm (API_Mini_Project)"
  },
  "language_info": {
   "codemirror_mode": {
    "name": "ipython",
    "version": 2
   },
   "file_extension": ".py",
   "mimetype": "text/x-python",
   "name": "python",
   "nbconvert_exporter": "python",
   "pygments_lexer": "ipython2",
   "version": "2.7.6"
  }
 },
 "nbformat": 4,
 "nbformat_minor": 0
}