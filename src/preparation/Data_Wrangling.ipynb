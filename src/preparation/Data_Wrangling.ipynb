{
 "cells": [
  {
   "cell_type": "markdown",
   "source": [
    "Importing libraries"
   ],
   "metadata": {
    "collapsed": false
   }
  },
  {
   "cell_type": "markdown",
   "source": [],
   "metadata": {
    "collapsed": false,
    "pycharm": {
     "name": "#%% md\n"
    }
   }
  },
  {
   "cell_type": "code",
   "execution_count": 1,
   "metadata": {
    "collapsed": true
   },
   "outputs": [],
   "source": [
    "import numpy as np\n",
    "import pandas as pd\n",
    "import requests\n",
    "import json\n",
    "import seaborn as sns\n",
    "import os\n",
    "import matplotlib.pyplot as plt\n",
    "\n",
    "import openaq\n",
    "\n",
    "plt.style.use('dark_background')\n",
    "plt.rcParams.update({\"grid.linewidth\":0.5, \"grid.alpha\":0.5})\n",
    "sns.set(style='ticks', context='talk')"
   ]
  },
  {
   "cell_type": "markdown",
   "source": [
    "load data"
   ],
   "metadata": {
    "collapsed": false
   }
  },
  {
   "cell_type": "markdown",
   "source": [],
   "metadata": {
    "collapsed": false
   }
  },
  {
   "cell_type": "code",
   "source": [
    "monitor_2018_data = pd.read_csv('../raw_data/annual_conc_by_monitor_2018.csv')\n",
    "pollution_us = pd.read_csv('../raw_data/pollution_us_2000_2016.csv')"
   ],
   "metadata": {
    "collapsed": false,
    "pycharm": {
     "name": "#%%\n"
    }
   },
   "execution_count": 2,
   "outputs": []
  },
  {
   "cell_type": "markdown",
   "source": [
    "Testing"
   ],
   "metadata": {
    "collapsed": false
   }
  },
  {
   "cell_type": "markdown",
   "source": [],
   "metadata": {
    "collapsed": false
   }
  },
  {
   "cell_type": "code",
   "source": [
    "print(monitor_2018_data.columns)\n",
    "print(monitor_2018_data['State Name'])\n",
    "\n",
    "# status, resp = api.cities()\n",
    "\n",
    "# df = pd.json_normalize(resp)"
   ],
   "metadata": {
    "collapsed": false,
    "pycharm": {
     "name": "#%%\n"
    }
   },
   "execution_count": 3,
   "outputs": [
    {
     "name": "stdout",
     "output_type": "stream",
     "text": [
      "Index(['State Code', 'County Code', 'Site Num', 'Parameter Code', 'POC',\n",
      "       'Latitude', 'Longitude', 'Datum', 'Parameter Name', 'Sample Duration',\n",
      "       'Pollutant Standard', 'Metric Used', 'Method Name', 'Year',\n",
      "       'Units of Measure', 'Event Type', 'Observation Count',\n",
      "       'Observation Percent', 'Completeness Indicator', 'Valid Day Count',\n",
      "       'Required Day Count', 'Exceptional Data Count', 'Null Data Count',\n",
      "       'Primary Exceedance Count', 'Secondary Exceedance Count',\n",
      "       'Certification Indicator', 'Num Obs Below MDL', 'Arithmetic Mean',\n",
      "       'Arithmetic Standard Dev', '1st Max Value', '1st Max DateTime',\n",
      "       '2nd Max Value', '2nd Max DateTime', '3rd Max Value',\n",
      "       '3rd Max DateTime', '4th Max Value', '4th Max DateTime',\n",
      "       '1st Max Non Overlapping Value', '1st NO Max DateTime',\n",
      "       '2nd Max Non Overlapping Value', '2nd NO Max DateTime',\n",
      "       '99th Percentile', '98th Percentile', '95th Percentile',\n",
      "       '90th Percentile', '75th Percentile', '50th Percentile',\n",
      "       '10th Percentile', 'Local Site Name', 'Address', 'State Name',\n",
      "       'County Name', 'City Name', 'CBSA Name', 'Date of Last Change'],\n",
      "      dtype='object')\n",
      "0                  Alabama\n",
      "1                  Alabama\n",
      "2                  Alabama\n",
      "3                  Alabama\n",
      "4                  Alabama\n",
      "               ...        \n",
      "69627    Country Of Mexico\n",
      "69628    Country Of Mexico\n",
      "69629    Country Of Mexico\n",
      "69630    Country Of Mexico\n",
      "69631    Country Of Mexico\n",
      "Name: State Name, Length: 69632, dtype: object\n"
     ]
    }
   ]
  },
  {
   "cell_type": "markdown",
   "source": [],
   "metadata": {
    "collapsed": false
   }
  },
  {
   "cell_type": "markdown",
   "source": [],
   "metadata": {
    "collapsed": false
   }
  },
  {
   "cell_type": "code",
   "source": [
    "print(pollution_us.info())\n",
    "print(pollution_us.columns)"
   ],
   "metadata": {
    "collapsed": false,
    "pycharm": {
     "name": "#%%\n"
    }
   },
   "execution_count": 4,
   "outputs": [
    {
     "name": "stdout",
     "output_type": "stream",
     "text": [
      "<class 'pandas.core.frame.DataFrame'>\n",
      "RangeIndex: 1746661 entries, 0 to 1746660\n",
      "Data columns (total 29 columns):\n",
      " #   Column             Dtype  \n",
      "---  ------             -----  \n",
      " 0   Unnamed: 0         int64  \n",
      " 1   State Code         int64  \n",
      " 2   County Code        int64  \n",
      " 3   Site Num           int64  \n",
      " 4   Address            object \n",
      " 5   State              object \n",
      " 6   County             object \n",
      " 7   City               object \n",
      " 8   Date Local         object \n",
      " 9   NO2 Units          object \n",
      " 10  NO2 Mean           float64\n",
      " 11  NO2 1st Max Value  float64\n",
      " 12  NO2 1st Max Hour   int64  \n",
      " 13  NO2 AQI            int64  \n",
      " 14  O3 Units           object \n",
      " 15  O3 Mean            float64\n",
      " 16  O3 1st Max Value   float64\n",
      " 17  O3 1st Max Hour    int64  \n",
      " 18  O3 AQI             int64  \n",
      " 19  SO2 Units          object \n",
      " 20  SO2 Mean           float64\n",
      " 21  SO2 1st Max Value  float64\n",
      " 22  SO2 1st Max Hour   int64  \n",
      " 23  SO2 AQI            float64\n",
      " 24  CO Units           object \n",
      " 25  CO Mean            float64\n",
      " 26  CO 1st Max Value   float64\n",
      " 27  CO 1st Max Hour    int64  \n",
      " 28  CO AQI             float64\n",
      "dtypes: float64(10), int64(10), object(9)\n",
      "memory usage: 386.5+ MB\n",
      "None\n",
      "Index(['Unnamed: 0', 'State Code', 'County Code', 'Site Num', 'Address',\n",
      "       'State', 'County', 'City', 'Date Local', 'NO2 Units', 'NO2 Mean',\n",
      "       'NO2 1st Max Value', 'NO2 1st Max Hour', 'NO2 AQI', 'O3 Units',\n",
      "       'O3 Mean', 'O3 1st Max Value', 'O3 1st Max Hour', 'O3 AQI', 'SO2 Units',\n",
      "       'SO2 Mean', 'SO2 1st Max Value', 'SO2 1st Max Hour', 'SO2 AQI',\n",
      "       'CO Units', 'CO Mean', 'CO 1st Max Value', 'CO 1st Max Hour', 'CO AQI'],\n",
      "      dtype='object')\n"
     ]
    }
   ]
  },
  {
   "cell_type": "code",
   "execution_count": 4,
   "outputs": [],
   "source": [],
   "metadata": {
    "collapsed": false,
    "pycharm": {
     "name": "#%%\n"
    }
   }
  },
  {
   "cell_type": "code",
   "execution_count": 4,
   "outputs": [],
   "source": [],
   "metadata": {
    "collapsed": false,
    "pycharm": {
     "name": "#%%\n"
    }
   }
  }
 ],
 "metadata": {
  "kernelspec": {
   "name": "pycharm-301d774e",
   "language": "python",
   "display_name": "PyCharm (API_Mini_Project)"
  },
  "language_info": {
   "codemirror_mode": {
    "name": "ipython",
    "version": 2
   },
   "file_extension": ".py",
   "mimetype": "text/x-python",
   "name": "python",
   "nbconvert_exporter": "python",
   "pygments_lexer": "ipython2",
   "version": "2.7.6"
  }
 },
 "nbformat": 4,
 "nbformat_minor": 0
}