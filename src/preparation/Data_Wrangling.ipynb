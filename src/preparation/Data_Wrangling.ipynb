{
 "cells": [
  {
   "cell_type": "markdown",
   "source": [
    "Importing libraries"
   ],
   "metadata": {
    "collapsed": false
   }
  },
  {
   "cell_type": "markdown",
   "source": [],
   "metadata": {
    "collapsed": false,
    "pycharm": {
     "name": "#%% md\n"
    }
   }
  },
  {
   "cell_type": "code",
   "execution_count": 5,
   "metadata": {
    "collapsed": true
   },
   "outputs": [],
   "source": [
    "import numpy as np\n",
    "import pandas as pd\n",
    "import seaborn as sns\n",
    "import sys\n",
    "import os\n",
    "import matplotlib.pyplot as plt\n",
    "\n",
    "import openaq\n",
    "\n",
    "plt.style.use('dark_background')\n",
    "plt.rcParams.update({\"grid.linewidth\":0.5, \"grid.alpha\":0.5})\n",
    "sns.set(style='ticks', context='talk')"
   ]
  },
  {
   "cell_type": "markdown",
   "source": [
    "load data"
   ],
   "metadata": {
    "collapsed": false
   }
  },
  {
   "cell_type": "markdown",
   "source": [],
   "metadata": {
    "collapsed": false
   }
  },
  {
   "cell_type": "code",
   "source": [
    "# pd.set_option('max_columns', None)\n",
    "# pd.set_option('max_rows', None)\n",
    "#np.set_printoptions(threshold=sys.maxsize)\n",
    "\n",
    "\n",
    "daily_aqi_by_county_2017 = pd.read_csv('../../data/raw/daily_aqi_by_county_2017.csv')\n",
    "daily_aqi_by_county_2018 = pd.read_csv('../../data/raw/daily_aqi_by_county_2018.csv')\n",
    "daily_aqi_by_county_2019 = pd.read_csv('../../data/raw/daily_aqi_by_county_2019.csv')\n",
    "\n",
    "annual_personal_income_by_county = pd.read_csv('../../data/raw/CAINC1__ALL_AREAS_1969_2019.csv', encoding='latin-1')\n",
    "\n",
    "county_ethnicities = pd.read_csv('../../data/raw/county_cc-est2019-alldata.csv', encoding='latin-1')\n",
    "\n"
   ],
   "metadata": {
    "collapsed": false,
    "pycharm": {
     "name": "#%%\n"
    }
   },
   "execution_count": 42,
   "outputs": [
    {
     "name": "stderr",
     "output_type": "stream",
     "text": [
      "/home/wkc/.local/lib/python3.8/site-packages/IPython/core/interactiveshell.py:3146: DtypeWarning: Columns (2,8,9,10,11,12,13,14,15,16,17,18,19,20,21,22,23,24,25,26,27,28,29,30,31,32,33,34,35,36,37,38,39,40,41,42,43,44,45,46,47,48,49,50,51,52,53,54,55,56,57,58) have mixed types.Specify dtype option on import or set low_memory=False.\n",
      "  has_raised = await self.run_ast_nodes(code_ast.body, cell_name,\n"
     ]
    }
   ]
  },
  {
   "cell_type": "markdown",
   "source": [
    "Clean annual personal income "
   ],
   "metadata": {
    "collapsed": false
   }
  },
  {
   "cell_type": "markdown",
   "source": [],
   "metadata": {
    "collapsed": false
   }
  },
  {
   "cell_type": "code",
   "source": [],
   "metadata": {
    "collapsed": false,
    "pycharm": {
     "name": "#%%\n"
    }
   },
   "execution_count": 49,
   "outputs": [
    {
     "data": {
      "text/plain": "                                                GeoFIPS        GeoName Region  \\\n0                                               \"00000\"  United States          \n1                                               \"00000\"  United States          \n2                                               \"00000\"  United States          \n3                                               \"01000\"        Alabama      5   \n4                                               \"01000\"        Alabama      5   \n...                                                 ...            ...    ...   \n9593                                            \"98000\"       Far West      8   \n9594              Note: See the included footnote file.            NaN    NaN   \n9595  CAINC1: Personal Income Summary: Personal Inco...            NaN    NaN   \n9596  Last updated: November 17, 2020-- new statisti...            NaN    NaN   \n9597  Source: U.S. Department of Commerce / Bureau o...            NaN    NaN   \n\n     TableName  LineCode IndustryClassification  \\\n0       CAINC1       1.0                    ...   \n1       CAINC1       2.0                    ...   \n2       CAINC1       3.0                    ...   \n3       CAINC1       1.0                    ...   \n4       CAINC1       2.0                    ...   \n...        ...       ...                    ...   \n9593    CAINC1       3.0                    ...   \n9594       NaN       NaN                    NaN   \n9595       NaN       NaN                    NaN   \n9596       NaN       NaN                    NaN   \n9597       NaN       NaN                    NaN   \n\n                                  Description                  Unit  \\\n0      Personal income (thousands of dollars)  Thousands of dollars   \n1                     Population (persons) 1/     Number of persons   \n2     Per capita personal income (dollars) 2/               Dollars   \n3      Personal income (thousands of dollars)  Thousands of dollars   \n4                     Population (persons) 1/     Number of persons   \n...                                       ...                   ...   \n9593  Per capita personal income (dollars) 2/               Dollars   \n9594                                      NaN                   NaN   \n9595                                      NaN                   NaN   \n9596                                      NaN                   NaN   \n9597                                      NaN                   NaN   \n\n           1969       1970  ...         2010         2011         2012  \\\n0     791229000  855525000  ...  12541995000  13315478000  13998383000   \n1     201298000  203798722  ...    309321666    311556874    313830990   \n2          3931       4198  ...        40547        42739        44605   \n3       9737715   10628318  ...    161516561    167942757    172804075   \n4       3440000    3449846  ...      4785437      4799069      4815588   \n...         ...        ...  ...          ...          ...          ...   \n9593       4570       4855  ...        42671        45000        47497   \n9594        NaN        NaN  ...          NaN          NaN          NaN   \n9595        NaN        NaN  ...          NaN          NaN          NaN   \n9596        NaN        NaN  ...          NaN          NaN          NaN   \n9597        NaN        NaN  ...          NaN          NaN          NaN   \n\n             2013         2014         2015         2016         2017  \\\n0     14175503000  14982715000  15717140000  16151881000  16937582000   \n1       315993715    318301008    320635163    322941311    324985539   \n2           44860        47071        49019        50015        52118   \n3       174415420    180457683    188711443    192281933    199999756   \n4         4830081      4841799      4852347      4863525      4874486   \n...           ...          ...          ...          ...          ...   \n9593        47919        50889        54062        56045        58492   \n9594          NaN          NaN          NaN          NaN          NaN   \n9595          NaN          NaN          NaN          NaN          NaN   \n9596          NaN          NaN          NaN          NaN          NaN   \n9597          NaN          NaN          NaN          NaN          NaN   \n\n             2018         2019  \n0     17839255000  18542262000  \n1       326687501    328239523  \n2           54606        56490  \n3       208752683    216449038  \n4         4887681      4903185  \n...           ...          ...  \n9593        61616        64236  \n9594          NaN          NaN  \n9595          NaN          NaN  \n9596          NaN          NaN  \n9597          NaN          NaN  \n\n[9598 rows x 59 columns]",
      "text/html": "<div>\n<style scoped>\n    .dataframe tbody tr th:only-of-type {\n        vertical-align: middle;\n    }\n\n    .dataframe tbody tr th {\n        vertical-align: top;\n    }\n\n    .dataframe thead th {\n        text-align: right;\n    }\n</style>\n<table border=\"1\" class=\"dataframe\">\n  <thead>\n    <tr style=\"text-align: right;\">\n      <th></th>\n      <th>GeoFIPS</th>\n      <th>GeoName</th>\n      <th>Region</th>\n      <th>TableName</th>\n      <th>LineCode</th>\n      <th>IndustryClassification</th>\n      <th>Description</th>\n      <th>Unit</th>\n      <th>1969</th>\n      <th>1970</th>\n      <th>...</th>\n      <th>2010</th>\n      <th>2011</th>\n      <th>2012</th>\n      <th>2013</th>\n      <th>2014</th>\n      <th>2015</th>\n      <th>2016</th>\n      <th>2017</th>\n      <th>2018</th>\n      <th>2019</th>\n    </tr>\n  </thead>\n  <tbody>\n    <tr>\n      <th>0</th>\n      <td>\"00000\"</td>\n      <td>United States</td>\n      <td></td>\n      <td>CAINC1</td>\n      <td>1.0</td>\n      <td>...</td>\n      <td>Personal income (thousands of dollars)</td>\n      <td>Thousands of dollars</td>\n      <td>791229000</td>\n      <td>855525000</td>\n      <td>...</td>\n      <td>12541995000</td>\n      <td>13315478000</td>\n      <td>13998383000</td>\n      <td>14175503000</td>\n      <td>14982715000</td>\n      <td>15717140000</td>\n      <td>16151881000</td>\n      <td>16937582000</td>\n      <td>17839255000</td>\n      <td>18542262000</td>\n    </tr>\n    <tr>\n      <th>1</th>\n      <td>\"00000\"</td>\n      <td>United States</td>\n      <td></td>\n      <td>CAINC1</td>\n      <td>2.0</td>\n      <td>...</td>\n      <td>Population (persons) 1/</td>\n      <td>Number of persons</td>\n      <td>201298000</td>\n      <td>203798722</td>\n      <td>...</td>\n      <td>309321666</td>\n      <td>311556874</td>\n      <td>313830990</td>\n      <td>315993715</td>\n      <td>318301008</td>\n      <td>320635163</td>\n      <td>322941311</td>\n      <td>324985539</td>\n      <td>326687501</td>\n      <td>328239523</td>\n    </tr>\n    <tr>\n      <th>2</th>\n      <td>\"00000\"</td>\n      <td>United States</td>\n      <td></td>\n      <td>CAINC1</td>\n      <td>3.0</td>\n      <td>...</td>\n      <td>Per capita personal income (dollars) 2/</td>\n      <td>Dollars</td>\n      <td>3931</td>\n      <td>4198</td>\n      <td>...</td>\n      <td>40547</td>\n      <td>42739</td>\n      <td>44605</td>\n      <td>44860</td>\n      <td>47071</td>\n      <td>49019</td>\n      <td>50015</td>\n      <td>52118</td>\n      <td>54606</td>\n      <td>56490</td>\n    </tr>\n    <tr>\n      <th>3</th>\n      <td>\"01000\"</td>\n      <td>Alabama</td>\n      <td>5</td>\n      <td>CAINC1</td>\n      <td>1.0</td>\n      <td>...</td>\n      <td>Personal income (thousands of dollars)</td>\n      <td>Thousands of dollars</td>\n      <td>9737715</td>\n      <td>10628318</td>\n      <td>...</td>\n      <td>161516561</td>\n      <td>167942757</td>\n      <td>172804075</td>\n      <td>174415420</td>\n      <td>180457683</td>\n      <td>188711443</td>\n      <td>192281933</td>\n      <td>199999756</td>\n      <td>208752683</td>\n      <td>216449038</td>\n    </tr>\n    <tr>\n      <th>4</th>\n      <td>\"01000\"</td>\n      <td>Alabama</td>\n      <td>5</td>\n      <td>CAINC1</td>\n      <td>2.0</td>\n      <td>...</td>\n      <td>Population (persons) 1/</td>\n      <td>Number of persons</td>\n      <td>3440000</td>\n      <td>3449846</td>\n      <td>...</td>\n      <td>4785437</td>\n      <td>4799069</td>\n      <td>4815588</td>\n      <td>4830081</td>\n      <td>4841799</td>\n      <td>4852347</td>\n      <td>4863525</td>\n      <td>4874486</td>\n      <td>4887681</td>\n      <td>4903185</td>\n    </tr>\n    <tr>\n      <th>...</th>\n      <td>...</td>\n      <td>...</td>\n      <td>...</td>\n      <td>...</td>\n      <td>...</td>\n      <td>...</td>\n      <td>...</td>\n      <td>...</td>\n      <td>...</td>\n      <td>...</td>\n      <td>...</td>\n      <td>...</td>\n      <td>...</td>\n      <td>...</td>\n      <td>...</td>\n      <td>...</td>\n      <td>...</td>\n      <td>...</td>\n      <td>...</td>\n      <td>...</td>\n      <td>...</td>\n    </tr>\n    <tr>\n      <th>9593</th>\n      <td>\"98000\"</td>\n      <td>Far West</td>\n      <td>8</td>\n      <td>CAINC1</td>\n      <td>3.0</td>\n      <td>...</td>\n      <td>Per capita personal income (dollars) 2/</td>\n      <td>Dollars</td>\n      <td>4570</td>\n      <td>4855</td>\n      <td>...</td>\n      <td>42671</td>\n      <td>45000</td>\n      <td>47497</td>\n      <td>47919</td>\n      <td>50889</td>\n      <td>54062</td>\n      <td>56045</td>\n      <td>58492</td>\n      <td>61616</td>\n      <td>64236</td>\n    </tr>\n    <tr>\n      <th>9594</th>\n      <td>Note: See the included footnote file.</td>\n      <td>NaN</td>\n      <td>NaN</td>\n      <td>NaN</td>\n      <td>NaN</td>\n      <td>NaN</td>\n      <td>NaN</td>\n      <td>NaN</td>\n      <td>NaN</td>\n      <td>NaN</td>\n      <td>...</td>\n      <td>NaN</td>\n      <td>NaN</td>\n      <td>NaN</td>\n      <td>NaN</td>\n      <td>NaN</td>\n      <td>NaN</td>\n      <td>NaN</td>\n      <td>NaN</td>\n      <td>NaN</td>\n      <td>NaN</td>\n    </tr>\n    <tr>\n      <th>9595</th>\n      <td>CAINC1: Personal Income Summary: Personal Inco...</td>\n      <td>NaN</td>\n      <td>NaN</td>\n      <td>NaN</td>\n      <td>NaN</td>\n      <td>NaN</td>\n      <td>NaN</td>\n      <td>NaN</td>\n      <td>NaN</td>\n      <td>NaN</td>\n      <td>...</td>\n      <td>NaN</td>\n      <td>NaN</td>\n      <td>NaN</td>\n      <td>NaN</td>\n      <td>NaN</td>\n      <td>NaN</td>\n      <td>NaN</td>\n      <td>NaN</td>\n      <td>NaN</td>\n      <td>NaN</td>\n    </tr>\n    <tr>\n      <th>9596</th>\n      <td>Last updated: November 17, 2020-- new statisti...</td>\n      <td>NaN</td>\n      <td>NaN</td>\n      <td>NaN</td>\n      <td>NaN</td>\n      <td>NaN</td>\n      <td>NaN</td>\n      <td>NaN</td>\n      <td>NaN</td>\n      <td>NaN</td>\n      <td>...</td>\n      <td>NaN</td>\n      <td>NaN</td>\n      <td>NaN</td>\n      <td>NaN</td>\n      <td>NaN</td>\n      <td>NaN</td>\n      <td>NaN</td>\n      <td>NaN</td>\n      <td>NaN</td>\n      <td>NaN</td>\n    </tr>\n    <tr>\n      <th>9597</th>\n      <td>Source: U.S. Department of Commerce / Bureau o...</td>\n      <td>NaN</td>\n      <td>NaN</td>\n      <td>NaN</td>\n      <td>NaN</td>\n      <td>NaN</td>\n      <td>NaN</td>\n      <td>NaN</td>\n      <td>NaN</td>\n      <td>NaN</td>\n      <td>...</td>\n      <td>NaN</td>\n      <td>NaN</td>\n      <td>NaN</td>\n      <td>NaN</td>\n      <td>NaN</td>\n      <td>NaN</td>\n      <td>NaN</td>\n      <td>NaN</td>\n      <td>NaN</td>\n      <td>NaN</td>\n    </tr>\n  </tbody>\n</table>\n<p>9598 rows × 59 columns</p>\n</div>"
     },
     "execution_count": 49,
     "metadata": {},
     "output_type": "execute_result"
    }
   ]
  },
  {
   "cell_type": "markdown",
   "source": [],
   "metadata": {
    "collapsed": false
   }
  },
  {
   "cell_type": "markdown",
   "source": [],
   "metadata": {
    "collapsed": false
   }
  },
  {
   "cell_type": "code",
   "source": [],
   "metadata": {
    "collapsed": false,
    "pycharm": {
     "name": "#%%\n"
    }
   },
   "execution_count": 3,
   "outputs": []
  },
  {
   "cell_type": "code",
   "execution_count": 3,
   "outputs": [],
   "source": [],
   "metadata": {
    "collapsed": false,
    "pycharm": {
     "name": "#%%\n"
    }
   }
  },
  {
   "cell_type": "code",
   "execution_count": 3,
   "outputs": [],
   "source": [],
   "metadata": {
    "collapsed": false,
    "pycharm": {
     "name": "#%%\n"
    }
   }
  }
 ],
 "metadata": {
  "kernelspec": {
   "name": "pycharm-301d774e",
   "language": "python",
   "display_name": "PyCharm (API_Mini_Project)"
  },
  "language_info": {
   "codemirror_mode": {
    "name": "ipython",
    "version": 2
   },
   "file_extension": ".py",
   "mimetype": "text/x-python",
   "name": "python",
   "nbconvert_exporter": "python",
   "pygments_lexer": "ipython2",
   "version": "2.7.6"
  }
 },
 "nbformat": 4,
 "nbformat_minor": 0
}