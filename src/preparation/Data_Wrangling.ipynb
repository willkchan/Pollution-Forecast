{
 "cells": [
  {
   "cell_type": "markdown",
   "source": [
    "Importing libraries"
   ],
   "metadata": {
    "collapsed": false
   }
  },
  {
   "cell_type": "code",
   "execution_count": 117,
   "metadata": {
    "collapsed": true
   },
   "outputs": [],
   "source": [
    "import numpy as np\n",
    "import pandas as pd\n",
    "import seaborn as sns\n",
    "import sys\n",
    "import os\n",
    "import matplotlib.pyplot as plt\n",
    "import klib\n",
    "\n",
    "import openaq\n",
    "from IPython.core.display import display\n",
    "\n",
    "plt.style.use('dark_background')\n",
    "plt.rcParams.update({\"grid.linewidth\":0.5, \"grid.alpha\":0.5})\n",
    "sns.set(style='ticks', context='talk')"
   ]
  },
  {
   "cell_type": "markdown",
   "source": [
    "#Load data"
   ],
   "metadata": {
    "collapsed": false
   }
  },
  {
   "cell_type": "code",
   "source": [
    "# pd.set_option('max_columns', None)\n",
    "# pd.set_option('max_rows', None)\n",
    "#np.set_printoptions(threshold=sys.maxsize)\n",
    "\n",
    "\n",
    "daily_aqi_by_county_2017 = pd.read_csv('../../data/raw/daily_aqi_by_county_2017.csv')\n",
    "daily_aqi_by_county_2018 = pd.read_csv('../../data/raw/daily_aqi_by_county_2018.csv')\n",
    "daily_aqi_by_county_2019 = pd.read_csv('../../data/raw/daily_aqi_by_county_2019.csv')\n",
    "\n",
    "annual_income_by_county = pd.read_csv('../../data/raw/CAINC1__ALL_AREAS_1969_2019.csv', encoding='latin-1')\n",
    "\n",
    "county_ethnicities = pd.read_csv('../../data/raw/county_cc-est2019-alldata.csv', encoding='latin-1')\n",
    "\n"
   ],
   "metadata": {
    "collapsed": false,
    "pycharm": {
     "name": "#%%\n"
    }
   },
   "execution_count": 118,
   "outputs": []
  },
  {
   "cell_type": "markdown",
   "source": [
    "Clean annual personal income by county"
   ],
   "metadata": {
    "collapsed": false
   }
  },
  {
   "cell_type": "markdown",
   "source": [
    "Remove columns we do not need and rows not needed"
   ],
   "metadata": {
    "collapsed": false
   }
  },
  {
   "cell_type": "code",
   "source": [
    "def remove_col(df, col_name):\n",
    "    '''Returns a dataframe with removed column or columns from old dataframe'''\n",
    "    new_df = df.copy()\n",
    "\n",
    "    if(type(col_name) != str and len(col_name) > 1):\n",
    "        for index in col_name:\n",
    "            new_df = new_df.drop(str(index), axis=1)\n",
    "    else:\n",
    "        new_df = new_df.drop(str(col_name), axis=1)\n",
    "    return new_df\n",
    "\n",
    "# used to remove years we do not need\n",
    "income_by_county_2017_2019 = remove_col(annual_income_by_county, range(1969, 2017))\n",
    "\n",
    "# used to remove last 4 rows as they are not index data; looks like extra info\n",
    "income_by_county_2017_2019 = income_by_county_2017_2019[:len(income_by_county_2017_2019) - 4]\n",
    "\n",
    "# income_by_county_2017_2019.info()\n",
    "income_by_county_2017_2019"
   ],
   "metadata": {
    "collapsed": false,
    "pycharm": {
     "name": "#%%\n"
    }
   },
   "execution_count": 119,
   "outputs": [
    {
     "data": {
      "text/plain": "       GeoFIPS         GeoName Region TableName  LineCode  \\\n0      \"00000\"   United States           CAINC1       1.0   \n1      \"00000\"   United States           CAINC1       2.0   \n2      \"00000\"   United States           CAINC1       3.0   \n3      \"01000\"         Alabama      5    CAINC1       1.0   \n4      \"01000\"         Alabama      5    CAINC1       2.0   \n...        ...             ...    ...       ...       ...   \n9589   \"97000\"  Rocky Mountain      7    CAINC1       2.0   \n9590   \"97000\"  Rocky Mountain      7    CAINC1       3.0   \n9591   \"98000\"        Far West      8    CAINC1       1.0   \n9592   \"98000\"        Far West      8    CAINC1       2.0   \n9593   \"98000\"        Far West      8    CAINC1       3.0   \n\n     IndustryClassification                              Description  \\\n0                       ...   Personal income (thousands of dollars)   \n1                       ...                  Population (persons) 1/   \n2                       ...  Per capita personal income (dollars) 2/   \n3                       ...   Personal income (thousands of dollars)   \n4                       ...                  Population (persons) 1/   \n...                     ...                                      ...   \n9589                    ...                  Population (persons) 1/   \n9590                    ...  Per capita personal income (dollars) 2/   \n9591                    ...   Personal income (thousands of dollars)   \n9592                    ...                  Population (persons) 1/   \n9593                    ...  Per capita personal income (dollars) 2/   \n\n                      Unit         2017         2018         2019  \n0     Thousands of dollars  16937582000  17839255000  18542262000  \n1        Number of persons    324985539    326687501    328239523  \n2                  Dollars        52118        54606        56490  \n3     Thousands of dollars    199999756    208752683    216449038  \n4        Number of persons      4874486      4887681      4903185  \n...                    ...          ...          ...          ...  \n9589     Number of persons     12062055     12233639     12399296  \n9590               Dollars        49991        52936        54873  \n9591  Thousands of dollars   3279057722   3472097346   3634009401  \n9592     Number of persons     56059482     56350416     56572426  \n9593               Dollars        58492        61616        64236  \n\n[9594 rows x 11 columns]",
      "text/html": "<div>\n<style scoped>\n    .dataframe tbody tr th:only-of-type {\n        vertical-align: middle;\n    }\n\n    .dataframe tbody tr th {\n        vertical-align: top;\n    }\n\n    .dataframe thead th {\n        text-align: right;\n    }\n</style>\n<table border=\"1\" class=\"dataframe\">\n  <thead>\n    <tr style=\"text-align: right;\">\n      <th></th>\n      <th>GeoFIPS</th>\n      <th>GeoName</th>\n      <th>Region</th>\n      <th>TableName</th>\n      <th>LineCode</th>\n      <th>IndustryClassification</th>\n      <th>Description</th>\n      <th>Unit</th>\n      <th>2017</th>\n      <th>2018</th>\n      <th>2019</th>\n    </tr>\n  </thead>\n  <tbody>\n    <tr>\n      <th>0</th>\n      <td>\"00000\"</td>\n      <td>United States</td>\n      <td></td>\n      <td>CAINC1</td>\n      <td>1.0</td>\n      <td>...</td>\n      <td>Personal income (thousands of dollars)</td>\n      <td>Thousands of dollars</td>\n      <td>16937582000</td>\n      <td>17839255000</td>\n      <td>18542262000</td>\n    </tr>\n    <tr>\n      <th>1</th>\n      <td>\"00000\"</td>\n      <td>United States</td>\n      <td></td>\n      <td>CAINC1</td>\n      <td>2.0</td>\n      <td>...</td>\n      <td>Population (persons) 1/</td>\n      <td>Number of persons</td>\n      <td>324985539</td>\n      <td>326687501</td>\n      <td>328239523</td>\n    </tr>\n    <tr>\n      <th>2</th>\n      <td>\"00000\"</td>\n      <td>United States</td>\n      <td></td>\n      <td>CAINC1</td>\n      <td>3.0</td>\n      <td>...</td>\n      <td>Per capita personal income (dollars) 2/</td>\n      <td>Dollars</td>\n      <td>52118</td>\n      <td>54606</td>\n      <td>56490</td>\n    </tr>\n    <tr>\n      <th>3</th>\n      <td>\"01000\"</td>\n      <td>Alabama</td>\n      <td>5</td>\n      <td>CAINC1</td>\n      <td>1.0</td>\n      <td>...</td>\n      <td>Personal income (thousands of dollars)</td>\n      <td>Thousands of dollars</td>\n      <td>199999756</td>\n      <td>208752683</td>\n      <td>216449038</td>\n    </tr>\n    <tr>\n      <th>4</th>\n      <td>\"01000\"</td>\n      <td>Alabama</td>\n      <td>5</td>\n      <td>CAINC1</td>\n      <td>2.0</td>\n      <td>...</td>\n      <td>Population (persons) 1/</td>\n      <td>Number of persons</td>\n      <td>4874486</td>\n      <td>4887681</td>\n      <td>4903185</td>\n    </tr>\n    <tr>\n      <th>...</th>\n      <td>...</td>\n      <td>...</td>\n      <td>...</td>\n      <td>...</td>\n      <td>...</td>\n      <td>...</td>\n      <td>...</td>\n      <td>...</td>\n      <td>...</td>\n      <td>...</td>\n      <td>...</td>\n    </tr>\n    <tr>\n      <th>9589</th>\n      <td>\"97000\"</td>\n      <td>Rocky Mountain</td>\n      <td>7</td>\n      <td>CAINC1</td>\n      <td>2.0</td>\n      <td>...</td>\n      <td>Population (persons) 1/</td>\n      <td>Number of persons</td>\n      <td>12062055</td>\n      <td>12233639</td>\n      <td>12399296</td>\n    </tr>\n    <tr>\n      <th>9590</th>\n      <td>\"97000\"</td>\n      <td>Rocky Mountain</td>\n      <td>7</td>\n      <td>CAINC1</td>\n      <td>3.0</td>\n      <td>...</td>\n      <td>Per capita personal income (dollars) 2/</td>\n      <td>Dollars</td>\n      <td>49991</td>\n      <td>52936</td>\n      <td>54873</td>\n    </tr>\n    <tr>\n      <th>9591</th>\n      <td>\"98000\"</td>\n      <td>Far West</td>\n      <td>8</td>\n      <td>CAINC1</td>\n      <td>1.0</td>\n      <td>...</td>\n      <td>Personal income (thousands of dollars)</td>\n      <td>Thousands of dollars</td>\n      <td>3279057722</td>\n      <td>3472097346</td>\n      <td>3634009401</td>\n    </tr>\n    <tr>\n      <th>9592</th>\n      <td>\"98000\"</td>\n      <td>Far West</td>\n      <td>8</td>\n      <td>CAINC1</td>\n      <td>2.0</td>\n      <td>...</td>\n      <td>Population (persons) 1/</td>\n      <td>Number of persons</td>\n      <td>56059482</td>\n      <td>56350416</td>\n      <td>56572426</td>\n    </tr>\n    <tr>\n      <th>9593</th>\n      <td>\"98000\"</td>\n      <td>Far West</td>\n      <td>8</td>\n      <td>CAINC1</td>\n      <td>3.0</td>\n      <td>...</td>\n      <td>Per capita personal income (dollars) 2/</td>\n      <td>Dollars</td>\n      <td>58492</td>\n      <td>61616</td>\n      <td>64236</td>\n    </tr>\n  </tbody>\n</table>\n<p>9594 rows × 11 columns</p>\n</div>"
     },
     "execution_count": 119,
     "metadata": {},
     "output_type": "execute_result"
    }
   ]
  },
  {
   "cell_type": "markdown",
   "source": [
    "change column types"
   ],
   "metadata": {
    "collapsed": false,
    "pycharm": {
     "name": "#%% md\n"
    }
   }
  },
  {
   "cell_type": "code",
   "execution_count": 120,
   "outputs": [
    {
     "name": "stdout",
     "output_type": "stream",
     "text": [
      "<class 'pandas.core.frame.DataFrame'>\n",
      "RangeIndex: 9594 entries, 0 to 9593\n",
      "Data columns (total 14 columns):\n",
      " #   Column                            Non-Null Count  Dtype  \n",
      "---  ------                            --------------  -----  \n",
      " 0   GeoFIPS                           9594 non-null   object \n",
      " 1   GeoName                           9594 non-null   object \n",
      " 2   Region                            9594 non-null   object \n",
      " 3   TableName                         9594 non-null   object \n",
      " 4   LineCode                          9594 non-null   float64\n",
      " 5   IndustryClassification            9594 non-null   object \n",
      " 6   Description                       9594 non-null   object \n",
      " 7   Unit                              9594 non-null   object \n",
      " 8   2017                              9594 non-null   object \n",
      " 9   2018                              9594 non-null   object \n",
      " 10  2019                              9594 non-null   object \n",
      " 11  Year 2017 (thousands of dollars)  9519 non-null   float32\n",
      " 12  Year 2018 (thousands of dollars)  9519 non-null   float32\n",
      " 13  Year 2019 (thousands of dollars)  9519 non-null   float32\n",
      "dtypes: float32(3), float64(1), object(10)\n",
      "memory usage: 937.0+ KB\n"
     ]
    }
   ],
   "source": [
    "# income_by_county_2017_2019['2017'].fillna(np.NaN, inplace=True)\n",
    "# income_by_county_2017_2019['2017 personal income'] = income_by_county_2017_2019['2017'].astype(float)\n",
    "\n",
    "# for i, item in enumerate(income_by_county_2017_2019['2017']):\n",
    "#    try:\n",
    "#       int(item)\n",
    "#    except ValueError:\n",
    "#        print('ERROR at index {}: {!r}'.format(i, item))\n",
    "#        break\n",
    "\n",
    "income_by_county_2017_2019['Year 2017 (thousands of dollars)'] = pd.to_numeric(income_by_county_2017_2019['2017'], downcast='float', errors='coerce')\n",
    "income_by_county_2017_2019['Year 2018 (thousands of dollars)'] = pd.to_numeric(income_by_county_2017_2019['2018'], downcast='float', errors='coerce')\n",
    "income_by_county_2017_2019['Year 2019 (thousands of dollars)'] = pd.to_numeric(income_by_county_2017_2019['2019'], downcast='float', errors='coerce')\n",
    "income_by_county_2017_2019.info()"
   ],
   "metadata": {
    "collapsed": false,
    "pycharm": {
     "name": "#%%\n"
    }
   }
  },
  {
   "cell_type": "markdown",
   "source": [
    "drop old object columns for years"
   ],
   "metadata": {
    "collapsed": false
   }
  },
  {
   "cell_type": "code",
   "execution_count": 121,
   "outputs": [
    {
     "name": "stdout",
     "output_type": "stream",
     "text": [
      "<class 'pandas.core.frame.DataFrame'>\n",
      "RangeIndex: 9594 entries, 0 to 9593\n",
      "Data columns (total 11 columns):\n",
      " #   Column                            Non-Null Count  Dtype  \n",
      "---  ------                            --------------  -----  \n",
      " 0   GeoFIPS                           9594 non-null   object \n",
      " 1   GeoName                           9594 non-null   object \n",
      " 2   Region                            9594 non-null   object \n",
      " 3   TableName                         9594 non-null   object \n",
      " 4   LineCode                          9594 non-null   float64\n",
      " 5   IndustryClassification            9594 non-null   object \n",
      " 6   Description                       9594 non-null   object \n",
      " 7   Unit                              9594 non-null   object \n",
      " 8   Year 2017 (thousands of dollars)  9519 non-null   float32\n",
      " 9   Year 2018 (thousands of dollars)  9519 non-null   float32\n",
      " 10  Year 2019 (thousands of dollars)  9519 non-null   float32\n",
      "dtypes: float32(3), float64(1), object(7)\n",
      "memory usage: 712.2+ KB\n"
     ]
    }
   ],
   "source": [
    "income_by_county_2017_2019 = remove_col(income_by_county_2017_2019, range(2017,2020))\n",
    "income_by_county_2017_2019.info()"
   ],
   "metadata": {
    "collapsed": false,
    "pycharm": {
     "name": "#%%\n"
    }
   }
  },
  {
   "cell_type": "markdown",
   "source": [
    "Need to deal with the 3 descriptions personal income, population, per capita personal income (dollars)"
   ],
   "metadata": {
    "collapsed": false
   }
  },
  {
   "cell_type": "code",
   "source": [
    "personal_income = income_by_county_2017_2019['Description'] == ('Personal income (thousands of dollars)')\n",
    "personal_incomes_2017_2019 = income_by_county_2017_2019[personal_income]\n",
    "personal_incomes_2017_2019.head()"
   ],
   "metadata": {
    "collapsed": false,
    "pycharm": {
     "name": "#%%\n"
    }
   },
   "execution_count": 122,
   "outputs": [
    {
     "data": {
      "text/plain": "     GeoFIPS        GeoName Region TableName  LineCode IndustryClassification  \\\n0    \"00000\"  United States           CAINC1       1.0                    ...   \n3    \"01000\"        Alabama      5    CAINC1       1.0                    ...   \n6    \"01001\"    Autauga, AL      5    CAINC1       1.0                    ...   \n9    \"01003\"    Baldwin, AL      5    CAINC1       1.0                    ...   \n12   \"01005\"    Barbour, AL      5    CAINC1       1.0                    ...   \n\n                               Description                  Unit  \\\n0   Personal income (thousands of dollars)  Thousands of dollars   \n3   Personal income (thousands of dollars)  Thousands of dollars   \n6   Personal income (thousands of dollars)  Thousands of dollars   \n9   Personal income (thousands of dollars)  Thousands of dollars   \n12  Personal income (thousands of dollars)  Thousands of dollars   \n\n    Year 2017 (thousands of dollars)  Year 2018 (thousands of dollars)  \\\n0                       1.693758e+10                      1.783926e+10   \n3                       1.999998e+08                      2.087527e+08   \n6                       2.276561e+06                      2.360366e+06   \n9                       9.471242e+06                      1.006597e+07   \n12                      8.381840e+05                      8.721890e+05   \n\n    Year 2019 (thousands of dollars)  \n0                       1.854226e+10  \n3                       2.164490e+08  \n6                       2.453617e+06  \n9                       1.060026e+07  \n12                      8.828340e+05  ",
      "text/html": "<div>\n<style scoped>\n    .dataframe tbody tr th:only-of-type {\n        vertical-align: middle;\n    }\n\n    .dataframe tbody tr th {\n        vertical-align: top;\n    }\n\n    .dataframe thead th {\n        text-align: right;\n    }\n</style>\n<table border=\"1\" class=\"dataframe\">\n  <thead>\n    <tr style=\"text-align: right;\">\n      <th></th>\n      <th>GeoFIPS</th>\n      <th>GeoName</th>\n      <th>Region</th>\n      <th>TableName</th>\n      <th>LineCode</th>\n      <th>IndustryClassification</th>\n      <th>Description</th>\n      <th>Unit</th>\n      <th>Year 2017 (thousands of dollars)</th>\n      <th>Year 2018 (thousands of dollars)</th>\n      <th>Year 2019 (thousands of dollars)</th>\n    </tr>\n  </thead>\n  <tbody>\n    <tr>\n      <th>0</th>\n      <td>\"00000\"</td>\n      <td>United States</td>\n      <td></td>\n      <td>CAINC1</td>\n      <td>1.0</td>\n      <td>...</td>\n      <td>Personal income (thousands of dollars)</td>\n      <td>Thousands of dollars</td>\n      <td>1.693758e+10</td>\n      <td>1.783926e+10</td>\n      <td>1.854226e+10</td>\n    </tr>\n    <tr>\n      <th>3</th>\n      <td>\"01000\"</td>\n      <td>Alabama</td>\n      <td>5</td>\n      <td>CAINC1</td>\n      <td>1.0</td>\n      <td>...</td>\n      <td>Personal income (thousands of dollars)</td>\n      <td>Thousands of dollars</td>\n      <td>1.999998e+08</td>\n      <td>2.087527e+08</td>\n      <td>2.164490e+08</td>\n    </tr>\n    <tr>\n      <th>6</th>\n      <td>\"01001\"</td>\n      <td>Autauga, AL</td>\n      <td>5</td>\n      <td>CAINC1</td>\n      <td>1.0</td>\n      <td>...</td>\n      <td>Personal income (thousands of dollars)</td>\n      <td>Thousands of dollars</td>\n      <td>2.276561e+06</td>\n      <td>2.360366e+06</td>\n      <td>2.453617e+06</td>\n    </tr>\n    <tr>\n      <th>9</th>\n      <td>\"01003\"</td>\n      <td>Baldwin, AL</td>\n      <td>5</td>\n      <td>CAINC1</td>\n      <td>1.0</td>\n      <td>...</td>\n      <td>Personal income (thousands of dollars)</td>\n      <td>Thousands of dollars</td>\n      <td>9.471242e+06</td>\n      <td>1.006597e+07</td>\n      <td>1.060026e+07</td>\n    </tr>\n    <tr>\n      <th>12</th>\n      <td>\"01005\"</td>\n      <td>Barbour, AL</td>\n      <td>5</td>\n      <td>CAINC1</td>\n      <td>1.0</td>\n      <td>...</td>\n      <td>Personal income (thousands of dollars)</td>\n      <td>Thousands of dollars</td>\n      <td>8.381840e+05</td>\n      <td>8.721890e+05</td>\n      <td>8.828340e+05</td>\n    </tr>\n  </tbody>\n</table>\n</div>"
     },
     "execution_count": 122,
     "metadata": {},
     "output_type": "execute_result"
    }
   ]
  },
  {
   "cell_type": "markdown",
   "source": [
    "remove more columns\n",
    "remove IndustryClassifaction as it only contains ... values and also not what we are interested in\n",
    "remove TableName as only one value and not what we are interested in\n",
    "remove Unit as that has the same value as Thousands of dollars\n",
    "remove descripton as that is all personal income now"
   ],
   "metadata": {
    "collapsed": false,
    "pycharm": {
     "name": "#%% md\n"
    }
   }
  },
  {
   "cell_type": "code",
   "execution_count": 123,
   "outputs": [
    {
     "data": {
      "text/plain": "       GeoFIPS         GeoName Region  LineCode  \\\n0      \"00000\"   United States              1.0   \n3      \"01000\"         Alabama      5       1.0   \n6      \"01001\"     Autauga, AL      5       1.0   \n9      \"01003\"     Baldwin, AL      5       1.0   \n12     \"01005\"     Barbour, AL      5       1.0   \n...        ...             ...    ...       ...   \n9579   \"94000\"          Plains      4       1.0   \n9582   \"95000\"       Southeast      5       1.0   \n9585   \"96000\"       Southwest      6       1.0   \n9588   \"97000\"  Rocky Mountain      7       1.0   \n9591   \"98000\"        Far West      8       1.0   \n\n      Year 2017 (thousands of dollars)  Year 2018 (thousands of dollars)  \\\n0                         1.693758e+10                      1.783926e+10   \n3                         1.999998e+08                      2.087527e+08   \n6                         2.276561e+06                      2.360366e+06   \n9                         9.471242e+06                      1.006597e+07   \n12                        8.381840e+05                      8.721890e+05   \n...                                ...                               ...   \n9579                      1.055029e+09                      1.107630e+09   \n9582                      3.818755e+09                      4.022276e+09   \n9585                      1.924648e+09                      2.051027e+09   \n9588                      6.029942e+08                      6.476007e+08   \n9591                      3.279058e+09                      3.472097e+09   \n\n      Year 2019 (thousands of dollars)  \n0                         1.854226e+10  \n3                         2.164490e+08  \n6                         2.453617e+06  \n9                         1.060026e+07  \n12                        8.828340e+05  \n...                                ...  \n9579                      1.146515e+09  \n9582                      4.173677e+09  \n9585                      2.144764e+09  \n9588                      6.803901e+08  \n9591                      3.634009e+09  \n\n[3198 rows x 7 columns]",
      "text/html": "<div>\n<style scoped>\n    .dataframe tbody tr th:only-of-type {\n        vertical-align: middle;\n    }\n\n    .dataframe tbody tr th {\n        vertical-align: top;\n    }\n\n    .dataframe thead th {\n        text-align: right;\n    }\n</style>\n<table border=\"1\" class=\"dataframe\">\n  <thead>\n    <tr style=\"text-align: right;\">\n      <th></th>\n      <th>GeoFIPS</th>\n      <th>GeoName</th>\n      <th>Region</th>\n      <th>LineCode</th>\n      <th>Year 2017 (thousands of dollars)</th>\n      <th>Year 2018 (thousands of dollars)</th>\n      <th>Year 2019 (thousands of dollars)</th>\n    </tr>\n  </thead>\n  <tbody>\n    <tr>\n      <th>0</th>\n      <td>\"00000\"</td>\n      <td>United States</td>\n      <td></td>\n      <td>1.0</td>\n      <td>1.693758e+10</td>\n      <td>1.783926e+10</td>\n      <td>1.854226e+10</td>\n    </tr>\n    <tr>\n      <th>3</th>\n      <td>\"01000\"</td>\n      <td>Alabama</td>\n      <td>5</td>\n      <td>1.0</td>\n      <td>1.999998e+08</td>\n      <td>2.087527e+08</td>\n      <td>2.164490e+08</td>\n    </tr>\n    <tr>\n      <th>6</th>\n      <td>\"01001\"</td>\n      <td>Autauga, AL</td>\n      <td>5</td>\n      <td>1.0</td>\n      <td>2.276561e+06</td>\n      <td>2.360366e+06</td>\n      <td>2.453617e+06</td>\n    </tr>\n    <tr>\n      <th>9</th>\n      <td>\"01003\"</td>\n      <td>Baldwin, AL</td>\n      <td>5</td>\n      <td>1.0</td>\n      <td>9.471242e+06</td>\n      <td>1.006597e+07</td>\n      <td>1.060026e+07</td>\n    </tr>\n    <tr>\n      <th>12</th>\n      <td>\"01005\"</td>\n      <td>Barbour, AL</td>\n      <td>5</td>\n      <td>1.0</td>\n      <td>8.381840e+05</td>\n      <td>8.721890e+05</td>\n      <td>8.828340e+05</td>\n    </tr>\n    <tr>\n      <th>...</th>\n      <td>...</td>\n      <td>...</td>\n      <td>...</td>\n      <td>...</td>\n      <td>...</td>\n      <td>...</td>\n      <td>...</td>\n    </tr>\n    <tr>\n      <th>9579</th>\n      <td>\"94000\"</td>\n      <td>Plains</td>\n      <td>4</td>\n      <td>1.0</td>\n      <td>1.055029e+09</td>\n      <td>1.107630e+09</td>\n      <td>1.146515e+09</td>\n    </tr>\n    <tr>\n      <th>9582</th>\n      <td>\"95000\"</td>\n      <td>Southeast</td>\n      <td>5</td>\n      <td>1.0</td>\n      <td>3.818755e+09</td>\n      <td>4.022276e+09</td>\n      <td>4.173677e+09</td>\n    </tr>\n    <tr>\n      <th>9585</th>\n      <td>\"96000\"</td>\n      <td>Southwest</td>\n      <td>6</td>\n      <td>1.0</td>\n      <td>1.924648e+09</td>\n      <td>2.051027e+09</td>\n      <td>2.144764e+09</td>\n    </tr>\n    <tr>\n      <th>9588</th>\n      <td>\"97000\"</td>\n      <td>Rocky Mountain</td>\n      <td>7</td>\n      <td>1.0</td>\n      <td>6.029942e+08</td>\n      <td>6.476007e+08</td>\n      <td>6.803901e+08</td>\n    </tr>\n    <tr>\n      <th>9591</th>\n      <td>\"98000\"</td>\n      <td>Far West</td>\n      <td>8</td>\n      <td>1.0</td>\n      <td>3.279058e+09</td>\n      <td>3.472097e+09</td>\n      <td>3.634009e+09</td>\n    </tr>\n  </tbody>\n</table>\n<p>3198 rows × 7 columns</p>\n</div>"
     },
     "execution_count": 123,
     "metadata": {},
     "output_type": "execute_result"
    }
   ],
   "source": [
    "cols_to_remove = ['IndustryClassification', 'TableName', 'Unit', 'Description']\n",
    "# personal_incomes_2017_2019 = remove_col(personal_income, cols_to_remove)\n",
    "personal_incomes_2017_2019\n",
    "personal_incomes_2017_2019 = remove_col(personal_incomes_2017_2019, cols_to_remove)\n",
    "personal_incomes_2017_2019"
   ],
   "metadata": {
    "collapsed": false,
    "pycharm": {
     "name": "#%%\n"
    }
   }
  },
  {
   "cell_type": "code",
   "execution_count": 124,
   "outputs": [
    {
     "name": "stdout",
     "output_type": "stream",
     "text": [
      "<class 'pandas.core.frame.DataFrame'>\n",
      "Int64Index: 3198 entries, 0 to 9591\n",
      "Data columns (total 7 columns):\n",
      " #   Column                            Non-Null Count  Dtype  \n",
      "---  ------                            --------------  -----  \n",
      " 0   GeoFIPS                           3198 non-null   object \n",
      " 1   GeoName                           3198 non-null   object \n",
      " 2   Region                            3198 non-null   object \n",
      " 3   LineCode                          3198 non-null   float64\n",
      " 4   Year 2017 (thousands of dollars)  3173 non-null   float32\n",
      " 5   Year 2018 (thousands of dollars)  3173 non-null   float32\n",
      " 6   Year 2019 (thousands of dollars)  3173 non-null   float32\n",
      "dtypes: float32(3), float64(1), object(3)\n",
      "memory usage: 162.4+ KB\n"
     ]
    },
    {
     "data": {
      "text/plain": "str"
     },
     "execution_count": 124,
     "metadata": {},
     "output_type": "execute_result"
    }
   ],
   "source": [
    "personal_incomes_2017_2019.info()\n",
    "type(personal_incomes_2017_2019['GeoName'].values[1])"
   ],
   "metadata": {
    "collapsed": false,
    "pycharm": {
     "name": "#%%\n"
    }
   }
  },
  {
   "cell_type": "markdown",
   "source": [
    "Combine the aqi pollution years together"
   ],
   "metadata": {
    "collapsed": false,
    "pycharm": {
     "name": "#%% md\n"
    }
   }
  },
  {
   "cell_type": "code",
   "execution_count": 125,
   "outputs": [
    {
     "data": {
      "text/plain": "       State Name county Name  State Code  County Code        Date  AQI  \\\n0         Alabama     Baldwin           1            3  2017-01-01   21   \n1         Alabama     Baldwin           1            3  2017-01-04   22   \n2         Alabama     Baldwin           1            3  2017-01-10   19   \n3         Alabama     Baldwin           1            3  2017-01-13   30   \n4         Alabama     Baldwin           1            3  2017-01-16   16   \n...           ...         ...         ...          ...         ...  ...   \n341940    Wyoming      Weston          56           45  2019-12-27   36   \n341941    Wyoming      Weston          56           45  2019-12-28   37   \n341942    Wyoming      Weston          56           45  2019-12-29   34   \n341943    Wyoming      Weston          56           45  2019-12-30   36   \n341944    Wyoming      Weston          56           45  2019-12-31   40   \n\n       Category Defining Parameter Defining Site  Number of Sites Reporting  \n0          Good              PM2.5   01-003-0010                          1  \n1          Good              PM2.5   01-003-0010                          1  \n2          Good              PM2.5   01-003-0010                          1  \n3          Good              PM2.5   01-003-0010                          1  \n4          Good              PM2.5   01-003-0010                          1  \n...         ...                ...           ...                        ...  \n341940     Good              Ozone   56-045-0003                          2  \n341941     Good              Ozone   56-045-0003                          2  \n341942     Good              Ozone   56-045-0003                          2  \n341943     Good              Ozone   56-045-0003                          2  \n341944     Good              Ozone   56-045-0003                          2  \n\n[1026379 rows x 10 columns]",
      "text/html": "<div>\n<style scoped>\n    .dataframe tbody tr th:only-of-type {\n        vertical-align: middle;\n    }\n\n    .dataframe tbody tr th {\n        vertical-align: top;\n    }\n\n    .dataframe thead th {\n        text-align: right;\n    }\n</style>\n<table border=\"1\" class=\"dataframe\">\n  <thead>\n    <tr style=\"text-align: right;\">\n      <th></th>\n      <th>State Name</th>\n      <th>county Name</th>\n      <th>State Code</th>\n      <th>County Code</th>\n      <th>Date</th>\n      <th>AQI</th>\n      <th>Category</th>\n      <th>Defining Parameter</th>\n      <th>Defining Site</th>\n      <th>Number of Sites Reporting</th>\n    </tr>\n  </thead>\n  <tbody>\n    <tr>\n      <th>0</th>\n      <td>Alabama</td>\n      <td>Baldwin</td>\n      <td>1</td>\n      <td>3</td>\n      <td>2017-01-01</td>\n      <td>21</td>\n      <td>Good</td>\n      <td>PM2.5</td>\n      <td>01-003-0010</td>\n      <td>1</td>\n    </tr>\n    <tr>\n      <th>1</th>\n      <td>Alabama</td>\n      <td>Baldwin</td>\n      <td>1</td>\n      <td>3</td>\n      <td>2017-01-04</td>\n      <td>22</td>\n      <td>Good</td>\n      <td>PM2.5</td>\n      <td>01-003-0010</td>\n      <td>1</td>\n    </tr>\n    <tr>\n      <th>2</th>\n      <td>Alabama</td>\n      <td>Baldwin</td>\n      <td>1</td>\n      <td>3</td>\n      <td>2017-01-10</td>\n      <td>19</td>\n      <td>Good</td>\n      <td>PM2.5</td>\n      <td>01-003-0010</td>\n      <td>1</td>\n    </tr>\n    <tr>\n      <th>3</th>\n      <td>Alabama</td>\n      <td>Baldwin</td>\n      <td>1</td>\n      <td>3</td>\n      <td>2017-01-13</td>\n      <td>30</td>\n      <td>Good</td>\n      <td>PM2.5</td>\n      <td>01-003-0010</td>\n      <td>1</td>\n    </tr>\n    <tr>\n      <th>4</th>\n      <td>Alabama</td>\n      <td>Baldwin</td>\n      <td>1</td>\n      <td>3</td>\n      <td>2017-01-16</td>\n      <td>16</td>\n      <td>Good</td>\n      <td>PM2.5</td>\n      <td>01-003-0010</td>\n      <td>1</td>\n    </tr>\n    <tr>\n      <th>...</th>\n      <td>...</td>\n      <td>...</td>\n      <td>...</td>\n      <td>...</td>\n      <td>...</td>\n      <td>...</td>\n      <td>...</td>\n      <td>...</td>\n      <td>...</td>\n      <td>...</td>\n    </tr>\n    <tr>\n      <th>341940</th>\n      <td>Wyoming</td>\n      <td>Weston</td>\n      <td>56</td>\n      <td>45</td>\n      <td>2019-12-27</td>\n      <td>36</td>\n      <td>Good</td>\n      <td>Ozone</td>\n      <td>56-045-0003</td>\n      <td>2</td>\n    </tr>\n    <tr>\n      <th>341941</th>\n      <td>Wyoming</td>\n      <td>Weston</td>\n      <td>56</td>\n      <td>45</td>\n      <td>2019-12-28</td>\n      <td>37</td>\n      <td>Good</td>\n      <td>Ozone</td>\n      <td>56-045-0003</td>\n      <td>2</td>\n    </tr>\n    <tr>\n      <th>341942</th>\n      <td>Wyoming</td>\n      <td>Weston</td>\n      <td>56</td>\n      <td>45</td>\n      <td>2019-12-29</td>\n      <td>34</td>\n      <td>Good</td>\n      <td>Ozone</td>\n      <td>56-045-0003</td>\n      <td>2</td>\n    </tr>\n    <tr>\n      <th>341943</th>\n      <td>Wyoming</td>\n      <td>Weston</td>\n      <td>56</td>\n      <td>45</td>\n      <td>2019-12-30</td>\n      <td>36</td>\n      <td>Good</td>\n      <td>Ozone</td>\n      <td>56-045-0003</td>\n      <td>2</td>\n    </tr>\n    <tr>\n      <th>341944</th>\n      <td>Wyoming</td>\n      <td>Weston</td>\n      <td>56</td>\n      <td>45</td>\n      <td>2019-12-31</td>\n      <td>40</td>\n      <td>Good</td>\n      <td>Ozone</td>\n      <td>56-045-0003</td>\n      <td>2</td>\n    </tr>\n  </tbody>\n</table>\n<p>1026379 rows × 10 columns</p>\n</div>"
     },
     "execution_count": 125,
     "metadata": {},
     "output_type": "execute_result"
    }
   ],
   "source": [
    "# daily_aqi_by_county_2017.Category.unique()\n",
    "# daily_aqi_by_county_2018.head()\n",
    "daily_aqi_by_county_2017_2019 = pd.concat([daily_aqi_by_county_2017, daily_aqi_by_county_2018, daily_aqi_by_county_2019], axis=0)\n",
    "# daily_aqi_by_county_2017\n",
    "daily_aqi_by_county_2017_2019\n"
   ],
   "metadata": {
    "collapsed": false,
    "pycharm": {
     "name": "#%%\n"
    }
   }
  },
  {
   "cell_type": "code",
   "execution_count": 126,
   "outputs": [
    {
     "name": "stdout",
     "output_type": "stream",
     "text": [
      "<class 'pandas.core.frame.DataFrame'>\n",
      "Int64Index: 1026379 entries, 0 to 341944\n",
      "Data columns (total 10 columns):\n",
      " #   Column                     Non-Null Count    Dtype \n",
      "---  ------                     --------------    ----- \n",
      " 0   State Name                 1026379 non-null  object\n",
      " 1   county Name                1026379 non-null  object\n",
      " 2   State Code                 1026379 non-null  int64 \n",
      " 3   County Code                1026379 non-null  int64 \n",
      " 4   Date                       1026379 non-null  object\n",
      " 5   AQI                        1026379 non-null  int64 \n",
      " 6   Category                   1026379 non-null  object\n",
      " 7   Defining Parameter         1026379 non-null  object\n",
      " 8   Defining Site              1026379 non-null  object\n",
      " 9   Number of Sites Reporting  1026379 non-null  int64 \n",
      "dtypes: int64(4), object(6)\n",
      "memory usage: 86.1+ MB\n"
     ]
    }
   ],
   "source": [
    "daily_aqi_by_county_2017_2019.info()"
   ],
   "metadata": {
    "collapsed": false,
    "pycharm": {
     "name": "#%%\n"
    }
   }
  },
  {
   "cell_type": "markdown",
   "source": [
    "Working on demographic data\n",
    "(clean up on years interested and age group interested in)\n",
    "(check if column types are appropriate)\n",
    "(remove sumlev col as it just indicates that we are using county level or equivalent)"
   ],
   "metadata": {
    "collapsed": false,
    "pycharm": {
     "name": "#%% md\n"
    }
   }
  },
  {
   "cell_type": "code",
   "execution_count": 127,
   "outputs": [
    {
     "name": "stdout",
     "output_type": "stream",
     "text": [
      "<class 'pandas.core.frame.DataFrame'>\n",
      "RangeIndex: 179094 entries, 0 to 179093\n",
      "Data columns (total 79 columns):\n",
      " #   Column        Non-Null Count   Dtype \n",
      "---  ------        --------------   ----- \n",
      " 0   STATE         179094 non-null  int64 \n",
      " 1   COUNTY        179094 non-null  int64 \n",
      " 2   STNAME        179094 non-null  object\n",
      " 3   CTYNAME       179094 non-null  object\n",
      " 4   YEAR          179094 non-null  int64 \n",
      " 5   AGEGRP        179094 non-null  int64 \n",
      " 6   TOT_POP       179094 non-null  int64 \n",
      " 7   TOT_MALE      179094 non-null  int64 \n",
      " 8   TOT_FEMALE    179094 non-null  int64 \n",
      " 9   WA_MALE       179094 non-null  int64 \n",
      " 10  WA_FEMALE     179094 non-null  int64 \n",
      " 11  BA_MALE       179094 non-null  int64 \n",
      " 12  BA_FEMALE     179094 non-null  int64 \n",
      " 13  IA_MALE       179094 non-null  int64 \n",
      " 14  IA_FEMALE     179094 non-null  int64 \n",
      " 15  AA_MALE       179094 non-null  int64 \n",
      " 16  AA_FEMALE     179094 non-null  int64 \n",
      " 17  NA_MALE       179094 non-null  int64 \n",
      " 18  NA_FEMALE     179094 non-null  int64 \n",
      " 19  TOM_MALE      179094 non-null  int64 \n",
      " 20  TOM_FEMALE    179094 non-null  int64 \n",
      " 21  WAC_MALE      179094 non-null  int64 \n",
      " 22  WAC_FEMALE    179094 non-null  int64 \n",
      " 23  BAC_MALE      179094 non-null  int64 \n",
      " 24  BAC_FEMALE    179094 non-null  int64 \n",
      " 25  IAC_MALE      179094 non-null  int64 \n",
      " 26  IAC_FEMALE    179094 non-null  int64 \n",
      " 27  AAC_MALE      179094 non-null  int64 \n",
      " 28  AAC_FEMALE    179094 non-null  int64 \n",
      " 29  NAC_MALE      179094 non-null  int64 \n",
      " 30  NAC_FEMALE    179094 non-null  int64 \n",
      " 31  NH_MALE       179094 non-null  int64 \n",
      " 32  NH_FEMALE     179094 non-null  int64 \n",
      " 33  NHWA_MALE     179094 non-null  int64 \n",
      " 34  NHWA_FEMALE   179094 non-null  int64 \n",
      " 35  NHBA_MALE     179094 non-null  int64 \n",
      " 36  NHBA_FEMALE   179094 non-null  int64 \n",
      " 37  NHIA_MALE     179094 non-null  int64 \n",
      " 38  NHIA_FEMALE   179094 non-null  int64 \n",
      " 39  NHAA_MALE     179094 non-null  int64 \n",
      " 40  NHAA_FEMALE   179094 non-null  int64 \n",
      " 41  NHNA_MALE     179094 non-null  int64 \n",
      " 42  NHNA_FEMALE   179094 non-null  int64 \n",
      " 43  NHTOM_MALE    179094 non-null  int64 \n",
      " 44  NHTOM_FEMALE  179094 non-null  int64 \n",
      " 45  NHWAC_MALE    179094 non-null  int64 \n",
      " 46  NHWAC_FEMALE  179094 non-null  int64 \n",
      " 47  NHBAC_MALE    179094 non-null  int64 \n",
      " 48  NHBAC_FEMALE  179094 non-null  int64 \n",
      " 49  NHIAC_MALE    179094 non-null  int64 \n",
      " 50  NHIAC_FEMALE  179094 non-null  int64 \n",
      " 51  NHAAC_MALE    179094 non-null  int64 \n",
      " 52  NHAAC_FEMALE  179094 non-null  int64 \n",
      " 53  NHNAC_MALE    179094 non-null  int64 \n",
      " 54  NHNAC_FEMALE  179094 non-null  int64 \n",
      " 55  H_MALE        179094 non-null  int64 \n",
      " 56  H_FEMALE      179094 non-null  int64 \n",
      " 57  HWA_MALE      179094 non-null  int64 \n",
      " 58  HWA_FEMALE    179094 non-null  int64 \n",
      " 59  HBA_MALE      179094 non-null  int64 \n",
      " 60  HBA_FEMALE    179094 non-null  int64 \n",
      " 61  HIA_MALE      179094 non-null  int64 \n",
      " 62  HIA_FEMALE    179094 non-null  int64 \n",
      " 63  HAA_MALE      179094 non-null  int64 \n",
      " 64  HAA_FEMALE    179094 non-null  int64 \n",
      " 65  HNA_MALE      179094 non-null  int64 \n",
      " 66  HNA_FEMALE    179094 non-null  int64 \n",
      " 67  HTOM_MALE     179094 non-null  int64 \n",
      " 68  HTOM_FEMALE   179094 non-null  int64 \n",
      " 69  HWAC_MALE     179094 non-null  int64 \n",
      " 70  HWAC_FEMALE   179094 non-null  int64 \n",
      " 71  HBAC_MALE     179094 non-null  int64 \n",
      " 72  HBAC_FEMALE   179094 non-null  int64 \n",
      " 73  HIAC_MALE     179094 non-null  int64 \n",
      " 74  HIAC_FEMALE   179094 non-null  int64 \n",
      " 75  HAAC_MALE     179094 non-null  int64 \n",
      " 76  HAAC_FEMALE   179094 non-null  int64 \n",
      " 77  HNAC_MALE     179094 non-null  int64 \n",
      " 78  HNAC_FEMALE   179094 non-null  int64 \n",
      "dtypes: int64(77), object(2)\n",
      "memory usage: 107.9+ MB\n"
     ]
    }
   ],
   "source": [
    "year_2017_2019 = county_ethnicities['YEAR'] > 9\n",
    "county_ethnicities_2017_2019 = county_ethnicities.loc[year_2017_2019]\n",
    "county_ethnicities_2017_2019 = county_ethnicities_2017_2019.reset_index(drop=True)\n",
    "county_ethnicities_2017_2019 = remove_col(county_ethnicities_2017_2019, 'SUMLEV')\n",
    "county_ethnicities_2017_2019.info()"
   ],
   "metadata": {
    "collapsed": false,
    "pycharm": {
     "name": "#%%\n"
    }
   }
  },
  {
   "cell_type": "code",
   "execution_count": 128,
   "outputs": [],
   "source": [
    "# reduce rows by having a reducing age group to totals\n",
    "# maybe try binning age groups from 1-12 (0-59) and 13-19 (60+)\n",
    "total = county_ethnicities_2017_2019.AGEGRP == 0\n",
    "county_ethnicities_2017_2019 = county_ethnicities_2017_2019.loc[total]\n",
    "county_ethnicities_2017_2019 = remove_col(county_ethnicities_2017_2019, 'AGEGRP')\n"
   ],
   "metadata": {
    "collapsed": false,
    "pycharm": {
     "name": "#%%\n"
    }
   }
  },
  {
   "cell_type": "markdown",
   "source": [
    "Need to reduce ethnicity columns by combining similar or dropping irrelevant columns"
   ],
   "metadata": {
    "collapsed": false,
    "pycharm": {
     "name": "#%% md\n"
    }
   }
  },
  {
   "cell_type": "code",
   "execution_count": 130,
   "outputs": [
    {
     "data": {
      "text/plain": "     TOT_POP  TOT_MALE  TOT_FEMALE  WA_MALE  WA_FEMALE  BA_MALE  BA_FEMALE  \\\n0      55390     27010       28380    20876      21705     5139       5636   \n19     55533     27006       28527    20917      21749     5116       5737   \n38     55869     27092       28777    20878      21729     5237       6000   \n57    212521    103218      109303    90360      95215     9279       9973   \n76    217855    105702      112153    92613      97815     9372      10092   \n95    223234    108247      114987    94810     100388     9486      10107   \n114    25157     13230       11927     6533       5918     6360       5744   \n133    24872     13148       11724     6414       5790     6380       5661   \n152    24686     13064       11622     6389       5745     6311       5595   \n171    22550     12056       10494     8853       8453     2996       1848   \n190    22367     11900       10467     8764       8452     2928       1812   \n209    22394     11929       10465     8766       8425     2941       1822   \n228    57787     28449       29338    27301      28144      488        450   \n247    57771     28435       29336    27259      28142      497        436   \n266    57826     28472       29354    27258      28154      516        462   \n285    10176      5514        4662     1620       1059     3732       3464   \n304    10174      5535        4639     1629       1077     3745       3423   \n323    10101      5508        4593     1629       1060     3713       3384   \n342    19888      9289       10599     4978       5444     4013       4894   \n361    19631      9140       10491     4896       5368     3935       4863   \n380    19448      9024       10424     4829       5298     3885       4862   \n399   114710     55146       59564    42012      44471    11247      12974   \n418   114331     54941       59390    41743      44272    11280      12979   \n437   113605     54481       59124    41342      43980    11220      12993   \n456    33707     16152       17555     9365       9927     6269       7177   \n475    33600     16087       17513     9296       9877     6262       7208   \n494    33254     15895       17359     9157       9813     6221       7144   \n513    25805     12821       12984    11943      12104      542        530   \n532    26014     12879       13135    11968      12236      569        535   \n551    26196     12926       13270    12033      12376      558        515   \n570    44120     21700       22420    18915      19500     2227       2374   \n589    44163     21684       22479    18893      19568     2217       2349   \n608    44428     21800       22628    18965      19712     2247       2349   \n627    12925      6131        6794     3596       3791     2469       2936   \n646    12833      6067        6766     3583       3754     2415       2933   \n665    12589      5938        6651     3499       3692     2370       2885   \n684    24063     11345       12718     6224       6723     4928       5750   \n703    23918     11313       12605     6197       6599     4901       5750   \n\n     IA_MALE  IA_FEMALE  AA_MALE  ...  HWAC_MALE  HWAC_FEMALE  HBAC_MALE  \\\n0        110        147      294  ...        699          643        111   \n19       120        145      285  ...        764          672         90   \n38       121        145      286  ...        778          687         89   \n57       861        772      864  ...       4767         4252        259   \n76       857        794      893  ...       4970         4473        263   \n95       903        839      932  ...       5144         4646        268   \n114       93         62       55  ...        507          407         53   \n133       97         62       52  ...        484          402         59   \n152      103         67       55  ...        509          408         63   \n171       50         43       20  ...        296          220         30   \n190       48         49       20  ...        290          235         30   \n209       53         50       23  ...        291          253         32   \n228      183        184       77  ...       2714         2412         77   \n247      194        187       79  ...       2754         2446         80   \n266      192        178       85  ...       2794         2516         76   \n285       38         45        8  ...        272          279         86   \n304       39         43        7  ...        278          304         87   \n323       40         44        9  ...        302          305         84   \n342       36         37      159  ...        100           94         42   \n361       36         37      164  ...        104           97         44   \n380       39         38      168  ...        109           98         40   \n399      307        285      439  ...       1959         1784        251   \n418      312        290      425  ...       2037         1916        252   \n437      310        295      401  ...       2054         1974        240   \n456       50         47      260  ...        330          301         98   \n475       55         49      261  ...        341          316        107   \n494       59         50      240  ...        344          338        103   \n513       87         75       30  ...        197          173          5   \n532       89         81       34  ...        208          175          8   \n551       94         87       37  ...        209          200          4   \n570      118        111       90  ...       1694         1390        129   \n589      126        117       85  ...       1729         1416        132   \n608      132        118       87  ...       1770         1497        135   \n627       15         10        8  ...         44           55         11   \n646       16         10        8  ...         49           55         15   \n665       16         10        7  ...         42           60         12   \n684       46         75       45  ...        122          109         35   \n703       52         75       49  ...        125          102         38   \n\n     HBAC_FEMALE  HIAC_MALE  HIAC_FEMALE  HAAC_MALE  HAAC_FEMALE  HNAC_MALE  \\\n0             78         39           41         12           15         17   \n19            75         39           32         20           16         19   \n38            93         40           27         15           19         16   \n57           270        240          162         42           56         44   \n76           263        258          186         62           56         50   \n95           281        264          197         69           65         55   \n114           48         66           28          2            1         15   \n133           47         63           25          3            1         13   \n152           50         61           26          1            0         14   \n171           17          8           12          3            1         17   \n190           14          7           13          2            0         18   \n209           19          6           15          5            1         17   \n228           69         63           73         16           18         28   \n247           58         58           67         16           18         30   \n266           58         67           66         18           21         34   \n285           53         44           33          5            5         42   \n304           49         42           32          5           10         40   \n323           51         44           36          4            6         41   \n342           33          7            7          7            5          1   \n361           36          6            4          6            3          1   \n380           34          6            8          8            4          1   \n399          215        132          106         46           30         22   \n418          218        122          115         45           42         28   \n437          215        116          109         47           41         31   \n456           62         27           13         19            8         10   \n475           61         23           17         18            8          7   \n494           58         28           17         19            7          7   \n513            6         17           11          2            5          4   \n532            5         22           17          3            7          7   \n551            5         21           11          2            6          4   \n570           94         68           46         19           16         45   \n589           88         73           52         14           16         44   \n608           91         75           52         19           15         44   \n627           13          2            0          1            2          1   \n646           12          2            1          0            3          0   \n665           10          2            0          0            3          0   \n684           43          9           13          4            1          1   \n703           39         11           12          3            5          1   \n\n     HNAC_FEMALE  \n0             15  \n19            13  \n38            11  \n57            40  \n76            31  \n95            35  \n114            8  \n133            8  \n152            8  \n171            3  \n190            3  \n209            3  \n228           19  \n247           20  \n266           21  \n285           36  \n304           37  \n323           34  \n342            1  \n361            1  \n380            0  \n399           18  \n418           23  \n437           24  \n456            4  \n475            5  \n494            4  \n513            3  \n532            3  \n551            4  \n570           23  \n589           28  \n608           25  \n627            0  \n646            0  \n665            1  \n684            0  \n703            0  \n\n[38 rows x 73 columns]",
      "text/html": "<div>\n<style scoped>\n    .dataframe tbody tr th:only-of-type {\n        vertical-align: middle;\n    }\n\n    .dataframe tbody tr th {\n        vertical-align: top;\n    }\n\n    .dataframe thead th {\n        text-align: right;\n    }\n</style>\n<table border=\"1\" class=\"dataframe\">\n  <thead>\n    <tr style=\"text-align: right;\">\n      <th></th>\n      <th>TOT_POP</th>\n      <th>TOT_MALE</th>\n      <th>TOT_FEMALE</th>\n      <th>WA_MALE</th>\n      <th>WA_FEMALE</th>\n      <th>BA_MALE</th>\n      <th>BA_FEMALE</th>\n      <th>IA_MALE</th>\n      <th>IA_FEMALE</th>\n      <th>AA_MALE</th>\n      <th>...</th>\n      <th>HWAC_MALE</th>\n      <th>HWAC_FEMALE</th>\n      <th>HBAC_MALE</th>\n      <th>HBAC_FEMALE</th>\n      <th>HIAC_MALE</th>\n      <th>HIAC_FEMALE</th>\n      <th>HAAC_MALE</th>\n      <th>HAAC_FEMALE</th>\n      <th>HNAC_MALE</th>\n      <th>HNAC_FEMALE</th>\n    </tr>\n  </thead>\n  <tbody>\n    <tr>\n      <th>0</th>\n      <td>55390</td>\n      <td>27010</td>\n      <td>28380</td>\n      <td>20876</td>\n      <td>21705</td>\n      <td>5139</td>\n      <td>5636</td>\n      <td>110</td>\n      <td>147</td>\n      <td>294</td>\n      <td>...</td>\n      <td>699</td>\n      <td>643</td>\n      <td>111</td>\n      <td>78</td>\n      <td>39</td>\n      <td>41</td>\n      <td>12</td>\n      <td>15</td>\n      <td>17</td>\n      <td>15</td>\n    </tr>\n    <tr>\n      <th>19</th>\n      <td>55533</td>\n      <td>27006</td>\n      <td>28527</td>\n      <td>20917</td>\n      <td>21749</td>\n      <td>5116</td>\n      <td>5737</td>\n      <td>120</td>\n      <td>145</td>\n      <td>285</td>\n      <td>...</td>\n      <td>764</td>\n      <td>672</td>\n      <td>90</td>\n      <td>75</td>\n      <td>39</td>\n      <td>32</td>\n      <td>20</td>\n      <td>16</td>\n      <td>19</td>\n      <td>13</td>\n    </tr>\n    <tr>\n      <th>38</th>\n      <td>55869</td>\n      <td>27092</td>\n      <td>28777</td>\n      <td>20878</td>\n      <td>21729</td>\n      <td>5237</td>\n      <td>6000</td>\n      <td>121</td>\n      <td>145</td>\n      <td>286</td>\n      <td>...</td>\n      <td>778</td>\n      <td>687</td>\n      <td>89</td>\n      <td>93</td>\n      <td>40</td>\n      <td>27</td>\n      <td>15</td>\n      <td>19</td>\n      <td>16</td>\n      <td>11</td>\n    </tr>\n    <tr>\n      <th>57</th>\n      <td>212521</td>\n      <td>103218</td>\n      <td>109303</td>\n      <td>90360</td>\n      <td>95215</td>\n      <td>9279</td>\n      <td>9973</td>\n      <td>861</td>\n      <td>772</td>\n      <td>864</td>\n      <td>...</td>\n      <td>4767</td>\n      <td>4252</td>\n      <td>259</td>\n      <td>270</td>\n      <td>240</td>\n      <td>162</td>\n      <td>42</td>\n      <td>56</td>\n      <td>44</td>\n      <td>40</td>\n    </tr>\n    <tr>\n      <th>76</th>\n      <td>217855</td>\n      <td>105702</td>\n      <td>112153</td>\n      <td>92613</td>\n      <td>97815</td>\n      <td>9372</td>\n      <td>10092</td>\n      <td>857</td>\n      <td>794</td>\n      <td>893</td>\n      <td>...</td>\n      <td>4970</td>\n      <td>4473</td>\n      <td>263</td>\n      <td>263</td>\n      <td>258</td>\n      <td>186</td>\n      <td>62</td>\n      <td>56</td>\n      <td>50</td>\n      <td>31</td>\n    </tr>\n    <tr>\n      <th>95</th>\n      <td>223234</td>\n      <td>108247</td>\n      <td>114987</td>\n      <td>94810</td>\n      <td>100388</td>\n      <td>9486</td>\n      <td>10107</td>\n      <td>903</td>\n      <td>839</td>\n      <td>932</td>\n      <td>...</td>\n      <td>5144</td>\n      <td>4646</td>\n      <td>268</td>\n      <td>281</td>\n      <td>264</td>\n      <td>197</td>\n      <td>69</td>\n      <td>65</td>\n      <td>55</td>\n      <td>35</td>\n    </tr>\n    <tr>\n      <th>114</th>\n      <td>25157</td>\n      <td>13230</td>\n      <td>11927</td>\n      <td>6533</td>\n      <td>5918</td>\n      <td>6360</td>\n      <td>5744</td>\n      <td>93</td>\n      <td>62</td>\n      <td>55</td>\n      <td>...</td>\n      <td>507</td>\n      <td>407</td>\n      <td>53</td>\n      <td>48</td>\n      <td>66</td>\n      <td>28</td>\n      <td>2</td>\n      <td>1</td>\n      <td>15</td>\n      <td>8</td>\n    </tr>\n    <tr>\n      <th>133</th>\n      <td>24872</td>\n      <td>13148</td>\n      <td>11724</td>\n      <td>6414</td>\n      <td>5790</td>\n      <td>6380</td>\n      <td>5661</td>\n      <td>97</td>\n      <td>62</td>\n      <td>52</td>\n      <td>...</td>\n      <td>484</td>\n      <td>402</td>\n      <td>59</td>\n      <td>47</td>\n      <td>63</td>\n      <td>25</td>\n      <td>3</td>\n      <td>1</td>\n      <td>13</td>\n      <td>8</td>\n    </tr>\n    <tr>\n      <th>152</th>\n      <td>24686</td>\n      <td>13064</td>\n      <td>11622</td>\n      <td>6389</td>\n      <td>5745</td>\n      <td>6311</td>\n      <td>5595</td>\n      <td>103</td>\n      <td>67</td>\n      <td>55</td>\n      <td>...</td>\n      <td>509</td>\n      <td>408</td>\n      <td>63</td>\n      <td>50</td>\n      <td>61</td>\n      <td>26</td>\n      <td>1</td>\n      <td>0</td>\n      <td>14</td>\n      <td>8</td>\n    </tr>\n    <tr>\n      <th>171</th>\n      <td>22550</td>\n      <td>12056</td>\n      <td>10494</td>\n      <td>8853</td>\n      <td>8453</td>\n      <td>2996</td>\n      <td>1848</td>\n      <td>50</td>\n      <td>43</td>\n      <td>20</td>\n      <td>...</td>\n      <td>296</td>\n      <td>220</td>\n      <td>30</td>\n      <td>17</td>\n      <td>8</td>\n      <td>12</td>\n      <td>3</td>\n      <td>1</td>\n      <td>17</td>\n      <td>3</td>\n    </tr>\n    <tr>\n      <th>190</th>\n      <td>22367</td>\n      <td>11900</td>\n      <td>10467</td>\n      <td>8764</td>\n      <td>8452</td>\n      <td>2928</td>\n      <td>1812</td>\n      <td>48</td>\n      <td>49</td>\n      <td>20</td>\n      <td>...</td>\n      <td>290</td>\n      <td>235</td>\n      <td>30</td>\n      <td>14</td>\n      <td>7</td>\n      <td>13</td>\n      <td>2</td>\n      <td>0</td>\n      <td>18</td>\n      <td>3</td>\n    </tr>\n    <tr>\n      <th>209</th>\n      <td>22394</td>\n      <td>11929</td>\n      <td>10465</td>\n      <td>8766</td>\n      <td>8425</td>\n      <td>2941</td>\n      <td>1822</td>\n      <td>53</td>\n      <td>50</td>\n      <td>23</td>\n      <td>...</td>\n      <td>291</td>\n      <td>253</td>\n      <td>32</td>\n      <td>19</td>\n      <td>6</td>\n      <td>15</td>\n      <td>5</td>\n      <td>1</td>\n      <td>17</td>\n      <td>3</td>\n    </tr>\n    <tr>\n      <th>228</th>\n      <td>57787</td>\n      <td>28449</td>\n      <td>29338</td>\n      <td>27301</td>\n      <td>28144</td>\n      <td>488</td>\n      <td>450</td>\n      <td>183</td>\n      <td>184</td>\n      <td>77</td>\n      <td>...</td>\n      <td>2714</td>\n      <td>2412</td>\n      <td>77</td>\n      <td>69</td>\n      <td>63</td>\n      <td>73</td>\n      <td>16</td>\n      <td>18</td>\n      <td>28</td>\n      <td>19</td>\n    </tr>\n    <tr>\n      <th>247</th>\n      <td>57771</td>\n      <td>28435</td>\n      <td>29336</td>\n      <td>27259</td>\n      <td>28142</td>\n      <td>497</td>\n      <td>436</td>\n      <td>194</td>\n      <td>187</td>\n      <td>79</td>\n      <td>...</td>\n      <td>2754</td>\n      <td>2446</td>\n      <td>80</td>\n      <td>58</td>\n      <td>58</td>\n      <td>67</td>\n      <td>16</td>\n      <td>18</td>\n      <td>30</td>\n      <td>20</td>\n    </tr>\n    <tr>\n      <th>266</th>\n      <td>57826</td>\n      <td>28472</td>\n      <td>29354</td>\n      <td>27258</td>\n      <td>28154</td>\n      <td>516</td>\n      <td>462</td>\n      <td>192</td>\n      <td>178</td>\n      <td>85</td>\n      <td>...</td>\n      <td>2794</td>\n      <td>2516</td>\n      <td>76</td>\n      <td>58</td>\n      <td>67</td>\n      <td>66</td>\n      <td>18</td>\n      <td>21</td>\n      <td>34</td>\n      <td>21</td>\n    </tr>\n    <tr>\n      <th>285</th>\n      <td>10176</td>\n      <td>5514</td>\n      <td>4662</td>\n      <td>1620</td>\n      <td>1059</td>\n      <td>3732</td>\n      <td>3464</td>\n      <td>38</td>\n      <td>45</td>\n      <td>8</td>\n      <td>...</td>\n      <td>272</td>\n      <td>279</td>\n      <td>86</td>\n      <td>53</td>\n      <td>44</td>\n      <td>33</td>\n      <td>5</td>\n      <td>5</td>\n      <td>42</td>\n      <td>36</td>\n    </tr>\n    <tr>\n      <th>304</th>\n      <td>10174</td>\n      <td>5535</td>\n      <td>4639</td>\n      <td>1629</td>\n      <td>1077</td>\n      <td>3745</td>\n      <td>3423</td>\n      <td>39</td>\n      <td>43</td>\n      <td>7</td>\n      <td>...</td>\n      <td>278</td>\n      <td>304</td>\n      <td>87</td>\n      <td>49</td>\n      <td>42</td>\n      <td>32</td>\n      <td>5</td>\n      <td>10</td>\n      <td>40</td>\n      <td>37</td>\n    </tr>\n    <tr>\n      <th>323</th>\n      <td>10101</td>\n      <td>5508</td>\n      <td>4593</td>\n      <td>1629</td>\n      <td>1060</td>\n      <td>3713</td>\n      <td>3384</td>\n      <td>40</td>\n      <td>44</td>\n      <td>9</td>\n      <td>...</td>\n      <td>302</td>\n      <td>305</td>\n      <td>84</td>\n      <td>51</td>\n      <td>44</td>\n      <td>36</td>\n      <td>4</td>\n      <td>6</td>\n      <td>41</td>\n      <td>34</td>\n    </tr>\n    <tr>\n      <th>342</th>\n      <td>19888</td>\n      <td>9289</td>\n      <td>10599</td>\n      <td>4978</td>\n      <td>5444</td>\n      <td>4013</td>\n      <td>4894</td>\n      <td>36</td>\n      <td>37</td>\n      <td>159</td>\n      <td>...</td>\n      <td>100</td>\n      <td>94</td>\n      <td>42</td>\n      <td>33</td>\n      <td>7</td>\n      <td>7</td>\n      <td>7</td>\n      <td>5</td>\n      <td>1</td>\n      <td>1</td>\n    </tr>\n    <tr>\n      <th>361</th>\n      <td>19631</td>\n      <td>9140</td>\n      <td>10491</td>\n      <td>4896</td>\n      <td>5368</td>\n      <td>3935</td>\n      <td>4863</td>\n      <td>36</td>\n      <td>37</td>\n      <td>164</td>\n      <td>...</td>\n      <td>104</td>\n      <td>97</td>\n      <td>44</td>\n      <td>36</td>\n      <td>6</td>\n      <td>4</td>\n      <td>6</td>\n      <td>3</td>\n      <td>1</td>\n      <td>1</td>\n    </tr>\n    <tr>\n      <th>380</th>\n      <td>19448</td>\n      <td>9024</td>\n      <td>10424</td>\n      <td>4829</td>\n      <td>5298</td>\n      <td>3885</td>\n      <td>4862</td>\n      <td>39</td>\n      <td>38</td>\n      <td>168</td>\n      <td>...</td>\n      <td>109</td>\n      <td>98</td>\n      <td>40</td>\n      <td>34</td>\n      <td>6</td>\n      <td>8</td>\n      <td>8</td>\n      <td>4</td>\n      <td>1</td>\n      <td>0</td>\n    </tr>\n    <tr>\n      <th>399</th>\n      <td>114710</td>\n      <td>55146</td>\n      <td>59564</td>\n      <td>42012</td>\n      <td>44471</td>\n      <td>11247</td>\n      <td>12974</td>\n      <td>307</td>\n      <td>285</td>\n      <td>439</td>\n      <td>...</td>\n      <td>1959</td>\n      <td>1784</td>\n      <td>251</td>\n      <td>215</td>\n      <td>132</td>\n      <td>106</td>\n      <td>46</td>\n      <td>30</td>\n      <td>22</td>\n      <td>18</td>\n    </tr>\n    <tr>\n      <th>418</th>\n      <td>114331</td>\n      <td>54941</td>\n      <td>59390</td>\n      <td>41743</td>\n      <td>44272</td>\n      <td>11280</td>\n      <td>12979</td>\n      <td>312</td>\n      <td>290</td>\n      <td>425</td>\n      <td>...</td>\n      <td>2037</td>\n      <td>1916</td>\n      <td>252</td>\n      <td>218</td>\n      <td>122</td>\n      <td>115</td>\n      <td>45</td>\n      <td>42</td>\n      <td>28</td>\n      <td>23</td>\n    </tr>\n    <tr>\n      <th>437</th>\n      <td>113605</td>\n      <td>54481</td>\n      <td>59124</td>\n      <td>41342</td>\n      <td>43980</td>\n      <td>11220</td>\n      <td>12993</td>\n      <td>310</td>\n      <td>295</td>\n      <td>401</td>\n      <td>...</td>\n      <td>2054</td>\n      <td>1974</td>\n      <td>240</td>\n      <td>215</td>\n      <td>116</td>\n      <td>109</td>\n      <td>47</td>\n      <td>41</td>\n      <td>31</td>\n      <td>24</td>\n    </tr>\n    <tr>\n      <th>456</th>\n      <td>33707</td>\n      <td>16152</td>\n      <td>17555</td>\n      <td>9365</td>\n      <td>9927</td>\n      <td>6269</td>\n      <td>7177</td>\n      <td>50</td>\n      <td>47</td>\n      <td>260</td>\n      <td>...</td>\n      <td>330</td>\n      <td>301</td>\n      <td>98</td>\n      <td>62</td>\n      <td>27</td>\n      <td>13</td>\n      <td>19</td>\n      <td>8</td>\n      <td>10</td>\n      <td>4</td>\n    </tr>\n    <tr>\n      <th>475</th>\n      <td>33600</td>\n      <td>16087</td>\n      <td>17513</td>\n      <td>9296</td>\n      <td>9877</td>\n      <td>6262</td>\n      <td>7208</td>\n      <td>55</td>\n      <td>49</td>\n      <td>261</td>\n      <td>...</td>\n      <td>341</td>\n      <td>316</td>\n      <td>107</td>\n      <td>61</td>\n      <td>23</td>\n      <td>17</td>\n      <td>18</td>\n      <td>8</td>\n      <td>7</td>\n      <td>5</td>\n    </tr>\n    <tr>\n      <th>494</th>\n      <td>33254</td>\n      <td>15895</td>\n      <td>17359</td>\n      <td>9157</td>\n      <td>9813</td>\n      <td>6221</td>\n      <td>7144</td>\n      <td>59</td>\n      <td>50</td>\n      <td>240</td>\n      <td>...</td>\n      <td>344</td>\n      <td>338</td>\n      <td>103</td>\n      <td>58</td>\n      <td>28</td>\n      <td>17</td>\n      <td>19</td>\n      <td>7</td>\n      <td>7</td>\n      <td>4</td>\n    </tr>\n    <tr>\n      <th>513</th>\n      <td>25805</td>\n      <td>12821</td>\n      <td>12984</td>\n      <td>11943</td>\n      <td>12104</td>\n      <td>542</td>\n      <td>530</td>\n      <td>87</td>\n      <td>75</td>\n      <td>30</td>\n      <td>...</td>\n      <td>197</td>\n      <td>173</td>\n      <td>5</td>\n      <td>6</td>\n      <td>17</td>\n      <td>11</td>\n      <td>2</td>\n      <td>5</td>\n      <td>4</td>\n      <td>3</td>\n    </tr>\n    <tr>\n      <th>532</th>\n      <td>26014</td>\n      <td>12879</td>\n      <td>13135</td>\n      <td>11968</td>\n      <td>12236</td>\n      <td>569</td>\n      <td>535</td>\n      <td>89</td>\n      <td>81</td>\n      <td>34</td>\n      <td>...</td>\n      <td>208</td>\n      <td>175</td>\n      <td>8</td>\n      <td>5</td>\n      <td>22</td>\n      <td>17</td>\n      <td>3</td>\n      <td>7</td>\n      <td>7</td>\n      <td>3</td>\n    </tr>\n    <tr>\n      <th>551</th>\n      <td>26196</td>\n      <td>12926</td>\n      <td>13270</td>\n      <td>12033</td>\n      <td>12376</td>\n      <td>558</td>\n      <td>515</td>\n      <td>94</td>\n      <td>87</td>\n      <td>37</td>\n      <td>...</td>\n      <td>209</td>\n      <td>200</td>\n      <td>4</td>\n      <td>5</td>\n      <td>21</td>\n      <td>11</td>\n      <td>2</td>\n      <td>6</td>\n      <td>4</td>\n      <td>4</td>\n    </tr>\n    <tr>\n      <th>570</th>\n      <td>44120</td>\n      <td>21700</td>\n      <td>22420</td>\n      <td>18915</td>\n      <td>19500</td>\n      <td>2227</td>\n      <td>2374</td>\n      <td>118</td>\n      <td>111</td>\n      <td>90</td>\n      <td>...</td>\n      <td>1694</td>\n      <td>1390</td>\n      <td>129</td>\n      <td>94</td>\n      <td>68</td>\n      <td>46</td>\n      <td>19</td>\n      <td>16</td>\n      <td>45</td>\n      <td>23</td>\n    </tr>\n    <tr>\n      <th>589</th>\n      <td>44163</td>\n      <td>21684</td>\n      <td>22479</td>\n      <td>18893</td>\n      <td>19568</td>\n      <td>2217</td>\n      <td>2349</td>\n      <td>126</td>\n      <td>117</td>\n      <td>85</td>\n      <td>...</td>\n      <td>1729</td>\n      <td>1416</td>\n      <td>132</td>\n      <td>88</td>\n      <td>73</td>\n      <td>52</td>\n      <td>14</td>\n      <td>16</td>\n      <td>44</td>\n      <td>28</td>\n    </tr>\n    <tr>\n      <th>608</th>\n      <td>44428</td>\n      <td>21800</td>\n      <td>22628</td>\n      <td>18965</td>\n      <td>19712</td>\n      <td>2247</td>\n      <td>2349</td>\n      <td>132</td>\n      <td>118</td>\n      <td>87</td>\n      <td>...</td>\n      <td>1770</td>\n      <td>1497</td>\n      <td>135</td>\n      <td>91</td>\n      <td>75</td>\n      <td>52</td>\n      <td>19</td>\n      <td>15</td>\n      <td>44</td>\n      <td>25</td>\n    </tr>\n    <tr>\n      <th>627</th>\n      <td>12925</td>\n      <td>6131</td>\n      <td>6794</td>\n      <td>3596</td>\n      <td>3791</td>\n      <td>2469</td>\n      <td>2936</td>\n      <td>15</td>\n      <td>10</td>\n      <td>8</td>\n      <td>...</td>\n      <td>44</td>\n      <td>55</td>\n      <td>11</td>\n      <td>13</td>\n      <td>2</td>\n      <td>0</td>\n      <td>1</td>\n      <td>2</td>\n      <td>1</td>\n      <td>0</td>\n    </tr>\n    <tr>\n      <th>646</th>\n      <td>12833</td>\n      <td>6067</td>\n      <td>6766</td>\n      <td>3583</td>\n      <td>3754</td>\n      <td>2415</td>\n      <td>2933</td>\n      <td>16</td>\n      <td>10</td>\n      <td>8</td>\n      <td>...</td>\n      <td>49</td>\n      <td>55</td>\n      <td>15</td>\n      <td>12</td>\n      <td>2</td>\n      <td>1</td>\n      <td>0</td>\n      <td>3</td>\n      <td>0</td>\n      <td>0</td>\n    </tr>\n    <tr>\n      <th>665</th>\n      <td>12589</td>\n      <td>5938</td>\n      <td>6651</td>\n      <td>3499</td>\n      <td>3692</td>\n      <td>2370</td>\n      <td>2885</td>\n      <td>16</td>\n      <td>10</td>\n      <td>7</td>\n      <td>...</td>\n      <td>42</td>\n      <td>60</td>\n      <td>12</td>\n      <td>10</td>\n      <td>2</td>\n      <td>0</td>\n      <td>0</td>\n      <td>3</td>\n      <td>0</td>\n      <td>1</td>\n    </tr>\n    <tr>\n      <th>684</th>\n      <td>24063</td>\n      <td>11345</td>\n      <td>12718</td>\n      <td>6224</td>\n      <td>6723</td>\n      <td>4928</td>\n      <td>5750</td>\n      <td>46</td>\n      <td>75</td>\n      <td>45</td>\n      <td>...</td>\n      <td>122</td>\n      <td>109</td>\n      <td>35</td>\n      <td>43</td>\n      <td>9</td>\n      <td>13</td>\n      <td>4</td>\n      <td>1</td>\n      <td>1</td>\n      <td>0</td>\n    </tr>\n    <tr>\n      <th>703</th>\n      <td>23918</td>\n      <td>11313</td>\n      <td>12605</td>\n      <td>6197</td>\n      <td>6599</td>\n      <td>4901</td>\n      <td>5750</td>\n      <td>52</td>\n      <td>75</td>\n      <td>49</td>\n      <td>...</td>\n      <td>125</td>\n      <td>102</td>\n      <td>38</td>\n      <td>39</td>\n      <td>11</td>\n      <td>12</td>\n      <td>3</td>\n      <td>5</td>\n      <td>1</td>\n      <td>0</td>\n    </tr>\n  </tbody>\n</table>\n<p>38 rows × 73 columns</p>\n</div>"
     },
     "execution_count": 130,
     "metadata": {},
     "output_type": "execute_result"
    }
   ],
   "source": [
    "# find way to bin for every number of rows\n",
    "ethnicites = county_ethnicities_2017_2019.iloc[:38, 5:]\n",
    "ethnicites"
   ],
   "metadata": {
    "collapsed": false,
    "pycharm": {
     "name": "#%%\n"
    }
   }
  }
 ],
 "metadata": {
  "kernelspec": {
   "name": "pycharm-301d774e",
   "language": "python",
   "display_name": "PyCharm (API_Mini_Project)"
  },
  "language_info": {
   "codemirror_mode": {
    "name": "ipython",
    "version": 2
   },
   "file_extension": ".py",
   "mimetype": "text/x-python",
   "name": "python",
   "nbconvert_exporter": "python",
   "pygments_lexer": "ipython2",
   "version": "2.7.6"
  }
 },
 "nbformat": 4,
 "nbformat_minor": 0
}