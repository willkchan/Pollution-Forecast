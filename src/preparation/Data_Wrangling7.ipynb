{
 "cells": [
  {
   "cell_type": "markdown",
   "source": [
    "+ need to add possible features that appear to have an effect on demographic\n",
    "# less social factors for now\n",
    "* Focus on NE us and look at 10 yr span\n",
    "* maybe work with NE data 2019 again but look at different pollutants\n",
    "* work with 3 year data for now of counties\n",
    "* get all dataframes\n",
    "# Importing libraries"
   ],
   "metadata": {
    "collapsed": false
   }
  },
  {
   "cell_type": "code",
   "execution_count": 40,
   "outputs": [],
   "source": [
    "import numpy as np\n",
    "import pandas as pd\n",
    "import seaborn as sns\n",
    "import sys\n",
    "import os\n",
    "import matplotlib.pyplot as plt\n",
    "import klib\n",
    "\n",
    "from IPython.core.display import display\n",
    "\n",
    "# pd.set_option('display.max_columns', None)\n",
    "# pd.reset_optio('max_rows')\n",
    "#np.set_printoptions(threshold=sys.maxsize)\n",
    "\n",
    "plt.style.use('dark_background')\n",
    "plt.rcParams.update({\"grid.linewidth\":0.5, \"grid.alpha\":0.5})\n",
    "sns.set(style='ticks', context='talk')"
   ],
   "metadata": {
    "collapsed": false,
    "pycharm": {
     "name": "#%%\n"
    }
   }
  },
  {
   "cell_type": "markdown",
   "source": [
    "# Load data and constants"
   ],
   "metadata": {
    "collapsed": false
   }
  },
  {
   "cell_type": "code",
   "execution_count": 41,
   "outputs": [],
   "source": [
    "MA, CT, ME, NY, NH, NJ, PA, VT, DE, MD  = [25, 9, 23, 36, 33, 34, 42, 50, 10 , 24]\n",
    "NORTH_EAST = [MA, CT, ME, NY, NH, NJ, PA, VT, DE, MD]\n",
    "RI, FL,GA, NC, SC = [44, 12, 13, 37, 45] # midatlantic\n",
    "AL, KY, MS, TN, WV = [1, 21, 29, 47, 45] # south east\n",
    "IL, IN, IA, KS, MI,MN = [17, 18, 19, 20, 26, 27] # mid_west\n",
    "\n",
    "\n",
    "daily_aqi_by_county_2017 = pd.read_csv('../../data/raw/daily_aqi_by_county_2017.csv')\n",
    "daily_aqi_by_county_2018 = pd.read_csv('../../data/raw/daily_aqi_by_county_2018.csv')\n",
    "daily_aqi_by_county_2019 = pd.read_csv('../../data/raw/daily_aqi_by_county_2019.csv')\n",
    "\n",
    "county_demographic = pd.read_csv('../../data/raw/county_cc-est2019-alldata.csv', encoding='latin-1')\n",
    "\n",
    "unemployment = pd.read_excel('../../data/raw/Unemployment.xls', header=None, sheet_name=0)\n",
    "\n",
    "# Small area income and poverty estimates\n",
    "saipe2017 = pd.read_excel('../../data/raw/saipe_economic/est17all.xls')\n",
    "saipe2018 = pd.read_excel('../../data/raw/saipe_economic/est18all.xls')\n",
    "saipe2019 = pd.read_excel('../../data/raw/saipe_economic/est19all.xls')\n",
    "\n",
    "educ_vehicle_2017 = pd.read_csv('../../data/processed/acs1_edu_vehicle2017.csv')\n",
    "educ_vehicle_2018 = pd.read_csv('../../data/processed/acs1_edu_vehicle2018.csv')\n",
    "educ_vehicle_2019 = pd.read_csv('../../data/processed/acs1_edu_vehicle2019.csv')\n",
    "\n",
    "annual_income_by_county = pd.read_csv('../../data/raw/CAINC1__ALL_AREAS_1969_2019.csv', encoding='latin-1')\n"
   ],
   "metadata": {
    "collapsed": false,
    "pycharm": {
     "name": "#%%\n"
    }
   }
  },
  {
   "cell_type": "code",
   "execution_count": 42,
   "outputs": [],
   "source": [
    "def remove_col(df, col_name):\n",
    "    '''Returns a dataframe with removed column or columns from old dataframe'''\n",
    "    new_df = df.copy()\n",
    "\n",
    "    if(type(col_name) != str and len(col_name) > 1):\n",
    "        for index in col_name:\n",
    "            new_df = new_df.drop(str(index), axis=1)\n",
    "    else:\n",
    "        new_df = new_df.drop(str(col_name), axis=1)\n",
    "    return new_df"
   ],
   "metadata": {
    "collapsed": false,
    "pycharm": {
     "name": "#%%\n"
    }
   }
  },
  {
   "cell_type": "markdown",
   "source": [
    "# Clean up Unemployment Data\n"
   ],
   "metadata": {
    "collapsed": false,
    "pycharm": {
     "name": "#%% md\n"
    }
   }
  },
  {
   "cell_type": "code",
   "execution_count": 43,
   "outputs": [
    {
     "data": {
      "text/plain": "                                                     0      1   \\\n0     Unemployment and median household income for t...    NaN   \n1     Sources: Unemployment: U.S. Department of Labo...    NaN   \n2     For definitions of rural classifications, see ...    NaN   \n3     This table was prepared by USDA, Economic Rese...    NaN   \n4                                              fips_txt  Stabr   \n...                                                 ...    ...   \n3275                                              72145     PR   \n3276                                              72147     PR   \n3277                                              72149     PR   \n3278                                              72151     PR   \n3279                                              72153     PR   \n\n                           2                                3   \\\n0                         NaN                              NaN   \n1                         NaN                              NaN   \n2                         NaN                              NaN   \n3                         NaN                              NaN   \n4                   area_name  Rural_urban_continuum_code_2013   \n...                       ...                              ...   \n3275  Vega Baja Municipio, PR                                1   \n3276    Vieques Municipio, PR                                7   \n3277   Villalba Municipio, PR                                2   \n3278    Yabucoa Municipio, PR                                1   \n3279      Yauco Municipio, PR                                2   \n\n                             4           5                          6   \\\n0                           NaN         NaN                        NaN   \n1                           NaN         NaN                        NaN   \n2                           NaN         NaN                        NaN   \n3                           NaN         NaN                        NaN   \n4     Urban_influence_code_2013  Metro_2013  Civilian_labor_force_2000   \n...                         ...         ...                        ...   \n3275                          1           1                      19805   \n3276                         12           0                       2441   \n3277                          2           1                       7636   \n3278                          1           1                      10613   \n3279                          2           1                      14664   \n\n                 7                8                       9   ...  \\\n0               NaN              NaN                     NaN  ...   \n1               NaN              NaN                     NaN  ...   \n2               NaN              NaN                     NaN  ...   \n3               NaN              NaN                     NaN  ...   \n4     Employed_2000  Unemployed_2000  Unemployment_rate_2000  ...   \n...             ...              ...                     ...  ...   \n3275          17607             2198                    11.1  ...   \n3276           2120              321                    13.2  ...   \n3277           6648              988                    12.9  ...   \n3278           9005             1608                    15.2  ...   \n3279          12871             1793                    12.2  ...   \n\n                             78             79               80  \\\n0                           NaN            NaN              NaN   \n1                           NaN            NaN              NaN   \n2                           NaN            NaN              NaN   \n3                           NaN            NaN              NaN   \n4     Civilian_labor_force_2018  Employed_2018  Unemployed_2018   \n...                         ...            ...              ...   \n3275                      13117          11750             1367   \n3276                       2718           2269              449   \n3277                       7311           6154             1157   \n3278                       8762           7509             1253   \n3279                       9716           8288             1428   \n\n                          81                         82             83  \\\n0                        NaN                        NaN            NaN   \n1                        NaN                        NaN            NaN   \n2                        NaN                        NaN            NaN   \n3                        NaN                        NaN            NaN   \n4     Unemployment_rate_2018  Civilian_labor_force_2019  Employed_2019   \n...                      ...                        ...            ...   \n3275                    10.4                      13037          11791   \n3276                    16.5                       2585           2406   \n3277                    15.8                       7406           6231   \n3278                    14.3                       8691           7552   \n3279                    14.7                       9759           8331   \n\n                   84                      85                            86  \\\n0                 NaN                     NaN                           NaN   \n1                 NaN                     NaN                           NaN   \n2                 NaN                     NaN                           NaN   \n3                 NaN                     NaN                           NaN   \n4     Unemployed_2019  Unemployment_rate_2019  Median_Household_Income_2019   \n...               ...                     ...                           ...   \n3275             1246                     9.6                           NaN   \n3276              179                     6.9                           NaN   \n3277             1175                    15.9                           NaN   \n3278             1139                    13.1                           NaN   \n3279             1428                    14.6                           NaN   \n\n                                             87  \n0                                           NaN  \n1                                           NaN  \n2                                           NaN  \n3                                           NaN  \n4     Med_HH_Income_Percent_of_State_Total_2019  \n...                                         ...  \n3275                                        NaN  \n3276                                        NaN  \n3277                                        NaN  \n3278                                        NaN  \n3279                                        NaN  \n\n[3280 rows x 88 columns]",
      "text/html": "<div>\n<style scoped>\n    .dataframe tbody tr th:only-of-type {\n        vertical-align: middle;\n    }\n\n    .dataframe tbody tr th {\n        vertical-align: top;\n    }\n\n    .dataframe thead th {\n        text-align: right;\n    }\n</style>\n<table border=\"1\" class=\"dataframe\">\n  <thead>\n    <tr style=\"text-align: right;\">\n      <th></th>\n      <th>0</th>\n      <th>1</th>\n      <th>2</th>\n      <th>3</th>\n      <th>4</th>\n      <th>5</th>\n      <th>6</th>\n      <th>7</th>\n      <th>8</th>\n      <th>9</th>\n      <th>...</th>\n      <th>78</th>\n      <th>79</th>\n      <th>80</th>\n      <th>81</th>\n      <th>82</th>\n      <th>83</th>\n      <th>84</th>\n      <th>85</th>\n      <th>86</th>\n      <th>87</th>\n    </tr>\n  </thead>\n  <tbody>\n    <tr>\n      <th>0</th>\n      <td>Unemployment and median household income for t...</td>\n      <td>NaN</td>\n      <td>NaN</td>\n      <td>NaN</td>\n      <td>NaN</td>\n      <td>NaN</td>\n      <td>NaN</td>\n      <td>NaN</td>\n      <td>NaN</td>\n      <td>NaN</td>\n      <td>...</td>\n      <td>NaN</td>\n      <td>NaN</td>\n      <td>NaN</td>\n      <td>NaN</td>\n      <td>NaN</td>\n      <td>NaN</td>\n      <td>NaN</td>\n      <td>NaN</td>\n      <td>NaN</td>\n      <td>NaN</td>\n    </tr>\n    <tr>\n      <th>1</th>\n      <td>Sources: Unemployment: U.S. Department of Labo...</td>\n      <td>NaN</td>\n      <td>NaN</td>\n      <td>NaN</td>\n      <td>NaN</td>\n      <td>NaN</td>\n      <td>NaN</td>\n      <td>NaN</td>\n      <td>NaN</td>\n      <td>NaN</td>\n      <td>...</td>\n      <td>NaN</td>\n      <td>NaN</td>\n      <td>NaN</td>\n      <td>NaN</td>\n      <td>NaN</td>\n      <td>NaN</td>\n      <td>NaN</td>\n      <td>NaN</td>\n      <td>NaN</td>\n      <td>NaN</td>\n    </tr>\n    <tr>\n      <th>2</th>\n      <td>For definitions of rural classifications, see ...</td>\n      <td>NaN</td>\n      <td>NaN</td>\n      <td>NaN</td>\n      <td>NaN</td>\n      <td>NaN</td>\n      <td>NaN</td>\n      <td>NaN</td>\n      <td>NaN</td>\n      <td>NaN</td>\n      <td>...</td>\n      <td>NaN</td>\n      <td>NaN</td>\n      <td>NaN</td>\n      <td>NaN</td>\n      <td>NaN</td>\n      <td>NaN</td>\n      <td>NaN</td>\n      <td>NaN</td>\n      <td>NaN</td>\n      <td>NaN</td>\n    </tr>\n    <tr>\n      <th>3</th>\n      <td>This table was prepared by USDA, Economic Rese...</td>\n      <td>NaN</td>\n      <td>NaN</td>\n      <td>NaN</td>\n      <td>NaN</td>\n      <td>NaN</td>\n      <td>NaN</td>\n      <td>NaN</td>\n      <td>NaN</td>\n      <td>NaN</td>\n      <td>...</td>\n      <td>NaN</td>\n      <td>NaN</td>\n      <td>NaN</td>\n      <td>NaN</td>\n      <td>NaN</td>\n      <td>NaN</td>\n      <td>NaN</td>\n      <td>NaN</td>\n      <td>NaN</td>\n      <td>NaN</td>\n    </tr>\n    <tr>\n      <th>4</th>\n      <td>fips_txt</td>\n      <td>Stabr</td>\n      <td>area_name</td>\n      <td>Rural_urban_continuum_code_2013</td>\n      <td>Urban_influence_code_2013</td>\n      <td>Metro_2013</td>\n      <td>Civilian_labor_force_2000</td>\n      <td>Employed_2000</td>\n      <td>Unemployed_2000</td>\n      <td>Unemployment_rate_2000</td>\n      <td>...</td>\n      <td>Civilian_labor_force_2018</td>\n      <td>Employed_2018</td>\n      <td>Unemployed_2018</td>\n      <td>Unemployment_rate_2018</td>\n      <td>Civilian_labor_force_2019</td>\n      <td>Employed_2019</td>\n      <td>Unemployed_2019</td>\n      <td>Unemployment_rate_2019</td>\n      <td>Median_Household_Income_2019</td>\n      <td>Med_HH_Income_Percent_of_State_Total_2019</td>\n    </tr>\n    <tr>\n      <th>...</th>\n      <td>...</td>\n      <td>...</td>\n      <td>...</td>\n      <td>...</td>\n      <td>...</td>\n      <td>...</td>\n      <td>...</td>\n      <td>...</td>\n      <td>...</td>\n      <td>...</td>\n      <td>...</td>\n      <td>...</td>\n      <td>...</td>\n      <td>...</td>\n      <td>...</td>\n      <td>...</td>\n      <td>...</td>\n      <td>...</td>\n      <td>...</td>\n      <td>...</td>\n      <td>...</td>\n    </tr>\n    <tr>\n      <th>3275</th>\n      <td>72145</td>\n      <td>PR</td>\n      <td>Vega Baja Municipio, PR</td>\n      <td>1</td>\n      <td>1</td>\n      <td>1</td>\n      <td>19805</td>\n      <td>17607</td>\n      <td>2198</td>\n      <td>11.1</td>\n      <td>...</td>\n      <td>13117</td>\n      <td>11750</td>\n      <td>1367</td>\n      <td>10.4</td>\n      <td>13037</td>\n      <td>11791</td>\n      <td>1246</td>\n      <td>9.6</td>\n      <td>NaN</td>\n      <td>NaN</td>\n    </tr>\n    <tr>\n      <th>3276</th>\n      <td>72147</td>\n      <td>PR</td>\n      <td>Vieques Municipio, PR</td>\n      <td>7</td>\n      <td>12</td>\n      <td>0</td>\n      <td>2441</td>\n      <td>2120</td>\n      <td>321</td>\n      <td>13.2</td>\n      <td>...</td>\n      <td>2718</td>\n      <td>2269</td>\n      <td>449</td>\n      <td>16.5</td>\n      <td>2585</td>\n      <td>2406</td>\n      <td>179</td>\n      <td>6.9</td>\n      <td>NaN</td>\n      <td>NaN</td>\n    </tr>\n    <tr>\n      <th>3277</th>\n      <td>72149</td>\n      <td>PR</td>\n      <td>Villalba Municipio, PR</td>\n      <td>2</td>\n      <td>2</td>\n      <td>1</td>\n      <td>7636</td>\n      <td>6648</td>\n      <td>988</td>\n      <td>12.9</td>\n      <td>...</td>\n      <td>7311</td>\n      <td>6154</td>\n      <td>1157</td>\n      <td>15.8</td>\n      <td>7406</td>\n      <td>6231</td>\n      <td>1175</td>\n      <td>15.9</td>\n      <td>NaN</td>\n      <td>NaN</td>\n    </tr>\n    <tr>\n      <th>3278</th>\n      <td>72151</td>\n      <td>PR</td>\n      <td>Yabucoa Municipio, PR</td>\n      <td>1</td>\n      <td>1</td>\n      <td>1</td>\n      <td>10613</td>\n      <td>9005</td>\n      <td>1608</td>\n      <td>15.2</td>\n      <td>...</td>\n      <td>8762</td>\n      <td>7509</td>\n      <td>1253</td>\n      <td>14.3</td>\n      <td>8691</td>\n      <td>7552</td>\n      <td>1139</td>\n      <td>13.1</td>\n      <td>NaN</td>\n      <td>NaN</td>\n    </tr>\n    <tr>\n      <th>3279</th>\n      <td>72153</td>\n      <td>PR</td>\n      <td>Yauco Municipio, PR</td>\n      <td>2</td>\n      <td>2</td>\n      <td>1</td>\n      <td>14664</td>\n      <td>12871</td>\n      <td>1793</td>\n      <td>12.2</td>\n      <td>...</td>\n      <td>9716</td>\n      <td>8288</td>\n      <td>1428</td>\n      <td>14.7</td>\n      <td>9759</td>\n      <td>8331</td>\n      <td>1428</td>\n      <td>14.6</td>\n      <td>NaN</td>\n      <td>NaN</td>\n    </tr>\n  </tbody>\n</table>\n<p>3280 rows × 88 columns</p>\n</div>"
     },
     "metadata": {},
     "output_type": "display_data"
    },
    {
     "data": {
      "text/plain": "     fips_txt Stabr                area_name Rural_urban_continuum_code_2013  \\\n1       00000    US            United States                             NaN   \n2       01000    AL                  Alabama                             NaN   \n3       01001    AL       Autauga County, AL                               2   \n4       01003    AL       Baldwin County, AL                               3   \n5       01005    AL       Barbour County, AL                               6   \n...       ...   ...                      ...                             ...   \n3271    72145    PR  Vega Baja Municipio, PR                               1   \n3272    72147    PR    Vieques Municipio, PR                               7   \n3273    72149    PR   Villalba Municipio, PR                               2   \n3274    72151    PR    Yabucoa Municipio, PR                               1   \n3275    72153    PR      Yauco Municipio, PR                               2   \n\n     Urban_influence_code_2013 Metro_2013 Civilian_labor_force_2000  \\\n1                          NaN        NaN                 142601667   \n2                          NaN        NaN                   2133223   \n3                            2          1                     21720   \n4                            2          1                     69533   \n5                            6          0                     11373   \n...                        ...        ...                       ...   \n3271                         1          1                     19805   \n3272                        12          0                      2441   \n3273                         2          1                      7636   \n3274                         1          1                     10613   \n3275                         2          1                     14664   \n\n     Employed_2000 Unemployed_2000 Unemployment_rate_2000  ...  \\\n1        136904680         5696987                3.99504  ...   \n2          2035594           97629                    4.6  ...   \n3            20846             874                      4  ...   \n4            66971            2562                    3.7  ...   \n5            10748             625                    5.5  ...   \n...            ...             ...                    ...  ...   \n3271         17607            2198                   11.1  ...   \n3272          2120             321                   13.2  ...   \n3273          6648             988                   12.9  ...   \n3274          9005            1608                   15.2  ...   \n3275         12871            1793                   12.2  ...   \n\n     Civilian_labor_force_2018 Employed_2018 Unemployed_2018  \\\n1                    161389026     155102319         6286707   \n2                      2216627       2130845           85782   \n3                        26196         25261             935   \n4                        95233         91809            3424   \n5                         8414          7987             427   \n...                        ...           ...             ...   \n3271                     13117         11750            1367   \n3272                      2718          2269             449   \n3273                      7311          6154            1157   \n3274                      8762          7509            1253   \n3275                      9716          8288            1428   \n\n     Unemployment_rate_2018 Civilian_labor_force_2019 Employed_2019  \\\n1                   3.89537                 163100055     157115247   \n2                       3.9                   2241747       2174483   \n3                       3.6                     26172         25458   \n4                       3.6                     97328         94675   \n5                       5.1                      8537          8213   \n...                     ...                       ...           ...   \n3271                   10.4                     13037         11791   \n3272                   16.5                      2585          2406   \n3273                   15.8                      7406          6231   \n3274                   14.3                      8691          7552   \n3275                   14.7                      9759          8331   \n\n     Unemployed_2019 Unemployment_rate_2019 Median_Household_Income_2019  \\\n1            5984808                3.66941                        65712   \n2              67264                      3                        51771   \n3                714                    2.7                        58233   \n4               2653                    2.7                        59871   \n5                324                    3.8                        35972   \n...              ...                    ...                          ...   \n3271            1246                    9.6                          NaN   \n3272             179                    6.9                          NaN   \n3273            1175                   15.9                          NaN   \n3274            1139                   13.1                          NaN   \n3275            1428                   14.6                          NaN   \n\n     Med_HH_Income_Percent_of_State_Total_2019  \n1                                          NaN  \n2                                          100  \n3                                      112.482  \n4                                      115.646  \n5                                      69.4829  \n...                                        ...  \n3271                                       NaN  \n3272                                       NaN  \n3273                                       NaN  \n3274                                       NaN  \n3275                                       NaN  \n\n[3275 rows x 88 columns]",
      "text/html": "<div>\n<style scoped>\n    .dataframe tbody tr th:only-of-type {\n        vertical-align: middle;\n    }\n\n    .dataframe tbody tr th {\n        vertical-align: top;\n    }\n\n    .dataframe thead th {\n        text-align: right;\n    }\n</style>\n<table border=\"1\" class=\"dataframe\">\n  <thead>\n    <tr style=\"text-align: right;\">\n      <th></th>\n      <th>fips_txt</th>\n      <th>Stabr</th>\n      <th>area_name</th>\n      <th>Rural_urban_continuum_code_2013</th>\n      <th>Urban_influence_code_2013</th>\n      <th>Metro_2013</th>\n      <th>Civilian_labor_force_2000</th>\n      <th>Employed_2000</th>\n      <th>Unemployed_2000</th>\n      <th>Unemployment_rate_2000</th>\n      <th>...</th>\n      <th>Civilian_labor_force_2018</th>\n      <th>Employed_2018</th>\n      <th>Unemployed_2018</th>\n      <th>Unemployment_rate_2018</th>\n      <th>Civilian_labor_force_2019</th>\n      <th>Employed_2019</th>\n      <th>Unemployed_2019</th>\n      <th>Unemployment_rate_2019</th>\n      <th>Median_Household_Income_2019</th>\n      <th>Med_HH_Income_Percent_of_State_Total_2019</th>\n    </tr>\n  </thead>\n  <tbody>\n    <tr>\n      <th>1</th>\n      <td>00000</td>\n      <td>US</td>\n      <td>United States</td>\n      <td>NaN</td>\n      <td>NaN</td>\n      <td>NaN</td>\n      <td>142601667</td>\n      <td>136904680</td>\n      <td>5696987</td>\n      <td>3.99504</td>\n      <td>...</td>\n      <td>161389026</td>\n      <td>155102319</td>\n      <td>6286707</td>\n      <td>3.89537</td>\n      <td>163100055</td>\n      <td>157115247</td>\n      <td>5984808</td>\n      <td>3.66941</td>\n      <td>65712</td>\n      <td>NaN</td>\n    </tr>\n    <tr>\n      <th>2</th>\n      <td>01000</td>\n      <td>AL</td>\n      <td>Alabama</td>\n      <td>NaN</td>\n      <td>NaN</td>\n      <td>NaN</td>\n      <td>2133223</td>\n      <td>2035594</td>\n      <td>97629</td>\n      <td>4.6</td>\n      <td>...</td>\n      <td>2216627</td>\n      <td>2130845</td>\n      <td>85782</td>\n      <td>3.9</td>\n      <td>2241747</td>\n      <td>2174483</td>\n      <td>67264</td>\n      <td>3</td>\n      <td>51771</td>\n      <td>100</td>\n    </tr>\n    <tr>\n      <th>3</th>\n      <td>01001</td>\n      <td>AL</td>\n      <td>Autauga County, AL</td>\n      <td>2</td>\n      <td>2</td>\n      <td>1</td>\n      <td>21720</td>\n      <td>20846</td>\n      <td>874</td>\n      <td>4</td>\n      <td>...</td>\n      <td>26196</td>\n      <td>25261</td>\n      <td>935</td>\n      <td>3.6</td>\n      <td>26172</td>\n      <td>25458</td>\n      <td>714</td>\n      <td>2.7</td>\n      <td>58233</td>\n      <td>112.482</td>\n    </tr>\n    <tr>\n      <th>4</th>\n      <td>01003</td>\n      <td>AL</td>\n      <td>Baldwin County, AL</td>\n      <td>3</td>\n      <td>2</td>\n      <td>1</td>\n      <td>69533</td>\n      <td>66971</td>\n      <td>2562</td>\n      <td>3.7</td>\n      <td>...</td>\n      <td>95233</td>\n      <td>91809</td>\n      <td>3424</td>\n      <td>3.6</td>\n      <td>97328</td>\n      <td>94675</td>\n      <td>2653</td>\n      <td>2.7</td>\n      <td>59871</td>\n      <td>115.646</td>\n    </tr>\n    <tr>\n      <th>5</th>\n      <td>01005</td>\n      <td>AL</td>\n      <td>Barbour County, AL</td>\n      <td>6</td>\n      <td>6</td>\n      <td>0</td>\n      <td>11373</td>\n      <td>10748</td>\n      <td>625</td>\n      <td>5.5</td>\n      <td>...</td>\n      <td>8414</td>\n      <td>7987</td>\n      <td>427</td>\n      <td>5.1</td>\n      <td>8537</td>\n      <td>8213</td>\n      <td>324</td>\n      <td>3.8</td>\n      <td>35972</td>\n      <td>69.4829</td>\n    </tr>\n    <tr>\n      <th>...</th>\n      <td>...</td>\n      <td>...</td>\n      <td>...</td>\n      <td>...</td>\n      <td>...</td>\n      <td>...</td>\n      <td>...</td>\n      <td>...</td>\n      <td>...</td>\n      <td>...</td>\n      <td>...</td>\n      <td>...</td>\n      <td>...</td>\n      <td>...</td>\n      <td>...</td>\n      <td>...</td>\n      <td>...</td>\n      <td>...</td>\n      <td>...</td>\n      <td>...</td>\n      <td>...</td>\n    </tr>\n    <tr>\n      <th>3271</th>\n      <td>72145</td>\n      <td>PR</td>\n      <td>Vega Baja Municipio, PR</td>\n      <td>1</td>\n      <td>1</td>\n      <td>1</td>\n      <td>19805</td>\n      <td>17607</td>\n      <td>2198</td>\n      <td>11.1</td>\n      <td>...</td>\n      <td>13117</td>\n      <td>11750</td>\n      <td>1367</td>\n      <td>10.4</td>\n      <td>13037</td>\n      <td>11791</td>\n      <td>1246</td>\n      <td>9.6</td>\n      <td>NaN</td>\n      <td>NaN</td>\n    </tr>\n    <tr>\n      <th>3272</th>\n      <td>72147</td>\n      <td>PR</td>\n      <td>Vieques Municipio, PR</td>\n      <td>7</td>\n      <td>12</td>\n      <td>0</td>\n      <td>2441</td>\n      <td>2120</td>\n      <td>321</td>\n      <td>13.2</td>\n      <td>...</td>\n      <td>2718</td>\n      <td>2269</td>\n      <td>449</td>\n      <td>16.5</td>\n      <td>2585</td>\n      <td>2406</td>\n      <td>179</td>\n      <td>6.9</td>\n      <td>NaN</td>\n      <td>NaN</td>\n    </tr>\n    <tr>\n      <th>3273</th>\n      <td>72149</td>\n      <td>PR</td>\n      <td>Villalba Municipio, PR</td>\n      <td>2</td>\n      <td>2</td>\n      <td>1</td>\n      <td>7636</td>\n      <td>6648</td>\n      <td>988</td>\n      <td>12.9</td>\n      <td>...</td>\n      <td>7311</td>\n      <td>6154</td>\n      <td>1157</td>\n      <td>15.8</td>\n      <td>7406</td>\n      <td>6231</td>\n      <td>1175</td>\n      <td>15.9</td>\n      <td>NaN</td>\n      <td>NaN</td>\n    </tr>\n    <tr>\n      <th>3274</th>\n      <td>72151</td>\n      <td>PR</td>\n      <td>Yabucoa Municipio, PR</td>\n      <td>1</td>\n      <td>1</td>\n      <td>1</td>\n      <td>10613</td>\n      <td>9005</td>\n      <td>1608</td>\n      <td>15.2</td>\n      <td>...</td>\n      <td>8762</td>\n      <td>7509</td>\n      <td>1253</td>\n      <td>14.3</td>\n      <td>8691</td>\n      <td>7552</td>\n      <td>1139</td>\n      <td>13.1</td>\n      <td>NaN</td>\n      <td>NaN</td>\n    </tr>\n    <tr>\n      <th>3275</th>\n      <td>72153</td>\n      <td>PR</td>\n      <td>Yauco Municipio, PR</td>\n      <td>2</td>\n      <td>2</td>\n      <td>1</td>\n      <td>14664</td>\n      <td>12871</td>\n      <td>1793</td>\n      <td>12.2</td>\n      <td>...</td>\n      <td>9716</td>\n      <td>8288</td>\n      <td>1428</td>\n      <td>14.7</td>\n      <td>9759</td>\n      <td>8331</td>\n      <td>1428</td>\n      <td>14.6</td>\n      <td>NaN</td>\n      <td>NaN</td>\n    </tr>\n  </tbody>\n</table>\n<p>3275 rows × 88 columns</p>\n</div>"
     },
     "metadata": {},
     "output_type": "display_data"
    }
   ],
   "source": [
    "display(unemployment)\n",
    "unemployment2017_2019 = unemployment[4:]\n",
    "unemployment2017_2019.reset_index(drop=True, inplace=True)\n",
    "unemployment_header = unemployment2017_2019.iloc[0, :].values\n",
    "unemployment2017_2019.columns = unemployment_header\n",
    "unemployment2017_2019 = unemployment2017_2019.drop([0])\n",
    "display(unemployment2017_2019)"
   ],
   "metadata": {
    "collapsed": false,
    "pycharm": {
     "name": "#%%\n"
    }
   }
  },
  {
   "cell_type": "markdown",
   "source": [
    "* fix header columns of csv file\n",
    "* remove empty rows"
   ],
   "metadata": {
    "collapsed": false,
    "pycharm": {
     "name": "#%% md\n"
    }
   }
  },
  {
   "cell_type": "code",
   "execution_count": 44,
   "outputs": [
    {
     "data": {
      "text/plain": "Index(['fips_txt', 'Stabr', 'area_name', 'Rural_urban_continuum_code_2013',\n       'Urban_influence_code_2013', 'Metro_2013', 'Civilian_labor_force_2000',\n       'Employed_2000', 'Unemployed_2000', 'Unemployment_rate_2000',\n       'Civilian_labor_force_2001', 'Employed_2001', 'Unemployed_2001',\n       'Unemployment_rate_2001', 'Civilian_labor_force_2002', 'Employed_2002',\n       'Unemployed_2002', 'Unemployment_rate_2002',\n       'Civilian_labor_force_2003', 'Employed_2003', 'Unemployed_2003',\n       'Unemployment_rate_2003', 'Civilian_labor_force_2004', 'Employed_2004',\n       'Unemployed_2004', 'Unemployment_rate_2004',\n       'Civilian_labor_force_2005', 'Employed_2005', 'Unemployed_2005',\n       'Unemployment_rate_2005', 'Civilian_labor_force_2006', 'Employed_2006',\n       'Unemployed_2006', 'Unemployment_rate_2006',\n       'Civilian_labor_force_2007', 'Employed_2007', 'Unemployed_2007',\n       'Unemployment_rate_2007', 'Civilian_labor_force_2008', 'Employed_2008',\n       'Unemployed_2008', 'Unemployment_rate_2008',\n       'Civilian_labor_force_2009', 'Employed_2009', 'Unemployed_2009',\n       'Unemployment_rate_2009', 'Civilian_labor_force_2010', 'Employed_2010',\n       'Unemployed_2010', 'Unemployment_rate_2010',\n       'Civilian_labor_force_2011', 'Employed_2011', 'Unemployed_2011',\n       'Unemployment_rate_2011', 'Civilian_labor_force_2012', 'Employed_2012',\n       'Unemployed_2012', 'Unemployment_rate_2012',\n       'Civilian_labor_force_2013', 'Employed_2013', 'Unemployed_2013',\n       'Unemployment_rate_2013', 'Civilian_labor_force_2014', 'Employed_2014',\n       'Unemployed_2014', 'Unemployment_rate_2014',\n       'Civilian_labor_force_2015', 'Employed_2015', 'Unemployed_2015',\n       'Unemployment_rate_2015', 'Civilian_labor_force_2016', 'Employed_2016',\n       'Unemployed_2016', 'Unemployment_rate_2016',\n       'Civilian_labor_force_2017', 'Employed_2017', 'Unemployed_2017',\n       'Unemployment_rate_2017', 'Civilian_labor_force_2018', 'Employed_2018',\n       'Unemployed_2018', 'Unemployment_rate_2018',\n       'Civilian_labor_force_2019', 'Employed_2019', 'Unemployed_2019',\n       'Unemployment_rate_2019', 'Median_Household_Income_2019',\n       'Med_HH_Income_Percent_of_State_Total_2019'],\n      dtype='object')"
     },
     "metadata": {},
     "output_type": "display_data"
    },
    {
     "data": {
      "text/plain": "     Stabr                area_name Unemployment_rate_2017  \\\n1       US            United States                4.35512   \n2       AL                  Alabama                    4.4   \n3       AL       Autauga County, AL                    3.9   \n4       AL       Baldwin County, AL                    4.1   \n5       AL       Barbour County, AL                    5.8   \n...    ...                      ...                    ...   \n3271    PR  Vega Baja Municipio, PR                   12.4   \n3272    PR    Vieques Municipio, PR                   14.5   \n3273    PR   Villalba Municipio, PR                   19.4   \n3274    PR    Yabucoa Municipio, PR                   16.5   \n3275    PR      Yauco Municipio, PR                   17.2   \n\n     Unemployment_rate_2018 Unemployment_rate_2019  \n1                   3.89537                3.66941  \n2                       3.9                      3  \n3                       3.6                    2.7  \n4                       3.6                    2.7  \n5                       5.1                    3.8  \n...                     ...                    ...  \n3271                   10.4                    9.6  \n3272                   16.5                    6.9  \n3273                   15.8                   15.9  \n3274                   14.3                   13.1  \n3275                   14.7                   14.6  \n\n[3275 rows x 5 columns]",
      "text/html": "<div>\n<style scoped>\n    .dataframe tbody tr th:only-of-type {\n        vertical-align: middle;\n    }\n\n    .dataframe tbody tr th {\n        vertical-align: top;\n    }\n\n    .dataframe thead th {\n        text-align: right;\n    }\n</style>\n<table border=\"1\" class=\"dataframe\">\n  <thead>\n    <tr style=\"text-align: right;\">\n      <th></th>\n      <th>Stabr</th>\n      <th>area_name</th>\n      <th>Unemployment_rate_2017</th>\n      <th>Unemployment_rate_2018</th>\n      <th>Unemployment_rate_2019</th>\n    </tr>\n  </thead>\n  <tbody>\n    <tr>\n      <th>1</th>\n      <td>US</td>\n      <td>United States</td>\n      <td>4.35512</td>\n      <td>3.89537</td>\n      <td>3.66941</td>\n    </tr>\n    <tr>\n      <th>2</th>\n      <td>AL</td>\n      <td>Alabama</td>\n      <td>4.4</td>\n      <td>3.9</td>\n      <td>3</td>\n    </tr>\n    <tr>\n      <th>3</th>\n      <td>AL</td>\n      <td>Autauga County, AL</td>\n      <td>3.9</td>\n      <td>3.6</td>\n      <td>2.7</td>\n    </tr>\n    <tr>\n      <th>4</th>\n      <td>AL</td>\n      <td>Baldwin County, AL</td>\n      <td>4.1</td>\n      <td>3.6</td>\n      <td>2.7</td>\n    </tr>\n    <tr>\n      <th>5</th>\n      <td>AL</td>\n      <td>Barbour County, AL</td>\n      <td>5.8</td>\n      <td>5.1</td>\n      <td>3.8</td>\n    </tr>\n    <tr>\n      <th>...</th>\n      <td>...</td>\n      <td>...</td>\n      <td>...</td>\n      <td>...</td>\n      <td>...</td>\n    </tr>\n    <tr>\n      <th>3271</th>\n      <td>PR</td>\n      <td>Vega Baja Municipio, PR</td>\n      <td>12.4</td>\n      <td>10.4</td>\n      <td>9.6</td>\n    </tr>\n    <tr>\n      <th>3272</th>\n      <td>PR</td>\n      <td>Vieques Municipio, PR</td>\n      <td>14.5</td>\n      <td>16.5</td>\n      <td>6.9</td>\n    </tr>\n    <tr>\n      <th>3273</th>\n      <td>PR</td>\n      <td>Villalba Municipio, PR</td>\n      <td>19.4</td>\n      <td>15.8</td>\n      <td>15.9</td>\n    </tr>\n    <tr>\n      <th>3274</th>\n      <td>PR</td>\n      <td>Yabucoa Municipio, PR</td>\n      <td>16.5</td>\n      <td>14.3</td>\n      <td>13.1</td>\n    </tr>\n    <tr>\n      <th>3275</th>\n      <td>PR</td>\n      <td>Yauco Municipio, PR</td>\n      <td>17.2</td>\n      <td>14.7</td>\n      <td>14.6</td>\n    </tr>\n  </tbody>\n</table>\n<p>3275 rows × 5 columns</p>\n</div>"
     },
     "metadata": {},
     "output_type": "display_data"
    }
   ],
   "source": [
    "# used to remove other year data to keep only 2017-2019\n",
    "display(unemployment2017_2019.columns)\n",
    "cols_to_remove = unemployment2017_2019.iloc[:, 3:74].columns\n",
    "unemployment2017_2019 = remove_col(unemployment2017_2019, cols_to_remove)\n",
    "\n",
    "unemployment_rates_2017_2019 = unemployment2017_2019.iloc[:, [1,2,6, 10, 14]]\n",
    "display(unemployment_rates_2017_2019)"
   ],
   "metadata": {
    "collapsed": false,
    "pycharm": {
     "name": "#%%\n"
    }
   }
  },
  {
   "cell_type": "markdown",
   "source": [
    "* remove all other column data for years 2000 - 2016\n",
    "* make a df for only unemployment rates"
   ],
   "metadata": {
    "collapsed": false,
    "pycharm": {
     "name": "#%% md\n"
    }
   }
  },
  {
   "cell_type": "code",
   "execution_count": 45,
   "outputs": [],
   "source": [
    "# Retain only counties and not regions / individual state\n",
    "\n",
    "UE_counties = unemployment_rates_2017_2019['area_name'].str.contains(',')\n",
    "UE_county_rate = unemployment_rates_2017_2019.loc[UE_counties]"
   ],
   "metadata": {
    "collapsed": false,
    "pycharm": {
     "name": "#%%\n"
    }
   }
  },
  {
   "cell_type": "code",
   "execution_count": 46,
   "outputs": [
    {
     "data": {
      "text/plain": "Stabr                     0\narea_name                 0\nUnemployment_rate_2017    3\nUnemployment_rate_2018    3\nUnemployment_rate_2019    3\ndtype: int64"
     },
     "metadata": {},
     "output_type": "display_data"
    },
    {
     "data": {
      "text/plain": "    Stabr                                        area_name  \\\n93     AK  Prince of Wales-Outer Ketchikan Census Area, AK   \n96     AK            Skagway-Hoonah-Angoon Census Area, AK   \n100    AK              Wrangell-Petersburg Census Area, AK   \n\n    Unemployment_rate_2017 Unemployment_rate_2018 Unemployment_rate_2019  \n93                     NaN                    NaN                    NaN  \n96                     NaN                    NaN                    NaN  \n100                    NaN                    NaN                    NaN  ",
      "text/html": "<div>\n<style scoped>\n    .dataframe tbody tr th:only-of-type {\n        vertical-align: middle;\n    }\n\n    .dataframe tbody tr th {\n        vertical-align: top;\n    }\n\n    .dataframe thead th {\n        text-align: right;\n    }\n</style>\n<table border=\"1\" class=\"dataframe\">\n  <thead>\n    <tr style=\"text-align: right;\">\n      <th></th>\n      <th>Stabr</th>\n      <th>area_name</th>\n      <th>Unemployment_rate_2017</th>\n      <th>Unemployment_rate_2018</th>\n      <th>Unemployment_rate_2019</th>\n    </tr>\n  </thead>\n  <tbody>\n    <tr>\n      <th>93</th>\n      <td>AK</td>\n      <td>Prince of Wales-Outer Ketchikan Census Area, AK</td>\n      <td>NaN</td>\n      <td>NaN</td>\n      <td>NaN</td>\n    </tr>\n    <tr>\n      <th>96</th>\n      <td>AK</td>\n      <td>Skagway-Hoonah-Angoon Census Area, AK</td>\n      <td>NaN</td>\n      <td>NaN</td>\n      <td>NaN</td>\n    </tr>\n    <tr>\n      <th>100</th>\n      <td>AK</td>\n      <td>Wrangell-Petersburg Census Area, AK</td>\n      <td>NaN</td>\n      <td>NaN</td>\n      <td>NaN</td>\n    </tr>\n  </tbody>\n</table>\n</div>"
     },
     "metadata": {},
     "output_type": "display_data"
    },
    {
     "name": "stderr",
     "output_type": "stream",
     "text": [
      "<ipython-input-46-6b6aaf1a981a>:10: SettingWithCopyWarning: \n",
      "A value is trying to be set on a copy of a slice from a DataFrame\n",
      "\n",
      "See the caveats in the documentation: https://pandas.pydata.org/pandas-docs/stable/user_guide/indexing.html#returning-a-view-versus-a-copy\n",
      "  UE_county_rate.dropna(inplace=True)\n"
     ]
    }
   ],
   "source": [
    "# check for missing values and dupes\n",
    "\n",
    "display(UE_county_rate.isnull().sum())\n",
    "display(UE_county_rate.loc[UE_county_rate.isnull().any(axis=1)])\n",
    "\n",
    "daily_aqi_by_county_2018.loc[daily_aqi_by_county_2018['State Name'].str.contains('Alaska') & daily_aqi_by_county_2018['county Name'].str.contains('Prince')]\n",
    "daily_aqi_by_county_2018.loc[daily_aqi_by_county_2018['State Name'].str.contains('Alaska') & daily_aqi_by_county_2018['county Name'].str.contains('Skagway')]\n",
    "daily_aqi_by_county_2018.loc[daily_aqi_by_county_2018['State Name'].str.contains('Alaska') & daily_aqi_by_county_2018['county Name'].str.contains('Wrangell')]\n",
    "\n",
    "UE_county_rate.dropna(inplace=True)\n",
    "UE_county_rate.reset_index(drop=True, inplace=True)"
   ],
   "metadata": {
    "collapsed": false,
    "pycharm": {
     "name": "#%%\n"
    }
   }
  },
  {
   "cell_type": "markdown",
   "source": [
    "* 3 alaskan counties show unknown values;\n",
    "* These values will not be mergeable with aqi data as it we do not aqi data on those areas\n",
    "* drop these rows\n"
   ],
   "metadata": {
    "collapsed": false,
    "pycharm": {
     "name": "#%% md\n"
    }
   }
  },
  {
   "cell_type": "code",
   "execution_count": 47,
   "outputs": [
    {
     "name": "stdout",
     "output_type": "stream",
     "text": [
      "0\n"
     ]
    }
   ],
   "source": [
    "# check if have any duplicate value\n",
    "print(UE_county_rate['area_name'].duplicated().sum())"
   ],
   "metadata": {
    "collapsed": false,
    "pycharm": {
     "name": "#%%\n"
    }
   }
  },
  {
   "cell_type": "markdown",
   "source": [
    "* we have 0 duplicates"
   ],
   "metadata": {
    "collapsed": false,
    "pycharm": {
     "name": "#%% md\n"
    }
   }
  },
  {
   "cell_type": "code",
   "execution_count": 48,
   "outputs": [
    {
     "name": "stdout",
     "output_type": "stream",
     "text": [
      "<class 'pandas.core.frame.DataFrame'>\n",
      "RangeIndex: 3218 entries, 0 to 3217\n",
      "Data columns (total 5 columns):\n",
      " #   Column                  Non-Null Count  Dtype \n",
      "---  ------                  --------------  ----- \n",
      " 0   Stabr                   3218 non-null   object\n",
      " 1   area_name               3218 non-null   object\n",
      " 2   Unemployment_rate_2017  3218 non-null   object\n",
      " 3   Unemployment_rate_2018  3218 non-null   object\n",
      " 4   Unemployment_rate_2019  3218 non-null   object\n",
      "dtypes: object(5)\n",
      "memory usage: 125.8+ KB\n",
      "<class 'pandas.core.frame.DataFrame'>\n",
      "RangeIndex: 3218 entries, 0 to 3217\n",
      "Data columns (total 5 columns):\n",
      " #   Column                  Non-Null Count  Dtype  \n",
      "---  ------                  --------------  -----  \n",
      " 0   Stabr                   3218 non-null   object \n",
      " 1   area_name               3218 non-null   object \n",
      " 2   Unemployment_rate_2017  3218 non-null   float32\n",
      " 3   Unemployment_rate_2018  3218 non-null   float32\n",
      " 4   Unemployment_rate_2019  3218 non-null   float32\n",
      "dtypes: float32(3), object(2)\n",
      "memory usage: 88.1+ KB\n"
     ]
    },
    {
     "data": {
      "text/plain": "None"
     },
     "metadata": {},
     "output_type": "display_data"
    },
    {
     "name": "stderr",
     "output_type": "stream",
     "text": [
      "<ipython-input-48-0645ef7acb33>:3: SettingWithCopyWarning: \n",
      "A value is trying to be set on a copy of a slice from a DataFrame.\n",
      "Try using .loc[row_indexer,col_indexer] = value instead\n",
      "\n",
      "See the caveats in the documentation: https://pandas.pydata.org/pandas-docs/stable/user_guide/indexing.html#returning-a-view-versus-a-copy\n",
      "  UE_county_rate['Unemployment_rate_2017'] = pd.to_numeric(UE_county_rate['Unemployment_rate_2017'], downcast='float')\n",
      "<ipython-input-48-0645ef7acb33>:4: SettingWithCopyWarning: \n",
      "A value is trying to be set on a copy of a slice from a DataFrame.\n",
      "Try using .loc[row_indexer,col_indexer] = value instead\n",
      "\n",
      "See the caveats in the documentation: https://pandas.pydata.org/pandas-docs/stable/user_guide/indexing.html#returning-a-view-versus-a-copy\n",
      "  UE_county_rate['Unemployment_rate_2018'] = pd.to_numeric(UE_county_rate['Unemployment_rate_2018'], downcast='float')\n",
      "<ipython-input-48-0645ef7acb33>:5: SettingWithCopyWarning: \n",
      "A value is trying to be set on a copy of a slice from a DataFrame.\n",
      "Try using .loc[row_indexer,col_indexer] = value instead\n",
      "\n",
      "See the caveats in the documentation: https://pandas.pydata.org/pandas-docs/stable/user_guide/indexing.html#returning-a-view-versus-a-copy\n",
      "  UE_county_rate['Unemployment_rate_2019'] = pd.to_numeric(UE_county_rate['Unemployment_rate_2019'], downcast='float')\n"
     ]
    }
   ],
   "source": [
    "display(UE_county_rate.info())\n",
    "\n",
    "UE_county_rate['Unemployment_rate_2017'] = pd.to_numeric(UE_county_rate['Unemployment_rate_2017'], downcast='float')\n",
    "UE_county_rate['Unemployment_rate_2018'] = pd.to_numeric(UE_county_rate['Unemployment_rate_2018'], downcast='float')\n",
    "UE_county_rate['Unemployment_rate_2019'] = pd.to_numeric(UE_county_rate['Unemployment_rate_2019'], downcast='float')\n",
    "\n",
    "UE_county_rate.info()"
   ],
   "metadata": {
    "collapsed": false,
    "pycharm": {
     "name": "#%%\n"
    }
   }
  },
  {
   "cell_type": "markdown",
   "source": [
    "* convert Unemployment rate columsn to be type float\n"
   ],
   "metadata": {
    "collapsed": false,
    "pycharm": {
     "name": "#%% md\n"
    }
   }
  },
  {
   "cell_type": "code",
   "execution_count": 49,
   "outputs": [
    {
     "data": {
      "text/plain": "     Stabr              area_name  Unemployment_rate_2017  \\\n292     CO    Phillips County, CO                     1.6   \n1999    ND      Divide County, ND                     1.6   \n307     CO        Yuma County, CO                     1.6   \n248     CO        Baca County, CO                     1.6   \n2033    ND      Steele County, ND                     1.7   \n276     CO  Kit Carson County, CO                     1.7   \n275     CO       Kiowa County, CO                     1.7   \n921     KS     Greeley County, KS                     1.8   \n273     CO     Jackson County, CO                     1.8   \n1998    ND      Dickey County, ND                     1.8   \n\n      Unemployment_rate_2018  Unemployment_rate_2019  \n292                      1.9                     1.6  \n1999                     1.3                     1.4  \n307                      1.9                     1.6  \n248                      1.8                     1.7  \n2033                     2.0                     2.1  \n276                      2.0                     1.7  \n275                      1.8                     1.6  \n921                      2.0                     2.3  \n273                      2.6                     2.3  \n1998                     1.8                     1.9  ",
      "text/html": "<div>\n<style scoped>\n    .dataframe tbody tr th:only-of-type {\n        vertical-align: middle;\n    }\n\n    .dataframe tbody tr th {\n        vertical-align: top;\n    }\n\n    .dataframe thead th {\n        text-align: right;\n    }\n</style>\n<table border=\"1\" class=\"dataframe\">\n  <thead>\n    <tr style=\"text-align: right;\">\n      <th></th>\n      <th>Stabr</th>\n      <th>area_name</th>\n      <th>Unemployment_rate_2017</th>\n      <th>Unemployment_rate_2018</th>\n      <th>Unemployment_rate_2019</th>\n    </tr>\n  </thead>\n  <tbody>\n    <tr>\n      <th>292</th>\n      <td>CO</td>\n      <td>Phillips County, CO</td>\n      <td>1.6</td>\n      <td>1.9</td>\n      <td>1.6</td>\n    </tr>\n    <tr>\n      <th>1999</th>\n      <td>ND</td>\n      <td>Divide County, ND</td>\n      <td>1.6</td>\n      <td>1.3</td>\n      <td>1.4</td>\n    </tr>\n    <tr>\n      <th>307</th>\n      <td>CO</td>\n      <td>Yuma County, CO</td>\n      <td>1.6</td>\n      <td>1.9</td>\n      <td>1.6</td>\n    </tr>\n    <tr>\n      <th>248</th>\n      <td>CO</td>\n      <td>Baca County, CO</td>\n      <td>1.6</td>\n      <td>1.8</td>\n      <td>1.7</td>\n    </tr>\n    <tr>\n      <th>2033</th>\n      <td>ND</td>\n      <td>Steele County, ND</td>\n      <td>1.7</td>\n      <td>2.0</td>\n      <td>2.1</td>\n    </tr>\n    <tr>\n      <th>276</th>\n      <td>CO</td>\n      <td>Kit Carson County, CO</td>\n      <td>1.7</td>\n      <td>2.0</td>\n      <td>1.7</td>\n    </tr>\n    <tr>\n      <th>275</th>\n      <td>CO</td>\n      <td>Kiowa County, CO</td>\n      <td>1.7</td>\n      <td>1.8</td>\n      <td>1.6</td>\n    </tr>\n    <tr>\n      <th>921</th>\n      <td>KS</td>\n      <td>Greeley County, KS</td>\n      <td>1.8</td>\n      <td>2.0</td>\n      <td>2.3</td>\n    </tr>\n    <tr>\n      <th>273</th>\n      <td>CO</td>\n      <td>Jackson County, CO</td>\n      <td>1.8</td>\n      <td>2.6</td>\n      <td>2.3</td>\n    </tr>\n    <tr>\n      <th>1998</th>\n      <td>ND</td>\n      <td>Dickey County, ND</td>\n      <td>1.8</td>\n      <td>1.8</td>\n      <td>1.9</td>\n    </tr>\n  </tbody>\n</table>\n</div>"
     },
     "metadata": {},
     "output_type": "display_data"
    },
    {
     "data": {
      "text/plain": "     Stabr             area_name  Unemployment_rate_2017  \\\n1999    ND     Divide County, ND                     1.6   \n2671    TX     Loving County, TX                     5.0   \n846     IA       Lyon County, IA                     1.8   \n2000    ND       Dunn County, ND                     2.2   \n2018    ND  Mountrail County, ND                     2.1   \n2014    ND   McKenzie County, ND                     2.5   \n871     IA      Story County, IA                     2.0   \n275     CO      Kiowa County, CO                     1.7   \n2676    TX   McMullen County, TX                     1.9   \n870     IA      Sioux County, IA                     2.0   \n\n      Unemployment_rate_2018  Unemployment_rate_2019  \n1999                     1.3                     1.4  \n2671                     1.5                     0.7  \n846                      1.6                     1.6  \n2000                     1.6                     1.6  \n2018                     1.6                     1.4  \n2014                     1.7                     1.6  \n871                      1.7                     1.9  \n275                      1.8                     1.6  \n2676                     1.8                     1.6  \n870                      1.8                     1.9  ",
      "text/html": "<div>\n<style scoped>\n    .dataframe tbody tr th:only-of-type {\n        vertical-align: middle;\n    }\n\n    .dataframe tbody tr th {\n        vertical-align: top;\n    }\n\n    .dataframe thead th {\n        text-align: right;\n    }\n</style>\n<table border=\"1\" class=\"dataframe\">\n  <thead>\n    <tr style=\"text-align: right;\">\n      <th></th>\n      <th>Stabr</th>\n      <th>area_name</th>\n      <th>Unemployment_rate_2017</th>\n      <th>Unemployment_rate_2018</th>\n      <th>Unemployment_rate_2019</th>\n    </tr>\n  </thead>\n  <tbody>\n    <tr>\n      <th>1999</th>\n      <td>ND</td>\n      <td>Divide County, ND</td>\n      <td>1.6</td>\n      <td>1.3</td>\n      <td>1.4</td>\n    </tr>\n    <tr>\n      <th>2671</th>\n      <td>TX</td>\n      <td>Loving County, TX</td>\n      <td>5.0</td>\n      <td>1.5</td>\n      <td>0.7</td>\n    </tr>\n    <tr>\n      <th>846</th>\n      <td>IA</td>\n      <td>Lyon County, IA</td>\n      <td>1.8</td>\n      <td>1.6</td>\n      <td>1.6</td>\n    </tr>\n    <tr>\n      <th>2000</th>\n      <td>ND</td>\n      <td>Dunn County, ND</td>\n      <td>2.2</td>\n      <td>1.6</td>\n      <td>1.6</td>\n    </tr>\n    <tr>\n      <th>2018</th>\n      <td>ND</td>\n      <td>Mountrail County, ND</td>\n      <td>2.1</td>\n      <td>1.6</td>\n      <td>1.4</td>\n    </tr>\n    <tr>\n      <th>2014</th>\n      <td>ND</td>\n      <td>McKenzie County, ND</td>\n      <td>2.5</td>\n      <td>1.7</td>\n      <td>1.6</td>\n    </tr>\n    <tr>\n      <th>871</th>\n      <td>IA</td>\n      <td>Story County, IA</td>\n      <td>2.0</td>\n      <td>1.7</td>\n      <td>1.9</td>\n    </tr>\n    <tr>\n      <th>275</th>\n      <td>CO</td>\n      <td>Kiowa County, CO</td>\n      <td>1.7</td>\n      <td>1.8</td>\n      <td>1.6</td>\n    </tr>\n    <tr>\n      <th>2676</th>\n      <td>TX</td>\n      <td>McMullen County, TX</td>\n      <td>1.9</td>\n      <td>1.8</td>\n      <td>1.6</td>\n    </tr>\n    <tr>\n      <th>870</th>\n      <td>IA</td>\n      <td>Sioux County, IA</td>\n      <td>2.0</td>\n      <td>1.8</td>\n      <td>1.9</td>\n    </tr>\n  </tbody>\n</table>\n</div>"
     },
     "metadata": {},
     "output_type": "display_data"
    },
    {
     "data": {
      "text/plain": "     Stabr             area_name  Unemployment_rate_2017  \\\n2671    TX     Loving County, TX                     5.0   \n2018    ND  Mountrail County, ND                     2.1   \n1999    ND     Divide County, ND                     1.6   \n2676    TX   McMullen County, TX                     1.9   \n307     CO       Yuma County, CO                     1.6   \n253     CO   Cheyenne County, CO                     1.8   \n292     CO   Phillips County, CO                     1.6   \n2000    ND       Dunn County, ND                     2.2   \n2014    ND   McKenzie County, ND                     2.5   \n2623    TX    Hartley County, TX                     1.9   \n\n      Unemployment_rate_2018  Unemployment_rate_2019  \n2671                     1.5                     0.7  \n2018                     1.6                     1.4  \n1999                     1.3                     1.4  \n2676                     1.8                     1.6  \n307                      1.9                     1.6  \n253                      1.8                     1.6  \n292                      1.9                     1.6  \n2000                     1.6                     1.6  \n2014                     1.7                     1.6  \n2623                     1.8                     1.6  ",
      "text/html": "<div>\n<style scoped>\n    .dataframe tbody tr th:only-of-type {\n        vertical-align: middle;\n    }\n\n    .dataframe tbody tr th {\n        vertical-align: top;\n    }\n\n    .dataframe thead th {\n        text-align: right;\n    }\n</style>\n<table border=\"1\" class=\"dataframe\">\n  <thead>\n    <tr style=\"text-align: right;\">\n      <th></th>\n      <th>Stabr</th>\n      <th>area_name</th>\n      <th>Unemployment_rate_2017</th>\n      <th>Unemployment_rate_2018</th>\n      <th>Unemployment_rate_2019</th>\n    </tr>\n  </thead>\n  <tbody>\n    <tr>\n      <th>2671</th>\n      <td>TX</td>\n      <td>Loving County, TX</td>\n      <td>5.0</td>\n      <td>1.5</td>\n      <td>0.7</td>\n    </tr>\n    <tr>\n      <th>2018</th>\n      <td>ND</td>\n      <td>Mountrail County, ND</td>\n      <td>2.1</td>\n      <td>1.6</td>\n      <td>1.4</td>\n    </tr>\n    <tr>\n      <th>1999</th>\n      <td>ND</td>\n      <td>Divide County, ND</td>\n      <td>1.6</td>\n      <td>1.3</td>\n      <td>1.4</td>\n    </tr>\n    <tr>\n      <th>2676</th>\n      <td>TX</td>\n      <td>McMullen County, TX</td>\n      <td>1.9</td>\n      <td>1.8</td>\n      <td>1.6</td>\n    </tr>\n    <tr>\n      <th>307</th>\n      <td>CO</td>\n      <td>Yuma County, CO</td>\n      <td>1.6</td>\n      <td>1.9</td>\n      <td>1.6</td>\n    </tr>\n    <tr>\n      <th>253</th>\n      <td>CO</td>\n      <td>Cheyenne County, CO</td>\n      <td>1.8</td>\n      <td>1.8</td>\n      <td>1.6</td>\n    </tr>\n    <tr>\n      <th>292</th>\n      <td>CO</td>\n      <td>Phillips County, CO</td>\n      <td>1.6</td>\n      <td>1.9</td>\n      <td>1.6</td>\n    </tr>\n    <tr>\n      <th>2000</th>\n      <td>ND</td>\n      <td>Dunn County, ND</td>\n      <td>2.2</td>\n      <td>1.6</td>\n      <td>1.6</td>\n    </tr>\n    <tr>\n      <th>2014</th>\n      <td>ND</td>\n      <td>McKenzie County, ND</td>\n      <td>2.5</td>\n      <td>1.7</td>\n      <td>1.6</td>\n    </tr>\n    <tr>\n      <th>2623</th>\n      <td>TX</td>\n      <td>Hartley County, TX</td>\n      <td>1.9</td>\n      <td>1.8</td>\n      <td>1.6</td>\n    </tr>\n  </tbody>\n</table>\n</div>"
     },
     "metadata": {},
     "output_type": "display_data"
    },
    {
     "data": {
      "text/plain": "     Stabr                 area_name  Unemployment_rate_2017  \\\n3182    PR  Las Marias Municipio, PR               20.600000   \n3187    PR     Maricao Municipio, PR               20.100000   \n3195    PR    Patillas Municipio, PR               19.700001   \n81      AK  Kusilvak Census Area, AK               19.600000   \n198     CA       Imperial County, CA               19.500000   \n3215    PR    Villalba Municipio, PR               19.400000   \n3180    PR       Lajas Municipio, PR               19.400000   \n3202    PR     Salinas Municipio, PR               18.700001   \n3181    PR       Lares Municipio, PR               18.600000   \n3168    PR     Guanica Municipio, PR               18.299999   \n\n      Unemployment_rate_2018  Unemployment_rate_2019  \n3182               14.100000               11.600000  \n3187               15.100000               13.700000  \n3195               17.500000               15.700000  \n81                 19.600000               19.299999  \n198                18.900000               18.299999  \n3215               15.800000               15.900000  \n3180               15.300000               12.800000  \n3202               14.800000               14.500000  \n3181               16.200001               14.700000  \n3168               15.500000               14.800000  ",
      "text/html": "<div>\n<style scoped>\n    .dataframe tbody tr th:only-of-type {\n        vertical-align: middle;\n    }\n\n    .dataframe tbody tr th {\n        vertical-align: top;\n    }\n\n    .dataframe thead th {\n        text-align: right;\n    }\n</style>\n<table border=\"1\" class=\"dataframe\">\n  <thead>\n    <tr style=\"text-align: right;\">\n      <th></th>\n      <th>Stabr</th>\n      <th>area_name</th>\n      <th>Unemployment_rate_2017</th>\n      <th>Unemployment_rate_2018</th>\n      <th>Unemployment_rate_2019</th>\n    </tr>\n  </thead>\n  <tbody>\n    <tr>\n      <th>3182</th>\n      <td>PR</td>\n      <td>Las Marias Municipio, PR</td>\n      <td>20.600000</td>\n      <td>14.100000</td>\n      <td>11.600000</td>\n    </tr>\n    <tr>\n      <th>3187</th>\n      <td>PR</td>\n      <td>Maricao Municipio, PR</td>\n      <td>20.100000</td>\n      <td>15.100000</td>\n      <td>13.700000</td>\n    </tr>\n    <tr>\n      <th>3195</th>\n      <td>PR</td>\n      <td>Patillas Municipio, PR</td>\n      <td>19.700001</td>\n      <td>17.500000</td>\n      <td>15.700000</td>\n    </tr>\n    <tr>\n      <th>81</th>\n      <td>AK</td>\n      <td>Kusilvak Census Area, AK</td>\n      <td>19.600000</td>\n      <td>19.600000</td>\n      <td>19.299999</td>\n    </tr>\n    <tr>\n      <th>198</th>\n      <td>CA</td>\n      <td>Imperial County, CA</td>\n      <td>19.500000</td>\n      <td>18.900000</td>\n      <td>18.299999</td>\n    </tr>\n    <tr>\n      <th>3215</th>\n      <td>PR</td>\n      <td>Villalba Municipio, PR</td>\n      <td>19.400000</td>\n      <td>15.800000</td>\n      <td>15.900000</td>\n    </tr>\n    <tr>\n      <th>3180</th>\n      <td>PR</td>\n      <td>Lajas Municipio, PR</td>\n      <td>19.400000</td>\n      <td>15.300000</td>\n      <td>12.800000</td>\n    </tr>\n    <tr>\n      <th>3202</th>\n      <td>PR</td>\n      <td>Salinas Municipio, PR</td>\n      <td>18.700001</td>\n      <td>14.800000</td>\n      <td>14.500000</td>\n    </tr>\n    <tr>\n      <th>3181</th>\n      <td>PR</td>\n      <td>Lares Municipio, PR</td>\n      <td>18.600000</td>\n      <td>16.200001</td>\n      <td>14.700000</td>\n    </tr>\n    <tr>\n      <th>3168</th>\n      <td>PR</td>\n      <td>Guanica Municipio, PR</td>\n      <td>18.299999</td>\n      <td>15.500000</td>\n      <td>14.800000</td>\n    </tr>\n  </tbody>\n</table>\n</div>"
     },
     "metadata": {},
     "output_type": "display_data"
    },
    {
     "data": {
      "text/plain": "     Stabr                 area_name  Unemployment_rate_2017  \\\n81      AK  Kusilvak Census Area, AK               19.600000   \n198     CA       Imperial County, CA               19.500000   \n3195    PR    Patillas Municipio, PR               19.700001   \n110     AZ           Yuma County, AZ               16.900000   \n3214    PR     Vieques Municipio, PR               14.500000   \n3181    PR       Lares Municipio, PR               18.600000   \n3215    PR    Villalba Municipio, PR               19.400000   \n3168    PR     Guanica Municipio, PR               18.299999   \n3180    PR       Lajas Municipio, PR               19.400000   \n3188    PR     Maunabo Municipio, PR               17.299999   \n\n      Unemployment_rate_2018  Unemployment_rate_2019  \n81                 19.600000               19.299999  \n198                18.900000               18.299999  \n3195               17.500000               15.700000  \n110                16.700001               16.400000  \n3214               16.500000                6.900000  \n3181               16.200001               14.700000  \n3215               15.800000               15.900000  \n3168               15.500000               14.800000  \n3180               15.300000               12.800000  \n3188               15.200000               15.100000  ",
      "text/html": "<div>\n<style scoped>\n    .dataframe tbody tr th:only-of-type {\n        vertical-align: middle;\n    }\n\n    .dataframe tbody tr th {\n        vertical-align: top;\n    }\n\n    .dataframe thead th {\n        text-align: right;\n    }\n</style>\n<table border=\"1\" class=\"dataframe\">\n  <thead>\n    <tr style=\"text-align: right;\">\n      <th></th>\n      <th>Stabr</th>\n      <th>area_name</th>\n      <th>Unemployment_rate_2017</th>\n      <th>Unemployment_rate_2018</th>\n      <th>Unemployment_rate_2019</th>\n    </tr>\n  </thead>\n  <tbody>\n    <tr>\n      <th>81</th>\n      <td>AK</td>\n      <td>Kusilvak Census Area, AK</td>\n      <td>19.600000</td>\n      <td>19.600000</td>\n      <td>19.299999</td>\n    </tr>\n    <tr>\n      <th>198</th>\n      <td>CA</td>\n      <td>Imperial County, CA</td>\n      <td>19.500000</td>\n      <td>18.900000</td>\n      <td>18.299999</td>\n    </tr>\n    <tr>\n      <th>3195</th>\n      <td>PR</td>\n      <td>Patillas Municipio, PR</td>\n      <td>19.700001</td>\n      <td>17.500000</td>\n      <td>15.700000</td>\n    </tr>\n    <tr>\n      <th>110</th>\n      <td>AZ</td>\n      <td>Yuma County, AZ</td>\n      <td>16.900000</td>\n      <td>16.700001</td>\n      <td>16.400000</td>\n    </tr>\n    <tr>\n      <th>3214</th>\n      <td>PR</td>\n      <td>Vieques Municipio, PR</td>\n      <td>14.500000</td>\n      <td>16.500000</td>\n      <td>6.900000</td>\n    </tr>\n    <tr>\n      <th>3181</th>\n      <td>PR</td>\n      <td>Lares Municipio, PR</td>\n      <td>18.600000</td>\n      <td>16.200001</td>\n      <td>14.700000</td>\n    </tr>\n    <tr>\n      <th>3215</th>\n      <td>PR</td>\n      <td>Villalba Municipio, PR</td>\n      <td>19.400000</td>\n      <td>15.800000</td>\n      <td>15.900000</td>\n    </tr>\n    <tr>\n      <th>3168</th>\n      <td>PR</td>\n      <td>Guanica Municipio, PR</td>\n      <td>18.299999</td>\n      <td>15.500000</td>\n      <td>14.800000</td>\n    </tr>\n    <tr>\n      <th>3180</th>\n      <td>PR</td>\n      <td>Lajas Municipio, PR</td>\n      <td>19.400000</td>\n      <td>15.300000</td>\n      <td>12.800000</td>\n    </tr>\n    <tr>\n      <th>3188</th>\n      <td>PR</td>\n      <td>Maunabo Municipio, PR</td>\n      <td>17.299999</td>\n      <td>15.200000</td>\n      <td>15.100000</td>\n    </tr>\n  </tbody>\n</table>\n</div>"
     },
     "metadata": {},
     "output_type": "display_data"
    },
    {
     "data": {
      "text/plain": "     Stabr                 area_name  Unemployment_rate_2017  \\\n81      AK  Kusilvak Census Area, AK               19.600000   \n198     CA       Imperial County, CA               19.500000   \n110     AZ           Yuma County, AZ               16.900000   \n3215    PR    Villalba Municipio, PR               19.400000   \n3195    PR    Patillas Municipio, PR               19.700001   \n1430    MS      Jefferson County, MS               14.600000   \n3140    PR    Adjuntas Municipio, PR               15.100000   \n3188    PR     Maunabo Municipio, PR               17.299999   \n3168    PR     Guanica Municipio, PR               18.299999   \n3181    PR       Lares Municipio, PR               18.600000   \n\n      Unemployment_rate_2018  Unemployment_rate_2019  \n81                 19.600000               19.299999  \n198                18.900000               18.299999  \n110                16.700001               16.400000  \n3215               15.800000               15.900000  \n3195               17.500000               15.700000  \n1430               13.200000               15.500000  \n3140               13.700000               15.300000  \n3188               15.200000               15.100000  \n3168               15.500000               14.800000  \n3181               16.200001               14.700000  ",
      "text/html": "<div>\n<style scoped>\n    .dataframe tbody tr th:only-of-type {\n        vertical-align: middle;\n    }\n\n    .dataframe tbody tr th {\n        vertical-align: top;\n    }\n\n    .dataframe thead th {\n        text-align: right;\n    }\n</style>\n<table border=\"1\" class=\"dataframe\">\n  <thead>\n    <tr style=\"text-align: right;\">\n      <th></th>\n      <th>Stabr</th>\n      <th>area_name</th>\n      <th>Unemployment_rate_2017</th>\n      <th>Unemployment_rate_2018</th>\n      <th>Unemployment_rate_2019</th>\n    </tr>\n  </thead>\n  <tbody>\n    <tr>\n      <th>81</th>\n      <td>AK</td>\n      <td>Kusilvak Census Area, AK</td>\n      <td>19.600000</td>\n      <td>19.600000</td>\n      <td>19.299999</td>\n    </tr>\n    <tr>\n      <th>198</th>\n      <td>CA</td>\n      <td>Imperial County, CA</td>\n      <td>19.500000</td>\n      <td>18.900000</td>\n      <td>18.299999</td>\n    </tr>\n    <tr>\n      <th>110</th>\n      <td>AZ</td>\n      <td>Yuma County, AZ</td>\n      <td>16.900000</td>\n      <td>16.700001</td>\n      <td>16.400000</td>\n    </tr>\n    <tr>\n      <th>3215</th>\n      <td>PR</td>\n      <td>Villalba Municipio, PR</td>\n      <td>19.400000</td>\n      <td>15.800000</td>\n      <td>15.900000</td>\n    </tr>\n    <tr>\n      <th>3195</th>\n      <td>PR</td>\n      <td>Patillas Municipio, PR</td>\n      <td>19.700001</td>\n      <td>17.500000</td>\n      <td>15.700000</td>\n    </tr>\n    <tr>\n      <th>1430</th>\n      <td>MS</td>\n      <td>Jefferson County, MS</td>\n      <td>14.600000</td>\n      <td>13.200000</td>\n      <td>15.500000</td>\n    </tr>\n    <tr>\n      <th>3140</th>\n      <td>PR</td>\n      <td>Adjuntas Municipio, PR</td>\n      <td>15.100000</td>\n      <td>13.700000</td>\n      <td>15.300000</td>\n    </tr>\n    <tr>\n      <th>3188</th>\n      <td>PR</td>\n      <td>Maunabo Municipio, PR</td>\n      <td>17.299999</td>\n      <td>15.200000</td>\n      <td>15.100000</td>\n    </tr>\n    <tr>\n      <th>3168</th>\n      <td>PR</td>\n      <td>Guanica Municipio, PR</td>\n      <td>18.299999</td>\n      <td>15.500000</td>\n      <td>14.800000</td>\n    </tr>\n    <tr>\n      <th>3181</th>\n      <td>PR</td>\n      <td>Lares Municipio, PR</td>\n      <td>18.600000</td>\n      <td>16.200001</td>\n      <td>14.700000</td>\n    </tr>\n  </tbody>\n</table>\n</div>"
     },
     "metadata": {},
     "output_type": "display_data"
    }
   ],
   "source": [
    "#order then plot top 100 and bottom 100\n",
    "UE_county_rate\n",
    "display(UE_county_rate.sort_values(by='Unemployment_rate_2017').head(10))\n",
    "display(UE_county_rate.sort_values(by='Unemployment_rate_2018').head(10))\n",
    "display(UE_county_rate.sort_values(by='Unemployment_rate_2019').head(10))\n",
    "\n",
    "display(UE_county_rate.sort_values(by='Unemployment_rate_2017', ascending=False).head(10))\n",
    "display(UE_county_rate.sort_values(by='Unemployment_rate_2018', ascending=False).head(10))\n",
    "display(UE_county_rate.sort_values(by='Unemployment_rate_2019', ascending=False).head(10))"
   ],
   "metadata": {
    "collapsed": false,
    "pycharm": {
     "name": "#%%\n"
    }
   }
  },
  {
   "cell_type": "markdown",
   "source": [
    "* Don't have consistent low unemployment by years\n",
    "* Puerto Rico counties appear to have highest unemployment rate over time\n"
   ],
   "metadata": {
    "collapsed": false,
    "pycharm": {
     "name": "#%% md\n"
    }
   }
  },
  {
   "cell_type": "code",
   "execution_count": 50,
   "outputs": [
    {
     "name": "stderr",
     "output_type": "stream",
     "text": [
      "No handles with labels found to put in legend.\n"
     ]
    },
    {
     "data": {
      "text/plain": "<Figure size 2880x2880 with 1 Axes>",
      "image/png": "[encoded data removed]"
     },
     "metadata": {},
     "output_type": "display_data"
    }
   ],
   "source": [
    "fig, ax = plt.subplots(figsize=(40,40))\n",
    "\n",
    "plt.title('UE rate vs Counties 2017')\n",
    "plt.xlabel('Counties')\n",
    "plt.ylabel('UE rate')\n",
    "# ax.scatter(UE_county_rate['area_name'], UE_county_rate['Unemployment_rate_2017'], label=sorted_UE_2017['area_name'])\n",
    "ax.hist(UE_county_rate['Unemployment_rate_2017'], bins=100)\n",
    "ax.legend(bbox_to_anchor=(1.05,1))\n",
    "plt.show()\n"
   ],
   "metadata": {
    "collapsed": false,
    "pycharm": {
     "name": "#%%\n"
    }
   }
  },
  {
   "cell_type": "markdown",
   "source": [
    "* In 2017 it appears that Unemployment rates from 2.5 to 7.5 are normal\n",
    "* data is skewed to right"
   ],
   "metadata": {
    "collapsed": false,
    "pycharm": {
     "name": "#%% md\n"
    }
   }
  },
  {
   "cell_type": "markdown",
   "source": [
    "# clean up saipe data 2017\n"
   ],
   "metadata": {
    "collapsed": false,
    "pycharm": {
     "name": "#%% md\n"
    }
   }
  },
  {
   "cell_type": "code",
   "execution_count": 51,
   "outputs": [
    {
     "data": {
      "text/plain": "     State FIPS Code County FIPS Code Postal Code               Name  \\\n0                 00              000          US      United States   \n1                 01              000          AL            Alabama   \n2                 01              001          AL     Autauga County   \n3                 01              003          AL     Baldwin County   \n4                 01              005          AL     Barbour County   \n...              ...              ...         ...                ...   \n3189              56              037          WY  Sweetwater County   \n3190              56              039          WY       Teton County   \n3191              56              041          WY       Uinta County   \n3192              56              043          WY    Washakie County   \n3193              56              045          WY      Weston County   \n\n     Poverty Estimate, All Ages 90% CI Lower Bound 90% CI Upper Bound  \\\n0                      42583651           42342619           42824683   \n1                        802263             784517             820009   \n2                          7390               6147               8633   \n3                         21199              17444              24954   \n4                          7414               6325               8503   \n...                         ...                ...                ...   \n3189                       4253               3540               4966   \n3190                       1348               1021               1675   \n3191                       2067               1623               2511   \n3192                        845                632               1058   \n3193                        699                541                857   \n\n     Poverty Percent, All Ages 90% CI Lower Bound 90% CI Upper Bound  ...  \\\n0                         13.4               13.3               13.5  ...   \n1                         16.9               16.5               17.3  ...   \n2                         13.4               11.1               15.7  ...   \n3                         10.1                8.3               11.9  ...   \n4                         33.4               28.5               38.3  ...   \n...                        ...                ...                ...  ...   \n3189                        10                8.3               11.7  ...   \n3190                       5.8                4.4                7.2  ...   \n3191                      10.2                  8               12.4  ...   \n3192                      10.7                  8               13.4  ...   \n3193                      10.6                8.2                 13  ...   \n\n     90% CI Upper Bound Median Household Income 90% CI Lower Bound  \\\n0                  17.5                   60336              60250   \n1                  23.8                   48193              47451   \n2                  22.1                   58343              52121   \n3                  17.9                   56607              52439   \n4                    55                   32490              29218   \n...                 ...                     ...                ...   \n3189                 14                   75590              69190   \n3190                7.9                   90145              80434   \n3191               13.4                   67404              60925   \n3192               17.3                   57989              53142   \n3193               16.6                   56214              50250   \n\n     90% CI Upper Bound Poverty Estimate, Age 0-4 90% CI Lower Bound  \\\n0                 60422                   3932969            3880645   \n1                 48935                     78986              75009   \n2                 64565                         .                  .   \n3                 60775                         .                  .   \n4                 35762                         .                  .   \n...                 ...                       ...                ...   \n3189              81990                         .                  .   \n3190              99856                         .                  .   \n3191              73883                         .                  .   \n3192              62836                         .                  .   \n3193              62178                         .                  .   \n\n     90% CI Upper Bound Poverty Percent, Age 0-4 90% CI Lower Bound  \\\n0               3985293                     20.2               19.9   \n1                 82963                     27.7               26.3   \n2                     .                        .                  .   \n3                     .                        .                  .   \n4                     .                        .                  .   \n...                 ...                      ...                ...   \n3189                  .                        .                  .   \n3190                  .                        .                  .   \n3191                  .                        .                  .   \n3192                  .                        .                  .   \n3193                  .                        .                  .   \n\n     90% CI Upper Bound  \n0                  20.5  \n1                  29.1  \n2                     .  \n3                     .  \n4                     .  \n...                 ...  \n3189                  .  \n3190                  .  \n3191                  .  \n3192                  .  \n3193                  .  \n\n[3194 rows x 31 columns]",
      "text/html": "<div>\n<style scoped>\n    .dataframe tbody tr th:only-of-type {\n        vertical-align: middle;\n    }\n\n    .dataframe tbody tr th {\n        vertical-align: top;\n    }\n\n    .dataframe thead th {\n        text-align: right;\n    }\n</style>\n<table border=\"1\" class=\"dataframe\">\n  <thead>\n    <tr style=\"text-align: right;\">\n      <th></th>\n      <th>State FIPS Code</th>\n      <th>County FIPS Code</th>\n      <th>Postal Code</th>\n      <th>Name</th>\n      <th>Poverty Estimate, All Ages</th>\n      <th>90% CI Lower Bound</th>\n      <th>90% CI Upper Bound</th>\n      <th>Poverty Percent, All Ages</th>\n      <th>90% CI Lower Bound</th>\n      <th>90% CI Upper Bound</th>\n      <th>...</th>\n      <th>90% CI Upper Bound</th>\n      <th>Median Household Income</th>\n      <th>90% CI Lower Bound</th>\n      <th>90% CI Upper Bound</th>\n      <th>Poverty Estimate, Age 0-4</th>\n      <th>90% CI Lower Bound</th>\n      <th>90% CI Upper Bound</th>\n      <th>Poverty Percent, Age 0-4</th>\n      <th>90% CI Lower Bound</th>\n      <th>90% CI Upper Bound</th>\n    </tr>\n  </thead>\n  <tbody>\n    <tr>\n      <th>0</th>\n      <td>00</td>\n      <td>000</td>\n      <td>US</td>\n      <td>United States</td>\n      <td>42583651</td>\n      <td>42342619</td>\n      <td>42824683</td>\n      <td>13.4</td>\n      <td>13.3</td>\n      <td>13.5</td>\n      <td>...</td>\n      <td>17.5</td>\n      <td>60336</td>\n      <td>60250</td>\n      <td>60422</td>\n      <td>3932969</td>\n      <td>3880645</td>\n      <td>3985293</td>\n      <td>20.2</td>\n      <td>19.9</td>\n      <td>20.5</td>\n    </tr>\n    <tr>\n      <th>1</th>\n      <td>01</td>\n      <td>000</td>\n      <td>AL</td>\n      <td>Alabama</td>\n      <td>802263</td>\n      <td>784517</td>\n      <td>820009</td>\n      <td>16.9</td>\n      <td>16.5</td>\n      <td>17.3</td>\n      <td>...</td>\n      <td>23.8</td>\n      <td>48193</td>\n      <td>47451</td>\n      <td>48935</td>\n      <td>78986</td>\n      <td>75009</td>\n      <td>82963</td>\n      <td>27.7</td>\n      <td>26.3</td>\n      <td>29.1</td>\n    </tr>\n    <tr>\n      <th>2</th>\n      <td>01</td>\n      <td>001</td>\n      <td>AL</td>\n      <td>Autauga County</td>\n      <td>7390</td>\n      <td>6147</td>\n      <td>8633</td>\n      <td>13.4</td>\n      <td>11.1</td>\n      <td>15.7</td>\n      <td>...</td>\n      <td>22.1</td>\n      <td>58343</td>\n      <td>52121</td>\n      <td>64565</td>\n      <td>.</td>\n      <td>.</td>\n      <td>.</td>\n      <td>.</td>\n      <td>.</td>\n      <td>.</td>\n    </tr>\n    <tr>\n      <th>3</th>\n      <td>01</td>\n      <td>003</td>\n      <td>AL</td>\n      <td>Baldwin County</td>\n      <td>21199</td>\n      <td>17444</td>\n      <td>24954</td>\n      <td>10.1</td>\n      <td>8.3</td>\n      <td>11.9</td>\n      <td>...</td>\n      <td>17.9</td>\n      <td>56607</td>\n      <td>52439</td>\n      <td>60775</td>\n      <td>.</td>\n      <td>.</td>\n      <td>.</td>\n      <td>.</td>\n      <td>.</td>\n      <td>.</td>\n    </tr>\n    <tr>\n      <th>4</th>\n      <td>01</td>\n      <td>005</td>\n      <td>AL</td>\n      <td>Barbour County</td>\n      <td>7414</td>\n      <td>6325</td>\n      <td>8503</td>\n      <td>33.4</td>\n      <td>28.5</td>\n      <td>38.3</td>\n      <td>...</td>\n      <td>55</td>\n      <td>32490</td>\n      <td>29218</td>\n      <td>35762</td>\n      <td>.</td>\n      <td>.</td>\n      <td>.</td>\n      <td>.</td>\n      <td>.</td>\n      <td>.</td>\n    </tr>\n    <tr>\n      <th>...</th>\n      <td>...</td>\n      <td>...</td>\n      <td>...</td>\n      <td>...</td>\n      <td>...</td>\n      <td>...</td>\n      <td>...</td>\n      <td>...</td>\n      <td>...</td>\n      <td>...</td>\n      <td>...</td>\n      <td>...</td>\n      <td>...</td>\n      <td>...</td>\n      <td>...</td>\n      <td>...</td>\n      <td>...</td>\n      <td>...</td>\n      <td>...</td>\n      <td>...</td>\n      <td>...</td>\n    </tr>\n    <tr>\n      <th>3189</th>\n      <td>56</td>\n      <td>037</td>\n      <td>WY</td>\n      <td>Sweetwater County</td>\n      <td>4253</td>\n      <td>3540</td>\n      <td>4966</td>\n      <td>10</td>\n      <td>8.3</td>\n      <td>11.7</td>\n      <td>...</td>\n      <td>14</td>\n      <td>75590</td>\n      <td>69190</td>\n      <td>81990</td>\n      <td>.</td>\n      <td>.</td>\n      <td>.</td>\n      <td>.</td>\n      <td>.</td>\n      <td>.</td>\n    </tr>\n    <tr>\n      <th>3190</th>\n      <td>56</td>\n      <td>039</td>\n      <td>WY</td>\n      <td>Teton County</td>\n      <td>1348</td>\n      <td>1021</td>\n      <td>1675</td>\n      <td>5.8</td>\n      <td>4.4</td>\n      <td>7.2</td>\n      <td>...</td>\n      <td>7.9</td>\n      <td>90145</td>\n      <td>80434</td>\n      <td>99856</td>\n      <td>.</td>\n      <td>.</td>\n      <td>.</td>\n      <td>.</td>\n      <td>.</td>\n      <td>.</td>\n    </tr>\n    <tr>\n      <th>3191</th>\n      <td>56</td>\n      <td>041</td>\n      <td>WY</td>\n      <td>Uinta County</td>\n      <td>2067</td>\n      <td>1623</td>\n      <td>2511</td>\n      <td>10.2</td>\n      <td>8</td>\n      <td>12.4</td>\n      <td>...</td>\n      <td>13.4</td>\n      <td>67404</td>\n      <td>60925</td>\n      <td>73883</td>\n      <td>.</td>\n      <td>.</td>\n      <td>.</td>\n      <td>.</td>\n      <td>.</td>\n      <td>.</td>\n    </tr>\n    <tr>\n      <th>3192</th>\n      <td>56</td>\n      <td>043</td>\n      <td>WY</td>\n      <td>Washakie County</td>\n      <td>845</td>\n      <td>632</td>\n      <td>1058</td>\n      <td>10.7</td>\n      <td>8</td>\n      <td>13.4</td>\n      <td>...</td>\n      <td>17.3</td>\n      <td>57989</td>\n      <td>53142</td>\n      <td>62836</td>\n      <td>.</td>\n      <td>.</td>\n      <td>.</td>\n      <td>.</td>\n      <td>.</td>\n      <td>.</td>\n    </tr>\n    <tr>\n      <th>3193</th>\n      <td>56</td>\n      <td>045</td>\n      <td>WY</td>\n      <td>Weston County</td>\n      <td>699</td>\n      <td>541</td>\n      <td>857</td>\n      <td>10.6</td>\n      <td>8.2</td>\n      <td>13</td>\n      <td>...</td>\n      <td>16.6</td>\n      <td>56214</td>\n      <td>50250</td>\n      <td>62178</td>\n      <td>.</td>\n      <td>.</td>\n      <td>.</td>\n      <td>.</td>\n      <td>.</td>\n      <td>.</td>\n    </tr>\n  </tbody>\n</table>\n<p>3194 rows × 31 columns</p>\n</div>"
     },
     "metadata": {},
     "output_type": "display_data"
    }
   ],
   "source": [
    "\n",
    "saipe_header = saipe2017.iloc[2, :].values\n",
    "saipe_header\n",
    "saipe2017.columns = saipe_header\n",
    "saipe2017.drop([0,1,2], inplace=True)\n",
    "saipe2017.reset_index(drop=True, inplace=True)\n",
    "display(saipe2017)"
   ],
   "metadata": {
    "collapsed": false,
    "pycharm": {
     "name": "#%%\n"
    }
   }
  },
  {
   "cell_type": "code",
   "execution_count": 52,
   "outputs": [
    {
     "data": {
      "text/plain": "     County FIPS Code Postal Code               Name Poverty Percent, All Ages\n0                 001          AL     Autauga County                      13.4\n1                 003          AL     Baldwin County                      10.1\n2                 005          AL     Barbour County                      33.4\n3                 007          AL        Bibb County                      20.2\n4                 009          AL      Blount County                      12.8\n...               ...         ...                ...                       ...\n3002              037          WY  Sweetwater County                        10\n3003              039          WY       Teton County                       5.8\n3004              041          WY       Uinta County                      10.2\n3005              043          WY    Washakie County                      10.7\n3006              045          WY      Weston County                      10.6\n\n[3007 rows x 4 columns]",
      "text/html": "<div>\n<style scoped>\n    .dataframe tbody tr th:only-of-type {\n        vertical-align: middle;\n    }\n\n    .dataframe tbody tr th {\n        vertical-align: top;\n    }\n\n    .dataframe thead th {\n        text-align: right;\n    }\n</style>\n<table border=\"1\" class=\"dataframe\">\n  <thead>\n    <tr style=\"text-align: right;\">\n      <th></th>\n      <th>County FIPS Code</th>\n      <th>Postal Code</th>\n      <th>Name</th>\n      <th>Poverty Percent, All Ages</th>\n    </tr>\n  </thead>\n  <tbody>\n    <tr>\n      <th>0</th>\n      <td>001</td>\n      <td>AL</td>\n      <td>Autauga County</td>\n      <td>13.4</td>\n    </tr>\n    <tr>\n      <th>1</th>\n      <td>003</td>\n      <td>AL</td>\n      <td>Baldwin County</td>\n      <td>10.1</td>\n    </tr>\n    <tr>\n      <th>2</th>\n      <td>005</td>\n      <td>AL</td>\n      <td>Barbour County</td>\n      <td>33.4</td>\n    </tr>\n    <tr>\n      <th>3</th>\n      <td>007</td>\n      <td>AL</td>\n      <td>Bibb County</td>\n      <td>20.2</td>\n    </tr>\n    <tr>\n      <th>4</th>\n      <td>009</td>\n      <td>AL</td>\n      <td>Blount County</td>\n      <td>12.8</td>\n    </tr>\n    <tr>\n      <th>...</th>\n      <td>...</td>\n      <td>...</td>\n      <td>...</td>\n      <td>...</td>\n    </tr>\n    <tr>\n      <th>3002</th>\n      <td>037</td>\n      <td>WY</td>\n      <td>Sweetwater County</td>\n      <td>10</td>\n    </tr>\n    <tr>\n      <th>3003</th>\n      <td>039</td>\n      <td>WY</td>\n      <td>Teton County</td>\n      <td>5.8</td>\n    </tr>\n    <tr>\n      <th>3004</th>\n      <td>041</td>\n      <td>WY</td>\n      <td>Uinta County</td>\n      <td>10.2</td>\n    </tr>\n    <tr>\n      <th>3005</th>\n      <td>043</td>\n      <td>WY</td>\n      <td>Washakie County</td>\n      <td>10.7</td>\n    </tr>\n    <tr>\n      <th>3006</th>\n      <td>045</td>\n      <td>WY</td>\n      <td>Weston County</td>\n      <td>10.6</td>\n    </tr>\n  </tbody>\n</table>\n<p>3007 rows × 4 columns</p>\n</div>"
     },
     "metadata": {},
     "output_type": "display_data"
    }
   ],
   "source": [
    "saipe2017.columns\n",
    "saipe2017.iloc[:, [1,2,3,4,7]]\n",
    "saipe_county = saipe2017['Name'].str.contains('County')\n",
    "pov_rate_2017 = saipe2017.loc[saipe_county].iloc[:, [1,2,3, 7]]\n",
    "pov_rate_2017.reset_index(drop=True, inplace=True)\n",
    "display(pov_rate_2017)"
   ],
   "metadata": {
    "collapsed": false,
    "pycharm": {
     "name": "#%%\n"
    }
   }
  },
  {
   "cell_type": "markdown",
   "source": [
    "* Remove empty cells and clean up columns\n",
    "* Retain only US county information and poverty rates for all ages\n"
   ],
   "metadata": {
    "collapsed": false,
    "pycharm": {
     "name": "#%% md\n"
    }
   }
  },
  {
   "cell_type": "code",
   "execution_count": 53,
   "outputs": [
    {
     "name": "stdout",
     "output_type": "stream",
     "text": [
      "County FIPS Code             0\n",
      "Postal Code                  0\n",
      "Name                         0\n",
      "Poverty Percent, All Ages    0\n",
      "dtype: int64\n",
      "0\n",
      "<class 'pandas.core.frame.DataFrame'>\n",
      "RangeIndex: 3007 entries, 0 to 3006\n",
      "Data columns (total 4 columns):\n",
      " #   Column                     Non-Null Count  Dtype \n",
      "---  ------                     --------------  ----- \n",
      " 0   County FIPS Code           3007 non-null   object\n",
      " 1   Postal Code                3007 non-null   object\n",
      " 2   Name                       3007 non-null   object\n",
      " 3   Poverty Percent, All Ages  3007 non-null   object\n",
      "dtypes: object(4)\n",
      "memory usage: 94.1+ KB\n"
     ]
    },
    {
     "data": {
      "text/plain": "None"
     },
     "metadata": {},
     "output_type": "display_data"
    }
   ],
   "source": [
    "print(pov_rate_2017.isnull().sum())\n",
    "print(pov_rate_2017.duplicated().sum())\n",
    "display(pov_rate_2017.info())"
   ],
   "metadata": {
    "collapsed": false,
    "pycharm": {
     "name": "#%%\n"
    }
   }
  },
  {
   "cell_type": "markdown",
   "source": [
    "* No duplicates or missing values for poverty rates in 2017\n",
    "* also convert poverty percent to float"
   ],
   "metadata": {
    "collapsed": false,
    "pycharm": {
     "name": "#%% md\n"
    }
   }
  },
  {
   "cell_type": "code",
   "execution_count": 54,
   "outputs": [
    {
     "name": "stdout",
     "output_type": "stream",
     "text": [
      "<class 'pandas.core.frame.DataFrame'>\n",
      "RangeIndex: 3007 entries, 0 to 3006\n",
      "Data columns (total 4 columns):\n",
      " #   Column                     Non-Null Count  Dtype \n",
      "---  ------                     --------------  ----- \n",
      " 0   County FIPS Code           3007 non-null   object\n",
      " 1   Postal Code                3007 non-null   object\n",
      " 2   Name                       3007 non-null   object\n",
      " 3   Poverty Percent, All Ages  3007 non-null   object\n",
      "dtypes: object(4)\n",
      "memory usage: 94.1+ KB\n"
     ]
    }
   ],
   "source": [
    "pov_rate_2017.info()\n",
    "\n",
    "pov_rate_2017.drop(518, inplace=True)\n",
    "pov_rate_2017['Poverty Percent, All Ages'] = pd.to_numeric(pov_rate_2017['Poverty Percent, All Ages'], downcast='float')"
   ],
   "metadata": {
    "collapsed": false,
    "pycharm": {
     "name": "#%%\n"
    }
   }
  },
  {
   "cell_type": "markdown",
   "source": [
    "* from further inspection it was noted that Kalawao county is now excluded in their survey results starting 2017\n",
    "* Kalawao county records removed\n",
    "* Poverty rates in Hawaii appear to around 10-20s\n"
   ],
   "metadata": {
    "collapsed": false,
    "pycharm": {
     "name": "#%% md\n"
    }
   }
  },
  {
   "cell_type": "code",
   "execution_count": 55,
   "outputs": [
    {
     "name": "stderr",
     "output_type": "stream",
     "text": [
      "No handles with labels found to put in legend.\n"
     ]
    },
    {
     "data": {
      "text/plain": "<Figure size 1440x1440 with 1 Axes>",
      "image/png": "[encoded data removed]"
     },
     "metadata": {},
     "output_type": "display_data"
    }
   ],
   "source": [
    "fig, ax = plt.subplots(figsize=(20,20))\n",
    "\n",
    "plt.title('Poverty rate vs Counties 2017')\n",
    "plt.xlabel('Counties')\n",
    "plt.ylabel('Poverty rate')\n",
    "ax.hist(pov_rate_2017['Poverty Percent, All Ages'], bins=100)\n",
    "ax.legend(bbox_to_anchor=(1.05,1))\n",
    "plt.show()\n"
   ],
   "metadata": {
    "collapsed": false,
    "pycharm": {
     "name": "#%%\n"
    }
   }
  },
  {
   "cell_type": "markdown",
   "source": [
    "* poverty rates in 2017 US counties appear to be between 10 to 20\n"
   ],
   "metadata": {
    "collapsed": false,
    "pycharm": {
     "name": "#%% md\n"
    }
   }
  },
  {
   "cell_type": "code",
   "execution_count": 56,
   "outputs": [
    {
     "data": {
      "text/plain": "     County FIPS Code Postal Code               Name  \\\n2775              107          VA     Loudoun County   \n233               035          CO     Douglas County   \n2305              083          SD     Lincoln County   \n1713              028          NM  Los Alamos County   \n695               057          IN    Hamilton County   \n1686              019          NJ   Hunterdon County   \n2424              187          TN  Williamson County   \n1288              139          MN       Scott County   \n1228              019          MN      Carver County   \n2694              029          UT      Morgan County   \n\n      Poverty Percent, All Ages  \n2775                        3.0  \n233                         3.2  \n2305                        3.5  \n1713                        3.7  \n695                         3.8  \n1686                        3.9  \n2424                        3.9  \n1288                        4.0  \n1228                        4.0  \n2694                        4.1  ",
      "text/html": "<div>\n<style scoped>\n    .dataframe tbody tr th:only-of-type {\n        vertical-align: middle;\n    }\n\n    .dataframe tbody tr th {\n        vertical-align: top;\n    }\n\n    .dataframe thead th {\n        text-align: right;\n    }\n</style>\n<table border=\"1\" class=\"dataframe\">\n  <thead>\n    <tr style=\"text-align: right;\">\n      <th></th>\n      <th>County FIPS Code</th>\n      <th>Postal Code</th>\n      <th>Name</th>\n      <th>Poverty Percent, All Ages</th>\n    </tr>\n  </thead>\n  <tbody>\n    <tr>\n      <th>2775</th>\n      <td>107</td>\n      <td>VA</td>\n      <td>Loudoun County</td>\n      <td>3.0</td>\n    </tr>\n    <tr>\n      <th>233</th>\n      <td>035</td>\n      <td>CO</td>\n      <td>Douglas County</td>\n      <td>3.2</td>\n    </tr>\n    <tr>\n      <th>2305</th>\n      <td>083</td>\n      <td>SD</td>\n      <td>Lincoln County</td>\n      <td>3.5</td>\n    </tr>\n    <tr>\n      <th>1713</th>\n      <td>028</td>\n      <td>NM</td>\n      <td>Los Alamos County</td>\n      <td>3.7</td>\n    </tr>\n    <tr>\n      <th>695</th>\n      <td>057</td>\n      <td>IN</td>\n      <td>Hamilton County</td>\n      <td>3.8</td>\n    </tr>\n    <tr>\n      <th>1686</th>\n      <td>019</td>\n      <td>NJ</td>\n      <td>Hunterdon County</td>\n      <td>3.9</td>\n    </tr>\n    <tr>\n      <th>2424</th>\n      <td>187</td>\n      <td>TN</td>\n      <td>Williamson County</td>\n      <td>3.9</td>\n    </tr>\n    <tr>\n      <th>1288</th>\n      <td>139</td>\n      <td>MN</td>\n      <td>Scott County</td>\n      <td>4.0</td>\n    </tr>\n    <tr>\n      <th>1228</th>\n      <td>019</td>\n      <td>MN</td>\n      <td>Carver County</td>\n      <td>4.0</td>\n    </tr>\n    <tr>\n      <th>2694</th>\n      <td>029</td>\n      <td>UT</td>\n      <td>Morgan County</td>\n      <td>4.1</td>\n    </tr>\n  </tbody>\n</table>\n</div>"
     },
     "metadata": {},
     "output_type": "display_data"
    },
    {
     "data": {
      "text/plain": "     County FIPS Code Postal Code                  Name  \\\n2330              137          SD        Ziebach County   \n2324              121          SD           Todd County   \n228               025          CO        Crowley County   \n2272              017          SD        Buffalo County   \n1316              021          MS      Claiborne County   \n2279              031          SD         Corson County   \n1347              083          MS        Leflore County   \n988               051          KY           Clay County   \n2315              102          SD  Oglala Lakota County   \n1010              095          KY         Harlan County   \n\n      Poverty Percent, All Ages  \n2330                  56.700001  \n2324                  50.400002  \n228                   47.400002  \n2272                  43.299999  \n1316                  42.599998  \n2279                  42.400002  \n1347                  42.200001  \n988                   41.700001  \n2315                  41.500000  \n1010                  41.500000  ",
      "text/html": "<div>\n<style scoped>\n    .dataframe tbody tr th:only-of-type {\n        vertical-align: middle;\n    }\n\n    .dataframe tbody tr th {\n        vertical-align: top;\n    }\n\n    .dataframe thead th {\n        text-align: right;\n    }\n</style>\n<table border=\"1\" class=\"dataframe\">\n  <thead>\n    <tr style=\"text-align: right;\">\n      <th></th>\n      <th>County FIPS Code</th>\n      <th>Postal Code</th>\n      <th>Name</th>\n      <th>Poverty Percent, All Ages</th>\n    </tr>\n  </thead>\n  <tbody>\n    <tr>\n      <th>2330</th>\n      <td>137</td>\n      <td>SD</td>\n      <td>Ziebach County</td>\n      <td>56.700001</td>\n    </tr>\n    <tr>\n      <th>2324</th>\n      <td>121</td>\n      <td>SD</td>\n      <td>Todd County</td>\n      <td>50.400002</td>\n    </tr>\n    <tr>\n      <th>228</th>\n      <td>025</td>\n      <td>CO</td>\n      <td>Crowley County</td>\n      <td>47.400002</td>\n    </tr>\n    <tr>\n      <th>2272</th>\n      <td>017</td>\n      <td>SD</td>\n      <td>Buffalo County</td>\n      <td>43.299999</td>\n    </tr>\n    <tr>\n      <th>1316</th>\n      <td>021</td>\n      <td>MS</td>\n      <td>Claiborne County</td>\n      <td>42.599998</td>\n    </tr>\n    <tr>\n      <th>2279</th>\n      <td>031</td>\n      <td>SD</td>\n      <td>Corson County</td>\n      <td>42.400002</td>\n    </tr>\n    <tr>\n      <th>1347</th>\n      <td>083</td>\n      <td>MS</td>\n      <td>Leflore County</td>\n      <td>42.200001</td>\n    </tr>\n    <tr>\n      <th>988</th>\n      <td>051</td>\n      <td>KY</td>\n      <td>Clay County</td>\n      <td>41.700001</td>\n    </tr>\n    <tr>\n      <th>2315</th>\n      <td>102</td>\n      <td>SD</td>\n      <td>Oglala Lakota County</td>\n      <td>41.500000</td>\n    </tr>\n    <tr>\n      <th>1010</th>\n      <td>095</td>\n      <td>KY</td>\n      <td>Harlan County</td>\n      <td>41.500000</td>\n    </tr>\n  </tbody>\n</table>\n</div>"
     },
     "metadata": {},
     "output_type": "display_data"
    }
   ],
   "source": [
    "display(pov_rate_2017.sort_values(by='Poverty Percent, All Ages').head(10))\n",
    "display(pov_rate_2017.sort_values(by='Poverty Percent, All Ages', ascending=False).head(10))"
   ],
   "metadata": {
    "collapsed": false,
    "pycharm": {
     "name": "#%%\n"
    }
   }
  },
  {
   "cell_type": "markdown",
   "source": [
    "* Puerto Rico is not found and that is because poverty county data for Puerto Rico is in a separate set\n",
    "* Need to add Puerto Rico"
   ],
   "metadata": {
    "collapsed": false,
    "pycharm": {
     "name": "#%% md\n"
    }
   }
  },
  {
   "cell_type": "markdown",
   "source": [
    "# Repeat clean up steps on saipe data 2018\n"
   ],
   "metadata": {
    "collapsed": false,
    "pycharm": {
     "name": "#%% md\n"
    }
   }
  },
  {
   "cell_type": "code",
   "execution_count": 57,
   "outputs": [
    {
     "data": {
      "text/plain": "     State FIPS Code County FIPS Code Postal Code               Name  \\\n0                 00              000          US      United States   \n1                 01              000          AL            Alabama   \n2                 01              001          AL     Autauga County   \n3                 01              003          AL     Baldwin County   \n4                 01              005          AL     Barbour County   \n...              ...              ...         ...                ...   \n3189              56              037          WY  Sweetwater County   \n3190              56              039          WY       Teton County   \n3191              56              041          WY       Uinta County   \n3192              56              043          WY    Washakie County   \n3193              56              045          WY      Weston County   \n\n     Poverty Estimate, All Ages 90% CI Lower Bound 90% CI Upper Bound  \\\n0                      41852315           41619366           42085264   \n1                        801758             785668             817848   \n2                          7587               6334               8840   \n3                         21069              17390              24748   \n4                          6788               5662               7914   \n...                         ...                ...                ...   \n3189                       3540               2804               4276   \n3190                       1443               1137               1749   \n3191                       2010               1585               2435   \n3192                        918                700               1136   \n3193                        777                608                946   \n\n     Poverty Percent, All Ages 90% CI Lower Bound 90% CI Upper Bound  ...  \\\n0                         13.1                 13               13.2  ...   \n1                         16.8               16.5               17.1  ...   \n2                         13.8               11.5               16.1  ...   \n3                          9.8                8.1               11.5  ...   \n4                         30.9               25.8                 36  ...   \n...                        ...                ...                ...  ...   \n3189                       8.4                6.7               10.1  ...   \n3190                       6.3                  5                7.6  ...   \n3191                        10                7.9               12.1  ...   \n3192                      11.9                9.1               14.7  ...   \n3193                      11.8                9.2               14.4  ...   \n\n     90% CI Upper Bound Median Household Income 90% CI Lower Bound  \\\n0                  17.2                   61937              61843   \n1                  23.7                   49881              49123   \n2                  23.9                   59338              53628   \n3                  16.9                   57588              54437   \n4                  45.9                   34382              31157   \n...                 ...                     ...                ...   \n3189               11.2                   73315              67141   \n3190                7.7                   99087              88142   \n3191                 14                   63401              56812   \n3192               19.3                   55190              49263   \n3193               19.1                   54319              48315   \n\n     90% CI Upper Bound Poverty Estimate, Age 0-4 90% CI Lower Bound  \\\n0                 62031                   3758704            3714862   \n1                 50639                     73915              69990   \n2                 65048                         .                  .   \n3                 60739                         .                  .   \n4                 37607                         .                  .   \n...                 ...                       ...                ...   \n3189              79489                         .                  .   \n3190             110032                         .                  .   \n3191              69990                         .                  .   \n3192              61117                         .                  .   \n3193              60323                         .                  .   \n\n     90% CI Upper Bound Poverty Percent, Age 0-4 90% CI Lower Bound  \\\n0               3802546                     19.5               19.3   \n1                 77840                       26               24.6   \n2                     .                        .                  .   \n3                     .                        .                  .   \n4                     .                        .                  .   \n...                 ...                      ...                ...   \n3189                  .                        .                  .   \n3190                  .                        .                  .   \n3191                  .                        .                  .   \n3192                  .                        .                  .   \n3193                  .                        .                  .   \n\n     90% CI Upper Bound  \n0                  19.7  \n1                  27.4  \n2                     .  \n3                     .  \n4                     .  \n...                 ...  \n3189                  .  \n3190                  .  \n3191                  .  \n3192                  .  \n3193                  .  \n\n[3194 rows x 31 columns]",
      "text/html": "<div>\n<style scoped>\n    .dataframe tbody tr th:only-of-type {\n        vertical-align: middle;\n    }\n\n    .dataframe tbody tr th {\n        vertical-align: top;\n    }\n\n    .dataframe thead th {\n        text-align: right;\n    }\n</style>\n<table border=\"1\" class=\"dataframe\">\n  <thead>\n    <tr style=\"text-align: right;\">\n      <th></th>\n      <th>State FIPS Code</th>\n      <th>County FIPS Code</th>\n      <th>Postal Code</th>\n      <th>Name</th>\n      <th>Poverty Estimate, All Ages</th>\n      <th>90% CI Lower Bound</th>\n      <th>90% CI Upper Bound</th>\n      <th>Poverty Percent, All Ages</th>\n      <th>90% CI Lower Bound</th>\n      <th>90% CI Upper Bound</th>\n      <th>...</th>\n      <th>90% CI Upper Bound</th>\n      <th>Median Household Income</th>\n      <th>90% CI Lower Bound</th>\n      <th>90% CI Upper Bound</th>\n      <th>Poverty Estimate, Age 0-4</th>\n      <th>90% CI Lower Bound</th>\n      <th>90% CI Upper Bound</th>\n      <th>Poverty Percent, Age 0-4</th>\n      <th>90% CI Lower Bound</th>\n      <th>90% CI Upper Bound</th>\n    </tr>\n  </thead>\n  <tbody>\n    <tr>\n      <th>0</th>\n      <td>00</td>\n      <td>000</td>\n      <td>US</td>\n      <td>United States</td>\n      <td>41852315</td>\n      <td>41619366</td>\n      <td>42085264</td>\n      <td>13.1</td>\n      <td>13</td>\n      <td>13.2</td>\n      <td>...</td>\n      <td>17.2</td>\n      <td>61937</td>\n      <td>61843</td>\n      <td>62031</td>\n      <td>3758704</td>\n      <td>3714862</td>\n      <td>3802546</td>\n      <td>19.5</td>\n      <td>19.3</td>\n      <td>19.7</td>\n    </tr>\n    <tr>\n      <th>1</th>\n      <td>01</td>\n      <td>000</td>\n      <td>AL</td>\n      <td>Alabama</td>\n      <td>801758</td>\n      <td>785668</td>\n      <td>817848</td>\n      <td>16.8</td>\n      <td>16.5</td>\n      <td>17.1</td>\n      <td>...</td>\n      <td>23.7</td>\n      <td>49881</td>\n      <td>49123</td>\n      <td>50639</td>\n      <td>73915</td>\n      <td>69990</td>\n      <td>77840</td>\n      <td>26</td>\n      <td>24.6</td>\n      <td>27.4</td>\n    </tr>\n    <tr>\n      <th>2</th>\n      <td>01</td>\n      <td>001</td>\n      <td>AL</td>\n      <td>Autauga County</td>\n      <td>7587</td>\n      <td>6334</td>\n      <td>8840</td>\n      <td>13.8</td>\n      <td>11.5</td>\n      <td>16.1</td>\n      <td>...</td>\n      <td>23.9</td>\n      <td>59338</td>\n      <td>53628</td>\n      <td>65048</td>\n      <td>.</td>\n      <td>.</td>\n      <td>.</td>\n      <td>.</td>\n      <td>.</td>\n      <td>.</td>\n    </tr>\n    <tr>\n      <th>3</th>\n      <td>01</td>\n      <td>003</td>\n      <td>AL</td>\n      <td>Baldwin County</td>\n      <td>21069</td>\n      <td>17390</td>\n      <td>24748</td>\n      <td>9.8</td>\n      <td>8.1</td>\n      <td>11.5</td>\n      <td>...</td>\n      <td>16.9</td>\n      <td>57588</td>\n      <td>54437</td>\n      <td>60739</td>\n      <td>.</td>\n      <td>.</td>\n      <td>.</td>\n      <td>.</td>\n      <td>.</td>\n      <td>.</td>\n    </tr>\n    <tr>\n      <th>4</th>\n      <td>01</td>\n      <td>005</td>\n      <td>AL</td>\n      <td>Barbour County</td>\n      <td>6788</td>\n      <td>5662</td>\n      <td>7914</td>\n      <td>30.9</td>\n      <td>25.8</td>\n      <td>36</td>\n      <td>...</td>\n      <td>45.9</td>\n      <td>34382</td>\n      <td>31157</td>\n      <td>37607</td>\n      <td>.</td>\n      <td>.</td>\n      <td>.</td>\n      <td>.</td>\n      <td>.</td>\n      <td>.</td>\n    </tr>\n    <tr>\n      <th>...</th>\n      <td>...</td>\n      <td>...</td>\n      <td>...</td>\n      <td>...</td>\n      <td>...</td>\n      <td>...</td>\n      <td>...</td>\n      <td>...</td>\n      <td>...</td>\n      <td>...</td>\n      <td>...</td>\n      <td>...</td>\n      <td>...</td>\n      <td>...</td>\n      <td>...</td>\n      <td>...</td>\n      <td>...</td>\n      <td>...</td>\n      <td>...</td>\n      <td>...</td>\n      <td>...</td>\n    </tr>\n    <tr>\n      <th>3189</th>\n      <td>56</td>\n      <td>037</td>\n      <td>WY</td>\n      <td>Sweetwater County</td>\n      <td>3540</td>\n      <td>2804</td>\n      <td>4276</td>\n      <td>8.4</td>\n      <td>6.7</td>\n      <td>10.1</td>\n      <td>...</td>\n      <td>11.2</td>\n      <td>73315</td>\n      <td>67141</td>\n      <td>79489</td>\n      <td>.</td>\n      <td>.</td>\n      <td>.</td>\n      <td>.</td>\n      <td>.</td>\n      <td>.</td>\n    </tr>\n    <tr>\n      <th>3190</th>\n      <td>56</td>\n      <td>039</td>\n      <td>WY</td>\n      <td>Teton County</td>\n      <td>1443</td>\n      <td>1137</td>\n      <td>1749</td>\n      <td>6.3</td>\n      <td>5</td>\n      <td>7.6</td>\n      <td>...</td>\n      <td>7.7</td>\n      <td>99087</td>\n      <td>88142</td>\n      <td>110032</td>\n      <td>.</td>\n      <td>.</td>\n      <td>.</td>\n      <td>.</td>\n      <td>.</td>\n      <td>.</td>\n    </tr>\n    <tr>\n      <th>3191</th>\n      <td>56</td>\n      <td>041</td>\n      <td>WY</td>\n      <td>Uinta County</td>\n      <td>2010</td>\n      <td>1585</td>\n      <td>2435</td>\n      <td>10</td>\n      <td>7.9</td>\n      <td>12.1</td>\n      <td>...</td>\n      <td>14</td>\n      <td>63401</td>\n      <td>56812</td>\n      <td>69990</td>\n      <td>.</td>\n      <td>.</td>\n      <td>.</td>\n      <td>.</td>\n      <td>.</td>\n      <td>.</td>\n    </tr>\n    <tr>\n      <th>3192</th>\n      <td>56</td>\n      <td>043</td>\n      <td>WY</td>\n      <td>Washakie County</td>\n      <td>918</td>\n      <td>700</td>\n      <td>1136</td>\n      <td>11.9</td>\n      <td>9.1</td>\n      <td>14.7</td>\n      <td>...</td>\n      <td>19.3</td>\n      <td>55190</td>\n      <td>49263</td>\n      <td>61117</td>\n      <td>.</td>\n      <td>.</td>\n      <td>.</td>\n      <td>.</td>\n      <td>.</td>\n      <td>.</td>\n    </tr>\n    <tr>\n      <th>3193</th>\n      <td>56</td>\n      <td>045</td>\n      <td>WY</td>\n      <td>Weston County</td>\n      <td>777</td>\n      <td>608</td>\n      <td>946</td>\n      <td>11.8</td>\n      <td>9.2</td>\n      <td>14.4</td>\n      <td>...</td>\n      <td>19.1</td>\n      <td>54319</td>\n      <td>48315</td>\n      <td>60323</td>\n      <td>.</td>\n      <td>.</td>\n      <td>.</td>\n      <td>.</td>\n      <td>.</td>\n      <td>.</td>\n    </tr>\n  </tbody>\n</table>\n<p>3194 rows × 31 columns</p>\n</div>"
     },
     "execution_count": 57,
     "metadata": {},
     "output_type": "execute_result"
    }
   ],
   "source": [
    "# clean up saipe data 2018\n",
    "\n",
    "saipe_header = saipe2018.iloc[2, :].values\n",
    "saipe_header\n",
    "saipe2018.columns = saipe_header\n",
    "saipe2018.drop([0,1,2], inplace=True)\n",
    "saipe2018.reset_index(drop=True, inplace=True)\n",
    "saipe2018"
   ],
   "metadata": {
    "collapsed": false,
    "pycharm": {
     "name": "#%%\n"
    }
   }
  },
  {
   "cell_type": "code",
   "execution_count": 58,
   "outputs": [
    {
     "data": {
      "text/plain": "     County FIPS Code Postal Code               Name Poverty Percent, All Ages\n0                 001          AL     Autauga County                      13.8\n1                 003          AL     Baldwin County                       9.8\n2                 005          AL     Barbour County                      30.9\n3                 007          AL        Bibb County                      21.8\n4                 009          AL      Blount County                      13.2\n...               ...         ...                ...                       ...\n3002              037          WY  Sweetwater County                       8.4\n3003              039          WY       Teton County                       6.3\n3004              041          WY       Uinta County                        10\n3005              043          WY    Washakie County                      11.9\n3006              045          WY      Weston County                      11.8\n\n[3007 rows x 4 columns]",
      "text/html": "<div>\n<style scoped>\n    .dataframe tbody tr th:only-of-type {\n        vertical-align: middle;\n    }\n\n    .dataframe tbody tr th {\n        vertical-align: top;\n    }\n\n    .dataframe thead th {\n        text-align: right;\n    }\n</style>\n<table border=\"1\" class=\"dataframe\">\n  <thead>\n    <tr style=\"text-align: right;\">\n      <th></th>\n      <th>County FIPS Code</th>\n      <th>Postal Code</th>\n      <th>Name</th>\n      <th>Poverty Percent, All Ages</th>\n    </tr>\n  </thead>\n  <tbody>\n    <tr>\n      <th>0</th>\n      <td>001</td>\n      <td>AL</td>\n      <td>Autauga County</td>\n      <td>13.8</td>\n    </tr>\n    <tr>\n      <th>1</th>\n      <td>003</td>\n      <td>AL</td>\n      <td>Baldwin County</td>\n      <td>9.8</td>\n    </tr>\n    <tr>\n      <th>2</th>\n      <td>005</td>\n      <td>AL</td>\n      <td>Barbour County</td>\n      <td>30.9</td>\n    </tr>\n    <tr>\n      <th>3</th>\n      <td>007</td>\n      <td>AL</td>\n      <td>Bibb County</td>\n      <td>21.8</td>\n    </tr>\n    <tr>\n      <th>4</th>\n      <td>009</td>\n      <td>AL</td>\n      <td>Blount County</td>\n      <td>13.2</td>\n    </tr>\n    <tr>\n      <th>...</th>\n      <td>...</td>\n      <td>...</td>\n      <td>...</td>\n      <td>...</td>\n    </tr>\n    <tr>\n      <th>3002</th>\n      <td>037</td>\n      <td>WY</td>\n      <td>Sweetwater County</td>\n      <td>8.4</td>\n    </tr>\n    <tr>\n      <th>3003</th>\n      <td>039</td>\n      <td>WY</td>\n      <td>Teton County</td>\n      <td>6.3</td>\n    </tr>\n    <tr>\n      <th>3004</th>\n      <td>041</td>\n      <td>WY</td>\n      <td>Uinta County</td>\n      <td>10</td>\n    </tr>\n    <tr>\n      <th>3005</th>\n      <td>043</td>\n      <td>WY</td>\n      <td>Washakie County</td>\n      <td>11.9</td>\n    </tr>\n    <tr>\n      <th>3006</th>\n      <td>045</td>\n      <td>WY</td>\n      <td>Weston County</td>\n      <td>11.8</td>\n    </tr>\n  </tbody>\n</table>\n<p>3007 rows × 4 columns</p>\n</div>"
     },
     "metadata": {},
     "output_type": "display_data"
    }
   ],
   "source": [
    "saipe2018.columns\n",
    "saipe2018.iloc[:, [1,2,3,4,7]]\n",
    "saipe_county = saipe2018['Name'].str.contains('County')\n",
    "pov_rate_2018 = saipe2018.loc[saipe_county].iloc[:, [1,2,3, 7]]\n",
    "pov_rate_2018.reset_index(drop=True, inplace=True)\n",
    "display(pov_rate_2018)"
   ],
   "metadata": {
    "collapsed": false,
    "pycharm": {
     "name": "#%%\n"
    }
   }
  },
  {
   "cell_type": "markdown",
   "source": [
    "* Remove empty cells and clean up columns\n",
    "* Retain only US county information and poverty rates for all ages\n"
   ],
   "metadata": {
    "collapsed": false
   }
  },
  {
   "cell_type": "code",
   "execution_count": 59,
   "outputs": [
    {
     "name": "stdout",
     "output_type": "stream",
     "text": [
      "County FIPS Code             0\n",
      "Postal Code                  0\n",
      "Name                         0\n",
      "Poverty Percent, All Ages    0\n",
      "dtype: int64\n",
      "0\n",
      "<class 'pandas.core.frame.DataFrame'>\n",
      "RangeIndex: 3007 entries, 0 to 3006\n",
      "Data columns (total 4 columns):\n",
      " #   Column                     Non-Null Count  Dtype \n",
      "---  ------                     --------------  ----- \n",
      " 0   County FIPS Code           3007 non-null   object\n",
      " 1   Postal Code                3007 non-null   object\n",
      " 2   Name                       3007 non-null   object\n",
      " 3   Poverty Percent, All Ages  3007 non-null   object\n",
      "dtypes: object(4)\n",
      "memory usage: 94.1+ KB\n"
     ]
    },
    {
     "data": {
      "text/plain": "None"
     },
     "metadata": {},
     "output_type": "display_data"
    }
   ],
   "source": [
    "print(pov_rate_2018.isnull().sum())\n",
    "print(pov_rate_2018.duplicated().sum())\n",
    "display(pov_rate_2018.info())"
   ],
   "metadata": {
    "collapsed": false,
    "pycharm": {
     "name": "#%%\n"
    }
   }
  },
  {
   "cell_type": "markdown",
   "source": [
    "* No duplicates or missing values for poverty rates in 2018\n",
    "* also convert poverty percent to float"
   ],
   "metadata": {
    "collapsed": false
   }
  },
  {
   "cell_type": "code",
   "execution_count": 60,
   "outputs": [],
   "source": [
    "pov_rate_2018.drop(518, inplace=True)\n",
    "pov_rate_2018['Poverty Percent, All Ages'] = pd.to_numeric(pov_rate_2018['Poverty Percent, All Ages'], downcast='float')\n"
   ],
   "metadata": {
    "collapsed": false,
    "pycharm": {
     "name": "#%%\n"
    }
   }
  },
  {
   "cell_type": "markdown",
   "source": [
    "* from further inspection it was noted that Kalawao county is now excluded in their survey results starting 2017\n",
    "* Kalawao county records removed\n",
    "* Poverty rates in Hawaii appear to around 10-20s"
   ],
   "metadata": {
    "collapsed": false
   }
  },
  {
   "cell_type": "code",
   "execution_count": 61,
   "outputs": [
    {
     "name": "stderr",
     "output_type": "stream",
     "text": [
      "No handles with labels found to put in legend.\n"
     ]
    },
    {
     "data": {
      "text/plain": "<Figure size 1440x1440 with 1 Axes>",
      "image/png": "[encoded data removed]"
     },
     "metadata": {},
     "output_type": "display_data"
    }
   ],
   "source": [
    "fig, ax = plt.subplots(figsize=(20,20))\n",
    "\n",
    "plt.title('Poverty rate vs Counties 2018')\n",
    "plt.xlabel('Counties')\n",
    "plt.ylabel('Poverty rate')\n",
    "ax.hist(pov_rate_2018['Poverty Percent, All Ages'], bins=100)\n",
    "ax.legend(bbox_to_anchor=(1.05,1))\n",
    "plt.show()"
   ],
   "metadata": {
    "collapsed": false,
    "pycharm": {
     "name": "#%%\n"
    }
   }
  },
  {
   "cell_type": "code",
   "execution_count": 62,
   "outputs": [
    {
     "data": {
      "text/plain": "     County FIPS Code Postal Code               Name  \\\n233               035          CO     Douglas County   \n2576              301          TX      Loving County   \n2775              107          VA     Loudoun County   \n2424              187          TN  Williamson County   \n1228              019          MN      Carver County   \n1713              028          NM  Los Alamos County   \n2694              029          UT      Morgan County   \n1966              041          OH    Delaware County   \n611               093          IL     Kendall County   \n2957              089          WI     Ozaukee County   \n\n      Poverty Percent, All Ages  \n233                         2.6  \n2576                        3.3  \n2775                        3.6  \n2424                        3.8  \n1228                        3.8  \n1713                        3.9  \n2694                        4.0  \n1966                        4.1  \n611                         4.2  \n2957                        4.2  ",
      "text/html": "<div>\n<style scoped>\n    .dataframe tbody tr th:only-of-type {\n        vertical-align: middle;\n    }\n\n    .dataframe tbody tr th {\n        vertical-align: top;\n    }\n\n    .dataframe thead th {\n        text-align: right;\n    }\n</style>\n<table border=\"1\" class=\"dataframe\">\n  <thead>\n    <tr style=\"text-align: right;\">\n      <th></th>\n      <th>County FIPS Code</th>\n      <th>Postal Code</th>\n      <th>Name</th>\n      <th>Poverty Percent, All Ages</th>\n    </tr>\n  </thead>\n  <tbody>\n    <tr>\n      <th>233</th>\n      <td>035</td>\n      <td>CO</td>\n      <td>Douglas County</td>\n      <td>2.6</td>\n    </tr>\n    <tr>\n      <th>2576</th>\n      <td>301</td>\n      <td>TX</td>\n      <td>Loving County</td>\n      <td>3.3</td>\n    </tr>\n    <tr>\n      <th>2775</th>\n      <td>107</td>\n      <td>VA</td>\n      <td>Loudoun County</td>\n      <td>3.6</td>\n    </tr>\n    <tr>\n      <th>2424</th>\n      <td>187</td>\n      <td>TN</td>\n      <td>Williamson County</td>\n      <td>3.8</td>\n    </tr>\n    <tr>\n      <th>1228</th>\n      <td>019</td>\n      <td>MN</td>\n      <td>Carver County</td>\n      <td>3.8</td>\n    </tr>\n    <tr>\n      <th>1713</th>\n      <td>028</td>\n      <td>NM</td>\n      <td>Los Alamos County</td>\n      <td>3.9</td>\n    </tr>\n    <tr>\n      <th>2694</th>\n      <td>029</td>\n      <td>UT</td>\n      <td>Morgan County</td>\n      <td>4.0</td>\n    </tr>\n    <tr>\n      <th>1966</th>\n      <td>041</td>\n      <td>OH</td>\n      <td>Delaware County</td>\n      <td>4.1</td>\n    </tr>\n    <tr>\n      <th>611</th>\n      <td>093</td>\n      <td>IL</td>\n      <td>Kendall County</td>\n      <td>4.2</td>\n    </tr>\n    <tr>\n      <th>2957</th>\n      <td>089</td>\n      <td>WI</td>\n      <td>Ozaukee County</td>\n      <td>4.2</td>\n    </tr>\n  </tbody>\n</table>\n</div>"
     },
     "metadata": {},
     "output_type": "display_data"
    },
    {
     "data": {
      "text/plain": "     County FIPS Code Postal Code                  Name  \\\n2315              102          SD  Oglala Lakota County   \n2324              121          SD           Todd County   \n2272              017          SD        Buffalo County   \n228               025          CO        Crowley County   \n2330              137          SD        Ziebach County   \n120               077          AR            Lee County   \n5                 011          AL        Bullock County   \n1333              055          MS      Issaquena County   \n509               309          GA        Wheeler County   \n1057              189          KY         Owsley County   \n\n      Poverty Percent, All Ages  \n2315                  54.000000  \n2324                  48.400002  \n2272                  45.700001  \n228                   44.299999  \n2330                  43.900002  \n120                   43.000000  \n5                     42.500000  \n1333                  40.500000  \n509                   39.599998  \n1057                  39.200001  ",
      "text/html": "<div>\n<style scoped>\n    .dataframe tbody tr th:only-of-type {\n        vertical-align: middle;\n    }\n\n    .dataframe tbody tr th {\n        vertical-align: top;\n    }\n\n    .dataframe thead th {\n        text-align: right;\n    }\n</style>\n<table border=\"1\" class=\"dataframe\">\n  <thead>\n    <tr style=\"text-align: right;\">\n      <th></th>\n      <th>County FIPS Code</th>\n      <th>Postal Code</th>\n      <th>Name</th>\n      <th>Poverty Percent, All Ages</th>\n    </tr>\n  </thead>\n  <tbody>\n    <tr>\n      <th>2315</th>\n      <td>102</td>\n      <td>SD</td>\n      <td>Oglala Lakota County</td>\n      <td>54.000000</td>\n    </tr>\n    <tr>\n      <th>2324</th>\n      <td>121</td>\n      <td>SD</td>\n      <td>Todd County</td>\n      <td>48.400002</td>\n    </tr>\n    <tr>\n      <th>2272</th>\n      <td>017</td>\n      <td>SD</td>\n      <td>Buffalo County</td>\n      <td>45.700001</td>\n    </tr>\n    <tr>\n      <th>228</th>\n      <td>025</td>\n      <td>CO</td>\n      <td>Crowley County</td>\n      <td>44.299999</td>\n    </tr>\n    <tr>\n      <th>2330</th>\n      <td>137</td>\n      <td>SD</td>\n      <td>Ziebach County</td>\n      <td>43.900002</td>\n    </tr>\n    <tr>\n      <th>120</th>\n      <td>077</td>\n      <td>AR</td>\n      <td>Lee County</td>\n      <td>43.000000</td>\n    </tr>\n    <tr>\n      <th>5</th>\n      <td>011</td>\n      <td>AL</td>\n      <td>Bullock County</td>\n      <td>42.500000</td>\n    </tr>\n    <tr>\n      <th>1333</th>\n      <td>055</td>\n      <td>MS</td>\n      <td>Issaquena County</td>\n      <td>40.500000</td>\n    </tr>\n    <tr>\n      <th>509</th>\n      <td>309</td>\n      <td>GA</td>\n      <td>Wheeler County</td>\n      <td>39.599998</td>\n    </tr>\n    <tr>\n      <th>1057</th>\n      <td>189</td>\n      <td>KY</td>\n      <td>Owsley County</td>\n      <td>39.200001</td>\n    </tr>\n  </tbody>\n</table>\n</div>"
     },
     "metadata": {},
     "output_type": "display_data"
    }
   ],
   "source": [
    "display(pov_rate_2018.sort_values(by='Poverty Percent, All Ages').head(10))\n",
    "display(pov_rate_2018.sort_values(by='Poverty Percent, All Ages', ascending=False).head(10))"
   ],
   "metadata": {
    "collapsed": false,
    "pycharm": {
     "name": "#%%\n"
    }
   }
  },
  {
   "cell_type": "markdown",
   "source": [
    "* Puerto Rico is not found and that is because poverty county data for Puerto Rico is in a separate set\n",
    "* But poverty ranking appear to be same from 2017"
   ],
   "metadata": {
    "collapsed": false
   }
  },
  {
   "cell_type": "markdown",
   "source": [
    "# Repeat clean up steps for saipe data 2019"
   ],
   "metadata": {
    "collapsed": false,
    "pycharm": {
     "name": "#%% md\n"
    }
   }
  },
  {
   "cell_type": "code",
   "execution_count": 63,
   "outputs": [
    {
     "data": {
      "text/plain": "     State FIPS Code County FIPS Code Postal Code               Name  \\\n0                 00              000          US      United States   \n1                 01              000          AL            Alabama   \n2                 01              001          AL     Autauga County   \n3                 01              003          AL     Baldwin County   \n4                 01              005          AL     Barbour County   \n...              ...              ...         ...                ...   \n3189              56              037          WY  Sweetwater County   \n3190              56              039          WY       Teton County   \n3191              56              041          WY       Uinta County   \n3192              56              043          WY    Washakie County   \n3193              56              045          WY      Weston County   \n\n     Poverty Estimate, All Ages 90% CI Lower Bound 90% CI Upper Bound  \\\n0                      39490096           39248096           39732096   \n1                        747478             730491             764465   \n2                          6723               5517               7929   \n3                         22360              18541              26179   \n4                          5909               4787               7031   \n...                         ...                ...                ...   \n3189                       3453               2743               4163   \n3190                       1396               1073               1719   \n3191                       1699               1264               2134   \n3192                        845                626               1064   \n3193                        692                523                861   \n\n     Poverty Percent, All Ages 90% CI Lower Bound 90% CI Upper Bound  ...  \\\n0                         12.3               12.2               12.4  ...   \n1                         15.6               15.2                 16  ...   \n2                         12.1                9.9               14.3  ...   \n3                         10.1                8.4               11.8  ...   \n4                         27.1                 22               32.2  ...   \n...                        ...                ...                ...  ...   \n3189                       8.3                6.6                 10  ...   \n3190                         6                4.6                7.4  ...   \n3191                       8.5                6.3               10.7  ...   \n3192                      11.1                8.2                 14  ...   \n3193                      10.5                7.9               13.1  ...   \n\n     90% CI Upper Bound Median Household Income 90% CI Lower Bound  \\\n0                    16                   65712              65594   \n1                  21.6                   51771              51179   \n2                  19.4                   58233              52517   \n3                  17.2                   59871              54593   \n4                    49                   35972              31822   \n...                 ...                     ...                ...   \n3189               11.1                   80639              73437   \n3190                6.7                   98837              86531   \n3191               11.1                   70756              63191   \n3192               17.4                   55122              50050   \n3193               16.7                   59410              52275   \n\n     90% CI Upper Bound Poverty Estimate, Age 0-4 90% CI Lower Bound  \\\n0                 65830                   3457689            3405854   \n1                 52363                     69236              65296   \n2                 63949                         .                  .   \n3                 65149                         .                  .   \n4                 40122                         .                  .   \n...                 ...                       ...                ...   \n3189              87841                         .                  .   \n3190             111143                         .                  .   \n3191              78321                         .                  .   \n3192              60194                         .                  .   \n3193              66545                         .                  .   \n\n     90% CI Upper Bound Poverty Percent, Age 0-4 90% CI Lower Bound  \\\n0               3509524                     18.2               17.9   \n1                 73176                     24.2               22.8   \n2                     .                        .                  .   \n3                     .                        .                  .   \n4                     .                        .                  .   \n...                 ...                      ...                ...   \n3189                  .                        .                  .   \n3190                  .                        .                  .   \n3191                  .                        .                  .   \n3192                  .                        .                  .   \n3193                  .                        .                  .   \n\n     90% CI Upper Bound  \n0                  18.5  \n1                  25.6  \n2                     .  \n3                     .  \n4                     .  \n...                 ...  \n3189                  .  \n3190                  .  \n3191                  .  \n3192                  .  \n3193                  .  \n\n[3194 rows x 31 columns]",
      "text/html": "<div>\n<style scoped>\n    .dataframe tbody tr th:only-of-type {\n        vertical-align: middle;\n    }\n\n    .dataframe tbody tr th {\n        vertical-align: top;\n    }\n\n    .dataframe thead th {\n        text-align: right;\n    }\n</style>\n<table border=\"1\" class=\"dataframe\">\n  <thead>\n    <tr style=\"text-align: right;\">\n      <th></th>\n      <th>State FIPS Code</th>\n      <th>County FIPS Code</th>\n      <th>Postal Code</th>\n      <th>Name</th>\n      <th>Poverty Estimate, All Ages</th>\n      <th>90% CI Lower Bound</th>\n      <th>90% CI Upper Bound</th>\n      <th>Poverty Percent, All Ages</th>\n      <th>90% CI Lower Bound</th>\n      <th>90% CI Upper Bound</th>\n      <th>...</th>\n      <th>90% CI Upper Bound</th>\n      <th>Median Household Income</th>\n      <th>90% CI Lower Bound</th>\n      <th>90% CI Upper Bound</th>\n      <th>Poverty Estimate, Age 0-4</th>\n      <th>90% CI Lower Bound</th>\n      <th>90% CI Upper Bound</th>\n      <th>Poverty Percent, Age 0-4</th>\n      <th>90% CI Lower Bound</th>\n      <th>90% CI Upper Bound</th>\n    </tr>\n  </thead>\n  <tbody>\n    <tr>\n      <th>0</th>\n      <td>00</td>\n      <td>000</td>\n      <td>US</td>\n      <td>United States</td>\n      <td>39490096</td>\n      <td>39248096</td>\n      <td>39732096</td>\n      <td>12.3</td>\n      <td>12.2</td>\n      <td>12.4</td>\n      <td>...</td>\n      <td>16</td>\n      <td>65712</td>\n      <td>65594</td>\n      <td>65830</td>\n      <td>3457689</td>\n      <td>3405854</td>\n      <td>3509524</td>\n      <td>18.2</td>\n      <td>17.9</td>\n      <td>18.5</td>\n    </tr>\n    <tr>\n      <th>1</th>\n      <td>01</td>\n      <td>000</td>\n      <td>AL</td>\n      <td>Alabama</td>\n      <td>747478</td>\n      <td>730491</td>\n      <td>764465</td>\n      <td>15.6</td>\n      <td>15.2</td>\n      <td>16</td>\n      <td>...</td>\n      <td>21.6</td>\n      <td>51771</td>\n      <td>51179</td>\n      <td>52363</td>\n      <td>69236</td>\n      <td>65296</td>\n      <td>73176</td>\n      <td>24.2</td>\n      <td>22.8</td>\n      <td>25.6</td>\n    </tr>\n    <tr>\n      <th>2</th>\n      <td>01</td>\n      <td>001</td>\n      <td>AL</td>\n      <td>Autauga County</td>\n      <td>6723</td>\n      <td>5517</td>\n      <td>7929</td>\n      <td>12.1</td>\n      <td>9.9</td>\n      <td>14.3</td>\n      <td>...</td>\n      <td>19.4</td>\n      <td>58233</td>\n      <td>52517</td>\n      <td>63949</td>\n      <td>.</td>\n      <td>.</td>\n      <td>.</td>\n      <td>.</td>\n      <td>.</td>\n      <td>.</td>\n    </tr>\n    <tr>\n      <th>3</th>\n      <td>01</td>\n      <td>003</td>\n      <td>AL</td>\n      <td>Baldwin County</td>\n      <td>22360</td>\n      <td>18541</td>\n      <td>26179</td>\n      <td>10.1</td>\n      <td>8.4</td>\n      <td>11.8</td>\n      <td>...</td>\n      <td>17.2</td>\n      <td>59871</td>\n      <td>54593</td>\n      <td>65149</td>\n      <td>.</td>\n      <td>.</td>\n      <td>.</td>\n      <td>.</td>\n      <td>.</td>\n      <td>.</td>\n    </tr>\n    <tr>\n      <th>4</th>\n      <td>01</td>\n      <td>005</td>\n      <td>AL</td>\n      <td>Barbour County</td>\n      <td>5909</td>\n      <td>4787</td>\n      <td>7031</td>\n      <td>27.1</td>\n      <td>22</td>\n      <td>32.2</td>\n      <td>...</td>\n      <td>49</td>\n      <td>35972</td>\n      <td>31822</td>\n      <td>40122</td>\n      <td>.</td>\n      <td>.</td>\n      <td>.</td>\n      <td>.</td>\n      <td>.</td>\n      <td>.</td>\n    </tr>\n    <tr>\n      <th>...</th>\n      <td>...</td>\n      <td>...</td>\n      <td>...</td>\n      <td>...</td>\n      <td>...</td>\n      <td>...</td>\n      <td>...</td>\n      <td>...</td>\n      <td>...</td>\n      <td>...</td>\n      <td>...</td>\n      <td>...</td>\n      <td>...</td>\n      <td>...</td>\n      <td>...</td>\n      <td>...</td>\n      <td>...</td>\n      <td>...</td>\n      <td>...</td>\n      <td>...</td>\n      <td>...</td>\n    </tr>\n    <tr>\n      <th>3189</th>\n      <td>56</td>\n      <td>037</td>\n      <td>WY</td>\n      <td>Sweetwater County</td>\n      <td>3453</td>\n      <td>2743</td>\n      <td>4163</td>\n      <td>8.3</td>\n      <td>6.6</td>\n      <td>10</td>\n      <td>...</td>\n      <td>11.1</td>\n      <td>80639</td>\n      <td>73437</td>\n      <td>87841</td>\n      <td>.</td>\n      <td>.</td>\n      <td>.</td>\n      <td>.</td>\n      <td>.</td>\n      <td>.</td>\n    </tr>\n    <tr>\n      <th>3190</th>\n      <td>56</td>\n      <td>039</td>\n      <td>WY</td>\n      <td>Teton County</td>\n      <td>1396</td>\n      <td>1073</td>\n      <td>1719</td>\n      <td>6</td>\n      <td>4.6</td>\n      <td>7.4</td>\n      <td>...</td>\n      <td>6.7</td>\n      <td>98837</td>\n      <td>86531</td>\n      <td>111143</td>\n      <td>.</td>\n      <td>.</td>\n      <td>.</td>\n      <td>.</td>\n      <td>.</td>\n      <td>.</td>\n    </tr>\n    <tr>\n      <th>3191</th>\n      <td>56</td>\n      <td>041</td>\n      <td>WY</td>\n      <td>Uinta County</td>\n      <td>1699</td>\n      <td>1264</td>\n      <td>2134</td>\n      <td>8.5</td>\n      <td>6.3</td>\n      <td>10.7</td>\n      <td>...</td>\n      <td>11.1</td>\n      <td>70756</td>\n      <td>63191</td>\n      <td>78321</td>\n      <td>.</td>\n      <td>.</td>\n      <td>.</td>\n      <td>.</td>\n      <td>.</td>\n      <td>.</td>\n    </tr>\n    <tr>\n      <th>3192</th>\n      <td>56</td>\n      <td>043</td>\n      <td>WY</td>\n      <td>Washakie County</td>\n      <td>845</td>\n      <td>626</td>\n      <td>1064</td>\n      <td>11.1</td>\n      <td>8.2</td>\n      <td>14</td>\n      <td>...</td>\n      <td>17.4</td>\n      <td>55122</td>\n      <td>50050</td>\n      <td>60194</td>\n      <td>.</td>\n      <td>.</td>\n      <td>.</td>\n      <td>.</td>\n      <td>.</td>\n      <td>.</td>\n    </tr>\n    <tr>\n      <th>3193</th>\n      <td>56</td>\n      <td>045</td>\n      <td>WY</td>\n      <td>Weston County</td>\n      <td>692</td>\n      <td>523</td>\n      <td>861</td>\n      <td>10.5</td>\n      <td>7.9</td>\n      <td>13.1</td>\n      <td>...</td>\n      <td>16.7</td>\n      <td>59410</td>\n      <td>52275</td>\n      <td>66545</td>\n      <td>.</td>\n      <td>.</td>\n      <td>.</td>\n      <td>.</td>\n      <td>.</td>\n      <td>.</td>\n    </tr>\n  </tbody>\n</table>\n<p>3194 rows × 31 columns</p>\n</div>"
     },
     "execution_count": 63,
     "metadata": {},
     "output_type": "execute_result"
    }
   ],
   "source": [
    "\n",
    "saipe_header = saipe2019.iloc[2, :].values\n",
    "saipe_header\n",
    "saipe2019.columns = saipe_header\n",
    "saipe2019.drop([0,1,2], inplace=True)\n",
    "saipe2019.reset_index(drop=True, inplace=True)\n",
    "saipe2019"
   ],
   "metadata": {
    "collapsed": false,
    "pycharm": {
     "name": "#%%\n"
    }
   }
  },
  {
   "cell_type": "code",
   "execution_count": 64,
   "outputs": [
    {
     "data": {
      "text/plain": "     County FIPS Code Postal Code               Name Poverty Percent, All Ages\n0                 001          AL     Autauga County                      12.1\n1                 003          AL     Baldwin County                      10.1\n2                 005          AL     Barbour County                      27.1\n3                 007          AL        Bibb County                      20.3\n4                 009          AL      Blount County                      16.3\n...               ...         ...                ...                       ...\n3002              037          WY  Sweetwater County                       8.3\n3003              039          WY       Teton County                         6\n3004              041          WY       Uinta County                       8.5\n3005              043          WY    Washakie County                      11.1\n3006              045          WY      Weston County                      10.5\n\n[3007 rows x 4 columns]",
      "text/html": "<div>\n<style scoped>\n    .dataframe tbody tr th:only-of-type {\n        vertical-align: middle;\n    }\n\n    .dataframe tbody tr th {\n        vertical-align: top;\n    }\n\n    .dataframe thead th {\n        text-align: right;\n    }\n</style>\n<table border=\"1\" class=\"dataframe\">\n  <thead>\n    <tr style=\"text-align: right;\">\n      <th></th>\n      <th>County FIPS Code</th>\n      <th>Postal Code</th>\n      <th>Name</th>\n      <th>Poverty Percent, All Ages</th>\n    </tr>\n  </thead>\n  <tbody>\n    <tr>\n      <th>0</th>\n      <td>001</td>\n      <td>AL</td>\n      <td>Autauga County</td>\n      <td>12.1</td>\n    </tr>\n    <tr>\n      <th>1</th>\n      <td>003</td>\n      <td>AL</td>\n      <td>Baldwin County</td>\n      <td>10.1</td>\n    </tr>\n    <tr>\n      <th>2</th>\n      <td>005</td>\n      <td>AL</td>\n      <td>Barbour County</td>\n      <td>27.1</td>\n    </tr>\n    <tr>\n      <th>3</th>\n      <td>007</td>\n      <td>AL</td>\n      <td>Bibb County</td>\n      <td>20.3</td>\n    </tr>\n    <tr>\n      <th>4</th>\n      <td>009</td>\n      <td>AL</td>\n      <td>Blount County</td>\n      <td>16.3</td>\n    </tr>\n    <tr>\n      <th>...</th>\n      <td>...</td>\n      <td>...</td>\n      <td>...</td>\n      <td>...</td>\n    </tr>\n    <tr>\n      <th>3002</th>\n      <td>037</td>\n      <td>WY</td>\n      <td>Sweetwater County</td>\n      <td>8.3</td>\n    </tr>\n    <tr>\n      <th>3003</th>\n      <td>039</td>\n      <td>WY</td>\n      <td>Teton County</td>\n      <td>6</td>\n    </tr>\n    <tr>\n      <th>3004</th>\n      <td>041</td>\n      <td>WY</td>\n      <td>Uinta County</td>\n      <td>8.5</td>\n    </tr>\n    <tr>\n      <th>3005</th>\n      <td>043</td>\n      <td>WY</td>\n      <td>Washakie County</td>\n      <td>11.1</td>\n    </tr>\n    <tr>\n      <th>3006</th>\n      <td>045</td>\n      <td>WY</td>\n      <td>Weston County</td>\n      <td>10.5</td>\n    </tr>\n  </tbody>\n</table>\n<p>3007 rows × 4 columns</p>\n</div>"
     },
     "metadata": {},
     "output_type": "display_data"
    }
   ],
   "source": [
    "saipe2019.columns\n",
    "saipe2019.iloc[:, [1,2,3,4,7]]\n",
    "saipe_county = saipe2019['Name'].str.contains('County')\n",
    "pov_rate_2019 = saipe2019.loc[saipe_county].iloc[:, [1,2,3, 7]]\n",
    "pov_rate_2019.reset_index(drop=True, inplace=True)\n",
    "display(pov_rate_2019)"
   ],
   "metadata": {
    "collapsed": false,
    "pycharm": {
     "name": "#%%\n"
    }
   }
  },
  {
   "cell_type": "markdown",
   "source": [
    "* Remove empty cells and clean up columns\n",
    "* Retain only US county information and poverty rates for all ages\n"
   ],
   "metadata": {
    "collapsed": false
   }
  },
  {
   "cell_type": "code",
   "execution_count": 65,
   "outputs": [
    {
     "name": "stdout",
     "output_type": "stream",
     "text": [
      "County FIPS Code             0\n",
      "Postal Code                  0\n",
      "Name                         0\n",
      "Poverty Percent, All Ages    0\n",
      "dtype: int64\n",
      "0\n",
      "<class 'pandas.core.frame.DataFrame'>\n",
      "RangeIndex: 3007 entries, 0 to 3006\n",
      "Data columns (total 4 columns):\n",
      " #   Column                     Non-Null Count  Dtype \n",
      "---  ------                     --------------  ----- \n",
      " 0   County FIPS Code           3007 non-null   object\n",
      " 1   Postal Code                3007 non-null   object\n",
      " 2   Name                       3007 non-null   object\n",
      " 3   Poverty Percent, All Ages  3007 non-null   object\n",
      "dtypes: object(4)\n",
      "memory usage: 94.1+ KB\n"
     ]
    },
    {
     "data": {
      "text/plain": "None"
     },
     "metadata": {},
     "output_type": "display_data"
    }
   ],
   "source": [
    "print(pov_rate_2019.isnull().sum())\n",
    "print(pov_rate_2019.duplicated().sum())\n",
    "display(pov_rate_2019.info())"
   ],
   "metadata": {
    "collapsed": false,
    "pycharm": {
     "name": "#%%\n"
    }
   }
  },
  {
   "cell_type": "markdown",
   "source": [
    "* No duplicates or missing values for poverty rates in 2018\n",
    "* also convert poverty percent to float"
   ],
   "metadata": {
    "collapsed": false
   }
  },
  {
   "cell_type": "code",
   "execution_count": 66,
   "outputs": [
    {
     "ename": "ValueError",
     "evalue": "Unable to parse string \".\" at position 518",
     "output_type": "error",
     "traceback": [
      "\u001B[0;31m---------------------------------------------------------------------------\u001B[0m",
      "\u001B[0;31mValueError\u001B[0m                                Traceback (most recent call last)",
      "\u001B[0;32mpandas/_libs/lib.pyx\u001B[0m in \u001B[0;36mpandas._libs.lib.maybe_convert_numeric\u001B[0;34m()\u001B[0m\n",
      "\u001B[0;31mValueError\u001B[0m: Unable to parse string \".\"",
      "\nDuring handling of the above exception, another exception occurred:\n",
      "\u001B[0;31mValueError\u001B[0m                                Traceback (most recent call last)",
      "\u001B[0;32m<ipython-input-66-67a1682f8c6a>\u001B[0m in \u001B[0;36m<module>\u001B[0;34m\u001B[0m\n\u001B[1;32m      1\u001B[0m \u001B[0mpov_rate_2019\u001B[0m\u001B[0;34m.\u001B[0m\u001B[0mdrop\u001B[0m\u001B[0;34m(\u001B[0m\u001B[0;36m518\u001B[0m\u001B[0;34m)\u001B[0m\u001B[0;34m\u001B[0m\u001B[0;34m\u001B[0m\u001B[0m\n\u001B[1;32m      2\u001B[0m \u001B[0;34m\u001B[0m\u001B[0m\n\u001B[0;32m----> 3\u001B[0;31m \u001B[0mpov_rate_2019\u001B[0m\u001B[0;34m[\u001B[0m\u001B[0;34m'Poverty Percent, All Ages'\u001B[0m\u001B[0;34m]\u001B[0m \u001B[0;34m=\u001B[0m \u001B[0mpd\u001B[0m\u001B[0;34m.\u001B[0m\u001B[0mto_numeric\u001B[0m\u001B[0;34m(\u001B[0m\u001B[0mpov_rate_2019\u001B[0m\u001B[0;34m[\u001B[0m\u001B[0;34m'Poverty Percent, All Ages'\u001B[0m\u001B[0;34m]\u001B[0m\u001B[0;34m,\u001B[0m \u001B[0mdowncast\u001B[0m\u001B[0;34m=\u001B[0m\u001B[0;34m'float'\u001B[0m\u001B[0;34m)\u001B[0m\u001B[0;34m\u001B[0m\u001B[0;34m\u001B[0m\u001B[0m\n\u001B[0m\u001B[1;32m      4\u001B[0m \u001B[0;34m\u001B[0m\u001B[0m\n\u001B[1;32m      5\u001B[0m \u001B[0;34m\u001B[0m\u001B[0m\n",
      "\u001B[0;32m~/.local/lib/python3.8/site-packages/pandas/core/tools/numeric.py\u001B[0m in \u001B[0;36mto_numeric\u001B[0;34m(arg, errors, downcast)\u001B[0m\n\u001B[1;32m    150\u001B[0m         \u001B[0mcoerce_numeric\u001B[0m \u001B[0;34m=\u001B[0m \u001B[0merrors\u001B[0m \u001B[0;32mnot\u001B[0m \u001B[0;32min\u001B[0m \u001B[0;34m(\u001B[0m\u001B[0;34m\"ignore\"\u001B[0m\u001B[0;34m,\u001B[0m \u001B[0;34m\"raise\"\u001B[0m\u001B[0;34m)\u001B[0m\u001B[0;34m\u001B[0m\u001B[0;34m\u001B[0m\u001B[0m\n\u001B[1;32m    151\u001B[0m         \u001B[0;32mtry\u001B[0m\u001B[0;34m:\u001B[0m\u001B[0;34m\u001B[0m\u001B[0;34m\u001B[0m\u001B[0m\n\u001B[0;32m--> 152\u001B[0;31m             values = lib.maybe_convert_numeric(\n\u001B[0m\u001B[1;32m    153\u001B[0m                 \u001B[0mvalues\u001B[0m\u001B[0;34m,\u001B[0m \u001B[0mset\u001B[0m\u001B[0;34m(\u001B[0m\u001B[0;34m)\u001B[0m\u001B[0;34m,\u001B[0m \u001B[0mcoerce_numeric\u001B[0m\u001B[0;34m=\u001B[0m\u001B[0mcoerce_numeric\u001B[0m\u001B[0;34m\u001B[0m\u001B[0;34m\u001B[0m\u001B[0m\n\u001B[1;32m    154\u001B[0m             )\n",
      "\u001B[0;32mpandas/_libs/lib.pyx\u001B[0m in \u001B[0;36mpandas._libs.lib.maybe_convert_numeric\u001B[0;34m()\u001B[0m\n",
      "\u001B[0;31mValueError\u001B[0m: Unable to parse string \".\" at position 518"
     ]
    }
   ],
   "source": [
    "pov_rate_2019.drop(518)\n",
    "\n",
    "pov_rate_2019['Poverty Percent, All Ages'] = pd.to_numeric(pov_rate_2019['Poverty Percent, All Ages'], downcast='float')\n"
   ],
   "metadata": {
    "collapsed": false,
    "pycharm": {
     "name": "#%%\n"
    }
   }
  },
  {
   "cell_type": "markdown",
   "source": [
    "* from further inspection it was noted that Kalawao county is now excluded in their survey results starting 2017\n",
    "* Kalawao county records removed\n",
    "* Poverty rates in Hawaii appear to around 10-20s"
   ],
   "metadata": {
    "collapsed": false
   }
  },
  {
   "cell_type": "code",
   "execution_count": null,
   "outputs": [],
   "source": [
    "fig, ax = plt.subplots(figsize=(20,20))\n",
    "\n",
    "plt.title('Poverty rate vs Counties 2019')\n",
    "plt.xlabel('Counties')\n",
    "plt.ylabel('Poverty rate')\n",
    "ax.hist(pov_rate_2019['Poverty Percent, All Ages'], bins=100)\n",
    "ax.legend(bbox_to_anchor=(1.05,1))\n",
    "plt.show()"
   ],
   "metadata": {
    "collapsed": false,
    "pycharm": {
     "name": "#%%\n"
    }
   }
  },
  {
   "cell_type": "code",
   "execution_count": null,
   "outputs": [],
   "source": [
    "display(pov_rate_2019.sort_values(by='Poverty Percent, All Ages').head(10))\n",
    "display(pov_rate_2019.sort_values(by='Poverty Percent, All Ages', ascending=False).head(10))"
   ],
   "metadata": {
    "collapsed": false,
    "pycharm": {
     "name": "#%%\n"
    }
   }
  },
  {
   "cell_type": "markdown",
   "source": [
    "* Puerto Rico is not found and that is because poverty county data for Puerto Rico is in a separate set\n",
    "* Need to add Puerto Rico\n",
    "* But poverty ranking appear to be same from 2017-2019"
   ],
   "metadata": {
    "collapsed": false
   }
  },
  {
   "cell_type": "code",
   "execution_count": null,
   "outputs": [],
   "source": [
    "annual_aqi_by_county_2019 = pd.read_csv('../../data/raw/annual_aqi_by_county_2019.csv')"
   ],
   "metadata": {
    "collapsed": false,
    "pycharm": {
     "name": "#%%\n"
    }
   }
  },
  {
   "cell_type": "markdown",
   "source": [
    "# Clean education and vehicle 2017 dataset"
   ],
   "metadata": {
    "collapsed": false,
    "pycharm": {
     "name": "#%% md\n"
    }
   }
  },
  {
   "cell_type": "code",
   "execution_count": 73,
   "outputs": [
    {
     "name": "stdout",
     "output_type": "stream",
     "text": [
      "<class 'pandas.core.frame.DataFrame'>\n",
      "RangeIndex: 837 entries, 0 to 836\n",
      "Data columns (total 12 columns):\n",
      " #   Column            Non-Null Count  Dtype  \n",
      "---  ------            --------------  -----  \n",
      " 0   Unnamed: 0        837 non-null    int64  \n",
      " 1   NAME              837 non-null    object \n",
      " 2   state             837 non-null    int64  \n",
      " 3   county            837 non-null    int64  \n",
      " 4   EDU_TOT           826 non-null    float64\n",
      " 5   LESS_HS_TOT       826 non-null    float64\n",
      " 6   HS_TOT            826 non-null    float64\n",
      " 7   COL_OR_ASSOC_TOT  826 non-null    float64\n",
      " 8   BACH_TOT          826 non-null    float64\n",
      " 9   GRAD_TOT          826 non-null    float64\n",
      " 10  VEHICLE_TOT       837 non-null    int64  \n",
      " 11  WALK_TOT          226 non-null    float64\n",
      "dtypes: float64(7), int64(4), object(1)\n",
      "memory usage: 78.6+ KB\n"
     ]
    }
   ],
   "source": [
    "educ_vehicle_2017.shape\n",
    "educ_vehicle_2017.columns\n",
    "\n",
    "educ_vehicle_2017.info()"
   ],
   "metadata": {
    "collapsed": false,
    "pycharm": {
     "name": "#%%\n"
    }
   }
  },
  {
   "cell_type": "markdown",
   "source": [
    "* Have 837 rows and 12 columns\n",
    "* Category types are appropriate for numerical and nominal columns"
   ],
   "metadata": {
    "collapsed": false,
    "pycharm": {
     "name": "#%% md\n"
    }
   }
  },
  {
   "cell_type": "code",
   "execution_count": 92,
   "outputs": [],
   "source": [
    "# educ_vehicle_2017.drop('Unnamed: 0', axis=1, inplace=True)\n",
    "educ_vehicle_2017['WALK_TOT'].unique()\n",
    "educ_vehicle_2017['WALK_TOT'].isnull().sum()\n",
    "\n",
    "#drop walk b/c too many missing values and only retain counties and drop also drop that row index column\n",
    "educ_vehicle_2017.state.unique()\n",
    "cols_to_remove = ['Unnamed: 0', 'WALK_TOT']\n",
    "educ_vehicle_2017 = remove_col(educ_vehicle_2017, cols_to_remove)"
   ],
   "metadata": {
    "collapsed": false,
    "pycharm": {
     "name": "#%%\n"
    }
   }
  },
  {
   "cell_type": "markdown",
   "source": [
    "* drop first column as it is just an index column\n",
    "* drop total walk column as majority of data is missing\n",
    "* nb there is no fips state code for 4"
   ],
   "metadata": {
    "collapsed": false,
    "pycharm": {
     "name": "#%% md\n"
    }
   }
  },
  {
   "cell_type": "code",
   "execution_count": 97,
   "outputs": [
    {
     "data": {
      "text/plain": "                                     NAME  state  county  EDU_TOT  \\\n477        Arecibo Municipio, Puerto Rico     72      13      NaN   \n478        Bayamón Municipio, Puerto Rico     72      21      NaN   \n479         Caguas Municipio, Puerto Rico     72      25      NaN   \n480       Carolina Municipio, Puerto Rico     72      31      NaN   \n481       Guaynabo Municipio, Puerto Rico     72      61      NaN   \n482       Mayagüez Municipio, Puerto Rico     72      97      NaN   \n483          Ponce Municipio, Puerto Rico     72     113      NaN   \n484       San Juan Municipio, Puerto Rico     72     127      NaN   \n485       Toa Alta Municipio, Puerto Rico     72     135      NaN   \n486       Toa Baja Municipio, Puerto Rico     72     137      NaN   \n487  Trujillo Alto Municipio, Puerto Rico     72     139      NaN   \n\n     LESS_HS_TOT  HS_TOT  COL_OR_ASSOC_TOT  BACH_TOT  GRAD_TOT  VEHICLE_TOT  \n477          NaN     NaN               NaN       NaN       NaN        21075  \n478          NaN     NaN               NaN       NaN       NaN        46000  \n479          NaN     NaN               NaN       NaN       NaN        36045  \n480          NaN     NaN               NaN       NaN       NaN        52510  \n481          NaN     NaN               NaN       NaN       NaN        25965  \n482          NaN     NaN               NaN       NaN       NaN        15815  \n483          NaN     NaN               NaN       NaN       NaN        32020  \n484          NaN     NaN               NaN       NaN       NaN        95110  \n485          NaN     NaN               NaN       NaN       NaN        21330  \n486          NaN     NaN               NaN       NaN       NaN        24670  \n487          NaN     NaN               NaN       NaN       NaN        23855  ",
      "text/html": "<div>\n<style scoped>\n    .dataframe tbody tr th:only-of-type {\n        vertical-align: middle;\n    }\n\n    .dataframe tbody tr th {\n        vertical-align: top;\n    }\n\n    .dataframe thead th {\n        text-align: right;\n    }\n</style>\n<table border=\"1\" class=\"dataframe\">\n  <thead>\n    <tr style=\"text-align: right;\">\n      <th></th>\n      <th>NAME</th>\n      <th>state</th>\n      <th>county</th>\n      <th>EDU_TOT</th>\n      <th>LESS_HS_TOT</th>\n      <th>HS_TOT</th>\n      <th>COL_OR_ASSOC_TOT</th>\n      <th>BACH_TOT</th>\n      <th>GRAD_TOT</th>\n      <th>VEHICLE_TOT</th>\n    </tr>\n  </thead>\n  <tbody>\n    <tr>\n      <th>477</th>\n      <td>Arecibo Municipio, Puerto Rico</td>\n      <td>72</td>\n      <td>13</td>\n      <td>NaN</td>\n      <td>NaN</td>\n      <td>NaN</td>\n      <td>NaN</td>\n      <td>NaN</td>\n      <td>NaN</td>\n      <td>21075</td>\n    </tr>\n    <tr>\n      <th>478</th>\n      <td>Bayamón Municipio, Puerto Rico</td>\n      <td>72</td>\n      <td>21</td>\n      <td>NaN</td>\n      <td>NaN</td>\n      <td>NaN</td>\n      <td>NaN</td>\n      <td>NaN</td>\n      <td>NaN</td>\n      <td>46000</td>\n    </tr>\n    <tr>\n      <th>479</th>\n      <td>Caguas Municipio, Puerto Rico</td>\n      <td>72</td>\n      <td>25</td>\n      <td>NaN</td>\n      <td>NaN</td>\n      <td>NaN</td>\n      <td>NaN</td>\n      <td>NaN</td>\n      <td>NaN</td>\n      <td>36045</td>\n    </tr>\n    <tr>\n      <th>480</th>\n      <td>Carolina Municipio, Puerto Rico</td>\n      <td>72</td>\n      <td>31</td>\n      <td>NaN</td>\n      <td>NaN</td>\n      <td>NaN</td>\n      <td>NaN</td>\n      <td>NaN</td>\n      <td>NaN</td>\n      <td>52510</td>\n    </tr>\n    <tr>\n      <th>481</th>\n      <td>Guaynabo Municipio, Puerto Rico</td>\n      <td>72</td>\n      <td>61</td>\n      <td>NaN</td>\n      <td>NaN</td>\n      <td>NaN</td>\n      <td>NaN</td>\n      <td>NaN</td>\n      <td>NaN</td>\n      <td>25965</td>\n    </tr>\n    <tr>\n      <th>482</th>\n      <td>Mayagüez Municipio, Puerto Rico</td>\n      <td>72</td>\n      <td>97</td>\n      <td>NaN</td>\n      <td>NaN</td>\n      <td>NaN</td>\n      <td>NaN</td>\n      <td>NaN</td>\n      <td>NaN</td>\n      <td>15815</td>\n    </tr>\n    <tr>\n      <th>483</th>\n      <td>Ponce Municipio, Puerto Rico</td>\n      <td>72</td>\n      <td>113</td>\n      <td>NaN</td>\n      <td>NaN</td>\n      <td>NaN</td>\n      <td>NaN</td>\n      <td>NaN</td>\n      <td>NaN</td>\n      <td>32020</td>\n    </tr>\n    <tr>\n      <th>484</th>\n      <td>San Juan Municipio, Puerto Rico</td>\n      <td>72</td>\n      <td>127</td>\n      <td>NaN</td>\n      <td>NaN</td>\n      <td>NaN</td>\n      <td>NaN</td>\n      <td>NaN</td>\n      <td>NaN</td>\n      <td>95110</td>\n    </tr>\n    <tr>\n      <th>485</th>\n      <td>Toa Alta Municipio, Puerto Rico</td>\n      <td>72</td>\n      <td>135</td>\n      <td>NaN</td>\n      <td>NaN</td>\n      <td>NaN</td>\n      <td>NaN</td>\n      <td>NaN</td>\n      <td>NaN</td>\n      <td>21330</td>\n    </tr>\n    <tr>\n      <th>486</th>\n      <td>Toa Baja Municipio, Puerto Rico</td>\n      <td>72</td>\n      <td>137</td>\n      <td>NaN</td>\n      <td>NaN</td>\n      <td>NaN</td>\n      <td>NaN</td>\n      <td>NaN</td>\n      <td>NaN</td>\n      <td>24670</td>\n    </tr>\n    <tr>\n      <th>487</th>\n      <td>Trujillo Alto Municipio, Puerto Rico</td>\n      <td>72</td>\n      <td>139</td>\n      <td>NaN</td>\n      <td>NaN</td>\n      <td>NaN</td>\n      <td>NaN</td>\n      <td>NaN</td>\n      <td>NaN</td>\n      <td>23855</td>\n    </tr>\n  </tbody>\n</table>\n</div>"
     },
     "execution_count": 97,
     "metadata": {},
     "output_type": "execute_result"
    }
   ],
   "source": [
    "educ_vehicle_2017.NAME.duplicated().sum()\n",
    "educ_vehicle_2017.isnull().sum()\n",
    "educ_vehicle_2017.loc[educ_vehicle_2017.isnull().any(axis=1)]\n",
    "educ_vehicle_2017.loc[educ_vehicle_2017.NAME.str.contains('Puerto')]"
   ],
   "metadata": {
    "collapsed": false,
    "pycharm": {
     "name": "#%%\n"
    }
   }
  },
  {
   "cell_type": "markdown",
   "source": [
    "* All Missing values are Puerto Rico counties similar to previous data sets\n",
    "* Census Bureau keeps Puerto Rico as separate data column for education\n",
    "* No duplicated data shown"
   ],
   "metadata": {
    "collapsed": false,
    "pycharm": {
     "name": "#%% md\n"
    }
   }
  },
  {
   "cell_type": "code",
   "execution_count": 102,
   "outputs": [
    {
     "data": {
      "text/plain": "                            NAME  state  county   EDU_TOT  LESS_HS_TOT  \\\n0        Lonoke County, Arkansas      5      85   48062.0       4635.0   \n1       Pulaski County, Arkansas      5     119  267664.0      23707.0   \n2        Saline County, Arkansas      5     125   82486.0       6720.0   \n3     Sebastian County, Arkansas      5     131   85038.0      13936.0   \n4    Washington County, Arkansas      5     143  140005.0      22986.0   \n..                           ...    ...     ...       ...          ...   \n832      Benton County, Arkansas      5       7  174196.0      18818.0   \n833   Craighead County, Arkansas      5      31   69331.0       7487.0   \n834    Faulkner County, Arkansas      5      45   75973.0       5844.0   \n835     Garland County, Arkansas      5      51   71435.0       8288.0   \n836   Jefferson County, Arkansas      5      69   46424.0       5820.0   \n\n      HS_TOT  COL_OR_ASSOC_TOT  BACH_TOT  GRAD_TOT  VEHICLE_TOT  \n0    16988.0           15189.0    8449.0    2801.0        29680  \n1    72820.0           78174.0   54548.0   38415.0       158710  \n2    24894.0           29688.0   13658.0    7526.0        51700  \n3    25800.0           26884.0   12153.0    6265.0        49530  \n4    33975.0           37146.0   28448.0   17450.0        95620  \n..       ...               ...       ...       ...          ...  \n832  50892.0           45337.0   40418.0   18731.0       116180  \n833  23907.0           18864.0   11697.0    7376.0        46130  \n834  23724.0           21483.0   15159.0    9763.0        52710  \n835  21913.0           27302.0    9090.0    4842.0        32980  \n836  18844.0           13235.0    5752.0    2773.0        22370  \n\n[837 rows x 10 columns]",
      "text/html": "<div>\n<style scoped>\n    .dataframe tbody tr th:only-of-type {\n        vertical-align: middle;\n    }\n\n    .dataframe tbody tr th {\n        vertical-align: top;\n    }\n\n    .dataframe thead th {\n        text-align: right;\n    }\n</style>\n<table border=\"1\" class=\"dataframe\">\n  <thead>\n    <tr style=\"text-align: right;\">\n      <th></th>\n      <th>NAME</th>\n      <th>state</th>\n      <th>county</th>\n      <th>EDU_TOT</th>\n      <th>LESS_HS_TOT</th>\n      <th>HS_TOT</th>\n      <th>COL_OR_ASSOC_TOT</th>\n      <th>BACH_TOT</th>\n      <th>GRAD_TOT</th>\n      <th>VEHICLE_TOT</th>\n    </tr>\n  </thead>\n  <tbody>\n    <tr>\n      <th>0</th>\n      <td>Lonoke County, Arkansas</td>\n      <td>5</td>\n      <td>85</td>\n      <td>48062.0</td>\n      <td>4635.0</td>\n      <td>16988.0</td>\n      <td>15189.0</td>\n      <td>8449.0</td>\n      <td>2801.0</td>\n      <td>29680</td>\n    </tr>\n    <tr>\n      <th>1</th>\n      <td>Pulaski County, Arkansas</td>\n      <td>5</td>\n      <td>119</td>\n      <td>267664.0</td>\n      <td>23707.0</td>\n      <td>72820.0</td>\n      <td>78174.0</td>\n      <td>54548.0</td>\n      <td>38415.0</td>\n      <td>158710</td>\n    </tr>\n    <tr>\n      <th>2</th>\n      <td>Saline County, Arkansas</td>\n      <td>5</td>\n      <td>125</td>\n      <td>82486.0</td>\n      <td>6720.0</td>\n      <td>24894.0</td>\n      <td>29688.0</td>\n      <td>13658.0</td>\n      <td>7526.0</td>\n      <td>51700</td>\n    </tr>\n    <tr>\n      <th>3</th>\n      <td>Sebastian County, Arkansas</td>\n      <td>5</td>\n      <td>131</td>\n      <td>85038.0</td>\n      <td>13936.0</td>\n      <td>25800.0</td>\n      <td>26884.0</td>\n      <td>12153.0</td>\n      <td>6265.0</td>\n      <td>49530</td>\n    </tr>\n    <tr>\n      <th>4</th>\n      <td>Washington County, Arkansas</td>\n      <td>5</td>\n      <td>143</td>\n      <td>140005.0</td>\n      <td>22986.0</td>\n      <td>33975.0</td>\n      <td>37146.0</td>\n      <td>28448.0</td>\n      <td>17450.0</td>\n      <td>95620</td>\n    </tr>\n    <tr>\n      <th>...</th>\n      <td>...</td>\n      <td>...</td>\n      <td>...</td>\n      <td>...</td>\n      <td>...</td>\n      <td>...</td>\n      <td>...</td>\n      <td>...</td>\n      <td>...</td>\n      <td>...</td>\n    </tr>\n    <tr>\n      <th>832</th>\n      <td>Benton County, Arkansas</td>\n      <td>5</td>\n      <td>7</td>\n      <td>174196.0</td>\n      <td>18818.0</td>\n      <td>50892.0</td>\n      <td>45337.0</td>\n      <td>40418.0</td>\n      <td>18731.0</td>\n      <td>116180</td>\n    </tr>\n    <tr>\n      <th>833</th>\n      <td>Craighead County, Arkansas</td>\n      <td>5</td>\n      <td>31</td>\n      <td>69331.0</td>\n      <td>7487.0</td>\n      <td>23907.0</td>\n      <td>18864.0</td>\n      <td>11697.0</td>\n      <td>7376.0</td>\n      <td>46130</td>\n    </tr>\n    <tr>\n      <th>834</th>\n      <td>Faulkner County, Arkansas</td>\n      <td>5</td>\n      <td>45</td>\n      <td>75973.0</td>\n      <td>5844.0</td>\n      <td>23724.0</td>\n      <td>21483.0</td>\n      <td>15159.0</td>\n      <td>9763.0</td>\n      <td>52710</td>\n    </tr>\n    <tr>\n      <th>835</th>\n      <td>Garland County, Arkansas</td>\n      <td>5</td>\n      <td>51</td>\n      <td>71435.0</td>\n      <td>8288.0</td>\n      <td>21913.0</td>\n      <td>27302.0</td>\n      <td>9090.0</td>\n      <td>4842.0</td>\n      <td>32980</td>\n    </tr>\n    <tr>\n      <th>836</th>\n      <td>Jefferson County, Arkansas</td>\n      <td>5</td>\n      <td>69</td>\n      <td>46424.0</td>\n      <td>5820.0</td>\n      <td>18844.0</td>\n      <td>13235.0</td>\n      <td>5752.0</td>\n      <td>2773.0</td>\n      <td>22370</td>\n    </tr>\n  </tbody>\n</table>\n<p>837 rows × 10 columns</p>\n</div>"
     },
     "execution_count": 102,
     "metadata": {},
     "output_type": "execute_result"
    }
   ],
   "source": [
    "educ_vehicle_2017.columns.values[3:]\n",
    "educ_vehicle_2017"
   ],
   "metadata": {
    "collapsed": false,
    "pycharm": {
     "name": "#%%\n"
    }
   }
  },
  {
   "cell_type": "code",
   "execution_count": 99,
   "outputs": [
    {
     "data": {
      "text/plain": "0"
     },
     "execution_count": 99,
     "metadata": {},
     "output_type": "execute_result"
    }
   ],
   "source": [
    "for dem in demographic:\n",
    "    fig, ax = plt.subplots(figsize=(20,20))\n",
    "\n",
    "    plt.title(' mean AQI vs ' + dem)\n",
    "    plt.xlabel('Dem ratio')\n",
    "    plt.ylabel('Mean AQI')\n",
    "    ax.scatter(EAST_MID_WEST_avg_aqi_dem_2017_2019[dem], EAST_MID_WEST_avg_aqi_dem_2017_2019['AQI'], label=dem)\n",
    "\n",
    "ax.legend(bbox_to_anchor=(1.05,1))\n",
    "plt.show()"
   ],
   "metadata": {
    "collapsed": false,
    "pycharm": {
     "name": "#%%\n"
    }
   }
  },
  {
   "cell_type": "code",
   "execution_count": null,
   "outputs": [],
   "source": [
    "print(daily_aqi_by_county_2019.columns)\n",
    "\n",
    "print(annual_aqi_by_county_2019.columns)\n",
    "annual_aqi_by_county_2019.head()\n",
    "# annual_aqi_by_county_2019.shape\n",
    "annual_aqi_by_county_2019['Days with AQI'].min()\n",
    "\n",
    "print(annual_aqi_by_county_2019.isna().sum())\n",
    "annual_aqi_by_county_2019.head()\n",
    "annual_aqi_by_county_2019.shape\n",
    "len(annual_aqi_by_county_2019.County)"
   ],
   "metadata": {
    "collapsed": false,
    "pycharm": {
     "name": "#%%\n"
    }
   }
  },
  {
   "cell_type": "code",
   "execution_count": null,
   "outputs": [],
   "source": [
    "PR = annual_aqi_by_county_2019.State == 'Puerto Rico'\n",
    "annual_aqi_by_county_2019.loc[PR]"
   ],
   "metadata": {
    "collapsed": false,
    "pycharm": {
     "name": "#%%\n"
    }
   }
  },
  {
   "cell_type": "code",
   "execution_count": null,
   "outputs": [],
   "source": [
    "hazard = annual_aqi_by_county_2019['Hazardous Days'] != 0\n",
    "\n",
    "annual_aqi_by_county_2019.loc[hazard]"
   ],
   "metadata": {
    "collapsed": false,
    "pycharm": {
     "name": "#%%\n"
    }
   }
  },
  {
   "cell_type": "markdown",
   "source": [
    "* seems that pm5 and pm10 are common for days where aqi is above average"
   ],
   "metadata": {
    "collapsed": false,
    "pycharm": {
     "name": "#%% md\n"
    }
   }
  },
  {
   "cell_type": "code",
   "execution_count": null,
   "outputs": [],
   "source": [],
   "metadata": {
    "collapsed": false,
    "pycharm": {
     "name": "#%%\n"
    }
   }
  }
 ],
 "metadata": {
  "kernelspec": {
   "name": "pycharm-301d774e",
   "language": "python",
   "display_name": "PyCharm (API_Mini_Project)"
  },
  "language_info": {
   "codemirror_mode": {
    "name": "ipython",
    "version": 2
   },
   "file_extension": ".py",
   "mimetype": "text/x-python",
   "name": "python",
   "nbconvert_exporter": "python",
   "pygments_lexer": "ipython2",
   "version": "2.7.6"
  }
 },
 "nbformat": 4,
 "nbformat_minor": 0
}