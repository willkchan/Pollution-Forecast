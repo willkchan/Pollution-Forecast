{
 "cells": [
  {
   "cell_type": "markdown",
   "source": [
    "# Make api call to retrieve education level of counties"
   ],
   "metadata": {
    "collapsed": false,
    "pycharm": {
     "name": "#%% md\n"
    }
   }
  },
  {
   "cell_type": "code",
<<<<<<< HEAD
   "execution_count": 59,
=======
   "execution_count": 2,
>>>>>>> 5972379348cba9f8a8625309c505bea52e4b6afe
   "metadata": {
    "collapsed": true
   },
   "outputs": [],
   "source": [
<<<<<<< HEAD
=======
    "from census import Census\n",
>>>>>>> 5972379348cba9f8a8625309c505bea52e4b6afe
    "from us import states\n",
    "\n",
    "import numpy as np\n",
    "import pandas as pd\n",
    "import sys\n",
    "import os\n",
    "import json\n",
    "import matplotlib.pyplot as plt\n",
    "import requests\n",
    "\n",
    "CENSUS_API_KEY = os.getenv('CENSUS_API_KEY')\n",
    "\n",
    "from IPython.core.display import display\n",
    "\n",
    "# pd.set_option('display.max_columns', None)\n",
    "# pd.reset_optio('max_rows')\n",
    "#np.set_printoptions(threshold=sys.maxsize)\n",
    "\n",
    "plt.style.use('dark_background')\n",
    "plt.rcParams.update({\"grid.linewidth\":0.5, \"grid.alpha\":0.5})\n"
   ]
  },
  {
   "cell_type": "code",
<<<<<<< HEAD
   "execution_count": 60,
   "outputs": [],
   "source": [
=======
   "execution_count": 8,
   "outputs": [],
   "source": [
    "c = Census(CENSUS_API_KEY)\n",
>>>>>>> 5972379348cba9f8a8625309c505bea52e4b6afe
    "\n",
    "ESTIMATE_TOT = 'B06009_001E'\n",
    "ESTIMATE_TOT_LESS_HS = 'B06009_002E'\n",
    "ESTIMATE_TOT_HS = 'B06009_003E'\n",
<<<<<<< HEAD
    "ESTIMATE_TOT_COL_OR_ASSOC = 'B06009_004E'\n",
    "ESTIMATE_TOT_BACH = 'B06009_005E'\n",
    "ESTIMATE_TOT_GRAD = 'B06009_006E'\n",
    "\n",
    "#Car van truck, used in commuting\n",
    "ESTIMATE_AGG_VEHICLE = 'B08015_001E'\n",
    "ESTIMATE_TOT_WALK = 'B08126_068E'"
=======
    "ESTIMATE_TOT_COLL_OR_ASS = 'B06009_004E'\n",
    "ESTIMATE_TOT_BACH = 'B06009_005E'\n",
    "ESTIMATE_TOT_GRAD = 'B06009_006E'\n",
    "\n",
    "request = c.sf1.get('NAME', geo={'for': 'tract:*','in': 'state:{} county:170'.format(states.AK.fips)})"
>>>>>>> 5972379348cba9f8a8625309c505bea52e4b6afe
   ],
   "metadata": {
    "collapsed": false,
    "pycharm": {
     "name": "#%%\n"
    }
   }
  },
  {
   "cell_type": "code",
<<<<<<< HEAD
   "execution_count": 61,
   "outputs": [],
   "source": [
    "# getting data for 2019 county datasets\n",
    "\n",
    "HOST = 'https://api.census.gov/data'\n",
    "year = '2019'\n",
    "dataset = 'acs/acs1'\n",
    "base_url = '/'.join([HOST, year, dataset])\n",
    "\n",
    "predicates = {}\n",
    "get_vars = ['NAME', ESTIMATE_TOT, ESTIMATE_TOT_LESS_HS, ESTIMATE_TOT_HS,\n",
    "            ESTIMATE_TOT_COL_OR_ASSOC, ESTIMATE_TOT_BACH, ESTIMATE_TOT_GRAD,\n",
    "            ESTIMATE_AGG_VEHICLE, ESTIMATE_TOT_WALK]\n",
    "predicates['get'] = ','.join(get_vars)\n",
    "predicates['for'] = ['county:*','state:*']\n",
    "\n",
    "r = requests.get(base_url, params=predicates)\n",
    "json = r.text"
=======
   "execution_count": 4,
   "outputs": [],
   "source": [
    "request = c.acs5.state_county(ESTIMATE_TOT, states.AL, '001')"
>>>>>>> 5972379348cba9f8a8625309c505bea52e4b6afe
   ],
   "metadata": {
    "collapsed": false,
    "pycharm": {
     "name": "#%%\n"
    }
   }
  },
  {
   "cell_type": "code",
<<<<<<< HEAD
   "execution_count": 62,
   "outputs": [],
   "source": [
    "json\n",
    "# df = pd.DataFrame(columns=)\n",
    "col_names = (r.json()[0])\n",
    "df = pd.DataFrame(columns=col_names, data=r.json()[1:])\n",
    "# educational attainment for all us by county"
   ],
   "metadata": {
    "collapsed": false,
    "pycharm": {
     "name": "#%%\n"
    }
   }
  },
  {
   "cell_type": "code",
   "execution_count": 63,
   "outputs": [],
   "source": [
    "df.rename(columns={'B06009_001E': 'EDU_TOT', 'B06009_002E':'LESS_HS_TOT', 'B06009_003E':'HS_TOT',\n",
    "                   'B06009_004E':'COL_OR_ASSOC_TOT', 'B06009_005E':'BACH_TOT', 'B06009_006E':'GRAD_TOT',\n",
    "                   'B08015_001E':'VEHICLE_TOT', 'B08126_068E':'WALK_TOT' }, inplace=True)"
   ],
   "metadata": {
    "collapsed": false,
    "pycharm": {
     "name": "#%%\n"
    }
   }
  },
  {
   "cell_type": "code",
   "execution_count": 64,
   "outputs": [],
   "source": [
    "# reformat columns\n",
    "df = df[['NAME', 'state', 'county', 'EDU_TOT', 'LESS_HS_TOT', 'HS_TOT', 'COL_OR_ASSOC_TOT',\n",
    "       'BACH_TOT', 'GRAD_TOT', 'VEHICLE_TOT', 'WALK_TOT']]"
   ],
   "metadata": {
    "collapsed": false,
    "pycharm": {
     "name": "#%%\n"
    }
   }
  },
  {
   "cell_type": "code",
   "execution_count": 65,
   "outputs": [
    {
     "data": {
      "text/plain": "                                     NAME state county EDU_TOT LESS_HS_TOT  \\\n0                 Baldwin County, Alabama    01    003  159717       15158   \n1                 Calhoun County, Alabama    01    015   79084       12195   \n2                 Cullman County, Alabama    01    043   58795       11014   \n3                  DeKalb County, Alabama    01    049   47007       10043   \n4                  Elmore County, Alabama    01    051   57553        5940   \n..                                    ...   ...    ...     ...         ...   \n835          Ponce Municipio, Puerto Rico    72    113    None        None   \n836       San Juan Municipio, Puerto Rico    72    127    None        None   \n837       Toa Alta Municipio, Puerto Rico    72    135    None        None   \n838       Toa Baja Municipio, Puerto Rico    72    137    None        None   \n839  Trujillo Alto Municipio, Puerto Rico    72    139    None        None   \n\n    HS_TOT COL_OR_ASSOC_TOT BACH_TOT GRAD_TOT VEHICLE_TOT WALK_TOT  \n0    41884            51204    32781    18690       85170     None  \n1    27277            24355     9082     6175       41330     None  \n2    17924            20616     5935     3306       31840     None  \n3    17881            13084     3693     2306       28065     None  \n4    19992            17311     9418     4892       33005     None  \n..     ...              ...      ...      ...         ...      ...  \n835   None             None     None     None       31635     None  \n836   None             None     None     None       92055      171  \n837   None             None     None     None       24230     None  \n838   None             None     None     None       22900     None  \n839   None             None     None     None       25900     None  \n\n[840 rows x 11 columns]",
      "text/html": "<div>\n<style scoped>\n    .dataframe tbody tr th:only-of-type {\n        vertical-align: middle;\n    }\n\n    .dataframe tbody tr th {\n        vertical-align: top;\n    }\n\n    .dataframe thead th {\n        text-align: right;\n    }\n</style>\n<table border=\"1\" class=\"dataframe\">\n  <thead>\n    <tr style=\"text-align: right;\">\n      <th></th>\n      <th>NAME</th>\n      <th>state</th>\n      <th>county</th>\n      <th>EDU_TOT</th>\n      <th>LESS_HS_TOT</th>\n      <th>HS_TOT</th>\n      <th>COL_OR_ASSOC_TOT</th>\n      <th>BACH_TOT</th>\n      <th>GRAD_TOT</th>\n      <th>VEHICLE_TOT</th>\n      <th>WALK_TOT</th>\n    </tr>\n  </thead>\n  <tbody>\n    <tr>\n      <th>0</th>\n      <td>Baldwin County, Alabama</td>\n      <td>01</td>\n      <td>003</td>\n      <td>159717</td>\n      <td>15158</td>\n      <td>41884</td>\n      <td>51204</td>\n      <td>32781</td>\n      <td>18690</td>\n      <td>85170</td>\n      <td>None</td>\n    </tr>\n    <tr>\n      <th>1</th>\n      <td>Calhoun County, Alabama</td>\n      <td>01</td>\n      <td>015</td>\n      <td>79084</td>\n      <td>12195</td>\n      <td>27277</td>\n      <td>24355</td>\n      <td>9082</td>\n      <td>6175</td>\n      <td>41330</td>\n      <td>None</td>\n    </tr>\n    <tr>\n      <th>2</th>\n      <td>Cullman County, Alabama</td>\n      <td>01</td>\n      <td>043</td>\n      <td>58795</td>\n      <td>11014</td>\n      <td>17924</td>\n      <td>20616</td>\n      <td>5935</td>\n      <td>3306</td>\n      <td>31840</td>\n      <td>None</td>\n    </tr>\n    <tr>\n      <th>3</th>\n      <td>DeKalb County, Alabama</td>\n      <td>01</td>\n      <td>049</td>\n      <td>47007</td>\n      <td>10043</td>\n      <td>17881</td>\n      <td>13084</td>\n      <td>3693</td>\n      <td>2306</td>\n      <td>28065</td>\n      <td>None</td>\n    </tr>\n    <tr>\n      <th>4</th>\n      <td>Elmore County, Alabama</td>\n      <td>01</td>\n      <td>051</td>\n      <td>57553</td>\n      <td>5940</td>\n      <td>19992</td>\n      <td>17311</td>\n      <td>9418</td>\n      <td>4892</td>\n      <td>33005</td>\n      <td>None</td>\n    </tr>\n    <tr>\n      <th>...</th>\n      <td>...</td>\n      <td>...</td>\n      <td>...</td>\n      <td>...</td>\n      <td>...</td>\n      <td>...</td>\n      <td>...</td>\n      <td>...</td>\n      <td>...</td>\n      <td>...</td>\n      <td>...</td>\n    </tr>\n    <tr>\n      <th>835</th>\n      <td>Ponce Municipio, Puerto Rico</td>\n      <td>72</td>\n      <td>113</td>\n      <td>None</td>\n      <td>None</td>\n      <td>None</td>\n      <td>None</td>\n      <td>None</td>\n      <td>None</td>\n      <td>31635</td>\n      <td>None</td>\n    </tr>\n    <tr>\n      <th>836</th>\n      <td>San Juan Municipio, Puerto Rico</td>\n      <td>72</td>\n      <td>127</td>\n      <td>None</td>\n      <td>None</td>\n      <td>None</td>\n      <td>None</td>\n      <td>None</td>\n      <td>None</td>\n      <td>92055</td>\n      <td>171</td>\n    </tr>\n    <tr>\n      <th>837</th>\n      <td>Toa Alta Municipio, Puerto Rico</td>\n      <td>72</td>\n      <td>135</td>\n      <td>None</td>\n      <td>None</td>\n      <td>None</td>\n      <td>None</td>\n      <td>None</td>\n      <td>None</td>\n      <td>24230</td>\n      <td>None</td>\n    </tr>\n    <tr>\n      <th>838</th>\n      <td>Toa Baja Municipio, Puerto Rico</td>\n      <td>72</td>\n      <td>137</td>\n      <td>None</td>\n      <td>None</td>\n      <td>None</td>\n      <td>None</td>\n      <td>None</td>\n      <td>None</td>\n      <td>22900</td>\n      <td>None</td>\n    </tr>\n    <tr>\n      <th>839</th>\n      <td>Trujillo Alto Municipio, Puerto Rico</td>\n      <td>72</td>\n      <td>139</td>\n      <td>None</td>\n      <td>None</td>\n      <td>None</td>\n      <td>None</td>\n      <td>None</td>\n      <td>None</td>\n      <td>25900</td>\n      <td>None</td>\n    </tr>\n  </tbody>\n</table>\n<p>840 rows × 11 columns</p>\n</div>"
     },
     "metadata": {},
     "output_type": "display_data"
    }
   ],
   "source": [
    "# save the data to a new csv file. keep commented to prevent from always saving\n",
    "display(df)\n",
    "data_path = r'../../data/processed/acs1_edu_vehicle2019.csv'\n",
    "df.to_csv(data_path)\n"
   ],
   "metadata": {
    "collapsed": false,
    "pycharm": {
     "name": "#%%\n"
    }
   }
  },
  {
   "cell_type": "markdown",
   "source": [
    "# repeat steps for year 2018\n"
   ],
   "metadata": {
    "collapsed": false
   }
  },
  {
   "cell_type": "code",
   "execution_count": 66,
   "outputs": [],
   "source": [
    "year = '2018'\n",
    "base_url = '/'.join([HOST, year, dataset])\n",
    "\n",
    "predicates = {}\n",
    "get_vars = ['NAME', ESTIMATE_TOT, ESTIMATE_TOT_LESS_HS, ESTIMATE_TOT_HS,\n",
    "            ESTIMATE_TOT_COL_OR_ASSOC, ESTIMATE_TOT_BACH, ESTIMATE_TOT_GRAD,\n",
    "            ESTIMATE_AGG_VEHICLE, ESTIMATE_TOT_WALK]\n",
    "predicates['get'] = ','.join(get_vars)\n",
    "predicates['for'] = ['county:*','state:*']\n",
    "\n",
    "r = requests.get(base_url, params=predicates)\n",
    "json = r.text"
   ],
   "metadata": {
    "collapsed": false,
    "pycharm": {
     "name": "#%%\n"
    }
   }
  },
  {
   "cell_type": "code",
   "execution_count": 67,
   "outputs": [],
   "source": [
    "json\n",
    "# df = pd.DataFrame(columns=)\n",
    "col_names = (r.json()[0])\n",
    "df = pd.DataFrame(columns=col_names, data=r.json()[1:])\n",
    "# educational attainment for all us by county"
=======
   "execution_count": 5,
   "outputs": [
    {
     "data": {
      "text/plain": "[]"
     },
     "execution_count": 5,
     "metadata": {},
     "output_type": "execute_result"
    }
   ],
   "source": [
    "request"
>>>>>>> 5972379348cba9f8a8625309c505bea52e4b6afe
   ],
   "metadata": {
    "collapsed": false,
    "pycharm": {
     "name": "#%%\n"
    }
   }
  },
  {
   "cell_type": "code",
<<<<<<< HEAD
   "execution_count": 68,
   "outputs": [],
   "source": [
    "df.rename(columns={'B06009_001E': 'EDU_TOT', 'B06009_002E':'LESS_HS_TOT', 'B06009_003E':'HS_TOT',\n",
    "                   'B06009_004E':'COL_OR_ASSOC_TOT', 'B06009_005E':'BACH_TOT', 'B06009_006E':'GRAD_TOT',\n",
    "                   'B08015_001E':'VEHICLE_TOT', 'B08126_068E':'WALK_TOT' }, inplace=True)"
   ],
   "metadata": {
    "collapsed": false,
    "pycharm": {
     "name": "#%%\n"
    }
   }
  },
  {
   "cell_type": "code",
   "execution_count": 69,
   "outputs": [],
   "source": [
    "# reformat columns\n",
    "df = df[['NAME', 'state', 'county', 'EDU_TOT', 'LESS_HS_TOT', 'HS_TOT', 'COL_OR_ASSOC_TOT',\n",
    "       'BACH_TOT', 'GRAD_TOT', 'VEHICLE_TOT', 'WALK_TOT']]\n"
   ],
   "metadata": {
    "collapsed": false,
    "pycharm": {
     "name": "#%%\n"
    }
   }
  },
  {
   "cell_type": "code",
   "execution_count": 70,
   "outputs": [
    {
     "data": {
      "text/plain": "                                     NAME state county EDU_TOT LESS_HS_TOT  \\\n0                 Baldwin County, Alabama    01    003  155691       15282   \n1                 Calhoun County, Alabama    01    015   79172       12121   \n2                 Cullman County, Alabama    01    043   58319       10228   \n3                  DeKalb County, Alabama    01    049   48169       11681   \n4                  Elmore County, Alabama    01    051   56793        7490   \n..                                    ...   ...    ...     ...         ...   \n833          Ponce Municipio, Puerto Rico    72    113    None        None   \n834       San Juan Municipio, Puerto Rico    72    127    None        None   \n835       Toa Alta Municipio, Puerto Rico    72    135    None        None   \n836       Toa Baja Municipio, Puerto Rico    72    137    None        None   \n837  Trujillo Alto Municipio, Puerto Rico    72    139    None        None   \n\n    HS_TOT COL_OR_ASSOC_TOT BACH_TOT GRAD_TOT VEHICLE_TOT WALK_TOT  \n0    44013            47573    32210    16613       87745     None  \n1    25761            27039     7914     6337       42760     None  \n2    18149            22883     4916     2143       33065     None  \n3    14333            14995     3931     3229       26150     None  \n4    18457            16505    10146     4195       31600     None  \n..     ...              ...      ...      ...         ...      ...  \n833   None             None     None     None       32475     None  \n834   None             None     None     None       94245        0  \n835   None             None     None     None       24755     None  \n836   None             None     None     None       23700     None  \n837   None             None     None     None       22530     None  \n\n[838 rows x 11 columns]",
      "text/html": "<div>\n<style scoped>\n    .dataframe tbody tr th:only-of-type {\n        vertical-align: middle;\n    }\n\n    .dataframe tbody tr th {\n        vertical-align: top;\n    }\n\n    .dataframe thead th {\n        text-align: right;\n    }\n</style>\n<table border=\"1\" class=\"dataframe\">\n  <thead>\n    <tr style=\"text-align: right;\">\n      <th></th>\n      <th>NAME</th>\n      <th>state</th>\n      <th>county</th>\n      <th>EDU_TOT</th>\n      <th>LESS_HS_TOT</th>\n      <th>HS_TOT</th>\n      <th>COL_OR_ASSOC_TOT</th>\n      <th>BACH_TOT</th>\n      <th>GRAD_TOT</th>\n      <th>VEHICLE_TOT</th>\n      <th>WALK_TOT</th>\n    </tr>\n  </thead>\n  <tbody>\n    <tr>\n      <th>0</th>\n      <td>Baldwin County, Alabama</td>\n      <td>01</td>\n      <td>003</td>\n      <td>155691</td>\n      <td>15282</td>\n      <td>44013</td>\n      <td>47573</td>\n      <td>32210</td>\n      <td>16613</td>\n      <td>87745</td>\n      <td>None</td>\n    </tr>\n    <tr>\n      <th>1</th>\n      <td>Calhoun County, Alabama</td>\n      <td>01</td>\n      <td>015</td>\n      <td>79172</td>\n      <td>12121</td>\n      <td>25761</td>\n      <td>27039</td>\n      <td>7914</td>\n      <td>6337</td>\n      <td>42760</td>\n      <td>None</td>\n    </tr>\n    <tr>\n      <th>2</th>\n      <td>Cullman County, Alabama</td>\n      <td>01</td>\n      <td>043</td>\n      <td>58319</td>\n      <td>10228</td>\n      <td>18149</td>\n      <td>22883</td>\n      <td>4916</td>\n      <td>2143</td>\n      <td>33065</td>\n      <td>None</td>\n    </tr>\n    <tr>\n      <th>3</th>\n      <td>DeKalb County, Alabama</td>\n      <td>01</td>\n      <td>049</td>\n      <td>48169</td>\n      <td>11681</td>\n      <td>14333</td>\n      <td>14995</td>\n      <td>3931</td>\n      <td>3229</td>\n      <td>26150</td>\n      <td>None</td>\n    </tr>\n    <tr>\n      <th>4</th>\n      <td>Elmore County, Alabama</td>\n      <td>01</td>\n      <td>051</td>\n      <td>56793</td>\n      <td>7490</td>\n      <td>18457</td>\n      <td>16505</td>\n      <td>10146</td>\n      <td>4195</td>\n      <td>31600</td>\n      <td>None</td>\n    </tr>\n    <tr>\n      <th>...</th>\n      <td>...</td>\n      <td>...</td>\n      <td>...</td>\n      <td>...</td>\n      <td>...</td>\n      <td>...</td>\n      <td>...</td>\n      <td>...</td>\n      <td>...</td>\n      <td>...</td>\n      <td>...</td>\n    </tr>\n    <tr>\n      <th>833</th>\n      <td>Ponce Municipio, Puerto Rico</td>\n      <td>72</td>\n      <td>113</td>\n      <td>None</td>\n      <td>None</td>\n      <td>None</td>\n      <td>None</td>\n      <td>None</td>\n      <td>None</td>\n      <td>32475</td>\n      <td>None</td>\n    </tr>\n    <tr>\n      <th>834</th>\n      <td>San Juan Municipio, Puerto Rico</td>\n      <td>72</td>\n      <td>127</td>\n      <td>None</td>\n      <td>None</td>\n      <td>None</td>\n      <td>None</td>\n      <td>None</td>\n      <td>None</td>\n      <td>94245</td>\n      <td>0</td>\n    </tr>\n    <tr>\n      <th>835</th>\n      <td>Toa Alta Municipio, Puerto Rico</td>\n      <td>72</td>\n      <td>135</td>\n      <td>None</td>\n      <td>None</td>\n      <td>None</td>\n      <td>None</td>\n      <td>None</td>\n      <td>None</td>\n      <td>24755</td>\n      <td>None</td>\n    </tr>\n    <tr>\n      <th>836</th>\n      <td>Toa Baja Municipio, Puerto Rico</td>\n      <td>72</td>\n      <td>137</td>\n      <td>None</td>\n      <td>None</td>\n      <td>None</td>\n      <td>None</td>\n      <td>None</td>\n      <td>None</td>\n      <td>23700</td>\n      <td>None</td>\n    </tr>\n    <tr>\n      <th>837</th>\n      <td>Trujillo Alto Municipio, Puerto Rico</td>\n      <td>72</td>\n      <td>139</td>\n      <td>None</td>\n      <td>None</td>\n      <td>None</td>\n      <td>None</td>\n      <td>None</td>\n      <td>None</td>\n      <td>22530</td>\n      <td>None</td>\n    </tr>\n  </tbody>\n</table>\n<p>838 rows × 11 columns</p>\n</div>"
     },
     "metadata": {},
     "output_type": "display_data"
    }
   ],
   "source": [
    "# save the data to a new csv file. keep commented to prevent from always saving\n",
    "display(df)\n",
    "data_path = r'../../data/processed/acs1_edu_vehicle2018.csv'\n",
    "df.to_csv(data_path)"
   ],
   "metadata": {
    "collapsed": false,
    "pycharm": {
     "name": "#%%\n"
    }
   }
  },
  {
   "cell_type": "markdown",
   "source": [
    "# repeat steps for year 2017\n"
   ],
   "metadata": {
    "collapsed": false
   }
  },
  {
   "cell_type": "code",
   "execution_count": 71,
   "outputs": [],
   "source": [
    "year = '2017'\n",
    "base_url = '/'.join([HOST, year, dataset])\n",
    "\n",
    "predicates = {}\n",
    "get_vars = ['NAME', ESTIMATE_TOT, ESTIMATE_TOT_LESS_HS, ESTIMATE_TOT_HS,\n",
    "            ESTIMATE_TOT_COL_OR_ASSOC, ESTIMATE_TOT_BACH, ESTIMATE_TOT_GRAD,\n",
    "            ESTIMATE_AGG_VEHICLE, ESTIMATE_TOT_WALK]\n",
    "predicates['get'] = ','.join(get_vars)\n",
    "predicates['for'] = ['county:*','state:*']\n",
    "\n",
    "r = requests.get(base_url, params=predicates)\n",
    "json = r.text"
   ],
   "metadata": {
    "collapsed": false,
    "pycharm": {
     "name": "#%%\n"
    }
   }
  },
  {
   "cell_type": "code",
   "execution_count": 77,
   "outputs": [],
   "source": [
    "json\n",
    "# df = pd.DataFrame(columns=)\n",
    "col_names = (r.json()[0])\n",
    "df = pd.DataFrame(columns=col_names, data=r.json()[1:])\n",
    "# educational attainment for all us by county"
   ],
   "metadata": {
    "collapsed": false,
    "pycharm": {
     "name": "#%%\n"
    }
   }
  },
  {
   "cell_type": "code",
   "execution_count": 73,
   "outputs": [],
   "source": [
    "df.rename(columns={'B06009_001E': 'EDU_TOT', 'B06009_002E':'LESS_HS_TOT', 'B06009_003E':'HS_TOT',\n",
    "                   'B06009_004E':'COL_OR_ASSOC_TOT', 'B06009_005E':'BACH_TOT', 'B06009_006E':'GRAD_TOT',\n",
    "                   'B08015_001E':'VEHICLE_TOT', 'B08126_068E':'WALK_TOT' }, inplace=True)"
   ],
=======
   "execution_count": 7,
   "outputs": [
    {
     "data": {
      "text/plain": "'70d51d7bfaa27460abe479195938c29899f06c18'"
     },
     "execution_count": 7,
     "metadata": {},
     "output_type": "execute_result"
    }
   ],
   "source": [],
>>>>>>> 5972379348cba9f8a8625309c505bea52e4b6afe
   "metadata": {
    "collapsed": false,
    "pycharm": {
     "name": "#%%\n"
    }
   }
  },
  {
   "cell_type": "code",
<<<<<<< HEAD
   "execution_count": 74,
   "outputs": [],
   "source": [
    "# reformat columns\n",
    "df = df[['NAME', 'state', 'county', 'EDU_TOT', 'LESS_HS_TOT', 'HS_TOT', 'COL_OR_ASSOC_TOT',\n",
    "       'BACH_TOT', 'GRAD_TOT', 'VEHICLE_TOT', 'WALK_TOT']]\n"
   ],
   "metadata": {
    "collapsed": false,
    "pycharm": {
     "name": "#%%\n"
    }
   }
  },
  {
   "cell_type": "code",
   "execution_count": 75,
   "outputs": [
    {
     "data": {
      "text/plain": "                            NAME state county EDU_TOT LESS_HS_TOT HS_TOT  \\\n0        Lonoke County, Arkansas    05    085   48062        4635  16988   \n1       Pulaski County, Arkansas    05    119  267664       23707  72820   \n2        Saline County, Arkansas    05    125   82486        6720  24894   \n3     Sebastian County, Arkansas    05    131   85038       13936  25800   \n4    Washington County, Arkansas    05    143  140005       22986  33975   \n..                           ...   ...    ...     ...         ...    ...   \n832      Benton County, Arkansas    05    007  174196       18818  50892   \n833   Craighead County, Arkansas    05    031   69331        7487  23907   \n834    Faulkner County, Arkansas    05    045   75973        5844  23724   \n835     Garland County, Arkansas    05    051   71435        8288  21913   \n836   Jefferson County, Arkansas    05    069   46424        5820  18844   \n\n    COL_OR_ASSOC_TOT BACH_TOT GRAD_TOT VEHICLE_TOT WALK_TOT  \n0              15189     8449     2801       29680     None  \n1              78174    54548    38415      158710     None  \n2              29688    13658     7526       51700     None  \n3              26884    12153     6265       49530     None  \n4              37146    28448    17450       95620     None  \n..               ...      ...      ...         ...      ...  \n832            45337    40418    18731      116180     None  \n833            18864    11697     7376       46130     None  \n834            21483    15159     9763       52710     None  \n835            27302     9090     4842       32980     None  \n836            13235     5752     2773       22370     None  \n\n[837 rows x 11 columns]",
      "text/html": "<div>\n<style scoped>\n    .dataframe tbody tr th:only-of-type {\n        vertical-align: middle;\n    }\n\n    .dataframe tbody tr th {\n        vertical-align: top;\n    }\n\n    .dataframe thead th {\n        text-align: right;\n    }\n</style>\n<table border=\"1\" class=\"dataframe\">\n  <thead>\n    <tr style=\"text-align: right;\">\n      <th></th>\n      <th>NAME</th>\n      <th>state</th>\n      <th>county</th>\n      <th>EDU_TOT</th>\n      <th>LESS_HS_TOT</th>\n      <th>HS_TOT</th>\n      <th>COL_OR_ASSOC_TOT</th>\n      <th>BACH_TOT</th>\n      <th>GRAD_TOT</th>\n      <th>VEHICLE_TOT</th>\n      <th>WALK_TOT</th>\n    </tr>\n  </thead>\n  <tbody>\n    <tr>\n      <th>0</th>\n      <td>Lonoke County, Arkansas</td>\n      <td>05</td>\n      <td>085</td>\n      <td>48062</td>\n      <td>4635</td>\n      <td>16988</td>\n      <td>15189</td>\n      <td>8449</td>\n      <td>2801</td>\n      <td>29680</td>\n      <td>None</td>\n    </tr>\n    <tr>\n      <th>1</th>\n      <td>Pulaski County, Arkansas</td>\n      <td>05</td>\n      <td>119</td>\n      <td>267664</td>\n      <td>23707</td>\n      <td>72820</td>\n      <td>78174</td>\n      <td>54548</td>\n      <td>38415</td>\n      <td>158710</td>\n      <td>None</td>\n    </tr>\n    <tr>\n      <th>2</th>\n      <td>Saline County, Arkansas</td>\n      <td>05</td>\n      <td>125</td>\n      <td>82486</td>\n      <td>6720</td>\n      <td>24894</td>\n      <td>29688</td>\n      <td>13658</td>\n      <td>7526</td>\n      <td>51700</td>\n      <td>None</td>\n    </tr>\n    <tr>\n      <th>3</th>\n      <td>Sebastian County, Arkansas</td>\n      <td>05</td>\n      <td>131</td>\n      <td>85038</td>\n      <td>13936</td>\n      <td>25800</td>\n      <td>26884</td>\n      <td>12153</td>\n      <td>6265</td>\n      <td>49530</td>\n      <td>None</td>\n    </tr>\n    <tr>\n      <th>4</th>\n      <td>Washington County, Arkansas</td>\n      <td>05</td>\n      <td>143</td>\n      <td>140005</td>\n      <td>22986</td>\n      <td>33975</td>\n      <td>37146</td>\n      <td>28448</td>\n      <td>17450</td>\n      <td>95620</td>\n      <td>None</td>\n    </tr>\n    <tr>\n      <th>...</th>\n      <td>...</td>\n      <td>...</td>\n      <td>...</td>\n      <td>...</td>\n      <td>...</td>\n      <td>...</td>\n      <td>...</td>\n      <td>...</td>\n      <td>...</td>\n      <td>...</td>\n      <td>...</td>\n    </tr>\n    <tr>\n      <th>832</th>\n      <td>Benton County, Arkansas</td>\n      <td>05</td>\n      <td>007</td>\n      <td>174196</td>\n      <td>18818</td>\n      <td>50892</td>\n      <td>45337</td>\n      <td>40418</td>\n      <td>18731</td>\n      <td>116180</td>\n      <td>None</td>\n    </tr>\n    <tr>\n      <th>833</th>\n      <td>Craighead County, Arkansas</td>\n      <td>05</td>\n      <td>031</td>\n      <td>69331</td>\n      <td>7487</td>\n      <td>23907</td>\n      <td>18864</td>\n      <td>11697</td>\n      <td>7376</td>\n      <td>46130</td>\n      <td>None</td>\n    </tr>\n    <tr>\n      <th>834</th>\n      <td>Faulkner County, Arkansas</td>\n      <td>05</td>\n      <td>045</td>\n      <td>75973</td>\n      <td>5844</td>\n      <td>23724</td>\n      <td>21483</td>\n      <td>15159</td>\n      <td>9763</td>\n      <td>52710</td>\n      <td>None</td>\n    </tr>\n    <tr>\n      <th>835</th>\n      <td>Garland County, Arkansas</td>\n      <td>05</td>\n      <td>051</td>\n      <td>71435</td>\n      <td>8288</td>\n      <td>21913</td>\n      <td>27302</td>\n      <td>9090</td>\n      <td>4842</td>\n      <td>32980</td>\n      <td>None</td>\n    </tr>\n    <tr>\n      <th>836</th>\n      <td>Jefferson County, Arkansas</td>\n      <td>05</td>\n      <td>069</td>\n      <td>46424</td>\n      <td>5820</td>\n      <td>18844</td>\n      <td>13235</td>\n      <td>5752</td>\n      <td>2773</td>\n      <td>22370</td>\n      <td>None</td>\n    </tr>\n  </tbody>\n</table>\n<p>837 rows × 11 columns</p>\n</div>"
     },
     "metadata": {},
     "output_type": "display_data"
    }
   ],
   "source": [
    "# save the data to a new csv file. keep commented to prevent from always saving\n",
    "display(df)\n",
    "data_path = r'../../data/processed/acs1_edu_vehicle2017.csv'\n",
    "df.to_csv(data_path)"
   ],
=======
   "execution_count": 6,
   "outputs": [],
   "source": [],
>>>>>>> 5972379348cba9f8a8625309c505bea52e4b6afe
   "metadata": {
    "collapsed": false,
    "pycharm": {
     "name": "#%%\n"
    }
   }
  }
 ],
 "metadata": {
  "kernelspec": {
   "name": "pycharm-301d774e",
   "language": "python",
   "display_name": "PyCharm (API_Mini_Project)"
  },
  "language_info": {
   "codemirror_mode": {
    "name": "ipython",
    "version": 2
   },
   "file_extension": ".py",
   "mimetype": "text/x-python",
   "name": "python",
   "nbconvert_exporter": "python",
   "pygments_lexer": "ipython2",
   "version": "2.7.6"
  }
 },
 "nbformat": 4,
 "nbformat_minor": 0
}