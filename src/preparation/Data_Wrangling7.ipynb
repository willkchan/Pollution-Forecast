{
 "cells": [
  {
   "cell_type": "markdown",
   "source": [
    "# Make api call to retrieve education level of counties"
   ],
   "metadata": {
    "collapsed": false,
    "pycharm": {
     "name": "#%% md\n"
    }
   }
  },
  {
   "cell_type": "code",
   "execution_count": 2,
   "metadata": {
    "collapsed": true
   },
   "outputs": [],
   "source": [
    "from census import Census\n",
    "from us import states\n",
    "\n",
    "import numpy as np\n",
    "import pandas as pd\n",
    "import sys\n",
    "import os\n",
    "import json\n",
    "import matplotlib.pyplot as plt\n",
    "import requests\n",
    "\n",
    "CENSUS_API_KEY = os.getenv('CENSUS_API_KEY')\n",
    "\n",
    "from IPython.core.display import display\n",
    "\n",
    "# pd.set_option('display.max_columns', None)\n",
    "# pd.reset_optio('max_rows')\n",
    "#np.set_printoptions(threshold=sys.maxsize)\n",
    "\n",
    "plt.style.use('dark_background')\n",
    "plt.rcParams.update({\"grid.linewidth\":0.5, \"grid.alpha\":0.5})\n"
   ]
  },
  {
   "cell_type": "code",
   "execution_count": 8,
   "outputs": [],
   "source": [
    "c = Census(CENSUS_API_KEY)\n",
    "\n",
    "ESTIMATE_TOT = 'B06009_001E'\n",
    "ESTIMATE_TOT_LESS_HS = 'B06009_002E'\n",
    "ESTIMATE_TOT_HS = 'B06009_003E'\n",
    "ESTIMATE_TOT_COLL_OR_ASS = 'B06009_004E'\n",
    "ESTIMATE_TOT_BACH = 'B06009_005E'\n",
    "ESTIMATE_TOT_GRAD = 'B06009_006E'\n",
    "\n",
    "request = c.sf1.get('NAME', geo={'for': 'tract:*','in': 'state:{} county:170'.format(states.AK.fips)})"
   ],
   "metadata": {
    "collapsed": false,
    "pycharm": {
     "name": "#%%\n"
    }
   }
  },
  {
   "cell_type": "code",
   "execution_count": 4,
   "outputs": [],
   "source": [
    "request = c.acs5.state_county(ESTIMATE_TOT, states.AL, '001')"
   ],
   "metadata": {
    "collapsed": false,
    "pycharm": {
     "name": "#%%\n"
    }
   }
  },
  {
   "cell_type": "code",
   "execution_count": 5,
   "outputs": [
    {
     "data": {
      "text/plain": "[]"
     },
     "execution_count": 5,
     "metadata": {},
     "output_type": "execute_result"
    }
   ],
   "source": [
    "request"
   ],
   "metadata": {
    "collapsed": false,
    "pycharm": {
     "name": "#%%\n"
    }
   }
  },
  {
   "cell_type": "code",
   "execution_count": 7,
   "outputs": [
    {
     "data": {
      "text/plain": "'70d51d7bfaa27460abe479195938c29899f06c18'"
     },
     "execution_count": 7,
     "metadata": {},
     "output_type": "execute_result"
    }
   ],
   "source": [],
   "metadata": {
    "collapsed": false,
    "pycharm": {
     "name": "#%%\n"
    }
   }
  },
  {
   "cell_type": "code",
   "execution_count": 6,
   "outputs": [],
   "source": [],
   "metadata": {
    "collapsed": false,
    "pycharm": {
     "name": "#%%\n"
    }
   }
  }
 ],
 "metadata": {
  "kernelspec": {
   "name": "pycharm-301d774e",
   "language": "python",
   "display_name": "PyCharm (API_Mini_Project)"
  },
  "language_info": {
   "codemirror_mode": {
    "name": "ipython",
    "version": 2
   },
   "file_extension": ".py",
   "mimetype": "text/x-python",
   "name": "python",
   "nbconvert_exporter": "python",
   "pygments_lexer": "ipython2",
   "version": "2.7.6"
  }
 },
 "nbformat": 4,
 "nbformat_minor": 0
}