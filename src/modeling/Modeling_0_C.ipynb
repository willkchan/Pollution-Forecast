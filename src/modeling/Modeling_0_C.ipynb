{
 "cells": [
  {
   "cell_type": "markdown",
   "source": [
    "# Modeling with recursive feature elemimation (rfe)\n",
    "* usage of rfe to remove features and model\n",
    "* usage of selekbest with stepwise approach to select best parameters\n",
    "* Perform with 75-25 split (156, 52 observations)\n",
    "* check adjusted r2 values to see whether significant difference between r2 and adjusted r2\n",
    "\n",
    "### goals\n",
    "* develop a model that effectively predicts 2019 AQI pollution levels\n",
    "* fit model with training dataset\n",
    "* try grid search (b/c we have a small dataset (maybe experiemnt with random grid))\n"
   ],
   "metadata": {
    "collapsed": false
   }
  },
  {
   "cell_type": "code",
   "execution_count": 1,
   "outputs": [],
   "source": [
    "import numpy as np\n",
    "import pandas as pd\n",
    "import seaborn as sns\n",
    "import matplotlib.pyplot as plt\n",
    "from IPython.core.display import display\n",
    "from scipy import stats\n",
    "from sklearn.decomposition import PCA\n",
    "from sklearn.dummy import DummyRegressor\n",
    "from sklearn.ensemble import RandomForestRegressor\n",
    "from sklearn.feature_selection import SelectKBest, f_regression, RFECV, RFE\n",
    "from sklearn.model_selection import train_test_split, GridSearchCV, RandomizedSearchCV, cross_val_score\n",
    "from sklearn.linear_model import LinearRegression, Lasso, Ridge, ElasticNet\n",
    "from sklearn import preprocessing, svm\n",
    "from sklearn.metrics import r2_score, accuracy_score\n",
    "\n",
    "#Use to ignore convergence warnings\n",
    "import warnings\n",
    "from sklearn.exceptions import DataConversionWarning\n",
    "from sklearn.exceptions import ConvergenceWarning\n",
    "from sklearn.exceptions import FitFailedWarning\n",
    "from sklearn.pipeline import Pipeline\n",
    "from sklearn.preprocessing import StandardScaler\n",
    "\n",
    "warnings.filterwarnings(action='ignore', category=DataConversionWarning)\n",
    "warnings.filterwarnings(action='ignore', category=ConvergenceWarning)\n",
    "warnings.filterwarnings(action='ignore', category=FitFailedWarning)\n",
    "\n",
    "\n",
    "# pd.set_option('display.max_columns', None)\n",
    "# pd.reset_option('max_rows')\n",
    "# np.set_printoptions(threshold=sys.maxsize)\n",
    "\n",
    "plt.style.use('dark_background')\n",
    "plt.rcParams.update({\"grid.linewidth\":0.5, \"grid.alpha\":0.5})\n",
    "sns.set(style='ticks', context='talk')"
   ],
   "metadata": {
    "collapsed": false,
    "pycharm": {
     "name": "#%%\n"
    }
   }
  },
  {
   "cell_type": "code",
   "execution_count": 2,
   "outputs": [],
   "source": [
    "# formula for adjusted R\n",
    "def get_adjusted_r2(r2, X):\n",
    "    \"\"\" Takes the r2 score and input variables and returns adjusted r2 score\"\"\"\n",
    "    num_obs = len(X)\n",
    "    num_predictors = X.shape[1]\n",
    "    adj_r2 = 1 - (((1 - r2) * (num_obs - 1)) / (num_obs - num_predictors - 1))\n",
    "    return adj_r2"
   ],
   "metadata": {
    "collapsed": false,
    "pycharm": {
     "name": "#%%\n"
    }
   }
  },
  {
   "cell_type": "code",
   "execution_count": 3,
   "outputs": [],
   "source": [
    "# import X and y training and test sets\n",
    "\n",
    "X = pd.read_csv('../../data/train_test/X_alt')\n",
    "\n",
    "X_train = pd.read_csv('../../data/train_test/X_train_scaled_alt')\n",
    "\n",
    "X_test = pd.read_csv('../../data/train_test/X_test_scaled_alt')\n",
    "\n",
    "y = pd.read_csv('../../data/train_test/y_alt')\n",
    "\n",
    "y_train = pd.read_csv('../../data/train_test/y_train_alt')\n",
    "\n",
    "y_test = pd.read_csv('../../data/train_test/y_test_alt')\n"
   ],
   "metadata": {
    "collapsed": false,
    "pycharm": {
     "name": "#%%\n"
    }
   }
  },
  {
   "cell_type": "markdown",
   "source": [
    "# Form a baseline for comparison\n"
   ],
   "metadata": {
    "collapsed": false
   }
  },
  {
   "cell_type": "code",
   "execution_count": 4,
   "outputs": [],
   "source": [
    "X_train, X_test, y_train, y_test = train_test_split(X, y, test_size=.25, random_state=42)\n",
    "#"
   ],
   "metadata": {
    "collapsed": false,
    "pycharm": {
     "name": "#%%\n"
    }
   }
  },
  {
   "cell_type": "code",
   "execution_count": 5,
   "outputs": [],
   "source": [
    "# # because we negative observation we cannot perform logarithmic scale and will instead perform standardization\n",
    "scaler = preprocessing.StandardScaler().fit(X_train)\n",
    "\n",
    "X_train_scaled = scaler.transform(X_train)"
   ],
   "metadata": {
    "collapsed": false,
    "pycharm": {
     "name": "#%%\n"
    }
   }
  },
  {
   "cell_type": "code",
   "execution_count": 6,
   "outputs": [],
   "source": [
    "# scale test data using the scaler fitted from the training set\n",
    "\n",
    "X_test_scaled = scaler.transform(X_test)"
   ],
   "metadata": {
    "collapsed": false,
    "pycharm": {
     "name": "#%%\n"
    }
   }
  },
  {
   "cell_type": "code",
   "execution_count": 7,
   "outputs": [
    {
     "data": {
      "text/plain": "     AQI_2017_2018_diff  Civilian_labor_force_2017_2018_diff  \\\n29             2.705519                             0.232787   \n19            -0.535302                            -0.089040   \n55             0.776477                            -0.251222   \n93             0.021271                            -0.363063   \n181            0.105938                             0.161016   \n..                  ...                                  ...   \n106           -0.497668                             0.973573   \n14             0.352561                            -0.026907   \n92            -1.339379                            -0.376250   \n179            1.177203                            -0.268594   \n102           -0.559059                             0.210343   \n\n     Employed_2017_2018_diff  Unemployed_2017_2018_diff  \\\n29                  0.160397                   0.184132   \n19                  0.214868                  -0.808003   \n55                 -0.384063                   0.364611   \n93                 -0.509996                   0.406645   \n181                 0.018098                   0.375286   \n..                       ...                        ...   \n106                 0.912621                   0.124417   \n14                  0.191880                  -0.583155   \n92                 -0.538106                   0.447011   \n179                -0.453151                   0.503390   \n102                 0.101054                   0.283545   \n\n     Unemployment_rate_2017_2018_diff  \\\n29                          -0.708151   \n19                          -1.896018   \n55                          -0.114218   \n93                           0.182749   \n181                          0.776682   \n..                                ...   \n106                          0.479716   \n14                          -0.411185   \n92                           0.479716   \n179                          0.776682   \n102                          0.479716   \n\n     Poverty Estimate, All Ages_2017_2018_diff  \\\n29                                   -0.032929   \n19                                   -0.366625   \n55                                    0.171585   \n93                                    0.164637   \n181                                  -0.053591   \n..                                         ...   \n106                                  -0.753437   \n14                                   -1.187242   \n92                                    0.511314   \n179                                   0.239330   \n102                                   0.624771   \n\n     90% CI LB All Ages_2017_2018_diff  90% CI UB All Ages_2017_2018_diff  \\\n29                           -0.052244                          -0.012659   \n19                           -0.255945                          -0.478881   \n55                            0.192251                           0.148936   \n93                            0.192520                           0.134550   \n181                          -0.097600                          -0.007554   \n..                                 ...                                ...   \n106                          -0.800489                          -0.699322   \n14                           -1.037827                          -1.333915   \n92                            0.493196                           0.526518   \n179                           0.237250                           0.239805   \n102                           0.600995                           0.645045   \n\n     Poverty Percent, All Ages_2017_2018_diff  \\\n29                                  -0.358545   \n19                                  -0.358545   \n55                                   0.144708   \n93                                   0.144708   \n181                                 -0.358545   \n..                                        ...   \n106                                 -0.861798   \n14                                  -0.789905   \n92                                   1.726361   \n179                                  0.432282   \n102                                  0.791748   \n\n     90% CI LB percent_2017_2018_diff  ...  HWAC_MALE_ratio_2018  \\\n29                          -0.408037  ...             -0.265623   \n19                          -0.272170  ...              1.966411   \n55                           0.203365  ...             -0.672893   \n93                           0.271299  ...              0.612703   \n181                         -0.408037  ...             -0.779422   \n..                                ...  ...                   ...   \n106                         -0.883572  ...             -0.422983   \n14                          -0.679772  ...              0.332722   \n92                           1.562038  ...             -0.369061   \n179                          0.407166  ...             -0.801500   \n102                          0.746834  ...             -0.594512   \n\n     HWAC_FEMALE_ratio_2018  HBAC_MALE_ratio_2018  HBAC_FEMALE_ratio_2018  \\\n29                -0.239267             -0.478360               -0.454617   \n19                 1.747236              0.166351                0.127846   \n55                -0.661165             -0.178878               -0.228808   \n93                 0.475619              0.255883                0.181816   \n181               -0.761439             -0.542726               -0.507942   \n..                      ...                   ...                     ...   \n106               -0.395521              0.338929                0.261525   \n14                 0.343431              0.038756                0.040298   \n92                -0.356314             -0.039043                0.065903   \n179               -0.772961             -0.597171               -0.555449   \n102               -0.599214             -0.122927               -0.118171   \n\n     HIAC_MALE_ratio_2018  HIAC_FEMALE_ratio_2018  HAAC_MALE_ratio_2018  \\\n29              -0.068953               -0.060159              0.727062   \n19               1.967471                1.962093              1.699092   \n55              -0.770089               -0.794749             -0.693480   \n93               0.435487                0.295619             -0.183886   \n181             -0.881762               -0.876552             -0.721289   \n..                    ...                     ...                   ...   \n106             -0.683352               -0.676884             -0.550425   \n14               0.290977                0.296688              2.306325   \n92              -0.094597               -0.083728             -0.452073   \n179              0.951338                0.820300             -0.587588   \n102             -0.705777               -0.730228             -0.368065   \n\n     HAAC_FEMALE_ratio_2018  HNAC_MALE_ratio_2018  HNAC_FEMALE_ratio_2018  \n29                 0.731266              0.338143                0.135153  \n19                 1.665187              1.197938                1.248202  \n55                -0.659929             -0.663461               -0.642367  \n93                -0.152873              0.157864                0.111195  \n181               -0.695615             -0.577650               -0.600115  \n..                      ...                   ...                     ...  \n106               -0.545502             -0.561014               -0.537119  \n14                 2.301282              1.658731                1.537832  \n92                -0.398921             -0.590935               -0.571752  \n179               -0.652921             -0.652612               -0.691276  \n102               -0.415428             -0.525621               -0.515812  \n\n[156 rows x 1311 columns]",
      "text/html": "<div>\n<style scoped>\n    .dataframe tbody tr th:only-of-type {\n        vertical-align: middle;\n    }\n\n    .dataframe tbody tr th {\n        vertical-align: top;\n    }\n\n    .dataframe thead th {\n        text-align: right;\n    }\n</style>\n<table border=\"1\" class=\"dataframe\">\n  <thead>\n    <tr style=\"text-align: right;\">\n      <th></th>\n      <th>AQI_2017_2018_diff</th>\n      <th>Civilian_labor_force_2017_2018_diff</th>\n      <th>Employed_2017_2018_diff</th>\n      <th>Unemployed_2017_2018_diff</th>\n      <th>Unemployment_rate_2017_2018_diff</th>\n      <th>Poverty Estimate, All Ages_2017_2018_diff</th>\n      <th>90% CI LB All Ages_2017_2018_diff</th>\n      <th>90% CI UB All Ages_2017_2018_diff</th>\n      <th>Poverty Percent, All Ages_2017_2018_diff</th>\n      <th>90% CI LB percent_2017_2018_diff</th>\n      <th>...</th>\n      <th>HWAC_MALE_ratio_2018</th>\n      <th>HWAC_FEMALE_ratio_2018</th>\n      <th>HBAC_MALE_ratio_2018</th>\n      <th>HBAC_FEMALE_ratio_2018</th>\n      <th>HIAC_MALE_ratio_2018</th>\n      <th>HIAC_FEMALE_ratio_2018</th>\n      <th>HAAC_MALE_ratio_2018</th>\n      <th>HAAC_FEMALE_ratio_2018</th>\n      <th>HNAC_MALE_ratio_2018</th>\n      <th>HNAC_FEMALE_ratio_2018</th>\n    </tr>\n  </thead>\n  <tbody>\n    <tr>\n      <th>29</th>\n      <td>2.705519</td>\n      <td>0.232787</td>\n      <td>0.160397</td>\n      <td>0.184132</td>\n      <td>-0.708151</td>\n      <td>-0.032929</td>\n      <td>-0.052244</td>\n      <td>-0.012659</td>\n      <td>-0.358545</td>\n      <td>-0.408037</td>\n      <td>...</td>\n      <td>-0.265623</td>\n      <td>-0.239267</td>\n      <td>-0.478360</td>\n      <td>-0.454617</td>\n      <td>-0.068953</td>\n      <td>-0.060159</td>\n      <td>0.727062</td>\n      <td>0.731266</td>\n      <td>0.338143</td>\n      <td>0.135153</td>\n    </tr>\n    <tr>\n      <th>19</th>\n      <td>-0.535302</td>\n      <td>-0.089040</td>\n      <td>0.214868</td>\n      <td>-0.808003</td>\n      <td>-1.896018</td>\n      <td>-0.366625</td>\n      <td>-0.255945</td>\n      <td>-0.478881</td>\n      <td>-0.358545</td>\n      <td>-0.272170</td>\n      <td>...</td>\n      <td>1.966411</td>\n      <td>1.747236</td>\n      <td>0.166351</td>\n      <td>0.127846</td>\n      <td>1.967471</td>\n      <td>1.962093</td>\n      <td>1.699092</td>\n      <td>1.665187</td>\n      <td>1.197938</td>\n      <td>1.248202</td>\n    </tr>\n    <tr>\n      <th>55</th>\n      <td>0.776477</td>\n      <td>-0.251222</td>\n      <td>-0.384063</td>\n      <td>0.364611</td>\n      <td>-0.114218</td>\n      <td>0.171585</td>\n      <td>0.192251</td>\n      <td>0.148936</td>\n      <td>0.144708</td>\n      <td>0.203365</td>\n      <td>...</td>\n      <td>-0.672893</td>\n      <td>-0.661165</td>\n      <td>-0.178878</td>\n      <td>-0.228808</td>\n      <td>-0.770089</td>\n      <td>-0.794749</td>\n      <td>-0.693480</td>\n      <td>-0.659929</td>\n      <td>-0.663461</td>\n      <td>-0.642367</td>\n    </tr>\n    <tr>\n      <th>93</th>\n      <td>0.021271</td>\n      <td>-0.363063</td>\n      <td>-0.509996</td>\n      <td>0.406645</td>\n      <td>0.182749</td>\n      <td>0.164637</td>\n      <td>0.192520</td>\n      <td>0.134550</td>\n      <td>0.144708</td>\n      <td>0.271299</td>\n      <td>...</td>\n      <td>0.612703</td>\n      <td>0.475619</td>\n      <td>0.255883</td>\n      <td>0.181816</td>\n      <td>0.435487</td>\n      <td>0.295619</td>\n      <td>-0.183886</td>\n      <td>-0.152873</td>\n      <td>0.157864</td>\n      <td>0.111195</td>\n    </tr>\n    <tr>\n      <th>181</th>\n      <td>0.105938</td>\n      <td>0.161016</td>\n      <td>0.018098</td>\n      <td>0.375286</td>\n      <td>0.776682</td>\n      <td>-0.053591</td>\n      <td>-0.097600</td>\n      <td>-0.007554</td>\n      <td>-0.358545</td>\n      <td>-0.408037</td>\n      <td>...</td>\n      <td>-0.779422</td>\n      <td>-0.761439</td>\n      <td>-0.542726</td>\n      <td>-0.507942</td>\n      <td>-0.881762</td>\n      <td>-0.876552</td>\n      <td>-0.721289</td>\n      <td>-0.695615</td>\n      <td>-0.577650</td>\n      <td>-0.600115</td>\n    </tr>\n    <tr>\n      <th>...</th>\n      <td>...</td>\n      <td>...</td>\n      <td>...</td>\n      <td>...</td>\n      <td>...</td>\n      <td>...</td>\n      <td>...</td>\n      <td>...</td>\n      <td>...</td>\n      <td>...</td>\n      <td>...</td>\n      <td>...</td>\n      <td>...</td>\n      <td>...</td>\n      <td>...</td>\n      <td>...</td>\n      <td>...</td>\n      <td>...</td>\n      <td>...</td>\n      <td>...</td>\n      <td>...</td>\n    </tr>\n    <tr>\n      <th>106</th>\n      <td>-0.497668</td>\n      <td>0.973573</td>\n      <td>0.912621</td>\n      <td>0.124417</td>\n      <td>0.479716</td>\n      <td>-0.753437</td>\n      <td>-0.800489</td>\n      <td>-0.699322</td>\n      <td>-0.861798</td>\n      <td>-0.883572</td>\n      <td>...</td>\n      <td>-0.422983</td>\n      <td>-0.395521</td>\n      <td>0.338929</td>\n      <td>0.261525</td>\n      <td>-0.683352</td>\n      <td>-0.676884</td>\n      <td>-0.550425</td>\n      <td>-0.545502</td>\n      <td>-0.561014</td>\n      <td>-0.537119</td>\n    </tr>\n    <tr>\n      <th>14</th>\n      <td>0.352561</td>\n      <td>-0.026907</td>\n      <td>0.191880</td>\n      <td>-0.583155</td>\n      <td>-0.411185</td>\n      <td>-1.187242</td>\n      <td>-1.037827</td>\n      <td>-1.333915</td>\n      <td>-0.789905</td>\n      <td>-0.679772</td>\n      <td>...</td>\n      <td>0.332722</td>\n      <td>0.343431</td>\n      <td>0.038756</td>\n      <td>0.040298</td>\n      <td>0.290977</td>\n      <td>0.296688</td>\n      <td>2.306325</td>\n      <td>2.301282</td>\n      <td>1.658731</td>\n      <td>1.537832</td>\n    </tr>\n    <tr>\n      <th>92</th>\n      <td>-1.339379</td>\n      <td>-0.376250</td>\n      <td>-0.538106</td>\n      <td>0.447011</td>\n      <td>0.479716</td>\n      <td>0.511314</td>\n      <td>0.493196</td>\n      <td>0.526518</td>\n      <td>1.726361</td>\n      <td>1.562038</td>\n      <td>...</td>\n      <td>-0.369061</td>\n      <td>-0.356314</td>\n      <td>-0.039043</td>\n      <td>0.065903</td>\n      <td>-0.094597</td>\n      <td>-0.083728</td>\n      <td>-0.452073</td>\n      <td>-0.398921</td>\n      <td>-0.590935</td>\n      <td>-0.571752</td>\n    </tr>\n    <tr>\n      <th>179</th>\n      <td>1.177203</td>\n      <td>-0.268594</td>\n      <td>-0.453151</td>\n      <td>0.503390</td>\n      <td>0.776682</td>\n      <td>0.239330</td>\n      <td>0.237250</td>\n      <td>0.239805</td>\n      <td>0.432282</td>\n      <td>0.407166</td>\n      <td>...</td>\n      <td>-0.801500</td>\n      <td>-0.772961</td>\n      <td>-0.597171</td>\n      <td>-0.555449</td>\n      <td>0.951338</td>\n      <td>0.820300</td>\n      <td>-0.587588</td>\n      <td>-0.652921</td>\n      <td>-0.652612</td>\n      <td>-0.691276</td>\n    </tr>\n    <tr>\n      <th>102</th>\n      <td>-0.559059</td>\n      <td>0.210343</td>\n      <td>0.101054</td>\n      <td>0.283545</td>\n      <td>0.479716</td>\n      <td>0.624771</td>\n      <td>0.600995</td>\n      <td>0.645045</td>\n      <td>0.791748</td>\n      <td>0.746834</td>\n      <td>...</td>\n      <td>-0.594512</td>\n      <td>-0.599214</td>\n      <td>-0.122927</td>\n      <td>-0.118171</td>\n      <td>-0.705777</td>\n      <td>-0.730228</td>\n      <td>-0.368065</td>\n      <td>-0.415428</td>\n      <td>-0.525621</td>\n      <td>-0.515812</td>\n    </tr>\n  </tbody>\n</table>\n<p>156 rows × 1311 columns</p>\n</div>"
     },
     "metadata": {},
     "output_type": "display_data"
    },
    {
     "data": {
      "text/plain": "     AQI_2017_2018_diff  Civilian_labor_force_2017_2018_diff  \\\n161            1.179983                            -0.049097   \n15            -0.514207                            -0.155612   \n73            -0.439342                             0.098756   \n96             0.772088                            -0.380181   \n166           -0.232902                            -0.437497   \n9              1.005701                             0.734548   \n100           -0.677657                            -0.381323   \n135            0.119467                            -0.633535   \n18             2.321711                            -0.424943   \n148           -0.946933                            -0.373714   \n171           -0.249317                            -0.180339   \n30            -0.367080                             2.115946   \n155            0.286757                            -0.429888   \n180           -0.180555                             0.981435   \n125            0.440708                             1.015292   \n197           -0.703990                            -0.244882   \n164           -1.017940                            -0.438511   \n190            1.440829                            -0.171970   \n84            -0.541430                            -0.145595   \n75            -0.458308                            -1.168646   \n124            1.497074                             3.385757   \n170            0.241661                             0.059193   \n104           -0.573723                            -0.132154   \n101           -1.138832                            -0.357991   \n69            -0.690100                            -0.058734   \n25             0.827730                            -0.331996   \n95             0.400625                             0.182192   \n16             0.541304                            -0.082700   \n141           -0.359028                             1.000329   \n185           -0.344915                            -0.160304   \n154            0.336276                            -0.257309   \n68            -0.684595                            -0.365092   \n66            -0.941964                            -0.362048   \n120           -1.293715                            -0.292941   \n147            0.224571                            -0.161699   \n98             0.807830                            -0.401104   \n138           -0.379972                             0.120693   \n167           -0.398301                            -0.513071   \n45            -0.701664                            -0.397300   \n113            1.568841                            -0.400090   \n65            -3.733254                             0.069971   \n178           -2.064845                            -0.143186   \n86             0.512360                            -0.302197   \n203            0.700078                            -0.380435   \n67            -0.553167                             0.274632   \n82            -0.541137                            -0.109709   \n205            1.602388                            -0.382337   \n194           -0.168360                             0.743298   \n38             0.261369                             0.305445   \n24             0.038830                            -0.316780   \n60            -0.339491                             0.963048   \n195            0.052348                            -0.107934   \n\n     Employed_2017_2018_diff  Unemployed_2017_2018_diff  \\\n161                 0.089435                  -0.367981   \n15                 -0.277120                   0.330583   \n73                  0.402143                  -0.814008   \n96                 -0.551224                   0.471697   \n166                -0.518741                   0.234172   \n9                   0.493220                   0.615480   \n100                -0.557096                   0.484374   \n135                -0.372569                  -0.671893   \n18                 -0.535482                   0.311902   \n148                -0.513369                   0.387630   \n171                -0.282617                   0.280209   \n30                  2.837221                  -2.009308   \n155                -0.481261                   0.154107   \n180                 0.807052                   0.426995   \n125                 0.934984                   0.174457   \n197                -0.305855                   0.172456   \n164                -0.612191                   0.481038   \n190                -0.306604                   0.366279   \n84                 -0.324720                   0.484041   \n75                 -1.374660                   0.596131   \n124                 3.704134                  -0.983479   \n170                 0.008728                   0.132423   \n104                -0.287365                   0.419655   \n101                -0.528861                   0.470363   \n69                 -0.145940                   0.235173   \n25                 -0.500126                   0.462023   \n95                  0.147279                   0.086052   \n16                  0.220240                  -0.805668   \n141                 1.080657                  -0.253889   \n185                -0.231144                   0.195474   \n154                -0.268375                   0.039682   \n68                 -0.537731                   0.475367   \n66                 -0.264377                  -0.246550   \n120                -0.416546                   0.341592   \n147                -0.285740                   0.337589   \n98                 -0.578335                   0.489045   \n138                -0.001517                   0.321576   \n167                -0.630432                   0.333586   \n45                 -0.243138                  -0.396004   \n113                -0.482885                   0.236841   \n65                  0.353169                  -0.758964   \n178                -0.331716                   0.509061   \n86                 -0.508497                   0.562771   \n203                -0.554972                   0.481038   \n67                  0.276960                  -0.017031   \n82                 -0.275246                   0.446344   \n205                -0.505873                   0.344928   \n194                 0.565681                   0.445009   \n38                  0.816048                  -1.375462   \n24                 -0.435536                   0.329583   \n60                  1.146746                  -0.528444   \n195                -0.269749                   0.436336   \n\n     Unemployment_rate_2017_2018_diff  \\\n161                         -1.005118   \n15                          -0.708151   \n73                          -1.005118   \n96                          -0.114218   \n166                         -1.599052   \n9                            1.073649   \n100                          0.776682   \n135                          0.182749   \n18                          -0.411185   \n148                         -1.302085   \n171                          0.182749   \n30                          -1.005118   \n155                         -1.599052   \n180                          1.073649   \n125                         -0.411185   \n197                         -0.411185   \n164                          1.370616   \n190                         -0.114218   \n84                           0.776682   \n75                           1.667583   \n124                         -0.114218   \n170                          0.182749   \n104                         -0.114218   \n101                          0.776682   \n69                          -0.114218   \n25                          -0.114218   \n95                           0.182749   \n16                          -1.302085   \n141                         -0.114218   \n185                         -0.708151   \n154                         -1.599052   \n68                          -0.411185   \n66                           0.182749   \n120                         -0.114218   \n147                          0.182749   \n98                           0.479716   \n138                          0.182749   \n167                         -1.302085   \n45                          -0.708151   \n113                         -1.005118   \n65                          -0.411185   \n178                          1.073649   \n86                           1.667583   \n203                          0.479716   \n67                          -0.411185   \n82                           0.776682   \n205                          0.479716   \n194                          1.073649   \n38                          -0.114218   \n24                          -0.114218   \n60                           0.182749   \n195                          0.479716   \n\n     Poverty Estimate, All Ages_2017_2018_diff  \\\n161                                  -0.012268   \n15                                    0.155220   \n73                                   -0.896515   \n96                                    0.145986   \n166                                   0.165825   \n9                                     0.342821   \n100                                   0.045695   \n135                                  -1.402544   \n18                                    0.283487   \n148                                   0.174327   \n171                                   0.049900   \n30                                    0.017628   \n155                                  -0.223273   \n180                                   0.657957   \n125                                  -0.065568   \n197                                   0.053283   \n164                                  -1.534194   \n190                                  -0.208828   \n84                                   -0.030644   \n75                                   -0.349437   \n124                                   0.374088   \n170                                  -0.761757   \n104                                   0.284127   \n101                                   0.223422   \n69                                    0.661980   \n25                                    0.265202   \n95                                    1.072197   \n16                                    0.502629   \n141                                   0.674779   \n185                                   0.221228   \n154                                   0.372533   \n68                                   -0.305371   \n66                                   -0.135324   \n120                                  -0.224919   \n147                                   0.776716   \n98                                    0.219948   \n138                                  -0.375767   \n167                                   0.119839   \n45                                   -0.191458   \n113                                   0.212268   \n65                                    0.951518   \n178                                   0.316308   \n86                                    0.162442   \n203                                   0.201023   \n67                                    0.282573   \n82                                    0.051272   \n205                                   0.252677   \n194                                  -0.275202   \n38                                   -0.147392   \n24                                   -0.142912   \n60                                   -0.472402   \n195                                  -0.093817   \n\n     90% CI LB All Ages_2017_2018_diff  90% CI UB All Ages_2017_2018_diff  \\\n161                          -0.026032                           0.002099   \n15                            0.167292                           0.141604   \n73                           -0.687143                          -1.107440   \n96                            0.148416                           0.142439   \n166                           0.159956                           0.170748   \n9                             0.230988                           0.456440   \n100                           0.016730                           0.075425   \n135                          -1.288405                          -1.511103   \n18                            0.207012                           0.360838   \n148                           0.198245                           0.148287   \n171                           0.057077                           0.042103   \n30                            0.003669                           0.031986   \n155                          -0.273926                          -0.169149   \n180                           0.742074                           0.566058   \n125                           0.049204                          -0.184185   \n197                           0.084809                           0.020198   \n164                          -1.507673                          -1.550922   \n190                          -0.266412                          -0.147615   \n84                           -0.007603                          -0.054334   \n75                           -0.382352                          -0.312830   \n124                           0.594912                           0.142346   \n170                          -0.708971                          -0.811167   \n104                           0.271692                           0.295031   \n101                           0.229467                           0.215579   \n69                            0.616740                           0.704263   \n25                            0.264625                           0.263937   \n95                            0.907307                           1.235736   \n16                            0.498921                           0.502942   \n141                           0.774816                           0.566243   \n185                           0.180979                           0.261431   \n154                           0.424669                           0.315822   \n68                           -0.337980                          -0.269392   \n66                           -0.143583                          -0.125803   \n120                          -0.219176                          -0.229295   \n147                           0.784031                           0.763666   \n98                            0.215243                           0.223283   \n138                          -0.413663                          -0.333807   \n167                           0.165592                           0.071527   \n45                           -0.131863                          -0.251942   \n113                           0.229109                           0.193303   \n65                            0.874565                           1.024669   \n178                           0.325368                           0.304684   \n86                            0.165950                           0.157661   \n203                           0.186615                           0.214558   \n67                            0.308102                           0.254098   \n82                            0.052962                           0.049158   \n205                           0.240291                           0.263751   \n194                          -0.272226                          -0.276353   \n38                           -0.146714                          -0.147059   \n24                           -0.177488                          -0.106033   \n60                           -0.358824                          -0.586920   \n195                          -0.065663                          -0.122369   \n\n     Poverty Percent, All Ages_2017_2018_diff  \\\n161                                 -0.070972   \n15                                   0.000922   \n73                                  -0.789905   \n96                                  -0.214758   \n166                                  0.216602   \n9                                    0.072815   \n100                                 -0.718011   \n135                                 -0.358545   \n18                                   0.647961   \n148                                  0.144708   \n171                                 -0.142865   \n30                                   0.000922   \n155                                 -1.221265   \n180                                  0.719855   \n125                                 -0.358545   \n197                                 -0.214758   \n164                                 -1.580731   \n190                                 -1.005585   \n84                                  -0.933691   \n75                                  -0.286652   \n124                                  0.144708   \n170                                 -1.293158   \n104                                  0.791748   \n101                                  0.432282   \n69                                   0.935535   \n25                                   1.007428   \n95                                   1.079321   \n16                                   0.288495   \n141                                  0.360388   \n185                                  0.216602   \n154                                  0.647961   \n68                                  -5.247290   \n66                                  -0.214758   \n120                                 -1.293158   \n147                                  1.366895   \n98                                   0.791748   \n138                                 -1.436944   \n167                                 -0.070972   \n45                                  -0.142865   \n113                                  0.288495   \n65                                   0.432282   \n178                                  0.576068   \n86                                   0.000922   \n203                                  0.360388   \n67                                  -0.142865   \n82                                   0.000922   \n205                                  0.288495   \n194                                 -0.646118   \n38                                   0.000922   \n24                                  -0.789905   \n60                                  -0.430438   \n195                                 -0.861798   \n\n     90% CI LB percent_2017_2018_diff  ...  HWAC_MALE_ratio_2018  \\\n161                         -0.136303  ...             -0.322966   \n15                          -0.000435  ...             -0.321775   \n73                          -0.611838  ...             -0.651537   \n96                          -0.272170  ...             -0.882960   \n166                          0.135432  ...             -0.932549   \n9                           -0.136303  ...              0.678221   \n100                         -0.883572  ...             -0.932809   \n135                         -0.272170  ...              0.017514   \n18                           0.203365  ...              3.640662   \n148                          0.271299  ...             -0.899900   \n171                         -0.136303  ...              0.167815   \n30                          -0.000435  ...              1.658103   \n155                         -1.359108  ...             -0.686346   \n180                          0.814768  ...             -0.443291   \n125                         -0.204236  ...              0.327255   \n197                         -0.136303  ...             -0.716129   \n164                         -1.494975  ...             -0.394873   \n190                         -1.155307  ...              4.289831   \n84                          -0.815639  ...             -0.463999   \n75                          -0.272170  ...             -0.603507   \n124                          0.203365  ...              0.649447   \n170                         -1.155307  ...             -0.512519   \n104                          0.678901  ...             -0.751576   \n101                          0.407166  ...             -0.941676   \n69                           0.814768  ...             -0.521851   \n25                           0.882702  ...              0.331622   \n95                           0.882702  ...             -0.703163   \n16                           0.271299  ...              1.827063   \n141                          0.407166  ...             -0.351410   \n185                          0.135432  ...              0.354972   \n154                          0.746834  ...             -0.511261   \n68                          -5.435125  ...             -0.467820   \n66                          -0.272170  ...             -0.499794   \n120                         -1.223241  ...             -0.900715   \n147                          1.290303  ...             -0.765634   \n98                           0.610967  ...             -0.945039   \n138                         -1.494975  ...             -0.321215   \n167                          0.135432  ...             -0.933095   \n45                          -0.068369  ...              1.300594   \n113                          0.271299  ...             -0.929372   \n65                           0.407166  ...              0.199574   \n178                          0.610967  ...             -0.736306   \n86                          -0.000435  ...             -0.831079   \n203                          0.135432  ...             -0.712569   \n67                          -0.136303  ...              0.244565   \n82                          -0.068369  ...              0.010396   \n205                          0.203365  ...             -0.750905   \n194                         -0.611838  ...             -0.353976   \n38                          -0.000435  ...              0.320201   \n24                          -0.951506  ...             -0.150843   \n60                          -0.340104  ...              0.525230   \n195                         -0.747705  ...              0.000163   \n\n     HWAC_FEMALE_ratio_2018  HBAC_MALE_ratio_2018  HBAC_FEMALE_ratio_2018  \\\n161               -0.350746             -0.325545               -0.323909   \n15                -0.304197             -0.540054               -0.544634   \n73                -0.654134             -0.057482               -0.040492   \n96                -0.855283             -0.588543               -0.537553   \n166               -0.898605             -0.589867               -0.553735   \n9                  0.431181             -0.084002               -0.104289   \n100               -0.897397             -0.664508               -0.631720   \n135                0.116367              3.298175                3.480676   \n18                 3.595297             -0.007260                0.009218   \n148               -0.916755             -0.496788               -0.618729   \n171                0.167686              2.351048                2.165716   \n30                 1.614288              0.203257                0.207771   \n155               -0.729916              0.153186                0.067518   \n180               -0.485542             -0.250616               -0.240222   \n125                0.293198             -0.297325               -0.306025   \n197               -0.720791             -0.226536               -0.192476   \n164               -0.413948             -0.285619               -0.296137   \n190                4.486390             -0.389319               -0.405531   \n84                -0.436644             -0.454088               -0.419121   \n75                -0.619112             -0.339551               -0.362969   \n124                0.626592              0.290517                0.284117   \n170               -0.484690              0.572027                0.479729   \n104               -0.682937             -0.252074               -0.222589   \n101               -0.911534             -0.680340               -0.639120   \n69                -0.477397             -0.393704               -0.395769   \n25                 0.239226             -0.371854               -0.448044   \n95                -0.703334             -0.398230               -0.378435   \n16                 1.755437              0.247262                0.237883   \n141               -0.345704              0.362293                0.370333   \n185                0.350867             -0.179496               -0.182557   \n154               -0.485373              0.244126                0.197967   \n68                -0.472312             -0.235221               -0.311434   \n66                -0.459992             -0.213978               -0.172491   \n120               -0.879007             -0.698848               -0.641254   \n147               -0.752027             -0.395079               -0.369994   \n98                -0.925109             -0.677935               -0.627713   \n138               -0.368169              0.307966                0.259270   \n167               -0.905525             -0.518554               -0.551315   \n45                 1.286719             -0.180031               -0.198660   \n113               -0.902029             -0.675034               -0.635971   \n65                 0.219041              0.213755                0.188980   \n178               -0.752789             -0.625364               -0.591284   \n86                -0.877163             -0.604328               -0.583055   \n203               -0.749766             -0.631062               -0.608977   \n67                 0.225589              0.526099                0.436559   \n82                 0.008700              0.111449                0.191501   \n205               -0.727042             -0.645730               -0.578930   \n194               -0.355994             -0.549206               -0.510145   \n38                 0.298823             -0.284367               -0.279167   \n24                -0.174574             -0.413457               -0.446103   \n60                 0.549053              0.871425                0.789610   \n195               -0.035691             -0.348360               -0.371924   \n\n     HIAC_MALE_ratio_2018  HIAC_FEMALE_ratio_2018  HAAC_MALE_ratio_2018  \\\n161              0.387984                0.393480             -0.523710   \n15               0.062488               -0.037553              0.107840   \n73              -0.855003               -0.845808             -0.659433   \n96              -0.887276               -0.937340             -0.744554   \n166             -1.025117               -1.003201             -0.874986   \n9                2.280474                1.757984              0.414438   \n100             -1.015975               -0.996387             -0.825328   \n135              0.444916                0.627653              0.434853   \n18               1.475927                1.546005              2.439127   \n148             -0.911233               -1.017279             -0.864162   \n171              0.143340                0.131387              0.008837   \n30               1.096285                1.155880              1.752196   \n155             -0.794083               -0.843710             -0.695205   \n180             -0.680092               -0.689109             -0.481787   \n125              0.297721                0.343031              0.728221   \n197             -0.903046               -0.878949             -0.554026   \n164              0.130175                0.027268              0.030678   \n190             -0.380768               -0.370174             -0.257277   \n84              -0.721839               -0.785376             -0.632471   \n75              -0.300914               -0.311420             11.247837   \n124              0.197447                0.172434              1.688082   \n170             -0.620080               -0.640298             -0.511681   \n104             -0.827478               -0.823875             -0.522594   \n101             -1.003150               -0.992835             -0.849028   \n69              -0.869364               -0.878912             -0.647045   \n25               2.619065                2.317982             -0.087246   \n95              -0.976878               -0.975471             -0.740126   \n16               2.318026                2.397505              2.321305   \n141             -0.358915               -0.353943             -0.349188   \n185             -0.354932               -0.348523             -0.236827   \n154             -0.729587               -0.717148             -0.644370   \n68              -0.699483               -0.797236             -0.685331   \n66              -0.814574               -0.809041             -0.482119   \n120             -0.977929               -0.961117             -0.857564   \n147             -0.918978               -0.917988             -0.687115   \n98              -0.939909               -0.925502             -0.871302   \n138             -0.133080               -0.159471             -0.220496   \n167             -1.007855               -1.006153             -0.807825   \n45               1.294965                1.232360              1.409161   \n113             -0.781078               -0.732517             -0.816149   \n65              -0.421435               -0.581225             -0.345063   \n178             -0.539582               -0.378361             -0.679981   \n86              -0.969762               -0.974669             -0.816376   \n203             -0.917688               -0.950078             -0.822557   \n67              -0.418681               -0.504179             -0.414916   \n82              -0.446518               -0.395685             -0.511092   \n205             -0.942051               -0.924304             -0.750771   \n194             -0.439613               -0.477634             -0.395485   \n38               0.459433                0.439372              2.315625   \n24               0.247302               -0.035233              0.484803   \n60              -0.563462               -0.544983             -0.133592   \n195              0.190766                0.208164             -0.053085   \n\n     HAAC_FEMALE_ratio_2018  HNAC_MALE_ratio_2018  HNAC_FEMALE_ratio_2018  \n161               -0.498360             -0.598638               -0.468140  \n15                 0.028584             -0.024577               -0.011896  \n73                -0.623406             -0.890726               -0.851071  \n96                -0.698361             -0.847878               -0.951074  \n166               -0.837730             -0.975171               -0.965515  \n9                  0.330372              0.385620                0.320694  \n100               -0.820296             -1.069600               -0.937393  \n135                0.596136              0.834306                1.091849  \n18                 2.590405              1.329744                1.435957  \n148               -0.871000             -1.063651               -0.959654  \n171               -0.054991              0.743164                0.650298  \n30                 1.828299              1.522380                1.716288  \n155               -0.651896             -0.609149               -0.757331  \n180               -0.445969             -0.246501               -0.344341  \n125                0.723644              1.272042                1.238026  \n197               -0.581915             -0.830939               -0.797827  \n164                0.094282              0.038363               -0.086978  \n190               -0.309232             -0.474552               -0.583212  \n84                -0.626677             -0.842128               -0.733005  \n75                11.384001             37.101634               35.802362  \n124                1.713547              2.642065                2.598889  \n170               -0.528361             -0.224400               -0.159585  \n104               -0.441114             -0.461930               -0.527365  \n101               -0.834945             -1.083108               -0.950348  \n69                -0.662592             -0.836802               -0.693251  \n25                 0.018816              0.884976                0.722395  \n95                -0.736842             -0.905045               -0.919512  \n16                 2.273505              1.291891                1.310515  \n141               -0.370616             -0.383327               -0.467294  \n185               -0.237763             -0.458195               -0.373861  \n154               -0.588471             -0.415933               -0.315624  \n68                -0.738269             -0.250390               -0.716292  \n66                -0.444133             -0.661615               -0.681699  \n120               -0.819368             -1.114832               -1.041958  \n147               -0.688592             -0.708772               -0.685134  \n98                -0.824970             -1.050799               -0.988396  \n138               -0.188174             -0.293041               -0.276175  \n167               -0.855662             -1.112496               -1.000711  \n45                 1.504304              0.964144                0.996909  \n113               -0.823968             -1.070564               -1.060947  \n65                -0.354374             -0.132526               -0.266393  \n178               -0.692819             -0.172790               -0.346460  \n86                -0.832728             -1.070361               -1.086653  \n203               -0.784144             -1.039113               -0.856176  \n67                -0.452784             -0.231850               -0.371587  \n82                -0.430976             -0.512446               -0.397344  \n205               -0.744261             -0.953879               -0.940438  \n194               -0.357660              0.131010                0.249628  \n38                 2.340114              1.347522                1.229003  \n24                 0.345774              0.656503                0.479332  \n60                -0.106918             -0.219370               -0.114726  \n195               -0.037636             -0.098354               -0.084317  \n\n[52 rows x 1311 columns]",
      "text/html": "<div>\n<style scoped>\n    .dataframe tbody tr th:only-of-type {\n        vertical-align: middle;\n    }\n\n    .dataframe tbody tr th {\n        vertical-align: top;\n    }\n\n    .dataframe thead th {\n        text-align: right;\n    }\n</style>\n<table border=\"1\" class=\"dataframe\">\n  <thead>\n    <tr style=\"text-align: right;\">\n      <th></th>\n      <th>AQI_2017_2018_diff</th>\n      <th>Civilian_labor_force_2017_2018_diff</th>\n      <th>Employed_2017_2018_diff</th>\n      <th>Unemployed_2017_2018_diff</th>\n      <th>Unemployment_rate_2017_2018_diff</th>\n      <th>Poverty Estimate, All Ages_2017_2018_diff</th>\n      <th>90% CI LB All Ages_2017_2018_diff</th>\n      <th>90% CI UB All Ages_2017_2018_diff</th>\n      <th>Poverty Percent, All Ages_2017_2018_diff</th>\n      <th>90% CI LB percent_2017_2018_diff</th>\n      <th>...</th>\n      <th>HWAC_MALE_ratio_2018</th>\n      <th>HWAC_FEMALE_ratio_2018</th>\n      <th>HBAC_MALE_ratio_2018</th>\n      <th>HBAC_FEMALE_ratio_2018</th>\n      <th>HIAC_MALE_ratio_2018</th>\n      <th>HIAC_FEMALE_ratio_2018</th>\n      <th>HAAC_MALE_ratio_2018</th>\n      <th>HAAC_FEMALE_ratio_2018</th>\n      <th>HNAC_MALE_ratio_2018</th>\n      <th>HNAC_FEMALE_ratio_2018</th>\n    </tr>\n  </thead>\n  <tbody>\n    <tr>\n      <th>161</th>\n      <td>1.179983</td>\n      <td>-0.049097</td>\n      <td>0.089435</td>\n      <td>-0.367981</td>\n      <td>-1.005118</td>\n      <td>-0.012268</td>\n      <td>-0.026032</td>\n      <td>0.002099</td>\n      <td>-0.070972</td>\n      <td>-0.136303</td>\n      <td>...</td>\n      <td>-0.322966</td>\n      <td>-0.350746</td>\n      <td>-0.325545</td>\n      <td>-0.323909</td>\n      <td>0.387984</td>\n      <td>0.393480</td>\n      <td>-0.523710</td>\n      <td>-0.498360</td>\n      <td>-0.598638</td>\n      <td>-0.468140</td>\n    </tr>\n    <tr>\n      <th>15</th>\n      <td>-0.514207</td>\n      <td>-0.155612</td>\n      <td>-0.277120</td>\n      <td>0.330583</td>\n      <td>-0.708151</td>\n      <td>0.155220</td>\n      <td>0.167292</td>\n      <td>0.141604</td>\n      <td>0.000922</td>\n      <td>-0.000435</td>\n      <td>...</td>\n      <td>-0.321775</td>\n      <td>-0.304197</td>\n      <td>-0.540054</td>\n      <td>-0.544634</td>\n      <td>0.062488</td>\n      <td>-0.037553</td>\n      <td>0.107840</td>\n      <td>0.028584</td>\n      <td>-0.024577</td>\n      <td>-0.011896</td>\n    </tr>\n    <tr>\n      <th>73</th>\n      <td>-0.439342</td>\n      <td>0.098756</td>\n      <td>0.402143</td>\n      <td>-0.814008</td>\n      <td>-1.005118</td>\n      <td>-0.896515</td>\n      <td>-0.687143</td>\n      <td>-1.107440</td>\n      <td>-0.789905</td>\n      <td>-0.611838</td>\n      <td>...</td>\n      <td>-0.651537</td>\n      <td>-0.654134</td>\n      <td>-0.057482</td>\n      <td>-0.040492</td>\n      <td>-0.855003</td>\n      <td>-0.845808</td>\n      <td>-0.659433</td>\n      <td>-0.623406</td>\n      <td>-0.890726</td>\n      <td>-0.851071</td>\n    </tr>\n    <tr>\n      <th>96</th>\n      <td>0.772088</td>\n      <td>-0.380181</td>\n      <td>-0.551224</td>\n      <td>0.471697</td>\n      <td>-0.114218</td>\n      <td>0.145986</td>\n      <td>0.148416</td>\n      <td>0.142439</td>\n      <td>-0.214758</td>\n      <td>-0.272170</td>\n      <td>...</td>\n      <td>-0.882960</td>\n      <td>-0.855283</td>\n      <td>-0.588543</td>\n      <td>-0.537553</td>\n      <td>-0.887276</td>\n      <td>-0.937340</td>\n      <td>-0.744554</td>\n      <td>-0.698361</td>\n      <td>-0.847878</td>\n      <td>-0.951074</td>\n    </tr>\n    <tr>\n      <th>166</th>\n      <td>-0.232902</td>\n      <td>-0.437497</td>\n      <td>-0.518741</td>\n      <td>0.234172</td>\n      <td>-1.599052</td>\n      <td>0.165825</td>\n      <td>0.159956</td>\n      <td>0.170748</td>\n      <td>0.216602</td>\n      <td>0.135432</td>\n      <td>...</td>\n      <td>-0.932549</td>\n      <td>-0.898605</td>\n      <td>-0.589867</td>\n      <td>-0.553735</td>\n      <td>-1.025117</td>\n      <td>-1.003201</td>\n      <td>-0.874986</td>\n      <td>-0.837730</td>\n      <td>-0.975171</td>\n      <td>-0.965515</td>\n    </tr>\n    <tr>\n      <th>9</th>\n      <td>1.005701</td>\n      <td>0.734548</td>\n      <td>0.493220</td>\n      <td>0.615480</td>\n      <td>1.073649</td>\n      <td>0.342821</td>\n      <td>0.230988</td>\n      <td>0.456440</td>\n      <td>0.072815</td>\n      <td>-0.136303</td>\n      <td>...</td>\n      <td>0.678221</td>\n      <td>0.431181</td>\n      <td>-0.084002</td>\n      <td>-0.104289</td>\n      <td>2.280474</td>\n      <td>1.757984</td>\n      <td>0.414438</td>\n      <td>0.330372</td>\n      <td>0.385620</td>\n      <td>0.320694</td>\n    </tr>\n    <tr>\n      <th>100</th>\n      <td>-0.677657</td>\n      <td>-0.381323</td>\n      <td>-0.557096</td>\n      <td>0.484374</td>\n      <td>0.776682</td>\n      <td>0.045695</td>\n      <td>0.016730</td>\n      <td>0.075425</td>\n      <td>-0.718011</td>\n      <td>-0.883572</td>\n      <td>...</td>\n      <td>-0.932809</td>\n      <td>-0.897397</td>\n      <td>-0.664508</td>\n      <td>-0.631720</td>\n      <td>-1.015975</td>\n      <td>-0.996387</td>\n      <td>-0.825328</td>\n      <td>-0.820296</td>\n      <td>-1.069600</td>\n      <td>-0.937393</td>\n    </tr>\n    <tr>\n      <th>135</th>\n      <td>0.119467</td>\n      <td>-0.633535</td>\n      <td>-0.372569</td>\n      <td>-0.671893</td>\n      <td>0.182749</td>\n      <td>-1.402544</td>\n      <td>-1.288405</td>\n      <td>-1.511103</td>\n      <td>-0.358545</td>\n      <td>-0.272170</td>\n      <td>...</td>\n      <td>0.017514</td>\n      <td>0.116367</td>\n      <td>3.298175</td>\n      <td>3.480676</td>\n      <td>0.444916</td>\n      <td>0.627653</td>\n      <td>0.434853</td>\n      <td>0.596136</td>\n      <td>0.834306</td>\n      <td>1.091849</td>\n    </tr>\n    <tr>\n      <th>18</th>\n      <td>2.321711</td>\n      <td>-0.424943</td>\n      <td>-0.535482</td>\n      <td>0.311902</td>\n      <td>-0.411185</td>\n      <td>0.283487</td>\n      <td>0.207012</td>\n      <td>0.360838</td>\n      <td>0.647961</td>\n      <td>0.203365</td>\n      <td>...</td>\n      <td>3.640662</td>\n      <td>3.595297</td>\n      <td>-0.007260</td>\n      <td>0.009218</td>\n      <td>1.475927</td>\n      <td>1.546005</td>\n      <td>2.439127</td>\n      <td>2.590405</td>\n      <td>1.329744</td>\n      <td>1.435957</td>\n    </tr>\n    <tr>\n      <th>148</th>\n      <td>-0.946933</td>\n      <td>-0.373714</td>\n      <td>-0.513369</td>\n      <td>0.387630</td>\n      <td>-1.302085</td>\n      <td>0.174327</td>\n      <td>0.198245</td>\n      <td>0.148287</td>\n      <td>0.144708</td>\n      <td>0.271299</td>\n      <td>...</td>\n      <td>-0.899900</td>\n      <td>-0.916755</td>\n      <td>-0.496788</td>\n      <td>-0.618729</td>\n      <td>-0.911233</td>\n      <td>-1.017279</td>\n      <td>-0.864162</td>\n      <td>-0.871000</td>\n      <td>-1.063651</td>\n      <td>-0.959654</td>\n    </tr>\n    <tr>\n      <th>171</th>\n      <td>-0.249317</td>\n      <td>-0.180339</td>\n      <td>-0.282617</td>\n      <td>0.280209</td>\n      <td>0.182749</td>\n      <td>0.049900</td>\n      <td>0.057077</td>\n      <td>0.042103</td>\n      <td>-0.142865</td>\n      <td>-0.136303</td>\n      <td>...</td>\n      <td>0.167815</td>\n      <td>0.167686</td>\n      <td>2.351048</td>\n      <td>2.165716</td>\n      <td>0.143340</td>\n      <td>0.131387</td>\n      <td>0.008837</td>\n      <td>-0.054991</td>\n      <td>0.743164</td>\n      <td>0.650298</td>\n    </tr>\n    <tr>\n      <th>30</th>\n      <td>-0.367080</td>\n      <td>2.115946</td>\n      <td>2.837221</td>\n      <td>-2.009308</td>\n      <td>-1.005118</td>\n      <td>0.017628</td>\n      <td>0.003669</td>\n      <td>0.031986</td>\n      <td>0.000922</td>\n      <td>-0.000435</td>\n      <td>...</td>\n      <td>1.658103</td>\n      <td>1.614288</td>\n      <td>0.203257</td>\n      <td>0.207771</td>\n      <td>1.096285</td>\n      <td>1.155880</td>\n      <td>1.752196</td>\n      <td>1.828299</td>\n      <td>1.522380</td>\n      <td>1.716288</td>\n    </tr>\n    <tr>\n      <th>155</th>\n      <td>0.286757</td>\n      <td>-0.429888</td>\n      <td>-0.481261</td>\n      <td>0.154107</td>\n      <td>-1.599052</td>\n      <td>-0.223273</td>\n      <td>-0.273926</td>\n      <td>-0.169149</td>\n      <td>-1.221265</td>\n      <td>-1.359108</td>\n      <td>...</td>\n      <td>-0.686346</td>\n      <td>-0.729916</td>\n      <td>0.153186</td>\n      <td>0.067518</td>\n      <td>-0.794083</td>\n      <td>-0.843710</td>\n      <td>-0.695205</td>\n      <td>-0.651896</td>\n      <td>-0.609149</td>\n      <td>-0.757331</td>\n    </tr>\n    <tr>\n      <th>180</th>\n      <td>-0.180555</td>\n      <td>0.981435</td>\n      <td>0.807052</td>\n      <td>0.426995</td>\n      <td>1.073649</td>\n      <td>0.657957</td>\n      <td>0.742074</td>\n      <td>0.566058</td>\n      <td>0.719855</td>\n      <td>0.814768</td>\n      <td>...</td>\n      <td>-0.443291</td>\n      <td>-0.485542</td>\n      <td>-0.250616</td>\n      <td>-0.240222</td>\n      <td>-0.680092</td>\n      <td>-0.689109</td>\n      <td>-0.481787</td>\n      <td>-0.445969</td>\n      <td>-0.246501</td>\n      <td>-0.344341</td>\n    </tr>\n    <tr>\n      <th>125</th>\n      <td>0.440708</td>\n      <td>1.015292</td>\n      <td>0.934984</td>\n      <td>0.174457</td>\n      <td>-0.411185</td>\n      <td>-0.065568</td>\n      <td>0.049204</td>\n      <td>-0.184185</td>\n      <td>-0.358545</td>\n      <td>-0.204236</td>\n      <td>...</td>\n      <td>0.327255</td>\n      <td>0.293198</td>\n      <td>-0.297325</td>\n      <td>-0.306025</td>\n      <td>0.297721</td>\n      <td>0.343031</td>\n      <td>0.728221</td>\n      <td>0.723644</td>\n      <td>1.272042</td>\n      <td>1.238026</td>\n    </tr>\n    <tr>\n      <th>197</th>\n      <td>-0.703990</td>\n      <td>-0.244882</td>\n      <td>-0.305855</td>\n      <td>0.172456</td>\n      <td>-0.411185</td>\n      <td>0.053283</td>\n      <td>0.084809</td>\n      <td>0.020198</td>\n      <td>-0.214758</td>\n      <td>-0.136303</td>\n      <td>...</td>\n      <td>-0.716129</td>\n      <td>-0.720791</td>\n      <td>-0.226536</td>\n      <td>-0.192476</td>\n      <td>-0.903046</td>\n      <td>-0.878949</td>\n      <td>-0.554026</td>\n      <td>-0.581915</td>\n      <td>-0.830939</td>\n      <td>-0.797827</td>\n    </tr>\n    <tr>\n      <th>164</th>\n      <td>-1.017940</td>\n      <td>-0.438511</td>\n      <td>-0.612191</td>\n      <td>0.481038</td>\n      <td>1.370616</td>\n      <td>-1.534194</td>\n      <td>-1.507673</td>\n      <td>-1.550922</td>\n      <td>-1.580731</td>\n      <td>-1.494975</td>\n      <td>...</td>\n      <td>-0.394873</td>\n      <td>-0.413948</td>\n      <td>-0.285619</td>\n      <td>-0.296137</td>\n      <td>0.130175</td>\n      <td>0.027268</td>\n      <td>0.030678</td>\n      <td>0.094282</td>\n      <td>0.038363</td>\n      <td>-0.086978</td>\n    </tr>\n    <tr>\n      <th>190</th>\n      <td>1.440829</td>\n      <td>-0.171970</td>\n      <td>-0.306604</td>\n      <td>0.366279</td>\n      <td>-0.114218</td>\n      <td>-0.208828</td>\n      <td>-0.266412</td>\n      <td>-0.147615</td>\n      <td>-1.005585</td>\n      <td>-1.155307</td>\n      <td>...</td>\n      <td>4.289831</td>\n      <td>4.486390</td>\n      <td>-0.389319</td>\n      <td>-0.405531</td>\n      <td>-0.380768</td>\n      <td>-0.370174</td>\n      <td>-0.257277</td>\n      <td>-0.309232</td>\n      <td>-0.474552</td>\n      <td>-0.583212</td>\n    </tr>\n    <tr>\n      <th>84</th>\n      <td>-0.541430</td>\n      <td>-0.145595</td>\n      <td>-0.324720</td>\n      <td>0.484041</td>\n      <td>0.776682</td>\n      <td>-0.030644</td>\n      <td>-0.007603</td>\n      <td>-0.054334</td>\n      <td>-0.933691</td>\n      <td>-0.815639</td>\n      <td>...</td>\n      <td>-0.463999</td>\n      <td>-0.436644</td>\n      <td>-0.454088</td>\n      <td>-0.419121</td>\n      <td>-0.721839</td>\n      <td>-0.785376</td>\n      <td>-0.632471</td>\n      <td>-0.626677</td>\n      <td>-0.842128</td>\n      <td>-0.733005</td>\n    </tr>\n    <tr>\n      <th>75</th>\n      <td>-0.458308</td>\n      <td>-1.168646</td>\n      <td>-1.374660</td>\n      <td>0.596131</td>\n      <td>1.667583</td>\n      <td>-0.349437</td>\n      <td>-0.382352</td>\n      <td>-0.312830</td>\n      <td>-0.286652</td>\n      <td>-0.272170</td>\n      <td>...</td>\n      <td>-0.603507</td>\n      <td>-0.619112</td>\n      <td>-0.339551</td>\n      <td>-0.362969</td>\n      <td>-0.300914</td>\n      <td>-0.311420</td>\n      <td>11.247837</td>\n      <td>11.384001</td>\n      <td>37.101634</td>\n      <td>35.802362</td>\n    </tr>\n    <tr>\n      <th>124</th>\n      <td>1.497074</td>\n      <td>3.385757</td>\n      <td>3.704134</td>\n      <td>-0.983479</td>\n      <td>-0.114218</td>\n      <td>0.374088</td>\n      <td>0.594912</td>\n      <td>0.142346</td>\n      <td>0.144708</td>\n      <td>0.203365</td>\n      <td>...</td>\n      <td>0.649447</td>\n      <td>0.626592</td>\n      <td>0.290517</td>\n      <td>0.284117</td>\n      <td>0.197447</td>\n      <td>0.172434</td>\n      <td>1.688082</td>\n      <td>1.713547</td>\n      <td>2.642065</td>\n      <td>2.598889</td>\n    </tr>\n    <tr>\n      <th>170</th>\n      <td>0.241661</td>\n      <td>0.059193</td>\n      <td>0.008728</td>\n      <td>0.132423</td>\n      <td>0.182749</td>\n      <td>-0.761757</td>\n      <td>-0.708971</td>\n      <td>-0.811167</td>\n      <td>-1.293158</td>\n      <td>-1.155307</td>\n      <td>...</td>\n      <td>-0.512519</td>\n      <td>-0.484690</td>\n      <td>0.572027</td>\n      <td>0.479729</td>\n      <td>-0.620080</td>\n      <td>-0.640298</td>\n      <td>-0.511681</td>\n      <td>-0.528361</td>\n      <td>-0.224400</td>\n      <td>-0.159585</td>\n    </tr>\n    <tr>\n      <th>104</th>\n      <td>-0.573723</td>\n      <td>-0.132154</td>\n      <td>-0.287365</td>\n      <td>0.419655</td>\n      <td>-0.114218</td>\n      <td>0.284127</td>\n      <td>0.271692</td>\n      <td>0.295031</td>\n      <td>0.791748</td>\n      <td>0.678901</td>\n      <td>...</td>\n      <td>-0.751576</td>\n      <td>-0.682937</td>\n      <td>-0.252074</td>\n      <td>-0.222589</td>\n      <td>-0.827478</td>\n      <td>-0.823875</td>\n      <td>-0.522594</td>\n      <td>-0.441114</td>\n      <td>-0.461930</td>\n      <td>-0.527365</td>\n    </tr>\n    <tr>\n      <th>101</th>\n      <td>-1.138832</td>\n      <td>-0.357991</td>\n      <td>-0.528861</td>\n      <td>0.470363</td>\n      <td>0.776682</td>\n      <td>0.223422</td>\n      <td>0.229467</td>\n      <td>0.215579</td>\n      <td>0.432282</td>\n      <td>0.407166</td>\n      <td>...</td>\n      <td>-0.941676</td>\n      <td>-0.911534</td>\n      <td>-0.680340</td>\n      <td>-0.639120</td>\n      <td>-1.003150</td>\n      <td>-0.992835</td>\n      <td>-0.849028</td>\n      <td>-0.834945</td>\n      <td>-1.083108</td>\n      <td>-0.950348</td>\n    </tr>\n    <tr>\n      <th>69</th>\n      <td>-0.690100</td>\n      <td>-0.058734</td>\n      <td>-0.145940</td>\n      <td>0.235173</td>\n      <td>-0.114218</td>\n      <td>0.661980</td>\n      <td>0.616740</td>\n      <td>0.704263</td>\n      <td>0.935535</td>\n      <td>0.814768</td>\n      <td>...</td>\n      <td>-0.521851</td>\n      <td>-0.477397</td>\n      <td>-0.393704</td>\n      <td>-0.395769</td>\n      <td>-0.869364</td>\n      <td>-0.878912</td>\n      <td>-0.647045</td>\n      <td>-0.662592</td>\n      <td>-0.836802</td>\n      <td>-0.693251</td>\n    </tr>\n    <tr>\n      <th>25</th>\n      <td>0.827730</td>\n      <td>-0.331996</td>\n      <td>-0.500126</td>\n      <td>0.462023</td>\n      <td>-0.114218</td>\n      <td>0.265202</td>\n      <td>0.264625</td>\n      <td>0.263937</td>\n      <td>1.007428</td>\n      <td>0.882702</td>\n      <td>...</td>\n      <td>0.331622</td>\n      <td>0.239226</td>\n      <td>-0.371854</td>\n      <td>-0.448044</td>\n      <td>2.619065</td>\n      <td>2.317982</td>\n      <td>-0.087246</td>\n      <td>0.018816</td>\n      <td>0.884976</td>\n      <td>0.722395</td>\n    </tr>\n    <tr>\n      <th>95</th>\n      <td>0.400625</td>\n      <td>0.182192</td>\n      <td>0.147279</td>\n      <td>0.086052</td>\n      <td>0.182749</td>\n      <td>1.072197</td>\n      <td>0.907307</td>\n      <td>1.235736</td>\n      <td>1.079321</td>\n      <td>0.882702</td>\n      <td>...</td>\n      <td>-0.703163</td>\n      <td>-0.703334</td>\n      <td>-0.398230</td>\n      <td>-0.378435</td>\n      <td>-0.976878</td>\n      <td>-0.975471</td>\n      <td>-0.740126</td>\n      <td>-0.736842</td>\n      <td>-0.905045</td>\n      <td>-0.919512</td>\n    </tr>\n    <tr>\n      <th>16</th>\n      <td>0.541304</td>\n      <td>-0.082700</td>\n      <td>0.220240</td>\n      <td>-0.805668</td>\n      <td>-1.302085</td>\n      <td>0.502629</td>\n      <td>0.498921</td>\n      <td>0.502942</td>\n      <td>0.288495</td>\n      <td>0.271299</td>\n      <td>...</td>\n      <td>1.827063</td>\n      <td>1.755437</td>\n      <td>0.247262</td>\n      <td>0.237883</td>\n      <td>2.318026</td>\n      <td>2.397505</td>\n      <td>2.321305</td>\n      <td>2.273505</td>\n      <td>1.291891</td>\n      <td>1.310515</td>\n    </tr>\n    <tr>\n      <th>141</th>\n      <td>-0.359028</td>\n      <td>1.000329</td>\n      <td>1.080657</td>\n      <td>-0.253889</td>\n      <td>-0.114218</td>\n      <td>0.674779</td>\n      <td>0.774816</td>\n      <td>0.566243</td>\n      <td>0.360388</td>\n      <td>0.407166</td>\n      <td>...</td>\n      <td>-0.351410</td>\n      <td>-0.345704</td>\n      <td>0.362293</td>\n      <td>0.370333</td>\n      <td>-0.358915</td>\n      <td>-0.353943</td>\n      <td>-0.349188</td>\n      <td>-0.370616</td>\n      <td>-0.383327</td>\n      <td>-0.467294</td>\n    </tr>\n    <tr>\n      <th>185</th>\n      <td>-0.344915</td>\n      <td>-0.160304</td>\n      <td>-0.231144</td>\n      <td>0.195474</td>\n      <td>-0.708151</td>\n      <td>0.221228</td>\n      <td>0.180979</td>\n      <td>0.261431</td>\n      <td>0.216602</td>\n      <td>0.135432</td>\n      <td>...</td>\n      <td>0.354972</td>\n      <td>0.350867</td>\n      <td>-0.179496</td>\n      <td>-0.182557</td>\n      <td>-0.354932</td>\n      <td>-0.348523</td>\n      <td>-0.236827</td>\n      <td>-0.237763</td>\n      <td>-0.458195</td>\n      <td>-0.373861</td>\n    </tr>\n    <tr>\n      <th>154</th>\n      <td>0.336276</td>\n      <td>-0.257309</td>\n      <td>-0.268375</td>\n      <td>0.039682</td>\n      <td>-1.599052</td>\n      <td>0.372533</td>\n      <td>0.424669</td>\n      <td>0.315822</td>\n      <td>0.647961</td>\n      <td>0.746834</td>\n      <td>...</td>\n      <td>-0.511261</td>\n      <td>-0.485373</td>\n      <td>0.244126</td>\n      <td>0.197967</td>\n      <td>-0.729587</td>\n      <td>-0.717148</td>\n      <td>-0.644370</td>\n      <td>-0.588471</td>\n      <td>-0.415933</td>\n      <td>-0.315624</td>\n    </tr>\n    <tr>\n      <th>68</th>\n      <td>-0.684595</td>\n      <td>-0.365092</td>\n      <td>-0.537731</td>\n      <td>0.475367</td>\n      <td>-0.411185</td>\n      <td>-0.305371</td>\n      <td>-0.337980</td>\n      <td>-0.269392</td>\n      <td>-5.247290</td>\n      <td>-5.435125</td>\n      <td>...</td>\n      <td>-0.467820</td>\n      <td>-0.472312</td>\n      <td>-0.235221</td>\n      <td>-0.311434</td>\n      <td>-0.699483</td>\n      <td>-0.797236</td>\n      <td>-0.685331</td>\n      <td>-0.738269</td>\n      <td>-0.250390</td>\n      <td>-0.716292</td>\n    </tr>\n    <tr>\n      <th>66</th>\n      <td>-0.941964</td>\n      <td>-0.362048</td>\n      <td>-0.264377</td>\n      <td>-0.246550</td>\n      <td>0.182749</td>\n      <td>-0.135324</td>\n      <td>-0.143583</td>\n      <td>-0.125803</td>\n      <td>-0.214758</td>\n      <td>-0.272170</td>\n      <td>...</td>\n      <td>-0.499794</td>\n      <td>-0.459992</td>\n      <td>-0.213978</td>\n      <td>-0.172491</td>\n      <td>-0.814574</td>\n      <td>-0.809041</td>\n      <td>-0.482119</td>\n      <td>-0.444133</td>\n      <td>-0.661615</td>\n      <td>-0.681699</td>\n    </tr>\n    <tr>\n      <th>120</th>\n      <td>-1.293715</td>\n      <td>-0.292941</td>\n      <td>-0.416546</td>\n      <td>0.341592</td>\n      <td>-0.114218</td>\n      <td>-0.224919</td>\n      <td>-0.219176</td>\n      <td>-0.229295</td>\n      <td>-1.293158</td>\n      <td>-1.223241</td>\n      <td>...</td>\n      <td>-0.900715</td>\n      <td>-0.879007</td>\n      <td>-0.698848</td>\n      <td>-0.641254</td>\n      <td>-0.977929</td>\n      <td>-0.961117</td>\n      <td>-0.857564</td>\n      <td>-0.819368</td>\n      <td>-1.114832</td>\n      <td>-1.041958</td>\n    </tr>\n    <tr>\n      <th>147</th>\n      <td>0.224571</td>\n      <td>-0.161699</td>\n      <td>-0.285740</td>\n      <td>0.337589</td>\n      <td>0.182749</td>\n      <td>0.776716</td>\n      <td>0.784031</td>\n      <td>0.763666</td>\n      <td>1.366895</td>\n      <td>1.290303</td>\n      <td>...</td>\n      <td>-0.765634</td>\n      <td>-0.752027</td>\n      <td>-0.395079</td>\n      <td>-0.369994</td>\n      <td>-0.918978</td>\n      <td>-0.917988</td>\n      <td>-0.687115</td>\n      <td>-0.688592</td>\n      <td>-0.708772</td>\n      <td>-0.685134</td>\n    </tr>\n    <tr>\n      <th>98</th>\n      <td>0.807830</td>\n      <td>-0.401104</td>\n      <td>-0.578335</td>\n      <td>0.489045</td>\n      <td>0.479716</td>\n      <td>0.219948</td>\n      <td>0.215243</td>\n      <td>0.223283</td>\n      <td>0.791748</td>\n      <td>0.610967</td>\n      <td>...</td>\n      <td>-0.945039</td>\n      <td>-0.925109</td>\n      <td>-0.677935</td>\n      <td>-0.627713</td>\n      <td>-0.939909</td>\n      <td>-0.925502</td>\n      <td>-0.871302</td>\n      <td>-0.824970</td>\n      <td>-1.050799</td>\n      <td>-0.988396</td>\n    </tr>\n    <tr>\n      <th>138</th>\n      <td>-0.379972</td>\n      <td>0.120693</td>\n      <td>-0.001517</td>\n      <td>0.321576</td>\n      <td>0.182749</td>\n      <td>-0.375767</td>\n      <td>-0.413663</td>\n      <td>-0.333807</td>\n      <td>-1.436944</td>\n      <td>-1.494975</td>\n      <td>...</td>\n      <td>-0.321215</td>\n      <td>-0.368169</td>\n      <td>0.307966</td>\n      <td>0.259270</td>\n      <td>-0.133080</td>\n      <td>-0.159471</td>\n      <td>-0.220496</td>\n      <td>-0.188174</td>\n      <td>-0.293041</td>\n      <td>-0.276175</td>\n    </tr>\n    <tr>\n      <th>167</th>\n      <td>-0.398301</td>\n      <td>-0.513071</td>\n      <td>-0.630432</td>\n      <td>0.333586</td>\n      <td>-1.302085</td>\n      <td>0.119839</td>\n      <td>0.165592</td>\n      <td>0.071527</td>\n      <td>-0.070972</td>\n      <td>0.135432</td>\n      <td>...</td>\n      <td>-0.933095</td>\n      <td>-0.905525</td>\n      <td>-0.518554</td>\n      <td>-0.551315</td>\n      <td>-1.007855</td>\n      <td>-1.006153</td>\n      <td>-0.807825</td>\n      <td>-0.855662</td>\n      <td>-1.112496</td>\n      <td>-1.000711</td>\n    </tr>\n    <tr>\n      <th>45</th>\n      <td>-0.701664</td>\n      <td>-0.397300</td>\n      <td>-0.243138</td>\n      <td>-0.396004</td>\n      <td>-0.708151</td>\n      <td>-0.191458</td>\n      <td>-0.131863</td>\n      <td>-0.251942</td>\n      <td>-0.142865</td>\n      <td>-0.068369</td>\n      <td>...</td>\n      <td>1.300594</td>\n      <td>1.286719</td>\n      <td>-0.180031</td>\n      <td>-0.198660</td>\n      <td>1.294965</td>\n      <td>1.232360</td>\n      <td>1.409161</td>\n      <td>1.504304</td>\n      <td>0.964144</td>\n      <td>0.996909</td>\n    </tr>\n    <tr>\n      <th>113</th>\n      <td>1.568841</td>\n      <td>-0.400090</td>\n      <td>-0.482885</td>\n      <td>0.236841</td>\n      <td>-1.005118</td>\n      <td>0.212268</td>\n      <td>0.229109</td>\n      <td>0.193303</td>\n      <td>0.288495</td>\n      <td>0.271299</td>\n      <td>...</td>\n      <td>-0.929372</td>\n      <td>-0.902029</td>\n      <td>-0.675034</td>\n      <td>-0.635971</td>\n      <td>-0.781078</td>\n      <td>-0.732517</td>\n      <td>-0.816149</td>\n      <td>-0.823968</td>\n      <td>-1.070564</td>\n      <td>-1.060947</td>\n    </tr>\n    <tr>\n      <th>65</th>\n      <td>-3.733254</td>\n      <td>0.069971</td>\n      <td>0.353169</td>\n      <td>-0.758964</td>\n      <td>-0.411185</td>\n      <td>0.951518</td>\n      <td>0.874565</td>\n      <td>1.024669</td>\n      <td>0.432282</td>\n      <td>0.407166</td>\n      <td>...</td>\n      <td>0.199574</td>\n      <td>0.219041</td>\n      <td>0.213755</td>\n      <td>0.188980</td>\n      <td>-0.421435</td>\n      <td>-0.581225</td>\n      <td>-0.345063</td>\n      <td>-0.354374</td>\n      <td>-0.132526</td>\n      <td>-0.266393</td>\n    </tr>\n    <tr>\n      <th>178</th>\n      <td>-2.064845</td>\n      <td>-0.143186</td>\n      <td>-0.331716</td>\n      <td>0.509061</td>\n      <td>1.073649</td>\n      <td>0.316308</td>\n      <td>0.325368</td>\n      <td>0.304684</td>\n      <td>0.576068</td>\n      <td>0.610967</td>\n      <td>...</td>\n      <td>-0.736306</td>\n      <td>-0.752789</td>\n      <td>-0.625364</td>\n      <td>-0.591284</td>\n      <td>-0.539582</td>\n      <td>-0.378361</td>\n      <td>-0.679981</td>\n      <td>-0.692819</td>\n      <td>-0.172790</td>\n      <td>-0.346460</td>\n    </tr>\n    <tr>\n      <th>86</th>\n      <td>0.512360</td>\n      <td>-0.302197</td>\n      <td>-0.508497</td>\n      <td>0.562771</td>\n      <td>1.667583</td>\n      <td>0.162442</td>\n      <td>0.165950</td>\n      <td>0.157661</td>\n      <td>0.000922</td>\n      <td>-0.000435</td>\n      <td>...</td>\n      <td>-0.831079</td>\n      <td>-0.877163</td>\n      <td>-0.604328</td>\n      <td>-0.583055</td>\n      <td>-0.969762</td>\n      <td>-0.974669</td>\n      <td>-0.816376</td>\n      <td>-0.832728</td>\n      <td>-1.070361</td>\n      <td>-1.086653</td>\n    </tr>\n    <tr>\n      <th>203</th>\n      <td>0.700078</td>\n      <td>-0.380435</td>\n      <td>-0.554972</td>\n      <td>0.481038</td>\n      <td>0.479716</td>\n      <td>0.201023</td>\n      <td>0.186615</td>\n      <td>0.214558</td>\n      <td>0.360388</td>\n      <td>0.135432</td>\n      <td>...</td>\n      <td>-0.712569</td>\n      <td>-0.749766</td>\n      <td>-0.631062</td>\n      <td>-0.608977</td>\n      <td>-0.917688</td>\n      <td>-0.950078</td>\n      <td>-0.822557</td>\n      <td>-0.784144</td>\n      <td>-1.039113</td>\n      <td>-0.856176</td>\n    </tr>\n    <tr>\n      <th>67</th>\n      <td>-0.553167</td>\n      <td>0.274632</td>\n      <td>0.276960</td>\n      <td>-0.017031</td>\n      <td>-0.411185</td>\n      <td>0.282573</td>\n      <td>0.308102</td>\n      <td>0.254098</td>\n      <td>-0.142865</td>\n      <td>-0.136303</td>\n      <td>...</td>\n      <td>0.244565</td>\n      <td>0.225589</td>\n      <td>0.526099</td>\n      <td>0.436559</td>\n      <td>-0.418681</td>\n      <td>-0.504179</td>\n      <td>-0.414916</td>\n      <td>-0.452784</td>\n      <td>-0.231850</td>\n      <td>-0.371587</td>\n    </tr>\n    <tr>\n      <th>82</th>\n      <td>-0.541137</td>\n      <td>-0.109709</td>\n      <td>-0.275246</td>\n      <td>0.446344</td>\n      <td>0.776682</td>\n      <td>0.051272</td>\n      <td>0.052962</td>\n      <td>0.049158</td>\n      <td>0.000922</td>\n      <td>-0.068369</td>\n      <td>...</td>\n      <td>0.010396</td>\n      <td>0.008700</td>\n      <td>0.111449</td>\n      <td>0.191501</td>\n      <td>-0.446518</td>\n      <td>-0.395685</td>\n      <td>-0.511092</td>\n      <td>-0.430976</td>\n      <td>-0.512446</td>\n      <td>-0.397344</td>\n    </tr>\n    <tr>\n      <th>205</th>\n      <td>1.602388</td>\n      <td>-0.382337</td>\n      <td>-0.505873</td>\n      <td>0.344928</td>\n      <td>0.479716</td>\n      <td>0.252677</td>\n      <td>0.240291</td>\n      <td>0.263751</td>\n      <td>0.288495</td>\n      <td>0.203365</td>\n      <td>...</td>\n      <td>-0.750905</td>\n      <td>-0.727042</td>\n      <td>-0.645730</td>\n      <td>-0.578930</td>\n      <td>-0.942051</td>\n      <td>-0.924304</td>\n      <td>-0.750771</td>\n      <td>-0.744261</td>\n      <td>-0.953879</td>\n      <td>-0.940438</td>\n    </tr>\n    <tr>\n      <th>194</th>\n      <td>-0.168360</td>\n      <td>0.743298</td>\n      <td>0.565681</td>\n      <td>0.445009</td>\n      <td>1.073649</td>\n      <td>-0.275202</td>\n      <td>-0.272226</td>\n      <td>-0.276353</td>\n      <td>-0.646118</td>\n      <td>-0.611838</td>\n      <td>...</td>\n      <td>-0.353976</td>\n      <td>-0.355994</td>\n      <td>-0.549206</td>\n      <td>-0.510145</td>\n      <td>-0.439613</td>\n      <td>-0.477634</td>\n      <td>-0.395485</td>\n      <td>-0.357660</td>\n      <td>0.131010</td>\n      <td>0.249628</td>\n    </tr>\n    <tr>\n      <th>38</th>\n      <td>0.261369</td>\n      <td>0.305445</td>\n      <td>0.816048</td>\n      <td>-1.375462</td>\n      <td>-0.114218</td>\n      <td>-0.147392</td>\n      <td>-0.146714</td>\n      <td>-0.147059</td>\n      <td>0.000922</td>\n      <td>-0.000435</td>\n      <td>...</td>\n      <td>0.320201</td>\n      <td>0.298823</td>\n      <td>-0.284367</td>\n      <td>-0.279167</td>\n      <td>0.459433</td>\n      <td>0.439372</td>\n      <td>2.315625</td>\n      <td>2.340114</td>\n      <td>1.347522</td>\n      <td>1.229003</td>\n    </tr>\n    <tr>\n      <th>24</th>\n      <td>0.038830</td>\n      <td>-0.316780</td>\n      <td>-0.435536</td>\n      <td>0.329583</td>\n      <td>-0.114218</td>\n      <td>-0.142912</td>\n      <td>-0.177488</td>\n      <td>-0.106033</td>\n      <td>-0.789905</td>\n      <td>-0.951506</td>\n      <td>...</td>\n      <td>-0.150843</td>\n      <td>-0.174574</td>\n      <td>-0.413457</td>\n      <td>-0.446103</td>\n      <td>0.247302</td>\n      <td>-0.035233</td>\n      <td>0.484803</td>\n      <td>0.345774</td>\n      <td>0.656503</td>\n      <td>0.479332</td>\n    </tr>\n    <tr>\n      <th>60</th>\n      <td>-0.339491</td>\n      <td>0.963048</td>\n      <td>1.146746</td>\n      <td>-0.528444</td>\n      <td>0.182749</td>\n      <td>-0.472402</td>\n      <td>-0.358824</td>\n      <td>-0.586920</td>\n      <td>-0.430438</td>\n      <td>-0.340104</td>\n      <td>...</td>\n      <td>0.525230</td>\n      <td>0.549053</td>\n      <td>0.871425</td>\n      <td>0.789610</td>\n      <td>-0.563462</td>\n      <td>-0.544983</td>\n      <td>-0.133592</td>\n      <td>-0.106918</td>\n      <td>-0.219370</td>\n      <td>-0.114726</td>\n    </tr>\n    <tr>\n      <th>195</th>\n      <td>0.052348</td>\n      <td>-0.107934</td>\n      <td>-0.269749</td>\n      <td>0.436336</td>\n      <td>0.479716</td>\n      <td>-0.093817</td>\n      <td>-0.065663</td>\n      <td>-0.122369</td>\n      <td>-0.861798</td>\n      <td>-0.747705</td>\n      <td>...</td>\n      <td>0.000163</td>\n      <td>-0.035691</td>\n      <td>-0.348360</td>\n      <td>-0.371924</td>\n      <td>0.190766</td>\n      <td>0.208164</td>\n      <td>-0.053085</td>\n      <td>-0.037636</td>\n      <td>-0.098354</td>\n      <td>-0.084317</td>\n    </tr>\n  </tbody>\n</table>\n<p>52 rows × 1311 columns</p>\n</div>"
     },
     "metadata": {},
     "output_type": "display_data"
    }
   ],
   "source": [
    "# Changed scaled X's from numpy array to dataframe and assign scaled data to X_train and X_test\n",
    "\n",
    "# retain X_train_scaled as a dataframe\n",
    "X_train = pd.DataFrame(X_train_scaled, index=X_train.index, columns=X_train.columns)\n",
    "display(X_train)\n",
    "\n",
    "# retain X_test_scale as a dataframe\n",
    "X_test = pd.DataFrame(X_test_scaled, index=X_test.index, columns=X_test.columns)\n",
    "display(X_test)\n"
   ],
   "metadata": {
    "collapsed": false,
    "pycharm": {
     "name": "#%%\n"
    }
   }
  },
  {
   "cell_type": "code",
   "execution_count": 8,
   "outputs": [
    {
     "name": "stdout",
     "output_type": "stream",
     "text": [
      "[False False False ... False False False]\n",
      "[1310 1309 1308 ... 1080 1082 1083]\n"
     ]
    }
   ],
   "source": [
    "# Perform features selection with Recursive feature elemination cross validated\n",
    "\n",
    "lasso = Lasso()\n",
    "selector = RFECV(lasso, step=1, cv=5)\n",
    "selector.fit(X_train, y_train)\n",
    "print(selector.support_)\n",
    "print(selector.ranking_)\n"
   ],
   "metadata": {
    "collapsed": false,
    "pycharm": {
     "name": "#%%\n"
    }
   }
  },
  {
   "cell_type": "code",
   "execution_count": 9,
   "outputs": [
    {
     "data": {
      "text/plain": "Index(['HAA_MALE_ratio_2018_2019_diff', 'HWA_MALE_ratio_2018'], dtype='object')"
     },
     "execution_count": 9,
     "metadata": {},
     "output_type": "execute_result"
    }
   ],
   "source": [
    "rfe_col = X_train.columns[selector.support_]\n",
    "rfe_col"
   ],
   "metadata": {
    "collapsed": false,
    "pycharm": {
     "name": "#%%\n"
    }
   }
  },
  {
   "cell_type": "code",
   "execution_count": 10,
   "outputs": [],
   "source": [
    "X_train_rfe = X_train[rfe_col]\n",
    "X_test_rfe = X_test[rfe_col]"
   ],
   "metadata": {
    "collapsed": false,
    "pycharm": {
     "name": "#%%\n"
    }
   }
  },
  {
   "cell_type": "markdown",
   "source": [
    "## Develop baseline with dummy regressor\n",
    "* run dummy regressor with strategy mean and median\n"
   ],
   "metadata": {
    "collapsed": false
   }
  },
  {
   "cell_type": "code",
   "execution_count": 11,
   "outputs": [
    {
     "data": {
      "text/plain": "-0.014729087673823082"
     },
     "execution_count": 11,
     "metadata": {},
     "output_type": "execute_result"
    }
   ],
   "source": [
    "# with mean\n",
    "dummy = DummyRegressor(strategy='mean')\n",
    "\n",
    "dummy.fit(X_train_rfe, y_train)\n",
    "\n",
    "dummy.score(X_test_rfe, y_test)\n"
   ],
   "metadata": {
    "collapsed": false,
    "pycharm": {
     "name": "#%%\n"
    }
   }
  },
  {
   "cell_type": "code",
   "execution_count": 12,
   "outputs": [
    {
     "data": {
      "text/plain": "-0.006734833218899672"
     },
     "execution_count": 12,
     "metadata": {},
     "output_type": "execute_result"
    }
   ],
   "source": [
    "# with median\n",
    "dummy = DummyRegressor(strategy='median')\n",
    "\n",
    "dummy.fit(X_train_rfe, y_train)\n",
    "\n",
    "dummy.score(X_test_rfe, y_test)"
   ],
   "metadata": {
    "collapsed": false,
    "pycharm": {
     "name": "#%%\n"
    }
   }
  },
  {
   "cell_type": "markdown",
   "source": [
    "### Run best features from RFE in a randomized grid\n"
   ],
   "metadata": {
    "collapsed": false,
    "pycharm": {
     "name": "#%% md\n"
    }
   }
  },
  {
   "cell_type": "code",
   "execution_count": 13,
   "outputs": [
    {
     "name": "stdout",
     "output_type": "stream",
     "text": [
      "best score:  0.1994193003432788\n",
      "adjusted r2 score: 0.1889541931582236\n",
      "best estimator Lasso(alpha=0.1779584999589661, positive=True, random_state=42, warm_start=True)\n"
     ]
    }
   ],
   "source": [
    "param_grid = {'alpha':np.arange(0.1, 1.1, step=0.00000001),\n",
    "              'selection':['random', 'cyclic'],\n",
    "              'positive':[True, False],\n",
    "              'fit_intercept':[True,False], 'random_state':[42],\n",
    "              'normalize':[True,False], 'warm_start':[True,False]}\n",
    "lasso = Lasso()\n",
    "lasso_grid = RandomizedSearchCV(lasso, param_grid, cv=5, random_state=42)\n",
    "lasso_grid.fit(X_train_rfe, y_train)\n",
    "print('best score: ', lasso_grid.best_score_)\n",
    "print('adjusted r2 score:', get_adjusted_r2(float(lasso_grid.best_score_), X_train_rfe))\n",
    "print('best estimator', lasso_grid.best_estimator_)\n",
    "tmp = lasso_grid.best_score_"
   ],
   "metadata": {
    "collapsed": false,
    "pycharm": {
     "name": "#%%\n"
    }
   }
  },
  {
   "cell_type": "code",
   "execution_count": 14,
   "outputs": [
    {
     "name": "stdout",
     "output_type": "stream",
     "text": [
      "R^2 0.3896632598382048\n",
      "Adjusted R2; 0.3647515561581316\n"
     ]
    }
   ],
   "source": [
    "lasso_best = lasso_grid.best_estimator_\n",
    "lasso_best.fit(X_train_rfe, y_train)\n",
    "\n",
    "# this retrieves correlation of determination value\n",
    "print('R^2', lasso_best.score(X_test_rfe, y_test))\n",
    "print('Adjusted R2;', get_adjusted_r2(lasso_best.score(X_test_rfe, y_test), X_test_rfe))"
   ],
   "metadata": {
    "collapsed": false,
    "pycharm": {
     "name": "#%%\n"
    }
   }
  },
  {
   "cell_type": "markdown",
   "source": [
    "### Evaluation\n",
    "* Although scoring is weak, the differnce between r2 and adjusted r2 are similar and not significantly different in both test and train set\n",
    "* It appears that RFE onyl uses 2 featueres"
   ],
   "metadata": {
    "collapsed": false,
    "pycharm": {
     "name": "#%% md\n"
    }
   }
  },
  {
   "cell_type": "markdown",
   "source": [
    "### Run modified select K best for feature selection\n",
    "* run select_k_best for every features in df\n",
    "* compute hyperaparamter tuning with every number of columns using select_K_best\n",
    "* store and r2 and adjusted r2 scores\n",
    "* evaluate which number of features yielded best r2 and adjusted r2 scores"
   ],
   "metadata": {
    "collapsed": false,
    "pycharm": {
     "name": "#%% md\n"
    }
   }
  },
  {
   "cell_type": "code",
   "execution_count": 15,
   "outputs": [],
   "source": [
    "lasso_r2_scores = []\n",
    "lasso_adj_r2_scores = []\n",
    "lasso_r2_test_scores = []\n",
    "lasso_adj_r2_test_scores = []\n",
    "\n",
    "for num in range(1,101):\n",
    "    select_k_best = SelectKBest(f_regression, k=num)\n",
    "    X_train_k_best = select_k_best.fit_transform(X_train, y_train)\n",
    "\n",
    "    best_k_cols = X_train.columns[select_k_best.get_support()]\n",
    "    best_k_cols\n",
    "\n",
    "    param_grid = {'alpha':np.arange(0.1, 1.1, step=0.00000001),\n",
    "              'selection':['random', 'cyclic'],\n",
    "              'positive':[True, False],\n",
    "              'fit_intercept':[True,False], 'random_state':[42],\n",
    "              'normalize':[True,False], 'warm_start':[True,False]}\n",
    "    lasso = Lasso()\n",
    "    lasso_grid = RandomizedSearchCV(lasso, param_grid, cv=5, random_state=42)\n",
    "    lasso_grid.fit(X_train_k_best, y_train)\n",
    "    # append best scores at bottom\n",
    "    lasso_r2_scores.append(lasso_grid.best_score_)\n",
    "    lasso_adj_r2_scores.append(get_adjusted_r2(float(lasso_grid.best_score_), X_train_k_best))\n",
    "\n",
    "    lasso_best = lasso_grid.best_estimator_\n",
    "    lasso_best.fit(X_train_k_best, y_train)"
   ],
   "metadata": {
    "collapsed": false,
    "pycharm": {
     "name": "#%%\n"
    }
   }
  },
  {
   "cell_type": "code",
   "execution_count": 16,
   "outputs": [
    {
     "name": "stdout",
     "output_type": "stream",
     "text": [
      "0.24186217393142692  best r2 score at number features 63\n"
     ]
    }
   ],
   "source": [
    "max_r2_score = max(lasso_r2_scores)\n",
    "max_r2_score_index = lasso_r2_scores.index(max_r2_score) + 1\n",
    "# prints that at 60 features we get the best r2 score\n",
    "print(max_r2_score, \" best r2 score at number features\", max_r2_score_index)"
   ],
   "metadata": {
    "collapsed": false,
    "pycharm": {
     "name": "#%%\n"
    }
   }
  },
  {
   "cell_type": "code",
   "execution_count": 17,
   "outputs": [
    {
     "name": "stdout",
     "output_type": "stream",
     "text": [
      "0.15735459747553326  best adjusted r2 score at number features 1\n"
     ]
    }
   ],
   "source": [
    "# for adjusted score it also appears to be 60\n",
    "max_adj_r2_score_index = lasso_adj_r2_scores.index(max(lasso_adj_r2_scores)) + 1\n",
    "print(max(lasso_adj_r2_scores), \" best adjusted r2 score at number features\", max_adj_r2_score_index)"
   ],
   "metadata": {
    "collapsed": false,
    "pycharm": {
     "name": "#%%\n"
    }
   }
  },
  {
   "cell_type": "markdown",
   "source": [
    "## Run grid with 61 predictor variables, the number that had best r2 score"
   ],
   "metadata": {
    "collapsed": false,
    "pycharm": {
     "name": "#%% md\n"
    }
   }
  },
  {
   "cell_type": "code",
   "execution_count": 24,
   "outputs": [
    {
     "name": "stdout",
     "output_type": "stream",
     "text": [
      "0.24186217393142692\n",
      "-0.2772974243546611\n"
     ]
    }
   ],
   "source": [
    "select_k_best = SelectKBest(f_regression, k=max_r2_score_index)\n",
    "X_train_k_best = select_k_best.fit_transform(X_train, y_train)\n",
    "\n",
    "best_k_cols = X_train.columns[select_k_best.get_support()]\n",
    "best_k_cols\n",
    "param_grid = {'alpha':np.arange(0.1, 1.1, step=0.00000001),\n",
    "          'selection':['random', 'cyclic'],\n",
    "          'positive':[True, False],\n",
    "          'fit_intercept':[True,False], 'random_state':[42],\n",
    "          'normalize':[True,False], 'warm_start':[True,False]}\n",
    "lasso = Lasso()\n",
    "lasso_grid = RandomizedSearchCV(lasso, param_grid, cv=5, random_state=42)\n",
    "lasso_grid.fit(X_train_k_best, y_train)\n",
    "# append best scores at bottom\n",
    "print(lasso_grid.best_score_)\n",
    "print(get_adjusted_r2((lasso_grid.best_score_), X_train_k_best))"
   ],
   "metadata": {
    "collapsed": false,
    "pycharm": {
     "name": "#%%\n"
    }
   }
  },
  {
   "cell_type": "code",
   "execution_count": 25,
   "outputs": [
    {
     "name": "stdout",
     "output_type": "stream",
     "text": [
      "R^2 0.39734778794619097\n",
      "Adjusted R2; 3.561271901228688\n"
     ]
    }
   ],
   "source": [
    "lasso_best = lasso_grid.best_estimator_\n",
    "lasso_best.fit(X_train_k_best, y_train)\n",
    "# this retrieves correlation of determination value\n",
    "print('R^2', lasso_best.score(X_test[best_k_cols], y_test))\n",
    "print('Adjusted R2;', get_adjusted_r2(lasso_best.score(X_test[best_k_cols], y_test), X_test[best_k_cols]))"
   ],
   "metadata": {
    "collapsed": false,
    "pycharm": {
     "name": "#%%\n"
    }
   }
  },
  {
   "cell_type": "markdown",
   "source": [
    "### Evaluation\n",
    "* Running with 63 features has around .4 score\n",
    "* adjusted R2 has a value over 1; this is because running on a test set of 52 observations and 63 predictor variables is an issue\n",
    "where we have more predictors than observations"
   ],
   "metadata": {
    "collapsed": false,
    "pycharm": {
     "name": "#%% md\n"
    }
   }
  },
  {
   "cell_type": "markdown",
   "source": [
    "## Run grid with 1 predictor variables, the number that had best adjusted r2 score"
   ],
   "metadata": {
    "collapsed": false,
    "pycharm": {
     "name": "#%% md\n"
    }
   }
  },
  {
   "cell_type": "code",
   "execution_count": 21,
   "outputs": [
    {
     "name": "stdout",
     "output_type": "stream",
     "text": [
      "0.162791019427304\n",
      "0.15735459747553326\n"
     ]
    }
   ],
   "source": [
    "\n",
    "# evaluation for 20 features\n",
    "select_k_best = SelectKBest(f_regression, k=max_adj_r2_score_index)\n",
    "X_train_k_best = select_k_best.fit_transform(X_train, y_train)\n",
    "\n",
    "best_k_cols = X_train.columns[select_k_best.get_support()]\n",
    "best_k_cols\n",
    "param_grid = {'alpha':np.arange(0.1, 1.1, step=0.00000001),\n",
    "          'selection':['random', 'cyclic'],\n",
    "          'positive':[True, False],\n",
    "          'fit_intercept':[True,False], 'random_state':[42],\n",
    "          'normalize':[True,False], 'warm_start':[True,False]}\n",
    "lasso = Lasso()\n",
    "lasso_grid = RandomizedSearchCV(lasso, param_grid, cv=5, random_state=42)\n",
    "lasso_grid.fit(X_train_k_best, y_train)\n",
    "# append best scores at bottom\n",
    "print(lasso_grid.best_score_)\n",
    "print(get_adjusted_r2((lasso_grid.best_score_), X_train_k_best))"
   ],
   "metadata": {
    "collapsed": false,
    "pycharm": {
     "name": "#%%\n"
    }
   }
  },
  {
   "cell_type": "code",
   "execution_count": 22,
   "outputs": [
    {
     "name": "stdout",
     "output_type": "stream",
     "text": [
      "R^2 0.4066554892685488\n",
      "Adjusted R2; 0.39478859905391983\n"
     ]
    }
   ],
   "source": [
    "# Evaluation for 61 features\n",
    "\n",
    "lasso_best = lasso_grid.best_estimator_\n",
    "lasso_best.fit(X_train_k_best, y_train)\n",
    "\n",
    "# this retrieves correlation of determination value\n",
    "print('R^2', lasso_best.score(X_test[best_k_cols], y_test))\n",
    "print('Adjusted R2;', get_adjusted_r2(lasso_best.score(X_test[best_k_cols], y_test), X_test[best_k_cols]))\n"
   ],
   "metadata": {
    "collapsed": false,
    "pycharm": {
     "name": "#%%\n"
    }
   }
  },
  {
   "cell_type": "markdown",
   "source": [
    "### Evaluation\n",
    "* Running with 1 features appears to yeild the best r2 score and adjusted r2 score for a 75 / 30 split\n"
   ],
   "metadata": {
    "collapsed": false,
    "pycharm": {
     "name": "#%% md\n"
    }
   }
  }
 ],
 "metadata": {
  "kernelspec": {
   "name": "pycharm-301d774e",
   "language": "python",
   "display_name": "PyCharm (API_Mini_Project)"
  },
  "language_info": {
   "codemirror_mode": {
    "name": "ipython",
    "version": 2
   },
   "file_extension": ".py",
   "mimetype": "text/x-python",
   "name": "python",
   "nbconvert_exporter": "python",
   "pygments_lexer": "ipython2",
   "version": "2.7.6"
  }
 },
 "nbformat": 4,
 "nbformat_minor": 0
}