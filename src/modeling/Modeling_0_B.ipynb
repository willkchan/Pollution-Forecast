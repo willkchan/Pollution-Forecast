{
 "cells": [
  {
   "cell_type": "markdown",
   "source": [
    "# Modeling with different parameters of train test split and k_best_feature size\n",
    "The changes implemented from this run compared to Modeling_0 notebook were\n",
    "that a 70-30 train test split was used instead of 75-25 and that 100 best feature were selected rather\n",
    "than 25.\n",
    "\n",
    "### goals\n",
    "* develop a model that effectively predicts 2019 AQI pollution levels\n",
    "* fit model with training dataset\n",
    "* try grid search (b/c we have a small dataset (maybe experiemnt with random grid))\n"
   ],
   "metadata": {
    "collapsed": false
   }
  },
  {
   "cell_type": "code",
   "execution_count": 1,
   "outputs": [],
   "source": [
    "import numpy as np\n",
    "import pandas as pd\n",
    "import seaborn as sns\n",
    "import matplotlib.pyplot as plt\n",
    "from IPython.core.display import display\n",
    "from scipy import stats\n",
    "from sklearn.decomposition import PCA\n",
    "from sklearn.dummy import DummyRegressor\n",
    "from sklearn.ensemble import RandomForestRegressor\n",
    "from sklearn.feature_selection import SelectKBest, f_regression\n",
    "from sklearn.model_selection import train_test_split, GridSearchCV, RandomizedSearchCV, cross_val_score\n",
    "from sklearn.linear_model import LinearRegression, Lasso, Ridge, ElasticNet\n",
    "from sklearn import preprocessing, svm\n",
    "from sklearn.metrics import r2_score, accuracy_score\n",
    "\n",
    "#Use to ignore convergence warnings\n",
    "import warnings\n",
    "from sklearn.exceptions import DataConversionWarning\n",
    "from sklearn.exceptions import ConvergenceWarning\n",
    "from sklearn.exceptions import FitFailedWarning\n",
    "from sklearn.pipeline import Pipeline\n",
    "from sklearn.preprocessing import StandardScaler\n",
    "\n",
    "warnings.filterwarnings(action='ignore', category=DataConversionWarning)\n",
    "warnings.filterwarnings(action='ignore', category=ConvergenceWarning)\n",
    "warnings.filterwarnings(action='ignore', category=FitFailedWarning)\n",
    "\n",
    "\n",
    "# pd.set_option('display.max_columns', None)\n",
    "# pd.reset_option('max_rows')\n",
    "# np.set_printoptions(threshold=sys.maxsize)\n",
    "\n",
    "plt.style.use('dark_background')\n",
    "plt.rcParams.update({\"grid.linewidth\":0.5, \"grid.alpha\":0.5})\n",
    "sns.set(style='ticks', context='talk')"
   ],
   "metadata": {
    "collapsed": false,
    "pycharm": {
     "name": "#%%\n"
    }
   }
  },
  {
   "cell_type": "code",
   "execution_count": 2,
   "outputs": [],
   "source": [
    "# import X and y training and test sets\n",
    "\n",
    "X = pd.read_csv('../../data/train_test/X_alt')\n",
    "\n",
    "X_train = pd.read_csv('../../data/train_test/X_train_scaled_alt')\n",
    "\n",
    "X_test = pd.read_csv('../../data/train_test/X_test_scaled_alt')\n",
    "\n",
    "y = pd.read_csv('../../data/train_test/y_alt')\n",
    "\n",
    "y_train = pd.read_csv('../../data/train_test/y_train_alt')\n",
    "\n",
    "y_test = pd.read_csv('../../data/train_test/y_test_alt')\n"
   ],
   "metadata": {
    "collapsed": false,
    "pycharm": {
     "name": "#%%\n"
    }
   }
  },
  {
   "cell_type": "markdown",
   "source": [
    "# Form a baseline for comparison\n"
   ],
   "metadata": {
    "collapsed": false
   }
  },
  {
   "cell_type": "code",
   "execution_count": 3,
   "outputs": [],
   "source": [
    "X_train, X_test, y_train, y_test = train_test_split(X, y, test_size=.3, random_state=42)\n",
    "#"
   ],
   "metadata": {
    "collapsed": false,
    "pycharm": {
     "name": "#%%\n"
    }
   }
  },
  {
   "cell_type": "code",
   "execution_count": 4,
   "outputs": [],
   "source": [
    "# # because we negative observation we cannot perform logarithmic scale and will instead perform standardization\n",
    "scaler = preprocessing.StandardScaler().fit(X_train)\n",
    "\n",
    "X_train_scaled = scaler.transform(X_train)"
   ],
   "metadata": {
    "collapsed": false,
    "pycharm": {
     "name": "#%%\n"
    }
   }
  },
  {
   "cell_type": "code",
   "execution_count": 5,
   "outputs": [],
   "source": [
    "# scale test data using the scaler fitted from the training set\n",
    "\n",
    "X_test_scaled = scaler.transform(X_test)"
   ],
   "metadata": {
    "collapsed": false,
    "pycharm": {
     "name": "#%%\n"
    }
   }
  },
  {
   "cell_type": "code",
   "execution_count": 6,
   "outputs": [
    {
     "data": {
      "text/plain": "     AQI_2017_2018_diff  Civilian_labor_force_2017_2018_diff  \\\n146            0.594218                            -0.375958   \n108           -1.982133                            -0.420560   \n177           -0.843736                            -0.451911   \n31             3.370154                             1.013790   \n12            -0.653791                            -0.031273   \n..                  ...                                  ...   \n106           -0.467927                             1.493027   \n14             0.391250                             0.020607   \n92            -1.318496                            -0.493527   \n179            1.224570                            -0.335088   \n102           -0.529964                             0.369770   \n\n     Employed_2017_2018_diff  Unemployed_2017_2018_diff  \\\n146                -0.582788                   0.435165   \n108                -0.603975                   0.397203   \n177                -0.515057                   0.176570   \n31                  1.553493                  -1.139770   \n12                 -0.319508                   0.542562   \n..                       ...                        ...   \n106                 1.321300                   0.127251   \n14                  0.319414                  -0.560931   \n92                 -0.695324                   0.441005   \n179                -0.577230                   0.495839   \n102                 0.193157                   0.282019   \n\n     Unemployment_rate_2017_2018_diff  \\\n146                         -1.312745   \n108                         -0.130459   \n177                         -0.721602   \n31                          -1.017173   \n12                           1.347398   \n..                                ...   \n106                          0.460684   \n14                          -0.426031   \n92                           0.460684   \n179                          0.756255   \n102                          0.460684   \n\n     Poverty Estimate, All Ages_2017_2018_diff  \\\n146                                   0.262910   \n108                                  -0.076699   \n177                                   0.402424   \n31                                    0.516303   \n12                                    0.506806   \n..                                         ...   \n106                                  -0.780538   \n14                                   -1.218074   \n92                                    0.495095   \n179                                   0.220770   \n102                                   0.609527   \n\n     90% CI LB All Ages_2017_2018_diff  90% CI UB All Ages_2017_2018_diff  \\\n146                           0.282243                           0.240843   \n108                          -0.092549                          -0.059594   \n177                           0.389249                           0.413326   \n31                            0.393026                           0.641425   \n12                            0.549488                           0.458608   \n..                                 ...                                ...   \n106                          -0.821000                          -0.732712   \n14                           -1.059561                          -1.375015   \n92                            0.479350                           0.508023   \n179                           0.222085                           0.217826   \n102                           0.587705                           0.627991   \n\n     Poverty Percent, All Ages_2017_2018_diff  \\\n146                                  1.490416   \n108                                 -1.050398   \n177                                  0.714056   \n31                                   0.290587   \n12                                   1.137525   \n..                                        ...   \n106                                 -0.838663   \n14                                  -0.768085   \n92                                   1.702150   \n179                                  0.431744   \n102                                  0.784634   \n\n     90% CI LB percent_2017_2018_diff  ...  HWAC_MALE_ratio_2018  \\\n146                          1.547001  ...             -0.943217   \n108                         -1.126601  ...             -0.815275   \n177                          0.611241  ...             -0.673420   \n31                           0.210200  ...              0.153800   \n12                           1.212801  ...             -0.059175   \n..                                ...  ...                   ...   \n106                         -0.859240  ...             -0.417258   \n14                          -0.658720  ...              0.332519   \n92                           1.547001  ...             -0.363758   \n179                          0.410721  ...             -0.792804   \n102                          0.744921  ...             -0.587440   \n\n     HWAC_FEMALE_ratio_2018  HBAC_MALE_ratio_2018  HBAC_FEMALE_ratio_2018  \\\n146               -0.926925             -0.949138               -0.967574   \n108               -0.782558             -0.838428               -0.830362   \n177               -0.689367             -0.424824               -0.445078   \n31                 0.157805              0.703216                0.758966   \n12                -0.087728             -0.618701               -0.657432   \n..                      ...                   ...                     ...   \n106               -0.388750              0.651096                0.561106   \n14                 0.342909              0.173178                0.189056   \n92                -0.349930              0.049311                0.232117   \n179               -0.762465             -0.839308               -0.812844   \n102               -0.590433             -0.084245               -0.077450   \n\n     HIAC_MALE_ratio_2018  HIAC_FEMALE_ratio_2018  HAAC_MALE_ratio_2018  \\\n146             -1.064088               -1.067930             -0.869256   \n108             -0.885248               -0.914873             -0.791706   \n177             -0.802055               -0.877949             -0.679542   \n31               0.824383                0.938466              2.571984   \n12              -0.397147               -0.357200             -0.405688   \n..                    ...                     ...                   ...   \n106             -0.687137               -0.684148             -0.544081   \n14               0.301678                0.314180              2.278455   \n92              -0.089629               -0.075910             -0.446907   \n179              0.971857                0.851106             -0.580799   \n102             -0.709895               -0.738849             -0.363905   \n\n     HAAC_FEMALE_ratio_2018  HNAC_MALE_ratio_2018  HNAC_FEMALE_ratio_2018  \n146               -0.838112             -1.038778               -1.192414  \n108               -0.826719             -1.073653               -1.102536  \n177               -0.685785             -0.766461               -0.802649  \n31                 2.675531              2.114922                2.225606  \n12                -0.489052             -0.179028               -0.137092  \n..                      ...                   ...                     ...  \n106               -0.538042             -0.563176               -0.546624  \n14                 2.274616              1.739947                1.654436  \n92                -0.393218             -0.594221               -0.583362  \n179               -0.644174             -0.658215               -0.710151  \n102               -0.409527             -0.526454               -0.524023  \n\n[145 rows x 1311 columns]",
      "text/html": "<div>\n<style scoped>\n    .dataframe tbody tr th:only-of-type {\n        vertical-align: middle;\n    }\n\n    .dataframe tbody tr th {\n        vertical-align: top;\n    }\n\n    .dataframe thead th {\n        text-align: right;\n    }\n</style>\n<table border=\"1\" class=\"dataframe\">\n  <thead>\n    <tr style=\"text-align: right;\">\n      <th></th>\n      <th>AQI_2017_2018_diff</th>\n      <th>Civilian_labor_force_2017_2018_diff</th>\n      <th>Employed_2017_2018_diff</th>\n      <th>Unemployed_2017_2018_diff</th>\n      <th>Unemployment_rate_2017_2018_diff</th>\n      <th>Poverty Estimate, All Ages_2017_2018_diff</th>\n      <th>90% CI LB All Ages_2017_2018_diff</th>\n      <th>90% CI UB All Ages_2017_2018_diff</th>\n      <th>Poverty Percent, All Ages_2017_2018_diff</th>\n      <th>90% CI LB percent_2017_2018_diff</th>\n      <th>...</th>\n      <th>HWAC_MALE_ratio_2018</th>\n      <th>HWAC_FEMALE_ratio_2018</th>\n      <th>HBAC_MALE_ratio_2018</th>\n      <th>HBAC_FEMALE_ratio_2018</th>\n      <th>HIAC_MALE_ratio_2018</th>\n      <th>HIAC_FEMALE_ratio_2018</th>\n      <th>HAAC_MALE_ratio_2018</th>\n      <th>HAAC_FEMALE_ratio_2018</th>\n      <th>HNAC_MALE_ratio_2018</th>\n      <th>HNAC_FEMALE_ratio_2018</th>\n    </tr>\n  </thead>\n  <tbody>\n    <tr>\n      <th>146</th>\n      <td>0.594218</td>\n      <td>-0.375958</td>\n      <td>-0.582788</td>\n      <td>0.435165</td>\n      <td>-1.312745</td>\n      <td>0.262910</td>\n      <td>0.282243</td>\n      <td>0.240843</td>\n      <td>1.490416</td>\n      <td>1.547001</td>\n      <td>...</td>\n      <td>-0.943217</td>\n      <td>-0.926925</td>\n      <td>-0.949138</td>\n      <td>-0.967574</td>\n      <td>-1.064088</td>\n      <td>-1.067930</td>\n      <td>-0.869256</td>\n      <td>-0.838112</td>\n      <td>-1.038778</td>\n      <td>-1.192414</td>\n    </tr>\n    <tr>\n      <th>108</th>\n      <td>-1.982133</td>\n      <td>-0.420560</td>\n      <td>-0.603975</td>\n      <td>0.397203</td>\n      <td>-0.130459</td>\n      <td>-0.076699</td>\n      <td>-0.092549</td>\n      <td>-0.059594</td>\n      <td>-1.050398</td>\n      <td>-1.126601</td>\n      <td>...</td>\n      <td>-0.815275</td>\n      <td>-0.782558</td>\n      <td>-0.838428</td>\n      <td>-0.830362</td>\n      <td>-0.885248</td>\n      <td>-0.914873</td>\n      <td>-0.791706</td>\n      <td>-0.826719</td>\n      <td>-1.073653</td>\n      <td>-1.102536</td>\n    </tr>\n    <tr>\n      <th>177</th>\n      <td>-0.843736</td>\n      <td>-0.451911</td>\n      <td>-0.515057</td>\n      <td>0.176570</td>\n      <td>-0.721602</td>\n      <td>0.402424</td>\n      <td>0.389249</td>\n      <td>0.413326</td>\n      <td>0.714056</td>\n      <td>0.611241</td>\n      <td>...</td>\n      <td>-0.673420</td>\n      <td>-0.689367</td>\n      <td>-0.424824</td>\n      <td>-0.445078</td>\n      <td>-0.802055</td>\n      <td>-0.877949</td>\n      <td>-0.679542</td>\n      <td>-0.685785</td>\n      <td>-0.766461</td>\n      <td>-0.802649</td>\n    </tr>\n    <tr>\n      <th>31</th>\n      <td>3.370154</td>\n      <td>1.013790</td>\n      <td>1.553493</td>\n      <td>-1.139770</td>\n      <td>-1.017173</td>\n      <td>0.516303</td>\n      <td>0.393026</td>\n      <td>0.641425</td>\n      <td>0.290587</td>\n      <td>0.210200</td>\n      <td>...</td>\n      <td>0.153800</td>\n      <td>0.157805</td>\n      <td>0.703216</td>\n      <td>0.758966</td>\n      <td>0.824383</td>\n      <td>0.938466</td>\n      <td>2.571984</td>\n      <td>2.675531</td>\n      <td>2.114922</td>\n      <td>2.225606</td>\n    </tr>\n    <tr>\n      <th>12</th>\n      <td>-0.653791</td>\n      <td>-0.031273</td>\n      <td>-0.319508</td>\n      <td>0.542562</td>\n      <td>1.347398</td>\n      <td>0.506806</td>\n      <td>0.549488</td>\n      <td>0.458608</td>\n      <td>1.137525</td>\n      <td>1.212801</td>\n      <td>...</td>\n      <td>-0.059175</td>\n      <td>-0.087728</td>\n      <td>-0.618701</td>\n      <td>-0.657432</td>\n      <td>-0.397147</td>\n      <td>-0.357200</td>\n      <td>-0.405688</td>\n      <td>-0.489052</td>\n      <td>-0.179028</td>\n      <td>-0.137092</td>\n    </tr>\n    <tr>\n      <th>...</th>\n      <td>...</td>\n      <td>...</td>\n      <td>...</td>\n      <td>...</td>\n      <td>...</td>\n      <td>...</td>\n      <td>...</td>\n      <td>...</td>\n      <td>...</td>\n      <td>...</td>\n      <td>...</td>\n      <td>...</td>\n      <td>...</td>\n      <td>...</td>\n      <td>...</td>\n      <td>...</td>\n      <td>...</td>\n      <td>...</td>\n      <td>...</td>\n      <td>...</td>\n      <td>...</td>\n    </tr>\n    <tr>\n      <th>106</th>\n      <td>-0.467927</td>\n      <td>1.493027</td>\n      <td>1.321300</td>\n      <td>0.127251</td>\n      <td>0.460684</td>\n      <td>-0.780538</td>\n      <td>-0.821000</td>\n      <td>-0.732712</td>\n      <td>-0.838663</td>\n      <td>-0.859240</td>\n      <td>...</td>\n      <td>-0.417258</td>\n      <td>-0.388750</td>\n      <td>0.651096</td>\n      <td>0.561106</td>\n      <td>-0.687137</td>\n      <td>-0.684148</td>\n      <td>-0.544081</td>\n      <td>-0.538042</td>\n      <td>-0.563176</td>\n      <td>-0.546624</td>\n    </tr>\n    <tr>\n      <th>14</th>\n      <td>0.391250</td>\n      <td>0.020607</td>\n      <td>0.319414</td>\n      <td>-0.560931</td>\n      <td>-0.426031</td>\n      <td>-1.218074</td>\n      <td>-1.059561</td>\n      <td>-1.375015</td>\n      <td>-0.768085</td>\n      <td>-0.658720</td>\n      <td>...</td>\n      <td>0.332519</td>\n      <td>0.342909</td>\n      <td>0.173178</td>\n      <td>0.189056</td>\n      <td>0.301678</td>\n      <td>0.314180</td>\n      <td>2.278455</td>\n      <td>2.274616</td>\n      <td>1.739947</td>\n      <td>1.654436</td>\n    </tr>\n    <tr>\n      <th>92</th>\n      <td>-1.318496</td>\n      <td>-0.493527</td>\n      <td>-0.695324</td>\n      <td>0.441005</td>\n      <td>0.460684</td>\n      <td>0.495095</td>\n      <td>0.479350</td>\n      <td>0.508023</td>\n      <td>1.702150</td>\n      <td>1.547001</td>\n      <td>...</td>\n      <td>-0.363758</td>\n      <td>-0.349930</td>\n      <td>0.049311</td>\n      <td>0.232117</td>\n      <td>-0.089629</td>\n      <td>-0.075910</td>\n      <td>-0.446907</td>\n      <td>-0.393218</td>\n      <td>-0.594221</td>\n      <td>-0.583362</td>\n    </tr>\n    <tr>\n      <th>179</th>\n      <td>1.224570</td>\n      <td>-0.335088</td>\n      <td>-0.577230</td>\n      <td>0.495839</td>\n      <td>0.756255</td>\n      <td>0.220770</td>\n      <td>0.222085</td>\n      <td>0.217826</td>\n      <td>0.431744</td>\n      <td>0.410721</td>\n      <td>...</td>\n      <td>-0.792804</td>\n      <td>-0.762465</td>\n      <td>-0.839308</td>\n      <td>-0.812844</td>\n      <td>0.971857</td>\n      <td>0.851106</td>\n      <td>-0.580799</td>\n      <td>-0.644174</td>\n      <td>-0.658215</td>\n      <td>-0.710151</td>\n    </tr>\n    <tr>\n      <th>102</th>\n      <td>-0.529964</td>\n      <td>0.369770</td>\n      <td>0.193157</td>\n      <td>0.282019</td>\n      <td>0.460684</td>\n      <td>0.609527</td>\n      <td>0.587705</td>\n      <td>0.627991</td>\n      <td>0.784634</td>\n      <td>0.744921</td>\n      <td>...</td>\n      <td>-0.587440</td>\n      <td>-0.590433</td>\n      <td>-0.084245</td>\n      <td>-0.077450</td>\n      <td>-0.709895</td>\n      <td>-0.738849</td>\n      <td>-0.363905</td>\n      <td>-0.409527</td>\n      <td>-0.526454</td>\n      <td>-0.524023</td>\n    </tr>\n  </tbody>\n</table>\n<p>145 rows × 1311 columns</p>\n</div>"
     },
     "metadata": {},
     "output_type": "display_data"
    },
    {
     "data": {
      "text/plain": "     AQI_2017_2018_diff  Civilian_labor_force_2017_2018_diff  \\\n161            1.227380                            -0.012052   \n15            -0.484640                            -0.168811   \n73            -0.408987                             0.205545   \n96             0.815192                            -0.499313   \n166           -0.200375                            -0.583664   \n..                  ...                                  ...   \n5             -0.030360                            13.732587   \n132            0.177150                            -1.450694   \n56             0.951423                            -0.226290   \n127           -0.853307                            -0.945704   \n115            2.047907                            -0.881881   \n\n     Employed_2017_2018_diff  Unemployed_2017_2018_diff  \\\n161                 0.177006                  -0.351653   \n15                 -0.332533                   0.327769   \n73                  0.611695                  -0.785458   \n96                 -0.713559                   0.465016   \n166                -0.668406                   0.233999   \n..                       ...                        ...   \n5                  12.350036                   0.802455   \n132                -0.987259                  -0.677737   \n56                  0.004034                  -0.400971   \n127                -0.920223                   0.075013   \n115                -1.056552                   0.440681   \n\n     Unemployment_rate_2017_2018_diff  \\\n161                         -1.017173   \n15                          -0.721602   \n73                          -1.017173   \n96                          -0.130459   \n166                         -1.608316   \n..                                ...   \n5                            1.051827   \n132                         -0.130459   \n56                          -0.721602   \n127                         -0.130459   \n115                          0.756255   \n\n     Poverty Estimate, All Ages_2017_2018_diff  \\\n161                                  -0.032991   \n15                                    0.135937   \n73                                   -0.924846   \n96                                    0.126624   \n166                                   0.146634   \n..                                         ...   \n5                                    -3.091411   \n132                                  -1.688344   \n56                                    0.610173   \n127                                   0.683664   \n115                                  -0.062499   \n\n     90% CI LB All Ages_2017_2018_diff  90% CI UB All Ages_2017_2018_diff  \\\n161                          -0.042553                          -0.022768   \n15                            0.151767                           0.118432   \n73                           -0.707070                          -1.145789   \n96                            0.132794                           0.119277   \n166                           0.144394                           0.147931   \n..                                 ...                                ...   \n5                            -2.971195                          -3.195016   \n132                          -1.487675                          -1.885983   \n56                            0.713145                           0.498252   \n127                           0.763681                           0.595204   \n115                          -0.071237                          -0.052924   \n\n     Poverty Percent, All Ages_2017_2018_diff  \\\n161                                 -0.062303   \n15                                   0.008275   \n73                                  -0.768085   \n96                                  -0.203460   \n166                                  0.220009   \n..                                        ...   \n5                                   -0.697507   \n132                                 -0.274038   \n56                                   0.572900   \n127                                  0.996369   \n115                                 -0.415194   \n\n     90% CI LB percent_2017_2018_diff  ...  HWAC_MALE_ratio_2018  \\\n161                         -0.124000  ...             -0.318024   \n15                           0.009680  ...             -0.316843   \n73                          -0.591880  ...             -0.644018   \n96                          -0.257680  ...             -0.873626   \n166                          0.143360  ...             -0.922825   \n..                                ...  ...                   ...   \n5                           -0.658720  ...              0.645356   \n132                         -0.257680  ...              1.042082   \n56                           0.611241  ...             -0.102029   \n127                          1.079121  ...             -0.230603   \n115                         -0.458200  ...             -0.933149   \n\n     HWAC_FEMALE_ratio_2018  HBAC_MALE_ratio_2018  HBAC_FEMALE_ratio_2018  \\\n161               -0.344416             -0.406842               -0.423451   \n15                -0.298327             -0.748370               -0.794657   \n73                -0.644811              0.019953                0.053187   \n96                -0.843974             -0.825571               -0.782748   \n166               -0.886868             -0.827679               -0.809962   \n..                      ...                   ...                     ...   \n5                  0.647085              0.068192                0.059342   \n132                1.274237             15.526747               16.923427   \n56                -0.063737              1.601931                1.766981   \n127               -0.203591              2.459165                2.554949   \n115               -0.900305             -0.788912               -0.728822   \n\n     HIAC_MALE_ratio_2018  HIAC_FEMALE_ratio_2018  HAAC_MALE_ratio_2018  \\\n161              0.400127                0.413433             -0.517686   \n15               0.069791               -0.028561              0.106301   \n73              -0.861339               -0.857368             -0.651783   \n96              -0.894092               -0.951227             -0.735885   \n166             -1.033983               -1.018763             -0.864755   \n..                    ...                     ...                   ...   \n5                0.578675                0.606145              0.521103   \n132              2.673479                3.245066              1.010348   \n56              -0.508841               -0.461485             -0.396851   \n127             -0.384121               -0.328048             -0.325514   \n115             -1.067748               -1.070276             -0.855465   \n\n     HAAC_FEMALE_ratio_2018  HNAC_MALE_ratio_2018  HNAC_FEMALE_ratio_2018  \n161               -0.491465             -0.602214               -0.473454  \n15                 0.029162             -0.006590                0.010520  \n73                -0.615012             -0.905273               -0.879657  \n96                -0.689069             -0.860816               -0.985739  \n166               -0.826767             -0.992890               -1.001058  \n..                      ...                   ...                     ...  \n5                  0.548428              0.476733                0.485657  \n132                1.087883              4.242902                5.037475  \n56                -0.391290             -0.183328               -0.137160  \n127               -0.311833             -0.062814               -0.010665  \n115               -0.826667             -1.019359               -1.001631  \n\n[63 rows x 1311 columns]",
      "text/html": "<div>\n<style scoped>\n    .dataframe tbody tr th:only-of-type {\n        vertical-align: middle;\n    }\n\n    .dataframe tbody tr th {\n        vertical-align: top;\n    }\n\n    .dataframe thead th {\n        text-align: right;\n    }\n</style>\n<table border=\"1\" class=\"dataframe\">\n  <thead>\n    <tr style=\"text-align: right;\">\n      <th></th>\n      <th>AQI_2017_2018_diff</th>\n      <th>Civilian_labor_force_2017_2018_diff</th>\n      <th>Employed_2017_2018_diff</th>\n      <th>Unemployed_2017_2018_diff</th>\n      <th>Unemployment_rate_2017_2018_diff</th>\n      <th>Poverty Estimate, All Ages_2017_2018_diff</th>\n      <th>90% CI LB All Ages_2017_2018_diff</th>\n      <th>90% CI UB All Ages_2017_2018_diff</th>\n      <th>Poverty Percent, All Ages_2017_2018_diff</th>\n      <th>90% CI LB percent_2017_2018_diff</th>\n      <th>...</th>\n      <th>HWAC_MALE_ratio_2018</th>\n      <th>HWAC_FEMALE_ratio_2018</th>\n      <th>HBAC_MALE_ratio_2018</th>\n      <th>HBAC_FEMALE_ratio_2018</th>\n      <th>HIAC_MALE_ratio_2018</th>\n      <th>HIAC_FEMALE_ratio_2018</th>\n      <th>HAAC_MALE_ratio_2018</th>\n      <th>HAAC_FEMALE_ratio_2018</th>\n      <th>HNAC_MALE_ratio_2018</th>\n      <th>HNAC_FEMALE_ratio_2018</th>\n    </tr>\n  </thead>\n  <tbody>\n    <tr>\n      <th>161</th>\n      <td>1.227380</td>\n      <td>-0.012052</td>\n      <td>0.177006</td>\n      <td>-0.351653</td>\n      <td>-1.017173</td>\n      <td>-0.032991</td>\n      <td>-0.042553</td>\n      <td>-0.022768</td>\n      <td>-0.062303</td>\n      <td>-0.124000</td>\n      <td>...</td>\n      <td>-0.318024</td>\n      <td>-0.344416</td>\n      <td>-0.406842</td>\n      <td>-0.423451</td>\n      <td>0.400127</td>\n      <td>0.413433</td>\n      <td>-0.517686</td>\n      <td>-0.491465</td>\n      <td>-0.602214</td>\n      <td>-0.473454</td>\n    </tr>\n    <tr>\n      <th>15</th>\n      <td>-0.484640</td>\n      <td>-0.168811</td>\n      <td>-0.332533</td>\n      <td>0.327769</td>\n      <td>-0.721602</td>\n      <td>0.135937</td>\n      <td>0.151767</td>\n      <td>0.118432</td>\n      <td>0.008275</td>\n      <td>0.009680</td>\n      <td>...</td>\n      <td>-0.316843</td>\n      <td>-0.298327</td>\n      <td>-0.748370</td>\n      <td>-0.794657</td>\n      <td>0.069791</td>\n      <td>-0.028561</td>\n      <td>0.106301</td>\n      <td>0.029162</td>\n      <td>-0.006590</td>\n      <td>0.010520</td>\n    </tr>\n    <tr>\n      <th>73</th>\n      <td>-0.408987</td>\n      <td>0.205545</td>\n      <td>0.611695</td>\n      <td>-0.785458</td>\n      <td>-1.017173</td>\n      <td>-0.924846</td>\n      <td>-0.707070</td>\n      <td>-1.145789</td>\n      <td>-0.768085</td>\n      <td>-0.591880</td>\n      <td>...</td>\n      <td>-0.644018</td>\n      <td>-0.644811</td>\n      <td>0.019953</td>\n      <td>0.053187</td>\n      <td>-0.861339</td>\n      <td>-0.857368</td>\n      <td>-0.651783</td>\n      <td>-0.615012</td>\n      <td>-0.905273</td>\n      <td>-0.879657</td>\n    </tr>\n    <tr>\n      <th>96</th>\n      <td>0.815192</td>\n      <td>-0.499313</td>\n      <td>-0.713559</td>\n      <td>0.465016</td>\n      <td>-0.130459</td>\n      <td>0.126624</td>\n      <td>0.132794</td>\n      <td>0.119277</td>\n      <td>-0.203460</td>\n      <td>-0.257680</td>\n      <td>...</td>\n      <td>-0.873626</td>\n      <td>-0.843974</td>\n      <td>-0.825571</td>\n      <td>-0.782748</td>\n      <td>-0.894092</td>\n      <td>-0.951227</td>\n      <td>-0.735885</td>\n      <td>-0.689069</td>\n      <td>-0.860816</td>\n      <td>-0.985739</td>\n    </tr>\n    <tr>\n      <th>166</th>\n      <td>-0.200375</td>\n      <td>-0.583664</td>\n      <td>-0.668406</td>\n      <td>0.233999</td>\n      <td>-1.608316</td>\n      <td>0.146634</td>\n      <td>0.144394</td>\n      <td>0.147931</td>\n      <td>0.220009</td>\n      <td>0.143360</td>\n      <td>...</td>\n      <td>-0.922825</td>\n      <td>-0.886868</td>\n      <td>-0.827679</td>\n      <td>-0.809962</td>\n      <td>-1.033983</td>\n      <td>-1.018763</td>\n      <td>-0.864755</td>\n      <td>-0.826767</td>\n      <td>-0.992890</td>\n      <td>-1.001058</td>\n    </tr>\n    <tr>\n      <th>...</th>\n      <td>...</td>\n      <td>...</td>\n      <td>...</td>\n      <td>...</td>\n      <td>...</td>\n      <td>...</td>\n      <td>...</td>\n      <td>...</td>\n      <td>...</td>\n      <td>...</td>\n      <td>...</td>\n      <td>...</td>\n      <td>...</td>\n      <td>...</td>\n      <td>...</td>\n      <td>...</td>\n      <td>...</td>\n      <td>...</td>\n      <td>...</td>\n      <td>...</td>\n      <td>...</td>\n    </tr>\n    <tr>\n      <th>5</th>\n      <td>-0.030360</td>\n      <td>13.732587</td>\n      <td>12.350036</td>\n      <td>0.802455</td>\n      <td>1.051827</td>\n      <td>-3.091411</td>\n      <td>-2.971195</td>\n      <td>-3.195016</td>\n      <td>-0.697507</td>\n      <td>-0.658720</td>\n      <td>...</td>\n      <td>0.645356</td>\n      <td>0.647085</td>\n      <td>0.068192</td>\n      <td>0.059342</td>\n      <td>0.578675</td>\n      <td>0.606145</td>\n      <td>0.521103</td>\n      <td>0.548428</td>\n      <td>0.476733</td>\n      <td>0.485657</td>\n    </tr>\n    <tr>\n      <th>132</th>\n      <td>0.177150</td>\n      <td>-1.450694</td>\n      <td>-0.987259</td>\n      <td>-0.677737</td>\n      <td>-0.130459</td>\n      <td>-1.688344</td>\n      <td>-1.487675</td>\n      <td>-1.885983</td>\n      <td>-0.274038</td>\n      <td>-0.257680</td>\n      <td>...</td>\n      <td>1.042082</td>\n      <td>1.274237</td>\n      <td>15.526747</td>\n      <td>16.923427</td>\n      <td>2.673479</td>\n      <td>3.245066</td>\n      <td>1.010348</td>\n      <td>1.087883</td>\n      <td>4.242902</td>\n      <td>5.037475</td>\n    </tr>\n    <tr>\n      <th>56</th>\n      <td>0.951423</td>\n      <td>-0.226290</td>\n      <td>0.004034</td>\n      <td>-0.400971</td>\n      <td>-0.721602</td>\n      <td>0.610173</td>\n      <td>0.713145</td>\n      <td>0.498252</td>\n      <td>0.572900</td>\n      <td>0.611241</td>\n      <td>...</td>\n      <td>-0.102029</td>\n      <td>-0.063737</td>\n      <td>1.601931</td>\n      <td>1.766981</td>\n      <td>-0.508841</td>\n      <td>-0.461485</td>\n      <td>-0.396851</td>\n      <td>-0.391290</td>\n      <td>-0.183328</td>\n      <td>-0.137160</td>\n    </tr>\n    <tr>\n      <th>127</th>\n      <td>-0.853307</td>\n      <td>-0.945704</td>\n      <td>-0.920223</td>\n      <td>0.075013</td>\n      <td>-0.130459</td>\n      <td>0.683664</td>\n      <td>0.763681</td>\n      <td>0.595204</td>\n      <td>0.996369</td>\n      <td>1.079121</td>\n      <td>...</td>\n      <td>-0.230603</td>\n      <td>-0.203591</td>\n      <td>2.459165</td>\n      <td>2.554949</td>\n      <td>-0.384121</td>\n      <td>-0.328048</td>\n      <td>-0.325514</td>\n      <td>-0.311833</td>\n      <td>-0.062814</td>\n      <td>-0.010665</td>\n    </tr>\n    <tr>\n      <th>115</th>\n      <td>2.047907</td>\n      <td>-0.881881</td>\n      <td>-1.056552</td>\n      <td>0.440681</td>\n      <td>0.756255</td>\n      <td>-0.062499</td>\n      <td>-0.071237</td>\n      <td>-0.052924</td>\n      <td>-0.415194</td>\n      <td>-0.458200</td>\n      <td>...</td>\n      <td>-0.933149</td>\n      <td>-0.900305</td>\n      <td>-0.788912</td>\n      <td>-0.728822</td>\n      <td>-1.067748</td>\n      <td>-1.070276</td>\n      <td>-0.855465</td>\n      <td>-0.826667</td>\n      <td>-1.019359</td>\n      <td>-1.001631</td>\n    </tr>\n  </tbody>\n</table>\n<p>63 rows × 1311 columns</p>\n</div>"
     },
     "metadata": {},
     "output_type": "display_data"
    }
   ],
   "source": [
    "# Changed scaled X's from numpy array to dataframe and assign scaled data to X_train and X_test\n",
    "\n",
    "# retain X_train_scaled as a dataframe\n",
    "X_train = pd.DataFrame(X_train_scaled, index=X_train.index, columns=X_train.columns)\n",
    "display(X_train)\n",
    "\n",
    "# retain X_test_scale as a dataframe\n",
    "X_test = pd.DataFrame(X_test_scaled, index=X_test.index, columns=X_test.columns)\n",
    "display(X_test)\n"
   ],
   "metadata": {
    "collapsed": false,
    "pycharm": {
     "name": "#%%\n"
    }
   }
  },
  {
   "cell_type": "code",
   "execution_count": 7,
   "outputs": [
    {
     "data": {
      "text/plain": "Index(['AQI_2017_2018_diff', 'TOT_MALE_ratio_2017_2018_diff',\n       'TOT_FEMALE_ratio_2017_2018_diff', 'HBA_MALE_ratio_2017_2018_diff',\n       'HBA_FEMALE_ratio_2017_2018_diff', 'HBAC_MALE_ratio_2017_2018_diff',\n       'HBAC_FEMALE_ratio_2017_2018_diff', 'HAAC_MALE_ratio_2017_2018_diff',\n       'HAAC_MALE_2017_2019_diff', 'TOT_MALE_ratio_2017_2019_diff',\n       'TOT_FEMALE_ratio_2017_2019_diff', 'WA_MALE_ratio_2017_2019_diff',\n       'WAC_MALE_ratio_2017_2019_diff', 'HAA_MALE_ratio_2017_2019_diff',\n       'HBAC_FEMALE_ratio_2017_2019_diff', 'HAAC_MALE_ratio_2017_2019_diff',\n       'HIA_FEMALE_2018_2019_diff', 'HAA_MALE_2018_2019_diff',\n       'HIAC_FEMALE_2018_2019_diff', 'HAAC_MALE_2018_2019_diff',\n       'TOT_MALE_ratio_2018_2019_diff', 'TOT_FEMALE_ratio_2018_2019_diff',\n       'WAC_MALE_ratio_2018_2019_diff', 'HAA_MALE_ratio_2018_2019_diff',\n       'HAAC_MALE_ratio_2018_2019_diff', 'NHIA_FEMALE_2017_2018_pct_change',\n       'NHIAC_FEMALE_2017_2018_pct_change', 'H_FEMALE_2017_2018_pct_change',\n       'HBA_MALE_2017_2018_pct_change', 'HWAC_FEMALE_2017_2018_pct_change',\n       'TOT_MALE_ratio_2017_2018_pct_change',\n       'TOT_FEMALE_ratio_2017_2018_pct_change',\n       'IA_FEMALE_ratio_2017_2018_pct_change',\n       'TOM_FEMALE_ratio_2017_2018_pct_change',\n       'IAC_FEMALE_ratio_2017_2018_pct_change',\n       'NH_FEMALE_ratio_2017_2018_pct_change',\n       'NHWA_FEMALE_ratio_2017_2018_pct_change',\n       'NHIA_FEMALE_ratio_2017_2018_pct_change',\n       'NHWAC_FEMALE_ratio_2017_2018_pct_change',\n       'NHIAC_FEMALE_ratio_2017_2018_pct_change',\n       'H_MALE_ratio_2017_2018_pct_change',\n       'H_FEMALE_ratio_2017_2018_pct_change',\n       'HWA_MALE_ratio_2017_2018_pct_change',\n       'HWA_FEMALE_ratio_2017_2018_pct_change',\n       'HBA_MALE_ratio_2017_2018_pct_change',\n       'HWAC_MALE_ratio_2017_2018_pct_change',\n       'HWAC_FEMALE_ratio_2017_2018_pct_change',\n       'H_FEMALE_2017_2019_pct_change', 'HBA_FEMALE_2017_2019_pct_change',\n       'HWAC_FEMALE_2017_2019_pct_change',\n       'TOT_MALE_ratio_2017_2019_pct_change',\n       'TOT_FEMALE_ratio_2017_2019_pct_change',\n       'NH_MALE_ratio_2017_2019_pct_change',\n       'NH_FEMALE_ratio_2017_2019_pct_change',\n       'NHIA_FEMALE_ratio_2017_2019_pct_change',\n       'NHIAC_FEMALE_ratio_2017_2019_pct_change',\n       'H_MALE_ratio_2017_2019_pct_change',\n       'H_FEMALE_ratio_2017_2019_pct_change',\n       'HWA_MALE_ratio_2017_2019_pct_change',\n       'HWA_FEMALE_ratio_2017_2019_pct_change',\n       'HBA_FEMALE_ratio_2017_2019_pct_change',\n       'HWAC_MALE_ratio_2017_2019_pct_change',\n       'HWAC_FEMALE_ratio_2017_2019_pct_change',\n       'HBAC_FEMALE_ratio_2017_2019_pct_change',\n       'Personal income (thousands of dollars) 2018_2019_pct_change',\n       'Per capita personal income (dollars) 2018_2019_pct_change',\n       'TOT_FEMALE_ratio_2018_2019_pct_change',\n       'BA_FEMALE_ratio_2018_2019_pct_change',\n       'NH_MALE_ratio_2018_2019_pct_change',\n       'NH_FEMALE_ratio_2018_2019_pct_change',\n       'NHBA_FEMALE_ratio_2018_2019_pct_change', 'Unemployment_rate_2018',\n       'EDU_TOT_ratio_2018', 'LESS_HS_TOT_ratio_2018', 'BACH_TOT_ratio_2018',\n       'GRAD_TOT_ratio_2018', 'NH_MALE_ratio_2018', 'NH_FEMALE_ratio_2018',\n       'NHWA_MALE_ratio_2018', 'NHWA_FEMALE_ratio_2018',\n       'NHWAC_MALE_ratio_2018', 'NHWAC_FEMALE_ratio_2018', 'H_MALE_ratio_2018',\n       'H_FEMALE_ratio_2018', 'HWA_MALE_ratio_2018', 'HWA_FEMALE_ratio_2018',\n       'HIA_MALE_ratio_2018', 'HIA_FEMALE_ratio_2018', 'HAA_MALE_ratio_2018',\n       'HAA_FEMALE_ratio_2018', 'HNA_MALE_ratio_2018', 'HNA_FEMALE_ratio_2018',\n       'HWAC_MALE_ratio_2018', 'HWAC_FEMALE_ratio_2018',\n       'HIAC_MALE_ratio_2018', 'HIAC_FEMALE_ratio_2018',\n       'HAAC_MALE_ratio_2018', 'HAAC_FEMALE_ratio_2018',\n       'HNAC_MALE_ratio_2018', 'HNAC_FEMALE_ratio_2018'],\n      dtype='object')"
     },
     "execution_count": 7,
     "metadata": {},
     "output_type": "execute_result"
    }
   ],
   "source": [
    "# used to test feature selection\n",
    "select_k_best = SelectKBest(f_regression, k=100)\n",
    "X_train_k_best = select_k_best.fit_transform(X_train, y_train)\n",
    "\n",
    "best_k_cols = X_train.columns[select_k_best.get_support()]\n",
    "best_k_cols"
   ],
   "metadata": {
    "collapsed": false,
    "pycharm": {
     "name": "#%%\n"
    }
   }
  },
  {
   "cell_type": "markdown",
   "source": [
    "## Develop baseline with dummy regressor\n",
    "* run dummy regressor with strategy mean and median\n"
   ],
   "metadata": {
    "collapsed": false,
    "pycharm": {
     "name": "#%% md\n"
    }
   }
  },
  {
   "cell_type": "code",
   "execution_count": 8,
   "outputs": [
    {
     "data": {
      "text/plain": "-0.019724974058809464"
     },
     "execution_count": 8,
     "metadata": {},
     "output_type": "execute_result"
    }
   ],
   "source": [
    "# with mean\n",
    "dummy = DummyRegressor(strategy='mean')\n",
    "\n",
    "dummy.fit(X_train_k_best, y_train)\n",
    "\n",
    "dummy.score(X_test[best_k_cols], y_test)\n"
   ],
   "metadata": {
    "collapsed": false,
    "pycharm": {
     "name": "#%%\n"
    }
   }
  },
  {
   "cell_type": "code",
   "execution_count": 9,
   "outputs": [
    {
     "data": {
      "text/plain": "-0.0028149158026582466"
     },
     "execution_count": 9,
     "metadata": {},
     "output_type": "execute_result"
    }
   ],
   "source": [
    "# with median\n",
    "dummy = DummyRegressor(strategy='median')\n",
    "\n",
    "dummy.fit(X_train_k_best, y_train)\n",
    "\n",
    "dummy.score(X_test[best_k_cols], y_test)"
   ],
   "metadata": {
    "collapsed": false,
    "pycharm": {
     "name": "#%%\n"
    }
   }
  },
  {
   "cell_type": "code",
   "execution_count": 10,
   "outputs": [
    {
     "name": "stdout",
     "output_type": "stream",
     "text": [
      "best score:  0.3202235253240092\n",
      "best estimator Lasso(alpha=0.3462019998704101, random_state=42, warm_start=True)\n"
     ]
    }
   ],
   "source": [
    "param_grid = {'alpha':np.arange(0.1, 1.1, step=0.00000001),\n",
    "              'selection':['random', 'cyclic'],\n",
    "              'positive':[True, False],\n",
    "              'fit_intercept':[True,False], 'random_state':[42],\n",
    "              'normalize':[True,False], 'warm_start':[True,False]}\n",
    "lasso = Lasso()\n",
    "lasso_grid = RandomizedSearchCV(lasso, param_grid, cv=5, random_state=42)\n",
    "lasso_grid.fit(X_train_k_best, y_train)\n",
    "print('best score: ', lasso_grid.best_score_)\n",
    "print('best estimator', lasso_grid.best_estimator_)\n",
    "tmp = lasso_grid.best_score_"
   ],
   "metadata": {
    "collapsed": false,
    "pycharm": {
     "name": "#%%\n"
    }
   }
  },
  {
   "cell_type": "code",
   "execution_count": 11,
   "outputs": [
    {
     "name": "stdout",
     "output_type": "stream",
     "text": [
      "R^2 0.32940368979523404\n"
     ]
    }
   ],
   "source": [
    "lasso_best = lasso_grid.best_estimator_\n",
    "lasso_best.fit(X_train_k_best, y_train)\n",
    "\n",
    "# this retrieves correlation of determination value\n",
    "print('R^2', lasso_best.score(X_test[best_k_cols], y_test))"
   ],
   "metadata": {
    "collapsed": false,
    "pycharm": {
     "name": "#%%\n"
    }
   }
  },
  {
   "cell_type": "markdown",
   "source": [
    "### Evaluation\n",
    "\n",
    "From these parameters, we get a test and training score that is relatively same of 0.32.\n",
    "This means that our model is weak in generalizing our target."
   ],
   "metadata": {
    "collapsed": false
   }
  },
  {
   "cell_type": "code",
   "execution_count": null,
   "outputs": [],
   "source": [
    "rf_param_grid = {'n_estimators':np.arange(10,1000,step=100), 'criterion':['mse','mae'], 'max_features':['auot','sqrt','log2'],\n",
    "                 'random_state':[42]}\n",
    "rf = RandomForestRegressor()\n",
    "rf_grid = RandomizedSearchCV(rf, rf_param_grid, cv=5, random_state=42)\n",
    "rf_grid.fit(X_train_k_best, y_train)\n",
    "\n",
    "print('best score', rf_grid.best_score_, 'best params', rf_grid.best_estimator_)\n"
   ],
   "metadata": {
    "collapsed": false,
    "pycharm": {
     "name": "#%%\n",
     "is_executing": true
    }
   }
  },
  {
   "cell_type": "code",
   "execution_count": null,
   "outputs": [],
   "source": [
    "rf_best = rf_grid.best_estimator_\n",
    "rf_best.fit(X_train_k_best, y_train)\n",
    "rf_best.score(X_test[best_k_cols], y_test)"
   ],
   "metadata": {
    "collapsed": false,
    "pycharm": {
     "name": "#%%\n",
     "is_executing": true
    }
   }
  },
  {
   "cell_type": "markdown",
   "source": [
    "* Makes sense that Random Forest Regessor does a littlbe bit better than a individual regressor\n"
   ],
   "metadata": {
    "collapsed": false
   }
  },
  {
   "cell_type": "markdown",
   "source": [
    "* It appears that this is a more accurate score as train and test score are about the same\n",
    "* 70-30 train_test_split ratio along with 100 columns appears to be suitable for model to be trained on\n"
   ],
   "metadata": {
    "collapsed": false,
    "pycharm": {
     "name": "#%% md\n"
    }
   }
  }
 ],
 "metadata": {
  "kernelspec": {
   "name": "pycharm-301d774e",
   "language": "python",
   "display_name": "PyCharm (API_Mini_Project)"
  },
  "language_info": {
   "codemirror_mode": {
    "name": "ipython",
    "version": 2
   },
   "file_extension": ".py",
   "mimetype": "text/x-python",
   "name": "python",
   "nbconvert_exporter": "python",
   "pygments_lexer": "ipython2",
   "version": "2.7.6"
  }
 },
 "nbformat": 4,
 "nbformat_minor": 0
}