{
 "cells": [
  {
   "cell_type": "code",
   "execution_count": null,
   "metadata": {
    "collapsed": true
   },
   "outputs": [],
   "source": []
  },
  {
   "cell_type": "code",
   "execution_count": null,
   "outputs": [],
   "source": [
    "# pipe = Pipeline([('scaler', StandardScaler()),\n",
    "#                  ('select_best', SelectKBest(f_regression)),\n",
    "#                  ('lasso', Lasso())])\n",
    "# pipe.fit(X_train, y_train)\n",
    "# pipe.score(X_test, y_test)\n",
    "#"
   ],
   "metadata": {
    "collapsed": false,
    "pycharm": {
     "name": "#%%\n"
    }
   }
  },
  {
   "cell_type": "code",
   "execution_count": null,
   "outputs": [],
   "source": [
    "# pipe.get_params()\n",
    "#\n",
    "#"
   ],
   "metadata": {
    "collapsed": false,
    "pycharm": {
     "name": "#%%\n"
    }
   }
  },
  {
   "cell_type": "code",
   "execution_count": null,
   "outputs": [],
   "source": [
    "# k = np.arange(1,X_train.shape[1] + 1).tolist()\n",
    "# param_grid = {'select_best__k': k}\n",
    "# lasso_grid = GridSearchCV(pipe, param_grid, cv=5)\n",
    "# lasso_grid.fit(X_train, y_train)\n",
    "# lasso_grid.best_score_\n",
    "#"
   ],
   "metadata": {
    "collapsed": false,
    "pycharm": {
     "name": "#%%\n"
    }
   }
  },
  {
   "cell_type": "code",
   "execution_count": null,
   "outputs": [],
   "source": [
    "# lasso_score_mean = lasso_grid.cv_results_['mean_test_score']\n",
    "# lasso_score_std = lasso_grid.cv_results_['std_test_score']\n",
    "#"
   ],
   "metadata": {
    "collapsed": false,
    "pycharm": {
     "name": "#%%\n"
    }
   }
  },
  {
   "cell_type": "code",
   "execution_count": null,
   "outputs": [],
   "source": [
    "# cv_k = [k for k in lasso_grid.cv_results_['param_select_best__k']]\n",
    "# best_k = lasso_grid.best_params_['select_best__k']\n",
    "#"
   ],
   "metadata": {
    "collapsed": false,
    "pycharm": {
     "name": "#%%\n"
    }
   }
  },
  {
   "cell_type": "code",
   "execution_count": null,
   "outputs": [],
   "source": [
    "# # graph k value with associated mean test score\n",
    "#\n",
    "# #Assign the value of k from the above dict of `best_params_` and assign it to `best_k`\n",
    "# plt.subplots(figsize=(20, 20))\n",
    "# plt.errorbar(cv_k, lasso_score_mean, yerr=lasso_score_std)\n",
    "# plt.axvline(x=best_k, c='r', ls='--', alpha=.5)\n",
    "# plt.xlabel('k')\n",
    "# plt.ylabel('CV score (r-squared)')\n",
    "# plt.title('Pipeline mean CV score (error bars +/- 1sd)');\n",
    "# plt.savefig('../../data/plots/lasso_k_best_errorbar.png')\n",
    "#"
   ],
   "metadata": {
    "collapsed": false,
    "pycharm": {
     "name": "#%%\n"
    }
   }
  },
  {
   "cell_type": "markdown",
   "source": [
    "### evaluation of errobar chart\n",
    "\n",
    "From the above chart we are plotting the mean average score for each lasso test with a different number of k\n",
    "best features. The dashed red line represents our best k value associated with the highest mean average.\n",
    "Our best k feature is 94 with a mean test score of 0.23 on the training set. From the plot it appears that values\n",
    "of k after 200 should be disregarded for lasso.\n",
    "To dig deeper we should rerun another grid search with testing standardization and alpha hyperparameters of Lasso."
   ],
   "metadata": {
    "collapsed": false
   }
  },
  {
   "cell_type": "code",
   "execution_count": null,
   "outputs": [],
   "source": [
    "# plt.subplots(figsize=(20, 20))\n",
    "# plt.errorbar(cv_k, lasso_score_mean, yerr=lasso_score_std)\n",
    "# plt.axvline(x=best_k, c='r', ls='--', alpha=.5)\n",
    "# plt.xlabel('k')\n",
    "# plt.ylabel('CV score (r-squared)')\n",
    "# plt.xlim(0, 300)\n",
    "# plt.title('Pipeline mean CV score (error bars +/- 1sd)');\n",
    "# plt.savefig('../../data/plots/lasso_k_best_errorbar2.png')\n",
    "#"
   ],
   "metadata": {
    "collapsed": false,
    "pycharm": {
     "name": "#%%\n"
    }
   }
  },
  {
   "cell_type": "markdown",
   "source": [
    "### zoomed in image\n",
    "\n",
    "Solid blue line in center represents mean score from parameters and each bar\n",
    "represents standard deviation associated with the k features"
   ],
   "metadata": {
    "collapsed": false
   }
  },
  {
   "cell_type": "markdown",
   "source": [
    "### Tuning lasso alpha"
   ],
   "metadata": {
    "collapsed": false
   }
  },
  {
   "cell_type": "code",
   "execution_count": null,
   "outputs": [],
   "source": [
    "# # trying fitting lasso with more param grids\n",
    "# pipe.get_params()\n",
    "# tf = [True, False]\n",
    "# k = np.arange(1, 101).tolist()\n",
    "# lasso_param_grid = {'select_best__k':k, 'lasso__alpha':np.arange(0.1, 2, step=0.1),\n",
    "#                     'scaler':[StandardScaler(), None]}\n",
    "# # lasso_param_grid = {'select_best__k':k, 'lasso__alpha':np.arange(0.1, 2, step=0.1),\n",
    "# #                     'lasso__copy_X':tf, 'lasso__copy':tf, 'lasso__fit_intercept':tf,\n",
    "# #                     'lasso__normalize':tf, 'lasso_random_state':[42], 'lasso_selection':['cyclic', 'random'],\n",
    "# #                     'lasso__warm_start':tf, 'lasso__max_iter':[100, 500, 1000], 'scaler':[StandardScaler(), None]}\n",
    "#"
   ],
   "metadata": {
    "collapsed": false,
    "pycharm": {
     "name": "#%%\n"
    }
   }
  },
  {
   "cell_type": "code",
   "execution_count": null,
   "outputs": [],
   "source": [
    "# lasso_grid_more_params = GridSearchCV(pipe, param_grid=lasso_param_grid, cv=5)\n",
    "# lasso_grid_more_params.fit(X_train, y_train)\n",
    "#\n",
    "#"
   ],
   "metadata": {
    "collapsed": false,
    "pycharm": {
     "name": "#%%\n"
    }
   }
  },
  {
   "cell_type": "code",
   "execution_count": null,
   "outputs": [],
   "source": [
    "# print('best score', lasso_grid_more_params.best_score_, 'best params', lasso_grid_more_params.best_params_)\n",
    "#"
   ],
   "metadata": {
    "collapsed": false,
    "pycharm": {
     "name": "#%%\n"
    }
   }
  },
  {
   "cell_type": "code",
   "execution_count": null,
   "outputs": [],
   "source": [
    "# lasso_grid_more_params_mean = lasso_grid_more_params.cv_results_['mean_test_score']\n",
    "# lasso_grid_more_params_std = lasso_grid_more_params.cv_results_['std_test_score']\n",
    "#"
   ],
   "metadata": {
    "collapsed": false,
    "pycharm": {
     "name": "#%%\n"
    }
   }
  },
  {
   "cell_type": "code",
   "execution_count": null,
   "outputs": [],
   "source": [
    "# lasso_more_params_cv_k = [k for k in lasso_grid_more_params.cv_results_['param_select_best__k']]\n",
    "# lasso_more_params_best_k = lasso_grid_more_params.best_params_['select_best__k']\n",
    "#"
   ],
   "metadata": {
    "collapsed": false,
    "pycharm": {
     "name": "#%%\n"
    }
   }
  },
  {
   "cell_type": "code",
   "execution_count": null,
   "outputs": [],
   "source": [
    "# # graph k value with associated mean test score\n",
    "#\n",
    "# #Assign the value of k from the above dict of `best_params_` and assign it to `best_k`\n",
    "# plt.subplots(figsize=(20, 20))\n",
    "# plt.errorbar(lasso_more_params_cv_k, lasso_grid_more_params_mean, yerr=lasso_grid_more_params_std)\n",
    "# plt.axvline(x=lasso_more_params_best_k, c='r', ls='--', alpha=.5)\n",
    "# plt.xticks(np.arange(0,100, step=5))\n",
    "# plt.xlabel('k')\n",
    "# plt.ylabel('CV score (r-squared)')\n",
    "# plt.title('Pipeline mean CV score (error bars +/- 1sd)');\n",
    "# plt.savefig('../../data/plots/lasso_grid_more_paramst_errorbar_zoom100.png')\n",
    "#"
   ],
   "metadata": {
    "collapsed": false,
    "pycharm": {
     "name": "#%%\n"
    }
   }
  },
  {
   "cell_type": "markdown",
   "source": [
    "### evaluation of graph\n",
    "The amny blue solid blue lines in the center represent different results of k features in conjunction with varying alpha values.\n",
    "The best mean cv score is at .268, with 55 k_best features, and an alpha score of 0.5.\n",
    "From looking at the plot we can see that variation is least from ranges (0 - 10) and moderate from (35 - 65), and after 90 features\n",
    "it seems that variation seems to climb, also features after 40 with alpha score 0.5 seem to plateau.\n",
    "\n",
    "Choosing 42 k best features with alpha 0.5 would be around the same score as 55 k best features with 0.5 alpah score. Also\n",
    "using a scaler performed better than  without a scaler."
   ],
   "metadata": {
    "collapsed": false
   }
  }
 ],
 "metadata": {
  "kernelspec": {
   "display_name": "Python 3",
   "language": "python",
   "name": "python3"
  },
  "language_info": {
   "codemirror_mode": {
    "name": "ipython",
    "version": 2
   },
   "file_extension": ".py",
   "mimetype": "text/x-python",
   "name": "python",
   "nbconvert_exporter": "python",
   "pygments_lexer": "ipython2",
   "version": "2.7.6"
  }
 },
 "nbformat": 4,
 "nbformat_minor": 0
}