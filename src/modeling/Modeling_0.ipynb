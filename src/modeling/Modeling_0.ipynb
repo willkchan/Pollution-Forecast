{
 "cells": [
  {
   "cell_type": "markdown",
   "source": [
    "# Modeling\n",
    "\n",
    "### goals\n",
    "* develop a model that effectively predicts 2019 AQI pollution levels\n",
    "* fit model with training dataset\n",
    "* try grid search (b/c we have a small dataset (maybe experiemnt with random grid))\n"
   ],
   "metadata": {
    "collapsed": false,
    "pycharm": {
     "name": "#%% md\n"
    }
   }
  },
  {
   "cell_type": "code",
   "execution_count": 263,
   "metadata": {
    "collapsed": true
   },
   "outputs": [],
   "source": [
    "import numpy as np\n",
    "import pandas as pd\n",
    "import seaborn as sns\n",
    "import matplotlib.pyplot as plt\n",
    "from IPython.core.display import display\n",
    "from scipy import stats\n",
    "from sklearn.decomposition import PCA\n",
    "from sklearn.dummy import DummyRegressor\n",
    "from sklearn.ensemble import RandomForestRegressor\n",
    "from sklearn.feature_selection import SelectKBest, f_regression\n",
    "from sklearn.model_selection import train_test_split, GridSearchCV, RandomizedSearchCV, cross_val_score\n",
    "from sklearn.linear_model import LinearRegression, Lasso, Ridge, ElasticNet\n",
    "from sklearn import preprocessing, svm\n",
    "from sklearn.metrics import r2_score, accuracy_score\n",
    "\n",
    "#Use to ignore convergence warnings\n",
    "import warnings\n",
    "from sklearn.exceptions import DataConversionWarning\n",
    "from sklearn.exceptions import ConvergenceWarning\n",
    "from sklearn.exceptions import FitFailedWarning\n",
    "from sklearn.pipeline import Pipeline\n",
    "from sklearn.preprocessing import StandardScaler\n",
    "\n",
    "warnings.filterwarnings(action='ignore', category=DataConversionWarning)\n",
    "warnings.filterwarnings(action='ignore', category=ConvergenceWarning)\n",
    "warnings.filterwarnings(action='ignore', category=FitFailedWarning)\n",
    "\n",
    "\n",
    "# pd.set_option('display.max_columns', None)\n",
    "# pd.reset_option('max_rows')\n",
    "# np.set_printoptions(threshold=sys.maxsize)\n",
    "\n",
    "plt.style.use('dark_background')\n",
    "plt.rcParams.update({\"grid.linewidth\":0.5, \"grid.alpha\":0.5})\n",
    "sns.set(style='ticks', context='talk')"
   ]
  },
  {
   "cell_type": "code",
   "execution_count": 198,
   "outputs": [],
   "source": [
    "# import X and y training and test sets\n",
    "# 75/25 train-test split\n",
    "\n",
    "X = pd.read_csv('../../data/train_test/X_alt')\n",
    "\n",
    "X_train = pd.read_csv('../../data/train_test/X_train_scaled_alt')\n",
    "\n",
    "X_test = pd.read_csv('../../data/train_test/X_test_scaled_alt')\n",
    "\n",
    "y = pd.read_csv('../../data/train_test/y_alt')\n",
    "\n",
    "y_train = pd.read_csv('../../data/train_test/y_train_alt')\n",
    "\n",
    "y_test = pd.read_csv('../../data/train_test/y_test_alt')\n"
   ],
   "metadata": {
    "collapsed": false,
    "pycharm": {
     "name": "#%%\n"
    }
   }
  },
  {
   "cell_type": "markdown",
   "source": [
    "# Form a baseline for comparison\n"
   ],
   "metadata": {
    "collapsed": false,
    "pycharm": {
     "name": "#%% md\n"
    }
   }
  },
  {
   "cell_type": "code",
   "execution_count": 206,
   "outputs": [
    {
     "data": {
      "text/plain": "-0.014729087673823082"
     },
     "execution_count": 206,
     "metadata": {},
     "output_type": "execute_result"
    }
   ],
   "source": [
    "# with mean\n",
    "dummy = DummyRegressor(strategy='mean')\n",
    "\n",
    "dummy.fit(X_train, y_train)\n",
    "dummy.predict(X_test)\n",
    "\n",
    "dummy.score(X_test, y_test)\n"
   ],
   "metadata": {
    "collapsed": false,
    "pycharm": {
     "name": "#%%\n"
    }
   }
  },
  {
   "cell_type": "code",
   "execution_count": 207,
   "outputs": [
    {
     "data": {
      "text/plain": "-0.006734833218899672"
     },
     "execution_count": 207,
     "metadata": {},
     "output_type": "execute_result"
    }
   ],
   "source": [
    "# with median\n",
    "dummy = DummyRegressor(strategy='median')\n",
    "\n",
    "dummy.fit(X_train, y_train)\n",
    "dummy.predict(X_test)\n",
    "\n",
    "dummy.score(X_test, y_test)\n"
   ],
   "metadata": {
    "collapsed": false,
    "pycharm": {
     "name": "#%%\n"
    }
   }
  },
  {
   "cell_type": "code",
   "execution_count": 208,
   "outputs": [
    {
     "data": {
      "text/plain": "Index(['HAA_MALE_ratio_2017_2019_diff', 'HAAC_MALE_ratio_2017_2019_diff',\n       'HAA_MALE_ratio_2018_2019_diff', 'NH_FEMALE_ratio_2017_2018_pct_change',\n       'H_FEMALE_ratio_2017_2018_pct_change',\n       'TOT_FEMALE_ratio_2017_2019_pct_change',\n       'NH_FEMALE_ratio_2017_2019_pct_change',\n       'Personal income (thousands of dollars) 2018_2019_pct_change',\n       'NH_FEMALE_ratio_2018_2019_pct_change', 'Unemployment_rate_2018',\n       'LESS_HS_TOT_ratio_2018', 'NH_MALE_ratio_2018', 'NH_FEMALE_ratio_2018',\n       'H_MALE_ratio_2018', 'H_FEMALE_ratio_2018', 'HWA_MALE_ratio_2018',\n       'HWA_FEMALE_ratio_2018', 'HIA_MALE_ratio_2018', 'HIA_FEMALE_ratio_2018',\n       'HAA_MALE_ratio_2018', 'HAA_FEMALE_ratio_2018', 'HWAC_MALE_ratio_2018',\n       'HWAC_FEMALE_ratio_2018', 'HIAC_MALE_ratio_2018',\n       'HIAC_FEMALE_ratio_2018'],\n      dtype='object')"
     },
     "execution_count": 208,
     "metadata": {},
     "output_type": "execute_result"
    }
   ],
   "source": [
    "# used to test feature selection\n",
    "select_k_best = SelectKBest(f_regression, k=25)\n",
    "X_train_k_best = select_k_best.fit_transform(X_train, y_train)\n",
    "\n",
    "best_k_cols = X_train.columns[select_k_best.get_support()]\n",
    "best_k_cols"
   ],
   "metadata": {
    "collapsed": false,
    "pycharm": {
     "name": "#%%\n"
    }
   }
  },
  {
   "cell_type": "code",
   "execution_count": 233,
   "outputs": [
    {
     "name": "stdout",
     "output_type": "stream",
     "text": [
      "best score:  0.1926943513711381 best params {'alpha': 0.21900000000000003, 'fit_intercept': True, 'normalize': False, 'positive': False, 'random_state': 42, 'selection': 'cyclic', 'warm_start': True}\n",
      "best estimator Lasso(alpha=0.21900000000000003, random_state=42, warm_start=True)\n"
     ]
    }
   ],
   "source": [
    "param_grid = {'alpha':np.arange(0.19, .3, step=0.001),\n",
    "              'selection':['random', 'cyclic'],\n",
    "              'positive':[True, False],\n",
    "              'fit_intercept':[True,False], 'random_state':[42],\n",
    "              'normalize':[True,False], 'warm_start':[True,False]}\n",
    "lasso = Lasso()\n",
    "lasso_grid = GridSearchCV(lasso, param_grid, cv=5)\n",
    "lasso_grid.fit(X_train_k_best, y_train)\n",
    "print('best score: ', lasso_grid.best_score_, 'best params', lasso_grid.best_params_)\n",
    "print('best estimator', lasso_grid.best_estimator_)"
   ],
   "metadata": {
    "collapsed": false,
    "pycharm": {
     "name": "#%%\n"
    }
   }
  },
  {
   "cell_type": "markdown",
   "source": [
    "* With Lasso, it appears not an effective model with best score of .191\n",
    "* Using 25 best parameters seems sufficient\n",
    "* best params for this appears to be (alpha=0.2, random_state=42, warm_start=True)\n"
   ],
   "metadata": {
    "collapsed": false,
    "pycharm": {
     "name": "#%% md\n"
    }
   }
  },
  {
   "cell_type": "code",
   "execution_count": 234,
   "outputs": [
    {
     "data": {
      "text/plain": "0.4170072322404873"
     },
     "execution_count": 234,
     "metadata": {},
     "output_type": "execute_result"
    }
   ],
   "source": [
    "# try scoring this param with reduced features and hyperparameters from above\n",
    "lasso_best = Lasso(alpha=0.21900000000000003, random_state=42, warm_start=True)\n",
    "lasso_best.fit(X_train_k_best, y_train)\n",
    "\n",
    "# this retrieves correlation of determination value\n",
    "lasso_best.score(X_test[best_k_cols], y_test)"
   ],
   "metadata": {
    "collapsed": false,
    "pycharm": {
     "name": "#%%\n"
    }
   }
  },
  {
   "cell_type": "code",
   "execution_count": 232,
   "outputs": [
    {
     "data": {
      "text/plain": "<matplotlib.legend.Legend at 0x7f003b981340>"
     },
     "execution_count": 232,
     "metadata": {},
     "output_type": "execute_result"
    },
    {
     "data": {
      "text/plain": "<Figure size 720x720 with 1 Axes>",
      "image/png": "[encoded data removed]"
     },
     "metadata": {},
     "output_type": "display_data"
    }
   ],
   "source": [
    "y_pred = lasso_best.predict(X_test[best_k_cols])\n",
    "lasso_pred_vs_actual = pd.DataFrame({'y_pred':y_pred, 'y_actual':y_test['AQI_2019'].values})\n",
    "plt.figure(figsize=(10,10))\n",
    "sns.regplot(x=lasso_pred_vs_actual.index, y='y_pred', data=lasso_pred_vs_actual, color='r', label='predicted')\n",
    "sns.regplot(x=lasso_pred_vs_actual.index, y='y_actual', data=lasso_pred_vs_actual, color='b', label='actual')\n",
    "plt.legend()"
   ],
   "metadata": {
    "collapsed": false,
    "pycharm": {
     "name": "#%%\n"
    }
   }
  },
  {
   "cell_type": "markdown",
   "source": [
    "### Evaluation\n",
    "A R^2 value of .41 means that using this model would be right for less than half the time, which means it is not a great model and other models\n",
    "should be tried on\n",
    "* another aspect to note is that our test score was largely greater than our train score; may need to adjust our test/train split, due to having\n",
    "small number of observations so may need to adjust proportion to 50/50"
   ],
   "metadata": {
    "collapsed": false,
    "pycharm": {
     "name": "#%% md\n"
    }
   }
  },
  {
   "cell_type": "code",
   "execution_count": 224,
   "outputs": [
    {
     "name": "stdout",
     "output_type": "stream",
     "text": [
      "best score 0.1057837193062799 best params LinearRegression(normalize=True)\n"
     ]
    }
   ],
   "source": [
    "# OLS model\n",
    "\n",
    "ols_param_grid = {'fit_intercept':[True,False], 'normalize':[True,False], 'copy_X':[True,False], 'positive':[True,False]}\n",
    "ols = LinearRegression()\n",
    "ols_grid = GridSearchCV(ols, ols_param_grid, cv=5)\n",
    "ols_grid.fit(X_train_k_best, y_train)\n",
    "print('best score', ols_grid.best_score_, 'best params', ols_grid.best_estimator_)"
   ],
   "metadata": {
    "collapsed": false,
    "pycharm": {
     "name": "#%%\n"
    }
   }
  },
  {
   "cell_type": "code",
   "execution_count": 225,
   "outputs": [
    {
     "data": {
      "text/plain": "-0.16051786212817798"
     },
     "execution_count": 225,
     "metadata": {},
     "output_type": "execute_result"
    }
   ],
   "source": [
    "ols_best = LinearRegression(normalize=True)\n",
    "ols_best.fit(X_train_k_best, y_train)\n",
    "ols_best.score(X_test[best_k_cols], y_test)"
   ],
   "metadata": {
    "collapsed": false,
    "pycharm": {
     "name": "#%%\n"
    }
   }
  },
  {
   "cell_type": "markdown",
   "source": [
    "* Will need to reevaluate model parameters and metrics\n"
   ],
   "metadata": {
    "collapsed": false,
    "pycharm": {
     "name": "#%% md\n"
    }
   }
  },
  {
   "cell_type": "code",
   "execution_count": 240,
   "outputs": [
    {
     "name": "stdout",
     "output_type": "stream",
     "text": [
      "best score 0.18285848685527997 best params to have Ridge(alpha=0.8, normalize=True, random_state=42, solver='lsqr')\n"
     ]
    },
    {
     "name": "stderr",
     "output_type": "stream",
     "text": [
      "/home/wkc/.local/lib/python3.8/site-packages/sklearn/model_selection/_search.py:918: UserWarning: One or more of the test scores are non-finite: [ 1.60179339e-01  1.60179339e-01  1.60179339e-01  1.59902377e-01\n",
      "  1.59663311e-01             nan  2.87460235e-02  2.87460235e-02\n",
      "  2.87460235e-02  1.66590888e-02  6.45868460e-03             nan\n",
      " -1.41091388e+01 -1.41091388e+01 -1.41091388e+01 -1.41136769e+01\n",
      " -1.39322849e+01             nan -1.41091388e+01 -1.41091388e+01\n",
      " -1.41091388e+01 -1.41136769e+01 -1.39322849e+01             nan\n",
      "  1.71900029e-01  1.71900029e-01  1.71900029e-01  1.71806332e-01\n",
      "  1.71498508e-01             nan  6.58342971e-02  6.58342971e-02\n",
      "  6.58342971e-02  5.85111942e-02  5.84176419e-02             nan\n",
      " -1.37152824e+01 -1.37152824e+01 -1.37152824e+01 -1.37203884e+01\n",
      " -1.35623069e+01             nan -1.37152824e+01 -1.37152824e+01\n",
      " -1.37152824e+01 -1.37203884e+01 -1.35623069e+01             nan\n",
      "  1.77622884e-01  1.77622884e-01  1.77622884e-01  1.77019941e-01\n",
      "  1.76835625e-01             nan  8.66356521e-02  8.66356521e-02\n",
      "  8.66356521e-02  8.21008745e-02  8.21891088e-02             nan\n",
      " -1.34621847e+01 -1.34621847e+01 -1.34621847e+01 -1.34676835e+01\n",
      " -1.33541155e+01             nan -1.34621847e+01 -1.34621847e+01\n",
      " -1.34621847e+01 -1.34676835e+01 -1.33541155e+01             nan\n",
      "  1.80552264e-01  1.80552264e-01  1.80552264e-01  1.80195901e-01\n",
      "  1.80651796e-01             nan  9.93858773e-02  9.93858773e-02\n",
      "  9.93858773e-02  9.65723713e-02  9.64941822e-02             nan\n",
      " -1.32831606e+01 -1.32831606e+01 -1.32831606e+01 -1.32880443e+01\n",
      " -1.32101860e+01             nan -1.32831606e+01 -1.32831606e+01\n",
      " -1.32831606e+01 -1.32880443e+01 -1.32101860e+01             nan\n",
      "  1.82005046e-01  1.82005046e-01  1.82005046e-01  1.82123440e-01\n",
      "  1.81709991e-01             nan  1.07767524e-01  1.07767524e-01\n",
      "  1.07767524e-01  1.05890883e-01  1.00835758e-01             nan\n",
      " -1.31487969e+01 -1.31487969e+01 -1.31487969e+01 -1.31582749e+01\n",
      " -1.30292555e+01             nan -1.31487969e+01 -1.31487969e+01\n",
      " -1.31487969e+01 -1.31582749e+01 -1.30292555e+01             nan\n",
      "  1.82625122e-01  1.82625122e-01  1.82625122e-01  1.82683052e-01\n",
      "  1.82352924e-01             nan  1.13596187e-01  1.13596187e-01\n",
      "  1.13596187e-01  1.12498649e-01  1.08348227e-01             nan\n",
      " -1.30435515e+01 -1.30435515e+01 -1.30435515e+01 -1.30516786e+01\n",
      " -1.29552249e+01             nan -1.30435515e+01 -1.30435515e+01\n",
      " -1.30435515e+01 -1.30516786e+01 -1.29552249e+01             nan\n",
      "  1.82758155e-01  1.82758155e-01  1.82758155e-01  1.82639673e-01\n",
      "  1.82576162e-01             nan  1.17842457e-01  1.17842457e-01\n",
      "  1.17842457e-01  1.17152439e-01  1.13800644e-01             nan\n",
      " -1.29583788e+01 -1.29583788e+01 -1.29583788e+01 -1.29652902e+01\n",
      " -1.28934444e+01             nan -1.29583788e+01 -1.29583788e+01\n",
      " -1.29583788e+01 -1.29652902e+01 -1.28934444e+01             nan\n",
      "  1.82601175e-01  1.82601175e-01  1.82601175e-01  1.82521331e-01\n",
      "  1.82858487e-01             nan  1.21059787e-01  1.21059787e-01\n",
      "  1.21059787e-01  1.19867252e-01  1.17899861e-01             nan\n",
      " -1.28876468e+01 -1.28876468e+01 -1.28876468e+01 -1.28923550e+01\n",
      " -1.28306466e+01             nan -1.28876468e+01 -1.28876468e+01\n",
      " -1.28876468e+01 -1.28923550e+01 -1.28306466e+01             nan\n",
      "  1.82271221e-01  1.82271221e-01  1.82271221e-01  1.82183758e-01\n",
      "  1.82468441e-01             nan  1.23580788e-01  1.23580788e-01\n",
      "  1.23580788e-01  1.22661922e-01  1.21946614e-01             nan\n",
      " -1.28276632e+01 -1.28276632e+01 -1.28276632e+01 -1.28317292e+01\n",
      " -1.27786534e+01             nan -1.28276632e+01 -1.28276632e+01\n",
      " -1.28276632e+01 -1.28317292e+01 -1.27786534e+01             nan\n",
      "  1.81839861e-01  1.81839861e-01  1.81839861e-01  1.81921503e-01\n",
      "  1.81990029e-01             nan  1.25614281e-01  1.25614281e-01\n",
      "  1.25614281e-01  1.23147782e-01  1.24262193e-01             nan\n",
      " -1.27759053e+01 -1.27759053e+01 -1.27759053e+01 -1.27794112e+01\n",
      " -1.27361831e+01             nan -1.27759053e+01 -1.27759053e+01\n",
      " -1.27759053e+01 -1.27794112e+01 -1.27361831e+01             nan\n",
      "  1.81351718e-01  1.81351718e-01  1.81351718e-01  1.81472185e-01\n",
      "  1.81468037e-01             nan  1.27296311e-01  1.27296311e-01\n",
      "  1.27296311e-01  1.25273011e-01  1.26181374e-01             nan\n",
      " -1.27305904e+01 -1.27305904e+01 -1.27305904e+01 -1.27336153e+01\n",
      " -1.26957256e+01             nan -1.27305904e+01 -1.27305904e+01\n",
      " -1.27305904e+01 -1.27336153e+01 -1.26957256e+01             nan\n",
      "  1.80834939e-01  1.80834939e-01  1.80834939e-01  1.80930721e-01\n",
      "  1.80977369e-01             nan  1.28718378e-01  1.28718378e-01\n",
      "  1.28718378e-01  1.27388531e-01  1.27654963e-01             nan\n",
      " -1.26904222e+01 -1.26904222e+01 -1.26904222e+01 -1.26930381e+01\n",
      " -1.26612482e+01             nan -1.26904222e+01 -1.26904222e+01\n",
      " -1.26904222e+01 -1.26930381e+01 -1.26612482e+01             nan\n",
      "  1.80307341e-01  1.80307341e-01  1.80307341e-01  1.80384271e-01\n",
      "  1.80164847e-01             nan  1.29943752e-01  1.29943752e-01\n",
      "  1.29943752e-01  1.28846545e-01  1.29071849e-01             nan\n",
      " -1.26544353e+01 -1.26544353e+01 -1.26544353e+01 -1.26567029e+01\n",
      " -1.26297458e+01             nan -1.26544353e+01 -1.26544353e+01\n",
      " -1.26544353e+01 -1.26567029e+01 -1.26297458e+01             nan\n",
      "  1.79780140e-01  1.79780140e-01  1.79780140e-01  1.79842501e-01\n",
      "  1.79706544e-01             nan  1.31017264e-01  1.31017264e-01\n",
      "  1.31017264e-01  1.30104816e-01  1.30303562e-01             nan\n",
      " -1.26218953e+01 -1.26218953e+01 -1.26218953e+01 -1.26238674e+01\n",
      " -1.26007865e+01             nan -1.26218953e+01 -1.26218953e+01\n",
      " -1.26218953e+01 -1.26238674e+01 -1.26007865e+01             nan\n",
      "  1.79260272e-01  1.79260272e-01  1.79260272e-01  1.79306296e-01\n",
      "  1.79195046e-01             nan  1.31971380e-01  1.31971380e-01\n",
      "  1.31971380e-01  1.31207003e-01  1.32548438e-01             nan\n",
      " -1.25922335e+01 -1.25922335e+01 -1.25922335e+01 -1.25939538e+01\n",
      " -1.25740180e+01             nan -1.25922335e+01 -1.25922335e+01\n",
      " -1.25922335e+01 -1.25939538e+01 -1.25740180e+01             nan\n",
      "  1.78751871e-01  1.78751871e-01  1.78751871e-01  1.78789082e-01\n",
      "  1.78693916e-01             nan  1.32830069e-01  1.32830069e-01\n",
      "  1.32830069e-01  1.32185499e-01  1.33428304e-01             nan\n",
      " -1.25650026e+01 -1.25650026e+01 -1.25650026e+01 -1.25673552e+01\n",
      " -1.25491503e+01             nan -1.25650026e+01 -1.25650026e+01\n",
      " -1.25650026e+01 -1.25673552e+01 -1.25491503e+01             nan\n",
      "  1.78257226e-01  1.78257226e-01  1.78257226e-01  1.78204158e-01\n",
      "  1.78205599e-01             nan  1.33611344e-01  1.33611344e-01\n",
      "  1.33611344e-01  1.33064399e-01  1.32741496e-01             nan\n",
      " -1.25398455e+01 -1.25398455e+01 -1.25398455e+01 -1.25419727e+01\n",
      " -1.25259430e+01             nan -1.25398455e+01 -1.25398455e+01\n",
      " -1.25398455e+01 -1.25419727e+01 -1.25259430e+01             nan\n",
      "  1.77777412e-01  1.77777412e-01  1.77777412e-01  1.77730476e-01\n",
      "  1.77731306e-01             nan  1.34328954e-01  1.34328954e-01\n",
      "  1.34328954e-01  1.33181546e-01  1.33627484e-01             nan\n",
      " -1.25164737e+01 -1.25164737e+01 -1.25164737e+01 -1.25184013e+01\n",
      " -1.25041946e+01             nan -1.25164737e+01 -1.25164737e+01\n",
      " -1.25164737e+01 -1.25184013e+01 -1.25041946e+01             nan\n",
      "  1.77312706e-01  1.77312706e-01  1.77312706e-01  1.77245836e-01\n",
      "  1.77271428e-01             nan  1.34993553e-01  1.34993553e-01\n",
      "  1.34993553e-01  1.33970944e-01  1.33164173e-01             nan\n",
      " -1.24946513e+01 -1.24946513e+01 -1.24946513e+01 -1.24964022e+01\n",
      " -1.24837355e+01             nan -1.24946513e+01 -1.24946513e+01\n",
      " -1.24946513e+01 -1.24964022e+01 -1.24837355e+01             nan]\n",
      "  warnings.warn(\n"
     ]
    }
   ],
   "source": [
    "# ridge\n",
    "ridge_param_grid = {'alpha':np.arange(0.1, 2, step=0.1), 'fit_intercept':[True,False], 'normalize':[True,False],\n",
    "                    'random_state':[42], 'solver':['auto','svd','cholesky','sparse_cg','lsqr','sage']}\n",
    "ridge = Ridge()\n",
    "ridge_grid = GridSearchCV(ridge, ridge_param_grid, cv=5)\n",
    "ridge_grid.fit(X_train_k_best, y_train)\n",
    "print('best score', ridge_grid.best_score_, 'best params to have', ridge_grid.best_estimator_)"
   ],
   "metadata": {
    "collapsed": false,
    "pycharm": {
     "name": "#%%\n"
    }
   }
  },
  {
   "cell_type": "code",
   "execution_count": 250,
   "outputs": [
    {
     "data": {
      "text/plain": "0.44067326807795015"
     },
     "execution_count": 250,
     "metadata": {},
     "output_type": "execute_result"
    }
   ],
   "source": [
    "ridge_best = Ridge(alpha=0.8, normalize=True, random_state=42, solver='lsqr')\n",
    "ridge_best.fit(X_train_k_best, y_train)\n",
    "ridge_best.score(X_test[best_k_cols], y_test)"
   ],
   "metadata": {
    "collapsed": false,
    "pycharm": {
     "name": "#%%\n"
    }
   }
  },
  {
   "cell_type": "markdown",
   "source": [
    "* about the same results as Lasso, especially the situation of having test score being greater than test score\n"
   ],
   "metadata": {
    "collapsed": false,
    "pycharm": {
     "name": "#%% md\n"
    }
   }
  },
  {
   "cell_type": "code",
   "execution_count": 254,
   "outputs": [
    {
     "name": "stdout",
     "output_type": "stream",
     "text": [
      "best score 0.19227004771894582 best params ElasticNet(alpha=0.30000000000000004, l1_ratio=0.7000000000000001,\n",
      "           random_state=42, warm_start=True)\n"
     ]
    },
    {
     "name": "stderr",
     "output_type": "stream",
     "text": [
      "/home/wkc/.local/lib/python3.8/site-packages/sklearn/model_selection/_search.py:918: UserWarning: One or more of the test scores are non-finite: [0.11903843 0.11903843 0.11903667 ...        nan        nan        nan]\n",
      "  warnings.warn(\n"
     ]
    }
   ],
   "source": [
    "# try elastic net\n",
    "\n",
    "els_net_param_grid = {'alpha':np.arange(0.1, 2, step=0.1), 'l1_ratio':np.arange(0.1, 2, step=0.1),\n",
    "              'selection':['random', 'cyclic'],\n",
    "              'positive':[True, False],\n",
    "              'fit_intercept':[True,False], 'random_state':[42],\n",
    "              'normalize':[True,False], 'warm_start':[True,False]}\n",
    "els_net = ElasticNet()\n",
    "els_net_grid = GridSearchCV(els_net, els_net_param_grid, cv=5)\n",
    "els_net_grid.fit(X_train_k_best, y_train)\n",
    "print('best score', els_net_grid.best_score_, 'best params', els_net_grid.best_estimator_)"
   ],
   "metadata": {
    "collapsed": false,
    "pycharm": {
     "name": "#%%\n"
    }
   }
  },
  {
   "cell_type": "code",
   "execution_count": 255,
   "outputs": [
    {
     "data": {
      "text/plain": "0.42038399685682215"
     },
     "execution_count": 255,
     "metadata": {},
     "output_type": "execute_result"
    }
   ],
   "source": [
    "els_net_best = ElasticNet(alpha=0.30000000000000004, l1_ratio=0.7000000000000001,\n",
    "           random_state=42, warm_start=True)\n",
    "els_net_best.fit(X_train_k_best, y_train)\n",
    "els_net_best.score(X_test[best_k_cols], y_test)"
   ],
   "metadata": {
    "collapsed": false,
    "pycharm": {
     "name": "#%%\n"
    }
   }
  },
  {
   "cell_type": "markdown",
   "source": [
    "* same results as other linear regression models\n"
   ],
   "metadata": {
    "collapsed": false,
    "pycharm": {
     "name": "#%% md\n"
    }
   }
  },
  {
   "cell_type": "code",
   "execution_count": 266,
   "outputs": [
    {
     "name": "stderr",
     "output_type": "stream",
     "text": [
      "/home/wkc/.local/lib/python3.8/site-packages/sklearn/model_selection/_search.py:918: UserWarning: One or more of the test scores are non-finite: [       nan        nan        nan        nan        nan        nan\n",
      "        nan        nan        nan        nan 0.14535284 0.23256004\n",
      " 0.23730452 0.23594587 0.23979253 0.24155188 0.24226218 0.24099527\n",
      " 0.2401501  0.24036554 0.10699212 0.22812971 0.22980688 0.23280886\n",
      " 0.23480529 0.23672917 0.23316331 0.23260637 0.23221838 0.23350182\n",
      "        nan        nan        nan        nan        nan        nan\n",
      "        nan        nan        nan        nan 0.19477793 0.24027087\n",
      " 0.24815182 0.25203882 0.25512645 0.25110902 0.25303747 0.25088858\n",
      " 0.25134715 0.24976845 0.1793368  0.2571352  0.26036418 0.2573985\n",
      " 0.25581371 0.25813295 0.25088269 0.25240099 0.25356801 0.25161911]\n",
      "  warnings.warn(\n"
     ]
    },
    {
     "name": "stdout",
     "output_type": "stream",
     "text": [
      "best score 0.26036418376503667 best params RandomForestRegressor(criterion='mae', max_features='log2', n_estimators=210,\n",
      "                      random_state=42)\n"
     ]
    }
   ],
   "source": [
    "rf_param_grid = {'n_estimators':np.arange(10,1000,step=100), 'criterion':['mse','mae'], 'max_features':['auot','sqrt','log2'],\n",
    "                 'random_state':[42]}\n",
    "rf = RandomForestRegressor()\n",
    "rf_grid = GridSearchCV(rf, rf_param_grid, cv=5)\n",
    "rf_grid.fit(X_train_k_best, y_train)\n",
    "\n",
    "print('best score', rf_grid.best_score_, 'best params', rf_grid.best_estimator_)"
   ],
   "metadata": {
    "collapsed": false,
    "pycharm": {
     "name": "#%%\n"
    }
   }
  },
  {
   "cell_type": "code",
   "execution_count": 267,
   "outputs": [
    {
     "data": {
      "text/plain": "0.46542234294578533"
     },
     "execution_count": 267,
     "metadata": {},
     "output_type": "execute_result"
    }
   ],
   "source": [
    "rf_best = RandomForestRegressor(criterion='mae', max_features='log2', n_estimators=210,\n",
    "                      random_state=42)\n",
    "rf_best.fit(X_train_k_best, y_train)\n",
    "rf_best.score(X_test[best_k_cols], y_test)"
   ],
   "metadata": {
    "collapsed": false,
    "pycharm": {
     "name": "#%%\n"
    }
   }
  },
  {
   "cell_type": "markdown",
   "source": [
    "* Makes sense that Random Forest Regessor does a littlbe bit better than a individual regressor\n"
   ],
   "metadata": {
    "collapsed": false,
    "pycharm": {
     "name": "#%% md\n"
    }
   }
  }
 ],
 "metadata": {
  "kernelspec": {
   "name": "pycharm-301d774e",
   "language": "python",
   "display_name": "PyCharm (API_Mini_Project)"
  },
  "language_info": {
   "codemirror_mode": {
    "name": "ipython",
    "version": 2
   },
   "file_extension": ".py",
   "mimetype": "text/x-python",
   "name": "python",
   "nbconvert_exporter": "python",
   "pygments_lexer": "ipython2",
   "version": "2.7.6"
  }
 },
 "nbformat": 4,
 "nbformat_minor": 0
}