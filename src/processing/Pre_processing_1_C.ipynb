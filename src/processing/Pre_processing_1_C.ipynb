{
 "cells": [
  {
   "cell_type": "markdown",
   "source": [
    "### Preprocess data and try different feature selection techniques\n",
    "* Preprocess data with a preprocessing package from sklearn\n",
    "* preprocess with pca?"
   ],
   "metadata": {
    "collapsed": false
   }
  },
  {
   "cell_type": "markdown",
   "source": [
    "### Import Packages"
   ],
   "metadata": {
    "collapsed": false
   }
  },
  {
   "cell_type": "code",
   "execution_count": 54,
   "outputs": [],
   "source": [
    "import numpy as np\n",
    "import pandas as pd\n",
    "import seaborn as sns\n",
    "import sys\n",
    "import os\n",
    "import matplotlib.pyplot as plt\n",
    "import klib\n",
    "import plotly.figure_factory as ff\n",
    "from IPython.core.display import display\n",
    "from scipy import stats\n",
    "from sklearn.model_selection import train_test_split\n",
    "from sklearn import preprocessing\n",
    "\n",
    "# pd.set_option('display.max_columns', None)\n",
    "# pd.reset_option('max_rows')\n",
    "#np.set_printoptions(threshold=sys.maxsize)\n",
    "\n",
    "plt.style.use('dark_background')\n",
    "plt.rcParams.update({\"grid.linewidth\":0.5, \"grid.alpha\":0.5})\n",
    "sns.set(style='ticks', context='talk')"
   ],
   "metadata": {
    "collapsed": false,
    "pycharm": {
     "name": "#%%\n"
    }
   }
  },
  {
   "cell_type": "code",
   "execution_count": 55,
   "outputs": [],
   "source": [
    "# define useful function to create scatterplots of target feature against desired columns\n",
    "def scatterplots(df, target, columns, ncol=None, figsize=(20, 25)):\n",
    "    if ncol is None:\n",
    "        ncol = len(columns)\n",
    "    nrow = int(np.ceil(len(columns) / ncol))\n",
    "    fig, axes = plt.subplots(nrow, ncol, figsize=figsize, squeeze=False)\n",
    "    fig.subplots_adjust(wspace=0.7, hspace=0.7)\n",
    "    for i, col in enumerate(columns):\n",
    "        # ax = axes.flatten()[i]\n",
    "        # ax.scatter(x = col, y = target, data=df, alpha=0.5)\n",
    "        sns.regplot(ax=axes.flatten()[i], x=col, y=target, data=df, scatter_kws={'alpha':0.5})\n",
    "        # ax.set(xlabel=col, ylabel=target)\n",
    "    nsubplots = nrow * ncol\n",
    "    for empty in range(i+1, nsubplots):\n",
    "        axes.flatten()[empty].set_visible(False)"
   ],
   "metadata": {
    "collapsed": false,
    "pycharm": {
     "name": "#%%\n"
    }
   }
  },
  {
   "cell_type": "markdown",
   "source": [
    "### Load data"
   ],
   "metadata": {
    "collapsed": false
   }
  },
  {
   "cell_type": "code",
   "execution_count": 56,
   "outputs": [],
   "source": [
    "pm10_2017_2019 = r'../../data/processed/pm10_2017_2019'\n",
    "pm10_year_diff = r'../../data/processed/pm10_year_diff'\n",
    "pm10_year_pct_change = r'../../data/processed/pm10_year_pct_change'\n",
    "pm10_year_diff_top_corr =  r'../../data/processed/pm10_year_diff_top_corr'\n",
    "pm10_year_pct_change_top_corr = r'../../data/processed/pm10_year_pct_change_top_corr'\n",
    "\n",
    "df_norm = pd.read_csv(pm10_2017_2019)\n",
    "df_year_diff = pd.read_csv(pm10_year_diff)\n",
    "df_year_diff_top = pd.read_csv(pm10_year_diff_top_corr)\n",
    "df_year_pct_change = pd.read_csv(pm10_year_pct_change)\n",
    "df_year_pct_change_top = pd.read_csv(pm10_year_pct_change_top_corr)"
   ],
   "metadata": {
    "collapsed": false,
    "pycharm": {
     "name": "#%%\n"
    }
   }
  },
  {
   "cell_type": "code",
   "execution_count": 57,
   "outputs": [
    {
     "data": {
      "text/plain": "      AQI_2019  HAA_MALE_ratio_2018_2019_diff  HAAC_MALE_ratio_2017_2019_diff  \\\n0    20.073389                       0.001227                        0.004126   \n1    12.958515                      -0.001258                       -0.004820   \n2    13.125000                       0.000885                       -0.002493   \n3    11.247911                      -0.000051                       -0.001577   \n4    17.413408                       0.002806                        0.006851   \n..         ...                            ...                             ...   \n203  10.503937                       0.002276                        0.005661   \n204  14.431990                      -0.000792                        0.001185   \n205  15.656425                      -0.000568                        0.004939   \n206  13.354142                      -0.005542                        0.021831   \n207   9.385135                       0.003346                        0.008513   \n\n     HAA_MALE_ratio_2017_2019_diff  HAA_MALE_2018_2019_diff  \\\n0                         0.002594                        8   \n1                        -0.001981                       -4   \n2                         0.000067                        2   \n3                         0.006876                        0   \n4                         0.002255                        3   \n..                             ...                      ...   \n203                       0.002258                        2   \n204                       0.000715                       -8   \n205                       0.000109                       -2   \n206                       0.012354                       -5   \n207                       0.003594                        3   \n\n     HIA_FEMALE_2018_2019_diff  HIAC_FEMALE_2018_2019_diff  \\\n0                           14                          24   \n1                            8                          24   \n2                           -4                         -12   \n3                          -20                         -15   \n4                            3                         -14   \n..                         ...                         ...   \n203                          3                           0   \n204                         13                          17   \n205                          7                          20   \n206                        -10                          -5   \n207                          2                           9   \n\n     HIA_MALE_2018_2019_diff  HIAC_MALE_2018_2019_diff  \\\n0                        -10                        20   \n1                         -7                         4   \n2                          5                         1   \n3                         13                        28   \n4                         14                        14   \n..                       ...                       ...   \n203                       -4                         2   \n204                       21                        19   \n205                       24                        33   \n206                        2                         6   \n207                       -3                         0   \n\n     HAAC_MALE_2018_2019_diff  ...  HWAC_FEMALE_ratio_2017_2019_pct_change  \\\n0                          15  ...                                0.066156   \n1                          -9  ...                                0.067250   \n2                         -10  ...                                0.056305   \n3                          -5  ...                                0.028091   \n4                          19  ...                                0.001100   \n..                        ...  ...                                     ...   \n203                         6  ...                                0.064546   \n204                        -2  ...                                0.046970   \n205                        16  ...                                0.044822   \n206                        -2  ...                                0.028606   \n207                         0  ...                                0.020542   \n\n     HWA_FEMALE_ratio_2017_2018_pct_change  \\\n0                                 0.032477   \n1                                 0.035598   \n2                                 0.019292   \n3                                 0.013565   \n4                                -0.000633   \n..                                     ...   \n203                               0.022456   \n204                               0.030851   \n205                               0.021305   \n206                               0.010813   \n207                               0.013586   \n\n     H_FEMALE_ratio_2017_2019_pct_change  NH_MALE_ratio_2017_2019_pct_change  \\\n0                               0.069673                           -0.002724   \n1                               0.065508                           -0.001108   \n2                               0.055696                           -0.005313   \n3                               0.031366                           -0.003912   \n4                               0.001121                           -0.004857   \n..                                   ...                                 ...   \n203                             0.066122                           -0.003205   \n204                             0.045745                           -0.007886   \n205                             0.047402                           -0.001170   \n206                             0.025964                           -0.002544   \n207                             0.025336                           -0.004005   \n\n     HWAC_FEMALE_ratio_2017_2018_pct_change  \\\n0                                  0.033374   \n1                                  0.036139   \n2                                  0.023307   \n3                                  0.014217   \n4                                 -0.000383   \n..                                      ...   \n203                                0.024745   \n204                                0.030850   \n205                                0.022401   \n206                                0.008189   \n207                                0.015198   \n\n     H_FEMALE_ratio_2017_2018_pct_change  NH_MALE_ratio_2018_2019_pct_change  \\\n0                               0.036809                           -0.001246   \n1                               0.036086                           -0.000012   \n2                               0.015763                           -0.004204   \n3                               0.031752                            0.001109   \n4                               0.000351                           -0.007802   \n..                                   ...                                 ...   \n203                             0.026686                           -0.001818   \n204                             0.029433                           -0.003559   \n205                             0.023545                           -0.000766   \n206                             0.009373                           -0.002465   \n207                             0.018741                           -0.001480   \n\n     NH_FEMALE_ratio_2018_2019_pct_change  \\\n0                               -0.001100   \n1                               -0.002554   \n2                                0.001529   \n3                               -0.003511   \n4                                0.002468   \n..                                    ...   \n203                             -0.000372   \n204                             -0.002157   \n205                             -0.001552   \n206                             -0.001158   \n207                             -0.001433   \n\n     NH_FEMALE_ratio_2017_2018_pct_change  \\\n0                               -0.000907   \n1                               -0.001858   \n2                                0.000176   \n3                                0.001533   \n4                               -0.001403   \n..                                    ...   \n203                             -0.001533   \n204                             -0.005276   \n205                             -0.001512   \n206                             -0.000593   \n207                             -0.001811   \n\n     NH_FEMALE_ratio_2017_2019_pct_change  \n0                               -0.002005  \n1                               -0.004407  \n2                                0.001705  \n3                               -0.001983  \n4                                0.001062  \n..                                    ...  \n203                             -0.001905  \n204                             -0.007421  \n205                             -0.003062  \n206                             -0.001750  \n207                             -0.003241  \n\n[208 rows x 161 columns]",
      "text/html": "<div>\n<style scoped>\n    .dataframe tbody tr th:only-of-type {\n        vertical-align: middle;\n    }\n\n    .dataframe tbody tr th {\n        vertical-align: top;\n    }\n\n    .dataframe thead th {\n        text-align: right;\n    }\n</style>\n<table border=\"1\" class=\"dataframe\">\n  <thead>\n    <tr style=\"text-align: right;\">\n      <th></th>\n      <th>AQI_2019</th>\n      <th>HAA_MALE_ratio_2018_2019_diff</th>\n      <th>HAAC_MALE_ratio_2017_2019_diff</th>\n      <th>HAA_MALE_ratio_2017_2019_diff</th>\n      <th>HAA_MALE_2018_2019_diff</th>\n      <th>HIA_FEMALE_2018_2019_diff</th>\n      <th>HIAC_FEMALE_2018_2019_diff</th>\n      <th>HIA_MALE_2018_2019_diff</th>\n      <th>HIAC_MALE_2018_2019_diff</th>\n      <th>HAAC_MALE_2018_2019_diff</th>\n      <th>...</th>\n      <th>HWAC_FEMALE_ratio_2017_2019_pct_change</th>\n      <th>HWA_FEMALE_ratio_2017_2018_pct_change</th>\n      <th>H_FEMALE_ratio_2017_2019_pct_change</th>\n      <th>NH_MALE_ratio_2017_2019_pct_change</th>\n      <th>HWAC_FEMALE_ratio_2017_2018_pct_change</th>\n      <th>H_FEMALE_ratio_2017_2018_pct_change</th>\n      <th>NH_MALE_ratio_2018_2019_pct_change</th>\n      <th>NH_FEMALE_ratio_2018_2019_pct_change</th>\n      <th>NH_FEMALE_ratio_2017_2018_pct_change</th>\n      <th>NH_FEMALE_ratio_2017_2019_pct_change</th>\n    </tr>\n  </thead>\n  <tbody>\n    <tr>\n      <th>0</th>\n      <td>20.073389</td>\n      <td>0.001227</td>\n      <td>0.004126</td>\n      <td>0.002594</td>\n      <td>8</td>\n      <td>14</td>\n      <td>24</td>\n      <td>-10</td>\n      <td>20</td>\n      <td>15</td>\n      <td>...</td>\n      <td>0.066156</td>\n      <td>0.032477</td>\n      <td>0.069673</td>\n      <td>-0.002724</td>\n      <td>0.033374</td>\n      <td>0.036809</td>\n      <td>-0.001246</td>\n      <td>-0.001100</td>\n      <td>-0.000907</td>\n      <td>-0.002005</td>\n    </tr>\n    <tr>\n      <th>1</th>\n      <td>12.958515</td>\n      <td>-0.001258</td>\n      <td>-0.004820</td>\n      <td>-0.001981</td>\n      <td>-4</td>\n      <td>8</td>\n      <td>24</td>\n      <td>-7</td>\n      <td>4</td>\n      <td>-9</td>\n      <td>...</td>\n      <td>0.067250</td>\n      <td>0.035598</td>\n      <td>0.065508</td>\n      <td>-0.001108</td>\n      <td>0.036139</td>\n      <td>0.036086</td>\n      <td>-0.000012</td>\n      <td>-0.002554</td>\n      <td>-0.001858</td>\n      <td>-0.004407</td>\n    </tr>\n    <tr>\n      <th>2</th>\n      <td>13.125000</td>\n      <td>0.000885</td>\n      <td>-0.002493</td>\n      <td>0.000067</td>\n      <td>2</td>\n      <td>-4</td>\n      <td>-12</td>\n      <td>5</td>\n      <td>1</td>\n      <td>-10</td>\n      <td>...</td>\n      <td>0.056305</td>\n      <td>0.019292</td>\n      <td>0.055696</td>\n      <td>-0.005313</td>\n      <td>0.023307</td>\n      <td>0.015763</td>\n      <td>-0.004204</td>\n      <td>0.001529</td>\n      <td>0.000176</td>\n      <td>0.001705</td>\n    </tr>\n    <tr>\n      <th>3</th>\n      <td>11.247911</td>\n      <td>-0.000051</td>\n      <td>-0.001577</td>\n      <td>0.006876</td>\n      <td>0</td>\n      <td>-20</td>\n      <td>-15</td>\n      <td>13</td>\n      <td>28</td>\n      <td>-5</td>\n      <td>...</td>\n      <td>0.028091</td>\n      <td>0.013565</td>\n      <td>0.031366</td>\n      <td>-0.003912</td>\n      <td>0.014217</td>\n      <td>0.031752</td>\n      <td>0.001109</td>\n      <td>-0.003511</td>\n      <td>0.001533</td>\n      <td>-0.001983</td>\n    </tr>\n    <tr>\n      <th>4</th>\n      <td>17.413408</td>\n      <td>0.002806</td>\n      <td>0.006851</td>\n      <td>0.002255</td>\n      <td>3</td>\n      <td>3</td>\n      <td>-14</td>\n      <td>14</td>\n      <td>14</td>\n      <td>19</td>\n      <td>...</td>\n      <td>0.001100</td>\n      <td>-0.000633</td>\n      <td>0.001121</td>\n      <td>-0.004857</td>\n      <td>-0.000383</td>\n      <td>0.000351</td>\n      <td>-0.007802</td>\n      <td>0.002468</td>\n      <td>-0.001403</td>\n      <td>0.001062</td>\n    </tr>\n    <tr>\n      <th>...</th>\n      <td>...</td>\n      <td>...</td>\n      <td>...</td>\n      <td>...</td>\n      <td>...</td>\n      <td>...</td>\n      <td>...</td>\n      <td>...</td>\n      <td>...</td>\n      <td>...</td>\n      <td>...</td>\n      <td>...</td>\n      <td>...</td>\n      <td>...</td>\n      <td>...</td>\n      <td>...</td>\n      <td>...</td>\n      <td>...</td>\n      <td>...</td>\n      <td>...</td>\n      <td>...</td>\n    </tr>\n    <tr>\n      <th>203</th>\n      <td>10.503937</td>\n      <td>0.002276</td>\n      <td>0.005661</td>\n      <td>0.002258</td>\n      <td>2</td>\n      <td>3</td>\n      <td>0</td>\n      <td>-4</td>\n      <td>2</td>\n      <td>6</td>\n      <td>...</td>\n      <td>0.064546</td>\n      <td>0.022456</td>\n      <td>0.066122</td>\n      <td>-0.003205</td>\n      <td>0.024745</td>\n      <td>0.026686</td>\n      <td>-0.001818</td>\n      <td>-0.000372</td>\n      <td>-0.001533</td>\n      <td>-0.001905</td>\n    </tr>\n    <tr>\n      <th>204</th>\n      <td>14.431990</td>\n      <td>-0.000792</td>\n      <td>0.001185</td>\n      <td>0.000715</td>\n      <td>-8</td>\n      <td>13</td>\n      <td>17</td>\n      <td>21</td>\n      <td>19</td>\n      <td>-2</td>\n      <td>...</td>\n      <td>0.046970</td>\n      <td>0.030851</td>\n      <td>0.045745</td>\n      <td>-0.007886</td>\n      <td>0.030850</td>\n      <td>0.029433</td>\n      <td>-0.003559</td>\n      <td>-0.002157</td>\n      <td>-0.005276</td>\n      <td>-0.007421</td>\n    </tr>\n    <tr>\n      <th>205</th>\n      <td>15.656425</td>\n      <td>-0.000568</td>\n      <td>0.004939</td>\n      <td>0.000109</td>\n      <td>-2</td>\n      <td>7</td>\n      <td>20</td>\n      <td>24</td>\n      <td>33</td>\n      <td>16</td>\n      <td>...</td>\n      <td>0.044822</td>\n      <td>0.021305</td>\n      <td>0.047402</td>\n      <td>-0.001170</td>\n      <td>0.022401</td>\n      <td>0.023545</td>\n      <td>-0.000766</td>\n      <td>-0.001552</td>\n      <td>-0.001512</td>\n      <td>-0.003062</td>\n    </tr>\n    <tr>\n      <th>206</th>\n      <td>13.354142</td>\n      <td>-0.005542</td>\n      <td>0.021831</td>\n      <td>0.012354</td>\n      <td>-5</td>\n      <td>-10</td>\n      <td>-5</td>\n      <td>2</td>\n      <td>6</td>\n      <td>-2</td>\n      <td>...</td>\n      <td>0.028606</td>\n      <td>0.010813</td>\n      <td>0.025964</td>\n      <td>-0.002544</td>\n      <td>0.008189</td>\n      <td>0.009373</td>\n      <td>-0.002465</td>\n      <td>-0.001158</td>\n      <td>-0.000593</td>\n      <td>-0.001750</td>\n    </tr>\n    <tr>\n      <th>207</th>\n      <td>9.385135</td>\n      <td>0.003346</td>\n      <td>0.008513</td>\n      <td>0.003594</td>\n      <td>3</td>\n      <td>2</td>\n      <td>9</td>\n      <td>-3</td>\n      <td>0</td>\n      <td>0</td>\n      <td>...</td>\n      <td>0.020542</td>\n      <td>0.013586</td>\n      <td>0.025336</td>\n      <td>-0.004005</td>\n      <td>0.015198</td>\n      <td>0.018741</td>\n      <td>-0.001480</td>\n      <td>-0.001433</td>\n      <td>-0.001811</td>\n      <td>-0.003241</td>\n    </tr>\n  </tbody>\n</table>\n<p>208 rows × 161 columns</p>\n</div>"
     },
     "execution_count": 57,
     "metadata": {},
     "output_type": "execute_result"
    }
   ],
   "source": [
    "# Work with top correlated variables with our target\n",
    "# this reduces number of columns from 1000\n",
    "\n",
    "df = pd.merge(df_year_diff_top, df_year_pct_change_top)\n",
    "df"
   ],
   "metadata": {
    "collapsed": false,
    "pycharm": {
     "name": "#%%\n"
    }
   }
  },
  {
   "cell_type": "code",
   "execution_count": 58,
   "outputs": [],
   "source": [
    "\n",
    "X = df.drop('AQI_2019', axis=1)\n",
    "y = df['AQI_2019']\n"
   ],
   "metadata": {
    "collapsed": false,
    "pycharm": {
     "name": "#%%\n"
    }
   }
  },
  {
   "cell_type": "code",
   "execution_count": 59,
   "outputs": [
    {
     "data": {
      "text/plain": "(208, 160)"
     },
     "execution_count": 59,
     "metadata": {},
     "output_type": "execute_result"
    }
   ],
   "source": [
    "# Try Univariate feature selection\n",
    "# Having top correlated features vs using all features yielded same result\n",
    "# when performing with univariate linear regression as score function\n",
    "\n",
    "from sklearn.feature_selection import SelectKBest, f_regression, mutual_info_regression\n",
    "\n",
    "X.shape"
   ],
   "metadata": {
    "collapsed": false,
    "pycharm": {
     "name": "#%%\n"
    }
   }
  },
  {
   "cell_type": "code",
   "execution_count": 81,
   "outputs": [
    {
     "data": {
      "text/plain": "Index(['HAA_MALE_ratio_2018_2019_diff', 'HAAC_MALE_ratio_2017_2019_diff',\n       'HAA_MALE_ratio_2017_2019_diff', 'HAA_MALE_2018_2019_diff',\n       'HIA_FEMALE_2018_2019_diff', 'HIAC_FEMALE_2018_2019_diff',\n       'HIA_MALE_2018_2019_diff', 'HIAC_MALE_2018_2019_diff',\n       'HAAC_MALE_2018_2019_diff',\n       'Personal income (thousands of dollars) 2018_2019_pct_change',\n       'Per capita personal income (dollars) 2018_2019_pct_change',\n       'HWA_FEMALE_ratio_2017_2018_pct_change',\n       'H_FEMALE_ratio_2017_2019_pct_change',\n       'NH_MALE_ratio_2017_2019_pct_change',\n       'HWAC_FEMALE_ratio_2017_2018_pct_change',\n       'H_FEMALE_ratio_2017_2018_pct_change',\n       'NH_MALE_ratio_2018_2019_pct_change',\n       'NH_FEMALE_ratio_2018_2019_pct_change',\n       'NH_FEMALE_ratio_2017_2018_pct_change',\n       'NH_FEMALE_ratio_2017_2019_pct_change'],\n      dtype='object')"
     },
     "execution_count": 81,
     "metadata": {},
     "output_type": "execute_result"
    }
   ],
   "source": [
    "# returns the 20 best features\n",
    "# X_new = SelectKBest(f_regression, k=20).fit_transform(X,y)\n",
    "# X_new.shape\n",
    "# X.columns[X_new.get_support()]\n",
    "# Use f_regression as score function\n",
    "\n",
    "selector = SelectKBest(f_regression, k=20)\n",
    "selector.fit(X,y)\n",
    "col_linear_reg = X.columns[selector.get_support()]\n",
    "X.columns[selector.get_support()]"
   ],
   "metadata": {
    "collapsed": false,
    "pycharm": {
     "name": "#%%\n"
    }
   }
  },
  {
   "cell_type": "code",
   "execution_count": 82,
   "outputs": [
    {
     "data": {
      "text/plain": "Index(['HAAC_MALE_2018_2019_diff', 'HIAC_MALE_2017_2019_diff',\n       'HAAC_MALE_ratio_2018_2019_diff', 'HIAC_MALE_2017_2018_diff',\n       'HWA_FEMALE_2017_2019_diff', 'IAC_FEMALE_2018_2019_diff',\n       'HAAC_FEMALE_2017_2018_diff', 'TOM_MALE_2018_2019_diff',\n       'Poverty Estimate, Age 5-17 in Families_2018_2019_diff',\n       'Median Household Income_2017_2019_pct_change',\n       'BACH_TOT_ratio_2017_2019_pct_change', 'Employed_2017_2018_pct_change',\n       'HWAC_MALE_ratio_2018_2019_pct_change',\n       'HWAC_MALE_ratio_2017_2018_pct_change',\n       'H_MALE_ratio_2017_2018_pct_change',\n       'NHWAC_FEMALE_ratio_2017_2019_pct_change',\n       'NHWA_FEMALE_ratio_2017_2019_pct_change',\n       'NHWA_FEMALE_ratio_2017_2018_pct_change',\n       'HWA_FEMALE_ratio_2017_2018_pct_change',\n       'NH_FEMALE_ratio_2017_2018_pct_change'],\n      dtype='object')"
     },
     "execution_count": 82,
     "metadata": {},
     "output_type": "execute_result"
    }
   ],
   "source": [
    "# Perform univariate features selection with mutual info regression as score function\n",
    "selector = SelectKBest(mutual_info_regression, k=20)\n",
    "selector.fit(X,y)\n",
    "col_mutual_info = X.columns[selector.get_support()]\n",
    "X.columns[selector.get_support()]"
   ],
   "metadata": {
    "collapsed": false,
    "pycharm": {
     "name": "#%%\n"
    }
   }
  },
  {
   "cell_type": "code",
   "execution_count": 87,
   "outputs": [
    {
     "data": {
      "text/plain": "{'BACH_TOT_ratio_2017_2019_pct_change',\n 'Employed_2017_2018_pct_change',\n 'HAAC_FEMALE_2017_2018_diff',\n 'HAAC_MALE_ratio_2018_2019_diff',\n 'HIAC_MALE_2017_2018_diff',\n 'HIAC_MALE_2017_2019_diff',\n 'HWAC_MALE_ratio_2017_2018_pct_change',\n 'HWAC_MALE_ratio_2018_2019_pct_change',\n 'HWA_FEMALE_2017_2019_diff',\n 'H_MALE_ratio_2017_2018_pct_change',\n 'IAC_FEMALE_2018_2019_diff',\n 'Median Household Income_2017_2019_pct_change',\n 'NHWAC_FEMALE_ratio_2017_2019_pct_change',\n 'NHWA_FEMALE_ratio_2017_2018_pct_change',\n 'NHWA_FEMALE_ratio_2017_2019_pct_change',\n 'Poverty Estimate, Age 5-17 in Families_2018_2019_diff',\n 'TOM_MALE_2018_2019_diff'}"
     },
     "metadata": {},
     "output_type": "display_data"
    },
    {
     "data": {
      "text/plain": "{'HAAC_MALE_ratio_2017_2019_diff',\n 'HAA_MALE_2018_2019_diff',\n 'HAA_MALE_ratio_2017_2019_diff',\n 'HAA_MALE_ratio_2018_2019_diff',\n 'HIAC_FEMALE_2018_2019_diff',\n 'HIAC_MALE_2018_2019_diff',\n 'HIA_FEMALE_2018_2019_diff',\n 'HIA_MALE_2018_2019_diff',\n 'HWAC_FEMALE_ratio_2017_2018_pct_change',\n 'H_FEMALE_ratio_2017_2018_pct_change',\n 'H_FEMALE_ratio_2017_2019_pct_change',\n 'NH_FEMALE_ratio_2017_2019_pct_change',\n 'NH_FEMALE_ratio_2018_2019_pct_change',\n 'NH_MALE_ratio_2017_2019_pct_change',\n 'NH_MALE_ratio_2018_2019_pct_change',\n 'Per capita personal income (dollars) 2018_2019_pct_change',\n 'Personal income (thousands of dollars) 2018_2019_pct_change'}"
     },
     "metadata": {},
     "output_type": "display_data"
    }
   ],
   "source": [
    "display(set(col_mutual_info) - set(col_linear_reg))\n",
    "display(set(col_linear_reg) - set(col_mutual_info))\n",
    "# col_mutual_info"
   ],
   "metadata": {
    "collapsed": false,
    "pycharm": {
     "name": "#%%\n"
    }
   }
  },
  {
   "cell_type": "code",
   "execution_count": 90,
   "outputs": [
    {
     "data": {
      "text/plain": "RFE(estimator=LinearRegression(), n_features_to_select=20)"
     },
     "execution_count": 90,
     "metadata": {},
     "output_type": "execute_result"
    }
   ],
   "source": [
    "# Use Recursive Feature elemination\n",
    "from sklearn.feature_selection import RFE\n",
    "from sklearn.linear_model import LinearRegression\n",
    "\n",
    "lr = LinearRegression()\n",
    "rfe = RFE(estimator=lr, n_features_to_select=20, step=1)\n",
    "rfe.fit(X,y)"
   ],
   "metadata": {
    "collapsed": false,
    "pycharm": {
     "name": "#%%\n"
    }
   }
  },
  {
   "cell_type": "code",
   "execution_count": 92,
   "outputs": [
    {
     "data": {
      "text/plain": "Index(['HAAC_MALE_ratio_2017_2019_diff', 'HAAC_MALE_ratio_2018_2019_diff',\n       'HAAC_MALE_ratio_2017_2018_diff', 'TOT_MALE_ratio_2017_2019_diff',\n       'TOT_MALE_ratio_2017_2018_diff', 'TOT_FEMALE_ratio_2017_2018_diff',\n       'TOT_FEMALE_ratio_2017_2019_diff',\n       'TOT_MALE_ratio_2017_2019_pct_change',\n       'HWA_FEMALE_2017_2018_pct_change', 'HWAC_FEMALE_2017_2018_pct_change',\n       'TOT_FEMALE_ratio_2017_2019_pct_change',\n       'NHWA_FEMALE_ratio_2018_2019_pct_change',\n       'NHWA_FEMALE_ratio_2017_2019_pct_change',\n       'NHWA_FEMALE_ratio_2017_2018_pct_change',\n       'NHWAC_FEMALE_ratio_2017_2018_pct_change',\n       'HWA_FEMALE_ratio_2017_2018_pct_change',\n       'HWAC_FEMALE_ratio_2017_2018_pct_change',\n       'NH_FEMALE_ratio_2018_2019_pct_change',\n       'NH_FEMALE_ratio_2017_2018_pct_change',\n       'NH_FEMALE_ratio_2017_2019_pct_change'],\n      dtype='object')"
     },
     "execution_count": 92,
     "metadata": {},
     "output_type": "execute_result"
    }
   ],
   "source": [
    "X.columns[rfe.get_support()]"
   ],
   "metadata": {
    "collapsed": false,
    "pycharm": {
     "name": "#%%\n"
    }
   }
  }
 ],
 "metadata": {
  "kernelspec": {
   "name": "pycharm-301d774e",
   "language": "python",
   "display_name": "PyCharm (API_Mini_Project)"
  },
  "language_info": {
   "codemirror_mode": {
    "name": "ipython",
    "version": 2
   },
   "file_extension": ".py",
   "mimetype": "text/x-python",
   "name": "python",
   "nbconvert_exporter": "python",
   "pygments_lexer": "ipython2",
   "version": "2.7.6"
  }
 },
 "nbformat": 4,
 "nbformat_minor": 0
}