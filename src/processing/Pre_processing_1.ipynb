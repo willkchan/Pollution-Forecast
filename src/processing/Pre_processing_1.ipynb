{
 "cells": [
  {
   "cell_type": "markdown",
   "metadata": {
    "collapsed": true,
    "pycharm": {
     "name": "#%% md\n"
    }
   },
   "source": [
    "# Preprocess the data\n",
    "* ### Feature Selection\n",
    "* ### Standardize and Normalize the magnitude of numeric features using a scaler\n"
   ]
  },
  {
   "cell_type": "markdown",
   "source": [
    "### Import Packages"
   ],
   "metadata": {
    "collapsed": false,
    "pycharm": {
     "name": "#%% md\n"
    }
   }
  },
  {
   "cell_type": "code",
   "execution_count": null,
   "outputs": [],
   "source": [
    "import numpy as np\n",
    "import pandas as pd\n",
    "import seaborn as sns\n",
    "import sys\n",
    "import os\n",
    "import matplotlib.pyplot as plt\n",
    "import klib\n",
    "import plotly.figure_factory as ff\n",
    "from IPython.core.display import display\n",
    "from scipy import stats\n",
    "\n",
    "# pd.set_option('display.max_columns', None)\n",
    "# pd.reset_option('max_rows')\n",
    "#np.set_printoptions(threshold=sys.maxsize)\n",
    "\n",
    "plt.style.use('dark_background')\n",
    "plt.rcParams.update({\"grid.linewidth\":0.5, \"grid.alpha\":0.5})\n",
    "sns.set(style='ticks', context='talk')"
   ],
   "metadata": {
    "collapsed": false,
    "pycharm": {
     "name": "#%%\n"
    }
   }
  },
  {
   "cell_type": "code",
   "execution_count": null,
   "outputs": [],
   "source": [
    "# define useful function to create scatterplots of target feature against desired columns\n",
    "def scatterplots(df, target, columns, ncol=None, figsize=(20, 25)):\n",
    "    if ncol is None:\n",
    "        ncol = len(columns)\n",
    "    nrow = int(np.ceil(len(columns) / ncol))\n",
    "    fig, axes = plt.subplots(nrow, ncol, figsize=figsize, squeeze=False)\n",
    "    fig.subplots_adjust(wspace=0.7, hspace=0.7)\n",
    "    for i, col in enumerate(columns):\n",
    "        # ax = axes.flatten()[i]\n",
    "        # ax.scatter(x = col, y = target, data=df, alpha=0.5)\n",
    "        sns.regplot(ax=axes.flatten()[i], x=col, y=target, data=df, scatter_kws={'alpha':0.5})\n",
    "        # ax.set(xlabel=col, ylabel=target)\n",
    "    nsubplots = nrow * ncol\n",
    "    for empty in range(i+1, nsubplots):\n",
    "        axes.flatten()[empty].set_visible(False)"
   ],
   "metadata": {
    "collapsed": false,
    "pycharm": {
     "name": "#%%\n"
    }
   }
  },
  {
   "cell_type": "markdown",
   "source": [
    "### Load data"
   ],
   "metadata": {
    "collapsed": false
   }
  },
  {
   "cell_type": "code",
   "execution_count": null,
   "outputs": [],
   "source": [
    "pm10_2017_2019 = r'../../data/processed/pm10_2017_2019'\n",
    "pm10_year_diff = r'../../data/processed/pm10_year_diffs'\n",
    "pm10_year_pct_change = r'../../data/processed/pm10_year_pct_change'\n",
    "pm10_year_diff_top_corr =  r'../../data/processed/pm10_year_diff_top_corr'\n",
    "pm10_year_pct_change_top_corr = r'../../data/processed/pm10_year_pct_change_top_corr'\n",
    "\n",
    "df = pd.read_csv(pm10_2017_2019)\n",
    "df_year_diffs = pd.read_csv(pm10_year_diffs)\n",
    "df_year_diffs_top ="
   ],
   "metadata": {
    "collapsed": false,
    "pycharm": {
     "name": "#%%\n"
    }
   }
  }
 ],
 "metadata": {
  "kernelspec": {
   "name": "pycharm-301d774e",
   "language": "python",
   "display_name": "PyCharm (API_Mini_Project)"
  },
  "language_info": {
   "codemirror_mode": {
    "name": "ipython",
    "version": 2
   },
   "file_extension": ".py",
   "mimetype": "text/x-python",
   "name": "python",
   "nbconvert_exporter": "python",
   "pygments_lexer": "ipython2",
   "version": "2.7.6"
  }
 },
 "nbformat": 4,
 "nbformat_minor": 0
}